{
 "cells": [
  {
   "cell_type": "markdown",
   "id": "15065fef-8249-48dc-9567-89943cd0c478",
   "metadata": {},
   "source": [
    "# Stack Service - Dask"
   ]
  },
  {
   "cell_type": "markdown",
   "id": "86cdfa3b-3e26-4bf0-8b02-b2edc4a2d371",
   "metadata": {
    "tags": []
   },
   "source": [
    "## Authentication via OIDC password grant flow\n",
    "The DEDLAuth Class is a helper class to authenticate a user against the given identity provider.\n",
    "The users password is directly handed over to the request object and is not stored.\n",
    "Refreshed token is used request a new access token in case it is expired."
   ]
  },
  {
   "cell_type": "code",
   "execution_count": null,
   "id": "870d9c11-0f65-49ed-b530-d083672be1d4",
   "metadata": {
    "tags": []
   },
   "outputs": [],
   "source": [
    "from dask_gateway.auth import GatewayAuth\n",
    "from getpass import getpass\n",
    "import requests\n",
    "import jwt\n",
    "from jwt import PyJWKClient\n",
    "from datetime import datetime\n",
    "\n",
    "class DEDLAuth(GatewayAuth):\n",
    "    \n",
    "    def __init__(self, username):\n",
    "        self.username = username\n",
    "        self.client_id = \"dedl-stack-public-client\"\n",
    "        self.token_url = \"https://identity.data.destination-earth.eu/auth/realms/dedl/protocol/openid-connect/token\"\n",
    "        self.cert_url = \"https://identity.data.destination-earth.eu/auth/realms/dedl/protocol/openid-connect/certs\"\n",
    "        self.token = self.get_token()\n",
    "        self.access_token_decoded = self.decode_access_token()\n",
    "    \n",
    "    def get_token(self):\n",
    "        payload = {\n",
    "            \"grant_type\": \"password\",\n",
    "            \"client_id\": self.client_id,\n",
    "            \"username\": self.username,\n",
    "            \"password\": getpass(prompt=\"Your DEDL Password:\")\n",
    "        }\n",
    "        return requests.post(self.token_url, data=payload).json()\n",
    "    \n",
    "    def decode_access_token(self):\n",
    "        jwks_client = PyJWKClient(self.cert_url)\n",
    "        signing_key = jwks_client.get_signing_key_from_jwt(self.token[\"access_token\"])\n",
    "        return jwt.decode(self.token[\"access_token\"], signing_key.key, algorithms=[\"RS256\"])\n",
    "    \n",
    "    def token_expired(self):\n",
    "        if datetime.now() > datetime.fromtimestamp(self.access_token_decoded[\"exp\"]):\n",
    "            return True\n",
    "        else:\n",
    "            return False\n",
    "    \n",
    "    def refresh_token_exchange(self):\n",
    "        payload = {\n",
    "            \"grant_type\": \"refresh_token\",\n",
    "            \"client_id\": \"dedl-dask-gateway\",\n",
    "            \"refresh_token\": self.token[\"refresh_token\"],\n",
    "        }\n",
    "        return requests.post(self.token_url, data=payload).json()\n",
    "    \n",
    "    def refresh(self):\n",
    "        self.token = self.refresh_token_exchange()\n",
    "        self.access_token_decoded = self.decode_access_token()\n",
    "        \n",
    "        \n",
    "    def pre_request(self, resp):\n",
    "        if self.token_expired():\n",
    "            self.refresh()\n",
    "        headers = {\"Authorization\": \"Bearer \" + self.token[\"access_token\"]}\n",
    "        return headers, None"
   ]
  },
  {
   "cell_type": "markdown",
   "id": "302495eb-fa8a-4c53-9e74-a057c9eb8bd6",
   "metadata": {
    "tags": []
   },
   "source": [
    "## Access to Dask across multiple locations\n",
    "\n",
    "Dask Gatway is deployed on each location within the DEDL.\n",
    "The DaskMultiCluster Class provides an interface to communicate with all Dask Gateway instances at once.\n",
    "The API is kept as close as possible to the API of Dask Gateway itself.\n",
    "\n",
    "The class encompass a registry object (dict) holding all needed information to connect to the different Dask Gateway instances.\n",
    "Individual objectes per location can be access/retrieved via ```DaskMultiCluster['name']```. This can be useful in case one would like to interact with a single location only.\n",
    "\n",
    "Connection details per DEDL location are as follows:\n",
    "\n",
    "- Central Site\n",
    "    - Address: **http://dask.central.data.destination-earth.eu**, HTTP API endpoints of Dask Gateway\n",
    "    - Proxy Address: **tcp://dask.central.data.destination-earth.eu:80**, TCP communication with actual cluster\n",
    "\n",
    "- LUMI Bridge\n",
    "    - Address: **http://dask.lumi.data.destination-earth.eu**, HTTP API endpoints of Dask Gateway\n",
    "    - Proxy Address: **tcp://dask.lumi.data.destination-earth.eu:80**, TCP communication with actual cluster\n",
    "\n",
    "Further details on how to use these connection details can be found below.\n",
    "\n",
    "Each cluster will be composed of 2 workers per default, with adaptive scaling enabled towards a maximum of 10 workers. In addition, the workers are configured to have 2 cores and 4 GB RAM. Users are allow to change this via the [cluster options](https://gateway.dask.org/cluster-options.html) exposed in the range of:\n",
    "- Worker cores:\n",
    "    - min: 1\n",
    "    - max: 10\n",
    "- Worker memory:\n",
    "    - min: 1 GB\n",
    "    - max: 32 GB\n",
    "    \n",
    "Dask Worker and Scheduler nodes are based on a custom build [container image](registry.eodc.eu/eodc/clusters/dedl-deployment/dedl-dask) with the aim to match the environment, Jupyter Kernel, of the DEDL JupyterLab instance. Warnings will be displayed if a version missmatch is detected. Feel free to use your custom image to run your workloads by replacing the container image in the cluster options object.\n"
   ]
  },
  {
   "cell_type": "code",
   "execution_count": null,
   "id": "d9c20748-dc79-4560-a492-9ef9d98d4a66",
   "metadata": {
    "tags": []
   },
   "outputs": [],
   "source": [
    "from dask_gateway import Gateway\n",
    "from distributed import Client\n",
    "\n",
    "class DaskMultiCluster:\n",
    "       \n",
    "    gateway_registry = {\n",
    "        \"central\": {\n",
    "            \"name\": \"Central Site\",\n",
    "            \"address\": \"http://dask.central.data.destination-earth.eu\",\n",
    "            \"proxy_address\": \"tcp://dask.central.data.destination-earth.eu:80\",\n",
    "            \"default_config\": {\n",
    "                \"min\": 2,\n",
    "                \"max\": 10\n",
    "            }\n",
    "        },\n",
    "        \"lumi\": {\n",
    "            \"name\": \"LUMI Bridge\",\n",
    "            \"address\": \"http://dask.lumi.data.destination-earth.eu\",\n",
    "            \"proxy_address\": \"tcp://dask.lumi.data.destination-earth.eu:80\",\n",
    "            \"default_config\": {\n",
    "                \"min\": 2,\n",
    "                \"max\": 10\n",
    "            }\n",
    "        }\n",
    "    }\n",
    "    \n",
    "    gateway = {}\n",
    "    cluster = {}\n",
    "    client = {}\n",
    "\n",
    "    def __init__(self, auth):\n",
    "        self.authenticator = auth\n",
    "        for site in self.gateway_registry:\n",
    "            # connect to gateway\n",
    "            self.gateway[site] = Gateway(\n",
    "                address=self.gateway_registry[site][\"address\"],\n",
    "                proxy_address=self.gateway_registry[site][\"proxy_address\"],\n",
    "                auth=self.authenticator,\n",
    "            )\n",
    "    \n",
    "    def print_registry(self):\n",
    "        pprint.pprint(self.gateway_registry)\n",
    "\n",
    "    def get_gateways(self) -> None:\n",
    "        for site in self.gateway_registry:\n",
    "            print(f\"{site}: {self.gateway_registry[site]}\")\n",
    "\n",
    "    def new_cluster(self, *args, **kwargs) -> None:\n",
    "        for site in self.gateway_registry:\n",
    "            # get new cluster object\n",
    "            print(f\"Create new cluster for {self.gateway_registry[site]['name']}\")\n",
    "            self.cluster[site] = self.gateway[site].new_cluster(*args, **kwargs)\n",
    "            self.cluster[site].adapt(minimum=self.gateway_registry[site][\"default_config\"][\"min\"],\n",
    "                                     maximum=self.gateway_registry[site][\"default_config\"][\"max\"])\n",
    "            self.client[site] = self.cluster[site].get_client(set_as_default=False)\n",
    "    \n",
    "    def compute(self, data, location_key=\"location\", **kwargs):\n",
    "        return self.client[data.attrs[location_key]].compute(data, **kwargs)\n",
    "    \n",
    "    def get_cluster_url(self):\n",
    "        for site in self.gateway_registry:\n",
    "            print(self.cluster[site].dashboard_link)\n",
    "\n",
    "    def shutdown(self):\n",
    "        for site in self.gateway_registry:\n",
    "            self.cluster[site].close()"
   ]
  },
  {
   "cell_type": "markdown",
   "id": "9d8474a2-67df-4edd-afb8-1451a0c3375a",
   "metadata": {},
   "source": [
    "## Connect to all locations known by DaskMultiCluster\n",
    "Authentication object needs to be forwarded in order to get access. Provide your DEDL username to authenticate with the DEDL Authenticator."
   ]
  },
  {
   "cell_type": "code",
   "execution_count": null,
   "id": "b464d949-d54a-49b0-ac78-68724260d975",
   "metadata": {
    "tags": []
   },
   "outputs": [],
   "source": [
    "username=input()\n",
    "authenticator = DEDLAuth(username=username)"
   ]
  },
  {
   "cell_type": "code",
   "execution_count": null,
   "id": "276f4e14-9039-47a6-83bc-8339710cc895",
   "metadata": {},
   "outputs": [],
   "source": [
    "dedl_dask = DaskMultiCluster(auth=authenticator)"
   ]
  },
  {
   "cell_type": "code",
   "execution_count": null,
   "id": "f4742222-ce04-4296-8383-041d8708b751",
   "metadata": {
    "tags": []
   },
   "outputs": [],
   "source": [
    "dedl_dask.new_cluster()"
   ]
  },
  {
   "cell_type": "markdown",
   "id": "b53a1a0e-2ded-4975-a113-28f1c273ce97",
   "metadata": {},
   "source": [
    "#### scale individual cluster"
   ]
  },
  {
   "cell_type": "code",
   "execution_count": null,
   "id": "19d05b99-3352-42c3-8210-08e18ae396ef",
   "metadata": {
    "tags": []
   },
   "outputs": [],
   "source": [
    "dedl_dask.cluster['central']"
   ]
  },
  {
   "cell_type": "markdown",
   "id": "806cd1df-79ee-4683-984b-f6ec67d14327",
   "metadata": {},
   "source": [
    "### Get dashboard links to get more insights"
   ]
  },
  {
   "cell_type": "code",
   "execution_count": null,
   "id": "397d1e6d-3360-4d04-aba0-dec9905c7ee8",
   "metadata": {},
   "outputs": [],
   "source": [
    "dedl_dask.get_cluster_url()"
   ]
  },
  {
   "cell_type": "markdown",
   "id": "8cdfd85e-5601-41f9-9ce9-6b6dbf2dc9b7",
   "metadata": {},
   "source": [
    "### Shutdown the cluster and free up all resources"
   ]
  },
  {
   "cell_type": "code",
   "execution_count": null,
   "id": "308e38b8-2e1c-414c-853a-00465df982ce",
   "metadata": {
    "tags": []
   },
   "outputs": [],
   "source": [
    "dedl_dask.shutdown()"
   ]
  }
 ],
 "metadata": {
  "kernelspec": {
   "display_name": "dedl",
   "language": "python",
   "name": "python3"
  },
  "language_info": {
   "codemirror_mode": {
    "name": "ipython",
    "version": 3
   },
   "file_extension": ".py",
   "mimetype": "text/x-python",
   "name": "python",
   "nbconvert_exporter": "python",
   "pygments_lexer": "ipython3",
   "version": "3.11.3"
  }
 },
 "nbformat": 4,
 "nbformat_minor": 5
}

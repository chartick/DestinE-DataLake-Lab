{
 "cells": [
  {
   "cell_type": "markdown",
   "id": "10726360-3b8c-463b-856e-4a8460092c16",
   "metadata": {
    "tags": []
   },
   "source": [
    "![](https://github.com/destination-earth/DestinE-DataLake-Lab/blob/main/img/DestinE-banner.jpg?raw=true)"
   ]
  },
  {
   "cell_type": "markdown",
   "id": "a5844719-f14f-44e9-a9a5-ca7049e05561",
   "metadata": {},
   "source": [
    "# Destination Earth - OLCI Level 1B Reduced Resolution - Sentinel-3 - Data Access using DEDL HDA\n",
    "\n",
    "[Documentation DestinE Data Lake HDA](https://destine-data-lake-docs.data.destination-earth.eu/en/latest/dedl-discovery-and-data-access/dedl-discovery-and-data-access.html)\n",
    "\n",
    "[OLCI Level 1B Reduced Resolution - Sentinel-3](https://navigator.eumetsat.int/product/EO:EUM:DAT:SENTINEL-3:OL_1_ERR___NRT)"
   ]
  },
  {
   "cell_type": "markdown",
   "id": "fd7ec70f-1291-426e-b071-0bcd6e775d81",
   "metadata": {
    "tags": []
   },
   "source": [
    "## Authenticate on DESP"
   ]
  },
  {
   "cell_type": "code",
   "execution_count": 2,
   "id": "bd98743f-d681-48db-88e9-73fe3527965c",
   "metadata": {
    "tags": []
   },
   "outputs": [],
   "source": [
    "import dedl_authentication as deauth"
   ]
  },
  {
   "cell_type": "code",
   "execution_count": 3,
   "id": "9d3461e4-fe60-4181-8335-bc2f5899df9a",
   "metadata": {
    "tags": []
   },
   "outputs": [],
   "source": [
    "import requests\n",
    "import json\n",
    "import os\n",
    "from getpass import getpass"
   ]
  },
  {
   "cell_type": "code",
   "execution_count": 4,
   "id": "b4faa6b4-2a1f-4daa-bb45-4e26bebe1e88",
   "metadata": {
    "tags": []
   },
   "outputs": [
    {
     "name": "stdin",
     "output_type": "stream",
     "text": [
      "Please input your DESP username:  eum-dedl-user\n",
      "Please input your DESP password:  ········\n"
     ]
    },
    {
     "name": "stdout",
     "output_type": "stream",
     "text": [
      "Response code: 200\n"
     ]
    }
   ],
   "source": [
    "DESP_USERNAME = input(\"Please input your DESP username: \")\n",
    "DESP_PASSWORD = getpass(\"Please input your DESP password: \")\n",
    "\n",
    "auth = deauth.AuthHandler(DESP_USERNAME, DESP_PASSWORD)\n",
    "access_token = auth.get_token()\n",
    "\n",
    "auth_headers = {\"Authorization\": f\"Bearer {access_token}\"}"
   ]
  },
  {
   "cell_type": "markdown",
   "id": "6598deb9-7371-4ab6-adda-ab3b1d114a72",
   "metadata": {},
   "source": [
    "## Search data"
   ]
  },
  {
   "cell_type": "markdown",
   "id": "db751cdf-d5ae-41a6-a8c5-05898dbdda90",
   "metadata": {},
   "source": [
    "Now, we search a product matching our filters.\n",
    "\n",
    "For this example, we search data for the [OLCI Level 1B Reduced Resolution - Sentinel-3](https://hda.data.destination-earth.eu/ui/dataset/EO.EUM.DAT.SENTINEL-3.OL_1_ERR___) dataset. \n",
    "\n",
    "The corresponding collection ID in HDA for this dataset is: EO.EUM.DAT.SENTINEL-3.OL_1_ERR___."
   ]
  },
  {
   "cell_type": "code",
   "execution_count": 5,
   "id": "ad834b6a-96a8-475a-8415-36c018b8fc06",
   "metadata": {
    "tags": []
   },
   "outputs": [],
   "source": [
    "response = requests.post(\"https://hda.data.destination-earth.eu/stac/search\", headers=auth_headers, json={\n",
    "    \"collections\": [\"EO.EUM.DAT.SENTINEL-3.OL_1_ERR___\"],\n",
    "    \"datetime\": \"2024-04-01T00:00:00Z/2024-04-19T00:00:00Z\"\n",
    "})\n"
   ]
  },
  {
   "cell_type": "markdown",
   "id": "877a5667-7497-469b-ab0f-c6041cf084e3",
   "metadata": {},
   "source": [
    "We can have a look at the metadata of the first products returned by the search."
   ]
  },
  {
   "cell_type": "code",
   "execution_count": 6,
   "id": "cc7e1280-fa15-4f66-8a57-7016cf829261",
   "metadata": {
    "tags": []
   },
   "outputs": [
    {
     "data": {
      "application/json": {
       "assets": {
        "Oa01_radiance.nc": {
         "alternate": {
          "origin": {
           "href": "s3://eodata/Sentinel-3/OLCI/OL_1_ERR___/2024/04/01/S3B_OL_1_ERR____20240401T001732_20240401T010138_20240401T024232_2646_091_216______PS2_O_NR_003.SEN3/Oa01_radiance.nc",
           "title": "Origin asset link"
          },
          "type": "application/x-netcdf"
         },
         "href": "https://hda.data.destination-earth.eu/stac/collections/EO.EUM.DAT.SENTINEL-3.OL_1_ERR___/items/S3B_OL_1_ERR____20240401T001732_20240401T010138_20240401T024232_2646_091_216______PS2_O_NR_003/download/Oa01_radiance.nc?provider=dedl",
         "roles": [
          "data"
         ],
         "title": "Oa01_radiance.nc",
         "type": "application/x-netcdf"
        },
        "Oa01_radiance_unc.nc": {
         "alternate": {
          "origin": {
           "href": "s3://eodata/Sentinel-3/OLCI/OL_1_ERR___/2024/04/01/S3B_OL_1_ERR____20240401T001732_20240401T010138_20240401T024232_2646_091_216______PS2_O_NR_003.SEN3/Oa01_radiance_unc.nc",
           "title": "Origin asset link"
          },
          "type": "application/x-netcdf"
         },
         "href": "https://hda.data.destination-earth.eu/stac/collections/EO.EUM.DAT.SENTINEL-3.OL_1_ERR___/items/S3B_OL_1_ERR____20240401T001732_20240401T010138_20240401T024232_2646_091_216______PS2_O_NR_003/download/Oa01_radiance_unc.nc?provider=dedl",
         "roles": [
          "data"
         ],
         "title": "Oa01_radiance_unc.nc",
         "type": "application/x-netcdf"
        },
        "Oa02_radiance.nc": {
         "alternate": {
          "origin": {
           "href": "s3://eodata/Sentinel-3/OLCI/OL_1_ERR___/2024/04/01/S3B_OL_1_ERR____20240401T001732_20240401T010138_20240401T024232_2646_091_216______PS2_O_NR_003.SEN3/Oa02_radiance.nc",
           "title": "Origin asset link"
          },
          "type": "application/x-netcdf"
         },
         "href": "https://hda.data.destination-earth.eu/stac/collections/EO.EUM.DAT.SENTINEL-3.OL_1_ERR___/items/S3B_OL_1_ERR____20240401T001732_20240401T010138_20240401T024232_2646_091_216______PS2_O_NR_003/download/Oa02_radiance.nc?provider=dedl",
         "roles": [
          "data"
         ],
         "title": "Oa02_radiance.nc",
         "type": "application/x-netcdf"
        },
        "Oa02_radiance_unc.nc": {
         "alternate": {
          "origin": {
           "href": "s3://eodata/Sentinel-3/OLCI/OL_1_ERR___/2024/04/01/S3B_OL_1_ERR____20240401T001732_20240401T010138_20240401T024232_2646_091_216______PS2_O_NR_003.SEN3/Oa02_radiance_unc.nc",
           "title": "Origin asset link"
          },
          "type": "application/x-netcdf"
         },
         "href": "https://hda.data.destination-earth.eu/stac/collections/EO.EUM.DAT.SENTINEL-3.OL_1_ERR___/items/S3B_OL_1_ERR____20240401T001732_20240401T010138_20240401T024232_2646_091_216______PS2_O_NR_003/download/Oa02_radiance_unc.nc?provider=dedl",
         "roles": [
          "data"
         ],
         "title": "Oa02_radiance_unc.nc",
         "type": "application/x-netcdf"
        },
        "Oa03_radiance.nc": {
         "alternate": {
          "origin": {
           "href": "s3://eodata/Sentinel-3/OLCI/OL_1_ERR___/2024/04/01/S3B_OL_1_ERR____20240401T001732_20240401T010138_20240401T024232_2646_091_216______PS2_O_NR_003.SEN3/Oa03_radiance.nc",
           "title": "Origin asset link"
          },
          "type": "application/x-netcdf"
         },
         "href": "https://hda.data.destination-earth.eu/stac/collections/EO.EUM.DAT.SENTINEL-3.OL_1_ERR___/items/S3B_OL_1_ERR____20240401T001732_20240401T010138_20240401T024232_2646_091_216______PS2_O_NR_003/download/Oa03_radiance.nc?provider=dedl",
         "roles": [
          "data"
         ],
         "title": "Oa03_radiance.nc",
         "type": "application/x-netcdf"
        },
        "Oa03_radiance_unc.nc": {
         "alternate": {
          "origin": {
           "href": "s3://eodata/Sentinel-3/OLCI/OL_1_ERR___/2024/04/01/S3B_OL_1_ERR____20240401T001732_20240401T010138_20240401T024232_2646_091_216______PS2_O_NR_003.SEN3/Oa03_radiance_unc.nc",
           "title": "Origin asset link"
          },
          "type": "application/x-netcdf"
         },
         "href": "https://hda.data.destination-earth.eu/stac/collections/EO.EUM.DAT.SENTINEL-3.OL_1_ERR___/items/S3B_OL_1_ERR____20240401T001732_20240401T010138_20240401T024232_2646_091_216______PS2_O_NR_003/download/Oa03_radiance_unc.nc?provider=dedl",
         "roles": [
          "data"
         ],
         "title": "Oa03_radiance_unc.nc",
         "type": "application/x-netcdf"
        },
        "Oa04_radiance.nc": {
         "alternate": {
          "origin": {
           "href": "s3://eodata/Sentinel-3/OLCI/OL_1_ERR___/2024/04/01/S3B_OL_1_ERR____20240401T001732_20240401T010138_20240401T024232_2646_091_216______PS2_O_NR_003.SEN3/Oa04_radiance.nc",
           "title": "Origin asset link"
          },
          "type": "application/x-netcdf"
         },
         "href": "https://hda.data.destination-earth.eu/stac/collections/EO.EUM.DAT.SENTINEL-3.OL_1_ERR___/items/S3B_OL_1_ERR____20240401T001732_20240401T010138_20240401T024232_2646_091_216______PS2_O_NR_003/download/Oa04_radiance.nc?provider=dedl",
         "roles": [
          "data"
         ],
         "title": "Oa04_radiance.nc",
         "type": "application/x-netcdf"
        },
        "Oa04_radiance_unc.nc": {
         "alternate": {
          "origin": {
           "href": "s3://eodata/Sentinel-3/OLCI/OL_1_ERR___/2024/04/01/S3B_OL_1_ERR____20240401T001732_20240401T010138_20240401T024232_2646_091_216______PS2_O_NR_003.SEN3/Oa04_radiance_unc.nc",
           "title": "Origin asset link"
          },
          "type": "application/x-netcdf"
         },
         "href": "https://hda.data.destination-earth.eu/stac/collections/EO.EUM.DAT.SENTINEL-3.OL_1_ERR___/items/S3B_OL_1_ERR____20240401T001732_20240401T010138_20240401T024232_2646_091_216______PS2_O_NR_003/download/Oa04_radiance_unc.nc?provider=dedl",
         "roles": [
          "data"
         ],
         "title": "Oa04_radiance_unc.nc",
         "type": "application/x-netcdf"
        },
        "Oa05_radiance.nc": {
         "alternate": {
          "origin": {
           "href": "s3://eodata/Sentinel-3/OLCI/OL_1_ERR___/2024/04/01/S3B_OL_1_ERR____20240401T001732_20240401T010138_20240401T024232_2646_091_216______PS2_O_NR_003.SEN3/Oa05_radiance.nc",
           "title": "Origin asset link"
          },
          "type": "application/x-netcdf"
         },
         "href": "https://hda.data.destination-earth.eu/stac/collections/EO.EUM.DAT.SENTINEL-3.OL_1_ERR___/items/S3B_OL_1_ERR____20240401T001732_20240401T010138_20240401T024232_2646_091_216______PS2_O_NR_003/download/Oa05_radiance.nc?provider=dedl",
         "roles": [
          "data"
         ],
         "title": "Oa05_radiance.nc",
         "type": "application/x-netcdf"
        },
        "Oa05_radiance_unc.nc": {
         "alternate": {
          "origin": {
           "href": "s3://eodata/Sentinel-3/OLCI/OL_1_ERR___/2024/04/01/S3B_OL_1_ERR____20240401T001732_20240401T010138_20240401T024232_2646_091_216______PS2_O_NR_003.SEN3/Oa05_radiance_unc.nc",
           "title": "Origin asset link"
          },
          "type": "application/x-netcdf"
         },
         "href": "https://hda.data.destination-earth.eu/stac/collections/EO.EUM.DAT.SENTINEL-3.OL_1_ERR___/items/S3B_OL_1_ERR____20240401T001732_20240401T010138_20240401T024232_2646_091_216______PS2_O_NR_003/download/Oa05_radiance_unc.nc?provider=dedl",
         "roles": [
          "data"
         ],
         "title": "Oa05_radiance_unc.nc",
         "type": "application/x-netcdf"
        },
        "Oa06_radiance.nc": {
         "alternate": {
          "origin": {
           "href": "s3://eodata/Sentinel-3/OLCI/OL_1_ERR___/2024/04/01/S3B_OL_1_ERR____20240401T001732_20240401T010138_20240401T024232_2646_091_216______PS2_O_NR_003.SEN3/Oa06_radiance.nc",
           "title": "Origin asset link"
          },
          "type": "application/x-netcdf"
         },
         "href": "https://hda.data.destination-earth.eu/stac/collections/EO.EUM.DAT.SENTINEL-3.OL_1_ERR___/items/S3B_OL_1_ERR____20240401T001732_20240401T010138_20240401T024232_2646_091_216______PS2_O_NR_003/download/Oa06_radiance.nc?provider=dedl",
         "roles": [
          "data"
         ],
         "title": "Oa06_radiance.nc",
         "type": "application/x-netcdf"
        },
        "Oa06_radiance_unc.nc": {
         "alternate": {
          "origin": {
           "href": "s3://eodata/Sentinel-3/OLCI/OL_1_ERR___/2024/04/01/S3B_OL_1_ERR____20240401T001732_20240401T010138_20240401T024232_2646_091_216______PS2_O_NR_003.SEN3/Oa06_radiance_unc.nc",
           "title": "Origin asset link"
          },
          "type": "application/x-netcdf"
         },
         "href": "https://hda.data.destination-earth.eu/stac/collections/EO.EUM.DAT.SENTINEL-3.OL_1_ERR___/items/S3B_OL_1_ERR____20240401T001732_20240401T010138_20240401T024232_2646_091_216______PS2_O_NR_003/download/Oa06_radiance_unc.nc?provider=dedl",
         "roles": [
          "data"
         ],
         "title": "Oa06_radiance_unc.nc",
         "type": "application/x-netcdf"
        },
        "Oa07_radiance.nc": {
         "alternate": {
          "origin": {
           "href": "s3://eodata/Sentinel-3/OLCI/OL_1_ERR___/2024/04/01/S3B_OL_1_ERR____20240401T001732_20240401T010138_20240401T024232_2646_091_216______PS2_O_NR_003.SEN3/Oa07_radiance.nc",
           "title": "Origin asset link"
          },
          "type": "application/x-netcdf"
         },
         "href": "https://hda.data.destination-earth.eu/stac/collections/EO.EUM.DAT.SENTINEL-3.OL_1_ERR___/items/S3B_OL_1_ERR____20240401T001732_20240401T010138_20240401T024232_2646_091_216______PS2_O_NR_003/download/Oa07_radiance.nc?provider=dedl",
         "roles": [
          "data"
         ],
         "title": "Oa07_radiance.nc",
         "type": "application/x-netcdf"
        },
        "Oa07_radiance_unc.nc": {
         "alternate": {
          "origin": {
           "href": "s3://eodata/Sentinel-3/OLCI/OL_1_ERR___/2024/04/01/S3B_OL_1_ERR____20240401T001732_20240401T010138_20240401T024232_2646_091_216______PS2_O_NR_003.SEN3/Oa07_radiance_unc.nc",
           "title": "Origin asset link"
          },
          "type": "application/x-netcdf"
         },
         "href": "https://hda.data.destination-earth.eu/stac/collections/EO.EUM.DAT.SENTINEL-3.OL_1_ERR___/items/S3B_OL_1_ERR____20240401T001732_20240401T010138_20240401T024232_2646_091_216______PS2_O_NR_003/download/Oa07_radiance_unc.nc?provider=dedl",
         "roles": [
          "data"
         ],
         "title": "Oa07_radiance_unc.nc",
         "type": "application/x-netcdf"
        },
        "Oa08_radiance.nc": {
         "alternate": {
          "origin": {
           "href": "s3://eodata/Sentinel-3/OLCI/OL_1_ERR___/2024/04/01/S3B_OL_1_ERR____20240401T001732_20240401T010138_20240401T024232_2646_091_216______PS2_O_NR_003.SEN3/Oa08_radiance.nc",
           "title": "Origin asset link"
          },
          "type": "application/x-netcdf"
         },
         "href": "https://hda.data.destination-earth.eu/stac/collections/EO.EUM.DAT.SENTINEL-3.OL_1_ERR___/items/S3B_OL_1_ERR____20240401T001732_20240401T010138_20240401T024232_2646_091_216______PS2_O_NR_003/download/Oa08_radiance.nc?provider=dedl",
         "roles": [
          "data"
         ],
         "title": "Oa08_radiance.nc",
         "type": "application/x-netcdf"
        },
        "Oa08_radiance_unc.nc": {
         "alternate": {
          "origin": {
           "href": "s3://eodata/Sentinel-3/OLCI/OL_1_ERR___/2024/04/01/S3B_OL_1_ERR____20240401T001732_20240401T010138_20240401T024232_2646_091_216______PS2_O_NR_003.SEN3/Oa08_radiance_unc.nc",
           "title": "Origin asset link"
          },
          "type": "application/x-netcdf"
         },
         "href": "https://hda.data.destination-earth.eu/stac/collections/EO.EUM.DAT.SENTINEL-3.OL_1_ERR___/items/S3B_OL_1_ERR____20240401T001732_20240401T010138_20240401T024232_2646_091_216______PS2_O_NR_003/download/Oa08_radiance_unc.nc?provider=dedl",
         "roles": [
          "data"
         ],
         "title": "Oa08_radiance_unc.nc",
         "type": "application/x-netcdf"
        },
        "Oa09_radiance.nc": {
         "alternate": {
          "origin": {
           "href": "s3://eodata/Sentinel-3/OLCI/OL_1_ERR___/2024/04/01/S3B_OL_1_ERR____20240401T001732_20240401T010138_20240401T024232_2646_091_216______PS2_O_NR_003.SEN3/Oa09_radiance.nc",
           "title": "Origin asset link"
          },
          "type": "application/x-netcdf"
         },
         "href": "https://hda.data.destination-earth.eu/stac/collections/EO.EUM.DAT.SENTINEL-3.OL_1_ERR___/items/S3B_OL_1_ERR____20240401T001732_20240401T010138_20240401T024232_2646_091_216______PS2_O_NR_003/download/Oa09_radiance.nc?provider=dedl",
         "roles": [
          "data"
         ],
         "title": "Oa09_radiance.nc",
         "type": "application/x-netcdf"
        },
        "Oa09_radiance_unc.nc": {
         "alternate": {
          "origin": {
           "href": "s3://eodata/Sentinel-3/OLCI/OL_1_ERR___/2024/04/01/S3B_OL_1_ERR____20240401T001732_20240401T010138_20240401T024232_2646_091_216______PS2_O_NR_003.SEN3/Oa09_radiance_unc.nc",
           "title": "Origin asset link"
          },
          "type": "application/x-netcdf"
         },
         "href": "https://hda.data.destination-earth.eu/stac/collections/EO.EUM.DAT.SENTINEL-3.OL_1_ERR___/items/S3B_OL_1_ERR____20240401T001732_20240401T010138_20240401T024232_2646_091_216______PS2_O_NR_003/download/Oa09_radiance_unc.nc?provider=dedl",
         "roles": [
          "data"
         ],
         "title": "Oa09_radiance_unc.nc",
         "type": "application/x-netcdf"
        },
        "Oa10_radiance.nc": {
         "alternate": {
          "origin": {
           "href": "s3://eodata/Sentinel-3/OLCI/OL_1_ERR___/2024/04/01/S3B_OL_1_ERR____20240401T001732_20240401T010138_20240401T024232_2646_091_216______PS2_O_NR_003.SEN3/Oa10_radiance.nc",
           "title": "Origin asset link"
          },
          "type": "application/x-netcdf"
         },
         "href": "https://hda.data.destination-earth.eu/stac/collections/EO.EUM.DAT.SENTINEL-3.OL_1_ERR___/items/S3B_OL_1_ERR____20240401T001732_20240401T010138_20240401T024232_2646_091_216______PS2_O_NR_003/download/Oa10_radiance.nc?provider=dedl",
         "roles": [
          "data"
         ],
         "title": "Oa10_radiance.nc",
         "type": "application/x-netcdf"
        },
        "Oa10_radiance_unc.nc": {
         "alternate": {
          "origin": {
           "href": "s3://eodata/Sentinel-3/OLCI/OL_1_ERR___/2024/04/01/S3B_OL_1_ERR____20240401T001732_20240401T010138_20240401T024232_2646_091_216______PS2_O_NR_003.SEN3/Oa10_radiance_unc.nc",
           "title": "Origin asset link"
          },
          "type": "application/x-netcdf"
         },
         "href": "https://hda.data.destination-earth.eu/stac/collections/EO.EUM.DAT.SENTINEL-3.OL_1_ERR___/items/S3B_OL_1_ERR____20240401T001732_20240401T010138_20240401T024232_2646_091_216______PS2_O_NR_003/download/Oa10_radiance_unc.nc?provider=dedl",
         "roles": [
          "data"
         ],
         "title": "Oa10_radiance_unc.nc",
         "type": "application/x-netcdf"
        },
        "Oa11_radiance.nc": {
         "alternate": {
          "origin": {
           "href": "s3://eodata/Sentinel-3/OLCI/OL_1_ERR___/2024/04/01/S3B_OL_1_ERR____20240401T001732_20240401T010138_20240401T024232_2646_091_216______PS2_O_NR_003.SEN3/Oa11_radiance.nc",
           "title": "Origin asset link"
          },
          "type": "application/x-netcdf"
         },
         "href": "https://hda.data.destination-earth.eu/stac/collections/EO.EUM.DAT.SENTINEL-3.OL_1_ERR___/items/S3B_OL_1_ERR____20240401T001732_20240401T010138_20240401T024232_2646_091_216______PS2_O_NR_003/download/Oa11_radiance.nc?provider=dedl",
         "roles": [
          "data"
         ],
         "title": "Oa11_radiance.nc",
         "type": "application/x-netcdf"
        },
        "Oa11_radiance_unc.nc": {
         "alternate": {
          "origin": {
           "href": "s3://eodata/Sentinel-3/OLCI/OL_1_ERR___/2024/04/01/S3B_OL_1_ERR____20240401T001732_20240401T010138_20240401T024232_2646_091_216______PS2_O_NR_003.SEN3/Oa11_radiance_unc.nc",
           "title": "Origin asset link"
          },
          "type": "application/x-netcdf"
         },
         "href": "https://hda.data.destination-earth.eu/stac/collections/EO.EUM.DAT.SENTINEL-3.OL_1_ERR___/items/S3B_OL_1_ERR____20240401T001732_20240401T010138_20240401T024232_2646_091_216______PS2_O_NR_003/download/Oa11_radiance_unc.nc?provider=dedl",
         "roles": [
          "data"
         ],
         "title": "Oa11_radiance_unc.nc",
         "type": "application/x-netcdf"
        },
        "Oa12_radiance.nc": {
         "alternate": {
          "origin": {
           "href": "s3://eodata/Sentinel-3/OLCI/OL_1_ERR___/2024/04/01/S3B_OL_1_ERR____20240401T001732_20240401T010138_20240401T024232_2646_091_216______PS2_O_NR_003.SEN3/Oa12_radiance.nc",
           "title": "Origin asset link"
          },
          "type": "application/x-netcdf"
         },
         "href": "https://hda.data.destination-earth.eu/stac/collections/EO.EUM.DAT.SENTINEL-3.OL_1_ERR___/items/S3B_OL_1_ERR____20240401T001732_20240401T010138_20240401T024232_2646_091_216______PS2_O_NR_003/download/Oa12_radiance.nc?provider=dedl",
         "roles": [
          "data"
         ],
         "title": "Oa12_radiance.nc",
         "type": "application/x-netcdf"
        },
        "Oa12_radiance_unc.nc": {
         "alternate": {
          "origin": {
           "href": "s3://eodata/Sentinel-3/OLCI/OL_1_ERR___/2024/04/01/S3B_OL_1_ERR____20240401T001732_20240401T010138_20240401T024232_2646_091_216______PS2_O_NR_003.SEN3/Oa12_radiance_unc.nc",
           "title": "Origin asset link"
          },
          "type": "application/x-netcdf"
         },
         "href": "https://hda.data.destination-earth.eu/stac/collections/EO.EUM.DAT.SENTINEL-3.OL_1_ERR___/items/S3B_OL_1_ERR____20240401T001732_20240401T010138_20240401T024232_2646_091_216______PS2_O_NR_003/download/Oa12_radiance_unc.nc?provider=dedl",
         "roles": [
          "data"
         ],
         "title": "Oa12_radiance_unc.nc",
         "type": "application/x-netcdf"
        },
        "Oa13_radiance.nc": {
         "alternate": {
          "origin": {
           "href": "s3://eodata/Sentinel-3/OLCI/OL_1_ERR___/2024/04/01/S3B_OL_1_ERR____20240401T001732_20240401T010138_20240401T024232_2646_091_216______PS2_O_NR_003.SEN3/Oa13_radiance.nc",
           "title": "Origin asset link"
          },
          "type": "application/x-netcdf"
         },
         "href": "https://hda.data.destination-earth.eu/stac/collections/EO.EUM.DAT.SENTINEL-3.OL_1_ERR___/items/S3B_OL_1_ERR____20240401T001732_20240401T010138_20240401T024232_2646_091_216______PS2_O_NR_003/download/Oa13_radiance.nc?provider=dedl",
         "roles": [
          "data"
         ],
         "title": "Oa13_radiance.nc",
         "type": "application/x-netcdf"
        },
        "Oa13_radiance_unc.nc": {
         "alternate": {
          "origin": {
           "href": "s3://eodata/Sentinel-3/OLCI/OL_1_ERR___/2024/04/01/S3B_OL_1_ERR____20240401T001732_20240401T010138_20240401T024232_2646_091_216______PS2_O_NR_003.SEN3/Oa13_radiance_unc.nc",
           "title": "Origin asset link"
          },
          "type": "application/x-netcdf"
         },
         "href": "https://hda.data.destination-earth.eu/stac/collections/EO.EUM.DAT.SENTINEL-3.OL_1_ERR___/items/S3B_OL_1_ERR____20240401T001732_20240401T010138_20240401T024232_2646_091_216______PS2_O_NR_003/download/Oa13_radiance_unc.nc?provider=dedl",
         "roles": [
          "data"
         ],
         "title": "Oa13_radiance_unc.nc",
         "type": "application/x-netcdf"
        },
        "Oa14_radiance.nc": {
         "alternate": {
          "origin": {
           "href": "s3://eodata/Sentinel-3/OLCI/OL_1_ERR___/2024/04/01/S3B_OL_1_ERR____20240401T001732_20240401T010138_20240401T024232_2646_091_216______PS2_O_NR_003.SEN3/Oa14_radiance.nc",
           "title": "Origin asset link"
          },
          "type": "application/x-netcdf"
         },
         "href": "https://hda.data.destination-earth.eu/stac/collections/EO.EUM.DAT.SENTINEL-3.OL_1_ERR___/items/S3B_OL_1_ERR____20240401T001732_20240401T010138_20240401T024232_2646_091_216______PS2_O_NR_003/download/Oa14_radiance.nc?provider=dedl",
         "roles": [
          "data"
         ],
         "title": "Oa14_radiance.nc",
         "type": "application/x-netcdf"
        },
        "Oa14_radiance_unc.nc": {
         "alternate": {
          "origin": {
           "href": "s3://eodata/Sentinel-3/OLCI/OL_1_ERR___/2024/04/01/S3B_OL_1_ERR____20240401T001732_20240401T010138_20240401T024232_2646_091_216______PS2_O_NR_003.SEN3/Oa14_radiance_unc.nc",
           "title": "Origin asset link"
          },
          "type": "application/x-netcdf"
         },
         "href": "https://hda.data.destination-earth.eu/stac/collections/EO.EUM.DAT.SENTINEL-3.OL_1_ERR___/items/S3B_OL_1_ERR____20240401T001732_20240401T010138_20240401T024232_2646_091_216______PS2_O_NR_003/download/Oa14_radiance_unc.nc?provider=dedl",
         "roles": [
          "data"
         ],
         "title": "Oa14_radiance_unc.nc",
         "type": "application/x-netcdf"
        },
        "Oa15_radiance.nc": {
         "alternate": {
          "origin": {
           "href": "s3://eodata/Sentinel-3/OLCI/OL_1_ERR___/2024/04/01/S3B_OL_1_ERR____20240401T001732_20240401T010138_20240401T024232_2646_091_216______PS2_O_NR_003.SEN3/Oa15_radiance.nc",
           "title": "Origin asset link"
          },
          "type": "application/x-netcdf"
         },
         "href": "https://hda.data.destination-earth.eu/stac/collections/EO.EUM.DAT.SENTINEL-3.OL_1_ERR___/items/S3B_OL_1_ERR____20240401T001732_20240401T010138_20240401T024232_2646_091_216______PS2_O_NR_003/download/Oa15_radiance.nc?provider=dedl",
         "roles": [
          "data"
         ],
         "title": "Oa15_radiance.nc",
         "type": "application/x-netcdf"
        },
        "Oa15_radiance_unc.nc": {
         "alternate": {
          "origin": {
           "href": "s3://eodata/Sentinel-3/OLCI/OL_1_ERR___/2024/04/01/S3B_OL_1_ERR____20240401T001732_20240401T010138_20240401T024232_2646_091_216______PS2_O_NR_003.SEN3/Oa15_radiance_unc.nc",
           "title": "Origin asset link"
          },
          "type": "application/x-netcdf"
         },
         "href": "https://hda.data.destination-earth.eu/stac/collections/EO.EUM.DAT.SENTINEL-3.OL_1_ERR___/items/S3B_OL_1_ERR____20240401T001732_20240401T010138_20240401T024232_2646_091_216______PS2_O_NR_003/download/Oa15_radiance_unc.nc?provider=dedl",
         "roles": [
          "data"
         ],
         "title": "Oa15_radiance_unc.nc",
         "type": "application/x-netcdf"
        },
        "Oa16_radiance.nc": {
         "alternate": {
          "origin": {
           "href": "s3://eodata/Sentinel-3/OLCI/OL_1_ERR___/2024/04/01/S3B_OL_1_ERR____20240401T001732_20240401T010138_20240401T024232_2646_091_216______PS2_O_NR_003.SEN3/Oa16_radiance.nc",
           "title": "Origin asset link"
          },
          "type": "application/x-netcdf"
         },
         "href": "https://hda.data.destination-earth.eu/stac/collections/EO.EUM.DAT.SENTINEL-3.OL_1_ERR___/items/S3B_OL_1_ERR____20240401T001732_20240401T010138_20240401T024232_2646_091_216______PS2_O_NR_003/download/Oa16_radiance.nc?provider=dedl",
         "roles": [
          "data"
         ],
         "title": "Oa16_radiance.nc",
         "type": "application/x-netcdf"
        },
        "Oa16_radiance_unc.nc": {
         "alternate": {
          "origin": {
           "href": "s3://eodata/Sentinel-3/OLCI/OL_1_ERR___/2024/04/01/S3B_OL_1_ERR____20240401T001732_20240401T010138_20240401T024232_2646_091_216______PS2_O_NR_003.SEN3/Oa16_radiance_unc.nc",
           "title": "Origin asset link"
          },
          "type": "application/x-netcdf"
         },
         "href": "https://hda.data.destination-earth.eu/stac/collections/EO.EUM.DAT.SENTINEL-3.OL_1_ERR___/items/S3B_OL_1_ERR____20240401T001732_20240401T010138_20240401T024232_2646_091_216______PS2_O_NR_003/download/Oa16_radiance_unc.nc?provider=dedl",
         "roles": [
          "data"
         ],
         "title": "Oa16_radiance_unc.nc",
         "type": "application/x-netcdf"
        },
        "Oa17_radiance.nc": {
         "alternate": {
          "origin": {
           "href": "s3://eodata/Sentinel-3/OLCI/OL_1_ERR___/2024/04/01/S3B_OL_1_ERR____20240401T001732_20240401T010138_20240401T024232_2646_091_216______PS2_O_NR_003.SEN3/Oa17_radiance.nc",
           "title": "Origin asset link"
          },
          "type": "application/x-netcdf"
         },
         "href": "https://hda.data.destination-earth.eu/stac/collections/EO.EUM.DAT.SENTINEL-3.OL_1_ERR___/items/S3B_OL_1_ERR____20240401T001732_20240401T010138_20240401T024232_2646_091_216______PS2_O_NR_003/download/Oa17_radiance.nc?provider=dedl",
         "roles": [
          "data"
         ],
         "title": "Oa17_radiance.nc",
         "type": "application/x-netcdf"
        },
        "Oa17_radiance_unc.nc": {
         "alternate": {
          "origin": {
           "href": "s3://eodata/Sentinel-3/OLCI/OL_1_ERR___/2024/04/01/S3B_OL_1_ERR____20240401T001732_20240401T010138_20240401T024232_2646_091_216______PS2_O_NR_003.SEN3/Oa17_radiance_unc.nc",
           "title": "Origin asset link"
          },
          "type": "application/x-netcdf"
         },
         "href": "https://hda.data.destination-earth.eu/stac/collections/EO.EUM.DAT.SENTINEL-3.OL_1_ERR___/items/S3B_OL_1_ERR____20240401T001732_20240401T010138_20240401T024232_2646_091_216______PS2_O_NR_003/download/Oa17_radiance_unc.nc?provider=dedl",
         "roles": [
          "data"
         ],
         "title": "Oa17_radiance_unc.nc",
         "type": "application/x-netcdf"
        },
        "Oa18_radiance.nc": {
         "alternate": {
          "origin": {
           "href": "s3://eodata/Sentinel-3/OLCI/OL_1_ERR___/2024/04/01/S3B_OL_1_ERR____20240401T001732_20240401T010138_20240401T024232_2646_091_216______PS2_O_NR_003.SEN3/Oa18_radiance.nc",
           "title": "Origin asset link"
          },
          "type": "application/x-netcdf"
         },
         "href": "https://hda.data.destination-earth.eu/stac/collections/EO.EUM.DAT.SENTINEL-3.OL_1_ERR___/items/S3B_OL_1_ERR____20240401T001732_20240401T010138_20240401T024232_2646_091_216______PS2_O_NR_003/download/Oa18_radiance.nc?provider=dedl",
         "roles": [
          "data"
         ],
         "title": "Oa18_radiance.nc",
         "type": "application/x-netcdf"
        },
        "Oa18_radiance_unc.nc": {
         "alternate": {
          "origin": {
           "href": "s3://eodata/Sentinel-3/OLCI/OL_1_ERR___/2024/04/01/S3B_OL_1_ERR____20240401T001732_20240401T010138_20240401T024232_2646_091_216______PS2_O_NR_003.SEN3/Oa18_radiance_unc.nc",
           "title": "Origin asset link"
          },
          "type": "application/x-netcdf"
         },
         "href": "https://hda.data.destination-earth.eu/stac/collections/EO.EUM.DAT.SENTINEL-3.OL_1_ERR___/items/S3B_OL_1_ERR____20240401T001732_20240401T010138_20240401T024232_2646_091_216______PS2_O_NR_003/download/Oa18_radiance_unc.nc?provider=dedl",
         "roles": [
          "data"
         ],
         "title": "Oa18_radiance_unc.nc",
         "type": "application/x-netcdf"
        },
        "Oa19_radiance.nc": {
         "alternate": {
          "origin": {
           "href": "s3://eodata/Sentinel-3/OLCI/OL_1_ERR___/2024/04/01/S3B_OL_1_ERR____20240401T001732_20240401T010138_20240401T024232_2646_091_216______PS2_O_NR_003.SEN3/Oa19_radiance.nc",
           "title": "Origin asset link"
          },
          "type": "application/x-netcdf"
         },
         "href": "https://hda.data.destination-earth.eu/stac/collections/EO.EUM.DAT.SENTINEL-3.OL_1_ERR___/items/S3B_OL_1_ERR____20240401T001732_20240401T010138_20240401T024232_2646_091_216______PS2_O_NR_003/download/Oa19_radiance.nc?provider=dedl",
         "roles": [
          "data"
         ],
         "title": "Oa19_radiance.nc",
         "type": "application/x-netcdf"
        },
        "Oa19_radiance_unc.nc": {
         "alternate": {
          "origin": {
           "href": "s3://eodata/Sentinel-3/OLCI/OL_1_ERR___/2024/04/01/S3B_OL_1_ERR____20240401T001732_20240401T010138_20240401T024232_2646_091_216______PS2_O_NR_003.SEN3/Oa19_radiance_unc.nc",
           "title": "Origin asset link"
          },
          "type": "application/x-netcdf"
         },
         "href": "https://hda.data.destination-earth.eu/stac/collections/EO.EUM.DAT.SENTINEL-3.OL_1_ERR___/items/S3B_OL_1_ERR____20240401T001732_20240401T010138_20240401T024232_2646_091_216______PS2_O_NR_003/download/Oa19_radiance_unc.nc?provider=dedl",
         "roles": [
          "data"
         ],
         "title": "Oa19_radiance_unc.nc",
         "type": "application/x-netcdf"
        },
        "Oa20_radiance.nc": {
         "alternate": {
          "origin": {
           "href": "s3://eodata/Sentinel-3/OLCI/OL_1_ERR___/2024/04/01/S3B_OL_1_ERR____20240401T001732_20240401T010138_20240401T024232_2646_091_216______PS2_O_NR_003.SEN3/Oa20_radiance.nc",
           "title": "Origin asset link"
          },
          "type": "application/x-netcdf"
         },
         "href": "https://hda.data.destination-earth.eu/stac/collections/EO.EUM.DAT.SENTINEL-3.OL_1_ERR___/items/S3B_OL_1_ERR____20240401T001732_20240401T010138_20240401T024232_2646_091_216______PS2_O_NR_003/download/Oa20_radiance.nc?provider=dedl",
         "roles": [
          "data"
         ],
         "title": "Oa20_radiance.nc",
         "type": "application/x-netcdf"
        },
        "Oa20_radiance_unc.nc": {
         "alternate": {
          "origin": {
           "href": "s3://eodata/Sentinel-3/OLCI/OL_1_ERR___/2024/04/01/S3B_OL_1_ERR____20240401T001732_20240401T010138_20240401T024232_2646_091_216______PS2_O_NR_003.SEN3/Oa20_radiance_unc.nc",
           "title": "Origin asset link"
          },
          "type": "application/x-netcdf"
         },
         "href": "https://hda.data.destination-earth.eu/stac/collections/EO.EUM.DAT.SENTINEL-3.OL_1_ERR___/items/S3B_OL_1_ERR____20240401T001732_20240401T010138_20240401T024232_2646_091_216______PS2_O_NR_003/download/Oa20_radiance_unc.nc?provider=dedl",
         "roles": [
          "data"
         ],
         "title": "Oa20_radiance_unc.nc",
         "type": "application/x-netcdf"
        },
        "Oa21_radiance.nc": {
         "alternate": {
          "origin": {
           "href": "s3://eodata/Sentinel-3/OLCI/OL_1_ERR___/2024/04/01/S3B_OL_1_ERR____20240401T001732_20240401T010138_20240401T024232_2646_091_216______PS2_O_NR_003.SEN3/Oa21_radiance.nc",
           "title": "Origin asset link"
          },
          "type": "application/x-netcdf"
         },
         "href": "https://hda.data.destination-earth.eu/stac/collections/EO.EUM.DAT.SENTINEL-3.OL_1_ERR___/items/S3B_OL_1_ERR____20240401T001732_20240401T010138_20240401T024232_2646_091_216______PS2_O_NR_003/download/Oa21_radiance.nc?provider=dedl",
         "roles": [
          "data"
         ],
         "title": "Oa21_radiance.nc",
         "type": "application/x-netcdf"
        },
        "Oa21_radiance_unc.nc": {
         "alternate": {
          "origin": {
           "href": "s3://eodata/Sentinel-3/OLCI/OL_1_ERR___/2024/04/01/S3B_OL_1_ERR____20240401T001732_20240401T010138_20240401T024232_2646_091_216______PS2_O_NR_003.SEN3/Oa21_radiance_unc.nc",
           "title": "Origin asset link"
          },
          "type": "application/x-netcdf"
         },
         "href": "https://hda.data.destination-earth.eu/stac/collections/EO.EUM.DAT.SENTINEL-3.OL_1_ERR___/items/S3B_OL_1_ERR____20240401T001732_20240401T010138_20240401T024232_2646_091_216______PS2_O_NR_003/download/Oa21_radiance_unc.nc?provider=dedl",
         "roles": [
          "data"
         ],
         "title": "Oa21_radiance_unc.nc",
         "type": "application/x-netcdf"
        },
        "downloadLink": {
         "href": "https://hda.data.destination-earth.eu/stac/collections/EO.EUM.DAT.SENTINEL-3.OL_1_ERR___/items/S3B_OL_1_ERR____20240401T001732_20240401T010138_20240401T024232_2646_091_216______PS2_O_NR_003/download?provider=dedl",
         "title": "Download link",
         "type": "application/zip"
        },
        "geo_coordinates.nc": {
         "alternate": {
          "origin": {
           "href": "s3://eodata/Sentinel-3/OLCI/OL_1_ERR___/2024/04/01/S3B_OL_1_ERR____20240401T001732_20240401T010138_20240401T024232_2646_091_216______PS2_O_NR_003.SEN3/geo_coordinates.nc",
           "title": "Origin asset link"
          },
          "type": "application/x-netcdf"
         },
         "href": "https://hda.data.destination-earth.eu/stac/collections/EO.EUM.DAT.SENTINEL-3.OL_1_ERR___/items/S3B_OL_1_ERR____20240401T001732_20240401T010138_20240401T024232_2646_091_216______PS2_O_NR_003/download/geo_coordinates.nc?provider=dedl",
         "roles": [
          "data"
         ],
         "title": "geo_coordinates.nc",
         "type": "application/x-netcdf"
        },
        "instrument_data.nc": {
         "alternate": {
          "origin": {
           "href": "s3://eodata/Sentinel-3/OLCI/OL_1_ERR___/2024/04/01/S3B_OL_1_ERR____20240401T001732_20240401T010138_20240401T024232_2646_091_216______PS2_O_NR_003.SEN3/instrument_data.nc",
           "title": "Origin asset link"
          },
          "type": "application/x-netcdf"
         },
         "href": "https://hda.data.destination-earth.eu/stac/collections/EO.EUM.DAT.SENTINEL-3.OL_1_ERR___/items/S3B_OL_1_ERR____20240401T001732_20240401T010138_20240401T024232_2646_091_216______PS2_O_NR_003/download/instrument_data.nc?provider=dedl",
         "roles": [
          "data"
         ],
         "title": "instrument_data.nc",
         "type": "application/x-netcdf"
        },
        "qualityFlags.nc": {
         "alternate": {
          "origin": {
           "href": "s3://eodata/Sentinel-3/OLCI/OL_1_ERR___/2024/04/01/S3B_OL_1_ERR____20240401T001732_20240401T010138_20240401T024232_2646_091_216______PS2_O_NR_003.SEN3/qualityFlags.nc",
           "title": "Origin asset link"
          },
          "type": "application/x-netcdf"
         },
         "href": "https://hda.data.destination-earth.eu/stac/collections/EO.EUM.DAT.SENTINEL-3.OL_1_ERR___/items/S3B_OL_1_ERR____20240401T001732_20240401T010138_20240401T024232_2646_091_216______PS2_O_NR_003/download/qualityFlags.nc?provider=dedl",
         "roles": [
          "data"
         ],
         "title": "qualityFlags.nc",
         "type": "application/x-netcdf"
        },
        "quicklook.jpg": {
         "alternate": {
          "origin": {
           "href": "s3://eodata/Sentinel-3/OLCI/OL_1_ERR___/2024/04/01/S3B_OL_1_ERR____20240401T001732_20240401T010138_20240401T024232_2646_091_216______PS2_O_NR_003.SEN3/quicklook.jpg",
           "title": "Origin asset link"
          },
          "type": "image/jpeg"
         },
         "href": "https://hda.data.destination-earth.eu/stac/collections/EO.EUM.DAT.SENTINEL-3.OL_1_ERR___/items/S3B_OL_1_ERR____20240401T001732_20240401T010138_20240401T024232_2646_091_216______PS2_O_NR_003/download/quicklook.jpg?provider=dedl",
         "roles": [
          "metadata"
         ],
         "title": "quicklook.jpg",
         "type": "image/jpeg"
        },
        "thumbnail": {
         "href": "https://datahub.creodias.eu/get-object?path=/Sentinel-3/OLCI/OL_1_ERR___/2024/04/01/S3B_OL_1_ERR____20240401T001732_20240401T010138_20240401T024232_2646_091_216______PS2_O_NR_003.SEN3/quicklook.jpg",
         "role": "thumbnail",
         "title": "Thumbnail",
         "type": "image/jpeg"
        },
        "tie_geo_coordinates.nc": {
         "alternate": {
          "origin": {
           "href": "s3://eodata/Sentinel-3/OLCI/OL_1_ERR___/2024/04/01/S3B_OL_1_ERR____20240401T001732_20240401T010138_20240401T024232_2646_091_216______PS2_O_NR_003.SEN3/tie_geo_coordinates.nc",
           "title": "Origin asset link"
          },
          "type": "application/x-netcdf"
         },
         "href": "https://hda.data.destination-earth.eu/stac/collections/EO.EUM.DAT.SENTINEL-3.OL_1_ERR___/items/S3B_OL_1_ERR____20240401T001732_20240401T010138_20240401T024232_2646_091_216______PS2_O_NR_003/download/tie_geo_coordinates.nc?provider=dedl",
         "roles": [
          "data"
         ],
         "title": "tie_geo_coordinates.nc",
         "type": "application/x-netcdf"
        },
        "tie_geometries.nc": {
         "alternate": {
          "origin": {
           "href": "s3://eodata/Sentinel-3/OLCI/OL_1_ERR___/2024/04/01/S3B_OL_1_ERR____20240401T001732_20240401T010138_20240401T024232_2646_091_216______PS2_O_NR_003.SEN3/tie_geometries.nc",
           "title": "Origin asset link"
          },
          "type": "application/x-netcdf"
         },
         "href": "https://hda.data.destination-earth.eu/stac/collections/EO.EUM.DAT.SENTINEL-3.OL_1_ERR___/items/S3B_OL_1_ERR____20240401T001732_20240401T010138_20240401T024232_2646_091_216______PS2_O_NR_003/download/tie_geometries.nc?provider=dedl",
         "roles": [
          "data"
         ],
         "title": "tie_geometries.nc",
         "type": "application/x-netcdf"
        },
        "tie_meteo.nc": {
         "alternate": {
          "origin": {
           "href": "s3://eodata/Sentinel-3/OLCI/OL_1_ERR___/2024/04/01/S3B_OL_1_ERR____20240401T001732_20240401T010138_20240401T024232_2646_091_216______PS2_O_NR_003.SEN3/tie_meteo.nc",
           "title": "Origin asset link"
          },
          "type": "application/x-netcdf"
         },
         "href": "https://hda.data.destination-earth.eu/stac/collections/EO.EUM.DAT.SENTINEL-3.OL_1_ERR___/items/S3B_OL_1_ERR____20240401T001732_20240401T010138_20240401T024232_2646_091_216______PS2_O_NR_003/download/tie_meteo.nc?provider=dedl",
         "roles": [
          "data"
         ],
         "title": "tie_meteo.nc",
         "type": "application/x-netcdf"
        },
        "time_coordinates.nc": {
         "alternate": {
          "origin": {
           "href": "s3://eodata/Sentinel-3/OLCI/OL_1_ERR___/2024/04/01/S3B_OL_1_ERR____20240401T001732_20240401T010138_20240401T024232_2646_091_216______PS2_O_NR_003.SEN3/time_coordinates.nc",
           "title": "Origin asset link"
          },
          "type": "application/x-netcdf"
         },
         "href": "https://hda.data.destination-earth.eu/stac/collections/EO.EUM.DAT.SENTINEL-3.OL_1_ERR___/items/S3B_OL_1_ERR____20240401T001732_20240401T010138_20240401T024232_2646_091_216______PS2_O_NR_003/download/time_coordinates.nc?provider=dedl",
         "roles": [
          "data"
         ],
         "title": "time_coordinates.nc",
         "type": "application/x-netcdf"
        },
        "xfdumanifest.xml": {
         "alternate": {
          "origin": {
           "href": "s3://eodata/Sentinel-3/OLCI/OL_1_ERR___/2024/04/01/S3B_OL_1_ERR____20240401T001732_20240401T010138_20240401T024232_2646_091_216______PS2_O_NR_003.SEN3/xfdumanifest.xml",
           "title": "Origin asset link"
          },
          "type": "text/xml"
         },
         "href": "https://hda.data.destination-earth.eu/stac/collections/EO.EUM.DAT.SENTINEL-3.OL_1_ERR___/items/S3B_OL_1_ERR____20240401T001732_20240401T010138_20240401T024232_2646_091_216______PS2_O_NR_003/download/xfdumanifest.xml?provider=dedl",
         "roles": [
          "metadata"
         ],
         "title": "xfdumanifest.xml",
         "type": "text/xml"
        }
       },
       "bbox": [
        -180,
        -67.7433,
        180,
        85.05115
       ],
       "collection": "EO.EUM.DAT.SENTINEL-3.OL_1_ERR___",
       "geometry": {
        "coordinates": [
         [
          [
           [
            121.508,
            -67.7433
           ],
           [
            122.688,
            -66.1855
           ],
           [
            123.859,
            -64.4496
           ],
           [
            124.912,
            -62.7073
           ],
           [
            125.869,
            -60.9598
           ],
           [
            126.745,
            -59.2078
           ],
           [
            127.552,
            -57.4511
           ],
           [
            128.303,
            -55.6908
           ],
           [
            129.006,
            -53.9284
           ],
           [
            129.667,
            -52.1622
           ],
           [
            130.291,
            -50.3937
           ],
           [
            130.885,
            -48.6227
           ],
           [
            131.451,
            -46.8497
           ],
           [
            131.994,
            -45.0745
           ],
           [
            132.516,
            -43.2975
           ],
           [
            133.019,
            -41.5188
           ],
           [
            133.507,
            -39.7385
           ],
           [
            133.98,
            -37.9564
           ],
           [
            134.44,
            -36.173
           ],
           [
            134.89,
            -34.3883
           ],
           [
            135.329,
            -32.6021
           ],
           [
            135.76,
            -30.8149
           ],
           [
            136.184,
            -29.0262
           ],
           [
            136.601,
            -27.2366
           ],
           [
            137.012,
            -25.4462
           ],
           [
            137.418,
            -23.6545
           ],
           [
            137.82,
            -21.862
           ],
           [
            138.218,
            -20.0689
           ],
           [
            138.614,
            -18.2745
           ],
           [
            139.007,
            -16.4799
           ],
           [
            139.399,
            -14.6848
           ],
           [
            139.789,
            -12.8888
           ],
           [
            140.179,
            -11.0925
           ],
           [
            140.569,
            -9.29582
           ],
           [
            140.959,
            -7.49874
           ],
           [
            141.35,
            -5.70155
           ],
           [
            141.742,
            -3.90414
           ],
           [
            142.136,
            -2.10608
           ],
           [
            142.533,
            -0.309476
           ],
           [
            142.933,
            1.48802
           ],
           [
            143.336,
            3.28544
           ],
           [
            143.744,
            5.08229
           ],
           [
            144.156,
            6.87891
           ],
           [
            144.573,
            8.67491
           ],
           [
            144.996,
            10.4698
           ],
           [
            145.425,
            12.2652
           ],
           [
            145.862,
            14.0589
           ],
           [
            146.308,
            15.8515
           ],
           [
            146.761,
            17.6438
           ],
           [
            147.224,
            19.4347
           ],
           [
            147.699,
            21.2241
           ],
           [
            148.184,
            23.012
           ],
           [
            148.683,
            24.7981
           ],
           [
            149.196,
            26.5832
           ],
           [
            149.725,
            28.3659
           ],
           [
            150.27,
            30.1465
           ],
           [
            150.835,
            31.9248
           ],
           [
            151.42,
            33.7007
           ],
           [
            152.028,
            35.4736
           ],
           [
            152.661,
            37.2435
           ],
           [
            153.323,
            39.0102
           ],
           [
            154.015,
            40.773
           ],
           [
            154.742,
            42.5318
           ],
           [
            155.508,
            44.2862
           ],
           [
            156.317,
            46.0351
           ],
           [
            157.175,
            47.779
           ],
           [
            158.087,
            49.5167
           ],
           [
            159.063,
            51.2463
           ],
           [
            160.108,
            52.9687
           ],
           [
            161.235,
            54.682
           ],
           [
            162.454,
            56.3847
           ],
           [
            163.78,
            58.0755
           ],
           [
            165.23,
            59.7522
           ],
           [
            166.825,
            61.4128
           ],
           [
            168.589,
            63.0539
           ],
           [
            170.554,
            64.6725
           ],
           [
            172.756,
            66.2635
           ],
           [
            175.241,
            67.8206
           ],
           [
            178.065,
            69.3377
           ],
           [
            180,
            70.216385
           ],
           [
            180,
            85.05115
           ],
           [
            143.255949,
            85.05115
           ],
           [
            143.466,
            83.876
           ],
           [
            143.525,
            82.1135
           ],
           [
            143.465,
            80.3505
           ],
           [
            143.343,
            78.5871
           ],
           [
            143.183,
            76.8232
           ],
           [
            142.998,
            75.0593
           ],
           [
            142.797,
            73.2947
           ],
           [
            142.582,
            71.5298
           ],
           [
            142.358,
            69.7645
           ],
           [
            142.127,
            67.9986
           ],
           [
            141.889,
            66.232
           ],
           [
            141.647,
            64.4651
           ],
           [
            141.4,
            62.6974
           ],
           [
            141.15,
            60.9293
           ],
           [
            140.896,
            59.1604
           ],
           [
            140.638,
            57.3909
           ],
           [
            140.378,
            55.6206
           ],
           [
            140.116,
            53.8492
           ],
           [
            139.849,
            52.0791
           ],
           [
            139.581,
            50.3062
           ],
           [
            139.31,
            48.5325
           ],
           [
            139.036,
            46.7592
           ],
           [
            138.76,
            44.9848
           ],
           [
            138.481,
            43.2096
           ],
           [
            138.199,
            41.4339
           ],
           [
            137.914,
            39.6573
           ],
           [
            137.626,
            37.8801
           ],
           [
            137.336,
            36.1025
           ],
           [
            137.042,
            34.324
           ],
           [
            136.744,
            32.545
           ],
           [
            136.444,
            30.7654
           ],
           [
            136.14,
            28.9853
           ],
           [
            135.832,
            27.2043
           ],
           [
            135.52,
            25.4237
           ],
           [
            135.205,
            23.643
           ],
           [
            134.885,
            21.8614
           ],
           [
            134.56,
            20.0792
           ],
           [
            134.231,
            18.2964
           ],
           [
            133.897,
            16.515
           ],
           [
            133.558,
            14.7333
           ],
           [
            133.214,
            12.9498
           ],
           [
            132.863,
            11.1687
           ],
           [
            132.507,
            9.38699
           ],
           [
            132.144,
            7.60522
           ],
           [
            131.774,
            5.82368
           ],
           [
            131.398,
            4.0426
           ],
           [
            131.013,
            2.26304
           ],
           [
            130.621,
            0.484805
           ],
           [
            130.22,
            -1.29502
           ],
           [
            129.81,
            -3.07241
           ],
           [
            129.391,
            -4.84853
           ],
           [
            128.961,
            -6.62378
           ],
           [
            128.52,
            -8.39751
           ],
           [
            128.068,
            -10.1697
           ],
           [
            127.604,
            -11.9405
           ],
           [
            127.126,
            -13.7087
           ],
           [
            126.633,
            -15.4748
           ],
           [
            126.126,
            -17.2397
           ],
           [
            125.602,
            -19.0013
           ],
           [
            125.061,
            -20.7601
           ],
           [
            124.501,
            -22.5163
           ],
           [
            123.92,
            -24.2687
           ],
           [
            123.317,
            -26.0177
           ],
           [
            122.691,
            -27.7631
           ],
           [
            122.038,
            -29.5041
           ],
           [
            121.358,
            -31.2404
           ],
           [
            120.646,
            -32.9715
           ],
           [
            119.902,
            -34.6972
           ],
           [
            119.121,
            -36.4169
           ],
           [
            118.299,
            -38.1297
           ],
           [
            117.434,
            -39.8352
           ],
           [
            116.521,
            -41.5326
           ],
           [
            115.554,
            -43.221
           ],
           [
            114.528,
            -44.8994
           ],
           [
            113.436,
            -46.5669
           ],
           [
            112.272,
            -48.222
           ],
           [
            111.027,
            -49.8636
           ],
           [
            109.691,
            -51.4876
           ],
           [
            108.253,
            -53.0964
           ],
           [
            106.702,
            -54.685
           ],
           [
            105.021,
            -56.2498
           ],
           [
            103.195,
            -57.7892
           ],
           [
            101.206,
            -59.299
           ],
           [
            99.0314,
            -60.7744
           ],
           [
            96.8915,
            -62.0706
           ],
           [
            97.9291,
            -62.4589
           ],
           [
            98.9923,
            -62.84
           ],
           [
            100.083,
            -63.2129
           ],
           [
            101.202,
            -63.5772
           ],
           [
            102.35,
            -63.9325
           ],
           [
            103.527,
            -64.2784
           ],
           [
            104.733,
            -64.6146
           ],
           [
            105.969,
            -64.9407
           ],
           [
            107.235,
            -65.2563
           ],
           [
            108.531,
            -65.561
           ],
           [
            109.856,
            -65.8544
           ],
           [
            111.215,
            -66.1364
           ],
           [
            112.601,
            -66.4058
           ],
           [
            114.014,
            -66.6622
           ],
           [
            115.457,
            -66.906
           ],
           [
            116.929,
            -67.1363
           ],
           [
            118.427,
            -67.3526
           ],
           [
            119.95,
            -67.5545
           ],
           [
            121.508,
            -67.7433
           ]
          ]
         ],
         [
          [
           [
            -180,
            70.216385
           ],
           [
            -178.704,
            70.8049
           ],
           [
            -174.985,
            72.2088
           ],
           [
            -170.681,
            73.5345
           ],
           [
            -165.691,
            74.7613
           ],
           [
            -159.909,
            75.8636
           ],
           [
            -153.259,
            76.8101
           ],
           [
            -145.721,
            77.5654
           ],
           [
            -137.39,
            78.093
           ],
           [
            -128.497,
            78.3619
           ],
           [
            -128.73,
            78.9793
           ],
           [
            -128.991,
            79.5964
           ],
           [
            -129.285,
            80.2133
           ],
           [
            -129.617,
            80.8299
           ],
           [
            -129.997,
            81.4461
           ],
           [
            -130.435,
            82.0618
           ],
           [
            -130.947,
            82.677
           ],
           [
            -131.551,
            83.2915
           ],
           [
            -132.277,
            83.9051
           ],
           [
            -133.164,
            84.5175
           ],
           [
            -134.133081,
            85.05115
           ],
           [
            -180,
            85.05115
           ],
           [
            -180,
            70.216385
           ]
          ]
         ]
        ],
        "type": "MultiPolygon"
       },
       "id": "S3B_OL_1_ERR____20240401T001732_20240401T010138_20240401T024232_2646_091_216______PS2_O_NR_003",
       "links": [
        {
         "href": "https://hda.data.destination-earth.eu/stac/collections/EO.EUM.DAT.SENTINEL-3.OL_1_ERR___/items/S3B_OL_1_ERR____20240401T001732_20240401T010138_20240401T024232_2646_091_216______PS2_O_NR_003",
         "rel": "self",
         "title": "S3B_OL_1_ERR____20240401T001732_20240401T010138_20240401T024232_2646_091_216______PS2_O_NR_003"
        },
        {
         "href": "https://hda.data.destination-earth.eu/stac/",
         "rel": "root"
        },
        {
         "href": "https://hda.data.destination-earth.eu/stac/collections/EO.EUM.DAT.SENTINEL-3.OL_1_ERR___",
         "rel": "parent",
         "title": "EO.EUM.DAT.SENTINEL-3.OL_1_ERR___"
        },
        {
         "href": "https://hda.data.destination-earth.eu/stac/collections/EO.EUM.DAT.SENTINEL-3.OL_1_ERR___",
         "rel": "collection",
         "title": "EO.EUM.DAT.SENTINEL-3.OL_1_ERR___"
        }
       ],
       "properties": {
        "constellation": "SENTINEL-3",
        "datetime": "2024-04-01T00:17:31.871Z",
        "description": "Sentinel-3 is a constellation of two radar imaging satellites developed to support Copernicus ocean, land, atmospheric, emergency, security and cryospheric applications. Both S3A, launched in February 2016, and S3B, launched in April 2018, are part of the Copernicus Programme- the European Union’s Earth observation program, managed by the European Commission (COM) [https://www.eoportal.org/satellite-missions/copernicus-sentinel-3]. The spacecraft carries four main instruments: OLCI (Ocean and Land Colour Instrument), SLSTR (Sea and Land Surface Temperature Instrument), SRAL (SAR Radar Altimeter) and MWR (Microwave Radiometer). The SENTINEL-3 mission is jointly operated by the European Space Agency (ESA) and supported by EUMETSAT (European Organisation for the Exploitation of Meteorological Satellites) [https://sentinels.copernicus.eu/web/sentinel/missions/sentinel-3].",
        "end_datetime": "2024-04-01T01:01:38.146Z",
        "eo:cloud_cover": 0,
        "eo:snow_cover": 0,
        "gsd": 0,
        "instruments": [
         "OLCI"
        ],
        "oseo:accessConstraint": {
         "description": {
          "shortName": "No license"
         },
         "grantedCountries": null,
         "grantedFlags": null,
         "grantedOrganizationCountries": null,
         "hasToBeSigned": "never",
         "licenseId": "unlicensed",
         "signatureQuota": -1,
         "viewService": "public"
        },
        "platform": "S3B",
        "processing:level": 1,
        "providers": [
         {
          "description": "DEDL Fresh Data Pool",
          "name": "dedl",
          "priority": 1,
          "roles": [
           "host"
          ],
          "url": "https://hda.data.destination-earth.eu/"
         }
        ],
        "published": "2024-04-01T02:51:54.516Z",
        "sar:instrument_mode": "Earth Observation",
        "sar:product_type": "OL_1_ERR___",
        "sat:absolute_orbit": 30903,
        "sat:orbit_state": "DESCENDING",
        "sat:relative_orbit": 216,
        "start_datetime": "2024-04-01T00:17:31.871Z",
        "updated": "2024-04-01T02:54:21.149Z"
       },
       "stac_extensions": [
        "https://stac-extensions.github.io/timestamps/v1.0.0/schema.json",
        "https://stac-extensions.github.io/eo/v1.0.0/schema.json",
        "https://stac-extensions.github.io/processing/v1.0.0/schema.json",
        "https://stac-extensions.github.io/sat/v1.0.0/schema.json",
        "https://stac-extensions.github.io/sar/v1.0.0/schema.json",
        "https://hda.data.destination-earth.eu/stac/extensions/oseo/json-schema/schema.json"
       ],
       "stac_version": "1.0.0",
       "type": "Feature"
      },
      "text/plain": [
       "<IPython.core.display.JSON object>"
      ]
     },
     "execution_count": 6,
     "metadata": {
      "application/json": {
       "expanded": true,
       "root": "root"
      }
     },
     "output_type": "execute_result"
    }
   ],
   "source": [
    "from IPython.display import JSON\n",
    "\n",
    "product = response.json()[\"features\"][0]\n",
    "JSON(product, expanded=True)"
   ]
  },
  {
   "cell_type": "markdown",
   "id": "565f3862-7ba2-4971-bf66-e6171fcf4d30",
   "metadata": {},
   "source": [
    "### Download some assets of the product\n",
    "To visualize a true color composition we will download the assets corresponding to the red, green and blue bands\n",
    "\n"
   ]
  },
  {
   "cell_type": "code",
   "execution_count": 7,
   "id": "fc08ec47-d53e-43b2-adb5-cf65387a9319",
   "metadata": {},
   "outputs": [
    {
     "name": "stdout",
     "output_type": "stream",
     "text": [
      "https://hda.data.destination-earth.eu/stac/collections/EO.EUM.DAT.SENTINEL-3.OL_1_ERR___/items/S3B_OL_1_ERR____20240401T001732_20240401T010138_20240401T024232_2646_091_216______PS2_O_NR_003/download/Oa08_radiance.nc?provider=dedl\n",
      "Oa08_radiance.nc\n",
      "downloading Oa08_radiance.nc\n"
     ]
    },
    {
     "name": "stderr",
     "output_type": "stream",
     "text": [
      "28.1MB [00:00, 509MB/s]"
     ]
    },
    {
     "name": "stdout",
     "output_type": "stream",
     "text": [
      "https://hda.data.destination-earth.eu/stac/collections/EO.EUM.DAT.SENTINEL-3.OL_1_ERR___/items/S3B_OL_1_ERR____20240401T001732_20240401T010138_20240401T024232_2646_091_216______PS2_O_NR_003/download/Oa06_radiance.nc?provider=dedl\n",
      "Oa06_radiance.nc\n"
     ]
    },
    {
     "name": "stderr",
     "output_type": "stream",
     "text": [
      "\n"
     ]
    },
    {
     "name": "stdout",
     "output_type": "stream",
     "text": [
      "downloading Oa06_radiance.nc\n"
     ]
    },
    {
     "name": "stderr",
     "output_type": "stream",
     "text": [
      "27.7MB [00:00, 565MB/s]"
     ]
    },
    {
     "name": "stdout",
     "output_type": "stream",
     "text": [
      "https://hda.data.destination-earth.eu/stac/collections/EO.EUM.DAT.SENTINEL-3.OL_1_ERR___/items/S3B_OL_1_ERR____20240401T001732_20240401T010138_20240401T024232_2646_091_216______PS2_O_NR_003/download/Oa02_radiance.nc?provider=dedl\n",
      "Oa02_radiance.nc\n"
     ]
    },
    {
     "name": "stderr",
     "output_type": "stream",
     "text": [
      "\n"
     ]
    },
    {
     "name": "stdout",
     "output_type": "stream",
     "text": [
      "downloading Oa02_radiance.nc\n"
     ]
    },
    {
     "name": "stderr",
     "output_type": "stream",
     "text": [
      "26.4MB [00:00, 564MB/s]\n"
     ]
    }
   ],
   "source": [
    "from tqdm import tqdm\n",
    "import time\n",
    "\n",
    "# Define a list of numbers\n",
    "assets = [\"Oa08_radiance.nc\", \"Oa06_radiance.nc\", \"Oa02_radiance.nc\"]\n",
    "#assets = [\"downloadLink\"]\n",
    "\n",
    "for asset in assets:\n",
    "    download_url = product[\"assets\"][asset][\"href\"]\n",
    "    print(download_url)\n",
    "    filename = asset\n",
    "    print(filename)\n",
    "    response = requests.get(download_url, headers=auth_headers)\n",
    "    total_size = int(response.headers.get(\"content-length\", 0))\n",
    "\n",
    "    print(f\"downloading {filename}\")\n",
    "\n",
    "    with tqdm(total=total_size, unit=\"B\", unit_scale=True) as progress_bar:\n",
    "        with open(filename, 'wb') as f:\n",
    "            for data in response.iter_content(1024):\n",
    "                progress_bar.update(len(data))\n",
    "                f.write(data)"
   ]
  },
  {
   "cell_type": "markdown",
   "id": "c1de518e-4ddf-4915-8c55-19cec2eb0bd8",
   "metadata": {},
   "source": [
    "### True Color visualization\n",
    "True color composite uses visible light bands red, green  and blue, resulting in a natural colored result."
   ]
  },
  {
   "cell_type": "code",
   "execution_count": 8,
   "id": "5edb512b-c66d-4039-a361-21dfa440f13c",
   "metadata": {
    "tags": []
   },
   "outputs": [],
   "source": [
    "import rioxarray\n",
    "import matplotlib.pyplot as plt\n",
    "import xarray as xr\n",
    "import numpy as np"
   ]
  },
  {
   "cell_type": "code",
   "execution_count": 9,
   "id": "43d4f3ae-5ab4-4f94-b92c-db29c9db34ca",
   "metadata": {
    "tags": []
   },
   "outputs": [
    {
     "name": "stdout",
     "output_type": "stream",
     "text": [
      "Reading:  Oa02_radiance\n",
      "Reading:  Oa06_radiance\n",
      "Reading:  Oa08_radiance\n"
     ]
    }
   ],
   "source": [
    "#grid_reduce = 1\n",
    "band_vars = xr.open_mfdataset(\"*.nc\")\n",
    "band_dict = {}\n",
    "\n",
    "for band_var in band_vars:\n",
    "    print(f\"Reading:  {band_var}\")\n",
    "    #band_dict[band_var] = band_vars[band_var].data[::grid_reduce,::grid_reduce]\n",
    "    band_dict[band_var] = band_vars[band_var].data[:]\n",
    "\n",
    "band_vars.close()"
   ]
  },
  {
   "cell_type": "code",
   "execution_count": 10,
   "id": "ba180a4e-4170-4595-9172-bed02f36a9b3",
   "metadata": {
    "jupyter": {
     "source_hidden": true
    },
    "tags": []
   },
   "outputs": [],
   "source": [
    "# function from eumartool (https://anaconda.org/cmts/eumartools)\n",
    "def normalise_image(grid_array, contrast=[1.0, 1.0, 1.0], unhitch=False):\n",
    "    \"\"\"Function to normalise an image using independant channels (unhitch=True)\n",
    "        or combined channels (unhitch=False, default)\n",
    "\n",
    "    Args:\n",
    "        grid_array (numpy array): three-dimensional RGB array to be normalised\n",
    "        contrast (list): non-linear (^2) channel scaling, e.g. [1.0 1.0 1.0]\n",
    "        unhitch (bool): switch for independant or cross-channel normalisation\n",
    "\n",
    "    Returns:\n",
    "        if successful, the normalised array\n",
    "        else returns an error\n",
    "    \"\"\"\n",
    "\n",
    "    try:\n",
    "        img_array = grid_array.copy()\n",
    "        \n",
    "        if unhitch:\n",
    "            # normalise with separating channels\n",
    "            for ii in range(np.shape(img_array)[-1]):\n",
    "                minval = np.nanmin(img_array[:, :, ii])\n",
    "                maxval = np.nanmax(img_array[:, :, ii])\n",
    "                img_array[:, :, ii] = (img_array[:, :, ii] - minval) / (\n",
    "                    maxval - minval\n",
    "                )\n",
    "                # apply contrast\n",
    "                img_array[:, :, ii] = img_array[:, :, ii] ** contrast[ii]\n",
    "        else:\n",
    "            # normalise without separating channels\n",
    "            minval = np.nanmin(img_array)\n",
    "            maxval = np.nanmax(img_array)\n",
    "            for ii in range(np.shape(img_array)[-1]):\n",
    "                img_array[:, :, ii] = (img_array[:, :, ii] - minval) / (\n",
    "                    maxval - minval\n",
    "                )\n",
    "                # apply contrast\n",
    "                img_array[:, :, ii] = img_array[:, :, ii] ** contrast[ii]\n",
    "\n",
    "            # non-linearity: contrast - note that the range is not between\n",
    "            # 0 and 1, so need to renormalise afterwards\n",
    "            minval = np.nanmin(img_array)\n",
    "            maxval = np.nanmax(img_array)\n",
    "            for ii in range(np.shape(img_array)[-1]):\n",
    "                img_array[:, :, ii] = (img_array[:, :, ii] - minval) / (\n",
    "                    maxval - minval\n",
    "                )\n",
    "\n",
    "        return img_array\n",
    "    except Exception as error:\n",
    "        msg = \"Unsuccessful!\", error, \"occurred.\"\n",
    "        print(msg)\n",
    "        return msg"
   ]
  },
  {
   "cell_type": "code",
   "execution_count": 11,
   "id": "b4297aed-92d6-443a-9e47-4d6918cc9443",
   "metadata": {
    "tags": []
   },
   "outputs": [],
   "source": [
    "red_recipe = band_dict['Oa08_radiance']\n",
    "green_recipe = band_dict['Oa06_radiance']\n",
    "blue_recipe = band_dict['Oa02_radiance']"
   ]
  },
  {
   "cell_type": "code",
   "execution_count": 12,
   "id": "7425bd73-53b7-4e28-9ed2-ed28651520e0",
   "metadata": {
    "tags": []
   },
   "outputs": [],
   "source": [
    "rgb_nat = np.dstack((red_recipe, green_recipe, blue_recipe))\n",
    "rgb_nat_norm = normalise_image(rgb_nat)"
   ]
  },
  {
   "cell_type": "code",
   "execution_count": 13,
   "id": "f3a2ce25-15de-4dbe-9597-f6f6b9714b07",
   "metadata": {
    "tags": []
   },
   "outputs": [
    {
     "data": {
      "text/plain": [
       "<matplotlib.image.AxesImage at 0x7fd971cab190>"
      ]
     },
     "execution_count": 13,
     "metadata": {},
     "output_type": "execute_result"
    },
    {
     "data": {
      "image/png": "[encoded data removed]",
      "text/plain": [
       "<Figure size 2000x1000 with 1 Axes>"
      ]
     },
     "metadata": {},
     "output_type": "display_data"
    }
   ],
   "source": [
    "import warnings\n",
    "warnings.filterwarnings('ignore')\n",
    "plt.figure(figsize=(20, 10))\n",
    "plt.imshow(rgb_nat_norm)"
   ]
  },
  {
   "cell_type": "code",
   "execution_count": null,
   "id": "70f6a020-e74e-48df-8975-4745cdb98941",
   "metadata": {},
   "outputs": [],
   "source": []
  }
 ],
 "metadata": {
  "kernelspec": {
   "display_name": "Python 3 (ipykernel)",
   "language": "python",
   "name": "python3"
  },
  "language_info": {
   "codemirror_mode": {
    "name": "ipython",
    "version": 3
   },
   "file_extension": ".py",
   "mimetype": "text/x-python",
   "name": "python",
   "nbconvert_exporter": "python",
   "pygments_lexer": "ipython3",
   "version": "3.11.4"
  }
 },
 "nbformat": 4,
 "nbformat_minor": 5
}

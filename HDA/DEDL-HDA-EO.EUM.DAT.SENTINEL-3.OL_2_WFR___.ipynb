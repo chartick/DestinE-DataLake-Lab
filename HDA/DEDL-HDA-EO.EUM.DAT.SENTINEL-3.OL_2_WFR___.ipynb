{
 "cells": [
  {
   "cell_type": "markdown",
   "id": "a5844719-f14f-44e9-a9a5-ca7049e05561",
   "metadata": {},
   "source": [
    "# Destination Earth - OLCI Level 2 Ocean Colour Full Resolution - Sentinel-3 - Data Access using DEDL HDA\n",
    "\n",
    "[Documentation DestinE Data Lake HDA](https://destine-data-lake-docs.data.destination-earth.eu/en/latest/dedl-discovery-and-data-access/dedl-discovery-and-data-access.html)\n",
    "\n",
    "[]https://user.eumetsat.int/resources/user-guides/sentinel-3-ocean-colour-level-2-data-guide"
   ]
  },
  {
   "cell_type": "markdown",
   "id": "fd7ec70f-1291-426e-b071-0bcd6e775d81",
   "metadata": {
    "tags": []
   },
   "source": [
    "## Authenticate on DESP"
   ]
  },
  {
   "cell_type": "code",
   "execution_count": 5,
   "id": "bd98743f-d681-48db-88e9-73fe3527965c",
   "metadata": {
    "tags": []
   },
   "outputs": [],
   "source": [
    "import dedl_authentication as deauth"
   ]
  },
  {
   "cell_type": "code",
   "execution_count": 6,
   "id": "9d3461e4-fe60-4181-8335-bc2f5899df9a",
   "metadata": {
    "tags": []
   },
   "outputs": [],
   "source": [
    "import requests\n",
    "import json\n",
    "import os\n",
    "from getpass import getpass"
   ]
  },
  {
   "cell_type": "code",
   "execution_count": 8,
   "id": "b4faa6b4-2a1f-4daa-bb45-4e26bebe1e88",
   "metadata": {
    "tags": []
   },
   "outputs": [
    {
     "name": "stdin",
     "output_type": "stream",
     "text": [
      "Please input your DESP username:  eum-dedl-user\n",
      "Please input your DESP password:  ········\n"
     ]
    },
    {
     "name": "stdout",
     "output_type": "stream",
     "text": [
      "Response code: 200\n"
     ]
    }
   ],
   "source": [
    "DESP_USERNAME = input(\"Please input your DESP username: \")\n",
    "DESP_PASSWORD = getpass(\"Please input your DESP password: \")\n",
    "\n",
    "auth = deauth.AuthHandler(DESP_USERNAME, DESP_PASSWORD)\n",
    "access_token = auth.get_token()\n",
    "\n",
    "auth_headers = {\"Authorization\": f\"Bearer {access_token}\"}"
   ]
  },
  {
   "cell_type": "markdown",
   "id": "6598deb9-7371-4ab6-adda-ab3b1d114a72",
   "metadata": {},
   "source": [
    "## Search using the available search parameters for the selected collection"
   ]
  },
  {
   "cell_type": "markdown",
   "id": "db751cdf-d5ae-41a6-a8c5-05898dbdda90",
   "metadata": {},
   "source": [
    "Now, we search a product matching our filters.\n",
    "\n",
    "For this example, we search data for the [OLCI Level 2 Ocean Colour Sentinel-3](https://hda.data.destination-earth.eu/ui/dataset/EO.EUM.DAT.SENTINEL-3.OL_2_WFR___) dataset. \n",
    "\n",
    "The corresponding collection ID in HDA for this dataset is: EO.EUM.DAT.SENTINEL-3.OL_2_WFR___."
   ]
  },
  {
   "cell_type": "code",
   "execution_count": 28,
   "id": "ad834b6a-96a8-475a-8415-36c018b8fc06",
   "metadata": {
    "tags": []
   },
   "outputs": [
    {
     "data": {
      "text/plain": [
       "{'type': 'Feature',\n",
       " 'stac_version': '1.0.0',\n",
       " 'stac_extensions': ['https://stac-extensions.github.io/timestamps/v1.0.0/schema.json',\n",
       "  'https://stac-extensions.github.io/eo/v1.0.0/schema.json',\n",
       "  'https://stac-extensions.github.io/processing/v1.0.0/schema.json',\n",
       "  'https://stac-extensions.github.io/sat/v1.0.0/schema.json',\n",
       "  'https://stac-extensions.github.io/sar/v1.0.0/schema.json',\n",
       "  'https://hda.data.destination-earth.eu/stac/extensions/oseo/json-schema/schema.json'],\n",
       " 'bbox': [-180.0, 76.7634, 180.0, 89.164],\n",
       " 'collection': 'EO.EUM.DAT.SENTINEL-3.OL_2_WFR___',\n",
       " 'links': [{'rel': 'self',\n",
       "   'title': 'S3B_OL_2_WFR____20240401T001732_20240401T001905_20240402T074410_0093_091_216_1440_MAR_O_NT_003',\n",
       "   'href': 'https://hda.data.destination-earth.eu/stac/collections/EO.EUM.DAT.SENTINEL-3.OL_2_WFR___/items/S3B_OL_2_WFR____20240401T001732_20240401T001905_20240402T074410_0093_091_216_1440_MAR_O_NT_003'},\n",
       "  {'rel': 'root', 'href': 'https://hda.data.destination-earth.eu/stac/'},\n",
       "  {'rel': 'parent',\n",
       "   'title': 'EO.EUM.DAT.SENTINEL-3.OL_2_WFR___',\n",
       "   'href': 'https://hda.data.destination-earth.eu/stac/collections/EO.EUM.DAT.SENTINEL-3.OL_2_WFR___'},\n",
       "  {'rel': 'collection',\n",
       "   'title': 'EO.EUM.DAT.SENTINEL-3.OL_2_WFR___',\n",
       "   'href': 'https://hda.data.destination-earth.eu/stac/collections/EO.EUM.DAT.SENTINEL-3.OL_2_WFR___'}],\n",
       " 'assets': {'downloadLink': {'title': 'Download link',\n",
       "   'href': 'https://hda.data.destination-earth.eu/stac/collections/EO.EUM.DAT.SENTINEL-3.OL_2_WFR___/items/S3B_OL_2_WFR____20240401T001732_20240401T001905_20240402T074410_0093_091_216_1440_MAR_O_NT_003/download?provider=dedl',\n",
       "   'type': 'application/zip'},\n",
       "  'EOPMetadata.xml': {'title': 'EOPMetadata.xml',\n",
       "   'roles': ['metadata'],\n",
       "   'href': 'https://hda.data.destination-earth.eu/stac/collections/EO.EUM.DAT.SENTINEL-3.OL_2_WFR___/items/S3B_OL_2_WFR____20240401T001732_20240401T001905_20240402T074410_0093_091_216_1440_MAR_O_NT_003/download/EOPMetadata.xml?provider=dedl',\n",
       "   'type': 'text/xml',\n",
       "   'alternate': {'origin': {'title': 'Origin asset link',\n",
       "     'href': 's3://eodata/Sentinel-3/OLCI/OL_2_WFR___/2024/04/01/S3B_OL_2_WFR____20240401T001732_20240401T001905_20240402T074410_0093_091_216_1440_MAR_O_NT_003.SEN3/EOPMetadata.xml'},\n",
       "    'type': 'text/xml'}},\n",
       "  'Oa01_reflectance.nc': {'title': 'Oa01_reflectance.nc',\n",
       "   'roles': ['data'],\n",
       "   'href': 'https://hda.data.destination-earth.eu/stac/collections/EO.EUM.DAT.SENTINEL-3.OL_2_WFR___/items/S3B_OL_2_WFR____20240401T001732_20240401T001905_20240402T074410_0093_091_216_1440_MAR_O_NT_003/download/Oa01_reflectance.nc?provider=dedl',\n",
       "   'type': 'application/x-netcdf',\n",
       "   'alternate': {'origin': {'title': 'Origin asset link',\n",
       "     'href': 's3://eodata/Sentinel-3/OLCI/OL_2_WFR___/2024/04/01/S3B_OL_2_WFR____20240401T001732_20240401T001905_20240402T074410_0093_091_216_1440_MAR_O_NT_003.SEN3/Oa01_reflectance.nc'},\n",
       "    'type': 'application/x-netcdf'}},\n",
       "  'Oa02_reflectance.nc': {'title': 'Oa02_reflectance.nc',\n",
       "   'roles': ['data'],\n",
       "   'href': 'https://hda.data.destination-earth.eu/stac/collections/EO.EUM.DAT.SENTINEL-3.OL_2_WFR___/items/S3B_OL_2_WFR____20240401T001732_20240401T001905_20240402T074410_0093_091_216_1440_MAR_O_NT_003/download/Oa02_reflectance.nc?provider=dedl',\n",
       "   'type': 'application/x-netcdf',\n",
       "   'alternate': {'origin': {'title': 'Origin asset link',\n",
       "     'href': 's3://eodata/Sentinel-3/OLCI/OL_2_WFR___/2024/04/01/S3B_OL_2_WFR____20240401T001732_20240401T001905_20240402T074410_0093_091_216_1440_MAR_O_NT_003.SEN3/Oa02_reflectance.nc'},\n",
       "    'type': 'application/x-netcdf'}},\n",
       "  'Oa03_reflectance.nc': {'title': 'Oa03_reflectance.nc',\n",
       "   'roles': ['data'],\n",
       "   'href': 'https://hda.data.destination-earth.eu/stac/collections/EO.EUM.DAT.SENTINEL-3.OL_2_WFR___/items/S3B_OL_2_WFR____20240401T001732_20240401T001905_20240402T074410_0093_091_216_1440_MAR_O_NT_003/download/Oa03_reflectance.nc?provider=dedl',\n",
       "   'type': 'application/x-netcdf',\n",
       "   'alternate': {'origin': {'title': 'Origin asset link',\n",
       "     'href': 's3://eodata/Sentinel-3/OLCI/OL_2_WFR___/2024/04/01/S3B_OL_2_WFR____20240401T001732_20240401T001905_20240402T074410_0093_091_216_1440_MAR_O_NT_003.SEN3/Oa03_reflectance.nc'},\n",
       "    'type': 'application/x-netcdf'}},\n",
       "  'Oa04_reflectance.nc': {'title': 'Oa04_reflectance.nc',\n",
       "   'roles': ['data'],\n",
       "   'href': 'https://hda.data.destination-earth.eu/stac/collections/EO.EUM.DAT.SENTINEL-3.OL_2_WFR___/items/S3B_OL_2_WFR____20240401T001732_20240401T001905_20240402T074410_0093_091_216_1440_MAR_O_NT_003/download/Oa04_reflectance.nc?provider=dedl',\n",
       "   'type': 'application/x-netcdf',\n",
       "   'alternate': {'origin': {'title': 'Origin asset link',\n",
       "     'href': 's3://eodata/Sentinel-3/OLCI/OL_2_WFR___/2024/04/01/S3B_OL_2_WFR____20240401T001732_20240401T001905_20240402T074410_0093_091_216_1440_MAR_O_NT_003.SEN3/Oa04_reflectance.nc'},\n",
       "    'type': 'application/x-netcdf'}},\n",
       "  'Oa05_reflectance.nc': {'title': 'Oa05_reflectance.nc',\n",
       "   'roles': ['data'],\n",
       "   'href': 'https://hda.data.destination-earth.eu/stac/collections/EO.EUM.DAT.SENTINEL-3.OL_2_WFR___/items/S3B_OL_2_WFR____20240401T001732_20240401T001905_20240402T074410_0093_091_216_1440_MAR_O_NT_003/download/Oa05_reflectance.nc?provider=dedl',\n",
       "   'type': 'application/x-netcdf',\n",
       "   'alternate': {'origin': {'title': 'Origin asset link',\n",
       "     'href': 's3://eodata/Sentinel-3/OLCI/OL_2_WFR___/2024/04/01/S3B_OL_2_WFR____20240401T001732_20240401T001905_20240402T074410_0093_091_216_1440_MAR_O_NT_003.SEN3/Oa05_reflectance.nc'},\n",
       "    'type': 'application/x-netcdf'}},\n",
       "  'Oa06_reflectance.nc': {'title': 'Oa06_reflectance.nc',\n",
       "   'roles': ['data'],\n",
       "   'href': 'https://hda.data.destination-earth.eu/stac/collections/EO.EUM.DAT.SENTINEL-3.OL_2_WFR___/items/S3B_OL_2_WFR____20240401T001732_20240401T001905_20240402T074410_0093_091_216_1440_MAR_O_NT_003/download/Oa06_reflectance.nc?provider=dedl',\n",
       "   'type': 'application/x-netcdf',\n",
       "   'alternate': {'origin': {'title': 'Origin asset link',\n",
       "     'href': 's3://eodata/Sentinel-3/OLCI/OL_2_WFR___/2024/04/01/S3B_OL_2_WFR____20240401T001732_20240401T001905_20240402T074410_0093_091_216_1440_MAR_O_NT_003.SEN3/Oa06_reflectance.nc'},\n",
       "    'type': 'application/x-netcdf'}},\n",
       "  'Oa07_reflectance.nc': {'title': 'Oa07_reflectance.nc',\n",
       "   'roles': ['data'],\n",
       "   'href': 'https://hda.data.destination-earth.eu/stac/collections/EO.EUM.DAT.SENTINEL-3.OL_2_WFR___/items/S3B_OL_2_WFR____20240401T001732_20240401T001905_20240402T074410_0093_091_216_1440_MAR_O_NT_003/download/Oa07_reflectance.nc?provider=dedl',\n",
       "   'type': 'application/x-netcdf',\n",
       "   'alternate': {'origin': {'title': 'Origin asset link',\n",
       "     'href': 's3://eodata/Sentinel-3/OLCI/OL_2_WFR___/2024/04/01/S3B_OL_2_WFR____20240401T001732_20240401T001905_20240402T074410_0093_091_216_1440_MAR_O_NT_003.SEN3/Oa07_reflectance.nc'},\n",
       "    'type': 'application/x-netcdf'}},\n",
       "  'Oa08_reflectance.nc': {'title': 'Oa08_reflectance.nc',\n",
       "   'roles': ['data'],\n",
       "   'href': 'https://hda.data.destination-earth.eu/stac/collections/EO.EUM.DAT.SENTINEL-3.OL_2_WFR___/items/S3B_OL_2_WFR____20240401T001732_20240401T001905_20240402T074410_0093_091_216_1440_MAR_O_NT_003/download/Oa08_reflectance.nc?provider=dedl',\n",
       "   'type': 'application/x-netcdf',\n",
       "   'alternate': {'origin': {'title': 'Origin asset link',\n",
       "     'href': 's3://eodata/Sentinel-3/OLCI/OL_2_WFR___/2024/04/01/S3B_OL_2_WFR____20240401T001732_20240401T001905_20240402T074410_0093_091_216_1440_MAR_O_NT_003.SEN3/Oa08_reflectance.nc'},\n",
       "    'type': 'application/x-netcdf'}},\n",
       "  'Oa09_reflectance.nc': {'title': 'Oa09_reflectance.nc',\n",
       "   'roles': ['data'],\n",
       "   'href': 'https://hda.data.destination-earth.eu/stac/collections/EO.EUM.DAT.SENTINEL-3.OL_2_WFR___/items/S3B_OL_2_WFR____20240401T001732_20240401T001905_20240402T074410_0093_091_216_1440_MAR_O_NT_003/download/Oa09_reflectance.nc?provider=dedl',\n",
       "   'type': 'application/x-netcdf',\n",
       "   'alternate': {'origin': {'title': 'Origin asset link',\n",
       "     'href': 's3://eodata/Sentinel-3/OLCI/OL_2_WFR___/2024/04/01/S3B_OL_2_WFR____20240401T001732_20240401T001905_20240402T074410_0093_091_216_1440_MAR_O_NT_003.SEN3/Oa09_reflectance.nc'},\n",
       "    'type': 'application/x-netcdf'}},\n",
       "  'Oa10_reflectance.nc': {'title': 'Oa10_reflectance.nc',\n",
       "   'roles': ['data'],\n",
       "   'href': 'https://hda.data.destination-earth.eu/stac/collections/EO.EUM.DAT.SENTINEL-3.OL_2_WFR___/items/S3B_OL_2_WFR____20240401T001732_20240401T001905_20240402T074410_0093_091_216_1440_MAR_O_NT_003/download/Oa10_reflectance.nc?provider=dedl',\n",
       "   'type': 'application/x-netcdf',\n",
       "   'alternate': {'origin': {'title': 'Origin asset link',\n",
       "     'href': 's3://eodata/Sentinel-3/OLCI/OL_2_WFR___/2024/04/01/S3B_OL_2_WFR____20240401T001732_20240401T001905_20240402T074410_0093_091_216_1440_MAR_O_NT_003.SEN3/Oa10_reflectance.nc'},\n",
       "    'type': 'application/x-netcdf'}},\n",
       "  'Oa11_reflectance.nc': {'title': 'Oa11_reflectance.nc',\n",
       "   'roles': ['data'],\n",
       "   'href': 'https://hda.data.destination-earth.eu/stac/collections/EO.EUM.DAT.SENTINEL-3.OL_2_WFR___/items/S3B_OL_2_WFR____20240401T001732_20240401T001905_20240402T074410_0093_091_216_1440_MAR_O_NT_003/download/Oa11_reflectance.nc?provider=dedl',\n",
       "   'type': 'application/x-netcdf',\n",
       "   'alternate': {'origin': {'title': 'Origin asset link',\n",
       "     'href': 's3://eodata/Sentinel-3/OLCI/OL_2_WFR___/2024/04/01/S3B_OL_2_WFR____20240401T001732_20240401T001905_20240402T074410_0093_091_216_1440_MAR_O_NT_003.SEN3/Oa11_reflectance.nc'},\n",
       "    'type': 'application/x-netcdf'}},\n",
       "  'Oa12_reflectance.nc': {'title': 'Oa12_reflectance.nc',\n",
       "   'roles': ['data'],\n",
       "   'href': 'https://hda.data.destination-earth.eu/stac/collections/EO.EUM.DAT.SENTINEL-3.OL_2_WFR___/items/S3B_OL_2_WFR____20240401T001732_20240401T001905_20240402T074410_0093_091_216_1440_MAR_O_NT_003/download/Oa12_reflectance.nc?provider=dedl',\n",
       "   'type': 'application/x-netcdf',\n",
       "   'alternate': {'origin': {'title': 'Origin asset link',\n",
       "     'href': 's3://eodata/Sentinel-3/OLCI/OL_2_WFR___/2024/04/01/S3B_OL_2_WFR____20240401T001732_20240401T001905_20240402T074410_0093_091_216_1440_MAR_O_NT_003.SEN3/Oa12_reflectance.nc'},\n",
       "    'type': 'application/x-netcdf'}},\n",
       "  'Oa16_reflectance.nc': {'title': 'Oa16_reflectance.nc',\n",
       "   'roles': ['data'],\n",
       "   'href': 'https://hda.data.destination-earth.eu/stac/collections/EO.EUM.DAT.SENTINEL-3.OL_2_WFR___/items/S3B_OL_2_WFR____20240401T001732_20240401T001905_20240402T074410_0093_091_216_1440_MAR_O_NT_003/download/Oa16_reflectance.nc?provider=dedl',\n",
       "   'type': 'application/x-netcdf',\n",
       "   'alternate': {'origin': {'title': 'Origin asset link',\n",
       "     'href': 's3://eodata/Sentinel-3/OLCI/OL_2_WFR___/2024/04/01/S3B_OL_2_WFR____20240401T001732_20240401T001905_20240402T074410_0093_091_216_1440_MAR_O_NT_003.SEN3/Oa16_reflectance.nc'},\n",
       "    'type': 'application/x-netcdf'}},\n",
       "  'Oa17_reflectance.nc': {'title': 'Oa17_reflectance.nc',\n",
       "   'roles': ['data'],\n",
       "   'href': 'https://hda.data.destination-earth.eu/stac/collections/EO.EUM.DAT.SENTINEL-3.OL_2_WFR___/items/S3B_OL_2_WFR____20240401T001732_20240401T001905_20240402T074410_0093_091_216_1440_MAR_O_NT_003/download/Oa17_reflectance.nc?provider=dedl',\n",
       "   'type': 'application/x-netcdf',\n",
       "   'alternate': {'origin': {'title': 'Origin asset link',\n",
       "     'href': 's3://eodata/Sentinel-3/OLCI/OL_2_WFR___/2024/04/01/S3B_OL_2_WFR____20240401T001732_20240401T001905_20240402T074410_0093_091_216_1440_MAR_O_NT_003.SEN3/Oa17_reflectance.nc'},\n",
       "    'type': 'application/x-netcdf'}},\n",
       "  'Oa18_reflectance.nc': {'title': 'Oa18_reflectance.nc',\n",
       "   'roles': ['data'],\n",
       "   'href': 'https://hda.data.destination-earth.eu/stac/collections/EO.EUM.DAT.SENTINEL-3.OL_2_WFR___/items/S3B_OL_2_WFR____20240401T001732_20240401T001905_20240402T074410_0093_091_216_1440_MAR_O_NT_003/download/Oa18_reflectance.nc?provider=dedl',\n",
       "   'type': 'application/x-netcdf',\n",
       "   'alternate': {'origin': {'title': 'Origin asset link',\n",
       "     'href': 's3://eodata/Sentinel-3/OLCI/OL_2_WFR___/2024/04/01/S3B_OL_2_WFR____20240401T001732_20240401T001905_20240402T074410_0093_091_216_1440_MAR_O_NT_003.SEN3/Oa18_reflectance.nc'},\n",
       "    'type': 'application/x-netcdf'}},\n",
       "  'Oa21_reflectance.nc': {'title': 'Oa21_reflectance.nc',\n",
       "   'roles': ['data'],\n",
       "   'href': 'https://hda.data.destination-earth.eu/stac/collections/EO.EUM.DAT.SENTINEL-3.OL_2_WFR___/items/S3B_OL_2_WFR____20240401T001732_20240401T001905_20240402T074410_0093_091_216_1440_MAR_O_NT_003/download/Oa21_reflectance.nc?provider=dedl',\n",
       "   'type': 'application/x-netcdf',\n",
       "   'alternate': {'origin': {'title': 'Origin asset link',\n",
       "     'href': 's3://eodata/Sentinel-3/OLCI/OL_2_WFR___/2024/04/01/S3B_OL_2_WFR____20240401T001732_20240401T001905_20240402T074410_0093_091_216_1440_MAR_O_NT_003.SEN3/Oa21_reflectance.nc'},\n",
       "    'type': 'application/x-netcdf'}},\n",
       "  'browse.jpg': {'title': 'browse.jpg',\n",
       "   'roles': ['metadata'],\n",
       "   'href': 'https://hda.data.destination-earth.eu/stac/collections/EO.EUM.DAT.SENTINEL-3.OL_2_WFR___/items/S3B_OL_2_WFR____20240401T001732_20240401T001905_20240402T074410_0093_091_216_1440_MAR_O_NT_003/download/browse.jpg?provider=dedl',\n",
       "   'type': 'image/jpeg',\n",
       "   'alternate': {'origin': {'title': 'Origin asset link',\n",
       "     'href': 's3://eodata/Sentinel-3/OLCI/OL_2_WFR___/2024/04/01/S3B_OL_2_WFR____20240401T001732_20240401T001905_20240402T074410_0093_091_216_1440_MAR_O_NT_003.SEN3/browse.jpg'},\n",
       "    'type': 'image/jpeg'}},\n",
       "  'chl_nn.nc': {'title': 'chl_nn.nc',\n",
       "   'roles': ['data'],\n",
       "   'href': 'https://hda.data.destination-earth.eu/stac/collections/EO.EUM.DAT.SENTINEL-3.OL_2_WFR___/items/S3B_OL_2_WFR____20240401T001732_20240401T001905_20240402T074410_0093_091_216_1440_MAR_O_NT_003/download/chl_nn.nc?provider=dedl',\n",
       "   'type': 'application/x-netcdf',\n",
       "   'alternate': {'origin': {'title': 'Origin asset link',\n",
       "     'href': 's3://eodata/Sentinel-3/OLCI/OL_2_WFR___/2024/04/01/S3B_OL_2_WFR____20240401T001732_20240401T001905_20240402T074410_0093_091_216_1440_MAR_O_NT_003.SEN3/chl_nn.nc'},\n",
       "    'type': 'application/x-netcdf'}},\n",
       "  'chl_oc4me.nc': {'title': 'chl_oc4me.nc',\n",
       "   'roles': ['data'],\n",
       "   'href': 'https://hda.data.destination-earth.eu/stac/collections/EO.EUM.DAT.SENTINEL-3.OL_2_WFR___/items/S3B_OL_2_WFR____20240401T001732_20240401T001905_20240402T074410_0093_091_216_1440_MAR_O_NT_003/download/chl_oc4me.nc?provider=dedl',\n",
       "   'type': 'application/x-netcdf',\n",
       "   'alternate': {'origin': {'title': 'Origin asset link',\n",
       "     'href': 's3://eodata/Sentinel-3/OLCI/OL_2_WFR___/2024/04/01/S3B_OL_2_WFR____20240401T001732_20240401T001905_20240402T074410_0093_091_216_1440_MAR_O_NT_003.SEN3/chl_oc4me.nc'},\n",
       "    'type': 'application/x-netcdf'}},\n",
       "  'geo_coordinates.nc': {'title': 'geo_coordinates.nc',\n",
       "   'roles': ['data'],\n",
       "   'href': 'https://hda.data.destination-earth.eu/stac/collections/EO.EUM.DAT.SENTINEL-3.OL_2_WFR___/items/S3B_OL_2_WFR____20240401T001732_20240401T001905_20240402T074410_0093_091_216_1440_MAR_O_NT_003/download/geo_coordinates.nc?provider=dedl',\n",
       "   'type': 'application/x-netcdf',\n",
       "   'alternate': {'origin': {'title': 'Origin asset link',\n",
       "     'href': 's3://eodata/Sentinel-3/OLCI/OL_2_WFR___/2024/04/01/S3B_OL_2_WFR____20240401T001732_20240401T001905_20240402T074410_0093_091_216_1440_MAR_O_NT_003.SEN3/geo_coordinates.nc'},\n",
       "    'type': 'application/x-netcdf'}},\n",
       "  'instrument_data.nc': {'title': 'instrument_data.nc',\n",
       "   'roles': ['data'],\n",
       "   'href': 'https://hda.data.destination-earth.eu/stac/collections/EO.EUM.DAT.SENTINEL-3.OL_2_WFR___/items/S3B_OL_2_WFR____20240401T001732_20240401T001905_20240402T074410_0093_091_216_1440_MAR_O_NT_003/download/instrument_data.nc?provider=dedl',\n",
       "   'type': 'application/x-netcdf',\n",
       "   'alternate': {'origin': {'title': 'Origin asset link',\n",
       "     'href': 's3://eodata/Sentinel-3/OLCI/OL_2_WFR___/2024/04/01/S3B_OL_2_WFR____20240401T001732_20240401T001905_20240402T074410_0093_091_216_1440_MAR_O_NT_003.SEN3/instrument_data.nc'},\n",
       "    'type': 'application/x-netcdf'}},\n",
       "  'iop_lsd.nc': {'title': 'iop_lsd.nc',\n",
       "   'roles': ['data'],\n",
       "   'href': 'https://hda.data.destination-earth.eu/stac/collections/EO.EUM.DAT.SENTINEL-3.OL_2_WFR___/items/S3B_OL_2_WFR____20240401T001732_20240401T001905_20240402T074410_0093_091_216_1440_MAR_O_NT_003/download/iop_lsd.nc?provider=dedl',\n",
       "   'type': 'application/x-netcdf',\n",
       "   'alternate': {'origin': {'title': 'Origin asset link',\n",
       "     'href': 's3://eodata/Sentinel-3/OLCI/OL_2_WFR___/2024/04/01/S3B_OL_2_WFR____20240401T001732_20240401T001905_20240402T074410_0093_091_216_1440_MAR_O_NT_003.SEN3/iop_lsd.nc'},\n",
       "    'type': 'application/x-netcdf'}},\n",
       "  'iop_nn.nc': {'title': 'iop_nn.nc',\n",
       "   'roles': ['data'],\n",
       "   'href': 'https://hda.data.destination-earth.eu/stac/collections/EO.EUM.DAT.SENTINEL-3.OL_2_WFR___/items/S3B_OL_2_WFR____20240401T001732_20240401T001905_20240402T074410_0093_091_216_1440_MAR_O_NT_003/download/iop_nn.nc?provider=dedl',\n",
       "   'type': 'application/x-netcdf',\n",
       "   'alternate': {'origin': {'title': 'Origin asset link',\n",
       "     'href': 's3://eodata/Sentinel-3/OLCI/OL_2_WFR___/2024/04/01/S3B_OL_2_WFR____20240401T001732_20240401T001905_20240402T074410_0093_091_216_1440_MAR_O_NT_003.SEN3/iop_nn.nc'},\n",
       "    'type': 'application/x-netcdf'}},\n",
       "  'iwv.nc': {'title': 'iwv.nc',\n",
       "   'roles': ['data'],\n",
       "   'href': 'https://hda.data.destination-earth.eu/stac/collections/EO.EUM.DAT.SENTINEL-3.OL_2_WFR___/items/S3B_OL_2_WFR____20240401T001732_20240401T001905_20240402T074410_0093_091_216_1440_MAR_O_NT_003/download/iwv.nc?provider=dedl',\n",
       "   'type': 'application/x-netcdf',\n",
       "   'alternate': {'origin': {'title': 'Origin asset link',\n",
       "     'href': 's3://eodata/Sentinel-3/OLCI/OL_2_WFR___/2024/04/01/S3B_OL_2_WFR____20240401T001732_20240401T001905_20240402T074410_0093_091_216_1440_MAR_O_NT_003.SEN3/iwv.nc'},\n",
       "    'type': 'application/x-netcdf'}},\n",
       "  'manifest.xml': {'title': 'manifest.xml',\n",
       "   'roles': ['metadata'],\n",
       "   'href': 'https://hda.data.destination-earth.eu/stac/collections/EO.EUM.DAT.SENTINEL-3.OL_2_WFR___/items/S3B_OL_2_WFR____20240401T001732_20240401T001905_20240402T074410_0093_091_216_1440_MAR_O_NT_003/download/manifest.xml?provider=dedl',\n",
       "   'type': 'text/xml',\n",
       "   'alternate': {'origin': {'title': 'Origin asset link',\n",
       "     'href': 's3://eodata/Sentinel-3/OLCI/OL_2_WFR___/2024/04/01/S3B_OL_2_WFR____20240401T001732_20240401T001905_20240402T074410_0093_091_216_1440_MAR_O_NT_003.SEN3/manifest.xml'},\n",
       "    'type': 'text/xml'}},\n",
       "  'par.nc': {'title': 'par.nc',\n",
       "   'roles': ['data'],\n",
       "   'href': 'https://hda.data.destination-earth.eu/stac/collections/EO.EUM.DAT.SENTINEL-3.OL_2_WFR___/items/S3B_OL_2_WFR____20240401T001732_20240401T001905_20240402T074410_0093_091_216_1440_MAR_O_NT_003/download/par.nc?provider=dedl',\n",
       "   'type': 'application/x-netcdf',\n",
       "   'alternate': {'origin': {'title': 'Origin asset link',\n",
       "     'href': 's3://eodata/Sentinel-3/OLCI/OL_2_WFR___/2024/04/01/S3B_OL_2_WFR____20240401T001732_20240401T001905_20240402T074410_0093_091_216_1440_MAR_O_NT_003.SEN3/par.nc'},\n",
       "    'type': 'application/x-netcdf'}},\n",
       "  'tie_geo_coordinates.nc': {'title': 'tie_geo_coordinates.nc',\n",
       "   'roles': ['data'],\n",
       "   'href': 'https://hda.data.destination-earth.eu/stac/collections/EO.EUM.DAT.SENTINEL-3.OL_2_WFR___/items/S3B_OL_2_WFR____20240401T001732_20240401T001905_20240402T074410_0093_091_216_1440_MAR_O_NT_003/download/tie_geo_coordinates.nc?provider=dedl',\n",
       "   'type': 'application/x-netcdf',\n",
       "   'alternate': {'origin': {'title': 'Origin asset link',\n",
       "     'href': 's3://eodata/Sentinel-3/OLCI/OL_2_WFR___/2024/04/01/S3B_OL_2_WFR____20240401T001732_20240401T001905_20240402T074410_0093_091_216_1440_MAR_O_NT_003.SEN3/tie_geo_coordinates.nc'},\n",
       "    'type': 'application/x-netcdf'}},\n",
       "  'tie_geometries.nc': {'title': 'tie_geometries.nc',\n",
       "   'roles': ['data'],\n",
       "   'href': 'https://hda.data.destination-earth.eu/stac/collections/EO.EUM.DAT.SENTINEL-3.OL_2_WFR___/items/S3B_OL_2_WFR____20240401T001732_20240401T001905_20240402T074410_0093_091_216_1440_MAR_O_NT_003/download/tie_geometries.nc?provider=dedl',\n",
       "   'type': 'application/x-netcdf',\n",
       "   'alternate': {'origin': {'title': 'Origin asset link',\n",
       "     'href': 's3://eodata/Sentinel-3/OLCI/OL_2_WFR___/2024/04/01/S3B_OL_2_WFR____20240401T001732_20240401T001905_20240402T074410_0093_091_216_1440_MAR_O_NT_003.SEN3/tie_geometries.nc'},\n",
       "    'type': 'application/x-netcdf'}},\n",
       "  'tie_meteo.nc': {'title': 'tie_meteo.nc',\n",
       "   'roles': ['data'],\n",
       "   'href': 'https://hda.data.destination-earth.eu/stac/collections/EO.EUM.DAT.SENTINEL-3.OL_2_WFR___/items/S3B_OL_2_WFR____20240401T001732_20240401T001905_20240402T074410_0093_091_216_1440_MAR_O_NT_003/download/tie_meteo.nc?provider=dedl',\n",
       "   'type': 'application/x-netcdf',\n",
       "   'alternate': {'origin': {'title': 'Origin asset link',\n",
       "     'href': 's3://eodata/Sentinel-3/OLCI/OL_2_WFR___/2024/04/01/S3B_OL_2_WFR____20240401T001732_20240401T001905_20240402T074410_0093_091_216_1440_MAR_O_NT_003.SEN3/tie_meteo.nc'},\n",
       "    'type': 'application/x-netcdf'}},\n",
       "  'time_coordinates.nc': {'title': 'time_coordinates.nc',\n",
       "   'roles': ['data'],\n",
       "   'href': 'https://hda.data.destination-earth.eu/stac/collections/EO.EUM.DAT.SENTINEL-3.OL_2_WFR___/items/S3B_OL_2_WFR____20240401T001732_20240401T001905_20240402T074410_0093_091_216_1440_MAR_O_NT_003/download/time_coordinates.nc?provider=dedl',\n",
       "   'type': 'application/x-netcdf',\n",
       "   'alternate': {'origin': {'title': 'Origin asset link',\n",
       "     'href': 's3://eodata/Sentinel-3/OLCI/OL_2_WFR___/2024/04/01/S3B_OL_2_WFR____20240401T001732_20240401T001905_20240402T074410_0093_091_216_1440_MAR_O_NT_003.SEN3/time_coordinates.nc'},\n",
       "    'type': 'application/x-netcdf'}},\n",
       "  'trsp.nc': {'title': 'trsp.nc',\n",
       "   'roles': ['data'],\n",
       "   'href': 'https://hda.data.destination-earth.eu/stac/collections/EO.EUM.DAT.SENTINEL-3.OL_2_WFR___/items/S3B_OL_2_WFR____20240401T001732_20240401T001905_20240402T074410_0093_091_216_1440_MAR_O_NT_003/download/trsp.nc?provider=dedl',\n",
       "   'type': 'application/x-netcdf',\n",
       "   'alternate': {'origin': {'title': 'Origin asset link',\n",
       "     'href': 's3://eodata/Sentinel-3/OLCI/OL_2_WFR___/2024/04/01/S3B_OL_2_WFR____20240401T001732_20240401T001905_20240402T074410_0093_091_216_1440_MAR_O_NT_003.SEN3/trsp.nc'},\n",
       "    'type': 'application/x-netcdf'}},\n",
       "  'tsm_nn.nc': {'title': 'tsm_nn.nc',\n",
       "   'roles': ['data'],\n",
       "   'href': 'https://hda.data.destination-earth.eu/stac/collections/EO.EUM.DAT.SENTINEL-3.OL_2_WFR___/items/S3B_OL_2_WFR____20240401T001732_20240401T001905_20240402T074410_0093_091_216_1440_MAR_O_NT_003/download/tsm_nn.nc?provider=dedl',\n",
       "   'type': 'application/x-netcdf',\n",
       "   'alternate': {'origin': {'title': 'Origin asset link',\n",
       "     'href': 's3://eodata/Sentinel-3/OLCI/OL_2_WFR___/2024/04/01/S3B_OL_2_WFR____20240401T001732_20240401T001905_20240402T074410_0093_091_216_1440_MAR_O_NT_003.SEN3/tsm_nn.nc'},\n",
       "    'type': 'application/x-netcdf'}},\n",
       "  'w_aer.nc': {'title': 'w_aer.nc',\n",
       "   'roles': ['data'],\n",
       "   'href': 'https://hda.data.destination-earth.eu/stac/collections/EO.EUM.DAT.SENTINEL-3.OL_2_WFR___/items/S3B_OL_2_WFR____20240401T001732_20240401T001905_20240402T074410_0093_091_216_1440_MAR_O_NT_003/download/w_aer.nc?provider=dedl',\n",
       "   'type': 'application/x-netcdf',\n",
       "   'alternate': {'origin': {'title': 'Origin asset link',\n",
       "     'href': 's3://eodata/Sentinel-3/OLCI/OL_2_WFR___/2024/04/01/S3B_OL_2_WFR____20240401T001732_20240401T001905_20240402T074410_0093_091_216_1440_MAR_O_NT_003.SEN3/w_aer.nc'},\n",
       "    'type': 'application/x-netcdf'}},\n",
       "  'wqsf.nc': {'title': 'wqsf.nc',\n",
       "   'roles': ['data'],\n",
       "   'href': 'https://hda.data.destination-earth.eu/stac/collections/EO.EUM.DAT.SENTINEL-3.OL_2_WFR___/items/S3B_OL_2_WFR____20240401T001732_20240401T001905_20240402T074410_0093_091_216_1440_MAR_O_NT_003/download/wqsf.nc?provider=dedl',\n",
       "   'type': 'application/x-netcdf',\n",
       "   'alternate': {'origin': {'title': 'Origin asset link',\n",
       "     'href': 's3://eodata/Sentinel-3/OLCI/OL_2_WFR___/2024/04/01/S3B_OL_2_WFR____20240401T001732_20240401T001905_20240402T074410_0093_091_216_1440_MAR_O_NT_003.SEN3/wqsf.nc'},\n",
       "    'type': 'application/x-netcdf'}},\n",
       "  'xfdumanifest.xml': {'title': 'xfdumanifest.xml',\n",
       "   'roles': ['metadata'],\n",
       "   'href': 'https://hda.data.destination-earth.eu/stac/collections/EO.EUM.DAT.SENTINEL-3.OL_2_WFR___/items/S3B_OL_2_WFR____20240401T001732_20240401T001905_20240402T074410_0093_091_216_1440_MAR_O_NT_003/download/xfdumanifest.xml?provider=dedl',\n",
       "   'type': 'text/xml',\n",
       "   'alternate': {'origin': {'title': 'Origin asset link',\n",
       "     'href': 's3://eodata/Sentinel-3/OLCI/OL_2_WFR___/2024/04/01/S3B_OL_2_WFR____20240401T001732_20240401T001905_20240402T074410_0093_091_216_1440_MAR_O_NT_003.SEN3/xfdumanifest.xml'},\n",
       "    'type': 'text/xml'}}},\n",
       " 'id': 'S3B_OL_2_WFR____20240401T001732_20240401T001905_20240402T074410_0093_091_216_1440_MAR_O_NT_003',\n",
       " 'geometry': {'type': 'MultiPolygon',\n",
       "  'coordinates': [[[[-180.0, 82.32379],\n",
       "     [-177.704, 82.0893],\n",
       "     [-174.309, 81.6937],\n",
       "     [-171.27, 81.2715],\n",
       "     [-168.492, 80.8266],\n",
       "     [-165.965, 80.3647],\n",
       "     [-163.698, 79.8852],\n",
       "     [-161.619, 79.39],\n",
       "     [-159.729, 78.8832],\n",
       "     [-158.009, 78.3668],\n",
       "     [-156.43, 77.8402],\n",
       "     [-154.973, 77.3071],\n",
       "     [-153.643, 76.7634],\n",
       "     [-141.854, 77.8463],\n",
       "     [-128.438, 78.3627],\n",
       "     [-128.662, 78.9806],\n",
       "     [-128.932, 79.5972],\n",
       "     [-129.222, 80.2143],\n",
       "     [-129.547, 80.83],\n",
       "     [-129.922, 81.4469],\n",
       "     [-130.353, 82.0619],\n",
       "     [-130.846, 82.678],\n",
       "     [-131.441, 83.2933],\n",
       "     [-132.154, 83.9057],\n",
       "     [-133.033, 84.5193],\n",
       "     [-134.12, 85.1294],\n",
       "     [-135.553, 85.7377],\n",
       "     [-137.425, 86.3455],\n",
       "     [-140.036, 86.9457],\n",
       "     [-143.877, 87.5327],\n",
       "     [-150.135, 88.1069],\n",
       "     [-161.498, 88.6385],\n",
       "     [-180.0, 89.003013],\n",
       "     [-180.0, 82.32379]]],\n",
       "   [[[180.0, 89.003013],\n",
       "     [175.351, 89.0522],\n",
       "     [135.164, 89.164],\n",
       "     [142.799, 86.4744],\n",
       "     [143.474, 83.7805],\n",
       "     [149.155, 83.7555],\n",
       "     [154.783, 83.6712],\n",
       "     [160.187, 83.5266],\n",
       "     [165.286, 83.3288],\n",
       "     [170.086, 83.0803],\n",
       "     [174.523, 82.7876],\n",
       "     [178.584, 82.4558],\n",
       "     [180.0, 82.32379],\n",
       "     [180.0, 89.003013]]]]},\n",
       " 'properties': {'providers': [{'name': 'dedl',\n",
       "    'description': 'DEDL Fresh Data Pool',\n",
       "    'roles': ['host'],\n",
       "    'url': 'https://hda.data.destination-earth.eu/',\n",
       "    'priority': 1}],\n",
       "  'datetime': '2024-04-01T00:17:31.805Z',\n",
       "  'start_datetime': '2024-04-01T00:17:31.805Z',\n",
       "  'end_datetime': '2024-04-01T00:19:05.036Z',\n",
       "  'updated': '2024-04-02T08:06:15.162Z',\n",
       "  'description': 'Sentinel-3 is a constellation of two radar imaging satellites developed to support Copernicus ocean, land, atmospheric, emergency, security and cryospheric applications. Both S3A, launched in February 2016, and S3B, launched in April 2018, are part of the Copernicus Programme- the European Union’s Earth observation program, managed by the European Commission (COM) [https://www.eoportal.org/satellite-missions/copernicus-sentinel-3]. The spacecraft carries four main instruments: OLCI (Ocean and Land Colour Instrument), SLSTR (Sea and Land Surface Temperature Instrument), SRAL (SAR Radar Altimeter) and MWR (Microwave Radiometer). The SENTINEL-3 mission is jointly operated by the European Space Agency (ESA) and supported by EUMETSAT (European Organisation for the Exploitation of Meteorological Satellites) [https://sentinels.copernicus.eu/web/sentinel/missions/sentinel-3].',\n",
       "  'constellation': 'SENTINEL-3',\n",
       "  'platform': 'SENTINEL-3',\n",
       "  'instruments': ['OLCI'],\n",
       "  'gsd': 0,\n",
       "  'published': '2024-04-02T08:06:13.620Z',\n",
       "  'eo:cloud_cover': 0,\n",
       "  'eo:snow_cover': 0,\n",
       "  'processing:level': 2,\n",
       "  'sat:orbit_state': 'DESCENDING',\n",
       "  'sat:relative_orbit': 216,\n",
       "  'sat:absolute_orbit': 30903,\n",
       "  'sar:product_type': 'OL_2_WFR___',\n",
       "  'sar:instrument_mode': 'Earth Observation',\n",
       "  'oseo:accessConstraint': {'licenseId': 'unlicensed',\n",
       "   'hasToBeSigned': 'never',\n",
       "   'grantedCountries': None,\n",
       "   'grantedOrganizationCountries': None,\n",
       "   'grantedFlags': None,\n",
       "   'viewService': 'public',\n",
       "   'signatureQuota': -1,\n",
       "   'description': {'shortName': 'No license'}}}}"
      ]
     },
     "execution_count": 28,
     "metadata": {},
     "output_type": "execute_result"
    }
   ],
   "source": [
    "response = requests.post(\"https://hda.data.destination-earth.eu/stac/search\", headers=auth_headers, json={\n",
    "    \"collections\": [\"EO.EUM.DAT.SENTINEL-3.OL_2_WFR___\"],\n",
    "    \"datetime\": \"2024-04-01T00:00:00Z/2024-04-19T00:00:00Z\"\n",
    "})\n"
   ]
  },
  {
   "cell_type": "markdown",
   "id": "877a5667-7497-469b-ab0f-c6041cf084e3",
   "metadata": {},
   "source": [
    "We can have a look at the metadata of the first products returned by the search."
   ]
  },
  {
   "cell_type": "code",
   "execution_count": 29,
   "id": "cc7e1280-fa15-4f66-8a57-7016cf829261",
   "metadata": {
    "tags": []
   },
   "outputs": [
    {
     "data": {
      "application/json": {
       "assets": {
        "EOPMetadata.xml": {
         "alternate": {
          "origin": {
           "href": "s3://eodata/Sentinel-3/OLCI/OL_2_WFR___/2024/04/01/S3B_OL_2_WFR____20240401T001732_20240401T001905_20240402T074410_0093_091_216_1440_MAR_O_NT_003.SEN3/EOPMetadata.xml",
           "title": "Origin asset link"
          },
          "type": "text/xml"
         },
         "href": "https://hda.data.destination-earth.eu/stac/collections/EO.EUM.DAT.SENTINEL-3.OL_2_WFR___/items/S3B_OL_2_WFR____20240401T001732_20240401T001905_20240402T074410_0093_091_216_1440_MAR_O_NT_003/download/EOPMetadata.xml?provider=dedl",
         "roles": [
          "metadata"
         ],
         "title": "EOPMetadata.xml",
         "type": "text/xml"
        },
        "Oa01_reflectance.nc": {
         "alternate": {
          "origin": {
           "href": "s3://eodata/Sentinel-3/OLCI/OL_2_WFR___/2024/04/01/S3B_OL_2_WFR____20240401T001732_20240401T001905_20240402T074410_0093_091_216_1440_MAR_O_NT_003.SEN3/Oa01_reflectance.nc",
           "title": "Origin asset link"
          },
          "type": "application/x-netcdf"
         },
         "href": "https://hda.data.destination-earth.eu/stac/collections/EO.EUM.DAT.SENTINEL-3.OL_2_WFR___/items/S3B_OL_2_WFR____20240401T001732_20240401T001905_20240402T074410_0093_091_216_1440_MAR_O_NT_003/download/Oa01_reflectance.nc?provider=dedl",
         "roles": [
          "data"
         ],
         "title": "Oa01_reflectance.nc",
         "type": "application/x-netcdf"
        },
        "Oa02_reflectance.nc": {
         "alternate": {
          "origin": {
           "href": "s3://eodata/Sentinel-3/OLCI/OL_2_WFR___/2024/04/01/S3B_OL_2_WFR____20240401T001732_20240401T001905_20240402T074410_0093_091_216_1440_MAR_O_NT_003.SEN3/Oa02_reflectance.nc",
           "title": "Origin asset link"
          },
          "type": "application/x-netcdf"
         },
         "href": "https://hda.data.destination-earth.eu/stac/collections/EO.EUM.DAT.SENTINEL-3.OL_2_WFR___/items/S3B_OL_2_WFR____20240401T001732_20240401T001905_20240402T074410_0093_091_216_1440_MAR_O_NT_003/download/Oa02_reflectance.nc?provider=dedl",
         "roles": [
          "data"
         ],
         "title": "Oa02_reflectance.nc",
         "type": "application/x-netcdf"
        },
        "Oa03_reflectance.nc": {
         "alternate": {
          "origin": {
           "href": "s3://eodata/Sentinel-3/OLCI/OL_2_WFR___/2024/04/01/S3B_OL_2_WFR____20240401T001732_20240401T001905_20240402T074410_0093_091_216_1440_MAR_O_NT_003.SEN3/Oa03_reflectance.nc",
           "title": "Origin asset link"
          },
          "type": "application/x-netcdf"
         },
         "href": "https://hda.data.destination-earth.eu/stac/collections/EO.EUM.DAT.SENTINEL-3.OL_2_WFR___/items/S3B_OL_2_WFR____20240401T001732_20240401T001905_20240402T074410_0093_091_216_1440_MAR_O_NT_003/download/Oa03_reflectance.nc?provider=dedl",
         "roles": [
          "data"
         ],
         "title": "Oa03_reflectance.nc",
         "type": "application/x-netcdf"
        },
        "Oa04_reflectance.nc": {
         "alternate": {
          "origin": {
           "href": "s3://eodata/Sentinel-3/OLCI/OL_2_WFR___/2024/04/01/S3B_OL_2_WFR____20240401T001732_20240401T001905_20240402T074410_0093_091_216_1440_MAR_O_NT_003.SEN3/Oa04_reflectance.nc",
           "title": "Origin asset link"
          },
          "type": "application/x-netcdf"
         },
         "href": "https://hda.data.destination-earth.eu/stac/collections/EO.EUM.DAT.SENTINEL-3.OL_2_WFR___/items/S3B_OL_2_WFR____20240401T001732_20240401T001905_20240402T074410_0093_091_216_1440_MAR_O_NT_003/download/Oa04_reflectance.nc?provider=dedl",
         "roles": [
          "data"
         ],
         "title": "Oa04_reflectance.nc",
         "type": "application/x-netcdf"
        },
        "Oa05_reflectance.nc": {
         "alternate": {
          "origin": {
           "href": "s3://eodata/Sentinel-3/OLCI/OL_2_WFR___/2024/04/01/S3B_OL_2_WFR____20240401T001732_20240401T001905_20240402T074410_0093_091_216_1440_MAR_O_NT_003.SEN3/Oa05_reflectance.nc",
           "title": "Origin asset link"
          },
          "type": "application/x-netcdf"
         },
         "href": "https://hda.data.destination-earth.eu/stac/collections/EO.EUM.DAT.SENTINEL-3.OL_2_WFR___/items/S3B_OL_2_WFR____20240401T001732_20240401T001905_20240402T074410_0093_091_216_1440_MAR_O_NT_003/download/Oa05_reflectance.nc?provider=dedl",
         "roles": [
          "data"
         ],
         "title": "Oa05_reflectance.nc",
         "type": "application/x-netcdf"
        },
        "Oa06_reflectance.nc": {
         "alternate": {
          "origin": {
           "href": "s3://eodata/Sentinel-3/OLCI/OL_2_WFR___/2024/04/01/S3B_OL_2_WFR____20240401T001732_20240401T001905_20240402T074410_0093_091_216_1440_MAR_O_NT_003.SEN3/Oa06_reflectance.nc",
           "title": "Origin asset link"
          },
          "type": "application/x-netcdf"
         },
         "href": "https://hda.data.destination-earth.eu/stac/collections/EO.EUM.DAT.SENTINEL-3.OL_2_WFR___/items/S3B_OL_2_WFR____20240401T001732_20240401T001905_20240402T074410_0093_091_216_1440_MAR_O_NT_003/download/Oa06_reflectance.nc?provider=dedl",
         "roles": [
          "data"
         ],
         "title": "Oa06_reflectance.nc",
         "type": "application/x-netcdf"
        },
        "Oa07_reflectance.nc": {
         "alternate": {
          "origin": {
           "href": "s3://eodata/Sentinel-3/OLCI/OL_2_WFR___/2024/04/01/S3B_OL_2_WFR____20240401T001732_20240401T001905_20240402T074410_0093_091_216_1440_MAR_O_NT_003.SEN3/Oa07_reflectance.nc",
           "title": "Origin asset link"
          },
          "type": "application/x-netcdf"
         },
         "href": "https://hda.data.destination-earth.eu/stac/collections/EO.EUM.DAT.SENTINEL-3.OL_2_WFR___/items/S3B_OL_2_WFR____20240401T001732_20240401T001905_20240402T074410_0093_091_216_1440_MAR_O_NT_003/download/Oa07_reflectance.nc?provider=dedl",
         "roles": [
          "data"
         ],
         "title": "Oa07_reflectance.nc",
         "type": "application/x-netcdf"
        },
        "Oa08_reflectance.nc": {
         "alternate": {
          "origin": {
           "href": "s3://eodata/Sentinel-3/OLCI/OL_2_WFR___/2024/04/01/S3B_OL_2_WFR____20240401T001732_20240401T001905_20240402T074410_0093_091_216_1440_MAR_O_NT_003.SEN3/Oa08_reflectance.nc",
           "title": "Origin asset link"
          },
          "type": "application/x-netcdf"
         },
         "href": "https://hda.data.destination-earth.eu/stac/collections/EO.EUM.DAT.SENTINEL-3.OL_2_WFR___/items/S3B_OL_2_WFR____20240401T001732_20240401T001905_20240402T074410_0093_091_216_1440_MAR_O_NT_003/download/Oa08_reflectance.nc?provider=dedl",
         "roles": [
          "data"
         ],
         "title": "Oa08_reflectance.nc",
         "type": "application/x-netcdf"
        },
        "Oa09_reflectance.nc": {
         "alternate": {
          "origin": {
           "href": "s3://eodata/Sentinel-3/OLCI/OL_2_WFR___/2024/04/01/S3B_OL_2_WFR____20240401T001732_20240401T001905_20240402T074410_0093_091_216_1440_MAR_O_NT_003.SEN3/Oa09_reflectance.nc",
           "title": "Origin asset link"
          },
          "type": "application/x-netcdf"
         },
         "href": "https://hda.data.destination-earth.eu/stac/collections/EO.EUM.DAT.SENTINEL-3.OL_2_WFR___/items/S3B_OL_2_WFR____20240401T001732_20240401T001905_20240402T074410_0093_091_216_1440_MAR_O_NT_003/download/Oa09_reflectance.nc?provider=dedl",
         "roles": [
          "data"
         ],
         "title": "Oa09_reflectance.nc",
         "type": "application/x-netcdf"
        },
        "Oa10_reflectance.nc": {
         "alternate": {
          "origin": {
           "href": "s3://eodata/Sentinel-3/OLCI/OL_2_WFR___/2024/04/01/S3B_OL_2_WFR____20240401T001732_20240401T001905_20240402T074410_0093_091_216_1440_MAR_O_NT_003.SEN3/Oa10_reflectance.nc",
           "title": "Origin asset link"
          },
          "type": "application/x-netcdf"
         },
         "href": "https://hda.data.destination-earth.eu/stac/collections/EO.EUM.DAT.SENTINEL-3.OL_2_WFR___/items/S3B_OL_2_WFR____20240401T001732_20240401T001905_20240402T074410_0093_091_216_1440_MAR_O_NT_003/download/Oa10_reflectance.nc?provider=dedl",
         "roles": [
          "data"
         ],
         "title": "Oa10_reflectance.nc",
         "type": "application/x-netcdf"
        },
        "Oa11_reflectance.nc": {
         "alternate": {
          "origin": {
           "href": "s3://eodata/Sentinel-3/OLCI/OL_2_WFR___/2024/04/01/S3B_OL_2_WFR____20240401T001732_20240401T001905_20240402T074410_0093_091_216_1440_MAR_O_NT_003.SEN3/Oa11_reflectance.nc",
           "title": "Origin asset link"
          },
          "type": "application/x-netcdf"
         },
         "href": "https://hda.data.destination-earth.eu/stac/collections/EO.EUM.DAT.SENTINEL-3.OL_2_WFR___/items/S3B_OL_2_WFR____20240401T001732_20240401T001905_20240402T074410_0093_091_216_1440_MAR_O_NT_003/download/Oa11_reflectance.nc?provider=dedl",
         "roles": [
          "data"
         ],
         "title": "Oa11_reflectance.nc",
         "type": "application/x-netcdf"
        },
        "Oa12_reflectance.nc": {
         "alternate": {
          "origin": {
           "href": "s3://eodata/Sentinel-3/OLCI/OL_2_WFR___/2024/04/01/S3B_OL_2_WFR____20240401T001732_20240401T001905_20240402T074410_0093_091_216_1440_MAR_O_NT_003.SEN3/Oa12_reflectance.nc",
           "title": "Origin asset link"
          },
          "type": "application/x-netcdf"
         },
         "href": "https://hda.data.destination-earth.eu/stac/collections/EO.EUM.DAT.SENTINEL-3.OL_2_WFR___/items/S3B_OL_2_WFR____20240401T001732_20240401T001905_20240402T074410_0093_091_216_1440_MAR_O_NT_003/download/Oa12_reflectance.nc?provider=dedl",
         "roles": [
          "data"
         ],
         "title": "Oa12_reflectance.nc",
         "type": "application/x-netcdf"
        },
        "Oa16_reflectance.nc": {
         "alternate": {
          "origin": {
           "href": "s3://eodata/Sentinel-3/OLCI/OL_2_WFR___/2024/04/01/S3B_OL_2_WFR____20240401T001732_20240401T001905_20240402T074410_0093_091_216_1440_MAR_O_NT_003.SEN3/Oa16_reflectance.nc",
           "title": "Origin asset link"
          },
          "type": "application/x-netcdf"
         },
         "href": "https://hda.data.destination-earth.eu/stac/collections/EO.EUM.DAT.SENTINEL-3.OL_2_WFR___/items/S3B_OL_2_WFR____20240401T001732_20240401T001905_20240402T074410_0093_091_216_1440_MAR_O_NT_003/download/Oa16_reflectance.nc?provider=dedl",
         "roles": [
          "data"
         ],
         "title": "Oa16_reflectance.nc",
         "type": "application/x-netcdf"
        },
        "Oa17_reflectance.nc": {
         "alternate": {
          "origin": {
           "href": "s3://eodata/Sentinel-3/OLCI/OL_2_WFR___/2024/04/01/S3B_OL_2_WFR____20240401T001732_20240401T001905_20240402T074410_0093_091_216_1440_MAR_O_NT_003.SEN3/Oa17_reflectance.nc",
           "title": "Origin asset link"
          },
          "type": "application/x-netcdf"
         },
         "href": "https://hda.data.destination-earth.eu/stac/collections/EO.EUM.DAT.SENTINEL-3.OL_2_WFR___/items/S3B_OL_2_WFR____20240401T001732_20240401T001905_20240402T074410_0093_091_216_1440_MAR_O_NT_003/download/Oa17_reflectance.nc?provider=dedl",
         "roles": [
          "data"
         ],
         "title": "Oa17_reflectance.nc",
         "type": "application/x-netcdf"
        },
        "Oa18_reflectance.nc": {
         "alternate": {
          "origin": {
           "href": "s3://eodata/Sentinel-3/OLCI/OL_2_WFR___/2024/04/01/S3B_OL_2_WFR____20240401T001732_20240401T001905_20240402T074410_0093_091_216_1440_MAR_O_NT_003.SEN3/Oa18_reflectance.nc",
           "title": "Origin asset link"
          },
          "type": "application/x-netcdf"
         },
         "href": "https://hda.data.destination-earth.eu/stac/collections/EO.EUM.DAT.SENTINEL-3.OL_2_WFR___/items/S3B_OL_2_WFR____20240401T001732_20240401T001905_20240402T074410_0093_091_216_1440_MAR_O_NT_003/download/Oa18_reflectance.nc?provider=dedl",
         "roles": [
          "data"
         ],
         "title": "Oa18_reflectance.nc",
         "type": "application/x-netcdf"
        },
        "Oa21_reflectance.nc": {
         "alternate": {
          "origin": {
           "href": "s3://eodata/Sentinel-3/OLCI/OL_2_WFR___/2024/04/01/S3B_OL_2_WFR____20240401T001732_20240401T001905_20240402T074410_0093_091_216_1440_MAR_O_NT_003.SEN3/Oa21_reflectance.nc",
           "title": "Origin asset link"
          },
          "type": "application/x-netcdf"
         },
         "href": "https://hda.data.destination-earth.eu/stac/collections/EO.EUM.DAT.SENTINEL-3.OL_2_WFR___/items/S3B_OL_2_WFR____20240401T001732_20240401T001905_20240402T074410_0093_091_216_1440_MAR_O_NT_003/download/Oa21_reflectance.nc?provider=dedl",
         "roles": [
          "data"
         ],
         "title": "Oa21_reflectance.nc",
         "type": "application/x-netcdf"
        },
        "browse.jpg": {
         "alternate": {
          "origin": {
           "href": "s3://eodata/Sentinel-3/OLCI/OL_2_WFR___/2024/04/01/S3B_OL_2_WFR____20240401T001732_20240401T001905_20240402T074410_0093_091_216_1440_MAR_O_NT_003.SEN3/browse.jpg",
           "title": "Origin asset link"
          },
          "type": "image/jpeg"
         },
         "href": "https://hda.data.destination-earth.eu/stac/collections/EO.EUM.DAT.SENTINEL-3.OL_2_WFR___/items/S3B_OL_2_WFR____20240401T001732_20240401T001905_20240402T074410_0093_091_216_1440_MAR_O_NT_003/download/browse.jpg?provider=dedl",
         "roles": [
          "metadata"
         ],
         "title": "browse.jpg",
         "type": "image/jpeg"
        },
        "chl_nn.nc": {
         "alternate": {
          "origin": {
           "href": "s3://eodata/Sentinel-3/OLCI/OL_2_WFR___/2024/04/01/S3B_OL_2_WFR____20240401T001732_20240401T001905_20240402T074410_0093_091_216_1440_MAR_O_NT_003.SEN3/chl_nn.nc",
           "title": "Origin asset link"
          },
          "type": "application/x-netcdf"
         },
         "href": "https://hda.data.destination-earth.eu/stac/collections/EO.EUM.DAT.SENTINEL-3.OL_2_WFR___/items/S3B_OL_2_WFR____20240401T001732_20240401T001905_20240402T074410_0093_091_216_1440_MAR_O_NT_003/download/chl_nn.nc?provider=dedl",
         "roles": [
          "data"
         ],
         "title": "chl_nn.nc",
         "type": "application/x-netcdf"
        },
        "chl_oc4me.nc": {
         "alternate": {
          "origin": {
           "href": "s3://eodata/Sentinel-3/OLCI/OL_2_WFR___/2024/04/01/S3B_OL_2_WFR____20240401T001732_20240401T001905_20240402T074410_0093_091_216_1440_MAR_O_NT_003.SEN3/chl_oc4me.nc",
           "title": "Origin asset link"
          },
          "type": "application/x-netcdf"
         },
         "href": "https://hda.data.destination-earth.eu/stac/collections/EO.EUM.DAT.SENTINEL-3.OL_2_WFR___/items/S3B_OL_2_WFR____20240401T001732_20240401T001905_20240402T074410_0093_091_216_1440_MAR_O_NT_003/download/chl_oc4me.nc?provider=dedl",
         "roles": [
          "data"
         ],
         "title": "chl_oc4me.nc",
         "type": "application/x-netcdf"
        },
        "downloadLink": {
         "href": "https://hda.data.destination-earth.eu/stac/collections/EO.EUM.DAT.SENTINEL-3.OL_2_WFR___/items/S3B_OL_2_WFR____20240401T001732_20240401T001905_20240402T074410_0093_091_216_1440_MAR_O_NT_003/download?provider=dedl",
         "title": "Download link",
         "type": "application/zip"
        },
        "geo_coordinates.nc": {
         "alternate": {
          "origin": {
           "href": "s3://eodata/Sentinel-3/OLCI/OL_2_WFR___/2024/04/01/S3B_OL_2_WFR____20240401T001732_20240401T001905_20240402T074410_0093_091_216_1440_MAR_O_NT_003.SEN3/geo_coordinates.nc",
           "title": "Origin asset link"
          },
          "type": "application/x-netcdf"
         },
         "href": "https://hda.data.destination-earth.eu/stac/collections/EO.EUM.DAT.SENTINEL-3.OL_2_WFR___/items/S3B_OL_2_WFR____20240401T001732_20240401T001905_20240402T074410_0093_091_216_1440_MAR_O_NT_003/download/geo_coordinates.nc?provider=dedl",
         "roles": [
          "data"
         ],
         "title": "geo_coordinates.nc",
         "type": "application/x-netcdf"
        },
        "instrument_data.nc": {
         "alternate": {
          "origin": {
           "href": "s3://eodata/Sentinel-3/OLCI/OL_2_WFR___/2024/04/01/S3B_OL_2_WFR____20240401T001732_20240401T001905_20240402T074410_0093_091_216_1440_MAR_O_NT_003.SEN3/instrument_data.nc",
           "title": "Origin asset link"
          },
          "type": "application/x-netcdf"
         },
         "href": "https://hda.data.destination-earth.eu/stac/collections/EO.EUM.DAT.SENTINEL-3.OL_2_WFR___/items/S3B_OL_2_WFR____20240401T001732_20240401T001905_20240402T074410_0093_091_216_1440_MAR_O_NT_003/download/instrument_data.nc?provider=dedl",
         "roles": [
          "data"
         ],
         "title": "instrument_data.nc",
         "type": "application/x-netcdf"
        },
        "iop_lsd.nc": {
         "alternate": {
          "origin": {
           "href": "s3://eodata/Sentinel-3/OLCI/OL_2_WFR___/2024/04/01/S3B_OL_2_WFR____20240401T001732_20240401T001905_20240402T074410_0093_091_216_1440_MAR_O_NT_003.SEN3/iop_lsd.nc",
           "title": "Origin asset link"
          },
          "type": "application/x-netcdf"
         },
         "href": "https://hda.data.destination-earth.eu/stac/collections/EO.EUM.DAT.SENTINEL-3.OL_2_WFR___/items/S3B_OL_2_WFR____20240401T001732_20240401T001905_20240402T074410_0093_091_216_1440_MAR_O_NT_003/download/iop_lsd.nc?provider=dedl",
         "roles": [
          "data"
         ],
         "title": "iop_lsd.nc",
         "type": "application/x-netcdf"
        },
        "iop_nn.nc": {
         "alternate": {
          "origin": {
           "href": "s3://eodata/Sentinel-3/OLCI/OL_2_WFR___/2024/04/01/S3B_OL_2_WFR____20240401T001732_20240401T001905_20240402T074410_0093_091_216_1440_MAR_O_NT_003.SEN3/iop_nn.nc",
           "title": "Origin asset link"
          },
          "type": "application/x-netcdf"
         },
         "href": "https://hda.data.destination-earth.eu/stac/collections/EO.EUM.DAT.SENTINEL-3.OL_2_WFR___/items/S3B_OL_2_WFR____20240401T001732_20240401T001905_20240402T074410_0093_091_216_1440_MAR_O_NT_003/download/iop_nn.nc?provider=dedl",
         "roles": [
          "data"
         ],
         "title": "iop_nn.nc",
         "type": "application/x-netcdf"
        },
        "iwv.nc": {
         "alternate": {
          "origin": {
           "href": "s3://eodata/Sentinel-3/OLCI/OL_2_WFR___/2024/04/01/S3B_OL_2_WFR____20240401T001732_20240401T001905_20240402T074410_0093_091_216_1440_MAR_O_NT_003.SEN3/iwv.nc",
           "title": "Origin asset link"
          },
          "type": "application/x-netcdf"
         },
         "href": "https://hda.data.destination-earth.eu/stac/collections/EO.EUM.DAT.SENTINEL-3.OL_2_WFR___/items/S3B_OL_2_WFR____20240401T001732_20240401T001905_20240402T074410_0093_091_216_1440_MAR_O_NT_003/download/iwv.nc?provider=dedl",
         "roles": [
          "data"
         ],
         "title": "iwv.nc",
         "type": "application/x-netcdf"
        },
        "manifest.xml": {
         "alternate": {
          "origin": {
           "href": "s3://eodata/Sentinel-3/OLCI/OL_2_WFR___/2024/04/01/S3B_OL_2_WFR____20240401T001732_20240401T001905_20240402T074410_0093_091_216_1440_MAR_O_NT_003.SEN3/manifest.xml",
           "title": "Origin asset link"
          },
          "type": "text/xml"
         },
         "href": "https://hda.data.destination-earth.eu/stac/collections/EO.EUM.DAT.SENTINEL-3.OL_2_WFR___/items/S3B_OL_2_WFR____20240401T001732_20240401T001905_20240402T074410_0093_091_216_1440_MAR_O_NT_003/download/manifest.xml?provider=dedl",
         "roles": [
          "metadata"
         ],
         "title": "manifest.xml",
         "type": "text/xml"
        },
        "par.nc": {
         "alternate": {
          "origin": {
           "href": "s3://eodata/Sentinel-3/OLCI/OL_2_WFR___/2024/04/01/S3B_OL_2_WFR____20240401T001732_20240401T001905_20240402T074410_0093_091_216_1440_MAR_O_NT_003.SEN3/par.nc",
           "title": "Origin asset link"
          },
          "type": "application/x-netcdf"
         },
         "href": "https://hda.data.destination-earth.eu/stac/collections/EO.EUM.DAT.SENTINEL-3.OL_2_WFR___/items/S3B_OL_2_WFR____20240401T001732_20240401T001905_20240402T074410_0093_091_216_1440_MAR_O_NT_003/download/par.nc?provider=dedl",
         "roles": [
          "data"
         ],
         "title": "par.nc",
         "type": "application/x-netcdf"
        },
        "tie_geo_coordinates.nc": {
         "alternate": {
          "origin": {
           "href": "s3://eodata/Sentinel-3/OLCI/OL_2_WFR___/2024/04/01/S3B_OL_2_WFR____20240401T001732_20240401T001905_20240402T074410_0093_091_216_1440_MAR_O_NT_003.SEN3/tie_geo_coordinates.nc",
           "title": "Origin asset link"
          },
          "type": "application/x-netcdf"
         },
         "href": "https://hda.data.destination-earth.eu/stac/collections/EO.EUM.DAT.SENTINEL-3.OL_2_WFR___/items/S3B_OL_2_WFR____20240401T001732_20240401T001905_20240402T074410_0093_091_216_1440_MAR_O_NT_003/download/tie_geo_coordinates.nc?provider=dedl",
         "roles": [
          "data"
         ],
         "title": "tie_geo_coordinates.nc",
         "type": "application/x-netcdf"
        },
        "tie_geometries.nc": {
         "alternate": {
          "origin": {
           "href": "s3://eodata/Sentinel-3/OLCI/OL_2_WFR___/2024/04/01/S3B_OL_2_WFR____20240401T001732_20240401T001905_20240402T074410_0093_091_216_1440_MAR_O_NT_003.SEN3/tie_geometries.nc",
           "title": "Origin asset link"
          },
          "type": "application/x-netcdf"
         },
         "href": "https://hda.data.destination-earth.eu/stac/collections/EO.EUM.DAT.SENTINEL-3.OL_2_WFR___/items/S3B_OL_2_WFR____20240401T001732_20240401T001905_20240402T074410_0093_091_216_1440_MAR_O_NT_003/download/tie_geometries.nc?provider=dedl",
         "roles": [
          "data"
         ],
         "title": "tie_geometries.nc",
         "type": "application/x-netcdf"
        },
        "tie_meteo.nc": {
         "alternate": {
          "origin": {
           "href": "s3://eodata/Sentinel-3/OLCI/OL_2_WFR___/2024/04/01/S3B_OL_2_WFR____20240401T001732_20240401T001905_20240402T074410_0093_091_216_1440_MAR_O_NT_003.SEN3/tie_meteo.nc",
           "title": "Origin asset link"
          },
          "type": "application/x-netcdf"
         },
         "href": "https://hda.data.destination-earth.eu/stac/collections/EO.EUM.DAT.SENTINEL-3.OL_2_WFR___/items/S3B_OL_2_WFR____20240401T001732_20240401T001905_20240402T074410_0093_091_216_1440_MAR_O_NT_003/download/tie_meteo.nc?provider=dedl",
         "roles": [
          "data"
         ],
         "title": "tie_meteo.nc",
         "type": "application/x-netcdf"
        },
        "time_coordinates.nc": {
         "alternate": {
          "origin": {
           "href": "s3://eodata/Sentinel-3/OLCI/OL_2_WFR___/2024/04/01/S3B_OL_2_WFR____20240401T001732_20240401T001905_20240402T074410_0093_091_216_1440_MAR_O_NT_003.SEN3/time_coordinates.nc",
           "title": "Origin asset link"
          },
          "type": "application/x-netcdf"
         },
         "href": "https://hda.data.destination-earth.eu/stac/collections/EO.EUM.DAT.SENTINEL-3.OL_2_WFR___/items/S3B_OL_2_WFR____20240401T001732_20240401T001905_20240402T074410_0093_091_216_1440_MAR_O_NT_003/download/time_coordinates.nc?provider=dedl",
         "roles": [
          "data"
         ],
         "title": "time_coordinates.nc",
         "type": "application/x-netcdf"
        },
        "trsp.nc": {
         "alternate": {
          "origin": {
           "href": "s3://eodata/Sentinel-3/OLCI/OL_2_WFR___/2024/04/01/S3B_OL_2_WFR____20240401T001732_20240401T001905_20240402T074410_0093_091_216_1440_MAR_O_NT_003.SEN3/trsp.nc",
           "title": "Origin asset link"
          },
          "type": "application/x-netcdf"
         },
         "href": "https://hda.data.destination-earth.eu/stac/collections/EO.EUM.DAT.SENTINEL-3.OL_2_WFR___/items/S3B_OL_2_WFR____20240401T001732_20240401T001905_20240402T074410_0093_091_216_1440_MAR_O_NT_003/download/trsp.nc?provider=dedl",
         "roles": [
          "data"
         ],
         "title": "trsp.nc",
         "type": "application/x-netcdf"
        },
        "tsm_nn.nc": {
         "alternate": {
          "origin": {
           "href": "s3://eodata/Sentinel-3/OLCI/OL_2_WFR___/2024/04/01/S3B_OL_2_WFR____20240401T001732_20240401T001905_20240402T074410_0093_091_216_1440_MAR_O_NT_003.SEN3/tsm_nn.nc",
           "title": "Origin asset link"
          },
          "type": "application/x-netcdf"
         },
         "href": "https://hda.data.destination-earth.eu/stac/collections/EO.EUM.DAT.SENTINEL-3.OL_2_WFR___/items/S3B_OL_2_WFR____20240401T001732_20240401T001905_20240402T074410_0093_091_216_1440_MAR_O_NT_003/download/tsm_nn.nc?provider=dedl",
         "roles": [
          "data"
         ],
         "title": "tsm_nn.nc",
         "type": "application/x-netcdf"
        },
        "w_aer.nc": {
         "alternate": {
          "origin": {
           "href": "s3://eodata/Sentinel-3/OLCI/OL_2_WFR___/2024/04/01/S3B_OL_2_WFR____20240401T001732_20240401T001905_20240402T074410_0093_091_216_1440_MAR_O_NT_003.SEN3/w_aer.nc",
           "title": "Origin asset link"
          },
          "type": "application/x-netcdf"
         },
         "href": "https://hda.data.destination-earth.eu/stac/collections/EO.EUM.DAT.SENTINEL-3.OL_2_WFR___/items/S3B_OL_2_WFR____20240401T001732_20240401T001905_20240402T074410_0093_091_216_1440_MAR_O_NT_003/download/w_aer.nc?provider=dedl",
         "roles": [
          "data"
         ],
         "title": "w_aer.nc",
         "type": "application/x-netcdf"
        },
        "wqsf.nc": {
         "alternate": {
          "origin": {
           "href": "s3://eodata/Sentinel-3/OLCI/OL_2_WFR___/2024/04/01/S3B_OL_2_WFR____20240401T001732_20240401T001905_20240402T074410_0093_091_216_1440_MAR_O_NT_003.SEN3/wqsf.nc",
           "title": "Origin asset link"
          },
          "type": "application/x-netcdf"
         },
         "href": "https://hda.data.destination-earth.eu/stac/collections/EO.EUM.DAT.SENTINEL-3.OL_2_WFR___/items/S3B_OL_2_WFR____20240401T001732_20240401T001905_20240402T074410_0093_091_216_1440_MAR_O_NT_003/download/wqsf.nc?provider=dedl",
         "roles": [
          "data"
         ],
         "title": "wqsf.nc",
         "type": "application/x-netcdf"
        },
        "xfdumanifest.xml": {
         "alternate": {
          "origin": {
           "href": "s3://eodata/Sentinel-3/OLCI/OL_2_WFR___/2024/04/01/S3B_OL_2_WFR____20240401T001732_20240401T001905_20240402T074410_0093_091_216_1440_MAR_O_NT_003.SEN3/xfdumanifest.xml",
           "title": "Origin asset link"
          },
          "type": "text/xml"
         },
         "href": "https://hda.data.destination-earth.eu/stac/collections/EO.EUM.DAT.SENTINEL-3.OL_2_WFR___/items/S3B_OL_2_WFR____20240401T001732_20240401T001905_20240402T074410_0093_091_216_1440_MAR_O_NT_003/download/xfdumanifest.xml?provider=dedl",
         "roles": [
          "metadata"
         ],
         "title": "xfdumanifest.xml",
         "type": "text/xml"
        }
       },
       "bbox": [
        -180,
        76.7634,
        180,
        89.164
       ],
       "collection": "EO.EUM.DAT.SENTINEL-3.OL_2_WFR___",
       "geometry": {
        "coordinates": [
         [
          [
           [
            -180,
            82.32379
           ],
           [
            -177.704,
            82.0893
           ],
           [
            -174.309,
            81.6937
           ],
           [
            -171.27,
            81.2715
           ],
           [
            -168.492,
            80.8266
           ],
           [
            -165.965,
            80.3647
           ],
           [
            -163.698,
            79.8852
           ],
           [
            -161.619,
            79.39
           ],
           [
            -159.729,
            78.8832
           ],
           [
            -158.009,
            78.3668
           ],
           [
            -156.43,
            77.8402
           ],
           [
            -154.973,
            77.3071
           ],
           [
            -153.643,
            76.7634
           ],
           [
            -141.854,
            77.8463
           ],
           [
            -128.438,
            78.3627
           ],
           [
            -128.662,
            78.9806
           ],
           [
            -128.932,
            79.5972
           ],
           [
            -129.222,
            80.2143
           ],
           [
            -129.547,
            80.83
           ],
           [
            -129.922,
            81.4469
           ],
           [
            -130.353,
            82.0619
           ],
           [
            -130.846,
            82.678
           ],
           [
            -131.441,
            83.2933
           ],
           [
            -132.154,
            83.9057
           ],
           [
            -133.033,
            84.5193
           ],
           [
            -134.12,
            85.1294
           ],
           [
            -135.553,
            85.7377
           ],
           [
            -137.425,
            86.3455
           ],
           [
            -140.036,
            86.9457
           ],
           [
            -143.877,
            87.5327
           ],
           [
            -150.135,
            88.1069
           ],
           [
            -161.498,
            88.6385
           ],
           [
            -180,
            89.003013
           ],
           [
            -180,
            82.32379
           ]
          ]
         ],
         [
          [
           [
            180,
            89.003013
           ],
           [
            175.351,
            89.0522
           ],
           [
            135.164,
            89.164
           ],
           [
            142.799,
            86.4744
           ],
           [
            143.474,
            83.7805
           ],
           [
            149.155,
            83.7555
           ],
           [
            154.783,
            83.6712
           ],
           [
            160.187,
            83.5266
           ],
           [
            165.286,
            83.3288
           ],
           [
            170.086,
            83.0803
           ],
           [
            174.523,
            82.7876
           ],
           [
            178.584,
            82.4558
           ],
           [
            180,
            82.32379
           ],
           [
            180,
            89.003013
           ]
          ]
         ]
        ],
        "type": "MultiPolygon"
       },
       "id": "S3B_OL_2_WFR____20240401T001732_20240401T001905_20240402T074410_0093_091_216_1440_MAR_O_NT_003",
       "links": [
        {
         "href": "https://hda.data.destination-earth.eu/stac/collections/EO.EUM.DAT.SENTINEL-3.OL_2_WFR___/items/S3B_OL_2_WFR____20240401T001732_20240401T001905_20240402T074410_0093_091_216_1440_MAR_O_NT_003",
         "rel": "self",
         "title": "S3B_OL_2_WFR____20240401T001732_20240401T001905_20240402T074410_0093_091_216_1440_MAR_O_NT_003"
        },
        {
         "href": "https://hda.data.destination-earth.eu/stac/",
         "rel": "root"
        },
        {
         "href": "https://hda.data.destination-earth.eu/stac/collections/EO.EUM.DAT.SENTINEL-3.OL_2_WFR___",
         "rel": "parent",
         "title": "EO.EUM.DAT.SENTINEL-3.OL_2_WFR___"
        },
        {
         "href": "https://hda.data.destination-earth.eu/stac/collections/EO.EUM.DAT.SENTINEL-3.OL_2_WFR___",
         "rel": "collection",
         "title": "EO.EUM.DAT.SENTINEL-3.OL_2_WFR___"
        }
       ],
       "properties": {
        "constellation": "SENTINEL-3",
        "datetime": "2024-04-01T00:17:31.805Z",
        "description": "Sentinel-3 is a constellation of two radar imaging satellites developed to support Copernicus ocean, land, atmospheric, emergency, security and cryospheric applications. Both S3A, launched in February 2016, and S3B, launched in April 2018, are part of the Copernicus Programme- the European Union’s Earth observation program, managed by the European Commission (COM) [https://www.eoportal.org/satellite-missions/copernicus-sentinel-3]. The spacecraft carries four main instruments: OLCI (Ocean and Land Colour Instrument), SLSTR (Sea and Land Surface Temperature Instrument), SRAL (SAR Radar Altimeter) and MWR (Microwave Radiometer). The SENTINEL-3 mission is jointly operated by the European Space Agency (ESA) and supported by EUMETSAT (European Organisation for the Exploitation of Meteorological Satellites) [https://sentinels.copernicus.eu/web/sentinel/missions/sentinel-3].",
        "end_datetime": "2024-04-01T00:19:05.036Z",
        "eo:cloud_cover": 0,
        "eo:snow_cover": 0,
        "gsd": 0,
        "instruments": [
         "OLCI"
        ],
        "oseo:accessConstraint": {
         "description": {
          "shortName": "No license"
         },
         "grantedCountries": null,
         "grantedFlags": null,
         "grantedOrganizationCountries": null,
         "hasToBeSigned": "never",
         "licenseId": "unlicensed",
         "signatureQuota": -1,
         "viewService": "public"
        },
        "platform": "SENTINEL-3",
        "processing:level": 2,
        "providers": [
         {
          "description": "DEDL Fresh Data Pool",
          "name": "dedl",
          "priority": 1,
          "roles": [
           "host"
          ],
          "url": "https://hda.data.destination-earth.eu/"
         }
        ],
        "published": "2024-04-02T08:06:13.620Z",
        "sar:instrument_mode": "Earth Observation",
        "sar:product_type": "OL_2_WFR___",
        "sat:absolute_orbit": 30903,
        "sat:orbit_state": "DESCENDING",
        "sat:relative_orbit": 216,
        "start_datetime": "2024-04-01T00:17:31.805Z",
        "updated": "2024-04-02T08:06:15.162Z"
       },
       "stac_extensions": [
        "https://stac-extensions.github.io/timestamps/v1.0.0/schema.json",
        "https://stac-extensions.github.io/eo/v1.0.0/schema.json",
        "https://stac-extensions.github.io/processing/v1.0.0/schema.json",
        "https://stac-extensions.github.io/sat/v1.0.0/schema.json",
        "https://stac-extensions.github.io/sar/v1.0.0/schema.json",
        "https://hda.data.destination-earth.eu/stac/extensions/oseo/json-schema/schema.json"
       ],
       "stac_version": "1.0.0",
       "type": "Feature"
      },
      "text/plain": [
       "<IPython.core.display.JSON object>"
      ]
     },
     "execution_count": 29,
     "metadata": {
      "application/json": {
       "expanded": true,
       "root": "root"
      }
     },
     "output_type": "execute_result"
    }
   ],
   "source": [
    "from IPython.display import JSON\n",
    "\n",
    "product = response.json()[\"features\"][0]\n",
    "JSON(product, expanded=True)"
   ]
  },
  {
   "cell_type": "markdown",
   "id": "565f3862-7ba2-4971-bf66-e6171fcf4d30",
   "metadata": {},
   "source": [
    "### Download the product found"
   ]
  },
  {
   "cell_type": "code",
   "execution_count": null,
   "id": "fc08ec47-d53e-43b2-adb5-cf65387a9319",
   "metadata": {},
   "outputs": [],
   "source": []
  }
 ],
 "metadata": {
  "kernelspec": {
   "display_name": "Python 3 (ipykernel)",
   "language": "python",
   "name": "python3"
  },
  "language_info": {
   "codemirror_mode": {
    "name": "ipython",
    "version": 3
   },
   "file_extension": ".py",
   "mimetype": "text/x-python",
   "name": "python",
   "nbconvert_exporter": "python",
   "pygments_lexer": "ipython3",
   "version": "3.11.4"
  }
 },
 "nbformat": 4,
 "nbformat_minor": 5
}

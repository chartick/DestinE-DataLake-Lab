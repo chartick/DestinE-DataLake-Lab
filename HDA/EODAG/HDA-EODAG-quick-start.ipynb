{
 "cells": [
  {
   "cell_type": "markdown",
   "id": "a7087d07-483a-4f6d-b2e5-814409692a60",
   "metadata": {
    "tags": []
   },
   "source": [
    "![](https://github.com/destination-earth/DestinE-DataLake-Lab/blob/main/img/DestinE-banner.jpg?raw=true)"
   ]
  },
  {
   "cell_type": "markdown",
   "id": "6d49d742-a473-43d5-aab0-4f0dfb0bcfa2",
   "metadata": {},
   "source": [
    "\n",
    "\n",
    "# DEDL - EODAG - A quick start with DEDL "
   ]
  },
  {
   "cell_type": "markdown",
   "id": "36476d50",
   "metadata": {},
   "source": [
    "<br> Author: EUMETSAT </br>"
   ]
  },
  {
   "cell_type": "markdown",
   "id": "2624d113",
   "metadata": {},
   "source": [
    "<div class=\"alert alert-block alert-success\">\n",
    "<h3>How to use EODAG to search and access DEDL data - quick start </h3> \n",
    "EODAG is a command line tool and a Python package for searching and downloading earth observation data via a unified API. \n",
    "\n",
    "This quickstart is to help get DEDL data using EODAG.\n",
    "\n",
    "Detailed information about the usage of EODAG can be found on the <a href=\"https://eodag.readthedocs.io/en/stable/index.html\">project documentation page</a>.\n",
    "</div>\n",
    "\n",
    "Throughout this quickstart notebook, you will learn:\n",
    "\n",
    "1. [Setup](#Setup): How to configure *EODAG* to use the provider *DEDL*.\n",
    "2. [Discover](#Discover): How to discover *DEDL* datasets through EODAG. \n",
    "3. [Search products](#EOSearch):  How to search *DEDL* data through EODAG.\n",
    "4. [Download products](#EODownload): How to download *DEDL* data through EODAG.\n",
    "\n",
    "The complete guide on how to use EODAG Python API is available via https://eodag.readthedocs.io/en/stable/api_user_guide.html."
   ]
  },
  {
   "cell_type": "markdown",
   "id": "1fb01f5a",
   "metadata": {},
   "source": [
    "<div class=\"alert alert-block alert-warning\">\n",
    "<b> Prequisites: </b>\n",
    "<li> Search and download dedl products : <a href=\"https://platform.destine.eu/\"> DestinE user account</a> </li>\n",
    "</div>"
   ]
  },
  {
   "cell_type": "markdown",
   "id": "af62c175",
   "metadata": {
    "tags": []
   },
   "source": [
    "## Setup\n",
    "In this section, we set:\n",
    "- The output_dir, the directory where to store downloaded products.\n",
    "- The DEDL credentials, you'll be asked to enter your DEDL credentials.\n",
    "- The search timeout, it is of 60 seconds to avoid any unexpected errors because of long running search queries. \n",
    "- The dedl provider priority, it is of 10, lower value means lower priority."
   ]
  },
  {
   "cell_type": "code",
   "execution_count": 13,
   "id": "6f12416e",
   "metadata": {
    "tags": []
   },
   "outputs": [
    {
     "name": "stdin",
     "output_type": "stream",
     "text": [
      "Please input your DESP username or email:  eum-dedl-user\n",
      "Please input your DESP password:  ········\n"
     ]
    }
   ],
   "source": [
    "import os\n",
    "from getpass import getpass\n",
    "\n",
    "workspace = 'eodag_workspace'\n",
    "if not os.path.isdir(workspace):\n",
    "    os.mkdir(workspace)\n",
    "    \n",
    "#os.environ[\"EODAG__DEDL__DOWNLOAD__OUTPUT_DIR\"] = os.path.abspath(workspace)\n",
    "os.environ[\"EODAG__DEDL__DOWNLOAD__OUTPUTS_PREFIX\"] = os.path.abspath(workspace)\n",
    "\n",
    "os.environ[\"EODAG__DEDL__PRIORITY\"]=\"10\"\n",
    "os.environ[\"EODAG__DEDL__SEARCH__TIMEOUT\"]=\"60\"\n",
    "\n",
    "\n",
    "DESP_USERNAME = input(\"Please input your DESP username or email: \")\n",
    "DESP_PASSWORD = getpass(\"Please input your DESP password: \")\n"
   ]
  },
  {
   "cell_type": "code",
   "execution_count": 14,
   "id": "d8165cfe-8294-4574-b443-5e9ba3f89342",
   "metadata": {
    "tags": []
   },
   "outputs": [],
   "source": [
    "\n",
    "os.environ[\"EODAG__DEDL__AUTH__CREDENTIALS__USERNAME\"]=DESP_USERNAME\n",
    "os.environ[\"EODAG__DEDL__AUTH__CREDENTIALS__PASSWORD\"]=DESP_PASSWORD\n"
   ]
  },
  {
   "cell_type": "markdown",
   "id": "a1141f02",
   "metadata": {
    "tags": []
   },
   "source": [
    "## Discover\n",
    "\n",
    "We now need to import the EODataAccessGateway class in order to discover the available DEDL collections.\n",
    "\n",
    "Collections are presented in a dropdown menu, selecting a collection its description will be prompted."
   ]
  },
  {
   "cell_type": "code",
   "execution_count": 15,
   "id": "2d084166-dbd5-4258-9b45-76d86069045f",
   "metadata": {
    "tags": []
   },
   "outputs": [],
   "source": [
    "\n",
    "from eodag import EODataAccessGateway, setup_logging\n",
    "dag = EODataAccessGateway()\n",
    "\n",
    "setup_logging(1)"
   ]
  },
  {
   "cell_type": "code",
   "execution_count": 16,
   "id": "bfcb86d5-878e-4171-82af-605707cf19ef",
   "metadata": {
    "tags": []
   },
   "outputs": [
    {
     "data": {
      "application/vnd.jupyter.widget-view+json": {
       "model_id": "bd2ceba7537d4747a2de839c85a733b4",
       "version_major": 2,
       "version_minor": 0
      },
      "text/plain": [
       "Box(children=(Dropdown(description='Datasets:', options=('EO.CLMS.DAT.CORINE', 'EO.CLMS.DAT.GLO.DMP300_V1', 'E…"
      ]
     },
     "metadata": {},
     "output_type": "display_data"
    }
   ],
   "source": [
    "import ipywidgets as widgets\n",
    "from IPython.display import display, clear_output, HTML\n",
    "from ipywidgets import Layout, Box\n",
    "import json\n",
    "\n",
    "#default values\n",
    "\n",
    "DATASET_ID = 'EO.CLMS.DAT.CORINE'\n",
    "\n",
    "\n",
    "# Event listeners\n",
    "def on_change(change):\n",
    "    with output_area:\n",
    "        clear_output()\n",
    "        print(f'Selected: {change[\"new\"]}')\n",
    "        print('---------------------------------------------')\n",
    "        delimiter=''\n",
    "        global DATASET_ID\n",
    "        DATASET_ID = delimiter.join(change[\"new\"])\n",
    "        product_types=dag.list_product_types(\"dedl\")\n",
    "        index = next((i for i, d in enumerate(product_types) if d.get('ID') == DATASET_ID), None)\n",
    "        \n",
    "        print(\"TITLE: \"+product_types[index]['title'])\n",
    "        print(\"ABSTRACT: \"+product_types[index]['abstract'])\n",
    "        print(\"KEYWORDS: \"+product_types[index]['abstract'])\n",
    "\n",
    "options=[product_type[\"ID\"] for product_type in dag.list_product_types(\"dedl\")]\n",
    "\n",
    "# Widgets\n",
    "output_area = widgets.Output()\n",
    "\n",
    "dropdown = widgets.Dropdown(\n",
    "    options=options,\n",
    "    value=options[0],\n",
    "    description=\"Datasets:\",\n",
    "    disabled=False,\n",
    ") \n",
    "\n",
    "dropdown.observe(on_change, names='value')\n",
    "\n",
    "\n",
    "# Layout\n",
    "# Define the layout for the dropdown\n",
    "dropdown_layout = Layout(display='space-between', justify_content='center', width='80%')\n",
    "# Create a box to hold the dropdown with the specified layout\n",
    "box = Box([dropdown, output_area], layout=dropdown_layout)\n",
    "display( box)  \n"
   ]
  },
  {
   "cell_type": "markdown",
   "id": "a6b12a10-37c5-4f9d-aded-213bcb8eec57",
   "metadata": {},
   "source": [
    "## EOSearch\n",
    "\n",
    "Once we selected our dataset of interest, we can define the search criteria to find data inside the chosen dataset."
   ]
  },
  {
   "cell_type": "markdown",
   "id": "655622e7-41e5-46aa-9a65-b30d4021bfe4",
   "metadata": {},
   "source": [
    "Select bbox, start and end date to use in the search:"
   ]
  },
  {
   "cell_type": "code",
   "execution_count": 17,
   "id": "342bdccf-d5de-4216-9c7c-2272e4b83864",
   "metadata": {
    "tags": []
   },
   "outputs": [
    {
     "data": {
      "application/vnd.jupyter.widget-view+json": {
       "model_id": "155eb62416954085955a46b86edf2c08",
       "version_major": 2,
       "version_minor": 0
      },
      "text/plain": [
       "interactive(children=(FloatText(value=37.0, description='SW Latitude:'), FloatText(value=14.0, description='SW…"
      ]
     },
     "metadata": {},
     "output_type": "display_data"
    },
    {
     "data": {
      "application/vnd.jupyter.widget-view+json": {
       "model_id": "888f8cc4fbce44ea9c63c1f7267221ac",
       "version_major": 2,
       "version_minor": 0
      },
      "text/plain": [
       "VBox(children=(Button(description='Save BBox', style=ButtonStyle()), Output(), DatePicker(value=datetime.date(…"
      ]
     },
     "metadata": {},
     "output_type": "display_data"
    }
   ],
   "source": [
    "# Import necessary libraries\n",
    "import folium, datetime\n",
    "from ipywidgets import interactive, HBox, VBox, FloatText, Button, Label\n",
    "\n",
    "#default values\n",
    "\n",
    "START_DATE = '2024-08-12'\n",
    "END_DATE = '2024-08-13'\n",
    "\n",
    "sw_lat = 37.0\n",
    "sw_lng = 14.0\n",
    "ne_lat = 38.0\n",
    "ne_lng = 16.0\n",
    "\n",
    "#functions to handle the chosen values\n",
    "def on_date_change(change):\n",
    "    with output_area:\n",
    "        clear_output()\n",
    "        global START_DATE\n",
    "        global END_DATE\n",
    "        t1 = start_date.value\n",
    "        t2 = end_date.value\n",
    "        START_DATE = t1.strftime('%Y-%m-%d')\n",
    "        END_DATE = t2.strftime('%Y-%m-%d')\n",
    "\n",
    "        \n",
    "def update_map(sw_lat, sw_lng, ne_lat, ne_lng):\n",
    "    # Clear the map\n",
    "    m = folium.Map(location=[(sw_lat + ne_lat) / 2, (sw_lng + ne_lng) / 2], zoom_start=4)\n",
    "    \n",
    "    # Add the bounding box rectangle\n",
    "    folium.Rectangle(\n",
    "        bounds=[[sw_lat, sw_lng], [ne_lat, ne_lng]],\n",
    "        color=\"#ff7800\",\n",
    "        fill=True,\n",
    "        fill_opacity=0.3\n",
    "    ).add_to(m)\n",
    "    \n",
    "    # Display the map\n",
    "    display(m)\n",
    "    return (sw_lat, sw_lng, ne_lat, ne_lng)\n",
    "\n",
    "def save_bbox(button):\n",
    "    global sw_lat \n",
    "    global sw_lng  \n",
    "    global ne_lat \n",
    "    global ne_lng \n",
    "\n",
    "    sw_lat = sw_lat_input.value\n",
    "    sw_lng = sw_lng_input.value\n",
    "    ne_lat = ne_lat_input.value\n",
    "    ne_lng = ne_lng_input.value\n",
    "    \n",
    "    with output:\n",
    "        clear_output()\n",
    "        print(f\"BBox: sw_lat {sw_lat} sw_lng {sw_lng} ne_lat {ne_lat} ne_lng {ne_lng}\")\n",
    "\n",
    "\n",
    "# Create a base map\n",
    "m = folium.Map(location=[40, 20], zoom_start=4)\n",
    "        \n",
    "        \n",
    "# Widgets\n",
    "output = widgets.Output()\n",
    "\n",
    "# Widgets for bbox coordinates input\n",
    "sw_lat_input = FloatText(value=sw_lat, description='SW Latitude:')\n",
    "sw_lng_input = FloatText(value=sw_lng, description='SW Longitude:')\n",
    "ne_lat_input = FloatText(value=ne_lat, description='NE Latitude:')\n",
    "ne_lng_input = FloatText(value=ne_lng, description='NE Longitude:')\n",
    "\n",
    "save_button = Button(description=\"Save BBox\")\n",
    "\n",
    "\n",
    "# Create DatePicker widgets\n",
    "start_date = widgets.DatePicker(\n",
    "    description='Start Date',value = datetime.date(2024,8,12),\n",
    "    disabled=False\n",
    ")\n",
    "\n",
    "end_date = widgets.DatePicker(\n",
    "    description='End Date',value = datetime.date(2024,8,13),\n",
    "    disabled=False\n",
    ")\n",
    "\n",
    "\n",
    "ui = VBox([\n",
    "   # HBox([sw_lat_input, sw_lng_input]),\n",
    "  #  HBox([ne_lat_input, ne_lng_input]),\n",
    "    save_button,\n",
    "    output,\n",
    "    start_date, \n",
    "    end_date\n",
    "])\n",
    "\n",
    "# Display the interactive map and UI\n",
    "interactive_map = interactive(update_map, sw_lat=sw_lat_input, sw_lng=sw_lng_input,\n",
    "                              ne_lat=ne_lat_input, ne_lng=ne_lng_input)\n",
    "display(interactive_map, ui)\n",
    "\n",
    "     \n",
    "#Events\n",
    "\n",
    "start_date.observe(on_date_change, names='value')\n",
    "end_date.observe(on_date_change, names='value')\n",
    "save_button.on_click(save_bbox)"
   ]
  },
  {
   "cell_type": "markdown",
   "id": "6d541596-3833-42d9-9fe3-d4122a70577d",
   "metadata": {},
   "source": [
    "Selected criteria:"
   ]
  },
  {
   "cell_type": "code",
   "execution_count": 23,
   "id": "43350161-e1f5-467f-9d56-458c549404bb",
   "metadata": {
    "tags": []
   },
   "outputs": [
    {
     "name": "stdout",
     "output_type": "stream",
     "text": [
      "{\n",
      "  \"productType\": \"EO.EUM.DAT.SENTINEL-3.AOD\",\n",
      "  \"start\": \"2024-08-12\",\n",
      "  \"end\": \"2024-08-13\",\n",
      "  \"geom\": {\n",
      "    \"lonmin\": 14.0,\n",
      "    \"latmin\": 37.0,\n",
      "    \"lonmax\": 16.0,\n",
      "    \"latmax\": 38.0\n",
      "  },\n",
      "  \"count\": true\n",
      "}\n"
     ]
    }
   ],
   "source": [
    "search_criteria = {\n",
    "    \"productType\": DATASET_ID,\n",
    "    \"start\": START_DATE,\n",
    "    \"end\": END_DATE,\n",
    "    \"geom\": {\"lonmin\": sw_lng, \"latmin\": sw_lat, \"lonmax\": ne_lng, \"latmax\": ne_lat},\n",
    "    \"count\": True\n",
    "}\n",
    "\n",
    "print(json.dumps(search_criteria, indent=2))"
   ]
  },
  {
   "cell_type": "markdown",
   "id": "46523533-3e45-46e9-b0de-c6a831afb079",
   "metadata": {},
   "source": [
    "Use selected criteria to search data:"
   ]
  },
  {
   "cell_type": "code",
   "execution_count": 24,
   "id": "a39ac57e-174c-42d2-8de5-7187f261b380",
   "metadata": {},
   "outputs": [
    {
     "name": "stdout",
     "output_type": "stream",
     "text": [
      "Got 1 products and an estimated total number of 1 products.\n"
     ]
    },
    {
     "data": {
      "text/html": [
       "<table>\n",
       "                <thead><tr><td style='text-align: left; color: grey;'>\n",
       "                 SearchResult&ensp;(1/1)\n",
       "                </td></tr></thead>\n",
       "            <tr><td style='text-align: left;'>\n",
       "                <details><summary style='color: grey; font-family: monospace;'>\n",
       "                    0&ensp;\n",
       "                    EOProduct(id=<span style='color: black;'>S3B_SL_2_AOD____20240812T210425_20240812T210925_20240812T233019_0299_096_200______MAR_O_NR_003</span>, provider=dedl)\n",
       "                </summary>\n",
       "                <table>\n",
       "                <thead><tr style='background-color: transparent;'><td style='text-align: left; color: grey;'>\n",
       "                EOProduct\n",
       "                </td></tr></thead>\n",
       "\n",
       "                <tr style='background-color: transparent;'>\n",
       "                    <td style='text-align: left; vertical-align: top;'>\n",
       "                        <table style='margin: 0;'><tr style='background-color: transparent;'>\n",
       "                    <td style='padding: 5px 0 0 0; text-align: left; color: grey; vertical-align:top;'>provider:</td>\n",
       "                    <td style='padding: 5px 0 0 10px; text-align: left;'>'dedl',</td>\n",
       "                </tr>\n",
       "                <tr style='background-color: transparent;'>\n",
       "                    <td style='padding: 5px 0 0 0; text-align: left; color: grey; vertical-align:top;'>product_type:</td>\n",
       "                    <td style='padding: 5px 0 0 10px; text-align: left;'>'S3_SLSTR_L2AOD',</td>\n",
       "                </tr>\n",
       "                <tr style='background-color: transparent;'>\n",
       "                    <td style='padding: 5px 0 0 0; text-align: left; color: grey; vertical-align:top;'>properties[&quot;id&quot;]:</td>\n",
       "                    <td style='padding: 5px 0 0 10px; text-align: left;'>'S3B_SL_2_AOD____20240812T210425_20240812T210925_20240812T233019_0299_096_200______MAR_O_NR_003',</td>\n",
       "                </tr>\n",
       "                <tr style='background-color: transparent;'>\n",
       "                    <td style='padding: 5px 0 0 0; text-align: left; color: grey; vertical-align:top;'>properties[&quot;startTimeFromAscendingNode&quot;]:</td>\n",
       "                    <td style='padding: 5px 0 0 10px; text-align: left;'>'2024-08-12T21:04:25.163Z',</td>\n",
       "                </tr>\n",
       "                <tr style='background-color: transparent;'>\n",
       "                    <td style='padding: 5px 0 0 0; text-align: left; color: grey; vertical-align:top;'>properties[&quot;completionTimeFromAscendingNode&quot;]:</td>\n",
       "                    <td style='padding: 5px 0 0 10px; text-align: left;'>'2024-08-12T21:09:24.552Z',</td>\n",
       "                </tr>\n",
       "                </table>\n",
       "                        <details><summary style='color: grey; margin-top: 10px;'>properties:&ensp;(36)</summary><span style='color: grey;'>{</span><table style='margin: 0;'><tr style='background-color: transparent;'>\n",
       "                    <td style='padding: 5px 0 0 10px; text-align: left; color: grey; vertical-align:top;'>alias:</td>\n",
       "                    <td style='padding: 5px 0 0 10px; text-align: left;'>'EO.EUM.DAT.SENTINEL-3.AOD',</td>\n",
       "                </tr>\n",
       "                <tr style='background-color: transparent;'>\n",
       "                    <td style='padding: 5px 0 0 10px; text-align: left; color: grey; vertical-align:top;'>abstract:</td>\n",
       "                    <td style='padding: 5px 0 0 10px; text-align: left;'>'The Copernicus Sentinel-3 (S3) NRT AOD product quantifies the abundance of aerosol particles, and monitors their global distribution & long-range transport, at the scale of 9.5 x 9.5 km2. All observations are made available in less than 3 hours from the SLSTR observation sensing time. It is only applicable during daytime.\n",
       "The current S3 NRT AOD product is the first release as Baseline Collection 1.\n",
       "Users are advised to bear in mind the different maturity statuses between ocean and land surfaces where:\n",
       "• AOD Ocean is pre-operational\n",
       "• AOD Land is currently demonstrational\n",
       "Further improvements to the S3 NRT AOD product are planned, including the optimization of the spectral constraints over land continents in case of unfavourable dual-view geometry, a comprehensive global validation, and additional updates following feedback from selected Sentinel-3 NRT atmosphere experts.',</td>\n",
       "                </tr>\n",
       "                <tr style='background-color: transparent;'>\n",
       "                    <td style='padding: 5px 0 0 10px; text-align: left; color: grey; vertical-align:top;'>instrument:</td>\n",
       "                    <td style='padding: 5px 0 0 10px; text-align: left;'><span style='color: grey;'>[</span><span style='text-align: left;'>'SLSTR'</span>\n",
       "            <span style='color: grey;'>]</span>,</td>\n",
       "                </tr>\n",
       "                <tr style='background-color: transparent;'>\n",
       "                    <td style='padding: 5px 0 0 10px; text-align: left; color: grey; vertical-align:top;'>platform:</td>\n",
       "                    <td style='padding: 5px 0 0 10px; text-align: left;'>'SENTINEL-3',</td>\n",
       "                </tr>\n",
       "                <tr style='background-color: transparent;'>\n",
       "                    <td style='padding: 5px 0 0 10px; text-align: left; color: grey; vertical-align:top;'>platformSerialIdentifier:</td>\n",
       "                    <td style='padding: 5px 0 0 10px; text-align: left;'>'SENTINEL-3A,SENTINEL-3B',</td>\n",
       "                </tr>\n",
       "                <tr style='background-color: transparent;'>\n",
       "                    <td style='padding: 5px 0 0 10px; text-align: left; color: grey; vertical-align:top;'>processingLevel:</td>\n",
       "                    <td style='padding: 5px 0 0 10px; text-align: left;'>2,</td>\n",
       "                </tr>\n",
       "                <tr style='background-color: transparent;'>\n",
       "                    <td style='padding: 5px 0 0 10px; text-align: left; color: grey; vertical-align:top;'>keywords:</td>\n",
       "                    <td style='padding: 5px 0 0 10px; text-align: left;'>'SLSTR,SENTINEL,SENTINEL3,S3,S3A,S3B,L2,L2AOD,AOD',</td>\n",
       "                </tr>\n",
       "                <tr style='background-color: transparent;'>\n",
       "                    <td style='padding: 5px 0 0 10px; text-align: left; color: grey; vertical-align:top;'>sensorType:</td>\n",
       "                    <td style='padding: 5px 0 0 10px; text-align: left;'>'ATMOSPHERIC',</td>\n",
       "                </tr>\n",
       "                <tr style='background-color: transparent;'>\n",
       "                    <td style='padding: 5px 0 0 10px; text-align: left; color: grey; vertical-align:top;'>license:</td>\n",
       "                    <td style='padding: 5px 0 0 10px; text-align: left;'>'proprietary',</td>\n",
       "                </tr>\n",
       "                <tr style='background-color: transparent;'>\n",
       "                    <td style='padding: 5px 0 0 10px; text-align: left; color: grey; vertical-align:top;'>title:</td>\n",
       "                    <td style='padding: 5px 0 0 10px; text-align: left;'>'S3B_SL_2_AOD____20240812T210425_20240812T210925_20240812T233019_0299_096_200______MAR_O_NR_003',</td>\n",
       "                </tr>\n",
       "                <tr style='background-color: transparent;'>\n",
       "                    <td style='padding: 5px 0 0 10px; text-align: left; color: grey; vertical-align:top;'>missionStartDate:</td>\n",
       "                    <td style='padding: 5px 0 0 10px; text-align: left;'>'2016-02-16T00:00:00Z',</td>\n",
       "                </tr>\n",
       "                <tr style='background-color: transparent;'>\n",
       "                    <td style='padding: 5px 0 0 10px; text-align: left; color: grey; vertical-align:top;'>_id:</td>\n",
       "                    <td style='padding: 5px 0 0 10px; text-align: left;'>'S3_SLSTR_L2AOD',</td>\n",
       "                </tr>\n",
       "                <tr style='background-color: transparent;'>\n",
       "                    <td style='padding: 5px 0 0 10px; text-align: left; color: grey; vertical-align:top;'>productType:</td>\n",
       "                    <td style='padding: 5px 0 0 10px; text-align: left;'>'EO.EUM.DAT.SENTINEL-3.AOD',</td>\n",
       "                </tr>\n",
       "                <tr style='background-color: transparent;'>\n",
       "                    <td style='padding: 5px 0 0 10px; text-align: left; color: grey; vertical-align:top;'>publicationDate:</td>\n",
       "                    <td style='padding: 5px 0 0 10px; text-align: left;'>'2024-08-12T23:44:28.994Z',</td>\n",
       "                </tr>\n",
       "                <tr style='background-color: transparent;'>\n",
       "                    <td style='padding: 5px 0 0 10px; text-align: left; color: grey; vertical-align:top;'>orbitNumber:</td>\n",
       "                    <td style='padding: 5px 0 0 10px; text-align: left;'>200,</td>\n",
       "                </tr>\n",
       "                <tr style='background-color: transparent;'>\n",
       "                    <td style='padding: 5px 0 0 10px; text-align: left; color: grey; vertical-align:top;'>orbitDirection:</td>\n",
       "                    <td style='padding: 5px 0 0 10px; text-align: left;'>'ASCENDING',</td>\n",
       "                </tr>\n",
       "                <tr style='background-color: transparent;'>\n",
       "                    <td style='padding: 5px 0 0 10px; text-align: left; color: grey; vertical-align:top;'>modificationDate:</td>\n",
       "                    <td style='padding: 5px 0 0 10px; text-align: left;'>'2024-08-12T23:53:38.345Z',</td>\n",
       "                </tr>\n",
       "                <tr style='background-color: transparent;'>\n",
       "                    <td style='padding: 5px 0 0 10px; text-align: left; color: grey; vertical-align:top;'>sensorMode:</td>\n",
       "                    <td style='padding: 5px 0 0 10px; text-align: left;'>'Earth Observation',</td>\n",
       "                </tr>\n",
       "                <tr style='background-color: transparent;'>\n",
       "                    <td style='padding: 5px 0 0 10px; text-align: left; color: grey; vertical-align:top;'>startTimeFromAscendingNode:</td>\n",
       "                    <td style='padding: 5px 0 0 10px; text-align: left;'>'2024-08-12T21:04:25.163Z',</td>\n",
       "                </tr>\n",
       "                <tr style='background-color: transparent;'>\n",
       "                    <td style='padding: 5px 0 0 10px; text-align: left; color: grey; vertical-align:top;'>completionTimeFromAscendingNode:</td>\n",
       "                    <td style='padding: 5px 0 0 10px; text-align: left;'>'2024-08-12T21:09:24.552Z',</td>\n",
       "                </tr>\n",
       "                <tr style='background-color: transparent;'>\n",
       "                    <td style='padding: 5px 0 0 10px; text-align: left; color: grey; vertical-align:top;'>id:</td>\n",
       "                    <td style='padding: 5px 0 0 10px; text-align: left;'>'S3B_SL_2_AOD____20240812T210425_20240812T210925_20240812T233019_0299_096_200______MAR_O_NR_003',</td>\n",
       "                </tr>\n",
       "                <tr style='background-color: transparent;'>\n",
       "                    <td style='padding: 5px 0 0 10px; text-align: left; color: grey; vertical-align:top;'>downloadLink:</td>\n",
       "                    <td style='padding: 5px 0 0 10px; text-align: left;'>'<a href='https://hda.data.destination-earth.eu/stac/collections/EO.EUM.DAT.SENTINEL-3.AOD/items/S3B_SL_2_AOD____20240812T210425_20240812T210925_20240812T233019_0299_096_200______MAR_O_NR_003/download?provider=dedl' target='_blank'>https://hda.data.destination-earth.eu/stac/collections/EO.EUM.DAT.SENTINEL-3.AOD/items/S3B_SL_2_AOD____20240812T210425_20240812T210925_20240812T233019_0299_096_200______MAR_O_NR_003/download?provider=dedl</a>',</td>\n",
       "                </tr>\n",
       "                <tr style='background-color: transparent;'>\n",
       "                    <td style='padding: 5px 0 0 10px; text-align: left; color: grey; vertical-align:top;'>storageStatus:</td>\n",
       "                    <td style='padding: 5px 0 0 10px; text-align: left;'>'ONLINE',</td>\n",
       "                </tr>\n",
       "                <tr style='background-color: transparent;'>\n",
       "                    <td style='padding: 5px 0 0 10px; text-align: left; color: grey; vertical-align:top;'>defaultGeometry:</td>\n",
       "                    <td style='padding: 5px 0 0 10px; text-align: left;'>'POLYGON((180 -90, 180 90, -180 90, -180 -90, 180 -90))',</td>\n",
       "                </tr>\n",
       "                <tr style='background-color: transparent;'>\n",
       "                    <td style='padding: 5px 0 0 10px; text-align: left; color: grey; vertical-align:top;'>providers:</td>\n",
       "                    <td style='padding: 5px 0 0 10px; text-align: left;'><span style='color: grey;'>[</span><span style='text-align: left;'><span style='color: grey;'>{</span><span style='text-align: left;'>\n",
       "                    'name': 'dedl'\n",
       "                </span>, <span style='text-align: left;'>\n",
       "                    'description': 'DestineE Data Lake Fresh Data Pool'\n",
       "                </span>, <span style='text-align: left;'>\n",
       "                    'roles': <span style='color: grey;'>[</span><span style='text-align: left;'>'host'</span>\n",
       "            <span style='color: grey;'>]</span>\n",
       "                </span>, <span style='text-align: left;'>\n",
       "                    'url': '<a href='https://creodias.eu/' target='_blank'>https://creodias.eu/</a>'\n",
       "                </span>, <span style='text-align: left;'>\n",
       "                    'priority': 1\n",
       "                </span><span style='color: grey;'>}</span></span>\n",
       "            <span style='color: grey;'>]</span>,</td>\n",
       "                </tr>\n",
       "                <tr style='background-color: transparent;'>\n",
       "                    <td style='padding: 5px 0 0 10px; text-align: left; color: grey; vertical-align:top;'>start_datetime:</td>\n",
       "                    <td style='padding: 5px 0 0 10px; text-align: left;'>'2024-08-12T21:04:25.163Z',</td>\n",
       "                </tr>\n",
       "                <tr style='background-color: transparent;'>\n",
       "                    <td style='padding: 5px 0 0 10px; text-align: left; color: grey; vertical-align:top;'>sat:absolute_orbit:</td>\n",
       "                    <td style='padding: 5px 0 0 10px; text-align: left;'>32812,</td>\n",
       "                </tr>\n",
       "                <tr style='background-color: transparent;'>\n",
       "                    <td style='padding: 5px 0 0 10px; text-align: left; color: grey; vertical-align:top;'>sar:product_type:</td>\n",
       "                    <td style='padding: 5px 0 0 10px; text-align: left;'>'SL_2_AOD___',</td>\n",
       "                </tr>\n",
       "                <tr style='background-color: transparent;'>\n",
       "                    <td style='padding: 5px 0 0 10px; text-align: left; color: grey; vertical-align:top;'>dedl:productIdentifier:</td>\n",
       "                    <td style='padding: 5px 0 0 10px; text-align: left;'>'/eodata/Sentinel-3/SLSTR/SL_2_AOD___/2024/08/12/S3B_SL_2_AOD____20240812T210425_20240812T210925_20240812T233019_0299_096_200______MAR_O_NR_003.SEN3',</td>\n",
       "                </tr>\n",
       "                <tr style='background-color: transparent;'>\n",
       "                    <td style='padding: 5px 0 0 10px; text-align: left; color: grey; vertical-align:top;'>dedl:timeliness:</td>\n",
       "                    <td style='padding: 5px 0 0 10px; text-align: left;'>'NR',</td>\n",
       "                </tr>\n",
       "                <tr style='background-color: transparent;'>\n",
       "                    <td style='padding: 5px 0 0 10px; text-align: left; color: grey; vertical-align:top;'>dedl:beginningDateTime:</td>\n",
       "                    <td style='padding: 5px 0 0 10px; text-align: left;'>'2024-08-12T21:04:25.163Z',</td>\n",
       "                </tr>\n",
       "                <tr style='background-color: transparent;'>\n",
       "                    <td style='padding: 5px 0 0 10px; text-align: left; color: grey; vertical-align:top;'>dedl:scope:</td>\n",
       "                    <td style='padding: 5px 0 0 10px; text-align: left;'><span style='color: grey;'>{</span><span style='text-align: left;'>\n",
       "                    'discover': None\n",
       "                </span>, <span style='text-align: left;'>\n",
       "                    'search': 'hda-public-data-access'\n",
       "                </span>, <span style='text-align: left;'>\n",
       "                    'download': 'hda-public-data-access'\n",
       "                </span><span style='color: grey;'>}</span>,</td>\n",
       "                </tr>\n",
       "                <tr style='background-color: transparent;'>\n",
       "                    <td style='padding: 5px 0 0 10px; text-align: left; color: grey; vertical-align:top;'>dedl:alias:</td>\n",
       "                    <td style='padding: 5px 0 0 10px; text-align: left;'>'EO.EUM.DAT.SENTINEL-3.AOD',</td>\n",
       "                </tr>\n",
       "                <tr style='background-color: transparent;'>\n",
       "                    <td style='padding: 5px 0 0 10px; text-align: left; color: grey; vertical-align:top;'>dedl:uid:</td>\n",
       "                    <td style='padding: 5px 0 0 10px; text-align: left;'>'480083b4-8b05-436a-833a-bc5004c10dcb',</td>\n",
       "                </tr>\n",
       "                <tr style='background-color: transparent;'>\n",
       "                    <td style='padding: 5px 0 0 10px; text-align: left; color: grey; vertical-align:top;'>dedl:baselineCollection:</td>\n",
       "                    <td style='padding: 5px 0 0 10px; text-align: left;'>'003',</td>\n",
       "                </tr>\n",
       "                <tr style='background-color: transparent;'>\n",
       "                    <td style='padding: 5px 0 0 10px; text-align: left; color: grey; vertical-align:top;'>dedl:endingDateTime:</td>\n",
       "                    <td style='padding: 5px 0 0 10px; text-align: left;'>'2024-08-12T21:09:24.552Z',</td>\n",
       "                </tr>\n",
       "                </table><span style='color: grey;'>}</span></details>\n",
       "                        <details><summary style='color: grey; margin-top: 10px;'>assets:&ensp;(0)</summary><table></table></details>\n",
       "                    </td>\n",
       "                    <td style='color: grey; text-align: center; min-width:100px; vertical-align: top;' title='geometry'>geometry<br /><svg xmlns=\"http://www.w3.org/2000/svg\" xmlns:xlink=\"http://www.w3.org/1999/xlink\" width=\"100.0\" height=\"100.0\" viewBox=\"-2.8824768 25.901493199999997 23.2930836 22.030013600000004\" preserveAspectRatio=\"xMinYMin meet\"><g transform=\"matrix(1,0,0,-1,0,73.833)\"><path fill-rule=\"evenodd\" fill=\"#66cc99\" stroke=\"#555555\" stroke-width=\"0.465861672\" opacity=\"0.6\" d=\"M 19.5479,29.5784 L 19.2539,31.3309 L 18.9637,33.083 L 18.6772,34.8345 L 18.3942,36.5854 L 18.1148,38.3357 L 17.8387,40.0854 L 17.5662,41.8344 L 17.297,43.5828 L 17.0312,45.3305 L 16.7702,47.0688 L 16.6131,47.0578 L 16.456,47.0465 L 16.299,47.035 L 16.1421,47.0233 L 15.9834,47.0187 L 15.8249,47.0016 L 15.6691,46.9821 L 15.515,46.9776 L 15.3542,46.9684 L 15.2009,46.9431 L 15.0429,46.9339 L 14.8897,46.9166 L 14.7363,46.9159 L 14.5751,46.8922 L 14.4175,46.8828 L 14.2616,46.8713 L 14.101,46.8585 L 13.9617,46.8339 L 13.7903,46.8255 L 13.6432,46.8053 L 13.4904,46.7906 L 13.3261,46.7796 L 13.1737,46.7669 L 13.0205,46.7462 L 12.8689,46.7343 L 12.7179,46.7096 L 12.55,46.695 L 12.3974,46.6836 L 12.2356,46.6659 L 12.0852,46.6505 L 11.9365,46.6265 L 11.7877,46.6072 L 11.6229,46.5976 L 11.4711,46.5693 L 11.3165,46.5497 L 11.1571,46.5387 L 11.0169,46.517 L 10.8547,46.4965 L 10.6984,46.4866 L 10.5484,46.457 L 10.3891,46.4405 L 10.2414,46.4248 L 10.0878,46.4014 L 9.93751,46.3819 L 9.78698,46.3575 L 9.62604,46.3424 L 9.47784,46.3217 L 9.32267,46.2983 L 9.16733,46.2773 L 9.02355,46.259 L 8.86538,46.2393 L 8.70822,46.2118 L 8.5528,46.1904 L 8.40422,46.174 L 8.25371,46.1413 L 8.10803,46.1215 L 7.95559,46.1029 L 7.80038,46.0816 L 7.64706,46.0585 L 7.49928,46.0348 L 7.35148,46.009 L 7.19374,45.9831 L 7.03691,45.9608 L 6.88718,45.9328 L 6.74204,45.9084 L 6.59501,45.8919 L 6.43551,45.8646 L 6.29587,45.8362 L 6.14176,45.8161 L 5.98765,45.7842 L 5.84707,45.7603 L 5.69308,45.7337 L 5.53847,45.7141 L 5.38685,45.6841 L 5.24539,45.6623 L 5.09625,45.6292 L 4.94545,45.603 L 4.79438,45.5754 L 4.64507,45.5459 L 4.49263,45.523 L 4.35698,45.4924 L 4.20651,45.4669 L 4.05694,45.4394 L 3.9081,45.4105 L 3.75964,45.3802 L 3.6086,45.3565 L 3.46096,45.3229 L 3.31143,45.2961 L 3.16195,45.2673 L 3.01425,45.237 L 2.87775,45.2082 L 2.72643,45.1832 L 2.5795,45.1481 L 2.42807,45.1197 L 2.28927,45.0934 L 2.13936,45.0614 L 1.9896,45.0274 L 1.85132,44.9961 L 1.69709,44.9666 L 1.55758,44.9411 L 1.40396,44.9076 L 1.26671,44.8692 L 1.12238,44.8464 L 0.971493,44.8085 L 0.827615,44.782 L 0.685983,44.7442 L 0.541758,44.7138 L 0.397341,44.6815 L 0.252991,44.6472 L 0.108929,44.611 L -0.037597,44.5826 L -0.17029,44.5491 L -0.320375,44.514 L -0.46691,44.4796 L -0.605913,44.4473 L -0.752725,44.4086 L -0.893931,44.3825 L -1.03401,44.3437 L -1.17612,44.3132 L -1.3186,44.2805 L -1.46121,44.2457 L -1.60412,44.2085 L -1.74713,44.1692 L -1.89003,44.1356 L -2.01977,44.103 L -1.20962,42.3872 L -0.441377,40.6661 L 0.289109,38.9402 L 0.985594,37.2098 L 1.65128,35.4755 L 2.2891,33.7375 L 2.90155,31.9963 L 3.49096,30.252 L 4.05933,28.505 L 4.6058,26.7642 L 4.72211,26.7931 L 4.8378,26.8251 L 4.96024,26.8512 L 5.07707,26.8815 L 5.19279,26.9095 L 5.30865,26.9356 L 5.41986,26.9668 L 5.53415,26.9886 L 5.65863,27.0159 L 5.77197,27.0442 L 5.89192,27.0746 L 6.00358,27.0987 L 6.12129,27.135 L 6.2398,27.1594 L 6.36166,27.1842 L 6.47828,27.2145 L 6.59549,27.243 L 6.71179,27.2695 L 6.82835,27.2942 L 6.94038,27.3251 L 7.05654,27.3463 L 7.18074,27.3801 L 7.29316,27.4058 L 7.41858,27.4264 L 7.52954,27.4582 L 7.65311,27.4843 L 7.76387,27.5127 L 7.88614,27.5344 L 8.00655,27.5634 L 8.11752,27.587 L 8.23845,27.6127 L 8.35924,27.6367 L 8.4785,27.668 L 8.59004,27.6853 L 8.70849,27.7129 L 8.82827,27.7391 L 8.94736,27.7636 L 9.06488,27.7953 L 9.18541,27.8166 L 9.30376,27.8449 L 9.42466,27.8631 L 9.54363,27.8884 L 9.66066,27.9207 L 9.78059,27.9428 L 9.90103,27.9634 L 10.0101,27.9898 L 10.129,28.0161 L 10.2493,28.041 L 10.3692,28.064 L 10.4909,28.0857 L 10.6104,28.1145 L 10.7324,28.133 L 10.8432,28.1581 L 10.9654,28.1822 L 11.088,28.2048 L 11.2117,28.2257 L 11.3243,28.2536 L 11.4498,28.2713 L 11.5621,28.2965 L 11.6886,28.3197 L 11.8026,28.3419 L 11.9204,28.3623 L 12.047,28.3895 L 12.1632,28.4157 L 12.281,28.4318 L 12.3995,28.455 L 12.5192,28.4765 L 12.6399,28.4964 L 12.7611,28.5228 L 12.8804,28.5486 L 13.0051,28.5634 L 13.1191,28.5868 L 13.242,28.6076 L 13.3667,28.6349 L 13.4849,28.6533 L 13.599,28.6715 L 13.7283,28.6933 L 13.8463,28.7163 L 13.9659,28.7375 L 14.087,28.7568 L 14.2095,28.7744 L 14.3223,28.8017 L 14.4482,28.8157 L 14.5703,28.8378 L 14.6875,28.8598 L 14.8126,28.8781 L 14.9339,28.8963 L 15.051,28.923 L 15.1657,28.9407 L 15.3016,28.9583 L 15.4162,28.9741 L 15.5325,29.0039 L 15.6592,29.021 L 15.7791,29.0311 L 15.9014,29.0551 L 16.0218,29.079 L 16.1395,29.0945 L 16.2673,29.1123 L 16.3936,29.1298 L 16.5077,29.1509 L 16.6223,29.172 L 16.7462,29.195 L 16.8669,29.2102 L 16.9889,29.2251 L 17.1213,29.2412 L 17.2363,29.2644 L 17.3536,29.2855 L 17.4844,29.2901 L 17.6055,29.3072 L 17.7185,29.3365 L 17.8428,29.3493 L 17.9722,29.3594 L 18.0901,29.3813 L 18.2129,29.4018 L 18.3346,29.4195 L 18.452,29.4325 L 18.5835,29.4459 L 18.7031,29.472 L 18.827,29.4785 L 18.9519,29.4998 L 19.0683,29.5157 L 19.1907,29.5319 L 19.3132,29.5479 L 19.4356,29.5639 L 19.5479,29.5784 z\" /></g></svg></td>\n",
       "                    <td style='padding-top: 1.5em; min-width:100px; vertical-align: top;' title='properties[&quot;thumbnail&quot;]'></td>\n",
       "                </tr>\n",
       "            </table>\n",
       "                </details>\n",
       "                </td></tr>\n",
       "                </table>"
      ],
      "text/plain": [
       "SearchResult([EOProduct(id=S3B_SL_2_AOD____20240812T210425_20240812T210925_20240812T233019_0299_096_200______MAR_O_NR_003, provider=dedl)])"
      ]
     },
     "execution_count": 24,
     "metadata": {},
     "output_type": "execute_result"
    }
   ],
   "source": [
    "products_first_page = dag.search(**search_criteria)\n",
    "print(f\"Got {len(products_first_page)} products and an estimated total number of {products_first_page.number_matched} products.\")\n",
    "products_first_page"
   ]
  },
  {
   "cell_type": "markdown",
   "id": "dde69484-bf72-4e1d-9660-46a848a90ed8",
   "metadata": {},
   "source": [
    "See the available metadata:"
   ]
  },
  {
   "cell_type": "code",
   "execution_count": 26,
   "id": "04fe6618-321d-4fe8-b02e-7a903e863ded",
   "metadata": {
    "tags": []
   },
   "outputs": [
    {
     "name": "stdout",
     "output_type": "stream",
     "text": [
      "dict_keys(['alias', 'abstract', 'instrument', 'platform', 'platformSerialIdentifier', 'processingLevel', 'keywords', 'sensorType', 'license', 'title', 'missionStartDate', '_id', 'productType', 'publicationDate', 'orbitNumber', 'orbitDirection', 'modificationDate', 'sensorMode', 'startTimeFromAscendingNode', 'completionTimeFromAscendingNode', 'id', 'downloadLink', 'storageStatus', 'defaultGeometry', 'providers', 'start_datetime', 'sat:absolute_orbit', 'sar:product_type', 'dedl:productIdentifier', 'dedl:timeliness', 'dedl:beginningDateTime', 'dedl:scope', 'dedl:alias', 'dedl:uid', 'dedl:baselineCollection', 'dedl:endingDateTime'])\n"
     ]
    }
   ],
   "source": [
    "\n",
    "if(len(products_first_page)>0):\n",
    "    one_product = products_first_page[0]\n",
    "    print(one_product.properties.keys())"
   ]
  },
  {
   "cell_type": "markdown",
   "id": "3b6fe9f0-87ce-49f6-923f-42a0b48739ff",
   "metadata": {},
   "source": [
    "## EODownload\n",
    "\n",
    "EOProducts can be downloaded individually. The last image is going to be downloaded."
   ]
  },
  {
   "cell_type": "code",
   "execution_count": 27,
   "id": "0438d00e-7dc9-4449-a90b-8cc263b5b17f",
   "metadata": {
    "tags": []
   },
   "outputs": [
    {
     "data": {
      "application/vnd.jupyter.widget-view+json": {
       "model_id": "454fd313dfa442bc8a0df72e8b7b4163",
       "version_major": 2,
       "version_minor": 0
      },
      "text/plain": [
       "0.00B [00:00, ?B/s]"
      ]
     },
     "metadata": {},
     "output_type": "display_data"
    },
    {
     "name": "stdout",
     "output_type": "stream",
     "text": [
      "/home/jovyan/dev-branch/DestinE-DataLake-Lab/HDA/EODAG/eodag_workspace/S3B_SL_2_AOD____20240812T210425_20240812T210925_20240812T233019_0299_096_200______MAR_O_NR_003\n"
     ]
    }
   ],
   "source": [
    "if(len(products_first_page)>0):\n",
    "    product_to_download = one_product\n",
    "    product_path = dag.download(product_to_download)\n",
    "    print(product_path)"
   ]
  },
  {
   "cell_type": "code",
   "execution_count": null,
   "id": "abd30326-6c18-4273-a29f-1d0df247f7a7",
   "metadata": {},
   "outputs": [],
   "source": []
  }
 ],
 "metadata": {
  "kernelspec": {
   "display_name": "Python DEDL",
   "language": "python",
   "name": "python_dedl"
  },
  "language_info": {
   "codemirror_mode": {
    "name": "ipython",
    "version": 3
   },
   "file_extension": ".py",
   "mimetype": "text/x-python",
   "name": "python",
   "nbconvert_exporter": "python",
   "pygments_lexer": "ipython3",
   "version": "3.11.4"
  },
  "toc-autonumbering": false,
  "vscode": {
   "interpreter": {
    "hash": "31f2aee4e71d21fbe5cf8b01ff0e069b9275f58929596ceb00d14d90e3e16cd6"
   }
  }
 },
 "nbformat": 4,
 "nbformat_minor": 5
}

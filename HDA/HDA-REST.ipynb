{
 "cells": [
  {
   "cell_type": "markdown",
   "id": "803da740",
   "metadata": {},
   "source": [
    "<p align=\"center\">\n",
    "    <img src=\"../img/DestinE-banner.jpg\"\n",
    "         alt=\"Drought data flow\"/>\n",
    "</p>"
   ]
  },
  {
   "cell_type": "markdown",
   "id": "8d37153b",
   "metadata": {},
   "source": [
    "# DEDL - HDA Tutorial"
   ]
  },
  {
   "cell_type": "markdown",
   "id": "36476d50",
   "metadata": {},
   "source": [
    "<br> Author: EUMETSAT </br>"
   ]
  },
  {
   "cell_type": "markdown",
   "id": "2624d113",
   "metadata": {},
   "source": [
    "<div class=\"alert alert-block alert-success\">\n",
    "<h3>First steps using Harmonised Data access API</h3>\n",
    "<li> Discover Data of DestinE Data Portfolio </li>\n",
    "<li> Access Data of DestinE Data Portfolio </li>\n",
    "</div>"
   ]
  },
  {
   "cell_type": "markdown",
   "id": "a9ccea6e",
   "metadata": {},
   "source": [
    "This notebook demonstrates how to use the HDA (Harmonized Data Access) API by sending a few HTTP requests to the API, using Python code."
   ]
  },
  {
   "cell_type": "markdown",
   "id": "14cf5489",
   "metadata": {},
   "source": [
    "The detailed API and definition of each endpoint and parameters is available in the HDA Swagger UI at:\n",
    "\n",
    "https://hda.central.data.destination-earth.eu/docs/"
   ]
  },
  {
   "cell_type": "markdown",
   "id": "1fb01f5a",
   "metadata": {},
   "source": [
    "<div class=\"alert alert-block alert-warning\">\n",
    "<b> Prequisites: </b>\n",
    "<li> For Data discovery: none </li>\n",
    "<li> For Data access : <a href=\"https://platform.destine.eu/\"> DestinE user account</a> </li>\n",
    "</div>"
   ]
  },
  {
   "cell_type": "markdown",
   "id": "a1141f02",
   "metadata": {
    "tags": []
   },
   "source": [
    "## Import the relevant modules\n",
    "We start off by importing the relevant modules for HTTP requests and json handling, as well as writing a small pretty printing helper for viewing json responses in the notebook."
   ]
  },
  {
   "cell_type": "code",
   "execution_count": null,
   "id": "203c1406-283a-4788-a23c-e35dfe716668",
   "metadata": {
    "tags": []
   },
   "outputs": [],
   "source": [
    "!pip install folium"
   ]
  },
  {
   "cell_type": "code",
   "execution_count": null,
   "id": "49d1b58a",
   "metadata": {
    "tags": []
   },
   "outputs": [],
   "source": [
    "from typing import Union\n",
    "import requests\n",
    "import json\n",
    "import urllib.parse\n",
    "from requests.auth import HTTPBasicAuth\n",
    "\n",
    "from IPython.display import JSON\n",
    "\n",
    "# map\n",
    "import folium\n",
    "import folium.plugins\n",
    "from branca.element import Figure\n",
    "import shapely.geometry\n",
    "\n",
    "def display_as_json(response: requests.Response) -> None:\n",
    "    \"\"\"Displays a HTTP request response as an interactive JSON in Jupyter Hub.\n",
    "    \n",
    "    Args:\n",
    "        response (requests.Response): HTTP request response\n",
    "    Returns:\n",
    "        None\n",
    "    \"\"\"\n",
    "    if not isinstance(response, requests.Response):\n",
    "        raise TypeError(f\"display_as_json expects a requests.Response parameter, got {type(response)}.\")\n",
    "    return JSON(json.loads(response.text))\n"
   ]
  },
  {
   "cell_type": "markdown",
   "id": "af62c175",
   "metadata": {
    "tags": []
   },
   "source": [
    "## Define some constants for the API URLs\n",
    "In this section, we define the relevant constants, holding the URL strings for the different endpoints."
   ]
  },
  {
   "cell_type": "code",
   "execution_count": null,
   "id": "6f12416e",
   "metadata": {
    "tags": []
   },
   "outputs": [],
   "source": [
    "# IDS\n",
    "SERVICE_ID = \"dedl-hook\"\n",
    "\n",
    "# Use the Collection https://hda.central.data.destination-earth.eu/ui/dataset/EO.ESA.DAT.SENTINEL-2.MSI.L1C\n",
    "COLLECTION_ID = \"EO.ESA.DAT.SENTINEL-2.MSI.L1C\"\n",
    "\n",
    "ITEM_ID = \"S2A_MSIL1C_20230910T050701_N0509_R019_T47VLH_20230910T074321.SAFE\"\n",
    "\n",
    "# Core API\n",
    "HDA_API_URL = \"https://hda.central.data.destination-earth.eu\"\n",
    "SERVICES_URL = f\"{HDA_API_URL}/services\"\n",
    "SERVICE_BY_ID_URL = f\"{SERVICES_URL}/{SERVICE_ID}\"\n",
    "\n",
    "# STAC API\n",
    "## Core\n",
    "STAC_API_URL = f\"{HDA_API_URL}/stac\"\n",
    "CONFORMANCE_URL = f\"{STAC_API_URL}/conformance\"\n",
    "\n",
    "## Item Search\n",
    "SEARCH_URL = f\"{STAC_API_URL}/search\"\n",
    "DOWNLOAD_URL = f\"{STAC_API_URL}/download\"\n",
    "\n",
    "## Collections\n",
    "COLLECTIONS_URL = f\"{STAC_API_URL}/collections\"\n",
    "COLLECTION_BY_ID_URL = f\"{COLLECTIONS_URL}/{COLLECTION_ID}\"\n",
    "\n",
    "## Items\n",
    "COLLECTION_ITEMS_URL = f\"{COLLECTIONS_URL}/{COLLECTION_ID}/items\"\n",
    "COLLECTION_ITEM_BY_ID_URL = f\"{COLLECTIONS_URL}/{COLLECTION_ID}/items/{ITEM_ID}\"\n",
    "\n",
    "## HTTP Success\n",
    "HTTP_SUCCESS_CODE = 200"
   ]
  },
  {
   "cell_type": "markdown",
   "id": "ddf764c8-d232-4bee-b16a-073b49ea6b59",
   "metadata": {},
   "source": [
    "The collection for this tutorial:"
   ]
  },
  {
   "cell_type": "code",
   "execution_count": null,
   "id": "1ad5da2e-3c38-4b94-9667-935ac679c6b4",
   "metadata": {
    "tags": []
   },
   "outputs": [],
   "source": [
    "import IPython\n",
    "\n",
    "url = 'https://hda.central.data.destination-earth.eu/ui/dataset/EO.ESA.DAT.SENTINEL-2.MSI.L1C'\n",
    "\n",
    "IPython.display.IFrame( url, 950, 450)"
   ]
  },
  {
   "cell_type": "markdown",
   "id": "3b6fe9f0-87ce-49f6-923f-42a0b48739ff",
   "metadata": {},
   "source": [
    "## Obtain Authentication Token (will be simplified in future)"
   ]
  },
  {
   "cell_type": "code",
   "execution_count": null,
   "id": "85e64903-0276-4a18-9481-6698a2d14dbb",
   "metadata": {
    "tags": []
   },
   "outputs": [],
   "source": [
    "import requests\n",
    "from lxml import html\n",
    "from urllib.parse import parse_qs, urlparse\n",
    "\n",
    "IAM_URL = \"https://auth.destine.eu/\"\n",
    "CLIENT_ID = \"polytope-api-public\"\n",
    "REALM = \"desp\"\n",
    "SERVICE_URL = \"https://polytope.lumi.apps.dte.destination-earth.eu/\"\n",
    "\n",
    "\n",
    "class DESPAuth:\n",
    "    def __init__(self, username, password):\n",
    "        self.username = username\n",
    "        self.password = password\n",
    "\n",
    "    def get_token(self):\n",
    "        with requests.Session() as s:\n",
    "\n",
    "            # Get the auth url\n",
    "            auth_url = html.fromstring(s.get(url=IAM_URL + \"/realms/\" + REALM + \"/protocol/openid-connect/auth\",\n",
    "                                     params = {\n",
    "                                            \"client_id\": CLIENT_ID,\n",
    "                                            \"redirect_uri\": SERVICE_URL,\n",
    "                                            \"scope\": \"openid\",\n",
    "                                            \"response_type\": \"code\"\n",
    "                                     }\n",
    "                                       ).content.decode()).forms[0].action\n",
    "            \n",
    "            # Login and get auth code\n",
    "            login = s.post(auth_url,\n",
    "                            data = {\n",
    "                                \"username\" : self.username,\n",
    "                                \"password\" : self.password,\n",
    "                            },\n",
    "                            allow_redirects=False\n",
    "            )\n",
    "\n",
    "\n",
    "            # We expect a 302, a 200 means we got sent back to the login page and there's probably an error message\n",
    "            if login.status_code == 200:\n",
    "                tree = html.fromstring(login.content)\n",
    "                error_message_element = tree.xpath('//span[@id=\"input-error\"]/text()')\n",
    "                error_message = error_message_element[0].strip() if error_message_element else 'Error message not found'\n",
    "                raise Exception(error_message)\n",
    "\n",
    "            if login.status_code != 302:\n",
    "                raise Exception(\"Login failed\")\n",
    "            \n",
    "\n",
    "            auth_code = parse_qs(urlparse(login.headers[\"Location\"]).query)['code'][0]\n",
    "\n",
    "            # Use the auth code to get the token\n",
    "            response = requests.post(IAM_URL + \"/realms/\" + REALM + \"/protocol/openid-connect/token\",\n",
    "                    data = {\n",
    "                        \"client_id\" : CLIENT_ID,\n",
    "                        \"redirect_uri\" : SERVICE_URL,\n",
    "                        \"code\" : auth_code,\n",
    "                        \"grant_type\" : \"authorization_code\",\n",
    "                        \"scope\" : \"\"\n",
    "                    }\n",
    "                )\n",
    "            \n",
    "            if response.status_code != 200:\n",
    "                raise Exception(\"Failed to get token\")\n",
    "            \n",
    "            token = response.json()['access_token']\n",
    "\n",
    "            return token\n",
    "\n",
    "\n",
    "class DEDLAuth:\n",
    "    def __init__(self, desp_access_token):\n",
    "        self.desp_access_token = desp_access_token\n",
    "\n",
    "    def get_token(self):\n",
    "        DEDL_TOKEN_URL='https://identity.data.destination-earth.eu/auth/realms/dedl/protocol/openid-connect/token'\n",
    "        DEDL_CLIENT_ID='hda-public'\n",
    "        AUDIENCE='hda-public'\n",
    "        \n",
    "        data = { \n",
    "            \"grant_type\": \"urn:ietf:params:oauth:grant-type:token-exchange\", \n",
    "            \"subject_token\": self.desp_access_token,\n",
    "            \"subject_issuer\": \"desp-oidc\",\n",
    "            \"subject_token_type\": \"urn:ietf:params:oauth:token-type:access_token\",\n",
    "            \"client_id\": DEDL_CLIENT_ID,\n",
    "            \"audience\": AUDIENCE\n",
    "        }\n",
    "\n",
    "        response = requests.post(DEDL_TOKEN_URL, data=data)\n",
    "        \n",
    "        print(\"Response code:\", response.status_code)\n",
    "\n",
    "        if response.status_code == 200: \n",
    "            dedl_token = response.json()[\"access_token\"]\n",
    "            return dedl_token\n",
    "        else: \n",
    "            print(response.json())\n",
    "            print(\"Error obtaining DEDL access token\")\n",
    "            \n",
    "\n",
    "class AuthHandler:\n",
    "    def __init__(self, username, password):\n",
    "        self.username = username\n",
    "        self.password = password\n",
    "        self.desp_access_token = None\n",
    "        self.dedl_access_token = None\n",
    "    \n",
    "    def get_token(self):\n",
    "        # Get DESP auth token\n",
    "        desp_auth = DESPAuth(self.username, self.password)\n",
    "        self.desp_access_token = desp_auth.get_token()\n",
    "        \n",
    "        # Get DEDL auth token\n",
    "        dedl_auth = DEDLAuth(self.desp_access_token)\n",
    "        self.dedl_access_token = dedl_auth.get_token()\n",
    "        \n",
    "        return self.dedl_access_token"
   ]
  },
  {
   "cell_type": "markdown",
   "id": "920021b8-77c2-4363-b09b-36d44497970a",
   "metadata": {},
   "source": [
    "## Generate an access token\n",
    " An access token is required to search, access and download items with the HDA API."
   ]
  },
  {
   "cell_type": "code",
   "execution_count": null,
   "id": "f1305046-8a68-43fb-acd8-f48c822bf96b",
   "metadata": {
    "tags": []
   },
   "outputs": [],
   "source": [
    "import requests\n",
    "import json\n",
    "import os\n",
    "from getpass import getpass\n",
    "\n",
    "# Config file with password exits ?\n",
    "file_path = 'myConfig.json'\n",
    "if os.path.exists(file_path):\n",
    "    print(\"Config File exists!\")\n",
    "    with open('myConfig.json') as f:\n",
    "        config = json.load(f)\n",
    "        DESP_USERNAME = config['username']\n",
    "        DESP_PASSWORD = config['password']\n",
    "else:\n",
    "    DESP_USERNAME = input(\"Please input your DESP username: \")\n",
    "    DESP_PASSWORD = getpass(\"Please input your DESP password: \")\n",
    "    # Ask for confirmation before creating the file\n",
    "    confirm = input(\"Do you want to create the config file? (yes/no): \")\n",
    "    if confirm.lower() == 'yes':\n",
    "        config['username'] = DESP_USERNAME\n",
    "        config['password'] = DESP_PASSWORD\n",
    "        with open(file_path, 'w') as f:\n",
    "            json.dump(config, f)\n",
    "\n",
    "auth = AuthHandler(DESP_USERNAME, DESP_PASSWORD)\n",
    "access_token = auth.get_token()\n",
    "\n",
    "auth_headers = {\"Authorization\": f\"Bearer {access_token}\"}"
   ]
  },
  {
   "cell_type": "markdown",
   "id": "032938e1",
   "metadata": {
    "tags": []
   },
   "source": [
    "## Core API\n",
    "\n",
    "We can start off by requesting the HDA landing page, which provides links to the API definition (links `service-desc` and `service-doc`), the available services as well as the STAC API index.  "
   ]
  },
  {
   "cell_type": "code",
   "execution_count": null,
   "id": "bccb9320",
   "metadata": {
    "tags": []
   },
   "outputs": [],
   "source": [
    "print(HDA_API_URL)\n",
    "display_as_json(requests.get(HDA_API_URL))"
   ]
  },
  {
   "cell_type": "markdown",
   "id": "b597bf45",
   "metadata": {
    "tags": []
   },
   "source": [
    "### Services\n",
    "Requesting the `/services` endpoint will return the list of services available for users of the platform.\n",
    "It fetches the services from the **services catalog** database."
   ]
  },
  {
   "cell_type": "code",
   "execution_count": null,
   "id": "5552fbf6",
   "metadata": {
    "tags": []
   },
   "outputs": [],
   "source": [
    "print(SERVICES_URL)\n",
    "display_as_json(requests.get(SERVICES_URL))"
   ]
  },
  {
   "cell_type": "markdown",
   "id": "0aa12103",
   "metadata": {},
   "source": [
    "The API can also describe a specific service, identified by its `serviceID` (e.g. **de-ecmwf-polytope-lumi**)."
   ]
  },
  {
   "cell_type": "code",
   "execution_count": null,
   "id": "f5f91a44",
   "metadata": {
    "tags": []
   },
   "outputs": [],
   "source": [
    "print(SERVICE_BY_ID_URL)\n",
    "display_as_json(requests.get(SERVICE_BY_ID_URL))"
   ]
  },
  {
   "cell_type": "markdown",
   "id": "cf583fdf",
   "metadata": {},
   "source": [
    "## STAC API\n",
    "The HDA is plugged to a STAC API, component of the **EO Catalogue**.\n",
    "### Core\n",
    "The STAC API entry point is set to the `/stac` endpoint and provides the search capabilities provided by the DEDL STAC interface."
   ]
  },
  {
   "cell_type": "code",
   "execution_count": null,
   "id": "7b17f435",
   "metadata": {
    "tags": []
   },
   "outputs": [],
   "source": [
    "print(STAC_API_URL)\n",
    "display_as_json(requests.get(STAC_API_URL))"
   ]
  },
  {
   "cell_type": "markdown",
   "id": "830108b5",
   "metadata": {},
   "source": [
    "The user can also have access to the list of all the conformance classes that the server conforms to by hitting the `/stac/conformance` endpoint."
   ]
  },
  {
   "cell_type": "code",
   "execution_count": null,
   "id": "482862d9",
   "metadata": {
    "tags": []
   },
   "outputs": [],
   "source": [
    "print(CONFORMANCE_URL)\n",
    "display_as_json(requests.get(CONFORMANCE_URL))"
   ]
  },
  {
   "cell_type": "markdown",
   "id": "26de457f",
   "metadata": {
    "tags": []
   },
   "source": [
    "### Collections\n",
    "The `/stac/collections` endpoint returns a `FeatureCollection` object, listing all STAC collections available to the user."
   ]
  },
  {
   "cell_type": "code",
   "execution_count": null,
   "id": "e8e13594",
   "metadata": {
    "tags": []
   },
   "outputs": [],
   "source": [
    "print(COLLECTIONS_URL)\n",
    "display_as_json(requests.get(COLLECTIONS_URL))"
   ]
  },
  {
   "cell_type": "markdown",
   "id": "c2e0f2ab",
   "metadata": {
    "tags": []
   },
   "source": [
    "By providing a specific `collectionID` (e.g. **EO.ESA.DAT.SENTINEL-2.MSI.L1C**), the user can get the metadata for a specific `Collection`."
   ]
  },
  {
   "cell_type": "code",
   "execution_count": null,
   "id": "031d088c",
   "metadata": {
    "tags": []
   },
   "outputs": [],
   "source": [
    "print(COLLECTION_BY_ID_URL)\n",
    "display_as_json(requests.get(COLLECTION_BY_ID_URL))"
   ]
  },
  {
   "cell_type": "markdown",
   "id": "07315a8b",
   "metadata": {
    "tags": []
   },
   "source": [
    "### Items\n",
    "It is also possible to get the list of items available in a given `Collection` using Simple Search.\n"
   ]
  },
  {
   "cell_type": "code",
   "execution_count": null,
   "id": "5cb02d76",
   "metadata": {
    "tags": []
   },
   "outputs": [],
   "source": [
    "DATETIME = \"?datetime=2023-09-09T00:00:00Z/2023-09-20T23:59:59Z\"\n",
    "\n",
    "print(COLLECTION_ITEMS_URL+DATETIME)\n",
    "r=requests.get(COLLECTION_ITEMS_URL+DATETIME, headers=auth_headers)  \n",
    "\n",
    "display_as_json(r)            "
   ]
  },
  {
   "cell_type": "markdown",
   "id": "f58edfee-a78d-4182-8031-e3f32c85253a",
   "metadata": {},
   "source": [
    "#### Sorting items"
   ]
  },
  {
   "cell_type": "markdown",
   "id": "74ff4e97-89f5-4531-b22d-7eaaf36be919",
   "metadata": {},
   "source": [
    "It is possible to sort the list of items available in a given Collection using the 'sortby' parameter."
   ]
  },
  {
   "cell_type": "code",
   "execution_count": null,
   "id": "c06bafae-b1d4-4d7a-9deb-1b1a1de01e73",
   "metadata": {
    "tags": []
   },
   "outputs": [],
   "source": [
    "SORTBYDATETIME = \"&sortby=datetime\"\n",
    "\n",
    "print(COLLECTION_ITEMS_URL+DATETIME+SORTBYDATETIME)\n",
    "r=requests.get(COLLECTION_ITEMS_URL+DATETIME+SORTBYDATETIME, headers=auth_headers)    \n",
    "\n",
    "display_as_json(r)        "
   ]
  },
  {
   "cell_type": "markdown",
   "id": "67b83ef3",
   "metadata": {
    "tags": []
   },
   "source": [
    "### Item ID\n",
    "To get the metadata specific to a given item (identified by its `itemID` in a collection, the user can request the `/stac/collections/{collectionID}/items/{itemID}`endpoint."
   ]
  },
  {
   "cell_type": "code",
   "execution_count": null,
   "id": "6cc10db0",
   "metadata": {
    "tags": []
   },
   "outputs": [],
   "source": [
    "print(COLLECTION_ITEM_BY_ID_URL)\n",
    "r=requests.get(COLLECTION_ITEM_BY_ID_URL, headers=auth_headers) \n",
    "\n",
    "display_as_json(r)            \n",
    "    "
   ]
  },
  {
   "cell_type": "markdown",
   "id": "53e02705-19db-45a3-ba4d-19ba23cf5656",
   "metadata": {
    "tags": []
   },
   "source": [
    "### Item Download\n",
    "The metadata of a given item contains also the download link that the user can use to download a specific item."
   ]
  },
  {
   "cell_type": "code",
   "execution_count": null,
   "id": "a8949ce7-fe90-4e6f-b4ff-352cb957370d",
   "metadata": {
    "tags": []
   },
   "outputs": [],
   "source": [
    "result = json.loads(r.text)\n",
    "downloadUrl = result['assets']['downloadLink']['href']\n",
    "print(downloadUrl)\n",
    "\n",
    "response = requests.get(downloadUrl,stream=True,headers=auth_headers)\n",
    "\n",
    "# If the request was successful, download the file\n",
    "if (response.status_code == HTTP_SUCCESS_CODE):\n",
    "        print(\"Downloading \"+ ITEM_ID + \"...\")\n",
    "        filename = ITEM_ID + \".zip\"\n",
    "        with open(filename, 'wb') as f:\n",
    "            for chunk in response.iter_content(chunk_size=1024): \n",
    "                if chunk:\n",
    "                    f.write(chunk)\n",
    "                    f.flush()\n",
    "        print(\"The dataset has been downloaded to: {}\".format(filename))\n",
    "else: print(\"Request Unsuccessful! Error-Code: {}\".format(response.status_code))"
   ]
  },
  {
   "cell_type": "markdown",
   "id": "3edae5f1",
   "metadata": {},
   "source": [
    "### Item search\n",
    "The STAC API also provides an item `/stac/search` endpoint, which is intended as a shorthand API for simple queries.\n",
    "This endpoint allows users to efficiently search for items that match the specified input filters.\n",
    "\n",
    "By default, the `/stac/search` endpoint will return the first 100 items found in all the collections available at the `/stac/collections` endpoint.\n",
    "Filters can be added either via query parameters in a **GET** request or added to the JSON body of a **POST** request."
   ]
  },
  {
   "cell_type": "markdown",
   "id": "27277f7d",
   "metadata": {},
   "source": [
    "The user can also enhance the request by adding filters. The full detail for each available filter is available in the [API documentation](https://hda.central.data.destination-earth.eu/docs/#/STAC%20API%20-%20Item%20Search/getItemSearch).\n",
    "\n",
    "The query parameters are added at the end of the URL as a *query string*: `?param1=val1&param2=val2&param3=val3`"
   ]
  },
  {
   "cell_type": "code",
   "execution_count": null,
   "id": "75072ba6",
   "metadata": {
    "tags": []
   },
   "outputs": [],
   "source": [
    "SEARCH_QUERY_STRING = \"?collections=\"+COLLECTION_ID+\"&datetime=2023-09-09T00:00:00Z/2023-09-20T00:00:00Z\"\n",
    "print(SEARCH_URL + SEARCH_QUERY_STRING)\n",
    "r=requests.get(SEARCH_URL + SEARCH_QUERY_STRING, headers=auth_headers)\n",
    "\n",
    "display_as_json(r)    "
   ]
  },
  {
   "cell_type": "markdown",
   "id": "5ecf658b",
   "metadata": {},
   "source": [
    "The same filters can be added as the JSON body of a **POST** request."
   ]
  },
  {
   "cell_type": "code",
   "execution_count": null,
   "id": "23874674",
   "metadata": {
    "tags": []
   },
   "outputs": [],
   "source": [
    "BODY = {\n",
    "    \"collections\": [\n",
    "        COLLECTION_ID,\n",
    "    ],\n",
    "    \"datetime\" : \"2023-09-09T00:00:00Z/2023-09-20T23:59:59Z\",\n",
    "    \"bbox\": [-11,35,\n",
    "              50,72 ],\n",
    "    \"limit\": 10,\n",
    "}\n",
    "\n",
    "r=requests.post(SEARCH_URL, json=BODY, headers=auth_headers)\n",
    "\n",
    "display_as_json(r)    "
   ]
  },
  {
   "cell_type": "markdown",
   "id": "26f44da9-a9c6-4132-b843-ab524f1b6046",
   "metadata": {
    "tags": []
   },
   "source": [
    "#### Sorting search results\n",
    "\n",
    "It is possible to sort the search results for different fields and to decide the sorting order."
   ]
  },
  {
   "cell_type": "code",
   "execution_count": null,
   "id": "3851df23-ecc1-483c-8b9f-7893faae3f75",
   "metadata": {
    "tags": []
   },
   "outputs": [],
   "source": [
    "BODY = {\n",
    "    \"collections\": [\n",
    "        COLLECTION_ID,\n",
    "    ],\n",
    "    \"datetime\" : \"2023-09-09T00:00:00Z/2023-09-20T23:59:59Z\",\n",
    "    \"bbox\": [-11,35,\n",
    "              50,72 ],  \n",
    "    \"sortby\": [{\"field\": \"properties.eo:cloud_cover\",\"direction\": \"asc\"},\n",
    "               {\"field\": \"id\", \"direction\": \"desc\"}\n",
    "              ],\n",
    "    \"limit\": 10,\n",
    "}\n",
    "res=requests.post(SEARCH_URL, json=BODY, headers=auth_headers)\n",
    "\n",
    "display_as_json(res)    \n",
    "\n"
   ]
  },
  {
   "cell_type": "markdown",
   "id": "df93fec9-238d-42f2-b31f-686fc143f45e",
   "metadata": {},
   "source": [
    "#### Visualize search results\n",
    "\n",
    "Search results can be visualized on a map (first 10 items in this case)"
   ]
  },
  {
   "cell_type": "code",
   "execution_count": null,
   "id": "696fe368-6b33-446a-b2a4-84ae51c1f7dd",
   "metadata": {
    "tags": []
   },
   "outputs": [],
   "source": [
    "map1 = folium.Map([50, 0],\n",
    "                  zoom_start=2.2)\n",
    "\n",
    "bbox=[-11,35,50,72]\n",
    "fig = Figure(width=\"900px\", height=\"500px\")\n",
    "fig.add_child(map1)\n",
    "\n",
    "folium.GeoJson(\n",
    "    shapely.geometry.box(*bbox),style_function=lambda feature: {\n",
    "        \"fillColor\": \"#ffffaa\",\n",
    "        \"color\": \"black\",\n",
    "        \"weight\": 2,\n",
    "        \"dashArray\": \"5, 5\",\n",
    "    }\n",
    ").add_to(map1)\n",
    "\n",
    "results = folium.features.GeoJson( r.json(),style_function=lambda feature: {\n",
    "        \"fillColor\": \"#ff0000\",\n",
    "        \"color\": \"black\",\n",
    "        \"weight\": 1\n",
    "    })\n",
    "\n",
    "map1.add_child(results)\n",
    "\n",
    "display(fig)\n"
   ]
  },
  {
   "cell_type": "markdown",
   "id": "b068c44a",
   "metadata": {},
   "source": [
    "# Conclusion\n",
    "This small tutorial presented the HDA API, illustrated with some pieces of Python code showing how to send HTTP requests to the different endpoints, as well as the use of a few filtering capabilities.\n",
    "\n",
    "Again, more detail on each endpoint can be found in the [API documentation](https://dedl-bridge-hda.cyrus.apps.staging.cloudferro.com/docs)."
   ]
  },
  {
   "cell_type": "markdown",
   "id": "e34fd075",
   "metadata": {},
   "source": [
    "# FAQ\n",
    "\n",
    "### My request is failing due to unsupported provider\n",
    "A: This is totally normal and expected as your provider is not a valid host provider.\n",
    "\n",
    "Valid Host Providers can be found in the collection metadata with providers having **host** as a listed role.\n",
    "\n",
    "e.g \n",
    "\n",
    "```json\n",
    "\"roles\": [\n",
    "\n",
    "    \"processing\",\n",
    "\n",
    "    \"host\"\n",
    "\n",
    "]\n",
    "```\n",
    "\n",
    "### My `/search` or `/items` request return 0 items\n",
    "\n",
    "Multiple reasons can lead to no items returned in the response\n",
    "\n",
    "#### You are not authenticated\n",
    "\n",
    "You did not provide an access token in the request. An access token is required to search and access items in datasets.\n",
    "\n",
    "#### No parameters set in the request or too wide parameters\n",
    "\n",
    "The request parameters are not precise enough for the HDA API to give you a response. Narrow down your request by giving more specific parameters.\n",
    "\n",
    "e.g You can use a short datetime range like **datetime=2023-09-09T00:00:00Z/2023-09-21T00.00.00Z**\n",
    "\n",
    "#### There is no item matching the request parameters\n",
    "\n",
    "Modify the parameters to find items.\n",
    "\n",
    "\n",
    "### Expected products within the specified datetime range from my `/search` or `/items` requests are missing from the results\n",
    "\n",
    "As of now the search returns results rounded up to nearest milisecond. Please take this into account on your datetime queries.\n",
    "\n",
    "e.g Should you want to access an item with datetime in its metadata `2023-01-01T12:22:33:555`. This item may have in reality the datetime `2023-01-01T12:22:33:55487655`. Hence, your search filter should be `2023-01-01T12:22:33:554/2023-01-01T12:22:33:556`.\n",
    "\n"
   ]
  },
  {
   "cell_type": "code",
   "execution_count": null,
   "id": "5af520f2-99b1-4a96-a77d-bc647bfcf12d",
   "metadata": {},
   "outputs": [],
   "source": []
  }
 ],
 "metadata": {
  "kernelspec": {
   "display_name": "Python 3 (ipykernel)",
   "language": "python",
   "name": "python3"
  },
  "language_info": {
   "codemirror_mode": {
    "name": "ipython",
    "version": 3
   },
   "file_extension": ".py",
   "mimetype": "text/x-python",
   "name": "python",
   "nbconvert_exporter": "python",
   "pygments_lexer": "ipython3",
   "version": "3.11.4"
  },
  "toc-autonumbering": false,
  "vscode": {
   "interpreter": {
    "hash": "31f2aee4e71d21fbe5cf8b01ff0e069b9275f58929596ceb00d14d90e3e16cd6"
   }
  }
 },
 "nbformat": 4,
 "nbformat_minor": 5
}

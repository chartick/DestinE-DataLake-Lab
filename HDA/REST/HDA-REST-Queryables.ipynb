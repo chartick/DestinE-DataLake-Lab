{
 "cells": [
  {
   "cell_type": "markdown",
   "id": "a7087d07-483a-4f6d-b2e5-814409692a60",
   "metadata": {
    "tags": []
   },
   "source": [
    "![](https://github.com/destination-earth/DestinE-DataLake-Lab/blob/main/img/DestinE-banner.jpg?raw=true)"
   ]
  },
  {
   "cell_type": "markdown",
   "id": "6d49d742-a473-43d5-aab0-4f0dfb0bcfa2",
   "metadata": {
    "tags": []
   },
   "source": [
    "\n",
    "\n",
    "# DEDL - HDA Tutorial - Queryables"
   ]
  },
  {
   "cell_type": "markdown",
   "id": "36476d50",
   "metadata": {},
   "source": [
    "**Author**: EUMETSAT <br>\n",
    "**Copyright**: 2024 EUMETSAT <br>\n",
    "**Licence**: MIT <br>"
   ]
  },
  {
   "cell_type": "markdown",
   "id": "2624d113",
   "metadata": {},
   "source": [
    "<div class=\"alert alert-block alert-success\">\n",
    "<h3>How to use the queryables API</h3>\n",
    "The queryables API returns a list of variable terms that can be used for filtering the specified collection.     \n",
    "    \n",
    "The queryables API presents the appropriate filters for the selected dataset, determined by the chosen values. If the user selects a certain variable, the choice is narrowed down for other variables. \n",
    "This notebook demonstrates how to filter data in a specific collection using the list of variable terms returned by the queryables API. \n",
    "    \n",
    "<b>The notebook is dedicated to collections from C3S and DestinE digital twins.\n",
    "C3S and DestinE digital twins datasets offer a wide range of possibilities in terms of information and constraints and the queryables API is a valuable tool for exploring these datasets.</b>\n",
    "</div>"
   ]
  },
  {
   "cell_type": "markdown",
   "id": "a9ccea6e",
   "metadata": {},
   "source": [
    "Throughout this notebook, you will learn:\n",
    "\n",
    "1. [Authenticate](#Authenticate): How to authenticate for searching and access *DEDL* collections. \n",
    "2. [Queryables](#Queryables): How to exploit the STAC API filter extension features. The \"queryables\" API helps users to determine the property names and types available for filtering data.\n",
    "3. [Search data](#Search):  How to search *DEDL* data using filters obtained by the \"queryables\" API.\n",
    "4. [Download data](#Download): How to download *DEDL* data through HDA.\n"
   ]
  },
  {
   "cell_type": "markdown",
   "id": "14cf5489",
   "metadata": {},
   "source": [
    "The detailed HDA API and definition of each endpoint and parameters is available in the HDA Swagger UI at: \n",
    "[ STAC API - Filter Extension ](https://hda.data.destination-earth.eu/docs/#/STAC%20API%20-%20Filter%20Extension)"
   ]
  },
  {
   "cell_type": "markdown",
   "id": "1fb01f5a",
   "metadata": {},
   "source": [
    "<div class=\"alert alert-block alert-warning\">\n",
    "<b> Prequisites: </b>\n",
    "<li> For queryables API: none </li>\n",
    "<li> For filtering data inside collections : <a href=\"https://platform.destine.eu/\"> DestinE user account</a> </li>\n",
    "</div>"
   ]
  },
  {
   "cell_type": "markdown",
   "id": "af62c175",
   "metadata": {
    "tags": []
   },
   "source": [
    "# Authenticate\n",
    "## Define some constants for the API URLs\n",
    "In this section, we define the relevant constants, holding the URL strings for the different endpoints."
   ]
  },
  {
   "cell_type": "code",
   "execution_count": 14,
   "id": "6f12416e",
   "metadata": {
    "tags": []
   },
   "outputs": [],
   "source": [
    "# Collection https://hda.data.destination-earth.eu/ui/dataset/EO.ECMWF.DAT.CAMS_EUROPE_AIR_QUALITY_FORECASTS as default\n",
    "COLLECTION_ID = \"EO.ECMWF.DAT.CAMS_EUROPE_AIR_QUALITY_FORECASTS\"\n",
    "\n",
    "# Core API\n",
    "HDA_API_URL = \"https://hda.data.destination-earth.eu\"\n",
    "\n",
    "# STAC API\n",
    "## Core\n",
    "STAC_API_URL = f\"{HDA_API_URL}/stac\"\n",
    "\n",
    "## Item Search\n",
    "SEARCH_URL = f\"{STAC_API_URL}/search\"\n",
    "\n",
    "## Collections\n",
    "COLLECTIONS_URL = f\"{STAC_API_URL}/collections\"\n",
    "\n",
    "## Queryables\n",
    "QUERYABLES_URL = f\"{STAC_API_URL}/queryables\"\n",
    "QUERYABLES_BY_COLLECTION_ID = f\"{COLLECTIONS_URL}/{COLLECTION_ID}/queryables\"\n",
    "HDA_FILTERS =''\n",
    "\n",
    "## HTTP Success\n",
    "HTTP_SUCCESS_CODE = 200"
   ]
  },
  {
   "cell_type": "markdown",
   "id": "a1141f02",
   "metadata": {
    "tags": []
   },
   "source": [
    "## Import the relevant modules and define some functions\n",
    "We start off by importing the relevant modules for DestnE authentication, HTTP requests, json handling, widgets and some utility."
   ]
  },
  {
   "cell_type": "code",
   "execution_count": 15,
   "id": "04d63054-7794-4103-b51f-b1410a9921f9",
   "metadata": {
    "tags": []
   },
   "outputs": [],
   "source": [
    "import destinelab as deauth"
   ]
  },
  {
   "cell_type": "code",
   "execution_count": 16,
   "id": "041f8ed8-5903-4fec-9a81-4a1e6ccec104",
   "metadata": {
    "tags": []
   },
   "outputs": [],
   "source": [
    "import dedl_utilities"
   ]
  },
  {
   "cell_type": "code",
   "execution_count": 17,
   "id": "49d1b58a",
   "metadata": {
    "tags": []
   },
   "outputs": [],
   "source": [
    "import requests\n",
    "import json\n",
    "from getpass import getpass\n",
    "\n",
    "import ipywidgets as widgets\n",
    "from IPython.display import display, clear_output, HTML\n",
    "from ipywidgets import Layout, Box\n",
    "import datetime\n",
    "\n",
    "from rich.console import Console\n",
    "import rich.table\n",
    "\n",
    "from IPython.display import JSON\n"
   ]
  },
  {
   "cell_type": "markdown",
   "id": "3b6fe9f0-87ce-49f6-923f-42a0b48739ff",
   "metadata": {},
   "source": [
    "### Obtain Authentication Token\n",
    "To perform a query on HDA we need to be authenticated."
   ]
  },
  {
   "cell_type": "code",
   "execution_count": 18,
   "id": "85e64903-0276-4a18-9481-6698a2d14dbb",
   "metadata": {
    "tags": []
   },
   "outputs": [
    {
     "name": "stdin",
     "output_type": "stream",
     "text": [
      "Please input your DESP username or email:  eum-dedl-user\n",
      "Please input your DESP password:  ········\n"
     ]
    },
    {
     "name": "stdout",
     "output_type": "stream",
     "text": [
      "Response code: 200\n",
      "DEDL/DESP Access Token Obtained Successfully\n"
     ]
    }
   ],
   "source": [
    "DESP_USERNAME = input(\"Please input your DESP username or email: \")\n",
    "DESP_PASSWORD = getpass(\"Please input your DESP password: \")\n",
    "\n",
    "auth = deauth.AuthHandler(DESP_USERNAME, DESP_PASSWORD)\n",
    "access_token = auth.get_token()\n",
    "if access_token is not None:\n",
    "    print(\"DEDL/DESP Access Token Obtained Successfully\")\n",
    "else:\n",
    "    print(\"Failed to Obtain DEDL/DESP Access Token\")\n",
    "\n",
    "auth_headers = {\"Authorization\": f\"Bearer {access_token}\"}"
   ]
  },
  {
   "cell_type": "markdown",
   "id": "a6b12a10-37c5-4f9d-aded-213bcb8eec57",
   "metadata": {},
   "source": [
    "# Queryables\n",
    "\n",
    "The \"queryables\" API helps users to determine the property names and types available for filtering data inside a specific collection.\n",
    "\n",
    "Below a dropdown menu to choose the collection. We can choose the collection of which we want to inspect the filters."
   ]
  },
  {
   "cell_type": "code",
   "execution_count": 77,
   "id": "8a8d24a4-9589-4d4a-b81f-08e387cbb94a",
   "metadata": {
    "tags": []
   },
   "outputs": [
    {
     "data": {
      "application/vnd.jupyter.widget-view+json": {
       "model_id": "6bfba99cead64724a742f1903be7974b",
       "version_major": 2,
       "version_minor": 0
      },
      "text/plain": [
       "Box(children=(Dropdown(description='Collections:', options=('EO.ECMWF.DAT.CAMS_EUROPE_AIR_QUALITY_FORECASTS', …"
      ]
     },
     "metadata": {},
     "output_type": "display_data"
    }
   ],
   "source": [
    "prefix = \"EO.ECMWF\"\n",
    "\n",
    "dedlUtils=dedl_utilities.DEDLUtilities(COLLECTION_ID )\n",
    "dedlUtils.create_collections_dropdown(prefix)\n",
    "\n",
    "# Layout\n",
    "# Define the layout for the dropdown\n",
    "dropdown_layout = Layout(display='space-between', justify_content='center', width='90%')\n",
    "# Create a box to hold the dropdown with the specified layout\n",
    "box = Box([dedlUtils.dropdown, dedlUtils.outputArea], layout=dropdown_layout)\n",
    "display( box)  \n",
    "\n",
    "\n"
   ]
  },
  {
   "cell_type": "markdown",
   "id": "46f9d86c-0bfa-4ebc-978a-0268042e824e",
   "metadata": {},
   "source": [
    "The **QUERYABLES ENDPOINT** (above) returns the applicable filters under the section named 'properties'.\n",
    "\n",
    "The 'properties' section contains \n",
    "* the name of the filter, **description**,\n",
    "* the filter **type**, \n",
    "* the possible filter values, **enum** (conditioned by the values selected for the other filters)\n",
    "* and the the default (or chosen) **value** applied\n",
    "\n",
    "We can print the'properties' section for the selected collection in the table below.\n",
    "The table shows the filters and the values applied by default when we perform a search for the chosen dataset without specifying any filter."
   ]
  },
  {
   "cell_type": "code",
   "execution_count": 79,
   "id": "c692ab5c-2c47-427a-af1f-44ff4a3beb5c",
   "metadata": {
    "tags": []
   },
   "outputs": [
    {
     "data": {
      "text/html": [
       "<pre style=\"white-space:pre;overflow-x:auto;line-height:normal;font-family:Menlo,'DejaVu Sans Mono',consolas,'Courier New',monospace\"><span style=\"font-style: italic\">                                                Applicable filters                                                 </span>\n",
       "┏━━━━━━━━━━━━━━━┳━━━━━━━━━━┳━━━━━━━━━━━━━━━━━━━━━━━━━━━━━━━━━━━━━━━━━━━━━━┳━━━━━━━━━━━━━━━━━━━━━━━━━━━━━━━━━━━━━━━┓\n",
       "┃<span style=\"font-weight: bold\">   Description </span>┃<span style=\"font-weight: bold\">     Type </span>┃<span style=\"font-weight: bold\">                                         enum </span>┃<span style=\"font-weight: bold\">                                 value </span>┃\n",
       "┡━━━━━━━━━━━━━━━╇━━━━━━━━━━╇━━━━━━━━━━━━━━━━━━━━━━━━━━━━━━━━━━━━━━━━━━━━━━╇━━━━━━━━━━━━━━━━━━━━━━━━━━━━━━━━━━━━━━━┩\n",
       "│<span style=\"color: #008080; text-decoration-color: #008080\">          BBox </span>│<span style=\"color: #d787ff; text-decoration-color: #d787ff\">  \"array\" </span>│<span style=\"color: #d787ff; text-decoration-color: #d787ff\">                                              </span>│<span style=\"color: #d787ff; text-decoration-color: #d787ff\">                                       </span>│\n",
       "├───────────────┼──────────┼──────────────────────────────────────────────┼───────────────────────────────────────┤\n",
       "│<span style=\"color: #008080; text-decoration-color: #008080\">        format </span>│<span style=\"color: #d787ff; text-decoration-color: #d787ff\"> \"string\" </span>│<span style=\"color: #d787ff; text-decoration-color: #d787ff\">                                grib , netcdf </span>│<span style=\"color: #d787ff; text-decoration-color: #d787ff\">                                \"grib\" </span>│\n",
       "├───────────────┼──────────┼──────────────────────────────────────────────┼───────────────────────────────────────┤\n",
       "│<span style=\"color: #008080; text-decoration-color: #008080\">      variable </span>│<span style=\"color: #d787ff; text-decoration-color: #d787ff\"> \"string\" </span>│<span style=\"color: #d787ff; text-decoration-color: #d787ff\">       river_discharge_in_the_last_24_hours , </span>│<span style=\"color: #d787ff; text-decoration-color: #d787ff\"> \"river_discharge_in_the_last_6_hours\" </span>│\n",
       "│<span style=\"color: #008080; text-decoration-color: #008080\">               </span>│<span style=\"color: #d787ff; text-decoration-color: #d787ff\">          </span>│<span style=\"color: #d787ff; text-decoration-color: #d787ff\">        river_discharge_in_the_last_6_hours , </span>│<span style=\"color: #d787ff; text-decoration-color: #d787ff\">                                       </span>│\n",
       "│<span style=\"color: #008080; text-decoration-color: #008080\">               </span>│<span style=\"color: #d787ff; text-decoration-color: #d787ff\">          </span>│<span style=\"color: #d787ff; text-decoration-color: #d787ff\">                  snow_depth_water_equivalent </span>│<span style=\"color: #d787ff; text-decoration-color: #d787ff\">                                       </span>│\n",
       "├───────────────┼──────────┼──────────────────────────────────────────────┼───────────────────────────────────────┤\n",
       "│<span style=\"color: #008080; text-decoration-color: #008080\">          time </span>│<span style=\"color: #d787ff; text-decoration-color: #d787ff\"> \"string\" </span>│<span style=\"color: #d787ff; text-decoration-color: #d787ff\">                                00:00 , 12:00 </span>│<span style=\"color: #d787ff; text-decoration-color: #d787ff\">                               \"00:00\" </span>│\n",
       "├───────────────┼──────────┼──────────────────────────────────────────────┼───────────────────────────────────────┤\n",
       "│<span style=\"color: #008080; text-decoration-color: #008080\"> leadtime_hour </span>│<span style=\"color: #d787ff; text-decoration-color: #d787ff\"> \"string\" </span>│<span style=\"color: #d787ff; text-decoration-color: #d787ff\"> 0 , 102 , 108 , 114 , 12 , 120 , 126 , 132 , </span>│<span style=\"color: #d787ff; text-decoration-color: #d787ff\">                                  \"24\" </span>│\n",
       "│<span style=\"color: #008080; text-decoration-color: #008080\">               </span>│<span style=\"color: #d787ff; text-decoration-color: #d787ff\">          </span>│<span style=\"color: #d787ff; text-decoration-color: #d787ff\"> 138 , 144 , 150 , 156 , 162 , 168 , 174 , 18 </span>│<span style=\"color: #d787ff; text-decoration-color: #d787ff\">                                       </span>│\n",
       "│<span style=\"color: #008080; text-decoration-color: #008080\">               </span>│<span style=\"color: #d787ff; text-decoration-color: #d787ff\">          </span>│<span style=\"color: #d787ff; text-decoration-color: #d787ff\">  , 180 , 186 , 192 , 198 , 204 , 210 , 216 , </span>│<span style=\"color: #d787ff; text-decoration-color: #d787ff\">                                       </span>│\n",
       "│<span style=\"color: #008080; text-decoration-color: #008080\">               </span>│<span style=\"color: #d787ff; text-decoration-color: #d787ff\">          </span>│<span style=\"color: #d787ff; text-decoration-color: #d787ff\"> 222 , 228 , 234 , 24 , 240 , 246 , 252 , 258 </span>│<span style=\"color: #d787ff; text-decoration-color: #d787ff\">                                       </span>│\n",
       "│<span style=\"color: #008080; text-decoration-color: #008080\">               </span>│<span style=\"color: #d787ff; text-decoration-color: #d787ff\">          </span>│<span style=\"color: #d787ff; text-decoration-color: #d787ff\">   , 264 , 270 , 276 , 282 , 288 , 294 , 30 , </span>│<span style=\"color: #d787ff; text-decoration-color: #d787ff\">                                       </span>│\n",
       "│<span style=\"color: #008080; text-decoration-color: #008080\">               </span>│<span style=\"color: #d787ff; text-decoration-color: #d787ff\">          </span>│<span style=\"color: #d787ff; text-decoration-color: #d787ff\">    300 , 306 , 312 , 318 , 324 , 330 , 336 , </span>│<span style=\"color: #d787ff; text-decoration-color: #d787ff\">                                       </span>│\n",
       "│<span style=\"color: #008080; text-decoration-color: #008080\">               </span>│<span style=\"color: #d787ff; text-decoration-color: #d787ff\">          </span>│<span style=\"color: #d787ff; text-decoration-color: #d787ff\">  342 , 348 , 354 , 36 , 360 , 42 , 48 , 54 , </span>│<span style=\"color: #d787ff; text-decoration-color: #d787ff\">                                       </span>│\n",
       "│<span style=\"color: #008080; text-decoration-color: #008080\">               </span>│<span style=\"color: #d787ff; text-decoration-color: #d787ff\">          </span>│<span style=\"color: #d787ff; text-decoration-color: #d787ff\">         6 , 60 , 66 , 72 , 78 , 84 , 90 , 96 </span>│<span style=\"color: #d787ff; text-decoration-color: #d787ff\">                                       </span>│\n",
       "└───────────────┴──────────┴──────────────────────────────────────────────┴───────────────────────────────────────┘\n",
       "</pre>\n"
      ],
      "text/plain": [
       "\u001b[3m                                                Applicable filters                                                 \u001b[0m\n",
       "┏━━━━━━━━━━━━━━━┳━━━━━━━━━━┳━━━━━━━━━━━━━━━━━━━━━━━━━━━━━━━━━━━━━━━━━━━━━━┳━━━━━━━━━━━━━━━━━━━━━━━━━━━━━━━━━━━━━━━┓\n",
       "┃\u001b[1m \u001b[0m\u001b[1m  Description\u001b[0m\u001b[1m \u001b[0m┃\u001b[1m \u001b[0m\u001b[1m    Type\u001b[0m\u001b[1m \u001b[0m┃\u001b[1m \u001b[0m\u001b[1m                                        enum\u001b[0m\u001b[1m \u001b[0m┃\u001b[1m \u001b[0m\u001b[1m                                value\u001b[0m\u001b[1m \u001b[0m┃\n",
       "┡━━━━━━━━━━━━━━━╇━━━━━━━━━━╇━━━━━━━━━━━━━━━━━━━━━━━━━━━━━━━━━━━━━━━━━━━━━━╇━━━━━━━━━━━━━━━━━━━━━━━━━━━━━━━━━━━━━━━┩\n",
       "│\u001b[36m \u001b[0m\u001b[36m         BBox\u001b[0m\u001b[36m \u001b[0m│\u001b[38;5;177m \u001b[0m\u001b[38;5;177m \"array\"\u001b[0m\u001b[38;5;177m \u001b[0m│\u001b[38;5;177m \u001b[0m\u001b[38;5;177m                                            \u001b[0m\u001b[38;5;177m \u001b[0m│\u001b[38;5;177m \u001b[0m\u001b[38;5;177m                                     \u001b[0m\u001b[38;5;177m \u001b[0m│\n",
       "├───────────────┼──────────┼──────────────────────────────────────────────┼───────────────────────────────────────┤\n",
       "│\u001b[36m \u001b[0m\u001b[36m       format\u001b[0m\u001b[36m \u001b[0m│\u001b[38;5;177m \u001b[0m\u001b[38;5;177m\"string\"\u001b[0m\u001b[38;5;177m \u001b[0m│\u001b[38;5;177m \u001b[0m\u001b[38;5;177m                               grib , netcdf\u001b[0m\u001b[38;5;177m \u001b[0m│\u001b[38;5;177m \u001b[0m\u001b[38;5;177m                               \"grib\"\u001b[0m\u001b[38;5;177m \u001b[0m│\n",
       "├───────────────┼──────────┼──────────────────────────────────────────────┼───────────────────────────────────────┤\n",
       "│\u001b[36m \u001b[0m\u001b[36m     variable\u001b[0m\u001b[36m \u001b[0m│\u001b[38;5;177m \u001b[0m\u001b[38;5;177m\"string\"\u001b[0m\u001b[38;5;177m \u001b[0m│\u001b[38;5;177m \u001b[0m\u001b[38;5;177m      river_discharge_in_the_last_24_hours ,\u001b[0m\u001b[38;5;177m \u001b[0m│\u001b[38;5;177m \u001b[0m\u001b[38;5;177m\"river_discharge_in_the_last_6_hours\"\u001b[0m\u001b[38;5;177m \u001b[0m│\n",
       "│\u001b[36m               \u001b[0m│\u001b[38;5;177m          \u001b[0m│\u001b[38;5;177m \u001b[0m\u001b[38;5;177m       river_discharge_in_the_last_6_hours ,\u001b[0m\u001b[38;5;177m \u001b[0m│\u001b[38;5;177m                                       \u001b[0m│\n",
       "│\u001b[36m               \u001b[0m│\u001b[38;5;177m          \u001b[0m│\u001b[38;5;177m \u001b[0m\u001b[38;5;177m                 snow_depth_water_equivalent\u001b[0m\u001b[38;5;177m \u001b[0m│\u001b[38;5;177m                                       \u001b[0m│\n",
       "├───────────────┼──────────┼──────────────────────────────────────────────┼───────────────────────────────────────┤\n",
       "│\u001b[36m \u001b[0m\u001b[36m         time\u001b[0m\u001b[36m \u001b[0m│\u001b[38;5;177m \u001b[0m\u001b[38;5;177m\"string\"\u001b[0m\u001b[38;5;177m \u001b[0m│\u001b[38;5;177m \u001b[0m\u001b[38;5;177m                               00:00 , 12:00\u001b[0m\u001b[38;5;177m \u001b[0m│\u001b[38;5;177m \u001b[0m\u001b[38;5;177m                              \"00:00\"\u001b[0m\u001b[38;5;177m \u001b[0m│\n",
       "├───────────────┼──────────┼──────────────────────────────────────────────┼───────────────────────────────────────┤\n",
       "│\u001b[36m \u001b[0m\u001b[36mleadtime_hour\u001b[0m\u001b[36m \u001b[0m│\u001b[38;5;177m \u001b[0m\u001b[38;5;177m\"string\"\u001b[0m\u001b[38;5;177m \u001b[0m│\u001b[38;5;177m \u001b[0m\u001b[38;5;177m0 , 102 , 108 , 114 , 12 , 120 , 126 , 132 ,\u001b[0m\u001b[38;5;177m \u001b[0m│\u001b[38;5;177m \u001b[0m\u001b[38;5;177m                                 \"24\"\u001b[0m\u001b[38;5;177m \u001b[0m│\n",
       "│\u001b[36m               \u001b[0m│\u001b[38;5;177m          \u001b[0m│\u001b[38;5;177m \u001b[0m\u001b[38;5;177m138 , 144 , 150 , 156 , 162 , 168 , 174 , 18\u001b[0m\u001b[38;5;177m \u001b[0m│\u001b[38;5;177m                                       \u001b[0m│\n",
       "│\u001b[36m               \u001b[0m│\u001b[38;5;177m          \u001b[0m│\u001b[38;5;177m \u001b[0m\u001b[38;5;177m , 180 , 186 , 192 , 198 , 204 , 210 , 216 ,\u001b[0m\u001b[38;5;177m \u001b[0m│\u001b[38;5;177m                                       \u001b[0m│\n",
       "│\u001b[36m               \u001b[0m│\u001b[38;5;177m          \u001b[0m│\u001b[38;5;177m \u001b[0m\u001b[38;5;177m222 , 228 , 234 , 24 , 240 , 246 , 252 , 258\u001b[0m\u001b[38;5;177m \u001b[0m│\u001b[38;5;177m                                       \u001b[0m│\n",
       "│\u001b[36m               \u001b[0m│\u001b[38;5;177m          \u001b[0m│\u001b[38;5;177m \u001b[0m\u001b[38;5;177m  , 264 , 270 , 276 , 282 , 288 , 294 , 30 ,\u001b[0m\u001b[38;5;177m \u001b[0m│\u001b[38;5;177m                                       \u001b[0m│\n",
       "│\u001b[36m               \u001b[0m│\u001b[38;5;177m          \u001b[0m│\u001b[38;5;177m \u001b[0m\u001b[38;5;177m   300 , 306 , 312 , 318 , 324 , 330 , 336 ,\u001b[0m\u001b[38;5;177m \u001b[0m│\u001b[38;5;177m                                       \u001b[0m│\n",
       "│\u001b[36m               \u001b[0m│\u001b[38;5;177m          \u001b[0m│\u001b[38;5;177m \u001b[0m\u001b[38;5;177m 342 , 348 , 354 , 36 , 360 , 42 , 48 , 54 ,\u001b[0m\u001b[38;5;177m \u001b[0m│\u001b[38;5;177m                                       \u001b[0m│\n",
       "│\u001b[36m               \u001b[0m│\u001b[38;5;177m          \u001b[0m│\u001b[38;5;177m \u001b[0m\u001b[38;5;177m        6 , 60 , 66 , 72 , 78 , 84 , 90 , 96\u001b[0m\u001b[38;5;177m \u001b[0m│\u001b[38;5;177m                                       \u001b[0m│\n",
       "└───────────────┴──────────┴──────────────────────────────────────────────┴───────────────────────────────────────┘\n"
      ]
     },
     "metadata": {},
     "output_type": "display_data"
    }
   ],
   "source": [
    "filters_resp=requests.get(dedlUtils.queryablesByCollectionId)\n",
    "\n",
    "filters = filters_resp.json()[\"properties\"]\n",
    "dedlQueryablesUtils=dedl_utilities.DEDLQueryablesUtilities(dedlUtils.collectionId)\n",
    "console = Console()\n",
    "console.print(dedlQueryablesUtils.create_queryables_table(filters))"
   ]
  },
  {
   "cell_type": "markdown",
   "id": "b4ae9c40-9305-49d1-9002-1f795c0bf571",
   "metadata": {},
   "source": [
    "Calling the queryables API specifying filters, that means using as parameters the values chosen for filtering the selected dataset, the API replies with the applicable filters, conditioned by the chosen values. \n",
    "Then if the user selects a certain value for a parameter then the choice is narrowed down for other variables.\n",
    "\n",
    "The queryables API, in this way, helps user to build a correct search request for the given dataset.\n",
    "\n",
    "Below an interactive example, to see that once you select a value for a property the choice is narrowed down for other variables. "
   ]
  },
  {
   "cell_type": "code",
   "execution_count": 80,
   "id": "544ac58f-4851-4d68-b552-d332ca31e58d",
   "metadata": {
    "tags": []
   },
   "outputs": [
    {
     "data": {
      "application/vnd.jupyter.widget-view+json": {
       "model_id": "1020f38c8fd549dc8ed0fa554d91ff28",
       "version_major": 2,
       "version_minor": 0
      },
      "text/plain": [
       "VBox(children=(Dropdown(description='format', options=('', 'grib', 'netcdf'), value=''), Dropdown(description=…"
      ]
     },
     "metadata": {},
     "output_type": "display_data"
    },
    {
     "data": {
      "application/vnd.jupyter.widget-view+json": {
       "model_id": "1b3247a74caa4023a92a25a92056ec6d",
       "version_major": 2,
       "version_minor": 0
      },
      "text/plain": [
       "Output()"
      ]
     },
     "metadata": {},
     "output_type": "display_data"
    }
   ],
   "source": [
    "# Event listeners\n",
    "dedlQueryablesUtils.update_queryables_dropdowns()\n",
    "display(dedlQueryablesUtils.dropdownContainer, dedlQueryablesUtils.outputArea)"
   ]
  },
  {
   "cell_type": "markdown",
   "id": "6f776ea7-1819-4b8f-a63a-79019d92dd80",
   "metadata": {
    "tags": []
   },
   "source": [
    "## Filtering a collection with the list returned by the queryable API\n",
    "\n",
    "This section wil show how to use the list of variable terms returned by the queryables API for filtering a specific dataset. "
   ]
  },
  {
   "cell_type": "markdown",
   "id": "d945c72f-3aa7-4059-a55f-638ab5eb3aa2",
   "metadata": {},
   "source": [
    "#### If you choose a digital twins collection, check if the access is granted\n",
    "\n",
    "If DT access is not granted, you will not be able to search and access DT data."
   ]
  },
  {
   "cell_type": "code",
   "execution_count": 81,
   "id": "d52ce1e1-a580-4e3f-8581-fcddd797dd99",
   "metadata": {
    "tags": []
   },
   "outputs": [
    {
     "name": "stdout",
     "output_type": "stream",
     "text": [
      "DT Output access allowed\n"
     ]
    },
    {
     "data": {
      "text/plain": [
       "True"
      ]
     },
     "execution_count": 81,
     "metadata": {},
     "output_type": "execute_result"
    }
   ],
   "source": [
    "auth.is_DTaccess_allowed(access_token)"
   ]
  },
  {
   "cell_type": "markdown",
   "id": "9f7b0212-8a1b-4148-abf4-a86a291d8ec4",
   "metadata": {
    "tags": []
   },
   "source": [
    "### Build the query from the selected values\n",
    "The parameters chosen in the previous steps can be used to build the corresponding HDA queries."
   ]
  },
  {
   "cell_type": "code",
   "execution_count": 82,
   "id": "57c76314-c175-4417-8fd4-9450c5ffa5da",
   "metadata": {
    "tags": []
   },
   "outputs": [
    {
     "name": "stdout",
     "output_type": "stream",
     "text": [
      "{\n",
      "    \"collections\": [\n",
      "        \"EO.ECMWF.DAT.EFAS_FORECAST\"\n",
      "    ],\n",
      "    \"datetime\": \"2024-04-01T00:00:00Z/2024-04-19T00:00:00Z\",\n",
      "    \"query\": {\n",
      "        \"format\": {\n",
      "            \"eq\": \"netcdf\"\n",
      "        },\n",
      "        \"variable\": {\n",
      "            \"eq\": \"snow_depth_water_equivalent\"\n",
      "        },\n",
      "        \"time\": {\n",
      "            \"eq\": \"12:00\"\n",
      "        },\n",
      "        \"leadtime_hour\": {\n",
      "            \"eq\": \"0\"\n",
      "        }\n",
      "    }\n",
      "}\n"
     ]
    }
   ],
   "source": [
    "# The JSON objects containing the generic query parameters:\n",
    "jsonGenericQuery = '{\"collections\": [\"'+dedlUtils.collectionId+'\"], \"datetime\": \"2024-04-01T00:00:00Z/2024-04-19T00:00:00Z\"}'\n",
    "# Convert JSON strings to Python dictionaries\n",
    "dictQuery = json.loads(jsonGenericQuery)\n",
    "\n",
    "# Include the filters selected in the previous steps inside the JSON containing the generic query parameters:\n",
    "dictQuery['query'] = dedlQueryablesUtils.hdaFilters\n",
    "# Convert the merged dictionary back to a JSON string\n",
    "queryJson = json.dumps(dictQuery, indent=4)\n",
    "\n",
    "print(queryJson)"
   ]
  },
  {
   "cell_type": "markdown",
   "id": "a0bb43b9-c94b-48bf-a62b-3db3b7eb2a65",
   "metadata": {},
   "source": [
    "## Search"
   ]
  },
  {
   "cell_type": "code",
   "execution_count": 83,
   "id": "efc07366-4493-40f3-a7ff-24b7bb0a1f5d",
   "metadata": {
    "tags": []
   },
   "outputs": [
    {
     "data": {
      "application/json": {
       "assets": {
        "downloadLink": {
         "alternate": {
          "origin": {
           "href": "Not Available#?_dc_qs=%7B%22data_format%22%3A+%22netcdf%22%2C+%22day%22%3A+%5B%2206%22%2C+%2218%22%2C+%2211%22%2C+%2210%22%2C+%2204%22%2C+%2214%22%2C+%2216%22%2C+%2205%22%2C+%2213%22%2C+%2202%22%2C+%2212%22%2C+%2208%22%2C+%2207%22%2C+%2215%22%2C+%2203%22%2C+%2201%22%2C+%2217%22%2C+%2209%22%5D%2C+%22download_format%22%3A+%22zip%22%2C+%22leadtime_hour%22%3A+0%2C+%22model_levels%22%3A+%22surface_level%22%2C+%22month%22%3A+%2204%22%2C+%22originating_centre%22%3A+%22ecmwf%22%2C+%22product_type%22%3A+%22control_forecast%22%2C+%22system_version%22%3A+%22operational%22%2C+%22time%22%3A+%2212%3A00%22%2C+%22variable%22%3A+%22snow_depth_water_equivalent%22%2C+%22year%22%3A+%222024%22%7D",
           "title": "Origin asset link"
          }
         },
         "href": "https://hda.data.destination-earth.eu/stac/collections/EO.ECMWF.DAT.EFAS_FORECAST/items/EFAS_FORECAST_20240401_20240418_55ac68f84c9bfecb725a477c1def8d8e7624f740/download?provider=copernicus_climate_data_store&_dc_qs=%257B%2522data_format%2522%253A%2B%2522netcdf%2522%252C%2B%2522day%2522%253A%2B%255B%252206%2522%252C%2B%252218%2522%252C%2B%252211%2522%252C%2B%252210%2522%252C%2B%252204%2522%252C%2B%252214%2522%252C%2B%252216%2522%252C%2B%252205%2522%252C%2B%252213%2522%252C%2B%252202%2522%252C%2B%252212%2522%252C%2B%252208%2522%252C%2B%252207%2522%252C%2B%252215%2522%252C%2B%252203%2522%252C%2B%252201%2522%252C%2B%252217%2522%252C%2B%252209%2522%255D%252C%2B%2522download_format%2522%253A%2B%2522zip%2522%252C%2B%2522leadtime_hour%2522%253A%2B0%252C%2B%2522model_levels%2522%253A%2B%2522surface_level%2522%252C%2B%2522month%2522%253A%2B%252204%2522%252C%2B%2522originating_centre%2522%253A%2B%2522ecmwf%2522%252C%2B%2522product_type%2522%253A%2B%2522control_forecast%2522%252C%2B%2522system_version%2522%253A%2B%2522operational%2522%252C%2B%2522time%2522%253A%2B%252212%253A00%2522%252C%2B%2522variable%2522%253A%2B%2522snow_depth_water_equivalent%2522%252C%2B%2522year%2522%253A%2B%25222024%2522%257D",
         "storage:tier": "OFFLINE",
         "title": "Download link",
         "type": "application/zip"
        }
       },
       "bbox": [
        -180,
        -90,
        180,
        90
       ],
       "collection": "EO.ECMWF.DAT.EFAS_FORECAST",
       "geometry": {
        "coordinates": [
         [
          [
           180,
           -90
          ],
          [
           180,
           90
          ],
          [
           -180,
           90
          ],
          [
           -180,
           -90
          ],
          [
           180,
           -90
          ]
         ]
        ],
        "type": "Polygon"
       },
       "id": "EFAS_FORECAST_20240401_20240418_55ac68f84c9bfecb725a477c1def8d8e7624f740",
       "links": [
        {
         "href": "https://hda.data.destination-earth.eu/stac/collections/EO.ECMWF.DAT.EFAS_FORECAST/items/EFAS_FORECAST_20240401_20240418_55ac68f84c9bfecb725a477c1def8d8e7624f740?provider=copernicus_climate_data_store&_dc_qs=%257B%2522data_format%2522%253A%2B%2522netcdf%2522%252C%2B%2522day%2522%253A%2B%255B%252206%2522%252C%2B%252218%2522%252C%2B%252211%2522%252C%2B%252210%2522%252C%2B%252204%2522%252C%2B%252214%2522%252C%2B%252216%2522%252C%2B%252205%2522%252C%2B%252213%2522%252C%2B%252202%2522%252C%2B%252212%2522%252C%2B%252208%2522%252C%2B%252207%2522%252C%2B%252215%2522%252C%2B%252203%2522%252C%2B%252201%2522%252C%2B%252217%2522%252C%2B%252209%2522%255D%252C%2B%2522download_format%2522%253A%2B%2522zip%2522%252C%2B%2522leadtime_hour%2522%253A%2B0%252C%2B%2522model_levels%2522%253A%2B%2522surface_level%2522%252C%2B%2522month%2522%253A%2B%252204%2522%252C%2B%2522originating_centre%2522%253A%2B%2522ecmwf%2522%252C%2B%2522product_type%2522%253A%2B%2522control_forecast%2522%252C%2B%2522system_version%2522%253A%2B%2522operational%2522%252C%2B%2522time%2522%253A%2B%252212%253A00%2522%252C%2B%2522variable%2522%253A%2B%2522snow_depth_water_equivalent%2522%252C%2B%2522year%2522%253A%2B%25222024%2522%257D",
         "rel": "self",
         "title": "EFAS_FORECAST_20240401_20240418_55ac68f84c9bfecb725a477c1def8d8e7624f740"
        },
        {
         "href": "https://hda.data.destination-earth.eu/stac/",
         "rel": "root"
        },
        {
         "href": "https://hda.data.destination-earth.eu/stac/collections/EO.ECMWF.DAT.EFAS_FORECAST",
         "rel": "parent",
         "title": "EO.ECMWF.DAT.EFAS_FORECAST"
        },
        {
         "href": "https://hda.data.destination-earth.eu/stac/collections/EO.ECMWF.DAT.EFAS_FORECAST",
         "rel": "collection",
         "title": "EO.ECMWF.DAT.EFAS_FORECAST"
        }
       ],
       "properties": {
        "copernicus_climate_data_store:alias": "EO.ECMWF.DAT.EFAS_FORECAST",
        "copernicus_climate_data_store:api_product_type": "control_forecast",
        "copernicus_climate_data_store:dataset": "efas-forecast",
        "copernicus_climate_data_store:day": [
         "06",
         18,
         11,
         10,
         "04",
         14,
         16,
         "05",
         13,
         "02",
         12,
         "08",
         "07",
         15,
         "03",
         "01",
         17,
         "09"
        ],
        "copernicus_climate_data_store:download_format": "zip",
        "copernicus_climate_data_store:format": "netcdf",
        "copernicus_climate_data_store:leadtime_hour": 0,
        "copernicus_climate_data_store:model_levels": "surface_level",
        "copernicus_climate_data_store:month": "04",
        "copernicus_climate_data_store:originating_centre": "ecmwf",
        "copernicus_climate_data_store:scope": {
         "discover": null,
         "download": "hda-public-data-access",
         "search": "hda-public-data-access"
        },
        "copernicus_climate_data_store:system_version": "operational",
        "copernicus_climate_data_store:time": "12:00",
        "copernicus_climate_data_store:variable": "snow_depth_water_equivalent",
        "copernicus_climate_data_store:year": 2024,
        "datetime": "2024-04-01T00:00:00.000Z",
        "end_datetime": "2024-04-18T00:00:00.000Z",
        "instruments": [
         null
        ],
        "license": "proprietary",
        "order:status": "orderable",
        "providers": [
         {
          "description": "Copernicus Climate Data Store",
          "name": "copernicus_climate_data_store",
          "priority": 0,
          "roles": [
           "host"
          ],
          "url": "https://cds-beta.climate.copernicus.eu"
         }
        ],
        "sar:product_type": "EFAS_FORECAST",
        "start_datetime": "2024-04-01T00:00:00.000Z"
       },
       "stac_extensions": [
        "https://stac-extensions.github.io/sar/v1.0.0/schema.json",
        "https://stac-extensions.github.io/order/v1.1.0/schema.json"
       ],
       "stac_version": "1.0.0",
       "type": "Feature"
      },
      "text/plain": [
       "<IPython.core.display.JSON object>"
      ]
     },
     "execution_count": 83,
     "metadata": {
      "application/json": {
       "expanded": false,
       "root": "root"
      }
     },
     "output_type": "execute_result"
    }
   ],
   "source": [
    "response = requests.post(\"https://hda.data.destination-earth.eu/stac/search\", headers=auth_headers, json= json.loads(queryJson) )\n",
    "#print(response)\n",
    "# Requests to ADS data always return a single item containing all the requested data\n",
    "product = response.json()[\"features\"][0]\n",
    "JSON(product, expanded= False)"
   ]
  },
  {
   "cell_type": "markdown",
   "id": "06fa5a8f-3d25-4559-a8c9-09ae05387c3a",
   "metadata": {},
   "source": [
    "# Download\n",
    "Once we have found the product we can download it:\n"
   ]
  },
  {
   "cell_type": "code",
   "execution_count": 84,
   "id": "e1aafd3e-2d54-4151-b5da-a3e527d3ede9",
   "metadata": {
    "tags": []
   },
   "outputs": [
    {
     "name": "stdout",
     "output_type": "stream",
     "text": [
      "https://hda.data.destination-earth.eu/stac/collections/EO.ECMWF.DAT.EFAS_FORECAST/items/EFAS_FORECAST_20240401_20240418_55ac68f84c9bfecb725a477c1def8d8e7624f740/download?provider=copernicus_climate_data_store&_dc_qs=%257B%2522data_format%2522%253A%2B%2522netcdf%2522%252C%2B%2522day%2522%253A%2B%255B%252206%2522%252C%2B%252218%2522%252C%2B%252211%2522%252C%2B%252210%2522%252C%2B%252204%2522%252C%2B%252214%2522%252C%2B%252216%2522%252C%2B%252205%2522%252C%2B%252213%2522%252C%2B%252202%2522%252C%2B%252212%2522%252C%2B%252208%2522%252C%2B%252207%2522%252C%2B%252215%2522%252C%2B%252203%2522%252C%2B%252201%2522%252C%2B%252217%2522%252C%2B%252209%2522%255D%252C%2B%2522download_format%2522%253A%2B%2522zip%2522%252C%2B%2522leadtime_hour%2522%253A%2B0%252C%2B%2522model_levels%2522%253A%2B%2522surface_level%2522%252C%2B%2522month%2522%253A%2B%252204%2522%252C%2B%2522originating_centre%2522%253A%2B%2522ecmwf%2522%252C%2B%2522product_type%2522%253A%2B%2522control_forecast%2522%252C%2B%2522system_version%2522%253A%2B%2522operational%2522%252C%2B%2522time%2522%253A%2B%252212%253A00%2522%252C%2B%2522variable%2522%253A%2B%2522snow_depth_water_equivalent%2522%252C%2B%2522year%2522%253A%2B%25222024%2522%257D\n"
     ]
    }
   ],
   "source": [
    "download_url = product[\"assets\"][\"downloadLink\"][\"href\"]\n",
    "print(download_url )"
   ]
  },
  {
   "cell_type": "code",
   "execution_count": null,
   "id": "e09e9ac8-bb1d-46f8-b1e9-6c9302a45299",
   "metadata": {
    "tags": []
   },
   "outputs": [],
   "source": [
    "from tqdm import tqdm\n",
    "import time\n",
    "import re\n",
    "direct_download_url=''\n",
    "\n",
    "response = requests.get(download_url, headers=auth_headers)\n",
    "if (response.status_code == HTTP_SUCCESS_CODE):\n",
    "    direct_download_url = product['assets']['downloadLink']['href']\n",
    "else:\n",
    "    JSON(response.json(), expanded=True)\n",
    "\n",
    "\n",
    "# we poll as long as the data is not ready\n",
    "if direct_download_url=='':\n",
    "    while url := response.headers.get(\"Location\"):\n",
    "        print(f\"order status: {response.json()['status']}\")\n",
    "        response = requests.get(url, headers=auth_headers, stream=True)\n",
    "        response.raise_for_status()\n",
    "\n",
    "filename = re.findall('filename=\\\"?(.+)\\\"?', response.headers[\"Content-Disposition\"])[0]\n",
    "total_size = int(response.headers.get(\"content-length\", 0))\n",
    "\n",
    "print(f\"downloading {filename}\")\n",
    "\n",
    "with tqdm(total=total_size, unit=\"B\", unit_scale=True) as progress_bar:\n",
    "    with open(filename, 'wb') as f:\n",
    "        for data in response.iter_content(1024):\n",
    "            progress_bar.update(len(data))\n",
    "            f.write(data)"
   ]
  }
 ],
 "metadata": {
  "kernelspec": {
   "display_name": "Python DEDL",
   "language": "python",
   "name": "python_dedl"
  },
  "language_info": {
   "codemirror_mode": {
    "name": "ipython",
    "version": 3
   },
   "file_extension": ".py",
   "mimetype": "text/x-python",
   "name": "python",
   "nbconvert_exporter": "python",
   "pygments_lexer": "ipython3",
   "version": "3.11.4"
  },
  "toc-autonumbering": false,
  "vscode": {
   "interpreter": {
    "hash": "31f2aee4e71d21fbe5cf8b01ff0e069b9275f58929596ceb00d14d90e3e16cd6"
   }
  }
 },
 "nbformat": 4,
 "nbformat_minor": 5
}

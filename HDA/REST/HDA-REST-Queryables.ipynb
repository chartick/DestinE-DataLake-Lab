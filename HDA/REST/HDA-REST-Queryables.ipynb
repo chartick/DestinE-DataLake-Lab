{
 "cells": [
  {
   "cell_type": "markdown",
   "id": "a7087d07-483a-4f6d-b2e5-814409692a60",
   "metadata": {
    "tags": []
   },
   "source": [
    "![](https://github.com/destination-earth/DestinE-DataLake-Lab/blob/main/img/DestinE-banner.jpg?raw=true)"
   ]
  },
  {
   "cell_type": "markdown",
   "id": "6d49d742-a473-43d5-aab0-4f0dfb0bcfa2",
   "metadata": {
    "tags": []
   },
   "source": [
    "\n",
    "\n",
    "# DEDL - HDA Tutorial - Queryables"
   ]
  },
  {
   "cell_type": "markdown",
   "id": "36476d50",
   "metadata": {},
   "source": [
    "<br> Author: EUMETSAT </br>"
   ]
  },
  {
   "cell_type": "markdown",
   "id": "2624d113",
   "metadata": {},
   "source": [
    "<div class=\"alert alert-block alert-success\">\n",
    "<h3>How to use the queryables API</h3>\n",
    "The queryables API returns a list of variable terms that can be used for filtering the specified collection.     \n",
    "\n",
    "This notebook demonstrates how to filter data in a specific collection using the list of variable terms returned by the queryables API. \n",
    "</div>"
   ]
  },
  {
   "cell_type": "markdown",
   "id": "a9ccea6e",
   "metadata": {},
   "source": [
    "Throughout this notebook, you will learn:\n",
    "\n",
    "1. [Authenticate](#Authenticate): How to authenticate for searching and access *DEDL* collections. \n",
    "2. [Queryables](#Queryables): How to exploit the STAC API filter extension features. The \"queryables\" API helps users to determine the property names and types available for filtering data.\n",
    "3. [Search data](#Search):  How to search *DEDL* data using filters obtained by the \"queryables\" API.\n",
    "4. [Download data](#Download): How to download *DEDL* data through HDA.\n"
   ]
  },
  {
   "cell_type": "markdown",
   "id": "14cf5489",
   "metadata": {},
   "source": [
    "The detailed HDA API and definition of each endpoint and parameters is available in the HDA Swagger UI at: \n",
    "[ STAC API - Filter Extension ](https://hda.data.destination-earth.eu/docs/#/STAC%20API%20-%20Filter%20Extension)"
   ]
  },
  {
   "cell_type": "markdown",
   "id": "1fb01f5a",
   "metadata": {},
   "source": [
    "<div class=\"alert alert-block alert-warning\">\n",
    "<b> Prequisites: </b>\n",
    "<li> For queryables API: none </li>\n",
    "<li> For filtering data inside collections : <a href=\"https://platform.destine.eu/\"> DestinE user account</a> </li>\n",
    "</div>"
   ]
  },
  {
   "cell_type": "markdown",
   "id": "af62c175",
   "metadata": {
    "tags": []
   },
   "source": [
    "# Authenticate\n",
    "## Define some constants for the API URLs\n",
    "In this section, we define the relevant constants, holding the URL strings for the different endpoints."
   ]
  },
  {
   "cell_type": "code",
   "execution_count": 1,
   "id": "6f12416e",
   "metadata": {
    "tags": []
   },
   "outputs": [],
   "source": [
    "# Collection https://hda.data.destination-earth.eu/ui/dataset/EO.ECMWF.DAT.CAMS_EUROPE_AIR_QUALITY_FORECASTS as default\n",
    "COLLECTION_ID = \"EO.ECMWF.DAT.CAMS_EUROPE_AIR_QUALITY_FORECASTS\"\n",
    "\n",
    "# Core API\n",
    "HDA_API_URL = \"https://hda.data.destination-earth.eu\"\n",
    "\n",
    "# STAC API\n",
    "## Core\n",
    "STAC_API_URL = f\"{HDA_API_URL}/stac\"\n",
    "\n",
    "## Item Search\n",
    "SEARCH_URL = f\"{STAC_API_URL}/search\"\n",
    "\n",
    "## Collections\n",
    "COLLECTIONS_URL = f\"{STAC_API_URL}/collections\"\n",
    "\n",
    "## Queryables\n",
    "QUERYABLES_URL = f\"{STAC_API_URL}/queryables\"\n",
    "QUERYABLES_BY_COLLECTION_ID = f\"{COLLECTIONS_URL}/{COLLECTION_ID}/queryables\"\n",
    "HDA_FILTERS =''\n",
    "\n",
    "## HTTP Success\n",
    "HTTP_SUCCESS_CODE = 200"
   ]
  },
  {
   "cell_type": "markdown",
   "id": "a1141f02",
   "metadata": {
    "tags": []
   },
   "source": [
    "## Import the relevant modules and define some functions\n",
    "We start off by importing the relevant modules for DestnE authentication, HTTP requests, json handling and widgets."
   ]
  },
  {
   "cell_type": "code",
   "execution_count": 2,
   "id": "04d63054-7794-4103-b51f-b1410a9921f9",
   "metadata": {
    "tags": []
   },
   "outputs": [],
   "source": [
    "import destinelab as deauth"
   ]
  },
  {
   "cell_type": "code",
   "execution_count": 3,
   "id": "49d1b58a",
   "metadata": {
    "tags": []
   },
   "outputs": [],
   "source": [
    "import requests\n",
    "import json\n",
    "from getpass import getpass\n",
    "\n",
    "import ipywidgets as widgets\n",
    "from IPython.display import display, clear_output, HTML\n",
    "from ipywidgets import Layout, Box\n",
    "import datetime\n",
    "\n",
    "from rich.console import Console\n",
    "import rich.table\n",
    "\n",
    "from IPython.display import JSON\n"
   ]
  },
  {
   "cell_type": "markdown",
   "id": "d225c760-8e35-4d0e-997e-a08723f77d48",
   "metadata": {},
   "source": [
    "Below useful functions for pretty printing and for demonstrating the queryables API."
   ]
  },
  {
   "cell_type": "code",
   "execution_count": 4,
   "id": "6f8f95ab-fa0d-41c3-b1a5-17f084c573d6",
   "metadata": {
    "tags": []
   },
   "outputs": [],
   "source": [
    "# Function to display queryables in a table\n",
    "def create_q_table(filters,params=None):\n",
    "    table = rich.table.Table(title=\"Applicable filters\", expand=True, show_lines=True)\n",
    "    table.add_column(\"Description\", style=\"cyan\", justify=\"right\")\n",
    "    table.add_column(\"Type\", style=\"violet\", justify=\"right\", no_wrap=True)\n",
    "    table.add_column(\"enum\", style=\"violet\", justify=\"right\")\n",
    "    table.add_column(\"value\", style=\"violet\", justify=\"right\", no_wrap=True)\n",
    "    for filtername in filters.keys():\n",
    "        if (params!=None and filtername not in params.keys()):\n",
    "            continue\n",
    "        enum=''\n",
    "        if 'enum' in filters[filtername]:\n",
    "           enum=' , ' .join(map(str,filters[filtername][\"enum\"]))\n",
    "        value=''\n",
    "        if'value' in filters[filtername]:\n",
    "           value=json.dumps(filters[filtername][\"value\"])\n",
    "        if'type' in filters[filtername]:\n",
    "           typeq=json.dumps(filters[filtername][\"type\"])\n",
    "        else:\n",
    "            typeq=''\n",
    "    \n",
    "        table.add_row(filters[filtername][\"description\"],  typeq , enum, value)\n",
    "    return table\n",
    "\n",
    "# Function to fetch queryable properties for a given collection with optional params\n",
    "def fetch_queryables(collection_name, params=None, complete= False):\n",
    "    url = f\"{COLLECTIONS_URL}/{collection_name}/queryables\"\n",
    "    response = requests.get(url, params=params)\n",
    "    if response.status_code == 200 and complete == False:\n",
    "        return response.json().get('properties', {})\n",
    "    elif response.status_code == 200 and complete == True:\n",
    "        return response.json()\n",
    "    else:\n",
    "        return None\n",
    "\n",
    "    \n",
    "def update_dropdowns(collection_name, params=None):\n",
    "    properties = fetch_queryables(collection_name, params)\n",
    "    global HDA_FILTERS\n",
    "    \n",
    "    with output_area:\n",
    "        clear_output()\n",
    "        if properties:\n",
    "            print(\"Properties fetched successfully.\")\n",
    "            #print(json.dumps(properties, indent=2))\n",
    "            table=create_q_table(properties, params)\n",
    "            console = Console()\n",
    "            console.print(table)\n",
    "            if (params!=None):\n",
    "                print(\"The parameters chosen can be translated in the following filters for the HDA query. \\n\" )\n",
    "                cleaned_params = {k: v for k, v in params.items() if v}\n",
    "                HDA_FILTERS = {\n",
    "                    key: {\"eq\": value}\n",
    "                    for key, value in cleaned_params.items()\n",
    "                }\n",
    "                print(json.dumps(HDA_FILTERS, indent=4))\n",
    "                print(\"\\n For the non selected parameters the default values, visible in the column 'value' above, will be applied by default by HDA.\")\n",
    "        else:\n",
    "            print(\"Failed to fetch properties.\")\n",
    "            return\n",
    "        \n",
    "    # Preserve existing selected values\n",
    "    selected_values = {prop: dropdown.value for prop, dropdown in dropdowns.items()}\n",
    "    \n",
    "    # Clear existing dropdowns\n",
    "    dropdown_container.children = []\n",
    "    dropdowns.clear()\n",
    "    \n",
    "    # Create new dropdowns for properties with enum values\n",
    "    new_dropdowns = []\n",
    "    for prop, details in properties.items():\n",
    "        if details.get('type') == 'string' and 'enum' in details:\n",
    "            options = details['enum']\n",
    "            #if prop == 'levtype':\n",
    "            options = [''] + options  # Add empty option for 'param' property\n",
    "\n",
    "            dropdown = widgets.Dropdown(\n",
    "                description=prop,\n",
    "                options=options,\n",
    "                value=selected_values.get(prop, options[0])  # Set previously selected value or default to the first option\n",
    "            )\n",
    "            dropdown.observe(on_value_change, names='value')\n",
    "            dropdowns[prop] = dropdown\n",
    "            new_dropdowns.append(dropdown)\n",
    "                \n",
    "    if new_dropdowns:\n",
    "        dropdown_container.children = new_dropdowns\n",
    "    else:\n",
    "        with output_area:\n",
    "            print(\"No properties with enum values found.\")\n",
    "\n",
    "def on_fetch_button_clicked(b):\n",
    "    collection_name = COLLECTION_ID    \n",
    "    update_dropdowns(collection_name)\n",
    "\n",
    "def on_value_change(change):\n",
    "    collection_name = COLLECTION_ID\n",
    "    params = {prop: dropdown.value for prop, dropdown in dropdowns.items() if dropdown.value is not None}\n",
    "    \n",
    "    if params:\n",
    "        details = fetch_queryables(collection_name, params, complete = True)\n",
    "    \n",
    "        with output_area:\n",
    "            clear_output()\n",
    "            #print(json.dumps(details, indent=2))\n",
    "    \n",
    "    # Update dropdowns based on the new selection\n",
    "    update_dropdowns(collection_name, params) \n",
    "    \n",
    "\n"
   ]
  },
  {
   "cell_type": "markdown",
   "id": "3b6fe9f0-87ce-49f6-923f-42a0b48739ff",
   "metadata": {},
   "source": [
    "### Obtain Authentication Token\n",
    "To perform a query on HDA we need to be authenticated."
   ]
  },
  {
   "cell_type": "code",
   "execution_count": 5,
   "id": "85e64903-0276-4a18-9481-6698a2d14dbb",
   "metadata": {
    "tags": []
   },
   "outputs": [
    {
     "name": "stdin",
     "output_type": "stream",
     "text": [
      "Please input your DESP username or email:  eum-dedl-user\n",
      "Please input your DESP password:  ········\n"
     ]
    },
    {
     "name": "stdout",
     "output_type": "stream",
     "text": [
      "Response code: 200\n",
      "DEDL/DESP Access Token Obtained Successfully\n"
     ]
    }
   ],
   "source": [
    "DESP_USERNAME = input(\"Please input your DESP username or email: \")\n",
    "DESP_PASSWORD = getpass(\"Please input your DESP password: \")\n",
    "\n",
    "auth = deauth.AuthHandler(DESP_USERNAME, DESP_PASSWORD)\n",
    "access_token = auth.get_token()\n",
    "if access_token is not None:\n",
    "    print(\"DEDL/DESP Access Token Obtained Successfully\")\n",
    "else:\n",
    "    print(\"Failed to Obtain DEDL/DESP Access Token\")\n",
    "\n",
    "auth_headers = {\"Authorization\": f\"Bearer {access_token}\"}"
   ]
  },
  {
   "cell_type": "markdown",
   "id": "a6b12a10-37c5-4f9d-aded-213bcb8eec57",
   "metadata": {},
   "source": [
    "# Queryables\n",
    "\n",
    "The \"queryables\" API helps users to determine the property names and types available for filtering data inside a specific collection.\n",
    "\n",
    "Below a dropdown menu to choose the desired collection."
   ]
  },
  {
   "cell_type": "code",
   "execution_count": 6,
   "id": "8a8d24a4-9589-4d4a-b81f-08e387cbb94a",
   "metadata": {
    "tags": []
   },
   "outputs": [
    {
     "data": {
      "application/vnd.jupyter.widget-view+json": {
       "model_id": "aabf2eb1d5eb413ead6f82fcea26b867",
       "version_major": 2,
       "version_minor": 0
      },
      "text/plain": [
       "Box(children=(Dropdown(description='Collections:', options=('EO.CLMS.DAT.CORINE', 'EO.CLMS.DAT.GLO.DMP300_V1',…"
      ]
     },
     "metadata": {},
     "output_type": "display_data"
    }
   ],
   "source": [
    "# Event listeners\n",
    "def on_change(change):\n",
    "    with output_area:\n",
    "        clear_output()\n",
    "        print(f'Selected: {change[\"new\"]}')\n",
    "        print('---------------------------------------------')\n",
    "        delimiter=''\n",
    "        global COLLECTION_ID, QUERYABLES_BY_COLLECTION_ID\n",
    "        COLLECTION_ID = delimiter.join(change[\"new\"])\n",
    "        QUERYABLES_BY_COLLECTION_ID = f\"{COLLECTIONS_URL}/{COLLECTION_ID}/queryables\"\n",
    "        \n",
    "        product_types = requests.get(COLLECTIONS_URL).json()['collections'] \n",
    "        index = next((i for i, d in enumerate(product_types) if d.get('id') == COLLECTION_ID), None)\n",
    "        \n",
    "        print(\"TITLE: \"+product_types[index]['title'])\n",
    "        print(\"DESCRIPTION: \"+product_types[index]['description'])\n",
    "        print(\"\\nQUERYABLES ENDPOINT: \\n\"+QUERYABLES_BY_COLLECTION_ID)\n",
    "\n",
    "options = [product_type[\"id\"] for product_type in requests.get(COLLECTIONS_URL).json()['collections']]\n",
    "\n",
    "# Widgets\n",
    "output_area = widgets.Output()\n",
    "\n",
    "dropdown = widgets.Dropdown(\n",
    "    options=options,\n",
    "    value=options[0],\n",
    "    description=\"Collections:\",\n",
    "    disabled=False,\n",
    ") \n",
    "dropdown.observe(on_change, names='value')\n",
    "\n",
    "\n",
    "# Layout\n",
    "\n",
    "# Define the layout for the dropdown\n",
    "dropdown_layout = Layout(display='space-between', justify_content='center', width='90%')\n",
    "# Create a box to hold the dropdown with the specified layout\n",
    "box = Box([dropdown, output_area], layout=dropdown_layout)\n",
    "display( box)  \n",
    "\n",
    "\n"
   ]
  },
  {
   "cell_type": "markdown",
   "id": "46f9d86c-0bfa-4ebc-978a-0268042e824e",
   "metadata": {},
   "source": [
    "The **QUERYABLES ENDPOINT** (above) shows the applicable filters under the section named 'properties'.\n",
    "\n",
    "The 'properties' section contains \n",
    "* the name of the filter, **description**,\n",
    "* the filter **type**, \n",
    "* the possible filter values, **enum** (conditioned by the values selected for the other filters)\n",
    "* and the the default (or chosen) **value** applied\n",
    "\n",
    "We can print the'properties' section for the selected collection in the table below.\n",
    "The table shows the filters and the values applied by default when we perform a search for the chosen dataset."
   ]
  },
  {
   "cell_type": "code",
   "execution_count": 7,
   "id": "c692ab5c-2c47-427a-af1f-44ff4a3beb5c",
   "metadata": {
    "tags": []
   },
   "outputs": [
    {
     "data": {
      "text/html": [
       "<pre style=\"white-space:pre;overflow-x:auto;line-height:normal;font-family:Menlo,'DejaVu Sans Mono',consolas,'Courier New',monospace\"><span style=\"font-style: italic\">                                                Applicable filters                                                 </span>\n",
       "┏━━━━━━━━━━━━━━━━━━━━━━━━━━━━━━━━━━━━━━━━━━┳━━━━━━━━━━┳━━━━━━━━━━━━━━━━━━━━━━━━━━━━━━━━━━━━━━━━━━┳━━━━━━━━━━━━━━━━┓\n",
       "┃<span style=\"font-weight: bold\">                              Description </span>┃<span style=\"font-weight: bold\">     Type </span>┃<span style=\"font-weight: bold\">                                     enum </span>┃<span style=\"font-weight: bold\">          value </span>┃\n",
       "┡━━━━━━━━━━━━━━━━━━━━━━━━━━━━━━━━━━━━━━━━━━╇━━━━━━━━━━╇━━━━━━━━━━━━━━━━━━━━━━━━━━━━━━━━━━━━━━━━━━╇━━━━━━━━━━━━━━━━┩\n",
       "│<span style=\"color: #008080; text-decoration-color: #008080\">                                       ID </span>│<span style=\"color: #d787ff; text-decoration-color: #d787ff\">          </span>│<span style=\"color: #d787ff; text-decoration-color: #d787ff\">                                          </span>│<span style=\"color: #d787ff; text-decoration-color: #d787ff\">                </span>│\n",
       "├──────────────────────────────────────────┼──────────┼──────────────────────────────────────────┼────────────────┤\n",
       "│<span style=\"color: #008080; text-decoration-color: #008080\">                                 Geometry </span>│<span style=\"color: #d787ff; text-decoration-color: #d787ff\">          </span>│<span style=\"color: #d787ff; text-decoration-color: #d787ff\">                                          </span>│<span style=\"color: #d787ff; text-decoration-color: #d787ff\">                </span>│\n",
       "├──────────────────────────────────────────┼──────────┼──────────────────────────────────────────┼────────────────┤\n",
       "│<span style=\"color: #008080; text-decoration-color: #008080\">   Datetime - use parameters year, month, </span>│<span style=\"color: #d787ff; text-decoration-color: #d787ff\">          </span>│<span style=\"color: #d787ff; text-decoration-color: #d787ff\">                                          </span>│<span style=\"color: #d787ff; text-decoration-color: #d787ff\">                </span>│\n",
       "│<span style=\"color: #008080; text-decoration-color: #008080\">           day, time instead if available </span>│<span style=\"color: #d787ff; text-decoration-color: #d787ff\">          </span>│<span style=\"color: #d787ff; text-decoration-color: #d787ff\">                                          </span>│<span style=\"color: #d787ff; text-decoration-color: #d787ff\">                </span>│\n",
       "├──────────────────────────────────────────┼──────────┼──────────────────────────────────────────┼────────────────┤\n",
       "│<span style=\"color: #008080; text-decoration-color: #008080\">                                     BBox </span>│<span style=\"color: #d787ff; text-decoration-color: #d787ff\">  \"array\" </span>│<span style=\"color: #d787ff; text-decoration-color: #d787ff\">                                          </span>│<span style=\"color: #d787ff; text-decoration-color: #d787ff\">                </span>│\n",
       "├──────────────────────────────────────────┼──────────┼──────────────────────────────────────────┼────────────────┤\n",
       "│<span style=\"color: #008080; text-decoration-color: #008080\">                                   format </span>│<span style=\"color: #d787ff; text-decoration-color: #d787ff\"> \"string\" </span>│<span style=\"color: #d787ff; text-decoration-color: #d787ff\">                                          </span>│<span style=\"color: #d787ff; text-decoration-color: #d787ff\">         \"grib\" </span>│\n",
       "├──────────────────────────────────────────┼──────────┼──────────────────────────────────────────┼────────────────┤\n",
       "│<span style=\"color: #008080; text-decoration-color: #008080\">                                   system </span>│<span style=\"color: #d787ff; text-decoration-color: #d787ff\"> \"string\" </span>│<span style=\"color: #d787ff; text-decoration-color: #d787ff\">                               4 , 5 , 51 </span>│<span style=\"color: #d787ff; text-decoration-color: #d787ff\">            \"5\" </span>│\n",
       "├──────────────────────────────────────────┼──────────┼──────────────────────────────────────────┼────────────────┤\n",
       "│<span style=\"color: #008080; text-decoration-color: #008080\">                                 variable </span>│<span style=\"color: #d787ff; text-decoration-color: #d787ff\"> \"string\" </span>│<span style=\"color: #d787ff; text-decoration-color: #d787ff\">       geopotential , specific_humidity , </span>│<span style=\"color: #d787ff; text-decoration-color: #d787ff\"> \"geopotential\" </span>│\n",
       "│<span style=\"color: #008080; text-decoration-color: #008080\">                                          </span>│<span style=\"color: #d787ff; text-decoration-color: #d787ff\">          </span>│<span style=\"color: #d787ff; text-decoration-color: #d787ff\">      temperature , u_component_of_wind , </span>│<span style=\"color: #d787ff; text-decoration-color: #d787ff\">                </span>│\n",
       "│<span style=\"color: #008080; text-decoration-color: #008080\">                                          </span>│<span style=\"color: #d787ff; text-decoration-color: #d787ff\">          </span>│<span style=\"color: #d787ff; text-decoration-color: #d787ff\">                      v_component_of_wind </span>│<span style=\"color: #d787ff; text-decoration-color: #d787ff\">                </span>│\n",
       "├──────────────────────────────────────────┼──────────┼──────────────────────────────────────────┼────────────────┤\n",
       "│<span style=\"color: #008080; text-decoration-color: #008080\">                           pressure_level </span>│<span style=\"color: #d787ff; text-decoration-color: #d787ff\"> \"string\" </span>│<span style=\"color: #d787ff; text-decoration-color: #d787ff\">   10 , 100 , 200 , 30 , 300 , 400 , 50 , </span>│<span style=\"color: #d787ff; text-decoration-color: #d787ff\">           \"10\" </span>│\n",
       "│<span style=\"color: #008080; text-decoration-color: #008080\">                                          </span>│<span style=\"color: #d787ff; text-decoration-color: #d787ff\">          </span>│<span style=\"color: #d787ff; text-decoration-color: #d787ff\">                    500 , 700 , 850 , 925 </span>│<span style=\"color: #d787ff; text-decoration-color: #d787ff\">                </span>│\n",
       "├──────────────────────────────────────────┼──────────┼──────────────────────────────────────────┼────────────────┤\n",
       "│<span style=\"color: #008080; text-decoration-color: #008080\">                           leadtime_month </span>│<span style=\"color: #d787ff; text-decoration-color: #d787ff\"> \"string\" </span>│<span style=\"color: #d787ff; text-decoration-color: #d787ff\">                    1 , 2 , 3 , 4 , 5 , 6 </span>│<span style=\"color: #d787ff; text-decoration-color: #d787ff\">            \"1\" </span>│\n",
       "└──────────────────────────────────────────┴──────────┴──────────────────────────────────────────┴────────────────┘\n",
       "</pre>\n"
      ],
      "text/plain": [
       "\u001b[3m                                                Applicable filters                                                 \u001b[0m\n",
       "┏━━━━━━━━━━━━━━━━━━━━━━━━━━━━━━━━━━━━━━━━━━┳━━━━━━━━━━┳━━━━━━━━━━━━━━━━━━━━━━━━━━━━━━━━━━━━━━━━━━┳━━━━━━━━━━━━━━━━┓\n",
       "┃\u001b[1m \u001b[0m\u001b[1m                             Description\u001b[0m\u001b[1m \u001b[0m┃\u001b[1m \u001b[0m\u001b[1m    Type\u001b[0m\u001b[1m \u001b[0m┃\u001b[1m \u001b[0m\u001b[1m                                    enum\u001b[0m\u001b[1m \u001b[0m┃\u001b[1m \u001b[0m\u001b[1m         value\u001b[0m\u001b[1m \u001b[0m┃\n",
       "┡━━━━━━━━━━━━━━━━━━━━━━━━━━━━━━━━━━━━━━━━━━╇━━━━━━━━━━╇━━━━━━━━━━━━━━━━━━━━━━━━━━━━━━━━━━━━━━━━━━╇━━━━━━━━━━━━━━━━┩\n",
       "│\u001b[36m \u001b[0m\u001b[36m                                      ID\u001b[0m\u001b[36m \u001b[0m│\u001b[38;5;177m \u001b[0m\u001b[38;5;177m        \u001b[0m\u001b[38;5;177m \u001b[0m│\u001b[38;5;177m \u001b[0m\u001b[38;5;177m                                        \u001b[0m\u001b[38;5;177m \u001b[0m│\u001b[38;5;177m \u001b[0m\u001b[38;5;177m              \u001b[0m\u001b[38;5;177m \u001b[0m│\n",
       "├──────────────────────────────────────────┼──────────┼──────────────────────────────────────────┼────────────────┤\n",
       "│\u001b[36m \u001b[0m\u001b[36m                                Geometry\u001b[0m\u001b[36m \u001b[0m│\u001b[38;5;177m \u001b[0m\u001b[38;5;177m        \u001b[0m\u001b[38;5;177m \u001b[0m│\u001b[38;5;177m \u001b[0m\u001b[38;5;177m                                        \u001b[0m\u001b[38;5;177m \u001b[0m│\u001b[38;5;177m \u001b[0m\u001b[38;5;177m              \u001b[0m\u001b[38;5;177m \u001b[0m│\n",
       "├──────────────────────────────────────────┼──────────┼──────────────────────────────────────────┼────────────────┤\n",
       "│\u001b[36m \u001b[0m\u001b[36m  Datetime - use parameters year, month,\u001b[0m\u001b[36m \u001b[0m│\u001b[38;5;177m \u001b[0m\u001b[38;5;177m        \u001b[0m\u001b[38;5;177m \u001b[0m│\u001b[38;5;177m \u001b[0m\u001b[38;5;177m                                        \u001b[0m\u001b[38;5;177m \u001b[0m│\u001b[38;5;177m \u001b[0m\u001b[38;5;177m              \u001b[0m\u001b[38;5;177m \u001b[0m│\n",
       "│\u001b[36m \u001b[0m\u001b[36m          day, time instead if available\u001b[0m\u001b[36m \u001b[0m│\u001b[38;5;177m          \u001b[0m│\u001b[38;5;177m                                          \u001b[0m│\u001b[38;5;177m                \u001b[0m│\n",
       "├──────────────────────────────────────────┼──────────┼──────────────────────────────────────────┼────────────────┤\n",
       "│\u001b[36m \u001b[0m\u001b[36m                                    BBox\u001b[0m\u001b[36m \u001b[0m│\u001b[38;5;177m \u001b[0m\u001b[38;5;177m \"array\"\u001b[0m\u001b[38;5;177m \u001b[0m│\u001b[38;5;177m \u001b[0m\u001b[38;5;177m                                        \u001b[0m\u001b[38;5;177m \u001b[0m│\u001b[38;5;177m \u001b[0m\u001b[38;5;177m              \u001b[0m\u001b[38;5;177m \u001b[0m│\n",
       "├──────────────────────────────────────────┼──────────┼──────────────────────────────────────────┼────────────────┤\n",
       "│\u001b[36m \u001b[0m\u001b[36m                                  format\u001b[0m\u001b[36m \u001b[0m│\u001b[38;5;177m \u001b[0m\u001b[38;5;177m\"string\"\u001b[0m\u001b[38;5;177m \u001b[0m│\u001b[38;5;177m \u001b[0m\u001b[38;5;177m                                        \u001b[0m\u001b[38;5;177m \u001b[0m│\u001b[38;5;177m \u001b[0m\u001b[38;5;177m        \"grib\"\u001b[0m\u001b[38;5;177m \u001b[0m│\n",
       "├──────────────────────────────────────────┼──────────┼──────────────────────────────────────────┼────────────────┤\n",
       "│\u001b[36m \u001b[0m\u001b[36m                                  system\u001b[0m\u001b[36m \u001b[0m│\u001b[38;5;177m \u001b[0m\u001b[38;5;177m\"string\"\u001b[0m\u001b[38;5;177m \u001b[0m│\u001b[38;5;177m \u001b[0m\u001b[38;5;177m                              4 , 5 , 51\u001b[0m\u001b[38;5;177m \u001b[0m│\u001b[38;5;177m \u001b[0m\u001b[38;5;177m           \"5\"\u001b[0m\u001b[38;5;177m \u001b[0m│\n",
       "├──────────────────────────────────────────┼──────────┼──────────────────────────────────────────┼────────────────┤\n",
       "│\u001b[36m \u001b[0m\u001b[36m                                variable\u001b[0m\u001b[36m \u001b[0m│\u001b[38;5;177m \u001b[0m\u001b[38;5;177m\"string\"\u001b[0m\u001b[38;5;177m \u001b[0m│\u001b[38;5;177m \u001b[0m\u001b[38;5;177m      geopotential , specific_humidity ,\u001b[0m\u001b[38;5;177m \u001b[0m│\u001b[38;5;177m \u001b[0m\u001b[38;5;177m\"geopotential\"\u001b[0m\u001b[38;5;177m \u001b[0m│\n",
       "│\u001b[36m                                          \u001b[0m│\u001b[38;5;177m          \u001b[0m│\u001b[38;5;177m \u001b[0m\u001b[38;5;177m     temperature , u_component_of_wind ,\u001b[0m\u001b[38;5;177m \u001b[0m│\u001b[38;5;177m                \u001b[0m│\n",
       "│\u001b[36m                                          \u001b[0m│\u001b[38;5;177m          \u001b[0m│\u001b[38;5;177m \u001b[0m\u001b[38;5;177m                     v_component_of_wind\u001b[0m\u001b[38;5;177m \u001b[0m│\u001b[38;5;177m                \u001b[0m│\n",
       "├──────────────────────────────────────────┼──────────┼──────────────────────────────────────────┼────────────────┤\n",
       "│\u001b[36m \u001b[0m\u001b[36m                          pressure_level\u001b[0m\u001b[36m \u001b[0m│\u001b[38;5;177m \u001b[0m\u001b[38;5;177m\"string\"\u001b[0m\u001b[38;5;177m \u001b[0m│\u001b[38;5;177m \u001b[0m\u001b[38;5;177m  10 , 100 , 200 , 30 , 300 , 400 , 50 ,\u001b[0m\u001b[38;5;177m \u001b[0m│\u001b[38;5;177m \u001b[0m\u001b[38;5;177m          \"10\"\u001b[0m\u001b[38;5;177m \u001b[0m│\n",
       "│\u001b[36m                                          \u001b[0m│\u001b[38;5;177m          \u001b[0m│\u001b[38;5;177m \u001b[0m\u001b[38;5;177m                   500 , 700 , 850 , 925\u001b[0m\u001b[38;5;177m \u001b[0m│\u001b[38;5;177m                \u001b[0m│\n",
       "├──────────────────────────────────────────┼──────────┼──────────────────────────────────────────┼────────────────┤\n",
       "│\u001b[36m \u001b[0m\u001b[36m                          leadtime_month\u001b[0m\u001b[36m \u001b[0m│\u001b[38;5;177m \u001b[0m\u001b[38;5;177m\"string\"\u001b[0m\u001b[38;5;177m \u001b[0m│\u001b[38;5;177m \u001b[0m\u001b[38;5;177m                   1 , 2 , 3 , 4 , 5 , 6\u001b[0m\u001b[38;5;177m \u001b[0m│\u001b[38;5;177m \u001b[0m\u001b[38;5;177m           \"1\"\u001b[0m\u001b[38;5;177m \u001b[0m│\n",
       "└──────────────────────────────────────────┴──────────┴──────────────────────────────────────────┴────────────────┘\n"
      ]
     },
     "metadata": {},
     "output_type": "display_data"
    }
   ],
   "source": [
    "filters_resp=requests.get(QUERYABLES_BY_COLLECTION_ID)\n",
    "filters = filters_resp.json()[\"properties\"]\n",
    "table=create_q_table(filters)\n",
    "console = Console()\n",
    "console.print(table)"
   ]
  },
  {
   "cell_type": "markdown",
   "id": "b4ae9c40-9305-49d1-9002-1f795c0bf571",
   "metadata": {},
   "source": [
    "Calling the queryables API, using as parameters the values chosen for filtering the selected dataset, the API replies with the applicable filters, conditioned by the chosen values. This means that, if the user selects a certain variable then the choice is narrowed down for other variables.\n",
    "\n",
    "The queryables API., in this way, helps user to build a correct search request for the given dataset.\n",
    "Below an interactive example to see that once you select a value for a property the choice is narrowed down for other variables. "
   ]
  },
  {
   "cell_type": "code",
   "execution_count": 8,
   "id": "544ac58f-4851-4d68-b552-d332ca31e58d",
   "metadata": {
    "tags": []
   },
   "outputs": [
    {
     "name": "stdout",
     "output_type": "stream",
     "text": [
      "Chosen collection: EO.ECMWF.DAT.SEASONAL_FORECAST_MONTHLY_STATISTICS_ON_PRESSURE_LEVELS_2017_PRESENT\n"
     ]
    },
    {
     "data": {
      "application/vnd.jupyter.widget-view+json": {
       "model_id": "9b09264dfa2a4ac99b2a061ef5e61e4f",
       "version_major": 2,
       "version_minor": 0
      },
      "text/plain": [
       "Button(description='Fetch queryables', style=ButtonStyle())"
      ]
     },
     "metadata": {},
     "output_type": "display_data"
    },
    {
     "data": {
      "application/vnd.jupyter.widget-view+json": {
       "model_id": "beb7eb4f81d04f4e86db493a47081fc6",
       "version_major": 2,
       "version_minor": 0
      },
      "text/plain": [
       "VBox()"
      ]
     },
     "metadata": {},
     "output_type": "display_data"
    },
    {
     "data": {
      "application/vnd.jupyter.widget-view+json": {
       "model_id": "7b03cf79e1cb4fb49eb23c9c38f2f245",
       "version_major": 2,
       "version_minor": 0
      },
      "text/plain": [
       "Output()"
      ]
     },
     "metadata": {},
     "output_type": "display_data"
    }
   ],
   "source": [
    "print(\"Chosen collection: \"+COLLECTION_ID)\n",
    "\n",
    "fetch_button = widgets.Button(description=\"Fetch queryables\")\n",
    "dropdown_container = widgets.VBox()\n",
    "output_area = widgets.Output()\n",
    "\n",
    "dropdowns = {}\n",
    "\n",
    "# Event listeners\n",
    "fetch_button.on_click(on_fetch_button_clicked)\n",
    "\n",
    "# Layout\n",
    "display(fetch_button, dropdown_container, output_area)"
   ]
  },
  {
   "cell_type": "markdown",
   "id": "6f776ea7-1819-4b8f-a63a-79019d92dd80",
   "metadata": {
    "tags": []
   },
   "source": [
    "## Filtering a collection with the list returned by the queryable API\n",
    "\n",
    "This section wil explain how to use the list of variable terms returned by the queryables API for filtering a specific dataset. "
   ]
  },
  {
   "cell_type": "markdown",
   "id": "9f7b0212-8a1b-4148-abf4-a86a291d8ec4",
   "metadata": {
    "tags": []
   },
   "source": [
    "### Build the query from the selected values\n",
    "The parameters chosen in the previous steps can be used to build the corresponding HDA queries."
   ]
  },
  {
   "cell_type": "code",
   "execution_count": 9,
   "id": "57c76314-c175-4417-8fd4-9450c5ffa5da",
   "metadata": {
    "tags": []
   },
   "outputs": [
    {
     "name": "stdout",
     "output_type": "stream",
     "text": [
      "{\n",
      "    \"collections\": [\n",
      "        \"EO.ECMWF.DAT.CAMS_EUROPE_AIR_QUALITY_FORECASTS\"\n",
      "    ],\n",
      "    \"datetime\": \"2024-04-01T00:00:00Z/2024-04-19T00:00:00Z\",\n",
      "    \"query\": {\n",
      "        \"system\": {\n",
      "            \"eq\": \"51\"\n",
      "        },\n",
      "        \"variable\": {\n",
      "            \"eq\": \"temperature\"\n",
      "        },\n",
      "        \"pressure_level\": {\n",
      "            \"eq\": \"30\"\n",
      "        },\n",
      "        \"leadtime_month\": {\n",
      "            \"eq\": \"5\"\n",
      "        }\n",
      "    }\n",
      "}\n"
     ]
    }
   ],
   "source": [
    "# The JSON objects containing the generic query parameters:\n",
    "json1 = '{\"collections\": [\"EO.ECMWF.DAT.CAMS_EUROPE_AIR_QUALITY_FORECASTS\"], \"datetime\": \"2024-04-01T00:00:00Z/2024-04-19T00:00:00Z\"}'\n",
    "\n",
    "# Convert JSON strings to Python dictionaries\n",
    "dict1 = json.loads(json1)\n",
    "\n",
    "# Include the filters selected in the previous steps inside the JSON containing the generic query parameters:\n",
    "dict1['query'] = HDA_FILTERS\n",
    "\n",
    "# Convert the merged dictionary back to a JSON string\n",
    "query_json = json.dumps(dict1, indent=4)\n",
    "\n",
    "print(query_json)"
   ]
  },
  {
   "cell_type": "markdown",
   "id": "a0bb43b9-c94b-48bf-a62b-3db3b7eb2a65",
   "metadata": {},
   "source": [
    "## Search"
   ]
  },
  {
   "cell_type": "code",
   "execution_count": 10,
   "id": "efc07366-4493-40f3-a7ff-24b7bb0a1f5d",
   "metadata": {
    "tags": []
   },
   "outputs": [
    {
     "data": {
      "application/json": {
       "assets": {
        "downloadLink": {
         "alternate": {
          "origin": {
           "href": "Not Available#?_dc_qs=%7B%22date%22%3A+%222024-04-01%2F2024-04-18%22%2C+%22format%22%3A+%22grib%22%2C+%22leadtime_hour%22%3A+0%2C+%22level%22%3A+0%2C+%22model%22%3A+%22ensemble%22%2C+%22pressure_level%22%3A+30%2C+%22system%22%3A+51%2C+%22time%22%3A+%2200%3A00%22%2C+%22type%22%3A+%22forecast%22%2C+%22variable%22%3A+%22temperature%22%7D",
           "title": "Origin asset link"
          }
         },
         "href": "https://hda.data.destination-earth.eu/stac/collections/EO.ECMWF.DAT.CAMS_EUROPE_AIR_QUALITY_FORECASTS/items/CAMS_EU_AIR_QUALITY_FORECAST_20240401_20240418_d0b559c3056351d839571264db5ebdcef9a4deaa/download?provider=copernicus_atmosphere_data_store&_dc_qs=%257B%2522date%2522%253A%2B%25222024-04-01%252F2024-04-18%2522%252C%2B%2522format%2522%253A%2B%2522grib%2522%252C%2B%2522leadtime_hour%2522%253A%2B0%252C%2B%2522level%2522%253A%2B0%252C%2B%2522model%2522%253A%2B%2522ensemble%2522%252C%2B%2522pressure_level%2522%253A%2B30%252C%2B%2522system%2522%253A%2B51%252C%2B%2522time%2522%253A%2B%252200%253A00%2522%252C%2B%2522type%2522%253A%2B%2522forecast%2522%252C%2B%2522variable%2522%253A%2B%2522temperature%2522%257D",
         "storage:tier": "OFFLINE",
         "title": "Download link",
         "type": "application/zip"
        }
       },
       "bbox": [
        -180,
        -90,
        180,
        90
       ],
       "collection": "EO.ECMWF.DAT.CAMS_EUROPE_AIR_QUALITY_FORECASTS",
       "geometry": {
        "coordinates": [
         [
          [
           180,
           -90
          ],
          [
           180,
           90
          ],
          [
           -180,
           90
          ],
          [
           -180,
           -90
          ],
          [
           180,
           -90
          ]
         ]
        ],
        "type": "Polygon"
       },
       "id": "CAMS_EU_AIR_QUALITY_FORECAST_20240401_20240418_d0b559c3056351d839571264db5ebdcef9a4deaa",
       "links": [
        {
         "href": "https://hda.data.destination-earth.eu/stac/collections/EO.ECMWF.DAT.CAMS_EUROPE_AIR_QUALITY_FORECASTS/items/CAMS_EU_AIR_QUALITY_FORECAST_20240401_20240418_d0b559c3056351d839571264db5ebdcef9a4deaa?provider=copernicus_atmosphere_data_store&_dc_qs=%257B%2522date%2522%253A%2B%25222024-04-01%252F2024-04-18%2522%252C%2B%2522format%2522%253A%2B%2522grib%2522%252C%2B%2522leadtime_hour%2522%253A%2B0%252C%2B%2522level%2522%253A%2B0%252C%2B%2522model%2522%253A%2B%2522ensemble%2522%252C%2B%2522pressure_level%2522%253A%2B30%252C%2B%2522system%2522%253A%2B51%252C%2B%2522time%2522%253A%2B%252200%253A00%2522%252C%2B%2522type%2522%253A%2B%2522forecast%2522%252C%2B%2522variable%2522%253A%2B%2522temperature%2522%257D",
         "rel": "self",
         "title": "CAMS_EU_AIR_QUALITY_FORECAST_20240401_20240418_d0b559c3056351d839571264db5ebdcef9a4deaa"
        },
        {
         "href": "https://hda.data.destination-earth.eu/stac/",
         "rel": "root"
        },
        {
         "href": "https://hda.data.destination-earth.eu/stac/collections/EO.ECMWF.DAT.CAMS_EUROPE_AIR_QUALITY_FORECASTS",
         "rel": "parent",
         "title": "EO.ECMWF.DAT.CAMS_EUROPE_AIR_QUALITY_FORECASTS"
        },
        {
         "href": "https://hda.data.destination-earth.eu/stac/collections/EO.ECMWF.DAT.CAMS_EUROPE_AIR_QUALITY_FORECASTS",
         "rel": "collection",
         "title": "EO.ECMWF.DAT.CAMS_EUROPE_AIR_QUALITY_FORECASTS"
        }
       ],
       "properties": {
        "copernicus_atmosphere_data_store:alias": "EO.ECMWF.DAT.CAMS_EUROPE_AIR_QUALITY_FORECASTS",
        "copernicus_atmosphere_data_store:dataset": "cams-europe-air-quality-forecasts",
        "copernicus_atmosphere_data_store:format": "grib",
        "copernicus_atmosphere_data_store:leadtime_hour": 0,
        "copernicus_atmosphere_data_store:level": 0,
        "copernicus_atmosphere_data_store:model": "ensemble",
        "copernicus_atmosphere_data_store:pressure_level": 30,
        "copernicus_atmosphere_data_store:scope": {
         "discover": null,
         "download": "hda-public-data-access",
         "search": "hda-public-data-access"
        },
        "copernicus_atmosphere_data_store:system": 51,
        "copernicus_atmosphere_data_store:time": "00:00",
        "copernicus_atmosphere_data_store:type": "forecast",
        "copernicus_atmosphere_data_store:variable": "temperature",
        "datetime": "2024-04-01",
        "end_datetime": "2024-04-18",
        "instruments": [
         null
        ],
        "license": "proprietary",
        "order:status": "orderable",
        "providers": [
         {
          "description": "Copernicus Atmosphere Data Store",
          "name": "copernicus_atmosphere_data_store",
          "priority": 0,
          "roles": [
           "host"
          ],
          "url": "https://ads.atmosphere.copernicus.eu/"
         }
        ],
        "sar:product_type": "CAMS_EU_AIR_QUALITY_FORECAST",
        "start_datetime": "2024-04-01"
       },
       "stac_extensions": [
        "https://stac-extensions.github.io/sar/v1.0.0/schema.json",
        "https://stac-extensions.github.io/order/v1.1.0/schema.json"
       ],
       "stac_version": "1.0.0",
       "type": "Feature"
      },
      "text/plain": [
       "<IPython.core.display.JSON object>"
      ]
     },
     "execution_count": 10,
     "metadata": {
      "application/json": {
       "expanded": false,
       "root": "root"
      }
     },
     "output_type": "execute_result"
    }
   ],
   "source": [
    "response = requests.post(\"https://hda.data.destination-earth.eu/stac/search\", headers=auth_headers, json= json.loads(query_json) )\n",
    "#print(response)\n",
    "# Requests to ADS data always return a single item containing all the requested data\n",
    "product = response.json()[\"features\"][0]\n",
    "JSON(product, expanded= False)"
   ]
  },
  {
   "cell_type": "markdown",
   "id": "06fa5a8f-3d25-4559-a8c9-09ae05387c3a",
   "metadata": {},
   "source": [
    "# Download\n",
    "Once we have found the product we can obtain the URL for downloading it:\n"
   ]
  },
  {
   "cell_type": "code",
   "execution_count": 11,
   "id": "e1aafd3e-2d54-4151-b5da-a3e527d3ede9",
   "metadata": {
    "tags": []
   },
   "outputs": [
    {
     "name": "stdout",
     "output_type": "stream",
     "text": [
      "https://hda.data.destination-earth.eu/stac/collections/EO.ECMWF.DAT.CAMS_EUROPE_AIR_QUALITY_FORECASTS/items/CAMS_EU_AIR_QUALITY_FORECAST_20240401_20240418_d0b559c3056351d839571264db5ebdcef9a4deaa/download?provider=copernicus_atmosphere_data_store&_dc_qs=%257B%2522date%2522%253A%2B%25222024-04-01%252F2024-04-18%2522%252C%2B%2522format%2522%253A%2B%2522grib%2522%252C%2B%2522leadtime_hour%2522%253A%2B0%252C%2B%2522level%2522%253A%2B0%252C%2B%2522model%2522%253A%2B%2522ensemble%2522%252C%2B%2522pressure_level%2522%253A%2B30%252C%2B%2522system%2522%253A%2B51%252C%2B%2522time%2522%253A%2B%252200%253A00%2522%252C%2B%2522type%2522%253A%2B%2522forecast%2522%252C%2B%2522variable%2522%253A%2B%2522temperature%2522%257D\n"
     ]
    }
   ],
   "source": [
    "# DownloadLink is an asset representing the whole product\n",
    "download_url = product[\"assets\"][\"downloadLink\"][\"href\"]\n",
    "print(download_url )"
   ]
  }
 ],
 "metadata": {
  "kernelspec": {
   "display_name": "Python DEDL",
   "language": "python",
   "name": "python_dedl"
  },
  "language_info": {
   "codemirror_mode": {
    "name": "ipython",
    "version": 3
   },
   "file_extension": ".py",
   "mimetype": "text/x-python",
   "name": "python",
   "nbconvert_exporter": "python",
   "pygments_lexer": "ipython3",
   "version": "3.11.4"
  },
  "toc-autonumbering": false,
  "vscode": {
   "interpreter": {
    "hash": "31f2aee4e71d21fbe5cf8b01ff0e069b9275f58929596ceb00d14d90e3e16cd6"
   }
  }
 },
 "nbformat": 4,
 "nbformat_minor": 5
}

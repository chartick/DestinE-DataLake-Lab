{
 "cells": [
  {
   "cell_type": "markdown",
   "id": "a7087d07-483a-4f6d-b2e5-814409692a60",
   "metadata": {
    "tags": []
   },
   "source": [
    "![](https://github.com/destination-earth/DestinE-DataLake-Lab/blob/main/img/DestinE-banner.jpg?raw=true)"
   ]
  },
  {
   "cell_type": "markdown",
   "id": "6d49d742-a473-43d5-aab0-4f0dfb0bcfa2",
   "metadata": {
    "tags": []
   },
   "source": [
    "\n",
    "\n",
    "# DEDL - HDA Tutorial - Queryables"
   ]
  },
  {
   "cell_type": "markdown",
   "id": "36476d50",
   "metadata": {},
   "source": [
    "<br> Author: EUMETSAT </br>"
   ]
  },
  {
   "cell_type": "markdown",
   "id": "2624d113",
   "metadata": {},
   "source": [
    "<div class=\"alert alert-block alert-success\">\n",
    "<h3>How to use the queryables API</h3>\n",
    "<ol>\n",
    "    <li> The queryables API. The API returns a list of variable terms that can be used for filtering the specified collection. </li>\n",
    "    <li> How to filter a specific collection using the list of variable terms returned by the queryables API. </li> \n",
    "</ol>\n",
    "</div>"
   ]
  },
  {
   "cell_type": "markdown",
   "id": "a9ccea6e",
   "metadata": {},
   "source": [
    "This notebook demonstrates how to use the HDA (Harmonized Data Access) queryables API by sending a few HTTP requests to the API, using Python code."
   ]
  },
  {
   "cell_type": "markdown",
   "id": "14cf5489",
   "metadata": {},
   "source": [
    "The detailed HDA API and definition of each endpoint and parameters is available in the HDA Swagger UI at:\n",
    "\n",
    "https://hda.data.destination-earth.eu/docs/"
   ]
  },
  {
   "cell_type": "markdown",
   "id": "1fb01f5a",
   "metadata": {},
   "source": [
    "<div class=\"alert alert-block alert-warning\">\n",
    "<b> Prequisites: </b>\n",
    "<li> For queryables API: none </li>\n",
    "<li> For filtering collections : <a href=\"https://platform.destine.eu/\"> DestinE user account</a> </li>\n",
    "</div>"
   ]
  },
  {
   "cell_type": "markdown",
   "id": "af62c175",
   "metadata": {
    "tags": []
   },
   "source": [
    "## Define some constants for the API URLs\n",
    "In this section, we define the relevant constants, holding the URL strings for the different endpoints.\n",
    "\n",
    "In this example, we search data for the dataset [CAMS European Air Quality Forecast](https://ads.atmosphere.copernicus.eu/cdsapp#!/dataset/cams-europe-air-quality-forecasts?tab=overview). \n",
    "The corresponding collection ID in HDA for this dataset is: *EO.ECMWF.DAT.CAMS_EUROPE_AIR_QUALITY_FORECASTS*."
   ]
  },
  {
   "cell_type": "code",
   "execution_count": 187,
   "id": "6f12416e",
   "metadata": {
    "tags": []
   },
   "outputs": [],
   "source": [
    "# Use the Collection https://hda.data.destination-earth.eu/ui/dataset/EO.ESA.DAT.SENTINEL-2.MSI.L1C\n",
    "COLLECTION_ID = \"EO.ECMWF.DAT.CAMS_EUROPE_AIR_QUALITY_FORECASTS\"\n",
    "\n",
    "# Core API\n",
    "HDA_API_URL = \"https://hda.data.destination-earth.eu\"\n",
    "\n",
    "# STAC API\n",
    "## Core\n",
    "STAC_API_URL = f\"{HDA_API_URL}/stac\"\n",
    "\n",
    "## Item Search\n",
    "SEARCH_URL = f\"{STAC_API_URL}/search\"\n",
    "\n",
    "## Collections\n",
    "COLLECTIONS_URL = f\"{STAC_API_URL}/collections\"\n",
    "\n",
    "## Queryables\n",
    "QUERYABLES_URL = f\"{STAC_API_URL}/queryables\"\n",
    "QUERYABLES_BY_COLLECTION_ID = f\"{COLLECTIONS_URL}/{COLLECTION_ID}/queryables\"\n",
    "HDA_FILTERS =''\n",
    "\n",
    "## HTTP Success\n",
    "HTTP_SUCCESS_CODE = 200"
   ]
  },
  {
   "cell_type": "markdown",
   "id": "a1141f02",
   "metadata": {
    "tags": []
   },
   "source": [
    "## Import the relevant modules and define some useful functions\n",
    "We start off by importing the relevant modules for DestnE authentication, HTTP requests, json handling and widgets."
   ]
  },
  {
   "cell_type": "code",
   "execution_count": 188,
   "id": "04d63054-7794-4103-b51f-b1410a9921f9",
   "metadata": {
    "tags": []
   },
   "outputs": [],
   "source": [
    "import destinelab as deauth"
   ]
  },
  {
   "cell_type": "code",
   "execution_count": 189,
   "id": "49d1b58a",
   "metadata": {
    "tags": []
   },
   "outputs": [],
   "source": [
    "from typing import Union\n",
    "import requests\n",
    "import json\n",
    "import urllib.parse\n",
    "from requests.auth import HTTPBasicAuth\n",
    "\n",
    "import ipywidgets as widgets\n",
    "from IPython.display import display, clear_output\n",
    "import datetime\n",
    "\n",
    "from rich.console import Console\n",
    "import rich.table\n",
    "import json\n",
    "\n",
    "from IPython.display import JSON\n"
   ]
  },
  {
   "cell_type": "markdown",
   "id": "d225c760-8e35-4d0e-997e-a08723f77d48",
   "metadata": {},
   "source": [
    "Below useful functions for pretty printing and for demonstrating the queryables API."
   ]
  },
  {
   "cell_type": "code",
   "execution_count": 190,
   "id": "6f8f95ab-fa0d-41c3-b1a5-17f084c573d6",
   "metadata": {
    "jupyter": {
     "source_hidden": true
    },
    "tags": []
   },
   "outputs": [],
   "source": [
    "def display_as_json(response: requests.Response) -> None:\n",
    "    \"\"\"Displays a HTTP request response as an interactive JSON in Jupyter Hub.\n",
    "    \n",
    "    Args:\n",
    "        response (requests.Response): HTTP request response\n",
    "    Returns:\n",
    "        None\n",
    "    \"\"\"\n",
    "    if not isinstance(response, requests.Response):\n",
    "        raise TypeError(f\"display_as_json expects a requests.Response parameter, got {type(response)}.\")\n",
    "    return JSON(json.loads(response.text))\n",
    "\n",
    "def create_q_table(filters,params=None):\n",
    "    table = rich.table.Table(title=\"Applicable filters\", expand=True, show_lines=True)\n",
    "    table.add_column(\"Description\", style=\"cyan\", justify=\"right\")\n",
    "    table.add_column(\"Type\", style=\"violet\", justify=\"right\", no_wrap=True)\n",
    "    table.add_column(\"enum\", style=\"violet\", justify=\"right\")\n",
    "    table.add_column(\"value\", style=\"violet\", justify=\"right\", no_wrap=True)\n",
    "    for filtername in filters.keys():\n",
    "        if (params!=None and filtername not in params.keys()):\n",
    "            continue\n",
    "        enum=''\n",
    "        if 'enum' in filters[filtername]:\n",
    "           enum=' , ' .join(map(str,filters[filtername][\"enum\"]))\n",
    "        value=''\n",
    "        if'value' in filters[filtername]:\n",
    "           value=json.dumps(filters[filtername][\"value\"])\n",
    "        if'type' in filters[filtername]:\n",
    "           typeq=json.dumps(filters[filtername][\"type\"])\n",
    "        else:\n",
    "            typeq=''\n",
    "    \n",
    "        table.add_row(filters[filtername][\"description\"],  typeq , enum, value)\n",
    "    return table\n",
    "\n",
    "# Function to fetch queryable properties for a given collection with optional params\n",
    "def fetch_queryables(collection_name, params=None):\n",
    "    url = f\"{COLLECTIONS_URL}/{collection_name}/queryables\"\n",
    "    response = requests.get(url, params=params)\n",
    "    if response.status_code == 200:\n",
    "        return response.json().get('properties', {})\n",
    "    else:\n",
    "        return None\n",
    "\n",
    "# Function to make an API call with the selected variable values\n",
    "def fetch_variable_details(collection_name, params):\n",
    "    url = f\"{COLLECTIONS_URL}/{collection_name}/queryables\"\n",
    "    response = requests.get(url, params=params)\n",
    "    if response.status_code == 200:\n",
    "        return response.json()\n",
    "    else:\n",
    "        return None\n",
    "\n",
    "    \n",
    "def update_dropdowns(collection_name, params=None):\n",
    "    properties = fetch_queryables(collection_name, params)\n",
    "    global HDA_FILTERS\n",
    "    \n",
    "    with output_area:\n",
    "        clear_output()\n",
    "        if properties:\n",
    "            print(\"Properties fetched successfully.\")\n",
    "            #print(json.dumps(properties, indent=2))\n",
    "            table=create_q_table(properties, params)\n",
    "            console = Console()\n",
    "            console.print(table)\n",
    "            if (params!=None):\n",
    "                print(\"The parameters chosen can be translated in the following filters for the HDA query:\\n\" )\n",
    "                HDA_FILTERS = {\n",
    "                    key: {\"eq\": value}\n",
    "                    for key, value in params.items()\n",
    "                }\n",
    "        else:\n",
    "            print(\"Failed to fetch properties.\")\n",
    "            return\n",
    "        \n",
    "    # Preserve existing selected values\n",
    "    selected_values = {prop: dropdown.value for prop, dropdown in dropdowns.items()}\n",
    "    \n",
    "    # Clear existing dropdowns\n",
    "    dropdown_container.children = []\n",
    "    dropdowns.clear()\n",
    "    \n",
    "    # Create new dropdowns for properties with enum values\n",
    "    new_dropdowns = []\n",
    "    for prop, details in properties.items():\n",
    "        if details.get('type') == 'string' and 'enum' in details:\n",
    "            options = details['enum']\n",
    "            #if prop == 'levtype':\n",
    "            options = [''] + options  # Add empty option for 'param' property\n",
    "\n",
    "            dropdown = widgets.Dropdown(\n",
    "                description=prop,\n",
    "                options=options,\n",
    "                value=selected_values.get(prop, options[0])  # Set previously selected value or default to the first option\n",
    "            )\n",
    "            dropdown.observe(on_value_change, names='value')\n",
    "            dropdowns[prop] = dropdown\n",
    "            new_dropdowns.append(dropdown)\n",
    "                \n",
    "    if new_dropdowns:\n",
    "        dropdown_container.children = new_dropdowns\n",
    "    else:\n",
    "        with output_area:\n",
    "            print(\"No properties with enum values found.\")\n",
    "\n",
    "def on_fetch_button_clicked(b):\n",
    "    collection_name = collection_input.value    \n",
    "    update_dropdowns(collection_name)\n",
    "\n",
    "def on_value_change(change):\n",
    "    collection_name = collection_input.value\n",
    "    params = {prop: dropdown.value for prop, dropdown in dropdowns.items() if dropdown.value is not None}\n",
    "    \n",
    "    if params:\n",
    "        details = fetch_variable_details(collection_name, params)\n",
    "    \n",
    "        with output_area:\n",
    "            clear_output()\n",
    "            print(json.dumps(details, indent=2))\n",
    "    \n",
    "    # Update dropdowns based on the new selection\n",
    "    update_dropdowns(collection_name, params) \n",
    "    \n",
    "\n"
   ]
  },
  {
   "cell_type": "markdown",
   "id": "a6b12a10-37c5-4f9d-aded-213bcb8eec57",
   "metadata": {},
   "source": [
    "## 1 - The queryables API\n",
    "\n",
    "The applicable search filters for the selected collection can be found starting from the following link:\n",
    "[CAMS European Air Quality Forecast - filter Options HDA](https://hda.data.destination-earth.eu/stac/collections/EO.ECMWF.DAT.CAMS_EUROPE_AIR_QUALITY_FORECASTS/queryables?provider=copernicus_atmosphere_data_store)\n",
    "\n",
    "Run the cell below to see the pretty print of this first request."
   ]
  },
  {
   "cell_type": "code",
   "execution_count": 191,
   "id": "a39ac57e-174c-42d2-8de5-7187f261b380",
   "metadata": {},
   "outputs": [
    {
     "data": {
      "application/json": {
       "$id": "https://hda.data.destination-earth.eu/stac/collections/EO.ECMWF.DAT.CAMS_EUROPE_AIR_QUALITY_FORECASTS/queryables",
       "$schema": "https://json-schema.org/draft/2019-09/schema",
       "additionalProperties": false,
       "description": "Queryable names for the EODAG STAC API Item Search filter.",
       "properties": {
        "bbox": {
         "description": "BBox",
         "items": {
          "type": "number"
         },
         "oneOf": [
          {
           "maxItems": 4,
           "minItems": 4
          },
          {
           "maxItems": 6,
           "minItems": 6
          }
         ],
         "type": "array"
        },
        "datetime": {
         "$ref": "https://schemas.stacspec.org/v1.0.0/item-spec/json-schema/datetime.json#/properties/datetime",
         "description": "Datetime - use parameters year, month, day, time instead if available"
        },
        "format": {
         "description": "format",
         "type": "string",
         "value": "grib"
        },
        "geometry": {
         "$ref": "https://schemas.stacspec.org/v1.0.0/item-spec/json-schema/item.json#/geometry",
         "description": "Geometry"
        },
        "id": {
         "$ref": "https://schemas.stacspec.org/v1.0.0/item-spec/json-schema/item.json#/id",
         "description": "ID"
        },
        "leadtime_hour": {
         "description": "leadtime_hour",
         "enum": [
          "0",
          "1",
          "10",
          "11",
          "12",
          "13",
          "14",
          "15",
          "16",
          "17",
          "18",
          "19",
          "2",
          "20",
          "21",
          "22",
          "23",
          "24",
          "25",
          "26",
          "27",
          "28",
          "29",
          "3",
          "30",
          "31",
          "32",
          "33",
          "34",
          "35",
          "36",
          "37",
          "38",
          "39",
          "4",
          "40",
          "41",
          "42",
          "43",
          "44",
          "45",
          "46",
          "47",
          "48",
          "49",
          "5",
          "50",
          "51",
          "52",
          "53",
          "54",
          "55",
          "56",
          "57",
          "58",
          "59",
          "6",
          "60",
          "61",
          "62",
          "63",
          "64",
          "65",
          "66",
          "67",
          "68",
          "69",
          "7",
          "70",
          "71",
          "72",
          "73",
          "74",
          "75",
          "76",
          "77",
          "78",
          "79",
          "8",
          "80",
          "81",
          "82",
          "83",
          "84",
          "85",
          "86",
          "87",
          "88",
          "89",
          "9",
          "90",
          "91",
          "92",
          "93",
          "94",
          "95",
          "96"
         ],
         "type": "string",
         "value": "0"
        },
        "level": {
         "description": "level",
         "enum": [
          "0",
          "100",
          "1000",
          "2000",
          "250",
          "3000",
          "50",
          "500",
          "5000",
          "750"
         ],
         "type": "string",
         "value": "0"
        },
        "model": {
         "description": "model",
         "enum": [
          "chimere",
          "dehm",
          "emep",
          "ensemble",
          "euradim",
          "gemaq",
          "lotos",
          "match",
          "minni",
          "mocage",
          "monarch",
          "silam"
         ],
         "type": "string",
         "value": "ensemble"
        },
        "time": {
         "description": "time",
         "enum": [
          "00:00"
         ],
         "type": "string",
         "value": "00:00"
        },
        "type": {
         "description": "type",
         "enum": [
          "analysis",
          "forecast"
         ],
         "type": "string",
         "value": "forecast"
        },
        "variable": {
         "description": "variable",
         "enum": [
          "alder_pollen",
          "ammonia",
          "birch_pollen",
          "carbon_monoxide",
          "dust",
          "formaldehyde",
          "glyoxal",
          "grass_pollen",
          "mugwort_pollen",
          "nitrogen_dioxide",
          "nitrogen_monoxide",
          "non_methane_vocs",
          "olive_pollen",
          "ozone",
          "particulate_matter_10um",
          "particulate_matter_2.5um",
          "peroxyacyl_nitrates",
          "pm10_sea_salt_dry",
          "pm10_wildfires",
          "pm2.5_anthropogenic_fossil_fuel_carbon",
          "pm2.5_anthropogenic_wood_burning_carbon",
          "pm2.5_total_organic_matter",
          "ragweed_pollen",
          "residential_elementary_carbon",
          "secondary_inorganic_aerosol",
          "sulphur_dioxide",
          "total_elementary_carbon"
         ],
         "type": "string",
         "value": "ammonia"
        }
       },
       "title": "Queryables for EODAG STAC API",
       "type": "object"
      },
      "text/plain": [
       "<IPython.core.display.JSON object>"
      ]
     },
     "execution_count": 191,
     "metadata": {
      "application/json": {
       "expanded": false,
       "root": "root"
      }
     },
     "output_type": "execute_result"
    }
   ],
   "source": [
    "display_as_json(requests.get(QUERYABLES_BY_COLLECTION_ID))"
   ]
  },
  {
   "cell_type": "markdown",
   "id": "46f9d86c-0bfa-4ebc-978a-0268042e824e",
   "metadata": {},
   "source": [
    "The applicable filters are described under the section named 'properties'.\n",
    "\n",
    "This section contains \n",
    "* the name of the filter, **description**,\n",
    "* the filter **type**, \n",
    "* the possible filter values, **enum** (conditioned by the values selected for the other filters)\n",
    "* and the the default (or chosen) **value** applied\n",
    "\n",
    "We can print the'properties' section in a table to see the filters and the values applied by default when we perform a search for the given dataset."
   ]
  },
  {
   "cell_type": "code",
   "execution_count": 192,
   "id": "c692ab5c-2c47-427a-af1f-44ff4a3beb5c",
   "metadata": {
    "tags": []
   },
   "outputs": [
    {
     "data": {
      "text/html": [
       "<pre style=\"white-space:pre;overflow-x:auto;line-height:normal;font-family:Menlo,'DejaVu Sans Mono',consolas,'Courier New',monospace\"><span style=\"font-style: italic\">                                                Applicable filters                                                 </span>\n",
       "┏━━━━━━━━━━━━━━━━━━━━━━━━━━━━━━━━━━━━━━━━━━━━┳━━━━━━━━━━┳━━━━━━━━━━━━━━━━━━━━━━━━━━━━━━━━━━━━━━━━━━━━┳━━━━━━━━━━━━┓\n",
       "┃<span style=\"font-weight: bold\">                                Description </span>┃<span style=\"font-weight: bold\">     Type </span>┃<span style=\"font-weight: bold\">                                       enum </span>┃<span style=\"font-weight: bold\">      value </span>┃\n",
       "┡━━━━━━━━━━━━━━━━━━━━━━━━━━━━━━━━━━━━━━━━━━━━╇━━━━━━━━━━╇━━━━━━━━━━━━━━━━━━━━━━━━━━━━━━━━━━━━━━━━━━━━╇━━━━━━━━━━━━┩\n",
       "│<span style=\"color: #008080; text-decoration-color: #008080\">                                         ID </span>│<span style=\"color: #d787ff; text-decoration-color: #d787ff\">          </span>│<span style=\"color: #d787ff; text-decoration-color: #d787ff\">                                            </span>│<span style=\"color: #d787ff; text-decoration-color: #d787ff\">            </span>│\n",
       "├────────────────────────────────────────────┼──────────┼────────────────────────────────────────────┼────────────┤\n",
       "│<span style=\"color: #008080; text-decoration-color: #008080\">                                   Geometry </span>│<span style=\"color: #d787ff; text-decoration-color: #d787ff\">          </span>│<span style=\"color: #d787ff; text-decoration-color: #d787ff\">                                            </span>│<span style=\"color: #d787ff; text-decoration-color: #d787ff\">            </span>│\n",
       "├────────────────────────────────────────────┼──────────┼────────────────────────────────────────────┼────────────┤\n",
       "│<span style=\"color: #008080; text-decoration-color: #008080\">     Datetime - use parameters year, month, </span>│<span style=\"color: #d787ff; text-decoration-color: #d787ff\">          </span>│<span style=\"color: #d787ff; text-decoration-color: #d787ff\">                                            </span>│<span style=\"color: #d787ff; text-decoration-color: #d787ff\">            </span>│\n",
       "│<span style=\"color: #008080; text-decoration-color: #008080\">             day, time instead if available </span>│<span style=\"color: #d787ff; text-decoration-color: #d787ff\">          </span>│<span style=\"color: #d787ff; text-decoration-color: #d787ff\">                                            </span>│<span style=\"color: #d787ff; text-decoration-color: #d787ff\">            </span>│\n",
       "├────────────────────────────────────────────┼──────────┼────────────────────────────────────────────┼────────────┤\n",
       "│<span style=\"color: #008080; text-decoration-color: #008080\">                                       BBox </span>│<span style=\"color: #d787ff; text-decoration-color: #d787ff\">  \"array\" </span>│<span style=\"color: #d787ff; text-decoration-color: #d787ff\">                                            </span>│<span style=\"color: #d787ff; text-decoration-color: #d787ff\">            </span>│\n",
       "├────────────────────────────────────────────┼──────────┼────────────────────────────────────────────┼────────────┤\n",
       "│<span style=\"color: #008080; text-decoration-color: #008080\">                                      model </span>│<span style=\"color: #d787ff; text-decoration-color: #d787ff\"> \"string\" </span>│<span style=\"color: #d787ff; text-decoration-color: #d787ff\"> chimere , dehm , emep , ensemble , euradim </span>│<span style=\"color: #d787ff; text-decoration-color: #d787ff\"> \"ensemble\" </span>│\n",
       "│<span style=\"color: #008080; text-decoration-color: #008080\">                                            </span>│<span style=\"color: #d787ff; text-decoration-color: #d787ff\">          </span>│<span style=\"color: #d787ff; text-decoration-color: #d787ff\"> , gemaq , lotos , match , minni , mocage , </span>│<span style=\"color: #d787ff; text-decoration-color: #d787ff\">            </span>│\n",
       "│<span style=\"color: #008080; text-decoration-color: #008080\">                                            </span>│<span style=\"color: #d787ff; text-decoration-color: #d787ff\">          </span>│<span style=\"color: #d787ff; text-decoration-color: #d787ff\">                            monarch , silam </span>│<span style=\"color: #d787ff; text-decoration-color: #d787ff\">            </span>│\n",
       "├────────────────────────────────────────────┼──────────┼────────────────────────────────────────────┼────────────┤\n",
       "│<span style=\"color: #008080; text-decoration-color: #008080\">                                     format </span>│<span style=\"color: #d787ff; text-decoration-color: #d787ff\"> \"string\" </span>│<span style=\"color: #d787ff; text-decoration-color: #d787ff\">                                            </span>│<span style=\"color: #d787ff; text-decoration-color: #d787ff\">     \"grib\" </span>│\n",
       "├────────────────────────────────────────────┼──────────┼────────────────────────────────────────────┼────────────┤\n",
       "│<span style=\"color: #008080; text-decoration-color: #008080\">                                   variable </span>│<span style=\"color: #d787ff; text-decoration-color: #d787ff\"> \"string\" </span>│<span style=\"color: #d787ff; text-decoration-color: #d787ff\">    alder_pollen , ammonia , birch_pollen , </span>│<span style=\"color: #d787ff; text-decoration-color: #d787ff\">  \"ammonia\" </span>│\n",
       "│<span style=\"color: #008080; text-decoration-color: #008080\">                                            </span>│<span style=\"color: #d787ff; text-decoration-color: #d787ff\">          </span>│<span style=\"color: #d787ff; text-decoration-color: #d787ff\">    carbon_monoxide , dust , formaldehyde , </span>│<span style=\"color: #d787ff; text-decoration-color: #d787ff\">            </span>│\n",
       "│<span style=\"color: #008080; text-decoration-color: #008080\">                                            </span>│<span style=\"color: #d787ff; text-decoration-color: #d787ff\">          </span>│<span style=\"color: #d787ff; text-decoration-color: #d787ff\">  glyoxal , grass_pollen , mugwort_pollen , </span>│<span style=\"color: #d787ff; text-decoration-color: #d787ff\">            </span>│\n",
       "│<span style=\"color: #008080; text-decoration-color: #008080\">                                            </span>│<span style=\"color: #d787ff; text-decoration-color: #d787ff\">          </span>│<span style=\"color: #d787ff; text-decoration-color: #d787ff\">     nitrogen_dioxide , nitrogen_monoxide , </span>│<span style=\"color: #d787ff; text-decoration-color: #d787ff\">            </span>│\n",
       "│<span style=\"color: #008080; text-decoration-color: #008080\">                                            </span>│<span style=\"color: #d787ff; text-decoration-color: #d787ff\">          </span>│<span style=\"color: #d787ff; text-decoration-color: #d787ff\">  non_methane_vocs , olive_pollen , ozone , </span>│<span style=\"color: #d787ff; text-decoration-color: #d787ff\">            </span>│\n",
       "│<span style=\"color: #008080; text-decoration-color: #008080\">                                            </span>│<span style=\"color: #d787ff; text-decoration-color: #d787ff\">          </span>│<span style=\"color: #d787ff; text-decoration-color: #d787ff\">                  particulate_matter_10um , </span>│<span style=\"color: #d787ff; text-decoration-color: #d787ff\">            </span>│\n",
       "│<span style=\"color: #008080; text-decoration-color: #008080\">                                            </span>│<span style=\"color: #d787ff; text-decoration-color: #d787ff\">          </span>│<span style=\"color: #d787ff; text-decoration-color: #d787ff\">                 particulate_matter_2.5um , </span>│<span style=\"color: #d787ff; text-decoration-color: #d787ff\">            </span>│\n",
       "│<span style=\"color: #008080; text-decoration-color: #008080\">                                            </span>│<span style=\"color: #d787ff; text-decoration-color: #d787ff\">          </span>│<span style=\"color: #d787ff; text-decoration-color: #d787ff\">  peroxyacyl_nitrates , pm10_sea_salt_dry , </span>│<span style=\"color: #d787ff; text-decoration-color: #d787ff\">            </span>│\n",
       "│<span style=\"color: #008080; text-decoration-color: #008080\">                                            </span>│<span style=\"color: #d787ff; text-decoration-color: #d787ff\">          </span>│<span style=\"color: #d787ff; text-decoration-color: #d787ff\">                           pm10_wildfires , </span>│<span style=\"color: #d787ff; text-decoration-color: #d787ff\">            </span>│\n",
       "│<span style=\"color: #008080; text-decoration-color: #008080\">                                            </span>│<span style=\"color: #d787ff; text-decoration-color: #d787ff\">          </span>│<span style=\"color: #d787ff; text-decoration-color: #d787ff\">   pm2.5_anthropogenic_fossil_fuel_carbon , </span>│<span style=\"color: #d787ff; text-decoration-color: #d787ff\">            </span>│\n",
       "│<span style=\"color: #008080; text-decoration-color: #008080\">                                            </span>│<span style=\"color: #d787ff; text-decoration-color: #d787ff\">          </span>│<span style=\"color: #d787ff; text-decoration-color: #d787ff\">  pm2.5_anthropogenic_wood_burning_carbon , </span>│<span style=\"color: #d787ff; text-decoration-color: #d787ff\">            </span>│\n",
       "│<span style=\"color: #008080; text-decoration-color: #008080\">                                            </span>│<span style=\"color: #d787ff; text-decoration-color: #d787ff\">          </span>│<span style=\"color: #d787ff; text-decoration-color: #d787ff\">               pm2.5_total_organic_matter , </span>│<span style=\"color: #d787ff; text-decoration-color: #d787ff\">            </span>│\n",
       "│<span style=\"color: #008080; text-decoration-color: #008080\">                                            </span>│<span style=\"color: #d787ff; text-decoration-color: #d787ff\">          </span>│<span style=\"color: #d787ff; text-decoration-color: #d787ff\">                           ragweed_pollen , </span>│<span style=\"color: #d787ff; text-decoration-color: #d787ff\">            </span>│\n",
       "│<span style=\"color: #008080; text-decoration-color: #008080\">                                            </span>│<span style=\"color: #d787ff; text-decoration-color: #d787ff\">          </span>│<span style=\"color: #d787ff; text-decoration-color: #d787ff\">            residential_elementary_carbon , </span>│<span style=\"color: #d787ff; text-decoration-color: #d787ff\">            </span>│\n",
       "│<span style=\"color: #008080; text-decoration-color: #008080\">                                            </span>│<span style=\"color: #d787ff; text-decoration-color: #d787ff\">          </span>│<span style=\"color: #d787ff; text-decoration-color: #d787ff\">              secondary_inorganic_aerosol , </span>│<span style=\"color: #d787ff; text-decoration-color: #d787ff\">            </span>│\n",
       "│<span style=\"color: #008080; text-decoration-color: #008080\">                                            </span>│<span style=\"color: #d787ff; text-decoration-color: #d787ff\">          </span>│<span style=\"color: #d787ff; text-decoration-color: #d787ff\">  sulphur_dioxide , total_elementary_carbon </span>│<span style=\"color: #d787ff; text-decoration-color: #d787ff\">            </span>│\n",
       "├────────────────────────────────────────────┼──────────┼────────────────────────────────────────────┼────────────┤\n",
       "│<span style=\"color: #008080; text-decoration-color: #008080\">                                       type </span>│<span style=\"color: #d787ff; text-decoration-color: #d787ff\"> \"string\" </span>│<span style=\"color: #d787ff; text-decoration-color: #d787ff\">                        analysis , forecast </span>│<span style=\"color: #d787ff; text-decoration-color: #d787ff\"> \"forecast\" </span>│\n",
       "├────────────────────────────────────────────┼──────────┼────────────────────────────────────────────┼────────────┤\n",
       "│<span style=\"color: #008080; text-decoration-color: #008080\">                                       time </span>│<span style=\"color: #d787ff; text-decoration-color: #d787ff\"> \"string\" </span>│<span style=\"color: #d787ff; text-decoration-color: #d787ff\">                                      00:00 </span>│<span style=\"color: #d787ff; text-decoration-color: #d787ff\">    \"00:00\" </span>│\n",
       "├────────────────────────────────────────────┼──────────┼────────────────────────────────────────────┼────────────┤\n",
       "│<span style=\"color: #008080; text-decoration-color: #008080\">                                      level </span>│<span style=\"color: #d787ff; text-decoration-color: #d787ff\"> \"string\" </span>│<span style=\"color: #d787ff; text-decoration-color: #d787ff\">  0 , 100 , 1000 , 2000 , 250 , 3000 , 50 , </span>│<span style=\"color: #d787ff; text-decoration-color: #d787ff\">        \"0\" </span>│\n",
       "│<span style=\"color: #008080; text-decoration-color: #008080\">                                            </span>│<span style=\"color: #d787ff; text-decoration-color: #d787ff\">          </span>│<span style=\"color: #d787ff; text-decoration-color: #d787ff\">                           500 , 5000 , 750 </span>│<span style=\"color: #d787ff; text-decoration-color: #d787ff\">            </span>│\n",
       "├────────────────────────────────────────────┼──────────┼────────────────────────────────────────────┼────────────┤\n",
       "│<span style=\"color: #008080; text-decoration-color: #008080\">                              leadtime_hour </span>│<span style=\"color: #d787ff; text-decoration-color: #d787ff\"> \"string\" </span>│<span style=\"color: #d787ff; text-decoration-color: #d787ff\"> 0 , 1 , 10 , 11 , 12 , 13 , 14 , 15 , 16 , </span>│<span style=\"color: #d787ff; text-decoration-color: #d787ff\">        \"0\" </span>│\n",
       "│<span style=\"color: #008080; text-decoration-color: #008080\">                                            </span>│<span style=\"color: #d787ff; text-decoration-color: #d787ff\">          </span>│<span style=\"color: #d787ff; text-decoration-color: #d787ff\">  17 , 18 , 19 , 2 , 20 , 21 , 22 , 23 , 24 </span>│<span style=\"color: #d787ff; text-decoration-color: #d787ff\">            </span>│\n",
       "│<span style=\"color: #008080; text-decoration-color: #008080\">                                            </span>│<span style=\"color: #d787ff; text-decoration-color: #d787ff\">          </span>│<span style=\"color: #d787ff; text-decoration-color: #d787ff\">   , 25 , 26 , 27 , 28 , 29 , 3 , 30 , 31 , </span>│<span style=\"color: #d787ff; text-decoration-color: #d787ff\">            </span>│\n",
       "│<span style=\"color: #008080; text-decoration-color: #008080\">                                            </span>│<span style=\"color: #d787ff; text-decoration-color: #d787ff\">          </span>│<span style=\"color: #d787ff; text-decoration-color: #d787ff\">  32 , 33 , 34 , 35 , 36 , 37 , 38 , 39 , 4 </span>│<span style=\"color: #d787ff; text-decoration-color: #d787ff\">            </span>│\n",
       "│<span style=\"color: #008080; text-decoration-color: #008080\">                                            </span>│<span style=\"color: #d787ff; text-decoration-color: #d787ff\">          </span>│<span style=\"color: #d787ff; text-decoration-color: #d787ff\">  , 40 , 41 , 42 , 43 , 44 , 45 , 46 , 47 , </span>│<span style=\"color: #d787ff; text-decoration-color: #d787ff\">            </span>│\n",
       "│<span style=\"color: #008080; text-decoration-color: #008080\">                                            </span>│<span style=\"color: #d787ff; text-decoration-color: #d787ff\">          </span>│<span style=\"color: #d787ff; text-decoration-color: #d787ff\">  48 , 49 , 5 , 50 , 51 , 52 , 53 , 54 , 55 </span>│<span style=\"color: #d787ff; text-decoration-color: #d787ff\">            </span>│\n",
       "│<span style=\"color: #008080; text-decoration-color: #008080\">                                            </span>│<span style=\"color: #d787ff; text-decoration-color: #d787ff\">          </span>│<span style=\"color: #d787ff; text-decoration-color: #d787ff\">   , 56 , 57 , 58 , 59 , 6 , 60 , 61 , 62 , </span>│<span style=\"color: #d787ff; text-decoration-color: #d787ff\">            </span>│\n",
       "│<span style=\"color: #008080; text-decoration-color: #008080\">                                            </span>│<span style=\"color: #d787ff; text-decoration-color: #d787ff\">          </span>│<span style=\"color: #d787ff; text-decoration-color: #d787ff\">  63 , 64 , 65 , 66 , 67 , 68 , 69 , 7 , 70 </span>│<span style=\"color: #d787ff; text-decoration-color: #d787ff\">            </span>│\n",
       "│<span style=\"color: #008080; text-decoration-color: #008080\">                                            </span>│<span style=\"color: #d787ff; text-decoration-color: #d787ff\">          </span>│<span style=\"color: #d787ff; text-decoration-color: #d787ff\">  , 71 , 72 , 73 , 74 , 75 , 76 , 77 , 78 , </span>│<span style=\"color: #d787ff; text-decoration-color: #d787ff\">            </span>│\n",
       "│<span style=\"color: #008080; text-decoration-color: #008080\">                                            </span>│<span style=\"color: #d787ff; text-decoration-color: #d787ff\">          </span>│<span style=\"color: #d787ff; text-decoration-color: #d787ff\">  79 , 8 , 80 , 81 , 82 , 83 , 84 , 85 , 86 </span>│<span style=\"color: #d787ff; text-decoration-color: #d787ff\">            </span>│\n",
       "│<span style=\"color: #008080; text-decoration-color: #008080\">                                            </span>│<span style=\"color: #d787ff; text-decoration-color: #d787ff\">          </span>│<span style=\"color: #d787ff; text-decoration-color: #d787ff\">   , 87 , 88 , 89 , 9 , 90 , 91 , 92 , 93 , </span>│<span style=\"color: #d787ff; text-decoration-color: #d787ff\">            </span>│\n",
       "│<span style=\"color: #008080; text-decoration-color: #008080\">                                            </span>│<span style=\"color: #d787ff; text-decoration-color: #d787ff\">          </span>│<span style=\"color: #d787ff; text-decoration-color: #d787ff\">                               94 , 95 , 96 </span>│<span style=\"color: #d787ff; text-decoration-color: #d787ff\">            </span>│\n",
       "└────────────────────────────────────────────┴──────────┴────────────────────────────────────────────┴────────────┘\n",
       "</pre>\n"
      ],
      "text/plain": [
       "\u001b[3m                                                Applicable filters                                                 \u001b[0m\n",
       "┏━━━━━━━━━━━━━━━━━━━━━━━━━━━━━━━━━━━━━━━━━━━━┳━━━━━━━━━━┳━━━━━━━━━━━━━━━━━━━━━━━━━━━━━━━━━━━━━━━━━━━━┳━━━━━━━━━━━━┓\n",
       "┃\u001b[1m \u001b[0m\u001b[1m                               Description\u001b[0m\u001b[1m \u001b[0m┃\u001b[1m \u001b[0m\u001b[1m    Type\u001b[0m\u001b[1m \u001b[0m┃\u001b[1m \u001b[0m\u001b[1m                                      enum\u001b[0m\u001b[1m \u001b[0m┃\u001b[1m \u001b[0m\u001b[1m     value\u001b[0m\u001b[1m \u001b[0m┃\n",
       "┡━━━━━━━━━━━━━━━━━━━━━━━━━━━━━━━━━━━━━━━━━━━━╇━━━━━━━━━━╇━━━━━━━━━━━━━━━━━━━━━━━━━━━━━━━━━━━━━━━━━━━━╇━━━━━━━━━━━━┩\n",
       "│\u001b[36m \u001b[0m\u001b[36m                                        ID\u001b[0m\u001b[36m \u001b[0m│\u001b[38;5;177m \u001b[0m\u001b[38;5;177m        \u001b[0m\u001b[38;5;177m \u001b[0m│\u001b[38;5;177m \u001b[0m\u001b[38;5;177m                                          \u001b[0m\u001b[38;5;177m \u001b[0m│\u001b[38;5;177m \u001b[0m\u001b[38;5;177m          \u001b[0m\u001b[38;5;177m \u001b[0m│\n",
       "├────────────────────────────────────────────┼──────────┼────────────────────────────────────────────┼────────────┤\n",
       "│\u001b[36m \u001b[0m\u001b[36m                                  Geometry\u001b[0m\u001b[36m \u001b[0m│\u001b[38;5;177m \u001b[0m\u001b[38;5;177m        \u001b[0m\u001b[38;5;177m \u001b[0m│\u001b[38;5;177m \u001b[0m\u001b[38;5;177m                                          \u001b[0m\u001b[38;5;177m \u001b[0m│\u001b[38;5;177m \u001b[0m\u001b[38;5;177m          \u001b[0m\u001b[38;5;177m \u001b[0m│\n",
       "├────────────────────────────────────────────┼──────────┼────────────────────────────────────────────┼────────────┤\n",
       "│\u001b[36m \u001b[0m\u001b[36m    Datetime - use parameters year, month,\u001b[0m\u001b[36m \u001b[0m│\u001b[38;5;177m \u001b[0m\u001b[38;5;177m        \u001b[0m\u001b[38;5;177m \u001b[0m│\u001b[38;5;177m \u001b[0m\u001b[38;5;177m                                          \u001b[0m\u001b[38;5;177m \u001b[0m│\u001b[38;5;177m \u001b[0m\u001b[38;5;177m          \u001b[0m\u001b[38;5;177m \u001b[0m│\n",
       "│\u001b[36m \u001b[0m\u001b[36m            day, time instead if available\u001b[0m\u001b[36m \u001b[0m│\u001b[38;5;177m          \u001b[0m│\u001b[38;5;177m                                            \u001b[0m│\u001b[38;5;177m            \u001b[0m│\n",
       "├────────────────────────────────────────────┼──────────┼────────────────────────────────────────────┼────────────┤\n",
       "│\u001b[36m \u001b[0m\u001b[36m                                      BBox\u001b[0m\u001b[36m \u001b[0m│\u001b[38;5;177m \u001b[0m\u001b[38;5;177m \"array\"\u001b[0m\u001b[38;5;177m \u001b[0m│\u001b[38;5;177m \u001b[0m\u001b[38;5;177m                                          \u001b[0m\u001b[38;5;177m \u001b[0m│\u001b[38;5;177m \u001b[0m\u001b[38;5;177m          \u001b[0m\u001b[38;5;177m \u001b[0m│\n",
       "├────────────────────────────────────────────┼──────────┼────────────────────────────────────────────┼────────────┤\n",
       "│\u001b[36m \u001b[0m\u001b[36m                                     model\u001b[0m\u001b[36m \u001b[0m│\u001b[38;5;177m \u001b[0m\u001b[38;5;177m\"string\"\u001b[0m\u001b[38;5;177m \u001b[0m│\u001b[38;5;177m \u001b[0m\u001b[38;5;177mchimere , dehm , emep , ensemble , euradim\u001b[0m\u001b[38;5;177m \u001b[0m│\u001b[38;5;177m \u001b[0m\u001b[38;5;177m\"ensemble\"\u001b[0m\u001b[38;5;177m \u001b[0m│\n",
       "│\u001b[36m                                            \u001b[0m│\u001b[38;5;177m          \u001b[0m│\u001b[38;5;177m \u001b[0m\u001b[38;5;177m, gemaq , lotos , match , minni , mocage ,\u001b[0m\u001b[38;5;177m \u001b[0m│\u001b[38;5;177m            \u001b[0m│\n",
       "│\u001b[36m                                            \u001b[0m│\u001b[38;5;177m          \u001b[0m│\u001b[38;5;177m \u001b[0m\u001b[38;5;177m                           monarch , silam\u001b[0m\u001b[38;5;177m \u001b[0m│\u001b[38;5;177m            \u001b[0m│\n",
       "├────────────────────────────────────────────┼──────────┼────────────────────────────────────────────┼────────────┤\n",
       "│\u001b[36m \u001b[0m\u001b[36m                                    format\u001b[0m\u001b[36m \u001b[0m│\u001b[38;5;177m \u001b[0m\u001b[38;5;177m\"string\"\u001b[0m\u001b[38;5;177m \u001b[0m│\u001b[38;5;177m \u001b[0m\u001b[38;5;177m                                          \u001b[0m\u001b[38;5;177m \u001b[0m│\u001b[38;5;177m \u001b[0m\u001b[38;5;177m    \"grib\"\u001b[0m\u001b[38;5;177m \u001b[0m│\n",
       "├────────────────────────────────────────────┼──────────┼────────────────────────────────────────────┼────────────┤\n",
       "│\u001b[36m \u001b[0m\u001b[36m                                  variable\u001b[0m\u001b[36m \u001b[0m│\u001b[38;5;177m \u001b[0m\u001b[38;5;177m\"string\"\u001b[0m\u001b[38;5;177m \u001b[0m│\u001b[38;5;177m \u001b[0m\u001b[38;5;177m   alder_pollen , ammonia , birch_pollen ,\u001b[0m\u001b[38;5;177m \u001b[0m│\u001b[38;5;177m \u001b[0m\u001b[38;5;177m \"ammonia\"\u001b[0m\u001b[38;5;177m \u001b[0m│\n",
       "│\u001b[36m                                            \u001b[0m│\u001b[38;5;177m          \u001b[0m│\u001b[38;5;177m \u001b[0m\u001b[38;5;177m   carbon_monoxide , dust , formaldehyde ,\u001b[0m\u001b[38;5;177m \u001b[0m│\u001b[38;5;177m            \u001b[0m│\n",
       "│\u001b[36m                                            \u001b[0m│\u001b[38;5;177m          \u001b[0m│\u001b[38;5;177m \u001b[0m\u001b[38;5;177m glyoxal , grass_pollen , mugwort_pollen ,\u001b[0m\u001b[38;5;177m \u001b[0m│\u001b[38;5;177m            \u001b[0m│\n",
       "│\u001b[36m                                            \u001b[0m│\u001b[38;5;177m          \u001b[0m│\u001b[38;5;177m \u001b[0m\u001b[38;5;177m    nitrogen_dioxide , nitrogen_monoxide ,\u001b[0m\u001b[38;5;177m \u001b[0m│\u001b[38;5;177m            \u001b[0m│\n",
       "│\u001b[36m                                            \u001b[0m│\u001b[38;5;177m          \u001b[0m│\u001b[38;5;177m \u001b[0m\u001b[38;5;177m non_methane_vocs , olive_pollen , ozone ,\u001b[0m\u001b[38;5;177m \u001b[0m│\u001b[38;5;177m            \u001b[0m│\n",
       "│\u001b[36m                                            \u001b[0m│\u001b[38;5;177m          \u001b[0m│\u001b[38;5;177m \u001b[0m\u001b[38;5;177m                 particulate_matter_10um ,\u001b[0m\u001b[38;5;177m \u001b[0m│\u001b[38;5;177m            \u001b[0m│\n",
       "│\u001b[36m                                            \u001b[0m│\u001b[38;5;177m          \u001b[0m│\u001b[38;5;177m \u001b[0m\u001b[38;5;177m                particulate_matter_2.5um ,\u001b[0m\u001b[38;5;177m \u001b[0m│\u001b[38;5;177m            \u001b[0m│\n",
       "│\u001b[36m                                            \u001b[0m│\u001b[38;5;177m          \u001b[0m│\u001b[38;5;177m \u001b[0m\u001b[38;5;177m peroxyacyl_nitrates , pm10_sea_salt_dry ,\u001b[0m\u001b[38;5;177m \u001b[0m│\u001b[38;5;177m            \u001b[0m│\n",
       "│\u001b[36m                                            \u001b[0m│\u001b[38;5;177m          \u001b[0m│\u001b[38;5;177m \u001b[0m\u001b[38;5;177m                          pm10_wildfires ,\u001b[0m\u001b[38;5;177m \u001b[0m│\u001b[38;5;177m            \u001b[0m│\n",
       "│\u001b[36m                                            \u001b[0m│\u001b[38;5;177m          \u001b[0m│\u001b[38;5;177m \u001b[0m\u001b[38;5;177m  pm2.5_anthropogenic_fossil_fuel_carbon ,\u001b[0m\u001b[38;5;177m \u001b[0m│\u001b[38;5;177m            \u001b[0m│\n",
       "│\u001b[36m                                            \u001b[0m│\u001b[38;5;177m          \u001b[0m│\u001b[38;5;177m \u001b[0m\u001b[38;5;177m pm2.5_anthropogenic_wood_burning_carbon ,\u001b[0m\u001b[38;5;177m \u001b[0m│\u001b[38;5;177m            \u001b[0m│\n",
       "│\u001b[36m                                            \u001b[0m│\u001b[38;5;177m          \u001b[0m│\u001b[38;5;177m \u001b[0m\u001b[38;5;177m              pm2.5_total_organic_matter ,\u001b[0m\u001b[38;5;177m \u001b[0m│\u001b[38;5;177m            \u001b[0m│\n",
       "│\u001b[36m                                            \u001b[0m│\u001b[38;5;177m          \u001b[0m│\u001b[38;5;177m \u001b[0m\u001b[38;5;177m                          ragweed_pollen ,\u001b[0m\u001b[38;5;177m \u001b[0m│\u001b[38;5;177m            \u001b[0m│\n",
       "│\u001b[36m                                            \u001b[0m│\u001b[38;5;177m          \u001b[0m│\u001b[38;5;177m \u001b[0m\u001b[38;5;177m           residential_elementary_carbon ,\u001b[0m\u001b[38;5;177m \u001b[0m│\u001b[38;5;177m            \u001b[0m│\n",
       "│\u001b[36m                                            \u001b[0m│\u001b[38;5;177m          \u001b[0m│\u001b[38;5;177m \u001b[0m\u001b[38;5;177m             secondary_inorganic_aerosol ,\u001b[0m\u001b[38;5;177m \u001b[0m│\u001b[38;5;177m            \u001b[0m│\n",
       "│\u001b[36m                                            \u001b[0m│\u001b[38;5;177m          \u001b[0m│\u001b[38;5;177m \u001b[0m\u001b[38;5;177m sulphur_dioxide , total_elementary_carbon\u001b[0m\u001b[38;5;177m \u001b[0m│\u001b[38;5;177m            \u001b[0m│\n",
       "├────────────────────────────────────────────┼──────────┼────────────────────────────────────────────┼────────────┤\n",
       "│\u001b[36m \u001b[0m\u001b[36m                                      type\u001b[0m\u001b[36m \u001b[0m│\u001b[38;5;177m \u001b[0m\u001b[38;5;177m\"string\"\u001b[0m\u001b[38;5;177m \u001b[0m│\u001b[38;5;177m \u001b[0m\u001b[38;5;177m                       analysis , forecast\u001b[0m\u001b[38;5;177m \u001b[0m│\u001b[38;5;177m \u001b[0m\u001b[38;5;177m\"forecast\"\u001b[0m\u001b[38;5;177m \u001b[0m│\n",
       "├────────────────────────────────────────────┼──────────┼────────────────────────────────────────────┼────────────┤\n",
       "│\u001b[36m \u001b[0m\u001b[36m                                      time\u001b[0m\u001b[36m \u001b[0m│\u001b[38;5;177m \u001b[0m\u001b[38;5;177m\"string\"\u001b[0m\u001b[38;5;177m \u001b[0m│\u001b[38;5;177m \u001b[0m\u001b[38;5;177m                                     00:00\u001b[0m\u001b[38;5;177m \u001b[0m│\u001b[38;5;177m \u001b[0m\u001b[38;5;177m   \"00:00\"\u001b[0m\u001b[38;5;177m \u001b[0m│\n",
       "├────────────────────────────────────────────┼──────────┼────────────────────────────────────────────┼────────────┤\n",
       "│\u001b[36m \u001b[0m\u001b[36m                                     level\u001b[0m\u001b[36m \u001b[0m│\u001b[38;5;177m \u001b[0m\u001b[38;5;177m\"string\"\u001b[0m\u001b[38;5;177m \u001b[0m│\u001b[38;5;177m \u001b[0m\u001b[38;5;177m 0 , 100 , 1000 , 2000 , 250 , 3000 , 50 ,\u001b[0m\u001b[38;5;177m \u001b[0m│\u001b[38;5;177m \u001b[0m\u001b[38;5;177m       \"0\"\u001b[0m\u001b[38;5;177m \u001b[0m│\n",
       "│\u001b[36m                                            \u001b[0m│\u001b[38;5;177m          \u001b[0m│\u001b[38;5;177m \u001b[0m\u001b[38;5;177m                          500 , 5000 , 750\u001b[0m\u001b[38;5;177m \u001b[0m│\u001b[38;5;177m            \u001b[0m│\n",
       "├────────────────────────────────────────────┼──────────┼────────────────────────────────────────────┼────────────┤\n",
       "│\u001b[36m \u001b[0m\u001b[36m                             leadtime_hour\u001b[0m\u001b[36m \u001b[0m│\u001b[38;5;177m \u001b[0m\u001b[38;5;177m\"string\"\u001b[0m\u001b[38;5;177m \u001b[0m│\u001b[38;5;177m \u001b[0m\u001b[38;5;177m0 , 1 , 10 , 11 , 12 , 13 , 14 , 15 , 16 ,\u001b[0m\u001b[38;5;177m \u001b[0m│\u001b[38;5;177m \u001b[0m\u001b[38;5;177m       \"0\"\u001b[0m\u001b[38;5;177m \u001b[0m│\n",
       "│\u001b[36m                                            \u001b[0m│\u001b[38;5;177m          \u001b[0m│\u001b[38;5;177m \u001b[0m\u001b[38;5;177m 17 , 18 , 19 , 2 , 20 , 21 , 22 , 23 , 24\u001b[0m\u001b[38;5;177m \u001b[0m│\u001b[38;5;177m            \u001b[0m│\n",
       "│\u001b[36m                                            \u001b[0m│\u001b[38;5;177m          \u001b[0m│\u001b[38;5;177m \u001b[0m\u001b[38;5;177m  , 25 , 26 , 27 , 28 , 29 , 3 , 30 , 31 ,\u001b[0m\u001b[38;5;177m \u001b[0m│\u001b[38;5;177m            \u001b[0m│\n",
       "│\u001b[36m                                            \u001b[0m│\u001b[38;5;177m          \u001b[0m│\u001b[38;5;177m \u001b[0m\u001b[38;5;177m 32 , 33 , 34 , 35 , 36 , 37 , 38 , 39 , 4\u001b[0m\u001b[38;5;177m \u001b[0m│\u001b[38;5;177m            \u001b[0m│\n",
       "│\u001b[36m                                            \u001b[0m│\u001b[38;5;177m          \u001b[0m│\u001b[38;5;177m \u001b[0m\u001b[38;5;177m , 40 , 41 , 42 , 43 , 44 , 45 , 46 , 47 ,\u001b[0m\u001b[38;5;177m \u001b[0m│\u001b[38;5;177m            \u001b[0m│\n",
       "│\u001b[36m                                            \u001b[0m│\u001b[38;5;177m          \u001b[0m│\u001b[38;5;177m \u001b[0m\u001b[38;5;177m 48 , 49 , 5 , 50 , 51 , 52 , 53 , 54 , 55\u001b[0m\u001b[38;5;177m \u001b[0m│\u001b[38;5;177m            \u001b[0m│\n",
       "│\u001b[36m                                            \u001b[0m│\u001b[38;5;177m          \u001b[0m│\u001b[38;5;177m \u001b[0m\u001b[38;5;177m  , 56 , 57 , 58 , 59 , 6 , 60 , 61 , 62 ,\u001b[0m\u001b[38;5;177m \u001b[0m│\u001b[38;5;177m            \u001b[0m│\n",
       "│\u001b[36m                                            \u001b[0m│\u001b[38;5;177m          \u001b[0m│\u001b[38;5;177m \u001b[0m\u001b[38;5;177m 63 , 64 , 65 , 66 , 67 , 68 , 69 , 7 , 70\u001b[0m\u001b[38;5;177m \u001b[0m│\u001b[38;5;177m            \u001b[0m│\n",
       "│\u001b[36m                                            \u001b[0m│\u001b[38;5;177m          \u001b[0m│\u001b[38;5;177m \u001b[0m\u001b[38;5;177m , 71 , 72 , 73 , 74 , 75 , 76 , 77 , 78 ,\u001b[0m\u001b[38;5;177m \u001b[0m│\u001b[38;5;177m            \u001b[0m│\n",
       "│\u001b[36m                                            \u001b[0m│\u001b[38;5;177m          \u001b[0m│\u001b[38;5;177m \u001b[0m\u001b[38;5;177m 79 , 8 , 80 , 81 , 82 , 83 , 84 , 85 , 86\u001b[0m\u001b[38;5;177m \u001b[0m│\u001b[38;5;177m            \u001b[0m│\n",
       "│\u001b[36m                                            \u001b[0m│\u001b[38;5;177m          \u001b[0m│\u001b[38;5;177m \u001b[0m\u001b[38;5;177m  , 87 , 88 , 89 , 9 , 90 , 91 , 92 , 93 ,\u001b[0m\u001b[38;5;177m \u001b[0m│\u001b[38;5;177m            \u001b[0m│\n",
       "│\u001b[36m                                            \u001b[0m│\u001b[38;5;177m          \u001b[0m│\u001b[38;5;177m \u001b[0m\u001b[38;5;177m                              94 , 95 , 96\u001b[0m\u001b[38;5;177m \u001b[0m│\u001b[38;5;177m            \u001b[0m│\n",
       "└────────────────────────────────────────────┴──────────┴────────────────────────────────────────────┴────────────┘\n"
      ]
     },
     "metadata": {},
     "output_type": "display_data"
    }
   ],
   "source": [
    "filters_resp=requests.get(QUERYABLES_BY_COLLECTION_ID)\n",
    "filters = filters_resp.json()[\"properties\"]\n",
    "table=create_q_table(filters)\n",
    "console = Console()\n",
    "console.print(table)"
   ]
  },
  {
   "cell_type": "markdown",
   "id": "b4ae9c40-9305-49d1-9002-1f795c0bf571",
   "metadata": {},
   "source": [
    "The most useful way to exploit the queryables API is to have an helper for building a correct search request for the given dataset.\n",
    "\n",
    "Calling the queryables API with the values chosen for filtering the selected dataset, the API replies with the applicable filters, conditioned by the chosen values. This means that, if you select a certain variable then the choice is narrowed down for other variables.\n",
    "In this way the queryables API provides a valid tool for constructing the right query.\n",
    "\n",
    "Below an interactive example to see that once you select a value for a property the choice is narrowed down for other variables. \n",
    "\n",
    "If you, for example, select type=forecast (https://hda.data.destination-earth.eu/stac/collections/EO.ECMWF.DAT.CAMS_EUROPE_AIR_QUALITY_FORECASTS/queryables?provider=copernicus_atmosphere_data_store&type=forecast) you will have only '00:00' in the enum for time instead of all the available hours. "
   ]
  },
  {
   "cell_type": "code",
   "execution_count": 193,
   "id": "544ac58f-4851-4d68-b552-d332ca31e58d",
   "metadata": {
    "tags": []
   },
   "outputs": [
    {
     "data": {
      "application/vnd.jupyter.widget-view+json": {
       "model_id": "6eb9862858be4435a5ad0d410cae8fb2",
       "version_major": 2,
       "version_minor": 0
      },
      "text/plain": [
       "Text(value='EO.ECMWF.DAT.CAMS_EUROPE_AIR_QUALITY_FORECASTS', description='Collection:')"
      ]
     },
     "metadata": {},
     "output_type": "display_data"
    },
    {
     "data": {
      "application/vnd.jupyter.widget-view+json": {
       "model_id": "bb4424679c87452abee2df5622043f2f",
       "version_major": 2,
       "version_minor": 0
      },
      "text/plain": [
       "Button(description='Fetch Properties', style=ButtonStyle())"
      ]
     },
     "metadata": {},
     "output_type": "display_data"
    },
    {
     "data": {
      "application/vnd.jupyter.widget-view+json": {
       "model_id": "5e8c5ab98d4a4813a11fd0b0062a7d41",
       "version_major": 2,
       "version_minor": 0
      },
      "text/plain": [
       "VBox()"
      ]
     },
     "metadata": {},
     "output_type": "display_data"
    },
    {
     "data": {
      "application/vnd.jupyter.widget-view+json": {
       "model_id": "d23f83a36fca4d13b8447558926ea1b3",
       "version_major": 2,
       "version_minor": 0
      },
      "text/plain": [
       "Output()"
      ]
     },
     "metadata": {},
     "output_type": "display_data"
    }
   ],
   "source": [
    "# Widgets\n",
    "collection_input = widgets.Text(\n",
    "    description='Collection:',\n",
    "    value=COLLECTION_ID,\n",
    ")\n",
    "\n",
    "fetch_button = widgets.Button(description=\"Fetch Properties\")\n",
    "dropdown_container = widgets.VBox()\n",
    "output_area = widgets.Output()\n",
    "\n",
    "dropdowns = {}\n",
    "\n",
    "# Event listeners\n",
    "fetch_button.on_click(on_fetch_button_clicked)\n",
    "\n",
    "# Layout\n",
    "display(collection_input, fetch_button, dropdown_container, output_area)"
   ]
  },
  {
   "cell_type": "markdown",
   "id": "6f776ea7-1819-4b8f-a63a-79019d92dd80",
   "metadata": {
    "tags": []
   },
   "source": [
    "## 2 - Filtering a collection with the list returned by the queryable API\n",
    "\n",
    "This section wil explain how to use the list of variable terms returned by the queryables API for filtering a specific dataset. "
   ]
  },
  {
   "cell_type": "markdown",
   "id": "9f7b0212-8a1b-4148-abf4-a86a291d8ec4",
   "metadata": {
    "tags": []
   },
   "source": [
    "### Build the query from the selected values\n",
    "The parameters chosen in the previous steps can be translated in the following filters to add to the HDA queries."
   ]
  },
  {
   "cell_type": "code",
   "execution_count": 194,
   "id": "16953225-7cdc-43a8-a94b-ab0cbc8971ec",
   "metadata": {
    "tags": []
   },
   "outputs": [
    {
     "name": "stdout",
     "output_type": "stream",
     "text": [
      "{\n",
      "    \"model\": {\n",
      "        \"eq\": \"chimere\"\n",
      "    },\n",
      "    \"variable\": {\n",
      "        \"eq\": \"peroxyacyl_nitrates\"\n",
      "    },\n",
      "    \"type\": {\n",
      "        \"eq\": \"forecast\"\n",
      "    },\n",
      "    \"time\": {\n",
      "        \"eq\": \"00:00\"\n",
      "    },\n",
      "    \"level\": {\n",
      "        \"eq\": \"5000\"\n",
      "    },\n",
      "    \"leadtime_hour\": {\n",
      "        \"eq\": \"23\"\n",
      "    }\n",
      "}\n"
     ]
    }
   ],
   "source": [
    "print(json.dumps(HDA_FILTERS, indent=4))"
   ]
  },
  {
   "cell_type": "markdown",
   "id": "9c61fda9-ddb3-4de9-897c-93aaa02bddf6",
   "metadata": {},
   "source": [
    "build the complete query"
   ]
  },
  {
   "cell_type": "code",
   "execution_count": 202,
   "id": "57c76314-c175-4417-8fd4-9450c5ffa5da",
   "metadata": {
    "tags": []
   },
   "outputs": [
    {
     "name": "stdout",
     "output_type": "stream",
     "text": [
      "{\n",
      "    \"collections\": [\n",
      "        \"EO.ECMWF.DAT.CAMS_EUROPE_AIR_QUALITY_FORECASTS\"\n",
      "    ],\n",
      "    \"datetime\": \"2024-04-01T00:00:00Z/2024-04-19T00:00:00Z\",\n",
      "    \"query\": {\n",
      "        \"model\": {\n",
      "            \"eq\": \"chimere\"\n",
      "        },\n",
      "        \"variable\": {\n",
      "            \"eq\": \"peroxyacyl_nitrates\"\n",
      "        },\n",
      "        \"type\": {\n",
      "            \"eq\": \"forecast\"\n",
      "        },\n",
      "        \"time\": {\n",
      "            \"eq\": \"00:00\"\n",
      "        },\n",
      "        \"level\": {\n",
      "            \"eq\": \"5000\"\n",
      "        },\n",
      "        \"leadtime_hour\": {\n",
      "            \"eq\": \"23\"\n",
      "        }\n",
      "    }\n",
      "}\n"
     ]
    }
   ],
   "source": [
    "# The JSON objects containing the generic query parameters:\n",
    "json1 = '{\"collections\": [\"EO.ECMWF.DAT.CAMS_EUROPE_AIR_QUALITY_FORECASTS\"], \"datetime\": \"2024-04-01T00:00:00Z/2024-04-19T00:00:00Z\"}'\n",
    "\n",
    "# Convert JSON strings to Python dictionaries\n",
    "dict1 = json.loads(json1)\n",
    "\n",
    "# Include the filters selected in the previous steps inside the JSON containing the generic query parameters:\n",
    "dict1['query'] = HDA_FILTERS\n",
    "\n",
    "# Convert the merged dictionary back to a JSON string\n",
    "query_json = json.dumps(dict1, indent=4)\n",
    "\n",
    "print(query_json)"
   ]
  },
  {
   "cell_type": "markdown",
   "id": "3b6fe9f0-87ce-49f6-923f-42a0b48739ff",
   "metadata": {},
   "source": [
    "### Obtain Authentication Token\n",
    "To perform a query on HDA we need to be authenticated."
   ]
  },
  {
   "cell_type": "code",
   "execution_count": 197,
   "id": "85e64903-0276-4a18-9481-6698a2d14dbb",
   "metadata": {
    "tags": []
   },
   "outputs": [
    {
     "name": "stdin",
     "output_type": "stream",
     "text": [
      "Please input your DESP username or email:  eum-dedl-user\n",
      "Please input your DESP password:  ········\n"
     ]
    },
    {
     "name": "stdout",
     "output_type": "stream",
     "text": [
      "Response code: 200\n",
      "DEDL/DESP Access Token Obtained Successfully\n"
     ]
    }
   ],
   "source": [
    "import json\n",
    "import os\n",
    "from getpass import getpass\n",
    "import destinelab as deauth\n",
    "\n",
    "DESP_USERNAME = input(\"Please input your DESP username or email: \")\n",
    "DESP_PASSWORD = getpass(\"Please input your DESP password: \")\n",
    "\n",
    "auth = deauth.AuthHandler(DESP_USERNAME, DESP_PASSWORD)\n",
    "access_token = auth.get_token()\n",
    "if access_token is not None:\n",
    "    print(\"DEDL/DESP Access Token Obtained Successfully\")\n",
    "else:\n",
    "    print(\"Failed to Obtain DEDL/DESP Access Token\")\n",
    "\n",
    "auth_headers = {\"Authorization\": f\"Bearer {access_token}\"}"
   ]
  },
  {
   "cell_type": "markdown",
   "id": "a0bb43b9-c94b-48bf-a62b-3db3b7eb2a65",
   "metadata": {},
   "source": [
    "## Search"
   ]
  },
  {
   "cell_type": "code",
   "execution_count": 203,
   "id": "efc07366-4493-40f3-a7ff-24b7bb0a1f5d",
   "metadata": {
    "tags": []
   },
   "outputs": [
    {
     "data": {
      "text/plain": [
       "{'stac_version': '1.0.0',\n",
       " 'stac_extensions': ['https://stac-extensions.github.io/sar/v1.0.0/schema.json',\n",
       "  'https://stac-extensions.github.io/order/v1.1.0/schema.json'],\n",
       " 'id': 'CAMS_EU_AIR_QUALITY_FORECAST_20240401_20240418_708ed0b28e8f6f01326a712d5baf01145e8daa28',\n",
       " 'bbox': [-180.0, -90.0, 180.0, 90.0],\n",
       " 'geometry': {'type': 'Polygon',\n",
       "  'coordinates': [[[180.0, -90.0],\n",
       "    [180.0, 90.0],\n",
       "    [-180.0, 90.0],\n",
       "    [-180.0, -90.0],\n",
       "    [180.0, -90.0]]]},\n",
       " 'type': 'Feature',\n",
       " 'collection': 'EO.ECMWF.DAT.CAMS_EUROPE_AIR_QUALITY_FORECASTS',\n",
       " 'properties': {'providers': [{'name': 'copernicus_atmosphere_data_store',\n",
       "    'description': 'Copernicus Atmosphere Data Store',\n",
       "    'roles': ['host'],\n",
       "    'url': 'https://ads.atmosphere.copernicus.eu/',\n",
       "    'priority': 0}],\n",
       "  'datetime': '2024-04-01',\n",
       "  'start_datetime': '2024-04-01',\n",
       "  'end_datetime': '2024-04-18',\n",
       "  'license': 'proprietary',\n",
       "  'instruments': [None],\n",
       "  'sar:product_type': 'CAMS_EU_AIR_QUALITY_FORECAST',\n",
       "  'order:status': 'orderable',\n",
       "  'copernicus_atmosphere_data_store:scope': {'discover': None,\n",
       "   'search': 'hda-public-data-access',\n",
       "   'download': 'hda-public-data-access'},\n",
       "  'copernicus_atmosphere_data_store:leadtime_hour': 23,\n",
       "  'copernicus_atmosphere_data_store:dataset': 'cams-europe-air-quality-forecasts',\n",
       "  'copernicus_atmosphere_data_store:format': 'grib',\n",
       "  'copernicus_atmosphere_data_store:variable': 'peroxyacyl_nitrates',\n",
       "  'copernicus_atmosphere_data_store:model': 'chimere',\n",
       "  'copernicus_atmosphere_data_store:time': '00:00',\n",
       "  'copernicus_atmosphere_data_store:type': 'forecast',\n",
       "  'copernicus_atmosphere_data_store:alias': 'EO.ECMWF.DAT.CAMS_EUROPE_AIR_QUALITY_FORECASTS',\n",
       "  'copernicus_atmosphere_data_store:level': 5000},\n",
       " 'links': [{'rel': 'self',\n",
       "   'title': 'CAMS_EU_AIR_QUALITY_FORECAST_20240401_20240418_708ed0b28e8f6f01326a712d5baf01145e8daa28',\n",
       "   'href': 'http://hda.data.destination-earth.eu/stac/collections/EO.ECMWF.DAT.CAMS_EUROPE_AIR_QUALITY_FORECASTS/items/CAMS_EU_AIR_QUALITY_FORECAST_20240401_20240418_708ed0b28e8f6f01326a712d5baf01145e8daa28?provider=copernicus_atmosphere_data_store&_dc_qs=%257B%2522date%2522%253A%2B%25222024-04-01%252F2024-04-18%2522%252C%2B%2522format%2522%253A%2B%2522grib%2522%252C%2B%2522leadtime_hour%2522%253A%2B23%252C%2B%2522level%2522%253A%2B5000%252C%2B%2522model%2522%253A%2B%2522chimere%2522%252C%2B%2522time%2522%253A%2B%252200%253A00%2522%252C%2B%2522type%2522%253A%2B%2522forecast%2522%252C%2B%2522variable%2522%253A%2B%2522peroxyacyl_nitrates%2522%257D'},\n",
       "  {'rel': 'root', 'href': 'http://hda.data.destination-earth.eu/stac/'},\n",
       "  {'rel': 'parent',\n",
       "   'title': 'EO.ECMWF.DAT.CAMS_EUROPE_AIR_QUALITY_FORECASTS',\n",
       "   'href': 'http://hda.data.destination-earth.eu/stac/collections/EO.ECMWF.DAT.CAMS_EUROPE_AIR_QUALITY_FORECASTS'},\n",
       "  {'rel': 'collection',\n",
       "   'title': 'EO.ECMWF.DAT.CAMS_EUROPE_AIR_QUALITY_FORECASTS',\n",
       "   'href': 'http://hda.data.destination-earth.eu/stac/collections/EO.ECMWF.DAT.CAMS_EUROPE_AIR_QUALITY_FORECASTS'}],\n",
       " 'assets': {'downloadLink': {'title': 'Download link',\n",
       "   'href': 'http://hda.data.destination-earth.eu/stac/collections/EO.ECMWF.DAT.CAMS_EUROPE_AIR_QUALITY_FORECASTS/items/CAMS_EU_AIR_QUALITY_FORECAST_20240401_20240418_708ed0b28e8f6f01326a712d5baf01145e8daa28/download?provider=copernicus_atmosphere_data_store&_dc_qs=%257B%2522date%2522%253A%2B%25222024-04-01%252F2024-04-18%2522%252C%2B%2522format%2522%253A%2B%2522grib%2522%252C%2B%2522leadtime_hour%2522%253A%2B23%252C%2B%2522level%2522%253A%2B5000%252C%2B%2522model%2522%253A%2B%2522chimere%2522%252C%2B%2522time%2522%253A%2B%252200%253A00%2522%252C%2B%2522type%2522%253A%2B%2522forecast%2522%252C%2B%2522variable%2522%253A%2B%2522peroxyacyl_nitrates%2522%257D',\n",
       "   'type': 'application/zip',\n",
       "   'alternate': {'origin': {'title': 'Origin asset link',\n",
       "     'href': 'Not Available#?_dc_qs=%7B%22date%22%3A+%222024-04-01%2F2024-04-18%22%2C+%22format%22%3A+%22grib%22%2C+%22leadtime_hour%22%3A+23%2C+%22level%22%3A+5000%2C+%22model%22%3A+%22chimere%22%2C+%22time%22%3A+%2200%3A00%22%2C+%22type%22%3A+%22forecast%22%2C+%22variable%22%3A+%22peroxyacyl_nitrates%22%7D'}},\n",
       "   'storage:tier': 'OFFLINE'}}}"
      ]
     },
     "execution_count": 203,
     "metadata": {},
     "output_type": "execute_result"
    }
   ],
   "source": [
    "response = requests.post(\"https://hda.data.destination-earth.eu/stac/search\", headers=auth_headers, json= json.loads(query_json) )\n",
    "#print(response)\n",
    "# Requests to ADS data always return a single item containing all the requested data\n",
    "product = response.json()[\"features\"][0]\n",
    "product"
   ]
  },
  {
   "cell_type": "markdown",
   "id": "06fa5a8f-3d25-4559-a8c9-09ae05387c3a",
   "metadata": {},
   "source": [
    "Once we have found the product we can obtain the URL for downloading it:\n"
   ]
  },
  {
   "cell_type": "code",
   "execution_count": 204,
   "id": "e1aafd3e-2d54-4151-b5da-a3e527d3ede9",
   "metadata": {
    "tags": []
   },
   "outputs": [
    {
     "name": "stdout",
     "output_type": "stream",
     "text": [
      "http://hda.data.destination-earth.eu/stac/collections/EO.ECMWF.DAT.CAMS_EUROPE_AIR_QUALITY_FORECASTS/items/CAMS_EU_AIR_QUALITY_FORECAST_20240401_20240418_708ed0b28e8f6f01326a712d5baf01145e8daa28/download?provider=copernicus_atmosphere_data_store&_dc_qs=%257B%2522date%2522%253A%2B%25222024-04-01%252F2024-04-18%2522%252C%2B%2522format%2522%253A%2B%2522grib%2522%252C%2B%2522leadtime_hour%2522%253A%2B23%252C%2B%2522level%2522%253A%2B5000%252C%2B%2522model%2522%253A%2B%2522chimere%2522%252C%2B%2522time%2522%253A%2B%252200%253A00%2522%252C%2B%2522type%2522%253A%2B%2522forecast%2522%252C%2B%2522variable%2522%253A%2B%2522peroxyacyl_nitrates%2522%257D\n"
     ]
    }
   ],
   "source": [
    "# DownloadLink is an asset representing the whole product\n",
    "download_url = product[\"assets\"][\"downloadLink\"][\"href\"]\n",
    "print(download_url )"
   ]
  },
  {
   "cell_type": "code",
   "execution_count": null,
   "id": "a8ff4485-ce4f-4f32-914b-b3d765a86a6b",
   "metadata": {},
   "outputs": [],
   "source": []
  }
 ],
 "metadata": {
  "kernelspec": {
   "display_name": "Python DEDL",
   "language": "python",
   "name": "python_dedl"
  },
  "language_info": {
   "codemirror_mode": {
    "name": "ipython",
    "version": 3
   },
   "file_extension": ".py",
   "mimetype": "text/x-python",
   "name": "python",
   "nbconvert_exporter": "python",
   "pygments_lexer": "ipython3",
   "version": "3.11.4"
  },
  "toc-autonumbering": false,
  "vscode": {
   "interpreter": {
    "hash": "31f2aee4e71d21fbe5cf8b01ff0e069b9275f58929596ceb00d14d90e3e16cd6"
   }
  }
 },
 "nbformat": 4,
 "nbformat_minor": 5
}

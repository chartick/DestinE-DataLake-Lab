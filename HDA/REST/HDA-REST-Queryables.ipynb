{
 "cells": [
  {
   "cell_type": "markdown",
   "id": "a7087d07-483a-4f6d-b2e5-814409692a60",
   "metadata": {
    "tags": []
   },
   "source": [
    "![](https://github.com/destination-earth/DestinE-DataLake-Lab/blob/main/img/DestinE-banner.jpg?raw=true)"
   ]
  },
  {
   "cell_type": "markdown",
   "id": "6d49d742-a473-43d5-aab0-4f0dfb0bcfa2",
   "metadata": {
    "tags": []
   },
   "source": [
    "\n",
    "\n",
    "# DEDL - HDA Tutorial - Queryables"
   ]
  },
  {
   "cell_type": "markdown",
   "id": "36476d50",
   "metadata": {},
   "source": [
    "**Author**: EUMETSAT <br>\n",
    "**Copyright**: 2024 EUMETSAT <br>\n",
    "**Licence**: MIT <br>"
   ]
  },
  {
   "cell_type": "markdown",
   "id": "2624d113",
   "metadata": {},
   "source": [
    "<div class=\"alert alert-block alert-success\">\n",
    "<h3>How to use the queryables API</h3>\n",
    "The queryables API returns a list of variable terms that can be used for filtering the specified collection.     \n",
    "    \n",
    "The queryables API presents the appropriate filters for the selected dataset, determined by the chosen values. If the user selects a certain variable, the choice is narrowed down for other variables. \n",
    "This notebook demonstrates how to filter data in a specific collection using the list of variable terms returned by the queryables API. \n",
    "    \n",
    "<b>The notebook is dedicated to collections from C3S and DestinE digital twins.\n",
    "C3S and DestinE digital twins datasets offer a wide range of possibilities in terms of information and constraints and the queryables API is a valuable tool for exploring these datasets.</b>\n",
    "</div>"
   ]
  },
  {
   "cell_type": "markdown",
   "id": "a9ccea6e",
   "metadata": {},
   "source": [
    "Throughout this notebook, you will learn:\n",
    "\n",
    "1. [Authenticate](#Authenticate): How to authenticate for searching and access *DEDL* collections. \n",
    "2. [Queryables](#Queryables): How to exploit the STAC API filter extension features. The \"queryables\" API helps users to determine the property names and types available for filtering data.\n",
    "3. [Search data](#Search):  How to search *DEDL* data using filters obtained by the \"queryables\" API.\n",
    "4. [Download data](#Download): How to download *DEDL* data through HDA.\n"
   ]
  },
  {
   "cell_type": "markdown",
   "id": "14cf5489",
   "metadata": {},
   "source": [
    "The detailed HDA API and definition of each endpoint and parameters is available in the HDA Swagger UI at: \n",
    "[ STAC API - Filter Extension ](https://hda.data.destination-earth.eu/docs/#/STAC%20API%20-%20Filter%20Extension)"
   ]
  },
  {
   "cell_type": "markdown",
   "id": "1fb01f5a",
   "metadata": {},
   "source": [
    "<div class=\"alert alert-block alert-warning\">\n",
    "<b> Prequisites: </b>\n",
    "<li> For queryables API: none </li>\n",
    "<li> For filtering data inside collections : <a href=\"https://platform.destine.eu/\"> DestinE user account</a> </li>\n",
    "</div>"
   ]
  },
  {
   "cell_type": "markdown",
   "id": "af62c175",
   "metadata": {
    "tags": []
   },
   "source": [
    "# Authenticate\n",
    "## Define some constants for the API URLs\n",
    "In this section, we define the relevant constants, holding the URL strings for the different endpoints."
   ]
  },
  {
   "cell_type": "code",
   "execution_count": 1,
   "id": "6f12416e",
   "metadata": {
    "tags": []
   },
   "outputs": [],
   "source": [
    "# Collection https://hda.data.destination-earth.eu/ui/dataset/EO.ECMWF.DAT.CAMS_EUROPE_AIR_QUALITY_FORECASTS as default\n",
    "COLLECTION_ID = \"EO.ECMWF.DAT.CAMS_EUROPE_AIR_QUALITY_FORECASTS\"\n",
    "\n",
    "# Core API\n",
    "HDA_API_URL = \"https://hda.data.destination-earth.eu\"\n",
    "\n",
    "# STAC API\n",
    "## Core\n",
    "STAC_API_URL = f\"{HDA_API_URL}/stac\"\n",
    "\n",
    "## Item Search\n",
    "SEARCH_URL = f\"{STAC_API_URL}/search\"\n",
    "\n",
    "## Collections\n",
    "COLLECTIONS_URL = f\"{STAC_API_URL}/collections\"\n",
    "\n",
    "## Queryables\n",
    "QUERYABLES_URL = f\"{STAC_API_URL}/queryables\"\n",
    "QUERYABLES_BY_COLLECTION_ID = f\"{COLLECTIONS_URL}/{COLLECTION_ID}/queryables\"\n",
    "HDA_FILTERS =''\n",
    "\n",
    "## HTTP Success\n",
    "HTTP_SUCCESS_CODE = 200"
   ]
  },
  {
   "cell_type": "markdown",
   "id": "a1141f02",
   "metadata": {
    "tags": []
   },
   "source": [
    "## Import the relevant modules and define some functions\n",
    "We start off by importing the relevant modules for DestnE authentication, HTTP requests, json handling, widgets and some utility."
   ]
  },
  {
   "cell_type": "code",
   "execution_count": 2,
   "id": "30f330cf-2ad0-473b-9ff4-b51f329488a2",
   "metadata": {
    "tags": []
   },
   "outputs": [
    {
     "name": "stdout",
     "output_type": "stream",
     "text": [
      "Note: you may need to restart the kernel to use updated packages.\n"
     ]
    }
   ],
   "source": [
    "pip install --quiet --upgrade destinelab"
   ]
  },
  {
   "cell_type": "code",
   "execution_count": 3,
   "id": "04d63054-7794-4103-b51f-b1410a9921f9",
   "metadata": {
    "tags": []
   },
   "outputs": [],
   "source": [
    "import destinelab as deauth"
   ]
  },
  {
   "cell_type": "code",
   "execution_count": 4,
   "id": "c90b5e54-4f30-4dd2-8e83-4001ee2343e0",
   "metadata": {
    "tags": []
   },
   "outputs": [
    {
     "name": "stdout",
     "output_type": "stream",
     "text": [
      "Note: you may need to restart the kernel to use updated packages.\n"
     ]
    }
   ],
   "source": [
    "pip install --quiet DEDLUtils"
   ]
  },
  {
   "cell_type": "code",
   "execution_count": 5,
   "id": "041f8ed8-5903-4fec-9a81-4a1e6ccec104",
   "metadata": {
    "tags": []
   },
   "outputs": [],
   "source": [
    "from DEDLUtils import dedl_utilities\n",
    "#import dedl_utilities"
   ]
  },
  {
   "cell_type": "code",
   "execution_count": 6,
   "id": "49d1b58a",
   "metadata": {
    "tags": []
   },
   "outputs": [],
   "source": [
    "import requests\n",
    "import json\n",
    "from getpass import getpass\n",
    "\n",
    "import ipywidgets as widgets\n",
    "from IPython.display import display, clear_output, HTML\n",
    "from ipywidgets import Layout, Box\n",
    "import datetime\n",
    "\n",
    "from rich.console import Console\n",
    "import rich.table\n",
    "\n",
    "from IPython.display import JSON\n"
   ]
  },
  {
   "cell_type": "code",
   "execution_count": 39,
   "id": "448ae825-780a-41ea-88f9-9b39496d7761",
   "metadata": {
    "tags": []
   },
   "outputs": [],
   "source": [
    "# Function to display queryables in a table\n",
    "def create_q_table(filters,parameters=None):\n",
    "    table = rich.table.Table(title=\"Applicable filters\", expand=True, show_lines=True)\n",
    "    table.add_column(\"Title\", style=\"cyan\", justify=\"right\")\n",
    "    table.add_column(\"Type\", style=\"violet\", justify=\"right\", no_wrap=True)\n",
    "    table.add_column(\"enum\", style=\"violet\", justify=\"right\")\n",
    "    table.add_column(\"default\", style=\"violet\", justify=\"right\", no_wrap=True)\n",
    "    for filtername in filters.keys():\n",
    "        if ( bool(parameters) and filtername not in parameters.keys()):\n",
    "            continue\n",
    "        if (\"title\" not in filters[filtername]):\n",
    "            continue\n",
    "        enum=''\n",
    "        if 'enum' in filters[filtername]:\n",
    "            enum=' , ' .join(map(str,filters[filtername][\"enum\"]))\n",
    "        default=''\n",
    "        if'default' in filters[filtername]:\n",
    "            default=json.dumps(filters[filtername][\"default\"])\n",
    "        if'type' in filters[filtername]:\n",
    "            typeq=json.dumps(filters[filtername][\"type\"])\n",
    "        else:\n",
    "            typeq=''\n",
    "\n",
    "        if (filters[filtername][\"title\"] not in ['ID','Geometry','Datetime - use parameters year, month, day, time instead if available']):\n",
    "                table.add_row(filters[filtername][\"title\"],  typeq , enum, default)\n",
    "    return table\n"
   ]
  },
  {
   "cell_type": "markdown",
   "id": "3b6fe9f0-87ce-49f6-923f-42a0b48739ff",
   "metadata": {},
   "source": [
    "### Obtain Authentication Token\n",
    "To perform a query on HDA we need to be authenticated."
   ]
  },
  {
   "cell_type": "code",
   "execution_count": 30,
   "id": "85e64903-0276-4a18-9481-6698a2d14dbb",
   "metadata": {
    "tags": []
   },
   "outputs": [
    {
     "name": "stdin",
     "output_type": "stream",
     "text": [
      "Please input your DESP username or email:  eum-dedl-user\n",
      "Please input your DESP password:  ········\n"
     ]
    },
    {
     "name": "stdout",
     "output_type": "stream",
     "text": [
      "Response code: 200\n",
      "DEDL/DESP Access Token Obtained Successfully\n"
     ]
    }
   ],
   "source": [
    "DESP_USERNAME = input(\"Please input your DESP username or email: \")\n",
    "DESP_PASSWORD = getpass(\"Please input your DESP password: \")\n",
    "\n",
    "auth = deauth.AuthHandler(DESP_USERNAME, DESP_PASSWORD)\n",
    "access_token = auth.get_token()\n",
    "if access_token is not None:\n",
    "    print(\"DEDL/DESP Access Token Obtained Successfully\")\n",
    "else:\n",
    "    print(\"Failed to Obtain DEDL/DESP Access Token\")\n",
    "\n",
    "auth_headers = {\"Authorization\": f\"Bearer {access_token}\"}"
   ]
  },
  {
   "cell_type": "markdown",
   "id": "a6b12a10-37c5-4f9d-aded-213bcb8eec57",
   "metadata": {},
   "source": [
    "# Queryables\n",
    "\n",
    "The \"queryables\" API helps users to determine the property names and types available for filtering data inside a specific collection.\n",
    "\n",
    "Below a dropdown menu to choose the collection. We can choose the collection of which we want to inspect the filters."
   ]
  },
  {
   "cell_type": "code",
   "execution_count": 31,
   "id": "8a8d24a4-9589-4d4a-b81f-08e387cbb94a",
   "metadata": {
    "tags": []
   },
   "outputs": [
    {
     "data": {
      "application/vnd.jupyter.widget-view+json": {
       "model_id": "b70e4754d433497bbfc057741dbd0f9d",
       "version_major": 2,
       "version_minor": 0
      },
      "text/plain": [
       "Box(children=(Dropdown(description='Collections:', options=('EO.ECMWF.DAT.CAMS_EUROPE_AIR_QUALITY_FORECASTS', …"
      ]
     },
     "metadata": {},
     "output_type": "display_data"
    }
   ],
   "source": [
    "prefix = \"EO.ECMWF\"\n",
    "\n",
    "dedlUtils=dedl_utilities.DEDLUtilities(COLLECTION_ID )\n",
    "dedlUtils.create_collections_dropdown(prefix)\n",
    "\n",
    "# Layout\n",
    "# Define the layout for the dropdown\n",
    "dropdown_layout = Layout(display='space-between', justify_content='center', width='90%')\n",
    "# Create a box to hold the dropdown with the specified layout\n",
    "box = Box([dedlUtils.dropdown, dedlUtils.outputArea], layout=dropdown_layout)\n",
    "display( box)  \n",
    "\n",
    "\n"
   ]
  },
  {
   "cell_type": "markdown",
   "id": "46f9d86c-0bfa-4ebc-978a-0268042e824e",
   "metadata": {},
   "source": [
    "The **QUERYABLES ENDPOINT** (above) returns the applicable filters under the section named 'properties'.\n",
    "\n",
    "The 'properties' section contains \n",
    "* the name of the filter, **title**,\n",
    "* the filter **type**, \n",
    "* the possible filter values, **enum** (conditioned by the values selected for the other filters)\n",
    "* and the the default (or chosen) **default** applied\n",
    "\n",
    "We can print the'properties' section for the selected collection in the table below.\n",
    "The table shows the filters and the values applied by default when we perform a search for the chosen dataset without specifying any filter."
   ]
  },
  {
   "cell_type": "code",
   "execution_count": 54,
   "id": "c692ab5c-2c47-427a-af1f-44ff4a3beb5c",
   "metadata": {
    "tags": []
   },
   "outputs": [
    {
     "data": {
      "text/html": [
       "<pre style=\"white-space:pre;overflow-x:auto;line-height:normal;font-family:Menlo,'DejaVu Sans Mono',consolas,'Courier New',monospace\"><span style=\"font-style: italic\">                                                Applicable filters                                                 </span>\n",
       "┏━━━━━━━━━━━━━━━━━━━━━━━━━┳━━━━━━━━━━━┳━━━━━━━━━━━━━━━━━━━━━━━━━━━━━━━━┳━━━━━━━━━━━━━━━━━━━━━━━━━━━━━━━━━━━━━━━━━━┓\n",
       "┃<span style=\"font-weight: bold\">                   Title </span>┃<span style=\"font-weight: bold\">      Type </span>┃<span style=\"font-weight: bold\">                           enum </span>┃<span style=\"font-weight: bold\">                                  default </span>┃\n",
       "┡━━━━━━━━━━━━━━━━━━━━━━━━━╇━━━━━━━━━━━╇━━━━━━━━━━━━━━━━━━━━━━━━━━━━━━━━╇━━━━━━━━━━━━━━━━━━━━━━━━━━━━━━━━━━━━━━━━━━┩\n",
       "│<span style=\"color: #008080; text-decoration-color: #008080\">            product_type </span>│<span style=\"color: #d787ff; text-decoration-color: #d787ff\">  \"string\" </span>│<span style=\"color: #d787ff; text-decoration-color: #d787ff\">                                </span>│<span style=\"color: #d787ff; text-decoration-color: #d787ff\">              \"climate_impact_indicators\" </span>│\n",
       "├─────────────────────────┼───────────┼────────────────────────────────┼──────────────────────────────────────────┤\n",
       "│<span style=\"color: #008080; text-decoration-color: #008080\">                variable </span>│<span style=\"color: #d787ff; text-decoration-color: #d787ff\">   \"array\" </span>│<span style=\"color: #d787ff; text-decoration-color: #d787ff\">                                </span>│<span style=\"color: #d787ff; text-decoration-color: #d787ff\">                     \"2m_air_temperature\" </span>│\n",
       "├─────────────────────────┼───────────┼────────────────────────────────┼──────────────────────────────────────────┤\n",
       "│<span style=\"color: #008080; text-decoration-color: #008080\">         processing_type </span>│<span style=\"color: #d787ff; text-decoration-color: #d787ff\">  \"string\" </span>│<span style=\"color: #d787ff; text-decoration-color: #d787ff\">                                </span>│<span style=\"color: #d787ff; text-decoration-color: #d787ff\">                               \"original\" </span>│\n",
       "├─────────────────────────┼───────────┼────────────────────────────────┼──────────────────────────────────────────┤\n",
       "│<span style=\"color: #008080; text-decoration-color: #008080\">           variable_type </span>│<span style=\"color: #d787ff; text-decoration-color: #d787ff\">  \"string\" </span>│<span style=\"color: #d787ff; text-decoration-color: #d787ff\">                                </span>│<span style=\"color: #d787ff; text-decoration-color: #d787ff\">  \"absolute_change_from_reference_period\" </span>│\n",
       "├─────────────────────────┼───────────┼────────────────────────────────┼──────────────────────────────────────────┤\n",
       "│<span style=\"color: #008080; text-decoration-color: #008080\">        time_aggregation </span>│<span style=\"color: #d787ff; text-decoration-color: #d787ff\">   \"array\" </span>│<span style=\"color: #d787ff; text-decoration-color: #d787ff\">                                </span>│<span style=\"color: #d787ff; text-decoration-color: #d787ff\">                           \"monthly_mean\" </span>│\n",
       "├─────────────────────────┼───────────┼────────────────────────────────┼──────────────────────────────────────────┤\n",
       "│<span style=\"color: #008080; text-decoration-color: #008080\">   horizontal_resolution </span>│<span style=\"color: #d787ff; text-decoration-color: #d787ff\">  \"string\" </span>│<span style=\"color: #d787ff; text-decoration-color: #d787ff\">            0_11_degrees , 5_km </span>│<span style=\"color: #d787ff; text-decoration-color: #d787ff\">                                   \"5_km\" </span>│\n",
       "├─────────────────────────┼───────────┼────────────────────────────────┼──────────────────────────────────────────┤\n",
       "│<span style=\"color: #008080; text-decoration-color: #008080\">              experiment </span>│<span style=\"color: #d787ff; text-decoration-color: #d787ff\">   \"array\" </span>│<span style=\"color: #d787ff; text-decoration-color: #d787ff\">                                </span>│<span style=\"color: #d787ff; text-decoration-color: #d787ff\">                        \"degree_scenario\" </span>│\n",
       "├─────────────────────────┼───────────┼────────────────────────────────┼──────────────────────────────────────────┤\n",
       "│<span style=\"color: #008080; text-decoration-color: #008080\">                     rcm </span>│<span style=\"color: #d787ff; text-decoration-color: #d787ff\">  \"string\" </span>│<span style=\"color: #d787ff; text-decoration-color: #d787ff\">   cclm4_8_17 , racmo22e , rca4 </span>│<span style=\"color: #d787ff; text-decoration-color: #d787ff\">                             \"cclm4_8_17\" </span>│\n",
       "├─────────────────────────┼───────────┼────────────────────────────────┼──────────────────────────────────────────┤\n",
       "│<span style=\"color: #008080; text-decoration-color: #008080\">                     gcm </span>│<span style=\"color: #d787ff; text-decoration-color: #d787ff\">  \"string\" </span>│<span style=\"color: #d787ff; text-decoration-color: #d787ff\">                                </span>│<span style=\"color: #d787ff; text-decoration-color: #d787ff\">                               \"ec_earth\" </span>│\n",
       "├─────────────────────────┼───────────┼────────────────────────────────┼──────────────────────────────────────────┤\n",
       "│<span style=\"color: #008080; text-decoration-color: #008080\">         ensemble_member </span>│<span style=\"color: #d787ff; text-decoration-color: #d787ff\">   \"array\" </span>│<span style=\"color: #d787ff; text-decoration-color: #d787ff\">                                </span>│<span style=\"color: #d787ff; text-decoration-color: #d787ff\">                                \"r12i1p1\" </span>│\n",
       "├─────────────────────────┼───────────┼────────────────────────────────┼──────────────────────────────────────────┤\n",
       "│<span style=\"color: #008080; text-decoration-color: #008080\">                  period </span>│<span style=\"color: #d787ff; text-decoration-color: #d787ff\">   \"array\" </span>│<span style=\"color: #d787ff; text-decoration-color: #d787ff\">                                </span>│<span style=\"color: #d787ff; text-decoration-color: #d787ff\">                                  \"1_5_c\" </span>│\n",
       "└─────────────────────────┴───────────┴────────────────────────────────┴──────────────────────────────────────────┘\n",
       "</pre>\n"
      ],
      "text/plain": [
       "\u001b[3m                                                Applicable filters                                                 \u001b[0m\n",
       "┏━━━━━━━━━━━━━━━━━━━━━━━━━┳━━━━━━━━━━━┳━━━━━━━━━━━━━━━━━━━━━━━━━━━━━━━━┳━━━━━━━━━━━━━━━━━━━━━━━━━━━━━━━━━━━━━━━━━━┓\n",
       "┃\u001b[1m \u001b[0m\u001b[1m                  Title\u001b[0m\u001b[1m \u001b[0m┃\u001b[1m \u001b[0m\u001b[1m     Type\u001b[0m\u001b[1m \u001b[0m┃\u001b[1m \u001b[0m\u001b[1m                          enum\u001b[0m\u001b[1m \u001b[0m┃\u001b[1m \u001b[0m\u001b[1m                                 default\u001b[0m\u001b[1m \u001b[0m┃\n",
       "┡━━━━━━━━━━━━━━━━━━━━━━━━━╇━━━━━━━━━━━╇━━━━━━━━━━━━━━━━━━━━━━━━━━━━━━━━╇━━━━━━━━━━━━━━━━━━━━━━━━━━━━━━━━━━━━━━━━━━┩\n",
       "│\u001b[36m \u001b[0m\u001b[36m           product_type\u001b[0m\u001b[36m \u001b[0m│\u001b[38;5;177m \u001b[0m\u001b[38;5;177m \"string\"\u001b[0m\u001b[38;5;177m \u001b[0m│\u001b[38;5;177m \u001b[0m\u001b[38;5;177m                              \u001b[0m\u001b[38;5;177m \u001b[0m│\u001b[38;5;177m \u001b[0m\u001b[38;5;177m             \"climate_impact_indicators\"\u001b[0m\u001b[38;5;177m \u001b[0m│\n",
       "├─────────────────────────┼───────────┼────────────────────────────────┼──────────────────────────────────────────┤\n",
       "│\u001b[36m \u001b[0m\u001b[36m               variable\u001b[0m\u001b[36m \u001b[0m│\u001b[38;5;177m \u001b[0m\u001b[38;5;177m  \"array\"\u001b[0m\u001b[38;5;177m \u001b[0m│\u001b[38;5;177m \u001b[0m\u001b[38;5;177m                              \u001b[0m\u001b[38;5;177m \u001b[0m│\u001b[38;5;177m \u001b[0m\u001b[38;5;177m                    \"2m_air_temperature\"\u001b[0m\u001b[38;5;177m \u001b[0m│\n",
       "├─────────────────────────┼───────────┼────────────────────────────────┼──────────────────────────────────────────┤\n",
       "│\u001b[36m \u001b[0m\u001b[36m        processing_type\u001b[0m\u001b[36m \u001b[0m│\u001b[38;5;177m \u001b[0m\u001b[38;5;177m \"string\"\u001b[0m\u001b[38;5;177m \u001b[0m│\u001b[38;5;177m \u001b[0m\u001b[38;5;177m                              \u001b[0m\u001b[38;5;177m \u001b[0m│\u001b[38;5;177m \u001b[0m\u001b[38;5;177m                              \"original\"\u001b[0m\u001b[38;5;177m \u001b[0m│\n",
       "├─────────────────────────┼───────────┼────────────────────────────────┼──────────────────────────────────────────┤\n",
       "│\u001b[36m \u001b[0m\u001b[36m          variable_type\u001b[0m\u001b[36m \u001b[0m│\u001b[38;5;177m \u001b[0m\u001b[38;5;177m \"string\"\u001b[0m\u001b[38;5;177m \u001b[0m│\u001b[38;5;177m \u001b[0m\u001b[38;5;177m                              \u001b[0m\u001b[38;5;177m \u001b[0m│\u001b[38;5;177m \u001b[0m\u001b[38;5;177m \"absolute_change_from_reference_period\"\u001b[0m\u001b[38;5;177m \u001b[0m│\n",
       "├─────────────────────────┼───────────┼────────────────────────────────┼──────────────────────────────────────────┤\n",
       "│\u001b[36m \u001b[0m\u001b[36m       time_aggregation\u001b[0m\u001b[36m \u001b[0m│\u001b[38;5;177m \u001b[0m\u001b[38;5;177m  \"array\"\u001b[0m\u001b[38;5;177m \u001b[0m│\u001b[38;5;177m \u001b[0m\u001b[38;5;177m                              \u001b[0m\u001b[38;5;177m \u001b[0m│\u001b[38;5;177m \u001b[0m\u001b[38;5;177m                          \"monthly_mean\"\u001b[0m\u001b[38;5;177m \u001b[0m│\n",
       "├─────────────────────────┼───────────┼────────────────────────────────┼──────────────────────────────────────────┤\n",
       "│\u001b[36m \u001b[0m\u001b[36m  horizontal_resolution\u001b[0m\u001b[36m \u001b[0m│\u001b[38;5;177m \u001b[0m\u001b[38;5;177m \"string\"\u001b[0m\u001b[38;5;177m \u001b[0m│\u001b[38;5;177m \u001b[0m\u001b[38;5;177m           0_11_degrees , 5_km\u001b[0m\u001b[38;5;177m \u001b[0m│\u001b[38;5;177m \u001b[0m\u001b[38;5;177m                                  \"5_km\"\u001b[0m\u001b[38;5;177m \u001b[0m│\n",
       "├─────────────────────────┼───────────┼────────────────────────────────┼──────────────────────────────────────────┤\n",
       "│\u001b[36m \u001b[0m\u001b[36m             experiment\u001b[0m\u001b[36m \u001b[0m│\u001b[38;5;177m \u001b[0m\u001b[38;5;177m  \"array\"\u001b[0m\u001b[38;5;177m \u001b[0m│\u001b[38;5;177m \u001b[0m\u001b[38;5;177m                              \u001b[0m\u001b[38;5;177m \u001b[0m│\u001b[38;5;177m \u001b[0m\u001b[38;5;177m                       \"degree_scenario\"\u001b[0m\u001b[38;5;177m \u001b[0m│\n",
       "├─────────────────────────┼───────────┼────────────────────────────────┼──────────────────────────────────────────┤\n",
       "│\u001b[36m \u001b[0m\u001b[36m                    rcm\u001b[0m\u001b[36m \u001b[0m│\u001b[38;5;177m \u001b[0m\u001b[38;5;177m \"string\"\u001b[0m\u001b[38;5;177m \u001b[0m│\u001b[38;5;177m \u001b[0m\u001b[38;5;177m  cclm4_8_17 , racmo22e , rca4\u001b[0m\u001b[38;5;177m \u001b[0m│\u001b[38;5;177m \u001b[0m\u001b[38;5;177m                            \"cclm4_8_17\"\u001b[0m\u001b[38;5;177m \u001b[0m│\n",
       "├─────────────────────────┼───────────┼────────────────────────────────┼──────────────────────────────────────────┤\n",
       "│\u001b[36m \u001b[0m\u001b[36m                    gcm\u001b[0m\u001b[36m \u001b[0m│\u001b[38;5;177m \u001b[0m\u001b[38;5;177m \"string\"\u001b[0m\u001b[38;5;177m \u001b[0m│\u001b[38;5;177m \u001b[0m\u001b[38;5;177m                              \u001b[0m\u001b[38;5;177m \u001b[0m│\u001b[38;5;177m \u001b[0m\u001b[38;5;177m                              \"ec_earth\"\u001b[0m\u001b[38;5;177m \u001b[0m│\n",
       "├─────────────────────────┼───────────┼────────────────────────────────┼──────────────────────────────────────────┤\n",
       "│\u001b[36m \u001b[0m\u001b[36m        ensemble_member\u001b[0m\u001b[36m \u001b[0m│\u001b[38;5;177m \u001b[0m\u001b[38;5;177m  \"array\"\u001b[0m\u001b[38;5;177m \u001b[0m│\u001b[38;5;177m \u001b[0m\u001b[38;5;177m                              \u001b[0m\u001b[38;5;177m \u001b[0m│\u001b[38;5;177m \u001b[0m\u001b[38;5;177m                               \"r12i1p1\"\u001b[0m\u001b[38;5;177m \u001b[0m│\n",
       "├─────────────────────────┼───────────┼────────────────────────────────┼──────────────────────────────────────────┤\n",
       "│\u001b[36m \u001b[0m\u001b[36m                 period\u001b[0m\u001b[36m \u001b[0m│\u001b[38;5;177m \u001b[0m\u001b[38;5;177m  \"array\"\u001b[0m\u001b[38;5;177m \u001b[0m│\u001b[38;5;177m \u001b[0m\u001b[38;5;177m                              \u001b[0m\u001b[38;5;177m \u001b[0m│\u001b[38;5;177m \u001b[0m\u001b[38;5;177m                                 \"1_5_c\"\u001b[0m\u001b[38;5;177m \u001b[0m│\n",
       "└─────────────────────────┴───────────┴────────────────────────────────┴──────────────────────────────────────────┘\n"
      ]
     },
     "execution_count": 54,
     "metadata": {},
     "output_type": "execute_result"
    }
   ],
   "source": [
    "filters_resp=requests.get(dedlUtils.queryablesByCollectionId)\n",
    "filters_resp.raise_for_status()\n",
    "\n",
    "filters = filters_resp.json()[\"properties\"]\n",
    "    #dedlQueryablesUtils=dedl_utilities.DEDLQueryablesUtilities(dedlUtils.collectionId)\n",
    "console = Console()\n",
    "    #console.print(dedlQueryablesUtils.create_queryables_table(filters))\n",
    "create_q_table(filters)\n"
   ]
  },
  {
   "cell_type": "markdown",
   "id": "b4ae9c40-9305-49d1-9002-1f795c0bf571",
   "metadata": {},
   "source": [
    "Calling the queryables API specifying filters, that means using as parameters the values chosen for filtering the selected dataset, the API replies with the applicable filters, conditioned by the chosen values. \n",
    "Then if the user selects a certain value for a parameter then the choice is narrowed down for other variables.\n",
    "\n",
    "The queryables API, in this way, helps user to build a correct search request for the given dataset.\n",
    "\n",
    "Below an interactive example, to see that once you select a value for a property the choice is narrowed down for other variables. "
   ]
  },
  {
   "cell_type": "code",
   "execution_count": 55,
   "id": "544ac58f-4851-4d68-b552-d332ca31e58d",
   "metadata": {
    "tags": []
   },
   "outputs": [
    {
     "data": {
      "application/vnd.jupyter.widget-view+json": {
       "model_id": "28b390c6f83343149e413d8e777238fb",
       "version_major": 2,
       "version_minor": 0
      },
      "text/plain": [
       "VBox(children=(Dropdown(description='ecmwf:horizontal_resolution', options=('', '0_11_degrees', '5_km'), value…"
      ]
     },
     "metadata": {},
     "output_type": "display_data"
    }
   ],
   "source": [
    "# Event listeners\n",
    "dedlQueryablesUtils=dedl_utilities.DEDLQueryablesUtilities(dedlUtils.collectionId)\n",
    "dedlQueryablesUtils.update_queryables_dropdowns()\n",
    "#display(dedlQueryablesUtils.dropdownContainer, dedlQueryablesUtils.outputArea)\n",
    "display(dedlQueryablesUtils.dropdownContainer)"
   ]
  },
  {
   "cell_type": "markdown",
   "id": "6f776ea7-1819-4b8f-a63a-79019d92dd80",
   "metadata": {
    "tags": []
   },
   "source": [
    "## Filtering a collection with the list returned by the queryable API\n",
    "\n",
    "This section wil show how to use the list of variable terms returned by the queryables API for filtering a specific dataset. "
   ]
  },
  {
   "cell_type": "markdown",
   "id": "d945c72f-3aa7-4059-a55f-638ab5eb3aa2",
   "metadata": {},
   "source": [
    "#### If you choose a digital twins collection, check if the access is granted\n",
    "\n",
    "If DT access is not granted, you will not be able to search and access DT data."
   ]
  },
  {
   "cell_type": "code",
   "execution_count": 43,
   "id": "d52ce1e1-a580-4e3f-8581-fcddd797dd99",
   "metadata": {
    "tags": []
   },
   "outputs": [
    {
     "name": "stdout",
     "output_type": "stream",
     "text": [
      "DT Output access allowed\n"
     ]
    },
    {
     "data": {
      "text/plain": [
       "True"
      ]
     },
     "execution_count": 43,
     "metadata": {},
     "output_type": "execute_result"
    }
   ],
   "source": [
    "auth.is_DTaccess_allowed(access_token)"
   ]
  },
  {
   "cell_type": "markdown",
   "id": "9f7b0212-8a1b-4148-abf4-a86a291d8ec4",
   "metadata": {
    "tags": []
   },
   "source": [
    "### Build the query from the selected values\n",
    "The parameters chosen in the previous steps can be used to build the corresponding HDA queries."
   ]
  },
  {
   "cell_type": "code",
   "execution_count": 56,
   "id": "57c76314-c175-4417-8fd4-9450c5ffa5da",
   "metadata": {
    "tags": []
   },
   "outputs": [
    {
     "name": "stdout",
     "output_type": "stream",
     "text": [
      "{\n",
      "    \"collections\": [\n",
      "        \"EO.ECMWF.DAT.SIS_HYDROLOGY_METEOROLOGY_DERIVED_PROJECTIONS\"\n",
      "    ],\n",
      "    \"datetime\": \"2024-04-01T00:00:00Z/2024-04-19T00:00:00Z\",\n",
      "    \"query\": {\n",
      "        \"ecmwf:horizontal_resolution\": {\n",
      "            \"eq\": \"0_11_degrees\"\n",
      "        },\n",
      "        \"ecmwf:rcm\": {\n",
      "            \"eq\": \"racmo22e\"\n",
      "        }\n",
      "    }\n",
      "}\n"
     ]
    }
   ],
   "source": [
    "# The JSON objects containing the generic query parameters:\n",
    "jsonGenericQuery = '{\"collections\": [\"'+dedlUtils.collectionId+'\"], \"datetime\": \"2024-04-01T00:00:00Z/2024-04-19T00:00:00Z\"}'\n",
    "# Convert JSON strings to Python dictionaries\n",
    "dictQuery = json.loads(jsonGenericQuery)\n",
    "\n",
    "# Include the filters selected in the previous steps inside the JSON containing the generic query parameters:\n",
    "dictQuery['query'] = dedlQueryablesUtils.hdaFilters\n",
    "# Convert the merged dictionary back to a JSON string\n",
    "queryJson = json.dumps(dictQuery, indent=4)\n",
    "\n",
    "print(queryJson)"
   ]
  },
  {
   "cell_type": "markdown",
   "id": "a0bb43b9-c94b-48bf-a62b-3db3b7eb2a65",
   "metadata": {},
   "source": [
    "## Search"
   ]
  },
  {
   "cell_type": "code",
   "execution_count": 57,
   "id": "efc07366-4493-40f3-a7ff-24b7bb0a1f5d",
   "metadata": {
    "tags": []
   },
   "outputs": [
    {
     "data": {
      "application/json": {
       "assets": {
        "downloadLink": {
         "alternate": {
          "origin": {
           "href": "Not Available#?_dc_qs=%7B%22data_format%22%3A+%22zip%22%2C+%22ensemble_member%22%3A+%22r12i1p1%22%2C+%22experiment%22%3A+%22degree_scenario%22%2C+%22gcm%22%3A+%22ec_earth%22%2C+%22horizontal_resolution%22%3A+%220_11_degrees%22%2C+%22period%22%3A+%221_5_c%22%2C+%22processing_type%22%3A+%22original%22%2C+%22product_type%22%3A+%22climate_impact_indicators%22%2C+%22rcm%22%3A+%22racmo22e%22%2C+%22time_aggregation%22%3A+%22monthly_mean%22%2C+%22variable%22%3A+%222m_air_temperature%22%2C+%22variable_type%22%3A+%22absolute_change_from_reference_period%22%7D",
           "title": "Origin asset link"
          }
         },
         "href": "https://hda.data.destination-earth.eu/stac/collections/EO.ECMWF.DAT.SIS_HYDROLOGY_METEOROLOGY_DERIVED_PROJECTIONS/items/SIS_HYDRO_MET_PROJ_20240401_20240418_9566806650dd975897f1712193cb5864c290402c/download?provider=cop_cds&_dc_qs=%257B%2522data_format%2522%253A%2B%2522zip%2522%252C%2B%2522ensemble_member%2522%253A%2B%2522r12i1p1%2522%252C%2B%2522experiment%2522%253A%2B%2522degree_scenario%2522%252C%2B%2522gcm%2522%253A%2B%2522ec_earth%2522%252C%2B%2522horizontal_resolution%2522%253A%2B%25220_11_degrees%2522%252C%2B%2522period%2522%253A%2B%25221_5_c%2522%252C%2B%2522processing_type%2522%253A%2B%2522original%2522%252C%2B%2522product_type%2522%253A%2B%2522climate_impact_indicators%2522%252C%2B%2522rcm%2522%253A%2B%2522racmo22e%2522%252C%2B%2522time_aggregation%2522%253A%2B%2522monthly_mean%2522%252C%2B%2522variable%2522%253A%2B%25222m_air_temperature%2522%252C%2B%2522variable_type%2522%253A%2B%2522absolute_change_from_reference_period%2522%257D",
         "storage:tier": "OFFLINE",
         "title": "Download link",
         "type": "application/zip"
        }
       },
       "bbox": [
        -180,
        -90,
        180,
        90
       ],
       "collection": "EO.ECMWF.DAT.SIS_HYDROLOGY_METEOROLOGY_DERIVED_PROJECTIONS",
       "geometry": {
        "coordinates": [
         [
          [
           180,
           -90
          ],
          [
           180,
           90
          ],
          [
           -180,
           90
          ],
          [
           -180,
           -90
          ],
          [
           180,
           -90
          ]
         ]
        ],
        "type": "Polygon"
       },
       "id": "SIS_HYDRO_MET_PROJ_20240401_20240418_9566806650dd975897f1712193cb5864c290402c",
       "links": [
        {
         "href": "https://hda.data.destination-earth.eu/stac/collections/EO.ECMWF.DAT.SIS_HYDROLOGY_METEOROLOGY_DERIVED_PROJECTIONS/items/SIS_HYDRO_MET_PROJ_20240401_20240418_9566806650dd975897f1712193cb5864c290402c?provider=cop_cds&_dc_qs=%257B%2522data_format%2522%253A%2B%2522zip%2522%252C%2B%2522ensemble_member%2522%253A%2B%2522r12i1p1%2522%252C%2B%2522experiment%2522%253A%2B%2522degree_scenario%2522%252C%2B%2522gcm%2522%253A%2B%2522ec_earth%2522%252C%2B%2522horizontal_resolution%2522%253A%2B%25220_11_degrees%2522%252C%2B%2522period%2522%253A%2B%25221_5_c%2522%252C%2B%2522processing_type%2522%253A%2B%2522original%2522%252C%2B%2522product_type%2522%253A%2B%2522climate_impact_indicators%2522%252C%2B%2522rcm%2522%253A%2B%2522racmo22e%2522%252C%2B%2522time_aggregation%2522%253A%2B%2522monthly_mean%2522%252C%2B%2522variable%2522%253A%2B%25222m_air_temperature%2522%252C%2B%2522variable_type%2522%253A%2B%2522absolute_change_from_reference_period%2522%257D",
         "rel": "self",
         "title": "SIS_HYDRO_MET_PROJ_20240401_20240418_9566806650dd975897f1712193cb5864c290402c"
        },
        {
         "href": "https://hda.data.destination-earth.eu/stac/",
         "rel": "root"
        },
        {
         "href": "https://hda.data.destination-earth.eu/stac/collections/EO.ECMWF.DAT.SIS_HYDROLOGY_METEOROLOGY_DERIVED_PROJECTIONS",
         "rel": "parent",
         "title": "EO.ECMWF.DAT.SIS_HYDROLOGY_METEOROLOGY_DERIVED_PROJECTIONS"
        },
        {
         "href": "https://hda.data.destination-earth.eu/stac/collections/EO.ECMWF.DAT.SIS_HYDROLOGY_METEOROLOGY_DERIVED_PROJECTIONS",
         "rel": "collection",
         "title": "EO.ECMWF.DAT.SIS_HYDROLOGY_METEOROLOGY_DERIVED_PROJECTIONS"
        }
       ],
       "properties": {
        "cop_cds:alias": "EO.ECMWF.DAT.SIS_HYDROLOGY_METEOROLOGY_DERIVED_PROJECTIONS",
        "cop_cds:scope": {
         "discover": null,
         "download": "hda-public-data-access",
         "search": "hda-public-data-access"
        },
        "datetime": "2024-04-01T00:00:00.000Z",
        "ecmwf:data_format": "zip",
        "ecmwf:dataset": "sis-hydrology-meteorology-derived-projections",
        "ecmwf:ensemble_member": "r12i1p1",
        "ecmwf:experiment": "degree_scenario",
        "ecmwf:gcm": "ec_earth",
        "ecmwf:horizontal_resolution": "0_11_degrees",
        "ecmwf:period": "1_5_c",
        "ecmwf:processing_type": "original",
        "ecmwf:product_type": "climate_impact_indicators",
        "ecmwf:rcm": "racmo22e",
        "ecmwf:time_aggregation": "monthly_mean",
        "ecmwf:variable": "2m_air_temperature",
        "ecmwf:variable_type": "absolute_change_from_reference_period",
        "end_datetime": "2024-04-18T00:00:00.000Z",
        "instruments": [
         null
        ],
        "license": "proprietary",
        "order:status": "orderable",
        "providers": [
         {
          "description": "Copernicus Climate Data Store",
          "name": "cop_cds",
          "priority": 0,
          "roles": [
           "host"
          ],
          "url": "https://cds.climate.copernicus.eu"
         }
        ],
        "sar:product_type": "SIS_HYDRO_MET_PROJ",
        "start_datetime": "2024-04-01T00:00:00.000Z"
       },
       "stac_extensions": [
        "https://stac-extensions.github.io/sar/v1.0.0/schema.json",
        "https://stac-extensions.github.io/order/v1.1.0/schema.json"
       ],
       "stac_version": "1.0.0",
       "type": "Feature"
      },
      "text/plain": [
       "<IPython.core.display.JSON object>"
      ]
     },
     "execution_count": 57,
     "metadata": {
      "application/json": {
       "expanded": false,
       "root": "root"
      }
     },
     "output_type": "execute_result"
    }
   ],
   "source": [
    "response = requests.post(\"https://hda.data.destination-earth.eu/stac/search\", headers=auth_headers, json= json.loads(queryJson) )\n",
    "#print(response)\n",
    "# Requests to ADS data always return a single item containing all the requested data\n",
    "product = response.json()[\"features\"][0]\n",
    "JSON(product, expanded= False)"
   ]
  },
  {
   "cell_type": "markdown",
   "id": "06fa5a8f-3d25-4559-a8c9-09ae05387c3a",
   "metadata": {},
   "source": [
    "# Download\n",
    "Once we have found the product we can download it:\n"
   ]
  },
  {
   "cell_type": "code",
   "execution_count": 58,
   "id": "e1aafd3e-2d54-4151-b5da-a3e527d3ede9",
   "metadata": {
    "tags": []
   },
   "outputs": [
    {
     "name": "stdout",
     "output_type": "stream",
     "text": [
      "https://hda.data.destination-earth.eu/stac/collections/EO.ECMWF.DAT.SIS_HYDROLOGY_METEOROLOGY_DERIVED_PROJECTIONS/items/SIS_HYDRO_MET_PROJ_20240401_20240418_9566806650dd975897f1712193cb5864c290402c/download?provider=cop_cds&_dc_qs=%257B%2522data_format%2522%253A%2B%2522zip%2522%252C%2B%2522ensemble_member%2522%253A%2B%2522r12i1p1%2522%252C%2B%2522experiment%2522%253A%2B%2522degree_scenario%2522%252C%2B%2522gcm%2522%253A%2B%2522ec_earth%2522%252C%2B%2522horizontal_resolution%2522%253A%2B%25220_11_degrees%2522%252C%2B%2522period%2522%253A%2B%25221_5_c%2522%252C%2B%2522processing_type%2522%253A%2B%2522original%2522%252C%2B%2522product_type%2522%253A%2B%2522climate_impact_indicators%2522%252C%2B%2522rcm%2522%253A%2B%2522racmo22e%2522%252C%2B%2522time_aggregation%2522%253A%2B%2522monthly_mean%2522%252C%2B%2522variable%2522%253A%2B%25222m_air_temperature%2522%252C%2B%2522variable_type%2522%253A%2B%2522absolute_change_from_reference_period%2522%257D\n"
     ]
    }
   ],
   "source": [
    "download_url = product[\"assets\"][\"downloadLink\"][\"href\"]\n",
    "print(download_url )"
   ]
  },
  {
   "cell_type": "code",
   "execution_count": 59,
   "id": "e09e9ac8-bb1d-46f8-b1e9-6c9302a45299",
   "metadata": {
    "tags": []
   },
   "outputs": [
    {
     "name": "stdout",
     "output_type": "stream",
     "text": [
      "{\"description\":\"Product is not available yet, please try again using given updated location\",\"status\":\"accepted\",\"location\":\"https://hda.data.destination-earth.eu/stac/collections/EO.ECMWF.DAT.SIS_HYDROLOGY_METEOROLOGY_DERIVED_PROJECTIONS/items/SIS_HYDRO_MET_PROJ_20240401_20240418_9566806650dd975897f1712193cb5864c290402c/download?_dc_qs=%257B%2522data_format%2522%253A%2B%2522zip%2522%252C%2B%2522ensemble_member%2522%253A%2B%2522r12i1p1%2522%252C%2B%2522experiment%2522%253A%2B%2522degree_scenario%2522%252C%2B%2522gcm%2522%253A%2B%2522ec_earth%2522%252C%2B%2522horizontal_resolution%2522%253A%2B%25220_11_degrees%2522%252C%2B%2522period%2522%253A%2B%25221_5_c%2522%252C%2B%2522processing_type%2522%253A%2B%2522original%2522%252C%2B%2522product_type%2522%253A%2B%2522climate_impact_indicators%2522%252C%2B%2522rcm%2522%253A%2B%2522racmo22e%2522%252C%2B%2522time_aggregation%2522%253A%2B%2522monthly_mean%2522%252C%2B%2522variable%2522%253A%2B%25222m_air_temperature%2522%252C%2B%2522variable_type%2522%253A%2B%2522absolute_change_from_reference_period%2522%257D&processID=sis-hydrology-meteorology-derived-projections&type=process&jobID=61f1bd72-f51a-4721-8975-a8a33ee8cfe2&status=accepted&created=2024-12-22T23%3A34%3A57.762771&updated=2024-12-22T23%3A34%3A57.762771&links=%7B%27href%27%3A+%27https%3A%2F%2Fcds.climate.copernicus.eu%2Fapi%2Fretrieve%2Fv1%2Fprocesses%2Fsis-hydrology-meteorology-derived-projections%2Fexecution%27%2C+%27rel%27%3A+%27self%27%7D&links=%7B%27href%27%3A+%27https%3A%2F%2Fcds.climate.copernicus.eu%2Fapi%2Fretrieve%2Fv1%2Fjobs%2F61f1bd72-f51a-4721-8975-a8a33ee8cfe2%27%2C+%27rel%27%3A+%27monitor%27%2C+%27type%27%3A+%27application%2Fjson%27%2C+%27title%27%3A+%27job+status+info%27%7D&metadata=datasetMetadata&metadata=origin&orderId=61f1bd72-f51a-4721-8975-a8a33ee8cfe2&provider=cop_cds\"}\n",
      "order status: accepted\n",
      "order status: accepted\n",
      "order status: accepted\n",
      "order status: accepted\n",
      "order status: accepted\n",
      "order status: accepted\n",
      "order status: accepted\n",
      "order status: accepted\n",
      "order status: accepted\n",
      "order status: running\n",
      "order status: running\n",
      "order status: running\n",
      "order status: running\n",
      "order status: accepted\n",
      "order status: running\n",
      "order status: accepted\n",
      "order status: running\n",
      "order status: running\n",
      "downloading 2f8e1e26696c9091d298293bb718b94a.zip\n"
     ]
    },
    {
     "name": "stderr",
     "output_type": "stream",
     "text": [
      "100%|██████████| 11.2M/11.2M [00:00<00:00, 15.1MB/s]\n"
     ]
    }
   ],
   "source": [
    "from tqdm import tqdm\n",
    "import time\n",
    "import re\n",
    "direct_download_url=''\n",
    "\n",
    "response = requests.get(download_url, headers=auth_headers)\n",
    "if (response.status_code == HTTP_SUCCESS_CODE):\n",
    "    direct_download_url = product['assets']['downloadLink']['href']\n",
    "else:\n",
    "    print(response.text)\n",
    "\n",
    "\n",
    "# we poll as long as the data is not ready\n",
    "if direct_download_url=='':\n",
    "    while url := response.headers.get(\"Location\"):\n",
    "        print(f\"order status: {response.json()['status']}\")\n",
    "        response = requests.get(url, headers=auth_headers, stream=True)\n",
    "        response.raise_for_status()\n",
    "\n",
    "filename = re.findall('filename=\\\"?(.+)\\\"?', response.headers[\"Content-Disposition\"])[0]\n",
    "total_size = int(response.headers.get(\"content-length\", 0))\n",
    "\n",
    "print(f\"downloading {filename}\")\n",
    "\n",
    "with tqdm(total=total_size, unit=\"B\", unit_scale=True) as progress_bar:\n",
    "    with open(filename, 'wb') as f:\n",
    "        for data in response.iter_content(1024):\n",
    "            progress_bar.update(len(data))\n",
    "            f.write(data)"
   ]
  },
  {
   "cell_type": "code",
   "execution_count": null,
   "id": "1a314b83-95b0-429c-bc34-154fc86690c9",
   "metadata": {},
   "outputs": [],
   "source": []
  }
 ],
 "metadata": {
  "kernelspec": {
   "display_name": "Python DEDL",
   "language": "python",
   "name": "python_dedl"
  },
  "language_info": {
   "codemirror_mode": {
    "name": "ipython",
    "version": 3
   },
   "file_extension": ".py",
   "mimetype": "text/x-python",
   "name": "python",
   "nbconvert_exporter": "python",
   "pygments_lexer": "ipython3",
   "version": "3.11.4"
  },
  "toc-autonumbering": false,
  "vscode": {
   "interpreter": {
    "hash": "31f2aee4e71d21fbe5cf8b01ff0e069b9275f58929596ceb00d14d90e3e16cd6"
   }
  }
 },
 "nbformat": 4,
 "nbformat_minor": 5
}

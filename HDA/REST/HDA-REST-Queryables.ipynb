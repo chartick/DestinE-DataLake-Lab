{
 "cells": [
  {
   "cell_type": "markdown",
   "id": "a7087d07-483a-4f6d-b2e5-814409692a60",
   "metadata": {
    "tags": []
   },
   "source": [
    "![](https://github.com/destination-earth/DestinE-DataLake-Lab/blob/main/img/DestinE-banner.jpg?raw=true)"
   ]
  },
  {
   "cell_type": "markdown",
   "id": "6d49d742-a473-43d5-aab0-4f0dfb0bcfa2",
   "metadata": {
    "tags": []
   },
   "source": [
    "\n",
    "\n",
    "# DEDL - HDA Tutorial - Queryables"
   ]
  },
  {
   "cell_type": "markdown",
   "id": "36476d50",
   "metadata": {},
   "source": [
    "<br> Author: EUMETSAT </br>"
   ]
  },
  {
   "cell_type": "markdown",
   "id": "2624d113",
   "metadata": {},
   "source": [
    "<div class=\"alert alert-block alert-success\">\n",
    "<h3>How to use the queryables API</h3>\n",
    "<ol>\n",
    "    <li> The queryables API. The API returns a list of variable terms that can be used for filtering the specified collection. </li>\n",
    "    <li> How to filter data in a specific collection using the list of variable terms returned by the queryables API. </li> \n",
    "</ol>\n",
    "</div>"
   ]
  },
  {
   "cell_type": "markdown",
   "id": "a9ccea6e",
   "metadata": {},
   "source": [
    "This notebook demonstrates how to use the HDA queryables API by sending a few HTTP requests to the API, using Python code.\n",
    "Throughout this quickstart notebook, you will learn:\n",
    "\n",
    "1. [Queryables](#Queryables): How to exploit the STAC API filter extension features. The \"queryables\" API helps users to determine the property names and types available for filtering data.\n",
    "2. [Authenticate](#Authenticate): How to authenticate fro searching and access *DEDL* collections. \n",
    "3. [Search data](#Search):  How to search *DEDL* data using filters obtained by the \"queryables\" API.\n",
    "4. [Download data](#Download): How to download *DEDL* data through HDA.\n"
   ]
  },
  {
   "cell_type": "markdown",
   "id": "14cf5489",
   "metadata": {},
   "source": [
    "The detailed HDA API and definition of each endpoint and parameters is available in the HDA Swagger UI at: \n",
    "[ STAC API - Filter Extension ](https://hda.data.destination-earth.eu/docs/#/STAC%20API%20-%20Filter%20Extension)"
   ]
  },
  {
   "cell_type": "markdown",
   "id": "1fb01f5a",
   "metadata": {},
   "source": [
    "<div class=\"alert alert-block alert-warning\">\n",
    "<b> Prequisites: </b>\n",
    "<li> For queryables API: none </li>\n",
    "<li> For filtering data inside collections : <a href=\"https://platform.destine.eu/\"> DestinE user account</a> </li>\n",
    "</div>"
   ]
  },
  {
   "cell_type": "markdown",
   "id": "af62c175",
   "metadata": {
    "tags": []
   },
   "source": [
    "# Queryables\n",
    "## Define some constants for the API URLs\n",
    "In this section, we define the relevant constants, holding the URL strings for the different endpoints.\n",
    "\n",
    "In this example, we search data for the dataset [CAMS European Air Quality Forecast](https://ads.atmosphere.copernicus.eu/cdsapp#!/dataset/cams-europe-air-quality-forecasts?tab=overview). \n",
    "The corresponding collection ID in HDA for this dataset is: *EO.ECMWF.DAT.CAMS_EUROPE_AIR_QUALITY_FORECASTS*."
   ]
  },
  {
   "cell_type": "code",
   "execution_count": 2,
   "id": "6f12416e",
   "metadata": {
    "tags": []
   },
   "outputs": [],
   "source": [
    "# Use the Collection https://hda.data.destination-earth.eu/ui/dataset/EO.ESA.DAT.SENTINEL-2.MSI.L1C as default\n",
    "COLLECTION_ID = \"EO.ECMWF.DAT.CAMS_EUROPE_AIR_QUALITY_FORECASTS\"\n",
    "\n",
    "# Core API\n",
    "HDA_API_URL = \"https://hda.data.destination-earth.eu\"\n",
    "\n",
    "# STAC API\n",
    "## Core\n",
    "STAC_API_URL = f\"{HDA_API_URL}/stac\"\n",
    "\n",
    "## Item Search\n",
    "SEARCH_URL = f\"{STAC_API_URL}/search\"\n",
    "\n",
    "## Collections\n",
    "COLLECTIONS_URL = f\"{STAC_API_URL}/collections\"\n",
    "\n",
    "## Queryables\n",
    "QUERYABLES_URL = f\"{STAC_API_URL}/queryables\"\n",
    "QUERYABLES_BY_COLLECTION_ID = f\"{COLLECTIONS_URL}/{COLLECTION_ID}/queryables\"\n",
    "HDA_FILTERS =''\n",
    "\n",
    "## HTTP Success\n",
    "HTTP_SUCCESS_CODE = 200"
   ]
  },
  {
   "cell_type": "markdown",
   "id": "a1141f02",
   "metadata": {
    "tags": []
   },
   "source": [
    "## Import the relevant modules and define some useful functions\n",
    "We start off by importing the relevant modules for DestnE authentication, HTTP requests, json handling and widgets."
   ]
  },
  {
   "cell_type": "code",
   "execution_count": 3,
   "id": "04d63054-7794-4103-b51f-b1410a9921f9",
   "metadata": {
    "tags": []
   },
   "outputs": [],
   "source": [
    "import destinelab as deauth"
   ]
  },
  {
   "cell_type": "code",
   "execution_count": 4,
   "id": "49d1b58a",
   "metadata": {
    "tags": []
   },
   "outputs": [],
   "source": [
    "import requests\n",
    "import json\n",
    "\n",
    "import ipywidgets as widgets\n",
    "from IPython.display import display, clear_output, HTML\n",
    "from ipywidgets import Layout, Box\n",
    "import datetime\n",
    "\n",
    "from rich.console import Console\n",
    "import rich.table\n",
    "\n",
    "from IPython.display import JSON\n"
   ]
  },
  {
   "cell_type": "markdown",
   "id": "d225c760-8e35-4d0e-997e-a08723f77d48",
   "metadata": {},
   "source": [
    "Below useful functions for pretty printing and for demonstrating the queryables API."
   ]
  },
  {
   "cell_type": "code",
   "execution_count": 19,
   "id": "6f8f95ab-fa0d-41c3-b1a5-17f084c573d6",
   "metadata": {
    "tags": []
   },
   "outputs": [],
   "source": [
    "# Function to display queryables in a table\n",
    "def create_q_table(filters,params=None):\n",
    "    table = rich.table.Table(title=\"Applicable filters\", expand=True, show_lines=True)\n",
    "    table.add_column(\"Description\", style=\"cyan\", justify=\"right\")\n",
    "    table.add_column(\"Type\", style=\"violet\", justify=\"right\", no_wrap=True)\n",
    "    table.add_column(\"enum\", style=\"violet\", justify=\"right\")\n",
    "    table.add_column(\"value\", style=\"violet\", justify=\"right\", no_wrap=True)\n",
    "    for filtername in filters.keys():\n",
    "        if (params!=None and filtername not in params.keys()):\n",
    "            continue\n",
    "        enum=''\n",
    "        if 'enum' in filters[filtername]:\n",
    "           enum=' , ' .join(map(str,filters[filtername][\"enum\"]))\n",
    "        value=''\n",
    "        if'value' in filters[filtername]:\n",
    "           value=json.dumps(filters[filtername][\"value\"])\n",
    "        if'type' in filters[filtername]:\n",
    "           typeq=json.dumps(filters[filtername][\"type\"])\n",
    "        else:\n",
    "            typeq=''\n",
    "    \n",
    "        table.add_row(filters[filtername][\"description\"],  typeq , enum, value)\n",
    "    return table\n",
    "\n",
    "# Function to fetch queryable properties for a given collection with optional params\n",
    "def fetch_queryables(collection_name, params=None, complete= False):\n",
    "    url = f\"{COLLECTIONS_URL}/{collection_name}/queryables\"\n",
    "    response = requests.get(url, params=params)\n",
    "    if response.status_code == 200 and complete == False:\n",
    "        return response.json().get('properties', {})\n",
    "    elif response.status_code == 200 and complete == True:\n",
    "        return response.json()\n",
    "    else:\n",
    "        return None\n",
    "\n",
    "    \n",
    "def update_dropdowns(collection_name, params=None):\n",
    "    properties = fetch_queryables(collection_name, params)\n",
    "    global HDA_FILTERS\n",
    "    \n",
    "    with output_area:\n",
    "        clear_output()\n",
    "        if properties:\n",
    "            print(\"Properties fetched successfully.\")\n",
    "            #print(json.dumps(properties, indent=2))\n",
    "            table=create_q_table(properties, params)\n",
    "            console = Console()\n",
    "            console.print(table)\n",
    "            if (params!=None):\n",
    "                print(\"The parameters chosen can be translated in the following filters for the HDA query. \\n\" )\n",
    "                cleaned_params = {k: v for k, v in params.items() if v}\n",
    "                HDA_FILTERS = {\n",
    "                    key: {\"eq\": value}\n",
    "                    for key, value in cleaned_params.items()\n",
    "                }\n",
    "                print(json.dumps(HDA_FILTERS, indent=4))\n",
    "                print(\"\\n For the non selected parameters the default values, visible in the column 'value' above, will be applied by default by HDA.\")\n",
    "        else:\n",
    "            print(\"Failed to fetch properties.\")\n",
    "            return\n",
    "        \n",
    "    # Preserve existing selected values\n",
    "    selected_values = {prop: dropdown.value for prop, dropdown in dropdowns.items()}\n",
    "    \n",
    "    # Clear existing dropdowns\n",
    "    dropdown_container.children = []\n",
    "    dropdowns.clear()\n",
    "    \n",
    "    # Create new dropdowns for properties with enum values\n",
    "    new_dropdowns = []\n",
    "    for prop, details in properties.items():\n",
    "        if details.get('type') == 'string' and 'enum' in details:\n",
    "            options = details['enum']\n",
    "            #if prop == 'levtype':\n",
    "            options = [''] + options  # Add empty option for 'param' property\n",
    "\n",
    "            dropdown = widgets.Dropdown(\n",
    "                description=prop,\n",
    "                options=options,\n",
    "                value=selected_values.get(prop, options[0])  # Set previously selected value or default to the first option\n",
    "            )\n",
    "            dropdown.observe(on_value_change, names='value')\n",
    "            dropdowns[prop] = dropdown\n",
    "            new_dropdowns.append(dropdown)\n",
    "                \n",
    "    if new_dropdowns:\n",
    "        dropdown_container.children = new_dropdowns\n",
    "    else:\n",
    "        with output_area:\n",
    "            print(\"No properties with enum values found.\")\n",
    "\n",
    "def on_fetch_button_clicked(b):\n",
    "    collection_name = COLLECTION_ID    \n",
    "    update_dropdowns(collection_name)\n",
    "\n",
    "def on_value_change(change):\n",
    "    collection_name = COLLECTION_ID\n",
    "    params = {prop: dropdown.value for prop, dropdown in dropdowns.items() if dropdown.value is not None}\n",
    "    \n",
    "    if params:\n",
    "        details = fetch_queryables(collection_name, params, complete = True)\n",
    "    \n",
    "        with output_area:\n",
    "            clear_output()\n",
    "            #print(json.dumps(details, indent=2))\n",
    "    \n",
    "    # Update dropdowns based on the new selection\n",
    "    update_dropdowns(collection_name, params) \n",
    "    \n",
    "\n"
   ]
  },
  {
   "cell_type": "markdown",
   "id": "a6b12a10-37c5-4f9d-aded-213bcb8eec57",
   "metadata": {},
   "source": [
    "## The queryables API\n",
    "\n",
    "The \"queryables\" API helps users to determine the property names and types available for filtering data inside a specific collection.\n",
    "In the dropdown below you can choose the desired collection."
   ]
  },
  {
   "cell_type": "code",
   "execution_count": 21,
   "id": "8a8d24a4-9589-4d4a-b81f-08e387cbb94a",
   "metadata": {
    "tags": []
   },
   "outputs": [
    {
     "data": {
      "application/vnd.jupyter.widget-view+json": {
       "model_id": "8cd5082ca7454a83bc24be385598f6f4",
       "version_major": 2,
       "version_minor": 0
      },
      "text/plain": [
       "Box(children=(Dropdown(description='Collections:', options=('EO.CLMS.DAT.CORINE', 'EO.CLMS.DAT.GLO.DMP300_V1',…"
      ]
     },
     "metadata": {},
     "output_type": "display_data"
    }
   ],
   "source": [
    "#default values\n",
    "DATASET_ID = 'EO.CLMS.DAT.CORINE'\n",
    "\n",
    "# Event listeners\n",
    "def on_change(change):\n",
    "    with output_area:\n",
    "        clear_output()\n",
    "        print(f'Selected: {change[\"new\"]}')\n",
    "        print('---------------------------------------------')\n",
    "        delimiter=''\n",
    "        global COLLECTION_ID, QUERYABLES_BY_COLLECTION_ID\n",
    "        COLLECTION_ID = delimiter.join(change[\"new\"])\n",
    "        QUERYABLES_BY_COLLECTION_ID = f\"{COLLECTIONS_URL}/{COLLECTION_ID}/queryables\"\n",
    "        \n",
    "        product_types = requests.get(COLLECTIONS_URL).json()['collections'] \n",
    "        index = next((i for i, d in enumerate(product_types) if d.get('id') == COLLECTION_ID), None)\n",
    "        \n",
    "        print(\"TITLE: \"+product_types[index]['title'])\n",
    "        print(\"DESCRIPTION: \"+product_types[index]['description'])\n",
    "        print(\"\\nQUERYABLES ENDPOINT: \\n\"+QUERYABLES_BY_COLLECTION_ID)\n",
    "\n",
    "options = [product_type[\"id\"] for product_type in requests.get(COLLECTIONS_URL).json()['collections']]\n",
    "\n",
    "# Widgets\n",
    "output_area = widgets.Output()\n",
    "\n",
    "dropdown = widgets.Dropdown(\n",
    "    options=options,\n",
    "    value=options[0],\n",
    "    description=\"Collections:\",\n",
    "    disabled=False,\n",
    ") \n",
    "dropdown.observe(on_change, names='value')\n",
    "\n",
    "\n",
    "# Layout\n",
    "# Define the layout for the dropdown\n",
    "dropdown_layout = Layout(display='space-between', justify_content='center', width='80%')\n",
    "# Create a box to hold the dropdown with the specified layout\n",
    "box = Box([dropdown, output_area], layout=dropdown_layout)\n",
    "display( box)  \n",
    "\n",
    "\n"
   ]
  },
  {
   "cell_type": "markdown",
   "id": "46f9d86c-0bfa-4ebc-978a-0268042e824e",
   "metadata": {},
   "source": [
    "The QUERYABLES ENDPOINT shows the applicable filters under the section named 'properties'.\n",
    "\n",
    "This section contains \n",
    "* the name of the filter, **description**,\n",
    "* the filter **type**, \n",
    "* the possible filter values, **enum** (conditioned by the values selected for the other filters)\n",
    "* and the the default (or chosen) **value** applied\n",
    "\n",
    "We can print the'properties' section in a table to see the filters and the values applied by default when we perform a search for the chosen dataset."
   ]
  },
  {
   "cell_type": "code",
   "execution_count": 22,
   "id": "c692ab5c-2c47-427a-af1f-44ff4a3beb5c",
   "metadata": {
    "tags": []
   },
   "outputs": [
    {
     "data": {
      "text/html": [
       "<pre style=\"white-space:pre;overflow-x:auto;line-height:normal;font-family:Menlo,'DejaVu Sans Mono',consolas,'Courier New',monospace\"><span style=\"font-style: italic\">                                                Applicable filters                                                 </span>\n",
       "┏━━━━━━━━━━━━━━━━━━━━━━━━━━━━━━━━━━━━━━━━━━━┳━━━━━━━━━━┳━━━━━━━━━━━━━━━━━━━━━━━━━━━━━━━━━━━━━━━━━━┳━━━━━━━━━━━━━━━┓\n",
       "┃<span style=\"font-weight: bold\">                               Description </span>┃<span style=\"font-weight: bold\">     Type </span>┃<span style=\"font-weight: bold\">                                     enum </span>┃<span style=\"font-weight: bold\">         value </span>┃\n",
       "┡━━━━━━━━━━━━━━━━━━━━━━━━━━━━━━━━━━━━━━━━━━━╇━━━━━━━━━━╇━━━━━━━━━━━━━━━━━━━━━━━━━━━━━━━━━━━━━━━━━━╇━━━━━━━━━━━━━━━┩\n",
       "│<span style=\"color: #008080; text-decoration-color: #008080\">                                        ID </span>│<span style=\"color: #d787ff; text-decoration-color: #d787ff\">          </span>│<span style=\"color: #d787ff; text-decoration-color: #d787ff\">                                          </span>│<span style=\"color: #d787ff; text-decoration-color: #d787ff\">               </span>│\n",
       "├───────────────────────────────────────────┼──────────┼──────────────────────────────────────────┼───────────────┤\n",
       "│<span style=\"color: #008080; text-decoration-color: #008080\">                                  Geometry </span>│<span style=\"color: #d787ff; text-decoration-color: #d787ff\">          </span>│<span style=\"color: #d787ff; text-decoration-color: #d787ff\">                                          </span>│<span style=\"color: #d787ff; text-decoration-color: #d787ff\">               </span>│\n",
       "├───────────────────────────────────────────┼──────────┼──────────────────────────────────────────┼───────────────┤\n",
       "│<span style=\"color: #008080; text-decoration-color: #008080\">    Datetime - use parameters year, month, </span>│<span style=\"color: #d787ff; text-decoration-color: #d787ff\">          </span>│<span style=\"color: #d787ff; text-decoration-color: #d787ff\">                                          </span>│<span style=\"color: #d787ff; text-decoration-color: #d787ff\">               </span>│\n",
       "│<span style=\"color: #008080; text-decoration-color: #008080\">            day, time instead if available </span>│<span style=\"color: #d787ff; text-decoration-color: #d787ff\">          </span>│<span style=\"color: #d787ff; text-decoration-color: #d787ff\">                                          </span>│<span style=\"color: #d787ff; text-decoration-color: #d787ff\">               </span>│\n",
       "├───────────────────────────────────────────┼──────────┼──────────────────────────────────────────┼───────────────┤\n",
       "│<span style=\"color: #008080; text-decoration-color: #008080\">                                      BBox </span>│<span style=\"color: #d787ff; text-decoration-color: #d787ff\">  \"array\" </span>│<span style=\"color: #d787ff; text-decoration-color: #d787ff\">                                          </span>│<span style=\"color: #d787ff; text-decoration-color: #d787ff\">               </span>│\n",
       "├───────────────────────────────────────────┼──────────┼──────────────────────────────────────────┼───────────────┤\n",
       "│<span style=\"color: #008080; text-decoration-color: #008080\">                                    format </span>│<span style=\"color: #d787ff; text-decoration-color: #d787ff\"> \"string\" </span>│<span style=\"color: #d787ff; text-decoration-color: #d787ff\">                                          </span>│<span style=\"color: #d787ff; text-decoration-color: #d787ff\">        \"grib\" </span>│\n",
       "├───────────────────────────────────────────┼──────────┼──────────────────────────────────────────┼───────────────┤\n",
       "│<span style=\"color: #008080; text-decoration-color: #008080\">                                  variable </span>│<span style=\"color: #d787ff; text-decoration-color: #d787ff\"> \"string\" </span>│<span style=\"color: #d787ff; text-decoration-color: #d787ff\">                10m_u_component_of_wind , </span>│<span style=\"color: #d787ff; text-decoration-color: #d787ff\"> \"snow_albedo\" </span>│\n",
       "│<span style=\"color: #008080; text-decoration-color: #008080\">                                           </span>│<span style=\"color: #d787ff; text-decoration-color: #d787ff\">          </span>│<span style=\"color: #d787ff; text-decoration-color: #d787ff\">                10m_v_component_of_wind , </span>│<span style=\"color: #d787ff; text-decoration-color: #d787ff\">               </span>│\n",
       "│<span style=\"color: #008080; text-decoration-color: #008080\">                                           </span>│<span style=\"color: #d787ff; text-decoration-color: #d787ff\">          </span>│<span style=\"color: #d787ff; text-decoration-color: #d787ff\"> 2m_dewpoint_temperature , 2m_temperature </span>│<span style=\"color: #d787ff; text-decoration-color: #d787ff\">               </span>│\n",
       "│<span style=\"color: #008080; text-decoration-color: #008080\">                                           </span>│<span style=\"color: #d787ff; text-decoration-color: #d787ff\">          </span>│<span style=\"color: #d787ff; text-decoration-color: #d787ff\">                                        , </span>│<span style=\"color: #d787ff; text-decoration-color: #d787ff\">               </span>│\n",
       "│<span style=\"color: #008080; text-decoration-color: #008080\">                                           </span>│<span style=\"color: #d787ff; text-decoration-color: #d787ff\">          </span>│<span style=\"color: #d787ff; text-decoration-color: #d787ff\"> accumulated_carbon_dioxide_ecosystem_re… </span>│<span style=\"color: #d787ff; text-decoration-color: #d787ff\">               </span>│\n",
       "│<span style=\"color: #008080; text-decoration-color: #008080\">                                           </span>│<span style=\"color: #d787ff; text-decoration-color: #d787ff\">          </span>│<span style=\"color: #d787ff; text-decoration-color: #d787ff\">                                        , </span>│<span style=\"color: #d787ff; text-decoration-color: #d787ff\">               </span>│\n",
       "│<span style=\"color: #008080; text-decoration-color: #008080\">                                           </span>│<span style=\"color: #d787ff; text-decoration-color: #d787ff\">          </span>│<span style=\"color: #d787ff; text-decoration-color: #d787ff\"> accumulated_carbon_dioxide_gross_primar… </span>│<span style=\"color: #d787ff; text-decoration-color: #d787ff\">               </span>│\n",
       "│<span style=\"color: #008080; text-decoration-color: #008080\">                                           </span>│<span style=\"color: #d787ff; text-decoration-color: #d787ff\">          </span>│<span style=\"color: #d787ff; text-decoration-color: #d787ff\">                                        , </span>│<span style=\"color: #d787ff; text-decoration-color: #d787ff\">               </span>│\n",
       "│<span style=\"color: #008080; text-decoration-color: #008080\">                                           </span>│<span style=\"color: #d787ff; text-decoration-color: #d787ff\">          </span>│<span style=\"color: #d787ff; text-decoration-color: #d787ff\"> accumulated_carbon_dioxide_net_ecosyste… </span>│<span style=\"color: #d787ff; text-decoration-color: #d787ff\">               </span>│\n",
       "│<span style=\"color: #008080; text-decoration-color: #008080\">                                           </span>│<span style=\"color: #d787ff; text-decoration-color: #d787ff\">          </span>│<span style=\"color: #d787ff; text-decoration-color: #d787ff\">                                        , </span>│<span style=\"color: #d787ff; text-decoration-color: #d787ff\">               </span>│\n",
       "│<span style=\"color: #008080; text-decoration-color: #008080\">                                           </span>│<span style=\"color: #d787ff; text-decoration-color: #d787ff\">          </span>│<span style=\"color: #d787ff; text-decoration-color: #d787ff\"> anthropogenic_emissions_of_carbon_dioxi… </span>│<span style=\"color: #d787ff; text-decoration-color: #d787ff\">               </span>│\n",
       "│<span style=\"color: #008080; text-decoration-color: #008080\">                                           </span>│<span style=\"color: #d787ff; text-decoration-color: #d787ff\">          </span>│<span style=\"color: #d787ff; text-decoration-color: #d787ff\"> , boundary_layer_height , carbon_dioxide </span>│<span style=\"color: #d787ff; text-decoration-color: #d787ff\">               </span>│\n",
       "│<span style=\"color: #008080; text-decoration-color: #008080\">                                           </span>│<span style=\"color: #d787ff; text-decoration-color: #d787ff\">          </span>│<span style=\"color: #d787ff; text-decoration-color: #d787ff\">       , ch4_column_mean_molar_fraction , </span>│<span style=\"color: #d787ff; text-decoration-color: #d787ff\">               </span>│\n",
       "│<span style=\"color: #008080; text-decoration-color: #008080\">                                           </span>│<span style=\"color: #d787ff; text-decoration-color: #d787ff\">          </span>│<span style=\"color: #d787ff; text-decoration-color: #d787ff\">         co2_column_mean_molar_fraction , </span>│<span style=\"color: #d787ff; text-decoration-color: #d787ff\">               </span>│\n",
       "│<span style=\"color: #008080; text-decoration-color: #008080\">                                           </span>│<span style=\"color: #d787ff; text-decoration-color: #d787ff\">          </span>│<span style=\"color: #d787ff; text-decoration-color: #d787ff\">  convective_available_potential_energy , </span>│<span style=\"color: #d787ff; text-decoration-color: #d787ff\">               </span>│\n",
       "│<span style=\"color: #008080; text-decoration-color: #008080\">                                           </span>│<span style=\"color: #d787ff; text-decoration-color: #d787ff\">          </span>│<span style=\"color: #d787ff; text-decoration-color: #d787ff\">                  convective_inhibition , </span>│<span style=\"color: #d787ff; text-decoration-color: #d787ff\">               </span>│\n",
       "│<span style=\"color: #008080; text-decoration-color: #008080\">                                           </span>│<span style=\"color: #d787ff; text-decoration-color: #d787ff\">          </span>│<span style=\"color: #d787ff; text-decoration-color: #d787ff\">               convective_precipitation , </span>│<span style=\"color: #d787ff; text-decoration-color: #d787ff\">               </span>│\n",
       "│<span style=\"color: #008080; text-decoration-color: #008080\">                                           </span>│<span style=\"color: #d787ff; text-decoration-color: #d787ff\">          </span>│<span style=\"color: #d787ff; text-decoration-color: #d787ff\">   downward_uv_radiation_at_the_surface , </span>│<span style=\"color: #d787ff; text-decoration-color: #d787ff\">               </span>│\n",
       "│<span style=\"color: #008080; text-decoration-color: #008080\">                                           </span>│<span style=\"color: #d787ff; text-decoration-color: #d787ff\">          </span>│<span style=\"color: #d787ff; text-decoration-color: #d787ff\">                            evaporation , </span>│<span style=\"color: #d787ff; text-decoration-color: #d787ff\">               </span>│\n",
       "│<span style=\"color: #008080; text-decoration-color: #008080\">                                           </span>│<span style=\"color: #d787ff; text-decoration-color: #d787ff\">          </span>│<span style=\"color: #d787ff; text-decoration-color: #d787ff\"> flux_of_carbon_dioxide_ecosystem_respir… </span>│<span style=\"color: #d787ff; text-decoration-color: #d787ff\">               </span>│\n",
       "│<span style=\"color: #008080; text-decoration-color: #008080\">                                           </span>│<span style=\"color: #d787ff; text-decoration-color: #d787ff\">          </span>│<span style=\"color: #d787ff; text-decoration-color: #d787ff\">                                        , </span>│<span style=\"color: #d787ff; text-decoration-color: #d787ff\">               </span>│\n",
       "│<span style=\"color: #008080; text-decoration-color: #008080\">                                           </span>│<span style=\"color: #d787ff; text-decoration-color: #d787ff\">          </span>│<span style=\"color: #d787ff; text-decoration-color: #d787ff\"> flux_of_carbon_dioxide_gross_primary_pr… </span>│<span style=\"color: #d787ff; text-decoration-color: #d787ff\">               </span>│\n",
       "│<span style=\"color: #008080; text-decoration-color: #008080\">                                           </span>│<span style=\"color: #d787ff; text-decoration-color: #d787ff\">          </span>│<span style=\"color: #d787ff; text-decoration-color: #d787ff\">                                        , </span>│<span style=\"color: #d787ff; text-decoration-color: #d787ff\">               </span>│\n",
       "│<span style=\"color: #008080; text-decoration-color: #008080\">                                           </span>│<span style=\"color: #d787ff; text-decoration-color: #d787ff\">          </span>│<span style=\"color: #d787ff; text-decoration-color: #d787ff\"> flux_of_carbon_dioxide_net_ecosystem_ex… </span>│<span style=\"color: #d787ff; text-decoration-color: #d787ff\">               </span>│\n",
       "│<span style=\"color: #008080; text-decoration-color: #008080\">                                           </span>│<span style=\"color: #d787ff; text-decoration-color: #d787ff\">          </span>│<span style=\"color: #d787ff; text-decoration-color: #d787ff\">                      , forecast_albedo , </span>│<span style=\"color: #d787ff; text-decoration-color: #d787ff\">               </span>│\n",
       "│<span style=\"color: #008080; text-decoration-color: #008080\">                                           </span>│<span style=\"color: #d787ff; text-decoration-color: #d787ff\">          </span>│<span style=\"color: #d787ff; text-decoration-color: #d787ff\"> fraction_of_cloud_cover , geopotential , </span>│<span style=\"color: #d787ff; text-decoration-color: #d787ff\">               </span>│\n",
       "│<span style=\"color: #008080; text-decoration-color: #008080\">                                           </span>│<span style=\"color: #d787ff; text-decoration-color: #d787ff\">          </span>│<span style=\"color: #d787ff; text-decoration-color: #d787ff\"> gpp_coefficient_from_biogenic_flux_adju… </span>│<span style=\"color: #d787ff; text-decoration-color: #d787ff\">               </span>│\n",
       "│<span style=\"color: #008080; text-decoration-color: #008080\">                                           </span>│<span style=\"color: #d787ff; text-decoration-color: #d787ff\">          </span>│<span style=\"color: #d787ff; text-decoration-color: #d787ff\">     , high_cloud_cover , land_sea_mask , </span>│<span style=\"color: #d787ff; text-decoration-color: #d787ff\">               </span>│\n",
       "│<span style=\"color: #008080; text-decoration-color: #008080\">                                           </span>│<span style=\"color: #d787ff; text-decoration-color: #d787ff\">          </span>│<span style=\"color: #d787ff; text-decoration-color: #d787ff\">              large_scale_precipitation , </span>│<span style=\"color: #d787ff; text-decoration-color: #d787ff\">               </span>│\n",
       "│<span style=\"color: #008080; text-decoration-color: #008080\">                                           </span>│<span style=\"color: #d787ff; text-decoration-color: #d787ff\">          </span>│<span style=\"color: #d787ff; text-decoration-color: #d787ff\">          logarithm_of_surface_pressure , </span>│<span style=\"color: #d787ff; text-decoration-color: #d787ff\">               </span>│\n",
       "│<span style=\"color: #008080; text-decoration-color: #008080\">                                           </span>│<span style=\"color: #d787ff; text-decoration-color: #d787ff\">          </span>│<span style=\"color: #d787ff; text-decoration-color: #d787ff\">                        low_cloud_cover , </span>│<span style=\"color: #d787ff; text-decoration-color: #d787ff\">               </span>│\n",
       "│<span style=\"color: #008080; text-decoration-color: #008080\">                                           </span>│<span style=\"color: #d787ff; text-decoration-color: #d787ff\">          </span>│<span style=\"color: #d787ff; text-decoration-color: #d787ff\">                mean_sea_level_pressure , </span>│<span style=\"color: #d787ff; text-decoration-color: #d787ff\">               </span>│\n",
       "│<span style=\"color: #008080; text-decoration-color: #008080\">                                           </span>│<span style=\"color: #d787ff; text-decoration-color: #d787ff\">          </span>│<span style=\"color: #d787ff; text-decoration-color: #d787ff\">           medium_cloud_cover , methane , </span>│<span style=\"color: #d787ff; text-decoration-color: #d787ff\">               </span>│\n",
       "│<span style=\"color: #008080; text-decoration-color: #008080\">                                           </span>│<span style=\"color: #d787ff; text-decoration-color: #d787ff\">          </span>│<span style=\"color: #d787ff; text-decoration-color: #d787ff\"> methane_loss_rate_due_to_radical_hydrox… </span>│<span style=\"color: #d787ff; text-decoration-color: #d787ff\">               </span>│\n",
       "│<span style=\"color: #008080; text-decoration-color: #008080\">                                           </span>│<span style=\"color: #d787ff; text-decoration-color: #d787ff\">          </span>│<span style=\"color: #d787ff; text-decoration-color: #d787ff\">               , methane_surface_fluxes , </span>│<span style=\"color: #d787ff; text-decoration-color: #d787ff\">               </span>│\n",
       "│<span style=\"color: #008080; text-decoration-color: #008080\">                                           </span>│<span style=\"color: #d787ff; text-decoration-color: #d787ff\">          </span>│<span style=\"color: #d787ff; text-decoration-color: #d787ff\">           ocean_flux_of_carbon_dioxide , </span>│<span style=\"color: #d787ff; text-decoration-color: #d787ff\">               </span>│\n",
       "│<span style=\"color: #008080; text-decoration-color: #008080\">                                           </span>│<span style=\"color: #d787ff; text-decoration-color: #d787ff\">          </span>│<span style=\"color: #d787ff; text-decoration-color: #d787ff\"> photosynthetically_active_radiation_at_… </span>│<span style=\"color: #d787ff; text-decoration-color: #d787ff\">               </span>│\n",
       "│<span style=\"color: #008080; text-decoration-color: #008080\">                                           </span>│<span style=\"color: #d787ff; text-decoration-color: #d787ff\">          </span>│<span style=\"color: #d787ff; text-decoration-color: #d787ff\">                , potential_evaporation , </span>│<span style=\"color: #d787ff; text-decoration-color: #d787ff\">               </span>│\n",
       "│<span style=\"color: #008080; text-decoration-color: #008080\">                                           </span>│<span style=\"color: #d787ff; text-decoration-color: #d787ff\">          </span>│<span style=\"color: #d787ff; text-decoration-color: #d787ff\"> potential_vorticity , precipitation_type </span>│<span style=\"color: #d787ff; text-decoration-color: #d787ff\">               </span>│\n",
       "│<span style=\"color: #008080; text-decoration-color: #008080\">                                           </span>│<span style=\"color: #d787ff; text-decoration-color: #d787ff\">          </span>│<span style=\"color: #d787ff; text-decoration-color: #d787ff\">                                        , </span>│<span style=\"color: #d787ff; text-decoration-color: #d787ff\">               </span>│\n",
       "│<span style=\"color: #008080; text-decoration-color: #008080\">                                           </span>│<span style=\"color: #d787ff; text-decoration-color: #d787ff\">          </span>│<span style=\"color: #d787ff; text-decoration-color: #d787ff\"> rec_coefficient_from_biogenic_flux_adju… </span>│<span style=\"color: #d787ff; text-decoration-color: #d787ff\">               </span>│\n",
       "│<span style=\"color: #008080; text-decoration-color: #008080\">                                           </span>│<span style=\"color: #d787ff; text-decoration-color: #d787ff\">          </span>│<span style=\"color: #d787ff; text-decoration-color: #d787ff\">    , relative_humidity , sea_ice_cover , </span>│<span style=\"color: #d787ff; text-decoration-color: #d787ff\">               </span>│\n",
       "│<span style=\"color: #008080; text-decoration-color: #008080\">                                           </span>│<span style=\"color: #d787ff; text-decoration-color: #d787ff\">          </span>│<span style=\"color: #d787ff; text-decoration-color: #d787ff\">                sea_surface_temperature , </span>│<span style=\"color: #d787ff; text-decoration-color: #d787ff\">               </span>│\n",
       "│<span style=\"color: #008080; text-decoration-color: #008080\">                                           </span>│<span style=\"color: #d787ff; text-decoration-color: #d787ff\">          </span>│<span style=\"color: #d787ff; text-decoration-color: #d787ff\">                 skin_reservoir_content , </span>│<span style=\"color: #d787ff; text-decoration-color: #d787ff\">               </span>│\n",
       "│<span style=\"color: #008080; text-decoration-color: #008080\">                                           </span>│<span style=\"color: #d787ff; text-decoration-color: #d787ff\">          </span>│<span style=\"color: #d787ff; text-decoration-color: #d787ff\">         skin_temperature , snow_albedo , </span>│<span style=\"color: #d787ff; text-decoration-color: #d787ff\">               </span>│\n",
       "│<span style=\"color: #008080; text-decoration-color: #008080\">                                           </span>│<span style=\"color: #d787ff; text-decoration-color: #d787ff\">          </span>│<span style=\"color: #d787ff; text-decoration-color: #d787ff\">                             snow_depth , </span>│<span style=\"color: #d787ff; text-decoration-color: #d787ff\">               </span>│\n",
       "│<span style=\"color: #008080; text-decoration-color: #008080\">                                           </span>│<span style=\"color: #d787ff; text-decoration-color: #d787ff\">          </span>│<span style=\"color: #d787ff; text-decoration-color: #d787ff\">       specific_cloud_ice_water_content , </span>│<span style=\"color: #d787ff; text-decoration-color: #d787ff\">               </span>│\n",
       "│<span style=\"color: #008080; text-decoration-color: #008080\">                                           </span>│<span style=\"color: #d787ff; text-decoration-color: #d787ff\">          </span>│<span style=\"color: #d787ff; text-decoration-color: #d787ff\">    specific_cloud_liquid_water_content , </span>│<span style=\"color: #d787ff; text-decoration-color: #d787ff\">               </span>│\n",
       "│<span style=\"color: #008080; text-decoration-color: #008080\">                                           </span>│<span style=\"color: #d787ff; text-decoration-color: #d787ff\">          </span>│<span style=\"color: #d787ff; text-decoration-color: #d787ff\">                      specific_humidity , </span>│<span style=\"color: #d787ff; text-decoration-color: #d787ff\">               </span>│\n",
       "│<span style=\"color: #008080; text-decoration-color: #008080\">                                           </span>│<span style=\"color: #d787ff; text-decoration-color: #d787ff\">          </span>│<span style=\"color: #d787ff; text-decoration-color: #d787ff\">            specific_rain_water_content , </span>│<span style=\"color: #d787ff; text-decoration-color: #d787ff\">               </span>│\n",
       "│<span style=\"color: #008080; text-decoration-color: #008080\">                                           </span>│<span style=\"color: #d787ff; text-decoration-color: #d787ff\">          </span>│<span style=\"color: #d787ff; text-decoration-color: #d787ff\">            specific_snow_water_content , </span>│<span style=\"color: #d787ff; text-decoration-color: #d787ff\">               </span>│\n",
       "│<span style=\"color: #008080; text-decoration-color: #008080\">                                           </span>│<span style=\"color: #d787ff; text-decoration-color: #d787ff\">          </span>│<span style=\"color: #d787ff; text-decoration-color: #d787ff\"> sunshine_duration , surface_geopotential </span>│<span style=\"color: #d787ff; text-decoration-color: #d787ff\">               </span>│\n",
       "│<span style=\"color: #008080; text-decoration-color: #008080\">                                           </span>│<span style=\"color: #d787ff; text-decoration-color: #d787ff\">          </span>│<span style=\"color: #d787ff; text-decoration-color: #d787ff\">             , surface_latent_heat_flux , </span>│<span style=\"color: #d787ff; text-decoration-color: #d787ff\">               </span>│\n",
       "│<span style=\"color: #008080; text-decoration-color: #008080\">                                           </span>│<span style=\"color: #d787ff; text-decoration-color: #d787ff\">          </span>│<span style=\"color: #d787ff; text-decoration-color: #d787ff\">            surface_net_solar_radiation , </span>│<span style=\"color: #d787ff; text-decoration-color: #d787ff\">               </span>│\n",
       "│<span style=\"color: #008080; text-decoration-color: #008080\">                                           </span>│<span style=\"color: #d787ff; text-decoration-color: #d787ff\">          </span>│<span style=\"color: #d787ff; text-decoration-color: #d787ff\">  surface_net_solar_radiation_clear_sky , </span>│<span style=\"color: #d787ff; text-decoration-color: #d787ff\">               </span>│\n",
       "│<span style=\"color: #008080; text-decoration-color: #008080\">                                           </span>│<span style=\"color: #d787ff; text-decoration-color: #d787ff\">          </span>│<span style=\"color: #d787ff; text-decoration-color: #d787ff\">          surface_net_thermal_radiation , </span>│<span style=\"color: #d787ff; text-decoration-color: #d787ff\">               </span>│\n",
       "│<span style=\"color: #008080; text-decoration-color: #008080\">                                           </span>│<span style=\"color: #d787ff; text-decoration-color: #d787ff\">          </span>│<span style=\"color: #d787ff; text-decoration-color: #d787ff\">  surface_net_thermal_radiation_clear_sky </span>│<span style=\"color: #d787ff; text-decoration-color: #d787ff\">               </span>│\n",
       "│<span style=\"color: #008080; text-decoration-color: #008080\">                                           </span>│<span style=\"color: #d787ff; text-decoration-color: #d787ff\">          </span>│<span style=\"color: #d787ff; text-decoration-color: #d787ff\">           , surface_sensible_heat_flux , </span>│<span style=\"color: #d787ff; text-decoration-color: #d787ff\">               </span>│\n",
       "│<span style=\"color: #008080; text-decoration-color: #008080\">                                           </span>│<span style=\"color: #d787ff; text-decoration-color: #d787ff\">          </span>│<span style=\"color: #d787ff; text-decoration-color: #d787ff\"> surface_solar_radiation_downward_clear_… </span>│<span style=\"color: #d787ff; text-decoration-color: #d787ff\">               </span>│\n",
       "│<span style=\"color: #008080; text-decoration-color: #008080\">                                           </span>│<span style=\"color: #d787ff; text-decoration-color: #d787ff\">          </span>│<span style=\"color: #d787ff; text-decoration-color: #d787ff\">    , surface_solar_radiation_downwards , </span>│<span style=\"color: #d787ff; text-decoration-color: #d787ff\">               </span>│\n",
       "│<span style=\"color: #008080; text-decoration-color: #008080\">                                           </span>│<span style=\"color: #d787ff; text-decoration-color: #d787ff\">          </span>│<span style=\"color: #d787ff; text-decoration-color: #d787ff\"> surface_thermal_radiation_downward_clea… </span>│<span style=\"color: #d787ff; text-decoration-color: #d787ff\">               </span>│\n",
       "│<span style=\"color: #008080; text-decoration-color: #008080\">                                           </span>│<span style=\"color: #d787ff; text-decoration-color: #d787ff\">          </span>│<span style=\"color: #d787ff; text-decoration-color: #d787ff\">  , surface_thermal_radiation_downwards , </span>│<span style=\"color: #d787ff; text-decoration-color: #d787ff\">               </span>│\n",
       "│<span style=\"color: #008080; text-decoration-color: #008080\">                                           </span>│<span style=\"color: #d787ff; text-decoration-color: #d787ff\">          </span>│<span style=\"color: #d787ff; text-decoration-color: #d787ff\">                            temperature , </span>│<span style=\"color: #d787ff; text-decoration-color: #d787ff\">               </span>│\n",
       "│<span style=\"color: #008080; text-decoration-color: #008080\">                                           </span>│<span style=\"color: #d787ff; text-decoration-color: #d787ff\">          </span>│<span style=\"color: #d787ff; text-decoration-color: #d787ff\">           toa_incident_solar_radiation , </span>│<span style=\"color: #d787ff; text-decoration-color: #d787ff\">               </span>│\n",
       "│<span style=\"color: #008080; text-decoration-color: #008080\">                                           </span>│<span style=\"color: #d787ff; text-decoration-color: #d787ff\">          </span>│<span style=\"color: #d787ff; text-decoration-color: #d787ff\">                top_net_solar_radiation , </span>│<span style=\"color: #d787ff; text-decoration-color: #d787ff\">               </span>│\n",
       "│<span style=\"color: #008080; text-decoration-color: #008080\">                                           </span>│<span style=\"color: #d787ff; text-decoration-color: #d787ff\">          </span>│<span style=\"color: #d787ff; text-decoration-color: #d787ff\">      top_net_solar_radiation_clear_sky , </span>│<span style=\"color: #d787ff; text-decoration-color: #d787ff\">               </span>│\n",
       "│<span style=\"color: #008080; text-decoration-color: #008080\">                                           </span>│<span style=\"color: #d787ff; text-decoration-color: #d787ff\">          </span>│<span style=\"color: #d787ff; text-decoration-color: #d787ff\">              top_net_thermal_radiation , </span>│<span style=\"color: #d787ff; text-decoration-color: #d787ff\">               </span>│\n",
       "│<span style=\"color: #008080; text-decoration-color: #008080\">                                           </span>│<span style=\"color: #d787ff; text-decoration-color: #d787ff\">          </span>│<span style=\"color: #d787ff; text-decoration-color: #d787ff\">    top_net_thermal_radiation_clear_sky , </span>│<span style=\"color: #d787ff; text-decoration-color: #d787ff\">               </span>│\n",
       "│<span style=\"color: #008080; text-decoration-color: #008080\">                                           </span>│<span style=\"color: #d787ff; text-decoration-color: #d787ff\">          </span>│<span style=\"color: #d787ff; text-decoration-color: #d787ff\">                      total_cloud_cover , </span>│<span style=\"color: #d787ff; text-decoration-color: #d787ff\">               </span>│\n",
       "│<span style=\"color: #008080; text-decoration-color: #008080\">                                           </span>│<span style=\"color: #d787ff; text-decoration-color: #d787ff\">          </span>│<span style=\"color: #d787ff; text-decoration-color: #d787ff\">           total_column_cloud_ice_water , </span>│<span style=\"color: #d787ff; text-decoration-color: #d787ff\">               </span>│\n",
       "│<span style=\"color: #008080; text-decoration-color: #008080\">                                           </span>│<span style=\"color: #d787ff; text-decoration-color: #d787ff\">          </span>│<span style=\"color: #d787ff; text-decoration-color: #d787ff\">        total_column_cloud_liquid_water , </span>│<span style=\"color: #d787ff; text-decoration-color: #d787ff\">               </span>│\n",
       "│<span style=\"color: #008080; text-decoration-color: #008080\">                                           </span>│<span style=\"color: #d787ff; text-decoration-color: #d787ff\">          </span>│<span style=\"color: #d787ff; text-decoration-color: #d787ff\">                     total_column_water , </span>│<span style=\"color: #d787ff; text-decoration-color: #d787ff\">               </span>│\n",
       "│<span style=\"color: #008080; text-decoration-color: #008080\">                                           </span>│<span style=\"color: #d787ff; text-decoration-color: #d787ff\">          </span>│<span style=\"color: #d787ff; text-decoration-color: #d787ff\">              total_column_water_vapour , </span>│<span style=\"color: #d787ff; text-decoration-color: #d787ff\">               </span>│\n",
       "│<span style=\"color: #008080; text-decoration-color: #008080\">                                           </span>│<span style=\"color: #d787ff; text-decoration-color: #d787ff\">          </span>│<span style=\"color: #d787ff; text-decoration-color: #d787ff\">                    total_precipitation , </span>│<span style=\"color: #d787ff; text-decoration-color: #d787ff\">               </span>│\n",
       "│<span style=\"color: #008080; text-decoration-color: #008080\">                                           </span>│<span style=\"color: #d787ff; text-decoration-color: #d787ff\">          </span>│<span style=\"color: #d787ff; text-decoration-color: #d787ff\">                    u_component_of_wind , </span>│<span style=\"color: #d787ff; text-decoration-color: #d787ff\">               </span>│\n",
       "│<span style=\"color: #008080; text-decoration-color: #008080\">                                           </span>│<span style=\"color: #d787ff; text-decoration-color: #d787ff\">          </span>│<span style=\"color: #d787ff; text-decoration-color: #d787ff\">  v_component_of_wind , vertical_velocity </span>│<span style=\"color: #d787ff; text-decoration-color: #d787ff\">               </span>│\n",
       "│<span style=\"color: #008080; text-decoration-color: #008080\">                                           </span>│<span style=\"color: #d787ff; text-decoration-color: #d787ff\">          </span>│<span style=\"color: #d787ff; text-decoration-color: #d787ff\">                           , visibility , </span>│<span style=\"color: #d787ff; text-decoration-color: #d787ff\">               </span>│\n",
       "│<span style=\"color: #008080; text-decoration-color: #008080\">                                           </span>│<span style=\"color: #d787ff; text-decoration-color: #d787ff\">          </span>│<span style=\"color: #d787ff; text-decoration-color: #d787ff\">        wildfire_flux_of_carbon_dioxide , </span>│<span style=\"color: #d787ff; text-decoration-color: #d787ff\">               </span>│\n",
       "│<span style=\"color: #008080; text-decoration-color: #008080\">                                           </span>│<span style=\"color: #d787ff; text-decoration-color: #d787ff\">          </span>│<span style=\"color: #d787ff; text-decoration-color: #d787ff\">                 wildfire_flux_of_methane </span>│<span style=\"color: #d787ff; text-decoration-color: #d787ff\">               </span>│\n",
       "├───────────────────────────────────────────┼──────────┼──────────────────────────────────────────┼───────────────┤\n",
       "│<span style=\"color: #008080; text-decoration-color: #008080\">                                      step </span>│<span style=\"color: #d787ff; text-decoration-color: #d787ff\"> \"string\" </span>│<span style=\"color: #d787ff; text-decoration-color: #d787ff\">        0 , 12 , 15 , 18 , 21 , 3 , 6 , 9 </span>│<span style=\"color: #d787ff; text-decoration-color: #d787ff\">           \"0\" </span>│\n",
       "└───────────────────────────────────────────┴──────────┴──────────────────────────────────────────┴───────────────┘\n",
       "</pre>\n"
      ],
      "text/plain": [
       "\u001b[3m                                                Applicable filters                                                 \u001b[0m\n",
       "┏━━━━━━━━━━━━━━━━━━━━━━━━━━━━━━━━━━━━━━━━━━━┳━━━━━━━━━━┳━━━━━━━━━━━━━━━━━━━━━━━━━━━━━━━━━━━━━━━━━━┳━━━━━━━━━━━━━━━┓\n",
       "┃\u001b[1m \u001b[0m\u001b[1m                              Description\u001b[0m\u001b[1m \u001b[0m┃\u001b[1m \u001b[0m\u001b[1m    Type\u001b[0m\u001b[1m \u001b[0m┃\u001b[1m \u001b[0m\u001b[1m                                    enum\u001b[0m\u001b[1m \u001b[0m┃\u001b[1m \u001b[0m\u001b[1m        value\u001b[0m\u001b[1m \u001b[0m┃\n",
       "┡━━━━━━━━━━━━━━━━━━━━━━━━━━━━━━━━━━━━━━━━━━━╇━━━━━━━━━━╇━━━━━━━━━━━━━━━━━━━━━━━━━━━━━━━━━━━━━━━━━━╇━━━━━━━━━━━━━━━┩\n",
       "│\u001b[36m \u001b[0m\u001b[36m                                       ID\u001b[0m\u001b[36m \u001b[0m│\u001b[38;5;177m \u001b[0m\u001b[38;5;177m        \u001b[0m\u001b[38;5;177m \u001b[0m│\u001b[38;5;177m \u001b[0m\u001b[38;5;177m                                        \u001b[0m\u001b[38;5;177m \u001b[0m│\u001b[38;5;177m \u001b[0m\u001b[38;5;177m             \u001b[0m\u001b[38;5;177m \u001b[0m│\n",
       "├───────────────────────────────────────────┼──────────┼──────────────────────────────────────────┼───────────────┤\n",
       "│\u001b[36m \u001b[0m\u001b[36m                                 Geometry\u001b[0m\u001b[36m \u001b[0m│\u001b[38;5;177m \u001b[0m\u001b[38;5;177m        \u001b[0m\u001b[38;5;177m \u001b[0m│\u001b[38;5;177m \u001b[0m\u001b[38;5;177m                                        \u001b[0m\u001b[38;5;177m \u001b[0m│\u001b[38;5;177m \u001b[0m\u001b[38;5;177m             \u001b[0m\u001b[38;5;177m \u001b[0m│\n",
       "├───────────────────────────────────────────┼──────────┼──────────────────────────────────────────┼───────────────┤\n",
       "│\u001b[36m \u001b[0m\u001b[36m   Datetime - use parameters year, month,\u001b[0m\u001b[36m \u001b[0m│\u001b[38;5;177m \u001b[0m\u001b[38;5;177m        \u001b[0m\u001b[38;5;177m \u001b[0m│\u001b[38;5;177m \u001b[0m\u001b[38;5;177m                                        \u001b[0m\u001b[38;5;177m \u001b[0m│\u001b[38;5;177m \u001b[0m\u001b[38;5;177m             \u001b[0m\u001b[38;5;177m \u001b[0m│\n",
       "│\u001b[36m \u001b[0m\u001b[36m           day, time instead if available\u001b[0m\u001b[36m \u001b[0m│\u001b[38;5;177m          \u001b[0m│\u001b[38;5;177m                                          \u001b[0m│\u001b[38;5;177m               \u001b[0m│\n",
       "├───────────────────────────────────────────┼──────────┼──────────────────────────────────────────┼───────────────┤\n",
       "│\u001b[36m \u001b[0m\u001b[36m                                     BBox\u001b[0m\u001b[36m \u001b[0m│\u001b[38;5;177m \u001b[0m\u001b[38;5;177m \"array\"\u001b[0m\u001b[38;5;177m \u001b[0m│\u001b[38;5;177m \u001b[0m\u001b[38;5;177m                                        \u001b[0m\u001b[38;5;177m \u001b[0m│\u001b[38;5;177m \u001b[0m\u001b[38;5;177m             \u001b[0m\u001b[38;5;177m \u001b[0m│\n",
       "├───────────────────────────────────────────┼──────────┼──────────────────────────────────────────┼───────────────┤\n",
       "│\u001b[36m \u001b[0m\u001b[36m                                   format\u001b[0m\u001b[36m \u001b[0m│\u001b[38;5;177m \u001b[0m\u001b[38;5;177m\"string\"\u001b[0m\u001b[38;5;177m \u001b[0m│\u001b[38;5;177m \u001b[0m\u001b[38;5;177m                                        \u001b[0m\u001b[38;5;177m \u001b[0m│\u001b[38;5;177m \u001b[0m\u001b[38;5;177m       \"grib\"\u001b[0m\u001b[38;5;177m \u001b[0m│\n",
       "├───────────────────────────────────────────┼──────────┼──────────────────────────────────────────┼───────────────┤\n",
       "│\u001b[36m \u001b[0m\u001b[36m                                 variable\u001b[0m\u001b[36m \u001b[0m│\u001b[38;5;177m \u001b[0m\u001b[38;5;177m\"string\"\u001b[0m\u001b[38;5;177m \u001b[0m│\u001b[38;5;177m \u001b[0m\u001b[38;5;177m               10m_u_component_of_wind ,\u001b[0m\u001b[38;5;177m \u001b[0m│\u001b[38;5;177m \u001b[0m\u001b[38;5;177m\"snow_albedo\"\u001b[0m\u001b[38;5;177m \u001b[0m│\n",
       "│\u001b[36m                                           \u001b[0m│\u001b[38;5;177m          \u001b[0m│\u001b[38;5;177m \u001b[0m\u001b[38;5;177m               10m_v_component_of_wind ,\u001b[0m\u001b[38;5;177m \u001b[0m│\u001b[38;5;177m               \u001b[0m│\n",
       "│\u001b[36m                                           \u001b[0m│\u001b[38;5;177m          \u001b[0m│\u001b[38;5;177m \u001b[0m\u001b[38;5;177m2m_dewpoint_temperature , 2m_temperature\u001b[0m\u001b[38;5;177m \u001b[0m│\u001b[38;5;177m               \u001b[0m│\n",
       "│\u001b[36m                                           \u001b[0m│\u001b[38;5;177m          \u001b[0m│\u001b[38;5;177m \u001b[0m\u001b[38;5;177m                                       ,\u001b[0m\u001b[38;5;177m \u001b[0m│\u001b[38;5;177m               \u001b[0m│\n",
       "│\u001b[36m                                           \u001b[0m│\u001b[38;5;177m          \u001b[0m│\u001b[38;5;177m \u001b[0m\u001b[38;5;177maccumulated_carbon_dioxide_ecosystem_re…\u001b[0m\u001b[38;5;177m \u001b[0m│\u001b[38;5;177m               \u001b[0m│\n",
       "│\u001b[36m                                           \u001b[0m│\u001b[38;5;177m          \u001b[0m│\u001b[38;5;177m \u001b[0m\u001b[38;5;177m                                       ,\u001b[0m\u001b[38;5;177m \u001b[0m│\u001b[38;5;177m               \u001b[0m│\n",
       "│\u001b[36m                                           \u001b[0m│\u001b[38;5;177m          \u001b[0m│\u001b[38;5;177m \u001b[0m\u001b[38;5;177maccumulated_carbon_dioxide_gross_primar…\u001b[0m\u001b[38;5;177m \u001b[0m│\u001b[38;5;177m               \u001b[0m│\n",
       "│\u001b[36m                                           \u001b[0m│\u001b[38;5;177m          \u001b[0m│\u001b[38;5;177m \u001b[0m\u001b[38;5;177m                                       ,\u001b[0m\u001b[38;5;177m \u001b[0m│\u001b[38;5;177m               \u001b[0m│\n",
       "│\u001b[36m                                           \u001b[0m│\u001b[38;5;177m          \u001b[0m│\u001b[38;5;177m \u001b[0m\u001b[38;5;177maccumulated_carbon_dioxide_net_ecosyste…\u001b[0m\u001b[38;5;177m \u001b[0m│\u001b[38;5;177m               \u001b[0m│\n",
       "│\u001b[36m                                           \u001b[0m│\u001b[38;5;177m          \u001b[0m│\u001b[38;5;177m \u001b[0m\u001b[38;5;177m                                       ,\u001b[0m\u001b[38;5;177m \u001b[0m│\u001b[38;5;177m               \u001b[0m│\n",
       "│\u001b[36m                                           \u001b[0m│\u001b[38;5;177m          \u001b[0m│\u001b[38;5;177m \u001b[0m\u001b[38;5;177manthropogenic_emissions_of_carbon_dioxi…\u001b[0m\u001b[38;5;177m \u001b[0m│\u001b[38;5;177m               \u001b[0m│\n",
       "│\u001b[36m                                           \u001b[0m│\u001b[38;5;177m          \u001b[0m│\u001b[38;5;177m \u001b[0m\u001b[38;5;177m, boundary_layer_height , carbon_dioxide\u001b[0m\u001b[38;5;177m \u001b[0m│\u001b[38;5;177m               \u001b[0m│\n",
       "│\u001b[36m                                           \u001b[0m│\u001b[38;5;177m          \u001b[0m│\u001b[38;5;177m \u001b[0m\u001b[38;5;177m      , ch4_column_mean_molar_fraction ,\u001b[0m\u001b[38;5;177m \u001b[0m│\u001b[38;5;177m               \u001b[0m│\n",
       "│\u001b[36m                                           \u001b[0m│\u001b[38;5;177m          \u001b[0m│\u001b[38;5;177m \u001b[0m\u001b[38;5;177m        co2_column_mean_molar_fraction ,\u001b[0m\u001b[38;5;177m \u001b[0m│\u001b[38;5;177m               \u001b[0m│\n",
       "│\u001b[36m                                           \u001b[0m│\u001b[38;5;177m          \u001b[0m│\u001b[38;5;177m \u001b[0m\u001b[38;5;177m convective_available_potential_energy ,\u001b[0m\u001b[38;5;177m \u001b[0m│\u001b[38;5;177m               \u001b[0m│\n",
       "│\u001b[36m                                           \u001b[0m│\u001b[38;5;177m          \u001b[0m│\u001b[38;5;177m \u001b[0m\u001b[38;5;177m                 convective_inhibition ,\u001b[0m\u001b[38;5;177m \u001b[0m│\u001b[38;5;177m               \u001b[0m│\n",
       "│\u001b[36m                                           \u001b[0m│\u001b[38;5;177m          \u001b[0m│\u001b[38;5;177m \u001b[0m\u001b[38;5;177m              convective_precipitation ,\u001b[0m\u001b[38;5;177m \u001b[0m│\u001b[38;5;177m               \u001b[0m│\n",
       "│\u001b[36m                                           \u001b[0m│\u001b[38;5;177m          \u001b[0m│\u001b[38;5;177m \u001b[0m\u001b[38;5;177m  downward_uv_radiation_at_the_surface ,\u001b[0m\u001b[38;5;177m \u001b[0m│\u001b[38;5;177m               \u001b[0m│\n",
       "│\u001b[36m                                           \u001b[0m│\u001b[38;5;177m          \u001b[0m│\u001b[38;5;177m \u001b[0m\u001b[38;5;177m                           evaporation ,\u001b[0m\u001b[38;5;177m \u001b[0m│\u001b[38;5;177m               \u001b[0m│\n",
       "│\u001b[36m                                           \u001b[0m│\u001b[38;5;177m          \u001b[0m│\u001b[38;5;177m \u001b[0m\u001b[38;5;177mflux_of_carbon_dioxide_ecosystem_respir…\u001b[0m\u001b[38;5;177m \u001b[0m│\u001b[38;5;177m               \u001b[0m│\n",
       "│\u001b[36m                                           \u001b[0m│\u001b[38;5;177m          \u001b[0m│\u001b[38;5;177m \u001b[0m\u001b[38;5;177m                                       ,\u001b[0m\u001b[38;5;177m \u001b[0m│\u001b[38;5;177m               \u001b[0m│\n",
       "│\u001b[36m                                           \u001b[0m│\u001b[38;5;177m          \u001b[0m│\u001b[38;5;177m \u001b[0m\u001b[38;5;177mflux_of_carbon_dioxide_gross_primary_pr…\u001b[0m\u001b[38;5;177m \u001b[0m│\u001b[38;5;177m               \u001b[0m│\n",
       "│\u001b[36m                                           \u001b[0m│\u001b[38;5;177m          \u001b[0m│\u001b[38;5;177m \u001b[0m\u001b[38;5;177m                                       ,\u001b[0m\u001b[38;5;177m \u001b[0m│\u001b[38;5;177m               \u001b[0m│\n",
       "│\u001b[36m                                           \u001b[0m│\u001b[38;5;177m          \u001b[0m│\u001b[38;5;177m \u001b[0m\u001b[38;5;177mflux_of_carbon_dioxide_net_ecosystem_ex…\u001b[0m\u001b[38;5;177m \u001b[0m│\u001b[38;5;177m               \u001b[0m│\n",
       "│\u001b[36m                                           \u001b[0m│\u001b[38;5;177m          \u001b[0m│\u001b[38;5;177m \u001b[0m\u001b[38;5;177m                     , forecast_albedo ,\u001b[0m\u001b[38;5;177m \u001b[0m│\u001b[38;5;177m               \u001b[0m│\n",
       "│\u001b[36m                                           \u001b[0m│\u001b[38;5;177m          \u001b[0m│\u001b[38;5;177m \u001b[0m\u001b[38;5;177mfraction_of_cloud_cover , geopotential ,\u001b[0m\u001b[38;5;177m \u001b[0m│\u001b[38;5;177m               \u001b[0m│\n",
       "│\u001b[36m                                           \u001b[0m│\u001b[38;5;177m          \u001b[0m│\u001b[38;5;177m \u001b[0m\u001b[38;5;177mgpp_coefficient_from_biogenic_flux_adju…\u001b[0m\u001b[38;5;177m \u001b[0m│\u001b[38;5;177m               \u001b[0m│\n",
       "│\u001b[36m                                           \u001b[0m│\u001b[38;5;177m          \u001b[0m│\u001b[38;5;177m \u001b[0m\u001b[38;5;177m    , high_cloud_cover , land_sea_mask ,\u001b[0m\u001b[38;5;177m \u001b[0m│\u001b[38;5;177m               \u001b[0m│\n",
       "│\u001b[36m                                           \u001b[0m│\u001b[38;5;177m          \u001b[0m│\u001b[38;5;177m \u001b[0m\u001b[38;5;177m             large_scale_precipitation ,\u001b[0m\u001b[38;5;177m \u001b[0m│\u001b[38;5;177m               \u001b[0m│\n",
       "│\u001b[36m                                           \u001b[0m│\u001b[38;5;177m          \u001b[0m│\u001b[38;5;177m \u001b[0m\u001b[38;5;177m         logarithm_of_surface_pressure ,\u001b[0m\u001b[38;5;177m \u001b[0m│\u001b[38;5;177m               \u001b[0m│\n",
       "│\u001b[36m                                           \u001b[0m│\u001b[38;5;177m          \u001b[0m│\u001b[38;5;177m \u001b[0m\u001b[38;5;177m                       low_cloud_cover ,\u001b[0m\u001b[38;5;177m \u001b[0m│\u001b[38;5;177m               \u001b[0m│\n",
       "│\u001b[36m                                           \u001b[0m│\u001b[38;5;177m          \u001b[0m│\u001b[38;5;177m \u001b[0m\u001b[38;5;177m               mean_sea_level_pressure ,\u001b[0m\u001b[38;5;177m \u001b[0m│\u001b[38;5;177m               \u001b[0m│\n",
       "│\u001b[36m                                           \u001b[0m│\u001b[38;5;177m          \u001b[0m│\u001b[38;5;177m \u001b[0m\u001b[38;5;177m          medium_cloud_cover , methane ,\u001b[0m\u001b[38;5;177m \u001b[0m│\u001b[38;5;177m               \u001b[0m│\n",
       "│\u001b[36m                                           \u001b[0m│\u001b[38;5;177m          \u001b[0m│\u001b[38;5;177m \u001b[0m\u001b[38;5;177mmethane_loss_rate_due_to_radical_hydrox…\u001b[0m\u001b[38;5;177m \u001b[0m│\u001b[38;5;177m               \u001b[0m│\n",
       "│\u001b[36m                                           \u001b[0m│\u001b[38;5;177m          \u001b[0m│\u001b[38;5;177m \u001b[0m\u001b[38;5;177m              , methane_surface_fluxes ,\u001b[0m\u001b[38;5;177m \u001b[0m│\u001b[38;5;177m               \u001b[0m│\n",
       "│\u001b[36m                                           \u001b[0m│\u001b[38;5;177m          \u001b[0m│\u001b[38;5;177m \u001b[0m\u001b[38;5;177m          ocean_flux_of_carbon_dioxide ,\u001b[0m\u001b[38;5;177m \u001b[0m│\u001b[38;5;177m               \u001b[0m│\n",
       "│\u001b[36m                                           \u001b[0m│\u001b[38;5;177m          \u001b[0m│\u001b[38;5;177m \u001b[0m\u001b[38;5;177mphotosynthetically_active_radiation_at_…\u001b[0m\u001b[38;5;177m \u001b[0m│\u001b[38;5;177m               \u001b[0m│\n",
       "│\u001b[36m                                           \u001b[0m│\u001b[38;5;177m          \u001b[0m│\u001b[38;5;177m \u001b[0m\u001b[38;5;177m               , potential_evaporation ,\u001b[0m\u001b[38;5;177m \u001b[0m│\u001b[38;5;177m               \u001b[0m│\n",
       "│\u001b[36m                                           \u001b[0m│\u001b[38;5;177m          \u001b[0m│\u001b[38;5;177m \u001b[0m\u001b[38;5;177mpotential_vorticity , precipitation_type\u001b[0m\u001b[38;5;177m \u001b[0m│\u001b[38;5;177m               \u001b[0m│\n",
       "│\u001b[36m                                           \u001b[0m│\u001b[38;5;177m          \u001b[0m│\u001b[38;5;177m \u001b[0m\u001b[38;5;177m                                       ,\u001b[0m\u001b[38;5;177m \u001b[0m│\u001b[38;5;177m               \u001b[0m│\n",
       "│\u001b[36m                                           \u001b[0m│\u001b[38;5;177m          \u001b[0m│\u001b[38;5;177m \u001b[0m\u001b[38;5;177mrec_coefficient_from_biogenic_flux_adju…\u001b[0m\u001b[38;5;177m \u001b[0m│\u001b[38;5;177m               \u001b[0m│\n",
       "│\u001b[36m                                           \u001b[0m│\u001b[38;5;177m          \u001b[0m│\u001b[38;5;177m \u001b[0m\u001b[38;5;177m   , relative_humidity , sea_ice_cover ,\u001b[0m\u001b[38;5;177m \u001b[0m│\u001b[38;5;177m               \u001b[0m│\n",
       "│\u001b[36m                                           \u001b[0m│\u001b[38;5;177m          \u001b[0m│\u001b[38;5;177m \u001b[0m\u001b[38;5;177m               sea_surface_temperature ,\u001b[0m\u001b[38;5;177m \u001b[0m│\u001b[38;5;177m               \u001b[0m│\n",
       "│\u001b[36m                                           \u001b[0m│\u001b[38;5;177m          \u001b[0m│\u001b[38;5;177m \u001b[0m\u001b[38;5;177m                skin_reservoir_content ,\u001b[0m\u001b[38;5;177m \u001b[0m│\u001b[38;5;177m               \u001b[0m│\n",
       "│\u001b[36m                                           \u001b[0m│\u001b[38;5;177m          \u001b[0m│\u001b[38;5;177m \u001b[0m\u001b[38;5;177m        skin_temperature , snow_albedo ,\u001b[0m\u001b[38;5;177m \u001b[0m│\u001b[38;5;177m               \u001b[0m│\n",
       "│\u001b[36m                                           \u001b[0m│\u001b[38;5;177m          \u001b[0m│\u001b[38;5;177m \u001b[0m\u001b[38;5;177m                            snow_depth ,\u001b[0m\u001b[38;5;177m \u001b[0m│\u001b[38;5;177m               \u001b[0m│\n",
       "│\u001b[36m                                           \u001b[0m│\u001b[38;5;177m          \u001b[0m│\u001b[38;5;177m \u001b[0m\u001b[38;5;177m      specific_cloud_ice_water_content ,\u001b[0m\u001b[38;5;177m \u001b[0m│\u001b[38;5;177m               \u001b[0m│\n",
       "│\u001b[36m                                           \u001b[0m│\u001b[38;5;177m          \u001b[0m│\u001b[38;5;177m \u001b[0m\u001b[38;5;177m   specific_cloud_liquid_water_content ,\u001b[0m\u001b[38;5;177m \u001b[0m│\u001b[38;5;177m               \u001b[0m│\n",
       "│\u001b[36m                                           \u001b[0m│\u001b[38;5;177m          \u001b[0m│\u001b[38;5;177m \u001b[0m\u001b[38;5;177m                     specific_humidity ,\u001b[0m\u001b[38;5;177m \u001b[0m│\u001b[38;5;177m               \u001b[0m│\n",
       "│\u001b[36m                                           \u001b[0m│\u001b[38;5;177m          \u001b[0m│\u001b[38;5;177m \u001b[0m\u001b[38;5;177m           specific_rain_water_content ,\u001b[0m\u001b[38;5;177m \u001b[0m│\u001b[38;5;177m               \u001b[0m│\n",
       "│\u001b[36m                                           \u001b[0m│\u001b[38;5;177m          \u001b[0m│\u001b[38;5;177m \u001b[0m\u001b[38;5;177m           specific_snow_water_content ,\u001b[0m\u001b[38;5;177m \u001b[0m│\u001b[38;5;177m               \u001b[0m│\n",
       "│\u001b[36m                                           \u001b[0m│\u001b[38;5;177m          \u001b[0m│\u001b[38;5;177m \u001b[0m\u001b[38;5;177msunshine_duration , surface_geopotential\u001b[0m\u001b[38;5;177m \u001b[0m│\u001b[38;5;177m               \u001b[0m│\n",
       "│\u001b[36m                                           \u001b[0m│\u001b[38;5;177m          \u001b[0m│\u001b[38;5;177m \u001b[0m\u001b[38;5;177m            , surface_latent_heat_flux ,\u001b[0m\u001b[38;5;177m \u001b[0m│\u001b[38;5;177m               \u001b[0m│\n",
       "│\u001b[36m                                           \u001b[0m│\u001b[38;5;177m          \u001b[0m│\u001b[38;5;177m \u001b[0m\u001b[38;5;177m           surface_net_solar_radiation ,\u001b[0m\u001b[38;5;177m \u001b[0m│\u001b[38;5;177m               \u001b[0m│\n",
       "│\u001b[36m                                           \u001b[0m│\u001b[38;5;177m          \u001b[0m│\u001b[38;5;177m \u001b[0m\u001b[38;5;177m surface_net_solar_radiation_clear_sky ,\u001b[0m\u001b[38;5;177m \u001b[0m│\u001b[38;5;177m               \u001b[0m│\n",
       "│\u001b[36m                                           \u001b[0m│\u001b[38;5;177m          \u001b[0m│\u001b[38;5;177m \u001b[0m\u001b[38;5;177m         surface_net_thermal_radiation ,\u001b[0m\u001b[38;5;177m \u001b[0m│\u001b[38;5;177m               \u001b[0m│\n",
       "│\u001b[36m                                           \u001b[0m│\u001b[38;5;177m          \u001b[0m│\u001b[38;5;177m \u001b[0m\u001b[38;5;177m surface_net_thermal_radiation_clear_sky\u001b[0m\u001b[38;5;177m \u001b[0m│\u001b[38;5;177m               \u001b[0m│\n",
       "│\u001b[36m                                           \u001b[0m│\u001b[38;5;177m          \u001b[0m│\u001b[38;5;177m \u001b[0m\u001b[38;5;177m          , surface_sensible_heat_flux ,\u001b[0m\u001b[38;5;177m \u001b[0m│\u001b[38;5;177m               \u001b[0m│\n",
       "│\u001b[36m                                           \u001b[0m│\u001b[38;5;177m          \u001b[0m│\u001b[38;5;177m \u001b[0m\u001b[38;5;177msurface_solar_radiation_downward_clear_…\u001b[0m\u001b[38;5;177m \u001b[0m│\u001b[38;5;177m               \u001b[0m│\n",
       "│\u001b[36m                                           \u001b[0m│\u001b[38;5;177m          \u001b[0m│\u001b[38;5;177m \u001b[0m\u001b[38;5;177m   , surface_solar_radiation_downwards ,\u001b[0m\u001b[38;5;177m \u001b[0m│\u001b[38;5;177m               \u001b[0m│\n",
       "│\u001b[36m                                           \u001b[0m│\u001b[38;5;177m          \u001b[0m│\u001b[38;5;177m \u001b[0m\u001b[38;5;177msurface_thermal_radiation_downward_clea…\u001b[0m\u001b[38;5;177m \u001b[0m│\u001b[38;5;177m               \u001b[0m│\n",
       "│\u001b[36m                                           \u001b[0m│\u001b[38;5;177m          \u001b[0m│\u001b[38;5;177m \u001b[0m\u001b[38;5;177m , surface_thermal_radiation_downwards ,\u001b[0m\u001b[38;5;177m \u001b[0m│\u001b[38;5;177m               \u001b[0m│\n",
       "│\u001b[36m                                           \u001b[0m│\u001b[38;5;177m          \u001b[0m│\u001b[38;5;177m \u001b[0m\u001b[38;5;177m                           temperature ,\u001b[0m\u001b[38;5;177m \u001b[0m│\u001b[38;5;177m               \u001b[0m│\n",
       "│\u001b[36m                                           \u001b[0m│\u001b[38;5;177m          \u001b[0m│\u001b[38;5;177m \u001b[0m\u001b[38;5;177m          toa_incident_solar_radiation ,\u001b[0m\u001b[38;5;177m \u001b[0m│\u001b[38;5;177m               \u001b[0m│\n",
       "│\u001b[36m                                           \u001b[0m│\u001b[38;5;177m          \u001b[0m│\u001b[38;5;177m \u001b[0m\u001b[38;5;177m               top_net_solar_radiation ,\u001b[0m\u001b[38;5;177m \u001b[0m│\u001b[38;5;177m               \u001b[0m│\n",
       "│\u001b[36m                                           \u001b[0m│\u001b[38;5;177m          \u001b[0m│\u001b[38;5;177m \u001b[0m\u001b[38;5;177m     top_net_solar_radiation_clear_sky ,\u001b[0m\u001b[38;5;177m \u001b[0m│\u001b[38;5;177m               \u001b[0m│\n",
       "│\u001b[36m                                           \u001b[0m│\u001b[38;5;177m          \u001b[0m│\u001b[38;5;177m \u001b[0m\u001b[38;5;177m             top_net_thermal_radiation ,\u001b[0m\u001b[38;5;177m \u001b[0m│\u001b[38;5;177m               \u001b[0m│\n",
       "│\u001b[36m                                           \u001b[0m│\u001b[38;5;177m          \u001b[0m│\u001b[38;5;177m \u001b[0m\u001b[38;5;177m   top_net_thermal_radiation_clear_sky ,\u001b[0m\u001b[38;5;177m \u001b[0m│\u001b[38;5;177m               \u001b[0m│\n",
       "│\u001b[36m                                           \u001b[0m│\u001b[38;5;177m          \u001b[0m│\u001b[38;5;177m \u001b[0m\u001b[38;5;177m                     total_cloud_cover ,\u001b[0m\u001b[38;5;177m \u001b[0m│\u001b[38;5;177m               \u001b[0m│\n",
       "│\u001b[36m                                           \u001b[0m│\u001b[38;5;177m          \u001b[0m│\u001b[38;5;177m \u001b[0m\u001b[38;5;177m          total_column_cloud_ice_water ,\u001b[0m\u001b[38;5;177m \u001b[0m│\u001b[38;5;177m               \u001b[0m│\n",
       "│\u001b[36m                                           \u001b[0m│\u001b[38;5;177m          \u001b[0m│\u001b[38;5;177m \u001b[0m\u001b[38;5;177m       total_column_cloud_liquid_water ,\u001b[0m\u001b[38;5;177m \u001b[0m│\u001b[38;5;177m               \u001b[0m│\n",
       "│\u001b[36m                                           \u001b[0m│\u001b[38;5;177m          \u001b[0m│\u001b[38;5;177m \u001b[0m\u001b[38;5;177m                    total_column_water ,\u001b[0m\u001b[38;5;177m \u001b[0m│\u001b[38;5;177m               \u001b[0m│\n",
       "│\u001b[36m                                           \u001b[0m│\u001b[38;5;177m          \u001b[0m│\u001b[38;5;177m \u001b[0m\u001b[38;5;177m             total_column_water_vapour ,\u001b[0m\u001b[38;5;177m \u001b[0m│\u001b[38;5;177m               \u001b[0m│\n",
       "│\u001b[36m                                           \u001b[0m│\u001b[38;5;177m          \u001b[0m│\u001b[38;5;177m \u001b[0m\u001b[38;5;177m                   total_precipitation ,\u001b[0m\u001b[38;5;177m \u001b[0m│\u001b[38;5;177m               \u001b[0m│\n",
       "│\u001b[36m                                           \u001b[0m│\u001b[38;5;177m          \u001b[0m│\u001b[38;5;177m \u001b[0m\u001b[38;5;177m                   u_component_of_wind ,\u001b[0m\u001b[38;5;177m \u001b[0m│\u001b[38;5;177m               \u001b[0m│\n",
       "│\u001b[36m                                           \u001b[0m│\u001b[38;5;177m          \u001b[0m│\u001b[38;5;177m \u001b[0m\u001b[38;5;177m v_component_of_wind , vertical_velocity\u001b[0m\u001b[38;5;177m \u001b[0m│\u001b[38;5;177m               \u001b[0m│\n",
       "│\u001b[36m                                           \u001b[0m│\u001b[38;5;177m          \u001b[0m│\u001b[38;5;177m \u001b[0m\u001b[38;5;177m                          , visibility ,\u001b[0m\u001b[38;5;177m \u001b[0m│\u001b[38;5;177m               \u001b[0m│\n",
       "│\u001b[36m                                           \u001b[0m│\u001b[38;5;177m          \u001b[0m│\u001b[38;5;177m \u001b[0m\u001b[38;5;177m       wildfire_flux_of_carbon_dioxide ,\u001b[0m\u001b[38;5;177m \u001b[0m│\u001b[38;5;177m               \u001b[0m│\n",
       "│\u001b[36m                                           \u001b[0m│\u001b[38;5;177m          \u001b[0m│\u001b[38;5;177m \u001b[0m\u001b[38;5;177m                wildfire_flux_of_methane\u001b[0m\u001b[38;5;177m \u001b[0m│\u001b[38;5;177m               \u001b[0m│\n",
       "├───────────────────────────────────────────┼──────────┼──────────────────────────────────────────┼───────────────┤\n",
       "│\u001b[36m \u001b[0m\u001b[36m                                     step\u001b[0m\u001b[36m \u001b[0m│\u001b[38;5;177m \u001b[0m\u001b[38;5;177m\"string\"\u001b[0m\u001b[38;5;177m \u001b[0m│\u001b[38;5;177m \u001b[0m\u001b[38;5;177m       0 , 12 , 15 , 18 , 21 , 3 , 6 , 9\u001b[0m\u001b[38;5;177m \u001b[0m│\u001b[38;5;177m \u001b[0m\u001b[38;5;177m          \"0\"\u001b[0m\u001b[38;5;177m \u001b[0m│\n",
       "└───────────────────────────────────────────┴──────────┴──────────────────────────────────────────┴───────────────┘\n"
      ]
     },
     "metadata": {},
     "output_type": "display_data"
    }
   ],
   "source": [
    "filters_resp=requests.get(QUERYABLES_BY_COLLECTION_ID)\n",
    "filters = filters_resp.json()[\"properties\"]\n",
    "table=create_q_table(filters)\n",
    "console = Console()\n",
    "console.print(table)"
   ]
  },
  {
   "cell_type": "markdown",
   "id": "b4ae9c40-9305-49d1-9002-1f795c0bf571",
   "metadata": {},
   "source": [
    "The queryables API helps user to build a correct search request for the given dataset.\n",
    "\n",
    "Calling the queryables API using as parameters the values chosen for filtering the selected dataset, the API replies with the applicable filters, conditioned by the chosen values. This means that, if you select a certain variable then the choice is narrowed down for other variables.\n",
    "\n",
    "Below an interactive example to see that once you select a value for a property the choice is narrowed down for other variables. "
   ]
  },
  {
   "cell_type": "code",
   "execution_count": 24,
   "id": "544ac58f-4851-4d68-b552-d332ca31e58d",
   "metadata": {
    "tags": []
   },
   "outputs": [
    {
     "name": "stdout",
     "output_type": "stream",
     "text": [
      "Chosen collection: EO.ECMWF.DAT.CAMS_GLOBAL_GREENHOUSE_GAS_REANALYSIS\n"
     ]
    },
    {
     "data": {
      "application/vnd.jupyter.widget-view+json": {
       "model_id": "4c9c7956b4444003906e4e14bb393640",
       "version_major": 2,
       "version_minor": 0
      },
      "text/plain": [
       "Button(description='Fetch queryables', style=ButtonStyle())"
      ]
     },
     "metadata": {},
     "output_type": "display_data"
    },
    {
     "data": {
      "application/vnd.jupyter.widget-view+json": {
       "model_id": "057791b39842493cb8ea970a02928af0",
       "version_major": 2,
       "version_minor": 0
      },
      "text/plain": [
       "VBox()"
      ]
     },
     "metadata": {},
     "output_type": "display_data"
    },
    {
     "data": {
      "application/vnd.jupyter.widget-view+json": {
       "model_id": "35d12d4d06064f40a44698dda29469cb",
       "version_major": 2,
       "version_minor": 0
      },
      "text/plain": [
       "Output()"
      ]
     },
     "metadata": {},
     "output_type": "display_data"
    }
   ],
   "source": [
    "# Widgets\n",
    "#collection_input = widgets.Text(\n",
    "#    description='Collection:',\n",
    "#    value=COLLECTION_ID,\n",
    "#)\n",
    "print(\"Chosen collection: \"+COLLECTION_ID)\n",
    "\n",
    "fetch_button = widgets.Button(description=\"Fetch queryables\")\n",
    "dropdown_container = widgets.VBox()\n",
    "output_area = widgets.Output()\n",
    "\n",
    "dropdowns = {}\n",
    "\n",
    "# Event listeners\n",
    "fetch_button.on_click(on_fetch_button_clicked)\n",
    "\n",
    "# Layout\n",
    "display(fetch_button, dropdown_container, output_area)"
   ]
  },
  {
   "cell_type": "markdown",
   "id": "6f776ea7-1819-4b8f-a63a-79019d92dd80",
   "metadata": {
    "tags": []
   },
   "source": [
    "## 2 - Filtering a collection with the list returned by the queryable API\n",
    "\n",
    "This section wil explain how to use the list of variable terms returned by the queryables API for filtering a specific dataset. "
   ]
  },
  {
   "cell_type": "markdown",
   "id": "9f7b0212-8a1b-4148-abf4-a86a291d8ec4",
   "metadata": {
    "tags": []
   },
   "source": [
    "### Build the query from the selected values\n",
    "The parameters chosen in the previous steps can be used to build the corresponding HDA queries."
   ]
  },
  {
   "cell_type": "code",
   "execution_count": 25,
   "id": "57c76314-c175-4417-8fd4-9450c5ffa5da",
   "metadata": {
    "tags": []
   },
   "outputs": [
    {
     "name": "stdout",
     "output_type": "stream",
     "text": [
      "{\n",
      "    \"collections\": [\n",
      "        \"EO.ECMWF.DAT.CAMS_EUROPE_AIR_QUALITY_FORECASTS\"\n",
      "    ],\n",
      "    \"datetime\": \"2024-04-01T00:00:00Z/2024-04-19T00:00:00Z\",\n",
      "    \"query\": {\n",
      "        \"variable\": {\n",
      "            \"eq\": \"evaporation\"\n",
      "        },\n",
      "        \"step\": {\n",
      "            \"eq\": \"3\"\n",
      "        }\n",
      "    }\n",
      "}\n"
     ]
    }
   ],
   "source": [
    "# The JSON objects containing the generic query parameters:\n",
    "json1 = '{\"collections\": [\"EO.ECMWF.DAT.CAMS_EUROPE_AIR_QUALITY_FORECASTS\"], \"datetime\": \"2024-04-01T00:00:00Z/2024-04-19T00:00:00Z\"}'\n",
    "\n",
    "# Convert JSON strings to Python dictionaries\n",
    "dict1 = json.loads(json1)\n",
    "\n",
    "# Include the filters selected in the previous steps inside the JSON containing the generic query parameters:\n",
    "dict1['query'] = HDA_FILTERS\n",
    "\n",
    "# Convert the merged dictionary back to a JSON string\n",
    "query_json = json.dumps(dict1, indent=4)\n",
    "\n",
    "print(query_json)"
   ]
  },
  {
   "cell_type": "markdown",
   "id": "3b6fe9f0-87ce-49f6-923f-42a0b48739ff",
   "metadata": {},
   "source": [
    "### Obtain Authentication Token\n",
    "To perform a query on HDA we need to be authenticated."
   ]
  },
  {
   "cell_type": "code",
   "execution_count": 26,
   "id": "85e64903-0276-4a18-9481-6698a2d14dbb",
   "metadata": {
    "tags": []
   },
   "outputs": [
    {
     "name": "stdin",
     "output_type": "stream",
     "text": [
      "Please input your DESP username or email:  eum-dedl-user\n",
      "Please input your DESP password:  ········\n"
     ]
    },
    {
     "name": "stdout",
     "output_type": "stream",
     "text": [
      "Response code: 200\n",
      "DEDL/DESP Access Token Obtained Successfully\n"
     ]
    }
   ],
   "source": [
    "import json\n",
    "import os\n",
    "from getpass import getpass\n",
    "import destinelab as deauth\n",
    "\n",
    "DESP_USERNAME = input(\"Please input your DESP username or email: \")\n",
    "DESP_PASSWORD = getpass(\"Please input your DESP password: \")\n",
    "\n",
    "auth = deauth.AuthHandler(DESP_USERNAME, DESP_PASSWORD)\n",
    "access_token = auth.get_token()\n",
    "if access_token is not None:\n",
    "    print(\"DEDL/DESP Access Token Obtained Successfully\")\n",
    "else:\n",
    "    print(\"Failed to Obtain DEDL/DESP Access Token\")\n",
    "\n",
    "auth_headers = {\"Authorization\": f\"Bearer {access_token}\"}"
   ]
  },
  {
   "cell_type": "markdown",
   "id": "a0bb43b9-c94b-48bf-a62b-3db3b7eb2a65",
   "metadata": {},
   "source": [
    "## Search"
   ]
  },
  {
   "cell_type": "code",
   "execution_count": 27,
   "id": "efc07366-4493-40f3-a7ff-24b7bb0a1f5d",
   "metadata": {
    "tags": []
   },
   "outputs": [
    {
     "data": {
      "application/json": {
       "assets": {
        "downloadLink": {
         "alternate": {
          "origin": {
           "href": "Not Available#?_dc_qs=%7B%22date%22%3A+%222024-04-01%2F2024-04-18%22%2C+%22format%22%3A+%22grib%22%2C+%22leadtime_hour%22%3A+0%2C+%22level%22%3A+0%2C+%22model%22%3A+%22ensemble%22%2C+%22step%22%3A+3%2C+%22time%22%3A+%2200%3A00%22%2C+%22type%22%3A+%22forecast%22%2C+%22variable%22%3A+%22evaporation%22%7D",
           "title": "Origin asset link"
          }
         },
         "href": "https://hda.data.destination-earth.eu/stac/collections/EO.ECMWF.DAT.CAMS_EUROPE_AIR_QUALITY_FORECASTS/items/CAMS_EU_AIR_QUALITY_FORECAST_20240401_20240418_b56ee7334edaddec0097ef143491b8d1c209073e/download?provider=copernicus_atmosphere_data_store&_dc_qs=%257B%2522date%2522%253A%2B%25222024-04-01%252F2024-04-18%2522%252C%2B%2522format%2522%253A%2B%2522grib%2522%252C%2B%2522leadtime_hour%2522%253A%2B0%252C%2B%2522level%2522%253A%2B0%252C%2B%2522model%2522%253A%2B%2522ensemble%2522%252C%2B%2522step%2522%253A%2B3%252C%2B%2522time%2522%253A%2B%252200%253A00%2522%252C%2B%2522type%2522%253A%2B%2522forecast%2522%252C%2B%2522variable%2522%253A%2B%2522evaporation%2522%257D",
         "storage:tier": "OFFLINE",
         "title": "Download link",
         "type": "application/zip"
        }
       },
       "bbox": [
        -180,
        -90,
        180,
        90
       ],
       "collection": "EO.ECMWF.DAT.CAMS_EUROPE_AIR_QUALITY_FORECASTS",
       "geometry": {
        "coordinates": [
         [
          [
           180,
           -90
          ],
          [
           180,
           90
          ],
          [
           -180,
           90
          ],
          [
           -180,
           -90
          ],
          [
           180,
           -90
          ]
         ]
        ],
        "type": "Polygon"
       },
       "id": "CAMS_EU_AIR_QUALITY_FORECAST_20240401_20240418_b56ee7334edaddec0097ef143491b8d1c209073e",
       "links": [
        {
         "href": "https://hda.data.destination-earth.eu/stac/collections/EO.ECMWF.DAT.CAMS_EUROPE_AIR_QUALITY_FORECASTS/items/CAMS_EU_AIR_QUALITY_FORECAST_20240401_20240418_b56ee7334edaddec0097ef143491b8d1c209073e?provider=copernicus_atmosphere_data_store&_dc_qs=%257B%2522date%2522%253A%2B%25222024-04-01%252F2024-04-18%2522%252C%2B%2522format%2522%253A%2B%2522grib%2522%252C%2B%2522leadtime_hour%2522%253A%2B0%252C%2B%2522level%2522%253A%2B0%252C%2B%2522model%2522%253A%2B%2522ensemble%2522%252C%2B%2522step%2522%253A%2B3%252C%2B%2522time%2522%253A%2B%252200%253A00%2522%252C%2B%2522type%2522%253A%2B%2522forecast%2522%252C%2B%2522variable%2522%253A%2B%2522evaporation%2522%257D",
         "rel": "self",
         "title": "CAMS_EU_AIR_QUALITY_FORECAST_20240401_20240418_b56ee7334edaddec0097ef143491b8d1c209073e"
        },
        {
         "href": "https://hda.data.destination-earth.eu/stac/",
         "rel": "root"
        },
        {
         "href": "https://hda.data.destination-earth.eu/stac/collections/EO.ECMWF.DAT.CAMS_EUROPE_AIR_QUALITY_FORECASTS",
         "rel": "parent",
         "title": "EO.ECMWF.DAT.CAMS_EUROPE_AIR_QUALITY_FORECASTS"
        },
        {
         "href": "https://hda.data.destination-earth.eu/stac/collections/EO.ECMWF.DAT.CAMS_EUROPE_AIR_QUALITY_FORECASTS",
         "rel": "collection",
         "title": "EO.ECMWF.DAT.CAMS_EUROPE_AIR_QUALITY_FORECASTS"
        }
       ],
       "properties": {
        "copernicus_atmosphere_data_store:alias": "EO.ECMWF.DAT.CAMS_EUROPE_AIR_QUALITY_FORECASTS",
        "copernicus_atmosphere_data_store:dataset": "cams-europe-air-quality-forecasts",
        "copernicus_atmosphere_data_store:format": "grib",
        "copernicus_atmosphere_data_store:leadtime_hour": 0,
        "copernicus_atmosphere_data_store:level": 0,
        "copernicus_atmosphere_data_store:model": "ensemble",
        "copernicus_atmosphere_data_store:scope": {
         "discover": null,
         "download": "hda-public-data-access",
         "search": "hda-public-data-access"
        },
        "copernicus_atmosphere_data_store:step": 3,
        "copernicus_atmosphere_data_store:time": "00:00",
        "copernicus_atmosphere_data_store:type": "forecast",
        "copernicus_atmosphere_data_store:variable": "evaporation",
        "datetime": "2024-04-01",
        "end_datetime": "2024-04-18",
        "instruments": [
         null
        ],
        "license": "proprietary",
        "order:status": "orderable",
        "providers": [
         {
          "description": "Copernicus Atmosphere Data Store",
          "name": "copernicus_atmosphere_data_store",
          "priority": 0,
          "roles": [
           "host"
          ],
          "url": "https://ads.atmosphere.copernicus.eu/"
         }
        ],
        "sar:product_type": "CAMS_EU_AIR_QUALITY_FORECAST",
        "start_datetime": "2024-04-01"
       },
       "stac_extensions": [
        "https://stac-extensions.github.io/sar/v1.0.0/schema.json",
        "https://stac-extensions.github.io/order/v1.1.0/schema.json"
       ],
       "stac_version": "1.0.0",
       "type": "Feature"
      },
      "text/plain": [
       "<IPython.core.display.JSON object>"
      ]
     },
     "execution_count": 27,
     "metadata": {
      "application/json": {
       "expanded": false,
       "root": "root"
      }
     },
     "output_type": "execute_result"
    }
   ],
   "source": [
    "response = requests.post(\"https://hda.data.destination-earth.eu/stac/search\", headers=auth_headers, json= json.loads(query_json) )\n",
    "#print(response)\n",
    "# Requests to ADS data always return a single item containing all the requested data\n",
    "product = response.json()[\"features\"][0]\n",
    "JSON(product, expanded= False)"
   ]
  },
  {
   "cell_type": "markdown",
   "id": "06fa5a8f-3d25-4559-a8c9-09ae05387c3a",
   "metadata": {},
   "source": [
    "Once we have found the product we can obtain the URL for downloading it:\n"
   ]
  },
  {
   "cell_type": "code",
   "execution_count": 28,
   "id": "e1aafd3e-2d54-4151-b5da-a3e527d3ede9",
   "metadata": {
    "tags": []
   },
   "outputs": [
    {
     "name": "stdout",
     "output_type": "stream",
     "text": [
      "https://hda.data.destination-earth.eu/stac/collections/EO.ECMWF.DAT.CAMS_EUROPE_AIR_QUALITY_FORECASTS/items/CAMS_EU_AIR_QUALITY_FORECAST_20240401_20240418_b56ee7334edaddec0097ef143491b8d1c209073e/download?provider=copernicus_atmosphere_data_store&_dc_qs=%257B%2522date%2522%253A%2B%25222024-04-01%252F2024-04-18%2522%252C%2B%2522format%2522%253A%2B%2522grib%2522%252C%2B%2522leadtime_hour%2522%253A%2B0%252C%2B%2522level%2522%253A%2B0%252C%2B%2522model%2522%253A%2B%2522ensemble%2522%252C%2B%2522step%2522%253A%2B3%252C%2B%2522time%2522%253A%2B%252200%253A00%2522%252C%2B%2522type%2522%253A%2B%2522forecast%2522%252C%2B%2522variable%2522%253A%2B%2522evaporation%2522%257D\n"
     ]
    }
   ],
   "source": [
    "# DownloadLink is an asset representing the whole product\n",
    "download_url = product[\"assets\"][\"downloadLink\"][\"href\"]\n",
    "print(download_url )"
   ]
  },
  {
   "cell_type": "code",
   "execution_count": null,
   "id": "a8ff4485-ce4f-4f32-914b-b3d765a86a6b",
   "metadata": {},
   "outputs": [],
   "source": []
  }
 ],
 "metadata": {
  "kernelspec": {
   "display_name": "Python DEDL",
   "language": "python",
   "name": "python_dedl"
  },
  "language_info": {
   "codemirror_mode": {
    "name": "ipython",
    "version": 3
   },
   "file_extension": ".py",
   "mimetype": "text/x-python",
   "name": "python",
   "nbconvert_exporter": "python",
   "pygments_lexer": "ipython3",
   "version": "3.11.4"
  },
  "toc-autonumbering": false,
  "vscode": {
   "interpreter": {
    "hash": "31f2aee4e71d21fbe5cf8b01ff0e069b9275f58929596ceb00d14d90e3e16cd6"
   }
  }
 },
 "nbformat": 4,
 "nbformat_minor": 5
}

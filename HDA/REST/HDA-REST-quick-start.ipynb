{
 "cells": [
  {
   "cell_type": "markdown",
   "id": "d52c1e69-af38-41ac-ae9f-0ed1cf1dccfa",
   "metadata": {
    "tags": []
   },
   "source": [
    "![](https://github.com/destination-earth/DestinE-DataLake-Lab/blob/main/img/DestinE-banner.jpg?raw=true)"
   ]
  },
  {
   "cell_type": "markdown",
   "id": "4b66f898-d0a3-436c-9bd0-4215d3b3bd37",
   "metadata": {},
   "source": [
    "\n",
    "\n",
    "# DEDL - HDA Tutorial - quick start"
   ]
  },
  {
   "cell_type": "markdown",
   "id": "5c91ac8f-ce83-4434-bc3c-81dec0349c41",
   "metadata": {},
   "source": [
    "**Author**: EUMETSAT <br>\n",
    "**Copyright**: 2024 EUMETSAT <br>\n",
    "**Licence**: MIT <br>"
   ]
  },
  {
   "cell_type": "markdown",
   "id": "1ea7645a-8308-4dbf-a8b7-0be00ace1e28",
   "metadata": {},
   "source": [
    "<div class=\"alert alert-block alert-success\">\n",
    "<h3>First steps using Harmonised Data access API</h3>\n",
    "<li> Discover Data of DestinE Data Portfolio </li>\n",
    "<li> Access Data of DestinE Data Portfolio </li>\n",
    "</div>"
   ]
  },
  {
   "cell_type": "markdown",
   "id": "5fb479bc-1cd9-41c5-863c-c1c44f0c80a3",
   "metadata": {},
   "source": [
    "This notebook demonstrates how to use the HDA (Harmonized Data Access) API by sending a few HTTP requests to the API, using Python code."
   ]
  },
  {
   "cell_type": "markdown",
   "id": "34c07187-aabf-430a-8fbc-b434a2bfd34f",
   "metadata": {},
   "source": [
    "Throughout this quickstart notebook, you will learn:\n",
    "\n",
    "1. [Discover](#Discover): How to discover *DEDL* collections and services through HDA.\n",
    "2. [Authenticate](#Authenticate): How to authenticate fro searching and access *DEDL* collections. \n",
    "3. [Search data](#Search):  How to search *DEDL* data through HDA.\n",
    "4. [Download data](#Download): How to download *DEDL* data through HDA.\n",
    "\n",
    "The detailed API and definition of each endpoint and parameters is available in the HDA Swagger UI at:\n",
    "\n",
    "https://hda.data.destination-earth.eu/docs/"
   ]
  },
  {
   "cell_type": "markdown",
   "id": "82529b78-4e09-401f-9018-d23b5e5fc619",
   "metadata": {},
   "source": [
    "<div class=\"alert alert-block alert-warning\">\n",
    "<b> Prequisites: </b>\n",
    "<li> For Data discovery: none </li>\n",
    "<li> For Data access : <a href=\"https://platform.destine.eu/\"> DestinE user account</a> </li>\n",
    "</div>"
   ]
  },
  {
   "cell_type": "markdown",
   "id": "bf8d97b7-b802-4b4f-bf64-57e977bbc01b",
   "metadata": {},
   "source": [
    "auth, search, download and visualize"
   ]
  },
  {
   "cell_type": "markdown",
   "id": "4bf52238-934b-4e73-a2ae-df73ce749852",
   "metadata": {},
   "source": [
    "## Discover"
   ]
  },
  {
   "cell_type": "markdown",
   "id": "08f75c5f-2831-483c-8708-2b9465b4575d",
   "metadata": {},
   "source": [
    "### Import the relevant modules"
   ]
  },
  {
   "cell_type": "code",
   "execution_count": 15,
   "id": "7df969e5-638f-4642-a5d4-a0f21f1e5bde",
   "metadata": {
    "tags": []
   },
   "outputs": [],
   "source": [
    "import requests\n",
    "import json\n",
    "from getpass import getpass\n",
    "from tqdm import tqdm\n",
    "import time\n",
    "import re\n",
    "\n",
    "import destinelab as deauth\n",
    "\n",
    "from IPython.display import JSON"
   ]
  },
  {
   "cell_type": "markdown",
   "id": "10447de7-0b08-442a-81c5-e67974a0bbe9",
   "metadata": {},
   "source": [
    "### Define some constants for the API URL"
   ]
  },
  {
   "cell_type": "code",
   "execution_count": 2,
   "id": "ea55a16c-5907-44be-962f-49a551d54400",
   "metadata": {},
   "outputs": [],
   "source": [
    "# Define the collection to be used\n",
    "COLLECTION_ID = \"EO.EUM.DAT.SENTINEL-3.OL_2_WRR___\"\n",
    "\n",
    "# Core API\n",
    "HDA_API_URL = \"https://hda.data.destination-earth.eu\"\n",
    "\n",
    "# STAC API\n",
    "## Core\n",
    "STAC_API_URL = f\"{HDA_API_URL}/stac\"\n",
    "\n",
    "## Collections\n",
    "COLLECTIONS_URL = f\"{STAC_API_URL}/collections\"\n",
    "COLLECTION_BY_ID_URL = f\"{COLLECTIONS_URL}/{COLLECTION_ID}\"\n",
    "\n",
    "## Items\n",
    "COLLECTION_ITEMS_URL = f\"{COLLECTIONS_URL}/{COLLECTION_ID}/items\"\n",
    "\n",
    "## Item Search\n",
    "SEARCH_URL = f\"{STAC_API_URL}/search\"\n",
    "\n",
    "## HTTP Success\n",
    "HTTP_SUCCESS_CODE = 200"
   ]
  },
  {
   "cell_type": "markdown",
   "id": "6c4a3e9e-fae6-48b5-96e9-593830bf250d",
   "metadata": {},
   "source": [
    "### Discover data\n",
    "\n",
    "Below an example for discovering collections concerning Chlorophyll-a Concentration and algal pigment."
   ]
  },
  {
   "cell_type": "code",
   "execution_count": 8,
   "id": "c453b5d9-e60d-4634-afa5-d675dd5f4c36",
   "metadata": {},
   "outputs": [
    {
     "data": {
      "application/json": {
       "collections": [
        {
         "assets": {
          "thumbnail": {
           "href": "https://datastore.copernicus-climate.eu/cams/published-forms-v2/camsprod/cams-solar-radiation-timeseries/overview.png",
           "roles": [
            "thumbnail"
           ],
           "title": "overview",
           "type": "image/png"
          }
         },
         "dedl:short_description": "The CAMS solar radiation services provide historical values (2004 to present) of global (GHI), direct (BHI) and diffuse (DHI) solar irradiation, as well as direct normal irradiation (BNI).",
         "description": "The CAMS solar radiation services provide historical values (2004 to present) of global (GHI), direct (BHI) and diffuse (DHI) solar irradiation, as well as direct normal irradiation (BNI). The aim is to fulfil the needs of European and national policy development and the requirements of both commercial and public downstream services, e.g. for planning, monitoring, efficiency improvements and the integration of solar energy systems into energy supply grids.\nFor clear-sky conditions, an irradiation time series is provided for any location in the world using information on aerosol, ozone and water vapour from the CAMS global forecasting system. Other properties, such as ground albedo and ground elevation, are also taken into account. Similar time series are available for cloudy (or \"all sky\") conditions but, since the high-resolution cloud information is directly inferred from satellite observations, these are currently only available inside the field-of-view of the Meteosat Second Generation (MSG) satellite, which is roughly Europe, Africa, the Atlantic Ocean and the Middle East.\nData is offered in both ASCII and netCDF format. Additionally, an ASCII \"expert mode\" format can be selected which contains in addition to the irradiation, all the input data used in their calculation (aerosol optical properties, water vapour concentration, etc). This additional information is only meaningful in the time frame at which the calculation is performed and so is only available at 1-minute time steps in universal time (UT).",
         "extent": {
          "spatial": {
           "bbox": [
            [
             -180,
             -90,
             180,
             90
            ]
           ]
          },
          "temporal": {
           "interval": [
            [
             "2004-02-01T00:00:00Z",
             null
            ]
           ]
          }
         },
         "id": "EO.ECMWF.DAT.CAMS_SOLAR_RADIATION_TIMESERIES",
         "keywords": [
          "Radiation",
          "Past",
          "Global",
          "airPollution",
          "Solar radiation",
          "Satellite image area",
          "Atmospheric conditions",
          "Analysis"
         ],
         "license": "proprietary",
         "links": [
          {
           "href": "https://ads.atmosphere.copernicus.eu/api/v2/terms/static/licence-to-use-copernicus-products.pdf",
           "rel": "license",
           "title": "Licence to Use Copernicus Products"
          },
          {
           "href": "https://ads.atmosphere.copernicus.eu/cdsapp#!/dataset/cams-solar-radiation-timeseries?tab=overview",
           "rel": "cite-as",
           "title": "CAMS solar radiation time-series"
          },
          {
           "href": "https://confluence.ecmwf.int/x/jOLjDw",
           "rel": "describedby",
           "title": "CAMS solar radiation time-series: data documentation"
          },
          {
           "href": "https://atmosphere.copernicus.eu/supplementary-services#fa6856b7-a306-4cc4-9137-f3e0cb703093",
           "rel": "describedby",
           "title": "Evaluation and quality assurance (EQA) reports"
          },
          {
           "href": "https://doi.org/10.1127/metz/2022/1132",
           "rel": "cite-as",
           "title": "Surface solar irradiation retrieval from MSG/SEVIRI based on APOLLO Next Generation and HELIOSAT‑4 methods"
          },
          {
           "href": "https://doi.org/10.1127/metz/2016/0781",
           "rel": "cite-as",
           "title": "Fast radiative transfer parameterisation for assessing the surface solar irradiance: The Heliosat‑4 method"
          },
          {
           "href": "https://hda.data.destination-earth.eu/stac/collections/EO.ECMWF.DAT.CAMS_SOLAR_RADIATION_TIMESERIES",
           "rel": "self",
           "title": "EO.ECMWF.DAT.CAMS_SOLAR_RADIATION_TIMESERIES"
          },
          {
           "href": "https://hda.data.destination-earth.eu/stac/",
           "rel": "root"
          },
          {
           "href": "https://hda.data.destination-earth.eu/stac/collections/EO.ECMWF.DAT.CAMS_SOLAR_RADIATION_TIMESERIES/items",
           "rel": "items",
           "title": "items"
          }
         ],
         "providers": [
          {
           "name": "European Centre for Medium-Range Weather Forecasts (ECMWF)",
           "roles": [
            "licensor",
            "producer",
            "processor"
           ],
           "url": "https://www.ecmwf.int/"
          },
          {
           "name": "copernicus_atmosphere_data_store",
           "roles": [
            "host"
           ],
           "url": "https://ads.atmosphere.copernicus.eu/"
          },
          {
           "name": "wekeo",
           "roles": [
            "host"
           ],
           "url": "https://www.wekeo.eu/"
          }
         ],
         "stac_extensions": [
          "https://stac-extensions.github.io/scientific/v1.0.0/schema.json"
         ],
         "stac_version": "1.0.0",
         "summaries": {
          "constellation": [
           null
          ],
          "intruments": [
           null
          ],
          "platform": [
           null
          ],
          "processing:level": null
         },
         "title": "CAMS solar radiation time-series",
         "type": "Collection"
        },
        {
         "assets": {
          "thumbnail": {
           "href": "https://datastore.copernicus-climate.eu/c3s/published-forms-v2/c3sprod/satellite-carbon-dioxide/overview.png",
           "roles": [
            "thumbnail"
           ],
           "title": "overview",
           "type": "image/png"
          }
         },
         "dedl:short_description": "This dataset provides observations of atmospheric carbon dioxide (CO2) amounts obtained from observations collected by several current and historical satellite instruments.",
         "description": "This dataset provides observations of atmospheric carbon dioxide (CO2)\namounts obtained from observations collected by several current and historical \nsatellite instruments. Carbon dioxide is a naturally occurring Greenhouse Gas (GHG), but one whose abundance has been increased substantially above its pre-industrial value of some 280 ppm by human activities, primarily because of emissions from combustion of fossil fuels, deforestation and other land-use change. The annual cycle (especially in the northern hemisphere) is primarily due to seasonal uptake and release of atmospheric CO2 by terrestrial vegetation.\nAtmospheric carbon dioxide abundance is indirectly observed by various satellite instruments. These instruments measure spectrally resolved near-infrared and/or infrared radiation reflected or emitted by the Earth and its atmosphere. In the measured signal, molecular absorption signatures from carbon dioxide and other constituent gasses can be identified. It is through analysis of those absorption lines in these radiance observations that the averaged carbon dioxide abundance in the sampled atmospheric column can be determined.\nThe software used to analyse the absorption lines and determine the carbon dioxide concentration in the sampled atmospheric column is referred to as the retrieval algorithm. For this dataset, carbon dioxide abundances have been determined by applying several algorithms to different satellite \ninstruments. Typically, different algorithms have different strengths and weaknesses and therefore, which product to use for a given application typically depends on the application.\nThe data set consists of 2 types of products: (i) column-averaged mixing ratios of CO2, denoted XCO2 and (ii) mid-tropospheric CO2 columns.  The XCO2 products have been retrieved from SCIAMACHY/ENVISAT, TANSO-FTS/GOSAT and OCO-2. The mid-tropospheric CO2 product has been retrieved from the IASI instruments on-board the Metop satellite series and from AIRS. \nThe XCO2 products are available as Level 2 (L2) products (satellite orbit tracks) and as Level 3 (L3) product (gridded). The L2 products are available as individual sensor products (SCIAMACHY: BESD and WFMD algorithms; GOSAT: OCFP and SRFP algorithms) and as a multi-sensor merged product (EMMA algorithm). The L3 XCO2 product is provided in OBS4MIPS format. \nThe IASI and AIRS products are available as L2 products generated with the NLIS algorithm.\nThis data set is updated on a yearly basis, with each update cycle adding (if required) a new data version for the entire period, up to one year behind real time.\nThis dataset is produced on behalf of C3S with the exception of the SCIAMACHY and AIRS L2 products that were generated in the framework of the GHG-CCI project of the European Space Agency (ESA) Climate Change Initiative (CCI).\n\nVariables in the dataset/application are:\nColumn-average dry-air mole fraction of atmospheric carbon dioxide (XCO2), Mid-tropospheric columns of atmospheric carbon dioxide (CO2)",
         "extent": {
          "spatial": {
           "bbox": [
            [
             -180,
             -90,
             180,
             90
            ]
           ]
          },
          "temporal": {
           "interval": [
            [
             "2002-10-01T00:00:00Z",
             "2016-12-31T00:00:00Z"
            ]
           ]
          }
         },
         "id": "EO.ECMWF.DAT.CO2_DATA_FROM_SATELLITE_SENSORS_2002_PRESENT",
         "keywords": [
          "Satellite observations",
          "Past",
          "Global",
          "Atmospheric conditions",
          "Atmosphere (composition)"
         ],
         "license": "proprietary",
         "links": [
          {
           "href": "https://cds.climate.copernicus.eu/api/v2/terms/static/licence-to-use-copernicus-products.pdf",
           "rel": "license",
           "title": "Licence to Use Copernicus Products"
          },
          {
           "href": "https://hda.data.destination-earth.eu/stac/collections/EO.ECMWF.DAT.CO2_DATA_FROM_SATELLITE_SENSORS_2002_PRESENT",
           "rel": "self",
           "title": "EO.ECMWF.DAT.CO2_DATA_FROM_SATELLITE_SENSORS_2002_PRESENT"
          },
          {
           "href": "https://hda.data.destination-earth.eu/stac/",
           "rel": "root"
          },
          {
           "href": "https://hda.data.destination-earth.eu/stac/collections/EO.ECMWF.DAT.CO2_DATA_FROM_SATELLITE_SENSORS_2002_PRESENT/items",
           "rel": "items",
           "title": "items"
          }
         ],
         "providers": [
          {
           "name": "European Centre for Medium-Range Weather Forecasts (ECMWF)",
           "roles": [
            "licensor",
            "producer",
            "processor"
           ],
           "url": "https://www.ecmwf.int/"
          },
          {
           "name": "copernicus_climate_data_store",
           "roles": [
            "host"
           ],
           "url": "https://cds.climate.copernicus.eu/"
          },
          {
           "name": "wekeo",
           "roles": [
            "host"
           ],
           "url": "https://www.wekeo.eu/"
          }
         ],
         "stac_version": "1.0.0",
         "summaries": {
          "constellation": [
           null
          ],
          "intruments": [
           null
          ],
          "platform": [
           null
          ],
          "processing:level": null
         },
         "title": "Carbon dioxide data from 2002 to present derived from satellite observations",
         "type": "Collection"
        },
        {
         "assets": {
          "thumbnail": {
           "href": "https://datastore.copernicus-climate.eu/c3s/published-forms-v2/c3sprod/satellite-methane/overview.png",
           "roles": [
            "thumbnail"
           ],
           "title": "overview",
           "type": "image/png"
          }
         },
         "dedl:short_description": "This dataset provides observations of atmospheric methane (CH4) amounts obtained from observations collected by several current and historical satellite instruments.",
         "description": "This dataset provides observations of atmospheric methane (CH4)\namounts obtained from observations collected by several current and historical \nsatellite instruments.  Methane is a naturally occurring Greenhouse Gas (GHG), but one whose abundance has been increased substantially above its pre-industrial value of some 720 ppb by human activities, primarily because of agricultural emissions (e.g., rice production, ruminants) and fossil fuel production and use. A clear annual cycle is largely due to seasonal wetland emissions.\nAtmospheric methane abundance is indirectly observed by various satellite instruments. These instruments measure spectrally resolved near-infrared and infrared radiation reflected or emitted by the Earth and its atmosphere. In the measured signal, molecular absorption signatures from methane and constituent gasses can be identified. It is through analysis of those absorption lines in these radiance observations that the averaged methane abundance in the sampled atmospheric column can be determined.\nThe software used to analyse the absorption lines and determine the methane concentration in the sampled atmospheric column is referred to as the retrieval algorithm. For this dataset, methane abundances have been determined by applying several algorithms to different satellite instruments.\nThe data set consists of 2 types of products: (i) column-averaged mixing ratios of CH4, denoted XCH4 and (ii) mid-tropospheric CH4 columns. \nThe XCH4 products have been retrieved from SCIAMACHY/ENVISAT and TANSO-FTS/GOSAT. The mid-tropospheric CH4 product has been retrieved from the IASI instruments onboard the Metop satellite series. The XCH4 products are available as Level 2 (L2) products (satellite orbit tracks) and as Level 3 (L3) product (gridded). The L2 products are available as individual sensor products (SCIAMACHY: WFMD and IMAP algorithms; GOSAT: OCFP, OCPR, SRFP and SRPR algorithms) and as a multi-sensor merged product (EMMA algorithm). The L3 XCH4 product is provided in OBS4MIPS format. The IASI products are available as L2 products generated with the NLIS algorithm.\nThis data set is updated on a yearly basis, with each update cycle adding (if required) a new data version for the entire period, up to one year behind real time.\nThis dataset is produced on behalf of C3S with the exception of the SCIAMACHY L2 products that were generated in the framework of the GHG-CCI project of the European Space Agency (ESA) Climate Change Initiative (CCI).\n\nVariables in the dataset/application are:\nColumn-average dry-air mole fraction of atmospheric methane (XCH4), Mid-tropospheric columns of atmospheric methane (CH4)",
         "extent": {
          "spatial": {
           "bbox": [
            [
             -180,
             -90,
             180,
             90
            ]
           ]
          },
          "temporal": {
           "interval": [
            [
             "2002-10-01T00:00:00Z",
             "2018-12-31T00:00:00Z"
            ]
           ]
          }
         },
         "id": "EO.ECMWF.DAT.METHANE_DATA_SATELLITE_SENSORS_2002_PRESENT",
         "keywords": [
          "Satellite observations",
          "Past",
          "Global",
          "Atmospheric conditions",
          "Atmosphere (composition)"
         ],
         "license": "proprietary",
         "links": [
          {
           "href": "https://cds.climate.copernicus.eu/api/v2/terms/static/licence-to-use-copernicus-products.pdf",
           "rel": "license",
           "title": "Licence to Use Copernicus Products"
          },
          {
           "href": "https://hda.data.destination-earth.eu/stac/collections/EO.ECMWF.DAT.METHANE_DATA_SATELLITE_SENSORS_2002_PRESENT",
           "rel": "self",
           "title": "EO.ECMWF.DAT.METHANE_DATA_SATELLITE_SENSORS_2002_PRESENT"
          },
          {
           "href": "https://hda.data.destination-earth.eu/stac/",
           "rel": "root"
          },
          {
           "href": "https://hda.data.destination-earth.eu/stac/collections/EO.ECMWF.DAT.METHANE_DATA_SATELLITE_SENSORS_2002_PRESENT/items",
           "rel": "items",
           "title": "items"
          }
         ],
         "providers": [
          {
           "name": "European Centre for Medium-Range Weather Forecasts (ECMWF)",
           "roles": [
            "licensor",
            "producer",
            "processor"
           ],
           "url": "https://www.ecmwf.int/"
          },
          {
           "name": "copernicus_climate_data_store",
           "roles": [
            "host"
           ],
           "url": "https://cds.climate.copernicus.eu/"
          },
          {
           "name": "wekeo",
           "roles": [
            "host"
           ],
           "url": "https://www.wekeo.eu/"
          }
         ],
         "stac_version": "1.0.0",
         "summaries": {
          "constellation": [
           null
          ],
          "intruments": [
           null
          ],
          "platform": [
           null
          ],
          "processing:level": null
         },
         "title": "Methane data from 2002 to present derived from satellite observations",
         "type": "Collection"
        },
        {
         "assets": {
          "thumbnail": {
           "href": "https://datastore.copernicus-climate.eu/c3s/published-forms-v2/c3sprod/satellite-sea-ice-concentration/overview.png",
           "roles": [
            "thumbnail"
           ],
           "title": "overview",
           "type": "image/png"
          }
         },
         "description": "This dataset provides daily gridded data of sea ice concentration for both hemispheres derived from satellite passive microwave brightness temperatures. Sea ice is an important component of our climate system and a sensitive indicator of climate change. Its presence or its retreat has a strong impact on air-sea interactions, the Earth’s energy budget as well as marine ecosystems. It is listed as an Essential Climate Variable by the Global Climate Observing System. Sea ice concentration is defined as the fraction of the ocean surface in a pixel or grid cell that is covered with sea ice. It is one of the parameters commonly used to characterise the sea-ice cover. Other sea ice parameters include sea ice thickness, sea ice edge, and sea ice type, also available in the Climate Data Store.",
         "extent": {
          "spatial": {
           "bbox": [
            [
             -180,
             -90,
             180,
             90
            ]
           ]
          },
          "temporal": {
           "interval": [
            [
             "2002-06-01T00:00:00Z",
             "2020-12-31T00:00:00Z"
            ]
           ]
          }
         },
         "id": "EO.ECMWF.DAT.SATELLITE_SEA_ICE_CONCENTRATION",
         "keywords": [
          "Sea ice"
         ],
         "license": "proprietary",
         "links": [
          {
           "href": "https://ads.atmosphere.copernicus.eu/api/v2/terms/static/licence-to-use-copernicus-products.pdf",
           "rel": "license",
           "title": "Licence to Use Copernicus Products"
          },
          {
           "href": "https://cds.climate.copernicus.eu/api/v2/terms/static/eumetsat-osi-saf-sic.pdf",
           "rel": "license",
           "title": "EUMETSAT OSI SAF sea ice concentration licence"
          },
          {
           "href": "https://cds.climate.copernicus.eu/api/v2/terms/static/ESA-CCI-sea-ice-concentration.pdf",
           "rel": "license",
           "title": "ESA-CCI sea ice concentration product licence"
          },
          {
           "href": "https://confluence.ecmwf.int/x/jDffFw",
           "rel": "describedby",
           "title": "Sea Ice Concentration v3 OSI SAF: Product User's Manual (PUM)",
           "type": "application/pdf"
          },
          {
           "href": "https://doi.org/10.24381/cds.3cd8b812",
           "rel": "cite-as",
           "title": "Sea ice concentration daily gridded data from 1978 to present derived from satellite observations"
          },
          {
           "href": "https://hda.data.destination-earth.eu/stac/collections/EO.ECMWF.DAT.SATELLITE_SEA_ICE_CONCENTRATION",
           "rel": "self",
           "title": "EO.ECMWF.DAT.SATELLITE_SEA_ICE_CONCENTRATION"
          },
          {
           "href": "https://hda.data.destination-earth.eu/stac/",
           "rel": "root"
          },
          {
           "href": "https://hda.data.destination-earth.eu/stac/collections/EO.ECMWF.DAT.SATELLITE_SEA_ICE_CONCENTRATION/items",
           "rel": "items",
           "title": "items"
          }
         ],
         "providers": [
          {
           "name": "European Centre for Medium-Range Weather Forecasts (ECMWF)",
           "roles": [
            "licensor",
            "producer",
            "processor"
           ],
           "url": "https://www.ecmwf.int/"
          },
          {
           "name": "copernicus_climate_data_store",
           "roles": [
            "host"
           ],
           "url": "https://cds.climate.copernicus.eu/"
          },
          {
           "name": "wekeo",
           "roles": [
            "host"
           ],
           "url": "https://www.wekeo.eu/"
          }
         ],
         "stac_extensions": [
          "https://stac-extensions.github.io/scientific/v1.0.0/schema.json"
         ],
         "stac_version": "1.0.0",
         "summaries": {
          "constellation": [
           null
          ],
          "intruments": [
           null
          ],
          "platform": [
           null
          ],
          "processing:level": null
         },
         "title": "Sea ice concentration",
         "type": "Collection"
        },
        {
         "assets": {
          "thumbnail": {
           "href": "https://datastore.copernicus-climate.eu/c3s/published-forms-v2/c3sprod/satellite-sea-ice-edge-type/overview.png",
           "roles": [
            "thumbnail"
           ],
           "title": "overview",
           "type": "image/png"
          }
         },
         "description": "This dataset provides daily gridded data of sea ice edge and sea ice type derived from brightness temperatures measured by satellite passive microwave radiometers. Sea ice is an important component of our climate system and a sensitive indicator of climate change. Its presence or its retreat has a strong impact on air-sea interactions, the Earth’s energy budget as well as marine ecosystems. It is recognized by the Global Climate Observing System as an Essential Climate Variable. Sea ice edge and type are some of the parameters used to characterise sea ice. Other parameters include sea ice concentration and sea ice thickness, also available in the Climate Data Store.",
         "extent": {
          "spatial": {
           "bbox": [
            [
             -180,
             -90,
             180,
             90
            ]
           ]
          },
          "temporal": {
           "interval": [
            [
             "1978-10-25T00:00:00Z",
             null
            ]
           ]
          }
         },
         "id": "EO.ECMWF.DAT.SATELLITE_SEA_ICE_EDGE_TYPE",
         "keywords": [
          "Sea ice"
         ],
         "license": "proprietary",
         "links": [
          {
           "href": "https://ads.atmosphere.copernicus.eu/api/v2/terms/static/licence-to-use-copernicus-products.pdf",
           "rel": "license",
           "title": "Licence to Use Copernicus Products"
          },
          {
           "href": "https://datastore.copernicus-climate.eu/documents/satellite-sea-ice-edge-type/v3.0/WP2-FDDP-2022-09_C3S2-Lot3_PUGS-of-v3.0-SeaIceEdgeType_products_v3.1_FINAL.pdf",
           "rel": "describedby",
           "title": "Product User Guide and Specification Sea Ice Edge and Sea Ice Type Climate Data Records, Version 3.0 ",
           "type": "application/pdf"
          },
          {
           "href": "https://datastore.copernicus-climate.eu/documents/satellite-sea-ice-edge-type/v2.0/D3.SIETy.1-v2.0_PUGS-of-v2-SeaIceEdgeType_products_v2.2_APPROVED_Ver1.pdf",
           "rel": "describedby",
           "title": "Product User Guide and Specification Sea Ice Edge and Sea Ice Type Climate Data Records",
           "type": "application/pdf"
          },
          {
           "href": "https://doi.org/10.24381/cds.29c46d83",
           "rel": "cite-as",
           "title": "Sea ice edge and type daily gridded data from 1978 to present derived from satellite observations"
          },
          {
           "href": "https://hda.data.destination-earth.eu/stac/collections/EO.ECMWF.DAT.SATELLITE_SEA_ICE_EDGE_TYPE",
           "rel": "self",
           "title": "EO.ECMWF.DAT.SATELLITE_SEA_ICE_EDGE_TYPE"
          },
          {
           "href": "https://hda.data.destination-earth.eu/stac/",
           "rel": "root"
          },
          {
           "href": "https://hda.data.destination-earth.eu/stac/collections/EO.ECMWF.DAT.SATELLITE_SEA_ICE_EDGE_TYPE/items",
           "rel": "items",
           "title": "items"
          }
         ],
         "providers": [
          {
           "name": "European Centre for Medium-Range Weather Forecasts (ECMWF)",
           "roles": [
            "licensor",
            "producer",
            "processor"
           ],
           "url": "https://www.ecmwf.int/"
          },
          {
           "name": "copernicus_climate_data_store",
           "roles": [
            "host"
           ],
           "url": "https://cds.climate.copernicus.eu/"
          },
          {
           "name": "wekeo",
           "roles": [
            "host"
           ],
           "url": "https://www.wekeo.eu/"
          }
         ],
         "stac_extensions": [
          "https://stac-extensions.github.io/scientific/v1.0.0/schema.json"
         ],
         "stac_version": "1.0.0",
         "summaries": {
          "constellation": [
           null
          ],
          "intruments": [
           null
          ],
          "platform": [
           null
          ],
          "processing:level": null
         },
         "title": "Sea ice edge and type",
         "type": "Collection"
        },
        {
         "assets": {
          "thumbnail": {
           "href": "https://datastore.copernicus-climate.eu/c3s/published-forms-v2/c3sprod/satellite-sea-ice-thickness/overview.png",
           "roles": [
            "thumbnail"
           ],
           "title": "overview",
           "type": "image/png"
          }
         },
         "description": "This dataset provides monthly gridded data of sea ice thickness for the Arctic region based on satellite radar altimetry observations. Sea ice is an important component of our climate system and a sensitive indicator of climate change. Its presence or its retreat has a strong impact on air-sea interactions, the Earth’s energy budget as well as marine ecosystems. It is recognized by the Global Climate Observing System as an Essential Climate Variable. Sea ice thickness is one of the parameters commonly used to characterise sea ice, alongside sea ice concentration, sea ice edge, and sea ice type, also available in the Climate Data Store.",
         "extent": {
          "spatial": {
           "bbox": [
            [
             -180,
             -90,
             180,
             90
            ]
           ]
          },
          "temporal": {
           "interval": [
            [
             "2002-10-01T00:00:00Z",
             null
            ]
           ]
          }
         },
         "id": "EO.ECMWF.DAT.SATELLITE_SEA_ICE_THICKNESS",
         "keywords": [
          "Sea ice"
         ],
         "license": "proprietary",
         "links": [
          {
           "href": "https://ads.atmosphere.copernicus.eu/api/v2/terms/static/licence-to-use-copernicus-products.pdf",
           "rel": "license",
           "title": "Licence to Use Copernicus Products"
          },
          {
           "href": "https://datastore.copernicus-climate.eu/documents/satellite-sea-ice-thickness/v3.0/WP2-FDDP-2022-09_C3S2-Lot3_PUGS-of-v3.0-SeaIceThickness-products_v3.1_Final.pdf",
           "rel": "describedby",
           "title": "Product User Guide and Specification Sea Ice Thickness Version 3.0",
           "type": "application/pdf"
          },
          {
           "href": "https://doi.org/10.24381/cds.6679a99a",
           "rel": "cite-as",
           "title": "Sea ice thickness monthly gridded data for the Arctic from 2002 to present derived from satellite observations"
          },
          {
           "href": "https://hda.data.destination-earth.eu/stac/collections/EO.ECMWF.DAT.SATELLITE_SEA_ICE_THICKNESS",
           "rel": "self",
           "title": "EO.ECMWF.DAT.SATELLITE_SEA_ICE_THICKNESS"
          },
          {
           "href": "https://hda.data.destination-earth.eu/stac/",
           "rel": "root"
          },
          {
           "href": "https://hda.data.destination-earth.eu/stac/collections/EO.ECMWF.DAT.SATELLITE_SEA_ICE_THICKNESS/items",
           "rel": "items",
           "title": "items"
          }
         ],
         "providers": [
          {
           "name": "European Centre for Medium-Range Weather Forecasts (ECMWF)",
           "roles": [
            "licensor",
            "producer",
            "processor"
           ],
           "url": "https://www.ecmwf.int/"
          },
          {
           "name": "copernicus_climate_data_store",
           "roles": [
            "host"
           ],
           "url": "https://cds.climate.copernicus.eu/"
          },
          {
           "name": "wekeo",
           "roles": [
            "host"
           ],
           "url": "https://www.wekeo.eu/"
          }
         ],
         "stac_extensions": [
          "https://stac-extensions.github.io/scientific/v1.0.0/schema.json"
         ],
         "stac_version": "1.0.0",
         "summaries": {
          "constellation": [
           null
          ],
          "intruments": [
           null
          ],
          "platform": [
           null
          ],
          "processing:level": null
         },
         "title": "Sea ice thickness",
         "type": "Collection"
        },
        {
         "assets": {
          "thumbnail": {
           "href": "https://sentinels.copernicus.eu/documents/247904/3681412/Sentinel-2-Level-1C-Level-2A-TOA-full.png",
           "roles": [
            "thumbnail"
           ],
           "title": "TOA Level-1C image data (left) and associated Level-2A surface reflectance image data (right) generated using Sen2Cor processor",
           "type": "image/png"
          }
         },
         "description": "The Sentinel-2 mission is a land monitoring constellation of two satellites that provide high resolution optical imagery and provide continuity for the current SPOT and Landsat missions. The mission provides a global coverage of the Earth's land surface every 10 days with one satellite and 5 days with 2 satellites, making the data of great use in on-going studies. The satellites are equipped with the state-of-the-art MSI (Multispectral Imager) instrument, that offers high-resolution optical imagery. Products are a compilation of elementary granules of fixed size, within a single orbit. A granule is the minimum indivisible partition of a product (containing all possible spectral bands).\nFor Level-1C and Level-2A, the granules, also called tiles, are 100x100km2 ortho-images in UTM/WGS84 projection. The UTM (Universal Transverse Mercator) system divides the Earth's surface into 60 zones. Each UTM zone has a vertical width of 6° of longitude and horizontal width of 8° of latitude. (see Figure 1). Tiles are approximately 600 MB in size. Tiles can be fully or partially covered by image data. Partially covered tiles correspond to those at the edge of the swath. Level-2A: Surface reflectances in cartographic geometry. This product is considered as the mission Analysis Ready Data (ARD), the product that can be used directly in downstream applications without the need for further processing. The Level-2A product contains: Bottom-Of-Atmosphere (BOA) reflectance orthoimage, Aerosol Optical Thickness (AOT) map, Water Vapour (WV) map, Scene Classification map and Quality Indicators data.",
         "extent": {
          "spatial": {
           "bbox": [
            [
             -180,
             -90,
             180,
             90
            ]
           ]
          },
          "temporal": {
           "interval": [
            [
             "2015-06-23T00:00:00Z",
             null
            ]
           ]
          }
         },
         "id": "EO.ESA.DAT.SENTINEL-2.MSI.L2A",
         "item_assets": {
          "thumbnail": {
           "description": "An averaged, decimated preview image in PNG format. Single polarisation products are represented with a grey scale image. Dual polarisation products are represented by a single composite colour image in RGB with the red channel (R) representing the  co-polarisation VV or HH), the green channel (G) represents the cross-polarisation (VH or HV) and the blue channel (B) represents the ratio of the cross an co-polarisations.",
           "roles": [
            "thumbnail"
           ],
           "title": "Preview Image",
           "type": "image/png"
          }
         },
         "keywords": [
          "land",
          "land cover",
          "Crop monitoring",
          "leaf area index",
          "chlorophyll",
          "Coastal zone monitoring",
          "Inland water monitoring",
          "Glacier monitoring",
          "ice extent mapping",
          "snow cover monitoring",
          "Flood mapping",
          "lava flow mapping",
          "Burned area monitoring",
          "Level 2 Data",
          "ESA",
          "Copernicus",
          "Sentinel",
          "MSI"
         ],
         "license": "proprietary",
         "links": [
          {
           "href": "https://sentinel.esa.int/documents/247904/690755/Sentinel_Data_Legal_Notice",
           "rel": "license",
           "title": "Copernicus Sentinel data terms"
          },
          {
           "href": "https://hda.data.destination-earth.eu/stac/collections/EO.ESA.DAT.SENTINEL-2.MSI.L2A",
           "rel": "self",
           "title": "EO.ESA.DAT.SENTINEL-2.MSI.L2A"
          },
          {
           "href": "https://hda.data.destination-earth.eu/stac/",
           "rel": "root"
          },
          {
           "href": "https://hda.data.destination-earth.eu/stac/collections/EO.ESA.DAT.SENTINEL-2.MSI.L2A/items",
           "rel": "items",
           "title": "items"
          }
         ],
         "providers": [
          {
           "name": "ESA",
           "roles": [
            "producer",
            "processor",
            "licensor"
           ],
           "url": "https://earth.esa.int"
          },
          {
           "name": "dedl",
           "roles": [
            "host"
           ],
           "url": "https://creodias.eu/"
          },
          {
           "name": "creodias",
           "roles": [
            "host"
           ],
           "url": "https://creodias.eu/"
          },
          {
           "name": "wekeo",
           "roles": [
            "host"
           ],
           "url": "https://www.wekeo.eu/"
          }
         ],
         "stac_extensions": [
          "https://stac-extensions.github.io/eo/v1.1.0/schema.json",
          "https://stac-extensions.github.io/processing/v1.2.0/schema.json",
          "https://stac-extensions.github.io/sar/v1.0.0/schema.json",
          "https://stac-extensions.github.io/sat/v1.0.0/schema.json",
          "https://stac-extensions.github.io/item-assets/v1.0.0/schema.json",
          "https://stac-extensions.github.io/eo/v1.1.0/schema.json"
         ],
         "stac_version": "1.0.0",
         "summaries": {
          "constellation": [
           "Sentinel-2"
          ],
          "eo:bands": [
           {
            "center_wavelength": "442.7 (S2B:442.2)",
            "common_name": "coastal",
            "description": "Coastal aerosol",
            "name": "B01"
           },
           {
            "center_wavelength": "492.4 (S2B:492.1)",
            "common_name": "blue",
            "description": "visible blue",
            "name": "B02"
           },
           {
            "center_wavelength": "559.8 (S2B:559.0)",
            "common_name": "green",
            "description": "visible green",
            "name": "B03"
           },
           {
            "center_wavelength": 664.6,
            "common_name": "red",
            "description": "visible red",
            "name": "B04"
           },
           {
            "center_wavelength": "704.1 (S2B:703.8)",
            "common_name": "rededge",
            "description": "Vegetation red edge",
            "name": "B05"
           },
           {
            "center_wavelength": "740.5 (S2B:739.1)",
            "common_name": "rededge",
            "description": "Vegetation red edge",
            "name": "B06"
           },
           {
            "center_wavelength": "782.8 (S2B:779.7)",
            "common_name": "rededge",
            "description": "Vegetation red edge",
            "name": "B07"
           },
           {
            "center_wavelength": "832.8 (S2B:832.9)",
            "common_name": "nir",
            "description": "near infrared",
            "name": "B08"
           },
           {
            "center_wavelength": "864.7 (S2B:864.0)",
            "common_name": "nir08",
            "description": "narrow nir infrared",
            "name": "B8A"
           },
           {
            "center_wavelength": "945.1 (S2B:943.2)",
            "description": "water vapour",
            "name": "B09"
           },
           {
            "center_wavelength": "1373.5 (S2B:1376.9)",
            "common_name": "cirrus",
            "description": "short-wave infrared cirrus",
            "name": "B10"
           },
           {
            "center_wavelength": "1613.7 (S2B:1610.4)",
            "common_name": "swir16",
            "description": "short-wave infrared",
            "name": "B11"
           },
           {
            "center_wavelength": "2202.4 (S2B: 2185.7)",
            "common_name": "swir22",
            "description": "short-wave infrared",
            "name": "B12"
           }
          ],
          "instruments": [
           "msi"
          ],
          "platform": [
           "Sentinel-2A",
           "Sentinel-2B"
          ],
          "processing:level": [
           "L2B"
          ],
          "s1:product_timeliness": [
           "NRT-8h",
           "Off-line"
          ]
         },
         "title": "Sentinel 2 MSI Level 2-A",
         "type": "Collection"
        },
        {
         "assets": {
          "thumbnail": {
           "href": "https://wekeo2-prod-data-access-config.s3.waw3-2.cloudferro.com/previews/EO_ESA_DAT_SENTINEL-3_OL_2_LFR___.jpg",
           "roles": [
            "thumbnail"
           ],
           "title": "Sentinel-3A OLCI land",
           "type": "image/jpeg"
          }
         },
         "dedl:short_description": "OLCI (Ocean and Land Colour Instrument) Ocean Colour Geophysical Products. OLCI Land Level 2 product contains land and atmospheric geophysical products at full and reduced resolutions.",
         "description": "OLCI (Ocean and Land Colour Instrument) Ocean Colour Geophysical Products. OLCI Land Level 2 product contains land and atmospheric geophysical products at full and reduced resolutions. Each Land product provides as measurement data files: a) surface product as Global Vegetation Index (OGVI) and Terrestrial Chlorophyll Index (OTCI) b)atmosphere by-products as Integrated Water Vapour (IWV) column (this product also contains information for water pixels and is identical to that included in OL_2_WRR and OL_2_WFR) c) error estimates for all products.. All Sentinel-3 Short Time Critical (STC) products are available at pick-up point in less than 48 hours. All Sentinel-3 NRT products are available at pick-up point in less than 3h.  All Sentinel-3 Non Time Critical (NTC) products are available at pick-up point in less than 30 days. Sentinel-3 is part of a series of Sentinel satellites, under the umbrella of the EU Copernicus programme.",
         "extent": {
          "spatial": {
           "bbox": [
            [
             -180,
             -90,
             180,
             90
            ]
           ]
          },
          "temporal": {
           "interval": [
            [
             "2017-07-05T00:00:00Z",
             null
            ]
           ]
          }
         },
         "id": "EO.ESA.DAT.SENTINEL-3.OL_2_LFR___",
         "item_assets": {
          "thumbnail": {
           "description": "An averaged, decimated preview image in PNG format. Single polarisation products are represented with a grey scale image. Dual polarisation products are represented by a single composite colour image in RGB with the red channel (R) representing the  co-polarisation VV or HH), the green channel (G) represents the cross-polarisation (VH or HV) and the blue channel (B) represents the ratio of the cross an co-polarisations.",
           "roles": [
            "thumbnail"
           ],
           "title": "Preview Image",
           "type": "image/png"
          }
         },
         "keywords": [
          "Level 2 Data",
          "Land",
          "Land Colour"
         ],
         "license": "proprietary",
         "links": [
          {
           "href": "https://sentinel.esa.int/documents/247904/690755/Sentinel_Data_Legal_Notice",
           "rel": "license",
           "title": "Copernicus Sentinel data terms"
          },
          {
           "href": "https://hda.data.destination-earth.eu/stac/collections/EO.ESA.DAT.SENTINEL-3.OL_2_LFR___",
           "rel": "self",
           "title": "EO.ESA.DAT.SENTINEL-3.OL_2_LFR___"
          },
          {
           "href": "https://hda.data.destination-earth.eu/stac/",
           "rel": "root"
          },
          {
           "href": "https://hda.data.destination-earth.eu/stac/collections/EO.ESA.DAT.SENTINEL-3.OL_2_LFR___/items",
           "rel": "items",
           "title": "items"
          }
         ],
         "providers": [
          {
           "name": "ESA",
           "roles": [
            "producer",
            "processor",
            "licensor"
           ],
           "url": "https://earth.esa.int"
          },
          {
           "name": "dedl",
           "roles": [
            "host"
           ],
           "url": "https://creodias.eu/"
          },
          {
           "name": "creodias",
           "roles": [
            "host"
           ],
           "url": "https://creodias.eu/"
          },
          {
           "name": "wekeo",
           "roles": [
            "host"
           ],
           "url": "https://www.wekeo.eu/"
          }
         ],
         "stac_extensions": [
          "https://stac-extensions.github.io/eo/v1.1.0/schema.json",
          "https://stac-extensions.github.io/processing/v1.2.0/schema.json",
          "https://stac-extensions.github.io/item-assets/v1.0.0/schema.json"
         ],
         "stac_version": "1.0.0",
         "summaries": {
          "constellation": [
           "Sentinel-3"
          ],
          "eo:bands": [
           {
            "Centre Wavelength": "413 nm",
            "description": "Yellow Substance and Detrital Pigments",
            "name": "O1"
           },
           {
            "Centre Wavelength": "443 nm",
            "description": "Chl Absorption Max. /Vegetation",
            "name": "O2"
           },
           {
            "Centre Wavelength": "490 nm",
            "description": "Chl, Other Pigments",
            "name": "O3"
           },
           {
            "Centre Wavelength": "510 nm",
            "description": "Chl, Sediment, Turbidity, Red tide",
            "name": "O4"
           },
           {
            "Centre Wavelength": "560 nm",
            "description": "Chlorophyll Reference",
            "name": "O5"
           },
           {
            "Centre Wavelength": "620 nm",
            "description": "Sediment Loading",
            "name": "O6"
           },
           {
            "Centre Wavelength": "665 nm",
            "description": "Chl, Sediment, Yellow Substance / Vegetation",
            "name": "O7"
           },
           {
            "Centre Wavelength": "681 nm",
            "description": "Chl Fluorescence Peak, Red Edge",
            "name": "O8"
           },
           {
            "Centre Wavelength": "709 nm",
            "description": "Chl Fluorescence Baseline",
            "name": "O9"
           },
           {
            "Centre Wavelength": "754 nm",
            "description": "O2 Absorption /Cloud/ Ocean Colour",
            "name": "O10"
           },
           {
            "Centre Wavelength": "761 nm",
            "description": "O2 Absorption Band/Aerosol Corr.",
            "name": "O11"
           },
           {
            "Centre Wavelength": "779 nm",
            "description": "Atmos. / Aerosol Corr.",
            "name": "O12"
           },
           {
            "Centre Wavelength": "865 nm",
            "description": "Aerosols, Clouds, Pixel Co-registration",
            "name": "O13"
           },
           {
            "Centre Wavelength": "885 nm",
            "description": "Water Vap. Absorption Ref.",
            "name": "O14"
           },
           {
            "Centre Wavelength": "900 nm",
            "description": "Water Vap. Absorption / Vegetation",
            "name": "O15"
           },
           {
            "Centre Wavelength": "1020 nm",
            "description": "Atmos. / Aerosol Corr.",
            "name": "O16"
           }
          ],
          "instruments": [
           "OLCI (Ocean and Land Colour Instrument)"
          ],
          "platform": [
           "SENTINEL-3A",
           "SENTINEL-3B"
          ],
          "processing:level": [
           "L1B"
          ],
          "s1:product_timeliness": [
           "NRT-3h",
           "STC-48h",
           "NTC-1m"
          ]
         },
         "title": "OLCI Land Colour Full Resolution - Sentinel-3",
         "type": "Collection"
        },
        {
         "assets": {
          "thumbnail": {
           "href": "https://wekeo2-prod-data-access-config.s3.waw3-2.cloudferro.com/previews/EO_ESA_DAT_SENTINEL-3_OL_2_LRR___.jpg",
           "roles": [
            "thumbnail"
           ],
           "title": "Sentinel-3A OLCI land",
           "type": "image/jpeg"
          }
         },
         "description": "OLCI (Ocean and Land Colour Instrument) Ocean Colour Geophysical Products. Reduced Resolution: 1200m at nadir. OLCI Land Level 2 product contains land and atmospheric geophysical products at full and reduced resolutions. Each Land product provides as measurement data files: a) surface product as Global Vegetation Index (OGVI) and Terrestrial Chlorophyll Index (OTCI) b)atmosphere by-products as Integrated Water Vapour (IWV) column (this product also contains information for water pixels and is identical to that included in OL_2_WRR and OL_2_WFR) c) error estimates for all products.. All Sentinel-3 Short Time Critical (STC) products are available at pick-up point in less than 48 hours. All Sentinel-3 NRT products are available at pick-up point in less than 3h.  All Sentinel-3 Non Time Critical (NTC) products are available at pick-up point in less than 30 days. Sentinel-3 is part of a series of Sentinel satellites, under the umbrella of the EU Copernicus programme.",
         "extent": {
          "spatial": {
           "bbox": [
            [
             -180,
             -90,
             180,
             90
            ]
           ]
          },
          "temporal": {
           "interval": [
            [
             "2017-07-05T00:00:00Z",
             null
            ]
           ]
          }
         },
         "id": "EO.ESA.DAT.SENTINEL-3.OL_2_LRR___",
         "item_assets": {
          "thumbnail": {
           "description": "An averaged, decimated preview image in PNG format. Single polarisation products are represented with a grey scale image. Dual polarisation products are represented by a single composite colour image in RGB with the red channel (R) representing the  co-polarisation VV or HH), the green channel (G) represents the cross-polarisation (VH or HV) and the blue channel (B) represents the ratio of the cross an co-polarisations.",
           "roles": [
            "thumbnail"
           ],
           "title": "Preview Image",
           "type": "image/png"
          }
         },
         "keywords": [
          "Level 2 Data",
          "Land",
          "Land Colour"
         ],
         "license": "proprietary",
         "links": [
          {
           "href": "https://sentinel.esa.int/documents/247904/690755/Sentinel_Data_Legal_Notice",
           "rel": "license",
           "title": "Copernicus Sentinel data terms"
          },
          {
           "href": "https://hda.data.destination-earth.eu/stac/collections/EO.ESA.DAT.SENTINEL-3.OL_2_LRR___",
           "rel": "self",
           "title": "EO.ESA.DAT.SENTINEL-3.OL_2_LRR___"
          },
          {
           "href": "https://hda.data.destination-earth.eu/stac/",
           "rel": "root"
          },
          {
           "href": "https://hda.data.destination-earth.eu/stac/collections/EO.ESA.DAT.SENTINEL-3.OL_2_LRR___/items",
           "rel": "items",
           "title": "items"
          }
         ],
         "providers": [
          {
           "name": "ESA",
           "roles": [
            "producer",
            "processor",
            "licensor"
           ],
           "url": "https://earth.esa.int"
          },
          {
           "name": "dedl",
           "roles": [
            "host"
           ],
           "url": "https://creodias.eu/"
          },
          {
           "name": "creodias",
           "roles": [
            "host"
           ],
           "url": "https://creodias.eu/"
          },
          {
           "name": "wekeo",
           "roles": [
            "host"
           ],
           "url": "https://www.wekeo.eu/"
          }
         ],
         "stac_extensions": [
          "https://stac-extensions.github.io/eo/v1.1.0/schema.json",
          "https://stac-extensions.github.io/processing/v1.2.0/schema.json",
          "https://stac-extensions.github.io/item-assets/v1.0.0/schema.json"
         ],
         "stac_version": "1.0.0",
         "summaries": {
          "constellation": [
           "Sentinel-3"
          ],
          "eo:bands": [
           {
            "Centre Wavelength": "413 nm",
            "description": "Yellow Substance and Detrital Pigments",
            "name": "O1"
           },
           {
            "Centre Wavelength": "443 nm",
            "description": "Chl Absorption Max. /Vegetation",
            "name": "O2"
           },
           {
            "Centre Wavelength": "490 nm",
            "description": "Chl, Other Pigments",
            "name": "O3"
           },
           {
            "Centre Wavelength": "510 nm",
            "description": "Chl, Sediment, Turbidity, Red tide",
            "name": "O4"
           },
           {
            "Centre Wavelength": "560 nm",
            "description": "Chlorophyll Reference",
            "name": "O5"
           },
           {
            "Centre Wavelength": "620 nm",
            "description": "Sediment Loading",
            "name": "O6"
           },
           {
            "Centre Wavelength": "665 nm",
            "description": "Chl, Sediment, Yellow Substance / Vegetation",
            "name": "O7"
           },
           {
            "Centre Wavelength": "681 nm",
            "description": "Chl Fluorescence Peak, Red Edge",
            "name": "O8"
           },
           {
            "Centre Wavelength": "709 nm",
            "description": "Chl Fluorescence Baseline",
            "name": "O9"
           },
           {
            "Centre Wavelength": "754 nm",
            "description": "O2 Absorption /Cloud/ Ocean Colour",
            "name": "O10"
           },
           {
            "Centre Wavelength": "761 nm",
            "description": "O2 Absorption Band/Aerosol Corr.",
            "name": "O11"
           },
           {
            "Centre Wavelength": "779 nm",
            "description": "Atmos. / Aerosol Corr.",
            "name": "O12"
           },
           {
            "Centre Wavelength": "865 nm",
            "description": "Aerosols, Clouds, Pixel Co-registration",
            "name": "O13"
           },
           {
            "Centre Wavelength": "885 nm",
            "description": "Water Vap. Absorption Ref.",
            "name": "O14"
           },
           {
            "Centre Wavelength": "900 nm",
            "description": "Water Vap. Absorption / Vegetation",
            "name": "O15"
           },
           {
            "Centre Wavelength": "1020 nm",
            "description": "Atmos. / Aerosol Corr.",
            "name": "O16"
           }
          ],
          "instruments": [
           "OLCI (Ocean and Land Colour Instrument)"
          ],
          "platform": [
           "SENTINEL-3A",
           "SENTINEL-3B"
          ],
          "processing:level": [
           "L1B"
          ],
          "s1:product_timeliness": [
           "NRT-3h",
           "STC-48h",
           "NTC-1m"
          ]
         },
         "title": "OLCI Land Colour Reduced Resolution - Sentinel-3",
         "type": "Collection"
        },
        {
         "assets": {
          "thumbnail": {
           "href": "https://navigator.eumetsat.int/preview/chl_OC4ME_20June2017.png",
           "roles": [
            "thumbnail"
           ],
           "title": "Sentinel-3A OLCI algal pigment concentration",
           "type": "image/png"
          }
         },
         "dedl:short_description": "OLCI (Ocean and Land Colour Instrument) Ocean Colour Geophysical Products. Full Resolution: 300m at nadir.",
         "description": "OLCI (Ocean and Land Colour Instrument) Ocean Colour Geophysical Products. Full Resolution: 300m at nadir. All Sentinel-3 NRT products are available at pick-up point in less than 3h. Level 2 marine products include the following: * water-leaving reflectances in 16 bands, Oa**_reflectance (Baseline Atmospheric Correction (BAC) algorithm, bands: 400, 412, 442, 490, 510, 560, 620, 665, 674, 681, 709, 754, 779, 865, 885, 1024 nanometer (nm)); *algal pigment concentration in clear waters, chl_oc4me (BAC and maximum band ratio algorithm, log10 scaled); *algal pigment concentration in turbid waters, chl_nn (neural net algorithm, log10 scaled); *total suspended matter concentration, tsm_nn (neural net algorithm, log10 scaled); *diffuse attenuation coefficient Kd of downward irradiance at 490 nm, trsp (BAC and M07 algorithm, log10 scaled); *absorption coefficient at 443 nm of coloured detrital and dissolved organic matter, iop_nn (neural net algorithm, log10 scaled); *instantaneous photosynthetically active radiation, PAR (BAC and clear-sky ocean algorithm); *aerosol optical thickness T865 and aerosol Angstrom exponent A865, w_aer (BAC algorithm, A for bands 779 and 865 nm) *integrated water vapour column, iwv (1D-Var algorithm). The geophysical products are accompanied by error estimate products. Pixel classification, quality and science flags, as well as meteorological, geometry and geolocation data at tie points are provided.\n\n- All Sentinel-3 NRT products are available at pick-up point in less than 3h\n- All Sentinel-3 Non Time Critical (NTC) products are available at pick-up point in less than 30 days\nSentinel-3 is part of a series of Sentinel satellites, under the umbrella of the EU Copernicus programme.",
         "extent": {
          "spatial": {
           "bbox": [
            [
             -180,
             -90,
             180,
             90
            ]
           ]
          },
          "temporal": {
           "interval": [
            [
             "2017-07-05T00:00:00Z",
             null
            ]
           ]
          }
         },
         "id": "EO.EUM.DAT.SENTINEL-3.OL_2_WFR___",
         "item_assets": {
          "thumbnail": {
           "description": "An averaged, decimated preview image in PNG format. Single polarisation products are represented with a grey scale image. Dual polarisation products are represented by a single composite colour image in RGB with the red channel (R) representing the  co-polarisation VV or HH), the green channel (G) represents the cross-polarisation (VH or HV) and the blue channel (B) represents the ratio of the cross an co-polarisations.",
           "roles": [
            "thumbnail"
           ],
           "title": "Preview Image",
           "type": "image/png"
          }
         },
         "keywords": [
          "Level 2 Data",
          "Ocean",
          "Ocean Colour",
          "Water Quality",
          "Chlorophyll-a Concentration"
         ],
         "license": "proprietary",
         "links": [
          {
           "href": "https://www.eumetsat.int/data-policy/eumetsat-data-policy.pdf",
           "rel": "license",
           "title": "EUMETSAT Data Policy"
          },
          {
           "href": "https://hda.data.destination-earth.eu/stac/collections/EO.EUM.DAT.SENTINEL-3.OL_2_WFR___",
           "rel": "self",
           "title": "EO.EUM.DAT.SENTINEL-3.OL_2_WFR___"
          },
          {
           "href": "https://hda.data.destination-earth.eu/stac/",
           "rel": "root"
          },
          {
           "href": "https://hda.data.destination-earth.eu/stac/collections/EO.EUM.DAT.SENTINEL-3.OL_2_WFR___/items",
           "rel": "items",
           "title": "items"
          }
         ],
         "providers": [
          {
           "name": "eumetsat",
           "roles": [
            "producer",
            "processor",
            "licensor"
           ],
           "url": "https://www.eumetsat.int/"
          },
          {
           "name": "dedl",
           "roles": [
            "host"
           ],
           "url": "https://creodias.eu/"
          },
          {
           "name": "creodias",
           "roles": [
            "host"
           ],
           "url": "https://creodias.eu/"
          },
          {
           "name": "wekeo",
           "roles": [
            "host"
           ],
           "url": "https://www.wekeo.eu/"
          },
          {
           "name": "eumetsat",
           "roles": [
            "host"
           ],
           "url": "https://data.eumetsat.int"
          }
         ],
         "stac_extensions": [
          "https://stac-extensions.github.io/eo/v1.1.0/schema.json",
          "https://stac-extensions.github.io/processing/v1.2.0/schema.json",
          "https://stac-extensions.github.io/item-assets/v1.0.0/schema.json"
         ],
         "stac_version": "1.0.0",
         "summaries": {
          "constellation": [
           "Sentinel-3"
          ],
          "eo:bands": [
           {
            "Centre Wavelength": "413 nm",
            "description": "Yellow Substance and Detrital Pigments",
            "name": "O1"
           },
           {
            "Centre Wavelength": "443 nm",
            "description": "Chl Absorption Max. /Vegetation",
            "name": "O2"
           },
           {
            "Centre Wavelength": "490 nm",
            "description": "Chl, Other Pigments",
            "name": "O3"
           },
           {
            "Centre Wavelength": "510 nm",
            "description": "Chl, Sediment, Turbidity, Red tide",
            "name": "O4"
           },
           {
            "Centre Wavelength": "560 nm",
            "description": "Chlorophyll Reference",
            "name": "O5"
           },
           {
            "Centre Wavelength": "620 nm",
            "description": "Sediment Loading",
            "name": "O6"
           },
           {
            "Centre Wavelength": "665 nm",
            "description": "Chl, Sediment, Yellow Substance / Vegetation",
            "name": "O7"
           },
           {
            "Centre Wavelength": "681 nm",
            "description": "Chl Fluorescence Peak, Red Edge",
            "name": "O8"
           },
           {
            "Centre Wavelength": "709 nm",
            "description": "Chl Fluorescence Baseline",
            "name": "O9"
           },
           {
            "Centre Wavelength": "754 nm",
            "description": "O2 Absorption /Cloud/ Ocean Colour",
            "name": "O10"
           },
           {
            "Centre Wavelength": "761 nm",
            "description": "O2 Absorption Band/Aerosol Corr.",
            "name": "O11"
           },
           {
            "Centre Wavelength": "779 nm",
            "description": "Atmos. / Aerosol Corr.",
            "name": "O12"
           },
           {
            "Centre Wavelength": "865 nm",
            "description": "Aerosols, Clouds, Pixel Co-registration",
            "name": "O13"
           },
           {
            "Centre Wavelength": "885 nm",
            "description": "Water Vap. Absorption Ref.",
            "name": "O14"
           },
           {
            "Centre Wavelength": "900 nm",
            "description": "Water Vap. Absorption / Vegetation",
            "name": "O15"
           },
           {
            "Centre Wavelength": "1020 nm",
            "description": "Atmos. / Aerosol Corr.",
            "name": "O16"
           }
          ],
          "instruments": [
           "OLCI (Ocean and Land Colour Instrument)"
          ],
          "platform": [
           "SENTINEL-3A",
           "SENTINEL-3B"
          ],
          "processing:level": [
           "L1B"
          ],
          "s1:product_timeliness": [
           "NRT-3h",
           "STC-48h",
           "NTC-1m"
          ]
         },
         "title": "OLCI Level 2 Ocean Colour Full Resolution - Sentinel-3",
         "type": "Collection"
        },
        {
         "assets": {
          "thumbnail": {
           "href": "https://navigator.eumetsat.int/preview/chl_OC4ME_20June2017.png",
           "roles": [
            "thumbnail"
           ],
           "title": "Sentinel-3A OLCI algal pigment concentration",
           "type": "image/png"
          }
         },
         "dedl:short_description": "OLCI (Ocean and Land Colour Instrument) Ocean Colour Geophysical Products. Reduced Resolution: 1200m at nadir.",
         "description": "OLCI (Ocean and Land Colour Instrument) Ocean Colour Geophysical Products. Reduced Resolution: 1200m at nadir. Level 2 marine products include the following: * water-leaving reflectances in 16 bands, Oa**_reflectance (Baseline Atmospheric Correction (BAC) algorithm, bands: 400, 412, 442, 490, 510, 560, 620, 665, 674, 681, 709, 754, 779, 865, 885, 1024 nanometer (nm)); *algal pigment concentration in clear waters, chl_oc4me (BAC and maximum band ratio algorithm, log10 scaled); *algal pigment concentration in turbid waters, chl_nn (neural net algorithm, log10 scaled); *total suspended matter concentration, tsm_nn (neural net algorithm, log10 scaled); *diffuse attenuation coefficient Kd of downward irradiance at 490 nm, trsp (BAC and M07 algorithm, log10 scaled); *absorption coefficient at 443 nm of coloured detrital and dissolved organic matter, iop_nn (neural net algorithm, log10 scaled); *instantaneous photosynthetically active radiation, PAR (BAC and clear-sky ocean algorithm); *aerosol optical thickness T865 and aerosol Angstrom exponent A865, w_aer (BAC algorithm, A for bands 779 and 865 nm) *integrated water vapour column, iwv (1D-Var algorithm). The geophysical products are accompanied by error estimate products. Pixel classification, quality and science flags, as well as meteorological, geometry and geolocation data at tie points are provided. \n\n- All Sentinel-3 NRT products are available at pick-up point in less than 3h\n- All Sentinel-3 Non Time Critical (NTC) products are available at pick-up point in less than 30 days.\nSentinel-3 is part of a series of Sentinel satellites, under the umbrella of the EU Copernicus programme.",
         "extent": {
          "spatial": {
           "bbox": [
            [
             -180,
             -90,
             180,
             90
            ]
           ]
          },
          "temporal": {
           "interval": [
            [
             "2017-07-05T00:00:00Z",
             null
            ]
           ]
          }
         },
         "id": "EO.EUM.DAT.SENTINEL-3.OL_2_WRR___",
         "item_assets": {
          "thumbnail": {
           "description": "An averaged, decimated preview image in PNG format. Single polarisation products are represented with a grey scale image. Dual polarisation products are represented by a single composite colour image in RGB with the red channel (R) representing the  co-polarisation VV or HH), the green channel (G) represents the cross-polarisation (VH or HV) and the blue channel (B) represents the ratio of the cross an co-polarisations.",
           "roles": [
            "thumbnail"
           ],
           "title": "Preview Image",
           "type": "image/png"
          }
         },
         "keywords": [
          "Level 2 Data",
          "Ocean",
          "Ocean Colour",
          "Water Quality",
          "Chlorophyll-a Concentration"
         ],
         "license": "proprietary",
         "links": [
          {
           "href": "https://www.eumetsat.int/data-policy/eumetsat-data-policy.pdf",
           "rel": "license",
           "title": "EUMETSAT Data Policy"
          },
          {
           "href": "https://hda.data.destination-earth.eu/stac/collections/EO.EUM.DAT.SENTINEL-3.OL_2_WRR___",
           "rel": "self",
           "title": "EO.EUM.DAT.SENTINEL-3.OL_2_WRR___"
          },
          {
           "href": "https://hda.data.destination-earth.eu/stac/",
           "rel": "root"
          },
          {
           "href": "https://hda.data.destination-earth.eu/stac/collections/EO.EUM.DAT.SENTINEL-3.OL_2_WRR___/items",
           "rel": "items",
           "title": "items"
          }
         ],
         "providers": [
          {
           "name": "eumetsat",
           "roles": [
            "producer",
            "processor",
            "licensor"
           ],
           "url": "https://www.eumetsat.int/"
          },
          {
           "name": "dedl",
           "roles": [
            "host"
           ],
           "url": "https://creodias.eu/"
          },
          {
           "name": "creodias",
           "roles": [
            "host"
           ],
           "url": "https://creodias.eu/"
          },
          {
           "name": "wekeo",
           "roles": [
            "host"
           ],
           "url": "https://www.wekeo.eu/"
          },
          {
           "name": "eumetsat",
           "roles": [
            "host"
           ],
           "url": "https://data.eumetsat.int"
          }
         ],
         "stac_extensions": [
          "https://stac-extensions.github.io/eo/v1.1.0/schema.json",
          "https://stac-extensions.github.io/processing/v1.2.0/schema.json",
          "https://stac-extensions.github.io/item-assets/v1.0.0/schema.json"
         ],
         "stac_version": "1.0.0",
         "summaries": {
          "constellation": [
           "Sentinel-3"
          ],
          "eo:bands": [
           {
            "Centre Wavelength": "413 nm",
            "description": "Yellow Substance and Detrital Pigments",
            "name": "O1"
           },
           {
            "Centre Wavelength": "443 nm",
            "description": "Chl Absorption Max. /Vegetation",
            "name": "O2"
           },
           {
            "Centre Wavelength": "490 nm",
            "description": "Chl, Other Pigments",
            "name": "O3"
           },
           {
            "Centre Wavelength": "510 nm",
            "description": "Chl, Sediment, Turbidity, Red tide",
            "name": "O4"
           },
           {
            "Centre Wavelength": "560 nm",
            "description": "Chlorophyll Reference",
            "name": "O5"
           },
           {
            "Centre Wavelength": "620 nm",
            "description": "Sediment Loading",
            "name": "O6"
           },
           {
            "Centre Wavelength": "665 nm",
            "description": "Chl, Sediment, Yellow Substance / Vegetation",
            "name": "O7"
           },
           {
            "Centre Wavelength": "681 nm",
            "description": "Chl Fluorescence Peak, Red Edge",
            "name": "O8"
           },
           {
            "Centre Wavelength": "709 nm",
            "description": "Chl Fluorescence Baseline",
            "name": "O9"
           },
           {
            "Centre Wavelength": "754 nm",
            "description": "O2 Absorption /Cloud/ Ocean Colour",
            "name": "O10"
           },
           {
            "Centre Wavelength": "761 nm",
            "description": "O2 Absorption Band/Aerosol Corr.",
            "name": "O11"
           },
           {
            "Centre Wavelength": "779 nm",
            "description": "Atmos. / Aerosol Corr.",
            "name": "O12"
           },
           {
            "Centre Wavelength": "865 nm",
            "description": "Aerosols, Clouds, Pixel Co-registration",
            "name": "O13"
           },
           {
            "Centre Wavelength": "885 nm",
            "description": "Water Vap. Absorption Ref.",
            "name": "O14"
           },
           {
            "Centre Wavelength": "900 nm",
            "description": "Water Vap. Absorption / Vegetation",
            "name": "O15"
           },
           {
            "Centre Wavelength": "1020 nm",
            "description": "Atmos. / Aerosol Corr.",
            "name": "O16"
           }
          ],
          "instruments": [
           "OLCI (Ocean and Land Colour Instrument)"
          ],
          "platform": [
           "SENTINEL-3A",
           "SENTINEL-3B"
          ],
          "processing:level": [
           "L1B"
          ],
          "s1:product_timeliness": [
           "NRT-3h",
           "STC-48h",
           "NTC-1m"
          ]
         },
         "title": "OLCI Level 2 Ocean Colour Reduced Resolution - Sentinel-3",
         "type": "Collection"
        },
        {
         "assets": {
          "thumbnail": {
           "href": "https://mdl-metadata.s3.waw3-1.cloudferro.com/metadata/thumbnails/GLOBAL_ANALYSISFORECAST_BGC_001_028.jpg",
           "roles": [
            "thumbnail"
           ],
           "title": "Global Ocean Biogeochemistry Analysis and Forecast thumbnail",
           "type": "image/jpeg"
          }
         },
         "description": "The Operational Mercator Ocean biogeochemical global ocean analysis and forecast system  at 1/4 degree is providing 10 days of 3D global ocean forecasts updated weekly. The time series is aggregated in time, in order to reach a two full year’s time series sliding window. This product includes daily and monthly mean files of biogeochemical parameters (chlorophyll, nitrate, phosphate, silicate, dissolved oxygen, dissolved iron, primary production, phytoplankton, PH, and surface partial pressure of carbon dioxyde) over the global ocean. The global ocean output files are displayed with a 1/4 degree horizontal resolution with regular longitude/latitude equirectangular projection. 50 vertical levels are ranging from 0 to 5700 meters.\n\n* NEMO version (v3.6_STABLE)\n* Forcings: GLOBAL_ANALYSIS_FORECAST_PHYS_001_024 at daily frequency.                                                                           \n* Outputs mean fields are interpolated on a standard regular grid in NetCDF format.\n* Initial conditions: World Ocean Atlas 2013 for nitrate, phosphate, silicate and dissolved oxygen, GLODAPv2 for DIC and Alkalinity, and climatological model outputs for Iron and DOC \n* Quality/Accuracy/Calibration information: See the related [QuID](http://catalogue.marine.copernicus.eu/documents/QUID/CMEMS-GLO-QUID-001-028.pdf) \n\n**DOI (product):**   \nhttps://doi.org/10.48670/moi-00015",
         "extent": {
          "spatial": {
           "bbox": [
            [
             -180,
             -80,
             179.75,
             90
            ]
           ]
          },
          "temporal": {
           "interval": [
            [
             "2021-10-01T00:00:00Z",
             "2024-06-14T00:00:00Z"
            ]
           ]
          }
         },
         "id": "EO.MO.DAT.GLOBAL_ANALYSISFORECAST_BGC_001_028",
         "keywords": [
          "mole-concentration-of-phosphate-in-sea-water",
          "coastal-marine-environment",
          "cell-thickness",
          "weather-climate-and-seasonal-forecasting",
          "mole-concentration-of-dissolved-molecular-oxygen-in-sea-water",
          "marine-resources",
          "mole-concentration-of-nitrate-in-sea-water",
          "net-primary-production-of-biomass-expressed-as-carbon-per-unit-volume-in-sea-water",
          "global-ocean",
          "level-4",
          "surface-partial-pressure-of-carbon-dioxide-in-sea-water",
          "sea-water-ph-reported-on-total-scale",
          "mole-concentration-of-phytoplankton-expressed-as-carbon-in-sea-water",
          "mass-concentration-of-chlorophyll-a-in-sea-water",
          "numerical-model",
          "model-level-number-at-sea-floor",
          "mole-concentration-of-silicate-in-sea-water",
          "forecast",
          "mole-concentration-of-dissolved-iron-in-sea-water",
          "sea-floor-depth-below-geoid",
          "satellite-chlorophyll",
          "oceanographic-geographical-features",
          "sea-water-alkalinity-expressed-as-mole-equivalent",
          "volume-attenuation-coefficient-of-downwelling-radiative-flux-in-sea-water",
          "mole-concentration-of-dissolved-inorganic-carbon-in-sea-water",
          "near-real-time",
          "marine-safety"
         ],
         "license": "proprietary",
         "links": [
          {
           "href": "https://marine.copernicus.eu/user-corner/service-commitments-and-licence",
           "rel": "license",
           "title": "Copernicus Marine Service Commitments and Licence",
           "type": "text/html"
          },
          {
           "href": "https://doi.org/10.48670/moi-00015",
           "rel": "cite-as",
           "title": "10.48670/moi-00015",
           "type": "text/html"
          },
          {
           "href": "https://data.marine.copernicus.eu/product/GLOBAL_ANALYSISFORECAST_BGC_001_028",
           "rel": "alternative",
           "title": "Product page",
           "type": "text/html"
          },
          {
           "href": "https://catalogue.marine.copernicus.eu/documents/QUID/CMEMS-GLO-QUID-001-028.pdf",
           "rel": "describedby",
           "title": "Quality Information Document",
           "type": "application/pdf"
          },
          {
           "href": "https://catalogue.marine.copernicus.eu/documents/PUM/CMEMS-GLO-PUM-001-028.pdf",
           "rel": "describedby",
           "title": "Product User Manual",
           "type": "application/pdf"
          },
          {
           "href": "https://catalogue.marine.copernicus.eu/documents/SQO/CMEMS-GLO-SQO-001-028.pdf",
           "rel": "describedby",
           "title": "Synthesis Quality Overview",
           "type": "application/pdf"
          },
          {
           "href": "https://hda.data.destination-earth.eu/stac/collections/EO.MO.DAT.GLOBAL_ANALYSISFORECAST_BGC_001_028",
           "rel": "self",
           "title": "EO.MO.DAT.GLOBAL_ANALYSISFORECAST_BGC_001_028"
          },
          {
           "href": "https://hda.data.destination-earth.eu/stac/",
           "rel": "root"
          },
          {
           "href": "https://hda.data.destination-earth.eu/stac/collections/EO.MO.DAT.GLOBAL_ANALYSISFORECAST_BGC_001_028/items",
           "rel": "items",
           "title": "items"
          }
         ],
         "providers": [
          {
           "name": "Mercator Océan International",
           "roles": [
            "producer"
           ]
          },
          {
           "name": "Copernicus Marine Service",
           "roles": [
            "processor"
           ],
           "url": "https://marine.copernicus.eu"
          },
          {
           "name": "cop_marine",
           "roles": [
            "host"
           ],
           "url": "https://marine.copernicus.eu/"
          }
         ],
         "stac_extensions": [
          "https://stac-extensions.github.io/scientific/v1.0.0/schema.json"
         ],
         "stac_version": "1.0.0",
         "summaries": {
          "constellation": [
           null
          ],
          "intruments": [
           null
          ],
          "platform": [
           null
          ],
          "processing:level": null
         },
         "title": "Global Ocean Biogeochemistry Analysis and Forecast",
         "type": "Collection"
        },
        {
         "assets": {
          "thumbnail": {
           "href": "https://mdl-metadata.s3.waw3-1.cloudferro.com/metadata/thumbnails/GLOBAL_MULTIYEAR_BGC_001_033.jpg",
           "roles": [
            "thumbnail"
           ],
           "title": "Global ocean low and mid trophic levels biomass content hindcast thumbnail",
           "type": "image/jpeg"
          }
         },
         "description": "The Low and Mid-Trophic Levels (LMTL) reanalysis for global ocean is produced at [CLS](https://www.cls.fr) on behalf of Global Ocean Marine Forecasting Center. It provides 2D fields of biomass content of zooplankton and six functional groups of micronekton. It uses the LMTL component of SEAPODYM dynamical population model (http://www.seapodym.eu). No data assimilation has been done. This product also contains forcing data: net primary production, euphotic depth, depth of each pelagic layers zooplankton and micronekton inhabit, average temperature and currents over pelagic layers.\n\n**Forcings sources:**\n* Ocean currents and temperature (CMEMS multiyear product)\n* Net Primary Production computed from chlorophyll a, Sea Surface Temperature and Photosynthetically Active Radiation observations (chlorophyll from CMEMS multiyear product, SST from NOAA NCEI AVHRR-only Reynolds, PAR from INTERIM) and relaxed by model outputs at high latitudes (CMEMS biogeochemistry multiyear product)\n\n**Vertical coverage:**\n* Epipelagic layer \n* Upper mesopelagic layer\n* Lower mesopelagic layer (max. 1000m)\n\n**DOI (product):**   \nhttps://doi.org/10.48670/moi-00020\n\n**References:**\n\n* Lehodey P., Murtugudde R., Senina I. (2010). Bridging the gap from ocean models to population dynamics of large marine predators: a model of mid-trophic functional groups. Progress in Oceanography, 84, p. 69-84.\n* Lehodey, P., Conchon, A., Senina, I., Domokos, R., Calmettes, B., Jouanno, J., Hernandez, O., Kloser, R. (2015) Optimization of a micronekton model with acoustic data. ICES Journal of Marine Science, 72(5), p. 1399-1412.\n* Conchon A. (2016). Modélisation du zooplancton et du micronecton marins. Thèse de Doctorat, Université de La Rochelle, 136 p.\n",
         "extent": {
          "spatial": {
           "bbox": [
            [
             -180,
             -80,
             179.9166717529297,
             89.91666412353516
            ]
           ]
          },
          "temporal": {
           "interval": [
            [
             "1998-01-01T00:00:00Z",
             "2022-12-31T00:00:00Z"
            ]
           ]
          }
         },
         "id": "EO.MO.DAT.GLOBAL_MULTIYEAR_BGC_001_033",
         "keywords": [
          "eastward-sea-water-velocity-vertical-mean-over-pelagic-layer",
          "coastal-marine-environment",
          "weather-climate-and-seasonal-forecasting",
          "marine-resources",
          "invariant",
          "net-primary-productivity-of-biomass-expressed-as-carbon-in-sea-water",
          "mass-content-of-lower-mesopelagic-micronekton-expressed-as-wet-weight-in-sea-water",
          "mass-content-of-upper-mesopelagic-micronekton-expressed-as-wet-weight-in-sea-water",
          "global-ocean",
          "level-4",
          "multi-year",
          "mass-content-of-highly-migrant-lower-mesopelagic-micronekton-expressed-as-wet-weight-in-sea-water",
          "sea-water-potential-temperature-vertical-mean-over-pelagic-layer",
          "euphotic-zone-depth",
          "mass-content-of-migrant-upper-mesopelagic-micronekton-expressed-as-wet-weight-in-sea-water",
          "mass-content-of-epipelagic-micronekton-expressed-as-wet-weight-in-sea-water",
          "numerical-model",
          "mass-content-of-zooplankton-expressed-as-carbon-in-sea-water",
          "mass-content-of-migrant-lower-mesopelagic-micronekton-expressed-as-wet-weight-in-sea-water",
          "oceanographic-geographical-features",
          "northward-sea-water-velocity-vertical-mean-over-pelagic-layer",
          "sea-water-pelagic-layer-bottom-depth",
          "marine-safety"
         ],
         "license": "proprietary",
         "links": [
          {
           "href": "https://marine.copernicus.eu/user-corner/service-commitments-and-licence",
           "rel": "license",
           "title": "Copernicus Marine Service Commitments and Licence",
           "type": "text/html"
          },
          {
           "href": "https://doi.org/10.48670/moi-00020",
           "rel": "cite-as",
           "title": "10.48670/moi-00020",
           "type": "text/html"
          },
          {
           "href": "https://data.marine.copernicus.eu/product/GLOBAL_MULTIYEAR_BGC_001_033",
           "rel": "alternative",
           "title": "Product page",
           "type": "text/html"
          },
          {
           "href": "https://catalogue.marine.copernicus.eu/documents/QUID/CMEMS-GLO-QUID-001-033.pdf",
           "rel": "describedby",
           "title": "Quality Information Document",
           "type": "application/pdf"
          },
          {
           "href": "https://catalogue.marine.copernicus.eu/documents/PUM/CMEMS-GLO-PUM-001-033.pdf",
           "rel": "describedby",
           "title": "Product User Manual",
           "type": "application/pdf"
          },
          {
           "href": "https://catalogue.marine.copernicus.eu/documents/SQO/CMEMS-GLO-SQO-001-033.pdf",
           "rel": "describedby",
           "title": "Synthesis Quality Overview",
           "type": "application/pdf"
          },
          {
           "href": "https://hda.data.destination-earth.eu/stac/collections/EO.MO.DAT.GLOBAL_MULTIYEAR_BGC_001_033",
           "rel": "self",
           "title": "EO.MO.DAT.GLOBAL_MULTIYEAR_BGC_001_033"
          },
          {
           "href": "https://hda.data.destination-earth.eu/stac/",
           "rel": "root"
          },
          {
           "href": "https://hda.data.destination-earth.eu/stac/collections/EO.MO.DAT.GLOBAL_MULTIYEAR_BGC_001_033/items",
           "rel": "items",
           "title": "items"
          }
         ],
         "providers": [
          {
           "name": "Mercator Océan International",
           "roles": [
            "producer"
           ]
          },
          {
           "name": "Copernicus Marine Service",
           "roles": [
            "processor"
           ],
           "url": "https://marine.copernicus.eu"
          },
          {
           "name": "cop_marine",
           "roles": [
            "host"
           ],
           "url": "https://marine.copernicus.eu/"
          }
         ],
         "stac_extensions": [
          "https://stac-extensions.github.io/scientific/v1.0.0/schema.json"
         ],
         "stac_version": "1.0.0",
         "summaries": {
          "constellation": [
           null
          ],
          "intruments": [
           null
          ],
          "platform": [
           null
          ],
          "processing:level": null
         },
         "title": "Global ocean low and mid trophic levels biomass content hindcast",
         "type": "Collection"
        },
        {
         "assets": {
          "thumbnail": {
           "href": "https://mdl-metadata.s3.waw3-1.cloudferro.com/metadata/thumbnails/MULTIOBS_GLO_BGC_NUTRIENTS_CARBON_PROFILES_MYNRT_015_009.jpg",
           "roles": [
            "thumbnail"
           ],
           "title": "Nutrient and carbon profiles vertical distribution thumbnail",
           "type": "image/jpeg"
          }
         },
         "description": "This product consists of vertical profiles of the concentration of nutrients (nitrates, phosphates, and silicates) and carbonate system variables (total alkalinity, dissolved inorganic carbon, pH, and partial pressure of carbon dioxide), computed for each Argo float equipped with an oxygen sensor.\nThe method called CANYON (Carbonate system and Nutrients concentration from hYdrological properties and Oxygen using a Neural-network) is based on a neural network trained using high-quality nutrient data collected over the last 30 years (GLODAPv2 database, https://www.glodap.info/). The method is applied to each Argo float equipped with an oxygen sensor using as input the properties measured by the float (pressure, temperature, salinity, oxygen), and its date and position.\n\n**Product Citation:** Please refer to our Technical FAQ for citing products: http://marine.copernicus.eu/faq/cite-cmems-products-cmems-credit/?idpage=169.\n\n**DOI (product):**\nhttps://doi.org/10.48670/moi-00048\n\n**References:**\n\n* Sauzede R., H. C. Bittig, H. Claustre, O. Pasqueron de Fommervault, J.-P. Gattuso, L. Legendre and K. S. Johnson, 2017: Estimates of Water-Column Nutrient Concentrations and Carbonate System Parameters in the Global Ocean: A novel Approach Based on Neural Networks. Front. Mar. Sci. 4:128. doi: 10.3389/fmars.2017.00128.\n* Bittig H. C., T. Steinhoff, H. Claustre, B. Fiedler, N. L. Williams, R. Sauzède, A. Körtzinger and J.-P. Gattuso,2018: An Alternative to Static Climatologies: Robust Estimation of Open Ocean CO2 Variables and Nutrient Concentrations From T, S, and O2 Data Using Bayesian Neural Networks. Front. Mar. Sci. 5:328. doi: 10.3389/fmars.2018.00328.\n",
         "extent": {
          "spatial": {
           "bbox": [
            [
             0,
             0,
             0,
             0
            ]
           ]
          },
          "temporal": {
           "interval": [
            [
             "1970-01-01T00:00:00.000000Z",
             "1970-01-01T00:00:00.000000Z"
            ]
           ]
          }
         },
         "id": "EO.MO.DAT.MULTIOBS_GLO_BGC_NUTRIENTS_CARBON_PROFILES_MYNRT_015_009",
         "keywords": [
          "moles-of-silicate-per-unit-mass-in-sea-water",
          "level-3",
          "coastal-marine-environment",
          "sea-water-temperature",
          "moles-of-phosphate-per-unit-mass-in-sea-water",
          "weather-climate-and-seasonal-forecasting",
          "marine-resources",
          "none",
          "global-ocean",
          "sea-water-pressure",
          "in-situ-observation",
          "multi-year",
          "sea-water-ph-reported-on-total-scale",
          "moles-of-oxygen-per-unit-mass-in-sea-water",
          "sea-water-salinity",
          "oceanographic-geographical-features",
          "moles-of-nitrate-per-unit-mass-in-sea-water",
          "marine-safety"
         ],
         "license": "proprietary",
         "links": [
          {
           "href": "https://marine.copernicus.eu/user-corner/service-commitments-and-licence",
           "rel": "license",
           "title": "Copernicus Marine Service Commitments and Licence",
           "type": "text/html"
          },
          {
           "href": "https://doi.org/10.48670/moi-00048",
           "rel": "cite-as",
           "title": "10.48670/moi-00048",
           "type": "text/html"
          },
          {
           "href": "https://data.marine.copernicus.eu/product/MULTIOBS_GLO_BGC_NUTRIENTS_CARBON_PROFILES_MYNRT_015_009",
           "rel": "alternative",
           "title": "Product page",
           "type": "text/html"
          },
          {
           "href": "https://catalogue.marine.copernicus.eu/documents/PUM/CMEMS-MOB-PUM-015-009.pdf",
           "rel": "describedby",
           "title": "Product User Manual",
           "type": "application/pdf"
          },
          {
           "href": "https://catalogue.marine.copernicus.eu/documents/QUID/CMEMS-MOB-QUID-015-009.pdf",
           "rel": "describedby",
           "title": "Quality Information Document",
           "type": "application/pdf"
          },
          {
           "href": "https://catalogue.marine.copernicus.eu/documents/SQO/CMEMS-MOB-SQO-015-009.pdf",
           "rel": "describedby",
           "title": "Synthesis Quality Overview",
           "type": "application/pdf"
          },
          {
           "href": "https://hda.data.destination-earth.eu/stac/collections/EO.MO.DAT.MULTIOBS_GLO_BGC_NUTRIENTS_CARBON_PROFILES_MYNRT_015_009",
           "rel": "self",
           "title": "EO.MO.DAT.MULTIOBS_GLO_BGC_NUTRIENTS_CARBON_PROFILES_MYNRT_015_009"
          },
          {
           "href": "https://hda.data.destination-earth.eu/stac/",
           "rel": "root"
          },
          {
           "href": "https://hda.data.destination-earth.eu/stac/collections/EO.MO.DAT.MULTIOBS_GLO_BGC_NUTRIENTS_CARBON_PROFILES_MYNRT_015_009/items",
           "rel": "items",
           "title": "items"
          }
         ],
         "providers": [
          {
           "name": "LOV (France)",
           "roles": [
            "producer"
           ]
          },
          {
           "name": "Copernicus Marine Service",
           "roles": [
            "processor"
           ],
           "url": "https://marine.copernicus.eu"
          },
          {
           "name": "cop_marine",
           "roles": [
            "host"
           ],
           "url": "https://marine.copernicus.eu/"
          }
         ],
         "stac_extensions": [
          "https://stac-extensions.github.io/scientific/v1.0.0/schema.json"
         ],
         "stac_version": "1.0.0",
         "summaries": {
          "constellation": [
           null
          ],
          "intruments": [
           null
          ],
          "platform": [
           null
          ],
          "processing:level": null
         },
         "title": "Nutrient and carbon profiles vertical distribution",
         "type": "Collection"
        },
        {
         "assets": {
          "thumbnail": {
           "href": "https://mdl-metadata.s3.waw3-1.cloudferro.com/metadata/thumbnails/MULTIOBS_GLO_BIO_BGC_3D_REP_015_010.jpg",
           "roles": [
            "thumbnail"
           ],
           "title": "Global Ocean 3D Chlorophyll-a concentration, Particulate Backscattering coefficient and Particulate Organic Carbon thumbnail",
           "type": "image/jpeg"
          }
         },
         "description": "This product consists of 3D fields of Particulate Organic Carbon (POC), Particulate Backscattering coefficient (bbp) and Chlorophyll-a concentration (Chla) at depth. The reprocessed product is provided at 0.25°x0.25° horizontal resolution, over 36 levels from the surface to 1000 m depth. \nA neural network method estimates both the vertical distribution of Chla concentration and of particulate backscattering coefficient (bbp), a bio-optical proxy for POC, from merged surface ocean color satellite measurements with hydrological properties and additional relevant drivers. \n\n**DOI (product):**\nhttps://doi.org/10.48670/moi-00046\n\n**Product Citation:** \nPlease refer to our Technical FAQ for citing products: http://marine.copernicus.eu/faq/cite-cmems-products-cmems-credit/?idpage=169.\n\n**References:**\n\n* Sauzede R., H. Claustre, J. Uitz, C. Jamet, G. Dall’Olmo, F. D’Ortenzio, B. Gentili, A. Poteau, and C. Schmechtig, 2016: A neural network-based method for merging ocean color and Argo data to extend surface bio-optical properties to depth: Retrieval of the particulate backscattering coefficient, J. Geophys. Res. Oceans, 121, doi:10.1002/2015JC011408.\n",
         "extent": {
          "spatial": {
           "bbox": [
            [
             -179.875,
             -82.125,
             179.875,
             89.875
            ]
           ]
          },
          "temporal": {
           "interval": [
            [
             "1998-01-07T00:00:00Z",
             "2021-12-29T00:00:00Z"
            ]
           ]
          }
         },
         "id": "EO.MO.DAT.MULTIOBS_GLO_BIO_BGC_3D_REP_015_010",
         "keywords": [
          "mass-concentration-of-particulate-organic-matter-expressed-as-carbon-in-sea-water",
          "global-ocean",
          "none",
          "level-4",
          "oceanographic-geographical-features",
          "satellite-observation",
          "in-situ-observation",
          "multi-year",
          "coastal-marine-environment",
          "weather-climate-and-seasonal-forecasting",
          "volume-backwards-scattering-coefficient-of-radiative-flux-in-sea-water-due-to-particles",
          "marine-resources",
          "mass-concentration-of-chlorophyll-a-in-sea-water",
          "marine-safety"
         ],
         "license": "proprietary",
         "links": [
          {
           "href": "https://marine.copernicus.eu/user-corner/service-commitments-and-licence",
           "rel": "license",
           "title": "Copernicus Marine Service Commitments and Licence",
           "type": "text/html"
          },
          {
           "href": "https://doi.org/10.48670/moi-00046",
           "rel": "cite-as",
           "title": "10.48670/moi-00046",
           "type": "text/html"
          },
          {
           "href": "https://data.marine.copernicus.eu/product/MULTIOBS_GLO_BIO_BGC_3D_REP_015_010",
           "rel": "alternative",
           "title": "Product page",
           "type": "text/html"
          },
          {
           "href": "https://catalogue.marine.copernicus.eu/documents/PUM/CMEMS-MOB-PUM-015-010.pdf",
           "rel": "describedby",
           "title": "Product User Manual",
           "type": "application/pdf"
          },
          {
           "href": "https://catalogue.marine.copernicus.eu/documents/QUID/CMEMS-MOB-QUID-015-010.pdf",
           "rel": "describedby",
           "title": "Quality Information Document",
           "type": "application/pdf"
          },
          {
           "href": "https://catalogue.marine.copernicus.eu/documents/SQO/CMEMS-MOB-SQO-015-010.pdf",
           "rel": "describedby",
           "title": "Synthesis Quality Overview",
           "type": "application/pdf"
          },
          {
           "href": "https://hda.data.destination-earth.eu/stac/collections/EO.MO.DAT.MULTIOBS_GLO_BIO_BGC_3D_REP_015_010",
           "rel": "self",
           "title": "EO.MO.DAT.MULTIOBS_GLO_BIO_BGC_3D_REP_015_010"
          },
          {
           "href": "https://hda.data.destination-earth.eu/stac/",
           "rel": "root"
          },
          {
           "href": "https://hda.data.destination-earth.eu/stac/collections/EO.MO.DAT.MULTIOBS_GLO_BIO_BGC_3D_REP_015_010/items",
           "rel": "items",
           "title": "items"
          }
         ],
         "providers": [
          {
           "name": "LOV (France)",
           "roles": [
            "producer"
           ]
          },
          {
           "name": "Copernicus Marine Service",
           "roles": [
            "processor"
           ],
           "url": "https://marine.copernicus.eu"
          },
          {
           "name": "cop_marine",
           "roles": [
            "host"
           ],
           "url": "https://marine.copernicus.eu/"
          }
         ],
         "stac_extensions": [
          "https://stac-extensions.github.io/scientific/v1.0.0/schema.json"
         ],
         "stac_version": "1.0.0",
         "summaries": {
          "constellation": [
           null
          ],
          "intruments": [
           null
          ],
          "platform": [
           null
          ],
          "processing:level": null
         },
         "title": "Global Ocean 3D Chlorophyll-a concentration, Particulate Backscattering coefficient and Particulate Organic Carbon",
         "type": "Collection"
        },
        {
         "assets": {
          "thumbnail": {
           "href": "https://mdl-metadata.s3.waw3-1.cloudferro.com/metadata/thumbnails/MULTIOBS_GLO_BIO_CARBON_SURFACE_REP_015_008.jpg",
           "roles": [
            "thumbnail"
           ],
           "title": "Global Ocean Surface Carbon thumbnail",
           "type": "image/jpeg"
          }
         },
         "description": "This product corresponds to a REP L4 time series of monthly global reconstructed surface ocean pCO2, air-sea fluxes of CO2, pH, total alkalinity, dissolved inorganic carbon, saturation state with respect to calcite and aragonite, and associated uncertainties on a 0.25° x 0.25° regular grid. The product is obtained from an ensemble-based forward feed neural network approach mapping situ data for surface ocean fugacity (SOCAT data base, Bakker et al.  2016, https://www.socat.info/) and sea surface salinity, temperature, sea surface height, chlorophyll a, mixed layer depth and atmospheric CO2 mole fraction. Sea-air flux fields are computed from the air-sea gradient of pCO2 and the dependence on wind speed of Wanninkhof (2014). Surface ocean pH on total scale, dissolved inorganic carbon, and saturation states are then computed from surface ocean pCO2 and reconstructed surface ocean alkalinity using the CO2sys speciation software.\n\n**Product Citation**: Please refer to our Technical FAQ for citing products: http://marine.copernicus.eu/faq/cite-cmems-products-cmems-credit/?idpage=169.\n\n**DOI (product):**\nhttps://doi.org/10.48670/moi-00047\n\n**References:**\n\n* Chau, T. T. T., Gehlen, M., and Chevallier, F.: A seamless ensemble-based reconstruction of surface ocean pCO2 and air–sea CO2 fluxes over the global coastal and open oceans, Biogeosciences, 19, 1087–1109, https://doi.org/10.5194/bg-19-1087-2022, 2022.\n",
         "extent": {
          "spatial": {
           "bbox": [
            [
             -179.875,
             -88.125,
             179.875,
             89.875
            ]
           ]
          },
          "temporal": {
           "interval": [
            [
             "1985-01-01T00:00:00Z",
             "2022-12-01T00:00:00Z"
            ]
           ]
          }
         },
         "id": "EO.MO.DAT.MULTIOBS_GLO_BIO_CARBON_SURFACE_REP_015_008",
         "keywords": [
          "none",
          "global-ocean",
          "surface-downward-mass-flux-of-carbon-dioxide-expressed-as-carbon",
          "oceanographic-geographical-features",
          "level-4",
          "surface-partial-pressure-of-carbon-dioxide-in-sea-water",
          "in-situ-observation",
          "multi-year",
          "coastal-marine-environment",
          "sea-water-ph-reported-on-total-scale",
          "weather-climate-and-seasonal-forecasting",
          "marine-resources",
          "marine-safety"
         ],
         "license": "proprietary",
         "links": [
          {
           "href": "https://marine.copernicus.eu/user-corner/service-commitments-and-licence",
           "rel": "license",
           "title": "Copernicus Marine Service Commitments and Licence",
           "type": "text/html"
          },
          {
           "href": "https://doi.org/10.48670/moi-00047",
           "rel": "cite-as",
           "title": "10.48670/moi-00047",
           "type": "text/html"
          },
          {
           "href": "https://data.marine.copernicus.eu/product/MULTIOBS_GLO_BIO_CARBON_SURFACE_REP_015_008",
           "rel": "alternative",
           "title": "Product page",
           "type": "text/html"
          },
          {
           "href": "https://catalogue.marine.copernicus.eu/documents/PUM/CMEMS-MOB-PUM-015-008.pdf",
           "rel": "describedby",
           "title": "Product User Manual",
           "type": "application/pdf"
          },
          {
           "href": "https://catalogue.marine.copernicus.eu/documents/QUID/CMEMS-MOB-QUID-015-008.pdf",
           "rel": "describedby",
           "title": "Quality Information Document",
           "type": "application/pdf"
          },
          {
           "href": "https://catalogue.marine.copernicus.eu/documents/SQO/CMEMS-MOB-SQO-015-008.pdf",
           "rel": "describedby",
           "title": "Synthesis Quality Overview",
           "type": "application/pdf"
          },
          {
           "href": "https://hda.data.destination-earth.eu/stac/collections/EO.MO.DAT.MULTIOBS_GLO_BIO_CARBON_SURFACE_REP_015_008",
           "rel": "self",
           "title": "EO.MO.DAT.MULTIOBS_GLO_BIO_CARBON_SURFACE_REP_015_008"
          },
          {
           "href": "https://hda.data.destination-earth.eu/stac/",
           "rel": "root"
          },
          {
           "href": "https://hda.data.destination-earth.eu/stac/collections/EO.MO.DAT.MULTIOBS_GLO_BIO_CARBON_SURFACE_REP_015_008/items",
           "rel": "items",
           "title": "items"
          }
         ],
         "providers": [
          {
           "name": "LSCE (France)",
           "roles": [
            "producer"
           ]
          },
          {
           "name": "Copernicus Marine Service",
           "roles": [
            "processor"
           ],
           "url": "https://marine.copernicus.eu"
          },
          {
           "name": "cop_marine",
           "roles": [
            "host"
           ],
           "url": "https://marine.copernicus.eu/"
          }
         ],
         "stac_extensions": [
          "https://stac-extensions.github.io/scientific/v1.0.0/schema.json"
         ],
         "stac_version": "1.0.0",
         "summaries": {
          "constellation": [
           null
          ],
          "intruments": [
           null
          ],
          "platform": [
           null
          ],
          "processing:level": null
         },
         "title": "Global Ocean Surface Carbon",
         "type": "Collection"
        },
        {
         "assets": {
          "thumbnail": {
           "href": "https://mdl-metadata.s3.waw3-1.cloudferro.com/metadata/thumbnails/OCEANCOLOUR_GLO_BGC_L3_MY_009_103.jpg",
           "roles": [
            "thumbnail"
           ],
           "title": "Global Ocean Colour (Copernicus-GlobColour), Bio-Geo-Chemical, L3 (daily) from Satellite Observations (1997-ongoing) thumbnail",
           "type": "image/jpeg"
          }
         },
         "description": "For the **Global** Ocean **Satellite Observations**, ACRI-ST company (Sophia Antipolis, France) is providing **Bio-Geo-Chemical (BGC)** products based on the **Copernicus-GlobColour** processor.\n* Upstreams: SeaWiFS, MODIS, MERIS, VIIRS-SNPP & JPSS1, OLCI-S3A & S3B for the **\"multi\"** products, and S3A & S3B only for the **\"olci\"** products.\n* Variables: Chlorophyll-a (**CHL**), Phytoplankton Functional types and sizes (**PFT**), Suspended Matter (**SPM**), Secchi Transparency Depth (**ZSD**), Diffuse Attenuation (**KD490**), Particulate Backscattering (**BBP**), Absorption Coef. (**CDM**) and  Reflectance (**RRS**).\n\n* Temporal resolutions: **daily**.\n* Spatial resolutions: **4 km** and a finer resolution based on olci **300 meters** inputs.\n* Recent products are organized in datasets called Near Real Time (**NRT**) and long time-series (from 1997) in datasets called Multi-Years (**MY**).\n\nTo find the **Copernicus-GlobColour** products in the catalogue, use the search keyword **\"GlobColour\"**.\n\n**DOI (product):**   \nhttps://doi.org/10.48670/moi-00280",
         "extent": {
          "spatial": {
           "bbox": [
            [
             -179.99722290039062,
             -89.99722290039062,
             179.9972381591797,
             89.99722290039062
            ]
           ]
          },
          "temporal": {
           "interval": [
            [
             "1997-09-04T00:00:00Z",
             "2024-06-03T00:00:00Z"
            ]
           ]
          }
         },
         "id": "EO.MO.DAT.OCEANCOLOUR_GLO_BGC_L3_MY_009_103",
         "keywords": [
          "mass-concentration-of-diatoms-expressed-as-chlorophyll-in-sea-water",
          "mass-concentration-of-nanophytoplankton-expressed-as-chlorophyll-in-sea-water",
          "level-3",
          "coastal-marine-environment",
          "weather-climate-and-seasonal-forecasting",
          "marine-resources",
          "global-ocean",
          "mass-concentration-of-dinophytes-expressed-as-chlorophyll-in-sea-water",
          "mass-concentration-of-greenalgae-and-prochlorophytes-expressed-as-chlorophyll-in-sea-water",
          "multi-year",
          "secchi-depth-of-sea-water",
          "volume-backwards-scattering-coefficient-of-radiative-flux-in-sea-water-due-to-particles",
          "mass-concentration-of-haptophytes-expressed-as-chlorophyll-in-sea-water",
          "mass-concentration-of-chlorophyll-a-in-sea-water",
          "mass-concentration-of-prokaryotes-expressed-as-chlorophyll-in-sea-water",
          "mass-concentration-of-suspended-particulate-matter-in-sea-water",
          "surface-ratio-of-upwelling-radiance-emerging-from-sea-water-to-downwelling-radiative-flux-in-air",
          "oceanographic-geographical-features",
          "satellite-observation",
          "volume-attenuation-coefficient-of-downwelling-radiative-flux-in-sea-water",
          "volume-absorption-coefficient-of-radiative-flux-in-sea-water-due-to-dissolved-organic-matter-and-non-algal-particles",
          "mass-concentration-of-prochlorococcus-expressed-as-chlorophyll-in-sea-water",
          "mass-concentration-of-picophytoplankton-expressed-as-chlorophyll-in-sea-water",
          "mass-concentration-of-microphytoplankton-expressed-as-chlorophyll-in-sea-water",
          "marine-safety"
         ],
         "license": "proprietary",
         "links": [
          {
           "href": "https://marine.copernicus.eu/user-corner/service-commitments-and-licence",
           "rel": "license",
           "title": "Copernicus Marine Service Commitments and Licence",
           "type": "text/html"
          },
          {
           "href": "https://doi.org/10.48670/moi-00280",
           "rel": "cite-as",
           "title": "10.48670/moi-00280",
           "type": "text/html"
          },
          {
           "href": "https://data.marine.copernicus.eu/product/OCEANCOLOUR_GLO_BGC_L3_MY_009_103",
           "rel": "alternative",
           "title": "Product page",
           "type": "text/html"
          },
          {
           "href": "https://catalogue.marine.copernicus.eu/documents/PUM/CMEMS-OC-PUM.pdf",
           "rel": "describedby",
           "title": "Product User Manual",
           "type": "application/pdf"
          },
          {
           "href": "https://catalogue.marine.copernicus.eu/documents/QUID/CMEMS-OC-QUID-009-101to104-111-113-116-118.pdf",
           "rel": "describedby",
           "title": "Quality Information Document",
           "type": "application/pdf"
          },
          {
           "href": "https://catalogue.marine.copernicus.eu/documents/SQO/CMEMS-OC-SQO-009-101to104-111-113-116-118.pdf",
           "rel": "describedby",
           "title": "Synthesis Quality Overview",
           "type": "application/pdf"
          },
          {
           "href": "https://hda.data.destination-earth.eu/stac/collections/EO.MO.DAT.OCEANCOLOUR_GLO_BGC_L3_MY_009_103",
           "rel": "self",
           "title": "EO.MO.DAT.OCEANCOLOUR_GLO_BGC_L3_MY_009_103"
          },
          {
           "href": "https://hda.data.destination-earth.eu/stac/",
           "rel": "root"
          },
          {
           "href": "https://hda.data.destination-earth.eu/stac/collections/EO.MO.DAT.OCEANCOLOUR_GLO_BGC_L3_MY_009_103/items",
           "rel": "items",
           "title": "items"
          }
         ],
         "providers": [
          {
           "name": "ACRI (France)",
           "roles": [
            "producer"
           ]
          },
          {
           "name": "Copernicus Marine Service",
           "roles": [
            "processor"
           ],
           "url": "https://marine.copernicus.eu"
          },
          {
           "name": "cop_marine",
           "roles": [
            "host"
           ],
           "url": "https://marine.copernicus.eu/"
          }
         ],
         "stac_extensions": [
          "https://stac-extensions.github.io/scientific/v1.0.0/schema.json"
         ],
         "stac_version": "1.0.0",
         "summaries": {
          "constellation": [
           null
          ],
          "intruments": [
           null
          ],
          "platform": [
           null
          ],
          "processing:level": null
         },
         "title": "Global Ocean Colour (Copernicus-GlobColour), Bio-Geo-Chemical, L3 (daily) from Satellite Observations (1997-ongoing)",
         "type": "Collection"
        },
        {
         "assets": {
          "thumbnail": {
           "href": "https://mdl-metadata.s3.waw3-1.cloudferro.com/metadata/thumbnails/OCEANCOLOUR_GLO_BGC_L3_MY_009_107.jpg",
           "roles": [
            "thumbnail"
           ],
           "title": "Global Ocean Colour Plankton and Reflectances MY L3 daily observations thumbnail",
           "type": "image/jpeg"
          }
         },
         "description": "For the **Global** Ocean **Satellite Observations**, Brockmann Consult (BC) is providing **Bio-Geo_Chemical (BGC)** products based on the ESA-CCI inputs.\n* Upstreams: SeaWiFS, MODIS, MERIS, VIIRS-SNPP, OLCI-S3A & OLCI-S3B for the **\"\"multi\"\"** products.\n* Variables: Chlorophyll-a (**CHL**), Phytoplankton Functional types and sizes (**PFT**) and  Reflectance (**RRS**).\n\n* Temporal resolutions: **daily**, **monthly**.\n* Spatial resolutions: **4 km** (multi).\n* Recent products are organized in datasets called Near Real Time (**NRT**) and long time-series (from 1997) in datasets called Multi-Years (**MY**).\n\nTo find these products in the catalogue, use the search keyword **\"\"ESA-CCI\"\"**.\n\n**DOI (product):**   \nhttps://doi.org/10.48670/moi-00282",
         "extent": {
          "spatial": {
           "bbox": [
            [
             -179.97916666666666,
             -89.97916666666666,
             179.97916666666663,
             89.97916666666667
            ]
           ]
          },
          "temporal": {
           "interval": [
            [
             "1997-09-04T00:00:00Z",
             "2024-04-30T00:00:00Z"
            ]
           ]
          }
         },
         "id": "EO.MO.DAT.OCEANCOLOUR_GLO_BGC_L3_MY_009_107",
         "keywords": [
          "global-ocean",
          "surface-ratio-of-upwelling-radiance-emerging-from-sea-water-to-downwelling-radiative-flux-in-air",
          "mass-concentration-of-nanophytoplankton-expressed-as-chlorophyll-in-sea-water",
          "oceanographic-geographical-features",
          "satellite-observation",
          "level-3",
          "multi-year",
          "coastal-marine-environment",
          "weather-climate-and-seasonal-forecasting",
          "marine-resources",
          "mass-concentration-of-chlorophyll-a-in-sea-water",
          "mass-concentration-of-picophytoplankton-expressed-as-chlorophyll-in-sea-water",
          "mass-concentration-of-microphytoplankton-expressed-as-chlorophyll-in-sea-water",
          "marine-safety"
         ],
         "license": "proprietary",
         "links": [
          {
           "href": "https://marine.copernicus.eu/user-corner/service-commitments-and-licence",
           "rel": "license",
           "title": "Copernicus Marine Service Commitments and Licence",
           "type": "text/html"
          },
          {
           "href": "https://doi.org/10.48670/moi-00282",
           "rel": "cite-as",
           "title": "10.48670/moi-00282",
           "type": "text/html"
          },
          {
           "href": "https://data.marine.copernicus.eu/product/OCEANCOLOUR_GLO_BGC_L3_MY_009_107",
           "rel": "alternative",
           "title": "Product page",
           "type": "text/html"
          },
          {
           "href": "https://catalogue.marine.copernicus.eu/documents/PUM/CMEMS-OC-PUM.pdf",
           "rel": "describedby",
           "title": "Product User Manual",
           "type": "application/pdf"
          },
          {
           "href": "https://catalogue.marine.copernicus.eu/documents/QUID/CMEMS-OC-QUID-009-107to108.pdf",
           "rel": "describedby",
           "title": "Quality Information Document",
           "type": "application/pdf"
          },
          {
           "href": "https://catalogue.marine.copernicus.eu/documents/SQO/CMEMS-OC-SQO-009-107to108.pdf",
           "rel": "describedby",
           "title": "Synthesis Quality Overview",
           "type": "application/pdf"
          },
          {
           "href": "https://hda.data.destination-earth.eu/stac/collections/EO.MO.DAT.OCEANCOLOUR_GLO_BGC_L3_MY_009_107",
           "rel": "self",
           "title": "EO.MO.DAT.OCEANCOLOUR_GLO_BGC_L3_MY_009_107"
          },
          {
           "href": "https://hda.data.destination-earth.eu/stac/",
           "rel": "root"
          },
          {
           "href": "https://hda.data.destination-earth.eu/stac/collections/EO.MO.DAT.OCEANCOLOUR_GLO_BGC_L3_MY_009_107/items",
           "rel": "items",
           "title": "items"
          }
         ],
         "providers": [
          {
           "name": "BC (Germany)",
           "roles": [
            "producer"
           ]
          },
          {
           "name": "Copernicus Marine Service",
           "roles": [
            "processor"
           ],
           "url": "https://marine.copernicus.eu"
          },
          {
           "name": "cop_marine",
           "roles": [
            "host"
           ],
           "url": "https://marine.copernicus.eu/"
          }
         ],
         "stac_extensions": [
          "https://stac-extensions.github.io/scientific/v1.0.0/schema.json"
         ],
         "stac_version": "1.0.0",
         "summaries": {
          "constellation": [
           null
          ],
          "intruments": [
           null
          ],
          "platform": [
           null
          ],
          "processing:level": null
         },
         "title": "Global Ocean Colour Plankton and Reflectances MY L3 daily observations",
         "type": "Collection"
        },
        {
         "assets": {
          "thumbnail": {
           "href": "https://mdl-metadata.s3.waw3-1.cloudferro.com/metadata/thumbnails/OCEANCOLOUR_GLO_BGC_L3_NRT_009_101.jpg",
           "roles": [
            "thumbnail"
           ],
           "title": "Global Ocean Colour (Copernicus-GlobColour), Bio-Geo-Chemical, L3 (daily) from Satellite Observations (Near Real Time) thumbnail",
           "type": "image/jpeg"
          }
         },
         "description": "For the **Global** Ocean **Satellite Observations**, ACRI-ST company (Sophia Antipolis, France) is providing **Bio-Geo-Chemical (BGC)** products based on the **Copernicus-GlobColour** processor.\n* Upstreams: SeaWiFS, MODIS, MERIS, VIIRS-SNPP & JPSS1, OLCI-S3A & S3B for the **\"multi\"** products, and S3A & S3B only for the **\"olci\"** products.\n* Variables: Chlorophyll-a (**CHL**), Phytoplankton Functional types and sizes (**PFT**), Suspended Matter (**SPM**), Secchi Transparency Depth (**ZSD**), Diffuse Attenuation (**KD490**), Particulate Backscattering (**BBP**), Absorption Coef. (**CDM**) and  Reflectance (**RRS**).\n\n* Temporal resolutions: **daily**\n* Spatial resolutions: **4 km** and a finer resolution based on olci **300 meters** inputs.\n* Recent products are organized in datasets called Near Real Time (**NRT**) and long time-series (from 1997) in datasets called Multi-Years (**MY**).\n\nTo find the **Copernicus-GlobColour** products in the catalogue, use the search keyword **\"GlobColour\"**.\n\n**DOI (product):**   \nhttps://doi.org/10.48670/moi-00278",
         "extent": {
          "spatial": {
           "bbox": [
            [
             -179.99722290039062,
             -89.99722290039062,
             179.9972381591797,
             89.99722290039062
            ]
           ]
          },
          "temporal": {
           "interval": [
            [
             "2023-04-25T00:00:00Z",
             "2024-06-10T00:00:00Z"
            ]
           ]
          }
         },
         "id": "EO.MO.DAT.OCEANCOLOUR_GLO_BGC_L3_NRT_009_101",
         "keywords": [
          "mass-concentration-of-diatoms-expressed-as-chlorophyll-in-sea-water",
          "mass-concentration-of-nanophytoplankton-expressed-as-chlorophyll-in-sea-water",
          "level-3",
          "coastal-marine-environment",
          "weather-climate-and-seasonal-forecasting",
          "marine-resources",
          "global-ocean",
          "mass-concentration-of-dinophytes-expressed-as-chlorophyll-in-sea-water",
          "mass-concentration-of-greenalgae-and-prochlorophytes-expressed-as-chlorophyll-in-sea-water",
          "secchi-depth-of-sea-water",
          "volume-backwards-scattering-coefficient-of-radiative-flux-in-sea-water-due-to-particles",
          "mass-concentration-of-haptophytes-expressed-as-chlorophyll-in-sea-water",
          "mass-concentration-of-chlorophyll-a-in-sea-water",
          "mass-concentration-of-prokaryotes-expressed-as-chlorophyll-in-sea-water",
          "mass-concentration-of-suspended-particulate-matter-in-sea-water",
          "surface-ratio-of-upwelling-radiance-emerging-from-sea-water-to-downwelling-radiative-flux-in-air",
          "oceanographic-geographical-features",
          "satellite-observation",
          "volume-attenuation-coefficient-of-downwelling-radiative-flux-in-sea-water",
          "volume-absorption-coefficient-of-radiative-flux-in-sea-water-due-to-dissolved-organic-matter-and-non-algal-particles",
          "mass-concentration-of-prochlorococcus-expressed-as-chlorophyll-in-sea-water",
          "mass-concentration-of-picophytoplankton-expressed-as-chlorophyll-in-sea-water",
          "near-real-time",
          "mass-concentration-of-microphytoplankton-expressed-as-chlorophyll-in-sea-water",
          "marine-safety"
         ],
         "license": "proprietary",
         "links": [
          {
           "href": "https://marine.copernicus.eu/user-corner/service-commitments-and-licence",
           "rel": "license",
           "title": "Copernicus Marine Service Commitments and Licence",
           "type": "text/html"
          },
          {
           "href": "https://doi.org/10.48670/moi-00278",
           "rel": "cite-as",
           "title": "10.48670/moi-00278",
           "type": "text/html"
          },
          {
           "href": "https://data.marine.copernicus.eu/product/OCEANCOLOUR_GLO_BGC_L3_NRT_009_101",
           "rel": "alternative",
           "title": "Product page",
           "type": "text/html"
          },
          {
           "href": "https://catalogue.marine.copernicus.eu/documents/PUM/CMEMS-OC-PUM.pdf",
           "rel": "describedby",
           "title": "Product User Manual",
           "type": "application/pdf"
          },
          {
           "href": "https://catalogue.marine.copernicus.eu/documents/QUID/CMEMS-OC-QUID-009-101to104-111-113-116-118.pdf",
           "rel": "describedby",
           "title": "Quality Information Document",
           "type": "application/pdf"
          },
          {
           "href": "https://catalogue.marine.copernicus.eu/documents/SQO/CMEMS-OC-SQO-009-101to104-111-113-116-118.pdf",
           "rel": "describedby",
           "title": "Synthesis Quality Overview",
           "type": "application/pdf"
          },
          {
           "href": "https://hda.data.destination-earth.eu/stac/collections/EO.MO.DAT.OCEANCOLOUR_GLO_BGC_L3_NRT_009_101",
           "rel": "self",
           "title": "EO.MO.DAT.OCEANCOLOUR_GLO_BGC_L3_NRT_009_101"
          },
          {
           "href": "https://hda.data.destination-earth.eu/stac/",
           "rel": "root"
          },
          {
           "href": "https://hda.data.destination-earth.eu/stac/collections/EO.MO.DAT.OCEANCOLOUR_GLO_BGC_L3_NRT_009_101/items",
           "rel": "items",
           "title": "items"
          }
         ],
         "providers": [
          {
           "name": "ACRI (France)",
           "roles": [
            "producer"
           ]
          },
          {
           "name": "Copernicus Marine Service",
           "roles": [
            "processor"
           ],
           "url": "https://marine.copernicus.eu"
          },
          {
           "name": "cop_marine",
           "roles": [
            "host"
           ],
           "url": "https://marine.copernicus.eu/"
          }
         ],
         "stac_extensions": [
          "https://stac-extensions.github.io/scientific/v1.0.0/schema.json"
         ],
         "stac_version": "1.0.0",
         "summaries": {
          "constellation": [
           null
          ],
          "intruments": [
           null
          ],
          "platform": [
           null
          ],
          "processing:level": null
         },
         "title": "Global Ocean Colour (Copernicus-GlobColour), Bio-Geo-Chemical, L3 (daily) from Satellite Observations (Near Real Time)",
         "type": "Collection"
        },
        {
         "assets": {
          "thumbnail": {
           "href": "https://mdl-metadata.s3.waw3-1.cloudferro.com/metadata/thumbnails/OCEANCOLOUR_GLO_BGC_L4_MY_009_104.jpg",
           "roles": [
            "thumbnail"
           ],
           "title": "Global Ocean Colour (Copernicus-GlobColour), Bio-Geo-Chemical, L4 (monthly and interpolated) from Satellite Observations (1997-ongoing) thumbnail",
           "type": "image/jpeg"
          }
         },
         "description": "For the **Global** Ocean **Satellite Observations**, ACRI-ST company (Sophia Antipolis, France) is providing **Bio-Geo-Chemical (BGC)** products based on the **Copernicus-GlobColour** processor.\n* Upstreams: SeaWiFS, MODIS, MERIS, VIIRS-SNPP & JPSS1, OLCI-S3A & S3B for the **\"\"multi\"\"** products, and S3A & S3B only for the **\"\"olci\"\"** products.\n* Variables: Chlorophyll-a (**CHL**), Phytoplankton Functional types and sizes (**PFT**), Primary Production (**PP**), Suspended Matter (**SPM**), Secchi Transparency Depth (**ZSD**), Diffuse Attenuation (**KD490**), Particulate Backscattering (**BBP**), Absorption Coef. (**CDM**) and  Reflectance (**RRS**).\n\n* Temporal resolutions: **monthly** plus, for some variables, **daily gap-free** based on a space-time interpolation to provide a \"\"cloud free\"\" product.\n* Spatial resolutions: **4 km** and a finer resolution based on olci **300 meters** inputs.\n* Recent products are organized in datasets called Near Real Time (**NRT**) and long time-series (from 1997) in datasets called Multi-Years (**MY**).\n\nTo find the **Copernicus-GlobColour** products in the catalogue, use the search keyword **\"\"GlobColour\"\"**.\"\n\n**DOI (product):**   \nhttps://doi.org/10.48670/moi-00281",
         "extent": {
          "spatial": {
           "bbox": [
            [
             -179.99722290039062,
             -89.99722290039062,
             179.9972381591797,
             89.99722290039062
            ]
           ]
          },
          "temporal": {
           "interval": [
            [
             "1997-09-01T00:00:00Z",
             "2024-06-03T00:00:00Z"
            ]
           ]
          }
         },
         "id": "EO.MO.DAT.OCEANCOLOUR_GLO_BGC_L4_MY_009_104",
         "keywords": [
          "mass-concentration-of-diatoms-expressed-as-chlorophyll-in-sea-water",
          "mass-concentration-of-nanophytoplankton-expressed-as-chlorophyll-in-sea-water",
          "coastal-marine-environment",
          "weather-climate-and-seasonal-forecasting",
          "marine-resources",
          "global-ocean",
          "mass-concentration-of-dinophytes-expressed-as-chlorophyll-in-sea-water",
          "level-4",
          "mass-concentration-of-greenalgae-and-prochlorophytes-expressed-as-chlorophyll-in-sea-water",
          "multi-year",
          "secchi-depth-of-sea-water",
          "volume-backwards-scattering-coefficient-of-radiative-flux-in-sea-water-due-to-particles",
          "mass-concentration-of-haptophytes-expressed-as-chlorophyll-in-sea-water",
          "mass-concentration-of-chlorophyll-a-in-sea-water",
          "mass-concentration-of-prokaryotes-expressed-as-chlorophyll-in-sea-water",
          "mass-concentration-of-suspended-particulate-matter-in-sea-water",
          "surface-ratio-of-upwelling-radiance-emerging-from-sea-water-to-downwelling-radiative-flux-in-air",
          "oceanographic-geographical-features",
          "satellite-observation",
          "volume-attenuation-coefficient-of-downwelling-radiative-flux-in-sea-water",
          "volume-absorption-coefficient-of-radiative-flux-in-sea-water-due-to-dissolved-organic-matter-and-non-algal-particles",
          "mass-concentration-of-prochlorococcus-expressed-as-chlorophyll-in-sea-water",
          "mass-concentration-of-picophytoplankton-expressed-as-chlorophyll-in-sea-water",
          "mass-concentration-of-microphytoplankton-expressed-as-chlorophyll-in-sea-water",
          "marine-safety"
         ],
         "license": "proprietary",
         "links": [
          {
           "href": "https://marine.copernicus.eu/user-corner/service-commitments-and-licence",
           "rel": "license",
           "title": "Copernicus Marine Service Commitments and Licence",
           "type": "text/html"
          },
          {
           "href": "https://doi.org/10.48670/moi-00281",
           "rel": "cite-as",
           "title": "10.48670/moi-00281",
           "type": "text/html"
          },
          {
           "href": "https://data.marine.copernicus.eu/product/OCEANCOLOUR_GLO_BGC_L4_MY_009_104",
           "rel": "alternative",
           "title": "Product page",
           "type": "text/html"
          },
          {
           "href": "https://catalogue.marine.copernicus.eu/documents/PUM/CMEMS-OC-PUM.pdf",
           "rel": "describedby",
           "title": "Product User Manual",
           "type": "application/pdf"
          },
          {
           "href": "https://catalogue.marine.copernicus.eu/documents/QUID/CMEMS-OC-QUID-009-101to104-111-113-116-118.pdf",
           "rel": "describedby",
           "title": "Quality Information Document",
           "type": "application/pdf"
          },
          {
           "href": "https://catalogue.marine.copernicus.eu/documents/SQO/CMEMS-OC-SQO-009-101to104-111-113-116-118.pdf",
           "rel": "describedby",
           "title": "Synthesis Quality Overview",
           "type": "application/pdf"
          },
          {
           "href": "https://hda.data.destination-earth.eu/stac/collections/EO.MO.DAT.OCEANCOLOUR_GLO_BGC_L4_MY_009_104",
           "rel": "self",
           "title": "EO.MO.DAT.OCEANCOLOUR_GLO_BGC_L4_MY_009_104"
          },
          {
           "href": "https://hda.data.destination-earth.eu/stac/",
           "rel": "root"
          },
          {
           "href": "https://hda.data.destination-earth.eu/stac/collections/EO.MO.DAT.OCEANCOLOUR_GLO_BGC_L4_MY_009_104/items",
           "rel": "items",
           "title": "items"
          }
         ],
         "providers": [
          {
           "name": "ACRI (France)",
           "roles": [
            "producer"
           ]
          },
          {
           "name": "Copernicus Marine Service",
           "roles": [
            "processor"
           ],
           "url": "https://marine.copernicus.eu"
          },
          {
           "name": "cop_marine",
           "roles": [
            "host"
           ],
           "url": "https://marine.copernicus.eu/"
          }
         ],
         "stac_extensions": [
          "https://stac-extensions.github.io/scientific/v1.0.0/schema.json"
         ],
         "stac_version": "1.0.0",
         "summaries": {
          "constellation": [
           null
          ],
          "intruments": [
           null
          ],
          "platform": [
           null
          ],
          "processing:level": null
         },
         "title": "Global Ocean Colour (Copernicus-GlobColour), Bio-Geo-Chemical, L4 (monthly and interpolated) from Satellite Observations (1997-ongoing)",
         "type": "Collection"
        },
        {
         "assets": {
          "thumbnail": {
           "href": "https://mdl-metadata.s3.waw3-1.cloudferro.com/metadata/thumbnails/OCEANCOLOUR_GLO_BGC_L4_MY_009_108.jpg",
           "roles": [
            "thumbnail"
           ],
           "title": "Global Ocean Colour Plankton MY L4 monthly observations thumbnail",
           "type": "image/jpeg"
          }
         },
         "description": "For the **Global** Ocean **Satellite Observations**, Brockmann Consult (BC) is providing **Bio-Geo_Chemical (BGC)** products based on the ESA-CCI inputs.\n* Upstreams: SeaWiFS, MODIS, MERIS, VIIRS-SNPP,  OLCI-S3A & OLCI-S3B for the **\"\"multi\"\"** products.\n* Variables: Chlorophyll-a (**CHL**).\n\n* Temporal resolutions: **monthly**.\n* Spatial resolutions: **4 km** (multi).\n* Recent products are organized in datasets called Near Real Time (**NRT**) and long time-series (from 1997) in datasets called Multi-Years (**MY**).\n\nTo find these products in the catalogue, use the search keyword **\"\"ESA-CCI\"\"**.\n\n**DOI (product):**   \nhttps://doi.org/10.48670/moi-00283",
         "extent": {
          "spatial": {
           "bbox": [
            [
             -179.9791717529297,
             -89.97916412353516,
             179.9791717529297,
             89.97916412353516
            ]
           ]
          },
          "temporal": {
           "interval": [
            [
             "1997-09-01T00:00:00Z",
             "2024-04-01T00:00:00Z"
            ]
           ]
          }
         },
         "id": "EO.MO.DAT.OCEANCOLOUR_GLO_BGC_L4_MY_009_108",
         "keywords": [
          "global-ocean",
          "level-4",
          "oceanographic-geographical-features",
          "satellite-observation",
          "multi-year",
          "coastal-marine-environment",
          "weather-climate-and-seasonal-forecasting",
          "marine-resources",
          "mass-concentration-of-chlorophyll-a-in-sea-water",
          "marine-safety"
         ],
         "license": "proprietary",
         "links": [
          {
           "href": "https://marine.copernicus.eu/user-corner/service-commitments-and-licence",
           "rel": "license",
           "title": "Copernicus Marine Service Commitments and Licence",
           "type": "text/html"
          },
          {
           "href": "https://doi.org/10.48670/moi-00283",
           "rel": "cite-as",
           "title": "10.48670/moi-00283",
           "type": "text/html"
          },
          {
           "href": "https://data.marine.copernicus.eu/product/OCEANCOLOUR_GLO_BGC_L4_MY_009_108",
           "rel": "alternative",
           "title": "Product page",
           "type": "text/html"
          },
          {
           "href": "https://catalogue.marine.copernicus.eu/documents/PUM/CMEMS-OC-PUM.pdf",
           "rel": "describedby",
           "title": "Product User Manual",
           "type": "application/pdf"
          },
          {
           "href": "https://catalogue.marine.copernicus.eu/documents/QUID/CMEMS-OC-QUID-009-107to108.pdf",
           "rel": "describedby",
           "title": "Quality Information Document",
           "type": "application/pdf"
          },
          {
           "href": "https://catalogue.marine.copernicus.eu/documents/SQO/CMEMS-OC-SQO-009-107to108.pdf",
           "rel": "describedby",
           "title": "Synthesis Quality Overview",
           "type": "application/pdf"
          },
          {
           "href": "https://hda.data.destination-earth.eu/stac/collections/EO.MO.DAT.OCEANCOLOUR_GLO_BGC_L4_MY_009_108",
           "rel": "self",
           "title": "EO.MO.DAT.OCEANCOLOUR_GLO_BGC_L4_MY_009_108"
          },
          {
           "href": "https://hda.data.destination-earth.eu/stac/",
           "rel": "root"
          },
          {
           "href": "https://hda.data.destination-earth.eu/stac/collections/EO.MO.DAT.OCEANCOLOUR_GLO_BGC_L4_MY_009_108/items",
           "rel": "items",
           "title": "items"
          }
         ],
         "providers": [
          {
           "name": "BC (Germany)",
           "roles": [
            "producer"
           ]
          },
          {
           "name": "Copernicus Marine Service",
           "roles": [
            "processor"
           ],
           "url": "https://marine.copernicus.eu"
          },
          {
           "name": "cop_marine",
           "roles": [
            "host"
           ],
           "url": "https://marine.copernicus.eu/"
          }
         ],
         "stac_extensions": [
          "https://stac-extensions.github.io/scientific/v1.0.0/schema.json"
         ],
         "stac_version": "1.0.0",
         "summaries": {
          "constellation": [
           null
          ],
          "intruments": [
           null
          ],
          "platform": [
           null
          ],
          "processing:level": null
         },
         "title": "Global Ocean Colour Plankton MY L4 monthly observations",
         "type": "Collection"
        },
        {
         "assets": {
          "thumbnail": {
           "href": "https://mdl-metadata.s3.waw3-1.cloudferro.com/metadata/thumbnails/OCEANCOLOUR_GLO_BGC_L4_NRT_009_102.jpg",
           "roles": [
            "thumbnail"
           ],
           "title": "Global Ocean Colour (Copernicus-GlobColour), Bio-Geo-Chemical, L4 (monthly and interpolated) from Satellite Observations (Near Real Time) thumbnail",
           "type": "image/jpeg"
          }
         },
         "description": "For the **Global** Ocean **Satellite Observations**, ACRI-ST company (Sophia Antipolis, France) is providing **Bio-Geo-Chemical (BGC)** products based on the **Copernicus-GlobColour** processor.\n* Upstreams: SeaWiFS, MODIS, MERIS, VIIRS-SNPP & JPSS1, OLCI-S3A & S3B for the **\"multi\"** products, and S3A & S3B only for the **\"olci\"** products.\n* Variables: Chlorophyll-a (**CHL**), Phytoplankton Functional types and sizes (**PFT**), Primary Production (**PP**), Suspended Matter (**SPM**), Secchi Transparency Depth (**ZSD**), Diffuse Attenuation (**KD490**), Particulate Backscattering (**BBP**), Absorption Coef. (**CDM**) and  Reflectance (**RRS**).\n\n* Temporal resolutions: **monthly** plus, for some variables, **daily gap-free** based on a space-time interpolation to provide a \"cloud free\" product.\n* Spatial resolutions: **4 km** and a finer resolution based on olci **300 meters** inputs.\n* Recent products are organized in datasets called Near Real Time (**NRT**) and long time-series (from 1997) in datasets called Multi-Years (**MY**).\n\nTo find the **Copernicus-GlobColour** products in the catalogue, use the search keyword **\"GlobColour\"**.\n\n**DOI (product):**   \nhttps://doi.org/10.48670/moi-00279",
         "extent": {
          "spatial": {
           "bbox": [
            [
             -179.99722290039062,
             -89.99722290039062,
             179.9972381591797,
             89.99722290039062
            ]
           ]
          },
          "temporal": {
           "interval": [
            [
             "2023-04-01T00:00:00Z",
             "2024-06-09T00:00:00Z"
            ]
           ]
          }
         },
         "id": "EO.MO.DAT.OCEANCOLOUR_GLO_BGC_L4_NRT_009_102",
         "keywords": [
          "mass-concentration-of-diatoms-expressed-as-chlorophyll-in-sea-water",
          "mass-concentration-of-nanophytoplankton-expressed-as-chlorophyll-in-sea-water",
          "coastal-marine-environment",
          "weather-climate-and-seasonal-forecasting",
          "marine-resources",
          "zsd",
          "primary-production-of-biomass-expressed-as-carbon",
          "global-ocean",
          "mass-concentration-of-dinophytes-expressed-as-chlorophyll-in-sea-water",
          "level-4",
          "mass-concentration-of-greenalgae-and-prochlorophytes-expressed-as-chlorophyll-in-sea-water",
          "secchi-depth-of-sea-water",
          "volume-backwards-scattering-coefficient-of-radiative-flux-in-sea-water-due-to-particles",
          "mass-concentration-of-haptophytes-expressed-as-chlorophyll-in-sea-water",
          "mass-concentration-of-chlorophyll-a-in-sea-water",
          "mass-concentration-of-prokaryotes-expressed-as-chlorophyll-in-sea-water",
          "kd490",
          "mass-concentration-of-suspended-particulate-matter-in-sea-water",
          "surface-ratio-of-upwelling-radiance-emerging-from-sea-water-to-downwelling-radiative-flux-in-air",
          "oceanographic-geographical-features",
          "satellite-observation",
          "volume-attenuation-coefficient-of-downwelling-radiative-flux-in-sea-water",
          "volume-absorption-coefficient-of-radiative-flux-in-sea-water-due-to-dissolved-organic-matter-and-non-algal-particles",
          "mass-concentration-of-prochlorococcus-expressed-as-chlorophyll-in-sea-water",
          "mass-concentration-of-picophytoplankton-expressed-as-chlorophyll-in-sea-water",
          "near-real-time",
          "mass-concentration-of-microphytoplankton-expressed-as-chlorophyll-in-sea-water",
          "marine-safety"
         ],
         "license": "proprietary",
         "links": [
          {
           "href": "https://marine.copernicus.eu/user-corner/service-commitments-and-licence",
           "rel": "license",
           "title": "Copernicus Marine Service Commitments and Licence",
           "type": "text/html"
          },
          {
           "href": "https://doi.org/10.48670/moi-00279",
           "rel": "cite-as",
           "title": "10.48670/moi-00279",
           "type": "text/html"
          },
          {
           "href": "https://data.marine.copernicus.eu/product/OCEANCOLOUR_GLO_BGC_L4_NRT_009_102",
           "rel": "alternative",
           "title": "Product page",
           "type": "text/html"
          },
          {
           "href": "https://catalogue.marine.copernicus.eu/documents/PUM/CMEMS-OC-PUM.pdf",
           "rel": "describedby",
           "title": "Product User Manual",
           "type": "application/pdf"
          },
          {
           "href": "https://catalogue.marine.copernicus.eu/documents/QUID/CMEMS-OC-QUID-009-101to104-111-113-116-118.pdf",
           "rel": "describedby",
           "title": "Quality Information Document",
           "type": "application/pdf"
          },
          {
           "href": "https://catalogue.marine.copernicus.eu/documents/SQO/CMEMS-OC-SQO-009-101to104-111-113-116-118.pdf",
           "rel": "describedby",
           "title": "Synthesis Quality Overview",
           "type": "application/pdf"
          },
          {
           "href": "https://hda.data.destination-earth.eu/stac/collections/EO.MO.DAT.OCEANCOLOUR_GLO_BGC_L4_NRT_009_102",
           "rel": "self",
           "title": "EO.MO.DAT.OCEANCOLOUR_GLO_BGC_L4_NRT_009_102"
          },
          {
           "href": "https://hda.data.destination-earth.eu/stac/",
           "rel": "root"
          },
          {
           "href": "https://hda.data.destination-earth.eu/stac/collections/EO.MO.DAT.OCEANCOLOUR_GLO_BGC_L4_NRT_009_102/items",
           "rel": "items",
           "title": "items"
          }
         ],
         "providers": [
          {
           "name": "ACRI (France)",
           "roles": [
            "producer"
           ]
          },
          {
           "name": "Copernicus Marine Service",
           "roles": [
            "processor"
           ],
           "url": "https://marine.copernicus.eu"
          },
          {
           "name": "cop_marine",
           "roles": [
            "host"
           ],
           "url": "https://marine.copernicus.eu/"
          }
         ],
         "stac_extensions": [
          "https://stac-extensions.github.io/scientific/v1.0.0/schema.json"
         ],
         "stac_version": "1.0.0",
         "summaries": {
          "constellation": [
           null
          ],
          "intruments": [
           null
          ],
          "platform": [
           null
          ],
          "processing:level": null
         },
         "title": "Global Ocean Colour (Copernicus-GlobColour), Bio-Geo-Chemical, L4 (monthly and interpolated) from Satellite Observations (Near Real Time)",
         "type": "Collection"
        },
        {
         "assets": {
          "thumbnail": {
           "href": "https://mdl-metadata.s3.waw3-1.cloudferro.com/metadata/thumbnails/SEAICE_GLO_SEAICE_L4_NRT_OBSERVATIONS_011_001.jpg",
           "roles": [
            "thumbnail"
           ],
           "title": "Global Ocean - Arctic and Antarctic - Sea Ice Concentration, Edge, Type and Drift (OSI-SAF) thumbnail",
           "type": "image/jpeg"
          }
         },
         "description": "For the Global - Arctic and Antarctic - Ocean. The OSI SAF delivers three global sea ice products in operational mode: sea ice concentration, sea ice edge, sea ice type (OSI-401 OSI-402 and OSI-403). These products are delivered daily at 10km resolution in a polar stereographic projection covering the Northern Hemisphere and the Southern Hemisphere. It is the Sea Ice operational nominal product for the Global Ocean. In addition, a sea ice drift product is delivered at 60km resolution in a polar stereographic projection covering the Northern and Southern Hemispheres. The sea ice motion vectors have a time-span of 2 days.\n\n**DOI (product):**   \nhttps://doi.org/10.48670/moi-00134",
         "extent": {
          "spatial": {
           "bbox": [
            [
             0,
             0,
             0,
             0
            ]
           ]
          },
          "temporal": {
           "interval": [
            [
             "1970-01-01T00:00:00.000000Z",
             "1970-01-01T00:00:00.000000Z"
            ]
           ]
          }
         },
         "id": "EO.MO.DAT.SEAICE_GLO_SEAICE_L4_NRT_OBSERVATIONS_011_001",
         "keywords": [
          "global-ocean",
          "sea-ice-classification",
          "oceanographic-geographical-features",
          "satellite-observation",
          "sea-ice-area-fraction",
          "level-4",
          "sea-ice-x-displacement",
          "coastal-marine-environment",
          "weather-climate-and-seasonal-forecasting",
          "marine-resources",
          "near-real-time",
          "sea-ice-y-displacement",
          "target-application#seaiceforecastingapplication",
          "marine-safety"
         ],
         "license": "proprietary",
         "links": [
          {
           "href": "https://marine.copernicus.eu/user-corner/service-commitments-and-licence",
           "rel": "license",
           "title": "Copernicus Marine Service Commitments and Licence",
           "type": "text/html"
          },
          {
           "href": "https://doi.org/10.48670/moi-00134",
           "rel": "cite-as",
           "title": "10.48670/moi-00134",
           "type": "text/html"
          },
          {
           "href": "https://data.marine.copernicus.eu/product/SEAICE_GLO_SEAICE_L4_NRT_OBSERVATIONS_011_001",
           "rel": "alternative",
           "title": "Product page",
           "type": "text/html"
          },
          {
           "href": "https://catalogue.marine.copernicus.eu/documents/PUM/CMEMS-SI-PUM-011-001.pdf",
           "rel": "describedby",
           "title": "Product User Manual",
           "type": "application/pdf"
          },
          {
           "href": "https://catalogue.marine.copernicus.eu/documents/QUID/CMEMS-SEAICE-QUID-011-001-009.pdf",
           "rel": "describedby",
           "title": "Quality Information Document",
           "type": "application/pdf"
          },
          {
           "href": "https://catalogue.marine.copernicus.eu/documents/SQO/CMEMS-SEAICE-SQO-011-001-009.pdf",
           "rel": "describedby",
           "title": "Synthesis Quality Overview",
           "type": "application/pdf"
          },
          {
           "href": "https://hda.data.destination-earth.eu/stac/collections/EO.MO.DAT.SEAICE_GLO_SEAICE_L4_NRT_OBSERVATIONS_011_001",
           "rel": "self",
           "title": "EO.MO.DAT.SEAICE_GLO_SEAICE_L4_NRT_OBSERVATIONS_011_001"
          },
          {
           "href": "https://hda.data.destination-earth.eu/stac/",
           "rel": "root"
          },
          {
           "href": "https://hda.data.destination-earth.eu/stac/collections/EO.MO.DAT.SEAICE_GLO_SEAICE_L4_NRT_OBSERVATIONS_011_001/items",
           "rel": "items",
           "title": "items"
          }
         ],
         "providers": [
          {
           "name": "MET Norway",
           "roles": [
            "producer"
           ]
          },
          {
           "name": "Copernicus Marine Service",
           "roles": [
            "processor"
           ],
           "url": "https://marine.copernicus.eu"
          },
          {
           "name": "cop_marine",
           "roles": [
            "host"
           ],
           "url": "https://marine.copernicus.eu/"
          }
         ],
         "stac_extensions": [
          "https://stac-extensions.github.io/scientific/v1.0.0/schema.json"
         ],
         "stac_version": "1.0.0",
         "summaries": {
          "constellation": [
           null
          ],
          "intruments": [
           null
          ],
          "platform": [
           null
          ],
          "processing:level": null
         },
         "title": "Global Ocean - Arctic and Antarctic - Sea Ice Concentration, Edge, Type and Drift (OSI-SAF)",
         "type": "Collection"
        },
        {
         "assets": {
          "thumbnail": {
           "href": "https://mdl-metadata.s3.waw3-1.cloudferro.com/metadata/thumbnails/SEAICE_GLO_SEAICE_L4_REP_OBSERVATIONS_011_009.jpg",
           "roles": [
            "thumbnail"
           ],
           "title": "Global Ocean Sea Ice Concentration Time Series REPROCESSED (OSI-SAF) thumbnail",
           "type": "image/jpeg"
          }
         },
         "description": "The CDR and ICDR sea ice concentration dataset of the EUMETSAT OSI SAF (OSI-450-a and OSI-430-a), covering the period from October 1978 to present, with 16 days delay. It used passive microwave data from SMMR, SSM/I and SSMIS. Sea ice concentration is computed from atmospherically corrected PMW brightness temperatures, using a combination of state-of-the-art algorithms and dynamic tie points. It includes error bars for each grid cell (uncertainties). This version 3.0 of the CDR (OSI-450-a, 1978-2020) and ICDR (OSI-430-a, 2021-present with 16 days latency) was released in November 2022\n\n**DOI (product):**   \nhttps://doi.org/10.48670/moi-00136\n\n**References:**\n\n* [http://osisaf.met.no/docs/osisaf_cdop2_ss2_pum_sea-ice-conc-reproc_v2p2.pdf]\n",
         "extent": {
          "spatial": {
           "bbox": [
            [
             -180,
             -90,
             179.70000000001363,
             90
            ]
           ]
          },
          "temporal": {
           "interval": [
            [
             "1978-10-25T00:00:00Z",
             "2024-05-27T00:00:00Z"
            ]
           ]
          }
         },
         "id": "EO.MO.DAT.SEAICE_GLO_SEAICE_L4_REP_OBSERVATIONS_011_009",
         "keywords": [
          "arctic-ocean",
          "target-application#seaiceclimate",
          "sea-ice-area-fraction",
          "oceanographic-geographical-features",
          "satellite-observation",
          "antarctic-ocean",
          "level-4",
          "multi-year",
          "coastal-marine-environment",
          "weather-climate-and-seasonal-forecasting",
          "marine-resources",
          "marine-safety"
         ],
         "license": "proprietary",
         "links": [
          {
           "href": "https://marine.copernicus.eu/user-corner/service-commitments-and-licence",
           "rel": "license",
           "title": "Copernicus Marine Service Commitments and Licence",
           "type": "text/html"
          },
          {
           "href": "https://doi.org/10.48670/moi-00136",
           "rel": "cite-as",
           "title": "10.48670/moi-00136",
           "type": "text/html"
          },
          {
           "href": "https://data.marine.copernicus.eu/product/SEAICE_GLO_SEAICE_L4_REP_OBSERVATIONS_011_009",
           "rel": "alternative",
           "title": "Product page",
           "type": "text/html"
          },
          {
           "href": "https://catalogue.marine.copernicus.eu/documents/PUM/CMEMS-SI-PUM-011-009.pdf",
           "rel": "describedby",
           "title": "Product User Manual",
           "type": "application/pdf"
          },
          {
           "href": "https://catalogue.marine.copernicus.eu/documents/SQO/CMEMS-SEAICE-SQO-011-001-009.pdf",
           "rel": "describedby",
           "title": "Synthesis Quality Overview",
           "type": "application/pdf"
          },
          {
           "href": "https://catalogue.marine.copernicus.eu/documents/QUID/CMEMS-SEAICE-QUID-011-001-009.pdf",
           "rel": "describedby",
           "title": "Quality Information Document",
           "type": "application/pdf"
          },
          {
           "href": "https://hda.data.destination-earth.eu/stac/collections/EO.MO.DAT.SEAICE_GLO_SEAICE_L4_REP_OBSERVATIONS_011_009",
           "rel": "self",
           "title": "EO.MO.DAT.SEAICE_GLO_SEAICE_L4_REP_OBSERVATIONS_011_009"
          },
          {
           "href": "https://hda.data.destination-earth.eu/stac/",
           "rel": "root"
          },
          {
           "href": "https://hda.data.destination-earth.eu/stac/collections/EO.MO.DAT.SEAICE_GLO_SEAICE_L4_REP_OBSERVATIONS_011_009/items",
           "rel": "items",
           "title": "items"
          }
         ],
         "providers": [
          {
           "name": "MET Norway",
           "roles": [
            "producer"
           ]
          },
          {
           "name": "Copernicus Marine Service",
           "roles": [
            "processor"
           ],
           "url": "https://marine.copernicus.eu"
          },
          {
           "name": "cop_marine",
           "roles": [
            "host"
           ],
           "url": "https://marine.copernicus.eu/"
          }
         ],
         "stac_extensions": [
          "https://stac-extensions.github.io/scientific/v1.0.0/schema.json"
         ],
         "stac_version": "1.0.0",
         "summaries": {
          "constellation": [
           null
          ],
          "intruments": [
           null
          ],
          "platform": [
           null
          ],
          "processing:level": null
         },
         "title": "Global Ocean Sea Ice Concentration Time Series REPROCESSED (OSI-SAF)",
         "type": "Collection"
        },
        {
         "assets": {
          "thumbnail": {
           "href": "https://mdl-metadata.s3.waw3-1.cloudferro.com/metadata/thumbnails/SST_GLO_SST_L4_NRT_OBSERVATIONS_010_001.jpg",
           "roles": [
            "thumbnail"
           ],
           "title": "Global Ocean OSTIA Sea Surface Temperature and Sea Ice Analysis thumbnail",
           "type": "image/jpeg"
          }
         },
         "description": "For the Global Ocean- the OSTIA global foundation Sea Surface Temperature product provides daily gap-free maps of: Foundation Sea Surface Temperature at 0.05° x 0.05° horizontal grid resolution, using in-situ and satellite data from both infrared and microwave radiometers. \n\nThe Operational Sea Surface Temperature and Ice Analysis (OSTIA) system is run by the UK's Met Office and delivered by IFREMER PU. OSTIA uses satellite data provided by the GHRSST project together with in-situ observations to determine the sea surface temperature.\nA high resolution (1/20° - approx. 6 km) daily analysis of sea surface temperature (SST) is produced for the global ocean and some lakes.\n\n**DOI (product):**   \nhttps://doi.org/10.48670/moi-00165\n\n**References:**\n\n* Good, S.; Fiedler, E.; Mao, C.; Martin, M.J.; Maycock, A.; Reid, R.; Roberts-Jones, J.; Searle, T.; Waters, J.; While, J.; Worsfold, M. The Current Configuration of the OSTIA System for Operational Production of Foundation Sea Surface Temperature and Ice Concentration Analyses. Remote Sens. 2020, 12, 720. doi: 10.3390/rs12040720\n* Donlon, C.J., Martin, M., Stark, J., Roberts-Jones, J., Fiedler, E., and Wimmer, W., 2012, The Operational Sea Surface Temperature and Sea Ice Analysis (OSTIA) system. Remote Sensing of the Environment. doi: 10.1016/j.rse.2010.10.017 2011.\n* John D. Stark, Craig J. Donlon, Matthew J. Martin and Michael E. McCulloch, 2007, OSTIA : An operational, high resolution, real time, global sea surface temperature analysis system., Oceans 07 IEEE Aberdeen, conference proceedings. Marine challenges: coastline to deep sea. Aberdeen, Scotland.IEEE.\n",
         "extent": {
          "spatial": {
           "bbox": [
            [
             -179.97500610351562,
             -89.9749984741211,
             179.97500610351562,
             89.9749984741211
            ]
           ]
          },
          "temporal": {
           "interval": [
            [
             "2007-01-01T00:00:00Z",
             "2024-06-11T00:00:00Z"
            ]
           ]
          }
         },
         "id": "EO.MO.DAT.SST_GLO_SST_L4_NRT_OBSERVATIONS_010_001",
         "keywords": [
          "global-ocean",
          "sea-ice-area-fraction",
          "oceanographic-geographical-features",
          "satellite-observation",
          "level-4",
          "coastal-marine-environment",
          "weather-climate-and-seasonal-forecasting",
          "marine-resources",
          "near-real-time",
          "sea-surface-temperature",
          "target-application#seaiceforecastingapplication",
          "marine-safety"
         ],
         "license": "proprietary",
         "links": [
          {
           "href": "https://marine.copernicus.eu/user-corner/service-commitments-and-licence",
           "rel": "license",
           "title": "Copernicus Marine Service Commitments and Licence",
           "type": "text/html"
          },
          {
           "href": "https://doi.org/10.48670/moi-00165",
           "rel": "cite-as",
           "title": "10.48670/moi-00165",
           "type": "text/html"
          },
          {
           "href": "https://data.marine.copernicus.eu/product/SST_GLO_SST_L4_NRT_OBSERVATIONS_010_001",
           "rel": "alternative",
           "title": "Product page",
           "type": "text/html"
          },
          {
           "href": "https://catalogue.marine.copernicus.eu/documents/PUM/CMEMS-SST-PUM-010-001.pdf",
           "rel": "describedby",
           "title": "Product User Manual",
           "type": "application/pdf"
          },
          {
           "href": "https://catalogue.marine.copernicus.eu/documents/QUID/CMEMS-SST-QUID-010-001.pdf",
           "rel": "describedby",
           "title": "Quality Information Document",
           "type": "application/pdf"
          },
          {
           "href": "https://catalogue.marine.copernicus.eu/documents/SQO/CMEMS-SST-SQO-010-001.pdf",
           "rel": "describedby",
           "title": "Synthesis Quality Overview",
           "type": "application/pdf"
          },
          {
           "href": "https://hda.data.destination-earth.eu/stac/collections/EO.MO.DAT.SST_GLO_SST_L4_NRT_OBSERVATIONS_010_001",
           "rel": "self",
           "title": "EO.MO.DAT.SST_GLO_SST_L4_NRT_OBSERVATIONS_010_001"
          },
          {
           "href": "https://hda.data.destination-earth.eu/stac/",
           "rel": "root"
          },
          {
           "href": "https://hda.data.destination-earth.eu/stac/collections/EO.MO.DAT.SST_GLO_SST_L4_NRT_OBSERVATIONS_010_001/items",
           "rel": "items",
           "title": "items"
          }
         ],
         "providers": [
          {
           "name": "Met Office (UK)",
           "roles": [
            "producer"
           ]
          },
          {
           "name": "Copernicus Marine Service",
           "roles": [
            "processor"
           ],
           "url": "https://marine.copernicus.eu"
          },
          {
           "name": "cop_marine",
           "roles": [
            "host"
           ],
           "url": "https://marine.copernicus.eu/"
          }
         ],
         "stac_extensions": [
          "https://stac-extensions.github.io/scientific/v1.0.0/schema.json"
         ],
         "stac_version": "1.0.0",
         "summaries": {
          "constellation": [
           null
          ],
          "intruments": [
           null
          ],
          "platform": [
           null
          ],
          "processing:level": null
         },
         "title": "Global Ocean OSTIA Sea Surface Temperature and Sea Ice Analysis",
         "type": "Collection"
        },
        {
         "assets": {
          "thumbnail": {
           "href": "https://mdl-metadata.s3.waw3-1.cloudferro.com/metadata/thumbnails/SST_GLO_SST_L4_REP_OBSERVATIONS_010_011.jpg",
           "roles": [
            "thumbnail"
           ],
           "title": "Global Ocean OSTIA Sea Surface Temperature and Sea Ice Reprocessed thumbnail",
           "type": "image/jpeg"
          }
         },
         "description": "The OSTIA (Good et al., 2020) global sea surface temperature reprocessed product provides daily gap-free maps of foundation sea surface temperature and ice concentration (referred to as an L4 product) at 0.05deg.x 0.05deg. horizontal grid resolution, using in-situ and satellite data. This product provides the foundation Sea Surface Temperature, which is the temperature free of diurnal variability.\n\n**DOI (product):**   \nhttps://doi.org/10.48670/moi-00168\n\n**References:**\n\n* Good, S.; Fiedler, E.; Mao, C.; Martin, M.J.; Maycock, A.; Reid, R.; Roberts-Jones, J.; Searle, T.; Waters, J.; While, J.; Worsfold, M. The Current Configuration of the OSTIA System for Operational Production of Foundation Sea Surface Temperature and Ice Concentration Analyses. Remote Sens. 2020, 12, 720, doi:10.3390/rs12040720\n",
         "extent": {
          "spatial": {
           "bbox": [
            [
             -179.97500610351562,
             -89.9749984741211,
             179.97500610351562,
             89.9749984741211
            ]
           ]
          },
          "temporal": {
           "interval": [
            [
             "1981-10-01T00:00:00Z",
             "2022-05-31T00:00:00Z"
            ]
           ]
          }
         },
         "id": "EO.MO.DAT.SST_GLO_SST_L4_REP_OBSERVATIONS_010_011",
         "keywords": [
          "global-ocean",
          "target-application#seaiceclimate",
          "sea-ice-area-fraction",
          "oceanographic-geographical-features",
          "satellite-observation",
          "level-4",
          "multi-year",
          "coastal-marine-environment",
          "weather-climate-and-seasonal-forecasting",
          "marine-resources",
          "sea-surface-temperature",
          "marine-safety"
         ],
         "license": "proprietary",
         "links": [
          {
           "href": "https://marine.copernicus.eu/user-corner/service-commitments-and-licence",
           "rel": "license",
           "title": "Copernicus Marine Service Commitments and Licence",
           "type": "text/html"
          },
          {
           "href": "https://doi.org/10.48670/moi-00168",
           "rel": "cite-as",
           "title": "10.48670/moi-00168",
           "type": "text/html"
          },
          {
           "href": "https://data.marine.copernicus.eu/product/SST_GLO_SST_L4_REP_OBSERVATIONS_010_011",
           "rel": "alternative",
           "title": "Product page",
           "type": "text/html"
          },
          {
           "href": "https://catalogue.marine.copernicus.eu/documents/PUM/CMEMS-SST-PUM-010-011.pdf",
           "rel": "describedby",
           "title": "Product User Manual",
           "type": "application/pdf"
          },
          {
           "href": "https://catalogue.marine.copernicus.eu/documents/QUID/CMEMS-SST-QUID-010-011.pdf",
           "rel": "describedby",
           "title": "Quality Information Document",
           "type": "application/pdf"
          },
          {
           "href": "https://catalogue.marine.copernicus.eu/documents/SQO/CMEMS-SST-SQO-010-011.pdf",
           "rel": "describedby",
           "title": "Synthesis Quality Overview",
           "type": "application/pdf"
          },
          {
           "href": "https://hda.data.destination-earth.eu/stac/collections/EO.MO.DAT.SST_GLO_SST_L4_REP_OBSERVATIONS_010_011",
           "rel": "self",
           "title": "EO.MO.DAT.SST_GLO_SST_L4_REP_OBSERVATIONS_010_011"
          },
          {
           "href": "https://hda.data.destination-earth.eu/stac/",
           "rel": "root"
          },
          {
           "href": "https://hda.data.destination-earth.eu/stac/collections/EO.MO.DAT.SST_GLO_SST_L4_REP_OBSERVATIONS_010_011/items",
           "rel": "items",
           "title": "items"
          }
         ],
         "providers": [
          {
           "name": "Met Office (UK)",
           "roles": [
            "producer"
           ]
          },
          {
           "name": "Copernicus Marine Service",
           "roles": [
            "processor"
           ],
           "url": "https://marine.copernicus.eu"
          },
          {
           "name": "cop_marine",
           "roles": [
            "host"
           ],
           "url": "https://marine.copernicus.eu/"
          }
         ],
         "stac_extensions": [
          "https://stac-extensions.github.io/scientific/v1.0.0/schema.json"
         ],
         "stac_version": "1.0.0",
         "summaries": {
          "constellation": [
           null
          ],
          "intruments": [
           null
          ],
          "platform": [
           null
          ],
          "processing:level": null
         },
         "title": "Global Ocean OSTIA Sea Surface Temperature and Sea Ice Reprocessed",
         "type": "Collection"
        },
        {
         "assets": {
          "thumbnail": {
           "href": "https://mdl-metadata.s3.waw3-1.cloudferro.com/metadata/thumbnails/SST_GLO_SST_L4_REP_OBSERVATIONS_010_024.jpg",
           "roles": [
            "thumbnail"
           ],
           "title": "ESA SST CCI and C3S reprocessed sea surface temperature analyses thumbnail",
           "type": "image/jpeg"
          }
         },
         "description": "The ESA SST CCI and C3S global Sea Surface Temperature Reprocessed product provides gap-free maps of daily average SST at 20 cm depth at 0.05deg. x 0.05deg. horizontal grid resolution, using satellite data from the (A)ATSRs, SLSTR and the AVHRR series of sensors (Merchant et al., 2019). The ESA SST CCI and C3S level 4 analyses were produced by running the Operational Sea Surface Temperature and Sea Ice Analysis (OSTIA) system (Good et al., 2020) to provide a high resolution (1/20deg. - approx. 5km grid resolution) daily analysis of the daily average sea surface temperature (SST) at 20 cm depth for the global ocean. Only (A)ATSR, SLSTR and AVHRR satellite data processed by the ESA SST CCI and C3S projects were used, giving a stable product. It also uses reprocessed sea-ice concentration data from the EUMETSAT OSI-SAF (OSI-450 and OSI-430; Lavergne et al., 2019).\n\n**DOI (product):**   \nhttps://doi.org/10.48670/moi-00169\n\n**References:**\n\n* Good, S., Fiedler, E., Mao, C., Martin, M.J., Maycock, A., Reid, R., Roberts-Jones, J., Searle, T., Waters, J., While, J., Worsfold, M. The Current Configuration of the OSTIA System for Operational Production of Foundation Sea Surface Temperature and Ice Concentration Analyses. Remote Sens. 2020, 12, 720, doi:10.3390/rs12040720.\n* Lavergne, T., Sørensen, A. M., Kern, S., Tonboe, R., Notz, D., Aaboe, S., Bell, L., Dybkjær, G., Eastwood, S., Gabarro, C., Heygster, G., Killie, M. A., Brandt Kreiner, M., Lavelle, J., Saldo, R., Sandven, S., and Pedersen, L. T.: Version 2 of the EUMETSAT OSI SAF and ESA CCI sea-ice concentration climate data records, The Cryosphere, 13, 49-78, doi:10.5194/tc-13-49-2019, 2019.\n* Merchant, C.J., Embury, O., Bulgin, C.E. et al. Satellite-based time-series of sea-surface temperature since 1981 for climate applications. Sci Data 6, 223 (2019) doi:10.1038/s41597-019-0236-x.\n",
         "extent": {
          "spatial": {
           "bbox": [
            [
             -179.97500610351562,
             -89.9749984741211,
             179.97500610351562,
             89.9749984741211
            ]
           ]
          },
          "temporal": {
           "interval": [
            [
             "1981-09-01T00:00:00Z",
             "2022-10-31T00:00:00Z"
            ]
           ]
          }
         },
         "id": "EO.MO.DAT.SST_GLO_SST_L4_REP_OBSERVATIONS_010_024",
         "keywords": [
          "global-ocean",
          "target-application#seaiceclimate",
          "sea-ice-area-fraction",
          "oceanographic-geographical-features",
          "satellite-observation",
          "level-4",
          "multi-year",
          "coastal-marine-environment",
          "sea-water-temperature",
          "weather-climate-and-seasonal-forecasting",
          "marine-resources",
          "marine-safety"
         ],
         "license": "proprietary",
         "links": [
          {
           "href": "https://marine.copernicus.eu/user-corner/service-commitments-and-licence",
           "rel": "license",
           "title": "Copernicus Marine Service Commitments and Licence",
           "type": "text/html"
          },
          {
           "href": "https://doi.org/10.48670/moi-00169",
           "rel": "cite-as",
           "title": "10.48670/moi-00169",
           "type": "text/html"
          },
          {
           "href": "https://data.marine.copernicus.eu/product/SST_GLO_SST_L4_REP_OBSERVATIONS_010_024",
           "rel": "alternative",
           "title": "Product page",
           "type": "text/html"
          },
          {
           "href": "https://catalogue.marine.copernicus.eu/documents/PUM/CMEMS-SST-PUM-010-024.pdf",
           "rel": "describedby",
           "title": "Product User Manual",
           "type": "application/pdf"
          },
          {
           "href": "https://catalogue.marine.copernicus.eu/documents/QUID/CMEMS-SST-QUID-010-024.pdf",
           "rel": "describedby",
           "title": "Quality Information Document",
           "type": "application/pdf"
          },
          {
           "href": "https://catalogue.marine.copernicus.eu/documents/SQO/CMEMS-SST-SQO-010-024.pdf",
           "rel": "describedby",
           "title": "Synthesis Quality Overview",
           "type": "application/pdf"
          },
          {
           "href": "https://hda.data.destination-earth.eu/stac/collections/EO.MO.DAT.SST_GLO_SST_L4_REP_OBSERVATIONS_010_024",
           "rel": "self",
           "title": "EO.MO.DAT.SST_GLO_SST_L4_REP_OBSERVATIONS_010_024"
          },
          {
           "href": "https://hda.data.destination-earth.eu/stac/",
           "rel": "root"
          },
          {
           "href": "https://hda.data.destination-earth.eu/stac/collections/EO.MO.DAT.SST_GLO_SST_L4_REP_OBSERVATIONS_010_024/items",
           "rel": "items",
           "title": "items"
          }
         ],
         "providers": [
          {
           "name": "Met Office (UK)",
           "roles": [
            "producer"
           ]
          },
          {
           "name": "Copernicus Marine Service",
           "roles": [
            "processor"
           ],
           "url": "https://marine.copernicus.eu"
          },
          {
           "name": "cop_marine",
           "roles": [
            "host"
           ],
           "url": "https://marine.copernicus.eu/"
          }
         ],
         "stac_extensions": [
          "https://stac-extensions.github.io/scientific/v1.0.0/schema.json"
         ],
         "stac_version": "1.0.0",
         "summaries": {
          "constellation": [
           null
          ],
          "intruments": [
           null
          ],
          "platform": [
           null
          ],
          "processing:level": null
         },
         "title": "ESA SST CCI and C3S reprocessed sea surface temperature analyses",
         "type": "Collection"
        }
       ],
       "links": [
        {
         "href": "https://hda.data.destination-earth.eu/stac/",
         "rel": "root",
         "type": "application/json"
        },
        {
         "href": "https://hda.data.destination-earth.eu/stac/",
         "rel": "parent",
         "type": "application/json"
        },
        {
         "href": "https://hda.data.destination-earth.eu/stac/collections",
         "rel": "self",
         "type": "application/json"
        }
       ]
      },
      "text/plain": [
       "<IPython.core.display.JSON object>"
      ]
     },
     "execution_count": 8,
     "metadata": {
      "application/json": {
       "expanded": false,
       "root": "root"
      }
     },
     "output_type": "execute_result"
    }
   ],
   "source": [
    "response = requests.get(COLLECTIONS_URL,params = {\"q\": \"Chlorophyll-a Concentration,algal pigment\"})\n",
    "\n",
    "JSON(response.json(), expanded=False)"
   ]
  },
  {
   "cell_type": "markdown",
   "id": "6b8d17b9-9519-4302-ae00-bd270b3c7673",
   "metadata": {},
   "source": [
    "## Authenticate"
   ]
  },
  {
   "cell_type": "code",
   "execution_count": 10,
   "id": "a4a975d7-8668-48ee-bde3-339c8b864af6",
   "metadata": {
    "tags": []
   },
   "outputs": [
    {
     "name": "stdin",
     "output_type": "stream",
     "text": [
      "Please input your DESP username or email:  eum-dedl-user\n",
      "Please input your DESP password:  ········\n"
     ]
    },
    {
     "name": "stdout",
     "output_type": "stream",
     "text": [
      "Response code: 200\n",
      "DEDL/DESP Access Token Obtained Successfully\n"
     ]
    }
   ],
   "source": [
    "DESP_USERNAME = input(\"Please input your DESP username or email: \")\n",
    "DESP_PASSWORD = getpass(\"Please input your DESP password: \")\n",
    "\n",
    "auth = deauth.AuthHandler(DESP_USERNAME, DESP_PASSWORD)\n",
    "access_token = auth.get_token()\n",
    "if access_token is not None:\n",
    "    print(\"DEDL/DESP Access Token Obtained Successfully\")\n",
    "else:\n",
    "    print(\"Failed to Obtain DEDL/DESP Access Token\")\n",
    "\n",
    "auth_headers = {\"Authorization\": f\"Bearer {access_token}\"}"
   ]
  },
  {
   "cell_type": "markdown",
   "id": "16c39a67-7ffa-49a4-999c-22895e59099b",
   "metadata": {
    "tags": []
   },
   "source": [
    "## Search"
   ]
  },
  {
   "cell_type": "markdown",
   "id": "4749024c-5156-40b1-ba16-dd24aa71ffed",
   "metadata": {},
   "source": [
    "Once selected a collection it is possible to search for items that match the specified input filters and order the results.\n",
    "\n",
    "The collection used for this tutorial is [OLCI Level 2 Ocean Colour Reduced Resolution - Sentinel-3](https://hda.data.destination-earth.eu/ui/dataset/EO.EUM.DAT.SENTINEL-3.OL_2_WRR___)\n"
   ]
  },
  {
   "cell_type": "code",
   "execution_count": 14,
   "id": "3c582fc0-654c-46f6-8bbe-92d65946889b",
   "metadata": {
    "tags": []
   },
   "outputs": [
    {
     "data": {
      "application/json": {
       "features": [
        {
         "assets": {
          "EOPMetadata.xml": {
           "alternate": {
            "origin": {
             "href": "s3://eodata/Sentinel-3/OLCI/OL_2_WRR___/2024/09/09/S3A_OL_2_WRR____20240909T112830_20240909T121242_20240909T134532_2652_116_351______MAR_O_NR_003.SEN3/EOPMetadata.xml",
             "title": "Origin asset link",
             "type": "text/xml"
            }
           },
           "href": "https://hda.data.destination-earth.eu/stac/collections/EO.EUM.DAT.SENTINEL-3.OL_2_WRR___/items/S3A_OL_2_WRR____20240909T112830_20240909T121242_20240909T134532_2652_116_351______MAR_O_NR_003/download/EOPMetadata.xml?provider=dedl",
           "roles": [
            "metadata"
           ],
           "title": "EOPMetadata.xml",
           "type": "text/xml"
          },
          "Oa01_reflectance.nc": {
           "alternate": {
            "origin": {
             "href": "s3://eodata/Sentinel-3/OLCI/OL_2_WRR___/2024/09/09/S3A_OL_2_WRR____20240909T112830_20240909T121242_20240909T134532_2652_116_351______MAR_O_NR_003.SEN3/Oa01_reflectance.nc",
             "title": "Origin asset link",
             "type": "application/x-netcdf"
            }
           },
           "href": "https://hda.data.destination-earth.eu/stac/collections/EO.EUM.DAT.SENTINEL-3.OL_2_WRR___/items/S3A_OL_2_WRR____20240909T112830_20240909T121242_20240909T134532_2652_116_351______MAR_O_NR_003/download/Oa01_reflectance.nc?provider=dedl",
           "roles": [
            "data"
           ],
           "title": "Oa01_reflectance.nc",
           "type": "application/x-netcdf"
          },
          "Oa02_reflectance.nc": {
           "alternate": {
            "origin": {
             "href": "s3://eodata/Sentinel-3/OLCI/OL_2_WRR___/2024/09/09/S3A_OL_2_WRR____20240909T112830_20240909T121242_20240909T134532_2652_116_351______MAR_O_NR_003.SEN3/Oa02_reflectance.nc",
             "title": "Origin asset link",
             "type": "application/x-netcdf"
            }
           },
           "href": "https://hda.data.destination-earth.eu/stac/collections/EO.EUM.DAT.SENTINEL-3.OL_2_WRR___/items/S3A_OL_2_WRR____20240909T112830_20240909T121242_20240909T134532_2652_116_351______MAR_O_NR_003/download/Oa02_reflectance.nc?provider=dedl",
           "roles": [
            "data"
           ],
           "title": "Oa02_reflectance.nc",
           "type": "application/x-netcdf"
          },
          "Oa03_reflectance.nc": {
           "alternate": {
            "origin": {
             "href": "s3://eodata/Sentinel-3/OLCI/OL_2_WRR___/2024/09/09/S3A_OL_2_WRR____20240909T112830_20240909T121242_20240909T134532_2652_116_351______MAR_O_NR_003.SEN3/Oa03_reflectance.nc",
             "title": "Origin asset link",
             "type": "application/x-netcdf"
            }
           },
           "href": "https://hda.data.destination-earth.eu/stac/collections/EO.EUM.DAT.SENTINEL-3.OL_2_WRR___/items/S3A_OL_2_WRR____20240909T112830_20240909T121242_20240909T134532_2652_116_351______MAR_O_NR_003/download/Oa03_reflectance.nc?provider=dedl",
           "roles": [
            "data"
           ],
           "title": "Oa03_reflectance.nc",
           "type": "application/x-netcdf"
          },
          "Oa04_reflectance.nc": {
           "alternate": {
            "origin": {
             "href": "s3://eodata/Sentinel-3/OLCI/OL_2_WRR___/2024/09/09/S3A_OL_2_WRR____20240909T112830_20240909T121242_20240909T134532_2652_116_351______MAR_O_NR_003.SEN3/Oa04_reflectance.nc",
             "title": "Origin asset link",
             "type": "application/x-netcdf"
            }
           },
           "href": "https://hda.data.destination-earth.eu/stac/collections/EO.EUM.DAT.SENTINEL-3.OL_2_WRR___/items/S3A_OL_2_WRR____20240909T112830_20240909T121242_20240909T134532_2652_116_351______MAR_O_NR_003/download/Oa04_reflectance.nc?provider=dedl",
           "roles": [
            "data"
           ],
           "title": "Oa04_reflectance.nc",
           "type": "application/x-netcdf"
          },
          "Oa05_reflectance.nc": {
           "alternate": {
            "origin": {
             "href": "s3://eodata/Sentinel-3/OLCI/OL_2_WRR___/2024/09/09/S3A_OL_2_WRR____20240909T112830_20240909T121242_20240909T134532_2652_116_351______MAR_O_NR_003.SEN3/Oa05_reflectance.nc",
             "title": "Origin asset link",
             "type": "application/x-netcdf"
            }
           },
           "href": "https://hda.data.destination-earth.eu/stac/collections/EO.EUM.DAT.SENTINEL-3.OL_2_WRR___/items/S3A_OL_2_WRR____20240909T112830_20240909T121242_20240909T134532_2652_116_351______MAR_O_NR_003/download/Oa05_reflectance.nc?provider=dedl",
           "roles": [
            "data"
           ],
           "title": "Oa05_reflectance.nc",
           "type": "application/x-netcdf"
          },
          "Oa06_reflectance.nc": {
           "alternate": {
            "origin": {
             "href": "s3://eodata/Sentinel-3/OLCI/OL_2_WRR___/2024/09/09/S3A_OL_2_WRR____20240909T112830_20240909T121242_20240909T134532_2652_116_351______MAR_O_NR_003.SEN3/Oa06_reflectance.nc",
             "title": "Origin asset link",
             "type": "application/x-netcdf"
            }
           },
           "href": "https://hda.data.destination-earth.eu/stac/collections/EO.EUM.DAT.SENTINEL-3.OL_2_WRR___/items/S3A_OL_2_WRR____20240909T112830_20240909T121242_20240909T134532_2652_116_351______MAR_O_NR_003/download/Oa06_reflectance.nc?provider=dedl",
           "roles": [
            "data"
           ],
           "title": "Oa06_reflectance.nc",
           "type": "application/x-netcdf"
          },
          "Oa07_reflectance.nc": {
           "alternate": {
            "origin": {
             "href": "s3://eodata/Sentinel-3/OLCI/OL_2_WRR___/2024/09/09/S3A_OL_2_WRR____20240909T112830_20240909T121242_20240909T134532_2652_116_351______MAR_O_NR_003.SEN3/Oa07_reflectance.nc",
             "title": "Origin asset link",
             "type": "application/x-netcdf"
            }
           },
           "href": "https://hda.data.destination-earth.eu/stac/collections/EO.EUM.DAT.SENTINEL-3.OL_2_WRR___/items/S3A_OL_2_WRR____20240909T112830_20240909T121242_20240909T134532_2652_116_351______MAR_O_NR_003/download/Oa07_reflectance.nc?provider=dedl",
           "roles": [
            "data"
           ],
           "title": "Oa07_reflectance.nc",
           "type": "application/x-netcdf"
          },
          "Oa08_reflectance.nc": {
           "alternate": {
            "origin": {
             "href": "s3://eodata/Sentinel-3/OLCI/OL_2_WRR___/2024/09/09/S3A_OL_2_WRR____20240909T112830_20240909T121242_20240909T134532_2652_116_351______MAR_O_NR_003.SEN3/Oa08_reflectance.nc",
             "title": "Origin asset link",
             "type": "application/x-netcdf"
            }
           },
           "href": "https://hda.data.destination-earth.eu/stac/collections/EO.EUM.DAT.SENTINEL-3.OL_2_WRR___/items/S3A_OL_2_WRR____20240909T112830_20240909T121242_20240909T134532_2652_116_351______MAR_O_NR_003/download/Oa08_reflectance.nc?provider=dedl",
           "roles": [
            "data"
           ],
           "title": "Oa08_reflectance.nc",
           "type": "application/x-netcdf"
          },
          "Oa09_reflectance.nc": {
           "alternate": {
            "origin": {
             "href": "s3://eodata/Sentinel-3/OLCI/OL_2_WRR___/2024/09/09/S3A_OL_2_WRR____20240909T112830_20240909T121242_20240909T134532_2652_116_351______MAR_O_NR_003.SEN3/Oa09_reflectance.nc",
             "title": "Origin asset link",
             "type": "application/x-netcdf"
            }
           },
           "href": "https://hda.data.destination-earth.eu/stac/collections/EO.EUM.DAT.SENTINEL-3.OL_2_WRR___/items/S3A_OL_2_WRR____20240909T112830_20240909T121242_20240909T134532_2652_116_351______MAR_O_NR_003/download/Oa09_reflectance.nc?provider=dedl",
           "roles": [
            "data"
           ],
           "title": "Oa09_reflectance.nc",
           "type": "application/x-netcdf"
          },
          "Oa10_reflectance.nc": {
           "alternate": {
            "origin": {
             "href": "s3://eodata/Sentinel-3/OLCI/OL_2_WRR___/2024/09/09/S3A_OL_2_WRR____20240909T112830_20240909T121242_20240909T134532_2652_116_351______MAR_O_NR_003.SEN3/Oa10_reflectance.nc",
             "title": "Origin asset link",
             "type": "application/x-netcdf"
            }
           },
           "href": "https://hda.data.destination-earth.eu/stac/collections/EO.EUM.DAT.SENTINEL-3.OL_2_WRR___/items/S3A_OL_2_WRR____20240909T112830_20240909T121242_20240909T134532_2652_116_351______MAR_O_NR_003/download/Oa10_reflectance.nc?provider=dedl",
           "roles": [
            "data"
           ],
           "title": "Oa10_reflectance.nc",
           "type": "application/x-netcdf"
          },
          "Oa11_reflectance.nc": {
           "alternate": {
            "origin": {
             "href": "s3://eodata/Sentinel-3/OLCI/OL_2_WRR___/2024/09/09/S3A_OL_2_WRR____20240909T112830_20240909T121242_20240909T134532_2652_116_351______MAR_O_NR_003.SEN3/Oa11_reflectance.nc",
             "title": "Origin asset link",
             "type": "application/x-netcdf"
            }
           },
           "href": "https://hda.data.destination-earth.eu/stac/collections/EO.EUM.DAT.SENTINEL-3.OL_2_WRR___/items/S3A_OL_2_WRR____20240909T112830_20240909T121242_20240909T134532_2652_116_351______MAR_O_NR_003/download/Oa11_reflectance.nc?provider=dedl",
           "roles": [
            "data"
           ],
           "title": "Oa11_reflectance.nc",
           "type": "application/x-netcdf"
          },
          "Oa12_reflectance.nc": {
           "alternate": {
            "origin": {
             "href": "s3://eodata/Sentinel-3/OLCI/OL_2_WRR___/2024/09/09/S3A_OL_2_WRR____20240909T112830_20240909T121242_20240909T134532_2652_116_351______MAR_O_NR_003.SEN3/Oa12_reflectance.nc",
             "title": "Origin asset link",
             "type": "application/x-netcdf"
            }
           },
           "href": "https://hda.data.destination-earth.eu/stac/collections/EO.EUM.DAT.SENTINEL-3.OL_2_WRR___/items/S3A_OL_2_WRR____20240909T112830_20240909T121242_20240909T134532_2652_116_351______MAR_O_NR_003/download/Oa12_reflectance.nc?provider=dedl",
           "roles": [
            "data"
           ],
           "title": "Oa12_reflectance.nc",
           "type": "application/x-netcdf"
          },
          "Oa16_reflectance.nc": {
           "alternate": {
            "origin": {
             "href": "s3://eodata/Sentinel-3/OLCI/OL_2_WRR___/2024/09/09/S3A_OL_2_WRR____20240909T112830_20240909T121242_20240909T134532_2652_116_351______MAR_O_NR_003.SEN3/Oa16_reflectance.nc",
             "title": "Origin asset link",
             "type": "application/x-netcdf"
            }
           },
           "href": "https://hda.data.destination-earth.eu/stac/collections/EO.EUM.DAT.SENTINEL-3.OL_2_WRR___/items/S3A_OL_2_WRR____20240909T112830_20240909T121242_20240909T134532_2652_116_351______MAR_O_NR_003/download/Oa16_reflectance.nc?provider=dedl",
           "roles": [
            "data"
           ],
           "title": "Oa16_reflectance.nc",
           "type": "application/x-netcdf"
          },
          "Oa17_reflectance.nc": {
           "alternate": {
            "origin": {
             "href": "s3://eodata/Sentinel-3/OLCI/OL_2_WRR___/2024/09/09/S3A_OL_2_WRR____20240909T112830_20240909T121242_20240909T134532_2652_116_351______MAR_O_NR_003.SEN3/Oa17_reflectance.nc",
             "title": "Origin asset link",
             "type": "application/x-netcdf"
            }
           },
           "href": "https://hda.data.destination-earth.eu/stac/collections/EO.EUM.DAT.SENTINEL-3.OL_2_WRR___/items/S3A_OL_2_WRR____20240909T112830_20240909T121242_20240909T134532_2652_116_351______MAR_O_NR_003/download/Oa17_reflectance.nc?provider=dedl",
           "roles": [
            "data"
           ],
           "title": "Oa17_reflectance.nc",
           "type": "application/x-netcdf"
          },
          "Oa18_reflectance.nc": {
           "alternate": {
            "origin": {
             "href": "s3://eodata/Sentinel-3/OLCI/OL_2_WRR___/2024/09/09/S3A_OL_2_WRR____20240909T112830_20240909T121242_20240909T134532_2652_116_351______MAR_O_NR_003.SEN3/Oa18_reflectance.nc",
             "title": "Origin asset link",
             "type": "application/x-netcdf"
            }
           },
           "href": "https://hda.data.destination-earth.eu/stac/collections/EO.EUM.DAT.SENTINEL-3.OL_2_WRR___/items/S3A_OL_2_WRR____20240909T112830_20240909T121242_20240909T134532_2652_116_351______MAR_O_NR_003/download/Oa18_reflectance.nc?provider=dedl",
           "roles": [
            "data"
           ],
           "title": "Oa18_reflectance.nc",
           "type": "application/x-netcdf"
          },
          "Oa21_reflectance.nc": {
           "alternate": {
            "origin": {
             "href": "s3://eodata/Sentinel-3/OLCI/OL_2_WRR___/2024/09/09/S3A_OL_2_WRR____20240909T112830_20240909T121242_20240909T134532_2652_116_351______MAR_O_NR_003.SEN3/Oa21_reflectance.nc",
             "title": "Origin asset link",
             "type": "application/x-netcdf"
            }
           },
           "href": "https://hda.data.destination-earth.eu/stac/collections/EO.EUM.DAT.SENTINEL-3.OL_2_WRR___/items/S3A_OL_2_WRR____20240909T112830_20240909T121242_20240909T134532_2652_116_351______MAR_O_NR_003/download/Oa21_reflectance.nc?provider=dedl",
           "roles": [
            "data"
           ],
           "title": "Oa21_reflectance.nc",
           "type": "application/x-netcdf"
          },
          "browse.jpg": {
           "alternate": {
            "origin": {
             "href": "s3://eodata/Sentinel-3/OLCI/OL_2_WRR___/2024/09/09/S3A_OL_2_WRR____20240909T112830_20240909T121242_20240909T134532_2652_116_351______MAR_O_NR_003.SEN3/browse.jpg",
             "title": "Origin asset link",
             "type": "image/jpeg"
            }
           },
           "href": "https://hda.data.destination-earth.eu/stac/collections/EO.EUM.DAT.SENTINEL-3.OL_2_WRR___/items/S3A_OL_2_WRR____20240909T112830_20240909T121242_20240909T134532_2652_116_351______MAR_O_NR_003/download/browse.jpg?provider=dedl",
           "roles": [
            "metadata"
           ],
           "title": "browse.jpg",
           "type": "image/jpeg"
          },
          "chl_nn.nc": {
           "alternate": {
            "origin": {
             "href": "s3://eodata/Sentinel-3/OLCI/OL_2_WRR___/2024/09/09/S3A_OL_2_WRR____20240909T112830_20240909T121242_20240909T134532_2652_116_351______MAR_O_NR_003.SEN3/chl_nn.nc",
             "title": "Origin asset link",
             "type": "application/x-netcdf"
            }
           },
           "href": "https://hda.data.destination-earth.eu/stac/collections/EO.EUM.DAT.SENTINEL-3.OL_2_WRR___/items/S3A_OL_2_WRR____20240909T112830_20240909T121242_20240909T134532_2652_116_351______MAR_O_NR_003/download/chl_nn.nc?provider=dedl",
           "roles": [
            "data"
           ],
           "title": "chl_nn.nc",
           "type": "application/x-netcdf"
          },
          "chl_oc4me.nc": {
           "alternate": {
            "origin": {
             "href": "s3://eodata/Sentinel-3/OLCI/OL_2_WRR___/2024/09/09/S3A_OL_2_WRR____20240909T112830_20240909T121242_20240909T134532_2652_116_351______MAR_O_NR_003.SEN3/chl_oc4me.nc",
             "title": "Origin asset link",
             "type": "application/x-netcdf"
            }
           },
           "href": "https://hda.data.destination-earth.eu/stac/collections/EO.EUM.DAT.SENTINEL-3.OL_2_WRR___/items/S3A_OL_2_WRR____20240909T112830_20240909T121242_20240909T134532_2652_116_351______MAR_O_NR_003/download/chl_oc4me.nc?provider=dedl",
           "roles": [
            "data"
           ],
           "title": "chl_oc4me.nc",
           "type": "application/x-netcdf"
          },
          "downloadLink": {
           "alternate": {
            "origin": {
             "href": "https://zipper.creodias.eu/odata/v1/Products(7e30dc90-374d-4c9a-b5b4-bd456dba04b3)/$value",
             "title": "Origin asset link"
            }
           },
           "href": "https://hda.data.destination-earth.eu/stac/collections/EO.EUM.DAT.SENTINEL-3.OL_2_WRR___/items/S3A_OL_2_WRR____20240909T112830_20240909T121242_20240909T134532_2652_116_351______MAR_O_NR_003/download?provider=dedl",
           "storage:tier": "ONLINE",
           "title": "Download link",
           "type": "application/zip"
          },
          "geo_coordinates.nc": {
           "alternate": {
            "origin": {
             "href": "s3://eodata/Sentinel-3/OLCI/OL_2_WRR___/2024/09/09/S3A_OL_2_WRR____20240909T112830_20240909T121242_20240909T134532_2652_116_351______MAR_O_NR_003.SEN3/geo_coordinates.nc",
             "title": "Origin asset link",
             "type": "application/x-netcdf"
            }
           },
           "href": "https://hda.data.destination-earth.eu/stac/collections/EO.EUM.DAT.SENTINEL-3.OL_2_WRR___/items/S3A_OL_2_WRR____20240909T112830_20240909T121242_20240909T134532_2652_116_351______MAR_O_NR_003/download/geo_coordinates.nc?provider=dedl",
           "roles": [
            "data"
           ],
           "title": "geo_coordinates.nc",
           "type": "application/x-netcdf"
          },
          "instrument_data.nc": {
           "alternate": {
            "origin": {
             "href": "s3://eodata/Sentinel-3/OLCI/OL_2_WRR___/2024/09/09/S3A_OL_2_WRR____20240909T112830_20240909T121242_20240909T134532_2652_116_351______MAR_O_NR_003.SEN3/instrument_data.nc",
             "title": "Origin asset link",
             "type": "application/x-netcdf"
            }
           },
           "href": "https://hda.data.destination-earth.eu/stac/collections/EO.EUM.DAT.SENTINEL-3.OL_2_WRR___/items/S3A_OL_2_WRR____20240909T112830_20240909T121242_20240909T134532_2652_116_351______MAR_O_NR_003/download/instrument_data.nc?provider=dedl",
           "roles": [
            "data"
           ],
           "title": "instrument_data.nc",
           "type": "application/x-netcdf"
          },
          "iop_lsd.nc": {
           "alternate": {
            "origin": {
             "href": "s3://eodata/Sentinel-3/OLCI/OL_2_WRR___/2024/09/09/S3A_OL_2_WRR____20240909T112830_20240909T121242_20240909T134532_2652_116_351______MAR_O_NR_003.SEN3/iop_lsd.nc",
             "title": "Origin asset link",
             "type": "application/x-netcdf"
            }
           },
           "href": "https://hda.data.destination-earth.eu/stac/collections/EO.EUM.DAT.SENTINEL-3.OL_2_WRR___/items/S3A_OL_2_WRR____20240909T112830_20240909T121242_20240909T134532_2652_116_351______MAR_O_NR_003/download/iop_lsd.nc?provider=dedl",
           "roles": [
            "data"
           ],
           "title": "iop_lsd.nc",
           "type": "application/x-netcdf"
          },
          "iop_nn.nc": {
           "alternate": {
            "origin": {
             "href": "s3://eodata/Sentinel-3/OLCI/OL_2_WRR___/2024/09/09/S3A_OL_2_WRR____20240909T112830_20240909T121242_20240909T134532_2652_116_351______MAR_O_NR_003.SEN3/iop_nn.nc",
             "title": "Origin asset link",
             "type": "application/x-netcdf"
            }
           },
           "href": "https://hda.data.destination-earth.eu/stac/collections/EO.EUM.DAT.SENTINEL-3.OL_2_WRR___/items/S3A_OL_2_WRR____20240909T112830_20240909T121242_20240909T134532_2652_116_351______MAR_O_NR_003/download/iop_nn.nc?provider=dedl",
           "roles": [
            "data"
           ],
           "title": "iop_nn.nc",
           "type": "application/x-netcdf"
          },
          "iwv.nc": {
           "alternate": {
            "origin": {
             "href": "s3://eodata/Sentinel-3/OLCI/OL_2_WRR___/2024/09/09/S3A_OL_2_WRR____20240909T112830_20240909T121242_20240909T134532_2652_116_351______MAR_O_NR_003.SEN3/iwv.nc",
             "title": "Origin asset link",
             "type": "application/x-netcdf"
            }
           },
           "href": "https://hda.data.destination-earth.eu/stac/collections/EO.EUM.DAT.SENTINEL-3.OL_2_WRR___/items/S3A_OL_2_WRR____20240909T112830_20240909T121242_20240909T134532_2652_116_351______MAR_O_NR_003/download/iwv.nc?provider=dedl",
           "roles": [
            "data"
           ],
           "title": "iwv.nc",
           "type": "application/x-netcdf"
          },
          "manifest.xml": {
           "alternate": {
            "origin": {
             "href": "s3://eodata/Sentinel-3/OLCI/OL_2_WRR___/2024/09/09/S3A_OL_2_WRR____20240909T112830_20240909T121242_20240909T134532_2652_116_351______MAR_O_NR_003.SEN3/manifest.xml",
             "title": "Origin asset link",
             "type": "text/xml"
            }
           },
           "href": "https://hda.data.destination-earth.eu/stac/collections/EO.EUM.DAT.SENTINEL-3.OL_2_WRR___/items/S3A_OL_2_WRR____20240909T112830_20240909T121242_20240909T134532_2652_116_351______MAR_O_NR_003/download/manifest.xml?provider=dedl",
           "roles": [
            "metadata"
           ],
           "title": "manifest.xml",
           "type": "text/xml"
          },
          "par.nc": {
           "alternate": {
            "origin": {
             "href": "s3://eodata/Sentinel-3/OLCI/OL_2_WRR___/2024/09/09/S3A_OL_2_WRR____20240909T112830_20240909T121242_20240909T134532_2652_116_351______MAR_O_NR_003.SEN3/par.nc",
             "title": "Origin asset link",
             "type": "application/x-netcdf"
            }
           },
           "href": "https://hda.data.destination-earth.eu/stac/collections/EO.EUM.DAT.SENTINEL-3.OL_2_WRR___/items/S3A_OL_2_WRR____20240909T112830_20240909T121242_20240909T134532_2652_116_351______MAR_O_NR_003/download/par.nc?provider=dedl",
           "roles": [
            "data"
           ],
           "title": "par.nc",
           "type": "application/x-netcdf"
          },
          "tie_geo_coordinates.nc": {
           "alternate": {
            "origin": {
             "href": "s3://eodata/Sentinel-3/OLCI/OL_2_WRR___/2024/09/09/S3A_OL_2_WRR____20240909T112830_20240909T121242_20240909T134532_2652_116_351______MAR_O_NR_003.SEN3/tie_geo_coordinates.nc",
             "title": "Origin asset link",
             "type": "application/x-netcdf"
            }
           },
           "href": "https://hda.data.destination-earth.eu/stac/collections/EO.EUM.DAT.SENTINEL-3.OL_2_WRR___/items/S3A_OL_2_WRR____20240909T112830_20240909T121242_20240909T134532_2652_116_351______MAR_O_NR_003/download/tie_geo_coordinates.nc?provider=dedl",
           "roles": [
            "data"
           ],
           "title": "tie_geo_coordinates.nc",
           "type": "application/x-netcdf"
          },
          "tie_geometries.nc": {
           "alternate": {
            "origin": {
             "href": "s3://eodata/Sentinel-3/OLCI/OL_2_WRR___/2024/09/09/S3A_OL_2_WRR____20240909T112830_20240909T121242_20240909T134532_2652_116_351______MAR_O_NR_003.SEN3/tie_geometries.nc",
             "title": "Origin asset link",
             "type": "application/x-netcdf"
            }
           },
           "href": "https://hda.data.destination-earth.eu/stac/collections/EO.EUM.DAT.SENTINEL-3.OL_2_WRR___/items/S3A_OL_2_WRR____20240909T112830_20240909T121242_20240909T134532_2652_116_351______MAR_O_NR_003/download/tie_geometries.nc?provider=dedl",
           "roles": [
            "data"
           ],
           "title": "tie_geometries.nc",
           "type": "application/x-netcdf"
          },
          "tie_meteo.nc": {
           "alternate": {
            "origin": {
             "href": "s3://eodata/Sentinel-3/OLCI/OL_2_WRR___/2024/09/09/S3A_OL_2_WRR____20240909T112830_20240909T121242_20240909T134532_2652_116_351______MAR_O_NR_003.SEN3/tie_meteo.nc",
             "title": "Origin asset link",
             "type": "application/x-netcdf"
            }
           },
           "href": "https://hda.data.destination-earth.eu/stac/collections/EO.EUM.DAT.SENTINEL-3.OL_2_WRR___/items/S3A_OL_2_WRR____20240909T112830_20240909T121242_20240909T134532_2652_116_351______MAR_O_NR_003/download/tie_meteo.nc?provider=dedl",
           "roles": [
            "data"
           ],
           "title": "tie_meteo.nc",
           "type": "application/x-netcdf"
          },
          "time_coordinates.nc": {
           "alternate": {
            "origin": {
             "href": "s3://eodata/Sentinel-3/OLCI/OL_2_WRR___/2024/09/09/S3A_OL_2_WRR____20240909T112830_20240909T121242_20240909T134532_2652_116_351______MAR_O_NR_003.SEN3/time_coordinates.nc",
             "title": "Origin asset link",
             "type": "application/x-netcdf"
            }
           },
           "href": "https://hda.data.destination-earth.eu/stac/collections/EO.EUM.DAT.SENTINEL-3.OL_2_WRR___/items/S3A_OL_2_WRR____20240909T112830_20240909T121242_20240909T134532_2652_116_351______MAR_O_NR_003/download/time_coordinates.nc?provider=dedl",
           "roles": [
            "data"
           ],
           "title": "time_coordinates.nc",
           "type": "application/x-netcdf"
          },
          "trsp.nc": {
           "alternate": {
            "origin": {
             "href": "s3://eodata/Sentinel-3/OLCI/OL_2_WRR___/2024/09/09/S3A_OL_2_WRR____20240909T112830_20240909T121242_20240909T134532_2652_116_351______MAR_O_NR_003.SEN3/trsp.nc",
             "title": "Origin asset link",
             "type": "application/x-netcdf"
            }
           },
           "href": "https://hda.data.destination-earth.eu/stac/collections/EO.EUM.DAT.SENTINEL-3.OL_2_WRR___/items/S3A_OL_2_WRR____20240909T112830_20240909T121242_20240909T134532_2652_116_351______MAR_O_NR_003/download/trsp.nc?provider=dedl",
           "roles": [
            "data"
           ],
           "title": "trsp.nc",
           "type": "application/x-netcdf"
          },
          "tsm_nn.nc": {
           "alternate": {
            "origin": {
             "href": "s3://eodata/Sentinel-3/OLCI/OL_2_WRR___/2024/09/09/S3A_OL_2_WRR____20240909T112830_20240909T121242_20240909T134532_2652_116_351______MAR_O_NR_003.SEN3/tsm_nn.nc",
             "title": "Origin asset link",
             "type": "application/x-netcdf"
            }
           },
           "href": "https://hda.data.destination-earth.eu/stac/collections/EO.EUM.DAT.SENTINEL-3.OL_2_WRR___/items/S3A_OL_2_WRR____20240909T112830_20240909T121242_20240909T134532_2652_116_351______MAR_O_NR_003/download/tsm_nn.nc?provider=dedl",
           "roles": [
            "data"
           ],
           "title": "tsm_nn.nc",
           "type": "application/x-netcdf"
          },
          "w_aer.nc": {
           "alternate": {
            "origin": {
             "href": "s3://eodata/Sentinel-3/OLCI/OL_2_WRR___/2024/09/09/S3A_OL_2_WRR____20240909T112830_20240909T121242_20240909T134532_2652_116_351______MAR_O_NR_003.SEN3/w_aer.nc",
             "title": "Origin asset link",
             "type": "application/x-netcdf"
            }
           },
           "href": "https://hda.data.destination-earth.eu/stac/collections/EO.EUM.DAT.SENTINEL-3.OL_2_WRR___/items/S3A_OL_2_WRR____20240909T112830_20240909T121242_20240909T134532_2652_116_351______MAR_O_NR_003/download/w_aer.nc?provider=dedl",
           "roles": [
            "data"
           ],
           "title": "w_aer.nc",
           "type": "application/x-netcdf"
          },
          "wqsf.nc": {
           "alternate": {
            "origin": {
             "href": "s3://eodata/Sentinel-3/OLCI/OL_2_WRR___/2024/09/09/S3A_OL_2_WRR____20240909T112830_20240909T121242_20240909T134532_2652_116_351______MAR_O_NR_003.SEN3/wqsf.nc",
             "title": "Origin asset link",
             "type": "application/x-netcdf"
            }
           },
           "href": "https://hda.data.destination-earth.eu/stac/collections/EO.EUM.DAT.SENTINEL-3.OL_2_WRR___/items/S3A_OL_2_WRR____20240909T112830_20240909T121242_20240909T134532_2652_116_351______MAR_O_NR_003/download/wqsf.nc?provider=dedl",
           "roles": [
            "data"
           ],
           "title": "wqsf.nc",
           "type": "application/x-netcdf"
          },
          "xfdumanifest.xml": {
           "alternate": {
            "origin": {
             "href": "s3://eodata/Sentinel-3/OLCI/OL_2_WRR___/2024/09/09/S3A_OL_2_WRR____20240909T112830_20240909T121242_20240909T134532_2652_116_351______MAR_O_NR_003.SEN3/xfdumanifest.xml",
             "title": "Origin asset link",
             "type": "text/xml"
            }
           },
           "href": "https://hda.data.destination-earth.eu/stac/collections/EO.EUM.DAT.SENTINEL-3.OL_2_WRR___/items/S3A_OL_2_WRR____20240909T112830_20240909T121242_20240909T134532_2652_116_351______MAR_O_NR_003/download/xfdumanifest.xml?provider=dedl",
           "roles": [
            "metadata"
           ],
           "title": "xfdumanifest.xml",
           "type": "text/xml"
          }
         },
         "bbox": [
          -71.1767,
          -67.9033,
          64.632,
          89.3366
         ],
         "collection": "EO.EUM.DAT.SENTINEL-3.OL_2_WRR___",
         "geometry": {
          "coordinates": [
           [
            [
             -71.1767,
             -62.2024
            ],
            [
             -70.138,
             -62.5929
            ],
            [
             -69.0726,
             -62.9757
            ],
            [
             -67.9794,
             -63.3502
            ],
            [
             -66.8576,
             -63.7162
            ],
            [
             -65.7068,
             -64.0731
            ],
            [
             -64.5266,
             -64.4207
            ],
            [
             -63.3166,
             -64.7585
            ],
            [
             -62.0754,
             -65.0865
            ],
            [
             -60.806,
             -65.4034
            ],
            [
             -59.5048,
             -65.7095
            ],
            [
             -58.1732,
             -66.0044
            ],
            [
             -56.8111,
             -66.2875
            ],
            [
             -55.4188,
             -66.5584
            ],
            [
             -53.9965,
             -66.8166
            ],
            [
             -52.5447,
             -67.0617
            ],
            [
             -51.0641,
             -67.2933
            ],
            [
             -49.5555,
             -67.511
            ],
            [
             -48.02,
             -67.7145
            ],
            [
             -46.4585,
             -67.9033
            ],
            [
             -45.6327,
             -66.846
            ],
            [
             -44.4031,
             -65.103
            ],
            [
             -43.3022,
             -63.3529
            ],
            [
             -42.3066,
             -61.597
            ],
            [
             -41.3985,
             -59.836
            ],
            [
             -40.563,
             -58.0708
            ],
            [
             -39.7883,
             -56.3016
            ],
            [
             -39.0663,
             -54.5296
            ],
            [
             -38.3889,
             -52.754
            ],
            [
             -37.7478,
             -50.9757
            ],
            [
             -37.1417,
             -49.1957
            ],
            [
             -36.5637,
             -47.4128
            ],
            [
             -36.0109,
             -45.628
            ],
            [
             -35.4798,
             -43.8412
            ],
            [
             -34.968,
             -42.0527
            ],
            [
             -34.4731,
             -40.2624
            ],
            [
             -33.9935,
             -38.4706
            ],
            [
             -33.5268,
             -36.6774
            ],
            [
             -33.0718,
             -34.8825
            ],
            [
             -32.6269,
             -33.0863
            ],
            [
             -32.1915,
             -31.2891
            ],
            [
             -31.7641,
             -29.4907
            ],
            [
             -31.3425,
             -27.6909
            ],
            [
             -30.9279,
             -25.8904
            ],
            [
             -30.5184,
             -24.0885
            ],
            [
             -30.1132,
             -22.286
            ],
            [
             -29.7123,
             -20.483
            ],
            [
             -29.3132,
             -18.6786
            ],
            [
             -28.9175,
             -16.8737
            ],
            [
             -28.5235,
             -15.0683
            ],
            [
             -28.1306,
             -13.2623
            ],
            [
             -27.7388,
             -11.4552
            ],
            [
             -27.3468,
             -9.64878
            ],
            [
             -26.9542,
             -7.84252
            ],
            [
             -26.5615,
             -6.03394
            ],
            [
             -26.1672,
             -4.22645
            ],
            [
             -25.7709,
             -2.41912
            ],
            [
             -25.3723,
             -0.610835
            ],
            [
             -24.9708,
             1.19614
            ],
            [
             -24.5655,
             3.00306
            ],
            [
             -24.157,
             4.81127
            ],
            [
             -23.7434,
             6.61767
            ],
            [
             -23.3244,
             8.42367
            ],
            [
             -22.8998,
             10.2291
            ],
            [
             -22.4687,
             12.0341
            ],
            [
             -22.0304,
             13.8385
            ],
            [
             -21.5841,
             15.6416
            ],
            [
             -21.1288,
             17.4437
            ],
            [
             -20.6639,
             19.2448
            ],
            [
             -20.1882,
             21.0444
            ],
            [
             -19.7009,
             22.8427
            ],
            [
             -19.2005,
             24.6392
            ],
            [
             -18.6863,
             26.4346
            ],
            [
             -18.1559,
             28.2271
            ],
            [
             -17.6084,
             30.0176
            ],
            [
             -17.0425,
             31.8065
            ],
            [
             -16.4551,
             33.5917
            ],
            [
             -15.8452,
             35.375
            ],
            [
             -15.21,
             37.1559
            ],
            [
             -14.5463,
             38.9321
            ],
            [
             -13.8509,
             40.7042
            ],
            [
             -13.1216,
             42.4742
            ],
            [
             -12.3528,
             44.2386
            ],
            [
             -11.5399,
             45.9965
            ],
            [
             -10.6779,
             47.7497
            ],
            [
             -9.76147,
             49.4981
            ],
            [
             -8.78166,
             51.2381
            ],
            [
             -7.73008,
             52.9698
            ],
            [
             -6.59674,
             54.6921
            ],
            [
             -5.37005,
             56.4044
            ],
            [
             -4.03501,
             58.1044
            ],
            [
             -2.5742,
             59.7904
            ],
            [
             -0.966457,
             61.4597
            ],
            [
             0.813644,
             63.1094
            ],
            [
             2.79707,
             64.7362
            ],
            [
             5.02241,
             66.3344
            ],
            [
             7.53662,
             67.899
            ],
            [
             10.3964,
             69.4224
            ],
            [
             13.672,
             70.8937
            ],
            [
             17.4476,
             72.3012
            ],
            [
             21.8197,
             73.628
            ],
            [
             26.8956,
             74.8535
            ],
            [
             32.7784,
             75.9507
            ],
            [
             39.5428,
             76.8861
            ],
            [
             47.2038,
             77.6265
            ],
            [
             55.6504,
             78.1325
            ],
            [
             64.632,
             78.3747
            ],
            [
             64.4507,
             78.9928
            ],
            [
             64.248,
             79.6107
            ],
            [
             64.0201,
             80.2284
            ],
            [
             63.7616,
             80.8463
            ],
            [
             63.4664,
             81.4633
            ],
            [
             63.1254,
             82.0803
            ],
            [
             62.7273,
             82.697
            ],
            [
             62.2563,
             83.3132
            ],
            [
             61.6903,
             83.9289
            ],
            [
             60.9967,
             84.5438
            ],
            [
             60.1282,
             85.1578
            ],
            [
             59.0088,
             85.7703
            ],
            [
             57.5102,
             86.3806
            ],
            [
             55.4083,
             86.9875
            ],
            [
             52.2544,
             87.5883
            ],
            [
             47.0395,
             88.177
            ],
            [
             37.0505,
             88.7366
            ],
            [
             13.6734,
             89.2032
            ],
            [
             -35.4594,
             89.3366
            ],
            [
             -26.0124,
             87.5771
            ],
            [
             -24.7481,
             85.8065
            ],
            [
             -24.3854,
             84.0344
            ],
            [
             -24.3181,
             82.2622
            ],
            [
             -24.3683,
             80.4891
            ],
            [
             -24.4861,
             78.7159
            ],
            [
             -24.6448,
             76.9424
            ],
            [
             -24.8294,
             75.1684
            ],
            [
             -25.0318,
             73.3942
            ],
            [
             -25.2458,
             71.6194
            ],
            [
             -25.4709,
             69.8441
            ],
            [
             -25.7036,
             68.0684
            ],
            [
             -25.9416,
             66.292
            ],
            [
             -26.1853,
             64.5151
            ],
            [
             -26.4333,
             62.7376
            ],
            [
             -26.685,
             60.9597
            ],
            [
             -26.9402,
             59.1809
            ],
            [
             -27.1985,
             57.4016
            ],
            [
             -27.4606,
             55.6215
            ],
            [
             -27.7255,
             53.8407
            ],
            [
             -27.9925,
             52.0592
            ],
            [
             -28.2612,
             50.2767
            ],
            [
             -28.5343,
             48.4941
            ],
            [
             -28.8106,
             46.7107
            ],
            [
             -29.0885,
             44.926
            ],
            [
             -29.3683,
             43.1407
            ],
            [
             -29.6526,
             41.3553
            ],
            [
             -29.9394,
             39.5689
            ],
            [
             -30.2282,
             37.7815
            ],
            [
             -30.5207,
             35.9937
            ],
            [
             -30.817,
             34.2054
            ],
            [
             -31.1157,
             32.4161
            ],
            [
             -31.4185,
             30.6269
            ],
            [
             -31.7249,
             28.8368
            ],
            [
             -32.0344,
             27.046
            ],
            [
             -32.3482,
             25.2552
            ],
            [
             -32.666,
             23.4639
            ],
            [
             -32.9883,
             21.6722
            ],
            [
             -33.3149,
             19.8802
            ],
            [
             -33.6465,
             18.0881
            ],
            [
             -33.9829,
             16.2959
            ],
            [
             -34.3246,
             14.5036
            ],
            [
             -34.6718,
             12.7114
            ],
            [
             -35.0251,
             10.9192
            ],
            [
             -35.3846,
             9.12744
            ],
            [
             -35.7505,
             7.33601
            ],
            [
             -36.1226,
             5.54442
            ],
            [
             -36.503,
             3.75387
            ],
            [
             -36.8909,
             1.96412
            ],
            [
             -37.2867,
             0.174491
            ],
            [
             -37.6915,
             -1.61366
            ],
            [
             -38.1054,
             -3.4011
            ],
            [
             -38.5287,
             -5.18797
            ],
            [
             -38.9633,
             -6.97238
            ],
            [
             -39.4089,
             -8.75585
            ],
            [
             -39.8659,
             -10.5382
            ],
            [
             -40.3359,
             -12.3183
            ],
            [
             -40.8196,
             -14.0966
            ],
            [
             -41.3174,
             -15.8724
            ],
            [
             -41.8322,
             -17.6471
            ],
            [
             -42.3624,
             -19.4176
            ],
            [
             -42.9111,
             -21.1858
            ],
            [
             -43.4794,
             -22.9513
            ],
            [
             -44.0686,
             -24.7129
            ],
            [
             -44.6816,
             -26.4716
            ],
            [
             -45.3182,
             -28.2259
            ],
            [
             -45.9813,
             -29.9751
            ],
            [
             -46.6743,
             -31.7203
            ],
            [
             -47.3988,
             -33.4602
            ],
            [
             -48.1579,
             -35.1941
            ],
            [
             -48.9548,
             -36.9217
            ],
            [
             -49.7935,
             -38.6424
            ],
            [
             -50.678,
             -40.3554
            ],
            [
             -51.6128,
             -42.06
            ],
            [
             -52.6033,
             -43.7553
            ],
            [
             -53.6554,
             -45.4402
            ],
            [
             -54.7753,
             -47.1128
            ],
            [
             -55.974,
             -48.7736
            ],
            [
             -57.2557,
             -50.4195
            ],
            [
             -58.6324,
             -52.0481
            ],
            [
             -60.1176,
             -53.659
            ],
            [
             -61.7227,
             -55.2486
            ],
            [
             -63.4634,
             -56.8141
            ],
            [
             -65.3581,
             -58.3521
            ],
            [
             -67.426,
             -59.8583
            ],
            [
             -69.6899,
             -61.3278
            ],
            [
             -71.1767,
             -62.2024
            ]
           ]
          ],
          "type": "Polygon"
         },
         "id": "S3A_OL_2_WRR____20240909T112830_20240909T121242_20240909T134532_2652_116_351______MAR_O_NR_003",
         "links": [
          {
           "href": "https://hda.data.destination-earth.eu/stac/collections/EO.EUM.DAT.SENTINEL-3.OL_2_WRR___/items/S3A_OL_2_WRR____20240909T112830_20240909T121242_20240909T134532_2652_116_351______MAR_O_NR_003",
           "rel": "self",
           "title": "S3A_OL_2_WRR____20240909T112830_20240909T121242_20240909T134532_2652_116_351______MAR_O_NR_003"
          },
          {
           "href": "https://hda.data.destination-earth.eu/stac/",
           "rel": "root"
          },
          {
           "href": "https://hda.data.destination-earth.eu/stac/collections/EO.EUM.DAT.SENTINEL-3.OL_2_WRR___",
           "rel": "parent",
           "title": "EO.EUM.DAT.SENTINEL-3.OL_2_WRR___"
          },
          {
           "href": "https://hda.data.destination-earth.eu/stac/collections/EO.EUM.DAT.SENTINEL-3.OL_2_WRR___",
           "rel": "collection",
           "title": "EO.EUM.DAT.SENTINEL-3.OL_2_WRR___"
          }
         ],
         "properties": {
          "constellation": "SENTINEL-3",
          "datetime": "2024-09-09T11:28:29.875499Z",
          "dedl:alias": "EO.EUM.DAT.SENTINEL-3.OL_2_WRR___",
          "dedl:baselineCollection": "003",
          "dedl:beginningDateTime": "2024-09-09T11:28:29.875499Z",
          "dedl:endingDateTime": "2024-09-09T12:12:42.291648Z",
          "dedl:productIdentifier": "/eodata/Sentinel-3/OLCI/OL_2_WRR___/2024/09/09/S3A_OL_2_WRR____20240909T112830_20240909T121242_20240909T134532_2652_116_351______MAR_O_NR_003.SEN3",
          "dedl:scope": {
           "discover": null,
           "download": "hda-public-data-access",
           "search": "hda-public-data-access"
          },
          "dedl:timeliness": "NR",
          "dedl:uid": "7e30dc90-374d-4c9a-b5b4-bd456dba04b3",
          "description": "OLCI (Ocean and Land Colour Instrument) Ocean Colour Geophysical Products. Reduced Resolution: 1200m at nadir. Level 2 marine products include the following: * water-leaving reflectances in 16 bands, Oa**_reflectance (Baseline Atmospheric Correction (BAC) algorithm, bands: 400, 412, 442, 490, 510, 560, 620, 665, 674, 681, 709, 754, 779, 865, 885, 1024 nanometer (nm)); *algal pigment concentration in clear waters, chl_oc4me (BAC and maximum band ratio algorithm, log10 scaled); *algal pigment concentration in turbid waters, chl_nn (neural net algorithm, log10 scaled); *total suspended matter concentration, tsm_nn (neural net algorithm, log10 scaled); *diffuse attenuation coefficient Kd of downward irradiance at 490 nm, trsp (BAC and M07 algorithm, log10 scaled); *absorption coefficient at 443 nm of coloured detrital and dissolved organic matter, iop_nn (neural net algorithm, log10 scaled); *instantaneous photosynthetically active radiation, PAR (BAC and clear-sky ocean algorithm); *aerosol optical thickness T865 and aerosol Angstrom exponent A865, w_aer (BAC algorithm, A for bands 779 and 865 nm) *integrated water vapour column, iwv (1D-Var algorithm). The geophysical products are accompanied by error estimate products. Pixel classification, quality and science flags, as well as meteorological, geometry and geolocation data at tie points are provided. \n\n- All Sentinel-3 NRT products are available at pick-up point in less than 3h\n- All Sentinel-3 Non Time Critical (NTC) products are available at pick-up point in less than 30 days.\nSentinel-3 is part of a series of Sentinel satellites, under the umbrella of the EU Copernicus programme.",
          "end_datetime": "2024-09-09T12:12:42.291648Z",
          "instruments": [
           "OLCI"
          ],
          "license": "proprietary",
          "order:status": "succeeded",
          "platform": "SENTINEL-3A,SENTINEL-3B",
          "processing:level": 2,
          "providers": [
           {
            "description": "DestineE Data Lake Fresh Data Pool",
            "name": "dedl",
            "priority": 1,
            "roles": [
             "host"
            ],
            "url": "https://creodias.eu/"
           }
          ],
          "published": "2024-09-09T14:15:06.781605Z",
          "sar:instrument_mode": "Earth Observation",
          "sar:product_type": "OL_2_WRR___",
          "sat:absolute_orbit": 44599,
          "sat:orbit_state": "DESCENDING",
          "sat:relative_orbit": 351,
          "start_datetime": "2024-09-09T11:28:29.875499Z",
          "updated": "2024-09-09T14:15:14.915169Z"
         },
         "stac_extensions": [
          "https://stac-extensions.github.io/timestamps/v1.0.0/schema.json",
          "https://stac-extensions.github.io/processing/v1.0.0/schema.json",
          "https://stac-extensions.github.io/sat/v1.0.0/schema.json",
          "https://stac-extensions.github.io/sar/v1.0.0/schema.json",
          "https://stac-extensions.github.io/order/v1.1.0/schema.json"
         ],
         "stac_version": "1.0.0",
         "type": "Feature"
        },
        {
         "assets": {
          "EOPMetadata.xml": {
           "alternate": {
            "origin": {
             "href": "s3://eodata/Sentinel-3/OLCI/OL_2_WRR___/2024/09/09/S3B_OL_2_WRR____20240909T104949_20240909T113402_20240909T130743_2653_097_208______MAR_O_NR_003.SEN3/EOPMetadata.xml",
             "title": "Origin asset link",
             "type": "text/xml"
            }
           },
           "href": "https://hda.data.destination-earth.eu/stac/collections/EO.EUM.DAT.SENTINEL-3.OL_2_WRR___/items/S3B_OL_2_WRR____20240909T104949_20240909T113402_20240909T130743_2653_097_208______MAR_O_NR_003/download/EOPMetadata.xml?provider=dedl",
           "roles": [
            "metadata"
           ],
           "title": "EOPMetadata.xml",
           "type": "text/xml"
          },
          "Oa01_reflectance.nc": {
           "alternate": {
            "origin": {
             "href": "s3://eodata/Sentinel-3/OLCI/OL_2_WRR___/2024/09/09/S3B_OL_2_WRR____20240909T104949_20240909T113402_20240909T130743_2653_097_208______MAR_O_NR_003.SEN3/Oa01_reflectance.nc",
             "title": "Origin asset link",
             "type": "application/x-netcdf"
            }
           },
           "href": "https://hda.data.destination-earth.eu/stac/collections/EO.EUM.DAT.SENTINEL-3.OL_2_WRR___/items/S3B_OL_2_WRR____20240909T104949_20240909T113402_20240909T130743_2653_097_208______MAR_O_NR_003/download/Oa01_reflectance.nc?provider=dedl",
           "roles": [
            "data"
           ],
           "title": "Oa01_reflectance.nc",
           "type": "application/x-netcdf"
          },
          "Oa02_reflectance.nc": {
           "alternate": {
            "origin": {
             "href": "s3://eodata/Sentinel-3/OLCI/OL_2_WRR___/2024/09/09/S3B_OL_2_WRR____20240909T104949_20240909T113402_20240909T130743_2653_097_208______MAR_O_NR_003.SEN3/Oa02_reflectance.nc",
             "title": "Origin asset link",
             "type": "application/x-netcdf"
            }
           },
           "href": "https://hda.data.destination-earth.eu/stac/collections/EO.EUM.DAT.SENTINEL-3.OL_2_WRR___/items/S3B_OL_2_WRR____20240909T104949_20240909T113402_20240909T130743_2653_097_208______MAR_O_NR_003/download/Oa02_reflectance.nc?provider=dedl",
           "roles": [
            "data"
           ],
           "title": "Oa02_reflectance.nc",
           "type": "application/x-netcdf"
          },
          "Oa03_reflectance.nc": {
           "alternate": {
            "origin": {
             "href": "s3://eodata/Sentinel-3/OLCI/OL_2_WRR___/2024/09/09/S3B_OL_2_WRR____20240909T104949_20240909T113402_20240909T130743_2653_097_208______MAR_O_NR_003.SEN3/Oa03_reflectance.nc",
             "title": "Origin asset link",
             "type": "application/x-netcdf"
            }
           },
           "href": "https://hda.data.destination-earth.eu/stac/collections/EO.EUM.DAT.SENTINEL-3.OL_2_WRR___/items/S3B_OL_2_WRR____20240909T104949_20240909T113402_20240909T130743_2653_097_208______MAR_O_NR_003/download/Oa03_reflectance.nc?provider=dedl",
           "roles": [
            "data"
           ],
           "title": "Oa03_reflectance.nc",
           "type": "application/x-netcdf"
          },
          "Oa04_reflectance.nc": {
           "alternate": {
            "origin": {
             "href": "s3://eodata/Sentinel-3/OLCI/OL_2_WRR___/2024/09/09/S3B_OL_2_WRR____20240909T104949_20240909T113402_20240909T130743_2653_097_208______MAR_O_NR_003.SEN3/Oa04_reflectance.nc",
             "title": "Origin asset link",
             "type": "application/x-netcdf"
            }
           },
           "href": "https://hda.data.destination-earth.eu/stac/collections/EO.EUM.DAT.SENTINEL-3.OL_2_WRR___/items/S3B_OL_2_WRR____20240909T104949_20240909T113402_20240909T130743_2653_097_208______MAR_O_NR_003/download/Oa04_reflectance.nc?provider=dedl",
           "roles": [
            "data"
           ],
           "title": "Oa04_reflectance.nc",
           "type": "application/x-netcdf"
          },
          "Oa05_reflectance.nc": {
           "alternate": {
            "origin": {
             "href": "s3://eodata/Sentinel-3/OLCI/OL_2_WRR___/2024/09/09/S3B_OL_2_WRR____20240909T104949_20240909T113402_20240909T130743_2653_097_208______MAR_O_NR_003.SEN3/Oa05_reflectance.nc",
             "title": "Origin asset link",
             "type": "application/x-netcdf"
            }
           },
           "href": "https://hda.data.destination-earth.eu/stac/collections/EO.EUM.DAT.SENTINEL-3.OL_2_WRR___/items/S3B_OL_2_WRR____20240909T104949_20240909T113402_20240909T130743_2653_097_208______MAR_O_NR_003/download/Oa05_reflectance.nc?provider=dedl",
           "roles": [
            "data"
           ],
           "title": "Oa05_reflectance.nc",
           "type": "application/x-netcdf"
          },
          "Oa06_reflectance.nc": {
           "alternate": {
            "origin": {
             "href": "s3://eodata/Sentinel-3/OLCI/OL_2_WRR___/2024/09/09/S3B_OL_2_WRR____20240909T104949_20240909T113402_20240909T130743_2653_097_208______MAR_O_NR_003.SEN3/Oa06_reflectance.nc",
             "title": "Origin asset link",
             "type": "application/x-netcdf"
            }
           },
           "href": "https://hda.data.destination-earth.eu/stac/collections/EO.EUM.DAT.SENTINEL-3.OL_2_WRR___/items/S3B_OL_2_WRR____20240909T104949_20240909T113402_20240909T130743_2653_097_208______MAR_O_NR_003/download/Oa06_reflectance.nc?provider=dedl",
           "roles": [
            "data"
           ],
           "title": "Oa06_reflectance.nc",
           "type": "application/x-netcdf"
          },
          "Oa07_reflectance.nc": {
           "alternate": {
            "origin": {
             "href": "s3://eodata/Sentinel-3/OLCI/OL_2_WRR___/2024/09/09/S3B_OL_2_WRR____20240909T104949_20240909T113402_20240909T130743_2653_097_208______MAR_O_NR_003.SEN3/Oa07_reflectance.nc",
             "title": "Origin asset link",
             "type": "application/x-netcdf"
            }
           },
           "href": "https://hda.data.destination-earth.eu/stac/collections/EO.EUM.DAT.SENTINEL-3.OL_2_WRR___/items/S3B_OL_2_WRR____20240909T104949_20240909T113402_20240909T130743_2653_097_208______MAR_O_NR_003/download/Oa07_reflectance.nc?provider=dedl",
           "roles": [
            "data"
           ],
           "title": "Oa07_reflectance.nc",
           "type": "application/x-netcdf"
          },
          "Oa08_reflectance.nc": {
           "alternate": {
            "origin": {
             "href": "s3://eodata/Sentinel-3/OLCI/OL_2_WRR___/2024/09/09/S3B_OL_2_WRR____20240909T104949_20240909T113402_20240909T130743_2653_097_208______MAR_O_NR_003.SEN3/Oa08_reflectance.nc",
             "title": "Origin asset link",
             "type": "application/x-netcdf"
            }
           },
           "href": "https://hda.data.destination-earth.eu/stac/collections/EO.EUM.DAT.SENTINEL-3.OL_2_WRR___/items/S3B_OL_2_WRR____20240909T104949_20240909T113402_20240909T130743_2653_097_208______MAR_O_NR_003/download/Oa08_reflectance.nc?provider=dedl",
           "roles": [
            "data"
           ],
           "title": "Oa08_reflectance.nc",
           "type": "application/x-netcdf"
          },
          "Oa09_reflectance.nc": {
           "alternate": {
            "origin": {
             "href": "s3://eodata/Sentinel-3/OLCI/OL_2_WRR___/2024/09/09/S3B_OL_2_WRR____20240909T104949_20240909T113402_20240909T130743_2653_097_208______MAR_O_NR_003.SEN3/Oa09_reflectance.nc",
             "title": "Origin asset link",
             "type": "application/x-netcdf"
            }
           },
           "href": "https://hda.data.destination-earth.eu/stac/collections/EO.EUM.DAT.SENTINEL-3.OL_2_WRR___/items/S3B_OL_2_WRR____20240909T104949_20240909T113402_20240909T130743_2653_097_208______MAR_O_NR_003/download/Oa09_reflectance.nc?provider=dedl",
           "roles": [
            "data"
           ],
           "title": "Oa09_reflectance.nc",
           "type": "application/x-netcdf"
          },
          "Oa10_reflectance.nc": {
           "alternate": {
            "origin": {
             "href": "s3://eodata/Sentinel-3/OLCI/OL_2_WRR___/2024/09/09/S3B_OL_2_WRR____20240909T104949_20240909T113402_20240909T130743_2653_097_208______MAR_O_NR_003.SEN3/Oa10_reflectance.nc",
             "title": "Origin asset link",
             "type": "application/x-netcdf"
            }
           },
           "href": "https://hda.data.destination-earth.eu/stac/collections/EO.EUM.DAT.SENTINEL-3.OL_2_WRR___/items/S3B_OL_2_WRR____20240909T104949_20240909T113402_20240909T130743_2653_097_208______MAR_O_NR_003/download/Oa10_reflectance.nc?provider=dedl",
           "roles": [
            "data"
           ],
           "title": "Oa10_reflectance.nc",
           "type": "application/x-netcdf"
          },
          "Oa11_reflectance.nc": {
           "alternate": {
            "origin": {
             "href": "s3://eodata/Sentinel-3/OLCI/OL_2_WRR___/2024/09/09/S3B_OL_2_WRR____20240909T104949_20240909T113402_20240909T130743_2653_097_208______MAR_O_NR_003.SEN3/Oa11_reflectance.nc",
             "title": "Origin asset link",
             "type": "application/x-netcdf"
            }
           },
           "href": "https://hda.data.destination-earth.eu/stac/collections/EO.EUM.DAT.SENTINEL-3.OL_2_WRR___/items/S3B_OL_2_WRR____20240909T104949_20240909T113402_20240909T130743_2653_097_208______MAR_O_NR_003/download/Oa11_reflectance.nc?provider=dedl",
           "roles": [
            "data"
           ],
           "title": "Oa11_reflectance.nc",
           "type": "application/x-netcdf"
          },
          "Oa12_reflectance.nc": {
           "alternate": {
            "origin": {
             "href": "s3://eodata/Sentinel-3/OLCI/OL_2_WRR___/2024/09/09/S3B_OL_2_WRR____20240909T104949_20240909T113402_20240909T130743_2653_097_208______MAR_O_NR_003.SEN3/Oa12_reflectance.nc",
             "title": "Origin asset link",
             "type": "application/x-netcdf"
            }
           },
           "href": "https://hda.data.destination-earth.eu/stac/collections/EO.EUM.DAT.SENTINEL-3.OL_2_WRR___/items/S3B_OL_2_WRR____20240909T104949_20240909T113402_20240909T130743_2653_097_208______MAR_O_NR_003/download/Oa12_reflectance.nc?provider=dedl",
           "roles": [
            "data"
           ],
           "title": "Oa12_reflectance.nc",
           "type": "application/x-netcdf"
          },
          "Oa16_reflectance.nc": {
           "alternate": {
            "origin": {
             "href": "s3://eodata/Sentinel-3/OLCI/OL_2_WRR___/2024/09/09/S3B_OL_2_WRR____20240909T104949_20240909T113402_20240909T130743_2653_097_208______MAR_O_NR_003.SEN3/Oa16_reflectance.nc",
             "title": "Origin asset link",
             "type": "application/x-netcdf"
            }
           },
           "href": "https://hda.data.destination-earth.eu/stac/collections/EO.EUM.DAT.SENTINEL-3.OL_2_WRR___/items/S3B_OL_2_WRR____20240909T104949_20240909T113402_20240909T130743_2653_097_208______MAR_O_NR_003/download/Oa16_reflectance.nc?provider=dedl",
           "roles": [
            "data"
           ],
           "title": "Oa16_reflectance.nc",
           "type": "application/x-netcdf"
          },
          "Oa17_reflectance.nc": {
           "alternate": {
            "origin": {
             "href": "s3://eodata/Sentinel-3/OLCI/OL_2_WRR___/2024/09/09/S3B_OL_2_WRR____20240909T104949_20240909T113402_20240909T130743_2653_097_208______MAR_O_NR_003.SEN3/Oa17_reflectance.nc",
             "title": "Origin asset link",
             "type": "application/x-netcdf"
            }
           },
           "href": "https://hda.data.destination-earth.eu/stac/collections/EO.EUM.DAT.SENTINEL-3.OL_2_WRR___/items/S3B_OL_2_WRR____20240909T104949_20240909T113402_20240909T130743_2653_097_208______MAR_O_NR_003/download/Oa17_reflectance.nc?provider=dedl",
           "roles": [
            "data"
           ],
           "title": "Oa17_reflectance.nc",
           "type": "application/x-netcdf"
          },
          "Oa18_reflectance.nc": {
           "alternate": {
            "origin": {
             "href": "s3://eodata/Sentinel-3/OLCI/OL_2_WRR___/2024/09/09/S3B_OL_2_WRR____20240909T104949_20240909T113402_20240909T130743_2653_097_208______MAR_O_NR_003.SEN3/Oa18_reflectance.nc",
             "title": "Origin asset link",
             "type": "application/x-netcdf"
            }
           },
           "href": "https://hda.data.destination-earth.eu/stac/collections/EO.EUM.DAT.SENTINEL-3.OL_2_WRR___/items/S3B_OL_2_WRR____20240909T104949_20240909T113402_20240909T130743_2653_097_208______MAR_O_NR_003/download/Oa18_reflectance.nc?provider=dedl",
           "roles": [
            "data"
           ],
           "title": "Oa18_reflectance.nc",
           "type": "application/x-netcdf"
          },
          "Oa21_reflectance.nc": {
           "alternate": {
            "origin": {
             "href": "s3://eodata/Sentinel-3/OLCI/OL_2_WRR___/2024/09/09/S3B_OL_2_WRR____20240909T104949_20240909T113402_20240909T130743_2653_097_208______MAR_O_NR_003.SEN3/Oa21_reflectance.nc",
             "title": "Origin asset link",
             "type": "application/x-netcdf"
            }
           },
           "href": "https://hda.data.destination-earth.eu/stac/collections/EO.EUM.DAT.SENTINEL-3.OL_2_WRR___/items/S3B_OL_2_WRR____20240909T104949_20240909T113402_20240909T130743_2653_097_208______MAR_O_NR_003/download/Oa21_reflectance.nc?provider=dedl",
           "roles": [
            "data"
           ],
           "title": "Oa21_reflectance.nc",
           "type": "application/x-netcdf"
          },
          "browse.jpg": {
           "alternate": {
            "origin": {
             "href": "s3://eodata/Sentinel-3/OLCI/OL_2_WRR___/2024/09/09/S3B_OL_2_WRR____20240909T104949_20240909T113402_20240909T130743_2653_097_208______MAR_O_NR_003.SEN3/browse.jpg",
             "title": "Origin asset link",
             "type": "image/jpeg"
            }
           },
           "href": "https://hda.data.destination-earth.eu/stac/collections/EO.EUM.DAT.SENTINEL-3.OL_2_WRR___/items/S3B_OL_2_WRR____20240909T104949_20240909T113402_20240909T130743_2653_097_208______MAR_O_NR_003/download/browse.jpg?provider=dedl",
           "roles": [
            "metadata"
           ],
           "title": "browse.jpg",
           "type": "image/jpeg"
          },
          "chl_nn.nc": {
           "alternate": {
            "origin": {
             "href": "s3://eodata/Sentinel-3/OLCI/OL_2_WRR___/2024/09/09/S3B_OL_2_WRR____20240909T104949_20240909T113402_20240909T130743_2653_097_208______MAR_O_NR_003.SEN3/chl_nn.nc",
             "title": "Origin asset link",
             "type": "application/x-netcdf"
            }
           },
           "href": "https://hda.data.destination-earth.eu/stac/collections/EO.EUM.DAT.SENTINEL-3.OL_2_WRR___/items/S3B_OL_2_WRR____20240909T104949_20240909T113402_20240909T130743_2653_097_208______MAR_O_NR_003/download/chl_nn.nc?provider=dedl",
           "roles": [
            "data"
           ],
           "title": "chl_nn.nc",
           "type": "application/x-netcdf"
          },
          "chl_oc4me.nc": {
           "alternate": {
            "origin": {
             "href": "s3://eodata/Sentinel-3/OLCI/OL_2_WRR___/2024/09/09/S3B_OL_2_WRR____20240909T104949_20240909T113402_20240909T130743_2653_097_208______MAR_O_NR_003.SEN3/chl_oc4me.nc",
             "title": "Origin asset link",
             "type": "application/x-netcdf"
            }
           },
           "href": "https://hda.data.destination-earth.eu/stac/collections/EO.EUM.DAT.SENTINEL-3.OL_2_WRR___/items/S3B_OL_2_WRR____20240909T104949_20240909T113402_20240909T130743_2653_097_208______MAR_O_NR_003/download/chl_oc4me.nc?provider=dedl",
           "roles": [
            "data"
           ],
           "title": "chl_oc4me.nc",
           "type": "application/x-netcdf"
          },
          "downloadLink": {
           "alternate": {
            "origin": {
             "href": "https://zipper.creodias.eu/odata/v1/Products(ba5875da-8f0c-439d-858b-c14e87d49593)/$value",
             "title": "Origin asset link"
            }
           },
           "href": "https://hda.data.destination-earth.eu/stac/collections/EO.EUM.DAT.SENTINEL-3.OL_2_WRR___/items/S3B_OL_2_WRR____20240909T104949_20240909T113402_20240909T130743_2653_097_208______MAR_O_NR_003/download?provider=dedl",
           "storage:tier": "ONLINE",
           "title": "Download link",
           "type": "application/zip"
          },
          "geo_coordinates.nc": {
           "alternate": {
            "origin": {
             "href": "s3://eodata/Sentinel-3/OLCI/OL_2_WRR___/2024/09/09/S3B_OL_2_WRR____20240909T104949_20240909T113402_20240909T130743_2653_097_208______MAR_O_NR_003.SEN3/geo_coordinates.nc",
             "title": "Origin asset link",
             "type": "application/x-netcdf"
            }
           },
           "href": "https://hda.data.destination-earth.eu/stac/collections/EO.EUM.DAT.SENTINEL-3.OL_2_WRR___/items/S3B_OL_2_WRR____20240909T104949_20240909T113402_20240909T130743_2653_097_208______MAR_O_NR_003/download/geo_coordinates.nc?provider=dedl",
           "roles": [
            "data"
           ],
           "title": "geo_coordinates.nc",
           "type": "application/x-netcdf"
          },
          "instrument_data.nc": {
           "alternate": {
            "origin": {
             "href": "s3://eodata/Sentinel-3/OLCI/OL_2_WRR___/2024/09/09/S3B_OL_2_WRR____20240909T104949_20240909T113402_20240909T130743_2653_097_208______MAR_O_NR_003.SEN3/instrument_data.nc",
             "title": "Origin asset link",
             "type": "application/x-netcdf"
            }
           },
           "href": "https://hda.data.destination-earth.eu/stac/collections/EO.EUM.DAT.SENTINEL-3.OL_2_WRR___/items/S3B_OL_2_WRR____20240909T104949_20240909T113402_20240909T130743_2653_097_208______MAR_O_NR_003/download/instrument_data.nc?provider=dedl",
           "roles": [
            "data"
           ],
           "title": "instrument_data.nc",
           "type": "application/x-netcdf"
          },
          "iop_lsd.nc": {
           "alternate": {
            "origin": {
             "href": "s3://eodata/Sentinel-3/OLCI/OL_2_WRR___/2024/09/09/S3B_OL_2_WRR____20240909T104949_20240909T113402_20240909T130743_2653_097_208______MAR_O_NR_003.SEN3/iop_lsd.nc",
             "title": "Origin asset link",
             "type": "application/x-netcdf"
            }
           },
           "href": "https://hda.data.destination-earth.eu/stac/collections/EO.EUM.DAT.SENTINEL-3.OL_2_WRR___/items/S3B_OL_2_WRR____20240909T104949_20240909T113402_20240909T130743_2653_097_208______MAR_O_NR_003/download/iop_lsd.nc?provider=dedl",
           "roles": [
            "data"
           ],
           "title": "iop_lsd.nc",
           "type": "application/x-netcdf"
          },
          "iop_nn.nc": {
           "alternate": {
            "origin": {
             "href": "s3://eodata/Sentinel-3/OLCI/OL_2_WRR___/2024/09/09/S3B_OL_2_WRR____20240909T104949_20240909T113402_20240909T130743_2653_097_208______MAR_O_NR_003.SEN3/iop_nn.nc",
             "title": "Origin asset link",
             "type": "application/x-netcdf"
            }
           },
           "href": "https://hda.data.destination-earth.eu/stac/collections/EO.EUM.DAT.SENTINEL-3.OL_2_WRR___/items/S3B_OL_2_WRR____20240909T104949_20240909T113402_20240909T130743_2653_097_208______MAR_O_NR_003/download/iop_nn.nc?provider=dedl",
           "roles": [
            "data"
           ],
           "title": "iop_nn.nc",
           "type": "application/x-netcdf"
          },
          "iwv.nc": {
           "alternate": {
            "origin": {
             "href": "s3://eodata/Sentinel-3/OLCI/OL_2_WRR___/2024/09/09/S3B_OL_2_WRR____20240909T104949_20240909T113402_20240909T130743_2653_097_208______MAR_O_NR_003.SEN3/iwv.nc",
             "title": "Origin asset link",
             "type": "application/x-netcdf"
            }
           },
           "href": "https://hda.data.destination-earth.eu/stac/collections/EO.EUM.DAT.SENTINEL-3.OL_2_WRR___/items/S3B_OL_2_WRR____20240909T104949_20240909T113402_20240909T130743_2653_097_208______MAR_O_NR_003/download/iwv.nc?provider=dedl",
           "roles": [
            "data"
           ],
           "title": "iwv.nc",
           "type": "application/x-netcdf"
          },
          "manifest.xml": {
           "alternate": {
            "origin": {
             "href": "s3://eodata/Sentinel-3/OLCI/OL_2_WRR___/2024/09/09/S3B_OL_2_WRR____20240909T104949_20240909T113402_20240909T130743_2653_097_208______MAR_O_NR_003.SEN3/manifest.xml",
             "title": "Origin asset link",
             "type": "text/xml"
            }
           },
           "href": "https://hda.data.destination-earth.eu/stac/collections/EO.EUM.DAT.SENTINEL-3.OL_2_WRR___/items/S3B_OL_2_WRR____20240909T104949_20240909T113402_20240909T130743_2653_097_208______MAR_O_NR_003/download/manifest.xml?provider=dedl",
           "roles": [
            "metadata"
           ],
           "title": "manifest.xml",
           "type": "text/xml"
          },
          "par.nc": {
           "alternate": {
            "origin": {
             "href": "s3://eodata/Sentinel-3/OLCI/OL_2_WRR___/2024/09/09/S3B_OL_2_WRR____20240909T104949_20240909T113402_20240909T130743_2653_097_208______MAR_O_NR_003.SEN3/par.nc",
             "title": "Origin asset link",
             "type": "application/x-netcdf"
            }
           },
           "href": "https://hda.data.destination-earth.eu/stac/collections/EO.EUM.DAT.SENTINEL-3.OL_2_WRR___/items/S3B_OL_2_WRR____20240909T104949_20240909T113402_20240909T130743_2653_097_208______MAR_O_NR_003/download/par.nc?provider=dedl",
           "roles": [
            "data"
           ],
           "title": "par.nc",
           "type": "application/x-netcdf"
          },
          "tie_geo_coordinates.nc": {
           "alternate": {
            "origin": {
             "href": "s3://eodata/Sentinel-3/OLCI/OL_2_WRR___/2024/09/09/S3B_OL_2_WRR____20240909T104949_20240909T113402_20240909T130743_2653_097_208______MAR_O_NR_003.SEN3/tie_geo_coordinates.nc",
             "title": "Origin asset link",
             "type": "application/x-netcdf"
            }
           },
           "href": "https://hda.data.destination-earth.eu/stac/collections/EO.EUM.DAT.SENTINEL-3.OL_2_WRR___/items/S3B_OL_2_WRR____20240909T104949_20240909T113402_20240909T130743_2653_097_208______MAR_O_NR_003/download/tie_geo_coordinates.nc?provider=dedl",
           "roles": [
            "data"
           ],
           "title": "tie_geo_coordinates.nc",
           "type": "application/x-netcdf"
          },
          "tie_geometries.nc": {
           "alternate": {
            "origin": {
             "href": "s3://eodata/Sentinel-3/OLCI/OL_2_WRR___/2024/09/09/S3B_OL_2_WRR____20240909T104949_20240909T113402_20240909T130743_2653_097_208______MAR_O_NR_003.SEN3/tie_geometries.nc",
             "title": "Origin asset link",
             "type": "application/x-netcdf"
            }
           },
           "href": "https://hda.data.destination-earth.eu/stac/collections/EO.EUM.DAT.SENTINEL-3.OL_2_WRR___/items/S3B_OL_2_WRR____20240909T104949_20240909T113402_20240909T130743_2653_097_208______MAR_O_NR_003/download/tie_geometries.nc?provider=dedl",
           "roles": [
            "data"
           ],
           "title": "tie_geometries.nc",
           "type": "application/x-netcdf"
          },
          "tie_meteo.nc": {
           "alternate": {
            "origin": {
             "href": "s3://eodata/Sentinel-3/OLCI/OL_2_WRR___/2024/09/09/S3B_OL_2_WRR____20240909T104949_20240909T113402_20240909T130743_2653_097_208______MAR_O_NR_003.SEN3/tie_meteo.nc",
             "title": "Origin asset link",
             "type": "application/x-netcdf"
            }
           },
           "href": "https://hda.data.destination-earth.eu/stac/collections/EO.EUM.DAT.SENTINEL-3.OL_2_WRR___/items/S3B_OL_2_WRR____20240909T104949_20240909T113402_20240909T130743_2653_097_208______MAR_O_NR_003/download/tie_meteo.nc?provider=dedl",
           "roles": [
            "data"
           ],
           "title": "tie_meteo.nc",
           "type": "application/x-netcdf"
          },
          "time_coordinates.nc": {
           "alternate": {
            "origin": {
             "href": "s3://eodata/Sentinel-3/OLCI/OL_2_WRR___/2024/09/09/S3B_OL_2_WRR____20240909T104949_20240909T113402_20240909T130743_2653_097_208______MAR_O_NR_003.SEN3/time_coordinates.nc",
             "title": "Origin asset link",
             "type": "application/x-netcdf"
            }
           },
           "href": "https://hda.data.destination-earth.eu/stac/collections/EO.EUM.DAT.SENTINEL-3.OL_2_WRR___/items/S3B_OL_2_WRR____20240909T104949_20240909T113402_20240909T130743_2653_097_208______MAR_O_NR_003/download/time_coordinates.nc?provider=dedl",
           "roles": [
            "data"
           ],
           "title": "time_coordinates.nc",
           "type": "application/x-netcdf"
          },
          "trsp.nc": {
           "alternate": {
            "origin": {
             "href": "s3://eodata/Sentinel-3/OLCI/OL_2_WRR___/2024/09/09/S3B_OL_2_WRR____20240909T104949_20240909T113402_20240909T130743_2653_097_208______MAR_O_NR_003.SEN3/trsp.nc",
             "title": "Origin asset link",
             "type": "application/x-netcdf"
            }
           },
           "href": "https://hda.data.destination-earth.eu/stac/collections/EO.EUM.DAT.SENTINEL-3.OL_2_WRR___/items/S3B_OL_2_WRR____20240909T104949_20240909T113402_20240909T130743_2653_097_208______MAR_O_NR_003/download/trsp.nc?provider=dedl",
           "roles": [
            "data"
           ],
           "title": "trsp.nc",
           "type": "application/x-netcdf"
          },
          "tsm_nn.nc": {
           "alternate": {
            "origin": {
             "href": "s3://eodata/Sentinel-3/OLCI/OL_2_WRR___/2024/09/09/S3B_OL_2_WRR____20240909T104949_20240909T113402_20240909T130743_2653_097_208______MAR_O_NR_003.SEN3/tsm_nn.nc",
             "title": "Origin asset link",
             "type": "application/x-netcdf"
            }
           },
           "href": "https://hda.data.destination-earth.eu/stac/collections/EO.EUM.DAT.SENTINEL-3.OL_2_WRR___/items/S3B_OL_2_WRR____20240909T104949_20240909T113402_20240909T130743_2653_097_208______MAR_O_NR_003/download/tsm_nn.nc?provider=dedl",
           "roles": [
            "data"
           ],
           "title": "tsm_nn.nc",
           "type": "application/x-netcdf"
          },
          "w_aer.nc": {
           "alternate": {
            "origin": {
             "href": "s3://eodata/Sentinel-3/OLCI/OL_2_WRR___/2024/09/09/S3B_OL_2_WRR____20240909T104949_20240909T113402_20240909T130743_2653_097_208______MAR_O_NR_003.SEN3/w_aer.nc",
             "title": "Origin asset link",
             "type": "application/x-netcdf"
            }
           },
           "href": "https://hda.data.destination-earth.eu/stac/collections/EO.EUM.DAT.SENTINEL-3.OL_2_WRR___/items/S3B_OL_2_WRR____20240909T104949_20240909T113402_20240909T130743_2653_097_208______MAR_O_NR_003/download/w_aer.nc?provider=dedl",
           "roles": [
            "data"
           ],
           "title": "w_aer.nc",
           "type": "application/x-netcdf"
          },
          "wqsf.nc": {
           "alternate": {
            "origin": {
             "href": "s3://eodata/Sentinel-3/OLCI/OL_2_WRR___/2024/09/09/S3B_OL_2_WRR____20240909T104949_20240909T113402_20240909T130743_2653_097_208______MAR_O_NR_003.SEN3/wqsf.nc",
             "title": "Origin asset link",
             "type": "application/x-netcdf"
            }
           },
           "href": "https://hda.data.destination-earth.eu/stac/collections/EO.EUM.DAT.SENTINEL-3.OL_2_WRR___/items/S3B_OL_2_WRR____20240909T104949_20240909T113402_20240909T130743_2653_097_208______MAR_O_NR_003/download/wqsf.nc?provider=dedl",
           "roles": [
            "data"
           ],
           "title": "wqsf.nc",
           "type": "application/x-netcdf"
          },
          "xfdumanifest.xml": {
           "alternate": {
            "origin": {
             "href": "s3://eodata/Sentinel-3/OLCI/OL_2_WRR___/2024/09/09/S3B_OL_2_WRR____20240909T104949_20240909T113402_20240909T130743_2653_097_208______MAR_O_NR_003.SEN3/xfdumanifest.xml",
             "title": "Origin asset link",
             "type": "text/xml"
            }
           },
           "href": "https://hda.data.destination-earth.eu/stac/collections/EO.EUM.DAT.SENTINEL-3.OL_2_WRR___/items/S3B_OL_2_WRR____20240909T104949_20240909T113402_20240909T130743_2653_097_208______MAR_O_NR_003/download/xfdumanifest.xml?provider=dedl",
           "roles": [
            "metadata"
           ],
           "title": "xfdumanifest.xml",
           "type": "text/xml"
          }
         },
         "bbox": [
          -61.4386,
          -67.9681,
          74.336,
          89.314
         ],
         "collection": "EO.EUM.DAT.SENTINEL-3.OL_2_WRR___",
         "geometry": {
          "coordinates": [
           [
            [
             -61.4386,
             -62.2603
            ],
            [
             -60.3976,
             -62.6509
            ],
            [
             -59.3313,
             -63.0343
            ],
            [
             -58.2367,
             -63.4094
            ],
            [
             -57.1136,
             -63.7759
            ],
            [
             -55.9613,
             -64.1333
            ],
            [
             -54.7794,
             -64.4814
            ],
            [
             -53.5674,
             -64.8197
            ],
            [
             -52.3251,
             -65.1478
            ],
            [
             -51.0522,
             -65.4654
            ],
            [
             -49.7488,
             -65.7722
            ],
            [
             -48.4144,
             -66.0674
            ],
            [
             -47.0493,
             -66.3508
            ],
            [
             -45.6537,
             -66.6219
            ],
            [
             -44.2281,
             -66.8804
            ],
            [
             -42.7727,
             -67.1258
            ],
            [
             -41.2884,
             -67.3576
            ],
            [
             -39.7759,
             -67.5755
            ],
            [
             -38.2362,
             -67.779
            ],
            [
             -36.6706,
             -67.9681
            ],
            [
             -35.8053,
             -66.8604
            ],
            [
             -34.5758,
             -65.1173
            ],
            [
             -33.4766,
             -63.3674
            ],
            [
             -32.4819,
             -61.6114
            ],
            [
             -31.5745,
             -59.8505
            ],
            [
             -30.7397,
             -58.085
            ],
            [
             -29.9661,
             -56.3161
            ],
            [
             -29.2443,
             -54.5441
            ],
            [
             -28.5676,
             -52.7682
            ],
            [
             -27.9285,
             -50.9901
            ],
            [
             -27.3218,
             -49.2103
            ],
            [
             -26.7447,
             -47.4274
            ],
            [
             -26.1924,
             -45.6426
            ],
            [
             -25.6619,
             -43.856
            ],
            [
             -25.1507,
             -42.0675
            ],
            [
             -24.6564,
             -40.2773
            ],
            [
             -24.1772,
             -38.4857
            ],
            [
             -23.711,
             -36.6923
            ],
            [
             -23.2565,
             -34.8976
            ],
            [
             -22.8121,
             -33.1019
            ],
            [
             -22.3768,
             -31.3047
            ],
            [
             -21.9497,
             -29.5059
            ],
            [
             -21.5293,
             -27.7066
            ],
            [
             -21.115,
             -25.9062
            ],
            [
             -20.7056,
             -24.1045
            ],
            [
             -20.3009,
             -22.3021
            ],
            [
             -19.8999,
             -20.4989
            ],
            [
             -19.5019,
             -18.6948
            ],
            [
             -19.1064,
             -16.8901
            ],
            [
             -18.7128,
             -15.0848
            ],
            [
             -18.3203,
             -13.2789
            ],
            [
             -17.9286,
             -11.4725
            ],
            [
             -17.5374,
             -9.66592
            ],
            [
             -17.1451,
             -7.85872
            ],
            [
             -16.7526,
             -6.05127
            ],
            [
             -16.3588,
             -4.24372
            ],
            [
             -15.9627,
             -2.43667
            ],
            [
             -15.5645,
             -0.629072
            ],
            [
             -15.1639,
             1.17923
            ],
            [
             -14.759,
             2.9861
            ],
            [
             -14.3503,
             4.79262
            ],
            [
             -13.9374,
             6.59956
            ],
            [
             -13.519,
             8.40568
            ],
            [
             -13.0948,
             10.2112
            ],
            [
             -12.6642,
             12.0161
            ],
            [
             -12.2263,
             13.8201
            ],
            [
             -11.7805,
             15.6233
            ],
            [
             -11.3257,
             17.4255
            ],
            [
             -10.8613,
             19.2262
            ],
            [
             -10.3862,
             21.0259
            ],
            [
             -9.89944,
             22.8241
            ],
            [
             -9.39961,
             24.6208
            ],
            [
             -8.88571,
             26.4156
            ],
            [
             -8.35639,
             28.2084
            ],
            [
             -7.80963,
             29.9993
            ],
            [
             -7.24416,
             31.7877
            ],
            [
             -6.65786,
             33.5737
            ],
            [
             -6.04864,
             35.3569
            ],
            [
             -5.41414,
             37.1369
            ],
            [
             -4.75131,
             38.9135
            ],
            [
             -4.05726,
             40.6865
            ],
            [
             -3.3285,
             42.4554
            ],
            [
             -2.56076,
             44.2198
            ],
            [
             -1.7494,
             45.9791
            ],
            [
             -0.889055,
             47.7324
            ],
            [
             0.026369,
             49.4803
            ],
            [
             1.0044,
             51.2205
            ],
            [
             2.05476,
             52.952
            ],
            [
             3.18563,
             54.6754
            ],
            [
             4.41027,
             56.3878
            ],
            [
             5.74316,
             58.0883
            ],
            [
             7.2013,
             59.7745
            ],
            [
             8.80611,
             61.4443
            ],
            [
             10.5826,
             63.0946
            ],
            [
             12.5626,
             64.7218
            ],
            [
             14.7835,
             66.3211
            ],
            [
             17.2923,
             67.8866
            ],
            [
             20.1466,
             69.4106
            ],
            [
             23.4161,
             70.8837
            ],
            [
             27.1842,
             72.2923
            ],
            [
             31.5479,
             73.6207
            ],
            [
             36.6163,
             74.8485
            ],
            [
             42.4897,
             75.9475
            ],
            [
             49.2484,
             76.8869
            ],
            [
             56.9034,
             77.6299
            ],
            [
             65.3496,
             78.1395
            ],
            [
             74.336,
             78.3851
            ],
            [
             74.1486,
             79.0031
            ],
            [
             73.9391,
             79.6209
            ],
            [
             73.7034,
             80.2386
            ],
            [
             73.4363,
             80.856
            ],
            [
             73.1309,
             81.4732
            ],
            [
             72.7783,
             82.0901
            ],
            [
             72.3665,
             82.7066
            ],
            [
             71.8791,
             83.3227
            ],
            [
             71.2934,
             83.9381
            ],
            [
             70.5767,
             84.5528
            ],
            [
             69.6782,
             85.1665
            ],
            [
             68.5196,
             85.7785
            ],
            [
             66.9679,
             86.3883
            ],
            [
             64.7915,
             86.9944
            ],
            [
             61.525,
             87.5939
            ],
            [
             56.126,
             88.1805
            ],
            [
             45.811,
             88.7361
            ],
            [
             21.9882,
             89.1935
            ],
            [
             -26.1971,
             89.314
            ],
            [
             -16.4447,
             87.5558
            ],
            [
             -15.0846,
             85.7853
            ],
            [
             -14.684,
             84.0133
            ],
            [
             -14.5872,
             82.2408
            ],
            [
             -14.6252,
             80.4682
            ],
            [
             -14.7328,
             78.6944
            ],
            [
             -14.8842,
             76.921
            ],
            [
             -15.0631,
             75.1471
            ],
            [
             -15.2602,
             73.3725
            ],
            [
             -15.4714,
             71.5979
            ],
            [
             -15.6927,
             69.8226
            ],
            [
             -15.9223,
             68.0468
            ],
            [
             -16.1586,
             66.2704
            ],
            [
             -16.4,
             64.4935
            ],
            [
             -16.6464,
             62.716
            ],
            [
             -16.8966,
             60.938
            ],
            [
             -17.1506,
             59.1592
            ],
            [
             -17.4078,
             57.3799
            ],
            [
             -17.6679,
             55.599
            ],
            [
             -17.9323,
             53.8195
            ],
            [
             -18.1982,
             52.0383
            ],
            [
             -18.4669,
             50.2548
            ],
            [
             -18.7389,
             48.4723
            ],
            [
             -19.0135,
             46.6889
            ],
            [
             -19.2908,
             44.9045
            ],
            [
             -19.5709,
             43.1195
            ],
            [
             -19.854,
             41.3337
            ],
            [
             -20.14,
             39.5472
            ],
            [
             -20.4288,
             37.7602
            ],
            [
             -20.7209,
             35.9725
            ],
            [
             -21.0162,
             34.1841
            ],
            [
             -21.3147,
             32.3951
            ],
            [
             -21.6169,
             30.6056
            ],
            [
             -21.9224,
             28.8157
            ],
            [
             -22.2319,
             27.0253
            ],
            [
             -22.5453,
             25.2342
            ],
            [
             -22.8628,
             23.443
            ],
            [
             -23.1846,
             21.6513
            ],
            [
             -23.5109,
             19.8597
            ],
            [
             -23.8421,
             18.0676
            ],
            [
             -24.1782,
             16.2754
            ],
            [
             -24.5196,
             14.4834
            ],
            [
             -24.8666,
             12.6912
            ],
            [
             -25.2194,
             10.8991
            ],
            [
             -25.5785,
             9.10745
            ],
            [
             -25.9438,
             7.31538
            ],
            [
             -26.3164,
             5.525
            ],
            [
             -26.6963,
             3.73539
            ],
            [
             -27.0834,
             1.94409
            ],
            [
             -27.4791,
             0.154916
            ],
            [
             -27.8837,
             -1.63286
            ],
            [
             -28.2971,
             -3.42026
            ],
            [
             -28.7205,
             -5.2064
            ],
            [
             -29.155,
             -6.99172
            ],
            [
             -29.5998,
             -8.77496
            ],
            [
             -30.0567,
             -10.5566
            ],
            [
             -30.5266,
             -12.3368
            ],
            [
             -31.01,
             -14.115
            ],
            [
             -31.5078,
             -15.8909
            ],
            [
             -32.0215,
             -17.6646
            ],
            [
             -32.552,
             -19.4357
            ],
            [
             -33.1005,
             -21.2039
            ],
            [
             -33.6687,
             -22.9692
            ],
            [
             -34.2578,
             -24.7308
            ],
            [
             -34.8698,
             -26.4889
            ],
            [
             -35.5062,
             -28.2432
            ],
            [
             -36.1696,
             -29.9928
            ],
            [
             -36.8622,
             -31.7375
            ],
            [
             -37.5864,
             -33.4773
            ],
            [
             -38.3454,
             -35.2113
            ],
            [
             -39.1421,
             -36.9388
            ],
            [
             -39.9806,
             -38.6594
            ],
            [
             -40.8648,
             -40.3724
            ],
            [
             -41.7995,
             -42.0769
            ],
            [
             -42.7898,
             -43.7722
            ],
            [
             -43.8419,
             -45.4575
            ],
            [
             -44.9625,
             -47.1294
            ],
            [
             -46.1594,
             -48.7896
            ],
            [
             -47.4418,
             -50.4364
            ],
            [
             -48.8193,
             -52.0653
            ],
            [
             -50.304,
             -53.6756
            ],
            [
             -51.9094,
             -55.2655
            ],
            [
             -53.6506,
             -56.8309
            ],
            [
             -55.5456,
             -58.3688
            ],
            [
             -57.6138,
             -59.8752
            ],
            [
             -59.8792,
             -61.3446
            ],
            [
             -61.4386,
             -62.2603
            ]
           ]
          ],
          "type": "Polygon"
         },
         "id": "S3B_OL_2_WRR____20240909T104949_20240909T113402_20240909T130743_2653_097_208______MAR_O_NR_003",
         "links": [
          {
           "href": "https://hda.data.destination-earth.eu/stac/collections/EO.EUM.DAT.SENTINEL-3.OL_2_WRR___/items/S3B_OL_2_WRR____20240909T104949_20240909T113402_20240909T130743_2653_097_208______MAR_O_NR_003",
           "rel": "self",
           "title": "S3B_OL_2_WRR____20240909T104949_20240909T113402_20240909T130743_2653_097_208______MAR_O_NR_003"
          },
          {
           "href": "https://hda.data.destination-earth.eu/stac/",
           "rel": "root"
          },
          {
           "href": "https://hda.data.destination-earth.eu/stac/collections/EO.EUM.DAT.SENTINEL-3.OL_2_WRR___",
           "rel": "parent",
           "title": "EO.EUM.DAT.SENTINEL-3.OL_2_WRR___"
          },
          {
           "href": "https://hda.data.destination-earth.eu/stac/collections/EO.EUM.DAT.SENTINEL-3.OL_2_WRR___",
           "rel": "collection",
           "title": "EO.EUM.DAT.SENTINEL-3.OL_2_WRR___"
          }
         ],
         "properties": {
          "constellation": "SENTINEL-3",
          "datetime": "2024-09-09T10:49:48.814172Z",
          "dedl:alias": "EO.EUM.DAT.SENTINEL-3.OL_2_WRR___",
          "dedl:baselineCollection": "003",
          "dedl:beginningDateTime": "2024-09-09T10:49:48.814172Z",
          "dedl:endingDateTime": "2024-09-09T11:34:02.150139Z",
          "dedl:productIdentifier": "/eodata/Sentinel-3/OLCI/OL_2_WRR___/2024/09/09/S3B_OL_2_WRR____20240909T104949_20240909T113402_20240909T130743_2653_097_208______MAR_O_NR_003.SEN3",
          "dedl:scope": {
           "discover": null,
           "download": "hda-public-data-access",
           "search": "hda-public-data-access"
          },
          "dedl:timeliness": "NR",
          "dedl:uid": "ba5875da-8f0c-439d-858b-c14e87d49593",
          "description": "OLCI (Ocean and Land Colour Instrument) Ocean Colour Geophysical Products. Reduced Resolution: 1200m at nadir. Level 2 marine products include the following: * water-leaving reflectances in 16 bands, Oa**_reflectance (Baseline Atmospheric Correction (BAC) algorithm, bands: 400, 412, 442, 490, 510, 560, 620, 665, 674, 681, 709, 754, 779, 865, 885, 1024 nanometer (nm)); *algal pigment concentration in clear waters, chl_oc4me (BAC and maximum band ratio algorithm, log10 scaled); *algal pigment concentration in turbid waters, chl_nn (neural net algorithm, log10 scaled); *total suspended matter concentration, tsm_nn (neural net algorithm, log10 scaled); *diffuse attenuation coefficient Kd of downward irradiance at 490 nm, trsp (BAC and M07 algorithm, log10 scaled); *absorption coefficient at 443 nm of coloured detrital and dissolved organic matter, iop_nn (neural net algorithm, log10 scaled); *instantaneous photosynthetically active radiation, PAR (BAC and clear-sky ocean algorithm); *aerosol optical thickness T865 and aerosol Angstrom exponent A865, w_aer (BAC algorithm, A for bands 779 and 865 nm) *integrated water vapour column, iwv (1D-Var algorithm). The geophysical products are accompanied by error estimate products. Pixel classification, quality and science flags, as well as meteorological, geometry and geolocation data at tie points are provided. \n\n- All Sentinel-3 NRT products are available at pick-up point in less than 3h\n- All Sentinel-3 Non Time Critical (NTC) products are available at pick-up point in less than 30 days.\nSentinel-3 is part of a series of Sentinel satellites, under the umbrella of the EU Copernicus programme.",
          "end_datetime": "2024-09-09T11:34:02.150139Z",
          "instruments": [
           "OLCI"
          ],
          "license": "proprietary",
          "order:status": "succeeded",
          "platform": "SENTINEL-3A,SENTINEL-3B",
          "processing:level": 2,
          "providers": [
           {
            "description": "DestineE Data Lake Fresh Data Pool",
            "name": "dedl",
            "priority": 1,
            "roles": [
             "host"
            ],
            "url": "https://creodias.eu/"
           }
          ],
          "published": "2024-09-09T13:34:43.054424Z",
          "sar:instrument_mode": "Earth Observation",
          "sar:product_type": "OL_2_WRR___",
          "sat:absolute_orbit": 33205,
          "sat:orbit_state": "DESCENDING",
          "sat:relative_orbit": 208,
          "start_datetime": "2024-09-09T10:49:48.814172Z",
          "updated": "2024-09-09T13:34:50.462755Z"
         },
         "stac_extensions": [
          "https://stac-extensions.github.io/timestamps/v1.0.0/schema.json",
          "https://stac-extensions.github.io/processing/v1.0.0/schema.json",
          "https://stac-extensions.github.io/sat/v1.0.0/schema.json",
          "https://stac-extensions.github.io/sar/v1.0.0/schema.json",
          "https://stac-extensions.github.io/order/v1.1.0/schema.json"
         ],
         "stac_version": "1.0.0",
         "type": "Feature"
        },
        {
         "assets": {
          "EOPMetadata.xml": {
           "alternate": {
            "origin": {
             "href": "s3://eodata/Sentinel-3/OLCI/OL_2_WRR___/2024/09/09/S3A_OL_2_WRR____20240909T094730_20240909T103143_20240909T120430_2653_116_350______MAR_O_NR_003.SEN3/EOPMetadata.xml",
             "title": "Origin asset link",
             "type": "text/xml"
            }
           },
           "href": "https://hda.data.destination-earth.eu/stac/collections/EO.EUM.DAT.SENTINEL-3.OL_2_WRR___/items/S3A_OL_2_WRR____20240909T094730_20240909T103143_20240909T120430_2653_116_350______MAR_O_NR_003/download/EOPMetadata.xml?provider=dedl",
           "roles": [
            "metadata"
           ],
           "title": "EOPMetadata.xml",
           "type": "text/xml"
          },
          "Oa01_reflectance.nc": {
           "alternate": {
            "origin": {
             "href": "s3://eodata/Sentinel-3/OLCI/OL_2_WRR___/2024/09/09/S3A_OL_2_WRR____20240909T094730_20240909T103143_20240909T120430_2653_116_350______MAR_O_NR_003.SEN3/Oa01_reflectance.nc",
             "title": "Origin asset link",
             "type": "application/x-netcdf"
            }
           },
           "href": "https://hda.data.destination-earth.eu/stac/collections/EO.EUM.DAT.SENTINEL-3.OL_2_WRR___/items/S3A_OL_2_WRR____20240909T094730_20240909T103143_20240909T120430_2653_116_350______MAR_O_NR_003/download/Oa01_reflectance.nc?provider=dedl",
           "roles": [
            "data"
           ],
           "title": "Oa01_reflectance.nc",
           "type": "application/x-netcdf"
          },
          "Oa02_reflectance.nc": {
           "alternate": {
            "origin": {
             "href": "s3://eodata/Sentinel-3/OLCI/OL_2_WRR___/2024/09/09/S3A_OL_2_WRR____20240909T094730_20240909T103143_20240909T120430_2653_116_350______MAR_O_NR_003.SEN3/Oa02_reflectance.nc",
             "title": "Origin asset link",
             "type": "application/x-netcdf"
            }
           },
           "href": "https://hda.data.destination-earth.eu/stac/collections/EO.EUM.DAT.SENTINEL-3.OL_2_WRR___/items/S3A_OL_2_WRR____20240909T094730_20240909T103143_20240909T120430_2653_116_350______MAR_O_NR_003/download/Oa02_reflectance.nc?provider=dedl",
           "roles": [
            "data"
           ],
           "title": "Oa02_reflectance.nc",
           "type": "application/x-netcdf"
          },
          "Oa03_reflectance.nc": {
           "alternate": {
            "origin": {
             "href": "s3://eodata/Sentinel-3/OLCI/OL_2_WRR___/2024/09/09/S3A_OL_2_WRR____20240909T094730_20240909T103143_20240909T120430_2653_116_350______MAR_O_NR_003.SEN3/Oa03_reflectance.nc",
             "title": "Origin asset link",
             "type": "application/x-netcdf"
            }
           },
           "href": "https://hda.data.destination-earth.eu/stac/collections/EO.EUM.DAT.SENTINEL-3.OL_2_WRR___/items/S3A_OL_2_WRR____20240909T094730_20240909T103143_20240909T120430_2653_116_350______MAR_O_NR_003/download/Oa03_reflectance.nc?provider=dedl",
           "roles": [
            "data"
           ],
           "title": "Oa03_reflectance.nc",
           "type": "application/x-netcdf"
          },
          "Oa04_reflectance.nc": {
           "alternate": {
            "origin": {
             "href": "s3://eodata/Sentinel-3/OLCI/OL_2_WRR___/2024/09/09/S3A_OL_2_WRR____20240909T094730_20240909T103143_20240909T120430_2653_116_350______MAR_O_NR_003.SEN3/Oa04_reflectance.nc",
             "title": "Origin asset link",
             "type": "application/x-netcdf"
            }
           },
           "href": "https://hda.data.destination-earth.eu/stac/collections/EO.EUM.DAT.SENTINEL-3.OL_2_WRR___/items/S3A_OL_2_WRR____20240909T094730_20240909T103143_20240909T120430_2653_116_350______MAR_O_NR_003/download/Oa04_reflectance.nc?provider=dedl",
           "roles": [
            "data"
           ],
           "title": "Oa04_reflectance.nc",
           "type": "application/x-netcdf"
          },
          "Oa05_reflectance.nc": {
           "alternate": {
            "origin": {
             "href": "s3://eodata/Sentinel-3/OLCI/OL_2_WRR___/2024/09/09/S3A_OL_2_WRR____20240909T094730_20240909T103143_20240909T120430_2653_116_350______MAR_O_NR_003.SEN3/Oa05_reflectance.nc",
             "title": "Origin asset link",
             "type": "application/x-netcdf"
            }
           },
           "href": "https://hda.data.destination-earth.eu/stac/collections/EO.EUM.DAT.SENTINEL-3.OL_2_WRR___/items/S3A_OL_2_WRR____20240909T094730_20240909T103143_20240909T120430_2653_116_350______MAR_O_NR_003/download/Oa05_reflectance.nc?provider=dedl",
           "roles": [
            "data"
           ],
           "title": "Oa05_reflectance.nc",
           "type": "application/x-netcdf"
          },
          "Oa06_reflectance.nc": {
           "alternate": {
            "origin": {
             "href": "s3://eodata/Sentinel-3/OLCI/OL_2_WRR___/2024/09/09/S3A_OL_2_WRR____20240909T094730_20240909T103143_20240909T120430_2653_116_350______MAR_O_NR_003.SEN3/Oa06_reflectance.nc",
             "title": "Origin asset link",
             "type": "application/x-netcdf"
            }
           },
           "href": "https://hda.data.destination-earth.eu/stac/collections/EO.EUM.DAT.SENTINEL-3.OL_2_WRR___/items/S3A_OL_2_WRR____20240909T094730_20240909T103143_20240909T120430_2653_116_350______MAR_O_NR_003/download/Oa06_reflectance.nc?provider=dedl",
           "roles": [
            "data"
           ],
           "title": "Oa06_reflectance.nc",
           "type": "application/x-netcdf"
          },
          "Oa07_reflectance.nc": {
           "alternate": {
            "origin": {
             "href": "s3://eodata/Sentinel-3/OLCI/OL_2_WRR___/2024/09/09/S3A_OL_2_WRR____20240909T094730_20240909T103143_20240909T120430_2653_116_350______MAR_O_NR_003.SEN3/Oa07_reflectance.nc",
             "title": "Origin asset link",
             "type": "application/x-netcdf"
            }
           },
           "href": "https://hda.data.destination-earth.eu/stac/collections/EO.EUM.DAT.SENTINEL-3.OL_2_WRR___/items/S3A_OL_2_WRR____20240909T094730_20240909T103143_20240909T120430_2653_116_350______MAR_O_NR_003/download/Oa07_reflectance.nc?provider=dedl",
           "roles": [
            "data"
           ],
           "title": "Oa07_reflectance.nc",
           "type": "application/x-netcdf"
          },
          "Oa08_reflectance.nc": {
           "alternate": {
            "origin": {
             "href": "s3://eodata/Sentinel-3/OLCI/OL_2_WRR___/2024/09/09/S3A_OL_2_WRR____20240909T094730_20240909T103143_20240909T120430_2653_116_350______MAR_O_NR_003.SEN3/Oa08_reflectance.nc",
             "title": "Origin asset link",
             "type": "application/x-netcdf"
            }
           },
           "href": "https://hda.data.destination-earth.eu/stac/collections/EO.EUM.DAT.SENTINEL-3.OL_2_WRR___/items/S3A_OL_2_WRR____20240909T094730_20240909T103143_20240909T120430_2653_116_350______MAR_O_NR_003/download/Oa08_reflectance.nc?provider=dedl",
           "roles": [
            "data"
           ],
           "title": "Oa08_reflectance.nc",
           "type": "application/x-netcdf"
          },
          "Oa09_reflectance.nc": {
           "alternate": {
            "origin": {
             "href": "s3://eodata/Sentinel-3/OLCI/OL_2_WRR___/2024/09/09/S3A_OL_2_WRR____20240909T094730_20240909T103143_20240909T120430_2653_116_350______MAR_O_NR_003.SEN3/Oa09_reflectance.nc",
             "title": "Origin asset link",
             "type": "application/x-netcdf"
            }
           },
           "href": "https://hda.data.destination-earth.eu/stac/collections/EO.EUM.DAT.SENTINEL-3.OL_2_WRR___/items/S3A_OL_2_WRR____20240909T094730_20240909T103143_20240909T120430_2653_116_350______MAR_O_NR_003/download/Oa09_reflectance.nc?provider=dedl",
           "roles": [
            "data"
           ],
           "title": "Oa09_reflectance.nc",
           "type": "application/x-netcdf"
          },
          "Oa10_reflectance.nc": {
           "alternate": {
            "origin": {
             "href": "s3://eodata/Sentinel-3/OLCI/OL_2_WRR___/2024/09/09/S3A_OL_2_WRR____20240909T094730_20240909T103143_20240909T120430_2653_116_350______MAR_O_NR_003.SEN3/Oa10_reflectance.nc",
             "title": "Origin asset link",
             "type": "application/x-netcdf"
            }
           },
           "href": "https://hda.data.destination-earth.eu/stac/collections/EO.EUM.DAT.SENTINEL-3.OL_2_WRR___/items/S3A_OL_2_WRR____20240909T094730_20240909T103143_20240909T120430_2653_116_350______MAR_O_NR_003/download/Oa10_reflectance.nc?provider=dedl",
           "roles": [
            "data"
           ],
           "title": "Oa10_reflectance.nc",
           "type": "application/x-netcdf"
          },
          "Oa11_reflectance.nc": {
           "alternate": {
            "origin": {
             "href": "s3://eodata/Sentinel-3/OLCI/OL_2_WRR___/2024/09/09/S3A_OL_2_WRR____20240909T094730_20240909T103143_20240909T120430_2653_116_350______MAR_O_NR_003.SEN3/Oa11_reflectance.nc",
             "title": "Origin asset link",
             "type": "application/x-netcdf"
            }
           },
           "href": "https://hda.data.destination-earth.eu/stac/collections/EO.EUM.DAT.SENTINEL-3.OL_2_WRR___/items/S3A_OL_2_WRR____20240909T094730_20240909T103143_20240909T120430_2653_116_350______MAR_O_NR_003/download/Oa11_reflectance.nc?provider=dedl",
           "roles": [
            "data"
           ],
           "title": "Oa11_reflectance.nc",
           "type": "application/x-netcdf"
          },
          "Oa12_reflectance.nc": {
           "alternate": {
            "origin": {
             "href": "s3://eodata/Sentinel-3/OLCI/OL_2_WRR___/2024/09/09/S3A_OL_2_WRR____20240909T094730_20240909T103143_20240909T120430_2653_116_350______MAR_O_NR_003.SEN3/Oa12_reflectance.nc",
             "title": "Origin asset link",
             "type": "application/x-netcdf"
            }
           },
           "href": "https://hda.data.destination-earth.eu/stac/collections/EO.EUM.DAT.SENTINEL-3.OL_2_WRR___/items/S3A_OL_2_WRR____20240909T094730_20240909T103143_20240909T120430_2653_116_350______MAR_O_NR_003/download/Oa12_reflectance.nc?provider=dedl",
           "roles": [
            "data"
           ],
           "title": "Oa12_reflectance.nc",
           "type": "application/x-netcdf"
          },
          "Oa16_reflectance.nc": {
           "alternate": {
            "origin": {
             "href": "s3://eodata/Sentinel-3/OLCI/OL_2_WRR___/2024/09/09/S3A_OL_2_WRR____20240909T094730_20240909T103143_20240909T120430_2653_116_350______MAR_O_NR_003.SEN3/Oa16_reflectance.nc",
             "title": "Origin asset link",
             "type": "application/x-netcdf"
            }
           },
           "href": "https://hda.data.destination-earth.eu/stac/collections/EO.EUM.DAT.SENTINEL-3.OL_2_WRR___/items/S3A_OL_2_WRR____20240909T094730_20240909T103143_20240909T120430_2653_116_350______MAR_O_NR_003/download/Oa16_reflectance.nc?provider=dedl",
           "roles": [
            "data"
           ],
           "title": "Oa16_reflectance.nc",
           "type": "application/x-netcdf"
          },
          "Oa17_reflectance.nc": {
           "alternate": {
            "origin": {
             "href": "s3://eodata/Sentinel-3/OLCI/OL_2_WRR___/2024/09/09/S3A_OL_2_WRR____20240909T094730_20240909T103143_20240909T120430_2653_116_350______MAR_O_NR_003.SEN3/Oa17_reflectance.nc",
             "title": "Origin asset link",
             "type": "application/x-netcdf"
            }
           },
           "href": "https://hda.data.destination-earth.eu/stac/collections/EO.EUM.DAT.SENTINEL-3.OL_2_WRR___/items/S3A_OL_2_WRR____20240909T094730_20240909T103143_20240909T120430_2653_116_350______MAR_O_NR_003/download/Oa17_reflectance.nc?provider=dedl",
           "roles": [
            "data"
           ],
           "title": "Oa17_reflectance.nc",
           "type": "application/x-netcdf"
          },
          "Oa18_reflectance.nc": {
           "alternate": {
            "origin": {
             "href": "s3://eodata/Sentinel-3/OLCI/OL_2_WRR___/2024/09/09/S3A_OL_2_WRR____20240909T094730_20240909T103143_20240909T120430_2653_116_350______MAR_O_NR_003.SEN3/Oa18_reflectance.nc",
             "title": "Origin asset link",
             "type": "application/x-netcdf"
            }
           },
           "href": "https://hda.data.destination-earth.eu/stac/collections/EO.EUM.DAT.SENTINEL-3.OL_2_WRR___/items/S3A_OL_2_WRR____20240909T094730_20240909T103143_20240909T120430_2653_116_350______MAR_O_NR_003/download/Oa18_reflectance.nc?provider=dedl",
           "roles": [
            "data"
           ],
           "title": "Oa18_reflectance.nc",
           "type": "application/x-netcdf"
          },
          "Oa21_reflectance.nc": {
           "alternate": {
            "origin": {
             "href": "s3://eodata/Sentinel-3/OLCI/OL_2_WRR___/2024/09/09/S3A_OL_2_WRR____20240909T094730_20240909T103143_20240909T120430_2653_116_350______MAR_O_NR_003.SEN3/Oa21_reflectance.nc",
             "title": "Origin asset link",
             "type": "application/x-netcdf"
            }
           },
           "href": "https://hda.data.destination-earth.eu/stac/collections/EO.EUM.DAT.SENTINEL-3.OL_2_WRR___/items/S3A_OL_2_WRR____20240909T094730_20240909T103143_20240909T120430_2653_116_350______MAR_O_NR_003/download/Oa21_reflectance.nc?provider=dedl",
           "roles": [
            "data"
           ],
           "title": "Oa21_reflectance.nc",
           "type": "application/x-netcdf"
          },
          "browse.jpg": {
           "alternate": {
            "origin": {
             "href": "s3://eodata/Sentinel-3/OLCI/OL_2_WRR___/2024/09/09/S3A_OL_2_WRR____20240909T094730_20240909T103143_20240909T120430_2653_116_350______MAR_O_NR_003.SEN3/browse.jpg",
             "title": "Origin asset link",
             "type": "image/jpeg"
            }
           },
           "href": "https://hda.data.destination-earth.eu/stac/collections/EO.EUM.DAT.SENTINEL-3.OL_2_WRR___/items/S3A_OL_2_WRR____20240909T094730_20240909T103143_20240909T120430_2653_116_350______MAR_O_NR_003/download/browse.jpg?provider=dedl",
           "roles": [
            "metadata"
           ],
           "title": "browse.jpg",
           "type": "image/jpeg"
          },
          "chl_nn.nc": {
           "alternate": {
            "origin": {
             "href": "s3://eodata/Sentinel-3/OLCI/OL_2_WRR___/2024/09/09/S3A_OL_2_WRR____20240909T094730_20240909T103143_20240909T120430_2653_116_350______MAR_O_NR_003.SEN3/chl_nn.nc",
             "title": "Origin asset link",
             "type": "application/x-netcdf"
            }
           },
           "href": "https://hda.data.destination-earth.eu/stac/collections/EO.EUM.DAT.SENTINEL-3.OL_2_WRR___/items/S3A_OL_2_WRR____20240909T094730_20240909T103143_20240909T120430_2653_116_350______MAR_O_NR_003/download/chl_nn.nc?provider=dedl",
           "roles": [
            "data"
           ],
           "title": "chl_nn.nc",
           "type": "application/x-netcdf"
          },
          "chl_oc4me.nc": {
           "alternate": {
            "origin": {
             "href": "s3://eodata/Sentinel-3/OLCI/OL_2_WRR___/2024/09/09/S3A_OL_2_WRR____20240909T094730_20240909T103143_20240909T120430_2653_116_350______MAR_O_NR_003.SEN3/chl_oc4me.nc",
             "title": "Origin asset link",
             "type": "application/x-netcdf"
            }
           },
           "href": "https://hda.data.destination-earth.eu/stac/collections/EO.EUM.DAT.SENTINEL-3.OL_2_WRR___/items/S3A_OL_2_WRR____20240909T094730_20240909T103143_20240909T120430_2653_116_350______MAR_O_NR_003/download/chl_oc4me.nc?provider=dedl",
           "roles": [
            "data"
           ],
           "title": "chl_oc4me.nc",
           "type": "application/x-netcdf"
          },
          "downloadLink": {
           "alternate": {
            "origin": {
             "href": "https://zipper.creodias.eu/odata/v1/Products(36155c3a-e083-4ded-a397-a375fda1850f)/$value",
             "title": "Origin asset link"
            }
           },
           "href": "https://hda.data.destination-earth.eu/stac/collections/EO.EUM.DAT.SENTINEL-3.OL_2_WRR___/items/S3A_OL_2_WRR____20240909T094730_20240909T103143_20240909T120430_2653_116_350______MAR_O_NR_003/download?provider=dedl",
           "storage:tier": "ONLINE",
           "title": "Download link",
           "type": "application/zip"
          },
          "geo_coordinates.nc": {
           "alternate": {
            "origin": {
             "href": "s3://eodata/Sentinel-3/OLCI/OL_2_WRR___/2024/09/09/S3A_OL_2_WRR____20240909T094730_20240909T103143_20240909T120430_2653_116_350______MAR_O_NR_003.SEN3/geo_coordinates.nc",
             "title": "Origin asset link",
             "type": "application/x-netcdf"
            }
           },
           "href": "https://hda.data.destination-earth.eu/stac/collections/EO.EUM.DAT.SENTINEL-3.OL_2_WRR___/items/S3A_OL_2_WRR____20240909T094730_20240909T103143_20240909T120430_2653_116_350______MAR_O_NR_003/download/geo_coordinates.nc?provider=dedl",
           "roles": [
            "data"
           ],
           "title": "geo_coordinates.nc",
           "type": "application/x-netcdf"
          },
          "instrument_data.nc": {
           "alternate": {
            "origin": {
             "href": "s3://eodata/Sentinel-3/OLCI/OL_2_WRR___/2024/09/09/S3A_OL_2_WRR____20240909T094730_20240909T103143_20240909T120430_2653_116_350______MAR_O_NR_003.SEN3/instrument_data.nc",
             "title": "Origin asset link",
             "type": "application/x-netcdf"
            }
           },
           "href": "https://hda.data.destination-earth.eu/stac/collections/EO.EUM.DAT.SENTINEL-3.OL_2_WRR___/items/S3A_OL_2_WRR____20240909T094730_20240909T103143_20240909T120430_2653_116_350______MAR_O_NR_003/download/instrument_data.nc?provider=dedl",
           "roles": [
            "data"
           ],
           "title": "instrument_data.nc",
           "type": "application/x-netcdf"
          },
          "iop_lsd.nc": {
           "alternate": {
            "origin": {
             "href": "s3://eodata/Sentinel-3/OLCI/OL_2_WRR___/2024/09/09/S3A_OL_2_WRR____20240909T094730_20240909T103143_20240909T120430_2653_116_350______MAR_O_NR_003.SEN3/iop_lsd.nc",
             "title": "Origin asset link",
             "type": "application/x-netcdf"
            }
           },
           "href": "https://hda.data.destination-earth.eu/stac/collections/EO.EUM.DAT.SENTINEL-3.OL_2_WRR___/items/S3A_OL_2_WRR____20240909T094730_20240909T103143_20240909T120430_2653_116_350______MAR_O_NR_003/download/iop_lsd.nc?provider=dedl",
           "roles": [
            "data"
           ],
           "title": "iop_lsd.nc",
           "type": "application/x-netcdf"
          },
          "iop_nn.nc": {
           "alternate": {
            "origin": {
             "href": "s3://eodata/Sentinel-3/OLCI/OL_2_WRR___/2024/09/09/S3A_OL_2_WRR____20240909T094730_20240909T103143_20240909T120430_2653_116_350______MAR_O_NR_003.SEN3/iop_nn.nc",
             "title": "Origin asset link",
             "type": "application/x-netcdf"
            }
           },
           "href": "https://hda.data.destination-earth.eu/stac/collections/EO.EUM.DAT.SENTINEL-3.OL_2_WRR___/items/S3A_OL_2_WRR____20240909T094730_20240909T103143_20240909T120430_2653_116_350______MAR_O_NR_003/download/iop_nn.nc?provider=dedl",
           "roles": [
            "data"
           ],
           "title": "iop_nn.nc",
           "type": "application/x-netcdf"
          },
          "iwv.nc": {
           "alternate": {
            "origin": {
             "href": "s3://eodata/Sentinel-3/OLCI/OL_2_WRR___/2024/09/09/S3A_OL_2_WRR____20240909T094730_20240909T103143_20240909T120430_2653_116_350______MAR_O_NR_003.SEN3/iwv.nc",
             "title": "Origin asset link",
             "type": "application/x-netcdf"
            }
           },
           "href": "https://hda.data.destination-earth.eu/stac/collections/EO.EUM.DAT.SENTINEL-3.OL_2_WRR___/items/S3A_OL_2_WRR____20240909T094730_20240909T103143_20240909T120430_2653_116_350______MAR_O_NR_003/download/iwv.nc?provider=dedl",
           "roles": [
            "data"
           ],
           "title": "iwv.nc",
           "type": "application/x-netcdf"
          },
          "manifest.xml": {
           "alternate": {
            "origin": {
             "href": "s3://eodata/Sentinel-3/OLCI/OL_2_WRR___/2024/09/09/S3A_OL_2_WRR____20240909T094730_20240909T103143_20240909T120430_2653_116_350______MAR_O_NR_003.SEN3/manifest.xml",
             "title": "Origin asset link",
             "type": "text/xml"
            }
           },
           "href": "https://hda.data.destination-earth.eu/stac/collections/EO.EUM.DAT.SENTINEL-3.OL_2_WRR___/items/S3A_OL_2_WRR____20240909T094730_20240909T103143_20240909T120430_2653_116_350______MAR_O_NR_003/download/manifest.xml?provider=dedl",
           "roles": [
            "metadata"
           ],
           "title": "manifest.xml",
           "type": "text/xml"
          },
          "par.nc": {
           "alternate": {
            "origin": {
             "href": "s3://eodata/Sentinel-3/OLCI/OL_2_WRR___/2024/09/09/S3A_OL_2_WRR____20240909T094730_20240909T103143_20240909T120430_2653_116_350______MAR_O_NR_003.SEN3/par.nc",
             "title": "Origin asset link",
             "type": "application/x-netcdf"
            }
           },
           "href": "https://hda.data.destination-earth.eu/stac/collections/EO.EUM.DAT.SENTINEL-3.OL_2_WRR___/items/S3A_OL_2_WRR____20240909T094730_20240909T103143_20240909T120430_2653_116_350______MAR_O_NR_003/download/par.nc?provider=dedl",
           "roles": [
            "data"
           ],
           "title": "par.nc",
           "type": "application/x-netcdf"
          },
          "tie_geo_coordinates.nc": {
           "alternate": {
            "origin": {
             "href": "s3://eodata/Sentinel-3/OLCI/OL_2_WRR___/2024/09/09/S3A_OL_2_WRR____20240909T094730_20240909T103143_20240909T120430_2653_116_350______MAR_O_NR_003.SEN3/tie_geo_coordinates.nc",
             "title": "Origin asset link",
             "type": "application/x-netcdf"
            }
           },
           "href": "https://hda.data.destination-earth.eu/stac/collections/EO.EUM.DAT.SENTINEL-3.OL_2_WRR___/items/S3A_OL_2_WRR____20240909T094730_20240909T103143_20240909T120430_2653_116_350______MAR_O_NR_003/download/tie_geo_coordinates.nc?provider=dedl",
           "roles": [
            "data"
           ],
           "title": "tie_geo_coordinates.nc",
           "type": "application/x-netcdf"
          },
          "tie_geometries.nc": {
           "alternate": {
            "origin": {
             "href": "s3://eodata/Sentinel-3/OLCI/OL_2_WRR___/2024/09/09/S3A_OL_2_WRR____20240909T094730_20240909T103143_20240909T120430_2653_116_350______MAR_O_NR_003.SEN3/tie_geometries.nc",
             "title": "Origin asset link",
             "type": "application/x-netcdf"
            }
           },
           "href": "https://hda.data.destination-earth.eu/stac/collections/EO.EUM.DAT.SENTINEL-3.OL_2_WRR___/items/S3A_OL_2_WRR____20240909T094730_20240909T103143_20240909T120430_2653_116_350______MAR_O_NR_003/download/tie_geometries.nc?provider=dedl",
           "roles": [
            "data"
           ],
           "title": "tie_geometries.nc",
           "type": "application/x-netcdf"
          },
          "tie_meteo.nc": {
           "alternate": {
            "origin": {
             "href": "s3://eodata/Sentinel-3/OLCI/OL_2_WRR___/2024/09/09/S3A_OL_2_WRR____20240909T094730_20240909T103143_20240909T120430_2653_116_350______MAR_O_NR_003.SEN3/tie_meteo.nc",
             "title": "Origin asset link",
             "type": "application/x-netcdf"
            }
           },
           "href": "https://hda.data.destination-earth.eu/stac/collections/EO.EUM.DAT.SENTINEL-3.OL_2_WRR___/items/S3A_OL_2_WRR____20240909T094730_20240909T103143_20240909T120430_2653_116_350______MAR_O_NR_003/download/tie_meteo.nc?provider=dedl",
           "roles": [
            "data"
           ],
           "title": "tie_meteo.nc",
           "type": "application/x-netcdf"
          },
          "time_coordinates.nc": {
           "alternate": {
            "origin": {
             "href": "s3://eodata/Sentinel-3/OLCI/OL_2_WRR___/2024/09/09/S3A_OL_2_WRR____20240909T094730_20240909T103143_20240909T120430_2653_116_350______MAR_O_NR_003.SEN3/time_coordinates.nc",
             "title": "Origin asset link",
             "type": "application/x-netcdf"
            }
           },
           "href": "https://hda.data.destination-earth.eu/stac/collections/EO.EUM.DAT.SENTINEL-3.OL_2_WRR___/items/S3A_OL_2_WRR____20240909T094730_20240909T103143_20240909T120430_2653_116_350______MAR_O_NR_003/download/time_coordinates.nc?provider=dedl",
           "roles": [
            "data"
           ],
           "title": "time_coordinates.nc",
           "type": "application/x-netcdf"
          },
          "trsp.nc": {
           "alternate": {
            "origin": {
             "href": "s3://eodata/Sentinel-3/OLCI/OL_2_WRR___/2024/09/09/S3A_OL_2_WRR____20240909T094730_20240909T103143_20240909T120430_2653_116_350______MAR_O_NR_003.SEN3/trsp.nc",
             "title": "Origin asset link",
             "type": "application/x-netcdf"
            }
           },
           "href": "https://hda.data.destination-earth.eu/stac/collections/EO.EUM.DAT.SENTINEL-3.OL_2_WRR___/items/S3A_OL_2_WRR____20240909T094730_20240909T103143_20240909T120430_2653_116_350______MAR_O_NR_003/download/trsp.nc?provider=dedl",
           "roles": [
            "data"
           ],
           "title": "trsp.nc",
           "type": "application/x-netcdf"
          },
          "tsm_nn.nc": {
           "alternate": {
            "origin": {
             "href": "s3://eodata/Sentinel-3/OLCI/OL_2_WRR___/2024/09/09/S3A_OL_2_WRR____20240909T094730_20240909T103143_20240909T120430_2653_116_350______MAR_O_NR_003.SEN3/tsm_nn.nc",
             "title": "Origin asset link",
             "type": "application/x-netcdf"
            }
           },
           "href": "https://hda.data.destination-earth.eu/stac/collections/EO.EUM.DAT.SENTINEL-3.OL_2_WRR___/items/S3A_OL_2_WRR____20240909T094730_20240909T103143_20240909T120430_2653_116_350______MAR_O_NR_003/download/tsm_nn.nc?provider=dedl",
           "roles": [
            "data"
           ],
           "title": "tsm_nn.nc",
           "type": "application/x-netcdf"
          },
          "w_aer.nc": {
           "alternate": {
            "origin": {
             "href": "s3://eodata/Sentinel-3/OLCI/OL_2_WRR___/2024/09/09/S3A_OL_2_WRR____20240909T094730_20240909T103143_20240909T120430_2653_116_350______MAR_O_NR_003.SEN3/w_aer.nc",
             "title": "Origin asset link",
             "type": "application/x-netcdf"
            }
           },
           "href": "https://hda.data.destination-earth.eu/stac/collections/EO.EUM.DAT.SENTINEL-3.OL_2_WRR___/items/S3A_OL_2_WRR____20240909T094730_20240909T103143_20240909T120430_2653_116_350______MAR_O_NR_003/download/w_aer.nc?provider=dedl",
           "roles": [
            "data"
           ],
           "title": "w_aer.nc",
           "type": "application/x-netcdf"
          },
          "wqsf.nc": {
           "alternate": {
            "origin": {
             "href": "s3://eodata/Sentinel-3/OLCI/OL_2_WRR___/2024/09/09/S3A_OL_2_WRR____20240909T094730_20240909T103143_20240909T120430_2653_116_350______MAR_O_NR_003.SEN3/wqsf.nc",
             "title": "Origin asset link",
             "type": "application/x-netcdf"
            }
           },
           "href": "https://hda.data.destination-earth.eu/stac/collections/EO.EUM.DAT.SENTINEL-3.OL_2_WRR___/items/S3A_OL_2_WRR____20240909T094730_20240909T103143_20240909T120430_2653_116_350______MAR_O_NR_003/download/wqsf.nc?provider=dedl",
           "roles": [
            "data"
           ],
           "title": "wqsf.nc",
           "type": "application/x-netcdf"
          },
          "xfdumanifest.xml": {
           "alternate": {
            "origin": {
             "href": "s3://eodata/Sentinel-3/OLCI/OL_2_WRR___/2024/09/09/S3A_OL_2_WRR____20240909T094730_20240909T103143_20240909T120430_2653_116_350______MAR_O_NR_003.SEN3/xfdumanifest.xml",
             "title": "Origin asset link",
             "type": "text/xml"
            }
           },
           "href": "https://hda.data.destination-earth.eu/stac/collections/EO.EUM.DAT.SENTINEL-3.OL_2_WRR___/items/S3A_OL_2_WRR____20240909T094730_20240909T103143_20240909T120430_2653_116_350______MAR_O_NR_003/download/xfdumanifest.xml?provider=dedl",
           "roles": [
            "metadata"
           ],
           "title": "xfdumanifest.xml",
           "type": "text/xml"
          }
         },
         "bbox": [
          -45.9388,
          -67.9088,
          90.1507,
          89.3876
         ],
         "collection": "EO.EUM.DAT.SENTINEL-3.OL_2_WRR___",
         "geometry": {
          "coordinates": [
           [
            [
             -45.9388,
             -62.207
            ],
            [
             -44.8998,
             -62.5977
            ],
            [
             -43.8344,
             -62.9805
            ],
            [
             -42.7411,
             -63.3551
            ],
            [
             -41.6193,
             -63.7211
            ],
            [
             -40.4685,
             -64.0781
            ],
            [
             -39.2882,
             -64.4257
            ],
            [
             -38.078,
             -64.7635
            ],
            [
             -36.8377,
             -65.0913
            ],
            [
             -35.567,
             -65.4085
            ],
            [
             -34.2657,
             -65.7147
            ],
            [
             -32.9339,
             -66.0096
            ],
            [
             -31.5716,
             -66.2927
            ],
            [
             -30.179,
             -66.5637
            ],
            [
             -28.7564,
             -66.8219
            ],
            [
             -27.3043,
             -67.0671
            ],
            [
             -25.8234,
             -67.2987
            ],
            [
             -24.3145,
             -67.5165
            ],
            [
             -22.7786,
             -67.7199
            ],
            [
             -21.2168,
             -67.9088
            ],
            [
             -20.3456,
             -66.7917
            ],
            [
             -19.1203,
             -65.0487
            ],
            [
             -18.0229,
             -63.2986
            ],
            [
             -17.0303,
             -61.5425
            ],
            [
             -16.1249,
             -59.7813
            ],
            [
             -15.2914,
             -58.0159
            ],
            [
             -14.5187,
             -56.2469
            ],
            [
             -13.7977,
             -54.4745
            ],
            [
             -13.1211,
             -52.6989
            ],
            [
             -12.4824,
             -50.9212
            ],
            [
             -11.8766,
             -49.1405
            ],
            [
             -11.2995,
             -47.3575
            ],
            [
             -10.7475,
             -45.5728
            ],
            [
             -10.2171,
             -43.7861
            ],
            [
             -9.70585,
             -41.9974
            ],
            [
             -9.2114,
             -40.2073
            ],
            [
             -8.73219,
             -38.4155
            ],
            [
             -8.26616,
             -36.6218
            ],
            [
             -7.81119,
             -34.8273
            ],
            [
             -7.36687,
             -33.0313
            ],
            [
             -6.93149,
             -31.2339
            ],
            [
             -6.50393,
             -29.4353
            ],
            [
             -6.08319,
             -27.6359
            ],
            [
             -5.6687,
             -25.8351
            ],
            [
             -5.25927,
             -24.0334
            ],
            [
             -4.85418,
             -22.231
            ],
            [
             -4.4529,
             -20.4275
            ],
            [
             -4.05462,
             -18.6234
            ],
            [
             -3.65877,
             -16.8187
            ],
            [
             -3.26479,
             -15.0132
            ],
            [
             -2.87196,
             -13.2073
            ],
            [
             -2.47979,
             -11.4007
            ],
            [
             -2.08804,
             -9.59392
            ],
            [
             -1.69638,
             -7.78712
            ],
            [
             -1.30244,
             -5.97904
            ],
            [
             -0.908321,
             -4.1718
            ],
            [
             -0.512115,
             -2.36424
            ],
            [
             -0.1134,
             -0.556429
            ],
            [
             0.288069,
             1.25128
            ],
            [
             0.693278,
             3.05831
            ],
            [
             1.10247,
             4.86536
            ],
            [
             1.51602,
             6.67211
            ],
            [
             1.93517,
             8.47772
            ],
            [
             2.35963,
             10.2841
            ],
            [
             2.79103,
             12.0888
            ],
            [
             3.22983,
             13.8927
            ],
            [
             3.67609,
             15.6961
            ],
            [
             4.13169,
             17.4979
            ],
            [
             4.59708,
             19.2985
            ],
            [
             5.0728,
             21.0986
            ],
            [
             5.5605,
             22.8967
            ],
            [
             6.06137,
             24.6931
            ],
            [
             6.57614,
             26.4883
            ],
            [
             7.10674,
             28.2812
            ],
            [
             7.65494,
             30.0711
            ],
            [
             8.22148,
             31.8601
            ],
            [
             8.80875,
             33.6466
            ],
            [
             9.42009,
             35.4279
            ],
            [
             10.0565,
             37.2077
            ],
            [
             10.7204,
             38.9853
            ],
            [
             11.4164,
             40.758
            ],
            [
             12.1472,
             42.5271
            ],
            [
             12.9175,
             44.2905
            ],
            [
             13.7314,
             46.0492
            ],
            [
             14.5946,
             47.8029
            ],
            [
             15.5132,
             49.55
            ],
            [
             16.4952,
             51.2892
            ],
            [
             17.5488,
             53.0211
            ],
            [
             18.6844,
             54.7435
            ],
            [
             19.9139,
             56.4557
            ],
            [
             21.2527,
             58.1549
            ],
            [
             22.7175,
             59.8408
            ],
            [
             24.3298,
             61.5098
            ],
            [
             26.1158,
             63.1574
            ],
            [
             28.1053,
             64.7847
            ],
            [
             30.3383,
             66.382
            ],
            [
             32.8619,
             67.9447
            ],
            [
             35.733,
             69.467
            ],
            [
             39.0221,
             70.937
            ],
            [
             42.8139,
             72.3423
            ],
            [
             47.2054,
             73.6664
            ],
            [
             52.3034,
             74.8882
            ],
            [
             58.2113,
             75.9811
            ],
            [
             65.0047,
             76.9121
            ],
            [
             72.6926,
             77.6464
            ],
            [
             81.1564,
             78.1442
            ],
            [
             90.1507,
             78.3783
            ],
            [
             89.9841,
             78.9966
            ],
            [
             89.7979,
             79.6147
            ],
            [
             89.5884,
             80.2326
            ],
            [
             89.3509,
             80.8504
            ],
            [
             89.0793,
             81.4679
            ],
            [
             88.7658,
             82.0853
            ],
            [
             88.3998,
             82.7023
            ],
            [
             87.9666,
             83.3189
            ],
            [
             87.4459,
             83.9351
            ],
            [
             86.8074,
             84.5507
            ],
            [
             86.0077,
             85.1654
            ],
            [
             84.976,
             85.7789
            ],
            [
             83.5932,
             86.3905
            ],
            [
             81.6503,
             86.9992
            ],
            [
             78.7254,
             87.6028
            ],
            [
             73.8585,
             88.1959
            ],
            [
             64.3936,
             88.7635
            ],
            [
             41.2325,
             89.2458
            ],
            [
             -11.4044,
             89.3876
            ],
            [
             -0.850996,
             87.6294
            ],
            [
             0.464164,
             85.8593
            ],
            [
             0.847518,
             84.087
            ],
            [
             0.925762,
             82.3146
            ],
            [
             0.878704,
             80.5418
            ],
            [
             0.761895,
             78.7686
            ],
            [
             0.604358,
             76.995
            ],
            [
             0.420877,
             75.2211
            ],
            [
             0.21999,
             73.4468
            ],
            [
             0.006556,
             71.6719
            ],
            [
             -0.219358,
             69.8968
            ],
            [
             -0.451572,
             68.1211
            ],
            [
             -0.687332,
             66.3445
            ],
            [
             -0.932716,
             64.5683
            ],
            [
             -1.18018,
             62.7906
            ],
            [
             -1.43136,
             61.0124
            ],
            [
             -1.68706,
             59.2339
            ],
            [
             -1.94488,
             57.4544
            ],
            [
             -2.20633,
             55.6744
            ],
            [
             -2.47053,
             53.8936
            ],
            [
             -2.7381,
             52.1124
            ],
            [
             -3.00764,
             50.3301
            ],
            [
             -3.28006,
             48.547
            ],
            [
             -3.55539,
             46.7637
            ],
            [
             -3.83375,
             44.9796
            ],
            [
             -4.11416,
             43.1942
            ],
            [
             -4.39774,
             41.4086
            ],
            [
             -4.68318,
             39.6218
            ],
            [
             -4.97281,
             37.8348
            ],
            [
             -5.26638,
             36.0475
            ],
            [
             -5.56145,
             34.2588
            ],
            [
             -5.85995,
             32.4698
            ],
            [
             -6.16292,
             30.6807
            ],
            [
             -6.46892,
             28.8902
            ],
            [
             -6.77833,
             27.0998
            ],
            [
             -7.09213,
             25.309
            ],
            [
             -7.40988,
             23.5175
            ],
            [
             -7.73158,
             21.7258
            ],
            [
             -8.05836,
             19.9341
            ],
            [
             -8.3899,
             18.1419
            ],
            [
             -8.7258,
             16.3498
            ],
            [
             -9.06761,
             14.5578
            ],
            [
             -9.41488,
             12.7655
            ],
            [
             -9.76741,
             10.973
            ],
            [
             -10.1268,
             9.18163
            ],
            [
             -10.4923,
             7.38984
            ],
            [
             -10.8649,
             5.59877
            ],
            [
             -11.2448,
             3.80834
            ],
            [
             -11.6322,
             2.01813
            ],
            [
             -12.0279,
             0.228693
            ],
            [
             -12.4322,
             -1.55945
            ],
            [
             -12.8454,
             -3.34634
            ],
            [
             -13.2699,
             -5.13396
            ],
            [
             -13.7032,
             -6.91849
            ],
            [
             -14.148,
             -8.70156
            ],
            [
             -14.605,
             -10.4838
            ],
            [
             -15.0747,
             -12.264
            ],
            [
             -15.5579,
             -14.0423
            ],
            [
             -16.0556,
             -15.8185
            ],
            [
             -16.5691,
             -17.5923
            ],
            [
             -17.0992,
             -19.3636
            ],
            [
             -17.6475,
             -21.1318
            ],
            [
             -18.2152,
             -22.8973
            ],
            [
             -18.8037,
             -24.6592
            ],
            [
             -19.4153,
             -26.4174
            ],
            [
             -20.0513,
             -28.1717
            ],
            [
             -20.714,
             -29.9217
            ],
            [
             -21.4057,
             -31.6668
            ],
            [
             -22.1295,
             -33.4064
            ],
            [
             -22.8873,
             -35.1409
            ],
            [
             -23.6829,
             -36.8687
            ],
            [
             -24.5203,
             -38.5893
            ],
            [
             -25.4033,
             -40.3027
            ],
            [
             -26.3365,
             -42.0075
            ],
            [
             -27.325,
             -43.7029
            ],
            [
             -28.3751,
             -45.3882
            ],
            [
             -29.4936,
             -47.0618
            ],
            [
             -30.688,
             -48.7221
            ],
            [
             -31.9675,
             -50.3684
            ],
            [
             -33.342,
             -51.9981
            ],
            [
             -34.8232,
             -53.6094
            ],
            [
             -36.4243,
             -55.1996
            ],
            [
             -38.1604,
             -56.766
            ],
            [
             -40.0498,
             -58.3048
            ],
            [
             -42.1121,
             -59.812
            ],
            [
             -44.3698,
             -61.2827
            ],
            [
             -45.9388,
             -62.207
            ]
           ]
          ],
          "type": "Polygon"
         },
         "id": "S3A_OL_2_WRR____20240909T094730_20240909T103143_20240909T120430_2653_116_350______MAR_O_NR_003",
         "links": [
          {
           "href": "https://hda.data.destination-earth.eu/stac/collections/EO.EUM.DAT.SENTINEL-3.OL_2_WRR___/items/S3A_OL_2_WRR____20240909T094730_20240909T103143_20240909T120430_2653_116_350______MAR_O_NR_003",
           "rel": "self",
           "title": "S3A_OL_2_WRR____20240909T094730_20240909T103143_20240909T120430_2653_116_350______MAR_O_NR_003"
          },
          {
           "href": "https://hda.data.destination-earth.eu/stac/",
           "rel": "root"
          },
          {
           "href": "https://hda.data.destination-earth.eu/stac/collections/EO.EUM.DAT.SENTINEL-3.OL_2_WRR___",
           "rel": "parent",
           "title": "EO.EUM.DAT.SENTINEL-3.OL_2_WRR___"
          },
          {
           "href": "https://hda.data.destination-earth.eu/stac/collections/EO.EUM.DAT.SENTINEL-3.OL_2_WRR___",
           "rel": "collection",
           "title": "EO.EUM.DAT.SENTINEL-3.OL_2_WRR___"
          }
         ],
         "properties": {
          "constellation": "SENTINEL-3",
          "datetime": "2024-09-09T09:47:29.758562Z",
          "dedl:alias": "EO.EUM.DAT.SENTINEL-3.OL_2_WRR___",
          "dedl:baselineCollection": "003",
          "dedl:beginningDateTime": "2024-09-09T09:47:29.758562Z",
          "dedl:endingDateTime": "2024-09-09T10:31:43.230721Z",
          "dedl:productIdentifier": "/eodata/Sentinel-3/OLCI/OL_2_WRR___/2024/09/09/S3A_OL_2_WRR____20240909T094730_20240909T103143_20240909T120430_2653_116_350______MAR_O_NR_003.SEN3",
          "dedl:scope": {
           "discover": null,
           "download": "hda-public-data-access",
           "search": "hda-public-data-access"
          },
          "dedl:timeliness": "NR",
          "dedl:uid": "36155c3a-e083-4ded-a397-a375fda1850f",
          "description": "OLCI (Ocean and Land Colour Instrument) Ocean Colour Geophysical Products. Reduced Resolution: 1200m at nadir. Level 2 marine products include the following: * water-leaving reflectances in 16 bands, Oa**_reflectance (Baseline Atmospheric Correction (BAC) algorithm, bands: 400, 412, 442, 490, 510, 560, 620, 665, 674, 681, 709, 754, 779, 865, 885, 1024 nanometer (nm)); *algal pigment concentration in clear waters, chl_oc4me (BAC and maximum band ratio algorithm, log10 scaled); *algal pigment concentration in turbid waters, chl_nn (neural net algorithm, log10 scaled); *total suspended matter concentration, tsm_nn (neural net algorithm, log10 scaled); *diffuse attenuation coefficient Kd of downward irradiance at 490 nm, trsp (BAC and M07 algorithm, log10 scaled); *absorption coefficient at 443 nm of coloured detrital and dissolved organic matter, iop_nn (neural net algorithm, log10 scaled); *instantaneous photosynthetically active radiation, PAR (BAC and clear-sky ocean algorithm); *aerosol optical thickness T865 and aerosol Angstrom exponent A865, w_aer (BAC algorithm, A for bands 779 and 865 nm) *integrated water vapour column, iwv (1D-Var algorithm). The geophysical products are accompanied by error estimate products. Pixel classification, quality and science flags, as well as meteorological, geometry and geolocation data at tie points are provided. \n\n- All Sentinel-3 NRT products are available at pick-up point in less than 3h\n- All Sentinel-3 Non Time Critical (NTC) products are available at pick-up point in less than 30 days.\nSentinel-3 is part of a series of Sentinel satellites, under the umbrella of the EU Copernicus programme.",
          "end_datetime": "2024-09-09T10:31:43.230721Z",
          "instruments": [
           "OLCI"
          ],
          "license": "proprietary",
          "order:status": "succeeded",
          "platform": "SENTINEL-3A,SENTINEL-3B",
          "processing:level": 2,
          "providers": [
           {
            "description": "DestineE Data Lake Fresh Data Pool",
            "name": "dedl",
            "priority": 1,
            "roles": [
             "host"
            ],
            "url": "https://creodias.eu/"
           }
          ],
          "published": "2024-09-09T12:42:09.434315Z",
          "sar:instrument_mode": "Earth Observation",
          "sar:product_type": "OL_2_WRR___",
          "sat:absolute_orbit": 44598,
          "sat:orbit_state": "DESCENDING",
          "sat:relative_orbit": 350,
          "start_datetime": "2024-09-09T09:47:29.758562Z",
          "updated": "2024-09-09T12:54:05.627512Z"
         },
         "stac_extensions": [
          "https://stac-extensions.github.io/timestamps/v1.0.0/schema.json",
          "https://stac-extensions.github.io/processing/v1.0.0/schema.json",
          "https://stac-extensions.github.io/sat/v1.0.0/schema.json",
          "https://stac-extensions.github.io/sar/v1.0.0/schema.json",
          "https://stac-extensions.github.io/order/v1.1.0/schema.json"
         ],
         "stac_version": "1.0.0",
         "type": "Feature"
        }
       ],
       "links": [
        {
         "href": "https://hda.data.destination-earth.eu/stac/collections/EO.EUM.DAT.SENTINEL-3.OL_2_WRR___/items",
         "rel": "self",
         "title": "items"
        },
        {
         "href": "https://hda.data.destination-earth.eu/stac/",
         "rel": "root"
        },
        {
         "href": "https://hda.data.destination-earth.eu/stac/collections/EO.EUM.DAT.SENTINEL-3.OL_2_WRR___",
         "rel": "parent",
         "title": "EO.EUM.DAT.SENTINEL-3.OL_2_WRR___"
        },
        {
         "body": {
          "bbox": [
           -11,
           35,
           50,
           72
          ],
          "collections": [
           "EO.EUM.DAT.SENTINEL-3.OL_2_WRR___"
          ],
          "datetime": "2024-09-08T00:00:00Z/2024-09-09T23:59:59Z",
          "limit": 3,
          "page": 2,
          "sortby": [
           {
            "direction": "desc",
            "field": "datetime"
           }
          ]
         },
         "href": "https://hda.data.destination-earth.eu/stac/search",
         "method": "POST",
         "rel": "next",
         "title": "Next page",
         "type": "application/geo+json"
        }
       ],
       "numberMatched": 23,
       "numberReturned": 3,
       "stac_extensions": [],
       "stac_version": "1.0.0",
       "timeStamp": "2024-09-09T15:09:35.232899Z",
       "type": "FeatureCollection"
      },
      "text/plain": [
       "<IPython.core.display.JSON object>"
      ]
     },
     "execution_count": 14,
     "metadata": {
      "application/json": {
       "expanded": false,
       "root": "root"
      }
     },
     "output_type": "execute_result"
    }
   ],
   "source": [
    "BODY = {\n",
    "    \"collections\": [\n",
    "        COLLECTION_ID,\n",
    "    ],\n",
    "    \"datetime\" : \"2024-09-08T00:00:00Z/2024-09-09T23:59:59Z\",\n",
    "    \"bbox\": [-11,35,\n",
    "              50,72 ],\n",
    "    \"sortby\": [{\"field\": \"datetime\",\"direction\": \"desc\"}\n",
    "              ],\n",
    "    \"limit\": 3,\n",
    "}\n",
    "\n",
    "r=requests.post(SEARCH_URL, json=BODY, headers=auth_headers)\n",
    "\n",
    "JSON(r.json(), expanded=False)   "
   ]
  },
  {
   "cell_type": "markdown",
   "id": "efbcb5f2-0d93-4ad8-a1d0-b0e5467b24b6",
   "metadata": {
    "tags": []
   },
   "source": [
    "## Download\n",
    "\n",
    "Once obtained the search results we can download the returned data."
   ]
  },
  {
   "cell_type": "code",
   "execution_count": null,
   "id": "684c8321-b39f-4431-8980-b7711fe51bc1",
   "metadata": {},
   "outputs": [],
   "source": [
    "#select the first item in the result to download\n",
    "product = r.json()[\"features\"][0]\n",
    "\n",
    "# DownloadLink is an asset representing the whole product\n",
    "download_url = product[\"assets\"][\"downloadLink\"][\"href\"]\n",
    "ITEM_ID = product[\"id\"]\n",
    "\n",
    "response = requests.get(download_url,stream=True,headers=auth_headers)\n",
    "\n",
    "# If the request was successful, download the file\n",
    "if (response.status_code == HTTP_SUCCESS_CODE):\n",
    "        print(\"Downloading ...\")\n",
    "        filename = ITEM_ID + \".zip\"\n",
    "        with open(filename, 'wb') as f:\n",
    "            for chunk in r.iter_content(chunk_size=1024): \n",
    "                if chunk:\n",
    "                    f.write(chunk)\n",
    "                    f.flush()\n",
    "        print(\"The dataset has been downloaded to: {}\".format(filename))\n",
    "else: print(\"Request Unsuccessful! Error-Code: {}\".format(response.status_code))"
   ]
  },
  {
   "cell_type": "code",
   "execution_count": null,
   "id": "bded25fb-3634-4e68-a98b-946fda873954",
   "metadata": {},
   "outputs": [],
   "source": []
  }
 ],
 "metadata": {
  "kernelspec": {
   "display_name": "Python DEDL",
   "language": "python",
   "name": "python_dedl"
  },
  "language_info": {
   "codemirror_mode": {
    "name": "ipython",
    "version": 3
   },
   "file_extension": ".py",
   "mimetype": "text/x-python",
   "name": "python",
   "nbconvert_exporter": "python",
   "pygments_lexer": "ipython3",
   "version": "3.11.4"
  }
 },
 "nbformat": 4,
 "nbformat_minor": 5
}

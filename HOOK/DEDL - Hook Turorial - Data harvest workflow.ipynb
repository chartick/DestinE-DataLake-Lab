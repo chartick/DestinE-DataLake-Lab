{
 "cells": [
  {
   "cell_type": "markdown",
   "metadata": {
    "tags": []
   },
   "source": [
    "![](https://github.com/destination-earth/DestinE-DataLake-Lab/blob/main/img/DestinE-banner.jpg?raw=true)"
   ]
  },
  {
   "cell_type": "markdown",
   "metadata": {},
   "source": [
    "# DEDL - Hook Tutorial"
   ]
  },
  {
   "cell_type": "markdown",
   "metadata": {
    "id": "yvO6LeZHsz2Q"
   },
   "source": [
    "This notebook demonstrates how to use the Hook service."
   ]
  },
  {
   "cell_type": "markdown",
   "metadata": {
    "tags": []
   },
   "source": [
    "The detailed API and definition of each endpoint and parameters is available in the OnDemand Processing API  Swagger UI at:\n",
    "https://odp.data.destination-earth.eu/odata/docs\n",
    "\n",
    "Further documentation is available at:\n",
    "    https://destine-data-lake-docs.data.destination-earth.eu/en/latest/dedl-big-data-processing-services/Hook-service/Hook-service.html"
   ]
  },
  {
   "cell_type": "markdown",
   "metadata": {},
   "source": [
    "### Install package and import environment variables "
   ]
  },
  {
   "cell_type": "code",
   "execution_count": 17,
   "metadata": {
    "tags": []
   },
   "outputs": [
    {
     "name": "stdout",
     "output_type": "stream",
     "text": [
      "Requirement already satisfied: destine-auth in /opt/conda/lib/python3.11/site-packages (0.1)\n",
      "Requirement already satisfied: requests in /opt/conda/lib/python3.11/site-packages (from destine-auth) (2.31.0)\n",
      "Requirement already satisfied: lxml in /opt/conda/lib/python3.11/site-packages (from destine-auth) (5.2.1)\n",
      "Requirement already satisfied: charset-normalizer<4,>=2 in /opt/conda/lib/python3.11/site-packages (from requests->destine-auth) (3.2.0)\n",
      "Requirement already satisfied: idna<4,>=2.5 in /opt/conda/lib/python3.11/site-packages (from requests->destine-auth) (3.4)\n",
      "Requirement already satisfied: urllib3<3,>=1.21.1 in /opt/conda/lib/python3.11/site-packages (from requests->destine-auth) (2.0.4)\n",
      "Requirement already satisfied: certifi>=2017.4.17 in /opt/conda/lib/python3.11/site-packages (from requests->destine-auth) (2024.2.2)\n"
     ]
    }
   ],
   "source": [
    "#install DEDL authentification package to simplify your code\n",
    "!pip install destine-auth"
   ]
  },
  {
   "cell_type": "code",
   "execution_count": 18,
   "metadata": {
    "id": "oyJN4WaVsz2S",
    "tags": []
   },
   "outputs": [],
   "source": [
    "import json\n",
    "#from io import BytesIO\n",
    "#from urllib.parse import urlencode\n",
    "#import pycurl\n",
    "import requests\n",
    "from getpass import getpass\n",
    "import destine_auth as destine_auth"
   ]
  },
  {
   "cell_type": "markdown",
   "metadata": {},
   "source": [
    "### Authentification - Get token"
   ]
  },
  {
   "cell_type": "code",
   "execution_count": 19,
   "metadata": {
    "tags": []
   },
   "outputs": [
    {
     "name": "stdin",
     "output_type": "stream",
     "text": [
      "Please input your DESP username:  dana.puechmaille@gmail.com\n",
      "Please input your DESP password:  ········\n"
     ]
    },
    {
     "name": "stdout",
     "output_type": "stream",
     "text": [
      "Response code: 200\n",
      "DEDL/DESP Access Token Obtained Successfully\n"
     ]
    }
   ],
   "source": [
    "#Request DESP credentials\n",
    "username = input(\"Please input your DESP username: \")\n",
    "password = getpass(\"Please input your DESP password: \")\n",
    "\n",
    "token = destine_auth.AuthHandler(DESP_USERNAME, DESP_PASSWORD)          \n",
    "access_token = token.get_token()\n",
    " \n",
    "# Check the status of the request\n",
    "if access_token is not None:\n",
    "    print(\"DEDL/DESP Access Token Obtained Successfully\")\n",
    "    #Save API headers\n",
    "    api_headers = {'Authorization': 'Bearer ' + access_token}\n",
    "else:\n",
    "    print(\"Failed to Obtain DEDL/DESP Access Token\") "
   ]
  },
  {
   "cell_type": "markdown",
   "metadata": {},
   "source": [
    "### Setup static variables"
   ]
  },
  {
   "cell_type": "code",
   "execution_count": 20,
   "metadata": {
    "tags": []
   },
   "outputs": [],
   "source": [
    "# Hook service url (ending with odata/v1/ - e.g. https://odp.data.destination-earth.eu/odata/v1/)\n",
    "hook_service_root_url = \"https://odp.data.destination-earth.eu/odata/v1/\"\n"
   ]
  },
  {
   "cell_type": "markdown",
   "metadata": {
    "id": "OlvgrvV3sz2Y"
   },
   "source": [
    "# List available workflows\n",
    "Next we can check what possible workflows are available to us by using method   \n",
    "```https://odp.data.destination-earth.eu/odata/v1/Workflows```"
   ]
  },
  {
   "cell_type": "code",
   "execution_count": 21,
   "metadata": {
    "id": "gSxYUs_0sz2Z",
    "tags": []
   },
   "outputs": [
    {
     "name": "stdout",
     "output_type": "stream",
     "text": [
      "List of available provided Hook\n",
      "Sentinel-2: SNAP-Biophysical\n",
      "Sentinel-1: Terrain-corrected backscatter (Private)\n",
      "Sentinel-1 Coherence/Interferometry\n",
      "Copernicus DEM Mosaic\n",
      "Sentinel-2: MAJA Atmospheric Correction\n",
      "Sentinel-2: C2RCC\n",
      "Data harvest\n",
      "ODP Test\n",
      "DEDL Hello World\n",
      "Sentinel-2: Sen2Cor\n"
     ]
    }
   ],
   "source": [
    "#Send request and return json object listing all provided workfows\n",
    "result = requests.get(hook_service_root_url+\"Workflows\", headers=api_headers).json()\n",
    "\n",
    "#Print provided workflows name\n",
    "print(\"List of available provided Hook\")\n",
    "for i in range(len(result['value'])):            \n",
    "    print(result['value'][i]['DisplayName']) # print JSON string "
   ]
  },
  {
   "cell_type": "code",
   "execution_count": 22,
   "metadata": {
    "tags": []
   },
   "outputs": [],
   "source": [
    "#Print JSON object: provided workflow list\n",
    "#print(result, indent=3)"
   ]
  },
  {
   "cell_type": "markdown",
   "metadata": {
    "tags": []
   },
   "source": [
    "# Select a workflow and see parameters"
   ]
  },
  {
   "cell_type": "markdown",
   "metadata": {
    "id": "jNSqMuRCsz2Z"
   },
   "source": [
    "If we want to see the details of a specific workflow, for example aditional parameters that can be changed we can do that too   \n",
    "```https://odp.data.destination-earth.eu/odata/v1/Workflows?$expand=WorkflowOptions&$filter=(Name eq data-harvest)```   \n",
    "**\\\\$expand=WorkflowOptions** shows all parameters accepted by workflow   \n",
    "**\\\\$filter=(Name eq lai)** narrows the result to workflow called \"lai\" (processor computing Leaf Area Index)"
   ]
  },
  {
   "cell_type": "code",
   "execution_count": 58,
   "metadata": {
    "id": "UEvKzPclsz2b",
    "tags": []
   },
   "outputs": [
    {
     "data": {
      "text/plain": [
       "{'@odata.context': '$metadata#Workflows/$entity',\n",
       " 'value': [{'Id': '11',\n",
       "   'Uuid': None,\n",
       "   'Name': 'data-harvest',\n",
       "   'DisplayName': 'Data harvest',\n",
       "   'Documentation': None,\n",
       "   'Description': None,\n",
       "   'InputProductType': None,\n",
       "   'InputProductTypes': [],\n",
       "   'OutputProductType': None,\n",
       "   'OutputProductTypes': [],\n",
       "   'WorkflowVersion': '0.0.1',\n",
       "   'WorkflowOptions': [{'Name': 'input_catalogue_url',\n",
       "     'Description': '',\n",
       "     'Type': 'str',\n",
       "     'Default': None,\n",
       "     'Value': None,\n",
       "     'Required': False},\n",
       "    {'Name': 'input_catalogue_collection',\n",
       "     'Description': '',\n",
       "     'Type': 'str',\n",
       "     'Default': None,\n",
       "     'Value': None,\n",
       "     'Required': False},\n",
       "    {'Name': 'input_catalogue_type',\n",
       "     'Description': \"Catalogue type: one from ['STAC', 'ODATA']\",\n",
       "     'Type': 'CatalogueType',\n",
       "     'Default': None,\n",
       "     'Value': ['STAC', 'ODATA'],\n",
       "     'Required': False},\n",
       "    {'Name': 'source_server_url',\n",
       "     'Description': '',\n",
       "     'Type': 'str',\n",
       "     'Default': None,\n",
       "     'Value': None,\n",
       "     'Required': False},\n",
       "    {'Name': 'source_realm',\n",
       "     'Description': '',\n",
       "     'Type': 'str',\n",
       "     'Default': None,\n",
       "     'Value': None,\n",
       "     'Required': False},\n",
       "    {'Name': 'source_client_id',\n",
       "     'Description': '',\n",
       "     'Type': 'str',\n",
       "     'Default': None,\n",
       "     'Value': None,\n",
       "     'Required': False},\n",
       "    {'Name': 'source_client_secret',\n",
       "     'Description': '',\n",
       "     'Type': 'str',\n",
       "     'Default': None,\n",
       "     'Value': None,\n",
       "     'Required': False},\n",
       "    {'Name': 'source_username',\n",
       "     'Description': '',\n",
       "     'Type': 'str',\n",
       "     'Default': None,\n",
       "     'Value': None,\n",
       "     'Required': False},\n",
       "    {'Name': 'source_password',\n",
       "     'Description': '',\n",
       "     'Type': 'str',\n",
       "     'Default': None,\n",
       "     'Value': None,\n",
       "     'Required': False},\n",
       "    {'Name': 'output_storage',\n",
       "     'Description': 'Output storage type - either PRIVATE or TEMPORARY. PRIVATE storage requires s3 config. (default: PRIVATE)',\n",
       "     'Type': 'CustomOutputStorageType',\n",
       "     'Default': 'PRIVATE',\n",
       "     'Value': ['PRIVATE', 'TEMPORARY'],\n",
       "     'Required': False},\n",
       "    {'Name': 's3_endpoint_url',\n",
       "     'Description': '',\n",
       "     'Type': 'str',\n",
       "     'Default': None,\n",
       "     'Value': None,\n",
       "     'Required': False},\n",
       "    {'Name': 's3_bucket',\n",
       "     'Description': '',\n",
       "     'Type': 'str',\n",
       "     'Default': None,\n",
       "     'Value': None,\n",
       "     'Required': False},\n",
       "    {'Name': 's3_access_key',\n",
       "     'Description': '',\n",
       "     'Type': 'str',\n",
       "     'Default': None,\n",
       "     'Value': None,\n",
       "     'Required': False},\n",
       "    {'Name': 's3_secret_key',\n",
       "     'Description': '',\n",
       "     'Type': 'str',\n",
       "     'Default': None,\n",
       "     'Value': None,\n",
       "     'Required': False},\n",
       "    {'Name': 's3_prefix',\n",
       "     'Description': '',\n",
       "     'Type': 'str',\n",
       "     'Default': None,\n",
       "     'Value': None,\n",
       "     'Required': False},\n",
       "    {'Name': 'input_catalogue_name',\n",
       "     'Description': 'Name of the input catalogue',\n",
       "     'Type': 'str',\n",
       "     'Default': None,\n",
       "     'Value': None,\n",
       "     'Required': False}],\n",
       "   'CustomInputSource': True,\n",
       "   'InputProductStatusOffline': False}]}"
      ]
     },
     "execution_count": 58,
     "metadata": {},
     "output_type": "execute_result"
    }
   ],
   "source": [
    "#Select workflow \n",
    "workflow = \"'data-harvest'\" #example with data-haverst workflow\n",
    "\n",
    "#Set Parameter filter\n",
    "parameters = \"Workflows?$expand=WorkflowOptions&$filter=(Name eq \"\n",
    "\n",
    "#Send request\n",
    "result = requests.get(hook_service_root_url\n",
    "                                  + parameters+workflow+\")\",\n",
    "                                  headers=api_headers).json()\n",
    "workflow_details = json.dumps(result, indent=2)\n",
    "print(workflow_details) # print JSON string \n",
    "\n"
   ]
  },
  {
   "cell_type": "markdown",
   "metadata": {},
   "source": [
    "## Order provided workflow: Data-"
   ]
  },
  {
   "cell_type": "markdown",
   "metadata": {},
   "source": [
    "#Select workflow\n",
    "workflow = \"data-harvest\"Make an order to harvest data using Harmonised Data Access API"
   ]
  },
  {
   "cell_type": "code",
   "execution_count": 24,
   "metadata": {
    "tags": []
   },
   "outputs": [],
   "source": [
    "#Select workflow\n",
    "workflow = \"data-harvest\""
   ]
  },
  {
   "cell_type": "markdown",
   "metadata": {
    "tags": []
   },
   "source": [
    "### Name your order"
   ]
  },
  {
   "cell_type": "code",
   "execution_count": 26,
   "metadata": {
    "tags": []
   },
   "outputs": [
    {
     "name": "stdin",
     "output_type": "stream",
     "text": [
      "Name your order:  TEST-DPu\n"
     ]
    }
   ],
   "source": [
    "#ID of the run\n",
    "order_name=input(\"Name your order: \")"
   ]
  },
  {
   "cell_type": "markdown",
   "metadata": {},
   "source": [
    "### Define output storage"
   ]
  },
  {
   "cell_type": "markdown",
   "metadata": {},
   "source": [
    "In workflow parameters, among others values, storage to retreive the result has to be provided.  \n",
    "**Two possibilites:**\n",
    "1. Use your user storage \n",
    "2. Use a temporary storage "
   ]
  },
  {
   "cell_type": "markdown",
   "metadata": {
    "tags": []
   },
   "source": [
    "#### 1. - Your user storage (provided by DEDL ISLET service)"
   ]
  },
  {
   "cell_type": "markdown",
   "metadata": {},
   "source": [
    "Example using a S3 bucket created with ISLET Storage service  - result will be available in this bucket\n",
    "> *workflow parameter: {\"Name\": \"output_storage\", \"Value\": \"PRIVATE\"}*"
   ]
  },
  {
   "cell_type": "code",
   "execution_count": 27,
   "metadata": {
    "tags": []
   },
   "outputs": [],
   "source": [
    "# Output storage - Islet service\n",
    "# URL of the S3 endpoint in the Central Site \n",
    "output_storage_url = \"https://s3.central.data.destination-earth.eu\"\n",
    "# name of the object storage bucket where the results will be stored\n",
    "output_bucket = \"your-bucket-name\"\n",
    "# Islet object storage credentials (openstack ec2 credentials)\n",
    "output_storage_access_key = \"your-access-key\"\n",
    "output_storage_secret_key = \"your-secret-key\"\n",
    "output_prefix = \"dedl_\" + order_name"
   ]
  },
  {
   "cell_type": "markdown",
   "metadata": {},
   "source": [
    "#### 2 - Use temporary storage"
   ]
  },
  {
   "cell_type": "markdown",
   "metadata": {},
   "source": [
    "The result of processing will be stored in shared storage and download link provided in the output product details\n",
    "> *workflow parameter: {\"Name\": \"output_storage\", \"Value\": \"TEMPORARY\"}*"
   ]
  },
  {
   "cell_type": "markdown",
   "metadata": {},
   "source": [
    "### Define parameters and send order"
   ]
  },
  {
   "cell_type": "markdown",
   "metadata": {
    "id": "Sjf2TMqDsz2b"
   },
   "source": [
    "TODO: Update text\n",
    "Now we can order a couple of products (we're ordering multiple products one by one to show the priority later, usually ordering multiple products can be done in a single call by using endpoint   \n",
    "```https://odp.data.destination-earth.eu/odata/v1/BatchOrder/OData.CSC.Order```   "
   ]
  },
  {
   "cell_type": "code",
   "execution_count": 28,
   "metadata": {
    "tags": []
   },
   "outputs": [
    {
     "name": "stdout",
     "output_type": "stream",
     "text": [
      "https://hda.data.destination-earth.eu/stac/collections/EO.ESA.DAT.SENTINEL-2.MSI.L2A\n"
     ]
    }
   ],
   "source": [
    "#Data have been previously discovered and search\n",
    "STAC_HDA_API_URL = \"https://hda.data.destination-earth.eu/stac\"\n",
    "COLLECTION_ID = \"EO.ESA.DAT.SENTINEL-2.MSI.L2A\"\n",
    "print(STAC_HDA_API_URL+\"/collections/\"+COLLECTION_ID)"
   ]
  },
  {
   "cell_type": "code",
   "execution_count": 60,
   "metadata": {
    "tags": []
   },
   "outputs": [
    {
     "data": {
      "text/plain": [
       "<module 'requests' from '/opt/conda/lib/python3.11/site-packages/requests/__init__.py'>"
      ]
     },
     "execution_count": 60,
     "metadata": {},
     "output_type": "execute_result"
    }
   ],
   "source": [
    "#data to retreive\n",
    "data_id = \"S2A_MSIL2A_20180124T092251_N0213_R093_T35TLG_20210214T010009.SAFE\"\n",
    "\n",
    "#Build your order body \n",
    "# order_body_custom_bucket = {\n",
    "#         \"Name\": \"DEDL - Hook tutorial - custom bucket - \" + workflow + \" - \" + order_name,\n",
    "#         \"WorkflowName\": workflow,\n",
    "#         \"IdentifierList\": [data_id],\n",
    "#         \"WorkflowOptions\":[\n",
    "#             {\"Name\":\"s3_bucket\", \"Value\": output_bucket},\n",
    "#             {\"Name\":\"s3_access_key\", \"Value\": output_storage_access_key},\n",
    "#             {\"Name\":\"s3_secret_key\", \"Value\": output_storage_secret_key},\n",
    "#             {\"Name\":\"s3_prefix\", \"Value\": output_prefix},\n",
    "#             {\"Name\":\"s3_endpoint_url\", \"Value\": output_storage_url},\n",
    "#             {\"Name\": \"input_catalogue_type\", \"Value\": \"STAC\"},\n",
    "#             {\"Name\": \"input_catalogue_url\", \"Value\": \"https://hda.data.destination-earth.eu/stac\"},\n",
    "#             {\"Name\": \"input_catalogue_collection\", \"Value\": \"EO.ESA.DAT.SENTINEL-2.MSI.L2A\"},\n",
    "#             {\"Name\": \"source_client_id\", \"Value\": \"hda-public\"},\n",
    "#             {\"Name\": \"source_client_secret\", \"Value\": \"\"},\n",
    "#             {\"Name\": \"source_username\", \"Value\": username},\n",
    "#             {\"Name\": \"source_password\", \"Value\": password},\n",
    "#             {\"Name\": \"source_realm\", \"Value\": \"dedl\"},\n",
    "#             {\"Name\": \"source_server_url\", \"Value\": \"https://identity.data.destination-earth.eu/auth\"}    \n",
    "#         ]\n",
    "#     }\n",
    "\n",
    "#Order body example with temporary storage\n",
    "\n",
    "order_body_custom_bucket = {\n",
    "       \"Name\": \"DEDL - Hook tutorial - temporary storage - \" + workflow + \" - \" + order_name,\n",
    "       \"WorkflowName\": workflow,\n",
    "       \"IdentifierList\": [data_id],\n",
    "       \"WorkflowOptions\":[\n",
    "           {\"Name\": \"output_storage\", \"Value\": \"TEMPORARY\"},\n",
    "           {\"Name\": \"input_catalogue_type\", \"Value\": \"STAC\"},\n",
    "           {\"Name\": \"input_catalogue_url\", \"Value\": \"https://hda.data.destination-earth.eu/stac\"},\n",
    "           {\"Name\": \"input_catalogue_collection\", \"Value\": \"EO.ESA.DAT.SENTINEL-2.MSI.L2A\"},\n",
    "           {\"Name\": \"source_client_id\", \"Value\": \"hda-public\"},\n",
    "           {\"Name\": \"source_client_secret\", \"Value\": \"\"},\n",
    "           {\"Name\": \"source_username\", \"Value\": username},\n",
    "           {\"Name\": \"source_password\", \"Value\": password},\n",
    "           {\"Name\": \"source_realm\", \"Value\": \"dedl\"},\n",
    "           {\"Name\": \"source_server_url\", \"Value\": \"https://identity.data.destination-earth.eu/auth\"}    \n",
    "       ]\n",
    "   }\n",
    "\n",
    "order_request = requests.post(hook_service_root_url+\"BatchOrder/OData.CSC.Order\",\n",
    "                            json.dumps(order_body_custom_bucket),headers=api_headers).json()\n",
    "\n",
    "#If code = 201, the order has been successfully sent\n",
    "print(order_request)"
   ]
  },
  {
   "cell_type": "markdown",
   "metadata": {},
   "source": [
    "### Check The status of the order\n",
    "\n",
    "Possible status\n",
    "- queued (i.e. queued for treatment but not started)\n",
    "- in_progress (i.e. order being treated)\n",
    "- completed (i.e. order is complete and data ready)"
   ]
  },
  {
   "cell_type": "code",
   "execution_count": 64,
   "metadata": {
    "tags": []
   },
   "outputs": [
    {
     "data": {
      "text/plain": [
       "{'@odata.context': '$metadata#ProductionOrder/$entity',\n",
       " 'value': [{'Id': '11932',\n",
       "   'Status': 'in_progress',\n",
       "   'StatusMessage': 'request is under processing',\n",
       "   'SubmissionDate': '2024-05-03T15:22:14.104Z',\n",
       "   'Name': 'DEDL - Hook tutorial - temporary storage - data-harvest - TEST-DPu',\n",
       "   'EstimatedDate': '2024-05-03T15:54:05.819Z',\n",
       "   'InputProductReference': {'Reference': 'S2A_MSIL2A_20180124T092251_N0213_R093_T35TLG_20210214T010009.SAFE',\n",
       "    'ContentDate': None},\n",
       "   'WorkflowOptions': [{'Name': 'brand', 'Value': 'dedl'},\n",
       "    {'Name': 'platform', 'Value': 'creodias'},\n",
       "    {'Name': 'version', 'Value': '0.0.1'},\n",
       "    {'Name': 'output_storage', 'Value': 'TEMPORARY'},\n",
       "    {'Name': 'input_catalogue_type', 'Value': 'STAC'},\n",
       "    {'Name': 'input_catalogue_url',\n",
       "     'Value': 'https://hda.data.destination-earth.eu/stac'},\n",
       "    {'Name': 'input_catalogue_collection',\n",
       "     'Value': 'EO.ESA.DAT.SENTINEL-2.MSI.L2A'},\n",
       "    {'Name': 'source_client_id', 'Value': 'hda-public'},\n",
       "    {'Name': 'source_username', 'Value': 'dana.puechmaille@gmail.com'},\n",
       "    {'Name': 'source_realm', 'Value': 'dedl'},\n",
       "    {'Name': 'source_server_url',\n",
       "     'Value': 'https://identity.data.destination-earth.eu/auth'}],\n",
       "   'WorkflowName': 'data-harvest',\n",
       "   'WorkflowId': 11,\n",
       "   'Priority': 1,\n",
       "   'NotificationEndpoint': None,\n",
       "   'NotificationEpUsername': None,\n",
       "   'NotificationStatus': None},\n",
       "  {'Id': '11934',\n",
       "   'Status': 'queued',\n",
       "   'StatusMessage': 'request is queued for processing',\n",
       "   'SubmissionDate': '2024-05-03T15:22:26.841Z',\n",
       "   'Name': 'DEDL - Hook tutorial - temporary storage - data-harvest - TEST-DPu',\n",
       "   'EstimatedDate': '2024-05-03T16:02:16.485Z',\n",
       "   'InputProductReference': {'Reference': 'S2A_MSIL2A_20180124T092251_N0213_R093_T35TLG_20210214T010009.SAFE',\n",
       "    'ContentDate': None},\n",
       "   'WorkflowOptions': [{'Name': 'brand', 'Value': 'dedl'},\n",
       "    {'Name': 'platform', 'Value': 'creodias'},\n",
       "    {'Name': 'version', 'Value': '0.0.1'},\n",
       "    {'Name': 'output_storage', 'Value': 'TEMPORARY'},\n",
       "    {'Name': 'input_catalogue_type', 'Value': 'STAC'},\n",
       "    {'Name': 'input_catalogue_url',\n",
       "     'Value': 'https://hda.data.destination-earth.eu/stac'},\n",
       "    {'Name': 'input_catalogue_collection',\n",
       "     'Value': 'EO.ESA.DAT.SENTINEL-2.MSI.L2A'},\n",
       "    {'Name': 'source_client_id', 'Value': 'hda-public'},\n",
       "    {'Name': 'source_username', 'Value': 'dana.puechmaille@gmail.com'},\n",
       "    {'Name': 'source_realm', 'Value': 'dedl'},\n",
       "    {'Name': 'source_server_url',\n",
       "     'Value': 'https://identity.data.destination-earth.eu/auth'}],\n",
       "   'WorkflowName': 'data-harvest',\n",
       "   'WorkflowId': 11,\n",
       "   'Priority': 1,\n",
       "   'NotificationEndpoint': None,\n",
       "   'NotificationEpUsername': None,\n",
       "   'NotificationStatus': None},\n",
       "  {'Id': '11929',\n",
       "   'Status': 'in_progress',\n",
       "   'StatusMessage': 'request is under processing',\n",
       "   'SubmissionDate': '2024-05-03T15:10:43.658Z',\n",
       "   'Name': 'DEDL - Hook tutorial - temporary storage - data-harvest - TEST-DPu',\n",
       "   'EstimatedDate': '2024-05-03T15:30:38.480Z',\n",
       "   'InputProductReference': {'Reference': 'S2A_MSIL2A_20180124T092251_N0213_R093_T35TLG_20210214T010009.SAFE',\n",
       "    'ContentDate': None},\n",
       "   'WorkflowOptions': [{'Name': 'brand', 'Value': 'dedl'},\n",
       "    {'Name': 'platform', 'Value': 'creodias'},\n",
       "    {'Name': 'version', 'Value': '0.0.1'},\n",
       "    {'Name': 'output_storage', 'Value': 'TEMPORARY'},\n",
       "    {'Name': 'input_catalogue_type', 'Value': 'STAC'},\n",
       "    {'Name': 'input_catalogue_url',\n",
       "     'Value': 'https://hda.data.destination-earth.eu/stac'},\n",
       "    {'Name': 'input_catalogue_collection',\n",
       "     'Value': 'EO.ESA.DAT.SENTINEL-2.MSI.L2A'},\n",
       "    {'Name': 'source_client_id', 'Value': 'hda-public'},\n",
       "    {'Name': 'source_username', 'Value': 'dana.puechmaille@gmail.com'},\n",
       "    {'Name': 'source_realm', 'Value': 'dedl'},\n",
       "    {'Name': 'source_server_url',\n",
       "     'Value': 'https://identity.data.destination-earth.eu/auth'}],\n",
       "   'WorkflowName': 'data-harvest',\n",
       "   'WorkflowId': 11,\n",
       "   'Priority': 1,\n",
       "   'NotificationEndpoint': None,\n",
       "   'NotificationEpUsername': None,\n",
       "   'NotificationStatus': None},\n",
       "  {'Id': '11933',\n",
       "   'Status': 'in_progress',\n",
       "   'StatusMessage': 'request is under processing',\n",
       "   'SubmissionDate': '2024-05-03T15:22:18.091Z',\n",
       "   'Name': 'DEDL - Hook tutorial - temporary storage - data-harvest - TEST-DPu',\n",
       "   'EstimatedDate': '2024-05-03T15:58:08.770Z',\n",
       "   'InputProductReference': {'Reference': 'S2A_MSIL2A_20180124T092251_N0213_R093_T35TLG_20210214T010009.SAFE',\n",
       "    'ContentDate': None},\n",
       "   'WorkflowOptions': [{'Name': 'brand', 'Value': 'dedl'},\n",
       "    {'Name': 'platform', 'Value': 'creodias'},\n",
       "    {'Name': 'version', 'Value': '0.0.1'},\n",
       "    {'Name': 'output_storage', 'Value': 'TEMPORARY'},\n",
       "    {'Name': 'input_catalogue_type', 'Value': 'STAC'},\n",
       "    {'Name': 'input_catalogue_url',\n",
       "     'Value': 'https://hda.data.destination-earth.eu/stac'},\n",
       "    {'Name': 'input_catalogue_collection',\n",
       "     'Value': 'EO.ESA.DAT.SENTINEL-2.MSI.L2A'},\n",
       "    {'Name': 'source_client_id', 'Value': 'hda-public'},\n",
       "    {'Name': 'source_username', 'Value': 'dana.puechmaille@gmail.com'},\n",
       "    {'Name': 'source_realm', 'Value': 'dedl'},\n",
       "    {'Name': 'source_server_url',\n",
       "     'Value': 'https://identity.data.destination-earth.eu/auth'}],\n",
       "   'WorkflowName': 'data-harvest',\n",
       "   'WorkflowId': 11,\n",
       "   'Priority': 1,\n",
       "   'NotificationEndpoint': None,\n",
       "   'NotificationEpUsername': None,\n",
       "   'NotificationStatus': None},\n",
       "  {'Id': '11930',\n",
       "   'Status': 'in_progress',\n",
       "   'StatusMessage': 'request is under processing',\n",
       "   'SubmissionDate': '2024-05-03T15:10:56.926Z',\n",
       "   'Name': 'DEDL - Hook tutorial - temporary storage - data-harvest - TEST-DPu',\n",
       "   'EstimatedDate': '2024-05-03T15:38:49.677Z',\n",
       "   'InputProductReference': {'Reference': 'S2A_MSIL2A_20180124T092251_N0213_R093_T35TLG_20210214T010009.SAFE',\n",
       "    'ContentDate': None},\n",
       "   'WorkflowOptions': [{'Name': 'brand', 'Value': 'dedl'},\n",
       "    {'Name': 'platform', 'Value': 'creodias'},\n",
       "    {'Name': 'version', 'Value': '0.0.1'},\n",
       "    {'Name': 'output_storage', 'Value': 'TEMPORARY'},\n",
       "    {'Name': 'input_catalogue_type', 'Value': 'STAC'},\n",
       "    {'Name': 'input_catalogue_url',\n",
       "     'Value': 'https://hda.data.destination-earth.eu/stac'},\n",
       "    {'Name': 'input_catalogue_collection',\n",
       "     'Value': 'EO.ESA.DAT.SENTINEL-2.MSI.L2A'},\n",
       "    {'Name': 'source_client_id', 'Value': 'hda-public'},\n",
       "    {'Name': 'source_username', 'Value': 'dana.puechmaille@gmail.com'},\n",
       "    {'Name': 'source_realm', 'Value': 'dedl'},\n",
       "    {'Name': 'source_server_url',\n",
       "     'Value': 'https://identity.data.destination-earth.eu/auth'}],\n",
       "   'WorkflowName': 'data-harvest',\n",
       "   'WorkflowId': 11,\n",
       "   'Priority': 1,\n",
       "   'NotificationEndpoint': None,\n",
       "   'NotificationEpUsername': None,\n",
       "   'NotificationStatus': None},\n",
       "  {'Id': '11928',\n",
       "   'Status': 'in_progress',\n",
       "   'StatusMessage': 'request is under processing',\n",
       "   'SubmissionDate': '2024-05-03T15:10:25.137Z',\n",
       "   'Name': 'DEDL - Hook tutorial - temporary storage - data-harvest - TEST-DPu',\n",
       "   'EstimatedDate': '2024-05-03T15:22:22.031Z',\n",
       "   'InputProductReference': {'Reference': 'S2A_MSIL2A_20180124T092251_N0213_R093_T35TLG_20210214T010009.SAFE',\n",
       "    'ContentDate': None},\n",
       "   'WorkflowOptions': [{'Name': 'brand', 'Value': 'dedl'},\n",
       "    {'Name': 'platform', 'Value': 'creodias'},\n",
       "    {'Name': 'version', 'Value': '0.0.1'},\n",
       "    {'Name': 'output_storage', 'Value': 'TEMPORARY'},\n",
       "    {'Name': 'input_catalogue_type', 'Value': 'STAC'},\n",
       "    {'Name': 'input_catalogue_url',\n",
       "     'Value': 'https://hda.data.destination-earth.eu/stac'},\n",
       "    {'Name': 'input_catalogue_collection',\n",
       "     'Value': 'EO.ESA.DAT.SENTINEL-2.MSI.L2A'},\n",
       "    {'Name': 'source_client_id', 'Value': 'hda-public'},\n",
       "    {'Name': 'source_username', 'Value': 'dana.puechmaille@gmail.com'},\n",
       "    {'Name': 'source_realm', 'Value': 'dedl'},\n",
       "    {'Name': 'source_server_url',\n",
       "     'Value': 'https://identity.data.destination-earth.eu/auth'}],\n",
       "   'WorkflowName': 'data-harvest',\n",
       "   'WorkflowId': 11,\n",
       "   'Priority': 1,\n",
       "   'NotificationEndpoint': None,\n",
       "   'NotificationEpUsername': None,\n",
       "   'NotificationStatus': None}]}"
      ]
     },
     "execution_count": 64,
     "metadata": {},
     "output_type": "execute_result"
    }
   ],
   "source": [
    "requests_status = requests.get(hook_service_root_url + \"ProductionOrders?$filter=(endswith(Name,'\" + order_name + \"'))\", headers=api_headers).json()\n",
    "requests_status #see requests status"
   ]
  },
  {
   "cell_type": "markdown",
   "metadata": {
    "tags": []
   },
   "source": [
    "### Access workflow output"
   ]
  },
  {
   "cell_type": "markdown",
   "metadata": {},
   "source": [
    "#### Private storage\n",
    "Let us now check our private storage using this boto3 script.\n",
    "You can also go and check this in the Islet service using the Horizon user interface"
   ]
  },
  {
   "cell_type": "code",
   "execution_count": null,
   "metadata": {
    "tags": []
   },
   "outputs": [],
   "source": [
    "import boto3\n",
    "\n",
    "s3 = boto3.client('s3',aws_access_key_id=output_storage_access_key, aws_secret_access_key=output_storage_secret_key, endpoint_url=output_storage_url,)\n",
    "\n",
    "paginator = s3.get_paginator('list_objects_v2')\n",
    "pages = paginator.paginate(Bucket=output_bucket, Prefix=output_prefix + '/')\n",
    "\n",
    "for page in pages:\n",
    "    try:\n",
    "        for obj in page['Contents']:\n",
    "            print(obj['Key'])\n",
    "    except KeyError:\n",
    "        print(\"No files exist\")\n",
    "        exit(1)"
   ]
  },
  {
   "cell_type": "markdown",
   "metadata": {},
   "source": [
    "### Temporary storage"
   ]
  },
  {
   "cell_type": "code",
   "execution_count": 68,
   "metadata": {
    "tags": []
   },
   "outputs": [
    {
     "data": {
      "text/plain": [
       "{'@odata.context': '#metadata/OData.CSC.BatchorderItem',\n",
       " 'value': [{'Id': 15321,\n",
       "   'BatchOrderId': 11928,\n",
       "   'InputProductReference': 'S2A_MSIL2A_20180124T092251_N0213_R093_T35TLG_20210214T010009.SAFE',\n",
       "   'SubmissionDate': '2024-05-03T15:10:25.090Z',\n",
       "   'Status': 'in_progress',\n",
       "   'ProcessedName': None,\n",
       "   'ProcessedSize': None,\n",
       "   'OutputUUID': None,\n",
       "   'DownloadLink': None,\n",
       "   'NotificationStatus': None,\n",
       "   'CompletedDate': None}]}"
      ]
     },
     "execution_count": 68,
     "metadata": {},
     "output_type": "execute_result"
    }
   ],
   "source": [
    "# replace XXXX with order id of a completed order from the current test run\n",
    "# list order items within a production order\n",
    "\n",
    "#requests.get('https://odp.data.destination-earth.eu/odata/v1/BatchOrder(11928)/Products', headers=api_headers).json()"
   ]
  },
  {
   "cell_type": "code",
   "execution_count": null,
   "metadata": {
    "tags": []
   },
   "outputs": [],
   "source": [
    "# replace XXXX with order id of a completed order from the current test run and order item id YYYY from the item listing\n",
    "# download output product\n",
    "# result is stored in output.zip and number of transferred bytes is printed\n",
    "\n",
    "#url = 'https://odp.data.destination-earth.eu/odata/v1/BatchOrder(XXXX)/Product(YYYY)/$value'\n",
    "#r = requests.get(url, headers=api_headers, allow_redirects=True)\n",
    "\n",
    "#open('output.zip', 'wb').write(r.content)"
   ]
  }
 ],
 "metadata": {
  "colab": {
   "provenance": []
  },
  "kernelspec": {
   "display_name": "Python 3 (ipykernel)",
   "language": "python",
   "name": "python3"
  },
  "language_info": {
   "codemirror_mode": {
    "name": "ipython",
    "version": 3
   },
   "file_extension": ".py",
   "mimetype": "text/x-python",
   "name": "python",
   "nbconvert_exporter": "python",
   "pygments_lexer": "ipython3",
   "version": "3.11.4"
  }
 },
 "nbformat": 4,
 "nbformat_minor": 4
}

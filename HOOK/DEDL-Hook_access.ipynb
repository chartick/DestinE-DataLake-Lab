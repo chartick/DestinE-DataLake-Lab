{
 "cells": [
  {
   "cell_type": "code",
   "execution_count": 2,
   "id": "36e123c7-932e-4293-a1e4-a87e852bf75c",
   "metadata": {
    "tags": []
   },
   "outputs": [
    {
     "name": "stdout",
     "output_type": "stream",
     "text": [
      "Collecting destine-auth\n",
      "  Downloading destine-auth-0.1.tar.gz (2.3 kB)\n",
      "  Preparing metadata (setup.py) ... \u001b[?25ldone\n",
      "\u001b[?25hRequirement already satisfied: requests in /opt/conda/lib/python3.10/site-packages (from destine-auth) (2.28.2)\n",
      "Collecting lxml\n",
      "  Downloading lxml-5.2.1-cp310-cp310-manylinux_2_28_x86_64.whl (5.0 MB)\n",
      "\u001b[2K     \u001b[90m━━━━━━━━━━━━━━━━━━━━━━━━━━━━━━━━━━━━━━━━\u001b[0m \u001b[32m5.0/5.0 MB\u001b[0m \u001b[31m20.8 MB/s\u001b[0m eta \u001b[36m0:00:00\u001b[0m00:01\u001b[0m00:01\u001b[0m\n",
      "\u001b[?25hRequirement already satisfied: charset-normalizer<4,>=2 in /opt/conda/lib/python3.10/site-packages (from requests->destine-auth) (2.1.1)\n",
      "Requirement already satisfied: urllib3<1.27,>=1.21.1 in /opt/conda/lib/python3.10/site-packages (from requests->destine-auth) (1.26.15)\n",
      "Requirement already satisfied: certifi>=2017.4.17 in /opt/conda/lib/python3.10/site-packages (from requests->destine-auth) (2022.12.7)\n",
      "Requirement already satisfied: idna<4,>=2.5 in /opt/conda/lib/python3.10/site-packages (from requests->destine-auth) (3.4)\n",
      "Building wheels for collected packages: destine-auth\n",
      "  Building wheel for destine-auth (setup.py) ... \u001b[?25ldone\n",
      "\u001b[?25h  Created wheel for destine-auth: filename=destine_auth-0.1-py3-none-any.whl size=3552 sha256=fa47e4696df24e3e8cbbf97ea1e514bcf8d2f7c4bf53a9d4a579651239573b47\n",
      "  Stored in directory: /home/jovyan/.cache/pip/wheels/9b/d5/13/781f8378538f7851f6000de2441cfcdb398d2ea83ce7a9610e\n",
      "Successfully built destine-auth\n",
      "Installing collected packages: lxml, destine-auth\n",
      "Successfully installed destine-auth-0.1 lxml-5.2.1\n"
     ]
    }
   ],
   "source": [
    "!pip install destine-auth"
   ]
  },
  {
   "cell_type": "code",
   "execution_count": 3,
   "id": "1a0e60a3-cc5f-4e69-955d-b004ceaa904f",
   "metadata": {
    "tags": []
   },
   "outputs": [],
   "source": [
    "import json\n",
    "from io import BytesIO\n",
    "from urllib.parse import urlencode\n",
    "import getpass\n",
    "import pycurl\n",
    "import requests\n",
    "from IPython.display import JSON   \n",
    "import destine_auth as da"
   ]
  },
  {
   "cell_type": "code",
   "execution_count": 4,
   "id": "a3457b8a-ed64-4fac-a927-9cb53fab7f65",
   "metadata": {
    "tags": []
   },
   "outputs": [
    {
     "name": "stdout",
     "output_type": "stream",
     "text": [
      "Response code: 200\n",
      "DEDL/DESP Access Token Obtained Successfully\n"
     ]
    }
   ],
   "source": [
    "DESP_USERNAME = 'username'\n",
    "DESP_PASSWORD = 'password'\n",
    " \n",
    "token = da.AuthHandler(DESP_USERNAME, DESP_PASSWORD)          \n",
    "access_token = token.get_token()\n",
    " \n",
    "# Check the status of the request\n",
    "if access_token is not None:\n",
    "    print(\"DEDL/DESP Access Token Obtained Successfully\")\n",
    "else:\n",
    "    print(\"Failed to Obtain DEDL/DESP Access Token\") "
   ]
  },
  {
   "cell_type": "code",
   "execution_count": 5,
   "id": "65c87e21-05bd-41d4-ba7d-81994ee94d48",
   "metadata": {
    "tags": []
   },
   "outputs": [
    {
     "data": {
      "application/json": {
       "@odata.context": "$metadata#Workflows/$entity",
       "value": [
        {
         "CustomInputSource": false,
         "Description": "The SNAP-BIOPHYSICAL processor derives vegetation biophysical variables based on top-of-canopy spectral reflectances from Sentinel-2 data. Following the approach described by Weiss et al. (2000, DOI: 10.1051/agro:2000105), the processor estimates: LAI (Leaf Area Index), FAPAR (Fraction of Absorbed Photosynthetically Active Radiation) and FVC (Fractional Vegetation Cover), all recognized as Essential Climate Variables (ECVs) by international organizations such as the Global Climate Observing System (GCOS)",
         "DisplayName": "Sentinel-2: SNAP-Biophysical",
         "Documentation": "",
         "Id": "2",
         "InputProductStatusOffline": false,
         "InputProductType": "S2MSI2A",
         "InputProductTypes": [
          "S2MSI2A"
         ],
         "Name": "lai",
         "OutputProductType": null,
         "OutputProductTypes": [],
         "Uuid": null,
         "WorkflowVersion": "1.1.1"
        },
        {
         "CustomInputSource": false,
         "Description": "Sentinel-1 CARD BS (Copernicus Analysis Ready Data Backscatter) processor generates terrain-corrected geocoded Sentinel-1 Level 2 backscattering by removing the radiometric effect imposed by relief (provided by DEM). This allows comparability of images, e.g. for analysis of changes in land cover. This processor provided by the Joint Research Centre is based on a GPT graph that can be run with ESA SNAP.",
         "DisplayName": "Sentinel-1: Terrain-corrected backscatter (Private)",
         "Documentation": "",
         "Id": "4",
         "InputProductStatusOffline": false,
         "InputProductType": "GRD",
         "InputProductTypes": [
          "GRD",
          "IW_GRDH_1S",
          "IW_GRDM_1S",
          "EW_GRDH_1S",
          "EW_GRDM_1S",
          "WV_GRDM_1S",
          "GRD-COG",
          "IW_GRDH_1S-COG",
          "IW_GRDM_1S-COG",
          "EW_GRDH_1S-COG",
          "EW_GRDM_1S-COG",
          "WV_GRDM_1S-COG"
         ],
         "Name": "card_bs_private",
         "OutputProductType": "CARD-BS",
         "OutputProductTypes": [
          "CARD-BS"
         ],
         "Uuid": null,
         "WorkflowVersion": "3.6.2"
        },
        {
         "CustomInputSource": false,
         "Description": null,
         "DisplayName": "Sentinel-1 Coherence/Interferometry",
         "Documentation": null,
         "Id": "5",
         "InputProductStatusOffline": false,
         "InputProductType": "SLC",
         "InputProductTypes": [
          "SLC",
          "S1_SLC__1S",
          "S2_SLC__1S",
          "S3_SLC__1S",
          "S4_SLC__1S",
          "S5_SLC__1S",
          "S6_SLC__1S",
          "IW_SLC__1S",
          "EW_SLC__1S",
          "WV_SLC__1S"
         ],
         "Name": "card_cohinf",
         "OutputProductType": null,
         "OutputProductTypes": [],
         "Uuid": null,
         "WorkflowVersion": "1.0.0"
        },
        {
         "CustomInputSource": false,
         "Description": "",
         "DisplayName": "Copernicus DEM Mosaic",
         "Documentation": null,
         "Id": "8",
         "InputProductStatusOffline": false,
         "InputProductType": "*",
         "InputProductTypes": [
          "*"
         ],
         "Name": "copdem",
         "OutputProductType": null,
         "OutputProductTypes": [],
         "Uuid": null,
         "WorkflowVersion": "1.0"
        },
        {
         "CustomInputSource": false,
         "Description": "",
         "DisplayName": "Sentinel-2: MAJA Atmospheric Correction",
         "Documentation": null,
         "Id": "9",
         "InputProductStatusOffline": false,
         "InputProductType": "S2MSI1C",
         "InputProductTypes": [
          "S2MSI1C"
         ],
         "Name": "maja_private",
         "OutputProductType": null,
         "OutputProductTypes": [],
         "Uuid": null,
         "WorkflowVersion": "3.0.1"
        },
        {
         "CustomInputSource": false,
         "Description": "The C2RCC (Case 2 Regional Coast Colour) processor allows water constituents in coastal or inland water bodies to be derived from optical satellite data. The processor uses a database of radiative transfer simulations inverted by neural networks. It can be applied to all past and current ocean colour sensors as well as Sentinel-2 imagery. It has been validated in various studies and is also implemented in SNAP. It is also used in the Sentinel 3 OLCI ground segment processor for the generation of the Case 2 water products.",
         "DisplayName": "Sentinel-2: C2RCC",
         "Documentation": null,
         "Id": "6",
         "InputProductStatusOffline": false,
         "InputProductType": "S2MSI1C",
         "InputProductTypes": [
          "S2MSI1C",
          "OL_2_LFR___",
          "OL_2_LRR___",
          "OL_2_WFR___",
          "OL_2_WRR___"
         ],
         "Name": "c2rcc",
         "OutputProductType": null,
         "OutputProductTypes": [],
         "Uuid": null,
         "WorkflowVersion": "1.1.1"
        },
        {
         "CustomInputSource": true,
         "Description": null,
         "DisplayName": "Data harvest",
         "Documentation": null,
         "Id": "11",
         "InputProductStatusOffline": false,
         "InputProductType": null,
         "InputProductTypes": [],
         "Name": "data-harvest",
         "OutputProductType": null,
         "OutputProductTypes": [],
         "Uuid": null,
         "WorkflowVersion": "0.0.1"
        },
        {
         "CustomInputSource": false,
         "Description": null,
         "DisplayName": "ODP Test",
         "Documentation": null,
         "Id": "3",
         "InputProductStatusOffline": false,
         "InputProductType": null,
         "InputProductTypes": [],
         "Name": "odp-test",
         "OutputProductType": null,
         "OutputProductTypes": [],
         "Uuid": null,
         "WorkflowVersion": "1.0.0"
        },
        {
         "CustomInputSource": false,
         "Description": "DEDL Hello World processor",
         "DisplayName": "DEDL Hello World",
         "Documentation": null,
         "Id": "10",
         "InputProductStatusOffline": false,
         "InputProductType": "*",
         "InputProductTypes": [
          "*"
         ],
         "Name": "dedl_hello_world",
         "OutputProductType": null,
         "OutputProductTypes": [],
         "Uuid": null,
         "WorkflowVersion": "1.1.0"
        },
        {
         "CustomInputSource": false,
         "Description": "The Sen2Cor processor generates Sentinel-2 Level 2A product (Bottom-Of-Atmosphere reflectances) by performing the atmospheric, terrain and cirrus correction of Top-Of-Atmosphere Level 1C input data. In addition, Aerosol Optical Thickness, Water Vapor, Scene Classification Maps and Quality Indicators for cloud and snow probabilities can be generated. The Sen2Cor products are in the equivalent format to the Level 1C User Product: JPEG 2000 images, preserving the original band spatial resolutions, i.e. 10, 20 and 60 meters.",
         "DisplayName": "Sentinel-2: Sen2Cor",
         "Documentation": null,
         "Id": "7",
         "InputProductStatusOffline": false,
         "InputProductType": "S2MSI1C",
         "InputProductTypes": [
          "S2MSI1C"
         ],
         "Name": "sen2cor_private",
         "OutputProductType": null,
         "OutputProductTypes": [],
         "Uuid": null,
         "WorkflowVersion": "2.10.0"
        }
       ]
      },
      "text/plain": [
       "<IPython.core.display.JSON object>"
      ]
     },
     "execution_count": 5,
     "metadata": {
      "application/json": {
       "expanded": false,
       "root": "root"
      }
     },
     "output_type": "execute_result"
    }
   ],
   "source": [
    "#token = json.loads(buffer.getvalue().decode())[\"access_token\"]\n",
    "api_headers = {'Authorization': 'Bearer ' + access_token}\n",
    "service_root_url = \"https://odp.data.destination-earth.eu/odata/v1/\"\n",
    "result = requests.get(service_root_url+\"Workflows\", headers=api_headers).json()\n",
    "available_workflows = json.dumps(result,indent=2)\n",
    "JSON(result)"
   ]
  },
  {
   "cell_type": "code",
   "execution_count": null,
   "id": "10dfbdb0-68eb-4d1e-bc7f-b6195cb1f061",
   "metadata": {},
   "outputs": [],
   "source": []
  }
 ],
 "metadata": {
  "kernelspec": {
   "display_name": "Python on Kubernetes",
   "language": "python",
   "name": "python_kubernetes"
  },
  "language_info": {
   "codemirror_mode": {
    "name": "ipython",
    "version": 3
   },
   "file_extension": ".py",
   "mimetype": "text/x-python",
   "name": "python",
   "nbconvert_exporter": "python",
   "pygments_lexer": "ipython3",
   "version": "3.10.9"
  }
 },
 "nbformat": 4,
 "nbformat_minor": 5
}

{
 "cells": [
  {
   "cell_type": "markdown",
   "id": "ba33bad7",
   "metadata": {},
   "source": [
    "# Access to Hook services \n",
    "\n",
    "**Licence**: MIT <br>\n",
    "\n",
    "This Notebook is going to cover topics like:  \n",
    "* Authentication do Hook services  \n",
    "* Get a list of available Hooks (Processors)  \n",
    "* Trigger a data-harvesting hook - to donwload data to temporary s3 bucket"
   ]
  },
  {
   "cell_type": "code",
   "execution_count": 1,
   "id": "2d2a9a05-cc6f-40d6-9fbb-f40cea440d8c",
   "metadata": {
    "collapsed": true,
    "jupyter": {
     "outputs_hidden": true
    },
    "tags": []
   },
   "outputs": [],
   "source": [
    "import json\n",
    "from io import BytesIO\n",
    "from urllib.parse import urlencode\n",
    "import getpass\n",
    "import pycurl\n",
    "import requests\n",
    "from IPython.display import JSON"
   ]
  },
  {
   "cell_type": "markdown",
   "id": "8859204c",
   "metadata": {},
   "source": [
    "## Autehentication - function"
   ]
  },
  {
   "cell_type": "code",
   "execution_count": 2,
   "id": "af3874f5-af09-4232-920a-cb8c3598a52b",
   "metadata": {
    "collapsed": true,
    "jupyter": {
     "outputs_hidden": true
    },
    "tags": []
   },
   "outputs": [],
   "source": [
    "import requests\n",
    "from lxml import html\n",
    "from urllib.parse import parse_qs, urlparse\n",
    "\n",
    "IAM_URL = \"https://auth.destine.eu/\"\n",
    "CLIENT_ID = \"dedl-hook\"\n",
    "REALM = \"desp\"\n",
    "SERVICE_URL = \"https://odp.data.destination-earth.eu/odata/v1/\"\n",
    "\n",
    "\n",
    "class DESPAuth:\n",
    "    def __init__(self, username, password):\n",
    "        self.username = username\n",
    "        self.password = password\n",
    "\n",
    "    def get_token(self):\n",
    "        with requests.Session() as s:\n",
    "\n",
    "            # Get the auth url\n",
    "            auth_url = html.fromstring(s.get(url=IAM_URL + \"/realms/\" + REALM + \"/protocol/openid-connect/auth\",\n",
    "                                     params = {\n",
    "                                            \"client_id\": CLIENT_ID,\n",
    "                                            \"redirect_uri\": SERVICE_URL,\n",
    "                                            \"scope\": \"openid\",\n",
    "                                            \"response_type\": \"code\"\n",
    "                                     }\n",
    "                                       ).content.decode()).forms[0].action\n",
    "            \n",
    "            # Login and get auth code\n",
    "            login = s.post(auth_url,\n",
    "                            data = {\n",
    "                                \"username\" : self.username,\n",
    "                                \"password\" : self.password,\n",
    "                            },\n",
    "                            allow_redirects=False\n",
    "            )\n",
    "\n",
    "\n",
    "            # We expect a 302, a 200 means we got sent back to the login page and there's probably an error message\n",
    "            if login.status_code == 200:\n",
    "                tree = html.fromstring(login.content)\n",
    "                error_message_element = tree.xpath('//span[@id=\"input-error\"]/text()')\n",
    "                error_message = error_message_element[0].strip() if error_message_element else 'Error message not found'\n",
    "                raise Exception(error_message)\n",
    "\n",
    "            if login.status_code != 302:\n",
    "                raise Exception(\"Login failed\")\n",
    "            \n",
    "\n",
    "            auth_code = parse_qs(urlparse(login.headers[\"Location\"]).query)['code'][0]\n",
    "\n",
    "            # Use the auth code to get the token\n",
    "            response = requests.post(IAM_URL + \"/realms/\" + REALM + \"/protocol/openid-connect/token\",\n",
    "                    data = {\n",
    "                        \"client_id\" : CLIENT_ID,\n",
    "                        \"redirect_uri\" : SERVICE_URL,\n",
    "                        \"code\" : auth_code,\n",
    "                        \"grant_type\" : \"authorization_code\",\n",
    "                        \"scope\" : \"\"\n",
    "                    }\n",
    "                )\n",
    "            \n",
    "            if response.status_code != 200:\n",
    "                raise Exception(\"Failed to get token\")\n",
    "\n",
    "            token = response.json()['access_token']\n",
    "        \n",
    "\n",
    "            return token\n",
    "\n",
    "class DEDLAuth:\n",
    "    def __init__(self, desp_access_token):\n",
    "        self.desp_access_token = desp_access_token\n",
    "\n",
    "    def get_token(self):\n",
    "        DEDL_TOKEN_URL='https://identity.data.destination-earth.eu/auth/realms/dedl/protocol/openid-connect/token'\n",
    "        DEDL_CLIENT_ID='hda-public'\n",
    "        AUDIENCE='hda-public'\n",
    "        \n",
    "        data = { \n",
    "            \"grant_type\": \"urn:ietf:params:oauth:grant-type:token-exchange\", \n",
    "            \"subject_token\": self.desp_access_token,\n",
    "            \"subject_issuer\": \"desp-oidc\",\n",
    "            \"subject_token_type\": \"urn:ietf:params:oauth:token-type:access_token\",\n",
    "            \"client_id\": DEDL_CLIENT_ID,\n",
    "            \"audience\": AUDIENCE\n",
    "        }\n",
    "\n",
    "        response = requests.post(DEDL_TOKEN_URL, data=data)\n",
    "        \n",
    "        print(\"Response code:\", response.status_code)\n",
    "\n",
    "        if response.status_code == 200: \n",
    "            dedl_token = response.json()[\"access_token\"]\n",
    "            return dedl_token\n",
    "        else: \n",
    "            print(response.json())\n",
    "            print(\"Error obtaining DEDL access token\")\n",
    "            \n",
    "class AuthHandler:\n",
    "    def __init__(self, username, password):\n",
    "        self.username = username\n",
    "        self.password = password\n",
    "        self.desp_access_token = None\n",
    "        self.dedl_access_token = None\n",
    "    \n",
    "    def get_token(self):\n",
    "        # Get DESP auth token\n",
    "        desp_auth = DESPAuth(self.username, self.password)\n",
    "        self.desp_access_token = desp_auth.get_token()\n",
    "        \n",
    "        # Get DEDL auth token\n",
    "        dedl_auth = DEDLAuth(self.desp_access_token)\n",
    "        self.dedl_access_token = dedl_auth.get_token()\n",
    "        \n",
    "        return self.dedl_access_token"
   ]
  },
  {
   "cell_type": "markdown",
   "id": "42f98fd6",
   "metadata": {},
   "source": [
    "## Authetication"
   ]
  },
  {
   "cell_type": "code",
   "execution_count": 3,
   "id": "cd1b426a-92e3-4b97-8c83-839025c1b631",
   "metadata": {
    "collapsed": true,
    "jupyter": {
     "outputs_hidden": true
    },
    "tags": []
   },
   "outputs": [
    {
     "name": "stdout",
     "output_type": "stream",
     "text": [
      "Response code: 200\n",
      "DEDL/DESP Access Token Obtained Successfully\n"
     ]
    }
   ],
   "source": [
    "DESP_USERNAME = ''\n",
    "DESP_PASSWORD = ''\n",
    "\n",
    "token = AuthHandler(DESP_USERNAME, DESP_PASSWORD)          \n",
    "access_token = token.get_token()\n",
    " \n",
    "# Check the status of the request\n",
    "if access_token is not None:\n",
    "    print(\"DEDL/DESP Access Token Obtained Successfully\")\n",
    "else:\n",
    "    print(\"Failed to Obtain DEDL/DESP Access Token\") "
   ]
  },
  {
   "cell_type": "markdown",
   "id": "7456eaf1",
   "metadata": {},
   "source": [
    "## Get a list of avilable Hooks"
   ]
  },
  {
   "cell_type": "code",
   "execution_count": 7,
   "id": "53043742-b576-448b-aeb7-daa10f7caba4",
   "metadata": {
    "collapsed": true,
    "jupyter": {
     "outputs_hidden": true
    }
   },
   "outputs": [
    {
     "name": "stdout",
     "output_type": "stream",
     "text": [
      "Id: 2\n",
      "Uuid: None\n",
      "Name: lai\n",
      "DisplayName: Sentinel-2: SNAP-Biophysical\n",
      "Documentation: \n",
      "Description: The SNAP-BIOPHYSICAL processor derives vegetation biophysical variables based on top-of-canopy spectral reflectances from Sentinel-2 data. Following the approach described by Weiss et al. (2000, DOI: 10.1051/agro:2000105), the processor estimates: LAI (Leaf Area Index), FAPAR (Fraction of Absorbed Photosynthetically Active Radiation) and FVC (Fractional Vegetation Cover), all recognized as Essential Climate Variables (ECVs) by international organizations such as the Global Climate Observing System (GCOS)\n",
      "InputProductType: S2MSI2A\n",
      "InputProductTypes: ['S2MSI2A']\n",
      "OutputProductType: None\n",
      "OutputProductTypes: []\n",
      "WorkflowVersion: 1.1.1\n",
      "CustomInputSource: False\n",
      "InputProductStatusOffline: False\n",
      "\n",
      "Id: 4\n",
      "Uuid: None\n",
      "Name: card_bs_private\n",
      "DisplayName: Sentinel-1: Terrain-corrected backscatter (Private)\n",
      "Documentation: \n",
      "Description: Sentinel-1 CARD BS (Copernicus Analysis Ready Data Backscatter) processor generates terrain-corrected geocoded Sentinel-1 Level 2 backscattering by removing the radiometric effect imposed by relief (provided by DEM). This allows comparability of images, e.g. for analysis of changes in land cover. This processor provided by the Joint Research Centre is based on a GPT graph that can be run with ESA SNAP.\n",
      "InputProductType: GRD\n",
      "InputProductTypes: ['GRD', 'IW_GRDH_1S', 'IW_GRDM_1S', 'EW_GRDH_1S', 'EW_GRDM_1S', 'WV_GRDM_1S', 'GRD-COG', 'IW_GRDH_1S-COG', 'IW_GRDM_1S-COG', 'EW_GRDH_1S-COG', 'EW_GRDM_1S-COG', 'WV_GRDM_1S-COG']\n",
      "OutputProductType: CARD-BS\n",
      "OutputProductTypes: ['CARD-BS']\n",
      "WorkflowVersion: 3.6.2\n",
      "CustomInputSource: False\n",
      "InputProductStatusOffline: False\n",
      "\n",
      "Id: 5\n",
      "Uuid: None\n",
      "Name: card_cohinf\n",
      "DisplayName: Sentinel-1 Coherence/Interferometry\n",
      "Documentation: None\n",
      "Description: None\n",
      "InputProductType: SLC\n",
      "InputProductTypes: ['SLC', 'S1_SLC__1S', 'S2_SLC__1S', 'S3_SLC__1S', 'S4_SLC__1S', 'S5_SLC__1S', 'S6_SLC__1S', 'IW_SLC__1S', 'EW_SLC__1S', 'WV_SLC__1S']\n",
      "OutputProductType: None\n",
      "OutputProductTypes: []\n",
      "WorkflowVersion: 1.0.0\n",
      "CustomInputSource: False\n",
      "InputProductStatusOffline: False\n",
      "\n",
      "Id: 8\n",
      "Uuid: None\n",
      "Name: copdem\n",
      "DisplayName: Copernicus DEM Mosaic\n",
      "Documentation: None\n",
      "Description: \n",
      "InputProductType: *\n",
      "InputProductTypes: ['*']\n",
      "OutputProductType: None\n",
      "OutputProductTypes: []\n",
      "WorkflowVersion: 1.0\n",
      "CustomInputSource: False\n",
      "InputProductStatusOffline: False\n",
      "\n",
      "Id: 6\n",
      "Uuid: None\n",
      "Name: c2rcc\n",
      "DisplayName: Sentinel-2: C2RCC\n",
      "Documentation: None\n",
      "Description: The C2RCC (Case 2 Regional Coast Colour) processor allows water constituents in coastal or inland water bodies to be derived from optical satellite data. The processor uses a database of radiative transfer simulations inverted by neural networks. It can be applied to all past and current ocean colour sensors as well as Sentinel-2 imagery. It has been validated in various studies and is also implemented in SNAP. It is also used in the Sentinel 3 OLCI ground segment processor for the generation of the Case 2 water products.\n",
      "InputProductType: S2MSI1C\n",
      "InputProductTypes: ['S2MSI1C', 'OL_2_LFR___', 'OL_2_LRR___', 'OL_2_WFR___', 'OL_2_WRR___']\n",
      "OutputProductType: None\n",
      "OutputProductTypes: []\n",
      "WorkflowVersion: 1.1.1\n",
      "CustomInputSource: False\n",
      "InputProductStatusOffline: False\n",
      "\n",
      "Id: 11\n",
      "Uuid: None\n",
      "Name: data-harvest\n",
      "DisplayName: Data harvest\n",
      "Documentation: None\n",
      "Description: None\n",
      "InputProductType: None\n",
      "InputProductTypes: []\n",
      "OutputProductType: None\n",
      "OutputProductTypes: []\n",
      "WorkflowVersion: 0.0.1\n",
      "CustomInputSource: True\n",
      "InputProductStatusOffline: False\n",
      "\n",
      "Id: 44\n",
      "Uuid: None\n",
      "Name: datacube_loader\n",
      "DisplayName: DataCube Loader\n",
      "Documentation: None\n",
      "Description: None\n",
      "InputProductType: None\n",
      "InputProductTypes: []\n",
      "OutputProductType: None\n",
      "OutputProductTypes: []\n",
      "WorkflowVersion: 0.1.0\n",
      "CustomInputSource: False\n",
      "InputProductStatusOffline: False\n",
      "\n",
      "Id: 9\n",
      "Uuid: None\n",
      "Name: maja_private\n",
      "DisplayName: Sentinel-2: MAJA Atmospheric Correction\n",
      "Documentation: None\n",
      "Description: The Sentinel-2 L2A MAJA (The MACCS-ATCOR Joint Algorithm) is a processor for generation of Bottom-of-Atmoshere reflectances of Sentinel-2 imagery. It builds on MACCS (Multi-sensor Atmospheric Correction and Cloud Screening) developed by CNES and CESBIO, and features from ATCOR (Atmospheric and Topographic Correction) developed by the German Aerospace Centre (DLR).  It performs atmospheric correction, cloud and cloud shadow masking, and topographic correction. For atmospheric correction, MAJA retrieves  aerosol optical thickness from  multi-temporal data assuming the relative stability of surface reflectances with time (within a few days), compared to the high variability of AOT (which can change hourly). That is why MAJA operates on a series of Sentinel-2 images rather than a single image. MAJA can also use information on AOT from Copernicus Atmosphere Monitoring Service (CAMS).\n",
      "InputProductType: S2MSI1C\n",
      "InputProductTypes: ['S2MSI1C']\n",
      "OutputProductType: None\n",
      "OutputProductTypes: []\n",
      "WorkflowVersion: 3.0.1\n",
      "CustomInputSource: False\n",
      "InputProductStatusOffline: False\n",
      "\n",
      "Id: 3\n",
      "Uuid: None\n",
      "Name: odp-test\n",
      "DisplayName: ODP Test\n",
      "Documentation: None\n",
      "Description: None\n",
      "InputProductType: None\n",
      "InputProductTypes: []\n",
      "OutputProductType: None\n",
      "OutputProductTypes: []\n",
      "WorkflowVersion: 1.0.0\n",
      "CustomInputSource: False\n",
      "InputProductStatusOffline: False\n",
      "\n",
      "Id: 10\n",
      "Uuid: None\n",
      "Name: dedl_hello_world\n",
      "DisplayName: DEDL Hello World\n",
      "Documentation: None\n",
      "Description: DEDL Hello World processor\n",
      "InputProductType: *\n",
      "InputProductTypes: ['*']\n",
      "OutputProductType: None\n",
      "OutputProductTypes: []\n",
      "WorkflowVersion: 1.1.0\n",
      "CustomInputSource: False\n",
      "InputProductStatusOffline: False\n",
      "\n",
      "Id: 7\n",
      "Uuid: None\n",
      "Name: sen2cor_private\n",
      "DisplayName: Sentinel-2: Sen2Cor\n",
      "Documentation: None\n",
      "Description: The Sen2Cor processor generates Sentinel-2 Level 2A product (Bottom-Of-Atmosphere reflectances) by performing the atmospheric, terrain and cirrus correction of Top-Of-Atmosphere Level 1C input data. In addition, Aerosol Optical Thickness, Water Vapor, Scene Classification Maps and Quality Indicators for cloud and snow probabilities can be generated. The Sen2Cor products are in the equivalent format to the Level 1C User Product: JPEG 2000 images, preserving the original band spatial resolutions, i.e. 10, 20 and 60 meters.\n",
      "InputProductType: S2MSI1C\n",
      "InputProductTypes: ['S2MSI1C']\n",
      "OutputProductType: None\n",
      "OutputProductTypes: []\n",
      "WorkflowVersion: 2.10.0\n",
      "CustomInputSource: False\n",
      "InputProductStatusOffline: False\n",
      "\n"
     ]
    }
   ],
   "source": [
    "\n",
    "api_headers = {'Authorization': 'Bearer ' + access_token}\n",
    "service_root_url = \"https://odp.data.destination-earth.eu/odata/v1/\"\n",
    "result = requests.get(service_root_url + \"Workflows\", headers=api_headers).json()\n",
    "\n",
    "# Assuming 'result' is a JSON array\n",
    "for item in result['value']:\n",
    "    for key, value in item.items():\n",
    "        print(f\"{key}: {value}\")\n",
    "    print()  # Print an empty line to separate each item"
   ]
  },
  {
   "cell_type": "markdown",
   "id": "a31b12df",
   "metadata": {},
   "source": [
    "## Trigger a Hook - data harvest  \n",
    "* Provide your username and password  \n",
    "* Please be sure that 'source_realm' is set to 'desp'"
   ]
  },
  {
   "cell_type": "code",
   "execution_count": 9,
   "id": "dcaf7bdb-505b-4f47-b18c-44c7e85e696e",
   "metadata": {
    "collapsed": true,
    "jupyter": {
     "outputs_hidden": true
    },
    "tags": []
   },
   "outputs": [
    {
     "data": {
      "application/json": {
       "@odata.context": "#metadata/Odata.CSC.BatchOrder",
       "value": {
        "EstimatedDate": null,
        "Id": 13832,
        "KeycloakUUID": "bf4af8b8-2e6d-439c-833b-a66306a601d7",
        "Name": "DEDL - Hook tutorial - temporary storage - data-harvest - test_hook",
        "NotificationEndpoint": null,
        "NotificationEpUsername": null,
        "NotificationStatus": null,
        "Priority": 1,
        "Status": "queued",
        "SubmissionDate": "2024-05-14T12:33:18.113Z",
        "WorkflowDisplayName": "Data harvest",
        "WorkflowId": 17,
        "WorkflowName": "data-harvest",
        "WorkflowOptions": [
         {
          "Name": "brand",
          "Value": "dedl"
         },
         {
          "Name": "platform",
          "Value": "creodias"
         },
         {
          "Name": "version",
          "Value": "0.0.1"
         },
         {
          "Name": "output_storage",
          "Value": "TEMPORARY"
         },
         {
          "Name": "input_catalogue_type",
          "Value": "STAC"
         },
         {
          "Name": "input_catalogue_url",
          "Value": "https://hda.data.destination-earth.eu/stac"
         },
         {
          "Name": "input_catalogue_collection",
          "Value": "EO.ESA.DAT.SENTINEL-2.MSI.L2A"
         },
         {
          "Name": "source_client_id",
          "Value": "hda-public"
         },
         {
          "Name": "source_client_secret",
          "Value": "gAAAAABmQ1oO8bTSq0w1jJ8Mi_WdX3siRLBNvU8Jb61Z9cSo-qLUBsbylL1QX4Q1K-h80_ShmP4nP-wilYZXKw2_TQ_nr0P9tQ=="
         },
         {
          "Name": "source_username",
          "Value": "pgrzybowski_desp"
         },
         {
          "Name": "source_password",
          "Value": "gAAAAABmQ1oOU3Y35rQUoOlrcg2hHUaofL1s_bWPiL-ryWF2PAlRTeN8yhgms7L6zXfpIKW-aP_r0j_1GMGWzv3-DDmq4Rh9kIeofkxZNyPEdMgIKxCx8WE="
         },
         {
          "Name": "source_realm",
          "Value": "desp"
         },
         {
          "Name": "source_server_url",
          "Value": "https://identity.data.destination-earth.eu/auth"
         }
        ],
        "WorkflowVersion": "0.0.1"
       }
      },
      "text/plain": [
       "<IPython.core.display.JSON object>"
      ]
     },
     "execution_count": 9,
     "metadata": {
      "application/json": {
       "expanded": false,
       "indent": 2,
       "root": "root"
      }
     },
     "output_type": "execute_result"
    }
   ],
   "source": [
    "test_run_id= \"test_hook\"\n",
    "output_storage_url = \"https://s3.central.data.destination-earth.eu\"\n",
    "USERNAME = ''\n",
    "PASSWORD = ''\n",
    "\n",
    "workflow = \"data-harvest\"\n",
    "identifier = \"S2A_MSIL2A_20180124T092251_N0213_R093_T35TLG_20210214T010009.SAFE\"\n",
    "order_body_custom_bucket = {\n",
    "        \"Name\": \"DEDL - Hook tutorial - temporary storage - \" + workflow + \" - \" + test_run_id,\n",
    "        \"WorkflowName\": workflow,\n",
    "        \"IdentifierList\": [identifier],\n",
    "        \"WorkflowOptions\":[\n",
    "            {\"Name\": \"output_storage\", \"Value\": \"TEMPORARY\"},\n",
    "            {\"Name\": \"input_catalogue_type\", \"Value\": \"STAC\"},\n",
    "            {\"Name\": \"input_catalogue_url\", \"Value\": \"https://hda.data.destination-earth.eu/stac\"},\n",
    "            {\"Name\": \"input_catalogue_collection\", \"Value\": \"EO.ESA.DAT.SENTINEL-2.MSI.L2A\"},\n",
    "            {\"Name\": \"source_client_id\", \"Value\": \"hda-public\"},\n",
    "            {\"Name\": \"source_client_secret\", \"Value\": \"\"},\n",
    "            {\"Name\": \"source_username\", \"Value\": USERNAME},\n",
    "            {\"Name\": \"source_password\", \"Value\": PASSWORD},\n",
    "            {\"Name\": \"source_realm\", \"Value\": \"desp\"},\n",
    "            {\"Name\": \"source_server_url\", \"Value\": \"https://identity.data.destination-earth.eu/auth\"}    \n",
    "        ]\n",
    "    }\n",
    "request = requests.post(service_root_url+\"BatchOrder/OData.CSC.Order\",\n",
    "                            json.dumps(order_body_custom_bucket),headers=api_headers)\n",
    "JSON(request.json(), indent=2)"
   ]
  },
  {
   "cell_type": "markdown",
   "id": "79b596db",
   "metadata": {},
   "source": [
    "## Get status of your order\n",
    "* When 'Status' is 'completed' get your 'Id' (in this case 13832) and follow to the next step."
   ]
  },
  {
   "cell_type": "code",
   "execution_count": 13,
   "id": "4579cf21-86e2-403b-850c-37680d63870b",
   "metadata": {
    "collapsed": true,
    "jupyter": {
     "outputs_hidden": true
    },
    "tags": []
   },
   "outputs": [
    {
     "name": "stdout",
     "output_type": "stream",
     "text": [
      "{\n",
      "  \"@odata.context\": \"$metadata#ProductionOrder/$entity\",\n",
      "  \"value\": [\n",
      "    {\n",
      "      \"Id\": \"13832\",\n",
      "      \"Status\": \"completed\",\n",
      "      \"StatusMessage\": \"requested output product is available\",\n",
      "      \"SubmissionDate\": \"2024-05-14T12:33:18.113Z\",\n",
      "      \"Name\": \"DEDL - Hook tutorial - temporary storage - data-harvest - test_hook\",\n",
      "      \"EstimatedDate\": \"2024-05-14T12:37:17.914Z\",\n",
      "      \"InputProductReference\": {\n",
      "        \"Reference\": \"S2A_MSIL2A_20180124T092251_N0213_R093_T35TLG_20210214T010009.SAFE\",\n",
      "        \"ContentDate\": null\n",
      "      },\n",
      "      \"WorkflowOptions\": [\n",
      "        {\n",
      "          \"Name\": \"brand\",\n",
      "          \"Value\": \"dedl\"\n",
      "        },\n",
      "        {\n",
      "          \"Name\": \"platform\",\n",
      "          \"Value\": \"creodias\"\n",
      "        },\n",
      "        {\n",
      "          \"Name\": \"version\",\n",
      "          \"Value\": \"0.0.1\"\n",
      "        },\n",
      "        {\n",
      "          \"Name\": \"output_storage\",\n",
      "          \"Value\": \"TEMPORARY\"\n",
      "        },\n",
      "        {\n",
      "          \"Name\": \"input_catalogue_type\",\n",
      "          \"Value\": \"STAC\"\n",
      "        },\n",
      "        {\n",
      "          \"Name\": \"input_catalogue_url\",\n",
      "          \"Value\": \"https://hda.data.destination-earth.eu/stac\"\n",
      "        },\n",
      "        {\n",
      "          \"Name\": \"input_catalogue_collection\",\n",
      "          \"Value\": \"EO.ESA.DAT.SENTINEL-2.MSI.L2A\"\n",
      "        },\n",
      "        {\n",
      "          \"Name\": \"source_client_id\",\n",
      "          \"Value\": \"hda-public\"\n",
      "        },\n",
      "        {\n",
      "          \"Name\": \"source_username\",\n",
      "          \"Value\": \"pgrzybowski_desp\"\n",
      "        },\n",
      "        {\n",
      "          \"Name\": \"source_realm\",\n",
      "          \"Value\": \"desp\"\n",
      "        },\n",
      "        {\n",
      "          \"Name\": \"source_server_url\",\n",
      "          \"Value\": \"https://identity.data.destination-earth.eu/auth\"\n",
      "        }\n",
      "      ],\n",
      "      \"WorkflowName\": \"data-harvest\",\n",
      "      \"WorkflowId\": 11,\n",
      "      \"Priority\": 1,\n",
      "      \"NotificationEndpoint\": null,\n",
      "      \"NotificationEpUsername\": null,\n",
      "      \"NotificationStatus\": null\n",
      "    }\n",
      "  ]\n",
      "}\n"
     ]
    }
   ],
   "source": [
    "result = requests.get(service_root_url + \"ProductionOrders?$filter=(endswith(Name,'\" + test_run_id + \"'))\", headers=api_headers).json()\n",
    "print(json.dumps(result, indent=2))"
   ]
  },
  {
   "cell_type": "markdown",
   "id": "0eb4cdf0",
   "metadata": {},
   "source": [
    "## Download data  \n",
    "* Put your 'Id\" next to \"BatchOrder\" and link to download product will be provided."
   ]
  },
  {
   "cell_type": "code",
   "execution_count": 16,
   "id": "7c178a6f-b140-4262-8fca-6669ded56976",
   "metadata": {
    "collapsed": true,
    "jupyter": {
     "outputs_hidden": true
    },
    "tags": []
   },
   "outputs": [
    {
     "name": "stdout",
     "output_type": "stream",
     "text": [
      "{\n",
      "  \"@odata.context\": \"#metadata/OData.CSC.BatchorderItem\",\n",
      "  \"value\": [\n",
      "    {\n",
      "      \"Id\": 19321,\n",
      "      \"BatchOrderId\": 13832,\n",
      "      \"InputProductReference\": \"S2A_MSIL2A_20180124T092251_N0213_R093_T35TLG_20210214T010009.SAFE\",\n",
      "      \"SubmissionDate\": \"2024-05-14T12:33:18.061Z\",\n",
      "      \"Status\": \"completed\",\n",
      "      \"ProcessedName\": \"S2A_MSIL2A_20180124T092251_N0213_R093_T35TLG_20210214T010009.SAFE\",\n",
      "      \"ProcessedSize\": 269952793,\n",
      "      \"OutputUUID\": null,\n",
      "      \"DownloadLink\": \"https://s3.central.data.destination-earth.eu/swift/v1/tmp-storage/20240514_19321_VyMp5YNv.zip?temp_url_sig=966aff0a4256f7e7465ecdc98fd692afb65d427b&temp_url_expires=1716899838\",\n",
      "      \"NotificationStatus\": null,\n",
      "      \"CompletedDate\": null\n",
      "    }\n",
      "  ]\n",
      "}\n"
     ]
    }
   ],
   "source": [
    "response = requests.get('https://odp.data.destination-earth.eu/odata/v1/BatchOrder(13832)/Products', headers=api_headers)\n",
    "download_json = json.dumps(response.json(), indent=2)\n",
    "print(download_json)"
   ]
  },
  {
   "cell_type": "code",
   "execution_count": null,
   "id": "8bb78cf7",
   "metadata": {},
   "outputs": [],
   "source": []
  }
 ],
 "metadata": {
  "kernelspec": {
   "display_name": "Python 3 (ipykernel)",
   "language": "python",
   "name": "python3"
  },
  "language_info": {
   "codemirror_mode": {
    "name": "ipython",
    "version": 3
   },
   "file_extension": ".py",
   "mimetype": "text/x-python",
   "name": "python",
   "nbconvert_exporter": "python",
   "pygments_lexer": "ipython3",
   "version": "3.11.5"
  }
 },
 "nbformat": 4,
 "nbformat_minor": 5
}

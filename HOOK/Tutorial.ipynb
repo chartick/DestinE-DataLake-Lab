{
 "cells": [
  {
   "cell_type": "markdown",
   "metadata": {
    "tags": []
   },
   "source": [
    "![](https://github.com/destination-earth/DestinE-DataLake-Lab/blob/main/img/DestinE-banner.jpg?raw=true)"
   ]
  },
  {
   "cell_type": "markdown",
   "metadata": {},
   "source": [
    "**Author**: EUMETSAT <br>\n",
    "**Copyright**: 2024 EUMETSAT <br>\n",
    "**Licence**: MIT <br>\n",
    "\n",
    "# DEDL - Hook Tutorial"
   ]
  },
  {
   "cell_type": "markdown",
   "metadata": {
    "id": "yvO6LeZHsz2Q"
   },
   "source": [
    "This notebook demonstrates how to use the Hook service."
   ]
  },
  {
   "cell_type": "markdown",
   "metadata": {
    "tags": []
   },
   "source": [
    "Author: EUMETSAT"
   ]
  },
  {
   "cell_type": "markdown",
   "metadata": {
    "tags": []
   },
   "source": [
    "The detailed API and definition of each endpoint and parameters is available in the **OnDemand Processing API OData v1**  OpenAPI documentation found at:\n",
    "https://odp.data.destination-earth.eu/odata/docs\n",
    "\n",
    "Further documentation is available at:\n",
    "    https://destine-data-lake-docs.data.destination-earth.eu/en/latest/dedl-big-data-processing-services/Hook-service/Hook-service.html"
   ]
  },
  {
   "cell_type": "markdown",
   "metadata": {},
   "source": [
    "## Install python package requirements and import environment variables "
   ]
  },
  {
   "cell_type": "code",
   "execution_count": 1,
   "metadata": {
    "tags": []
   },
   "outputs": [
    {
     "name": "stdout",
     "output_type": "stream",
     "text": [
      "Requirement already satisfied: destinelab in c:\\users\\jburford\\jess\\projects\\github-destination-earth\\destine-datalake-lab\\.venv\\lib\\site-packages (0.4)\n",
      "Requirement already satisfied: requests in c:\\users\\jburford\\jess\\projects\\github-destination-earth\\destine-datalake-lab\\.venv\\lib\\site-packages (from destinelab) (2.32.3)\n",
      "Requirement already satisfied: lxml in c:\\users\\jburford\\jess\\projects\\github-destination-earth\\destine-datalake-lab\\.venv\\lib\\site-packages (from destinelab) (5.3.0)\n",
      "Requirement already satisfied: charset-normalizer<4,>=2 in c:\\users\\jburford\\jess\\projects\\github-destination-earth\\destine-datalake-lab\\.venv\\lib\\site-packages (from requests->destinelab) (3.3.2)\n",
      "Requirement already satisfied: idna<4,>=2.5 in c:\\users\\jburford\\jess\\projects\\github-destination-earth\\destine-datalake-lab\\.venv\\lib\\site-packages (from requests->destinelab) (3.8)\n",
      "Requirement already satisfied: urllib3<3,>=1.21.1 in c:\\users\\jburford\\jess\\projects\\github-destination-earth\\destine-datalake-lab\\.venv\\lib\\site-packages (from requests->destinelab) (2.2.2)\n",
      "Requirement already satisfied: certifi>=2017.4.17 in c:\\users\\jburford\\jess\\projects\\github-destination-earth\\destine-datalake-lab\\.venv\\lib\\site-packages (from requests->destinelab) (2024.7.4)\n",
      "Note: you may need to restart the kernel to use updated packages.\n",
      "Requirement already satisfied: python-dotenv in c:\\users\\jburford\\jess\\projects\\github-destination-earth\\destine-datalake-lab\\.venv\\lib\\site-packages (1.0.1)\n",
      "Note: you may need to restart the kernel to use updated packages.\n"
     ]
    }
   ],
   "source": [
    "# Note: The destinelab python package (which helps with authentication) is available already if you are using Python DEDL kernel\n",
    "# Otherwise, the destinelab python package can be installed by uncommenting the following line\n",
    "# %pip install destinelab\n",
    "# For the importing of environment variables using the load_dotenv(...) command \n",
    "%pip install python-dotenv\n"
   ]
  },
  {
   "cell_type": "code",
   "execution_count": 2,
   "metadata": {
    "id": "oyJN4WaVsz2S",
    "tags": []
   },
   "outputs": [
    {
     "data": {
      "text/plain": [
       "True"
      ]
     },
     "execution_count": 2,
     "metadata": {},
     "output_type": "execute_result"
    }
   ],
   "source": [
    "import os\n",
    "import json\n",
    "import requests\n",
    "from dotenv import load_dotenv\n",
    "from getpass import getpass\n",
    "import destinelab as destinelab\n",
    "\n",
    "# load environment variables from root .env file.\n",
    "load_dotenv()\n",
    "\n",
    "# Load other specific .env file\n",
    "load_dotenv('./.env_tutorial')\n",
    "\n"
   ]
  },
  {
   "cell_type": "markdown",
   "metadata": {},
   "source": [
    "## Authentification - Get token"
   ]
  },
  {
   "cell_type": "code",
   "execution_count": 3,
   "metadata": {
    "tags": []
   },
   "outputs": [
    {
     "name": "stdout",
     "output_type": "stream",
     "text": [
      "Response code: 200\n",
      "DEDL/DESP Access Token Obtained Successfully\n"
     ]
    }
   ],
   "source": [
    "# Enter DESP credentials.\n",
    "# .env file (ignored by git) at root of workspace can be used to set common environment variables, e.g. credentials. Note: if values change you may need to restart your kernel.\n",
    "# Otherwise, the user sets the variables manually here\n",
    "DESP_USERNAME = os.getenv('DESP_USERNAME') or input(\"Please input your DESP username or email: \")\n",
    "DESP_PASSWORD = os.getenv('DESP_PASSWORD') or getpass(\"Please input your DESP password: \")\n",
    "\n",
    "token = destinelab.AuthHandler(DESP_USERNAME, DESP_PASSWORD)          \n",
    "access_token = token.get_token()\n",
    " \n",
    "# Check the status of the request\n",
    "if access_token is not None:\n",
    "    print(\"DEDL/DESP Access Token Obtained Successfully\")\n",
    "    #Save API headers\n",
    "    api_headers = {'Authorization': 'Bearer ' + access_token}\n",
    "else:\n",
    "    print(\"Failed to Obtain DEDL/DESP Access Token\") "
   ]
  },
  {
   "cell_type": "markdown",
   "metadata": {},
   "source": [
    "## Setup static variables"
   ]
  },
  {
   "cell_type": "code",
   "execution_count": 4,
   "metadata": {
    "tags": []
   },
   "outputs": [],
   "source": [
    "# Hook service url (ending with odata/v1/ - e.g. https://odp.data.destination-earth.eu/odata/v1/)\n",
    "hook_service_root_url = \"https://odp.data.destination-earth.eu/odata/v1/\"\n"
   ]
  },
  {
   "cell_type": "markdown",
   "metadata": {
    "id": "OlvgrvV3sz2Y"
   },
   "source": [
    "## List available workflows\n",
    "\n",
    "Next we can check what possible workflows are available to us by using method   \n",
    "```https://odp.data.destination-earth.eu/odata/v1/Workflows```"
   ]
  },
  {
   "cell_type": "code",
   "execution_count": 5,
   "metadata": {
    "id": "gSxYUs_0sz2Z",
    "tags": []
   },
   "outputs": [
    {
     "name": "stdout",
     "output_type": "stream",
     "text": [
      "List of available DEDL provided Hooks\n",
      "Name:card_bs             DisplayName:Sentinel-1: Terrain-corrected backscatter\n",
      "Name:lai                 DisplayName:Sentinel-2: SNAP-Biophysical\n",
      "Name:odp-test            DisplayName:ODP Test\n",
      "Name:card_cohinf         DisplayName:Sentinel-1 Coherence/Interferometry\n",
      "Name:c2rcc               DisplayName:Sentinel-2: C2RCC\n",
      "Name:copdem              DisplayName:Copernicus DEM Mosaic\n",
      "Name:dedl_hello_world    DisplayName:DEDL Hello World\n",
      "Name:data-harvest        DisplayName:Data harvest\n",
      "Name:sen2cor             DisplayName:Sentinel-2: Sen2Cor\n",
      "Name:maja                DisplayName:Sentinel-2: MAJA Atmospheric Correction\n"
     ]
    }
   ],
   "source": [
    "#Send request and return json object listing all provided workfows, ordered by Id\n",
    "result = requests.get(hook_service_root_url+\"Workflows?$orderby=Id asc\", headers=api_headers).json()\n",
    "\n",
    "#Print provided workflows name\n",
    "print(\"List of available DEDL provided Hooks\")\n",
    "for i in range(len(result['value'])):            \n",
    "    print(f\"Name:{str(result['value'][i]['Name']).ljust(20, ' ')}DisplayName:{str(result['value'][i]['DisplayName'])}\") # print JSON string "
   ]
  },
  {
   "cell_type": "code",
   "execution_count": 6,
   "metadata": {
    "tags": []
   },
   "outputs": [
    {
     "name": "stdout",
     "output_type": "stream",
     "text": [
      "{\n",
      "    \"@odata.context\": \"$metadata#Workflows/$entity\",\n",
      "    \"value\": [\n",
      "        {\n",
      "            \"Id\": \"1\",\n",
      "            \"Uuid\": null,\n",
      "            \"Name\": \"card_bs\",\n",
      "            \"DisplayName\": \"Sentinel-1: Terrain-corrected backscatter\",\n",
      "            \"Documentation\": \"\",\n",
      "            \"Description\": \"Sentinel-1 CARD BS (Copernicus Analysis Ready Data Backscatter) processor generates terrain-corrected geocoded Sentinel-1 Level 2 backscattering by removing the radiometric effect imposed by relief (provided by DEM). This allows comparability of images, e.g. for analysis of changes in land cover. This processor provided by the Joint Research Centre is based on a GPT graph that can be run with ESA SNAP.\",\n",
      "            \"InputProductType\": \"GRD\",\n",
      "            \"InputProductTypes\": [\n",
      "                \"GRD\",\n",
      "                \"IW_GRDH_1S\",\n",
      "                \"IW_GRDM_1S\",\n",
      "                \"EW_GRDH_1S\",\n",
      "                \"EW_GRDM_1S\",\n",
      "                \"WV_GRDM_1S\",\n",
      "                \"GRD-COG\",\n",
      "                \"IW_GRDH_1S-COG\",\n",
      "                \"IW_GRDM_1S-COG\",\n",
      "                \"EW_GRDH_1S-COG\",\n",
      "                \"EW_GRDM_1S-COG\",\n",
      "                \"WV_GRDM_1S-COG\"\n",
      "            ],\n",
      "            \"OutputProductType\": \"CARD-BS\",\n",
      "            \"OutputProductTypes\": [\n",
      "                \"CARD-BS\"\n",
      "            ],\n",
      "            \"WorkflowVersion\": \"3.6.2\",\n",
      "            \"CustomInputSource\": false,\n",
      "            \"InputProductStatusOffline\": false\n",
      "        },\n",
      "        {\n",
      "            \"Id\": \"2\",\n",
      "            \"Uuid\": null,\n",
      "            \"Name\": \"lai\",\n",
      "            \"DisplayName\": \"Sentinel-2: SNAP-Biophysical\",\n",
      "            \"Documentation\": \"\",\n",
      "            \"Description\": \"The SNAP-BIOPHYSICAL processor derives vegetation biophysical variables based on top-of-canopy spectral reflectances from Sentinel-2 data. Following the approach described by Weiss et al. (2000, DOI: 10.1051/agro:2000105), the processor estimates: LAI (Leaf Area Index), FAPAR (Fraction of Absorbed Photosynthetically Active Radiation) and FVC (Fractional Vegetation Cover), all recognized as Essential Climate Variables (ECVs) by international organizations such as the Global Climate Observing System (GCOS)\",\n",
      "            \"InputProductType\": \"S2MSI2A\",\n",
      "            \"InputProductTypes\": [\n",
      "                \"S2MSI2A\"\n",
      "            ],\n",
      "            \"OutputProductType\": null,\n",
      "            \"OutputProductTypes\": [],\n",
      "            \"WorkflowVersion\": \"1.1.1\",\n",
      "            \"CustomInputSource\": false,\n",
      "            \"InputProductStatusOffline\": false\n",
      "        },\n",
      "        {\n",
      "            \"Id\": \"3\",\n",
      "            \"Uuid\": null,\n",
      "            \"Name\": \"odp-test\",\n",
      "            \"DisplayName\": \"ODP Test\",\n",
      "            \"Documentation\": null,\n",
      "            \"Description\": null,\n",
      "            \"InputProductType\": null,\n",
      "            \"InputProductTypes\": [],\n",
      "            \"OutputProductType\": null,\n",
      "            \"OutputProductTypes\": [],\n",
      "            \"WorkflowVersion\": \"1.0.0\",\n",
      "            \"CustomInputSource\": false,\n",
      "            \"InputProductStatusOffline\": false\n",
      "        },\n",
      "        {\n",
      "            \"Id\": \"5\",\n",
      "            \"Uuid\": null,\n",
      "            \"Name\": \"card_cohinf\",\n",
      "            \"DisplayName\": \"Sentinel-1 Coherence/Interferometry\",\n",
      "            \"Documentation\": null,\n",
      "            \"Description\": \"The Sentinel-1 CARD COH-INF (Copernicus Analysis Ready Data Coherence/Interferometry) processor generates a Sentinel-1 product form SLC product type. Concurrently, a terrain-correction (using DEM) is performed. This processor provided by the Joint Research Centre is based on a GPT graph that can be run with ESA SNAP.\",\n",
      "            \"InputProductType\": \"SLC\",\n",
      "            \"InputProductTypes\": [\n",
      "                \"SLC\",\n",
      "                \"S1_SLC__1S\",\n",
      "                \"S2_SLC__1S\",\n",
      "                \"S3_SLC__1S\",\n",
      "                \"S4_SLC__1S\",\n",
      "                \"S5_SLC__1S\",\n",
      "                \"S6_SLC__1S\",\n",
      "                \"IW_SLC__1S\",\n",
      "                \"EW_SLC__1S\",\n",
      "                \"WV_SLC__1S\"\n",
      "            ],\n",
      "            \"OutputProductType\": null,\n",
      "            \"OutputProductTypes\": [],\n",
      "            \"WorkflowVersion\": \"1.0.0\",\n",
      "            \"CustomInputSource\": false,\n",
      "            \"InputProductStatusOffline\": false\n",
      "        },\n",
      "        {\n",
      "            \"Id\": \"6\",\n",
      "            \"Uuid\": null,\n",
      "            \"Name\": \"c2rcc\",\n",
      "            \"DisplayName\": \"Sentinel-2: C2RCC\",\n",
      "            \"Documentation\": null,\n",
      "            \"Description\": \"The C2RCC (Case 2 Regional Coast Colour) processor allows water constituents in coastal or inland water bodies to be derived from optical satellite data. The processor uses a database of radiative transfer simulations inverted by neural networks. It can be applied to all past and current ocean colour sensors as well as Sentinel-2 imagery. It has been validated in various studies and is also implemented in SNAP. It is also used in the Sentinel 3 OLCI ground segment processor for the generation of the Case 2 water products.\",\n",
      "            \"InputProductType\": \"S2MSI1C\",\n",
      "            \"InputProductTypes\": [\n",
      "                \"S2MSI1C\",\n",
      "                \"OL_2_LFR___\",\n",
      "                \"OL_2_LRR___\",\n",
      "                \"OL_2_WFR___\",\n",
      "                \"OL_2_WRR___\"\n",
      "            ],\n",
      "            \"OutputProductType\": null,\n",
      "            \"OutputProductTypes\": [],\n",
      "            \"WorkflowVersion\": \"1.1.1\",\n",
      "            \"CustomInputSource\": false,\n",
      "            \"InputProductStatusOffline\": false\n",
      "        },\n",
      "        {\n",
      "            \"Id\": \"8\",\n",
      "            \"Uuid\": null,\n",
      "            \"Name\": \"copdem\",\n",
      "            \"DisplayName\": \"Copernicus DEM Mosaic\",\n",
      "            \"Documentation\": null,\n",
      "            \"Description\": \"The CopDEM workflow first searches the catalogue for products that intersect the input product geometry and are of product type DGE_30. The processor then executes SNAP/GDAL methods and generates input products into the output dem.tif file.\",\n",
      "            \"InputProductType\": \"*\",\n",
      "            \"InputProductTypes\": [\n",
      "                \"*\"\n",
      "            ],\n",
      "            \"OutputProductType\": null,\n",
      "            \"OutputProductTypes\": [],\n",
      "            \"WorkflowVersion\": \"1.0\",\n",
      "            \"CustomInputSource\": false,\n",
      "            \"InputProductStatusOffline\": false\n",
      "        },\n",
      "        {\n",
      "            \"Id\": \"10\",\n",
      "            \"Uuid\": null,\n",
      "            \"Name\": \"dedl_hello_world\",\n",
      "            \"DisplayName\": \"DEDL Hello World\",\n",
      "            \"Documentation\": null,\n",
      "            \"Description\": \"DEDL Hello World processor\",\n",
      "            \"InputProductType\": \"*\",\n",
      "            \"InputProductTypes\": [\n",
      "                \"*\"\n",
      "            ],\n",
      "            \"OutputProductType\": null,\n",
      "            \"OutputProductTypes\": [],\n",
      "            \"WorkflowVersion\": \"1.1.0\",\n",
      "            \"CustomInputSource\": false,\n",
      "            \"InputProductStatusOffline\": false\n",
      "        },\n",
      "        {\n",
      "            \"Id\": \"11\",\n",
      "            \"Uuid\": null,\n",
      "            \"Name\": \"data-harvest\",\n",
      "            \"DisplayName\": \"Data harvest\",\n",
      "            \"Documentation\": null,\n",
      "            \"Description\": \"Data-harvest is a workflow allows to download data from external sources. It requires URL to the external catalogue, credentials and data to download. The workflow is mainly used to download data from HDA (https://hda.data.destination-earth.eu/) using STAC.\",\n",
      "            \"InputProductType\": null,\n",
      "            \"InputProductTypes\": [],\n",
      "            \"OutputProductType\": null,\n",
      "            \"OutputProductTypes\": [],\n",
      "            \"WorkflowVersion\": \"0.0.1\",\n",
      "            \"CustomInputSource\": false,\n",
      "            \"InputProductStatusOffline\": false\n",
      "        },\n",
      "        {\n",
      "            \"Id\": \"45\",\n",
      "            \"Uuid\": null,\n",
      "            \"Name\": \"sen2cor\",\n",
      "            \"DisplayName\": \"Sentinel-2: Sen2Cor\",\n",
      "            \"Documentation\": null,\n",
      "            \"Description\": \"The Sen2Cor processor generates Sentinel-2 Level 2A product (Bottom-Of-Atmosphere reflectances) by performing the atmospheric, terrain and cirrus correction of Top-Of-Atmosphere Level 1C input data. In addition, Aerosol Optical Thickness, Water Vapor, Scene Classification Maps and Quality Indicators for cloud and snow probabilities can be generated. The Sen2Cor products are in the equivalent format to the Level 1C User Product: JPEG 2000 images, preserving the original band spatial resolutions, i.e. 10, 20 and 60 meters.\",\n",
      "            \"InputProductType\": \"S2MSI1C\",\n",
      "            \"InputProductTypes\": [\n",
      "                \"S2MSI1C\"\n",
      "            ],\n",
      "            \"OutputProductType\": null,\n",
      "            \"OutputProductTypes\": [],\n",
      "            \"WorkflowVersion\": \"2.10.0\",\n",
      "            \"CustomInputSource\": false,\n",
      "            \"InputProductStatusOffline\": false\n",
      "        },\n",
      "        {\n",
      "            \"Id\": \"46\",\n",
      "            \"Uuid\": null,\n",
      "            \"Name\": \"maja\",\n",
      "            \"DisplayName\": \"Sentinel-2: MAJA Atmospheric Correction\",\n",
      "            \"Documentation\": null,\n",
      "            \"Description\": \"The Sentinel-2 L2A MAJA (The MACCS-ATCOR Joint Algorithm) is a processor for generation of Bottom-of-Atmoshere reflectances of Sentinel-2 imagery. It builds on MACCS (Multi-sensor Atmospheric Correction and Cloud Screening) developed by CNES and CESBIO, and features from ATCOR (Atmospheric and Topographic Correction) developed by the German Aerospace Centre (DLR).  It performs atmospheric correction, cloud and cloud shadow masking, and topographic correction. For atmospheric correction, MAJA retrieves  aerosol optical thickness from  multi-temporal data assuming the relative stability of surface reflectances with time (within a few days), compared to the high variability of AOT (which can change hourly). That is why MAJA operates on a series of Sentinel-2 images rather than a single image. MAJA can also use information on AOT from Copernicus Atmosphere Monitoring Service (CAMS).\",\n",
      "            \"InputProductType\": \"S2MSI1C\",\n",
      "            \"InputProductTypes\": [\n",
      "                \"S2MSI1C\"\n",
      "            ],\n",
      "            \"OutputProductType\": null,\n",
      "            \"OutputProductTypes\": [],\n",
      "            \"WorkflowVersion\": \"3.0.1\",\n",
      "            \"CustomInputSource\": false,\n",
      "            \"InputProductStatusOffline\": false\n",
      "        }\n",
      "    ]\n",
      "}\n"
     ]
    }
   ],
   "source": [
    "# Print result JSON object: containing provided workflow list\n",
    "workflow_details = json.dumps(result, indent=4)\n",
    "print(workflow_details)"
   ]
  },
  {
   "cell_type": "markdown",
   "metadata": {
    "tags": []
   },
   "source": [
    "## Select a workflow and see parameters"
   ]
  },
  {
   "cell_type": "markdown",
   "metadata": {
    "id": "jNSqMuRCsz2Z"
   },
   "source": [
    "If we want to see the details of a specific workflow, showing us the parameters that can be set for that workflow, we can add a filter to the query as follows:\n",
    "\n",
    "```https://odp.data.destination-earth.eu/odata/v1/Workflows?$expand=WorkflowOptions&$filter=(Name eq data-harvest)```   \n",
    "\n",
    "**\\\\$expand=WorkflowOptions** shows all parameters accepted by workflow   \n",
    "**\\\\$filter=(Name eq data-harvest)** narrows the result to workflow called \"data-harvest\""
   ]
  },
  {
   "cell_type": "code",
   "execution_count": 7,
   "metadata": {
    "id": "UEvKzPclsz2b",
    "tags": []
   },
   "outputs": [
    {
     "name": "stdout",
     "output_type": "stream",
     "text": [
      "{\n",
      "    \"@odata.context\": \"$metadata#Workflows/$entity\",\n",
      "    \"value\": [\n",
      "        {\n",
      "            \"Id\": \"11\",\n",
      "            \"Uuid\": null,\n",
      "            \"Name\": \"data-harvest\",\n",
      "            \"DisplayName\": \"Data harvest\",\n",
      "            \"Documentation\": null,\n",
      "            \"Description\": \"Data-harvest is a workflow allows to download data from external sources. It requires URL to the external catalogue, credentials and data to download. The workflow is mainly used to download data from HDA (https://hda.data.destination-earth.eu/) using STAC.\",\n",
      "            \"InputProductType\": null,\n",
      "            \"InputProductTypes\": [],\n",
      "            \"OutputProductType\": null,\n",
      "            \"OutputProductTypes\": [],\n",
      "            \"WorkflowVersion\": \"0.0.1\",\n",
      "            \"WorkflowOptions\": [\n",
      "                {\n",
      "                    \"Name\": \"output_storage\",\n",
      "                    \"Description\": \"Output storage type, with viable values being: 'PRIVATE', 'TEMPORARY'. If equal to 'PRIVATE' then all 'output_s3_*' parameters are required.\",\n",
      "                    \"Type\": \"str\",\n",
      "                    \"Default\": null,\n",
      "                    \"Value\": [\n",
      "                        {\n",
      "                            \"value\": \"PRIVATE\",\n",
      "                            \"condition\": null\n",
      "                        },\n",
      "                        {\n",
      "                            \"value\": \"TEMPORARY\",\n",
      "                            \"condition\": null\n",
      "                        }\n",
      "                    ],\n",
      "                    \"Required\": true\n",
      "                },\n",
      "                {\n",
      "                    \"Name\": \"output_s3_endpoint_url\",\n",
      "                    \"Description\": \"URL to s3endpoint where the output should be stored. Use only when 'output_storage' is equal to 'PRIVATE'.\",\n",
      "                    \"Type\": \"str\",\n",
      "                    \"Default\": null,\n",
      "                    \"Value\": null,\n",
      "                    \"Required\": true\n",
      "                },\n",
      "                {\n",
      "                    \"Name\": \"output_s3_access_key\",\n",
      "                    \"Description\": \"Access key to your s3endpoint provided in 's3_endpoint_url'. Use only when 'output_storage' is equal to 'PRIVATE'.\",\n",
      "                    \"Type\": \"str\",\n",
      "                    \"Default\": null,\n",
      "                    \"Value\": null,\n",
      "                    \"Required\": true\n",
      "                },\n",
      "                {\n",
      "                    \"Name\": \"output_s3_secret_key\",\n",
      "                    \"Description\": \"Secret key to your s3endpoint provided in 's3_endpoint_url'. Use only when 'output_storage' is equal to 'PRIVATE'.\",\n",
      "                    \"Type\": \"str\",\n",
      "                    \"Default\": null,\n",
      "                    \"Value\": null,\n",
      "                    \"Required\": true\n",
      "                },\n",
      "                {\n",
      "                    \"Name\": \"output_s3_path\",\n",
      "                    \"Description\": \"The path (with bucket and prefix, in format s3://bucket/prefix) in your s3 storage, where the output should be stored. Use only when 'output_storage' is equal to 'PRIVATE'.\",\n",
      "                    \"Type\": \"str\",\n",
      "                    \"Default\": null,\n",
      "                    \"Value\": null,\n",
      "                    \"Required\": true\n",
      "                },\n",
      "                {\n",
      "                    \"Name\": \"source_type\",\n",
      "                    \"Description\": \"The type of input source. Available values are: 'DESP' (DESP auth in DEDL, requires 'desp_source_*' options), 'EXTERNAL' (external catalogue, requires 'source_*' options) (default: EXTERNAL).\",\n",
      "                    \"Type\": \"str\",\n",
      "                    \"Default\": \"EXTERNAL\",\n",
      "                    \"Value\": [\n",
      "                        {\n",
      "                            \"value\": \"DESP\",\n",
      "                            \"condition\": null\n",
      "                        },\n",
      "                        {\n",
      "                            \"value\": \"EXTERNAL\",\n",
      "                            \"condition\": null\n",
      "                        }\n",
      "                    ],\n",
      "                    \"Required\": true\n",
      "                },\n",
      "                {\n",
      "                    \"Name\": \"source_catalogue_api_url\",\n",
      "                    \"Description\": \"Url to the external catalogue. Required with other 'source_*' options when 'source_type' is equal to 'EXTERNAL'. \",\n",
      "                    \"Type\": \"str\",\n",
      "                    \"Default\": null,\n",
      "                    \"Value\": null,\n",
      "                    \"Required\": true\n",
      "                },\n",
      "                {\n",
      "                    \"Name\": \"source_catalogue_api_type\",\n",
      "                    \"Description\": \"API type in external catalogue. Viable values are: . Required with other 'source_*' options when 'source_type' is equal to 'EXTERNAL'. \",\n",
      "                    \"Type\": \"str\",\n",
      "                    \"Default\": null,\n",
      "                    \"Value\": [\n",
      "                        {\n",
      "                            \"value\": \"STAC\",\n",
      "                            \"condition\": null\n",
      "                        },\n",
      "                        {\n",
      "                            \"value\": \"ODATA\",\n",
      "                            \"condition\": null\n",
      "                        }\n",
      "                    ],\n",
      "                    \"Required\": true\n",
      "                },\n",
      "                {\n",
      "                    \"Name\": \"source_token_url\",\n",
      "                    \"Description\": \"Token url used to authenticate in external catalogue. It should be the full url with the realm (e.g. https://identity.data.destination-earth.eu/auth/realms/dedl/protocol/openid-connect/token). Required with other 'source_*' options when 'source_type' is equal to 'EXTERNAL'. \",\n",
      "                    \"Type\": \"str\",\n",
      "                    \"Default\": null,\n",
      "                    \"Value\": null,\n",
      "                    \"Required\": true\n",
      "                },\n",
      "                {\n",
      "                    \"Name\": \"source_grant_type\",\n",
      "                    \"Description\": \"Grant type used to authenticate in external catalogue. One of: 'PASSWORD', 'CLIENT_CREDENTIALS'. Required with other 'source_*' options when 'source_type' is equal to 'EXTERNAL'. (default: PASSWORD).\",\n",
      "                    \"Type\": \"str\",\n",
      "                    \"Default\": \"PASSWORD\",\n",
      "                    \"Value\": [\n",
      "                        {\n",
      "                            \"value\": \"PASSWORD\",\n",
      "                            \"condition\": null\n",
      "                        },\n",
      "                        {\n",
      "                            \"value\": \"CLIENT_CREDENTIALS\",\n",
      "                            \"condition\": null\n",
      "                        }\n",
      "                    ],\n",
      "                    \"Required\": true\n",
      "                },\n",
      "                {\n",
      "                    \"Name\": \"source_auth_header_name\",\n",
      "                    \"Description\": \"Header used to authenticate in external catalogue. Required with other 'source_*' options when 'source_type' is equal to 'EXTERNAL'. (default: 'Authorization').\",\n",
      "                    \"Type\": \"str\",\n",
      "                    \"Default\": \"Authorization\",\n",
      "                    \"Value\": null,\n",
      "                    \"Required\": true\n",
      "                },\n",
      "                {\n",
      "                    \"Name\": \"source_username\",\n",
      "                    \"Description\": \"Username used to authenticate in external catalogue. Required with other 'source_*' options when 'source_type' is equal to 'EXTERNAL'. \",\n",
      "                    \"Type\": \"str\",\n",
      "                    \"Default\": null,\n",
      "                    \"Value\": null,\n",
      "                    \"Required\": true\n",
      "                },\n",
      "                {\n",
      "                    \"Name\": \"source_password\",\n",
      "                    \"Description\": \"Password used to authenticate in external catalogue. Required with other 'source_*' options when 'source_type' is equal to 'EXTERNAL'. \",\n",
      "                    \"Type\": \"str\",\n",
      "                    \"Default\": null,\n",
      "                    \"Value\": null,\n",
      "                    \"Required\": true\n",
      "                },\n",
      "                {\n",
      "                    \"Name\": \"source_client_id\",\n",
      "                    \"Description\": \"Client id used to authenticate in external catalogue. Required with other 'source_*' options when 'source_type' is equal to 'EXTERNAL'. \",\n",
      "                    \"Type\": \"str\",\n",
      "                    \"Default\": null,\n",
      "                    \"Value\": null,\n",
      "                    \"Required\": true\n",
      "                },\n",
      "                {\n",
      "                    \"Name\": \"source_client_secret\",\n",
      "                    \"Description\": \"Client secret used to authenticate in external catalogue. Available when 'source_type' is equal to to 'EXTERNAL'. If not provided, usually empty string is used when authenticating.\",\n",
      "                    \"Type\": \"str\",\n",
      "                    \"Default\": null,\n",
      "                    \"Value\": null,\n",
      "                    \"Required\": false\n",
      "                },\n",
      "                {\n",
      "                    \"Name\": \"source_catalogue_collection\",\n",
      "                    \"Description\": \"Collection name in external catalogue. Available when 'source_type' is equal to to 'EXTERNAL' and required when'source_catalogue_api_type' is equal to to 'STAC'.\",\n",
      "                    \"Type\": \"str\",\n",
      "                    \"Default\": null,\n",
      "                    \"Value\": null,\n",
      "                    \"Required\": false\n",
      "                },\n",
      "                {\n",
      "                    \"Name\": \"desp_source_username\",\n",
      "                    \"Description\": \"Username to DESP service. Usable only in DEDL project. Required with other 'desp_*' options when 'source_type' is equal to 'DESP'. \",\n",
      "                    \"Type\": \"str\",\n",
      "                    \"Default\": null,\n",
      "                    \"Value\": null,\n",
      "                    \"Required\": true\n",
      "                },\n",
      "                {\n",
      "                    \"Name\": \"desp_source_password\",\n",
      "                    \"Description\": \"Password to DESP service. Usable only in DEDL project. Required with other 'desp_*' options when 'source_type' is equal to 'DESP'. \",\n",
      "                    \"Type\": \"str\",\n",
      "                    \"Default\": null,\n",
      "                    \"Value\": null,\n",
      "                    \"Required\": true\n",
      "                },\n",
      "                {\n",
      "                    \"Name\": \"desp_source_collection\",\n",
      "                    \"Description\": \"Collection name to DESP service. Usable only in DEDL project. Required with other 'desp_*' options when 'source_type' is equal to 'DESP'. \",\n",
      "                    \"Type\": \"str\",\n",
      "                    \"Default\": null,\n",
      "                    \"Value\": null,\n",
      "                    \"Required\": true\n",
      "                }\n",
      "            ],\n",
      "            \"CustomInputSource\": false,\n",
      "            \"InputProductStatusOffline\": false\n",
      "        }\n",
      "    ]\n",
      "}\n"
     ]
    }
   ],
   "source": [
    "# Select workflow \n",
    "workflow = \"data-harvest\" # Here we set the data-haverst workflow\n",
    "\n",
    "# Send request\n",
    "result = requests.get(f\"{hook_service_root_url}Workflows?$expand=WorkflowOptions&$filter=(Name eq '{workflow}')\",headers=api_headers).json()\n",
    "workflow_details = json.dumps(result, indent=4)\n",
    "print(workflow_details) # print formatted workflow_details, a JSON string \n",
    "\n"
   ]
  },
  {
   "cell_type": "markdown",
   "metadata": {},
   "source": [
    "## Order provided workflow: Data-Harvest"
   ]
  },
  {
   "cell_type": "markdown",
   "metadata": {},
   "source": [
    "### Select workflow\n",
    "workflow = \"data-harvest\". \n",
    "\n",
    "- Make an order to 'harvest data' using Harmonised Data Access API. \n",
    "- i.e. data from an input source can be transferred to a Private bucket or a Temporary storage bucket."
   ]
  },
  {
   "cell_type": "code",
   "execution_count": 8,
   "metadata": {
    "tags": []
   },
   "outputs": [],
   "source": [
    "#Select workflow\n",
    "workflow = \"data-harvest\""
   ]
  },
  {
   "cell_type": "markdown",
   "metadata": {
    "tags": []
   },
   "source": [
    "### Name your order"
   ]
  },
  {
   "cell_type": "code",
   "execution_count": 9,
   "metadata": {
    "tags": []
   },
   "outputs": [
    {
     "name": "stdout",
     "output_type": "stream",
     "text": [
      "order_name:jess11\n"
     ]
    }
   ],
   "source": [
    "# ID of the run. This can be used to easily identify the running process, and filter orders futher on.\n",
    "order_name = os.getenv('ORDER_NAME') or input(\"Name your order: \")\n",
    "print(f\"order_name:{order_name}\")\n"
   ]
  },
  {
   "cell_type": "markdown",
   "metadata": {},
   "source": [
    "### Define output storage"
   ]
  },
  {
   "cell_type": "markdown",
   "metadata": {},
   "source": [
    "In workflow parameters, among others values, storage to retreive the result has to be provided.  \n",
    "**Two possibilites:**\n",
    "1. Use your user storage \n",
    "2. Use a temporary storage "
   ]
  },
  {
   "cell_type": "markdown",
   "metadata": {
    "tags": []
   },
   "source": [
    "#### 1. - Your user storage (provided by DEDL ISLET service)"
   ]
  },
  {
   "cell_type": "markdown",
   "metadata": {},
   "source": [
    "Example using a S3 bucket created with ISLET Storage service  - result will be available in this bucket\n",
    "> *workflow parameter: {\"Name\": \"output_storage\", \"Value\": \"PRIVATE\"}*"
   ]
  },
  {
   "cell_type": "code",
   "execution_count": 10,
   "metadata": {
    "tags": []
   },
   "outputs": [],
   "source": [
    "# Output storage - Islet service\n",
    "# URL of the S3 endpoint in the Central Site \n",
    "output_storage_url = \"https://s3.central.data.destination-earth.eu\"\n",
    "# name of the object storage bucket where the results will be stored\n",
    "output_bucket = \"your-bucket-name\"\n",
    "# Islet object storage credentials (openstack ec2 credentials)\n",
    "output_storage_access_key = \"your-access-key\"\n",
    "output_storage_secret_key = \"your-secret-key\"\n",
    "output_prefix = \"dedl_\" + order_name"
   ]
  },
  {
   "cell_type": "markdown",
   "metadata": {},
   "source": [
    "#### 2 - Use temporary storage"
   ]
  },
  {
   "cell_type": "markdown",
   "metadata": {},
   "source": [
    "The result of processing will be stored in shared storage and download link provided in the output product details\n",
    "> *workflow parameter: {\"Name\": \"output_storage\", \"Value\": \"TEMPORARY\"}*"
   ]
  },
  {
   "cell_type": "markdown",
   "metadata": {},
   "source": [
    "### Define parameters and send order"
   ]
  },
  {
   "cell_type": "code",
   "execution_count": 11,
   "metadata": {
    "tags": []
   },
   "outputs": [],
   "source": [
    "#Data have been previously discovered and search\n",
    "STAC_HDA_API_URL = \"https://hda.data.destination-earth.eu/stac\"\n",
    "\n"
   ]
  },
  {
   "cell_type": "code",
   "execution_count": 12,
   "metadata": {
    "tags": []
   },
   "outputs": [
    {
     "name": "stdout",
     "output_type": "stream",
     "text": [
      "https://hda.data.destination-earth.eu/stac/collections/EO.ESA.DAT.SENTINEL-2.MSI.L1C\n",
      "{\n",
      "    \"@odata.context\": \"#metadata/Odata.CSC.BatchOrder\",\n",
      "    \"value\": {\n",
      "        \"Name\": \"Tutorial data-harvest - jess11\",\n",
      "        \"Priority\": 1,\n",
      "        \"WorkflowName\": \"data-harvest\",\n",
      "        \"NotificationEndpoint\": null,\n",
      "        \"NotificationEpUsername\": null,\n",
      "        \"NotificationStatus\": null,\n",
      "        \"WorkflowOptions\": [\n",
      "            {\n",
      "                \"Name\": \"platform\",\n",
      "                \"Value\": \"dedl\"\n",
      "            },\n",
      "            {\n",
      "                \"Name\": \"version\",\n",
      "                \"Value\": \"0.0.1\"\n",
      "            },\n",
      "            {\n",
      "                \"Name\": \"output_storage\",\n",
      "                \"Value\": \"TEMPORARY\"\n",
      "            },\n",
      "            {\n",
      "                \"Name\": \"source_type\",\n",
      "                \"Value\": \"DESP\"\n",
      "            },\n",
      "            {\n",
      "                \"Name\": \"desp_source_username\",\n",
      "                \"Value\": \"eum-dedl-user\"\n",
      "            },\n",
      "            {\n",
      "                \"Name\": \"desp_source_password\",\n",
      "                \"Value\": \"gAAAAABm1eUSv4x7_fvwiTuUYKY11xy6kNTEEZfJTyxCae0sbKZ19cQxkW1Wyjgre0gIt5r-pqm_u07cirmKBn7JPAmKxyIW-w==\"\n",
      "            },\n",
      "            {\n",
      "                \"Name\": \"desp_source_collection\",\n",
      "                \"Value\": \"EO.ESA.DAT.SENTINEL-2.MSI.L1C\"\n",
      "            }\n",
      "        ],\n",
      "        \"Id\": 25380,\n",
      "        \"Status\": \"queued\",\n",
      "        \"SubmissionDate\": \"2024-09-02T16:17:22.942Z\",\n",
      "        \"EstimatedDate\": null,\n",
      "        \"KeycloakUUID\": \"8f9744fd-cf07-4237-85e9-e21afc5e1157\",\n",
      "        \"WorkflowId\": 17,\n",
      "        \"WorkflowDisplayName\": \"Data harvest\",\n",
      "        \"WorkflowVersion\": \"0.0.1\"\n",
      "    }\n",
      "}\n"
     ]
    }
   ],
   "source": [
    "#Set collection where the item can be found\n",
    "COLLECTION_ID = \"EO.ESA.DAT.SENTINEL-2.MSI.L1C\"\n",
    "print(STAC_HDA_API_URL+\"/collections/\"+COLLECTION_ID)\n",
    "\n",
    "#data to retreive\n",
    "data_id = \"S2A_MSIL1C_20230910T050701_N0509_R019_T47VLH_20230910T074321.SAFE\"\n",
    "\n",
    "#Build your order body : Using DESP source type for simplified configuration\n",
    "\n",
    "order_body_custom_bucket = {\n",
    "       \"Name\": \"Tutorial \" + workflow + \" - \" + order_name,\n",
    "       \"WorkflowName\": workflow,\n",
    "       \"IdentifierList\": [data_id],\n",
    "       \"WorkflowOptions\":[\n",
    "           {\"Name\": \"output_storage\", \"Value\": \"TEMPORARY\"},\n",
    "           {\"Name\": \"source_type\", \"Value\": \"DESP\"},\n",
    "           {\"Name\": \"desp_source_username\", \"Value\": DESP_USERNAME},\n",
    "           {\"Name\": \"desp_source_password\", \"Value\": DESP_PASSWORD},\n",
    "           {\"Name\": \"desp_source_collection\", \"Value\": \"EO.ESA.DAT.SENTINEL-2.MSI.L1C\"}\n",
    "       ]\n",
    "   }\n",
    "\n",
    "#Send order\n",
    "order_request = requests.post(hook_service_root_url+\"BatchOrder/OData.CSC.Order\",\n",
    "                            json.dumps(order_body_custom_bucket),headers=api_headers).json()\n",
    "\n",
    "#If code = 201, the order has been successfully sent\n",
    "\n",
    "# Print order_request JSON object: containing order_request details\n",
    "order_reques_details = json.dumps(order_request, indent=4)\n",
    "print(order_reques_details)"
   ]
  },
  {
   "cell_type": "markdown",
   "metadata": {},
   "source": [
    "It is possible to order multiple product using endpoint: \n",
    "```https://odp.data.destination-earth.eu/odata/v1/BatchOrder/OData.CSC.Order```   "
   ]
  },
  {
   "cell_type": "markdown",
   "metadata": {},
   "source": [
    "## Check The status of the order\n",
    "\n",
    "Possible status\n",
    "- queued (i.e. queued for treatment but not started)\n",
    "- in_progress (i.e. order being treated)\n",
    "- completed (i.e. order is complete and data ready)"
   ]
  },
  {
   "cell_type": "code",
   "execution_count": 13,
   "metadata": {
    "tags": []
   },
   "outputs": [
    {
     "name": "stdout",
     "output_type": "stream",
     "text": [
      "\n",
      "order id: 25380\n",
      "Status: queued\n",
      "\n",
      "order id: 25379\n",
      "Status: completed\n",
      "\n",
      "order id: 25377\n",
      "Status: completed\n",
      "\n",
      "order id: 25376\n",
      "Status: completed\n"
     ]
    },
    {
     "data": {
      "text/plain": [
       "{'@odata.context': '$metadata#ProductionOrder/$entity',\n",
       " 'value': [{'Id': '25380',\n",
       "   'Status': 'queued',\n",
       "   'StatusMessage': 'request is queued for processing',\n",
       "   'SubmissionDate': '2024-09-02T16:17:22.942Z',\n",
       "   'Name': 'Tutorial data-harvest - jess11',\n",
       "   'EstimatedDate': '2024-09-02T16:22:51.958Z',\n",
       "   'InputProductReference': {'Reference': 'S2A_MSIL1C_20230910T050701_N0509_R019_T47VLH_20230910T074321.SAFE',\n",
       "    'ContentDate': None},\n",
       "   'WorkflowOptions': [{'Name': 'platform', 'Value': 'dedl'},\n",
       "    {'Name': 'version', 'Value': '0.0.1'},\n",
       "    {'Name': 'output_storage', 'Value': 'TEMPORARY'},\n",
       "    {'Name': 'source_type', 'Value': 'DESP'},\n",
       "    {'Name': 'desp_source_username', 'Value': 'eum-dedl-user'},\n",
       "    {'Name': 'desp_source_collection',\n",
       "     'Value': 'EO.ESA.DAT.SENTINEL-2.MSI.L1C'}],\n",
       "   'WorkflowName': 'data-harvest',\n",
       "   'WorkflowId': 11,\n",
       "   'Priority': 1,\n",
       "   'NotificationEndpoint': None,\n",
       "   'NotificationEpUsername': None,\n",
       "   'NotificationStatus': None},\n",
       "  {'Id': '25379',\n",
       "   'Status': 'completed',\n",
       "   'StatusMessage': 'requested output product is available',\n",
       "   'SubmissionDate': '2024-09-02T16:05:42.586Z',\n",
       "   'Name': 'Tutorial data-harvest - jess11',\n",
       "   'EstimatedDate': '2024-09-02T16:11:11.589Z',\n",
       "   'InputProductReference': {'Reference': 'S2A_MSIL1C_20230910T050701_N0509_R019_T47VLH_20230910T074321.SAFE',\n",
       "    'ContentDate': None},\n",
       "   'WorkflowOptions': [{'Name': 'platform', 'Value': 'dedl'},\n",
       "    {'Name': 'version', 'Value': '0.0.1'},\n",
       "    {'Name': 'output_storage', 'Value': 'TEMPORARY'},\n",
       "    {'Name': 'source_type', 'Value': 'DESP'},\n",
       "    {'Name': 'desp_source_username', 'Value': 'eum-dedl-user'},\n",
       "    {'Name': 'desp_source_collection',\n",
       "     'Value': 'EO.ESA.DAT.SENTINEL-2.MSI.L1C'}],\n",
       "   'WorkflowName': 'data-harvest',\n",
       "   'WorkflowId': 11,\n",
       "   'Priority': 1,\n",
       "   'NotificationEndpoint': None,\n",
       "   'NotificationEpUsername': None,\n",
       "   'NotificationStatus': None},\n",
       "  {'Id': '25377',\n",
       "   'Status': 'completed',\n",
       "   'StatusMessage': 'requested output product is available',\n",
       "   'SubmissionDate': '2024-09-02T15:55:08.757Z',\n",
       "   'Name': 'Tutorial data-harvest - jess11',\n",
       "   'EstimatedDate': '2024-09-02T16:00:37.629Z',\n",
       "   'InputProductReference': {'Reference': 'S2A_MSIL1C_20230910T050701_N0509_R019_T47VLH_20230910T074321.SAFE',\n",
       "    'ContentDate': None},\n",
       "   'WorkflowOptions': [{'Name': 'platform', 'Value': 'dedl'},\n",
       "    {'Name': 'version', 'Value': '0.0.1'},\n",
       "    {'Name': 'output_storage', 'Value': 'TEMPORARY'},\n",
       "    {'Name': 'source_type', 'Value': 'DESP'},\n",
       "    {'Name': 'desp_source_username', 'Value': 'eum-dedl-user'},\n",
       "    {'Name': 'desp_source_collection',\n",
       "     'Value': 'EO.ESA.DAT.SENTINEL-2.MSI.L1C'}],\n",
       "   'WorkflowName': 'data-harvest',\n",
       "   'WorkflowId': 11,\n",
       "   'Priority': 1,\n",
       "   'NotificationEndpoint': None,\n",
       "   'NotificationEpUsername': None,\n",
       "   'NotificationStatus': None},\n",
       "  {'Id': '25376',\n",
       "   'Status': 'completed',\n",
       "   'StatusMessage': 'requested output product is available',\n",
       "   'SubmissionDate': '2024-09-02T15:35:45.546Z',\n",
       "   'Name': 'Tutorial data-harvest - jess11',\n",
       "   'EstimatedDate': '2024-09-02T15:41:14.336Z',\n",
       "   'InputProductReference': {'Reference': 'S2A_MSIL1C_20230910T050701_N0509_R019_T47VLH_20230910T074321.SAFE',\n",
       "    'ContentDate': None},\n",
       "   'WorkflowOptions': [{'Name': 'platform', 'Value': 'dedl'},\n",
       "    {'Name': 'version', 'Value': '0.0.1'},\n",
       "    {'Name': 'output_storage', 'Value': 'TEMPORARY'},\n",
       "    {'Name': 'source_type', 'Value': 'DESP'},\n",
       "    {'Name': 'desp_source_username', 'Value': 'eum-dedl-user'},\n",
       "    {'Name': 'desp_source_collection',\n",
       "     'Value': 'EO.ESA.DAT.SENTINEL-2.MSI.L1C'}],\n",
       "   'WorkflowName': 'data-harvest',\n",
       "   'WorkflowId': 11,\n",
       "   'Priority': 1,\n",
       "   'NotificationEndpoint': None,\n",
       "   'NotificationEpUsername': None,\n",
       "   'NotificationStatus': None}]}"
      ]
     },
     "execution_count": 13,
     "metadata": {},
     "output_type": "execute_result"
    }
   ],
   "source": [
    "requests_status = requests.get(hook_service_root_url + \"ProductionOrders?$orderby=Id desc&$filter=(endswith(Name,'\" + order_name + \"'))\", headers=api_headers).json()\n",
    "\n",
    "\n",
    "for i in range(len(requests_status['value'])):            \n",
    "    print(f\"\\norder id: {requests_status['value'][i]['Id']}\")\n",
    "    print(f\"Status: {requests_status['value'][i]['Status']}\")\n",
    "\n",
    "requests_status #see requests status"
   ]
  },
  {
   "cell_type": "markdown",
   "metadata": {
    "tags": []
   },
   "source": [
    "## Access workflow output"
   ]
  },
  {
   "cell_type": "markdown",
   "metadata": {},
   "source": [
    "#### Private storage\n",
    "Let us now check our private storage using this boto3 script.\n",
    "You can also go and check this in the Islet service using the Horizon user interface"
   ]
  },
  {
   "cell_type": "code",
   "execution_count": 14,
   "metadata": {
    "tags": []
   },
   "outputs": [],
   "source": [
    "# import boto3\n",
    "\n",
    "# s3 = boto3.client('s3',aws_access_key_id=output_storage_access_key, aws_secret_access_key=output_storage_secret_key, endpoint_url=output_storage_url,)\n",
    "\n",
    "# paginator = s3.get_paginator('list_objects_v2')\n",
    "# pages = paginator.paginate(Bucket=output_bucket, Prefix=output_prefix + '/')\n",
    "\n",
    "# for page in pages:\n",
    "#     try:\n",
    "#         for obj in page['Contents']:\n",
    "#             print(obj['Key'])\n",
    "#     except KeyError:\n",
    "#         print(\"No files exist\")\n",
    "#         exit(1)"
   ]
  },
  {
   "cell_type": "markdown",
   "metadata": {},
   "source": [
    "### Temporary storage"
   ]
  },
  {
   "cell_type": "code",
   "execution_count": 21,
   "metadata": {
    "tags": []
   },
   "outputs": [
    {
     "name": "stdout",
     "output_type": "stream",
     "text": [
      "\n",
      "order id: 25380\n",
      "Status: queued\n",
      "Status for order:25380 is not 'completed'. status:queued\n",
      "\n",
      "order id: 25379\n",
      "Status: completed\n",
      "{\n",
      "    \"@odata.context\": \"#metadata/OData.CSC.BatchorderItem\",\n",
      "    \"value\": [\n",
      "        {\n",
      "            \"Id\": 34079,\n",
      "            \"BatchOrderId\": 25379,\n",
      "            \"InputProductReference\": \"S2A_MSIL1C_20230910T050701_N0509_R019_T47VLH_20230910T074321.SAFE\",\n",
      "            \"SubmissionDate\": \"2024-09-02T16:05:42.497Z\",\n",
      "            \"Status\": \"completed\",\n",
      "            \"ProcessedName\": \"S2A_MSIL1C_20230910T050701_N0509_R019_T47VLH_20230910T074321.SAFE\",\n",
      "            \"ProcessedSize\": 779499257,\n",
      "            \"OutputUUID\": null,\n",
      "            \"StatusMessage\": \"Processing finished successfully\",\n",
      "            \"CompletedDate\": \"2024-09-02T16:10:33.081Z\",\n",
      "            \"DownloadLink\": \"https://s3.central.data.destination-earth.eu/swift/v1/tmp-storage/20240902_34079_v3wQnhFs.zip?temp_url_sig=54f64fe8e64c65b819eb23931e6b3084e0eec2c5&temp_url_expires=1726503018\",\n",
      "            \"NotificationStatus\": null\n",
      "        }\n",
      "    ]\n",
      "}\n",
      "\n",
      "order id: 25377\n",
      "Status: completed\n",
      "{\n",
      "    \"@odata.context\": \"#metadata/OData.CSC.BatchorderItem\",\n",
      "    \"value\": [\n",
      "        {\n",
      "            \"Id\": 34077,\n",
      "            \"BatchOrderId\": 25377,\n",
      "            \"InputProductReference\": \"S2A_MSIL1C_20230910T050701_N0509_R019_T47VLH_20230910T074321.SAFE\",\n",
      "            \"SubmissionDate\": \"2024-09-02T15:55:08.647Z\",\n",
      "            \"Status\": \"completed\",\n",
      "            \"ProcessedName\": \"S2A_MSIL1C_20230910T050701_N0509_R019_T47VLH_20230910T074321.SAFE\",\n",
      "            \"ProcessedSize\": 779499257,\n",
      "            \"OutputUUID\": null,\n",
      "            \"StatusMessage\": \"Processing finished successfully\",\n",
      "            \"CompletedDate\": \"2024-09-02T15:59:49.778Z\",\n",
      "            \"DownloadLink\": \"https://s3.central.data.destination-earth.eu/swift/v1/tmp-storage/20240902_34077_TdTwJCph.zip?temp_url_sig=1a5fde55c986c5abe794442fcbfa3dd2e724c2ac&temp_url_expires=1726502374\",\n",
      "            \"NotificationStatus\": null\n",
      "        }\n",
      "    ]\n",
      "}\n",
      "\n",
      "order id: 25376\n",
      "Status: completed\n",
      "{\n",
      "    \"@odata.context\": \"#metadata/OData.CSC.BatchorderItem\",\n",
      "    \"value\": [\n",
      "        {\n",
      "            \"Id\": 34076,\n",
      "            \"BatchOrderId\": 25376,\n",
      "            \"InputProductReference\": \"S2A_MSIL1C_20230910T050701_N0509_R019_T47VLH_20230910T074321.SAFE\",\n",
      "            \"SubmissionDate\": \"2024-09-02T15:35:45.457Z\",\n",
      "            \"Status\": \"completed\",\n",
      "            \"ProcessedName\": \"S2A_MSIL1C_20230910T050701_N0509_R019_T47VLH_20230910T074321.SAFE\",\n",
      "            \"ProcessedSize\": 779499257,\n",
      "            \"OutputUUID\": null,\n",
      "            \"StatusMessage\": \"Processing finished successfully\",\n",
      "            \"CompletedDate\": \"2024-09-02T15:40:52.885Z\",\n",
      "            \"DownloadLink\": \"https://s3.central.data.destination-earth.eu/swift/v1/tmp-storage/20240902_34076_MuQP4ryn.zip?temp_url_sig=4035f4c7c8b0d6497bbd36fd3f4488cebbe0ac9f&temp_url_expires=1726501238\",\n",
      "            \"NotificationStatus\": null\n",
      "        }\n",
      "    ]\n",
      "}\n"
     ]
    }
   ],
   "source": [
    "# List order items within a production order\n",
    "\n",
    "# Check Status again using order_name. This can give multiple order_ids (if hook executed mutliple times using same order_name)\n",
    "requests_status = requests.get(hook_service_root_url + \"ProductionOrders?$orderby=Id desc&$filter=(endswith(Name,'\" + order_name + \"'))\", headers=api_headers).json()\n",
    "\n",
    "# Iterate over requests_status values\n",
    "for i in range(len(requests_status['value'])):            \n",
    "    print(f\"\\norder id: {requests_status['value'][i]['Id']}\")\n",
    "    print(f\"Status: {requests_status['value'][i]['Status']}\")\n",
    "    \n",
    "    # order_id = input(\"Order id: \")\n",
    "\n",
    "    # set order id\n",
    "    order_id = requests_status['value'][i]['Id']\n",
    "    # set status\n",
    "    status = requests_status['value'][i]['Status']\n",
    "    if status == 'completed':\n",
    "        response = requests.get('https://odp.data.destination-earth.eu/odata/v1/BatchOrder('+order_id+')/Products', headers=api_headers).json()\n",
    "        print(json.dumps(response, indent=4))\n",
    "    else:\n",
    "        print(f\"Status for order:{order_id} is not 'completed'. status:{status}\")"
   ]
  },
  {
   "cell_type": "code",
   "execution_count": 16,
   "metadata": {
    "tags": []
   },
   "outputs": [],
   "source": [
    "# Download output product\n",
    "\n",
    "# Retreive item id from previous items request and copy item ID of interest (from the list)\n",
    "\n",
    "# result is stored in output.zip and number of transferred bytes is printed\n",
    "#url = 'https://odp.data.destination-earth.eu/odata/v1/BatchOrder('+order_id+')/Product(YYYY)/$value'\n",
    "#r = requests.get(url, headers=api_headers, allow_redirects=True)\n",
    "\n",
    "#open('output.zip', 'wb').write(r.content)"
   ]
  }
 ],
 "metadata": {
  "colab": {
   "provenance": []
  },
  "kernelspec": {
   "display_name": "Python 3 (ipykernel)",
   "language": "python",
   "name": "python3"
  },
  "language_info": {
   "codemirror_mode": {
    "name": "ipython",
    "version": 3
   },
   "file_extension": ".py",
   "mimetype": "text/x-python",
   "name": "python",
   "nbconvert_exporter": "python",
   "pygments_lexer": "ipython3",
   "version": "3.9.13"
  }
 },
 "nbformat": 4,
 "nbformat_minor": 4
}

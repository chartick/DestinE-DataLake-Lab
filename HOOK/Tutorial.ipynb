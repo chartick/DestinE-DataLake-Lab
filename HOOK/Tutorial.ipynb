{
 "cells": [
  {
   "cell_type": "markdown",
   "metadata": {
    "tags": []
   },
   "source": [
    "![](https://github.com/destination-earth/DestinE-DataLake-Lab/blob/main/img/DestinE-banner.jpg?raw=true)"
   ]
  },
  {
   "cell_type": "markdown",
   "metadata": {},
   "source": [
    "# DEDL - Hook Tutorial"
   ]
  },
  {
   "cell_type": "markdown",
   "metadata": {
    "id": "yvO6LeZHsz2Q"
   },
   "source": [
    "This notebook demonstrates how to use the Hook service."
   ]
  },
  {
   "cell_type": "markdown",
   "metadata": {
    "tags": []
   },
   "source": [
    "Author: EUMETSAT"
   ]
  },
  {
   "cell_type": "markdown",
   "metadata": {
    "tags": []
   },
   "source": [
    "The detailed API and definition of each endpoint and parameters is available in the OnDemand Processing API  Swagger UI at:\n",
    "https://odp.data.destination-earth.eu/odata/docs\n",
    "\n",
    "Further documentation is available at:\n",
    "    https://destine-data-lake-docs.data.destination-earth.eu/en/latest/dedl-big-data-processing-services/Hook-service/Hook-service.html"
   ]
  },
  {
   "cell_type": "markdown",
   "metadata": {},
   "source": [
    "### Install package and import environment variables "
   ]
  },
  {
   "cell_type": "code",
   "execution_count": null,
   "metadata": {
    "tags": []
   },
   "outputs": [],
   "source": [
    "#install DEDL authentification package to simplify your code\n",
    "!pip install destine-auth"
   ]
  },
  {
   "cell_type": "code",
   "execution_count": null,
   "metadata": {
    "id": "oyJN4WaVsz2S",
    "tags": []
   },
   "outputs": [],
   "source": [
    "import json\n",
    "#from io import BytesIO\n",
    "#from urllib.parse import urlencode\n",
    "#import pycurl\n",
    "import requests\n",
    "from getpass import getpass\n",
    "import destine_auth as destine_auth"
   ]
  },
  {
   "cell_type": "markdown",
   "metadata": {},
   "source": [
    "### Authentification - Get token"
   ]
  },
  {
   "cell_type": "code",
   "execution_count": null,
   "metadata": {
    "tags": []
   },
   "outputs": [],
   "source": [
    "#Request DESP credentials\n",
    "DESP_USERNAME = input(\"Please input your DESP username: \")\n",
    "DESP_PASSWORD = getpass(\"Please input your DESP password: \")\n",
    "\n",
    "token = destine_auth.AuthHandler(DESP_USERNAME, DESP_PASSWORD)          \n",
    "access_token = token.get_token()\n",
    " \n",
    "# Check the status of the request\n",
    "if access_token is not None:\n",
    "    print(\"DEDL/DESP Access Token Obtained Successfully\")\n",
    "    #Save API headers\n",
    "    api_headers = {'Authorization': 'Bearer ' + access_token}\n",
    "else:\n",
    "    print(\"Failed to Obtain DEDL/DESP Access Token\") "
   ]
  },
  {
   "cell_type": "markdown",
   "metadata": {},
   "source": [
    "### Setup static variables"
   ]
  },
  {
   "cell_type": "code",
   "execution_count": null,
   "metadata": {
    "tags": []
   },
   "outputs": [],
   "source": [
    "# Hook service url (ending with odata/v1/ - e.g. https://odp.data.destination-earth.eu/odata/v1/)\n",
    "hook_service_root_url = \"https://odp.data.destination-earth.eu/odata/v1/\"\n"
   ]
  },
  {
   "cell_type": "markdown",
   "metadata": {
    "id": "OlvgrvV3sz2Y"
   },
   "source": [
    "# List available workflows\n",
    "Next we can check what possible workflows are available to us by using method   \n",
    "```https://odp.data.destination-earth.eu/odata/v1/Workflows```"
   ]
  },
  {
   "cell_type": "code",
   "execution_count": null,
   "metadata": {
    "id": "gSxYUs_0sz2Z",
    "tags": []
   },
   "outputs": [],
   "source": [
    "#Send request and return json object listing all provided workfows\n",
    "result = requests.get(hook_service_root_url+\"Workflows\", headers=api_headers).json()\n",
    "\n",
    "#Print provided workflows name\n",
    "print(\"List of available provided Hook\")\n",
    "for i in range(len(result['value'])):            \n",
    "    print(result['value'][i]['DisplayName']) # print JSON string "
   ]
  },
  {
   "cell_type": "code",
   "execution_count": null,
   "metadata": {
    "tags": []
   },
   "outputs": [],
   "source": [
    "#Print JSON object: provided workflow list\n",
    "#print(result, indent=3)"
   ]
  },
  {
   "cell_type": "markdown",
   "metadata": {
    "tags": []
   },
   "source": [
    "# Select a workflow and see parameters"
   ]
  },
  {
   "cell_type": "markdown",
   "metadata": {
    "id": "jNSqMuRCsz2Z"
   },
   "source": [
    "If we want to see the details of a specific workflow, for example aditional parameters that can be changed we can do that too   \n",
    "```https://odp.data.destination-earth.eu/odata/v1/Workflows?$expand=WorkflowOptions&$filter=(Name eq data-harvest)```   \n",
    "**\\\\$expand=WorkflowOptions** shows all parameters accepted by workflow   \n",
    "**\\\\$filter=(Name eq lai)** narrows the result to workflow called \"lai\" (processor computing Leaf Area Index)"
   ]
  },
  {
   "cell_type": "code",
   "execution_count": null,
   "metadata": {
    "id": "UEvKzPclsz2b",
    "tags": []
   },
   "outputs": [],
   "source": [
    "#Select workflow \n",
    "workflow = \"'data-harvest'\" #example with data-haverst workflow\n",
    "\n",
    "#Set Parameter filter\n",
    "parameters = \"Workflows?$expand=WorkflowOptions&$filter=(Name eq \"\n",
    "\n",
    "#Send request\n",
    "result = requests.get(hook_service_root_url\n",
    "                                  + parameters+workflow+\")\",\n",
    "                                  headers=api_headers).json()\n",
    "workflow_details = json.dumps(result, indent=2)\n",
    "print(workflow_details) # print JSON string \n",
    "\n"
   ]
  },
  {
   "cell_type": "markdown",
   "metadata": {},
   "source": [
    "## Order provided workflow: Data-"
   ]
  },
  {
   "cell_type": "markdown",
   "metadata": {},
   "source": [
    "#Select workflow\n",
    "workflow = \"data-harvest\"Make an order to harvest data using Harmonised Data Access API"
   ]
  },
  {
   "cell_type": "code",
   "execution_count": null,
   "metadata": {
    "tags": []
   },
   "outputs": [],
   "source": [
    "#Select workflow\n",
    "workflow = \"data-harvest\""
   ]
  },
  {
   "cell_type": "markdown",
   "metadata": {
    "tags": []
   },
   "source": [
    "### Name your order"
   ]
  },
  {
   "cell_type": "code",
   "execution_count": null,
   "metadata": {
    "tags": []
   },
   "outputs": [],
   "source": [
    "#ID of the run\n",
    "order_name=input(\"Name your order: \")"
   ]
  },
  {
   "cell_type": "markdown",
   "metadata": {},
   "source": [
    "### Define output storage"
   ]
  },
  {
   "cell_type": "markdown",
   "metadata": {},
   "source": [
    "In workflow parameters, among others values, storage to retreive the result has to be provided.  \n",
    "**Two possibilites:**\n",
    "1. Use your user storage \n",
    "2. Use a temporary storage "
   ]
  },
  {
   "cell_type": "markdown",
   "metadata": {
    "tags": []
   },
   "source": [
    "#### 1. - Your user storage (provided by DEDL ISLET service)"
   ]
  },
  {
   "cell_type": "markdown",
   "metadata": {},
   "source": [
    "Example using a S3 bucket created with ISLET Storage service  - result will be available in this bucket\n",
    "> *workflow parameter: {\"Name\": \"output_storage\", \"Value\": \"PRIVATE\"}*"
   ]
  },
  {
   "cell_type": "code",
   "execution_count": null,
   "metadata": {
    "tags": []
   },
   "outputs": [],
   "source": [
    "# Output storage - Islet service\n",
    "# URL of the S3 endpoint in the Central Site \n",
    "output_storage_url = \"https://s3.central.data.destination-earth.eu\"\n",
    "# name of the object storage bucket where the results will be stored\n",
    "output_bucket = \"your-bucket-name\"\n",
    "# Islet object storage credentials (openstack ec2 credentials)\n",
    "output_storage_access_key = \"your-access-key\"\n",
    "output_storage_secret_key = \"your-secret-key\"\n",
    "output_prefix = \"dedl_\" + order_name"
   ]
  },
  {
   "cell_type": "markdown",
   "metadata": {},
   "source": [
    "#### 2 - Use temporary storage"
   ]
  },
  {
   "cell_type": "markdown",
   "metadata": {},
   "source": [
    "The result of processing will be stored in shared storage and download link provided in the output product details\n",
    "> *workflow parameter: {\"Name\": \"output_storage\", \"Value\": \"TEMPORARY\"}*"
   ]
  },
  {
   "cell_type": "markdown",
   "metadata": {},
   "source": [
    "### Define parameters and send order"
   ]
  },
  {
   "cell_type": "markdown",
   "metadata": {
    "id": "Sjf2TMqDsz2b"
   },
   "source": [
    "TODO: Update text\n",
    "Now we can order a couple of products (we're ordering multiple products one by one to show the priority later, usually ordering multiple products can be done in a single call by using endpoint   \n",
    "```https://odp.data.destination-earth.eu/odata/v1/BatchOrder/OData.CSC.Order```   "
   ]
  },
  {
   "cell_type": "code",
   "execution_count": null,
   "metadata": {
    "tags": []
   },
   "outputs": [],
   "source": [
    "#Data have been previously discovered and search\n",
    "STAC_HDA_API_URL = \"https://hda.data.destination-earth.eu/stac\"\n",
    "COLLECTION_ID = \"EO.ESA.DAT.SENTINEL-2.MSI.L2A\"\n",
    "print(STAC_HDA_API_URL+\"/collections/\"+COLLECTION_ID)"
   ]
  },
  {
   "cell_type": "code",
   "execution_count": null,
   "metadata": {
    "tags": []
   },
   "outputs": [],
   "source": [
    "#data to retreive\n",
    "data_id = \"S2A_MSIL2A_20180124T092251_N0213_R093_T35TLG_20210214T010009.SAFE\"\n",
    "\n",
    "#Build your order body \n",
    "# order_body_custom_bucket = {\n",
    "#         \"Name\": \"DEDL - Hook tutorial - custom bucket - \" + workflow + \" - \" + order_name,\n",
    "#         \"WorkflowName\": workflow,\n",
    "#         \"IdentifierList\": [data_id],\n",
    "#         \"WorkflowOptions\":[\n",
    "#             {\"Name\":\"s3_bucket\", \"Value\": output_bucket},\n",
    "#             {\"Name\":\"s3_access_key\", \"Value\": output_storage_access_key},\n",
    "#             {\"Name\":\"s3_secret_key\", \"Value\": output_storage_secret_key},\n",
    "#             {\"Name\":\"s3_prefix\", \"Value\": output_prefix},\n",
    "#             {\"Name\":\"s3_endpoint_url\", \"Value\": output_storage_url},\n",
    "#             {\"Name\": \"input_catalogue_type\", \"Value\": \"STAC\"},\n",
    "#             {\"Name\": \"input_catalogue_url\", \"Value\": \"https://hda.data.destination-earth.eu/stac\"},\n",
    "#             {\"Name\": \"input_catalogue_collection\", \"Value\": \"EO.ESA.DAT.SENTINEL-2.MSI.L2A\"},\n",
    "#             {\"Name\": \"source_client_id\", \"Value\": \"hda-public\"},\n",
    "#             {\"Name\": \"source_client_secret\", \"Value\": \"\"},\n",
    "#             {\"Name\": \"source_username\", \"Value\": username},\n",
    "#             {\"Name\": \"source_password\", \"Value\": password},\n",
    "#             {\"Name\": \"source_realm\", \"Value\": \"dedl\"},\n",
    "#             {\"Name\": \"source_server_url\", \"Value\": \"https://identity.data.destination-earth.eu/auth\"}    \n",
    "#         ]\n",
    "#     }\n",
    "\n",
    "#Order body example with temporary storage\n",
    "\n",
    "order_body_custom_bucket = {\n",
    "       \"Name\": \"DEDL - Hook tutorial - temporary storage - \" + workflow + \" - \" + order_name,\n",
    "       \"WorkflowName\": workflow,\n",
    "       \"IdentifierList\": [data_id],\n",
    "       \"WorkflowOptions\":[\n",
    "           {\"Name\": \"output_storage\", \"Value\": \"TEMPORARY\"},\n",
    "           {\"Name\": \"input_catalogue_type\", \"Value\": \"STAC\"},\n",
    "           {\"Name\": \"input_catalogue_url\", \"Value\": \"https://hda.data.destination-earth.eu/stac\"},\n",
    "           {\"Name\": \"input_catalogue_collection\", \"Value\": \"EO.ESA.DAT.SENTINEL-2.MSI.L2A\"},\n",
    "           {\"Name\": \"source_client_id\", \"Value\": \"hda-public\"},\n",
    "           {\"Name\": \"source_client_secret\", \"Value\": \"\"},\n",
    "           {\"Name\": \"source_username\", \"Value\": username},\n",
    "           {\"Name\": \"source_password\", \"Value\": password},\n",
    "           {\"Name\": \"source_realm\", \"Value\": \"dedl\"},\n",
    "           {\"Name\": \"source_server_url\", \"Value\": \"https://identity.data.destination-earth.eu/auth\"}    \n",
    "       ]\n",
    "   }\n",
    "\n",
    "order_request = requests.post(hook_service_root_url+\"BatchOrder/OData.CSC.Order\",\n",
    "                            json.dumps(order_body_custom_bucket),headers=api_headers).json()\n",
    "\n",
    "#If code = 201, the order has been successfully sent\n",
    "print(order_request)"
   ]
  },
  {
   "cell_type": "markdown",
   "metadata": {},
   "source": [
    "### Check The status of the order\n",
    "\n",
    "Possible status\n",
    "- queued (i.e. queued for treatment but not started)\n",
    "- in_progress (i.e. order being treated)\n",
    "- completed (i.e. order is complete and data ready)"
   ]
  },
  {
   "cell_type": "code",
   "execution_count": null,
   "metadata": {
    "tags": []
   },
   "outputs": [],
   "source": [
    "requests_status = requests.get(hook_service_root_url + \"ProductionOrders?$filter=(endswith(Name,'\" + order_name + \"'))\", headers=api_headers).json()\n",
    "requests_status #see requests status"
   ]
  },
  {
   "cell_type": "markdown",
   "metadata": {
    "tags": []
   },
   "source": [
    "### Access workflow output"
   ]
  },
  {
   "cell_type": "markdown",
   "metadata": {},
   "source": [
    "#### Private storage\n",
    "Let us now check our private storage using this boto3 script.\n",
    "You can also go and check this in the Islet service using the Horizon user interface"
   ]
  },
  {
   "cell_type": "code",
   "execution_count": null,
   "metadata": {
    "tags": []
   },
   "outputs": [],
   "source": [
    "import boto3\n",
    "\n",
    "s3 = boto3.client('s3',aws_access_key_id=output_storage_access_key, aws_secret_access_key=output_storage_secret_key, endpoint_url=output_storage_url,)\n",
    "\n",
    "paginator = s3.get_paginator('list_objects_v2')\n",
    "pages = paginator.paginate(Bucket=output_bucket, Prefix=output_prefix + '/')\n",
    "\n",
    "for page in pages:\n",
    "    try:\n",
    "        for obj in page['Contents']:\n",
    "            print(obj['Key'])\n",
    "    except KeyError:\n",
    "        print(\"No files exist\")\n",
    "        exit(1)"
   ]
  },
  {
   "cell_type": "markdown",
   "metadata": {},
   "source": [
    "### Temporary storage"
   ]
  },
  {
   "cell_type": "code",
   "execution_count": null,
   "metadata": {
    "tags": []
   },
   "outputs": [],
   "source": [
    "# replace XXXX with order id of a completed order from the current test run\n",
    "# list order items within a production order\n",
    "\n",
    "#requests.get('https://odp.data.destination-earth.eu/odata/v1/BatchOrder(11928)/Products', headers=api_headers).json()"
   ]
  },
  {
   "cell_type": "code",
   "execution_count": null,
   "metadata": {
    "tags": []
   },
   "outputs": [],
   "source": [
    "# replace XXXX with order id of a completed order from the current test run and order item id YYYY from the item listing\n",
    "# download output product\n",
    "# result is stored in output.zip and number of transferred bytes is printed\n",
    "\n",
    "#url = 'https://odp.data.destination-earth.eu/odata/v1/BatchOrder(XXXX)/Product(YYYY)/$value'\n",
    "#r = requests.get(url, headers=api_headers, allow_redirects=True)\n",
    "\n",
    "#open('output.zip', 'wb').write(r.content)"
   ]
  }
 ],
 "metadata": {
  "colab": {
   "provenance": []
  },
  "kernelspec": {
   "display_name": "Python 3 (ipykernel)",
   "language": "python",
   "name": "python3"
  },
  "language_info": {
   "codemirror_mode": {
    "name": "ipython",
    "version": 3
   },
   "file_extension": ".py",
   "mimetype": "text/x-python",
   "name": "python",
   "nbconvert_exporter": "python",
   "pygments_lexer": "ipython3",
   "version": "3.11.4"
  }
 },
 "nbformat": 4,
 "nbformat_minor": 4
}

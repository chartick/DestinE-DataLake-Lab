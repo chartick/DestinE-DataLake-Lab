{
 "cells": [
  {
   "cell_type": "markdown",
   "id": "8d37153b",
   "metadata": {},
   "source": [
    "# DEDL - HDA Tutorial"
   ]
  },
  {
   "cell_type": "markdown",
   "id": "a9ccea6e",
   "metadata": {},
   "source": [
    "This notebook demonstrates how to use the HDA (Harmonized Data Access) API by sending a few HTTP requests to the API, using Python code."
   ]
  },
  {
   "cell_type": "markdown",
   "id": "14cf5489",
   "metadata": {},
   "source": [
    "The detailed API and definition of each endpoint and parameters is available in the HDA Swagger UI at:\n",
    "\n",
    "https://hda.data.destination-earth.eu/docs/"
   ]
  },
  {
   "cell_type": "markdown",
   "id": "a1141f02",
   "metadata": {
    "tags": []
   },
   "source": [
    "## Import the relevant modules\n",
    "We start off by importing the relevant modules for HTTP requests and json handling, as well as writing a small pretty printing helper for viewing json responses in the notebook."
   ]
  },
  {
   "cell_type": "code",
   "execution_count": 2,
   "id": "49d1b58a",
   "metadata": {
    "tags": []
   },
   "outputs": [],
   "source": [
    "from typing import Union\n",
    "import requests\n",
    "import json\n",
    "import urllib.parse\n",
    "from requests.auth import HTTPBasicAuth\n",
    "\n",
    "from IPython.display import JSON\n",
    "\n",
    "def display_as_json(response: requests.Response) -> None:\n",
    "    \"\"\"Displays a HTTP request response as an interactive JSON in Jupyter Hub.\n",
    "    \n",
    "    Args:\n",
    "        response (requests.Response): HTTP request response\n",
    "    Returns:\n",
    "        None\n",
    "    \"\"\"\n",
    "    if not isinstance(response, requests.Response):\n",
    "        raise TypeError(f\"display_as_json expects a requests.Response parameter, got {type(response)}.\")\n",
    "    return JSON(json.loads(response.text))\n"
   ]
  },
  {
   "cell_type": "markdown",
   "id": "af62c175",
   "metadata": {
    "tags": []
   },
   "source": [
    "## Define some constants for the API URLs\n",
    "In this section, we define the relevant constants, holding the URL strings for the different endpoints."
   ]
  },
  {
   "cell_type": "code",
   "execution_count": 4,
   "id": "6f12416e",
   "metadata": {
    "tags": []
   },
   "outputs": [],
   "source": [
    "# IDS\n",
    "SERVICE_ID = \"de-ecmwf-polytope-lumi\"\n",
    "\n",
    "# Use EUM Collection https://hda.central.data.destination-earth.eu/ui/dataset/EO.EUM.DAT.SENTINEL-3.OL_1_EFR___\n",
    "COLLECTION_ID = \"EO.EUM.DAT.SENTINEL-3.OL_1_EFR___\"\n",
    "COLLECTION_ID = \"EO.ESA.DAT.SENTINEL-2.MSI.L1C\"\n",
    "\n",
    "ITEM_ID = \"S2A_MSIL1C_20230910T050701_N0509_R019_T47VLH_20230910T074321.SAFE\"\n",
    "\n",
    "# Core API\n",
    "HDA_API_URL = \"https://hda.data.destination-earth.eu\"\n",
    "SERVICES_URL = f\"{HDA_API_URL}/services\"\n",
    "SERVICE_BY_ID_URL = f\"{SERVICES_URL}/{SERVICE_ID}\"\n",
    "\n",
    "# STAC API\n",
    "## Core\n",
    "STAC_API_URL = f\"{HDA_API_URL}/stac\"\n",
    "CONFORMANCE_URL = f\"{STAC_API_URL}/conformance\"\n",
    "\n",
    "## Item Search\n",
    "SEARCH_URL = f\"{STAC_API_URL}/search\"\n",
    "DOWNLOAD_URL = f\"{STAC_API_URL}/download\"\n",
    "\n",
    "## Collections\n",
    "COLLECTIONS_URL = f\"{STAC_API_URL}/collections\"\n",
    "COLLECTION_BY_ID_URL = f\"{COLLECTIONS_URL}/{COLLECTION_ID}\"\n",
    "\n",
    "## Items\n",
    "COLLECTION_ITEMS_URL = f\"{COLLECTIONS_URL}/{COLLECTION_ID}/items\"\n",
    "COLLECTION_ITEM_BY_ID_URL = f\"{COLLECTIONS_URL}/{COLLECTION_ID}/items/{ITEM_ID}\"\n",
    "\n",
    "## HTTP Success\n",
    "HTTP_SUCCESS_CODE = 200"
   ]
  },
  {
   "cell_type": "code",
   "execution_count": 5,
   "id": "988acffe",
   "metadata": {
    "tags": []
   },
   "outputs": [
    {
     "ename": "HTTPError",
     "evalue": "401 Client Error: Unauthorized for url: https://identity.data.destination-earth.eu/auth/realms/dedl/protocol/openid-connect/token",
     "output_type": "error",
     "traceback": [
      "\u001b[1;31m---------------------------------------------------------------------------\u001b[0m",
      "\u001b[1;31mHTTPError\u001b[0m                                 Traceback (most recent call last)",
      "Cell \u001b[1;32mIn[5], line 15\u001b[0m\n\u001b[0;32m      6\u001b[0m password \u001b[38;5;241m=\u001b[39m \u001b[38;5;124m'\u001b[39m\u001b[38;5;124m'\u001b[39m\n\u001b[0;32m      8\u001b[0m response \u001b[38;5;241m=\u001b[39m requests\u001b[38;5;241m.\u001b[39mpost(\n\u001b[0;32m      9\u001b[0m     \u001b[38;5;124m'\u001b[39m\u001b[38;5;124mhttps://identity.data.destination-earth.eu/auth/realms/dedl/protocol/openid-connect/token\u001b[39m\u001b[38;5;124m'\u001b[39m,\n\u001b[0;32m     10\u001b[0m     data \u001b[38;5;241m=\u001b[39m {\u001b[38;5;124m'\u001b[39m\u001b[38;5;124mgrant_type\u001b[39m\u001b[38;5;124m'\u001b[39m: \u001b[38;5;124m'\u001b[39m\u001b[38;5;124mpassword\u001b[39m\u001b[38;5;124m'\u001b[39m,\u001b[38;5;124m'\u001b[39m\u001b[38;5;124mscope\u001b[39m\u001b[38;5;124m'\u001b[39m : \u001b[38;5;124m'\u001b[39m\u001b[38;5;124mopenid\u001b[39m\u001b[38;5;124m'\u001b[39m, \u001b[38;5;124m'\u001b[39m\u001b[38;5;124mclient_id\u001b[39m\u001b[38;5;124m'\u001b[39m : \u001b[38;5;124m'\u001b[39m\u001b[38;5;124mhda-public\u001b[39m\u001b[38;5;124m'\u001b[39m, \n\u001b[0;32m     11\u001b[0m             \u001b[38;5;124m'\u001b[39m\u001b[38;5;124musername\u001b[39m\u001b[38;5;124m'\u001b[39m : username, \u001b[38;5;124m'\u001b[39m\u001b[38;5;124mpassword\u001b[39m\u001b[38;5;124m'\u001b[39m : password},\n\u001b[0;32m     12\u001b[0m     headers \u001b[38;5;241m=\u001b[39m {\u001b[38;5;124m\"\u001b[39m\u001b[38;5;124mContent-Type\u001b[39m\u001b[38;5;124m\"\u001b[39m : \u001b[38;5;124m\"\u001b[39m\u001b[38;5;124mapplication/x-www-form-urlencoded\u001b[39m\u001b[38;5;124m\"\u001b[39m}\n\u001b[0;32m     13\u001b[0m )\n\u001b[1;32m---> 15\u001b[0m \u001b[43mresponse\u001b[49m\u001b[38;5;241;43m.\u001b[39;49m\u001b[43mraise_for_status\u001b[49m\u001b[43m(\u001b[49m\u001b[43m)\u001b[49m\n\u001b[0;32m     17\u001b[0m access_token \u001b[38;5;241m=\u001b[39m response\u001b[38;5;241m.\u001b[39mjson()[\u001b[38;5;124m'\u001b[39m\u001b[38;5;124maccess_token\u001b[39m\u001b[38;5;124m'\u001b[39m]\n",
      "File \u001b[1;32mc:\\Users\\aubin\\AppData\\Local\\Programs\\Python\\Python312\\Lib\\site-packages\\requests\\models.py:1021\u001b[0m, in \u001b[0;36mResponse.raise_for_status\u001b[1;34m(self)\u001b[0m\n\u001b[0;32m   1016\u001b[0m     http_error_msg \u001b[38;5;241m=\u001b[39m (\n\u001b[0;32m   1017\u001b[0m         \u001b[38;5;124mf\u001b[39m\u001b[38;5;124m\"\u001b[39m\u001b[38;5;132;01m{\u001b[39;00m\u001b[38;5;28mself\u001b[39m\u001b[38;5;241m.\u001b[39mstatus_code\u001b[38;5;132;01m}\u001b[39;00m\u001b[38;5;124m Server Error: \u001b[39m\u001b[38;5;132;01m{\u001b[39;00mreason\u001b[38;5;132;01m}\u001b[39;00m\u001b[38;5;124m for url: \u001b[39m\u001b[38;5;132;01m{\u001b[39;00m\u001b[38;5;28mself\u001b[39m\u001b[38;5;241m.\u001b[39murl\u001b[38;5;132;01m}\u001b[39;00m\u001b[38;5;124m\"\u001b[39m\n\u001b[0;32m   1018\u001b[0m     )\n\u001b[0;32m   1020\u001b[0m \u001b[38;5;28;01mif\u001b[39;00m http_error_msg:\n\u001b[1;32m-> 1021\u001b[0m     \u001b[38;5;28;01mraise\u001b[39;00m HTTPError(http_error_msg, response\u001b[38;5;241m=\u001b[39m\u001b[38;5;28mself\u001b[39m)\n",
      "\u001b[1;31mHTTPError\u001b[0m: 401 Client Error: Unauthorized for url: https://identity.data.destination-earth.eu/auth/realms/dedl/protocol/openid-connect/token"
     ]
    }
   ],
   "source": [
    "# Generate an access token\n",
    "# An access token is required to access and download items with the HDA API.\n",
    "from getpass import getpass\n",
    "\n",
    "username = ''\n",
    "password = ''\n",
    "\n",
    "response = requests.post(\n",
    "    'https://identity.data.destination-earth.eu/auth/realms/dedl/protocol/openid-connect/token',\n",
    "    data = {'grant_type': 'password','scope' : 'openid', 'client_id' : 'hda-public', \n",
    "            'username' : username, 'password' : password},\n",
    "    headers = {\"Content-Type\" : \"application/x-www-form-urlencoded\"}\n",
    ")\n",
    "\n",
    "response.raise_for_status()\n",
    "\n",
    "access_token = response.json()['access_token']"
   ]
  },
  {
   "cell_type": "markdown",
   "id": "032938e1",
   "metadata": {
    "tags": []
   },
   "source": [
    "## Core API\n",
    "\n",
    "We can start off by requesting the HDA landing page, which provides links to the API definition (links `service-desc` and `service-doc`), the available services as well as the STAC API index.  "
   ]
  },
  {
   "cell_type": "code",
   "execution_count": 4,
   "id": "bccb9320",
   "metadata": {
    "tags": []
   },
   "outputs": [
    {
     "name": "stdout",
     "output_type": "stream",
     "text": [
      "https://hda.data.destination-earth.eu\n"
     ]
    },
    {
     "data": {
      "application/json": {
       "description": "",
       "links": [
        {
         "href": "https://hda.central.data.destination-earth.eu/",
         "rel": "self",
         "type": "application/json"
        },
        {
         "href": "https://hda.central.data.destination-earth.eu/",
         "rel": "root",
         "title": "Root endpoint for DEDL API",
         "type": "application/json"
        },
        {
         "href": "https://hda.central.data.destination-earth.eu/stac",
         "rel": "child",
         "title": "DEDL STAC API",
         "type": "application/json"
        },
        {
         "href": "https://hda.data.destination-earth.eu/docs/openapi.yaml",
         "rel": "service-desc",
         "title": "OpenAPI service description",
         "type": "application/vnd.oai.openapi;version=3.0"
        },
        {
         "href": "https://hda.data.destination-earth.eu/docs/",
         "rel": "service-doc",
         "title": "OpenAPI service documentation",
         "type": "text/html"
        },
        {
         "href": "https://hda.central.data.destination-earth.eu/services",
         "rel": "services",
         "title": "List of available services provided by DEDL",
         "type": "application/json"
        }
       ],
       "title": ""
      },
      "text/plain": [
       "<IPython.core.display.JSON object>"
      ]
     },
     "execution_count": 4,
     "metadata": {
      "application/json": {
       "expanded": false,
       "root": "root"
      }
     },
     "output_type": "execute_result"
    }
   ],
   "source": [
    "print(HDA_API_URL)\n",
    "display_as_json(requests.get(HDA_API_URL))"
   ]
  },
  {
   "cell_type": "markdown",
   "id": "b597bf45",
   "metadata": {
    "tags": []
   },
   "source": [
    "### Services\n",
    "Requesting the `/services` endpoint will return the list of services available for users of the platform.\n",
    "It fetches the services from the **services catalog** database."
   ]
  },
  {
   "cell_type": "code",
   "execution_count": 6,
   "id": "5552fbf6",
   "metadata": {
    "tags": []
   },
   "outputs": [
    {
     "name": "stdout",
     "output_type": "stream",
     "text": [
      "https://hda.data.destination-earth.eu/services\n"
     ]
    },
    {
     "data": {
      "application/json": {
       "features": [
        {
         "assets": {
          "thumbnail": {
           "href": "https://s3.central.data.destination-earth.eu/swift/v1/CSGROUP/assets/thumbnails/polytope.webp",
           "media_type": "image/webp",
           "title": "ECMWF Polytope API"
          }
         },
         "id": "de-ecmwf-polytope-lumi",
         "links": [
          {
           "href": "https://hda.data.destination-earth.eu/services",
           "rel": "collection",
           "type": "application/json"
          },
          {
           "href": "https://hda.data.destination-earth.eu/services",
           "rel": "parent",
           "type": "application/json"
          },
          {
           "href": "https://hda.data.destination-earth.eu/",
           "rel": "root",
           "type": "application/json"
          },
          {
           "href": "https://hda.data.destination-earth.eu/services/de-ecmwf-polytope-lumi",
           "rel": "self",
           "type": "application/geo+json"
          },
          {
           "href": "https://polytope.apps.lumi.ewctest.link/openapi/",
           "rel": "describes",
           "title": "Explore DEDL Lumi Polytope service"
          }
         ],
         "properties": {
          "description": "A RESTful API providing efficient hyper-cube data access to the fields generated by DestinE Digital Twin model executions.",
          "title": "DestinE DT Output via ECMWF Polytope API on LUMI"
         },
         "stac_version": "1.0.0",
         "type": "Feature"
        },
        {
         "assets": {
          "thumbnail": {
           "href": "https://s3.central.data.destination-earth.eu/swift/v1/CSGROUP/assets/thumbnails/aviso.webp",
           "media_type": "image/webp",
           "title": "ECMWF Aviso notifications service"
          }
         },
         "id": "de-ecmwf-aviso-lumi",
         "links": [
          {
           "href": "https://hda.data.destination-earth.eu/services",
           "rel": "collection",
           "type": "application/json"
          },
          {
           "href": "https://hda.data.destination-earth.eu/services",
           "rel": "parent",
           "type": "application/json"
          },
          {
           "href": "https://hda.data.destination-earth.eu/",
           "rel": "root",
           "type": "application/json"
          },
          {
           "href": "https://hda.data.destination-earth.eu/services/de-ecmwf-aviso-lumi",
           "rel": "self",
           "type": "application/geo+json"
          }
         ],
         "properties": {
          "description": "Aviso is a scalable notification system designed for a high throughput of notifications.",
          "title": "Coming soon - DestinE LUMI ECMWF Aviso notifications service"
         },
         "stac_version": "1.0.0",
         "type": "Feature"
        },
        {
         "assets": {
          "thumbnail": {
           "href": "https://s3.central.data.destination-earth.eu/swift/v1/CSGROUP/assets/thumbnails/jupyter.webp",
           "media_type": "image/webp",
           "title": "DEDL STACK Service"
          }
         },
         "id": "dedl-stack-central",
         "links": [
          {
           "href": "https://hda.data.destination-earth.eu/services",
           "rel": "collection",
           "type": "application/json"
          },
          {
           "href": "https://hda.data.destination-earth.eu/services",
           "rel": "parent",
           "type": "application/json"
          },
          {
           "href": "https://hda.data.destination-earth.eu/",
           "rel": "root",
           "type": "application/json"
          },
          {
           "href": "https://hda.data.destination-earth.eu/services/dedl-stack-central",
           "rel": "self",
           "type": "application/geo+json"
          },
          {
           "href": "https://jupyter.central.data.destination-earth.eu/hub/",
           "rel": "describes",
           "title": "Explore the STACK Service"
          },
          {
           "href": "https://destine-data-lake-docs.data.destination-earth.eu/en/latest/dedl-big-data-processing-services/Stack-service-on-Destination-Earth/Stack-service-on-Destination-Earth.html",
           "rel": "describedby",
           "title": "Documentation and manuals"
          },
          {
           "href": "https://jupyterhub.readthedocs.io",
           "rel": "describedby",
           "title": "Learn about JupyterHub"
          }
         ],
         "properties": {
          "description": "A DestinE Data Lake Big Data Processing service providing hosted applications/environments such as JupyterHub, Dask/Dask Gateway, Open Data Cube in which users can bring their algorithms/code and execute them on DestinE Data Lake data.",
          "title": "DEDL STACK Service"
         },
         "stac_version": "1.0.0",
         "type": "Feature"
        },
        {
         "assets": {
          "thumbnail": {
           "href": "https://s3.central.data.destination-earth.eu/swift/v1/CSGROUP/assets/thumbnails/islet.webp",
           "media_type": "image/webp",
           "title": "DEDL Islet"
          }
         },
         "id": "dedl-islet-storage-lumi",
         "links": [
          {
           "href": "https://hda.data.destination-earth.eu/services",
           "rel": "collection",
           "type": "application/json"
          },
          {
           "href": "https://hda.data.destination-earth.eu/services",
           "rel": "parent",
           "type": "application/json"
          },
          {
           "href": "https://hda.data.destination-earth.eu/",
           "rel": "root",
           "type": "application/json"
          },
          {
           "href": "https://hda.data.destination-earth.eu/services/dedl-islet-storage-lumi",
           "rel": "self",
           "type": "application/geo+json"
          },
          {
           "href": "https://s3.lumi.data.destination-earth.eu",
           "rel": "describes",
           "title": "Explore Islet storage on LUMI"
          },
          {
           "href": "https://destine-data-lake-docs.data.destination-earth.eu/en/latest/dedl-big-data-processing-services/dedl-big-data-processing-services.html",
           "rel": "describedby",
           "title": "Browse Islet documentation"
          }
         ],
         "properties": {
          "description": "A DestinE Data Lake Big Data Processing service on LUMI providing cloud storage resources and deployment blueprints for users that require full control over the virtual infrastructure.",
          "title": "DEDL Islet storage on LUMI"
         },
         "stac_version": "1.0.0",
         "type": "Feature"
        },
        {
         "assets": {
          "thumbnail": {
           "href": "https://s3.central.data.destination-earth.eu/swift/v1/CSGROUP/assets/thumbnails/islet.webp",
           "media_type": "image/webp",
           "title": "DEDL Islet"
          }
         },
         "id": "dedl-islet-storage-central",
         "links": [
          {
           "href": "https://hda.data.destination-earth.eu/services",
           "rel": "collection",
           "type": "application/json"
          },
          {
           "href": "https://hda.data.destination-earth.eu/services",
           "rel": "parent",
           "type": "application/json"
          },
          {
           "href": "https://hda.data.destination-earth.eu/",
           "rel": "root",
           "type": "application/json"
          },
          {
           "href": "https://hda.data.destination-earth.eu/services/dedl-islet-storage-central",
           "rel": "self",
           "type": "application/geo+json"
          },
          {
           "href": "https://s3.central.data.destination-earth.eu",
           "rel": "describes",
           "title": "Explore Islet storage on Central site"
          },
          {
           "href": "https://destine-data-lake-docs.data.destination-earth.eu/en/latest/dedl-big-data-processing-services/dedl-big-data-processing-services.html",
           "rel": "describedby",
           "title": "Browse Islet documentation"
          }
         ],
         "properties": {
          "description": "A DestinE Data Lake Big Data Processing service on DEDL central site providing cloud storage resources and deployment blueprints for users that require full control over the virtual infrastructure.",
          "title": "DEDL Islet storage on Central site"
         },
         "stac_version": "1.0.0",
         "type": "Feature"
        },
        {
         "assets": {
          "thumbnail": {
           "href": "https://s3.central.data.destination-earth.eu/swift/v1/CSGROUP/assets/thumbnails/islet.webp",
           "media_type": "image/webp",
           "title": "DEDL Islet"
          }
         },
         "id": "dedl-islet-compute-lumi",
         "links": [
          {
           "href": "https://hda.data.destination-earth.eu/services",
           "rel": "collection",
           "type": "application/json"
          },
          {
           "href": "https://hda.data.destination-earth.eu/services",
           "rel": "parent",
           "type": "application/json"
          },
          {
           "href": "https://hda.data.destination-earth.eu/",
           "rel": "root",
           "type": "application/json"
          },
          {
           "href": "https://hda.data.destination-earth.eu/services/dedl-islet-compute-lumi",
           "rel": "self",
           "type": "application/geo+json"
          },
          {
           "href": "https://cloud.lumi.data.destination-earth.eu",
           "rel": "describes",
           "title": "Explore Islet compute on LUMI"
          },
          {
           "href": "https://destine-data-lake-docs.data.destination-earth.eu/en/latest/dedl-big-data-processing-services/dedl-big-data-processing-services.html",
           "rel": "describedby",
           "title": "Browse Islet documentation"
          }
         ],
         "properties": {
          "description": "A DestinE Data Lake Big Data Processing service on LUMI providing cloud compute resources and deployment blueprints for users that require full control over the virtual infrastructure.",
          "title": "DEDL Islet compute on LUMI"
         },
         "stac_version": "1.0.0",
         "type": "Feature"
        },
        {
         "assets": {
          "thumbnail": {
           "href": "https://s3.central.data.destination-earth.eu/swift/v1/CSGROUP/assets/thumbnails/islet.webp",
           "media_type": "image/webp",
           "title": "DEDL Islet compute on DEDL Central"
          }
         },
         "id": "dedl-islet-compute-central",
         "links": [
          {
           "href": "https://hda.data.destination-earth.eu/services",
           "rel": "collection",
           "type": "application/json"
          },
          {
           "href": "https://hda.data.destination-earth.eu/services",
           "rel": "parent",
           "type": "application/json"
          },
          {
           "href": "https://hda.data.destination-earth.eu/",
           "rel": "root",
           "type": "application/json"
          },
          {
           "href": "https://hda.data.destination-earth.eu/services/dedl-islet-compute-central",
           "rel": "self",
           "type": "application/geo+json"
          },
          {
           "href": "https://cloud.central.data.destination-earth.eu",
           "rel": "describes",
           "title": "Explore Islet compute on Central site"
          },
          {
           "href": "https://destine-data-lake-docs.data.destination-earth.eu/en/latest/dedl-big-data-processing-services/dedl-big-data-processing-services.html",
           "rel": "describedby",
           "title": "Browse Islet documentation"
          }
         ],
         "properties": {
          "description": "A DestinE Data Lake Big Data Processing service on DEDL central site providing cloud compute resources and deployment blueprints for users that require full control over the virtual infrastructure.",
          "title": "DEDL Islet compute on Central site"
         },
         "stac_version": "1.0.0",
         "type": "Feature"
        },
        {
         "assets": {
          "thumbnail": {
           "href": "https://s3.central.data.destination-earth.eu/swift/v1/CSGROUP/assets/thumbnails/hook.webp",
           "media_type": "image/webp",
           "title": "DEDL Hook service"
          }
         },
         "id": "dedl-hook",
         "links": [
          {
           "href": "https://hda.data.destination-earth.eu/services",
           "rel": "collection",
           "type": "application/json"
          },
          {
           "href": "https://hda.data.destination-earth.eu/services",
           "rel": "parent",
           "type": "application/json"
          },
          {
           "href": "https://hda.data.destination-earth.eu/",
           "rel": "root",
           "type": "application/json"
          },
          {
           "href": "https://hda.data.destination-earth.eu/services/dedl-hook",
           "rel": "self",
           "type": "application/geo+json"
          },
          {
           "href": "https://odp.data.destination-earth.eu/odata/docs",
           "rel": "describes",
           "title": "Explore the DEDL Hook service"
          }
         ],
         "properties": {
          "description": "A DestinE Data Lake Big Data Processing service providing high level pre-defined and user-defined functions (conceptually like FaaS) that users can invoke from their applications and apply on the DestinE Data Lake data.",
          "title": "DEDL Hook service"
         },
         "stac_version": "1.0.0",
         "type": "Feature"
        },
        {
         "assets": {
          "thumbnail": {
           "href": "https://s3.central.data.destination-earth.eu/swift/v1/CSGROUP/assets/thumbnails/hda-ui.webp",
           "media_type": "image/webp",
           "title": "DEDL Discovery and Data Access"
          }
         },
         "id": "dedl-hda",
         "links": [
          {
           "href": "https://hda.data.destination-earth.eu/services",
           "rel": "collection",
           "type": "application/json"
          },
          {
           "href": "https://hda.data.destination-earth.eu/services",
           "rel": "parent",
           "type": "application/json"
          },
          {
           "href": "https://hda.data.destination-earth.eu/",
           "rel": "root",
           "type": "application/json"
          },
          {
           "href": "https://hda.data.destination-earth.eu/services/dedl-hda",
           "rel": "self",
           "type": "application/geo+json"
          },
          {
           "href": "https://hda.data.destination-earth.eu",
           "rel": "describes",
           "title": "Explore DEDL Discovery and Data Access"
          },
          {
           "href": "https://hda.data.destination-earth.eu/docs",
           "rel": "describedby",
           "title": "API documentation"
          },
          {
           "href": "https://destine-data-lake-docs.data.destination-earth.eu/en/latest/dedl-discovery-and-data-access/dedl-discovery-and-data-access.html",
           "rel": "describedby",
           "title": "Documentation and FAQ"
          }
         ],
         "properties": {
          "description": "An API to act as a unified and harmonized access to all DestinE Data Lake data (federated data and Digital Twin outputs) and services. It includes a STAC catalog allowing to browse through all datasets and services and an access service allowing both direct data download and data harvesting into a user location.",
          "title": "DEDL Discovery and Data Access"
         },
         "stac_version": "1.0.0",
         "type": "Feature"
        },
        {
         "id": "dedl-fdp",
         "links": [
          {
           "href": "https://hda.data.destination-earth.eu/services",
           "rel": "collection",
           "type": "application/json"
          },
          {
           "href": "https://hda.data.destination-earth.eu/services",
           "rel": "parent",
           "type": "application/json"
          },
          {
           "href": "https://hda.data.destination-earth.eu/",
           "rel": "root",
           "type": "application/json"
          },
          {
           "href": "https://hda.data.destination-earth.eu/services/dedl-fdp",
           "rel": "self",
           "type": "application/geo+json"
          },
          {
           "href": "https://datahub.creodias.eu/odata/v1/Products",
           "rel": "describes",
           "title": "Explore the DEDL Fresh Data Pool"
          },
          {
           "href": "https://creodias.docs.cloudferro.com/en/latest/eodata/EOData-Catalogue-API-Manual-on-Creodias.html",
           "rel": "describedby",
           "title": "Learn about DEDL Fresh Data Pool"
          }
         ],
         "properties": {
          "description": "DEDL internal cache of data for fast discovery and access.",
          "title": "DEDL Fresh Data Pool"
         },
         "stac_version": "1.0.0",
         "type": "Feature"
        }
       ],
       "links": [
        {
         "href": "https://hda.data.destination-earth.eu/collections/services/items",
         "rel": "items",
         "type": "application/geo+json"
        },
        {
         "href": "https://hda.data.destination-earth.eu/",
         "rel": "parent",
         "type": "application/json"
        },
        {
         "href": "https://hda.data.destination-earth.eu/",
         "rel": "root",
         "type": "application/json"
        },
        {
         "href": "https://hda.data.destination-earth.eu/collections/services",
         "rel": "self",
         "type": "application/json"
        }
       ],
       "type": "FeatureCollection"
      },
      "text/plain": [
       "<IPython.core.display.JSON object>"
      ]
     },
     "execution_count": 6,
     "metadata": {
      "application/json": {
       "expanded": false,
       "root": "root"
      }
     },
     "output_type": "execute_result"
    }
   ],
   "source": [
    "print(SERVICES_URL)\n",
    "display_as_json(requests.get(SERVICES_URL))"
   ]
  },
  {
   "cell_type": "markdown",
   "id": "0aa12103",
   "metadata": {},
   "source": [
    "The API can also describe a specific service, identified by its `serviceID` (e.g. **POLYTOPE**)."
   ]
  },
  {
   "cell_type": "code",
   "execution_count": 7,
   "id": "f5f91a44",
   "metadata": {
    "tags": []
   },
   "outputs": [
    {
     "name": "stdout",
     "output_type": "stream",
     "text": [
      "https://hda.data.destination-earth.eu/services/de-ecmwf-polytope-lumi\n"
     ]
    },
    {
     "data": {
      "application/json": {
       "assets": {
        "thumbnail": {
         "href": "https://s3.central.data.destination-earth.eu/swift/v1/CSGROUP/assets/thumbnails/polytope.webp",
         "media_type": "image/webp",
         "title": "ECMWF Polytope API"
        }
       },
       "id": "de-ecmwf-polytope-lumi",
       "links": [
        {
         "href": "https://hda.data.destination-earth.eu/services",
         "rel": "collection",
         "type": "application/json"
        },
        {
         "href": "https://hda.data.destination-earth.eu/services",
         "rel": "parent",
         "type": "application/json"
        },
        {
         "href": "https://hda.data.destination-earth.eu/",
         "rel": "root",
         "type": "application/json"
        },
        {
         "href": "https://hda.data.destination-earth.eu/services/de-ecmwf-polytope-lumi",
         "rel": "self",
         "type": "application/geo+json"
        },
        {
         "href": "https://polytope.apps.lumi.ewctest.link/openapi/",
         "rel": "describes",
         "title": "Explore DEDL Lumi Polytope service"
        }
       ],
       "properties": {
        "description": "A RESTful API providing efficient hyper-cube data access to the fields generated by DestinE Digital Twin model executions.",
        "title": "DestinE DT Output via ECMWF Polytope API on LUMI"
       },
       "stac_version": "1.0.0",
       "type": "Feature"
      },
      "text/plain": [
       "<IPython.core.display.JSON object>"
      ]
     },
     "execution_count": 7,
     "metadata": {
      "application/json": {
       "expanded": false,
       "root": "root"
      }
     },
     "output_type": "execute_result"
    }
   ],
   "source": [
    "print(SERVICE_BY_ID_URL)\n",
    "display_as_json(requests.get(SERVICE_BY_ID_URL))"
   ]
  },
  {
   "cell_type": "markdown",
   "id": "cf583fdf",
   "metadata": {},
   "source": [
    "## STAC API\n",
    "The HDA is plugged to a STAC API, component of the **EO Catalogue**.\n",
    "### Core\n",
    "The STAC API entry point is set to the `/stac` endpoint and provides the search capabilities provided by the DEDL STAC interface."
   ]
  },
  {
   "cell_type": "code",
   "execution_count": 24,
   "id": "7b17f435",
   "metadata": {
    "tags": []
   },
   "outputs": [
    {
     "name": "stdout",
     "output_type": "stream",
     "text": [
      "https://hda.lumi.data.destination-earth.eu/stac\n"
     ]
    },
    {
     "data": {
      "application/json": {
       "conformsTo": [
        "http://www.opengis.net/spec/ogcapi-features-1/1.0/conf/core",
        "http://www.opengis.net/spec/ogcapi-features-1/1.0/conf/geojson",
        "http://www.opengis.net/spec/ogcapi-features-1/1.0/conf/oas30",
        "http://www.opengis.net/spec/ogcapi-features-3/1.0/conf/filter",
        "https://api.stacspec.org/v1.0.0-rc.1/collections",
        "https://api.stacspec.org/v1.0.0-rc.1/core",
        "https://api.stacspec.org/v1.0.0-rc.1/item-search",
        "https://api.stacspec.org/v1.0.0-rc.1/item-search#fields",
        "https://api.stacspec.org/v1.0.0-rc.1/item-search#filter",
        "https://api.stacspec.org/v1.0.0-rc.1/item-search#filter:basic-cql",
        "https://api.stacspec.org/v1.0.0-rc.1/item-search#filter:cql-json",
        "https://api.stacspec.org/v1.0.0-rc.1/item-search#filter:cql-text",
        "https://api.stacspec.org/v1.0.0-rc.1/item-search#query",
        "https://api.stacspec.org/v1.0.0-rc.1/item-search#sort",
        "https://api.stacspec.org/v1.0.0-rc.1/ogcapi-features"
       ],
       "description": "Searchable spatiotemporal catalogue describing datasets hosted by the Destination Earth Data Lake",
       "id": "dedl-stac",
       "links": [
        {
         "href": "https://hda.lumi.data.destination-earth.eu/stac/",
         "rel": "self",
         "type": "application/json"
        },
        {
         "href": "https://hda.lumi.data.destination-earth.eu/stac/",
         "rel": "root",
         "type": "application/json"
        },
        {
         "href": "https://hda.lumi.data.destination-earth.eu/stac/collections",
         "rel": "data",
         "type": "application/json"
        },
        {
         "href": "https://hda.lumi.data.destination-earth.eu/stac/conformance",
         "rel": "conformance",
         "title": "STAC/WFS3 conformance classes implemented by this server",
         "type": "application/json"
        },
        {
         "href": "https://hda.lumi.data.destination-earth.eu/stac/search",
         "method": "GET",
         "rel": "search",
         "title": "STAC search",
         "type": "application/geo+json"
        },
        {
         "href": "https://hda.lumi.data.destination-earth.eu/stac/search",
         "method": "POST",
         "rel": "search",
         "title": "STAC search",
         "type": "application/geo+json"
        },
        {
         "href": "https://hda.lumi.data.destination-earth.eu/stac/collections/STAT.EUSTAT.DAT.POP_CHANGE_DEMO_BALANCE_CRUDE_RATES_NUTS3",
         "rel": "child",
         "title": "Eurostat - Population change - Demographic balance and crude rates at regional level (NUTS 3) ",
         "type": "application/json"
        },
        {
         "href": "https://hda.lumi.data.destination-earth.eu/stac/collections/EO.ESA.DAT.SENTINEL-3.OL_2_LRR___",
         "rel": "child",
         "title": "OLCI Land Colour Reduced Resolution - Sentinel-3",
         "type": "application/json"
        },
        {
         "href": "https://hda.lumi.data.destination-earth.eu/stac/collections/EO.EUM.DAT.SENTINEL-3.SR_1_SRA_BS",
         "rel": "child",
         "title": "SRAL Level 1B stack echoes - Sentinel-3",
         "type": "application/json"
        },
        {
         "href": "https://hda.lumi.data.destination-earth.eu/stac/collections/EO.EUM.DAT.SENTINEL-3.OL_1_ERR___",
         "rel": "child",
         "title": "OLCI Level 1B Reduced Resolution - Sentinel-3",
         "type": "application/json"
        },
        {
         "href": "https://hda.lumi.data.destination-earth.eu/stac/collections/EO.ESA.DAT.SENTINEL-3.OL_2_LFR___",
         "rel": "child",
         "title": "OLCI Land Colour Full Resolution - Sentinel-3",
         "type": "application/json"
        },
        {
         "href": "https://hda.lumi.data.destination-earth.eu/stac/collections/EO.ESA.DAT.SENTINEL-5P.TROPOMI.L1",
         "rel": "child",
         "title": "SENTINEL-5P TROPOMI",
         "type": "application/json"
        },
        {
         "href": "https://hda.lumi.data.destination-earth.eu/stac/collections/EO.EUM.DAT.SENTINEL-3.SL_2_WST___",
         "rel": "child",
         "title": "SLSTR Level 2 Sea Surface Temperature (SST) - Sentinel-3",
         "type": "application/json"
        },
        {
         "href": "https://hda.lumi.data.destination-earth.eu/stac/collections/EO.ESA.DAT.SENTINEL-1.L1_GRD",
         "rel": "child",
         "title": "SENTINEL-1 Level 1 Ground Range Detected (GRD)",
         "type": "application/json"
        },
        {
         "href": "https://hda.lumi.data.destination-earth.eu/stac/collections/STAT.EUSTAT.DAT.POP_AGE_SEX_NUTS2",
         "rel": "child",
         "title": "Population on 1 January by age, sex and NUTS 2 region",
         "type": "application/json"
        },
        {
         "href": "https://hda.lumi.data.destination-earth.eu/stac/collections/EO.ESA.DAT.SENTINEL-2.MSI.L1C",
         "rel": "child",
         "title": "Sentinel 2 MSI Level 2-C",
         "type": "application/json"
        },
        {
         "href": "https://hda.lumi.data.destination-earth.eu/stac/collections/EO.EUM.DAT.SENTINEL-3.SR_1_SRA_A_",
         "rel": "child",
         "title": "SRAL Level 1B - Sentinel-3",
         "type": "application/json"
        },
        {
         "href": "https://hda.lumi.data.destination-earth.eu/stac/collections/STAT.EUSTAT.DAT.SHARE_ENERGY_FROM_RENEWABLE",
         "rel": "child",
         "title": "Eurostat - Share of energy from renewable sources",
         "type": "application/json"
        },
        {
         "href": "https://hda.lumi.data.destination-earth.eu/stac/collections/STAT.EUSTAT.DAT.GREENHOUSE_GAS_EMISSION_AGRICULTURE",
         "rel": "child",
         "title": "Eurostat - Greenhouse gas emissions from agriculture",
         "type": "application/json"
        },
        {
         "href": "https://hda.lumi.data.destination-earth.eu/stac/collections/EO.EUM.DAT.SENTINEL-3.SR_1_SRA___",
         "rel": "child",
         "title": "SRAL Level 1B - Sentinel-3",
         "type": "application/json"
        },
        {
         "href": "https://hda.lumi.data.destination-earth.eu/stac/collections/EO.ESA.DAT.SENTINEL-2.MSI.L2A",
         "rel": "child",
         "title": "SENTINEL-2 Level-1C/Level-2A",
         "type": "application/json"
        },
        {
         "href": "https://hda.lumi.data.destination-earth.eu/stac/collections/EO.EUM.DAT.SENTINEL-3.SL_1_RBT___",
         "rel": "child",
         "title": "SLSTR Level 1B Radiances and Brightness Temperatures - Sentinel-3",
         "type": "application/json"
        },
        {
         "href": "https://hda.lumi.data.destination-earth.eu/stac/collections/EO.EUM.DAT.SENTINEL-3.OL_1_EFR___",
         "rel": "child",
         "title": "OLCI Level 1B Full Resolution - Sentinel-3",
         "type": "application/json"
        },
        {
         "href": "https://hda.lumi.data.destination-earth.eu/stac/collections/EO.EUM.DAT.SENTINEL-3.SR_2_WAT___",
         "rel": "child",
         "title": "SRAL Level 2 Altimetry Global - Sentinel-3",
         "type": "application/json"
        },
        {
         "href": "https://hda.lumi.data.destination-earth.eu/stac/collections/EO.ESA.DAT.SENTINEL-1.L1_SLC",
         "rel": "child",
         "title": "SENTINEL-1 Level 1 Single Look Complex (SLC) - EODC store",
         "type": "application/json"
        },
        {
         "href": "https://hda.lumi.data.destination-earth.eu/stac/collections/EO.EUM.DAT.SENTINEL-3.AOD",
         "rel": "child",
         "title": "SLSTR Level 2 Aerosol Optical Depth - Sentinel-3",
         "type": "application/json"
        },
        {
         "href": "https://hda.lumi.data.destination-earth.eu/stac/collections/EO.EUM.DAT.SENTINEL-3.FRP",
         "rel": "child",
         "title": "SLSTR Level 2 Fire Radiative Power - Sentinel 3",
         "type": "application/json"
        },
        {
         "href": "https://hda.lumi.data.destination-earth.eu/stac/collections/EO.EUM.DAT.SENTINEL-3.OL_2_WFR___",
         "rel": "child",
         "title": "OLCI Level 2 Ocean Colour Full Resolution - Sentinel-3",
         "type": "application/json"
        },
        {
         "href": "https://hda.lumi.data.destination-earth.eu/stac/collections/EO.EUM.DAT.SENTINEL-3.OL_2_WRR___",
         "rel": "child",
         "title": "OLCI Level 2 Ocean Colour Reduced Resolution - Sentinel-3",
         "type": "application/json"
        },
        {
         "href": "https://hda.lumi.data.destination-earth.eu/stac/collections/STAT.EUSTAT.DAT.POP_AGE_GROUP_SEX_NUTS3",
         "rel": "child",
         "title": "Population on 1 January by age, sex and NUTS 3 region",
         "type": "application/json"
        }
       ],
       "stac_version": "1.0.0",
       "title": "DEDL STAC API",
       "type": "Catalog"
      },
      "text/plain": [
       "<IPython.core.display.JSON object>"
      ]
     },
     "execution_count": 24,
     "metadata": {
      "application/json": {
       "expanded": false,
       "root": "root"
      }
     },
     "output_type": "execute_result"
    }
   ],
   "source": [
    "print(STAC_API_URL)\n",
    "display_as_json(requests.get(STAC_API_URL))"
   ]
  },
  {
   "cell_type": "markdown",
   "id": "830108b5",
   "metadata": {},
   "source": [
    "The user can also have access to the list of all the conformance classes that the server conforms to by hitting the `/stac/conformance` endpoint."
   ]
  },
  {
   "cell_type": "code",
   "execution_count": 7,
   "id": "482862d9",
   "metadata": {
    "tags": []
   },
   "outputs": [
    {
     "name": "stdout",
     "output_type": "stream",
     "text": [
      "https://hda.central.data.destination-earth.eu/stac/conformance\n"
     ]
    },
    {
     "data": {
      "application/json": {
       "conformsTo": [
        "http://www.opengis.net/spec/ogcapi-features-1/1.0/conf/core",
        "http://www.opengis.net/spec/ogcapi-features-1/1.0/conf/geojson",
        "http://www.opengis.net/spec/ogcapi-features-1/1.0/conf/oas30",
        "http://www.opengis.net/spec/ogcapi-features-3/1.0/conf/filter",
        "https://api.stacspec.org/v1.0.0-rc.1/collections",
        "https://api.stacspec.org/v1.0.0-rc.1/core",
        "https://api.stacspec.org/v1.0.0-rc.1/item-search",
        "https://api.stacspec.org/v1.0.0-rc.1/item-search#fields",
        "https://api.stacspec.org/v1.0.0-rc.1/item-search#filter",
        "https://api.stacspec.org/v1.0.0-rc.1/item-search#filter:basic-cql",
        "https://api.stacspec.org/v1.0.0-rc.1/item-search#filter:cql-json",
        "https://api.stacspec.org/v1.0.0-rc.1/item-search#filter:cql-text",
        "https://api.stacspec.org/v1.0.0-rc.1/item-search#query",
        "https://api.stacspec.org/v1.0.0-rc.1/item-search#sort",
        "https://api.stacspec.org/v1.0.0-rc.1/ogcapi-features"
       ]
      },
      "text/plain": [
       "<IPython.core.display.JSON object>"
      ]
     },
     "execution_count": 7,
     "metadata": {
      "application/json": {
       "expanded": false,
       "root": "root"
      }
     },
     "output_type": "execute_result"
    }
   ],
   "source": [
    "print(CONFORMANCE_URL)\n",
    "display_as_json(requests.get(CONFORMANCE_URL))"
   ]
  },
  {
   "cell_type": "markdown",
   "id": "26de457f",
   "metadata": {
    "tags": []
   },
   "source": [
    "### Collections\n",
    "The `/stac/collections` endpoint returns a `FeatureCollection` object, listing all STAC collections available to the user."
   ]
  },
  {
   "cell_type": "code",
   "execution_count": 8,
   "id": "e8e13594",
   "metadata": {
    "tags": []
   },
   "outputs": [
    {
     "name": "stdout",
     "output_type": "stream",
     "text": [
      "https://hda.central.data.destination-earth.eu/stac/collections\n"
     ]
    },
    {
     "data": {
      "application/json": {
       "collections": [
        {
         "assets": {
          "thumbnail": {
           "href": "https://datastore.copernicus-climate.eu/c3s/published-forms-v2/c3sprod/cems-glofas-seasonal/overview.png",
           "roles": [
            "thumbnail"
           ],
           "title": "overview",
           "type": "image/png"
          }
         },
         "dedl:short_description": "This dataset provides a gridded modelled time series of river discharge, forced with seasonal range meteorological forecasts.",
         "description": "This dataset provides a gridded modelled time series of river discharge, forced with seasonal range meteorological forecasts. The data is a consistent representation of a key hydrological variable across the global domain, and is a product of the Global Flood Awareness System (GloFAS). It is accompanied by an ancillary file for interpretation that provides the upstream area (see the related variables table and associated link in the documentation).\nThis dataset was produced by forcing the LISFLOOD hydrological model at a 0.1° (~11 km at the equator) resolution with downscaled runoff forecasts from the European Centre for Medium-range Weather Forecasts (ECMWF) 51-member ensemble seasonal forecasting system, SEAS5. The forecasts are initialised on the first of each month with a 24-hourly time step, and cover 123 days.\nCompanion datasets, also available through the Climate Data Store (CDS), are the operational forecasts, historical simulations that can be used to derive the hydrological climatology, and medium-range and seasonal reforecasts. The latter dataset enables research, local skill assessment and post-processing of the seasonal forecasts. In addition, the seasonal reforecasts are also used to derive a specific range dependent climatology for the seasonal system. For users looking specifically for European hydrological data, we refer to the European Flood Awareness System (EFAS) forecasts and historical simulations. All these datasets are part of the operational flood forecasting within the Copernicus Emergency Management Service (CEMS).\n\nVariables in the dataset/application are:\nRiver discharge in the last 24 hours\n\nVariables in the dataset/application are:\nUpstream area",
         "extent": {
          "spatial": {
           "bbox": [
            [
             -180,
             -90,
             180,
             90
            ]
           ]
          },
          "temporal": {
           "interval": [
            [
             "2019-11-01T00:00:00Z",
             "2023-05-01T23:59:59Z"
            ]
           ]
          }
         },
         "id": "EO.ECMWF.DAT.CEMS_GLOFAS_SEASONAL",
         "keywords": [
          "Forecast",
          "Product type: Seasonal forecasts",
          "Spatial coverage: Global",
          "Variable domain: Land (hydrology)",
          "Temporal coverage: Present",
          "Provider: Copernicus CEMS"
         ],
         "license": "proprietary",
         "links": [
          {
           "href": "https://hda.central.data.destination-earth.eu/stac/collections/EO.ECMWF.DAT.CEMS_GLOFAS_SEASONAL/items",
           "rel": "items",
           "type": "application/geo+json"
          },
          {
           "href": "https://hda.central.data.destination-earth.eu/stac/",
           "rel": "parent",
           "type": "application/json"
          },
          {
           "href": "https://hda.central.data.destination-earth.eu/stac/",
           "rel": "root",
           "type": "application/json"
          },
          {
           "href": "https://hda.central.data.destination-earth.eu/stac/collections/EO.ECMWF.DAT.CEMS_GLOFAS_SEASONAL",
           "rel": "self",
           "type": "application/json"
          },
          {
           "href": "https://eo-apis.csgroup.space/dataset/EO.ECMWF.DAT.CEMS_GLOFAS_SEASONAL",
           "rel": "describedby",
           "title": "Human readable dataset overview and reference",
           "type": "text/html"
          }
         ],
         "providers": [
          {
           "description": "European Centre for Medium-Range Weather Forecasts (ECMWF)",
           "name": "European Centre for Medium-Range Weather Forecasts (ECMWF)",
           "roles": [
            "licensor",
            "producer",
            "processor"
           ],
           "url": "https://www.ecmwf.int/"
          },
          {
           "name": "Copernicus Climate Data Store",
           "roles": [
            "host"
           ],
           "url": "https://cds.climate.copernicus.eu"
          }
         ],
         "stac_version": "1.0.0",
         "title": "Seasonal forecasts of river discharge and related data by the Global Flood Awareness System",
         "type": "Collection"
        },
        {
         "assets": {
          "thumbnail": {
           "href": "https://navigator.eumetsat.int/preview/s3_sral.png",
           "roles": [
            "thumbnail"
           ],
           "title": "Sentinel-3A Sea Level Anomaly (cm)",
           "type": "image/png"
          }
         },
         "description": "SRAL Level 1B: Complex echoes (In-phase (I) and Quadrature (Q)) for the Low Resolution Mode (LRM) and/or Synthetic Aperture Radar (SAR) mode both for C Band and Ku band. When the altimeter is in SAR mode, this product also contains the so-called Pseudo LRM (PLRM) echoes. Complex (In-phase  and Quadrature) echoes (I's and Q;s) after slant/Doppler range correction. This product is most relevant to geophysical retrieval algorithm developers (over ocean, land and ice surfaces), surface characterisations studies (e.g. impact of sea state bias, wave directional effects etc) and Quality Control systems.\n\n- All Sentinel-3 Short Time Critical (STC) products are available at pick-up point in less than 48 hours.\n- All Sentinel-3 Non Time Critical (NTC) products are available at pick-up point in less than 30 days.\nSentinel-3 is part of a series of Sentinel satellites, under the umbrella of the EU Copernicus programme. measurements_parameters: (ECHO_SAR_Ku: SAR MODE 20 Hz, ECHO_PLRM: PSEUDO-LRM MODE 20 Hz).",
         "extent": {
          "spatial": {
           "bbox": [
            [
             -180,
             -90,
             180,
             90
            ]
           ]
          },
          "temporal": {
           "interval": [
            [
             "2016-03-01T00:00:00Z",
             null
            ]
           ]
          }
         },
         "id": "EO.EUM.DAT.SENTINEL-3.SR_1_SRA_BS",
         "item_assets": {
          "thumbnail": {
           "description": "An averaged, decimated preview image in PNG format. Single polarisation products are represented with a grey scale image. Dual polarisation products are represented by a single composite colour image in RGB with the red channel (R) representing the  co-polarisation VV or HH), the green channel (G) represents the cross-polarisation (VH or HV) and the blue channel (B) represents the ratio of the cross an co-polarisations.",
           "roles": [
            "thumbnail"
           ],
           "title": "Preview Image",
           "type": "image/png"
          }
         },
         "keywords": [
          "Level 1 Data",
          "Ocean",
          "Sea Surface Height",
          "Surface Height",
          "disableCustomizeCart",
          "sea wind speed"
         ],
         "license": "proprietary",
         "links": [
          {
           "href": "https://hda.central.data.destination-earth.eu/stac/collections/EO.EUM.DAT.SENTINEL-3.SR_1_SRA_BS/items",
           "rel": "items",
           "type": "application/geo+json"
          },
          {
           "href": "https://hda.central.data.destination-earth.eu/stac/",
           "rel": "parent",
           "type": "application/json"
          },
          {
           "href": "https://hda.central.data.destination-earth.eu/stac/",
           "rel": "root",
           "type": "application/json"
          },
          {
           "href": "https://hda.central.data.destination-earth.eu/stac/collections/EO.EUM.DAT.SENTINEL-3.SR_1_SRA_BS",
           "rel": "self",
           "type": "application/json"
          },
          {
           "href": "https://eo-apis.csgroup.space/dataset/EO.EUM.DAT.SENTINEL-3.SR_1_SRA_BS",
           "rel": "describedby",
           "title": "Human readable dataset overview and reference",
           "type": "text/html"
          }
         ],
         "providers": [
          {
           "name": "EUMETSAT",
           "roles": [
            "producer",
            "processor",
            "licensor"
           ],
           "url": "https://www.eumetsat.int/"
          },
          {
           "name": "CREODIAS",
           "roles": [
            "host"
           ],
           "url": "https://creodias.eu"
          },
          {
           "name": "DEDL",
           "roles": [
            "host"
           ],
           "url": "https://destination-earth.eu/"
          }
         ],
         "stac_extensions": [
          "https://stac-extensions.github.io/eo/v1.1.0/schema.json",
          "https://stac-extensions.github.io/processing/v1.1.0/schema.json",
          "https://stac-extensions.github.io/sar/v1.0.0/schema.json",
          "https://stac-extensions.github.io/sat/v1.0.0/schema.json",
          "https://stac-extensions.github.io/item-assets/v1.0.0/schema.json",
          "https://stac-extensions.github.io/eo/v1.1.0/schema.json"
         ],
         "stac_version": "1.0.0",
         "summaries": {
          "constellation": [
           "Sentinel-3"
          ],
          "instruments": [
           "SRAL (Synthetic Aperture Radar Altimeter)"
          ],
          "platform": [
           "Sentinel-3A",
           "Sentinel-3B"
          ],
          "processing:level": [
           "L1B"
          ],
          "s1:product_timeliness": [
           "NRT-3h",
           "STC-48h",
           "NTC-1m"
          ],
          "sar:center_frequency": [
           5.41,
           13.575
          ],
          "sar:frequency_band": [
           "C",
           "Ku"
          ]
         },
         "title": "SRAL Level 1B stack echoes - Sentinel-3",
         "type": "Collection"
        },
        {
         "assets": {
          "thumbnail": {
           "href": "https://datastore.copernicus-climate.eu/cams/published-forms-v2/camsprod/cams-global-atmospheric-composition-forecasts/overview.png",
           "roles": [
            "thumbnail"
           ],
           "title": "overview",
           "type": "image/png"
          }
         },
         "dedl:short_description": "The forecasts consist of more than 50 chemical species (e.g. ozone, nitrogen dioxide, carbon monoxide) and seven different types of aerosol (desert dust, sea salt, organic matter, black carbon, sulphate, nitrate and ammonium aerosol).",
         "description": "CAMS produces global forecasts for atmospheric composition twice a day. The forecasts consist of more than 50 chemical species (e.g. ozone, nitrogen dioxide, carbon monoxide) and seven different types of aerosol (desert dust, sea salt, organic matter, black carbon, sulphate, nitrate and ammonium aerosol). In addition, several meteorological variables are available as well.\nThe initial conditions of each forecast are obtained by combining a previous forecast with current satellite observations through a process called data assimilation. This best estimate of the state of the atmosphere at the initial forecast time step, called the analysis, provides a globally complete and consistent dataset allowing for estimates at locations where observation data coverage is low or for atmospheric pollutants for which no direct observations are available.\nThe forecast itself uses a model of the atmosphere based on the laws of physics and chemistry to determine the evolution of the concentrations of all species over time for the next five days. Apart from the required initial state, it also uses inventory-based or observation-based emission estimates as a boundary condition at the surface.\nThe CAMS global forecasting system is upgraded about once a year resulting in technical and scientific changes. The horizontal or vertical resolution can change, new species can be added, and more generally the accuracy of the forecasts can be improved. Details of these system changes can be found in the documentation. Users looking for a more consistent long-term data set should consider using the CAMS Global Reanalysis instead, which is available through the ADS and spans the period from 2003 onwards.\n Finally, because some meteorological fields in the forecast do not fall within the general CAMS data licence, they are only available with a delay of 5 days.",
         "extent": {
          "spatial": {
           "bbox": [
            [
             -180,
             -90,
             180,
             90
            ]
           ]
          },
          "temporal": {
           "interval": [
            [
             "2015-01-01T00:00:00Z",
             null
            ]
           ]
          }
         },
         "id": "EO.ECMWF.DAT.CAMS_GLOBAL_ATMOSHERIC_COMPO_FORECAST",
         "keywords": [
          "CAMS",
          "Air Quality"
         ],
         "license": "proprietary",
         "links": [
          {
           "href": "https://hda.central.data.destination-earth.eu/stac/collections/EO.ECMWF.DAT.CAMS_GLOBAL_ATMOSHERIC_COMPO_FORECAST/items",
           "rel": "items",
           "type": "application/geo+json"
          },
          {
           "href": "https://hda.central.data.destination-earth.eu/stac/",
           "rel": "parent",
           "type": "application/json"
          },
          {
           "href": "https://hda.central.data.destination-earth.eu/stac/",
           "rel": "root",
           "type": "application/json"
          },
          {
           "href": "https://hda.central.data.destination-earth.eu/stac/collections/EO.ECMWF.DAT.CAMS_GLOBAL_ATMOSHERIC_COMPO_FORECAST",
           "rel": "self",
           "type": "application/json"
          },
          {
           "href": "https://eo-apis.csgroup.space/dataset/EO.ECMWF.DAT.CAMS_GLOBAL_ATMOSHERIC_COMPO_FORECAST",
           "rel": "describedby",
           "title": "Human readable dataset overview and reference",
           "type": "text/html"
          }
         ],
         "providers": [
          {
           "description": "European Centre for Medium-Range Weather Forecasts (ECMWF)",
           "name": "European Centre for Medium-Range Weather Forecasts (ECMWF)",
           "roles": [
            "licensor",
            "producer",
            "processor"
           ],
           "url": "https://www.ecmwf.int/"
          },
          {
           "name": "Copernicus Atmosphere Data Store",
           "roles": [
            "host"
           ],
           "url": "https://ads.atmosphere.copernicus.eu"
          }
         ],
         "stac_version": "1.0.0",
         "title": "CAMS global atmospheric composition forecasts",
         "type": "Collection"
        },
        {
         "assets": {
          "thumbnail": {
           "href": "https://datastore.copernicus-climate.eu/c3s/published-forms-v2/c3sprod/reanalysis-era5-single-levels/overview.jpg",
           "roles": [
            "thumbnail"
           ],
           "title": "overview",
           "type": "image/jpeg"
          }
         },
         "dedl:short_description": "ERA5 is the fifth generation ECMWF reanalysis for the global climate and weather for the past 8 decades. Data is available from 1940 onwards.",
         "description": "ERA5 is the fifth generation ECMWF reanalysis for the global climate and weather for the past 8 decades. Data is available from 1940 onwards. ERA5 replaces the ERA-Interim reanalysis.\n\nReanalysis combines model data with observations from across the world into a globally complete and consistent dataset using the laws of physics. This principle, called data assimilation, is based on the method used by numerical weather prediction centres, where every so many hours (12 hours at ECMWF) a previous forecast is combined with newly available observations in an optimal way to produce a new best estimate of the state of the atmosphere, called analysis, from which an updated, improved forecast is issued. Reanalysis works in the same way, but at reduced resolution to allow for the provision of a dataset spanning back several decades. Reanalysis does not have the constraint of issuing timely forecasts, so there is more time to collect observations, and when going further back in time, to allow for the ingestion of improved versions of the original observations, which all benefit the quality of the reanalysis product.\n\nERA5 provides hourly estimates for a large number of atmospheric, ocean-wave and land-surface quantities. An uncertainty estimate is sampled by an underlying 10-member ensemble at three-hourly intervals. Ensemble mean and spread have been pre-computed for convenience. Such uncertainty estimates are closely related to the information content of the available observing system which has evolved considerably over time. They also indicate flow-dependent sensitive areas. To facilitate many climate applications, monthly-mean averages have been pre-calculated too, though monthly means are not available for the ensemble mean and spread.\n\nERA5 is updated daily with a latency of about 5 days. In case that serious flaws are detected in this early release (called ERA5T), this data could be different from the final release 2 to 3 months later. In case that this occurs users are notified.\n\nThe data set presented here is a regridded subset of the full ERA5 data set on native resolution. It is online on spinning disk, which should ensure fast and easy access. It should satisfy the requirements for most common applications.\n\nData has been regridded to a regular lat-lon grid of 0.25 degrees for the reanalysis and 0.5 degrees for the uncertainty estimate (0.5 and 1 degree respectively for ocean waves). There are four main sub sets: hourly and monthly products, both on pressure levels (upper air fields) and single levels (atmospheric, ocean-wave and land surface quantities).",
         "extent": {
          "spatial": {
           "bbox": [
            [
             -180,
             -90,
             180,
             90
            ]
           ]
          },
          "temporal": {
           "interval": [
            [
             "1940-01-01T00:00:00Z",
             null
            ]
           ]
          }
         },
         "id": "EO.ECMWF.DAT.REANALYSIS_ERA5_SINGLE_LEVELS",
         "keywords": [
          "Atmospheric conditions",
          "Variable domain: Atmosphere (surface)",
          "Variable domain: Atmosphere (upper air)",
          "Temporal coverage: Past",
          "Spatial coverage: Global",
          "Product type: Reanalysis",
          "Provider: Copernicus C3S"
         ],
         "license": "proprietary",
         "links": [
          {
           "href": "https://hda.central.data.destination-earth.eu/stac/collections/EO.ECMWF.DAT.REANALYSIS_ERA5_SINGLE_LEVELS/items",
           "rel": "items",
           "type": "application/geo+json"
          },
          {
           "href": "https://hda.central.data.destination-earth.eu/stac/",
           "rel": "parent",
           "type": "application/json"
          },
          {
           "href": "https://hda.central.data.destination-earth.eu/stac/",
           "rel": "root",
           "type": "application/json"
          },
          {
           "href": "https://hda.central.data.destination-earth.eu/stac/collections/EO.ECMWF.DAT.REANALYSIS_ERA5_SINGLE_LEVELS",
           "rel": "self",
           "type": "application/json"
          },
          {
           "href": "https://eo-apis.csgroup.space/dataset/EO.ECMWF.DAT.REANALYSIS_ERA5_SINGLE_LEVELS",
           "rel": "describedby",
           "title": "Human readable dataset overview and reference",
           "type": "text/html"
          }
         ],
         "providers": [
          {
           "description": "European Centre for Medium-Range Weather Forecasts (ECMWF)",
           "name": "European Centre for Medium-Range Weather Forecasts (ECMWF)",
           "roles": [
            "licensor",
            "producer",
            "processor"
           ],
           "url": "https://www.ecmwf.int/"
          },
          {
           "name": "Copernicus Climate Data Store",
           "roles": [
            "host"
           ],
           "url": "https://cds.climate.copernicus.eu"
          }
         ],
         "stac_version": "1.0.0",
         "title": "ERA5 hourly data on single levels from 1940 to present",
         "type": "Collection"
        },
        {
         "assets": {
          "thumbnail": {
           "href": "https://navigator.eumetsat.int/preview/S3_NRT_AOD.png",
           "roles": [
            "thumbnail"
           ],
           "title": "Sentinel-3 AOD NRT",
           "type": "image/png"
          }
         },
         "dedl:short_description": "The Copernicus Sentinel-3 (S3) NRT AOD product quantifies the abundance of aerosol particles, and monitors their global distribution & long-range transport, at the scale of 9.5 x 9.5 km2.",
         "description": "The Copernicus Sentinel-3 (S3) NRT AOD product quantifies the abundance of aerosol particles, and monitors their global distribution & long-range transport, at the scale of 9.5 x 9.5 km2. All observations are made available in less than 3 hours from the SLSTR observation sensing time. It is only applicable during daytime.\nThe current S3 NRT AOD product is the first release as Baseline Collection 1.\nUsers are advised to bear in mind the different maturity statuses between ocean and land surfaces where:\n• AOD Ocean is pre-operational\n• AOD Land is currently demonstrational\nFurther improvements to the S3 NRT AOD product are planned, including the optimization of the spectral constraints over land continents in case of unfavourable dual-view geometry, a comprehensive global validation, and additional updates following feedback from selected Sentinel-3 NRT atmosphere experts.",
         "extent": {
          "spatial": {
           "bbox": [
            [
             -180,
             -90,
             180,
             90
            ]
           ]
          },
          "temporal": {
           "interval": [
            [
             "2020-08-19T00:00:00Z",
             null
            ]
           ]
          }
         },
         "id": "EO.EUM.DAT.SENTINEL-3.AOD",
         "item_assets": {
          "thumbnail": {
           "description": "An averaged, decimated preview image in PNG format. Single polarisation products are represented with a grey scale image. Dual polarisation products are represented by a single composite colour image in RGB with the red channel (R) representing the  co-polarisation VV or HH), the green channel (G) represents the cross-polarisation (VH or HV) and the blue channel (B) represents the ratio of the cross an co-polarisations.",
           "roles": [
            "thumbnail"
           ],
           "title": "Preview Image",
           "type": "image/png"
          }
         },
         "keywords": [
          "Aerosol",
          "Level 2 Data",
          "AOD",
          "Aerosol Optical Depth",
          "Atmosphere",
          "Air Pollution"
         ],
         "license": "proprietary",
         "links": [
          {
           "href": "https://hda.central.data.destination-earth.eu/stac/collections/EO.EUM.DAT.SENTINEL-3.AOD/items",
           "rel": "items",
           "type": "application/geo+json"
          },
          {
           "href": "https://hda.central.data.destination-earth.eu/stac/",
           "rel": "parent",
           "type": "application/json"
          },
          {
           "href": "https://hda.central.data.destination-earth.eu/stac/",
           "rel": "root",
           "type": "application/json"
          },
          {
           "href": "https://hda.central.data.destination-earth.eu/stac/collections/EO.EUM.DAT.SENTINEL-3.AOD",
           "rel": "self",
           "type": "application/json"
          },
          {
           "href": "https://eo-apis.csgroup.space/dataset/EO.EUM.DAT.SENTINEL-3.AOD",
           "rel": "describedby",
           "title": "Human readable dataset overview and reference",
           "type": "text/html"
          }
         ],
         "providers": [
          {
           "name": "EUMETSAT",
           "roles": [
            "producer",
            "processor",
            "licensor"
           ],
           "url": "https://www.eumetsat.int/"
          },
          {
           "name": "CREODIAS",
           "roles": [
            "host"
           ],
           "url": "https://creodias.eu"
          },
          {
           "name": "DEDL",
           "roles": [
            "host"
           ],
           "url": "https://destination-earth.eu/"
          }
         ],
         "stac_extensions": [
          "https://stac-extensions.github.io/processing/v1.1.0/schema.json",
          "https://stac-extensions.github.io/item-assets/v1.0.0/schema.json"
         ],
         "stac_version": "1.0.0",
         "summaries": {
          "constellation": [
           "Sentinel-3"
          ],
          "instruments": [
           "SLSTR"
          ],
          "platform": [
           "SENTINEL-3A",
           "SENTINEL-3B"
          ],
          "processing:level": [
           "L2"
          ],
          "s1:product_timeliness": [
           "NRT-3h"
          ]
         },
         "title": "SLSTR Level 2 Aerosol Optical Depth - Sentinel-3",
         "type": "Collection"
        },
        {
         "assets": {
          "data": {
           "href": "https://ec.europa.eu/eurostat/api/dissemination/sdmx/2.1/data/demo_r_gind3?format=tsv",
           "roles": [
            "data"
           ],
           "title": "Eurostat demo_r_gind3",
           "type": "text/tab-separated-values"
          },
          "thumbnail": {
           "href": "https://th.bing.com/th/id/OIP.hWFLXRGub-BhrHIu7dvx4gHaFj?pid=ImgDet&rs=1",
           "media_type": "image/jpeg",
           "roles": [
            "thumbnail"
           ],
           "title": "Eurostat Population"
          }
         },
         "dedl:short_description": "This dataset includes demographic data at regional level from 37 countries.",
         "description": "Each year Eurostat collects demographic data at regional level from 37 countries as part of the Unified Demography (Unidemo) project. UNIDEMO is Eurostat’s main annual demographic data collection and aims to gather information on demography and migration. UNIDEMO collects data at national and regional levels by various breakdowns on: population stocks, vital events (live births and deaths), migration flows.",
         "extent": {
          "spatial": {
           "bbox": [
            [
             -69.103165,
             -26.018616,
             61.78629,
             80.77476
            ]
           ]
          },
          "temporal": {
           "interval": [
            [
             "2000-01-01T00:00:00Z",
             "2021-12-31T23:59:59Z"
            ]
           ]
          }
         },
         "id": "STAT.EUSTAT.DAT.POP_CHANGE_DEMO_BALANCE_CRUDE_RATES_NUTS3",
         "keywords": [
          "Eurostat",
          "Population",
          "Demographic",
          "Births",
          "Deaths",
          "Migration",
          "Unidemo",
          "NUTS 3"
         ],
         "license": "proprietary",
         "links": [
          {
           "href": "https://hda.central.data.destination-earth.eu/stac/collections/STAT.EUSTAT.DAT.POP_CHANGE_DEMO_BALANCE_CRUDE_RATES_NUTS3/items",
           "rel": "items",
           "type": "application/geo+json"
          },
          {
           "href": "https://hda.central.data.destination-earth.eu/stac/",
           "rel": "parent",
           "type": "application/json"
          },
          {
           "href": "https://hda.central.data.destination-earth.eu/stac/",
           "rel": "root",
           "type": "application/json"
          },
          {
           "href": "https://hda.central.data.destination-earth.eu/stac/collections/STAT.EUSTAT.DAT.POP_CHANGE_DEMO_BALANCE_CRUDE_RATES_NUTS3",
           "rel": "self",
           "type": "application/json"
          },
          {
           "href": "https://ec.europa.eu/eurostat/about-us/policies/copyright",
           "rel": "license",
           "title": "Eurostat - Copyright notice and free re-use of data"
          },
          {
           "href": "https://eo-apis.csgroup.space/dataset/STAT.EUSTAT.DAT.POP_CHANGE_DEMO_BALANCE_CRUDE_RATES_NUTS3",
           "rel": "describedby",
           "title": "Human readable dataset overview and reference",
           "type": "text/html"
          }
         ],
         "providers": [
          {
           "name": "Eurostat",
           "roles": [
            "producer",
            "licensor"
           ],
           "url": "https://ec.europa.eu/eurostat"
          },
          {
           "name": "DEDL",
           "roles": [
            "host",
            "processor"
           ],
           "url": "https://destination-earth.eu/"
          }
         ],
         "stac_version": "1.0.0",
         "summaries": {
          "geo\\time": [
           "AL0",
           "AL01",
           "AL011",
           "AL012",
           "AL013",
           "AL014",
           "AL015",
           "AL02",
           "AL021",
           "AL022",
           "AL03",
           "AL031",
           "AL032",
           "AL033",
           "AL034",
           "AL035",
           "AT",
           "AT1",
           "AT11",
           "AT111",
           "AT112",
           "AT113",
           "AT12",
           "AT121",
           "AT122",
           "AT123",
           "AT124",
           "AT125",
           "AT126",
           "AT127",
           "AT13",
           "AT130",
           "AT2",
           "AT21",
           "AT211",
           "AT212",
           "AT213",
           "AT22",
           "AT221",
           "AT222",
           "AT223",
           "AT224",
           "AT225",
           "AT226",
           "AT3",
           "AT31",
           "AT311",
           "AT312",
           "AT313",
           "AT314",
           "AT315",
           "AT32",
           "AT321",
           "AT322",
           "AT323",
           "AT33",
           "AT331",
           "AT332",
           "AT333",
           "AT334",
           "AT335",
           "AT34",
           "AT341",
           "AT342",
           "BE",
           "BE1",
           "BE10",
           "BE100",
           "BE2",
           "BE21",
           "BE211",
           "BE212",
           "BE213",
           "BE22",
           "BE221",
           "BE222",
           "BE223",
           "BE23",
           "BE231",
           "BE232",
           "BE233",
           "BE234",
           "BE235",
           "BE236",
           "BE24",
           "BE241",
           "BE242",
           "BE25",
           "BE251",
           "BE252",
           "BE253",
           "BE254",
           "BE255",
           "BE256",
           "BE257",
           "BE258",
           "BE3",
           "BE31",
           "BE310",
           "BE32",
           "BE321",
           "BE322",
           "BE323",
           "BE324",
           "BE325",
           "BE326",
           "BE327",
           "BE33",
           "BE331",
           "BE332",
           "BE334",
           "BE335",
           "BE336",
           "BE34",
           "BE341",
           "BE342",
           "BE343",
           "BE344",
           "BE345",
           "BE35",
           "BE351",
           "BE352",
           "BE353",
           "BG",
           "BG3",
           "BG31",
           "BG311",
           "BG312",
           "BG313",
           "BG314",
           "BG315",
           "BG32",
           "BG321",
           "BG322",
           "BG323",
           "BG324",
           "BG325",
           "BG33",
           "BG331",
           "BG332",
           "BG333",
           "BG334",
           "BG34",
           "BG341",
           "BG342",
           "BG343",
           "BG344",
           "BG4",
           "BG41",
           "BG411",
           "BG412",
           "BG413",
           "BG414",
           "BG415",
           "BG42",
           "BG421",
           "BG422",
           "BG423",
           "BG424",
           "BG425",
           "CH",
           "CH0",
           "CH01",
           "CH011",
           "CH012",
           "CH013",
           "CH02",
           "CH021",
           "CH022",
           "CH023",
           "CH024",
           "CH025",
           "CH03",
           "CH031",
           "CH032",
           "CH033",
           "CH04",
           "CH040",
           "CH05",
           "CH051",
           "CH052",
           "CH053",
           "CH054",
           "CH055",
           "CH056",
           "CH057",
           "CH06",
           "CH061",
           "CH062",
           "CH063",
           "CH064",
           "CH065",
           "CH066",
           "CH07",
           "CH070",
           "CY",
           "CY0",
           "CY00",
           "CY000",
           "CZ",
           "CZ0",
           "CZ01",
           "CZ010",
           "CZ02",
           "CZ020",
           "CZ03",
           "CZ031",
           "CZ032",
           "CZ04",
           "CZ041",
           "CZ042",
           "CZ05",
           "CZ051",
           "CZ052",
           "CZ053",
           "CZ06",
           "CZ063",
           "CZ064",
           "CZ07",
           "CZ071",
           "CZ072",
           "CZ08",
           "CZ080",
           "DE",
           "DE1",
           "DE11",
           "DE111",
           "DE112",
           "DE113",
           "DE114",
           "DE115",
           "DE116",
           "DE117",
           "DE118",
           "DE119",
           "DE11A",
           "DE11B",
           "DE11C",
           "DE11D",
           "DE12",
           "DE121",
           "DE122",
           "DE123",
           "DE124",
           "DE125",
           "DE126",
           "DE127",
           "DE128",
           "DE129",
           "DE12A",
           "DE12B",
           "DE12C",
           "DE13",
           "DE131",
           "DE132",
           "DE133",
           "DE134",
           "DE135",
           "DE136",
           "DE137",
           "DE138",
           "DE139",
           "DE13A",
           "DE14",
           "DE141",
           "DE142",
           "DE143",
           "DE144",
           "DE145",
           "DE146",
           "DE147",
           "DE148",
           "DE149",
           "DE2",
           "DE21",
           "DE211",
           "DE212",
           "DE213",
           "DE214",
           "DE215",
           "DE216",
           "DE217",
           "DE218",
           "DE219",
           "DE21A",
           "DE21B",
           "DE21C",
           "DE21D",
           "DE21E",
           "DE21F",
           "DE21G",
           "DE21H",
           "DE21I",
           "DE21J",
           "DE21K",
           "DE21L",
           "DE21M",
           "DE21N",
           "DE22",
           "DE221",
           "DE222",
           "DE223",
           "DE224",
           "DE225",
           "DE226",
           "DE227",
           "DE228",
           "DE229",
           "DE22A",
           "DE22B",
           "DE22C",
           "DE23",
           "DE231",
           "DE232",
           "DE233",
           "DE234",
           "DE235",
           "DE236",
           "DE237",
           "DE238",
           "DE239",
           "DE23A",
           "DE24",
           "DE241",
           "DE242",
           "DE243",
           "DE244",
           "DE245",
           "DE246",
           "DE247",
           "DE248",
           "DE249",
           "DE24A",
           "DE24B",
           "DE24C",
           "DE24D",
           "DE25",
           "DE251",
           "DE252",
           "DE253",
           "DE254",
           "DE255",
           "DE256",
           "DE257",
           "DE258",
           "DE259",
           "DE25A",
           "DE25B",
           "DE25C",
           "DE26",
           "DE261",
           "DE262",
           "DE263",
           "DE264",
           "DE265",
           "DE266",
           "DE267",
           "DE268",
           "DE269",
           "DE26A",
           "DE26B",
           "DE26C",
           "DE27",
           "DE271",
           "DE272",
           "DE273",
           "DE274",
           "DE275",
           "DE276",
           "DE277",
           "DE278",
           "DE279",
           "DE27A",
           "DE27B",
           "DE27C",
           "DE27D",
           "DE27E",
           "DE3",
           "DE30",
           "DE300",
           "DE4",
           "DE40",
           "DE401",
           "DE402",
           "DE403",
           "DE404",
           "DE405",
           "DE406",
           "DE407",
           "DE408",
           "DE409",
           "DE40A",
           "DE40B",
           "DE40C",
           "DE40D",
           "DE40E",
           "DE40F",
           "DE40G",
           "DE40H",
           "DE40I",
           "DE5",
           "DE50",
           "DE501",
           "DE502",
           "DE6",
           "DE60",
           "DE600",
           "DE7",
           "DE71",
           "DE711",
           "DE712",
           "DE713",
           "DE714",
           "DE715",
           "DE716",
           "DE717",
           "DE718",
           "DE719",
           "DE71A",
           "DE71B",
           "DE71C",
           "DE71D",
           "DE71E",
           "DE72",
           "DE721",
           "DE722",
           "DE723",
           "DE724",
           "DE725",
           "DE73",
           "DE731",
           "DE732",
           "DE733",
           "DE734",
           "DE735",
           "DE736",
           "DE737",
           "DE8",
           "DE80",
           "DE803",
           "DE804",
           "DE80J",
           "DE80K",
           "DE80L",
           "DE80M",
           "DE80N",
           "DE80O",
           "DE9",
           "DE91",
           "DE911",
           "DE912",
           "DE913",
           "DE914",
           "DE916",
           "DE917",
           "DE918",
           "DE91A",
           "DE91B",
           "DE91C",
           "DE92",
           "DE922",
           "DE923",
           "DE925",
           "DE926",
           "DE927",
           "DE928",
           "DE929",
           "DE93",
           "DE931",
           "DE932",
           "DE933",
           "DE934",
           "DE935",
           "DE936",
           "DE937",
           "DE938",
           "DE939",
           "DE93A",
           "DE93B",
           "DE94",
           "DE941",
           "DE942",
           "DE943",
           "DE944",
           "DE945",
           "DE946",
           "DE947",
           "DE948",
           "DE949",
           "DE94A",
           "DE94B",
           "DE94C",
           "DE94D",
           "DE94E",
           "DE94F",
           "DE94G",
           "DE94H",
           "DEA",
           "DEA1",
           "DEA11",
           "DEA12",
           "DEA13",
           "DEA14",
           "DEA15",
           "DEA16",
           "DEA17",
           "DEA18",
           "DEA19",
           "DEA1A",
           "DEA1B",
           "DEA1C",
           "DEA1D",
           "DEA1E",
           "DEA1F",
           "DEA2",
           "DEA22",
           "DEA23",
           "DEA24",
           "DEA26",
           "DEA27",
           "DEA28",
           "DEA29",
           "DEA2A",
           "DEA2B",
           "DEA2C",
           "DEA2D",
           "DEA3",
           "DEA31",
           "DEA32",
           "DEA33",
           "DEA34",
           "DEA35",
           "DEA36",
           "DEA37",
           "DEA38",
           "DEA4",
           "DEA41",
           "DEA42",
           "DEA43",
           "DEA44",
           "DEA45",
           "DEA46",
           "DEA47",
           "DEA5",
           "DEA51",
           "DEA52",
           "DEA53",
           "DEA54",
           "DEA55",
           "DEA56",
           "DEA57",
           "DEA58",
           "DEA59",
           "DEA5A",
           "DEA5B",
           "DEA5C",
           "DEB",
           "DEB1",
           "DEB11",
           "DEB12",
           "DEB13",
           "DEB14",
           "DEB15",
           "DEB17",
           "DEB18",
           "DEB1A",
           "DEB1B",
           "DEB1C",
           "DEB1D",
           "DEB2",
           "DEB21",
           "DEB22",
           "DEB23",
           "DEB24",
           "DEB25",
           "DEB3",
           "DEB31",
           "DEB32",
           "DEB33",
           "DEB34",
           "DEB35",
           "DEB36",
           "DEB37",
           "DEB38",
           "DEB39",
           "DEB3A",
           "DEB3B",
           "DEB3C",
           "DEB3D",
           "DEB3E",
           "DEB3F",
           "DEB3G",
           "DEB3H",
           "DEB3I",
           "DEB3J",
           "DEB3K",
           "DEC",
           "DEC0",
           "DEC01",
           "DEC02",
           "DEC03",
           "DEC04",
           "DEC05",
           "DEC06",
           "DED",
           "DED2",
           "DED21",
           "DED2C",
           "DED2D",
           "DED2E",
           "DED2F",
           "DED4",
           "DED41",
           "DED42",
           "DED43",
           "DED44",
           "DED45",
           "DED5",
           "DED51",
           "DED52",
           "DED53",
           "DEE",
           "DEE0",
           "DEE01",
           "DEE02",
           "DEE03",
           "DEE04",
           "DEE05",
           "DEE06",
           "DEE07",
           "DEE08",
           "DEE09",
           "DEE0A",
           "DEE0B",
           "DEE0C",
           "DEE0D",
           "DEE0E",
           "DEF",
           "DEF0",
           "DEF01",
           "DEF02",
           "DEF03",
           "DEF04",
           "DEF05",
           "DEF06",
           "DEF07",
           "DEF08",
           "DEF09",
           "DEF0A",
           "DEF0B",
           "DEF0C",
           "DEF0D",
           "DEF0E",
           "DEF0F",
           "DEG",
           "DEG0",
           "DEG01",
           "DEG02",
           "DEG03",
           "DEG04",
           "DEG05",
           "DEG06",
           "DEG07",
           "DEG09",
           "DEG0A",
           "DEG0B",
           "DEG0C",
           "DEG0D",
           "DEG0E",
           "DEG0F",
           "DEG0G",
           "DEG0H",
           "DEG0I",
           "DEG0J",
           "DEG0K",
           "DEG0L",
           "DEG0M",
           "DEG0N",
           "DEG0P",
           "DK",
           "DK0",
           "DK01",
           "DK011",
           "DK012",
           "DK013",
           "DK014",
           "DK02",
           "DK021",
           "DK022",
           "DK03",
           "DK031",
           "DK032",
           "DK04",
           "DK041",
           "DK042",
           "DK05",
           "DK050",
           "EE",
           "EE0",
           "EE00",
           "EE001",
           "EE004",
           "EE006",
           "EE007",
           "EE008",
           "EL",
           "EL3",
           "EL30",
           "EL301",
           "EL302",
           "EL303",
           "EL304",
           "EL305",
           "EL306",
           "EL307",
           "EL4",
           "EL41",
           "EL411",
           "EL412",
           "EL413",
           "EL42",
           "EL421",
           "EL422",
           "EL43",
           "EL431",
           "EL432",
           "EL433",
           "EL434",
           "EL5",
           "EL51",
           "EL511",
           "EL512",
           "EL513",
           "EL514",
           "EL515",
           "EL52",
           "EL521",
           "EL522",
           "EL523",
           "EL524",
           "EL525",
           "EL526",
           "EL527",
           "EL53",
           "EL531",
           "EL532",
           "EL533",
           "EL54",
           "EL541",
           "EL542",
           "EL543",
           "EL6",
           "EL61",
           "EL611",
           "EL612",
           "EL613",
           "EL62",
           "EL621",
           "EL622",
           "EL623",
           "EL624",
           "EL63",
           "EL631",
           "EL632",
           "EL633",
           "EL64",
           "EL641",
           "EL642",
           "EL643",
           "EL644",
           "EL645",
           "EL65",
           "EL651",
           "EL652",
           "EL653",
           "ES",
           "ES1",
           "ES11",
           "ES111",
           "ES112",
           "ES113",
           "ES114",
           "ES12",
           "ES120",
           "ES13",
           "ES130",
           "ES2",
           "ES21",
           "ES211",
           "ES212",
           "ES213",
           "ES22",
           "ES220",
           "ES23",
           "ES230",
           "ES24",
           "ES241",
           "ES242",
           "ES243",
           "ES3",
           "ES30",
           "ES300",
           "ES4",
           "ES41",
           "ES411",
           "ES412",
           "ES413",
           "ES414",
           "ES415",
           "ES416",
           "ES417",
           "ES418",
           "ES419",
           "ES42",
           "ES421",
           "ES422",
           "ES423",
           "ES424",
           "ES425",
           "ES43",
           "ES431",
           "ES432",
           "ES5",
           "ES51",
           "ES511",
           "ES512",
           "ES513",
           "ES514",
           "ES52",
           "ES521",
           "ES522",
           "ES523",
           "ES53",
           "ES531",
           "ES532",
           "ES533",
           "ES6",
           "ES61",
           "ES611",
           "ES612",
           "ES613",
           "ES614",
           "ES615",
           "ES616",
           "ES617",
           "ES618",
           "ES62",
           "ES620",
           "ES63",
           "ES630",
           "ES64",
           "ES640",
           "ES7",
           "ES70",
           "ES703",
           "ES704",
           "ES705",
           "ES706",
           "ES707",
           "ES708",
           "ES709",
           "FI",
           "FI1",
           "FI19",
           "FI193",
           "FI194",
           "FI195",
           "FI196",
           "FI197",
           "FI1B",
           "FI1B1",
           "FI1C",
           "FI1C1",
           "FI1C2",
           "FI1C3",
           "FI1C4",
           "FI1C5",
           "FI1D",
           "FI1D1",
           "FI1D2",
           "FI1D3",
           "FI1D5",
           "FI1D7",
           "FI1D8",
           "FI1D9",
           "FI2",
           "FI20",
           "FI200",
           "FR",
           "FR1",
           "FR10",
           "FR101",
           "FR102",
           "FR103",
           "FR104",
           "FR105",
           "FR106",
           "FR107",
           "FR108",
           "FRB",
           "FRB0",
           "FRB01",
           "FRB02",
           "FRB03",
           "FRB04",
           "FRB05",
           "FRB06",
           "FRC",
           "FRC1",
           "FRC11",
           "FRC12",
           "FRC13",
           "FRC14",
           "FRC2",
           "FRC21",
           "FRC22",
           "FRC23",
           "FRC24",
           "FRD",
           "FRD1",
           "FRD11",
           "FRD12",
           "FRD13",
           "FRD2",
           "FRD21",
           "FRD22",
           "FRE",
           "FRE1",
           "FRE11",
           "FRE12",
           "FRE2",
           "FRE21",
           "FRE22",
           "FRE23",
           "FRF",
           "FRF1",
           "FRF11",
           "FRF12",
           "FRF2",
           "FRF21",
           "FRF22",
           "FRF23",
           "FRF24",
           "FRF3",
           "FRF31",
           "FRF32",
           "FRF33",
           "FRF34",
           "FRG",
           "FRG0",
           "FRG01",
           "FRG02",
           "FRG03",
           "FRG04",
           "FRG05",
           "FRH",
           "FRH0",
           "FRH01",
           "FRH02",
           "FRH03",
           "FRH04",
           "FRI",
           "FRI1",
           "FRI11",
           "FRI12",
           "FRI13",
           "FRI14",
           "FRI15",
           "FRI2",
           "FRI21",
           "FRI22",
           "FRI23",
           "FRI3",
           "FRI31",
           "FRI32",
           "FRI33",
           "FRI34",
           "FRJ",
           "FRJ1",
           "FRJ11",
           "FRJ12",
           "FRJ13",
           "FRJ14",
           "FRJ15",
           "FRJ2",
           "FRJ21",
           "FRJ22",
           "FRJ23",
           "FRJ24",
           "FRJ25",
           "FRJ26",
           "FRJ27",
           "FRJ28",
           "FRK",
           "FRK1",
           "FRK11",
           "FRK12",
           "FRK13",
           "FRK14",
           "FRK2",
           "FRK21",
           "FRK22",
           "FRK23",
           "FRK24",
           "FRK25",
           "FRK26",
           "FRK27",
           "FRK28",
           "FRL",
           "FRL0",
           "FRL01",
           "FRL02",
           "FRL03",
           "FRL04",
           "FRL05",
           "FRL06",
           "FRM",
           "FRM0",
           "FRM01",
           "FRM02",
           "FRY",
           "FRY1",
           "FRY10",
           "FRY2",
           "FRY20",
           "FRY3",
           "FRY30",
           "FRY4",
           "FRY40",
           "FRY5",
           "FRY50",
           "HR",
           "HR0",
           "HR02",
           "HR021",
           "HR022",
           "HR023",
           "HR024",
           "HR025",
           "HR026",
           "HR027",
           "HR028",
           "HR03",
           "HR031",
           "HR032",
           "HR033",
           "HR034",
           "HR035",
           "HR036",
           "HR037",
           "HR04",
           "HR041",
           "HR042",
           "HR043",
           "HR044",
           "HR045",
           "HR046",
           "HR047",
           "HR048",
           "HR049",
           "HR04A",
           "HR04B",
           "HR04C",
           "HR04D",
           "HR04E",
           "HR05",
           "HR050",
           "HR06",
           "HR061",
           "HR062",
           "HR063",
           "HR064",
           "HR065",
           "HU",
           "HU1",
           "HU11",
           "HU110",
           "HU12",
           "HU120",
           "HU2",
           "HU21",
           "HU211",
           "HU212",
           "HU213",
           "HU22",
           "HU221",
           "HU222",
           "HU223",
           "HU23",
           "HU231",
           "HU232",
           "HU233",
           "HU3",
           "HU31",
           "HU311",
           "HU312",
           "HU313",
           "HU32",
           "HU321",
           "HU322",
           "HU323",
           "HU33",
           "HU331",
           "HU332",
           "HU333",
           "IE",
           "IE0",
           "IE04",
           "IE041",
           "IE042",
           "IE05",
           "IE051",
           "IE052",
           "IE053",
           "IE06",
           "IE061",
           "IE062",
           "IE063",
           "IS",
           "IS0",
           "IS00",
           "IS001",
           "IS002",
           "IT",
           "ITC",
           "ITC1",
           "ITC11",
           "ITC12",
           "ITC13",
           "ITC14",
           "ITC15",
           "ITC16",
           "ITC17",
           "ITC18",
           "ITC2",
           "ITC20",
           "ITC3",
           "ITC31",
           "ITC32",
           "ITC33",
           "ITC34",
           "ITC4",
           "ITC41",
           "ITC42",
           "ITC43",
           "ITC44",
           "ITC46",
           "ITC47",
           "ITC48",
           "ITC49",
           "ITC4A",
           "ITC4B",
           "ITC4C",
           "ITC4D",
           "ITF",
           "ITF1",
           "ITF11",
           "ITF12",
           "ITF13",
           "ITF14",
           "ITF2",
           "ITF21",
           "ITF22",
           "ITF3",
           "ITF31",
           "ITF32",
           "ITF33",
           "ITF34",
           "ITF35",
           "ITF4",
           "ITF43",
           "ITF44",
           "ITF45",
           "ITF46",
           "ITF47",
           "ITF48",
           "ITF5",
           "ITF51",
           "ITF52",
           "ITF6",
           "ITF61",
           "ITF62",
           "ITF63",
           "ITF64",
           "ITF65",
           "ITG",
           "ITG1",
           "ITG11",
           "ITG12",
           "ITG13",
           "ITG14",
           "ITG15",
           "ITG16",
           "ITG17",
           "ITG18",
           "ITG19",
           "ITG2",
           "ITG25",
           "ITG26",
           "ITG27",
           "ITG28",
           "ITG29",
           "ITG2A",
           "ITG2B",
           "ITG2C",
           "ITH",
           "ITH1",
           "ITH10",
           "ITH2",
           "ITH20",
           "ITH3",
           "ITH31",
           "ITH32",
           "ITH33",
           "ITH34",
           "ITH35",
           "ITH36",
           "ITH37",
           "ITH4",
           "ITH41",
           "ITH42",
           "ITH43",
           "ITH44",
           "ITH5",
           "ITH51",
           "ITH52",
           "ITH53",
           "ITH54",
           "ITH55",
           "ITH56",
           "ITH57",
           "ITH58",
           "ITH59",
           "ITI",
           "ITI1",
           "ITI11",
           "ITI12",
           "ITI13",
           "ITI14",
           "ITI15",
           "ITI16",
           "ITI17",
           "ITI18",
           "ITI19",
           "ITI1A",
           "ITI2",
           "ITI21",
           "ITI22",
           "ITI3",
           "ITI31",
           "ITI32",
           "ITI33",
           "ITI34",
           "ITI35",
           "ITI4",
           "ITI41",
           "ITI42",
           "ITI43",
           "ITI44",
           "ITI45",
           "LI",
           "LI0",
           "LI00",
           "LI000",
           "LT",
           "LT0",
           "LT01",
           "LT011",
           "LT02",
           "LT021",
           "LT022",
           "LT023",
           "LT024",
           "LT025",
           "LT026",
           "LT027",
           "LT028",
           "LT029",
           "LU",
           "LU0",
           "LU00",
           "LU000",
           "LV",
           "LV0",
           "LV00",
           "LV003",
           "LV005",
           "LV006",
           "LV007",
           "LV008",
           "LV009",
           "ME",
           "ME0",
           "ME00",
           "ME000",
           "MK",
           "MK0",
           "MK00",
           "MK001",
           "MK002",
           "MK003",
           "MK004",
           "MK005",
           "MK006",
           "MK007",
           "MK008",
           "MT",
           "MT0",
           "MT00",
           "MT001",
           "MT002",
           "NL",
           "NL1",
           "NL11",
           "NL111",
           "NL112",
           "NL113",
           "NL12",
           "NL124",
           "NL125",
           "NL126",
           "NL13",
           "NL131",
           "NL132",
           "NL133",
           "NL2",
           "NL21",
           "NL211",
           "NL212",
           "NL213",
           "NL22",
           "NL221",
           "NL224",
           "NL225",
           "NL226",
           "NL23",
           "NL230",
           "NL3",
           "NL31",
           "NL310",
           "NL32",
           "NL321",
           "NL323",
           "NL324",
           "NL325",
           "NL327",
           "NL328",
           "NL329",
           "NL33",
           "NL332",
           "NL333",
           "NL337",
           "NL33A",
           "NL33B",
           "NL33C",
           "NL34",
           "NL341",
           "NL342",
           "NL4",
           "NL41",
           "NL411",
           "NL412",
           "NL413",
           "NL414",
           "NL42",
           "NL421",
           "NL422",
           "NL423",
           "NO",
           "NO0",
           "NO01",
           "NO011",
           "NO012",
           "NO02",
           "NO021",
           "NO022",
           "NO03",
           "NO031",
           "NO032",
           "NO033",
           "NO034",
           "NO04",
           "NO041",
           "NO042",
           "NO043",
           "NO05",
           "NO051",
           "NO052",
           "NO053",
           "NO06",
           "NO060",
           "NO061",
           "NO062",
           "NO07",
           "NO071",
           "NO072",
           "NO073",
           "PL",
           "PL2",
           "PL21",
           "PL213",
           "PL214",
           "PL217",
           "PL218",
           "PL219",
           "PL21A",
           "PL22",
           "PL224",
           "PL225",
           "PL227",
           "PL228",
           "PL229",
           "PL22A",
           "PL22B",
           "PL22C",
           "PL4",
           "PL41",
           "PL411",
           "PL414",
           "PL415",
           "PL416",
           "PL417",
           "PL418",
           "PL42",
           "PL424",
           "PL426",
           "PL427",
           "PL428",
           "PL43",
           "PL431",
           "PL432",
           "PL5",
           "PL51",
           "PL514",
           "PL515",
           "PL516",
           "PL517",
           "PL518",
           "PL52",
           "PL523",
           "PL524",
           "PL6",
           "PL61",
           "PL613",
           "PL616",
           "PL617",
           "PL618",
           "PL619",
           "PL62",
           "PL621",
           "PL622",
           "PL623",
           "PL63",
           "PL633",
           "PL634",
           "PL636",
           "PL637",
           "PL638",
           "PL7",
           "PL71",
           "PL711",
           "PL712",
           "PL713",
           "PL714",
           "PL715",
           "PL72",
           "PL721",
           "PL722",
           "PL8",
           "PL81",
           "PL811",
           "PL812",
           "PL814",
           "PL815",
           "PL82",
           "PL821",
           "PL822",
           "PL823",
           "PL824",
           "PL84",
           "PL841",
           "PL842",
           "PL843",
           "PL9",
           "PL91",
           "PL911",
           "PL912",
           "PL913",
           "PL92",
           "PL921",
           "PL922",
           "PL923",
           "PL924",
           "PL925",
           "PL926",
           "PT",
           "PT1",
           "PT11",
           "PT111",
           "PT112",
           "PT119",
           "PT11A",
           "PT11B",
           "PT11C",
           "PT11D",
           "PT11E",
           "PT15",
           "PT150",
           "PT16",
           "PT16B",
           "PT16D",
           "PT16E",
           "PT16F",
           "PT16G",
           "PT16H",
           "PT16I",
           "PT16J",
           "PT17",
           "PT170",
           "PT18",
           "PT181",
           "PT184",
           "PT185",
           "PT186",
           "PT187",
           "PT2",
           "PT20",
           "PT200",
           "PT3",
           "PT30",
           "PT300",
           "RO",
           "RO1",
           "RO11",
           "RO111",
           "RO112",
           "RO113",
           "RO114",
           "RO115",
           "RO116",
           "RO12",
           "RO121",
           "RO122",
           "RO123",
           "RO124",
           "RO125",
           "RO126",
           "RO2",
           "RO21",
           "RO211",
           "RO212",
           "RO213",
           "RO214",
           "RO215",
           "RO216",
           "RO22",
           "RO221",
           "RO222",
           "RO223",
           "RO224",
           "RO225",
           "RO226",
           "RO3",
           "RO31",
           "RO311",
           "RO312",
           "RO313",
           "RO314",
           "RO315",
           "RO316",
           "RO317",
           "RO32",
           "RO321",
           "RO322",
           "RO4",
           "RO41",
           "RO411",
           "RO412",
           "RO413",
           "RO414",
           "RO415",
           "RO42",
           "RO421",
           "RO422",
           "RO423",
           "RO424",
           "RS",
           "RS1",
           "RS11",
           "RS110",
           "RS12",
           "RS121",
           "RS122",
           "RS123",
           "RS124",
           "RS125",
           "RS126",
           "RS127",
           "RS2",
           "RS21",
           "RS211",
           "RS212",
           "RS213",
           "RS214",
           "RS215",
           "RS216",
           "RS217",
           "RS218",
           "RS22",
           "RS221",
           "RS222",
           "RS223",
           "RS224",
           "RS225",
           "RS226",
           "RS227",
           "RS228",
           "RS229",
           "SE",
           "SE1",
           "SE11",
           "SE110",
           "SE12",
           "SE121",
           "SE122",
           "SE123",
           "SE124",
           "SE125",
           "SE2",
           "SE21",
           "SE211",
           "SE212",
           "SE213",
           "SE214",
           "SE22",
           "SE221",
           "SE224",
           "SE23",
           "SE231",
           "SE232",
           "SE3",
           "SE31",
           "SE311",
           "SE312",
           "SE313",
           "SE32",
           "SE321",
           "SE322",
           "SE33",
           "SE331",
           "SE332",
           "SI",
           "SI0",
           "SI03",
           "SI031",
           "SI032",
           "SI033",
           "SI034",
           "SI035",
           "SI036",
           "SI037",
           "SI038",
           "SI04",
           "SI041",
           "SI042",
           "SI043",
           "SI044",
           "SK",
           "SK0",
           "SK01",
           "SK010",
           "SK02",
           "SK021",
           "SK022",
           "SK023",
           "SK03",
           "SK031",
           "SK032",
           "SK04",
           "SK041",
           "SK042",
           "TR",
           "TR1",
           "TR10",
           "TR100",
           "TR2",
           "TR21",
           "TR211",
           "TR212",
           "TR213",
           "TR22",
           "TR221",
           "TR222",
           "TR3",
           "TR31",
           "TR310",
           "TR32",
           "TR321",
           "TR322",
           "TR323",
           "TR33",
           "TR331",
           "TR332",
           "TR333",
           "TR334",
           "TR4",
           "TR41",
           "TR411",
           "TR412",
           "TR413",
           "TR42",
           "TR421",
           "TR422",
           "TR423",
           "TR424",
           "TR425",
           "TR5",
           "TR51",
           "TR510",
           "TR52",
           "TR521",
           "TR522",
           "TR6",
           "TR61",
           "TR611",
           "TR612",
           "TR613",
           "TR62",
           "TR621",
           "TR622",
           "TR63",
           "TR631",
           "TR632",
           "TR633",
           "TR7",
           "TR71",
           "TR711",
           "TR712",
           "TR713",
           "TR714",
           "TR715",
           "TR72",
           "TR721",
           "TR722",
           "TR723",
           "TR8",
           "TR81",
           "TR811",
           "TR812",
           "TR813",
           "TR82",
           "TR821",
           "TR822",
           "TR823",
           "TR83",
           "TR831",
           "TR832",
           "TR833",
           "TR834",
           "TR9",
           "TR90",
           "TR901",
           "TR902",
           "TR903",
           "TR904",
           "TR905",
           "TR906",
           "TRA",
           "TRA1",
           "TRA11",
           "TRA12",
           "TRA13",
           "TRA2",
           "TRA21",
           "TRA22",
           "TRA23",
           "TRA24",
           "TRB",
           "TRB1",
           "TRB11",
           "TRB12",
           "TRB13",
           "TRB14",
           "TRB2",
           "TRB21",
           "TRB22",
           "TRB23",
           "TRB24",
           "TRC",
           "TRC1",
           "TRC11",
           "TRC12",
           "TRC13",
           "TRC2",
           "TRC21",
           "TRC22",
           "TRC3",
           "TRC31",
           "TRC32",
           "TRC33",
           "TRC34",
           "UK",
           "UKC",
           "UKC1",
           "UKC11",
           "UKC12",
           "UKC13",
           "UKC14",
           "UKC2",
           "UKC21",
           "UKC22",
           "UKC23",
           "UKD",
           "UKD1",
           "UKD11",
           "UKD12",
           "UKD3",
           "UKD33",
           "UKD34",
           "UKD35",
           "UKD36",
           "UKD37",
           "UKD4",
           "UKD41",
           "UKD42",
           "UKD44",
           "UKD45",
           "UKD46",
           "UKD47",
           "UKD6",
           "UKD61",
           "UKD62",
           "UKD63",
           "UKD7",
           "UKD71",
           "UKD72",
           "UKD73",
           "UKD74",
           "UKE",
           "UKE1",
           "UKE11",
           "UKE12",
           "UKE13",
           "UKE2",
           "UKE21",
           "UKE22",
           "UKE3",
           "UKE31",
           "UKE32",
           "UKE4",
           "UKE41",
           "UKE42",
           "UKE44",
           "UKE45",
           "UKF",
           "UKF1",
           "UKF11",
           "UKF12",
           "UKF13",
           "UKF14",
           "UKF15",
           "UKF16",
           "UKF2",
           "UKF21",
           "UKF22",
           "UKF24",
           "UKF25",
           "UKF3",
           "UKF30",
           "UKG",
           "UKG1",
           "UKG11",
           "UKG12",
           "UKG13",
           "UKG2",
           "UKG21",
           "UKG22",
           "UKG23",
           "UKG24",
           "UKG3",
           "UKG31",
           "UKG32",
           "UKG33",
           "UKG36",
           "UKG37",
           "UKG38",
           "UKG39",
           "UKH",
           "UKH1",
           "UKH11",
           "UKH12",
           "UKH14",
           "UKH15",
           "UKH16",
           "UKH17",
           "UKH2",
           "UKH21",
           "UKH23",
           "UKH24",
           "UKH25",
           "UKH3",
           "UKH31",
           "UKH32",
           "UKH34",
           "UKH35",
           "UKH36",
           "UKH37",
           "UKI",
           "UKI3",
           "UKI31",
           "UKI32",
           "UKI33",
           "UKI34",
           "UKI4",
           "UKI41",
           "UKI42",
           "UKI43",
           "UKI44",
           "UKI45",
           "UKI5",
           "UKI51",
           "UKI52",
           "UKI53",
           "UKI54",
           "UKI6",
           "UKI61",
           "UKI62",
           "UKI63",
           "UKI7",
           "UKI71",
           "UKI72",
           "UKI73",
           "UKI74",
           "UKI75",
           "UKJ",
           "UKJ1",
           "UKJ11",
           "UKJ12",
           "UKJ13",
           "UKJ14",
           "UKJ2",
           "UKJ21",
           "UKJ22",
           "UKJ25",
           "UKJ26",
           "UKJ27",
           "UKJ28",
           "UKJ3",
           "UKJ31",
           "UKJ32",
           "UKJ34",
           "UKJ35",
           "UKJ36",
           "UKJ37",
           "UKJ4",
           "UKJ41",
           "UKJ43",
           "UKJ44",
           "UKJ45",
           "UKJ46",
           "UKK",
           "UKK1",
           "UKK11",
           "UKK12",
           "UKK13",
           "UKK14",
           "UKK15",
           "UKK2",
           "UKK21",
           "UKK22",
           "UKK23",
           "UKK3",
           "UKK30",
           "UKK4",
           "UKK41",
           "UKK42",
           "UKK43",
           "UKL",
           "UKL1",
           "UKL11",
           "UKL12",
           "UKL13",
           "UKL14",
           "UKL15",
           "UKL16",
           "UKL17",
           "UKL18",
           "UKL2",
           "UKL21",
           "UKL22",
           "UKL23",
           "UKL24",
           "UKM",
           "UKM5",
           "UKM50",
           "UKM6",
           "UKM61",
           "UKM62",
           "UKM63",
           "UKM64",
           "UKM65",
           "UKM66",
           "UKM7",
           "UKM71",
           "UKM72",
           "UKM73",
           "UKM75",
           "UKM76",
           "UKM77",
           "UKM78",
           "UKM8",
           "UKM81",
           "UKM82",
           "UKM83",
           "UKM84",
           "UKM9",
           "UKM91",
           "UKM92",
           "UKM93",
           "UKM94",
           "UKM95",
           "UKN",
           "UKN0",
           "UKN06",
           "UKN07",
           "UKN08",
           "UKN09",
           "UKN10",
           "UKN11",
           "UKN12",
           "UKN13",
           "UKN14",
           "UKN15",
           "UKN16"
          ],
          "indic_de": [
           "CNMIGRAT",
           "CNMIGRATRT",
           "DEATH",
           "GBIRTHRT",
           "GDEATHRT",
           "GROW",
           "GROWRT",
           "JAN",
           "LBIRTH",
           "NATGROW",
           "NATGROWRT"
          ]
         },
         "title": "Eurostat - Population change - Demographic balance and crude rates at regional level (NUTS 3) ",
         "type": "Collection"
        },
        {
         "assets": {
          "thumbnail": {
           "href": "https://datastore.copernicus-climate.eu/c3s/published-forms-v2/c3sprod/cems-glofas-seasonal-reforecast/overview.png",
           "roles": [
            "thumbnail"
           ],
           "title": "overview",
           "type": "image/png"
          }
         },
         "dedl:short_description": "This dataset provides a gridded modelled time series of river discharge forced with seasonal range meteorological reforecasts.",
         "description": "This dataset provides a gridded modelled time series of river discharge forced with seasonal range meteorological reforecasts. The data is a consistent representation of a key hydrological variable across the global domain, and is a product of the Global Flood Awareness System (GloFAS). It is accompanied by an ancillary file for interpretation that provides the upstream area (see the related variables table and associated link in the documentation).\nThis dataset was produced by forcing a hydrological modelling chain with input from the European Centre for Medium-range Weather Forecasts (ECMWF) ensemble seasonal forecasting system, SEAS5. For the period of 1981 to 2016 the number of ensemble members is 25, whilst reforecasts produced for 2017 onwards use a 51-member ensemble. Reforecasts are forecasts run over past dates, with those presented here used for producing the seasonal river discharge thresholds. In addition, they provide a suitably long time period against which the skill of the seasonal forecast can be assessed. The reforecasts are initialised monthly and run for 123 days, with a 24-hourly time step. For more specific information on the how the seasonal reforecast dataset is produced we refer to the documentation.\nCompanion datasets, also available through the Climate Data Store (CDS), include the seasonal forecasts, for which the dataset provided here can be useful for local skill assessment and post-processing. For users looking for shorter term forecasts there are also medium-range forecasts and reforecasts available, as well as historical simulations that can be used to derive the hydrological climatology. For users looking specifically for European hydrological data, we refer to the European Flood Awareness System (EFAS) forecasts and historical simulations. All these datasets are part of the operational flood forecasting within the Copernicus Emergency Management Service (CEMS).\n\nVariables in the dataset/application are:\nRiver discharge in the last 24 hours\n\nVariables in the dataset/application are:\nUpstream area",
         "extent": {
          "spatial": {
           "bbox": [
            [
             -180,
             -90,
             180,
             90
            ]
           ]
          },
          "temporal": {
           "interval": [
            [
             "1981-01-01T00:00:00Z",
             null
            ]
           ]
          }
         },
         "id": "EO.ECMWF.DAT.CEMS_GLOFAS_SEASONAL_REFORECAST",
         "keywords": [
          "Reforecast",
          "Product type: Seasonal reforecasts",
          "Spatial coverage: Global",
          "Variable domain: Land (hydrology)",
          "Temporal coverage: Past",
          "Provider: Copernicus CEMS"
         ],
         "license": "proprietary",
         "links": [
          {
           "href": "https://hda.central.data.destination-earth.eu/stac/collections/EO.ECMWF.DAT.CEMS_GLOFAS_SEASONAL_REFORECAST/items",
           "rel": "items",
           "type": "application/geo+json"
          },
          {
           "href": "https://hda.central.data.destination-earth.eu/stac/",
           "rel": "parent",
           "type": "application/json"
          },
          {
           "href": "https://hda.central.data.destination-earth.eu/stac/",
           "rel": "root",
           "type": "application/json"
          },
          {
           "href": "https://hda.central.data.destination-earth.eu/stac/collections/EO.ECMWF.DAT.CEMS_GLOFAS_SEASONAL_REFORECAST",
           "rel": "self",
           "type": "application/json"
          },
          {
           "href": "https://eo-apis.csgroup.space/dataset/EO.ECMWF.DAT.CEMS_GLOFAS_SEASONAL_REFORECAST",
           "rel": "describedby",
           "title": "Human readable dataset overview and reference",
           "type": "text/html"
          }
         ],
         "providers": [
          {
           "description": "European Centre for Medium-Range Weather Forecasts (ECMWF)",
           "name": "European Centre for Medium-Range Weather Forecasts (ECMWF)",
           "roles": [
            "licensor",
            "producer",
            "processor"
           ],
           "url": "https://www.ecmwf.int/"
          },
          {
           "name": "Copernicus Climate Data Store",
           "roles": [
            "host"
           ],
           "url": "https://cds.climate.copernicus.eu"
          }
         ],
         "stac_version": "1.0.0",
         "title": "Seasonal reforecasts of river discharge and related data from the Global Flood Awareness System",
         "type": "Collection"
        },
        {
         "assets": {
          "thumbnail": {
           "href": "https://datastore.copernicus-climate.eu/c3s/published-forms-v2/c3sprod/insitu-glaciers-extent/overview.png",
           "roles": [
            "thumbnail"
           ],
           "title": "overview",
           "type": "image/png"
          }
         },
         "dedl:short_description": "A glacier is defined as a perennial mass of ice, and possibly firn and snow, originating on the land surface from the recrystallization of snow or other forms of solid precipitation and showing evidence of past or present flow.",
         "description": "A glacier is defined as a perennial mass of ice, and possibly firn and snow, originating on the land surface from the recrystallization of snow or other forms of solid precipitation and showing evidence of past or present flow. There are several types of glaciers such as glacierets, mountain glaciers, valley glaciers and ice fields, as well as ice caps. Some glacier tongues reach into lakes or the sea, and can develop floating ice tongues or ice shelves. Glacier changes are recognized as independent and high-confidence natural indicators of climate change. Past, current and future glacier changes affect global sea level, the regional water cycle and local hazards.\nThis dataset is a snapshot of global glacier outlines compiled from\nmaps, aerial photographs and satellite images mostly acquired in the period 2000-2010.",
         "extent": {
          "spatial": {
           "bbox": [
            [
             -180,
             -90,
             180,
             90
            ]
           ]
          },
          "temporal": {
           "interval": [
            [
             "2000-01-01T00:00:00Z",
             "2000-12-31T23:59:00Z"
            ]
           ]
          }
         },
         "id": "EO.ECMWF.DAT.GLACIERS_DISTRIBUTION_DATA_FROM_RANDOLPH_GLACIER_INVENTORY_2000",
         "keywords": [
          "Product type: Satellite observations",
          "Spatial coverage: Global",
          "Temporal coverage: Past",
          "Variable domain: Land (cryosphere)",
          "Provider: Copernicus C3S",
          "Land cover"
         ],
         "license": "proprietary",
         "links": [
          {
           "href": "https://hda.central.data.destination-earth.eu/stac/collections/EO.ECMWF.DAT.GLACIERS_DISTRIBUTION_DATA_FROM_RANDOLPH_GLACIER_INVENTORY_2000/items",
           "rel": "items",
           "type": "application/geo+json"
          },
          {
           "href": "https://hda.central.data.destination-earth.eu/stac/",
           "rel": "parent",
           "type": "application/json"
          },
          {
           "href": "https://hda.central.data.destination-earth.eu/stac/",
           "rel": "root",
           "type": "application/json"
          },
          {
           "href": "https://hda.central.data.destination-earth.eu/stac/collections/EO.ECMWF.DAT.GLACIERS_DISTRIBUTION_DATA_FROM_RANDOLPH_GLACIER_INVENTORY_2000",
           "rel": "self",
           "type": "application/json"
          },
          {
           "href": "https://eo-apis.csgroup.space/dataset/EO.ECMWF.DAT.GLACIERS_DISTRIBUTION_DATA_FROM_RANDOLPH_GLACIER_INVENTORY_2000",
           "rel": "describedby",
           "title": "Human readable dataset overview and reference",
           "type": "text/html"
          }
         ],
         "providers": [
          {
           "description": "European Centre for Medium-Range Weather Forecasts (ECMWF)",
           "name": "European Centre for Medium-Range Weather Forecasts (ECMWF)",
           "roles": [
            "licensor",
            "producer",
            "processor"
           ],
           "url": "https://www.ecmwf.int/"
          },
          {
           "name": "Copernicus Climate Data Store",
           "roles": [
            "host"
           ],
           "url": "https://cds.climate.copernicus.eu"
          }
         ],
         "stac_version": "1.0.0",
         "title": "Glaciers distribution data from the Randolph Glacier Inventory for year 2000",
         "type": "Collection"
        },
        {
         "assets": {
          "thumbnail": {
           "href": "https://datastore.copernicus-climate.eu/cams/published-forms-v2/camsprod/cams-europe-air-quality-forecasts/overview.png",
           "roles": [
            "thumbnail"
           ],
           "title": "overview",
           "type": "image/png"
          }
         },
         "dedl:short_description": "This dataset provides daily air quality analyses and forecasts for Europe.",
         "description": "This dataset provides daily air quality analyses and forecasts for Europe.\nCAMS produces specific daily air quality analyses and forecasts for the European domain at significantly higher spatial resolution (0.1 degrees, approx. 10km) than is available from the global analyses and forecasts. The production is based on an ensemble of eleven air quality forecasting systems across Europe. A median ensemble is calculated from individual outputs, since ensemble products yield on average better performance than the individual model products. The spread between the eleven models are used to provide an estimate of the forecast uncertainty. The analysis combines model data with observations provided by the European Environment Agency (EEA) into a complete and consistent dataset using various data assimilation techniques depending upon the air-quality forecasting system used. In parallel, air quality forecasts are produced once a day for the next four days. Both the analysis and the forecast are available at hourly time steps at seven height levels.\nNote that only nitrogen monoxide, nitrogen dioxide, sulphur dioxide, ozone, PM2.5, PM10 and dust are regularly validated against in situ observations, and therefore forecasts of all other variables are unvalidated and should be considered experimental.",
         "extent": {
          "spatial": {
           "bbox": [
            [
             -180,
             -90,
             180,
             90
            ]
           ]
          },
          "temporal": {
           "interval": [
            [
             null,
             null
            ]
           ]
          }
         },
         "id": "EO.ECMWF.DAT.CAMS_EUROPE_AIR_QUALITY_FORECASTS",
         "keywords": [
          "CAMS",
          "Air Quality"
         ],
         "license": "proprietary",
         "links": [
          {
           "href": "https://hda.central.data.destination-earth.eu/stac/collections/EO.ECMWF.DAT.CAMS_EUROPE_AIR_QUALITY_FORECASTS/items",
           "rel": "items",
           "type": "application/geo+json"
          },
          {
           "href": "https://hda.central.data.destination-earth.eu/stac/",
           "rel": "parent",
           "type": "application/json"
          },
          {
           "href": "https://hda.central.data.destination-earth.eu/stac/",
           "rel": "root",
           "type": "application/json"
          },
          {
           "href": "https://hda.central.data.destination-earth.eu/stac/collections/EO.ECMWF.DAT.CAMS_EUROPE_AIR_QUALITY_FORECASTS",
           "rel": "self",
           "type": "application/json"
          },
          {
           "href": "https://eo-apis.csgroup.space/dataset/EO.ECMWF.DAT.CAMS_EUROPE_AIR_QUALITY_FORECASTS",
           "rel": "describedby",
           "title": "Human readable dataset overview and reference",
           "type": "text/html"
          }
         ],
         "providers": [
          {
           "description": "European Centre for Medium-Range Weather Forecasts (ECMWF)",
           "name": "European Centre for Medium-Range Weather Forecasts (ECMWF)",
           "roles": [
            "licensor",
            "producer",
            "processor"
           ],
           "url": "https://www.ecmwf.int/"
          },
          {
           "name": "Copernicus Atmosphere Data Store",
           "roles": [
            "host"
           ],
           "url": "https://ads.atmosphere.copernicus.eu"
          }
         ],
         "stac_version": "1.0.0",
         "title": "CAMS European air quality forecasts",
         "type": "Collection"
        },
        {
         "assets": {
          "thumbnail": {
           "href": "https://datastore.copernicus-climate.eu/c3s/published-forms-v2/c3sprod/satellite-sea-level-global/overview.png",
           "roles": [
            "thumbnail"
           ],
           "title": "overview",
           "type": "image/png"
          }
         },
         "description": "This dataset provides gridded daily and monthly mean global estimates of sea level anomaly based on satellite altimetry measurements. The rise in global mean sea level in recent decades has been one of the most important and well-known consequences of climate warming, putting a large fraction of the world population and economic infrastructure at greater risk of flooding. However, changes in the global average sea level mask regional variations that can be one order of magnitude larger. Therefore, it is essential to measure changes in sea level over the world's oceans as accurately as possible.\nSea level anomaly is defined as the height of water over the mean sea surface in a given time and region. In this dataset sea level anomalies are computed with respect to a twenty-year mean reference period (1993-2012) using up-to-date altimeter standards.\nIn the past, the altimeter sea level datasets were distributed on the CNES AVISO altimetry portal until their production was taken over by the Copernicus Marine Environment Monitoring Service (CMEMS) and the Copernicus Climate Change Service (C3S) in 2015 and 2016 respectively.\nThe sea level dataset provided here by C3S is climate-oriented, that is, dedicated to the monitoring of the long-term evolution of sea level and the analysis of the ocean/climate indicators, both requiring a homogeneous and stable sea level record. To achieve this, a steady two-satellite merged constellation is used at all time steps in the production system: one satellite serves as reference and ensures the long-term stability of the data record; the other satellite (which varies across the record) is used to improve accuracy, sample mesoscale processes and provide coverage at high latitudes. The C3S sea level dataset is used to produce Ocean Monitoring Indicators (e.g. global and regional mean sea level evolution), available in the CMEMS catalogue.\nThe CMEMS sea level dataset has a more operational focus as it is dedicated to the retrieval of mesoscale signals in the context of ocean modeling and analysis of the ocean circulation on a global or regional scale. Such applications require the most accurate sea level estimates at each time step with the best spatial sampling of the ocean with all satellites available, with less emphasis on long-term stability and homogeneity.\nThis dataset is updated three times a year with a delay of about 5 months relative to present time. This delay is mainly due to the timeliness of the input data, the centred processing temporal window and the validation process. However, these processing and validation steps are essential to enhance the stability and accuracy of the sea level products and make them suitable for climate applications.\nThis dataset includes estimates of sea level anomaly and absolute dynamic topography together with the corresponding geostrophic velocities, which provide an approximation of the ocean surface currents. More details about these variables, the sea level retrieval algorithms, additional filters, optimisation procedures, and the error estimation can be found in the documentation.",
         "extent": {
          "spatial": {
           "bbox": [
            [
             -180,
             -90,
             180,
             90
            ]
           ]
          },
          "temporal": {
           "interval": [
            [
             "1993-01-01T00:00:00Z",
             null
            ]
           ]
          }
         },
         "id": "EO.ECMWF.DAT.SEA_LEVEL_DAILY_GRIDDED_DATA_FOR_GLOBAL_OCEAN_1993_PRESENT",
         "keywords": [
          "Oceanographic geographical features",
          "Temporal coverage: Past",
          "Spatial coverage: Global",
          "Product type: Satellite observations",
          "Variable domain: Ocean (physics)",
          "Provider: Copernicus C3S"
         ],
         "license": "proprietary",
         "links": [
          {
           "href": "https://hda.central.data.destination-earth.eu/stac/collections/EO.ECMWF.DAT.SEA_LEVEL_DAILY_GRIDDED_DATA_FOR_GLOBAL_OCEAN_1993_PRESENT/items",
           "rel": "items",
           "type": "application/geo+json"
          },
          {
           "href": "https://hda.central.data.destination-earth.eu/stac/",
           "rel": "parent",
           "type": "application/json"
          },
          {
           "href": "https://hda.central.data.destination-earth.eu/stac/",
           "rel": "root",
           "type": "application/json"
          },
          {
           "href": "https://hda.central.data.destination-earth.eu/stac/collections/EO.ECMWF.DAT.SEA_LEVEL_DAILY_GRIDDED_DATA_FOR_GLOBAL_OCEAN_1993_PRESENT",
           "rel": "self",
           "type": "application/json"
          },
          {
           "href": "https://eo-apis.csgroup.space/dataset/EO.ECMWF.DAT.SEA_LEVEL_DAILY_GRIDDED_DATA_FOR_GLOBAL_OCEAN_1993_PRESENT",
           "rel": "describedby",
           "title": "Human readable dataset overview and reference",
           "type": "text/html"
          }
         ],
         "providers": [
          {
           "description": "European Centre for Medium-Range Weather Forecasts (ECMWF)",
           "name": "European Centre for Medium-Range Weather Forecasts (ECMWF)",
           "roles": [
            "licensor",
            "producer",
            "processor"
           ],
           "url": "https://www.ecmwf.int/"
          },
          {
           "name": "Copernicus Climate Data Store",
           "roles": [
            "host"
           ],
           "url": "https://cds.climate.copernicus.eu"
          }
         ],
         "stac_version": "1.0.0",
         "title": "Sea level gridded data from satellite observations for the global ocean from 1993 to present",
         "type": "Collection"
        },
        {
         "assets": {
          "thumbnail": {
           "href": "https://navigator.eumetsat.int/preview/chl_OC4ME_20June2017.png",
           "roles": [
            "thumbnail"
           ],
           "title": "Sentinel-3A OLCI algal pigment concentration",
           "type": "image/png"
          }
         },
         "dedl:short_description": "OLCI (Ocean and Land Colour Instrument) Ocean Colour Geophysical Products. Full Resolution: 300m at nadir.",
         "description": "OLCI (Ocean and Land Colour Instrument) Ocean Colour Geophysical Products. Full Resolution: 300m at nadir. All Sentinel-3 NRT products are available at pick-up point in less than 3h. Level 2 marine products include the following: * water-leaving reflectances in 16 bands, Oa**_reflectance (Baseline Atmospheric Correction (BAC) algorithm, bands: 400, 412, 442, 490, 510, 560, 620, 665, 674, 681, 709, 754, 779, 865, 885, 1024 nanometer (nm)); *algal pigment concentration in clear waters, chl_oc4me (BAC and maximum band ratio algorithm, log10 scaled); *algal pigment concentration in turbid waters, chl_nn (neural net algorithm, log10 scaled); *total suspended matter concentration, tsm_nn (neural net algorithm, log10 scaled); *diffuse attenuation coefficient Kd of downward irradiance at 490 nm, trsp (BAC and M07 algorithm, log10 scaled); *absorption coefficient at 443 nm of coloured detrital and dissolved organic matter, iop_nn (neural net algorithm, log10 scaled); *instantaneous photosynthetically active radiation, PAR (BAC and clear-sky ocean algorithm); *aerosol optical thickness T865 and aerosol Angstrom exponent A865, w_aer (BAC algorithm, A for bands 779 and 865 nm) *integrated water vapour column, iwv (1D-Var algorithm). The geophysical products are accompanied by error estimate products. Pixel classification, quality and science flags, as well as meteorological, geometry and geolocation data at tie points are provided.\n\n- All Sentinel-3 NRT products are available at pick-up point in less than 3h\n- All Sentinel-3 Non Time Critical (NTC) products are available at pick-up point in less than 30 days\nSentinel-3 is part of a series of Sentinel satellites, under the umbrella of the EU Copernicus programme.",
         "extent": {
          "spatial": {
           "bbox": [
            [
             -180,
             -90,
             180,
             90
            ]
           ]
          },
          "temporal": {
           "interval": [
            [
             "2017-07-05T00:00:00Z",
             null
            ]
           ]
          }
         },
         "id": "EO.EUM.DAT.SENTINEL-3.OL_2_WFR___",
         "item_assets": {
          "thumbnail": {
           "description": "An averaged, decimated preview image in PNG format. Single polarisation products are represented with a grey scale image. Dual polarisation products are represented by a single composite colour image in RGB with the red channel (R) representing the  co-polarisation VV or HH), the green channel (G) represents the cross-polarisation (VH or HV) and the blue channel (B) represents the ratio of the cross an co-polarisations.",
           "roles": [
            "thumbnail"
           ],
           "title": "Preview Image",
           "type": "image/png"
          }
         },
         "keywords": [
          "Level 2 Data",
          "Ocean",
          "Ocean Colour",
          "Water Quality",
          "Chlorophyll-a Concentration"
         ],
         "license": "proprietary",
         "links": [
          {
           "href": "https://hda.central.data.destination-earth.eu/stac/collections/EO.EUM.DAT.SENTINEL-3.OL_2_WFR___/items",
           "rel": "items",
           "type": "application/geo+json"
          },
          {
           "href": "https://hda.central.data.destination-earth.eu/stac/",
           "rel": "parent",
           "type": "application/json"
          },
          {
           "href": "https://hda.central.data.destination-earth.eu/stac/",
           "rel": "root",
           "type": "application/json"
          },
          {
           "href": "https://hda.central.data.destination-earth.eu/stac/collections/EO.EUM.DAT.SENTINEL-3.OL_2_WFR___",
           "rel": "self",
           "type": "application/json"
          },
          {
           "href": "https://eo-apis.csgroup.space/dataset/EO.EUM.DAT.SENTINEL-3.OL_2_WFR___",
           "rel": "describedby",
           "title": "Human readable dataset overview and reference",
           "type": "text/html"
          }
         ],
         "providers": [
          {
           "name": "EUMETSAT",
           "roles": [
            "producer",
            "processor",
            "licensor"
           ],
           "url": "https://www.eumetsat.int/"
          },
          {
           "name": "CREODIAS",
           "roles": [
            "host"
           ],
           "url": "https://creodias.eu"
          },
          {
           "name": "DEDL",
           "roles": [
            "host"
           ],
           "url": "https://destination-earth.eu/"
          }
         ],
         "stac_extensions": [
          "https://stac-extensions.github.io/eo/v1.1.0/schema.json",
          "https://stac-extensions.github.io/processing/v1.1.0/schema.json",
          "https://stac-extensions.github.io/item-assets/v1.0.0/schema.json"
         ],
         "stac_version": "1.0.0",
         "summaries": {
          "constellation": [
           "Sentinel-3"
          ],
          "eo:bands": [
           {
            "Centre Wavelength": "413 nm",
            "description": "Yellow Substance and Detrital Pigments",
            "name": "O1"
           },
           {
            "Centre Wavelength": "443 nm",
            "description": "Chl Absorption Max. /Vegetation",
            "name": "O2"
           },
           {
            "Centre Wavelength": "490 nm",
            "description": "Chl, Other Pigments",
            "name": "O3"
           },
           {
            "Centre Wavelength": "510 nm",
            "description": "Chl, Sediment, Turbidity, Red tide",
            "name": "O4"
           },
           {
            "Centre Wavelength": "560 nm",
            "description": "Chlorophyll Reference",
            "name": "O5"
           },
           {
            "Centre Wavelength": "620 nm",
            "description": "Sediment Loading",
            "name": "O6"
           },
           {
            "Centre Wavelength": "665 nm",
            "description": "Chl, Sediment, Yellow Substance / Vegetation",
            "name": "O7"
           },
           {
            "Centre Wavelength": "681 nm",
            "description": "Chl Fluorescence Peak, Red Edge",
            "name": "O8"
           },
           {
            "Centre Wavelength": "709 nm",
            "description": "Chl Fluorescence Baseline",
            "name": "O9"
           },
           {
            "Centre Wavelength": "754 nm",
            "description": "O2 Absorption /Cloud/ Ocean Colour",
            "name": "O10"
           },
           {
            "Centre Wavelength": "761 nm",
            "description": "O2 Absorption Band/Aerosol Corr.",
            "name": "O11"
           },
           {
            "Centre Wavelength": "779 nm",
            "description": "Atmos. / Aerosol Corr.",
            "name": "O12"
           },
           {
            "Centre Wavelength": "865 nm",
            "description": "Aerosols, Clouds, Pixel Co-registration",
            "name": "O13"
           },
           {
            "Centre Wavelength": "885 nm",
            "description": "Water Vap. Absorption Ref.",
            "name": "O14"
           },
           {
            "Centre Wavelength": "900 nm",
            "description": "Water Vap. Absorption / Vegetation",
            "name": "O15"
           },
           {
            "Centre Wavelength": "1020 nm",
            "description": "Atmos. / Aerosol Corr.",
            "name": "O16"
           }
          ],
          "instruments": [
           "OLCI (Ocean and Land Colour Instrument)"
          ],
          "platform": [
           "SENTINEL-3A",
           "SENTINEL-3B"
          ],
          "processing:level": [
           "L1B"
          ],
          "s1:product_timeliness": [
           "NRT-3h",
           "STC-48h",
           "NTC-1m"
          ]
         },
         "title": "OLCI Level 2 Ocean Colour Full Resolution - Sentinel-3",
         "type": "Collection"
        },
        {
         "assets": {
          "thumbnail": {
           "href": "https://datastore.copernicus-climate.eu/c3s/published-forms-v2/c3sprod/cems-fire-historical-v1/overview.png",
           "roles": [
            "thumbnail"
           ],
           "title": "overview",
           "type": "image/png"
          }
         },
         "dedl:short_description": "This data set provides complete historical reconstruction of meteorological conditions favourable to the start, spread and sustainability of fires.",
         "description": "This data set provides complete historical reconstruction of meteorological conditions favourable to the start, spread and sustainability of fires. The fire danger metrics provided are part of a vast dataset produced by the Copernicus Emergency Management Service for the\nEuropean Forest Fire Information System (EFFIS). The European Forest Fire Information System incorporates the fire danger indices for three different models developed in Canada, United States and Australia. In this dataset the fire danger indices are calculated using weather forecast from historical simulations provided by ECMWF ERA5 reanalysis.\nERA5 by combining  model data and  a vast set of quality controlled observations provides a  globally complete and consistent data-set and is regarded as a good proxy for observed atmospheric conditions.\nThe selected data records in this data set are regularly extended with time as ERA5 forcing data become available. \nThis dataset is produced by ECMWF in its role of the computational centre for fire danger forecast of the CEMS,  on behalf of the Joint Research Centre which is the managing entity of the service.\n\nVariables in the dataset/application are:\nBuild-up index, Burning index, Danger rating, Drought code, Duff moisture code, Energy release component, Fine fuel moisture code, Fire daily severity index, Fire danger index, Fire weather index, Ignition component, Initial spread index, Keetch-Byram drought index, Spread component",
         "extent": {
          "spatial": {
           "bbox": [
            [
             -180,
             -90,
             180,
             90
            ]
           ]
          },
          "temporal": {
           "interval": [
            [
             "1979-01-01T00:00:00Z",
             "2022-10-29T23:59:59Z"
            ]
           ]
          }
         },
         "id": "EO.ECMWF.DAT.CEMS_FIRE_HISTORICAL",
         "keywords": [
          "Land cover",
          "Product type: Reanalysis",
          "Spatial coverage: Global",
          "Variable domain: Land (biosphere)",
          "Temporal coverage: Past",
          "Provider: Copernicus CEMS"
         ],
         "license": "proprietary",
         "links": [
          {
           "href": "https://hda.central.data.destination-earth.eu/stac/collections/EO.ECMWF.DAT.CEMS_FIRE_HISTORICAL/items",
           "rel": "items",
           "type": "application/geo+json"
          },
          {
           "href": "https://hda.central.data.destination-earth.eu/stac/",
           "rel": "parent",
           "type": "application/json"
          },
          {
           "href": "https://hda.central.data.destination-earth.eu/stac/",
           "rel": "root",
           "type": "application/json"
          },
          {
           "href": "https://hda.central.data.destination-earth.eu/stac/collections/EO.ECMWF.DAT.CEMS_FIRE_HISTORICAL",
           "rel": "self",
           "type": "application/json"
          },
          {
           "href": "https://eo-apis.csgroup.space/dataset/EO.ECMWF.DAT.CEMS_FIRE_HISTORICAL",
           "rel": "describedby",
           "title": "Human readable dataset overview and reference",
           "type": "text/html"
          }
         ],
         "providers": [
          {
           "description": "European Centre for Medium-Range Weather Forecasts (ECMWF)",
           "name": "European Centre for Medium-Range Weather Forecasts (ECMWF)",
           "roles": [
            "licensor",
            "producer",
            "processor"
           ],
           "url": "https://www.ecmwf.int/"
          },
          {
           "name": "Copernicus Climate Data Store",
           "roles": [
            "host"
           ],
           "url": "https://cds.climate.copernicus.eu"
          }
         ],
         "stac_version": "1.0.0",
         "title": "Fire danger indices historical data from the Copernicus Emergency Management Service",
         "type": "Collection"
        },
        {
         "assets": {
          "thumbnail": {
           "href": "https://docserver.gesdisc.eosdis.nasa.gov/public/project/Images/S5P_OFFL_L1B_RA_BD1_HiR_1.png",
           "roles": [
            "thumbnail"
           ],
           "title": "Sentinel-5P TROPOMI EV Radiance Band 1 (Orbit# 9412)",
           "type": "image/png"
          }
         },
         "description": "The TROPOMI instrument is a space-borne, nadir-viewing, imaging spectrometer covering wavelength bands between the ultraviolet and the shortwave infrared. The instrument, the single payload of the Sentinel-5P spacecraft, uses passive remote sensing techniques to attain its objective by measuring, at the Top Of Atmosphere (TOA), the solar radiation reflected by and radiated from the earth. The instrument operates in a push-broom configuration (non-scanning), with a swath width of ~2600 km on the Earth's surface. The typical pixel size (near nadir) will be 7x3.5 km2 for all spectral bands, with the exception of the UV1 band (7x28 km2) and SWIR bands (7x7 km2).",
         "extent": {
          "spatial": {
           "bbox": [
            [
             -180,
             -90,
             180,
             90
            ]
           ]
          },
          "temporal": {
           "interval": [
            [
             "2017-10-13T00:00:00Z",
             null
            ]
           ]
          }
         },
         "id": "EO.ESA.DAT.SENTINEL-5P.TROPOMI.L1",
         "item_assets": {
          "thumbnail": {
           "description": "An averaged, decimated preview image in PNG format. Single polarisation products are represented with a grey scale image. Dual polarisation products are represented by a single composite colour image in RGB with the red channel (R) representing the  co-polarisation VV or HH), the green channel (G) represents the cross-polarisation (VH or HV) and the blue channel (B) represents the ratio of the cross an co-polarisations.",
           "roles": [
            "thumbnail"
           ],
           "title": "Preview Image",
           "type": "image/png"
          }
         },
         "keywords": [
          "Land",
          "Ocean",
          "Atmosphere",
          "Radiance",
          "Irradiance",
          "spectrometer"
         ],
         "license": "proprietary",
         "links": [
          {
           "href": "https://hda.central.data.destination-earth.eu/stac/collections/EO.ESA.DAT.SENTINEL-5P.TROPOMI.L1/items",
           "rel": "items",
           "type": "application/geo+json"
          },
          {
           "href": "https://hda.central.data.destination-earth.eu/stac/",
           "rel": "parent",
           "type": "application/json"
          },
          {
           "href": "https://hda.central.data.destination-earth.eu/stac/",
           "rel": "root",
           "type": "application/json"
          },
          {
           "href": "https://hda.central.data.destination-earth.eu/stac/collections/EO.ESA.DAT.SENTINEL-5P.TROPOMI.L1",
           "rel": "self",
           "type": "application/json"
          },
          {
           "href": "https://eo-apis.csgroup.space/dataset/EO.ESA.DAT.SENTINEL-5P.TROPOMI.L1",
           "rel": "describedby",
           "title": "Human readable dataset overview and reference",
           "type": "text/html"
          }
         ],
         "providers": [
          {
           "name": "ESA",
           "roles": [
            "producer",
            "processor",
            "licensor"
           ],
           "url": "https://earth.esa.int"
          },
          {
           "name": "CREODIAS",
           "roles": [
            "host"
           ],
           "url": "https://creodias.eu"
          },
          {
           "name": "DEDL",
           "roles": [
            "host"
           ],
           "url": "https://destination-earth.eu/"
          }
         ],
         "stac_extensions": [
          "https://stac-extensions.github.io/eo/v1.1.0/schema.json",
          "https://stac-extensions.github.io/processing/v1.1.0/schema.json",
          "https://stac-extensions.github.io/sar/v1.0.0/schema.json",
          "https://stac-extensions.github.io/sat/v1.0.0/schema.json",
          "https://stac-extensions.github.io/item-assets/v1.0.0/schema.json",
          "https://stac-extensions.github.io/eo/v1.1.0/schema.json"
         ],
         "stac_version": "1.0.0",
         "summaries": {
          "constellation": [
           "Sentinel-5P"
          ],
          "eo:bands": [
           {
            "common_name": "1 (UV)",
            "description": "267-300 nm",
            "name": "L1B_RA_BD1"
           },
           {
            "common_name": "2 (UV)",
            "description": "300-332 nm",
            "name": "L1B_RA_BD2"
           },
           {
            "common_name": "3 (UVIS)",
            "description": "305-400 nm",
            "name": "L1B_RA_BD3"
           },
           {
            "common_name": "4 (UVIS)",
            "description": "400-499 nm",
            "name": "L1B_RA_BD4"
           },
           {
            "common_name": "5 (NIR)",
            "description": "661-725 nm",
            "name": "L1B_RA_BD5"
           },
           {
            "common_name": "6 (NIR)",
            "description": "725-786 nm",
            "name": "L1B_RA_BD6"
           },
           {
            "common_name": "7 (SWIR)",
            "description": "2300-2343 nm",
            "name": "L1B_RA_BD7"
           },
           {
            "common_name": "8 (SWIR)",
            "description": "2343-2389 nm",
            "name": "L1B_RA_BD8"
           }
          ],
          "instruments": [
           "TROPOMI"
          ],
          "platform": [
           "SENTINEL-5P"
          ],
          "processing:level": [
           "L1B"
          ],
          "s1:product_timeliness": [
           "NRT-2h15m",
           "Off-line"
          ]
         },
         "title": "SENTINEL-5P TROPOMI Level 1B",
         "type": "Collection"
        },
        {
         "assets": {
          "thumbnail": {
           "href": "https://datastore.copernicus-climate.eu/c3s/published-forms-v2/c3sprod/efas-forecast/overview.png",
           "roles": [
            "thumbnail"
           ],
           "title": "overview",
           "type": "image/png"
          }
         },
         "dedl:short_description": "This dataset provides gridded modelled hydrological time series forced with medium-range meteorological forecasts.",
         "description": "This dataset provides gridded modelled hydrological time series forced with medium-range meteorological forecasts.\nThe data represents most important hydrological variables across the European Flood Awareness System (EFAS) domain.\nThe temporal resolution is sub-daily high-resolution and ensemble forecasts of: River discharge, Soil moisture for three soil layers, Snow water equivalent.\nAlso provided are auxiliary (time invariant) data to aid interpretation of river discharge and soil moisture data.",
         "extent": {
          "spatial": {
           "bbox": [
            [
             -180,
             -90,
             180,
             90
            ]
           ]
          },
          "temporal": {
           "interval": [
            [
             "2018-01-01T00:00:00Z",
             null
            ]
           ]
          }
         },
         "id": "EO.ECMWF.DAT.EFAS_FORECAST",
         "keywords": [
          "efas",
          "forecast",
          "hydrological",
          "time",
          "meteorological",
          "flood",
          "awareness",
          "moisture",
          "river",
          "discharge",
          "snow",
          "water",
          "elevation",
          "soil",
          "depth"
         ],
         "license": "proprietary",
         "links": [
          {
           "href": "https://hda.central.data.destination-earth.eu/stac/collections/EO.ECMWF.DAT.EFAS_FORECAST/items",
           "rel": "items",
           "type": "application/geo+json"
          },
          {
           "href": "https://hda.central.data.destination-earth.eu/stac/",
           "rel": "parent",
           "type": "application/json"
          },
          {
           "href": "https://hda.central.data.destination-earth.eu/stac/",
           "rel": "root",
           "type": "application/json"
          },
          {
           "href": "https://hda.central.data.destination-earth.eu/stac/collections/EO.ECMWF.DAT.EFAS_FORECAST",
           "rel": "self",
           "type": "application/json"
          },
          {
           "href": "https://eo-apis.csgroup.space/dataset/EO.ECMWF.DAT.EFAS_FORECAST",
           "rel": "describedby",
           "title": "Human readable dataset overview and reference",
           "type": "text/html"
          }
         ],
         "providers": [
          {
           "description": "European Centre for Medium-Range Weather Forecasts (ECMWF)",
           "name": "European Centre for Medium-Range Weather Forecasts (ECMWF)",
           "roles": [
            "licensor",
            "producer",
            "processor"
           ],
           "url": "https://www.ecmwf.int/"
          },
          {
           "name": "Copernicus Climate Data Store",
           "roles": [
            "host"
           ],
           "url": "https://cds.climate.copernicus.eu"
          }
         ],
         "stac_version": "1.0.0",
         "title": "River discharge and related forecasted data by the European Flood Awareness System",
         "type": "Collection"
        },
        {
         "assets": {
          "thumbnail": {
           "href": "https://datastore.copernicus-climate.eu/c3s/published-forms-v2/c3sprod/seasonal-postprocessed-single-levels/overview.jpg",
           "roles": [
            "thumbnail"
           ],
           "title": "overview",
           "type": "image/jpeg"
          }
         },
         "dedl:short_description": "This entry covers single-level data post-processed for bias adjustment on a monthly time resolution.",
         "description": "This entry covers single-level data post-processed for bias adjustment on a monthly time resolution. \nSeasonal forecasts provide a long-range outlook of changes in the Earth system over periods of a few weeks or months, as a result of predictable changes in some of the slow-varying components of the system. For example, ocean temperatures typically vary slowly, on timescales of weeks or months; as the ocean has an impact on the overlaying atmosphere, the variability of its properties (e.g. temperature) can modify both local and remote atmospheric conditions. Such modifications of the 'usual' atmospheric conditions are the essence of all long-range (e.g. seasonal) forecasts. This is different from a weather forecast, which gives a lot more precise detail - both in time and space - of the evolution of the state of the atmosphere over a few days into the future. Beyond a few days, the chaotic nature of the atmosphere limits the possibility to predict precise changes at local scales. This is one of the reasons long-range forecasts of atmospheric conditions have large uncertainties. To quantify such uncertainties, long-range forecasts use ensembles, and meaningful forecast products reflect a distributions of outcomes.\nGiven the complex, non-linear interactions between the individual components of the Earth system, the best tools for long-range forecasting are climate models which include as many of the key components of the system and possible; typically, such models include representations of the atmosphere, ocean and land surface. These models are initialised with data describing the state of the system at the starting point of the forecast, and used to predict the evolution of this state in time.\nWhile uncertainties coming from imperfect knowledge of the initial conditions of the components of the Earth system can be described with the use of ensembles, uncertainty arising from approximations made in the models are very much dependent on the choice of model. A convenient way to quantify the effect of these approximations is to combine outputs from several models, independently developed, initialised and operated.\nTo this effect, the C3S provides a multi-system seasonal forecast service, where data produced by state-of-the-art seasonal forecast systems developed, implemented and operated at forecast centres in several European countries is collected, processed and combined to enable user-relevant applications. The composition of the C3S seasonal multi-system and the full content of the database underpinning the service are described in the documentation. The data is grouped in several catalogue entries (CDS datasets), currently defined by the type of variable (single-level or multi-level, on pressure surfaces) and the level of post-processing applied (data at original time resolution, processing on temporal aggregation and post-processing related to bias adjustment).\nThe variables available in this data set are listed in the table below. The data includes forecasts created in real-time since 2017.\n\nVariables in the dataset/application are:\n10m u-component of wind anomaly, 10m v-component of wind anomaly, 10m wind gust anomaly, 10m wind speed anomaly, 2m dewpoint temperature anomaly, 2m temperature anomaly, East-west surface stress anomalous rate of accumulation, Evaporation anomalous rate of accumulation, Maximum 2m temperature in the last 24 hours anomaly, Mean sea level pressure anomaly, Mean sub-surface runoff rate anomaly, Mean surface runoff rate anomaly, Minimum 2m temperature in the last 24 hours anomaly, North-south surface stress anomalous rate of accumulation, Runoff anomalous rate of accumulation, Sea surface temperature anomaly, Sea-ice cover anomaly, Snow density anomaly, Snow depth anomaly, Snowfall anomalous rate of accumulation, Soil temperature anomaly level 1, Solar insolation anomalous rate of accumulation, Surface latent heat flux anomalous rate of accumulation, Surface sensible heat flux anomalous rate of accumulation, Surface solar radiation anomalous rate of accumulation, Surface solar radiation downwards anomalous rate of accumulation, Surface thermal radiation anomalous rate of accumulation, Surface thermal radiation downwards anomalous rate of accumulation, Top solar radiation anomalous rate of accumulation, Top thermal radiation anomalous rate of accumulation, Total cloud cover anomaly, Total precipitation anomalous rate of accumulation",
         "extent": {
          "spatial": {
           "bbox": [
            [
             -180,
             -90,
             180,
             90
            ]
           ]
          },
          "temporal": {
           "interval": [
            [
             "1993-01-01T00:00:00Z",
             null
            ]
           ]
          }
         },
         "id": "EO.ECMWF.DAT.SEASONAL_FORECAST_ANOMALIES_ON_SINGLE_LEVELS_2017_PRESENT",
         "keywords": [
          "Variable domain: Atmosphere (surface)",
          "Temporal coverage: Future",
          "Atmospheric conditions",
          "Spatial coverage: Global",
          "Temporal coverage: Past",
          "Variable domain: Atmosphere (upper air)",
          "Provider: Copernicus C3S",
          "Temporal coverage: Present",
          "Product type: Seasonal forecasts"
         ],
         "license": "proprietary",
         "links": [
          {
           "href": "https://hda.central.data.destination-earth.eu/stac/collections/EO.ECMWF.DAT.SEASONAL_FORECAST_ANOMALIES_ON_SINGLE_LEVELS_2017_PRESENT/items",
           "rel": "items",
           "type": "application/geo+json"
          },
          {
           "href": "https://hda.central.data.destination-earth.eu/stac/",
           "rel": "parent",
           "type": "application/json"
          },
          {
           "href": "https://hda.central.data.destination-earth.eu/stac/",
           "rel": "root",
           "type": "application/json"
          },
          {
           "href": "https://hda.central.data.destination-earth.eu/stac/collections/EO.ECMWF.DAT.SEASONAL_FORECAST_ANOMALIES_ON_SINGLE_LEVELS_2017_PRESENT",
           "rel": "self",
           "type": "application/json"
          },
          {
           "href": "https://eo-apis.csgroup.space/dataset/EO.ECMWF.DAT.SEASONAL_FORECAST_ANOMALIES_ON_SINGLE_LEVELS_2017_PRESENT",
           "rel": "describedby",
           "title": "Human readable dataset overview and reference",
           "type": "text/html"
          }
         ],
         "providers": [
          {
           "description": "European Centre for Medium-Range Weather Forecasts (ECMWF)",
           "name": "European Centre for Medium-Range Weather Forecasts (ECMWF)",
           "roles": [
            "licensor",
            "producer",
            "processor"
           ],
           "url": "https://www.ecmwf.int/"
          },
          {
           "name": "Copernicus Climate Data Store",
           "roles": [
            "host"
           ],
           "url": "https://cds.climate.copernicus.eu"
          }
         ],
         "stac_version": "1.0.0",
         "title": "Seasonal forecast anomalies on single levels",
         "type": "Collection"
        },
        {
         "assets": {
          "thumbnail": {
           "href": "https://datastore.copernicus-climate.eu/c3s/published-forms-v2/c3sprod/cems-glofas-reforecast/overview.png",
           "roles": [
            "thumbnail"
           ],
           "title": "overview",
           "type": "image/png"
          }
         },
         "dedl:short_description": "This dataset provides a gridded modelled time series of river discharge, forced with medium- to sub-seasonal range meteorological reforecasts.",
         "description": "This dataset provides a gridded modelled time series of river discharge, forced with medium- to sub-seasonal range meteorological reforecasts. The data is a consistent representation of a key hydrological variable across the global domain, and is a product of the Global Flood Awareness System (GloFAS). It is accompanied by an ancillary file for interpretation that provides the upstream area (see the related variables table and associated link in the documentation).\nThis dataset was produced by forcing a hydrological modelling chain with input from the European Centre for Medium-range Weather Forecasts (ECMWF) 11-member ensemble ECMWF-ENS reforecasts. Reforecasts are forecasts run over past dates, and those presented here are used for providing a suitably long time period against which the skill of the 30-day real-time operational forecast can be assessed. The reforecasts are initialised twice weekly with lead times up to 46 days, at 24-hour steps for 20 years in the recent history. For more specific information on the how the reforecast dataset is produced we refer to the documentation.\nCompanion datasets, also available through the Climate Data Store (CDS), are the operational forecasts, historical simulations that can be used to derive the hydrological climatology, and seasonal forecasts and reforecasts for users looking for long term forecasts. For users looking specifically for European hydrological data, we refer to the European Flood Awareness System (EFAS) forecasts and historical simulations. All these datasets are part of the operational flood forecasting within the Copernicus Emergency Management Service (CEMS).\n\nVariables in the dataset/application are:\nRiver discharge in the last 24 hours\n\nVariables in the dataset/application are:\nUpstream area",
         "extent": {
          "spatial": {
           "bbox": [
            [
             -180,
             -90,
             180,
             90
            ]
           ]
          },
          "temporal": {
           "interval": [
            [
             "1999-01-03T00:00:00Z",
             "2018-12-30T23:59:59Z"
            ]
           ]
          }
         },
         "id": "EO.ECMWF.DAT.CEMS_GLOFAS_REFORECAST",
         "keywords": [
          "Reforecast",
          "Product type: Reforecasts",
          "Spatial coverage: Global",
          "Variable domain: Land (hydrology)",
          "Temporal coverage: Past",
          "Provider: Copernicus CEMS"
         ],
         "license": "proprietary",
         "links": [
          {
           "href": "https://hda.central.data.destination-earth.eu/stac/collections/EO.ECMWF.DAT.CEMS_GLOFAS_REFORECAST/items",
           "rel": "items",
           "type": "application/geo+json"
          },
          {
           "href": "https://hda.central.data.destination-earth.eu/stac/",
           "rel": "parent",
           "type": "application/json"
          },
          {
           "href": "https://hda.central.data.destination-earth.eu/stac/",
           "rel": "root",
           "type": "application/json"
          },
          {
           "href": "https://hda.central.data.destination-earth.eu/stac/collections/EO.ECMWF.DAT.CEMS_GLOFAS_REFORECAST",
           "rel": "self",
           "type": "application/json"
          },
          {
           "href": "https://eo-apis.csgroup.space/dataset/EO.ECMWF.DAT.CEMS_GLOFAS_REFORECAST",
           "rel": "describedby",
           "title": "Human readable dataset overview and reference",
           "type": "text/html"
          }
         ],
         "providers": [
          {
           "description": "European Centre for Medium-Range Weather Forecasts (ECMWF)",
           "name": "European Centre for Medium-Range Weather Forecasts (ECMWF)",
           "roles": [
            "licensor",
            "producer",
            "processor"
           ],
           "url": "https://www.ecmwf.int/"
          },
          {
           "name": "Copernicus Climate Data Store",
           "roles": [
            "host"
           ],
           "url": "https://cds.climate.copernicus.eu"
          }
         ],
         "stac_version": "1.0.0",
         "title": "Reforecasts of river discharge and related data by the Global Flood Awareness System",
         "type": "Collection"
        },
        {
         "assets": {
          "thumbnail": {
           "href": "https://wekeo2-prod-data-access-config.s3.waw3-2.cloudferro.com/previews/EO_ESA_DAT_SENTINEL-3_OL_2_LRR___.jpg",
           "roles": [
            "thumbnail"
           ],
           "title": "Sentinel-3A OLCI land",
           "type": "image/jpeg"
          }
         },
         "dedl:_short_description": "OLCI (Ocean and Land Colour Instrument) Ocean Colour Geophysical Products.",
         "description": "OLCI (Ocean and Land Colour Instrument) Ocean Colour Geophysical Products. Reduced Resolution: 1200m at nadir. OLCI Land Level 2 product contains land and atmospheric geophysical products at full and reduced resolutions. Each Land product provides as measurement data files: a) surface product as Global Vegetation Index (OGVI) and Terrestrial Chlorophyll Index (OTCI) b)atmosphere by-products as Integrated Water Vapour (IWV) column (this product also contains information for water pixels and is identical to that included in OL_2_WRR and OL_2_WFR) c) error estimates for all products.. All Sentinel-3 Short Time Critical (STC) products are available at pick-up point in less than 48 hours. All Sentinel-3 NRT products are available at pick-up point in less than 3h.  All Sentinel-3 Non Time Critical (NTC) products are available at pick-up point in less than 30 days. Sentinel-3 is part of a series of Sentinel satellites, under the umbrella of the EU Copernicus programme.",
         "extent": {
          "spatial": {
           "bbox": [
            [
             -180,
             -90,
             180,
             90
            ]
           ]
          },
          "temporal": {
           "interval": [
            [
             "2017-07-05T00:00:00Z",
             null
            ]
           ]
          }
         },
         "id": "EO.ESA.DAT.SENTINEL-3.OL_2_LRR___",
         "item_assets": {
          "thumbnail": {
           "description": "An averaged, decimated preview image in PNG format. Single polarisation products are represented with a grey scale image. Dual polarisation products are represented by a single composite colour image in RGB with the red channel (R) representing the  co-polarisation VV or HH), the green channel (G) represents the cross-polarisation (VH or HV) and the blue channel (B) represents the ratio of the cross an co-polarisations.",
           "roles": [
            "thumbnail"
           ],
           "title": "Preview Image",
           "type": "image/png"
          }
         },
         "keywords": [
          "Level 2 Data",
          "Land",
          "Land Colour"
         ],
         "license": "proprietary",
         "links": [
          {
           "href": "https://hda.central.data.destination-earth.eu/stac/collections/EO.ESA.DAT.SENTINEL-3.OL_2_LRR___/items",
           "rel": "items",
           "type": "application/geo+json"
          },
          {
           "href": "https://hda.central.data.destination-earth.eu/stac/",
           "rel": "parent",
           "type": "application/json"
          },
          {
           "href": "https://hda.central.data.destination-earth.eu/stac/",
           "rel": "root",
           "type": "application/json"
          },
          {
           "href": "https://hda.central.data.destination-earth.eu/stac/collections/EO.ESA.DAT.SENTINEL-3.OL_2_LRR___",
           "rel": "self",
           "type": "application/json"
          },
          {
           "href": "https://eo-apis.csgroup.space/dataset/EO.ESA.DAT.SENTINEL-3.OL_2_LRR___",
           "rel": "describedby",
           "title": "Human readable dataset overview and reference",
           "type": "text/html"
          }
         ],
         "providers": [
          {
           "name": "ESA",
           "roles": [
            "producer",
            "processor",
            "licensor"
           ],
           "url": "https://earth.esa.int"
          },
          {
           "name": "CREODIAS",
           "roles": [
            "host"
           ],
           "url": "https://creodias.eu"
          },
          {
           "name": "DEDL",
           "roles": [
            "host"
           ],
           "url": "https://destination-earth.eu/"
          }
         ],
         "stac_extensions": [
          "https://stac-extensions.github.io/eo/v1.1.0/schema.json",
          "https://stac-extensions.github.io/processing/v1.1.0/schema.json",
          "https://stac-extensions.github.io/item-assets/v1.0.0/schema.json"
         ],
         "stac_version": "1.0.0",
         "summaries": {
          "constellation": [
           "Sentinel-3"
          ],
          "eo:bands": [
           {
            "Centre Wavelength": "413 nm",
            "description": "Yellow Substance and Detrital Pigments",
            "name": "O1"
           },
           {
            "Centre Wavelength": "443 nm",
            "description": "Chl Absorption Max. /Vegetation",
            "name": "O2"
           },
           {
            "Centre Wavelength": "490 nm",
            "description": "Chl, Other Pigments",
            "name": "O3"
           },
           {
            "Centre Wavelength": "510 nm",
            "description": "Chl, Sediment, Turbidity, Red tide",
            "name": "O4"
           },
           {
            "Centre Wavelength": "560 nm",
            "description": "Chlorophyll Reference",
            "name": "O5"
           },
           {
            "Centre Wavelength": "620 nm",
            "description": "Sediment Loading",
            "name": "O6"
           },
           {
            "Centre Wavelength": "665 nm",
            "description": "Chl, Sediment, Yellow Substance / Vegetation",
            "name": "O7"
           },
           {
            "Centre Wavelength": "681 nm",
            "description": "Chl Fluorescence Peak, Red Edge",
            "name": "O8"
           },
           {
            "Centre Wavelength": "709 nm",
            "description": "Chl Fluorescence Baseline",
            "name": "O9"
           },
           {
            "Centre Wavelength": "754 nm",
            "description": "O2 Absorption /Cloud/ Ocean Colour",
            "name": "O10"
           },
           {
            "Centre Wavelength": "761 nm",
            "description": "O2 Absorption Band/Aerosol Corr.",
            "name": "O11"
           },
           {
            "Centre Wavelength": "779 nm",
            "description": "Atmos. / Aerosol Corr.",
            "name": "O12"
           },
           {
            "Centre Wavelength": "865 nm",
            "description": "Aerosols, Clouds, Pixel Co-registration",
            "name": "O13"
           },
           {
            "Centre Wavelength": "885 nm",
            "description": "Water Vap. Absorption Ref.",
            "name": "O14"
           },
           {
            "Centre Wavelength": "900 nm",
            "description": "Water Vap. Absorption / Vegetation",
            "name": "O15"
           },
           {
            "Centre Wavelength": "1020 nm",
            "description": "Atmos. / Aerosol Corr.",
            "name": "O16"
           }
          ],
          "instruments": [
           "OLCI (Ocean and Land Colour Instrument)"
          ],
          "platform": [
           "SENTINEL-3A",
           "SENTINEL-3B"
          ],
          "processing:level": [
           "L1B"
          ],
          "s1:product_timeliness": [
           "NRT-3h",
           "STC-48h",
           "NTC-1m"
          ]
         },
         "title": "OLCI Land Colour Reduced Resolution - Sentinel-3",
         "type": "Collection"
        },
        {
         "assets": {
          "data": {
           "href": "https://ec.europa.eu/eurostat/api/dissemination/sdmx/2.1/data/demo_r_d2jan?format=tsv",
           "roles": [
            "data"
           ],
           "title": "Eurostat demo_r_d2jan",
           "type": "text/tab-separated-values"
          },
          "thumbnail": {
           "href": "https://www.publicdomainpictures.net/pictures/140000/velka/group-of-young-people.jpg",
           "media_type": "image/jpeg",
           "roles": [
            "thumbnail"
           ],
           "title": "Eurostat NUTS2"
          }
         },
         "dedl:short_description": "This dataset contains information about the population by sex, age and region of residence (NUTS 2 level).",
         "description": "Each year Eurostat collects demographic data at regional level from 37 countries as part of the Unified Demography (Unidemo) project. UNIDEMO is Eurostat’s main annual demographic data collection and aims to gather information on demography and migration. This dataset contains information about the population by sex, age and region of residence (NUTS 2 level).",
         "extent": {
          "spatial": {
           "bbox": [
            [
             -69.103165,
             -26.018616,
             61.78629,
             80.77476
            ]
           ]
          },
          "temporal": {
           "interval": [
            [
             "1990-01-01T00:00:00Z",
             "2021-12-31T23:59:59Z"
            ]
           ]
          }
         },
         "id": "STAT.EUSTAT.DAT.POP_AGE_SEX_NUTS2",
         "keywords": [
          "Eurostat",
          "Population",
          "Age",
          "Sex",
          "NUTS 2",
          "Unidemo",
          "Demographic"
         ],
         "license": "proprietary",
         "links": [
          {
           "href": "https://hda.central.data.destination-earth.eu/stac/collections/STAT.EUSTAT.DAT.POP_AGE_SEX_NUTS2/items",
           "rel": "items",
           "type": "application/geo+json"
          },
          {
           "href": "https://hda.central.data.destination-earth.eu/stac/",
           "rel": "parent",
           "type": "application/json"
          },
          {
           "href": "https://hda.central.data.destination-earth.eu/stac/",
           "rel": "root",
           "type": "application/json"
          },
          {
           "href": "https://hda.central.data.destination-earth.eu/stac/collections/STAT.EUSTAT.DAT.POP_AGE_SEX_NUTS2",
           "rel": "self",
           "type": "application/json"
          },
          {
           "href": "https://ec.europa.eu/eurostat/about-us/policies/copyright",
           "rel": "license",
           "title": "Eurostat - Copyright notice and free re-use of data"
          },
          {
           "href": "https://eo-apis.csgroup.space/dataset/STAT.EUSTAT.DAT.POP_AGE_SEX_NUTS2",
           "rel": "describedby",
           "title": "Human readable dataset overview and reference",
           "type": "text/html"
          }
         ],
         "providers": [
          {
           "name": "Eurostat",
           "roles": [
            "producer",
            "licensor"
           ],
           "url": "https://ec.europa.eu/eurostat"
          },
          {
           "name": "DEDL",
           "roles": [
            "host",
            "processor"
           ],
           "url": "https://destination-earth.eu/"
          }
         ],
         "stac_version": "1.0.0",
         "summaries": {
          "age": [
           "TOTAL",
           "UNK",
           "Y_LT1",
           "Y_OPEN",
           "Y1",
           "Y10",
           "Y11",
           "Y12",
           "Y13",
           "Y14",
           "Y15",
           "Y16",
           "Y17",
           "Y18",
           "Y19",
           "Y2",
           "Y20",
           "Y21",
           "Y22",
           "Y23",
           "Y24",
           "Y25",
           "Y26",
           "Y27",
           "Y28",
           "Y29",
           "Y3",
           "Y30",
           "Y31",
           "Y32",
           "Y33",
           "Y34",
           "Y35",
           "Y36",
           "Y37",
           "Y38",
           "Y39",
           "Y4",
           "Y40",
           "Y41",
           "Y42",
           "Y43",
           "Y44",
           "Y45",
           "Y46",
           "Y47",
           "Y48",
           "Y49",
           "Y5",
           "Y50",
           "Y51",
           "Y52",
           "Y53",
           "Y54",
           "Y55",
           "Y56",
           "Y57",
           "Y58",
           "Y59",
           "Y6",
           "Y60",
           "Y61",
           "Y62",
           "Y63",
           "Y64",
           "Y65",
           "Y66",
           "Y67",
           "Y68",
           "Y69",
           "Y7",
           "Y70",
           "Y71",
           "Y72",
           "Y73",
           "Y74",
           "Y75",
           "Y76",
           "Y77",
           "Y78",
           "Y79",
           "Y8",
           "Y80",
           "Y81",
           "Y82",
           "Y83",
           "Y84",
           "Y85",
           "Y86",
           "Y87",
           "Y88",
           "Y89",
           "Y9",
           "Y90",
           "Y91",
           "Y92",
           "Y93",
           "Y94",
           "Y95",
           "Y96",
           "Y97",
           "Y98",
           "Y99"
          ],
          "geo\\time": [
           "AL",
           "AL0",
           "AL01",
           "AL02",
           "AL03",
           "ALX",
           "ALXX",
           "AT",
           "AT1",
           "AT11",
           "AT12",
           "AT13",
           "AT2",
           "AT21",
           "AT22",
           "AT3",
           "AT31",
           "AT32",
           "AT33",
           "AT34",
           "BE",
           "BE1",
           "BE10",
           "BE2",
           "BE21",
           "BE22",
           "BE23",
           "BE24",
           "BE25",
           "BE3",
           "BE31",
           "BE32",
           "BE33",
           "BE34",
           "BE35",
           "BG",
           "BG3",
           "BG31",
           "BG32",
           "BG33",
           "BG34",
           "BG4",
           "BG41",
           "BG42",
           "CH",
           "CH0",
           "CH01",
           "CH02",
           "CH03",
           "CH04",
           "CH05",
           "CH06",
           "CH07",
           "CY",
           "CY0",
           "CY00",
           "CZ",
           "CZ0",
           "CZ01",
           "CZ02",
           "CZ03",
           "CZ04",
           "CZ05",
           "CZ06",
           "CZ07",
           "CZ08",
           "DE",
           "DE1",
           "DE11",
           "DE12",
           "DE13",
           "DE14",
           "DE2",
           "DE21",
           "DE22",
           "DE23",
           "DE24",
           "DE25",
           "DE26",
           "DE27",
           "DE3",
           "DE30",
           "DE4",
           "DE40",
           "DE5",
           "DE50",
           "DE6",
           "DE60",
           "DE7",
           "DE71",
           "DE72",
           "DE73",
           "DE8",
           "DE80",
           "DE9",
           "DE91",
           "DE92",
           "DE93",
           "DE94",
           "DEA",
           "DEA1",
           "DEA2",
           "DEA3",
           "DEA4",
           "DEA5",
           "DEB",
           "DEB1",
           "DEB2",
           "DEB3",
           "DEC",
           "DEC0",
           "DED",
           "DED2",
           "DED4",
           "DED5",
           "DEE",
           "DEE0",
           "DEF",
           "DEF0",
           "DEG",
           "DEG0",
           "DE_TOT",
           "DK",
           "DK0",
           "DK01",
           "DK02",
           "DK03",
           "DK04",
           "DK05",
           "EE",
           "EE0",
           "EE00",
           "EFTA",
           "EL",
           "EL3",
           "EL30",
           "EL4",
           "EL41",
           "EL42",
           "EL43",
           "EL5",
           "EL51",
           "EL52",
           "EL53",
           "EL54",
           "EL6",
           "EL61",
           "EL62",
           "EL63",
           "EL64",
           "EL65",
           "ES",
           "ES1",
           "ES11",
           "ES12",
           "ES13",
           "ES2",
           "ES21",
           "ES22",
           "ES23",
           "ES24",
           "ES3",
           "ES30",
           "ES4",
           "ES41",
           "ES42",
           "ES43",
           "ES5",
           "ES51",
           "ES52",
           "ES53",
           "ES6",
           "ES61",
           "ES62",
           "ES63",
           "ES64",
           "ES7",
           "ES70",
           "EU27_2007",
           "EU27_2020",
           "EU28",
           "FI",
           "FI1",
           "FI19",
           "FI1B",
           "FI1C",
           "FI1D",
           "FI2",
           "FI20",
           "FR",
           "FR1",
           "FR10",
           "FRB",
           "FRB0",
           "FRC",
           "FRC1",
           "FRC2",
           "FRD",
           "FRD1",
           "FRD2",
           "FRE",
           "FRE1",
           "FRE2",
           "FRF",
           "FRF1",
           "FRF2",
           "FRF3",
           "FRG",
           "FRG0",
           "FRH",
           "FRH0",
           "FRI",
           "FRI1",
           "FRI2",
           "FRI3",
           "FRJ",
           "FRJ1",
           "FRJ2",
           "FRK",
           "FRK1",
           "FRK2",
           "FRL",
           "FRL0",
           "FRM",
           "FRM0",
           "FRX",
           "FRXX",
           "FRY",
           "FRY1",
           "FRY2",
           "FRY3",
           "FRY4",
           "FRY5",
           "HR",
           "HR0",
           "HR02",
           "HR03",
           "HR04",
           "HR05",
           "HR06",
           "HU",
           "HU1",
           "HU11",
           "HU12",
           "HU2",
           "HU21",
           "HU22",
           "HU23",
           "HU3",
           "HU31",
           "HU32",
           "HU33",
           "HUX",
           "HUXX",
           "IE",
           "IE0",
           "IE04",
           "IE05",
           "IE06",
           "IS",
           "IS0",
           "IS00",
           "IT",
           "ITC",
           "ITC1",
           "ITC2",
           "ITC3",
           "ITC4",
           "ITF",
           "ITF1",
           "ITF2",
           "ITF3",
           "ITF4",
           "ITF5",
           "ITF6",
           "ITG",
           "ITG1",
           "ITG2",
           "ITH",
           "ITH1",
           "ITH2",
           "ITH3",
           "ITH4",
           "ITH5",
           "ITI",
           "ITI1",
           "ITI2",
           "ITI3",
           "ITI4",
           "LI",
           "LI0",
           "LI00",
           "LT",
           "LT0",
           "LT01",
           "LT02",
           "LU",
           "LU0",
           "LU00",
           "LV",
           "LV0",
           "LV00",
           "ME",
           "ME0",
           "ME00",
           "MK",
           "MK0",
           "MK00",
           "MKX",
           "MKXX",
           "MT",
           "MT0",
           "MT00",
           "NL",
           "NL1",
           "NL11",
           "NL12",
           "NL13",
           "NL2",
           "NL21",
           "NL22",
           "NL23",
           "NL3",
           "NL31",
           "NL32",
           "NL33",
           "NL34",
           "NL4",
           "NL41",
           "NL42",
           "NO",
           "NO0",
           "NO01",
           "NO02",
           "NO03",
           "NO04",
           "NO05",
           "NO06",
           "NO07",
           "NO08",
           "NO09",
           "NO0A",
           "PL",
           "PL2",
           "PL21",
           "PL22",
           "PL4",
           "PL41",
           "PL42",
           "PL43",
           "PL5",
           "PL51",
           "PL52",
           "PL6",
           "PL61",
           "PL62",
           "PL63",
           "PL7",
           "PL71",
           "PL72",
           "PL8",
           "PL81",
           "PL82",
           "PL84",
           "PL9",
           "PL91",
           "PL92",
           "PT",
           "PT1",
           "PT11",
           "PT15",
           "PT16",
           "PT17",
           "PT18",
           "PT2",
           "PT20",
           "PT3",
           "PT30",
           "RO",
           "RO1",
           "RO11",
           "RO12",
           "RO2",
           "RO21",
           "RO22",
           "RO3",
           "RO31",
           "RO32",
           "RO4",
           "RO41",
           "RO42",
           "RS",
           "RS1",
           "RS11",
           "RS12",
           "RS2",
           "RS21",
           "RS22",
           "SE",
           "SE1",
           "SE11",
           "SE12",
           "SE2",
           "SE21",
           "SE22",
           "SE23",
           "SE3",
           "SE31",
           "SE32",
           "SE33",
           "SI",
           "SI0",
           "SI03",
           "SI04",
           "SK",
           "SK0",
           "SK01",
           "SK02",
           "SK03",
           "SK04",
           "TR",
           "TR1",
           "TR10",
           "TR2",
           "TR21",
           "TR22",
           "TR3",
           "TR31",
           "TR32",
           "TR33",
           "TR4",
           "TR41",
           "TR42",
           "TR5",
           "TR51",
           "TR52",
           "TR6",
           "TR61",
           "TR62",
           "TR63",
           "TR7",
           "TR71",
           "TR72",
           "TR8",
           "TR81",
           "TR82",
           "TR83",
           "TR9",
           "TR90",
           "TRA",
           "TRA1",
           "TRA2",
           "TRB",
           "TRB1",
           "TRB2",
           "TRC",
           "TRC1",
           "TRC2",
           "TRC3",
           "UK",
           "UKC",
           "UKC1",
           "UKC2",
           "UKD",
           "UKD1",
           "UKD3",
           "UKD4",
           "UKD6",
           "UKD7",
           "UKE",
           "UKE1",
           "UKE2",
           "UKE3",
           "UKE4",
           "UKF",
           "UKF1",
           "UKF2",
           "UKF3",
           "UKG",
           "UKG1",
           "UKG2",
           "UKG3",
           "UKH",
           "UKH1",
           "UKH2",
           "UKH3",
           "UKI",
           "UKI3",
           "UKI4",
           "UKI5",
           "UKI6",
           "UKI7",
           "UKJ",
           "UKJ1",
           "UKJ2",
           "UKJ3",
           "UKJ4",
           "UKK",
           "UKK1",
           "UKK2",
           "UKK3",
           "UKK4",
           "UKL",
           "UKL1",
           "UKL2",
           "UKM",
           "UKM5",
           "UKM6",
           "UKM7",
           "UKM8",
           "UKM9",
           "UKN",
           "UKN0"
          ],
          "sex": [
           "F",
           "M",
           "T"
          ],
          "unit": [
           "NR"
          ]
         },
         "title": "Population on 1 January by age, sex and NUTS 2 region",
         "type": "Collection"
        },
        {
         "assets": {
          "data": {
           "href": "https://ec.europa.eu/eurostat/api/dissemination/sdmx/2.1/data/tai08?format=tsv",
           "roles": [
            "data"
           ],
           "title": "Eurostat tai08",
           "type": "text/tab-separated-values"
          },
          "thumbnail": {
           "href": "https://www.eea.europa.eu/themes/agriculture/theme_image/image_panoramic",
           "media_type": "image/jpeg",
           "roles": [
            "thumbnail"
           ],
           "title": "Eurostat Greenhouse"
          }
         },
         "dedl:short_description": "This indicator tracks trends in greenhouse gas (GHG) emissions by agriculture.",
         "description": "This indicator tracks trends in greenhouse gas (GHG) emissions by agriculture, estimated and reported under the United Nations Framework Convention on Climate Change (UNFCCC), the Kyoto Protocol and the Decision 525/2013/EC. The annual data collection covers in principle all Member States of the European Union as well as some other European countries",
         "extent": {
          "spatial": {
           "bbox": [
            [
             -69.103165,
             -26.018616,
             61.78629,
             80.77476
            ]
           ]
          },
          "temporal": {
           "interval": [
            [
             "2009-01-01T00:00:00Z",
             "2020-12-31T23:59:59Z"
            ]
           ]
          }
         },
         "id": "STAT.EUSTAT.DAT.GREENHOUSE_GAS_EMISSION_AGRICULTURE",
         "keywords": [
          "Eurostat",
          "Agriculture",
          "Greenhouse gas",
          "CO2",
          "Emmission",
          "Air pollutants"
         ],
         "license": "proprietary",
         "links": [
          {
           "href": "https://hda.central.data.destination-earth.eu/stac/collections/STAT.EUSTAT.DAT.GREENHOUSE_GAS_EMISSION_AGRICULTURE/items",
           "rel": "items",
           "type": "application/geo+json"
          },
          {
           "href": "https://hda.central.data.destination-earth.eu/stac/",
           "rel": "parent",
           "type": "application/json"
          },
          {
           "href": "https://hda.central.data.destination-earth.eu/stac/",
           "rel": "root",
           "type": "application/json"
          },
          {
           "href": "https://hda.central.data.destination-earth.eu/stac/collections/STAT.EUSTAT.DAT.GREENHOUSE_GAS_EMISSION_AGRICULTURE",
           "rel": "self",
           "type": "application/json"
          },
          {
           "href": "https://ec.europa.eu/eurostat/about-us/policies/copyright",
           "rel": "license",
           "title": "Eurostat - Copyright notice and free re-use of data"
          },
          {
           "href": "https://eo-apis.csgroup.space/dataset/STAT.EUSTAT.DAT.GREENHOUSE_GAS_EMISSION_AGRICULTURE",
           "rel": "describedby",
           "title": "Human readable dataset overview and reference",
           "type": "text/html"
          }
         ],
         "providers": [
          {
           "name": "Eurostat",
           "roles": [
            "producer",
            "licensor"
           ],
           "url": "https://ec.europa.eu/eurostat"
          },
          {
           "name": "DEDL",
           "roles": [
            "host",
            "processor"
           ],
           "url": "https://destination-earth.eu/"
          }
         ],
         "stac_version": "1.0.0",
         "summaries": {
          "airpol": [
           "CH4",
           "CH4_CO2E",
           "CO2",
           "GHG",
           "N2O",
           "N2O_CO2E"
          ],
          "freq": [
           "A"
          ],
          "geo\\time": [
           "AT",
           "BE",
           "BG",
           "CH",
           "CY",
           "CZ",
           "DE",
           "DK",
           "EE",
           "EL",
           "ES",
           "EU27_2020",
           "EU28",
           "FI",
           "FR",
           "HR",
           "HU",
           "IE",
           "IS",
           "IT",
           "LI",
           "LT",
           "LU",
           "LV",
           "MT",
           "NL",
           "NO",
           "PL",
           "PT",
           "RO",
           "SE",
           "SI",
           "SK",
           "TR",
           "UK"
          ],
          "src_crf": [
           "CRF3"
          ],
          "unit": [
           "PC"
          ]
         },
         "title": "Eurostat - Greenhouse gas emissions from agriculture",
         "type": "Collection"
        },
        {
         "assets": {
          "thumbnail": {
           "href": "https://datastore.copernicus-climate.eu/cams/published-forms-v2/camsprod/cams-global-emission-inventories/overview.png",
           "roles": [
            "thumbnail"
           ],
           "title": "overview",
           "type": "image/png"
          }
         },
         "dedl:short_description": "This data set contains gridded distributions of global anthropogenic and natural emissions.",
         "description": "This data set contains gridded distributions of global anthropogenic and natural emissions.\nNatural and anthropogenic emissions of atmospheric pollutants and greenhouse gases are key drivers of the evolution of the composition of the atmosphere, so an accurate representation of them in forecast models of atmospheric composition is essential. CAMS compiles inventories of emission data that serve as input to its own forecast models, but which can also be used by other atmospheric chemical transport models. These inventories are based on a combination of existing data sets and new information, describing anthropogenic emissions from fossil fuel use on land, shipping, and aviation, and natural emissions from vegetation, soil, the ocean and termites. The anthropogenic emissions on land are further separated in specific activity sectors (e.g., power generation, road traffic, industry). The CAMS emission data sets provide good consistency between the emissions of greenhouse gases, reactive gases, and aerosol particles and their precursors. Because most inventory-based data sets are only available with a delay of several years, the CAMS emission inventories also extend these existing data sets forward in time by using the trends from the most recent available years, producing timely input data for real-time forecast models.\nMost of the data sets are updated once or twice per year adding the most recent year to the data record, while re-processing the original data record for consistency, when needed. This is reflected by the different version numbers.",
         "extent": {
          "spatial": {
           "bbox": [
            [
             -180,
             -90,
             180,
             90
            ]
           ]
          },
          "temporal": {
           "interval": [
            [
             "2003-01-01T00:00:00Z",
             "2020-01-01T00:00:00Z"
            ]
           ]
          }
         },
         "id": "EO.ECMWF.DAT.CAMS_GLOBAL_EMISSION_INVENTORIES",
         "keywords": [
          "CAMS",
          "Air Quality"
         ],
         "license": "proprietary",
         "links": [
          {
           "href": "https://hda.central.data.destination-earth.eu/stac/collections/EO.ECMWF.DAT.CAMS_GLOBAL_EMISSION_INVENTORIES/items",
           "rel": "items",
           "type": "application/geo+json"
          },
          {
           "href": "https://hda.central.data.destination-earth.eu/stac/",
           "rel": "parent",
           "type": "application/json"
          },
          {
           "href": "https://hda.central.data.destination-earth.eu/stac/",
           "rel": "root",
           "type": "application/json"
          },
          {
           "href": "https://hda.central.data.destination-earth.eu/stac/collections/EO.ECMWF.DAT.CAMS_GLOBAL_EMISSION_INVENTORIES",
           "rel": "self",
           "type": "application/json"
          },
          {
           "href": "https://eo-apis.csgroup.space/dataset/EO.ECMWF.DAT.CAMS_GLOBAL_EMISSION_INVENTORIES",
           "rel": "describedby",
           "title": "Human readable dataset overview and reference",
           "type": "text/html"
          }
         ],
         "providers": [
          {
           "description": "European Centre for Medium-Range Weather Forecasts (ECMWF)",
           "name": "European Centre for Medium-Range Weather Forecasts (ECMWF)",
           "roles": [
            "licensor",
            "producer",
            "processor"
           ],
           "url": "https://www.ecmwf.int/"
          },
          {
           "name": "Copernicus Atmosphere Data Store",
           "roles": [
            "host"
           ],
           "url": "https://ads.atmosphere.copernicus.eu"
          }
         ],
         "stac_version": "1.0.0",
         "title": "CAMS global emission inventories",
         "type": "Collection"
        },
        {
         "assets": {
          "thumbnail": {
           "href": "https://datastore.copernicus-climate.eu/cams/published-forms-v2/camsprod/cams-global-reanalysis-eac4/overview.png",
           "roles": [
            "thumbnail"
           ],
           "title": "overview",
           "type": "image/png"
          }
         },
         "dedl:short_description": "EAC4 (ECMWF Atmospheric Composition Reanalysis 4) is the fourth generation ECMWF global reanalysis of atmospheric composition.",
         "description": "EAC4 (ECMWF Atmospheric Composition Reanalysis 4) is the fourth generation ECMWF global reanalysis of atmospheric composition. Reanalysis combines model data with observations from across the world into a globally complete and consistent dataset using a model of the atmosphere based on the laws of physics and chemistry. This principle, called data assimilation, is based on the method used by numerical weather prediction centres and air quality forecasting centres, where every so many hours (12 hours at ECMWF) a previous forecast is combined with newly available observations in an optimal way to produce a new best estimate of the state of the atmosphere, called analysis, from which an updated, improved forecast is issued. Reanalysis works in the same way to allow for the provision of a dataset spanning back more than a decade. Reanalysis does not have the constraint of issuing timely forecasts, so there is more time to collect observations, and when going further back in time, to allow for the ingestion of improved versions of the original observations, which all benefit the quality of the reanalysis product.\nThe assimilation system is able to estimate biases between observations and to sift good-quality data from poor data. The atmosphere model allows for estimates at locations where data coverage is low or for atmospheric pollutants for which no direct observations are available. The provision of estimates at each grid point around the globe for each regular output time, over a long period, always using the same format, makes reanalysis a very convenient and popular dataset to work with.\nThe observing system has changed drastically over time, and although the assimilation system can resolve data holes, the initially much sparser networks will lead to less accurate estimates. For this reason, EAC4 is only available from 2003 onwards.\nAlthough the analysis procedure considers chunks of data in a window of 12 hours in one go, EAC4 provides estimates every 3 hours, worldwide. This is made possible by the 4D-Var assimilation method, which takes account of the exact timing of the observations and model evolution within the assimilation window.",
         "extent": {
          "spatial": {
           "bbox": [
            [
             -180,
             -90,
             180,
             90
            ]
           ]
          },
          "temporal": {
           "interval": [
            [
             "2003-01-01T00:00:00Z",
             "2022-01-01T00:00:00Z"
            ]
           ]
          }
         },
         "id": "EO.ECMWF.DAT.CAMS_GLOBAL_REANALYSIS_EAC4",
         "keywords": [
          "CAMS",
          "Air Quality"
         ],
         "license": "proprietary",
         "links": [
          {
           "href": "https://hda.central.data.destination-earth.eu/stac/collections/EO.ECMWF.DAT.CAMS_GLOBAL_REANALYSIS_EAC4/items",
           "rel": "items",
           "type": "application/geo+json"
          },
          {
           "href": "https://hda.central.data.destination-earth.eu/stac/",
           "rel": "parent",
           "type": "application/json"
          },
          {
           "href": "https://hda.central.data.destination-earth.eu/stac/",
           "rel": "root",
           "type": "application/json"
          },
          {
           "href": "https://hda.central.data.destination-earth.eu/stac/collections/EO.ECMWF.DAT.CAMS_GLOBAL_REANALYSIS_EAC4",
           "rel": "self",
           "type": "application/json"
          },
          {
           "href": "https://eo-apis.csgroup.space/dataset/EO.ECMWF.DAT.CAMS_GLOBAL_REANALYSIS_EAC4",
           "rel": "describedby",
           "title": "Human readable dataset overview and reference",
           "type": "text/html"
          }
         ],
         "providers": [
          {
           "description": "European Centre for Medium-Range Weather Forecasts (ECMWF)",
           "name": "European Centre for Medium-Range Weather Forecasts (ECMWF)",
           "roles": [
            "licensor",
            "producer",
            "processor"
           ],
           "url": "https://www.ecmwf.int/"
          },
          {
           "name": "Copernicus Atmosphere Data Store",
           "roles": [
            "host"
           ],
           "url": "https://ads.atmosphere.copernicus.eu"
          }
         ],
         "stac_version": "1.0.0",
         "title": "CAMS global reanalysis (EAC4) monthly averaged fields",
         "type": "Collection"
        },
        {
         "assets": {
          "thumbnail": {
           "href": "https://wekeo2-prod-data-access-config.s3.waw3-2.cloudferro.com/previews/EO_ESA_DAT_SENTINEL-3_OL_2_LFR___.jpg",
           "roles": [
            "thumbnail"
           ],
           "title": "Sentinel-3A OLCI land",
           "type": "image/jpeg"
          }
         },
         "dedl:short_description": "OLCI (Ocean and Land Colour Instrument) Ocean Colour Geophysical Products. OLCI Land Level 2 product contains land and atmospheric geophysical products at full and reduced resolutions.",
         "description": "OLCI (Ocean and Land Colour Instrument) Ocean Colour Geophysical Products. OLCI Land Level 2 product contains land and atmospheric geophysical products at full and reduced resolutions. Each Land product provides as measurement data files: a) surface product as Global Vegetation Index (OGVI) and Terrestrial Chlorophyll Index (OTCI) b)atmosphere by-products as Integrated Water Vapour (IWV) column (this product also contains information for water pixels and is identical to that included in OL_2_WRR and OL_2_WFR) c) error estimates for all products.. All Sentinel-3 Short Time Critical (STC) products are available at pick-up point in less than 48 hours. All Sentinel-3 NRT products are available at pick-up point in less than 3h.  All Sentinel-3 Non Time Critical (NTC) products are available at pick-up point in less than 30 days. Sentinel-3 is part of a series of Sentinel satellites, under the umbrella of the EU Copernicus programme.",
         "extent": {
          "spatial": {
           "bbox": [
            [
             -180,
             -90,
             180,
             90
            ]
           ]
          },
          "temporal": {
           "interval": [
            [
             "2017-07-05T00:00:00Z",
             null
            ]
           ]
          }
         },
         "id": "EO.ESA.DAT.SENTINEL-3.OL_2_LFR___",
         "item_assets": {
          "thumbnail": {
           "description": "An averaged, decimated preview image in PNG format. Single polarisation products are represented with a grey scale image. Dual polarisation products are represented by a single composite colour image in RGB with the red channel (R) representing the  co-polarisation VV or HH), the green channel (G) represents the cross-polarisation (VH or HV) and the blue channel (B) represents the ratio of the cross an co-polarisations.",
           "roles": [
            "thumbnail"
           ],
           "title": "Preview Image",
           "type": "image/png"
          }
         },
         "keywords": [
          "Level 2 Data",
          "Land",
          "Land Colour"
         ],
         "license": "proprietary",
         "links": [
          {
           "href": "https://hda.central.data.destination-earth.eu/stac/collections/EO.ESA.DAT.SENTINEL-3.OL_2_LFR___/items",
           "rel": "items",
           "type": "application/geo+json"
          },
          {
           "href": "https://hda.central.data.destination-earth.eu/stac/",
           "rel": "parent",
           "type": "application/json"
          },
          {
           "href": "https://hda.central.data.destination-earth.eu/stac/",
           "rel": "root",
           "type": "application/json"
          },
          {
           "href": "https://hda.central.data.destination-earth.eu/stac/collections/EO.ESA.DAT.SENTINEL-3.OL_2_LFR___",
           "rel": "self",
           "type": "application/json"
          },
          {
           "href": "https://eo-apis.csgroup.space/dataset/EO.ESA.DAT.SENTINEL-3.OL_2_LFR___",
           "rel": "describedby",
           "title": "Human readable dataset overview and reference",
           "type": "text/html"
          }
         ],
         "providers": [
          {
           "name": "ESA",
           "roles": [
            "producer",
            "processor",
            "licensor"
           ],
           "url": "https://earth.esa.int"
          },
          {
           "name": "CREODIAS",
           "roles": [
            "host"
           ],
           "url": "https://creodias.eu"
          },
          {
           "name": "DEDL",
           "roles": [
            "host"
           ],
           "url": "https://destination-earth.eu/"
          }
         ],
         "stac_extensions": [
          "https://stac-extensions.github.io/eo/v1.1.0/schema.json",
          "https://stac-extensions.github.io/processing/v1.1.0/schema.json",
          "https://stac-extensions.github.io/item-assets/v1.0.0/schema.json"
         ],
         "stac_version": "1.0.0",
         "summaries": {
          "constellation": [
           "Sentinel-3"
          ],
          "eo:bands": [
           {
            "Centre Wavelength": "413 nm",
            "description": "Yellow Substance and Detrital Pigments",
            "name": "O1"
           },
           {
            "Centre Wavelength": "443 nm",
            "description": "Chl Absorption Max. /Vegetation",
            "name": "O2"
           },
           {
            "Centre Wavelength": "490 nm",
            "description": "Chl, Other Pigments",
            "name": "O3"
           },
           {
            "Centre Wavelength": "510 nm",
            "description": "Chl, Sediment, Turbidity, Red tide",
            "name": "O4"
           },
           {
            "Centre Wavelength": "560 nm",
            "description": "Chlorophyll Reference",
            "name": "O5"
           },
           {
            "Centre Wavelength": "620 nm",
            "description": "Sediment Loading",
            "name": "O6"
           },
           {
            "Centre Wavelength": "665 nm",
            "description": "Chl, Sediment, Yellow Substance / Vegetation",
            "name": "O7"
           },
           {
            "Centre Wavelength": "681 nm",
            "description": "Chl Fluorescence Peak, Red Edge",
            "name": "O8"
           },
           {
            "Centre Wavelength": "709 nm",
            "description": "Chl Fluorescence Baseline",
            "name": "O9"
           },
           {
            "Centre Wavelength": "754 nm",
            "description": "O2 Absorption /Cloud/ Ocean Colour",
            "name": "O10"
           },
           {
            "Centre Wavelength": "761 nm",
            "description": "O2 Absorption Band/Aerosol Corr.",
            "name": "O11"
           },
           {
            "Centre Wavelength": "779 nm",
            "description": "Atmos. / Aerosol Corr.",
            "name": "O12"
           },
           {
            "Centre Wavelength": "865 nm",
            "description": "Aerosols, Clouds, Pixel Co-registration",
            "name": "O13"
           },
           {
            "Centre Wavelength": "885 nm",
            "description": "Water Vap. Absorption Ref.",
            "name": "O14"
           },
           {
            "Centre Wavelength": "900 nm",
            "description": "Water Vap. Absorption / Vegetation",
            "name": "O15"
           },
           {
            "Centre Wavelength": "1020 nm",
            "description": "Atmos. / Aerosol Corr.",
            "name": "O16"
           }
          ],
          "instruments": [
           "OLCI (Ocean and Land Colour Instrument)"
          ],
          "platform": [
           "SENTINEL-3A",
           "SENTINEL-3B"
          ],
          "processing:level": [
           "L1B"
          ],
          "s1:product_timeliness": [
           "NRT-3h",
           "STC-48h",
           "NTC-1m"
          ]
         },
         "title": "OLCI Land Colour Full Resolution - Sentinel-3",
         "type": "Collection"
        },
        {
         "assets": {
          "thumbnail": {
           "href": "https://datastore.copernicus-climate.eu/c3s/published-forms-v2/c3sprod/satellite-carbon-dioxide/overview.png",
           "roles": [
            "thumbnail"
           ],
           "title": "overview",
           "type": "image/png"
          }
         },
         "dedl:short_description": "This dataset provides observations of atmospheric carbon dioxide (CO2) amounts obtained from observations collected by several current and historical satellite instruments.",
         "description": "This dataset provides observations of atmospheric carbon dioxide (CO2)\namounts obtained from observations collected by several current and historical \nsatellite instruments. Carbon dioxide is a naturally occurring Greenhouse Gas (GHG), but one whose abundance has been increased substantially above its pre-industrial value of some 280 ppm by human activities, primarily because of emissions from combustion of fossil fuels, deforestation and other land-use change. The annual cycle (especially in the northern hemisphere) is primarily due to seasonal uptake and release of atmospheric CO2 by terrestrial vegetation.\nAtmospheric carbon dioxide abundance is indirectly observed by various satellite instruments. These instruments measure spectrally resolved near-infrared and/or infrared radiation reflected or emitted by the Earth and its atmosphere. In the measured signal, molecular absorption signatures from carbon dioxide and other constituent gasses can be identified. It is through analysis of those absorption lines in these radiance observations that the averaged carbon dioxide abundance in the sampled atmospheric column can be determined.\nThe software used to analyse the absorption lines and determine the carbon dioxide concentration in the sampled atmospheric column is referred to as the retrieval algorithm. For this dataset, carbon dioxide abundances have been determined by applying several algorithms to different satellite \ninstruments. Typically, different algorithms have different strengths and weaknesses and therefore, which product to use for a given application typically depends on the application.\nThe data set consists of 2 types of products: (i) column-averaged mixing ratios of CO2, denoted XCO2 and (ii) mid-tropospheric CO2 columns.  The XCO2 products have been retrieved from SCIAMACHY/ENVISAT, TANSO-FTS/GOSAT and OCO-2. The mid-tropospheric CO2 product has been retrieved from the IASI instruments on-board the Metop satellite series and from AIRS. \nThe XCO2 products are available as Level 2 (L2) products (satellite orbit tracks) and as Level 3 (L3) product (gridded). The L2 products are available as individual sensor products (SCIAMACHY: BESD and WFMD algorithms; GOSAT: OCFP and SRFP algorithms) and as a multi-sensor merged product (EMMA algorithm). The L3 XCO2 product is provided in OBS4MIPS format. \nThe IASI and AIRS products are available as L2 products generated with the NLIS algorithm.\nThis data set is updated on a yearly basis, with each update cycle adding (if required) a new data version for the entire period, up to one year behind real time.\nThis dataset is produced on behalf of C3S with the exception of the SCIAMACHY and AIRS L2 products that were generated in the framework of the GHG-CCI project of the European Space Agency (ESA) Climate Change Initiative (CCI).\n\nVariables in the dataset/application are:\nColumn-average dry-air mole fraction of atmospheric carbon dioxide (XCO2), Mid-tropospheric columns of atmospheric carbon dioxide (CO2)",
         "extent": {
          "spatial": {
           "bbox": [
            [
             -180,
             -90,
             180,
             90
            ]
           ]
          },
          "temporal": {
           "interval": [
            [
             "2002-10-01T00:00:00Z",
             "2016-12-31T00:00:00Z"
            ]
           ]
          }
         },
         "id": "EO.ECMWF.DAT.CO2_DATA_FROM_SATELLITE_SENSORS_2002_PRESENT",
         "keywords": [
          "Product type: Satellite observations",
          "Atmospheric conditions",
          "Spatial coverage: Global",
          "Temporal coverage: Past",
          "Variable domain: Atmosphere (composition)"
         ],
         "license": "proprietary",
         "links": [
          {
           "href": "https://hda.central.data.destination-earth.eu/stac/collections/EO.ECMWF.DAT.CO2_DATA_FROM_SATELLITE_SENSORS_2002_PRESENT/items",
           "rel": "items",
           "type": "application/geo+json"
          },
          {
           "href": "https://hda.central.data.destination-earth.eu/stac/",
           "rel": "parent",
           "type": "application/json"
          },
          {
           "href": "https://hda.central.data.destination-earth.eu/stac/",
           "rel": "root",
           "type": "application/json"
          },
          {
           "href": "https://hda.central.data.destination-earth.eu/stac/collections/EO.ECMWF.DAT.CO2_DATA_FROM_SATELLITE_SENSORS_2002_PRESENT",
           "rel": "self",
           "type": "application/json"
          },
          {
           "href": "https://eo-apis.csgroup.space/dataset/EO.ECMWF.DAT.CO2_DATA_FROM_SATELLITE_SENSORS_2002_PRESENT",
           "rel": "describedby",
           "title": "Human readable dataset overview and reference",
           "type": "text/html"
          }
         ],
         "providers": [
          {
           "description": "European Centre for Medium-Range Weather Forecasts (ECMWF)",
           "name": "European Centre for Medium-Range Weather Forecasts (ECMWF)",
           "roles": [
            "licensor",
            "producer",
            "processor"
           ],
           "url": "https://www.ecmwf.int/"
          },
          {
           "name": "Copernicus Climate Data Store",
           "roles": [
            "host"
           ],
           "url": "https://cds.climate.copernicus.eu"
          }
         ],
         "stac_version": "1.0.0",
         "title": "Carbon dioxide data from 2002 to present derived from satellite observations",
         "type": "Collection"
        },
        {
         "assets": {
          "thumbnail": {
           "href": "https://datastore.copernicus-climate.eu/c3s/published-forms-v2/c3sprod/seasonal-monthly-single-levels/overview.jpg",
           "roles": [
            "thumbnail"
           ],
           "title": "overview",
           "type": "image/jpeg"
          }
         },
         "dedl:short_description": "This entry covers single-level data aggregated on a monthly time resolution.",
         "description": "This entry covers single-level data aggregated on a monthly time resolution. \nSeasonal forecasts provide a long-range outlook of changes in the Earth system over periods of a few weeks or months, as a result of predictable changes in some of the slow-varying components of the system. For example, ocean temperatures typically vary slowly, on timescales of weeks or months; as the ocean has an impact on the overlaying atmosphere, the variability of its properties (e.g. temperature) can modify both local and remote atmospheric conditions. Such modifications of the 'usual' atmospheric conditions are the essence of all long-range (e.g. seasonal) forecasts. This is different from a weather forecast, which gives a lot more precise detail - both in time and space - of the evolution of the state of the atmosphere over a few days into the future. Beyond a few days, the chaotic nature of the atmosphere limits the possibility to predict precise changes at local scales. This is one of the reasons long-range forecasts of atmospheric conditions have large uncertainties. To quantify such uncertainties, long-range forecasts use ensembles, and meaningful forecast products reflect a distributions of outcomes.\nGiven the complex, non-linear interactions between the individual components of the Earth system, the best tools for long-range forecasting are climate models which include as many of the key components of the system and possible; typically, such models include representations of the atmosphere, ocean and land surface. These models are initialised with data describing the state of the system at the starting point of the forecast, and used to predict the evolution of this state in time.\nWhile uncertainties coming from imperfect knowledge of the initial conditions of the components of the Earth system can be described with the use of ensembles, uncertainty arising from approximations made in the models are very much dependent on the choice of model. A convenient way to quantify the effect of these approximations is to combine outputs from several models, independently developed, initialised and operated.\nTo this effect, the C3S provides a multi-system seasonal forecast service, where data produced by state-of-the-art seasonal forecast systems developed, implemented and operated at forecast centres in several European countries is collected, processed and combined to enable user-relevant applications. The composition of the C3S seasonal multi-system and the full content of the database underpinning the service are described in the documentation. The data is grouped in several catalogue entries (CDS datasets), currently defined by the type of variable (single-level or multi-level, on pressure surfaces) and the level of post-processing applied (data at original time resolution, processing on temporal aggregation and post-processing related to bias adjustment).\nThe variables available in this data set are listed in the table below. The data includes forecasts created in real-time (since 2017) and retrospective forecasts (hindcasts) initialised at equivalent intervals during the period 1993-2016.\n\nVariables in the dataset/application are:\n10m u-component of wind, 10m v-component of wind, 10m wind gust since previous post-processing, 10m wind speed, 2m dewpoint temperature, 2m temperature, East-west surface stress rate of accumulation, Evaporation, Maximum 2m temperature in the last 24 hours, Mean sea level pressure, Mean sub-surface runoff rate, Mean surface runoff rate, Minimum 2m temperature in the last 24 hours, North-south surface stress rate of accumulation, Runoff, Sea surface temperature, Sea-ice cover, Snow density, Snow depth, Snowfall, Soil temperature level 1, Solar insolation rate of accumulation, Surface latent heat flux, Surface sensible heat flux, Surface solar radiation, Surface solar radiation downwards, Surface thermal radiation, Surface thermal radiation downwards, Top solar radiation, Top thermal radiation, Total cloud cover, Total precipitation",
         "extent": {
          "spatial": {
           "bbox": [
            [
             -180,
             -90,
             180,
             90
            ]
           ]
          },
          "temporal": {
           "interval": [
            [
             "1993-01-01T00:00:00Z",
             null
            ]
           ]
          }
         },
         "id": "EO.ECMWF.DAT.SEASONAL_FORECAST_MONTHLY_STATISTICS_ON_SINGLE_LEVELS_2017_PRESENT",
         "keywords": [
          "Variable domain: Atmosphere (surface)",
          "Temporal coverage: Future",
          "Atmospheric conditions",
          "Spatial coverage: Global",
          "Temporal coverage: Past",
          "Variable domain: Atmosphere (upper air)",
          "Provider: Copernicus C3S",
          "Temporal coverage: Present",
          "Product type: Seasonal forecasts"
         ],
         "license": "proprietary",
         "links": [
          {
           "href": "https://hda.central.data.destination-earth.eu/stac/collections/EO.ECMWF.DAT.SEASONAL_FORECAST_MONTHLY_STATISTICS_ON_SINGLE_LEVELS_2017_PRESENT/items",
           "rel": "items",
           "type": "application/geo+json"
          },
          {
           "href": "https://hda.central.data.destination-earth.eu/stac/",
           "rel": "parent",
           "type": "application/json"
          },
          {
           "href": "https://hda.central.data.destination-earth.eu/stac/",
           "rel": "root",
           "type": "application/json"
          },
          {
           "href": "https://hda.central.data.destination-earth.eu/stac/collections/EO.ECMWF.DAT.SEASONAL_FORECAST_MONTHLY_STATISTICS_ON_SINGLE_LEVELS_2017_PRESENT",
           "rel": "self",
           "type": "application/json"
          },
          {
           "href": "https://eo-apis.csgroup.space/dataset/EO.ECMWF.DAT.SEASONAL_FORECAST_MONTHLY_STATISTICS_ON_SINGLE_LEVELS_2017_PRESENT",
           "rel": "describedby",
           "title": "Human readable dataset overview and reference",
           "type": "text/html"
          }
         ],
         "providers": [
          {
           "description": "European Centre for Medium-Range Weather Forecasts (ECMWF)",
           "name": "European Centre for Medium-Range Weather Forecasts (ECMWF)",
           "roles": [
            "licensor",
            "producer",
            "processor"
           ],
           "url": "https://www.ecmwf.int/"
          },
          {
           "name": "Copernicus Climate Data Store",
           "roles": [
            "host"
           ],
           "url": "https://cds.climate.copernicus.eu"
          }
         ],
         "stac_version": "1.0.0",
         "title": "Seasonal forecast monthly statistics on single levels",
         "type": "Collection"
        },
        {
         "assets": {
          "data": {
           "href": "https://ec.europa.eu/eurostat/api/dissemination/sdmx/2.1/data/nrg_ind_ren?format=tsv",
           "roles": [
            "data"
           ],
           "title": "Eurostat nrg_ind_ren",
           "type": "text/tab-separated-values"
          },
          "thumbnail": {
           "href": "https://www.eea.europa.eu/themes/energy/theme_image/image_panoramic",
           "media_type": "image/jpeg",
           "roles": [
            "thumbnail"
           ],
           "title": "Eurostat Energy"
          }
         },
         "dedl:short_description": "This dataset covers the indicator for monitoring progress towards renewable energy targets of the Europe 2020 strategy.",
         "description": "This dataset covers the indicator for monitoring progress towards renewable energy targets of the Europe 2020 strategy implemented by Directive 2009/28/EC on the promotion of the use of energy from renewable sources. The annual data collection covers in principle all Member States of the European Union. Time series starts in the year 2004.The calculation is based on data collected in the framework of Regulation (EC) No 1099/2008 on energy statistics and complemented by specific supplementary data transmitted by national administrations to Eurostat.In some countries the statistical systems are not yet fully developed to meet all requirements of Directive 2009/28/EC, in particular with respect to ambient heat captured from the environment by heat pumps.This is indicator is a Sustainable Development Goal (SDG). It has been chosen for the assessment of the progress towards the objectives and targets of the EU Sustainable Development Strategy. The data collection covers the full spectrum of the Member States of the European Union.The share of energy from renewable sources is calculated for four indicators: Transport (RES-T), Heating and Cooling (RES-H&C), Electricity (RES-E),Overall RES share (RES)",
         "extent": {
          "spatial": {
           "bbox": [
            [
             -69.103165,
             -26.018616,
             61.78629,
             80.77476
            ]
           ]
          },
          "temporal": {
           "interval": [
            [
             "2004-01-01T00:00:00Z",
             "2021-12-31T23:59:59Z"
            ]
           ]
          }
         },
         "id": "STAT.EUSTAT.DAT.SHARE_ENERGY_FROM_RENEWABLE",
         "keywords": [
          "Eurostat",
          "Energy",
          "Renewable",
          "Transport",
          "Heating",
          "Cooling",
          "Electricity"
         ],
         "license": "proprietary",
         "links": [
          {
           "href": "https://hda.central.data.destination-earth.eu/stac/collections/STAT.EUSTAT.DAT.SHARE_ENERGY_FROM_RENEWABLE/items",
           "rel": "items",
           "type": "application/geo+json"
          },
          {
           "href": "https://hda.central.data.destination-earth.eu/stac/",
           "rel": "parent",
           "type": "application/json"
          },
          {
           "href": "https://hda.central.data.destination-earth.eu/stac/",
           "rel": "root",
           "type": "application/json"
          },
          {
           "href": "https://hda.central.data.destination-earth.eu/stac/collections/STAT.EUSTAT.DAT.SHARE_ENERGY_FROM_RENEWABLE",
           "rel": "self",
           "type": "application/json"
          },
          {
           "href": "https://ec.europa.eu/eurostat/about-us/policies/copyright",
           "rel": "license",
           "title": "Eurostat - Copyright notice and free re-use of data"
          },
          {
           "href": "https://eo-apis.csgroup.space/dataset/STAT.EUSTAT.DAT.SHARE_ENERGY_FROM_RENEWABLE",
           "rel": "describedby",
           "title": "Human readable dataset overview and reference",
           "type": "text/html"
          }
         ],
         "providers": [
          {
           "name": "Eurostat",
           "roles": [
            "producer",
            "licensor"
           ],
           "url": "https://ec.europa.eu/eurostat"
          },
          {
           "name": "DEDL",
           "roles": [
            "host",
            "processor"
           ],
           "url": "https://destination-earth.eu/"
          }
         ],
         "stac_version": "1.0.0",
         "summaries": {
          "geo\\time": [
           "AL",
           "AT",
           "BA",
           "BE",
           "BG",
           "CY",
           "CZ",
           "DE",
           "DK",
           "EA20",
           "EE",
           "EL",
           "ES",
           "EU27_2020",
           "FI",
           "FR",
           "GE",
           "HR",
           "HU",
           "IE",
           "IS",
           "IT",
           "LT",
           "LU",
           "LV",
           "MD",
           "ME",
           "MK",
           "MT",
           "NL",
           "NO",
           "PL",
           "PT",
           "RO",
           "RS",
           "SE",
           "SI",
           "SK",
           "XK"
          ],
          "nrg_bal": [
           "REN",
           "REN_ELC",
           "REN_HEAT_CL",
           "REN_TRA"
          ],
          "unit": [
           "PC"
          ]
         },
         "title": "Eurostat - Share of energy from renewable sources",
         "type": "Collection"
        },
        {
         "assets": {
          "thumbnail": {
           "href": "https://datastore.copernicus-climate.eu/c3s/published-forms-v2/c3sprod/cems-glofas-historical/overview.png",
           "roles": [
            "thumbnail"
           ],
           "title": "overview",
           "type": "image/png"
          }
         },
         "dedl:short_description": "This dataset contains global modelled daily data of river discharge from the Global Flood Awareness System (GloFAS), which is part of the Copernicus Emergency Management Service (CEMS).",
         "description": "This dataset contains global modelled daily data of river discharge from the Global Flood Awareness System (GloFAS), which is part of the Copernicus Emergency Management Service (CEMS). River discharge, or river flow as it is also known, is defined as the amount of water that flows through a river section at a given time. \nThis dataset is simulated by forcing a hydrological modelling chain with inputs from a global reanalysis. Data availability for the historical simulation is from 1979-01-01 up to near real time.\n\nVariables in the dataset/application are:\nRiver discharge in the last 24 hours\n\nVariables in the dataset/application are:\nUpstream area",
         "extent": {
          "spatial": {
           "bbox": [
            [
             -180,
             -90,
             180,
             90
            ]
           ]
          },
          "temporal": {
           "interval": [
            [
             "1979-01-01T00:00:00Z",
             null
            ]
           ]
          }
         },
         "id": "EO.ECMWF.DAT.CEMS_GLOFAS_HISTORICAL",
         "keywords": [
          "Climatology",
          "Product type: Reanalysis",
          "Spatial coverage: Global",
          "Variable domain: Land (hydrology)",
          "Temporal coverage: Past",
          "Provider: Copernicus CEMS"
         ],
         "license": "proprietary",
         "links": [
          {
           "href": "https://hda.central.data.destination-earth.eu/stac/collections/EO.ECMWF.DAT.CEMS_GLOFAS_HISTORICAL/items",
           "rel": "items",
           "type": "application/geo+json"
          },
          {
           "href": "https://hda.central.data.destination-earth.eu/stac/",
           "rel": "parent",
           "type": "application/json"
          },
          {
           "href": "https://hda.central.data.destination-earth.eu/stac/",
           "rel": "root",
           "type": "application/json"
          },
          {
           "href": "https://hda.central.data.destination-earth.eu/stac/collections/EO.ECMWF.DAT.CEMS_GLOFAS_HISTORICAL",
           "rel": "self",
           "type": "application/json"
          },
          {
           "href": "https://eo-apis.csgroup.space/dataset/EO.ECMWF.DAT.CEMS_GLOFAS_HISTORICAL",
           "rel": "describedby",
           "title": "Human readable dataset overview and reference",
           "type": "text/html"
          }
         ],
         "providers": [
          {
           "description": "European Centre for Medium-Range Weather Forecasts (ECMWF)",
           "name": "European Centre for Medium-Range Weather Forecasts (ECMWF)",
           "roles": [
            "licensor",
            "producer",
            "processor"
           ],
           "url": "https://www.ecmwf.int/"
          },
          {
           "name": "Copernicus Climate Data Store",
           "roles": [
            "host"
           ],
           "url": "https://cds.climate.copernicus.eu"
          }
         ],
         "stac_version": "1.0.0",
         "title": "River discharge and related historical data from the Global Flood Awareness System",
         "type": "Collection"
        },
        {
         "assets": {
          "thumbnail": {
           "href": "https://datastore.copernicus-climate.eu/c3s/published-forms-v2/c3sprod/reanalysis-era5-pressure-levels-monthly-means/overview.jpg",
           "roles": [
            "thumbnail"
           ],
           "title": "overview",
           "type": "image/jpeg"
          }
         },
         "dedl:short_description": "ERA5 is the fifth generation ECMWF reanalysis for the global climate and weather for the past 8 decades. Data is available from 1940 onwards. ERA5 replaces the ERA-Interim reanalysis.",
         "description": "ERA5 is the fifth generation ECMWF reanalysis for the global climate and weather for the past 8 decades. Data is available from 1940 onwards. ERA5 replaces the ERA-Interim reanalysis.\n\nReanalysis combines model data with observations from across the world into a globally complete and consistent dataset using the laws of physics. This principle, called data assimilation, is based on the method used by numerical weather prediction centres, where every so many hours (12 hours at ECMWF) a previous forecast is combined with newly available observations in an optimal way to produce a new best estimate of the state of the atmosphere, called analysis, from which an updated, improved forecast is issued. Reanalysis works in the same way, but at reduced resolution to allow for the provision of a dataset spanning back several decades. Reanalysis does not have the constraint of issuing timely forecasts, so there is more time to collect observations, and when going further back in time, to allow for the ingestion of improved versions of the original observations, which all benefit the quality of the reanalysis product.\n\nERA5 provides hourly estimates for a large number of atmospheric, ocean-wave and land-surface quantities. An uncertainty estimate is sampled by an underlying 10-member ensemble at three-hourly intervals. Ensemble mean and spread have been pre-computed for convenience. Such uncertainty estimates are closely related to the information content of the available observing system which has evolved considerably over time. They also indicate flow-dependent sensitive areas. To facilitate many climate applications, monthly-mean averages have been pre-calculated too, though monthly means are not available for the ensemble mean and spread.\n\nERA5 is updated daily with a latency of about 5 days (monthly means are available around the 6th of each month). In case that serious flaws are detected in this early release (called ERA5T), this data could be different from the final release 2 to 3 months later. So far this has only been the case for the month September 2021, while it will also be the case for October, November and December 2021. For months prior to September 2021 the final release has always been equal to ERA5T, and the goal is to align the two again after December 2021.\n\nERA5 is updated daily with a latency of about 5 days (monthly means are available around the 6th of each month). In case that serious flaws are detected in this early release (called ERA5T), this data could be different from the final release 2 to 3 months later. In case that this occurs users are notified.\n\nThe data set presented here is a regridded subset of the full ERA5 data set on native resolution. It is online on spinning disk, which should ensure fast and easy access. It should satisfy the requirements for most common applications.\n\nData has been regridded to a regular lat-lon grid of 0.25 degrees for the reanalysis and 0.5 degrees for the uncertainty estimate (0.5 and 1 degree respectively for ocean waves). There are four main sub sets: hourly and monthly products, both on pressure levels (upper air fields) and single levels (atmospheric, ocean-wave and land surface quantities).",
         "extent": {
          "spatial": {
           "bbox": [
            [
             -180,
             -90,
             180,
             90
            ]
           ]
          },
          "temporal": {
           "interval": [
            [
             "1940-01-01T00:00:00Z",
             null
            ]
           ]
          }
         },
         "id": "EO.ECMWF.DAT.ERA5_MONTHLY_MEANS_VARIABLES_ON_PRESSURE_LEVELS",
         "keywords": [
          "Atmospheric conditions",
          "Variable domain: Atmosphere (surface)",
          "Variable domain: Atmosphere (upper air)",
          "Temporal coverage: Past",
          "Spatial coverage: Global",
          "Product type: Reanalysis",
          "Provider: Copernicus C3S"
         ],
         "license": "proprietary",
         "links": [
          {
           "href": "https://hda.central.data.destination-earth.eu/stac/collections/EO.ECMWF.DAT.ERA5_MONTHLY_MEANS_VARIABLES_ON_PRESSURE_LEVELS/items",
           "rel": "items",
           "type": "application/geo+json"
          },
          {
           "href": "https://hda.central.data.destination-earth.eu/stac/",
           "rel": "parent",
           "type": "application/json"
          },
          {
           "href": "https://hda.central.data.destination-earth.eu/stac/",
           "rel": "root",
           "type": "application/json"
          },
          {
           "href": "https://hda.central.data.destination-earth.eu/stac/collections/EO.ECMWF.DAT.ERA5_MONTHLY_MEANS_VARIABLES_ON_PRESSURE_LEVELS",
           "rel": "self",
           "type": "application/json"
          },
          {
           "href": "https://eo-apis.csgroup.space/dataset/EO.ECMWF.DAT.ERA5_MONTHLY_MEANS_VARIABLES_ON_PRESSURE_LEVELS",
           "rel": "describedby",
           "title": "Human readable dataset overview and reference",
           "type": "text/html"
          }
         ],
         "providers": [
          {
           "description": "European Centre for Medium-Range Weather Forecasts (ECMWF)",
           "name": "European Centre for Medium-Range Weather Forecasts (ECMWF)",
           "roles": [
            "licensor",
            "producer",
            "processor"
           ],
           "url": "https://www.ecmwf.int/"
          },
          {
           "name": "Copernicus Climate Data Store",
           "roles": [
            "host"
           ],
           "url": "https://cds.climate.copernicus.eu"
          }
         ],
         "stac_version": "1.0.0",
         "title": "ERA5 monthly averaged data on pressure levels from 1940 to present",
         "type": "Collection"
        },
        {
         "assets": {
          "thumbnail": {
           "href": "https://datastore.copernicus-climate.eu/c3s/published-forms-v2/c3sprod/seasonal-monthly-pressure-levels/overview.jpg",
           "roles": [
            "thumbnail"
           ],
           "title": "overview",
           "type": "image/jpeg"
          }
         },
         "dedl:short_description": "This entry covers pressure-level data aggregated on a monthly time resolution.",
         "description": "This entry covers pressure-level data aggregated on a monthly time resolution. \nSeasonal forecasts provide a long-range outlook of changes in the Earth system over periods of a few weeks or months, as a result of predictable changes in some of the slow-varying components of the system. For example, ocean temperatures typically vary slowly, on timescales of weeks or months; as the ocean has an impact on the overlaying atmosphere, the variability of its properties (e.g. temperature) can modify both local and remote atmospheric conditions. Such modifications of the 'usual' atmospheric conditions are the essence of all long-range (e.g. seasonal) forecasts. This is different from a weather forecast, which gives a lot more precise detail - both in time and space - of the evolution of the state of the atmosphere over a few days into the future. Beyond a few days, the chaotic nature of the atmosphere limits the possibility to predict precise changes at local scales. This is one of the reasons long-range forecasts of atmospheric conditions have large uncertainties. To quantify such uncertainties, long-range forecasts use ensembles, and meaningful forecast products reflect a distributions of outcomes.\nGiven the complex, non-linear interactions between the individual components of the Earth system, the best tools for long-range forecasting are climate models which include as many of the key components of the system and possible; typically, such models include representations of the atmosphere, ocean and land surface. These models are initialised with data describing the state of the system at the starting point of the forecast, and used to predict the evolution of this state in time.\nWhile uncertainties coming from imperfect knowledge of the initial conditions of the components of the Earth system can be described with the use of ensembles, uncertainty arising from approximations made in the models are very much dependent on the choice of model. A convenient way to quantify the effect of these approximations is to combine outputs from several models, independently developed, initialised and operated.\nTo this effect, the C3S provides a multi-system seasonal forecast service, where data produced by state-of-the-art seasonal forecast systems developed, implemented and operated at forecast centres in several European countries is collected, processed and combined to enable user-relevant applications. The composition of the C3S seasonal multi-system and the full content of the database underpinning the service are described in the documentation. The data is grouped in several catalogue entries (CDS datasets), currently defined by the type of variable (single-level or multi-level, on pressure surfaces) and the level of post-processing applied (data at original time resolution, processing on temporal aggregation and post-processing related to bias adjustment).\nThe variables available in this data set are listed in the table below. The data includes forecasts created in real-time (since 2017) and retrospective forecasts (hindcasts) initialised at equivalent intervals during the period 1993-2016.\n\nVariables in the dataset/application are:\nGeopotential, Specific humidity, Temperature, U-component of wind, V-component of wind",
         "extent": {
          "spatial": {
           "bbox": [
            [
             -180,
             -90,
             180,
             90
            ]
           ]
          },
          "temporal": {
           "interval": [
            [
             "1993-01-01T00:00:00Z",
             null
            ]
           ]
          }
         },
         "id": "EO.ECMWF.DAT.SEASONAL_FORECAST_MONTHLY_STATISTICS_ON_PRESSURE_LEVELS_2017_PRESENT",
         "keywords": [
          "Variable domain: Atmosphere (surface)",
          "Temporal coverage: Future",
          "Atmospheric conditions",
          "Spatial coverage: Global",
          "Temporal coverage: Past",
          "Variable domain: Atmosphere (upper air)",
          "Provider: Copernicus C3S",
          "Temporal coverage: Present",
          "Product type: Seasonal forecasts"
         ],
         "license": "proprietary",
         "links": [
          {
           "href": "https://hda.central.data.destination-earth.eu/stac/collections/EO.ECMWF.DAT.SEASONAL_FORECAST_MONTHLY_STATISTICS_ON_PRESSURE_LEVELS_2017_PRESENT/items",
           "rel": "items",
           "type": "application/geo+json"
          },
          {
           "href": "https://hda.central.data.destination-earth.eu/stac/",
           "rel": "parent",
           "type": "application/json"
          },
          {
           "href": "https://hda.central.data.destination-earth.eu/stac/",
           "rel": "root",
           "type": "application/json"
          },
          {
           "href": "https://hda.central.data.destination-earth.eu/stac/collections/EO.ECMWF.DAT.SEASONAL_FORECAST_MONTHLY_STATISTICS_ON_PRESSURE_LEVELS_2017_PRESENT",
           "rel": "self",
           "type": "application/json"
          },
          {
           "href": "https://eo-apis.csgroup.space/dataset/EO.ECMWF.DAT.SEASONAL_FORECAST_MONTHLY_STATISTICS_ON_PRESSURE_LEVELS_2017_PRESENT",
           "rel": "describedby",
           "title": "Human readable dataset overview and reference",
           "type": "text/html"
          }
         ],
         "providers": [
          {
           "description": "European Centre for Medium-Range Weather Forecasts (ECMWF)",
           "name": "European Centre for Medium-Range Weather Forecasts (ECMWF)",
           "roles": [
            "licensor",
            "producer",
            "processor"
           ],
           "url": "https://www.ecmwf.int/"
          },
          {
           "name": "Copernicus Climate Data Store",
           "roles": [
            "host"
           ],
           "url": "https://cds.climate.copernicus.eu"
          }
         ],
         "stac_version": "1.0.0",
         "title": "Seasonal forecast monthly statistics on pressure levels",
         "type": "Collection"
        },
        {
         "assets": {
          "thumbnail": {
           "href": "https://navigator.eumetsat.int/preview/s3_olci.png",
           "roles": [
            "thumbnail"
           ],
           "title": "Sentinel-3A Sea Level Anomaly (cm)",
           "type": "image/png"
          }
         },
         "description": "OLCI (Ocean and Land Colour Instrument) Reduced resolution: 1200m at nadir. All Sentinel-3 NRT products are available at pick-up point in less than 3h. Level 1 products are calibrated Top Of Atmosphere radiance values at OLCI 21 spectral bands. Radiances are computed from the instrument digital counts by applying geo-referencing, radiometric processing (non-linearity correction, smear correction, dark offset correction, absolute gain calibration adjusted for gain evolution with time), and stray-light correction for straylight effects in OLCI camera's spectrometer and ground imager. Additionally, spatial resampling of OLCI pixels to the 'ideal' instrument grid, initial pixel classification, and annotation at tie points with auxiliary meteorological data and acquisition geometry are provided. The radiance products are accompanied by error estimate products, however the error values are currently not available.\n\n- All Sentinel-3 NRT products are available at pick-up point in less than 3h\n- All Sentinel-3 Non Time Critical (NTC) products are available at pick-up point in less than 30 days\nSentinel-3 is part of a series of Sentinel satellites, under the umbrella of the EU Copernicus programme.",
         "extent": {
          "spatial": {
           "bbox": [
            [
             -180,
             -90,
             180,
             90
            ]
           ]
          },
          "temporal": {
           "interval": [
            [
             "2016-10-20T00:00:00Z",
             null
            ]
           ]
          }
         },
         "id": "EO.EUM.DAT.SENTINEL-3.OL_1_ERR___",
         "item_assets": {
          "thumbnail": {
           "description": "An averaged, decimated preview image in PNG format. Single polarisation products are represented with a grey scale image. Dual polarisation products are represented by a single composite colour image in RGB with the red channel (R) representing the  co-polarisation VV or HH), the green channel (G) represents the cross-polarisation (VH or HV) and the blue channel (B) represents the ratio of the cross an co-polarisations.",
           "roles": [
            "thumbnail"
           ],
           "title": "Preview Image",
           "type": "image/png"
          }
         },
         "keywords": [
          "Level 1 Data",
          "Ocean",
          "Ocean Colour",
          "disableCustomizeCart",
          "Water quality",
          "Chlorophyll-a concentration"
         ],
         "license": "proprietary",
         "links": [
          {
           "href": "https://hda.central.data.destination-earth.eu/stac/collections/EO.EUM.DAT.SENTINEL-3.OL_1_ERR___/items",
           "rel": "items",
           "type": "application/geo+json"
          },
          {
           "href": "https://hda.central.data.destination-earth.eu/stac/",
           "rel": "parent",
           "type": "application/json"
          },
          {
           "href": "https://hda.central.data.destination-earth.eu/stac/",
           "rel": "root",
           "type": "application/json"
          },
          {
           "href": "https://hda.central.data.destination-earth.eu/stac/collections/EO.EUM.DAT.SENTINEL-3.OL_1_ERR___",
           "rel": "self",
           "type": "application/json"
          },
          {
           "href": "https://eo-apis.csgroup.space/dataset/EO.EUM.DAT.SENTINEL-3.OL_1_ERR___",
           "rel": "describedby",
           "title": "Human readable dataset overview and reference",
           "type": "text/html"
          }
         ],
         "providers": [
          {
           "name": "EUMETSAT",
           "roles": [
            "producer",
            "processor",
            "licensor"
           ],
           "url": "https://www.eumetsat.int/"
          },
          {
           "name": "CREODIAS",
           "roles": [
            "host"
           ],
           "url": "https://creodias.eu"
          },
          {
           "name": "DEDL",
           "roles": [
            "host"
           ],
           "url": "https://destination-earth.eu/"
          }
         ],
         "stac_extensions": [
          "https://stac-extensions.github.io/eo/v1.1.0/schema.json",
          "https://stac-extensions.github.io/processing/v1.1.0/schema.json",
          "https://stac-extensions.github.io/sar/v1.0.0/schema.json",
          "https://stac-extensions.github.io/sat/v1.0.0/schema.json",
          "https://stac-extensions.github.io/item-assets/v1.0.0/schema.json",
          "https://stac-extensions.github.io/eo/v1.1.0/schema.json"
         ],
         "stac_version": "1.0.0",
         "summaries": {
          "constellation": [
           "Sentinel-3"
          ],
          "eo:bands": [
           {
            "Centre Wavelength": "413 nm",
            "description": "Yellow substance and detrital pigments",
            "name": "O1"
           },
           {
            "Centre Wavelength": "443 nm",
            "description": "Chl absorption max. /Vegetation",
            "name": "O2"
           },
           {
            "Centre Wavelength": "490 nm",
            "description": "Chl, Other pigments",
            "name": "O3"
           },
           {
            "Centre Wavelength": "510 nm",
            "description": "Chl, Sediment, Turbidity, Red tide",
            "name": "O4"
           },
           {
            "Centre Wavelength": "560 nm",
            "description": "Chlorophyll reference",
            "name": "O5"
           },
           {
            "Centre Wavelength": "620 nm",
            "description": "Sediment Loading",
            "name": "O6"
           },
           {
            "Centre Wavelength": "665 nm",
            "description": "Chl, Sediment, Yellow Substance / Vegetation",
            "name": "O7"
           },
           {
            "Centre Wavelength": "681 nm",
            "description": "Chl fluorescence peak, red edge",
            "name": "O8"
           },
           {
            "Centre Wavelength": "709 nm",
            "description": "Chl fluorescence baseline",
            "name": "O9"
           },
           {
            "Centre Wavelength": "754 nm",
            "description": "O2 absorption /Cloud/ Ocean colour",
            "name": "O10"
           },
           {
            "Centre Wavelength": "761 nm",
            "description": "O2 absorption band/Aerosol corr.",
            "name": "O11"
           },
           {
            "Centre Wavelength": "779 nm",
            "description": "Atmos. / Aerosol corr.",
            "name": "O12"
           },
           {
            "Centre Wavelength": "865 nm",
            "description": "Aerosols, Clouds, Pixel co-registration",
            "name": "O13"
           },
           {
            "Centre Wavelength": "885 nm",
            "description": "Water vap. absorption ref.",
            "name": "O14"
           },
           {
            "Centre Wavelength": "900 nm",
            "description": "Water vap. Absorption / Vegetation",
            "name": "O15"
           },
           {
            "Centre Wavelength": "1020 nm",
            "description": "Atmos. / Aerosol corr.",
            "name": "O16"
           }
          ],
          "instruments": [
           "OLCI (Ocean and Land Colour Instrument)"
          ],
          "platform": [
           "Sentinel-3A",
           "Sentinel-3B"
          ],
          "processing:level": [
           "L1B"
          ],
          "s1:product_timeliness": [
           "NRT-3h",
           "STC-48h",
           "NTC-1m"
          ]
         },
         "title": "OLCI Level 1B Reduced Resolution - Sentinel-3",
         "type": "Collection"
        },
        {
         "assets": {
          "thumbnail": {
           "href": "https://collections.eurodatacube.com/sentinel-1-grd/sentinel-1-grd.png",
           "roles": [
            "thumbnail"
           ],
           "title": "Sentinel 1 GRD",
           "type": "image/png"
          }
         },
         "dedl:short_description": "Sentinel-1 Level-1 Ground Range Detected (GRD) products consist of focused SAR data that has been detected, multi-looked and projected to ground range using an Earth ellipsoid model.",
         "description": "The [Sentinel-1](https://sentinel.esa.int/web/sentinel/missions/sentinel-1) mission is a constellation of two polar-orbiting satellites, operating day and night performing C-band synthetic aperture radar imaging. Level-1 Ground Range Detected (GRD) products consist of focused SAR data that has been detected, multi-looked and projected to ground range using an Earth ellipsoid model. The ellipsoid projection of the GRD products is corrected using the terrain height specified in the product general annotation. The terrain height used varies in azimuth but is constant in range.\n\nGround range coordinates are the slant range coordinates projected onto the ellipsoid of the Earth. Pixel values represent detected magnitude. Phase information is lost. The resulting product has approximately square spatial resolution and square pixel spacing with reduced speckle due to the multi-look processing.\n\nThe noise vector annotation data set, within the product annotations, contains thermal noise vectors so that users can apply a thermal noise correction by subtracting the noise from the power detected image. The thermal noise correction is, for example, supported by the [Sentinel-1 Toolbox](https://sentinels.copernicus.eu/web/sentinel/toolboxes/sentinel-1) (S1TBX).\n\nFor the IW and EW GRD products, multi-looking is performed on each burst individually. All bursts in all sub-swaths are then seamlessly merged to form a single, contiguous, ground range detected image per polarisation channel.\n\nGRD products are available in three resolutions, characterised by the acquisition mode and the level of multi-looking applied: Full Resolution (FR), High Resolution (HR), Medium Resolution (MR).",
         "extent": {
          "spatial": {
           "bbox": [
            [
             -180,
             -90,
             180,
             90
            ]
           ]
          },
          "temporal": {
           "interval": [
            [
             "2014-10-04T00:58:44Z",
             null
            ]
           ]
          }
         },
         "id": "EO.ESA.DAT.SENTINEL-1.L1_GRD",
         "item_assets": {
          "hh": {
           "description": "Amplitude of signal transmitted with horizontal polarization and received with horizontal polarization with radiometric terrain correction applied.",
           "roles": [
            "data"
           ],
           "title": "HH: horizontal transmit, horizontal receive",
           "type": "image/tiff; application=geotiff; profile=cloud-optimized"
          },
          "hv": {
           "description": "Amplitude of signal transmitted with horizontal polarization and received with vertical polarization with radiometric terrain correction applied.",
           "roles": [
            "data"
           ],
           "title": "HV: horizontal transmit, vertical receive",
           "type": "image/tiff; application=geotiff; profile=cloud-optimized"
          },
          "safe-manifest": {
           "description": "General product metadata in XML format. Contains a high-level textual description of the product and references to all of product's components, the product metadata, including the product identification and the resource references, and references to the physical location of each component file contained in the product.",
           "roles": [
            "metadata"
           ],
           "title": "Manifest File",
           "type": "application/xml"
          },
          "schema-calibration-hh": {
           "description": "Calibration metadata including calibration information and the beta nought, sigma nought, gamma and digital number look-up tables that can be used for absolute product calibration.",
           "roles": [
            "metadata"
           ],
           "title": "Calibration Schema",
           "type": "application/xml"
          },
          "schema-calibration-hv": {
           "description": "Calibration metadata including calibration information and the beta nought, sigma nought, gamma and digital number look-up tables that can be used for absolute product calibration.",
           "roles": [
            "metadata"
           ],
           "title": "Calibration Schema",
           "type": "application/xml"
          },
          "schema-calibration-vh": {
           "description": "Calibration metadata including calibration information and the beta nought, sigma nought, gamma and digital number look-up tables that can be used for absolute product calibration.",
           "roles": [
            "metadata"
           ],
           "title": "Calibration Schema",
           "type": "application/xml"
          },
          "schema-calibration-vv": {
           "description": "Calibration metadata including calibration information and the beta nought, sigma nought, gamma and digital number look-up tables that can be used for absolute product calibration.",
           "roles": [
            "metadata"
           ],
           "title": "Calibration Schema",
           "type": "application/xml"
          },
          "schema-noise-hh": {
           "description": "Estimated thermal noise look-up tables",
           "roles": [
            "metadata"
           ],
           "title": "Noise Schema",
           "type": "application/xml"
          },
          "schema-noise-hv": {
           "description": "Estimated thermal noise look-up tables",
           "roles": [
            "metadata"
           ],
           "title": "Noise Schema",
           "type": "application/xml"
          },
          "schema-noise-vh": {
           "description": "Estimated thermal noise look-up tables",
           "roles": [
            "metadata"
           ],
           "title": "Noise Schema",
           "type": "application/xml"
          },
          "schema-noise-vv": {
           "description": "Estimated thermal noise look-up tables",
           "roles": [
            "metadata"
           ],
           "title": "Noise Schema",
           "type": "application/xml"
          },
          "schema-product-hh": {
           "description": "Describes the main characteristics corresponding to the band: state of the platform during acquisition, image properties, Doppler information, geographic location, etc.",
           "roles": [
            "metadata"
           ],
           "title": "Product Schema",
           "type": "application/xml"
          },
          "schema-product-hv": {
           "description": "Describes the main characteristics corresponding to the band: state of the platform during acquisition, image properties, Doppler information, geographic location, etc.",
           "roles": [
            "metadata"
           ],
           "title": "Product Schema",
           "type": "application/xml"
          },
          "schema-product-vh": {
           "description": "Describes the main characteristics corresponding to the band: state of the platform during acquisition, image properties, Doppler information, geographic location, etc.",
           "roles": [
            "metadata"
           ],
           "title": "Product Schema",
           "type": "application/xml"
          },
          "schema-product-vv": {
           "description": "Describes the main characteristics corresponding to the band: state of the platform during acquisition, image properties, Doppler information, geographic location, etc.",
           "roles": [
            "metadata"
           ],
           "title": "Product Schema",
           "type": "application/xml"
          },
          "thumbnail": {
           "description": "An averaged, decimated preview image in PNG format. Single polarisation products are represented with a grey scale image. Dual polarisation products are represented by a single composite colour image in RGB with the red channel (R) representing the  co-polarisation VV or HH), the green channel (G) represents the cross-polarisation (VH or HV) and the blue channel (B) represents the ratio of the cross an co-polarisations.",
           "roles": [
            "thumbnail"
           ],
           "title": "Preview Image",
           "type": "image/png"
          },
          "vh": {
           "description": "Amplitude of signal transmitted with vertical polarization and received with horizontal polarization with radiometric terrain correction applied.",
           "roles": [
            "data"
           ],
           "title": "VH: vertical transmit, horizontal receive",
           "type": "image/tiff; application=geotiff; profile=cloud-optimized"
          },
          "vv": {
           "description": "Amplitude of signal transmitted with vertical polarization and received with vertical polarization with radiometric terrain correction applied.",
           "roles": [
            "data"
           ],
           "title": "VV: vertical transmit, vertical receive",
           "type": "image/tiff; application=geotiff; profile=cloud-optimized"
          }
         },
         "keywords": [
          "ESA",
          "Copernicus",
          "Sentinel",
          "C-Band",
          "SAR",
          "GRD"
         ],
         "license": "proprietary",
         "links": [
          {
           "href": "https://hda.central.data.destination-earth.eu/stac/collections/EO.ESA.DAT.SENTINEL-1.L1_GRD/items",
           "rel": "items",
           "type": "application/geo+json"
          },
          {
           "href": "https://hda.central.data.destination-earth.eu/stac/",
           "rel": "parent",
           "type": "application/json"
          },
          {
           "href": "https://hda.central.data.destination-earth.eu/stac/",
           "rel": "root",
           "type": "application/json"
          },
          {
           "href": "https://hda.central.data.destination-earth.eu/stac/collections/EO.ESA.DAT.SENTINEL-1.L1_GRD",
           "rel": "self",
           "type": "application/json"
          },
          {
           "href": "https://sentinel.esa.int/documents/247904/690755/Sentinel_Data_Legal_Notice",
           "rel": "license",
           "title": "Copernicus Sentinel data terms"
          },
          {
           "href": "https://eo-apis.csgroup.space/dataset/EO.ESA.DAT.SENTINEL-1.L1_GRD",
           "rel": "describedby",
           "title": "Human readable dataset overview and reference",
           "type": "text/html"
          }
         ],
         "providers": [
          {
           "name": "ESA",
           "roles": [
            "producer",
            "processor",
            "licensor"
           ],
           "url": "https://earth.esa.int"
          },
          {
           "name": "CREODIAS",
           "roles": [
            "host"
           ],
           "url": "https://creodias.eu"
          },
          {
           "name": "DEDL",
           "roles": [
            "host"
           ],
           "url": "https://destination-earth.eu/"
          }
         ],
         "stac_extensions": [
          "https://stac-extensions.github.io/sar/v1.0.0/schema.json",
          "https://stac-extensions.github.io/sat/v1.0.0/schema.json",
          "https://stac-extensions.github.io/item-assets/v1.0.0/schema.json"
         ],
         "stac_version": "1.0.0",
         "storage:platform": "OTHER",
         "storage:region": "LUMI",
         "summaries": {
          "constellation": [
           "Sentinel-1"
          ],
          "platform": [
           "SENTINEL-1A",
           "SENTINEL-1B"
          ],
          "s1:orbit_source": [
           "DOWNLINK",
           "POEORB",
           "PREORB",
           "RESORB"
          ],
          "s1:processing_level": [
           "1"
          ],
          "s1:product_timeliness": [
           "NRT-10m",
           "NRT-1h",
           "NRT-3h",
           "Fast-24h",
           "Off-line",
           "Reprocessing"
          ],
          "s1:resolution": [
           "full",
           "high",
           "medium"
          ],
          "sar:center_frequency": [
           5.405
          ],
          "sar:frequency_band": [
           "C"
          ],
          "sar:instrument_mode": [
           "IW",
           "EW",
           "SM"
          ],
          "sar:looks_azimuth": [
           1,
           6,
           2
          ],
          "sar:looks_equivalent_number": [
           4.4,
           29.7,
           2.7,
           10.7,
           3.7
          ],
          "sar:looks_range": [
           5,
           6,
           3,
           2
          ],
          "sar:observation_direction": [
           "right"
          ],
          "sar:pixel_spacing_azimuth": [
           10,
           25,
           40,
           3.5
          ],
          "sar:pixel_spacing_range": [
           10,
           25,
           40,
           3.5
          ],
          "sar:polarizations": [
           [
            "VV",
            "VH"
           ],
           [
            "HH",
            "HV"
           ],
           [
            "VV"
           ],
           [
            "VH"
           ],
           [
            "HH"
           ],
           [
            "HV"
           ]
          ],
          "sar:product_type": [
           "GRD"
          ],
          "sar:resolution_azimuth": [
           22,
           23,
           50,
           87,
           9
          ],
          "sar:resolution_range": [
           20,
           23,
           50,
           93,
           9
          ],
          "sat:orbit_state": [
           "ascending",
           "descending"
          ],
          "sat:platform_international_designator": [
           "2014-016A",
           "2016-025A",
           "0000-000A"
          ]
         },
         "title": "SENTINEL-1 Level 1 Ground Range Detected (GRD)",
         "type": "Collection"
        },
        {
         "assets": {
          "thumbnail": {
           "href": "https://navigator.eumetsat.int/preview/s3_sral.png",
           "roles": [
            "thumbnail"
           ],
           "title": "Sentinel-3A Sea Level Anomaly (cm)",
           "type": "image/png"
          }
         },
         "description": "SRAL Level 1B: Complex echoes (In-phase (I) and Quadrature (Q)) for the Low Resolution Mode (LRM) and/or Synthetic Aperture Radar (SAR) mode both for C Band and Ku band. When the altimeter is in SAR mode, this product also contains the so-called Pseudo LRM (PLRM) echoes.\n\n- All Sentinel-3 Near Real Time (NRT) products are available at pick-up point in less than 3h.\n- All Sentinel-3 Non Time Critical (NTC) products are available at pick-up point in less than 30 days.\n- All Sentinel-3 Short Time Critical (STC) products are available at pick-up point in less than 48 hours.\nSentinel-3 is part of a series of Sentinel satellites, under the umbrella of the EU Copernicus programme. measurements_parameters: (ECHO_SAR_Ku: SAR MODE 80 Hz, ECHO_PLRM: PSEUDO-LRM MODE 80 Hz).",
         "extent": {
          "spatial": {
           "bbox": [
            [
             -180,
             -90,
             180,
             90
            ]
           ]
          },
          "temporal": {
           "interval": [
            [
             "2016-12-13T00:00:00Z",
             null
            ]
           ]
          }
         },
         "id": "EO.EUM.DAT.SENTINEL-3.SR_1_SRA_A_",
         "item_assets": {
          "thumbnail": {
           "description": "An averaged, decimated preview image in PNG format. Single polarisation products are represented with a grey scale image. Dual polarisation products are represented by a single composite colour image in RGB with the red channel (R) representing the  co-polarisation VV or HH), the green channel (G) represents the cross-polarisation (VH or HV) and the blue channel (B) represents the ratio of the cross an co-polarisations.",
           "roles": [
            "thumbnail"
           ],
           "title": "Preview Image",
           "type": "image/png"
          }
         },
         "keywords": [
          "Level 1 Data",
          "Ocean",
          "Sea Surface Height",
          "Surface Height",
          "disableCustomizeCart",
          "sea wind speed"
         ],
         "license": "proprietary",
         "links": [
          {
           "href": "https://hda.central.data.destination-earth.eu/stac/collections/EO.EUM.DAT.SENTINEL-3.SR_1_SRA_A_/items",
           "rel": "items",
           "type": "application/geo+json"
          },
          {
           "href": "https://hda.central.data.destination-earth.eu/stac/",
           "rel": "parent",
           "type": "application/json"
          },
          {
           "href": "https://hda.central.data.destination-earth.eu/stac/",
           "rel": "root",
           "type": "application/json"
          },
          {
           "href": "https://hda.central.data.destination-earth.eu/stac/collections/EO.EUM.DAT.SENTINEL-3.SR_1_SRA_A_",
           "rel": "self",
           "type": "application/json"
          },
          {
           "href": "https://eo-apis.csgroup.space/dataset/EO.EUM.DAT.SENTINEL-3.SR_1_SRA_A_",
           "rel": "describedby",
           "title": "Human readable dataset overview and reference",
           "type": "text/html"
          }
         ],
         "providers": [
          {
           "name": "EUMETSAT",
           "roles": [
            "producer",
            "processor",
            "licensor"
           ],
           "url": "https://www.eumetsat.int/"
          },
          {
           "name": "CREODIAS",
           "roles": [
            "host"
           ],
           "url": "https://creodias.eu"
          },
          {
           "name": "DEDL",
           "roles": [
            "host"
           ],
           "url": "https://destination-earth.eu/"
          }
         ],
         "stac_extensions": [
          "https://stac-extensions.github.io/eo/v1.1.0/schema.json",
          "https://stac-extensions.github.io/processing/v1.1.0/schema.json",
          "https://stac-extensions.github.io/sar/v1.0.0/schema.json",
          "https://stac-extensions.github.io/sat/v1.0.0/schema.json",
          "https://stac-extensions.github.io/item-assets/v1.0.0/schema.json",
          "https://stac-extensions.github.io/eo/v1.1.0/schema.json"
         ],
         "stac_version": "1.0.0",
         "summaries": {
          "constellation": [
           "Sentinel-3"
          ],
          "instruments": [
           "SRAL (Synthetic Aperture Radar Altimeter)"
          ],
          "platform": [
           "Sentinel-3A",
           "Sentinel-3B"
          ],
          "processing:level": [
           "L1B"
          ],
          "s1:product_timeliness": [
           "NRT-3h",
           "STC-48h",
           "NTC-1m"
          ],
          "sar:center_frequency": [
           5.41,
           13.575
          ],
          "sar:frequency_band": [
           "C",
           "Ku"
          ]
         },
         "title": "SRAL Level 1B - Sentinel-3",
         "type": "Collection"
        },
        {
         "assets": {
          "thumbnail": {
           "href": "https://datastore.copernicus-climate.eu/c3s/published-forms-v2/c3sprod/satellite-sea-level-black-sea/overview.png",
           "roles": [
            "thumbnail"
           ],
           "title": "overview",
           "type": "image/png"
          }
         },
         "dedl:short_description": "Sea level anomaly is the height of water over the mean sea surface in a given time and region. Up-to-date altimeter standards are used to estimate the sea level anomalies with a mapping algorithm dedicated to the Black sea region.",
         "description": "Sea level anomaly is the height of water over the mean sea surface in a given time and region. Up-to-date altimeter standards are used to estimate the sea level anomalies with a mapping algorithm dedicated to the Black sea region. Anomalies are computed with respect to a twenty-year mean reference period (1993-2012).\nThe steady number of reference satellite used in the production of this dataset contributes to the long-term stability of the sea level record. Improvements of the accuracy, sampling of meso-scale processes and of the high-latitude coverage were achieved by using a few additional satellite missions.\nNew data are provided with a delay of about 4-5 months relatively to near-real time or interim sea level products. This delay is mainly due to the timeliness of the input data, the centred processing temporal window and the validation process. However, this processing and validation adds stability and accuracy to the sea level variables and make them adapted to climate applications.\nThis dataset includes uncertainties for each grid cell. More details about the sea level retrieval, additional filters, optimisation procedures, and the error estimation are given in the Documentation section.\n\nVariables in the dataset/application are:\nAbsolute dynamic topography, Absolute geostrophic velocity meridian component, Absolute geostrophic velocity zonal component, Geostrophic velocity anomalies meridian component, Geostrophic velocity anomalies zonal component, Sea level anomaly",
         "extent": {
          "spatial": {
           "bbox": [
            [
             -180,
             -90,
             180,
             90
            ]
           ]
          },
          "temporal": {
           "interval": [
            [
             "1993-01-01T00:00:00Z",
             "2018-11-01T23:59:59Z"
            ]
           ]
          }
         },
         "id": "EO.ECMWF.DAT.SEA_LEVEL_DAILY_GRIDDED_DATA_FOR_BLACK_SEA_1993_PRESENT",
         "keywords": [
          "Oceanographic geographical features",
          "Temporal coverage: Past",
          "Spatial coverage: Europe",
          "Product type: Satellite observations",
          "Variable domain: Ocean (physics)",
          "Provider: Copernicus C3S"
         ],
         "license": "proprietary",
         "links": [
          {
           "href": "https://hda.central.data.destination-earth.eu/stac/collections/EO.ECMWF.DAT.SEA_LEVEL_DAILY_GRIDDED_DATA_FOR_BLACK_SEA_1993_PRESENT/items",
           "rel": "items",
           "type": "application/geo+json"
          },
          {
           "href": "https://hda.central.data.destination-earth.eu/stac/",
           "rel": "parent",
           "type": "application/json"
          },
          {
           "href": "https://hda.central.data.destination-earth.eu/stac/",
           "rel": "root",
           "type": "application/json"
          },
          {
           "href": "https://hda.central.data.destination-earth.eu/stac/collections/EO.ECMWF.DAT.SEA_LEVEL_DAILY_GRIDDED_DATA_FOR_BLACK_SEA_1993_PRESENT",
           "rel": "self",
           "type": "application/json"
          },
          {
           "href": "https://eo-apis.csgroup.space/dataset/EO.ECMWF.DAT.SEA_LEVEL_DAILY_GRIDDED_DATA_FOR_BLACK_SEA_1993_PRESENT",
           "rel": "describedby",
           "title": "Human readable dataset overview and reference",
           "type": "text/html"
          }
         ],
         "providers": [
          {
           "description": "European Centre for Medium-Range Weather Forecasts (ECMWF)",
           "name": "European Centre for Medium-Range Weather Forecasts (ECMWF)",
           "roles": [
            "licensor",
            "producer",
            "processor"
           ],
           "url": "https://www.ecmwf.int/"
          },
          {
           "name": "Copernicus Climate Data Store",
           "roles": [
            "host"
           ],
           "url": "https://cds.climate.copernicus.eu"
          }
         ],
         "stac_version": "1.0.0",
         "title": "Sea level daily gridded data from satellite observations for the Black Sea from 1993 to 2020",
         "type": "Collection"
        },
        {
         "assets": {
          "data": {
           "href": "https://ec.europa.eu/eurostat/api/dissemination/sdmx/2.1/data/demo_r_pjangrp3?format=tsv",
           "roles": [
            "data"
           ],
           "title": "Eurostat demo_r_pjangrp3",
           "type": "text/tab-separated-values"
          },
          "thumbnail": {
           "href": "https://www.publicdomainpictures.net/pictures/140000/velka/group-of-young-people.jpg",
           "media_type": "image/jpeg",
           "roles": [
            "thumbnail"
           ],
           "title": "Eurostat NUTS3"
          }
         },
         "dedl:short_description": "This dataset contains information about the population by sex, age and region of residence (NUTS 3 level).",
         "description": "Each year Eurostat collects demographic data at regional level from 37 countries as part of the Unified Demography (Unidemo) project. UNIDEMO is Eurostat’s main annual demographic data collection and aims to gather information on demography and migration. This dataset contains information about the population by sex, age and region of residence (NUTS 3 level).",
         "extent": {
          "spatial": {
           "bbox": [
            [
             -69.103165,
             -26.018616,
             61.78629,
             80.77476
            ]
           ]
          },
          "temporal": {
           "interval": [
            [
             "2014-01-01T00:00:00Z",
             "2021-12-31T23:59:59Z"
            ]
           ]
          }
         },
         "id": "STAT.EUSTAT.DAT.POP_AGE_GROUP_SEX_NUTS3",
         "keywords": [
          "Eurostat",
          "Population",
          "Age",
          "Sex",
          "NUTS 3",
          "Unidemo",
          "Demographic"
         ],
         "license": "proprietary",
         "links": [
          {
           "href": "https://hda.central.data.destination-earth.eu/stac/collections/STAT.EUSTAT.DAT.POP_AGE_GROUP_SEX_NUTS3/items",
           "rel": "items",
           "type": "application/geo+json"
          },
          {
           "href": "https://hda.central.data.destination-earth.eu/stac/",
           "rel": "parent",
           "type": "application/json"
          },
          {
           "href": "https://hda.central.data.destination-earth.eu/stac/",
           "rel": "root",
           "type": "application/json"
          },
          {
           "href": "https://hda.central.data.destination-earth.eu/stac/collections/STAT.EUSTAT.DAT.POP_AGE_GROUP_SEX_NUTS3",
           "rel": "self",
           "type": "application/json"
          },
          {
           "href": "https://ec.europa.eu/eurostat/about-us/policies/copyright",
           "rel": "license",
           "title": "Eurostat - Copyright notice and free re-use of data"
          },
          {
           "href": "https://eo-apis.csgroup.space/dataset/STAT.EUSTAT.DAT.POP_AGE_GROUP_SEX_NUTS3",
           "rel": "describedby",
           "title": "Human readable dataset overview and reference",
           "type": "text/html"
          }
         ],
         "providers": [
          {
           "name": "Eurostat",
           "roles": [
            "producer",
            "licensor"
           ],
           "url": "https://ec.europa.eu/eurostat"
          },
          {
           "name": "DEDL",
           "roles": [
            "host",
            "processor"
           ],
           "url": "https://destination-earth.eu/"
          }
         ],
         "stac_version": "1.0.0",
         "summaries": {
          "age": [
           "TOTAL",
           "UNK",
           "Y_GE85",
           "Y_GE90",
           "Y_LT5",
           "Y_5-9",
           "Y_10-14",
           "Y_15-19",
           "Y_20-24",
           "Y_25-29",
           "Y_30-34",
           "Y_35-39",
           "Y_40-44",
           "Y_45-49",
           "Y_50-54",
           "Y_55-59",
           "Y_60-64",
           "Y_65-69",
           "Y_70-74",
           "Y_75-79",
           "Y_80-84",
           "Y_85-89"
          ],
          "geo\\time": [
           "AL",
           "AL0",
           "AL01",
           "AL011",
           "AL012",
           "AL013",
           "AL014",
           "AL015",
           "AL02",
           "AL021",
           "AL022",
           "AL03",
           "AL031",
           "AL032",
           "AL033",
           "AL034",
           "AL035",
           "ALX",
           "ALXX",
           "ALXXX",
           "AT",
           "AT1",
           "AT11",
           "AT111",
           "AT112",
           "AT113",
           "AT12",
           "AT121",
           "AT122",
           "AT123",
           "AT124",
           "AT125",
           "AT126",
           "AT127",
           "AT13",
           "AT130",
           "AT2",
           "AT21",
           "AT211",
           "AT212",
           "AT213",
           "AT22",
           "AT221",
           "AT222",
           "AT223",
           "AT224",
           "AT225",
           "AT226",
           "AT3",
           "AT31",
           "AT311",
           "AT312",
           "AT313",
           "AT314",
           "AT315",
           "AT32",
           "AT321",
           "AT322",
           "AT323",
           "AT33",
           "AT331",
           "AT332",
           "AT333",
           "AT334",
           "AT335",
           "AT34",
           "AT341",
           "AT342",
           "BE",
           "BE1",
           "BE10",
           "BE100",
           "BE2",
           "BE21",
           "BE211",
           "BE212",
           "BE213",
           "BE22",
           "BE221",
           "BE222",
           "BE223",
           "BE224",
           "BE225",
           "BE23",
           "BE231",
           "BE232",
           "BE233",
           "BE234",
           "BE235",
           "BE236",
           "BE24",
           "BE241",
           "BE242",
           "BE25",
           "BE251",
           "BE252",
           "BE253",
           "BE254",
           "BE255",
           "BE256",
           "BE257",
           "BE258",
           "BE3",
           "BE31",
           "BE310",
           "BE32",
           "BE321",
           "BE322",
           "BE323",
           "BE324",
           "BE325",
           "BE326",
           "BE327",
           "BE328",
           "BE329",
           "BE32A",
           "BE32B",
           "BE32C",
           "BE32D",
           "BE33",
           "BE331",
           "BE332",
           "BE334",
           "BE335",
           "BE336",
           "BE34",
           "BE341",
           "BE342",
           "BE343",
           "BE344",
           "BE345",
           "BE35",
           "BE351",
           "BE352",
           "BE353",
           "BG",
           "BG3",
           "BG31",
           "BG311",
           "BG312",
           "BG313",
           "BG314",
           "BG315",
           "BG32",
           "BG321",
           "BG322",
           "BG323",
           "BG324",
           "BG325",
           "BG33",
           "BG331",
           "BG332",
           "BG333",
           "BG334",
           "BG34",
           "BG341",
           "BG342",
           "BG343",
           "BG344",
           "BG4",
           "BG41",
           "BG411",
           "BG412",
           "BG413",
           "BG414",
           "BG415",
           "BG42",
           "BG421",
           "BG422",
           "BG423",
           "BG424",
           "BG425",
           "CH",
           "CH0",
           "CH01",
           "CH011",
           "CH012",
           "CH013",
           "CH02",
           "CH021",
           "CH022",
           "CH023",
           "CH024",
           "CH025",
           "CH03",
           "CH031",
           "CH032",
           "CH033",
           "CH04",
           "CH040",
           "CH05",
           "CH051",
           "CH052",
           "CH053",
           "CH054",
           "CH055",
           "CH056",
           "CH057",
           "CH06",
           "CH061",
           "CH062",
           "CH063",
           "CH064",
           "CH065",
           "CH066",
           "CH07",
           "CH070",
           "CY",
           "CY0",
           "CY00",
           "CY000",
           "CZ",
           "CZ0",
           "CZ01",
           "CZ010",
           "CZ02",
           "CZ020",
           "CZ03",
           "CZ031",
           "CZ032",
           "CZ04",
           "CZ041",
           "CZ042",
           "CZ05",
           "CZ051",
           "CZ052",
           "CZ053",
           "CZ06",
           "CZ063",
           "CZ064",
           "CZ07",
           "CZ071",
           "CZ072",
           "CZ08",
           "CZ080",
           "DE",
           "DE1",
           "DE11",
           "DE111",
           "DE112",
           "DE113",
           "DE114",
           "DE115",
           "DE116",
           "DE117",
           "DE118",
           "DE119",
           "DE11A",
           "DE11B",
           "DE11C",
           "DE11D",
           "DE12",
           "DE121",
           "DE122",
           "DE123",
           "DE124",
           "DE125",
           "DE126",
           "DE127",
           "DE128",
           "DE129",
           "DE12A",
           "DE12B",
           "DE12C",
           "DE13",
           "DE131",
           "DE132",
           "DE133",
           "DE134",
           "DE135",
           "DE136",
           "DE137",
           "DE138",
           "DE139",
           "DE13A",
           "DE14",
           "DE141",
           "DE142",
           "DE143",
           "DE144",
           "DE145",
           "DE146",
           "DE147",
           "DE148",
           "DE149",
           "DE2",
           "DE21",
           "DE211",
           "DE212",
           "DE213",
           "DE214",
           "DE215",
           "DE216",
           "DE217",
           "DE218",
           "DE219",
           "DE21A",
           "DE21B",
           "DE21C",
           "DE21D",
           "DE21E",
           "DE21F",
           "DE21G",
           "DE21H",
           "DE21I",
           "DE21J",
           "DE21K",
           "DE21L",
           "DE21M",
           "DE21N",
           "DE22",
           "DE221",
           "DE222",
           "DE223",
           "DE224",
           "DE225",
           "DE226",
           "DE227",
           "DE228",
           "DE229",
           "DE22A",
           "DE22B",
           "DE22C",
           "DE23",
           "DE231",
           "DE232",
           "DE233",
           "DE234",
           "DE235",
           "DE236",
           "DE237",
           "DE238",
           "DE239",
           "DE23A",
           "DE24",
           "DE241",
           "DE242",
           "DE243",
           "DE244",
           "DE245",
           "DE246",
           "DE247",
           "DE248",
           "DE249",
           "DE24A",
           "DE24B",
           "DE24C",
           "DE24D",
           "DE25",
           "DE251",
           "DE252",
           "DE253",
           "DE254",
           "DE255",
           "DE256",
           "DE257",
           "DE258",
           "DE259",
           "DE25A",
           "DE25B",
           "DE25C",
           "DE26",
           "DE261",
           "DE262",
           "DE263",
           "DE264",
           "DE265",
           "DE266",
           "DE267",
           "DE268",
           "DE269",
           "DE26A",
           "DE26B",
           "DE26C",
           "DE27",
           "DE271",
           "DE272",
           "DE273",
           "DE274",
           "DE275",
           "DE276",
           "DE277",
           "DE278",
           "DE279",
           "DE27A",
           "DE27B",
           "DE27C",
           "DE27D",
           "DE27E",
           "DE3",
           "DE30",
           "DE300",
           "DE4",
           "DE40",
           "DE401",
           "DE402",
           "DE403",
           "DE404",
           "DE405",
           "DE406",
           "DE407",
           "DE408",
           "DE409",
           "DE40A",
           "DE40B",
           "DE40C",
           "DE40D",
           "DE40E",
           "DE40F",
           "DE40G",
           "DE40H",
           "DE40I",
           "DE5",
           "DE50",
           "DE501",
           "DE502",
           "DE6",
           "DE60",
           "DE600",
           "DE7",
           "DE71",
           "DE711",
           "DE712",
           "DE713",
           "DE714",
           "DE715",
           "DE716",
           "DE717",
           "DE718",
           "DE719",
           "DE71A",
           "DE71B",
           "DE71C",
           "DE71D",
           "DE71E",
           "DE72",
           "DE721",
           "DE722",
           "DE723",
           "DE724",
           "DE725",
           "DE73",
           "DE731",
           "DE732",
           "DE733",
           "DE734",
           "DE735",
           "DE736",
           "DE737",
           "DE8",
           "DE80",
           "DE803",
           "DE804",
           "DE80J",
           "DE80K",
           "DE80L",
           "DE80M",
           "DE80N",
           "DE80O",
           "DE9",
           "DE91",
           "DE911",
           "DE912",
           "DE913",
           "DE914",
           "DE916",
           "DE917",
           "DE918",
           "DE91A",
           "DE91B",
           "DE91C",
           "DE92",
           "DE922",
           "DE923",
           "DE925",
           "DE926",
           "DE927",
           "DE928",
           "DE929",
           "DE93",
           "DE931",
           "DE932",
           "DE933",
           "DE934",
           "DE935",
           "DE936",
           "DE937",
           "DE938",
           "DE939",
           "DE93A",
           "DE93B",
           "DE94",
           "DE941",
           "DE942",
           "DE943",
           "DE944",
           "DE945",
           "DE946",
           "DE947",
           "DE948",
           "DE949",
           "DE94A",
           "DE94B",
           "DE94C",
           "DE94D",
           "DE94E",
           "DE94F",
           "DE94G",
           "DE94H",
           "DEA",
           "DEA1",
           "DEA11",
           "DEA12",
           "DEA13",
           "DEA14",
           "DEA15",
           "DEA16",
           "DEA17",
           "DEA18",
           "DEA19",
           "DEA1A",
           "DEA1B",
           "DEA1C",
           "DEA1D",
           "DEA1E",
           "DEA1F",
           "DEA2",
           "DEA22",
           "DEA23",
           "DEA24",
           "DEA26",
           "DEA27",
           "DEA28",
           "DEA29",
           "DEA2A",
           "DEA2B",
           "DEA2C",
           "DEA2D",
           "DEA3",
           "DEA31",
           "DEA32",
           "DEA33",
           "DEA34",
           "DEA35",
           "DEA36",
           "DEA37",
           "DEA38",
           "DEA4",
           "DEA41",
           "DEA42",
           "DEA43",
           "DEA44",
           "DEA45",
           "DEA46",
           "DEA47",
           "DEA5",
           "DEA51",
           "DEA52",
           "DEA53",
           "DEA54",
           "DEA55",
           "DEA56",
           "DEA57",
           "DEA58",
           "DEA59",
           "DEA5A",
           "DEA5B",
           "DEA5C",
           "DEB",
           "DEB1",
           "DEB11",
           "DEB12",
           "DEB13",
           "DEB14",
           "DEB15",
           "DEB17",
           "DEB18",
           "DEB1A",
           "DEB1B",
           "DEB1C",
           "DEB1D",
           "DEB2",
           "DEB21",
           "DEB22",
           "DEB23",
           "DEB24",
           "DEB25",
           "DEB3",
           "DEB31",
           "DEB32",
           "DEB33",
           "DEB34",
           "DEB35",
           "DEB36",
           "DEB37",
           "DEB38",
           "DEB39",
           "DEB3A",
           "DEB3B",
           "DEB3C",
           "DEB3D",
           "DEB3E",
           "DEB3F",
           "DEB3G",
           "DEB3H",
           "DEB3I",
           "DEB3J",
           "DEB3K",
           "DEC",
           "DEC0",
           "DEC01",
           "DEC02",
           "DEC03",
           "DEC04",
           "DEC05",
           "DEC06",
           "DED",
           "DED2",
           "DED21",
           "DED2C",
           "DED2D",
           "DED2E",
           "DED2F",
           "DED4",
           "DED41",
           "DED42",
           "DED43",
           "DED44",
           "DED45",
           "DED5",
           "DED51",
           "DED52",
           "DED53",
           "DEE",
           "DEE0",
           "DEE01",
           "DEE02",
           "DEE03",
           "DEE04",
           "DEE05",
           "DEE06",
           "DEE07",
           "DEE08",
           "DEE09",
           "DEE0A",
           "DEE0B",
           "DEE0C",
           "DEE0D",
           "DEE0E",
           "DEF",
           "DEF0",
           "DEF01",
           "DEF02",
           "DEF03",
           "DEF04",
           "DEF05",
           "DEF06",
           "DEF07",
           "DEF08",
           "DEF09",
           "DEF0A",
           "DEF0B",
           "DEF0C",
           "DEF0D",
           "DEF0E",
           "DEF0F",
           "DEG",
           "DEG0",
           "DEG01",
           "DEG02",
           "DEG03",
           "DEG04",
           "DEG05",
           "DEG06",
           "DEG07",
           "DEG09",
           "DEG0A",
           "DEG0B",
           "DEG0C",
           "DEG0D",
           "DEG0E",
           "DEG0F",
           "DEG0G",
           "DEG0H",
           "DEG0I",
           "DEG0J",
           "DEG0K",
           "DEG0L",
           "DEG0M",
           "DEG0N",
           "DEG0P",
           "DK",
           "DK0",
           "DK01",
           "DK011",
           "DK012",
           "DK013",
           "DK014",
           "DK02",
           "DK021",
           "DK022",
           "DK03",
           "DK031",
           "DK032",
           "DK04",
           "DK041",
           "DK042",
           "DK05",
           "DK050",
           "EE",
           "EE0",
           "EE00",
           "EE001",
           "EE004",
           "EE006",
           "EE007",
           "EE008",
           "EE009",
           "EE00A",
           "EFTA",
           "EL",
           "EL3",
           "EL30",
           "EL301",
           "EL302",
           "EL303",
           "EL304",
           "EL305",
           "EL306",
           "EL307",
           "EL4",
           "EL41",
           "EL411",
           "EL412",
           "EL413",
           "EL42",
           "EL421",
           "EL422",
           "EL43",
           "EL431",
           "EL432",
           "EL433",
           "EL434",
           "EL5",
           "EL51",
           "EL511",
           "EL512",
           "EL513",
           "EL514",
           "EL515",
           "EL52",
           "EL521",
           "EL522",
           "EL523",
           "EL524",
           "EL525",
           "EL526",
           "EL527",
           "EL53",
           "EL531",
           "EL532",
           "EL533",
           "EL54",
           "EL541",
           "EL542",
           "EL543",
           "EL6",
           "EL61",
           "EL611",
           "EL612",
           "EL613",
           "EL62",
           "EL621",
           "EL622",
           "EL623",
           "EL624",
           "EL63",
           "EL631",
           "EL632",
           "EL633",
           "EL64",
           "EL641",
           "EL642",
           "EL643",
           "EL644",
           "EL645",
           "EL65",
           "EL651",
           "EL652",
           "EL653",
           "ES",
           "ES1",
           "ES11",
           "ES111",
           "ES112",
           "ES113",
           "ES114",
           "ES12",
           "ES120",
           "ES13",
           "ES130",
           "ES2",
           "ES21",
           "ES211",
           "ES212",
           "ES213",
           "ES22",
           "ES220",
           "ES23",
           "ES230",
           "ES24",
           "ES241",
           "ES242",
           "ES243",
           "ES3",
           "ES30",
           "ES300",
           "ES4",
           "ES41",
           "ES411",
           "ES412",
           "ES413",
           "ES414",
           "ES415",
           "ES416",
           "ES417",
           "ES418",
           "ES419",
           "ES42",
           "ES421",
           "ES422",
           "ES423",
           "ES424",
           "ES425",
           "ES43",
           "ES431",
           "ES432",
           "ES5",
           "ES51",
           "ES511",
           "ES512",
           "ES513",
           "ES514",
           "ES52",
           "ES521",
           "ES522",
           "ES523",
           "ES53",
           "ES531",
           "ES532",
           "ES533",
           "ES6",
           "ES61",
           "ES611",
           "ES612",
           "ES613",
           "ES614",
           "ES615",
           "ES616",
           "ES617",
           "ES618",
           "ES62",
           "ES620",
           "ES63",
           "ES630",
           "ES64",
           "ES640",
           "ES7",
           "ES70",
           "ES703",
           "ES704",
           "ES705",
           "ES706",
           "ES707",
           "ES708",
           "ES709",
           "EU27_2007",
           "EU27_2020",
           "EU28",
           "FI",
           "FI1",
           "FI19",
           "FI193",
           "FI194",
           "FI195",
           "FI196",
           "FI197",
           "FI1B",
           "FI1B1",
           "FI1C",
           "FI1C1",
           "FI1C2",
           "FI1C3",
           "FI1C4",
           "FI1C5",
           "FI1D",
           "FI1D1",
           "FI1D2",
           "FI1D3",
           "FI1D5",
           "FI1D7",
           "FI1D8",
           "FI1D9",
           "FI2",
           "FI20",
           "FI200",
           "FR",
           "FR1",
           "FR10",
           "FR101",
           "FR102",
           "FR103",
           "FR104",
           "FR105",
           "FR106",
           "FR107",
           "FR108",
           "FRB",
           "FRB0",
           "FRB01",
           "FRB02",
           "FRB03",
           "FRB04",
           "FRB05",
           "FRB06",
           "FRC",
           "FRC1",
           "FRC11",
           "FRC12",
           "FRC13",
           "FRC14",
           "FRC2",
           "FRC21",
           "FRC22",
           "FRC23",
           "FRC24",
           "FRD",
           "FRD1",
           "FRD11",
           "FRD12",
           "FRD13",
           "FRD2",
           "FRD21",
           "FRD22",
           "FRE",
           "FRE1",
           "FRE11",
           "FRE12",
           "FRE2",
           "FRE21",
           "FRE22",
           "FRE23",
           "FRF",
           "FRF1",
           "FRF11",
           "FRF12",
           "FRF2",
           "FRF21",
           "FRF22",
           "FRF23",
           "FRF24",
           "FRF3",
           "FRF31",
           "FRF32",
           "FRF33",
           "FRF34",
           "FRG",
           "FRG0",
           "FRG01",
           "FRG02",
           "FRG03",
           "FRG04",
           "FRG05",
           "FRH",
           "FRH0",
           "FRH01",
           "FRH02",
           "FRH03",
           "FRH04",
           "FRI",
           "FRI1",
           "FRI11",
           "FRI12",
           "FRI13",
           "FRI14",
           "FRI15",
           "FRI2",
           "FRI21",
           "FRI22",
           "FRI23",
           "FRI3",
           "FRI31",
           "FRI32",
           "FRI33",
           "FRI34",
           "FRJ",
           "FRJ1",
           "FRJ11",
           "FRJ12",
           "FRJ13",
           "FRJ14",
           "FRJ15",
           "FRJ2",
           "FRJ21",
           "FRJ22",
           "FRJ23",
           "FRJ24",
           "FRJ25",
           "FRJ26",
           "FRJ27",
           "FRJ28",
           "FRK",
           "FRK1",
           "FRK11",
           "FRK12",
           "FRK13",
           "FRK14",
           "FRK2",
           "FRK21",
           "FRK22",
           "FRK23",
           "FRK24",
           "FRK25",
           "FRK26",
           "FRK27",
           "FRK28",
           "FRL",
           "FRL0",
           "FRL01",
           "FRL02",
           "FRL03",
           "FRL04",
           "FRL05",
           "FRL06",
           "FRM",
           "FRM0",
           "FRM01",
           "FRM02",
           "FRX",
           "FRXX",
           "FRXXX",
           "FRY",
           "FRY1",
           "FRY10",
           "FRY2",
           "FRY20",
           "FRY3",
           "FRY30",
           "FRY4",
           "FRY40",
           "FRY5",
           "FRY50",
           "HR",
           "HR0",
           "HR02",
           "HR021",
           "HR022",
           "HR023",
           "HR024",
           "HR025",
           "HR026",
           "HR027",
           "HR028",
           "HR03",
           "HR031",
           "HR032",
           "HR033",
           "HR034",
           "HR035",
           "HR036",
           "HR037",
           "HR04",
           "HR041",
           "HR042",
           "HR043",
           "HR044",
           "HR045",
           "HR046",
           "HR047",
           "HR048",
           "HR049",
           "HR04A",
           "HR04B",
           "HR04C",
           "HR04D",
           "HR04E",
           "HR05",
           "HR050",
           "HR06",
           "HR061",
           "HR062",
           "HR063",
           "HR064",
           "HR065",
           "HU",
           "HU1",
           "HU11",
           "HU110",
           "HU12",
           "HU120",
           "HU2",
           "HU21",
           "HU211",
           "HU212",
           "HU213",
           "HU22",
           "HU221",
           "HU222",
           "HU223",
           "HU23",
           "HU231",
           "HU232",
           "HU233",
           "HU3",
           "HU31",
           "HU311",
           "HU312",
           "HU313",
           "HU32",
           "HU321",
           "HU322",
           "HU323",
           "HU33",
           "HU331",
           "HU332",
           "HU333",
           "HUX",
           "HUXX",
           "HUXXX",
           "IE",
           "IE0",
           "IE04",
           "IE041",
           "IE042",
           "IE05",
           "IE051",
           "IE052",
           "IE053",
           "IE06",
           "IE061",
           "IE062",
           "IE063",
           "IS",
           "IS0",
           "IS00",
           "IS001",
           "IS002",
           "IT",
           "ITC",
           "ITC1",
           "ITC11",
           "ITC12",
           "ITC13",
           "ITC14",
           "ITC15",
           "ITC16",
           "ITC17",
           "ITC18",
           "ITC2",
           "ITC20",
           "ITC3",
           "ITC31",
           "ITC32",
           "ITC33",
           "ITC34",
           "ITC4",
           "ITC41",
           "ITC42",
           "ITC43",
           "ITC44",
           "ITC46",
           "ITC47",
           "ITC48",
           "ITC49",
           "ITC4A",
           "ITC4B",
           "ITC4C",
           "ITC4D",
           "ITF",
           "ITF1",
           "ITF11",
           "ITF12",
           "ITF13",
           "ITF14",
           "ITF2",
           "ITF21",
           "ITF22",
           "ITF3",
           "ITF31",
           "ITF32",
           "ITF33",
           "ITF34",
           "ITF35",
           "ITF4",
           "ITF43",
           "ITF44",
           "ITF45",
           "ITF46",
           "ITF47",
           "ITF48",
           "ITF5",
           "ITF51",
           "ITF52",
           "ITF6",
           "ITF61",
           "ITF62",
           "ITF63",
           "ITF64",
           "ITF65",
           "ITG",
           "ITG1",
           "ITG11",
           "ITG12",
           "ITG13",
           "ITG14",
           "ITG15",
           "ITG16",
           "ITG17",
           "ITG18",
           "ITG19",
           "ITG2",
           "ITG25",
           "ITG26",
           "ITG27",
           "ITG28",
           "ITG29",
           "ITG2A",
           "ITG2B",
           "ITG2C",
           "ITG2D",
           "ITG2E",
           "ITG2F",
           "ITG2G",
           "ITG2H",
           "ITH",
           "ITH1",
           "ITH10",
           "ITH2",
           "ITH20",
           "ITH3",
           "ITH31",
           "ITH32",
           "ITH33",
           "ITH34",
           "ITH35",
           "ITH36",
           "ITH37",
           "ITH4",
           "ITH41",
           "ITH42",
           "ITH43",
           "ITH44",
           "ITH5",
           "ITH51",
           "ITH52",
           "ITH53",
           "ITH54",
           "ITH55",
           "ITH56",
           "ITH57",
           "ITH58",
           "ITH59",
           "ITI",
           "ITI1",
           "ITI11",
           "ITI12",
           "ITI13",
           "ITI14",
           "ITI15",
           "ITI16",
           "ITI17",
           "ITI18",
           "ITI19",
           "ITI1A",
           "ITI2",
           "ITI21",
           "ITI22",
           "ITI3",
           "ITI31",
           "ITI32",
           "ITI33",
           "ITI34",
           "ITI35",
           "ITI4",
           "ITI41",
           "ITI42",
           "ITI43",
           "ITI44",
           "ITI45",
           "LI",
           "LI0",
           "LI00",
           "LI000",
           "LT",
           "LT0",
           "LT01",
           "LT011",
           "LT02",
           "LT021",
           "LT022",
           "LT023",
           "LT024",
           "LT025",
           "LT026",
           "LT027",
           "LT028",
           "LT029",
           "LU",
           "LU0",
           "LU00",
           "LU000",
           "LV",
           "LV0",
           "LV00",
           "LV003",
           "LV005",
           "LV006",
           "LV007",
           "LV008",
           "LV009",
           "ME",
           "ME0",
           "ME00",
           "ME000",
           "MK",
           "MK0",
           "MK00",
           "MK001",
           "MK002",
           "MK003",
           "MK004",
           "MK005",
           "MK006",
           "MK007",
           "MK008",
           "MKX",
           "MKXX",
           "MKXXX",
           "MT",
           "MT0",
           "MT00",
           "MT001",
           "MT002",
           "NL",
           "NL1",
           "NL11",
           "NL111",
           "NL112",
           "NL113",
           "NL12",
           "NL124",
           "NL125",
           "NL126",
           "NL13",
           "NL131",
           "NL132",
           "NL133",
           "NL2",
           "NL21",
           "NL211",
           "NL212",
           "NL213",
           "NL22",
           "NL221",
           "NL224",
           "NL225",
           "NL226",
           "NL23",
           "NL230",
           "NL3",
           "NL31",
           "NL310",
           "NL32",
           "NL321",
           "NL323",
           "NL324",
           "NL325",
           "NL327",
           "NL328",
           "NL329",
           "NL33",
           "NL332",
           "NL333",
           "NL337",
           "NL33A",
           "NL33B",
           "NL33C",
           "NL34",
           "NL341",
           "NL342",
           "NL4",
           "NL41",
           "NL411",
           "NL412",
           "NL413",
           "NL414",
           "NL42",
           "NL421",
           "NL422",
           "NL423",
           "NO",
           "NO0",
           "NO01",
           "NO011",
           "NO012",
           "NO02",
           "NO020",
           "NO021",
           "NO022",
           "NO03",
           "NO031",
           "NO032",
           "NO033",
           "NO034",
           "NO04",
           "NO041",
           "NO042",
           "NO043",
           "NO05",
           "NO051",
           "NO052",
           "NO053",
           "NO06",
           "NO060",
           "NO061",
           "NO062",
           "NO07",
           "NO071",
           "NO072",
           "NO073",
           "NO074",
           "NO08",
           "NO081",
           "NO082",
           "NO09",
           "NO091",
           "NO092",
           "NO0A",
           "NO0A1",
           "NO0A2",
           "NO0A3",
           "PL",
           "PL2",
           "PL21",
           "PL213",
           "PL214",
           "PL217",
           "PL218",
           "PL219",
           "PL21A",
           "PL22",
           "PL224",
           "PL225",
           "PL227",
           "PL228",
           "PL229",
           "PL22A",
           "PL22B",
           "PL22C",
           "PL4",
           "PL41",
           "PL411",
           "PL414",
           "PL415",
           "PL416",
           "PL417",
           "PL418",
           "PL42",
           "PL424",
           "PL426",
           "PL427",
           "PL428",
           "PL43",
           "PL431",
           "PL432",
           "PL5",
           "PL51",
           "PL514",
           "PL515",
           "PL516",
           "PL517",
           "PL518",
           "PL52",
           "PL523",
           "PL524",
           "PL6",
           "PL61",
           "PL613",
           "PL616",
           "PL617",
           "PL618",
           "PL619",
           "PL62",
           "PL621",
           "PL622",
           "PL623",
           "PL63",
           "PL633",
           "PL634",
           "PL636",
           "PL637",
           "PL638",
           "PL7",
           "PL71",
           "PL711",
           "PL712",
           "PL713",
           "PL714",
           "PL715",
           "PL72",
           "PL721",
           "PL722",
           "PL8",
           "PL81",
           "PL811",
           "PL812",
           "PL814",
           "PL815",
           "PL82",
           "PL821",
           "PL822",
           "PL823",
           "PL824",
           "PL84",
           "PL841",
           "PL842",
           "PL843",
           "PL9",
           "PL91",
           "PL911",
           "PL912",
           "PL913",
           "PL92",
           "PL921",
           "PL922",
           "PL923",
           "PL924",
           "PL925",
           "PL926",
           "PT",
           "PT1",
           "PT11",
           "PT111",
           "PT112",
           "PT119",
           "PT11A",
           "PT11B",
           "PT11C",
           "PT11D",
           "PT11E",
           "PT15",
           "PT150",
           "PT16",
           "PT16B",
           "PT16D",
           "PT16E",
           "PT16F",
           "PT16G",
           "PT16H",
           "PT16I",
           "PT16J",
           "PT17",
           "PT170",
           "PT18",
           "PT181",
           "PT184",
           "PT185",
           "PT186",
           "PT187",
           "PT2",
           "PT20",
           "PT200",
           "PT3",
           "PT30",
           "PT300",
           "RO",
           "RO1",
           "RO11",
           "RO111",
           "RO112",
           "RO113",
           "RO114",
           "RO115",
           "RO116",
           "RO12",
           "RO121",
           "RO122",
           "RO123",
           "RO124",
           "RO125",
           "RO126",
           "RO2",
           "RO21",
           "RO211",
           "RO212",
           "RO213",
           "RO214",
           "RO215",
           "RO216",
           "RO22",
           "RO221",
           "RO222",
           "RO223",
           "RO224",
           "RO225",
           "RO226",
           "RO3",
           "RO31",
           "RO311",
           "RO312",
           "RO313",
           "RO314",
           "RO315",
           "RO316",
           "RO317",
           "RO32",
           "RO321",
           "RO322",
           "RO4",
           "RO41",
           "RO411",
           "RO412",
           "RO413",
           "RO414",
           "RO415",
           "RO42",
           "RO421",
           "RO422",
           "RO423",
           "RO424",
           "RS",
           "RS1",
           "RS11",
           "RS110",
           "RS12",
           "RS121",
           "RS122",
           "RS123",
           "RS124",
           "RS125",
           "RS126",
           "RS127",
           "RS2",
           "RS21",
           "RS211",
           "RS212",
           "RS213",
           "RS214",
           "RS215",
           "RS216",
           "RS217",
           "RS218",
           "RS22",
           "RS221",
           "RS222",
           "RS223",
           "RS224",
           "RS225",
           "RS226",
           "RS227",
           "RS228",
           "RS229",
           "SE",
           "SE1",
           "SE11",
           "SE110",
           "SE12",
           "SE121",
           "SE122",
           "SE123",
           "SE124",
           "SE125",
           "SE2",
           "SE21",
           "SE211",
           "SE212",
           "SE213",
           "SE214",
           "SE22",
           "SE221",
           "SE224",
           "SE23",
           "SE231",
           "SE232",
           "SE3",
           "SE31",
           "SE311",
           "SE312",
           "SE313",
           "SE32",
           "SE321",
           "SE322",
           "SE33",
           "SE331",
           "SE332",
           "SI",
           "SI0",
           "SI03",
           "SI031",
           "SI032",
           "SI033",
           "SI034",
           "SI035",
           "SI036",
           "SI037",
           "SI038",
           "SI04",
           "SI041",
           "SI042",
           "SI043",
           "SI044",
           "SK",
           "SK0",
           "SK01",
           "SK010",
           "SK02",
           "SK021",
           "SK022",
           "SK023",
           "SK03",
           "SK031",
           "SK032",
           "SK04",
           "SK041",
           "SK042",
           "TR",
           "TR1",
           "TR10",
           "TR100",
           "TR2",
           "TR21",
           "TR211",
           "TR212",
           "TR213",
           "TR22",
           "TR221",
           "TR222",
           "TR3",
           "TR31",
           "TR310",
           "TR32",
           "TR321",
           "TR322",
           "TR323",
           "TR33",
           "TR331",
           "TR332",
           "TR333",
           "TR334",
           "TR4",
           "TR41",
           "TR411",
           "TR412",
           "TR413",
           "TR42",
           "TR421",
           "TR422",
           "TR423",
           "TR424",
           "TR425",
           "TR5",
           "TR51",
           "TR510",
           "TR52",
           "TR521",
           "TR522",
           "TR6",
           "TR61",
           "TR611",
           "TR612",
           "TR613",
           "TR62",
           "TR621",
           "TR622",
           "TR63",
           "TR631",
           "TR632",
           "TR633",
           "TR7",
           "TR71",
           "TR711",
           "TR712",
           "TR713",
           "TR714",
           "TR715",
           "TR72",
           "TR721",
           "TR722",
           "TR723",
           "TR8",
           "TR81",
           "TR811",
           "TR812",
           "TR813",
           "TR82",
           "TR821",
           "TR822",
           "TR823",
           "TR83",
           "TR831",
           "TR832",
           "TR833",
           "TR834",
           "TR9",
           "TR90",
           "TR901",
           "TR902",
           "TR903",
           "TR904",
           "TR905",
           "TR906",
           "TRA",
           "TRA1",
           "TRA11",
           "TRA12",
           "TRA13",
           "TRA2",
           "TRA21",
           "TRA22",
           "TRA23",
           "TRA24",
           "TRB",
           "TRB1",
           "TRB11",
           "TRB12",
           "TRB13",
           "TRB14",
           "TRB2",
           "TRB21",
           "TRB22",
           "TRB23",
           "TRB24",
           "TRC",
           "TRC1",
           "TRC11",
           "TRC12",
           "TRC13",
           "TRC2",
           "TRC21",
           "TRC22",
           "TRC3",
           "TRC31",
           "TRC32",
           "TRC33",
           "TRC34",
           "UK",
           "UKC",
           "UKC1",
           "UKC11",
           "UKC12",
           "UKC13",
           "UKC14",
           "UKC2",
           "UKC21",
           "UKC22",
           "UKC23",
           "UKD",
           "UKD1",
           "UKD11",
           "UKD12",
           "UKD3",
           "UKD33",
           "UKD34",
           "UKD35",
           "UKD36",
           "UKD37",
           "UKD4",
           "UKD41",
           "UKD42",
           "UKD44",
           "UKD45",
           "UKD46",
           "UKD47",
           "UKD6",
           "UKD61",
           "UKD62",
           "UKD63",
           "UKD7",
           "UKD71",
           "UKD72",
           "UKD73",
           "UKD74",
           "UKE",
           "UKE1",
           "UKE11",
           "UKE12",
           "UKE13",
           "UKE2",
           "UKE21",
           "UKE22",
           "UKE3",
           "UKE31",
           "UKE32",
           "UKE4",
           "UKE41",
           "UKE42",
           "UKE44",
           "UKE45",
           "UKF",
           "UKF1",
           "UKF11",
           "UKF12",
           "UKF13",
           "UKF14",
           "UKF15",
           "UKF16",
           "UKF2",
           "UKF21",
           "UKF22",
           "UKF24",
           "UKF25",
           "UKF3",
           "UKF30",
           "UKG",
           "UKG1",
           "UKG11",
           "UKG12",
           "UKG13",
           "UKG2",
           "UKG21",
           "UKG22",
           "UKG23",
           "UKG24",
           "UKG3",
           "UKG31",
           "UKG32",
           "UKG33",
           "UKG36",
           "UKG37",
           "UKG38",
           "UKG39",
           "UKH",
           "UKH1",
           "UKH11",
           "UKH12",
           "UKH14",
           "UKH15",
           "UKH16",
           "UKH17",
           "UKH2",
           "UKH21",
           "UKH23",
           "UKH24",
           "UKH25",
           "UKH3",
           "UKH31",
           "UKH32",
           "UKH34",
           "UKH35",
           "UKH36",
           "UKH37",
           "UKI",
           "UKI3",
           "UKI31",
           "UKI32",
           "UKI33",
           "UKI34",
           "UKI4",
           "UKI41",
           "UKI42",
           "UKI43",
           "UKI44",
           "UKI45",
           "UKI5",
           "UKI51",
           "UKI52",
           "UKI53",
           "UKI54",
           "UKI6",
           "UKI61",
           "UKI62",
           "UKI63",
           "UKI7",
           "UKI71",
           "UKI72",
           "UKI73",
           "UKI74",
           "UKI75",
           "UKJ",
           "UKJ1",
           "UKJ11",
           "UKJ12",
           "UKJ13",
           "UKJ14",
           "UKJ2",
           "UKJ21",
           "UKJ22",
           "UKJ25",
           "UKJ26",
           "UKJ27",
           "UKJ28",
           "UKJ3",
           "UKJ31",
           "UKJ32",
           "UKJ34",
           "UKJ35",
           "UKJ36",
           "UKJ37",
           "UKJ4",
           "UKJ41",
           "UKJ43",
           "UKJ44",
           "UKJ45",
           "UKJ46",
           "UKK",
           "UKK1",
           "UKK11",
           "UKK12",
           "UKK13",
           "UKK14",
           "UKK15",
           "UKK2",
           "UKK21",
           "UKK22",
           "UKK23",
           "UKK3",
           "UKK30",
           "UKK4",
           "UKK41",
           "UKK42",
           "UKK43",
           "UKL",
           "UKL1",
           "UKL11",
           "UKL12",
           "UKL13",
           "UKL14",
           "UKL15",
           "UKL16",
           "UKL17",
           "UKL18",
           "UKL2",
           "UKL21",
           "UKL22",
           "UKL23",
           "UKL24",
           "UKM",
           "UKM5",
           "UKM50",
           "UKM6",
           "UKM61",
           "UKM62",
           "UKM63",
           "UKM64",
           "UKM65",
           "UKM66",
           "UKM7",
           "UKM71",
           "UKM72",
           "UKM73",
           "UKM75",
           "UKM76",
           "UKM77",
           "UKM78",
           "UKM8",
           "UKM81",
           "UKM82",
           "UKM83",
           "UKM84",
           "UKM9",
           "UKM91",
           "UKM92",
           "UKM93",
           "UKM94",
           "UKM95",
           "UKN",
           "UKN0",
           "UKN06",
           "UKN07",
           "UKN08",
           "UKN09",
           "UKN10",
           "UKN11",
           "UKN12",
           "UKN13",
           "UKN14",
           "UKN15",
           "UKN16"
          ],
          "sex": [
           "F",
           "M",
           "T"
          ],
          "unit": [
           "NR"
          ]
         },
         "title": "Population on 1 January by age, sex and NUTS 3 region",
         "type": "Collection"
        },
        {
         "assets": {
          "thumbnail": {
           "href": "https://datastore.copernicus-climate.eu/c3s/published-forms-v2/c3sprod/sis-hydrology-meteorology-derived-projections/overview.jpg",
           "roles": [
            "thumbnail"
           ],
           "title": "overview",
           "type": "image/jpeg"
          }
         },
         "dedl:short_description": "This dataset provides precipitation and near surface air temperature for Europe as Essential Climate Variables (ECVs) and as a set of Climate Impact Indicators (CIIs) based on the ECVs.",
         "description": "This dataset provides precipitation and near surface air temperature for Europe as Essential Climate Variables (ECVs) and as a set of Climate Impact Indicators (CIIs) based on the ECVs. \nECV datasets provide the empirical evidence needed to understand the current climate and predict future changes. \nCIIs contain condensed climate information which facilitate relatively quick and efficient subsequent analysis. Therefore, CIIs make climate information accessible to application focussed users within a sector.\nThe ECVs and CIIs provided here were derived within the water management sectoral information service to address questions specific to the water sector. However, the products are provided in a generic form and are relevant for a range of sectors, for example agriculture and energy. The data represent the current state-of-the-art in Europe for regional climate modelling and indicator production. Data from eight model simulations included in the Coordinated Regional Climate Downscaling Experiment (CORDEX) were used to calculate a total of two ECVs and five CIIs at a spatial resolution of 0.11° x 0.11° and 5km x 5km. The ECV data meet the technical specification set by the Global Climate Observing System (GCOS), as such they are provided on a daily time step. They are bias adjusted using the EFAS gridded observations as a reference dataset. Note these are model output data, not observation data as is the general case for ECVs. The CIIs are provided as mean values over a 30-year time period. For the reference period (1971-2000) data is provided as absolute values, for the future periods the data is provided as absolute values and as the relative or absolute change from the reference period. The future periods cover 3 fixed time periods (2011-2040, 2041-2070 and 2071-2100) and 3 \"degree scenario\" periods defined by when global warming exceeds a given threshold (1.5 °C, 2.0 °C or 3.0 °C). The global warming is calculated from the global climate model (GCM) used, therefore the actual time period of the degree scenarios will be different for each GCM. This dataset is produced and quality assured by the Swedish Meteorological and Hydrological Institute on behalf of the Copernicus Climate Change Service.\n\nMain Variables:[['Name'\t'Full_Name'\t'ShortName'\t'Units'\t'Description'\t'url']\n ['2m air temperature'\tnan\tnan\tnan\n  'The ambient air temperature close to the surface. The essential climate variable (ECV) data originate from EURO-CORDEX RCM simulations and are bias adjusted using the EFAS-Meteo reference dataset The climate impact indicator (CII) of 2m air temperature is defined as the monthly/annual mean of the daily mean 2m air temperature, averaged over a 30 year period. For future periods the indicator is given as an absolute change against the reference period (1971-2000).'\n  nan]\n ['Highest 5-day precipitation amount'\tnan\tnan\tnan\n  'Highest five-day precipitation amount is defined as the maximum of 5-day precipitation totals. The value is given as a maximum over a 30 year period. For future periods the indicator is given as a relative change against the reference period (1971-2000).'\n  nan]\n ['Longest dry spells'\tnan\tnan\tnan\n  'Longest dry spells is defined as the maximum number of consecutive dry days (dry day: daily precipitation < 1mm) over a 30 year period.  For future periods the indicator is given as a relative change against the reference period (1971-2000).'\n  nan]\n ['Number of dry spells'\tnan\tnan\tnan\n  'Number of dry spells is defined as the number of dry periods (dry day: daily precipitation < 1mm) of more than 5 days for a 30 year period.  For future periods the indicator is given as a relative change against the reference period (1971-2000).'\n  nan]\n ['Precipitation'\t'Precipitation'\t'prec'\t'kg.m⁻²'\n  'Precipitation is defined as the deposition of water to the Earth\"s surface in the form of rain, snow, ice or hail. The essential climate variable (ECV) data is given as the mass of water per unit area and time. The data originate from EURO-CORDEX RCM simulations and are bias adjusted using the EFAS-Meteo reference dataset The climate impact indicator (CII) of precipitation is defined as the monthly/annual mean of the liquid water equivalent daily precipitation, averaged over a 30 year period. For future periods the indicator is given as a relative change against the reference period (1971-2000).'\n  'https://codes.ecmwf.int/grib/param-db/?id=260138']]\n\nData type: Gridded\nProjection: Lambert azimuthal equal area and rotated grid\nHorizontal coverage: Europe\nHorizontal resolution: 5km x 5km and 0.11° x 0.11°\nVertical coverage: Single level\nVertical resolution: Surface\nTemporal coverage: from 1971 to 2100\nTemporal resolution: Annual, monthly and daily\nFile format: NetCDF-4\nConventions: Climate and Forecast (CF) Metadata Convention v.1.6, Attribute Convention for Dataset Discovery (ACDD) v1.3\nVersions: 1.0\nUpdate frequency: No updates expected",
         "extent": {
          "spatial": {
           "bbox": [
            [
             -180,
             -90,
             180,
             90
            ]
           ]
          },
          "temporal": {
           "interval": [
            [
             "1970-01-01T00:00:00Z",
             null
            ]
           ]
          }
         },
         "id": "EO.ECMWF.DAT.SIS_HYDROLOGY_METEOROLOGY_DERIVED_PROJECTIONS",
         "keywords": [
          "Meteorological geographical features",
          "Temporal coverage: Past",
          "Temporal coverage: Present",
          "Temporal coverage: Future",
          "Spatial coverage: Europe",
          "Product type: Climate projections",
          "Variable domain: Atmosphere (hydrology)",
          "Provider: Copernicus C3S",
          "Sector: Water management"
         ],
         "license": "proprietary",
         "links": [
          {
           "href": "https://hda.central.data.destination-earth.eu/stac/collections/EO.ECMWF.DAT.SIS_HYDROLOGY_METEOROLOGY_DERIVED_PROJECTIONS/items",
           "rel": "items",
           "type": "application/geo+json"
          },
          {
           "href": "https://hda.central.data.destination-earth.eu/stac/",
           "rel": "parent",
           "type": "application/json"
          },
          {
           "href": "https://hda.central.data.destination-earth.eu/stac/",
           "rel": "root",
           "type": "application/json"
          },
          {
           "href": "https://hda.central.data.destination-earth.eu/stac/collections/EO.ECMWF.DAT.SIS_HYDROLOGY_METEOROLOGY_DERIVED_PROJECTIONS",
           "rel": "self",
           "type": "application/json"
          },
          {
           "href": "https://cds.climate.copernicus.eu/api/v2/terms/static/licence-to-use-copernicus-products.pdf",
           "rel": "license",
           "title": "Licence to Use Copernicus Products"
          },
          {
           "href": "https://cds.climate.copernicus.eu/cdsapp#!/dataset/10.24381/cds.9eed87d5",
           "rel": "describedby",
           "title": "Documentation"
          },
          {
           "href": "https://confluence.ecmwf.int/x/gqDmE",
           "rel": "describedby",
           "title": "Documentation"
          },
          {
           "href": "https://confluence.ecmwf.int/x/MaHmE",
           "rel": "describedby",
           "title": "Documentation"
          },
          {
           "href": "https://cds.climate.copernicus.eu:443//geonetwork/srv/eng/xml.metadata.get?uuid=eu.copernicus.climate.sis-hydrology-meteorology-derived-projections",
           "rel": "describedby",
           "title": "Description"
          },
          {
           "href": "https://cds.climate.copernicus.eu:443//geonetwork?uuid=eu.copernicus.climate.sis-hydrology-meteorology-derived-projections",
           "rel": "describedby",
           "title": "Description"
          },
          {
           "href": "https://eo-apis.csgroup.space/dataset/EO.ECMWF.DAT.SIS_HYDROLOGY_METEOROLOGY_DERIVED_PROJECTIONS",
           "rel": "describedby",
           "title": "Human readable dataset overview and reference",
           "type": "text/html"
          }
         ],
         "providers": [
          {
           "description": "European Centre for Medium-Range Weather Forecasts (ECMWF)",
           "name": "European Centre for Medium-Range Weather Forecasts (ECMWF)",
           "roles": [
            "licensor",
            "producer",
            "processor"
           ],
           "url": "https://www.ecmwf.int/"
          },
          {
           "name": "Copernicus Climate Data Store",
           "roles": [
            "host"
           ],
           "url": "https://cds.climate.copernicus.eu"
          }
         ],
         "stac_version": "1.0.0",
         "title": "Temperature and precipitation climate impact indicators from 1970 to 2100 derived from European climate projections",
         "type": "Collection"
        },
        {
         "assets": {
          "thumbnail": {
           "href": "https://navigator.eumetsat.int/preview/20170617_sst_slstra_mar-l2p-v1.0__daytime_nrt_ref.png",
           "roles": [
            "thumbnail"
           ],
           "title": "Sea Surface Skin Temperature 27 Jun 2017 - Sentinel-3A/SLSTR WST nr [REF] - day time - no cut-off'",
           "type": "image/png"
          }
         },
         "dedl:short_description": "SLSTR SST has a spatial resolution of 1km at nadir. Skin Sea Surface Temperature following the GHRSST L2P GDS2 format specification, see https://www.ghrsst.org/ .",
         "description": "SLSTR SST has a spatial resolution of 1km at nadir. Skin Sea Surface Temperature following the GHRSST L2P GDS2 format specification, see https://www.ghrsst.org/ .\n\n- All Sentinel-3 NRT products are available at pick-up point in less than 3h\n- All Sentinel-3 Non Time Critical (NTC) products are available at pick-up point in less than 30 days.\nSentinel-3 is part of a series of Sentinel satellites, under the umbrella of the EU Copernicus programme.",
         "extent": {
          "spatial": {
           "bbox": [
            [
             -180,
             -90,
             180,
             90
            ]
           ]
          },
          "temporal": {
           "interval": [
            [
             "2017-07-05T00:00:00Z",
             null
            ]
           ]
          }
         },
         "id": "EO.EUM.DAT.SENTINEL-3.SL_2_WST___",
         "item_assets": {
          "thumbnail": {
           "description": "An averaged, decimated preview image in PNG format. Single polarisation products are represented with a grey scale image. Dual polarisation products are represented by a single composite colour image in RGB with the red channel (R) representing the  co-polarisation VV or HH), the green channel (G) represents the cross-polarisation (VH or HV) and the blue channel (B) represents the ratio of the cross an co-polarisations.",
           "roles": [
            "thumbnail"
           ],
           "title": "Preview Image",
           "type": "image/png"
          }
         },
         "keywords": [
          "Ocean",
          "Sea Surface Temperature",
          "Level 2 Data"
         ],
         "license": "proprietary",
         "links": [
          {
           "href": "https://hda.central.data.destination-earth.eu/stac/collections/EO.EUM.DAT.SENTINEL-3.SL_2_WST___/items",
           "rel": "items",
           "type": "application/geo+json"
          },
          {
           "href": "https://hda.central.data.destination-earth.eu/stac/",
           "rel": "parent",
           "type": "application/json"
          },
          {
           "href": "https://hda.central.data.destination-earth.eu/stac/",
           "rel": "root",
           "type": "application/json"
          },
          {
           "href": "https://hda.central.data.destination-earth.eu/stac/collections/EO.EUM.DAT.SENTINEL-3.SL_2_WST___",
           "rel": "self",
           "type": "application/json"
          },
          {
           "href": "https://eo-apis.csgroup.space/dataset/EO.EUM.DAT.SENTINEL-3.SL_2_WST___",
           "rel": "describedby",
           "title": "Human readable dataset overview and reference",
           "type": "text/html"
          }
         ],
         "providers": [
          {
           "name": "EUMETSAT",
           "roles": [
            "producer",
            "processor",
            "licensor"
           ],
           "url": "https://www.eumetsat.int/"
          },
          {
           "name": "CREODIAS",
           "roles": [
            "host"
           ],
           "url": "https://creodias.eu"
          },
          {
           "name": "DEDL",
           "roles": [
            "host"
           ],
           "url": "https://destination-earth.eu/"
          }
         ],
         "stac_extensions": [
          "https://stac-extensions.github.io/eo/v1.1.0/schema.json",
          "https://stac-extensions.github.io/processing/v1.1.0/schema.json",
          "https://stac-extensions.github.io/item-assets/v1.0.0/schema.json"
         ],
         "stac_version": "1.0.0",
         "summaries": {
          "constellation": [
           "Sentinel-3"
          ],
          "eo:bands": [
           {
            "Centre Wavelength": "554.27 nm",
            "description": ">Cloud screening, vegetation monitoring, aerosol - VNIR - Solar Reflectance Bands - resolution: 500m",
            "name": "S1"
           },
           {
            "Centre Wavelength": "659.47 nm",
            "description": "NDVI, vegetation monitoring, aerosol - VNIR - Solar Reflectance Bands - resolution: 500m",
            "name": "S2"
           },
           {
            "Centre Wavelength": "868.00 nm",
            "description": "NDVI, cloud flagging,Pixel co-registration - VNIR - Solar Reflectance Bands - resolution: 500m",
            "name": "S3"
           },
           {
            "Centre Wavelength": "1374.80 nm",
            "description": "Cirrus detection over land - SWIR - Solar Reflectance Bands - resolution: 500m",
            "name": "S4"
           },
           {
            "Centre Wavelength": "1613.40 nm",
            "description": "loud clearing, ice, snow,vegetation monitoring - SWIR - Solar Reflectance Bands - resolution: 500m",
            "name": "S5"
           },
           {
            "Centre Wavelength": "2255.70 nm",
            "description": "Vegetation state and cloud clearing - SWIR - Solar Reflectance Bands - resolution: 500m",
            "name": "S6"
           },
           {
            "Centre Wavelength": "3742.00 nm",
            "description": "SST, LST, Active fire - Thermal IR Ambient bands (200 K -320 K) - resolution: 1000m",
            "name": "S7"
           },
           {
            "Centre Wavelength": "10854.00 nm",
            "description": "SST, LST, Active fire - Thermal IR Ambient bands (200 K -320 K) - resolution: 1000m",
            "name": "S8"
           },
           {
            "Centre Wavelength": "12022.50 nm",
            "description": "SST, LST - Thermal IR Ambient bands (200 K -320 K) - resolution: 1000m",
            "name": "S9"
           },
           {
            "Centre Wavelength": "3742.00 nm",
            "description": "Active fire - Thermal IR fire emission bands - resolution: 1000m",
            "name": "F1"
           },
           {
            "Centre Wavelength": "10854.00 nm",
            "description": "Active fire - Thermal IR fire emission bands - resolution: 1000m",
            "name": "F2"
           }
          ],
          "instruments": [
           "SLSTR (Sea and Land Surface Temperature Radiometer)"
          ],
          "platform": [
           "SENTINEL-3A",
           "SENTINEL-3B"
          ],
          "processing:level": [
           "L2P"
          ],
          "s1:product_timeliness": [
           "NRT-3h",
           "STC-48h",
           "NTC-1m"
          ]
         },
         "title": "SLSTR Level 2 Sea Surface Temperature (SST) - Sentinel-3",
         "type": "Collection"
        },
        {
         "assets": {
          "thumbnail": {
           "href": "https://datastore.copernicus-climate.eu/c3s/published-forms-v2/c3sprod/satellite-sea-level-mediterranean/overview.png",
           "roles": [
            "thumbnail"
           ],
           "title": "overview",
           "type": "image/png"
          }
         },
         "dedl:short_description": "Sea level anomaly is the height of water over the mean sea surface in a given time and region.",
         "description": "Sea level anomaly is the height of water over the mean sea surface in a given time and region. In this dataset sea level anomalies are computed with respect to a twenty-year mean reference period (1993-2012). Up-to-date altimeter standards are used to estimate the sea level anomalies with a mapping algorithm specifically dedicated to the Mediterranean Sea.\nThe steady number of reference satellite used in the production of this dataset contributes to the long-term stability of the sea level record. Improvements of the accuracy, sampling of meso-scale processes and of the high-latitude coverage were achieved by using a few additional satellite missions.\nThis dataset includes uncertainties for each grid cell. More details about the sea level retrieval, additional filters, optimisation procedures, and the error estimation are given in the Documentation section.",
         "extent": {
          "spatial": {
           "bbox": [
            [
             -180,
             -90,
             180,
             90
            ]
           ]
          },
          "temporal": {
           "interval": [
            [
             "1993-01-01T00:00:00Z",
             "2018-11-01T23:59:59Z"
            ]
           ]
          }
         },
         "id": "EO.ECMWF.DAT.SEA_LEVEL_DAILY_GRIDDED_DATA_FOR_MEDITERRANEAN_SEA_1993_PRESENT",
         "keywords": [
          "Oceanographic geographical features",
          "Temporal coverage: Past",
          "Spatial coverage: Europe",
          "Product type: Satellite observations",
          "Variable domain: Ocean (physics)",
          "Provider: Copernicus C3S"
         ],
         "license": "proprietary",
         "links": [
          {
           "href": "https://hda.central.data.destination-earth.eu/stac/collections/EO.ECMWF.DAT.SEA_LEVEL_DAILY_GRIDDED_DATA_FOR_MEDITERRANEAN_SEA_1993_PRESENT/items",
           "rel": "items",
           "type": "application/geo+json"
          },
          {
           "href": "https://hda.central.data.destination-earth.eu/stac/",
           "rel": "parent",
           "type": "application/json"
          },
          {
           "href": "https://hda.central.data.destination-earth.eu/stac/",
           "rel": "root",
           "type": "application/json"
          },
          {
           "href": "https://hda.central.data.destination-earth.eu/stac/collections/EO.ECMWF.DAT.SEA_LEVEL_DAILY_GRIDDED_DATA_FOR_MEDITERRANEAN_SEA_1993_PRESENT",
           "rel": "self",
           "type": "application/json"
          },
          {
           "href": "https://eo-apis.csgroup.space/dataset/EO.ECMWF.DAT.SEA_LEVEL_DAILY_GRIDDED_DATA_FOR_MEDITERRANEAN_SEA_1993_PRESENT",
           "rel": "describedby",
           "title": "Human readable dataset overview and reference",
           "type": "text/html"
          }
         ],
         "providers": [
          {
           "description": "European Centre for Medium-Range Weather Forecasts (ECMWF)",
           "name": "European Centre for Medium-Range Weather Forecasts (ECMWF)",
           "roles": [
            "licensor",
            "producer",
            "processor"
           ],
           "url": "https://www.ecmwf.int/"
          },
          {
           "name": "Copernicus Climate Data Store",
           "roles": [
            "host"
           ],
           "url": "https://cds.climate.copernicus.eu"
          }
         ],
         "stac_version": "1.0.0",
         "title": "Sea level daily gridded data from satellite observations for the Mediterranean Sea from 1993 to 2020",
         "type": "Collection"
        },
        {
         "assets": {
          "thumbnail": {
           "href": "https://sentinels.copernicus.eu/documents/247904/3681412/Sentinel-2-Level-1C-Level-2A-TOA-full.png",
           "roles": [
            "thumbnail"
           ],
           "title": "TOA Level-1C image data (left) and associated Level-2A surface reflectance image data (right) generated using Sen2Cor processor",
           "type": "image/png"
          }
         },
         "description": "The Sentinel-2 mission is a land monitoring constellation of two satellites that provide high resolution optical imagery and provide continuity for the current SPOT and Landsat missions. The mission provides a global coverage of the Earth's land surface every 10 days with one satellite and 5 days with 2 satellites, making the data of great use in on-going studies. The satellites are equipped with the state-of-the-art MSI (Multispectral Imager) instrument, that offers high-resolution optical imagery. Products are a compilation of elementary granules of fixed size, within a single orbit. A granule is the minimum indivisible partition of a product (containing all possible spectral bands).\nFor Level-1C and Level-2A, the granules, also called tiles, are 100x100km2 ortho-images in UTM/WGS84 projection. The UTM (Universal Transverse Mercator) system divides the Earth's surface into 60 zones. Each UTM zone has a vertical width of 6° of longitude and horizontal width of 8° of latitude. (see Figure 1). Tiles are approximately 600 MB in size. Tiles can be fully or partially covered by image data. Partially covered tiles correspond to those at the edge of the swath. Level-2A: Surface reflectances in cartographic geometry. This product is considered as the mission Analysis Ready Data (ARD), the product that can be used directly in downstream applications without the need for further processing. The Level-2A product contains: Bottom-Of-Atmosphere (BOA) reflectance orthoimage, Aerosol Optical Thickness (AOT) map, Water Vapour (WV) map, Scene Classification map and Quality Indicators data.",
         "extent": {
          "spatial": {
           "bbox": [
            [
             -180,
             -90,
             180,
             90
            ]
           ]
          },
          "temporal": {
           "interval": [
            [
             "2015-06-23T00:00:00Z",
             null
            ]
           ]
          }
         },
         "id": "EO.ESA.DAT.SENTINEL-2.MSI.L2A",
         "item_assets": {
          "thumbnail": {
           "description": "An averaged, decimated preview image in PNG format. Single polarisation products are represented with a grey scale image. Dual polarisation products are represented by a single composite colour image in RGB with the red channel (R) representing the  co-polarisation VV or HH), the green channel (G) represents the cross-polarisation (VH or HV) and the blue channel (B) represents the ratio of the cross an co-polarisations.",
           "roles": [
            "thumbnail"
           ],
           "title": "Preview Image",
           "type": "image/png"
          }
         },
         "keywords": [
          "land",
          "land cover",
          "Crop monitoring",
          "leaf area index",
          "chlorophyll",
          "Coastal zone monitoring",
          "Inland water monitoring",
          "Glacier monitoring",
          "ice extent mapping",
          "snow cover monitoring",
          "Flood mapping",
          "lava flow mapping",
          "Burned area monitoring",
          "Level 2 Data",
          "ESA",
          "Copernicus",
          "Sentinel",
          "MSI"
         ],
         "license": "proprietary",
         "links": [
          {
           "href": "https://hda.central.data.destination-earth.eu/stac/collections/EO.ESA.DAT.SENTINEL-2.MSI.L2A/items",
           "rel": "items",
           "type": "application/geo+json"
          },
          {
           "href": "https://hda.central.data.destination-earth.eu/stac/",
           "rel": "parent",
           "type": "application/json"
          },
          {
           "href": "https://hda.central.data.destination-earth.eu/stac/",
           "rel": "root",
           "type": "application/json"
          },
          {
           "href": "https://hda.central.data.destination-earth.eu/stac/collections/EO.ESA.DAT.SENTINEL-2.MSI.L2A",
           "rel": "self",
           "type": "application/json"
          },
          {
           "href": "https://eo-apis.csgroup.space/dataset/EO.ESA.DAT.SENTINEL-2.MSI.L2A",
           "rel": "describedby",
           "title": "Human readable dataset overview and reference",
           "type": "text/html"
          }
         ],
         "providers": [
          {
           "name": "ESA",
           "roles": [
            "producer",
            "processor",
            "licensor"
           ],
           "url": "https://earth.esa.int"
          },
          {
           "name": "CREODIAS",
           "roles": [
            "host"
           ],
           "url": "https://creodias.eu"
          },
          {
           "name": "DEDL",
           "roles": [
            "host"
           ],
           "url": "https://destination-earth.eu/"
          }
         ],
         "stac_extensions": [
          "https://stac-extensions.github.io/eo/v1.1.0/schema.json",
          "https://stac-extensions.github.io/processing/v1.1.0/schema.json",
          "https://stac-extensions.github.io/sar/v1.0.0/schema.json",
          "https://stac-extensions.github.io/sat/v1.0.0/schema.json",
          "https://stac-extensions.github.io/item-assets/v1.0.0/schema.json",
          "https://stac-extensions.github.io/eo/v1.1.0/schema.json"
         ],
         "stac_version": "1.0.0",
         "summaries": {
          "constellation": [
           "Sentinel-2"
          ],
          "eo:bands": [
           {
            "center_wavelength": "442.7 (S2B:442.2)",
            "common_name": "coastal",
            "description": "Coastal aerosol",
            "name": "B01"
           },
           {
            "center_wavelength": "492.4 (S2B:492.1)",
            "common_name": "blue",
            "description": "visible blue",
            "name": "B02"
           },
           {
            "center_wavelength": "559.8 (S2B:559.0)",
            "common_name": "green",
            "description": "visible green",
            "name": "B03"
           },
           {
            "center_wavelength": "664.6",
            "common_name": "red",
            "description": "visible red",
            "name": "B04"
           },
           {
            "center_wavelength": "704.1 (S2B:703.8)",
            "common_name": "rededge",
            "description": "Vegetation red edge",
            "name": "B05"
           },
           {
            "center_wavelength": "740.5 (S2B:739.1)",
            "common_name": "rededge",
            "description": "Vegetation red edge",
            "name": "B06"
           },
           {
            "center_wavelength": "782.8 (S2B:779.7)",
            "common_name": "rededge",
            "description": "Vegetation red edge",
            "name": "B07"
           },
           {
            "center_wavelength": "832.8 (S2B:832.9)",
            "common_name": "nir",
            "description": "near infrared",
            "name": "B08"
           },
           {
            "center_wavelength": "864.7 (S2B:864.0)",
            "common_name": "nir08",
            "description": "narrow nir infrared",
            "name": "B8A"
           },
           {
            "center_wavelength": "945.1 (S2B:943.2)",
            "description": "water vapour",
            "name": "B09"
           },
           {
            "center_wavelength": "1373.5 (S2B:1376.9)",
            "common_name": "cirrus",
            "description": "short-wave infrared cirrus",
            "name": "B10"
           },
           {
            "center_wavelength": "1613.7 (S2B:1610.4)",
            "common_name": "swir16",
            "description": "short-wave infrared",
            "name": "B11"
           },
           {
            "center_wavelength": "2202.4 (S2B: 2185.7)",
            "common_name": "swir22",
            "description": "short-wave infrared",
            "name": "B12"
           }
          ],
          "instruments": [
           "msi"
          ],
          "platform": [
           "Sentinel-2A",
           "Sentinel-2B"
          ],
          "processing:level": [
           "L2B"
          ],
          "s1:product_timeliness": [
           "NRT-8h",
           "Off-line"
          ]
         },
         "title": "Sentinel 2 MSI Level 2-A",
         "type": "Collection"
        },
        {
         "assets": {
          "thumbnail": {
           "href": "https://datastore.copernicus-climate.eu/c3s/published-forms-v2/c3sprod/efas-seasonal-reforecast/overview.png",
           "roles": [
            "thumbnail"
           ],
           "title": "overview",
           "type": "image/png"
          }
         },
         "dedl:short_description": "This dataset provides modelled daily hydrological time series forced with seasonal meteorological reforecasts.",
         "description": "This dataset provides modelled daily hydrological time series forced with seasonal meteorological reforecasts. The dataset is a consistent representation of the most important hydrological variables across the European Flood Awareness (EFAS) domain. The temporal resolution is daily forecasts initialised once a month over the reforecast period 1991-2020 of:\n\nRiver discharge\nSoil moisture for three soil layers\nSnow water equivalent\n\nIt also provides static data on soil depth for the three soil layers. Soil moisture and river discharge data are accompanied by ancillary files for interpretation (see related variables and links in the documentation).\nThis dataset was produced by forcing the LISFLOOD hydrological model at a 5x5km gridded resolution with seasonal meteorological ensemble reforecasts. Reforecasts are forecasts run over past dates and are typically used to assess the skill of a forecast system or to develop tools for statistical error correction of the forecasts. The reforecasts are initialised on the first of each month with a lead time of 215 days at 24-hour time steps. The forcing meteorological data are seasonal reforecasts from the European Centre of Medium-range Weather Forecasts (ECMWF), consisting of 25 ensemble members up until December 2016, and after that 51 members. Hydrometeorological reforecasts are available from 1991-01-01 up until 2020-10-01.\nCompanion datasets, also available through the Climate Data Store (CDS), are seasonal forecasts, for which the seasonal reforecasts can be useful for local skill assessment and post-processing of the seasonal forecasts. For users looking for shorter time ranges there are medium-range forecasts and reforecasts, as well as historical simulations which can be used to derive the hydrological climatology. For users looking for global hydrological data, we refer to the Global Flood Awareness System (GloFAS) forecasts and historical simulations. All these datasets are part of the operational flood forecasting within the Copernicus Emergency Management Service (CEMS).\n\nVariables in the dataset/application are:\nRiver discharge in the last 24 hours, Snow depth water equivalent, Soil depth, Volumetric soil moisture\n\nVariables in the dataset/application are:\nOrography, Upstream area",
         "extent": {
          "spatial": {
           "bbox": [
            [
             -180,
             -90,
             180,
             90
            ]
           ]
          },
          "temporal": {
           "interval": [
            [
             "1999-01-01T00:00:00Z",
             null
            ]
           ]
          }
         },
         "id": "EO.ECMWF.DAT.EFAS_SEASONAL_REFORECAST",
         "keywords": [
          "Reforecast",
          "Product type: Seasonal reforecasts",
          "Spatial coverage: Europe",
          "Variable domain: Land (hydrology)",
          "Temporal coverage: Present",
          "Provider: Copernicus CEMS"
         ],
         "license": "proprietary",
         "links": [
          {
           "href": "https://hda.central.data.destination-earth.eu/stac/collections/EO.ECMWF.DAT.EFAS_SEASONAL_REFORECAST/items",
           "rel": "items",
           "type": "application/geo+json"
          },
          {
           "href": "https://hda.central.data.destination-earth.eu/stac/",
           "rel": "parent",
           "type": "application/json"
          },
          {
           "href": "https://hda.central.data.destination-earth.eu/stac/",
           "rel": "root",
           "type": "application/json"
          },
          {
           "href": "https://hda.central.data.destination-earth.eu/stac/collections/EO.ECMWF.DAT.EFAS_SEASONAL_REFORECAST",
           "rel": "self",
           "type": "application/json"
          },
          {
           "href": "https://eo-apis.csgroup.space/dataset/EO.ECMWF.DAT.EFAS_SEASONAL_REFORECAST",
           "rel": "describedby",
           "title": "Human readable dataset overview and reference",
           "type": "text/html"
          }
         ],
         "providers": [
          {
           "description": "European Centre for Medium-Range Weather Forecasts (ECMWF)",
           "name": "European Centre for Medium-Range Weather Forecasts (ECMWF)",
           "roles": [
            "licensor",
            "producer",
            "processor"
           ],
           "url": "https://www.ecmwf.int/"
          },
          {
           "name": "Copernicus Climate Data Store",
           "roles": [
            "host"
           ],
           "url": "https://cds.climate.copernicus.eu"
          }
         ],
         "stac_version": "1.0.0",
         "title": "Seasonal reforecasts of river discharge and related data by the European Flood Awareness System",
         "type": "Collection"
        },
        {
         "assets": {
          "thumbnail": {
           "href": "https://datastore.copernicus-climate.eu/c3s/published-forms-v2/c3sprod/efas-seasonal/overview.png",
           "roles": [
            "thumbnail"
           ],
           "title": "overview",
           "type": "image/png"
          }
         },
         "dedl:short_description": "This dataset provides gridded modelled daily hydrological time series forced with seasonal meteorological forecasts.",
         "description": "This dataset provides gridded modelled daily hydrological time series forced with seasonal meteorological forecasts. The dataset is a consistent representation of the most important hydrological variables across the European Flood Awareness (EFAS) domain. The temporal resolution is daily forecasts initialised once a month consisting of:\n\nRiver discharge\nSoil moisture for three soil layers\nSnow water equivalent\n\nIt also provides static data on soil depth for the three soil layers. Soil moisture and river discharge data are accompanied by ancillary files for interpretation (see related variables and links in the documentation).\nThis dataset was produced by forcing the LISFLOOD hydrological model at a 5x5km resolution with seasonal meteorological ensemble forecasts. The forecasts are initialised on the first of each month with a lead time of 215 days at 24-hour time steps. The meteorological data are seasonal forecasts (SEAS5) from the European Centre of Medium-range Weather Forecasts (ECMWF) with 51 ensemble members. The forecasts are available from November 2020.\nCompanion datasets, also available through the Climate Data Store (CDS), are seasonal reforecasts for research, local skill assessment and post-processing of the seasonal forecasts. There are also medium-range forecasts for users who want to look at shorter time ranges. These are accompanied by historical simulations which can be used to derive the hydrological climatology, and medium-range reforecasts. For users looking for global hydrological data, we refer to the Global Flood Awareness System (GloFAS) forecasts and historical simulations. All these datasets are part of the operational flood forecasting within the Copernicus Emergency Management Service (CEMS).\n\nVariables in the dataset/application are:\nRiver discharge in the last 24 hours, Snow depth water equivalent, Soil depth, Volumetric soil moisture\n\nVariables in the dataset/application are:\nOrography, Upstream area",
         "extent": {
          "spatial": {
           "bbox": [
            [
             -180,
             -90,
             180,
             90
            ]
           ]
          },
          "temporal": {
           "interval": [
            [
             "2020-11-01T00:00:00Z",
             "2023-05-01T23:59:59Z"
            ]
           ]
          }
         },
         "id": "EO.ECMWF.DAT.EFAS_SEASONAL",
         "keywords": [
          "Forecast",
          "Product type: Seasonal forecasts",
          "Spatial coverage: Europe",
          "Variable domain: Land (hydrology)",
          "Temporal coverage: Present",
          "Provider: Copernicus CEMS"
         ],
         "license": "proprietary",
         "links": [
          {
           "href": "https://hda.central.data.destination-earth.eu/stac/collections/EO.ECMWF.DAT.EFAS_SEASONAL/items",
           "rel": "items",
           "type": "application/geo+json"
          },
          {
           "href": "https://hda.central.data.destination-earth.eu/stac/",
           "rel": "parent",
           "type": "application/json"
          },
          {
           "href": "https://hda.central.data.destination-earth.eu/stac/",
           "rel": "root",
           "type": "application/json"
          },
          {
           "href": "https://hda.central.data.destination-earth.eu/stac/collections/EO.ECMWF.DAT.EFAS_SEASONAL",
           "rel": "self",
           "type": "application/json"
          },
          {
           "href": "https://eo-apis.csgroup.space/dataset/EO.ECMWF.DAT.EFAS_SEASONAL",
           "rel": "describedby",
           "title": "Human readable dataset overview and reference",
           "type": "text/html"
          }
         ],
         "providers": [
          {
           "description": "European Centre for Medium-Range Weather Forecasts (ECMWF)",
           "name": "European Centre for Medium-Range Weather Forecasts (ECMWF)",
           "roles": [
            "licensor",
            "producer",
            "processor"
           ],
           "url": "https://www.ecmwf.int/"
          },
          {
           "name": "Copernicus Climate Data Store",
           "roles": [
            "host"
           ],
           "url": "https://cds.climate.copernicus.eu"
          }
         ],
         "stac_version": "1.0.0",
         "title": "Seasonal forecasts of river discharge and related data by the European Flood Awareness System",
         "type": "Collection"
        },
        {
         "assets": {
          "thumbnail": {
           "href": "https://wekeo2-prod-data-access-config.s3.waw3-2.cloudferro.com/previews/EO_ESA_DAT_EODC-SENTINEL-2_MSI1C.jpg",
           "roles": [
            "thumbnail"
           ],
           "title": "Sentinel 2 MSI L1C",
           "type": "image/jpeg"
          }
         },
         "dedl:short_description": "The Sentinel-2 mission is a land monitoring constellation of two satellites that provide high resolution optical imagery and provide continuity for the current SPOT and Landsat missions",
         "description": "The Sentinel-2 mission is a land monitoring constellation of two satellites that provide high resolution optical imagery and provide continuity for the current SPOT and Landsat missions. The mission provides a global coverage of the Earth's land surface every 10 days with one satellite and 5 days with 2 satellites, making the data of great use in on-going studies. The satellites are equipped with the state-of-the-art MSI (Multispectral Imager) instrument, that offers high-resolution optical imagery. Products are a compilation of elementary granules of fixed size, within a single orbit. A granule is the minimum indivisible partition of a product (containing all possible spectral bands).\nFor Level-1C and Level-2A, the granules, also called tiles, are 100x100km2 ortho-images in UTM/WGS84 projection. The UTM (Universal Transverse Mercator) system divides the Earth's surface into 60 zones. Each UTM zone has a vertical width of 6° of longitude and horizontal width of 8° of latitude. (see Figure 1). Tiles are approximately 600 MB in size. Tiles can be fully or partially covered by image data. Partially covered tiles correspond to those at the edge of the swath.",
         "extent": {
          "spatial": {
           "bbox": [
            [
             -180,
             -90,
             180,
             90
            ]
           ]
          },
          "temporal": {
           "interval": [
            [
             "2015-06-23T00:00:00Z",
             null
            ]
           ]
          }
         },
         "id": "EO.ESA.DAT.SENTINEL-2.MSI.L1C",
         "item_assets": {
          "thumbnail": {
           "description": "An averaged, decimated preview image in PNG format. Single polarisation products are represented with a grey scale image. Dual polarisation products are represented by a single composite colour image in RGB with the red channel (R) representing the  co-polarisation VV or HH), the green channel (G) represents the cross-polarisation (VH or HV) and the blue channel (B) represents the ratio of the cross an co-polarisations.",
           "roles": [
            "thumbnail"
           ],
           "title": "Preview Image",
           "type": "image/png"
          }
         },
         "keywords": [
          "Land",
          "Land Cover",
          "Crop Monitoring",
          "Leaf Area Index",
          "Chlorophyll",
          "Coastal Zone Monitoring",
          "Inland Water Monitoring",
          "Glacier Monitoring",
          "Ice Extent Mapping",
          "Snow Cover Monitoring",
          "Flood Mapping",
          "Lava Flow Mapping",
          "Burned Area Monitoring",
          "Level 1 Data",
          "ESA",
          "Copernicus",
          "Sentinel",
          "MSI"
         ],
         "license": "proprietary",
         "links": [
          {
           "href": "https://hda.central.data.destination-earth.eu/stac/collections/EO.ESA.DAT.SENTINEL-2.MSI.L1C/items",
           "rel": "items",
           "type": "application/geo+json"
          },
          {
           "href": "https://hda.central.data.destination-earth.eu/stac/",
           "rel": "parent",
           "type": "application/json"
          },
          {
           "href": "https://hda.central.data.destination-earth.eu/stac/",
           "rel": "root",
           "type": "application/json"
          },
          {
           "href": "https://hda.central.data.destination-earth.eu/stac/collections/EO.ESA.DAT.SENTINEL-2.MSI.L1C",
           "rel": "self",
           "type": "application/json"
          },
          {
           "href": "https://eo-apis.csgroup.space/dataset/EO.ESA.DAT.SENTINEL-2.MSI.L1C",
           "rel": "describedby",
           "title": "Human readable dataset overview and reference",
           "type": "text/html"
          }
         ],
         "providers": [
          {
           "name": "ESA",
           "roles": [
            "producer",
            "processor",
            "licensor"
           ],
           "url": "https://earth.esa.int"
          },
          {
           "name": "CREODIAS",
           "roles": [
            "host"
           ],
           "url": "https://creodias.eu"
          },
          {
           "name": "DEDL",
           "roles": [
            "host"
           ],
           "url": "https://destination-earth.eu/"
          }
         ],
         "stac_extensions": [
          "https://stac-extensions.github.io/eo/v1.1.0/schema.json",
          "https://stac-extensions.github.io/processing/v1.1.0/schema.json",
          "https://stac-extensions.github.io/item-assets/v1.0.0/schema.json"
         ],
         "stac_version": "1.0.0",
         "summaries": {
          "constellation": [
           "Sentinel-2"
          ],
          "eo:bands": [
           {
            "center_wavelength": "442.7 (S2B:442.2)",
            "common_name": "Coastal",
            "description": "Coastal Aerosol",
            "name": "B01"
           },
           {
            "center_wavelength": "492.4 (S2B:492.1)",
            "common_name": "Blue",
            "description": "Visible Blue",
            "name": "B02"
           },
           {
            "center_wavelength": "559.8 (S2B:559.0)",
            "common_name": "Green",
            "description": "Visible Green",
            "name": "B03"
           },
           {
            "center_wavelength": "664.6",
            "common_name": "Red",
            "description": "Visible Red",
            "name": "B04"
           },
           {
            "center_wavelength": "704.1 (S2B:703.8)",
            "common_name": "Red Edge",
            "description": "Vegetation Red Edge",
            "name": "B05"
           },
           {
            "center_wavelength": "740.5 (S2B:739.1)",
            "common_name": "Red Edge",
            "description": "Vegetation Red Edge",
            "name": "B06"
           },
           {
            "center_wavelength": "782.8 (S2B:779.7)",
            "common_name": "Red Edge",
            "description": "Vegetation Red Edge",
            "name": "B07"
           },
           {
            "center_wavelength": "832.8 (S2B:832.9)",
            "common_name": "NIR",
            "description": "Near Infrared",
            "name": "B08"
           },
           {
            "center_wavelength": "864.7 (S2B:864.0)",
            "common_name": "NIR08",
            "description": "Narrow Near Infrared",
            "name": "B8A"
           },
           {
            "center_wavelength": "945.1 (S2B:943.2)",
            "common_name": "WV",
            "description": "Water Vapour",
            "name": "B09"
           },
           {
            "center_wavelength": "1373.5 (S2B:1376.9)",
            "common_name": "Cirrus",
            "description": "Short-Wave Infrared Cirrus",
            "name": "B10"
           },
           {
            "center_wavelength": "1613.7 (S2B:1610.4)",
            "common_name": "SWIR16",
            "description": "short-wave infrared",
            "name": "B11"
           },
           {
            "center_wavelength": "2202.4 (S2B: 2185.7)",
            "common_name": "SWIR22",
            "description": "Short-Wave Infrared",
            "name": "B12"
           }
          ],
          "instruments": [
           "MSI"
          ],
          "platform": [
           "SENTINEL-2A",
           "SENTINEL-2B"
          ],
          "processing:level": [
           "L1C"
          ],
          "s1:product_timeliness": [
           "NRT-100m to 3h",
           "Off-line"
          ]
         },
         "title": "Sentinel 2 MSI Level 1C",
         "type": "Collection"
        },
        {
         "assets": {
          "thumbnail": {
           "href": "https://datastore.copernicus-climate.eu/c3s/published-forms-v2/c3sprod/reanalysis-era5-land-monthly-means/overview.png",
           "roles": [
            "thumbnail"
           ],
           "title": "overview",
           "type": "image/png"
          }
         },
         "dedl:short_description": "ERA5-Land is a reanalysis dataset providing a consistent view of the evolution of land variables over several decades at an enhanced resolution compared to ERA5.",
         "description": "ERA5-Land is a reanalysis dataset providing a consistent view of the evolution of land variables over several decades at an enhanced resolution compared to ERA5. ERA5-Land has been produced by replaying the land component of the ECMWF ERA5 climate reanalysis. Reanalysis combines model data with observations from across the world into a globally complete and consistent dataset using the laws of physics. Reanalysis produces data that goes several decades back in time, providing an accurate description of the climate of the past.\n\nERA5-Land provides a consistent view of the water and energy cycles at surface level during several decades. It contains a detailed record from 1950 onwards, with a temporal resolution of 1 hour. The native spatial resolution of the ERA5-Land reanalysis dataset is 9km on a reduced Gaussian grid (TCo1279). The data in the CDS has been regridded to a regular lat-lon grid of 0.1x0.1 degrees.\n\nThe data presented here is a post-processed subset of the full ERA5-Land dataset. Monthly-mean averages have been pre-calculated to facilitate many applications requiring easy and fast access to the data, when sub-monthly fields are not required.\n\nHourly fields can be found in the dataset \"ERA5-Land hourly data from 1950 to present\"",
         "extent": {
          "spatial": {
           "bbox": [
            [
             -180,
             -90,
             180,
             90
            ]
           ]
          },
          "temporal": {
           "interval": [
            [
             "1950-01-01T00:00:00Z",
             null
            ]
           ]
          }
         },
         "id": "EO.ECMWF.DAT.ERA5_LAND_MONTHLY",
         "keywords": [
          "Land conditions",
          "Product type: Reanalysis",
          "Spatial coverage: Global",
          "Temporal coverage: Past",
          "Variable domain: Land (hydrology)",
          "Variable domain: Land (physics)",
          "Variable domain: Land (biosphere)",
          "Provider: Copernicus C3S"
         ],
         "license": "proprietary",
         "links": [
          {
           "href": "https://hda.central.data.destination-earth.eu/stac/collections/EO.ECMWF.DAT.ERA5_LAND_MONTHLY/items",
           "rel": "items",
           "type": "application/geo+json"
          },
          {
           "href": "https://hda.central.data.destination-earth.eu/stac/",
           "rel": "parent",
           "type": "application/json"
          },
          {
           "href": "https://hda.central.data.destination-earth.eu/stac/",
           "rel": "root",
           "type": "application/json"
          },
          {
           "href": "https://hda.central.data.destination-earth.eu/stac/collections/EO.ECMWF.DAT.ERA5_LAND_MONTHLY",
           "rel": "self",
           "type": "application/json"
          },
          {
           "href": "https://eo-apis.csgroup.space/dataset/EO.ECMWF.DAT.ERA5_LAND_MONTHLY",
           "rel": "describedby",
           "title": "Human readable dataset overview and reference",
           "type": "text/html"
          }
         ],
         "providers": [
          {
           "description": "European Centre for Medium-Range Weather Forecasts (ECMWF)",
           "name": "European Centre for Medium-Range Weather Forecasts (ECMWF)",
           "roles": [
            "licensor",
            "producer",
            "processor"
           ],
           "url": "https://www.ecmwf.int/"
          },
          {
           "name": "Copernicus Climate Data Store",
           "roles": [
            "host"
           ],
           "url": "https://cds.climate.copernicus.eu"
          }
         ],
         "stac_version": "1.0.0",
         "title": "ERA5-Land monthly averaged data from 1950 to present",
         "type": "Collection"
        },
        {
         "assets": {
          "thumbnail": {
           "href": "https://navigator.eumetsat.int/preview/s3_olci.png",
           "roles": [
            "thumbnail"
           ],
           "title": "Sentinel-3A Sea Level Anomaly (cm)",
           "type": "image/png"
          }
         },
         "description": "OLCI (Ocean and Land Colour Instrument) Full resolution: 300m at nadir. Level 1 products are calibrated Top Of Atmosphere radiance values at OLCI 21 spectral bands. Radiances are computed from the instrument digital counts by applying geo-referencing, radiometric processing (non-linearity correction, smear correction, dark offset correction, absolute gain calibration adjusted for gain evolution with time), and stray-light correction for straylight effects in OLCI camera's spectrometer and ground imager. Additionally, spatial resampling of OLCI pixels to the 'ideal' instrument grid, initial pixel classification, and annotation at tie points with auxiliary meteorological data and acquisition geometry are provided. The radiance products are accompanied by error estimate products, however the error values are currently not available.\n\n- All Sentinel-3 NRT products are available at pick-up point in less than 3h.\n- All Sentinel-3 Non Time Critical (NTC) products are available at pick-up point in less than 30 days.\nSentinel-3 is part of a series of Sentinel satellites, under the umbrella of the EU Copernicus programme.",
         "extent": {
          "spatial": {
           "bbox": [
            [
             -180,
             -90,
             180,
             90
            ]
           ]
          },
          "temporal": {
           "interval": [
            [
             "2016-10-20T00:00:00Z",
             null
            ]
           ]
          }
         },
         "id": "EO.EUM.DAT.SENTINEL-3.OL_1_EFR___",
         "item_assets": {
          "thumbnail": {
           "description": "An averaged, decimated preview image in PNG format. Single polarisation products are represented with a grey scale image. Dual polarisation products are represented by a single composite colour image in RGB with the red channel (R) representing the  co-polarisation VV or HH), the green channel (G) represents the cross-polarisation (VH or HV) and the blue channel (B) represents the ratio of the cross an co-polarisations.",
           "roles": [
            "thumbnail"
           ],
           "title": "Preview Image",
           "type": "image/png"
          }
         },
         "keywords": [
          "Level 1 Data",
          "Ocean",
          "Ocean Colour",
          "disableCustomizeCart",
          "Water quality",
          "Chlorophyll-a concentration"
         ],
         "license": "proprietary",
         "links": [
          {
           "href": "https://hda.central.data.destination-earth.eu/stac/collections/EO.EUM.DAT.SENTINEL-3.OL_1_EFR___/items",
           "rel": "items",
           "type": "application/geo+json"
          },
          {
           "href": "https://hda.central.data.destination-earth.eu/stac/",
           "rel": "parent",
           "type": "application/json"
          },
          {
           "href": "https://hda.central.data.destination-earth.eu/stac/",
           "rel": "root",
           "type": "application/json"
          },
          {
           "href": "https://hda.central.data.destination-earth.eu/stac/collections/EO.EUM.DAT.SENTINEL-3.OL_1_EFR___",
           "rel": "self",
           "type": "application/json"
          },
          {
           "href": "https://eo-apis.csgroup.space/dataset/EO.EUM.DAT.SENTINEL-3.OL_1_EFR___",
           "rel": "describedby",
           "title": "Human readable dataset overview and reference",
           "type": "text/html"
          }
         ],
         "providers": [
          {
           "name": "EUMETSAT",
           "roles": [
            "producer",
            "processor",
            "licensor"
           ],
           "url": "https://www.eumetsat.int/"
          },
          {
           "name": "CREODIAS",
           "roles": [
            "host"
           ],
           "url": "https://creodias.eu"
          },
          {
           "name": "DEDL",
           "roles": [
            "host"
           ],
           "url": "https://destination-earth.eu/"
          }
         ],
         "stac_extensions": [
          "https://stac-extensions.github.io/eo/v1.1.0/schema.json",
          "https://stac-extensions.github.io/processing/v1.1.0/schema.json",
          "https://stac-extensions.github.io/sar/v1.0.0/schema.json",
          "https://stac-extensions.github.io/sat/v1.0.0/schema.json",
          "https://stac-extensions.github.io/item-assets/v1.0.0/schema.json",
          "https://stac-extensions.github.io/eo/v1.1.0/schema.json"
         ],
         "stac_version": "1.0.0",
         "summaries": {
          "constellation": [
           "Sentinel-3"
          ],
          "eo:bands": [
           {
            "Centre Wavelength": "413 nm",
            "description": "Yellow substance and detrital pigments",
            "name": "O1"
           },
           {
            "Centre Wavelength": "443 nm",
            "description": "Chl absorption max. /Vegetation",
            "name": "O2"
           },
           {
            "Centre Wavelength": "490 nm",
            "description": "Chl, Other pigments",
            "name": "O3"
           },
           {
            "Centre Wavelength": "510 nm",
            "description": "Chl, Sediment, Turbidity, Red tide",
            "name": "O4"
           },
           {
            "Centre Wavelength": "560 nm",
            "description": "Chlorophyll reference",
            "name": "O5"
           },
           {
            "Centre Wavelength": "620 nm",
            "description": "Sediment Loading",
            "name": "O6"
           },
           {
            "Centre Wavelength": "665 nm",
            "description": "Chl, Sediment, Yellow Substance / Vegetation",
            "name": "O7"
           },
           {
            "Centre Wavelength": "681 nm",
            "description": "Chl fluorescence peak, red edge",
            "name": "O8"
           },
           {
            "Centre Wavelength": "709 nm",
            "description": "Chl fluorescence baseline",
            "name": "O9"
           },
           {
            "Centre Wavelength": "754 nm",
            "description": "O2 absorption /Cloud/ Ocean colour",
            "name": "O10"
           },
           {
            "Centre Wavelength": "761 nm",
            "description": "O2 absorption band/Aerosol corr.",
            "name": "O11"
           },
           {
            "Centre Wavelength": "779 nm",
            "description": "Atmos. / Aerosol corr.",
            "name": "O12"
           },
           {
            "Centre Wavelength": "865 nm",
            "description": "Aerosols, Clouds, Pixel co-registration",
            "name": "O13"
           },
           {
            "Centre Wavelength": "885 nm",
            "description": "Water vap. absorption ref.",
            "name": "O14"
           },
           {
            "Centre Wavelength": "900 nm",
            "description": "Water vap. Absorption / Vegetation",
            "name": "O15"
           },
           {
            "Centre Wavelength": "1020 nm",
            "description": "Atmos. / Aerosol corr.",
            "name": "O16"
           }
          ],
          "instruments": [
           "OLCI (Ocean and Land Colour Instrument)"
          ],
          "platform": [
           "Sentinel-3A",
           "Sentinel-3B"
          ],
          "processing:level": [
           "L1B"
          ],
          "s1:product_timeliness": [
           "NRT-3h",
           "STC-48h",
           "NTC-1m"
          ]
         },
         "title": "OLCI Level 1B Full Resolution - Sentinel-3",
         "type": "Collection"
        },
        {
         "assets": {
          "thumbnail": {
           "href": "https://datastore.copernicus-climate.eu/cams/published-forms-v2/camsprod/cams-global-greenhouse-gas-inversion/overview.png",
           "roles": [
            "thumbnail"
           ],
           "title": "overview",
           "type": "image/png"
          }
         },
         "dedl:short_description": "This data set contains net fluxes at the surface, atmospheric mixing ratios at model levels, and column-mean atmospheric mixing ratios for carbon dioxide (CO2), methane (CH4) and nitrous oxide (N20).",
         "description": "This data set contains net fluxes at the surface, atmospheric mixing ratios at model levels, and column-mean atmospheric mixing ratios for carbon dioxide (CO2), methane (CH4) and nitrous oxide (N20).\nNatural and anthropogenic surface fluxes of greenhouse gases are key drivers of the evolution of Earth's climate, so their monitoring is essential. Such information has been used in particular as part of the Assessment Reports of the Intergovernmental Panel on Climate Change (IPCC). Ground-based and satellite remote-sensing observations provide a means to quantifying the net fluxes between the land and ocean on the one hand and the atmosphere on the other hand. This is done through a process called atmospheric inversion, which uses transport models of the atmosphere to link the observed concentrations of CO2, CH4 and N2O to the net fluxes at the Earth's surface. By correctly modelling the winds, vertical diffusion, and convection in the global atmosphere, the observed concentrations of the greenhouse gases are used to infer the surface fluxes for the last few decades. For CH4 and N2O, the flux inversions account also for the chemical loss of these greenhouse gases. The net fluxes include contributions from the natural biosphere (e.g., vegetation, wetlands) as well anthropogenic contributions (e.g., fossil fuel emissions, rice fields).\nThe data sets for the three species are updated once or twice per year adding the most recent year to the data record, while re-processing the original data record for consistency. This is reflected by the different version numbers. In addition, fluxes for methane are available based on surface air samples only or based on a combination of surface air samples and satellite observations (reflected by an 's' in the version number).",
         "extent": {
          "spatial": {
           "bbox": [
            [
             -180,
             -90,
             180,
             90
            ]
           ]
          },
          "temporal": {
           "interval": [
            [
             "1979-01-01T00:00:00Z",
             "2023-01-01T00:00:00Z"
            ]
           ]
          }
         },
         "id": "EO.ECMWF.DAT.CAMS_GREENHOUSE_GAS_FLUXES",
         "keywords": [
          "CAMS",
          "Air Quality"
         ],
         "license": "proprietary",
         "links": [
          {
           "href": "https://hda.central.data.destination-earth.eu/stac/collections/EO.ECMWF.DAT.CAMS_GREENHOUSE_GAS_FLUXES/items",
           "rel": "items",
           "type": "application/geo+json"
          },
          {
           "href": "https://hda.central.data.destination-earth.eu/stac/",
           "rel": "parent",
           "type": "application/json"
          },
          {
           "href": "https://hda.central.data.destination-earth.eu/stac/",
           "rel": "root",
           "type": "application/json"
          },
          {
           "href": "https://hda.central.data.destination-earth.eu/stac/collections/EO.ECMWF.DAT.CAMS_GREENHOUSE_GAS_FLUXES",
           "rel": "self",
           "type": "application/json"
          },
          {
           "href": "https://eo-apis.csgroup.space/dataset/EO.ECMWF.DAT.CAMS_GREENHOUSE_GAS_FLUXES",
           "rel": "describedby",
           "title": "Human readable dataset overview and reference",
           "type": "text/html"
          }
         ],
         "providers": [
          {
           "description": "European Centre for Medium-Range Weather Forecasts (ECMWF)",
           "name": "European Centre for Medium-Range Weather Forecasts (ECMWF)",
           "roles": [
            "licensor",
            "producer",
            "processor"
           ],
           "url": "https://www.ecmwf.int/"
          },
          {
           "name": "Copernicus Atmosphere Data Store",
           "roles": [
            "host"
           ],
           "url": "https://ads.atmosphere.copernicus.eu"
          }
         ],
         "stac_version": "1.0.0",
         "title": "CAMS global inversion-optimised greenhouse gas fluxes and concentrations",
         "type": "Collection"
        },
        {
         "assets": {
          "thumbnail": {
           "href": "https://datastore.copernicus-climate.eu/c3s/published-forms-v2/c3sprod/efas-historical/overview.png",
           "roles": [
            "thumbnail"
           ],
           "title": "overview",
           "type": "image/png"
          }
         },
         "dedl:short_description": "This dataset provides gridded modelled daily hydrological time series forced with meteorological observations.",
         "description": "This dataset provides gridded modelled daily hydrological time series forced with meteorological observations. The data set is a consistent representation of the most important hydrological variables across the European Flood Awareness System (EFAS) domain. The temporal resolution is up to 30 years modelled time series of:\n\nRiver discharge\nSoil moisture for three soil layers\nSnow water equivalent\n\nIt also provides static data on soil depth for the three soil layers. Soil moisture and river discharge data are accompanied by ancillary files for interpretation (see related variables and links in the documentation).\nThis dataset was produced by forcing the LISFLOOD hydrological model with gridded observational data of precipitation and temperature at a 5x5 km resolution across the EFAS domain. The most recent version\nuses a 6-hourly time step, whereas older versions uses a 24-hour time step. It is available from 1991-01-01 up until near-real time, with a delay of 6 days. The real-time data is only available to EFAS partners.\nCompanion datasets, also available through the CDS, are forecasts for users who are looking medium-range forecasts, reforecasts for research, local skill assessment and post-processing, and seasonal forecasts and reforecasts for users looking for long-term forecasts. For users looking for global hydrological data, we refer to the Global Flood Awareness System (GloFAS) forecasts and historical simulations. All these datasets are part of the operational flood forecasting within the Copernicus Emergency Management Service (CEMS).\n\nVariables in the dataset/application are:\nRiver discharge in the last 24 hours, River discharge in the last 6 hours, Snow depth water equivalent, Soil depth, Volumetric soil moisture\n\nVariables in the dataset/application are:\nOrography, Upstream area",
         "extent": {
          "spatial": {
           "bbox": [
            [
             -180,
             -90,
             180,
             90
            ]
           ]
          },
          "temporal": {
           "interval": [
            [
             "1991-01-01T00:00:00Z",
             "2022-12-16T23:59:59Z"
            ]
           ]
          }
         },
         "id": "EO.ECMWF.DAT.EFAS_HISTORICAL",
         "keywords": [
          "Climatology",
          "Product type: Reanalysis",
          "Spatial coverage: Europe",
          "Variable domain: Land (hydrology)",
          "Temporal coverage: Past",
          "Provider: Copernicus CEMS"
         ],
         "license": "proprietary",
         "links": [
          {
           "href": "https://hda.central.data.destination-earth.eu/stac/collections/EO.ECMWF.DAT.EFAS_HISTORICAL/items",
           "rel": "items",
           "type": "application/geo+json"
          },
          {
           "href": "https://hda.central.data.destination-earth.eu/stac/",
           "rel": "parent",
           "type": "application/json"
          },
          {
           "href": "https://hda.central.data.destination-earth.eu/stac/",
           "rel": "root",
           "type": "application/json"
          },
          {
           "href": "https://hda.central.data.destination-earth.eu/stac/collections/EO.ECMWF.DAT.EFAS_HISTORICAL",
           "rel": "self",
           "type": "application/json"
          },
          {
           "href": "https://eo-apis.csgroup.space/dataset/EO.ECMWF.DAT.EFAS_HISTORICAL",
           "rel": "describedby",
           "title": "Human readable dataset overview and reference",
           "type": "text/html"
          }
         ],
         "providers": [
          {
           "description": "European Centre for Medium-Range Weather Forecasts (ECMWF)",
           "name": "European Centre for Medium-Range Weather Forecasts (ECMWF)",
           "roles": [
            "licensor",
            "producer",
            "processor"
           ],
           "url": "https://www.ecmwf.int/"
          },
          {
           "name": "Copernicus Climate Data Store",
           "roles": [
            "host"
           ],
           "url": "https://cds.climate.copernicus.eu"
          }
         ],
         "stac_version": "1.0.0",
         "title": "River discharge and related historical data from the European Flood Awareness System",
         "type": "Collection"
        },
        {
         "assets": {
          "thumbnail": {
           "href": "https://datastore.copernicus-climate.eu/cams/published-forms-v2/camsprod/cams-global-reanalysis-eac4-monthly/overview.png",
           "roles": [
            "thumbnail"
           ],
           "title": "overview",
           "type": "image/png"
          }
         },
         "dedl:short_description": "EAC4 (ECMWF Atmospheric Composition Reanalysis 4) is the fourth generation ECMWF global reanalysis of atmospheric composition.",
         "description": "EAC4 (ECMWF Atmospheric Composition Reanalysis 4) is the fourth generation ECMWF global reanalysis of atmospheric composition. Reanalysis combines model data with observations from across the world into a globally complete and consistent dataset using a model of the atmosphere based on the laws of physics and chemistry. This principle, called data assimilation, is based on the method used by numerical weather prediction centres and air quality forecasting centres, where every so many hours (12 hours at ECMWF) a previous forecast is combined with newly available observations in an optimal way to produce a new best estimate of the state of the atmosphere, called analysis, from which an updated, improved forecast is issued. Reanalysis works in the same way to allow for the provision of a dataset spanning back more than a decade. Reanalysis does not have the constraint of issuing timely forecasts, so there is more time to collect observations, and when going further back in time, to allow for the ingestion of improved versions of the original observations, which all benefit the quality of the reanalysis product.\nThe assimilation system is able to estimate biases between observations and to sift good-quality data from poor data. The atmosphere model allows for estimates at locations where data coverage is low or for atmospheric pollutants for which no direct observations are available. The provision of estimates at each grid point around the globe for each regular output time, over a long period, always using the same format, makes reanalysis a very convenient and popular dataset to work with.\nThe observing system has changed drastically over time, and although the assimilation system can resolve data holes, the initially much sparser networks will lead to less accurate estimates. For this reason, EAC4 is only available from 2003 onwards.\nAlthough the analysis procedure considers chunks of data in a window of 12 hours in one go, EAC4 provides estimates every 3 hours, worldwide. This is made possible by the 4D-Var assimilation method, which takes account of the exact timing of the observations and model evolution within the assimilation window.",
         "extent": {
          "spatial": {
           "bbox": [
            [
             -180,
             -90,
             180,
             90
            ]
           ]
          },
          "temporal": {
           "interval": [
            [
             "2003-01-01T00:00:00Z",
             "2022-01-01T00:00:00Z"
            ]
           ]
          }
         },
         "id": "EO.ECMWF.DAT.CAMS_GLOBAL_REANALYSIS_EAC4_MONTHLY_AV_FIELDS",
         "keywords": [
          "CAMS",
          "Air Quality"
         ],
         "license": "proprietary",
         "links": [
          {
           "href": "https://hda.central.data.destination-earth.eu/stac/collections/EO.ECMWF.DAT.CAMS_GLOBAL_REANALYSIS_EAC4_MONTHLY_AV_FIELDS/items",
           "rel": "items",
           "type": "application/geo+json"
          },
          {
           "href": "https://hda.central.data.destination-earth.eu/stac/",
           "rel": "parent",
           "type": "application/json"
          },
          {
           "href": "https://hda.central.data.destination-earth.eu/stac/",
           "rel": "root",
           "type": "application/json"
          },
          {
           "href": "https://hda.central.data.destination-earth.eu/stac/collections/EO.ECMWF.DAT.CAMS_GLOBAL_REANALYSIS_EAC4_MONTHLY_AV_FIELDS",
           "rel": "self",
           "type": "application/json"
          },
          {
           "href": "https://eo-apis.csgroup.space/dataset/EO.ECMWF.DAT.CAMS_GLOBAL_REANALYSIS_EAC4_MONTHLY_AV_FIELDS",
           "rel": "describedby",
           "title": "Human readable dataset overview and reference",
           "type": "text/html"
          }
         ],
         "providers": [
          {
           "description": "European Centre for Medium-Range Weather Forecasts (ECMWF)",
           "name": "European Centre for Medium-Range Weather Forecasts (ECMWF)",
           "roles": [
            "licensor",
            "producer",
            "processor"
           ],
           "url": "https://www.ecmwf.int/"
          },
          {
           "name": "Copernicus Atmosphere Data Store",
           "roles": [
            "host"
           ],
           "url": "https://ads.atmosphere.copernicus.eu"
          }
         ],
         "stac_version": "1.0.0",
         "title": "CAMS global reanalysis (EAC4) monthly averaged fields",
         "type": "Collection"
        },
        {
         "assets": {
          "thumbnail": {
           "href": "https://navigator.eumetsat.int/preview/s3_sral.png",
           "roles": [
            "thumbnail"
           ],
           "title": "Sentinel-3A Sea Level Anomaly (cm)",
           "type": "image/png"
          }
         },
         "description": "SRAL Level 1B: Complex echoes (In-phase (I) and Quadrature (Q)) for the Low Resolution Mode (LRM) and/or Synthetic Aperture Radar (SAR) mode both for C Band and Ku band. When the altimeter is in SAR mode, this product also contains the so-called Pseudo LRM (PLRM) echoes.\n\n- All Sentinel-3 Near Real Time (NRT) products are available at pick-up point in less than 3h.\n- All Sentinel-3 Non Time Critical (NTC) products are available at pick-up point in less than 30 days.\n- All Sentinel-3 Short Time Critical (STC) products are available at pick-up point in less than 48 hours.\nSentinel-3 is part of a series of Sentinel satellites, under the umbrella of the EU Copernicus programme. measurements_parameters:(ECHO_LRM:LRM MODE 20 Hz, ECHO_SAR_Ku:SAR MODE 20 Hz, ECHO_PLRM:PSEUDO-LRM MODE 20 Hz. acquisition_parameters:(TM_ACQ:L0 telemetry ISP packet information).",
         "extent": {
          "spatial": {
           "bbox": [
            [
             -180,
             -90,
             180,
             90
            ]
           ]
          },
          "temporal": {
           "interval": [
            [
             "2016-12-13T00:00:00Z",
             null
            ]
           ]
          }
         },
         "id": "EO.EUM.DAT.SENTINEL-3.SR_1_SRA___",
         "item_assets": {
          "thumbnail": {
           "description": "An averaged, decimated preview image in PNG format. Single polarisation products are represented with a grey scale image. Dual polarisation products are represented by a single composite colour image in RGB with the red channel (R) representing the  co-polarisation VV or HH), the green channel (G) represents the cross-polarisation (VH or HV) and the blue channel (B) represents the ratio of the cross an co-polarisations.",
           "roles": [
            "thumbnail"
           ],
           "title": "Preview Image",
           "type": "image/png"
          }
         },
         "keywords": [
          "Level 1 Data",
          "Ocean",
          "Sea Surface Height",
          "Surface Height",
          "disableCustomizeCart",
          "sea wind speed"
         ],
         "license": "proprietary",
         "links": [
          {
           "href": "https://hda.central.data.destination-earth.eu/stac/collections/EO.EUM.DAT.SENTINEL-3.SR_1_SRA___/items",
           "rel": "items",
           "type": "application/geo+json"
          },
          {
           "href": "https://hda.central.data.destination-earth.eu/stac/",
           "rel": "parent",
           "type": "application/json"
          },
          {
           "href": "https://hda.central.data.destination-earth.eu/stac/",
           "rel": "root",
           "type": "application/json"
          },
          {
           "href": "https://hda.central.data.destination-earth.eu/stac/collections/EO.EUM.DAT.SENTINEL-3.SR_1_SRA___",
           "rel": "self",
           "type": "application/json"
          },
          {
           "href": "https://eo-apis.csgroup.space/dataset/EO.EUM.DAT.SENTINEL-3.SR_1_SRA___",
           "rel": "describedby",
           "title": "Human readable dataset overview and reference",
           "type": "text/html"
          }
         ],
         "providers": [
          {
           "name": "EUMETSAT",
           "roles": [
            "producer",
            "processor",
            "licensor"
           ],
           "url": "https://www.eumetsat.int/"
          },
          {
           "name": "CREODIAS",
           "roles": [
            "host"
           ],
           "url": "https://creodias.eu"
          },
          {
           "name": "DEDL",
           "roles": [
            "host"
           ],
           "url": "https://destination-earth.eu/"
          }
         ],
         "stac_extensions": [
          "https://stac-extensions.github.io/eo/v1.1.0/schema.json",
          "https://stac-extensions.github.io/processing/v1.1.0/schema.json",
          "https://stac-extensions.github.io/sar/v1.0.0/schema.json",
          "https://stac-extensions.github.io/sat/v1.0.0/schema.json",
          "https://stac-extensions.github.io/item-assets/v1.0.0/schema.json",
          "https://stac-extensions.github.io/eo/v1.1.0/schema.json"
         ],
         "stac_version": "1.0.0",
         "summaries": {
          "constellation": [
           "Sentinel-3"
          ],
          "instruments": [
           "SRAL (Synthetic Aperture Radar Altimeter)"
          ],
          "platform": [
           "Sentinel-3A",
           "Sentinel-3B"
          ],
          "processing:level": [
           "L1B"
          ],
          "s1:product_timeliness": [
           "NRT-3h",
           "STC-48h",
           "NTC-1m"
          ],
          "sar:center_frequency": [
           5.41,
           13.575
          ],
          "sar:frequency_band": [
           "C",
           "Ku"
          ]
         },
         "title": "SRAL Level 1B - Sentinel-3",
         "type": "Collection"
        },
        {
         "assets": {
          "thumbnail": {
           "href": "https://datastore.copernicus-climate.eu/c3s/published-forms-v2/c3sprod/derived-gridded-glacier-mass-change/overview.png",
           "roles": [
            "thumbnail"
           ],
           "title": "overview",
           "type": "image/png"
          }
         },
         "dedl:short_description": "This dataset provides in situ and remote sensing derived glacier changes from individual glaciers globally.",
         "description": "This dataset provides in situ and remote sensing derived glacier changes from individual glaciers globally. The dataset represents the latest homogenized state-of-the-art glacier change data collected by scientists and the national correspondents of each country as provided to the World Glacier Monitoring Service (WGMS). The product is an extract of the WGMS Fluctuations of Glacier (FoG) database and consists of two data sets providing time series of glacier changes:\n\n\nglacier elevation change series from the geodetic method\n\n\nglacier mass-balance series from the glaciological method\n\n\nBoth data layers are provided as ESRI shapefiles containing the location of each glacier label point in geographic coordinates (longitude and latitude in degrees) in the World Geodetic System 1984 (WGS84) datum and some general statistical information about each glacier. Both shapefiles come with one ancillary .csv file containing the individual glacier change series linked to the corresponding point shapefile through the WGMS_ID.\nThe mass balance series consist of usually continuous annual measurements in mm water equivalents. The elevation change series consist of multi-annual changes (in mm) with sometimes overlapping survey periods. For combining mass balance and elevation change data in one regional plot the elevation changes need to be converted to annual change rates and to mm water equivalents using a density conversion factor of 850 kg m-3.\nThis dataset has been brokered from the Fluctuations of Glaciers (FoG) database of the World Glacier Monitoring Service (WGMS).\n\nVariables in the dataset/application are:\nFID, GLAC_REG1, GLAC_REG2, Latitude, Longitude, Name, PU, Photo_Info, Photo_url, Shape, WGMS ID\n\nVariables in the dataset/application are:\nANN_BAL, ANN_BAL_UNC, AREA, AREA_CHANGE, AREA_SURVEY_YEAR, ELEV_CH, ELEV_CH_UNC, INVESTIGATOR, REFERENCE, REFERENCE_DATE, REMARKS, SPONS_AGENCY, SURVEY_DATE, SURVEY_ID, WGMS_ID",
         "extent": {
          "spatial": {
           "bbox": [
            [
             0,
             -89,
             360,
             89
            ]
           ]
          },
          "temporal": {
           "interval": [
            [
             "1850-01-01T00:00:00Z",
             "2019-12-31T00:00:00Z"
            ]
           ]
          }
         },
         "id": "EO.ECMWF.DAT.GLACIERS_ELEVATION_AND_MASS_CHANGE_DATA_1850_PRESENT",
         "keywords": [
          "Land cover",
          "Product type: In-situ observations",
          "Product type: Satellite observations",
          "Spatial coverage: Global",
          "Temporal coverage: Past",
          "Variable domain: Land (cryosphere)"
         ],
         "license": "proprietary",
         "links": [
          {
           "href": "https://hda.central.data.destination-earth.eu/stac/collections/EO.ECMWF.DAT.GLACIERS_ELEVATION_AND_MASS_CHANGE_DATA_1850_PRESENT/items",
           "rel": "items",
           "type": "application/geo+json"
          },
          {
           "href": "https://hda.central.data.destination-earth.eu/stac/",
           "rel": "parent",
           "type": "application/json"
          },
          {
           "href": "https://hda.central.data.destination-earth.eu/stac/",
           "rel": "root",
           "type": "application/json"
          },
          {
           "href": "https://hda.central.data.destination-earth.eu/stac/collections/EO.ECMWF.DAT.GLACIERS_ELEVATION_AND_MASS_CHANGE_DATA_1850_PRESENT",
           "rel": "self",
           "type": "application/json"
          },
          {
           "href": "https://eo-apis.csgroup.space/dataset/EO.ECMWF.DAT.GLACIERS_ELEVATION_AND_MASS_CHANGE_DATA_1850_PRESENT",
           "rel": "describedby",
           "title": "Human readable dataset overview and reference",
           "type": "text/html"
          }
         ],
         "providers": [
          {
           "description": "European Centre for Medium-Range Weather Forecasts (ECMWF)",
           "name": "European Centre for Medium-Range Weather Forecasts (ECMWF)",
           "roles": [
            "licensor",
            "producer",
            "processor"
           ],
           "url": "https://www.ecmwf.int/"
          },
          {
           "name": "Copernicus Climate Data Store",
           "roles": [
            "host"
           ],
           "url": "https://cds.climate.copernicus.eu"
          }
         ],
         "stac_version": "1.0.0",
         "title": "Glaciers elevation and mass change data from 1850 to present from the Fluctuations of Glaciers Database",
         "type": "Collection"
        },
        {
         "assets": {
          "thumbnail": {
           "href": "https://datastore.copernicus-climate.eu/cams/published-forms-v2/camsprod/cams-solar-radiation-timeseries/overview.png",
           "roles": [
            "thumbnail"
           ],
           "title": "overview",
           "type": "image/png"
          }
         },
         "dedl:short_description": "The CAMS solar radiation services provide historical values (2004 to present) of global (GHI), direct (BHI) and diffuse (DHI) solar irradiation, as well as direct normal irradiation (BNI).",
         "description": "The CAMS solar radiation services provide historical values (2004 to present) of global (GHI), direct (BHI) and diffuse (DHI) solar irradiation, as well as direct normal irradiation (BNI). The aim is to fulfil the needs of European and national policy development and the requirements of both commercial and public downstream services, e.g. for planning, monitoring, efficiency improvements and the integration of solar energy systems into energy supply grids.\nFor clear-sky conditions, an irradiation time series is provided for any location in the world using information on aerosol, ozone and water vapour from the CAMS global forecasting system. Other properties, such as ground albedo and ground elevation, are also taken into account. Similar time series are available for cloudy (or \"all sky\") conditions but, since the high-resolution cloud information is directly inferred from satellite observations, these are currently only available inside the field-of-view of the Meteosat Second Generation (MSG) satellite, which is roughly Europe, Africa, the Atlantic Ocean and the Middle East.\nData is offered in both ASCII and netCDF format. Additionally, an ASCII \"expert mode\" format can be selected which contains in addition to the irradiation, all the input data used in their calculation (aerosol optical properties, water vapour concentration, etc). This additional information is only meaningful in the time frame at which the calculation is performed and so is only available at 1-minute time steps in universal time (UT).",
         "extent": {
          "spatial": {
           "bbox": [
            [
             -180,
             -90,
             180,
             90
            ]
           ]
          },
          "temporal": {
           "interval": [
            [
             "2004-02-01T00:00:00Z",
             null
            ]
           ]
          }
         },
         "id": "EO.ECMWF.DAT.CAMS_SOLAR_RADIATION_TIMESERIES",
         "keywords": [
          "CAMS",
          "Solar"
         ],
         "license": "proprietary",
         "links": [
          {
           "href": "https://hda.central.data.destination-earth.eu/stac/collections/EO.ECMWF.DAT.CAMS_SOLAR_RADIATION_TIMESERIES/items",
           "rel": "items",
           "type": "application/geo+json"
          },
          {
           "href": "https://hda.central.data.destination-earth.eu/stac/",
           "rel": "parent",
           "type": "application/json"
          },
          {
           "href": "https://hda.central.data.destination-earth.eu/stac/",
           "rel": "root",
           "type": "application/json"
          },
          {
           "href": "https://hda.central.data.destination-earth.eu/stac/collections/EO.ECMWF.DAT.CAMS_SOLAR_RADIATION_TIMESERIES",
           "rel": "self",
           "type": "application/json"
          },
          {
           "href": "https://eo-apis.csgroup.space/dataset/EO.ECMWF.DAT.CAMS_SOLAR_RADIATION_TIMESERIES",
           "rel": "describedby",
           "title": "Human readable dataset overview and reference",
           "type": "text/html"
          }
         ],
         "providers": [
          {
           "description": "European Centre for Medium-Range Weather Forecasts (ECMWF)",
           "name": "European Centre for Medium-Range Weather Forecasts (ECMWF)",
           "roles": [
            "licensor",
            "producer",
            "processor"
           ],
           "url": "https://www.ecmwf.int/"
          },
          {
           "name": "Copernicus Atmosphere Data Store",
           "roles": [
            "host"
           ],
           "url": "https://ads.atmosphere.copernicus.eu"
          }
         ],
         "stac_version": "1.0.0",
         "title": "CAMS solar radiation time-series",
         "type": "Collection"
        },
        {
         "assets": {
          "thumbnail": {
           "href": "https://datastore.copernicus-climate.eu/c3s/published-forms-v2/c3sprod/efas-reforecast/overview.png",
           "roles": [
            "thumbnail"
           ],
           "title": "overview",
           "type": "image/png"
          }
         },
         "dedl:short_description": "This dataset provides gridded modelled hydrological time series forced with medium- to sub-seasonal range meteorological reforecasts.",
         "description": "This dataset provides gridded modelled hydrological time series forced with medium- to sub-seasonal range meteorological reforecasts. The data is a consistent representation of the most important hydrological variables across the European Flood Awareness System (EFAS) domain. The temporal resolution is 20 years of sub-daily reforecasts initialised twice weekly (Mondays and Thursdays) of:\n\nRiver discharge\nSoil moisture for three soil layers\nSnow water equivalent\n\nIt also provides static data on soil depth for the three soil layers. Soil moisture and river discharge data are accompanied by ancillary files for interpretation (see related variables and links in the documentation).\nThis dataset was produced by forcing the LISFLOOD hydrological model at a 5x5km resolution with ensemble meteorological reforecasts from the European Centre of Medium-range Weather Forecasts (ECMWF). Reforecasts are forecasts run over past dates and are typically used to assess the skill of a forecast system or to develop tools for statistical error correction of the forecasts. The reforecasts are initialised twice weekly with lead times up to 46 days, at 6-hourly time steps for 20 years. For more specific information on the how the reforecast dataset is produced we refer to the documentation.\nCompanion datasets, also available through the Climate Data Store (CDS), are the operational forecasts, historical simulations which can be used to derive the hydrological climatology, and seasonal forecasts and reforecasts for users looking for long term forecasts. For users looking for global hydrological data, we refer to the Global Flood Awareness System (GloFAS) forecasts and historical simulations. All these datasets are part of the operational flood forecasting within the Copernicus Emergency Management Service (CEMS).\n\nVariables in the dataset/application are:\nRiver discharge, Snow depth water equivalent, Soil depth, Volumetric soil moisture\n\nVariables in the dataset/application are:\nOrography, Upstream area",
         "extent": {
          "spatial": {
           "bbox": [
            [
             -180,
             -90,
             180,
             90
            ]
           ]
          },
          "temporal": {
           "interval": [
            [
             "2020-10-14T00:00:00Z",
             null
            ]
           ]
          }
         },
         "id": "EO.ECMWF.DAT.EFAS_REFORECAST",
         "keywords": [
          "Reforecast",
          "Product type: Reforecasts",
          "Spatial coverage: Europe",
          "Variable domain: Land (hydrology)",
          "Temporal coverage: Present",
          "Provider: Copernicus CEMS"
         ],
         "license": "proprietary",
         "links": [
          {
           "href": "https://hda.central.data.destination-earth.eu/stac/collections/EO.ECMWF.DAT.EFAS_REFORECAST/items",
           "rel": "items",
           "type": "application/geo+json"
          },
          {
           "href": "https://hda.central.data.destination-earth.eu/stac/",
           "rel": "parent",
           "type": "application/json"
          },
          {
           "href": "https://hda.central.data.destination-earth.eu/stac/",
           "rel": "root",
           "type": "application/json"
          },
          {
           "href": "https://hda.central.data.destination-earth.eu/stac/collections/EO.ECMWF.DAT.EFAS_REFORECAST",
           "rel": "self",
           "type": "application/json"
          },
          {
           "href": "https://eo-apis.csgroup.space/dataset/EO.ECMWF.DAT.EFAS_REFORECAST",
           "rel": "describedby",
           "title": "Human readable dataset overview and reference",
           "type": "text/html"
          }
         ],
         "providers": [
          {
           "description": "European Centre for Medium-Range Weather Forecasts (ECMWF)",
           "name": "European Centre for Medium-Range Weather Forecasts (ECMWF)",
           "roles": [
            "licensor",
            "producer",
            "processor"
           ],
           "url": "https://www.ecmwf.int/"
          },
          {
           "name": "Copernicus Climate Data Store",
           "roles": [
            "host"
           ],
           "url": "https://cds.climate.copernicus.eu"
          }
         ],
         "stac_version": "1.0.0",
         "title": "Reforecasts of river discharge and related data by the European Flood Awareness System",
         "type": "Collection"
        },
        {
         "assets": {
          "thumbnail": {
           "href": "https://wekeo2-prod-data-access-config.s3.waw3-2.cloudferro.com/previews/EO_ESA_DAT_EODC-SENTINEL-1_L1_SLC.jpg",
           "roles": [
            "thumbnail"
           ],
           "title": "Sentinel 1 SLC",
           "type": "image/jpeg"
          }
         },
         "dedl:short_description": "The Sentinel-2 mission is a land monitoring constellation of two satellites that provide high resolution optical imagery and provide continuity for the current SPOT and Landsat missions.",
         "description": "Sentinel-1 is a polar-orbiting, all-weather, day-and-night radar imaging mission for land and ocean services. \t\t\t\tThe first Sentinel-1 satellite was launched on a Soyuz rocket from Europe's Spaceport in French Guiana on 3 April 2014.    \t\t\t\t\t\t\t\t\t\t\t\tLevel-1 Single Look Complex (SLC) products consist of focused SAR data geo-referenced using orbit and attitude data from the satellite and provided in zero-Doppler slant-range geometry. The products include a single look in each dimension using the full TX signal bandwidth and consist of complex samples preserving the phase information.",
         "extent": {
          "spatial": {
           "bbox": [
            [
             -180,
             -90,
             180,
             90
            ]
           ]
          },
          "temporal": {
           "interval": [
            [
             "2014-04-03T00:00:00Z",
             null
            ]
           ]
          }
         },
         "id": "EO.ESA.DAT.SENTINEL-1.L1_SLC",
         "item_assets": {
          "hh": {
           "description": "Amplitude of signal transmitted with horizontal polarization and received with horizontal polarization with radiometric terrain correction applied.",
           "roles": [
            "data"
           ],
           "title": "HH: horizontal transmit, horizontal receive",
           "type": "image/tiff; application=geotiff; profile=cloud-optimized"
          },
          "hv": {
           "description": "Amplitude of signal transmitted with horizontal polarization and received with vertical polarization with radiometric terrain correction applied.",
           "roles": [
            "data"
           ],
           "title": "HV: horizontal transmit, vertical receive",
           "type": "image/tiff; application=geotiff; profile=cloud-optimized"
          },
          "thumbnail": {
           "description": "An averaged, decimated preview image in PNG format. Single polarisation products are represented with a grey scale image. Dual polarisation products are represented by a single composite colour image in RGB with the red channel (R) representing the  co-polarisation VV or HH), the green channel (G) represents the cross-polarisation (VH or HV) and the blue channel (B) represents the ratio of the cross an co-polarisations.",
           "roles": [
            "thumbnail"
           ],
           "title": "Preview Image",
           "type": "image/png"
          },
          "vh": {
           "description": "Amplitude of signal transmitted with vertical polarization and received with horizontal polarization with radiometric terrain correction applied.",
           "roles": [
            "data"
           ],
           "title": "VH: vertical transmit, horizontal receive",
           "type": "image/tiff; application=geotiff; profile=cloud-optimized"
          },
          "vv": {
           "description": "Amplitude of signal transmitted with vertical polarization and received with vertical polarization with radiometric terrain correction applied.",
           "roles": [
            "data"
           ],
           "title": "VV: vertical transmit, vertical receive",
           "type": "image/tiff; application=geotiff; profile=cloud-optimized"
          }
         },
         "keywords": [
          "Land",
          "Land cover",
          "Sea",
          "Ice",
          "Sea Ice",
          "Glacier",
          "Iceberg",
          "Natural Disaster",
          "Science",
          "Earth Science",
          "Oceans",
          "Ocean Optics",
          "Absorption",
          "Atmosphere",
          "Atmospheric Radiation",
          "Albedo",
          "Level 1 Data",
          "ESA",
          "Copernicus",
          "Sentinel",
          "C-Band",
          "SAR",
          "SLC"
         ],
         "license": "proprietary",
         "links": [
          {
           "href": "https://hda.central.data.destination-earth.eu/stac/collections/EO.ESA.DAT.SENTINEL-1.L1_SLC/items",
           "rel": "items",
           "type": "application/geo+json"
          },
          {
           "href": "https://hda.central.data.destination-earth.eu/stac/",
           "rel": "parent",
           "type": "application/json"
          },
          {
           "href": "https://hda.central.data.destination-earth.eu/stac/",
           "rel": "root",
           "type": "application/json"
          },
          {
           "href": "https://hda.central.data.destination-earth.eu/stac/collections/EO.ESA.DAT.SENTINEL-1.L1_SLC",
           "rel": "self",
           "type": "application/json"
          },
          {
           "href": "https://eo-apis.csgroup.space/dataset/EO.ESA.DAT.SENTINEL-1.L1_SLC",
           "rel": "describedby",
           "title": "Human readable dataset overview and reference",
           "type": "text/html"
          }
         ],
         "providers": [
          {
           "name": "ESA",
           "roles": [
            "producer",
            "processor",
            "licensor"
           ],
           "url": "https://earth.esa.int"
          },
          {
           "name": "CREODIAS",
           "roles": [
            "host"
           ],
           "url": "https://creodias.eu"
          },
          {
           "name": "DEDL",
           "roles": [
            "host"
           ],
           "url": "https://destination-earth.eu/"
          }
         ],
         "stac_extensions": [
          "https://stac-extensions.github.io/sar/v1.0.0/schema.json",
          "https://stac-extensions.github.io/sat/v1.0.0/schema.json",
          "https://stac-extensions.github.io/item-assets/v1.0.0/schema.json"
         ],
         "stac_version": "1.0.0",
         "summaries": {
          "constellation": [
           "Sentinel-1"
          ],
          "platform": [
           "SENTINEL-1A",
           "SENTINEL-1B"
          ],
          "s1:processing_level": [
           "1"
          ],
          "s1:product_timeliness": [
           "NRT-10m",
           "NRT-1h",
           "NRT-3h",
           "Fast-24h",
           "Off-line",
           "Reprocessing"
          ],
          "sar:center_frequency": [
           5.405
          ],
          "sar:frequency_band": [
           "C"
          ],
          "sar:instrument_mode": [
           "IW",
           "EW",
           "SM"
          ],
          "sar:polarizations": [
           [
            "VV",
            "VH"
           ],
           [
            "HH",
            "HV"
           ],
           [
            "VV"
           ],
           [
            "VH"
           ],
           [
            "HH"
           ],
           [
            "HV"
           ]
          ],
          "sar:product_type": [
           "SLC"
          ],
          "sat:orbit_state": [
           "ascending",
           "descending"
          ],
          "sat:platform_international_designator": [
           "2014-016A",
           "2016-025A",
           "0000-000A"
          ]
         },
         "title": "SENTINEL-1 Level 1 Single Look Complex (SLC) - EODC store",
         "type": "Collection"
        },
        {
         "assets": {
          "thumbnail": {
           "href": "https://datastore.copernicus-climate.eu/c3s/published-forms-v2/c3sprod/reanalysis-uerra-europe-single-levels/overview.png",
           "roles": [
            "thumbnail"
           ],
           "title": "Preview image",
           "type": "image/png"
          }
         },
         "cube:dimensions": {
          "lat": {
           "axis": "y",
           "description": "latitude",
           "extent": [
            -26.018616,
            80.77476
           ],
           "reference_system": "epsg:4326",
           "step": -0.25,
           "type": "spatial"
          },
          "lon": {
           "axis": "x",
           "description": "longitude",
           "extent": [
            -69.103165,
            61.78629
           ],
           "reference_system": "epsg:4326",
           "step": 0.25,
           "type": "spatial"
          },
          "time": {
           "extent": [
            "1961-01-01T00:00:00Z",
            "2019-08-01T00:00:00Z"
           ],
           "type": "temporal"
          }
         },
         "cube:variables": {
          "10m_wind_direction": {
           "attrs": {
            "long_name": "10 metre wind direction",
            "shortName": "10wdir"
           },
           "description": "Wind direction at a height of 10m.",
           "dimensions": [
            "lon",
            "lat",
            "time"
           ],
           "type": "data",
           "unit": "degrees"
          },
          "10m_wind_speed": {
           "attrs": {
            "long_name": "10 metre wind speed",
            "shortName": "10si"
           },
           "description": "This parameter is the horizontal speed of the wind, or movement of air, at a height of ten metres above the surface of the Earth. The units of this parameter are metres per second.\nCare should be taken when comparing this parameter with observations, because wind observations vary on small space and time scales and are affected by the local terrain, vegetation and buildings that are represented only on average in the ECMWF Integrated Forecasting System.\nThe eastward and northward components of the horizontal wind at 10m are also available as parameters.",
           "dimensions": [
            "lon",
            "lat",
            "time"
           ],
           "type": "data",
           "unit": "m s**-1"
          },
          "2m_relative_humidity": {
           "attrs": {
            "long_name": "2 metre relative humidity",
            "shortName": "2r"
           },
           "description": "The ratio of the partial pressure of water vapour to the equilibrium vapour pressure of water at the same temperature near the surface.\nNote that the specific height level above ground might vary from one centre to another.",
           "dimensions": [
            "lon",
            "lat",
            "time"
           ],
           "type": "data",
           "unit": "%"
          },
          "2m_temperature": {
           "attrs": {
            "long_name": "2 metre temperature",
            "shortName": "2t"
           },
           "description": "This parameter is the temperature of air at 2m above the surface of land, sea or in-land waters.\n2m temperature is calculated by interpolating between the lowest model level and the Earth's surface, taking account of the atmospheric conditions.\nThis parameter has units of kelvin (K). Temperature measured in kelvin can be converted to degrees Celsius (°C) by subtracting 273.15.",
           "dimensions": [
            "lon",
            "lat",
            "time"
           ],
           "type": "data",
           "unit": "K"
          },
          "albedo": {
           "attrs": {
            "long_name": "Albedo",
            "shortName": "al"
           },
           "description": "",
           "dimensions": [
            "lon",
            "lat",
            "time"
           ],
           "type": "data",
           "unit": "(0 - 1)"
          },
          "high_cloud_cover": {
           "attrs": {
            "long_name": "High cloud cover",
            "shortName": "hcc"
           },
           "description": "Percentage of the sky hidden by high cloud",
           "dimensions": [
            "lon",
            "lat",
            "time"
           ],
           "type": "data",
           "unit": "%"
          },
          "land_sea_mask": {
           "attrs": {
            "long_name": "Land-sea mask",
            "shortName": "lsm"
           },
           "description": "This parameter is the proportion of land, as opposed to ocean or inland waters (lakes, reservoirs, rivers and coastal waters), in a grid box.\nThis parameter has values ranging between zero and one and is dimensionless.\nIn cycles of the ECMWF Integrated Forecasting System (IFS) from CY41R1 (introduced in May 2015) onwards, grid boxes where this parameter has a value above 0.5 can be comprised of a mixture of land and inland water but not ocean. Grid boxes with a value of 0.5 and below can only be comprised of a water surface. In the latter case, the lake cover is used to determine how much of the water surface is ocean or inland water.\nIn cycles of the IFS before CY41R1, grid boxes where this parameter has a value above 0.5 can only be comprised of land and those grid boxes with a value of 0.5 and below can only be comprised of ocean. In these older model cycles, there is no differentiation between ocean and inland water.",
           "dimensions": [
            "lon",
            "lat",
            "time"
           ],
           "type": "data",
           "unit": "(0 - 1)"
          },
          "low_cloud_cover": {
           "attrs": {
            "long_name": "Low cloud cover",
            "shortName": "lcc"
           },
           "description": "",
           "dimensions": [
            "lon",
            "lat",
            "time"
           ],
           "type": "data",
           "unit": "%"
          },
          "mean_sea_level_pressure": {
           "attrs": {
            "long_name": "Mean sea level pressure",
            "shortName": "msl"
           },
           "description": "This parameter is the pressure (force per unit area) of the atmosphere adjusted to the height of mean sea level.\nIt is a measure of the weight that all the air in a column vertically above the area of Earth's surface would have at that point, if the point were located at the mean sea level. It is calculated over all surfaces - land, sea and in-land water.\nMaps of mean sea level pressure are used to identify the locations of low and high pressure systems, often referred to as cyclones and anticyclones. Contours of mean sea level pressure also indicate the strength of the wind. Tightly packed contours show stronger winds.\nThe units of this parameter are pascals (Pa). Mean sea level pressure is often measured in hPa and sometimes is presented in the old units of millibars, mb (1 hPa = 1 mb = 100 Pa).",
           "dimensions": [
            "lon",
            "lat",
            "time"
           ],
           "type": "data",
           "unit": "Pa"
          },
          "medium_cloud_cover": {
           "attrs": {
            "long_name": "Medium cloud cover",
            "shortName": "mcc"
           },
           "description": "",
           "dimensions": [
            "lon",
            "lat",
            "time"
           ],
           "type": "data",
           "unit": "%"
          },
          "orography": {
           "attrs": {
            "long_name": "Orography",
            "shortName": "orog"
           },
           "description": "",
           "dimensions": [
            "lon",
            "lat",
            "time"
           ],
           "type": "data",
           "unit": "gpm"
          },
          "skin_temperature": {
           "attrs": {
            "long_name": "Skin temperature",
            "shortName": "skt"
           },
           "description": "This parameter is the temperature of the surface of the Earth.\nThe skin temperature is the theoretical temperature that is required to satisfy the surface energy balance. It represents the temperature of the uppermost surface layer, which has no heat capacity and so can respond instantaneously to changes in surface fluxes. Skin temperature is calculated differently over land and sea.\nThis parameter has units of kelvin (K). Temperature measured in kelvin can be converted to degrees Celsius (°C) by subtracting 273.15.\nSee further information about the skin temperature over land and over sea.",
           "dimensions": [
            "lon",
            "lat",
            "time"
           ],
           "type": "data",
           "unit": "K"
          },
          "snow_density": {
           "attrs": {
            "long_name": "Snow density",
            "shortName": "rsn"
           },
           "description": "This parameter is the mass of snow per cubic metre in the snow layer.\nThe ECMWF Integrated Forecast System (IFS) model represents snow as a single additional layer over the uppermost soil level. The snow may cover all or part of the grid box.",
           "dimensions": [
            "lon",
            "lat",
            "time"
           ],
           "type": "data",
           "unit": "kg m**-3"
          },
          "snow_depth_water_equivalent": {
           "attrs": {
            "long_name": "Snow depth water equivalent",
            "shortName": "sd"
           },
           "description": "Snow depth water equivalent in kg m**-2 (mm) water equivalent",
           "dimensions": [
            "lon",
            "lat",
            "time"
           ],
           "type": "data",
           "unit": "kg m**-2"
          },
          "surface_pressure": {
           "attrs": {
            "long_name": "Surface pressure",
            "shortName": "sp"
           },
           "description": "This parameter is the pressure (force per unit area) of the atmosphere on the surface of land, sea and in-land water.\nIt is a measure of the weight of all the air in a column vertically above the area of the Earth's surface represented at a fixed point.\nSurface pressure is often used in combination with temperature to calculate air density.\nThe strong variation of pressure with altitude makes it difficult to see the low and high pressure systems over mountainous areas, so mean sea level pressure, rather than surface pressure, is normally used for this purpose.\nThe units of this parameter are Pascals (Pa). Surface pressure is often measured in hPa and sometimes is presented in the old units of millibars, mb (1 hPa = 1 mb= 100 Pa).",
           "dimensions": [
            "lon",
            "lat",
            "time"
           ],
           "type": "data",
           "unit": "Pa"
          },
          "surface_roughness": {
           "attrs": {
            "long_name": "Surface roughness",
            "shortName": "sr"
           },
           "description": "Aerodynamic roughness length (over land). Climatological field.",
           "dimensions": [
            "lon",
            "lat",
            "time"
           ],
           "type": "data",
           "unit": "m"
          },
          "total_cloud_cover": {
           "attrs": {
            "long_name": "Total Cloud Cover",
            "shortName": "tcc"
           },
           "description": "",
           "dimensions": [
            "lon",
            "lat",
            "time"
           ],
           "type": "data",
           "unit": "%"
          },
          "total_column_integrated_water_vapour": {
           "attrs": {
            "long_name": "Total column integrated water vapour",
            "shortName": "tciwv"
           },
           "description": "",
           "dimensions": [
            "lon",
            "lat",
            "time"
           ],
           "type": "data",
           "unit": "kg m**-2"
          },
          "total_precipitation": {
           "attrs": {
            "long_name": "Total Precipitation",
            "shortName": "tp"
           },
           "description": "",
           "dimensions": [
            "lon",
            "lat",
            "time"
           ],
           "type": "data",
           "unit": "kg m**-2"
          }
         },
         "dedl:short_description": "This UERRA dataset contains analyses of surface and near-surface essential climate variables from UERRA-HARMONIE and MESCAN-SURFEX systems.",
         "description": "This UERRA dataset contains analyses of surface and near-surface essential climate variables from\nUERRA-HARMONIE and MESCAN-SURFEX systems. Forecasts up to 30 hours initialised\nfrom the analyses at 00 and 12 UTC are available only through the CDS-API (see Documentation). UERRA-HARMONIE is a 3-dimensional variational data assimilation system,\nwhile MESCAN-SURFEX is a complementary surface analysis system.\nUsing the Optimal Interpolation method, MESCAN provides the best estimate of daily accumulated precipitation\nand six-hourly air temperature and relative humidity at 2 meters above the model topography. The land surface platform SURFEX is forced with downscaled forecast fields from UERRA-HARMONIE as well as MESCAN analyses.\nIt is run offline, i.e. without feedback to the atmospheric analysis performed in MESCAN or the UERRA-HARMONIE data\nassimilation cycles. Using SURFEX offline allows to take full benefit of precipitation analysis and to use the more\nadvanced physics options to better represent surface variables such as surface temperature and\nsurface fluxes, and soil processes related to water and heat transfer in the soil and snow. In general, the assimilation systems are able to estimate biases between observations and to sift good-quality\ndata from poor data. The laws of physics allow for estimates at locations where data coverage is low. The provision of\nestimates at each grid point in Europe for each regular output time, over a long period, always using the same format,\nmakes reanalysis a very convenient and popular dataset to work with.\nThe observing system has changed drastically over time, and although the assimilation system\ncan resolve data holes, the much sparser observational networks, e.g. in 1960s,\nwill have an impact on the quality of analyses leading to less accurate estimates.\nThe improvement over global reanalysis products comes with the higher horizontal resolution\nthat allows incorporating more regional details (e.g. topography). Moreover, it enables\nthe system even to use more observations at places with dense observation networks.\n\nMain Variables:[['Name'\t'Full_Name'\t'ShortName'\t'Units'\t'Description'\t'url']\n ['10m wind direction'\t'10 metre wind direction'\t'dwi'\t'degrees'\n  'Wind direction valid for a grid cell at the  height of 10m above the surface. Values are in the interval [0,360). A value of  0° means a northerly wind and 90° indicates an easterly wind.'\n  'https://codes.ecmwf.int/grib/param-db/?id=140249']\n ['10m wind speed'\t'10 metre wind speed'\t'10si'\t'm.s⁻¹'\n  'Wind speed valid for a grid cell at the height of 10m above the surface.  It is computed from both the zonal (u) and the meridional (v) wind components by sqrt(u 2 + v 2 ).'\n  'https://codes.ecmwf.int/grib/param-db/?id=207']\n ['2m relative humidity'\t'2m Relative Humidity'\t'relhum_2m'\t'%'\n  'Relation between actual humidity and saturation humidity. Values are in the interval [0,100]. 0%means that the air in the grid cell  is totally dry whereas 100% indicates that the air in the cell is saturated with water vapour. The saturation is defined with respect to saturation of the mixed phase, i.e. with respect to saturation over ice below -23°C and with respect to saturation over water above 0°C. In the regime in between a quadratic interpolation is applied.'\n  'https://codes.ecmwf.int/grib/param-db/?id=500036']\n ['2m temperature'\t'2m Temperature'\t't_2m'\t'K'\n  'Air temperature valid for a grid cell at the  height of 2m above the surface.'\n  'https://codes.ecmwf.int/grib/param-db/?id=500011']\n ['Albedo'\t'Albedo'\t'al'\t'(0 - 1)'\n  'Amount of radiation reflected  by a grid cell,  both for ground and water surfaces, relatively to the incoming radiation.  Small values mean that large amounts of the radiation are  absorbed whereas large values mean that more radiation is reflected.'\n  'https://codes.ecmwf.int/grib/param-db/?id=174']\n ['High cloud cover'\t'High cloud cover'\t'hcc'\t'(0 - 1)'\n  'Percentage of the grid cell for which  the sky is covered with clouds at  high altitude.'\n  'https://codes.ecmwf.int/grib/param-db/?id=188']\n ['Land sea mask'\t'Land sea mask'\t'lsmk'\t'(0 - 1)'\n  'The values are between 0 (sea) and 1 (land) and are constant over time.'\n  'https://codes.ecmwf.int/grib/param-db/?id=300081']\n ['Low cloud cover'\t'Low cloud cover'\t'lcc'\t'(0 - 1)'\n  'Percentage of the grid cell for which  the  sky is covered with clouds at low altitude.'\n  'https://codes.ecmwf.int/grib/param-db/?id=186']\n ['Mean sea level pressure'\t'Mean sea level pressure'\t'msl'\t'Pa'\n  'Air pressure in the grid cell reduced to mean sea level.'\n  'https://codes.ecmwf.int/grib/param-db/?id=151']\n ['Medium cloud cover'\t'Medium cloud cover'\t'mcc'\t'(0 - 1)'\n  'Percentage of the grid cell for which  the  sky is covered with clouds at medium altitude.'\n  'https://codes.ecmwf.int/grib/param-db/?id=187']\n ['Orography'\t'Orography'\t'orog'\t'm'\n  'Average height of the surface grid cell with respect to the model defined globe.'\n  'https://codes.ecmwf.int/grib/param-db/?id=228002']\n ['Skin temperature'\t'Skin temperature'\t'skt'\t'K'\n  'Boundary temperature in grid cells  between the ground and water surfaces and the atmosphere above.'\n  'https://codes.ecmwf.int/grib/param-db/?id=235']\n ['Snow density'\t'Snow density'\t'rsn'\t'kg.m⁻³'\n  'Average density of snow over a grid cell.'\n  'https://codes.ecmwf.int/grib/param-db/?id=33']\n ['Snow depth water equivalent'\t'Snow depth water equivalent'\t'sd'\n  'kg.m⁻²'\n  'Amount of snow in  kg over a square meter in average on a grid cell.'\n  'https://codes.ecmwf.int/grib/param-db/?id=228141']\n ['Surface pressure'\t'Surface pressure'\t'sp'\t'Pa'\n  'Air pressure in the grid cell at the land and water surface.'\n  'https://codes.ecmwf.int/grib/param-db/?id=134']\n ['Surface roughness'\t'Surface roughness'\t'sr'\t'm'\n  'Mean value over a grid cell of the aerodynamic roughness length. Only values over land are available.'\n  'https://codes.ecmwf.int/grib/param-db/?id=173']\n ['Total cloud cover'\t'Total cloud cover'\t'tcc'\t'(0 - 1)'\n  'Percentage of the grid cell for which the sky is covered with clouds. Clouds at any height above the surface are considered.'\n  'https://codes.ecmwf.int/grib/param-db/?id=164']\n ['Total column integrated water vapour'\n  'Total column integrated water vapour'\t'tciwv'\t'kg.m⁻²'\n  'Total amount of water vapour from surface to the top of the atmosphere for each grid cell.'\n  'https://codes.ecmwf.int/grib/param-db/?id=260057']\n ['Total precipitation'\t'Total precipitation'\t'tp'\t'm'\n  'Amount of water falling onto the ground/water surface. It includes  all kind of precipitation forms as convective precipitation, large scale precipitation, liquid and solid. It is an accumulated parameter  over the 24 hours from 06:00 to 06:00 of the next day. Values are valid for a grid cell.'\n  'https://codes.ecmwf.int/grib/param-db/?id=228']]\n\nData type: Gridded\nProjection: Lambert conformal conic grid with 565 x 565 grid points for the UERRA-HARMONIE system. Lambert conformal conic grid with 1069 x 1069 grid points for the  MESCAN-SURFEX system.\nHorizontal coverage: Europe: The domain spans from northern Africa beyond the northern tip of Scandinavia. In the west it ranges far into the Atlantic ocean and in the east it reaches to the Ural.\nHorizontal resolution: 11km x 11km for the UERRA-HARMONIE system. 5.5km x 5.5km for the MESCAN-SURFEX system.\nVertical coverage: Near surface.\nVertical resolution: Single level.\nTemporal coverage: January 1961 to July 2019.\nTemporal resolution: Analysis are availabe each day at 00, 06, 12 and 18 UTC.\nFile format: GRIB2\nUpdate frequency: No expected updates.",
         "extent": {
          "spatial": {
           "bbox": [
            [
             -69.103165,
             -26.018616,
             61.78629,
             80.77476
            ]
           ]
          },
          "temporal": {
           "interval": [
            [
             "1961-01-01T00:00:00Z",
             "2019-08-01T00:00:00Z"
            ]
           ]
          }
         },
         "id": "EO.ECMWF.DAT.REANALYSIS_UERRA_EUROPE_SINGLE_LEVELS",
         "keywords": [
          "Atmospheric conditions",
          "Product type: Reanalysis",
          "Spatial coverage: Europe",
          "Variable domain: Atmosphere (upper air)",
          "Temporal coverage: Past",
          "Provider: Copernicus C3S"
         ],
         "license": "proprietary",
         "links": [
          {
           "href": "https://hda.central.data.destination-earth.eu/stac/collections/EO.ECMWF.DAT.REANALYSIS_UERRA_EUROPE_SINGLE_LEVELS/items",
           "rel": "items",
           "type": "application/geo+json"
          },
          {
           "href": "https://hda.central.data.destination-earth.eu/stac/",
           "rel": "parent",
           "type": "application/json"
          },
          {
           "href": "https://hda.central.data.destination-earth.eu/stac/",
           "rel": "root",
           "type": "application/json"
          },
          {
           "href": "https://hda.central.data.destination-earth.eu/stac/collections/EO.ECMWF.DAT.REANALYSIS_UERRA_EUROPE_SINGLE_LEVELS",
           "rel": "self",
           "type": "application/json"
          },
          {
           "href": "https://cds.climate.copernicus.eu/api/v2/terms/static/20180314_Copernicus_License_V1.1.pdf",
           "rel": "license",
           "title": "Licence to Use Copernicus Products"
          },
          {
           "href": "https://cds.climate.copernicus.eu/cdsapp#!/dataset/10.24381/cds.32b04ec5",
           "rel": "describedby",
           "title": "Climate Data Store catalogue"
          },
          {
           "href": "https://datastore.copernicus-climate.eu/documents/uerra/D322_Lot1.4.1.2_User_guides_v3.3.pdf",
           "rel": "describedby",
           "title": "UERRA product user guide v3.3 (PDF)"
          },
          {
           "href": "https://confluence.ecmwf.int/display/UER/Issues+with+data",
           "rel": "describedby",
           "title": "Known issues in UERRA"
          },
          {
           "href": "https://datastore.copernicus-climate.eu/documents/uerra/D322_Lot1.1.1.2_Documentation_of_the_RRA_system_UERRA_v2.pdf",
           "rel": "describedby",
           "title": "Documenting the UERRA system (PDF)"
          },
          {
           "href": "https://datastore.copernicus-climate.eu/c3s/published-forms-v2/c3sprod/reanalysis-uerra-europe-single-levels/overview.png",
           "rel": "describedby",
           "title": "large_thumbnail"
          },
          {
           "href": "https://cds.climate.copernicus.eu:443//geonetwork/srv/eng/xml.metadata.get?uuid=eu.copernicus.climate.reanalysis-uerra-europe-single-levels",
           "rel": "describedby",
           "title": "Description"
          },
          {
           "href": "https://cds.climate.copernicus.eu:443//geonetwork?uuid=eu.copernicus.climate.reanalysis-uerra-europe-single-levels",
           "rel": "describedby",
           "title": "Description"
          },
          {
           "href": "https://cds.climate.copernicus.eu/cdsapp#!/dataset/10.24381/cds.32b04ec5",
           "rel": "describedby",
           "title": "Documentation"
          },
          {
           "href": "https://datastore.copernicus-climate.eu/documents/uerra/D322_Lot1.4.1.2_User_guides_v3.3.pdf",
           "rel": "describedby",
           "title": "Documentation"
          },
          {
           "href": "https://confluence.ecmwf.int/display/UER/Issues+with+data",
           "rel": "describedby",
           "title": "Documentation"
          },
          {
           "href": "https://datastore.copernicus-climate.eu/documents/uerra/D322_Lot1.1.1.2_Documentation_of_the_RRA_system_UERRA_v2.pdf",
           "rel": "describedby",
           "title": "Documentation"
          },
          {
           "href": "https://eo-apis.csgroup.space/dataset/EO.ECMWF.DAT.REANALYSIS_UERRA_EUROPE_SINGLE_LEVELS",
           "rel": "describedby",
           "title": "Human readable dataset overview and reference",
           "type": "text/html"
          }
         ],
         "providers": [
          {
           "description": "European Centre for Medium-Range Weather Forecasts (ECMWF)",
           "name": "European Centre for Medium-Range Weather Forecasts (ECMWF)",
           "roles": [
            "producer",
            "processor",
            "licensor"
           ],
           "url": "https://www.ecmwf.int"
          },
          {
           "name": "Copernicus Climate Data Store",
           "roles": [
            "host"
           ],
           "url": "https://cds.climate.copernicus.eu"
          }
         ],
         "stac_extensions": [
          "https://stac-extensions.github.io/datacube/v2.0.0/schema.json"
         ],
         "stac_version": "1.0.0",
         "summaries": {
          "constellation": [
           "UERRA"
          ],
          "platform": [
           "UERRA"
          ]
         },
         "title": "UERRA regional reanalysis for Europe on single levels from 1961 to 2019",
         "type": "Collection"
        },
        {
         "assets": {
          "thumbnail": {
           "href": "https://datastore.copernicus-climate.eu/c3s/published-forms-v2/c3sprod/reanalysis-era5-single-levels-monthly-means/overview.jpg",
           "roles": [
            "thumbnail"
           ],
           "title": "overview",
           "type": "image/png"
          }
         },
         "dedl:short_description": "ERA5 is the fifth generation ECMWF reanalysis for the global climate and weather for the past 8 decades. Data is available from 1940 onwards. ERA5 replaces the ERA-Interim reanalysis.",
         "description": "ERA5 is the fifth generation ECMWF reanalysis for the global climate and weather for the past 8 decades. Data is available from 1940 onwards. ERA5 replaces the ERA-Interim reanalysis.\n\nReanalysis combines model data with observations from across the world into a globally complete and consistent dataset using the laws of physics. This principle, called data assimilation, is based on the method used by numerical weather prediction centres, where every so many hours (12 hours at ECMWF) a previous forecast is combined with newly available observations in an optimal way to produce a new best estimate of the state of the atmosphere, called analysis, from which an updated, improved forecast is issued. Reanalysis works in the same way, but at reduced resolution to allow for the provision of a dataset spanning back several decades. Reanalysis does not have the constraint of issuing timely forecasts, so there is more time to collect observations, and when going further back in time, to allow for the ingestion of improved versions of the original observations, which all benefit the quality of the reanalysis product.\n\nERA5 provides hourly estimates for a large number of atmospheric, ocean-wave and land-surface quantities. An uncertainty estimate is sampled by an underlying 10-member ensemble at three-hourly intervals. Ensemble mean and spread have been pre-computed for convenience. Such uncertainty estimates are closely related to the information content of the available observing system which has evolved considerably over time. They also indicate flow-dependent sensitive areas. To facilitate many climate applications, monthly-mean averages have been pre-calculated too, though monthly means are not available for the ensemble mean and spread.\n\nERA5 is updated daily with a latency of about 5 days (monthly means are available around the 6th of each month). In case that serious flaws are detected in this early release (called ERA5T), this data could be different from the final release 2 to 3 months later. In case that this occurs users are notified.\n\nThe data set presented here is a regridded subset of the full ERA5 data set on native resolution. It is online on spinning disk, which should ensure fast and easy access. It should satisfy the requirements for most common applications.\n\nData has been regridded to a regular lat-lon grid of 0.25 degrees for the reanalysis and 0.5 degrees for the uncertainty estimate (0.5 and 1 degree respectively for ocean waves). There are four main sub sets: hourly and monthly products, both on pressure levels (upper air fields) and single levels (atmospheric, ocean-wave and land surface quantities).",
         "extent": {
          "spatial": {
           "bbox": [
            [
             -180,
             -89,
             180,
             89
            ]
           ]
          },
          "temporal": {
           "interval": [
            [
             "1940-01-01T00:00:00Z",
             null
            ]
           ]
          }
         },
         "id": "EO.ECMWF.DAT.REANALYSIS_ERA5_SINGLE_LEVELS_MONTHLY_MEANS",
         "keywords": [
          "Atmospheric conditions",
          "Variable domain: Atmosphere (surface)",
          "Variable domain: Atmosphere (upper air)",
          "Temporal coverage: Past",
          "Spatial coverage: Global",
          "Product type: Reanalysis",
          "Provider: Copernicus C3S"
         ],
         "license": "proprietary",
         "links": [
          {
           "href": "https://hda.central.data.destination-earth.eu/stac/collections/EO.ECMWF.DAT.REANALYSIS_ERA5_SINGLE_LEVELS_MONTHLY_MEANS/items",
           "rel": "items",
           "type": "application/geo+json"
          },
          {
           "href": "https://hda.central.data.destination-earth.eu/stac/",
           "rel": "parent",
           "type": "application/json"
          },
          {
           "href": "https://hda.central.data.destination-earth.eu/stac/",
           "rel": "root",
           "type": "application/json"
          },
          {
           "href": "https://hda.central.data.destination-earth.eu/stac/collections/EO.ECMWF.DAT.REANALYSIS_ERA5_SINGLE_LEVELS_MONTHLY_MEANS",
           "rel": "self",
           "type": "application/json"
          },
          {
           "href": "https://eo-apis.csgroup.space/dataset/EO.ECMWF.DAT.REANALYSIS_ERA5_SINGLE_LEVELS_MONTHLY_MEANS",
           "rel": "describedby",
           "title": "Human readable dataset overview and reference",
           "type": "text/html"
          }
         ],
         "providers": [
          {
           "description": "European Centre for Medium-Range Weather Forecasts (ECMWF)",
           "name": "European Centre for Medium-Range Weather Forecasts (ECMWF)",
           "roles": [
            "licensor",
            "producer",
            "processor"
           ],
           "url": "https://www.ecmwf.int/"
          },
          {
           "name": "Copernicus Climate Data Store",
           "roles": [
            "host"
           ],
           "url": "https://cds.climate.copernicus.eu"
          }
         ],
         "stac_version": "1.0.0",
         "title": "ERA5 monthly averaged data on single levels from 1940 to present",
         "type": "Collection"
        },
        {
         "assets": {
          "thumbnail": {
           "href": "https://navigator.eumetsat.int/preview/s3afrpmwirnight.png",
           "roles": [
            "thumbnail"
           ],
           "title": "Sentinel-3 A SLSTR - FRP MWIR (MW) - Night - 2.0 deg resolution - 13.04.2020",
           "type": "image/png"
          }
         },
         "dedl:short_description": "The Copernicus NRT S3 FRP product identifies the location, and quantifies the radiative power, of any hotspot present on land and ocean Earth surfaces, that radiates a heating signal within a pixel size of 1 km2",
         "description": "The Copernicus NRT S3 FRP product identifies the location, and quantifies the radiative power, of any hotspot present on land and ocean Earth surfaces, that radiates a heating signal within a pixel size of 1 km2\nAll threatening hotspots are identified and characterised within three hours from SLSTR observation sensing time.\nThe current version of the NRT S3 FRP processor is mainly applicable during the night while only a few daytime granules, with non-saturated background (i.e. no fires) radiance, are processed at this stage. The NRT S3 FRP product will become operational after a higher level of quality and maturity is reached, including the full processing of granules during daytime, a comprehensive global validation, and positive feedback by experts and users.",
         "extent": {
          "spatial": {
           "bbox": [
            [
             -180,
             -90,
             180,
             90
            ]
           ]
          },
          "temporal": {
           "interval": [
            [
             "2020-04-08T00:00:00Z",
             null
            ]
           ]
          }
         },
         "id": "EO.EUM.DAT.SENTINEL-3.FRP",
         "item_assets": {
          "thumbnail": {
           "description": "An averaged, decimated preview image in PNG format. Single polarisation products are represented with a grey scale image. Dual polarisation products are represented by a single composite colour image in RGB with the red channel (R) representing the  co-polarisation VV or HH), the green channel (G) represents the cross-polarisation (VH or HV) and the blue channel (B) represents the ratio of the cross an co-polarisations.",
           "roles": [
            "thumbnail"
           ],
           "title": "Preview Image",
           "type": "image/png"
          }
         },
         "keywords": [
          "Fire",
          "Level 2 Data",
          "FRP",
          "Fire Radiative Power",
          "Wildfires"
         ],
         "license": "proprietary",
         "links": [
          {
           "href": "https://hda.central.data.destination-earth.eu/stac/collections/EO.EUM.DAT.SENTINEL-3.FRP/items",
           "rel": "items",
           "type": "application/geo+json"
          },
          {
           "href": "https://hda.central.data.destination-earth.eu/stac/",
           "rel": "parent",
           "type": "application/json"
          },
          {
           "href": "https://hda.central.data.destination-earth.eu/stac/",
           "rel": "root",
           "type": "application/json"
          },
          {
           "href": "https://hda.central.data.destination-earth.eu/stac/collections/EO.EUM.DAT.SENTINEL-3.FRP",
           "rel": "self",
           "type": "application/json"
          },
          {
           "href": "https://eo-apis.csgroup.space/dataset/EO.EUM.DAT.SENTINEL-3.FRP",
           "rel": "describedby",
           "title": "Human readable dataset overview and reference",
           "type": "text/html"
          }
         ],
         "providers": [
          {
           "name": "EUMETSAT",
           "roles": [
            "producer",
            "processor",
            "licensor"
           ],
           "url": "https://www.eumetsat.int/"
          },
          {
           "name": "CREODIAS",
           "roles": [
            "host"
           ],
           "url": "https://creodias.eu"
          },
          {
           "name": "DEDL",
           "roles": [
            "host"
           ],
           "url": "https://destination-earth.eu/"
          }
         ],
         "stac_extensions": [
          "https://stac-extensions.github.io/processing/v1.1.0/schema.json",
          "https://stac-extensions.github.io/item-assets/v1.0.0/schema.json"
         ],
         "stac_version": "1.0.0",
         "summaries": {
          "constellation": [
           "Sentinel-3"
          ],
          "instruments": [
           "SLSTR"
          ],
          "platform": [
           "SENTINEL-3A",
           "SENTINEL-3B"
          ],
          "processing:level": [
           "L2"
          ],
          "s1:product_timeliness": [
           "NRT-3h"
          ]
         },
         "title": "SLSTR Level 2 Fire Radiative Power - Sentinel 3",
         "type": "Collection"
        },
        {
         "assets": {
          "thumbnail": {
           "href": "https://datastore.copernicus-climate.eu/c3s/published-forms-v2/c3sprod/seasonal-original-single-levels/overview.jpg",
           "roles": [
            "thumbnail"
           ],
           "title": "overview",
           "type": "image/jpeg"
          }
         },
         "dedl:short_description": "This entry covers single-level data at the original time resolution (once a day, or once every 6 hours, depending on the variable).",
         "description": "This entry covers single-level data at the original time resolution (once a day, or once every 6 hours, depending on the variable).\nSeasonal forecasts provide a long-range outlook of changes in the Earth system over periods of a few weeks or months, as a result of predictable changes in some of the slow-varying components of the system.\nThis is different from a weather forecast, which gives a lot more precise detail - both in time and space - of the evolution of the state of the atmosphere over a few days into the future.\nThe data includes forecasts created in real-time (since 2017) and retrospective forecasts (hindcasts) initialised at equivalent intervals during the period 1993-2016.",
         "extent": {
          "spatial": {
           "bbox": [
            [
             -180,
             -90,
             180,
             90
            ]
           ]
          },
          "temporal": {
           "interval": [
            [
             "1981-01-01T00:00:00Z",
             null
            ]
           ]
          }
         },
         "id": "EO.ECMWF.DAT.SEASONAL_FORECAST_DAILY_DATA_ON_SINGLE_LEVELS_2017_PRESENT",
         "keywords": [
          "season",
          "forecast",
          "atmosphere",
          "climate",
          "model",
          "C3S",
          "CDS"
         ],
         "license": "proprietary",
         "links": [
          {
           "href": "https://hda.central.data.destination-earth.eu/stac/collections/EO.ECMWF.DAT.SEASONAL_FORECAST_DAILY_DATA_ON_SINGLE_LEVELS_2017_PRESENT/items",
           "rel": "items",
           "type": "application/geo+json"
          },
          {
           "href": "https://hda.central.data.destination-earth.eu/stac/",
           "rel": "parent",
           "type": "application/json"
          },
          {
           "href": "https://hda.central.data.destination-earth.eu/stac/",
           "rel": "root",
           "type": "application/json"
          },
          {
           "href": "https://hda.central.data.destination-earth.eu/stac/collections/EO.ECMWF.DAT.SEASONAL_FORECAST_DAILY_DATA_ON_SINGLE_LEVELS_2017_PRESENT",
           "rel": "self",
           "type": "application/json"
          },
          {
           "href": "https://eo-apis.csgroup.space/dataset/EO.ECMWF.DAT.SEASONAL_FORECAST_DAILY_DATA_ON_SINGLE_LEVELS_2017_PRESENT",
           "rel": "describedby",
           "title": "Human readable dataset overview and reference",
           "type": "text/html"
          }
         ],
         "providers": [
          {
           "description": "European Centre for Medium-Range Weather Forecasts (ECMWF)",
           "name": "European Centre for Medium-Range Weather Forecasts (ECMWF)",
           "roles": [
            "licensor",
            "producer",
            "processor"
           ],
           "url": "https://www.ecmwf.int/"
          },
          {
           "name": "Copernicus Climate Data Store",
           "roles": [
            "host"
           ],
           "url": "https://cds.climate.copernicus.eu"
          }
         ],
         "stac_version": "1.0.0",
         "title": "Seasonal forecast daily and subdaily data on single levels",
         "type": "Collection"
        },
        {
         "assets": {
          "thumbnail": {
           "href": "https://datastore.copernicus-climate.eu/c3s/published-forms-v2/c3sprod/seasonal-original-pressure-levels/overview.jpg",
           "roles": [
            "thumbnail"
           ],
           "title": "overview",
           "type": "image/jpeg"
          }
         },
         "dedl:short_description": "This entry covers pressure-level data at the original time resolution (once every 12 hours).",
         "description": "This entry covers pressure-level data at the original time resolution (once every 12 hours). \nSeasonal forecasts provide a long-range outlook of changes in the Earth system over periods of a few weeks or months, as a result of predictable changes in some of the slow-varying components of the system. For example, ocean temperatures typically vary slowly, on timescales of weeks or months; as the ocean has an impact on the overlaying atmosphere, the variability of its properties (e.g. temperature) can modify both local and remote atmospheric conditions. Such modifications of the 'usual' atmospheric conditions are the essence of all long-range (e.g. seasonal) forecasts. This is different from a weather forecast, which gives a lot more precise detail - both in time and space - of the evolution of the state of the atmosphere over a few days into the future. Beyond a few days, the chaotic nature of the atmosphere limits the possibility to predict precise changes at local scales. This is one of the reasons long-range forecasts of atmospheric conditions have large uncertainties. To quantify such uncertainties, long-range forecasts use ensembles, and meaningful forecast products reflect a distributions of outcomes.\nGiven the complex, non-linear interactions between the individual components of the Earth system, the best tools for long-range forecasting are climate models which include as many of the key components of the system and possible; typically, such models include representations of the atmosphere, ocean and land surface. These models are initialised with data describing the state of the system at the starting point of the forecast, and used to predict the evolution of this state in time.\nWhile uncertainties coming from imperfect knowledge of the initial conditions of the components of the Earth system can be described with the use of ensembles, uncertainty arising from approximations made in the models are very much dependent on the choice of model. A convenient way to quantify the effect of these approximations is to combine outputs from several models, independently developed, initialised and operated.\nTo this effect, the C3S provides a multi-system seasonal forecast service, where data produced by state-of-the-art seasonal forecast systems developed, implemented and operated at forecast centres in several European countries is collected, processed and combined to enable user-relevant applications. The composition of the C3S seasonal multi-system and the full content of the database underpinning the service are described in the documentation. The data is grouped in several catalogue entries (CDS datasets), currently defined by the type of variable (single-level or multi-level, on pressure surfaces) and the level of post-processing applied (data at original time resolution, processing on temporal aggregation and post-processing related to bias adjustment).\nThe variables available in this data set are listed in the table below. The data includes forecasts created in real-time (since 2017) and retrospective forecasts (hindcasts) initialised at equivalent intervals during the period 1993-2016.\n\nVariables in the dataset/application are:\nGeopotential, Specific humidity, Temperature, U-component of wind, V-component of wind",
         "extent": {
          "spatial": {
           "bbox": [
            [
             -180,
             -90,
             180,
             90
            ]
           ]
          },
          "temporal": {
           "interval": [
            [
             "1993-01-01T00:00:00Z",
             null
            ]
           ]
          }
         },
         "id": "EO.ECMWF.DAT.SEASONAL_FORECAST_DAILY_DATA_ON_PRESSURE_LEVELS_2017_PRESENT",
         "keywords": [
          "Variable domain: Atmosphere (surface)",
          "Temporal coverage: Future",
          "Atmospheric conditions",
          "Spatial coverage: Global",
          "Temporal coverage: Past",
          "Variable domain: Atmosphere (upper air)",
          "Provider: Copernicus C3S",
          "Temporal coverage: Present",
          "Product type: Seasonal forecasts"
         ],
         "license": "proprietary",
         "links": [
          {
           "href": "https://hda.central.data.destination-earth.eu/stac/collections/EO.ECMWF.DAT.SEASONAL_FORECAST_DAILY_DATA_ON_PRESSURE_LEVELS_2017_PRESENT/items",
           "rel": "items",
           "type": "application/geo+json"
          },
          {
           "href": "https://hda.central.data.destination-earth.eu/stac/",
           "rel": "parent",
           "type": "application/json"
          },
          {
           "href": "https://hda.central.data.destination-earth.eu/stac/",
           "rel": "root",
           "type": "application/json"
          },
          {
           "href": "https://hda.central.data.destination-earth.eu/stac/collections/EO.ECMWF.DAT.SEASONAL_FORECAST_DAILY_DATA_ON_PRESSURE_LEVELS_2017_PRESENT",
           "rel": "self",
           "type": "application/json"
          },
          {
           "href": "https://eo-apis.csgroup.space/dataset/EO.ECMWF.DAT.SEASONAL_FORECAST_DAILY_DATA_ON_PRESSURE_LEVELS_2017_PRESENT",
           "rel": "describedby",
           "title": "Human readable dataset overview and reference",
           "type": "text/html"
          }
         ],
         "providers": [
          {
           "description": "European Centre for Medium-Range Weather Forecasts (ECMWF)",
           "name": "European Centre for Medium-Range Weather Forecasts (ECMWF)",
           "roles": [
            "licensor",
            "producer",
            "processor"
           ],
           "url": "https://www.ecmwf.int/"
          },
          {
           "name": "Copernicus Climate Data Store",
           "roles": [
            "host"
           ],
           "url": "https://cds.climate.copernicus.eu"
          }
         ],
         "stac_version": "1.0.0",
         "title": "Seasonal forecast subdaily data on pressure levels",
         "type": "Collection"
        },
        {
         "assets": {
          "thumbnail": {
           "href": "https://datastore.copernicus-climate.eu/c3s/published-forms-v2/c3sprod/seasonal-postprocessed-pressure-levels/overview.jpg",
           "roles": [
            "thumbnail"
           ],
           "title": "overview",
           "type": "image/jpeg"
          }
         },
         "dedl:short_description": "This entry covers pressure-level data post-processed for bias adjustment on a monthly time resolution.",
         "description": "This entry covers pressure-level data post-processed for bias adjustment on a monthly time resolution. \nSeasonal forecasts provide a long-range outlook of changes in the Earth system over periods of a few weeks or months, as a result of predictable changes in some of the slow-varying components of the system. For example, ocean temperatures typically vary slowly, on timescales of weeks or months; as the ocean has an impact on the overlaying atmosphere, the variability of its properties (e.g. temperature) can modify both local and remote atmospheric conditions. Such modifications of the 'usual' atmospheric conditions are the essence of all long-range (e.g. seasonal) forecasts. This is different from a weather forecast, which gives a lot more precise detail - both in time and space - of the evolution of the state of the atmosphere over a few days into the future. Beyond a few days, the chaotic nature of the atmosphere limits the possibility to predict precise changes at local scales. This is one of the reasons long-range forecasts of atmospheric conditions have large uncertainties. To quantify such uncertainties, long-range forecasts use ensembles, and meaningful forecast products reflect a distributions of outcomes.\nGiven the complex, non-linear interactions between the individual components of the Earth system, the best tools for long-range forecasting are climate models which include as many of the key components of the system and possible; typically, such models include representations of the atmosphere, ocean and land surface. These models are initialised with data describing the state of the system at the starting point of the forecast, and used to predict the evolution of this state in time.\nWhile uncertainties coming from imperfect knowledge of the initial conditions of the components of the Earth system can be described with the use of ensembles, uncertainty arising from approximations made in the models are very much dependent on the choice of model. A convenient way to quantify the effect of these approximations is to combine outputs from several models, independently developed, initialised and operated.\nTo this effect, the C3S provides a multi-system seasonal forecast service, where data produced by state-of-the-art seasonal forecast systems developed, implemented and operated at forecast centres in several European countries is collected, processed and combined to enable user-relevant applications. The composition of the C3S seasonal multi-system and the full content of the database underpinning the service are described in the documentation. The data is grouped in several catalogue entries (CDS datasets), currently defined by the type of variable (single-level or multi-level, on pressure surfaces) and the level of post-processing applied (data at original time resolution, processing on temporal aggregation and post-processing related to bias adjustment).\nThe variables available in this data set are listed in the table below. The data includes forecasts created in real-time since 2017.\n\nVariables in the dataset/application are:\nGeopotential anomaly, Specific humidity anomaly, Temperature anomaly, U-component of wind anomaly, V-component of wind anomaly",
         "extent": {
          "spatial": {
           "bbox": [
            [
             -180,
             -90,
             180,
             90
            ]
           ]
          },
          "temporal": {
           "interval": [
            [
             "1993-01-01T00:00:00Z",
             null
            ]
           ]
          }
         },
         "id": "EO.ECMWF.DAT.SEASONAL_FORECAST_ANOMALIES_ON_PRESSURE_LEVELS_2017_PRESENT",
         "keywords": [
          "Variable domain: Atmosphere (surface)",
          "Temporal coverage: Future",
          "Atmospheric conditions",
          "Spatial coverage: Global",
          "Temporal coverage: Past",
          "Variable domain: Atmosphere (upper air)",
          "Provider: Copernicus C3S",
          "Temporal coverage: Present",
          "Product type: Seasonal forecasts"
         ],
         "license": "proprietary",
         "links": [
          {
           "href": "https://hda.central.data.destination-earth.eu/stac/collections/EO.ECMWF.DAT.SEASONAL_FORECAST_ANOMALIES_ON_PRESSURE_LEVELS_2017_PRESENT/items",
           "rel": "items",
           "type": "application/geo+json"
          },
          {
           "href": "https://hda.central.data.destination-earth.eu/stac/",
           "rel": "parent",
           "type": "application/json"
          },
          {
           "href": "https://hda.central.data.destination-earth.eu/stac/",
           "rel": "root",
           "type": "application/json"
          },
          {
           "href": "https://hda.central.data.destination-earth.eu/stac/collections/EO.ECMWF.DAT.SEASONAL_FORECAST_ANOMALIES_ON_PRESSURE_LEVELS_2017_PRESENT",
           "rel": "self",
           "type": "application/json"
          },
          {
           "href": "https://eo-apis.csgroup.space/dataset/EO.ECMWF.DAT.SEASONAL_FORECAST_ANOMALIES_ON_PRESSURE_LEVELS_2017_PRESENT",
           "rel": "describedby",
           "title": "Human readable dataset overview and reference",
           "type": "text/html"
          }
         ],
         "providers": [
          {
           "description": "European Centre for Medium-Range Weather Forecasts (ECMWF)",
           "name": "European Centre for Medium-Range Weather Forecasts (ECMWF)",
           "roles": [
            "licensor",
            "producer",
            "processor"
           ],
           "url": "https://www.ecmwf.int/"
          },
          {
           "name": "Copernicus Climate Data Store",
           "roles": [
            "host"
           ],
           "url": "https://cds.climate.copernicus.eu"
          }
         ],
         "stac_version": "1.0.0",
         "title": "Seasonal forecast anomalies on pressure levels",
         "type": "Collection"
        },
        {
         "assets": {
          "thumbnail": {
           "href": "https://navigator.eumetsat.int/preview/s3_slstr_1.png",
           "roles": [
            "thumbnail"
           ],
           "title": "SLSTR Level 1B",
           "type": "image/png"
          }
         },
         "dedl:short_description": "The SLSTR level 1 products contain: the radiances of the 6 visible (VIS), Near Infra-Red (NIR) and Short Wave Infra-Red (SWIR) bands (on the A and B stripe grids); the Brightness Temperature (BT) for the 3 Thermal Infra-Red (TIR) bands; the BT for the 2 Fire (FIR) bands. Resolution: 1km at nadir (TIR), 500m (VIS).",
         "description": "The SLSTR level 1 products contain: the radiances of the 6 visible (VIS), Near Infra-Red (NIR) and Short Wave Infra-Red (SWIR) bands (on the A and B stripe grids); the Brightness Temperature (BT) for the 3 Thermal Infra-Red (TIR) bands; the BT for the 2 Fire (FIR) bands. Resolution: 1km at nadir (TIR), 500m (VIS). All are provided for both the oblique and nadir view. These measurements are accompanied with grid and time information, quality flags, error estimates and meteorological auxiliary data.\n\n- All Sentinel-3 NRT products are available at pick-up point in less than 3h\n- All Sentinel-3 Non Time Critical (NTC) products are available at pick-up point in less than 30 days.\nSentinel-3 is part of a series of Sentinel satellites, under the umbrella of the EU Copernicus programme.",
         "extent": {
          "spatial": {
           "bbox": [
            [
             -180,
             -90,
             180,
             90
            ]
           ]
          },
          "temporal": {
           "interval": [
            [
             "2016-11-17T00:00:00Z",
             null
            ]
           ]
          }
         },
         "id": "EO.EUM.DAT.SENTINEL-3.SL_1_RBT___",
         "item_assets": {
          "thumbnail": {
           "description": "An averaged, decimated preview image in PNG format. Single polarisation products are represented with a grey scale image. Dual polarisation products are represented by a single composite colour image in RGB with the red channel (R) representing the  co-polarisation VV or HH), the green channel (G) represents the cross-polarisation (VH or HV) and the blue channel (B) represents the ratio of the cross an co-polarisations.",
           "roles": [
            "thumbnail"
           ],
           "title": "Preview Image",
           "type": "image/png"
          }
         },
         "keywords": [
          "Level 1 Data",
          "Ocean",
          "Sea Surface Temperature"
         ],
         "license": "proprietary",
         "links": [
          {
           "href": "https://hda.central.data.destination-earth.eu/stac/collections/EO.EUM.DAT.SENTINEL-3.SL_1_RBT___/items",
           "rel": "items",
           "type": "application/geo+json"
          },
          {
           "href": "https://hda.central.data.destination-earth.eu/stac/",
           "rel": "parent",
           "type": "application/json"
          },
          {
           "href": "https://hda.central.data.destination-earth.eu/stac/",
           "rel": "root",
           "type": "application/json"
          },
          {
           "href": "https://hda.central.data.destination-earth.eu/stac/collections/EO.EUM.DAT.SENTINEL-3.SL_1_RBT___",
           "rel": "self",
           "type": "application/json"
          },
          {
           "href": "https://eo-apis.csgroup.space/dataset/EO.EUM.DAT.SENTINEL-3.SL_1_RBT___",
           "rel": "describedby",
           "title": "Human readable dataset overview and reference",
           "type": "text/html"
          }
         ],
         "providers": [
          {
           "name": "EUMETSAT",
           "roles": [
            "producer",
            "processor",
            "licensor"
           ],
           "url": "https://www.eumetsat.int/"
          },
          {
           "name": "CREODIAS",
           "roles": [
            "host"
           ],
           "url": "https://creodias.eu"
          },
          {
           "name": "DEDL",
           "roles": [
            "host"
           ],
           "url": "https://destination-earth.eu/"
          }
         ],
         "stac_extensions": [
          "https://stac-extensions.github.io/eo/v1.1.0/schema.json",
          "https://stac-extensions.github.io/processing/v1.1.0/schema.json",
          "https://stac-extensions.github.io/item-assets/v1.0.0/schema.json"
         ],
         "stac_version": "1.0.0",
         "summaries": {
          "constellation": [
           "Sentinel-3"
          ],
          "eo:bands": [
           {
            "Centre Wavelength": "554.27 nm",
            "description": ">Cloud screening, vegetation monitoring, aerosol - VNIR - Solar Reflectance Bands - resolution: 500m",
            "name": "S1"
           },
           {
            "Centre Wavelength": "659.47 nm",
            "description": "NDVI, vegetation monitoring, aerosol - VNIR - Solar Reflectance Bands - resolution: 500m",
            "name": "S2"
           },
           {
            "Centre Wavelength": "868.00 nm",
            "description": "NDVI, cloud flagging,Pixel co-registration - VNIR - Solar Reflectance Bands - resolution: 500m",
            "name": "S3"
           },
           {
            "Centre Wavelength": "1374.80 nm",
            "description": "Cirrus detection over land - SWIR - Solar Reflectance Bands - resolution: 500m",
            "name": "S4"
           },
           {
            "Centre Wavelength": "1613.40 nm",
            "description": "loud clearing, ice, snow,vegetation monitoring - SWIR - Solar Reflectance Bands - resolution: 500m",
            "name": "S5"
           },
           {
            "Centre Wavelength": "2255.70 nm",
            "description": "Vegetation state and cloud clearing - SWIR - Solar Reflectance Bands - resolution: 500m",
            "name": "S6"
           },
           {
            "Centre Wavelength": "3742.00 nm",
            "description": "SST, LST, Active fire - Thermal IR Ambient bands (200 K -320 K) - resolution: 1000m",
            "name": "S7"
           },
           {
            "Centre Wavelength": "10854.00 nm",
            "description": "SST, LST, Active fire - Thermal IR Ambient bands (200 K -320 K) - resolution: 1000m",
            "name": "S8"
           },
           {
            "Centre Wavelength": "12022.50 nm",
            "description": "SST, LST - Thermal IR Ambient bands (200 K -320 K) - resolution: 1000m",
            "name": "S9"
           },
           {
            "Centre Wavelength": "3742.00 nm",
            "description": "Active fire - Thermal IR fire emission bands - resolution: 1000m",
            "name": "F1"
           },
           {
            "Centre Wavelength": "10854.00 nm",
            "description": "Active fire - Thermal IR fire emission bands - resolution: 1000m",
            "name": "F2"
           }
          ],
          "instruments": [
           "SLSTR (Sea and Land Surface Temperature Radiometer)"
          ],
          "platform": [
           "SENTINEL-3A",
           "SENTINEL-3B"
          ],
          "processing:level": [
           "L1B"
          ],
          "s1:product_timeliness": [
           "NRT-3h",
           "STC-48h",
           "NTC-1m"
          ]
         },
         "title": "SLSTR Level 1B Radiances and Brightness Temperatures - Sentinel-3",
         "type": "Collection"
        },
        {
         "assets": {
          "thumbnail": {
           "href": "https://datastore.copernicus-climate.eu/c3s/published-forms-v2/c3sprod/satellite-methane/overview.png",
           "roles": [
            "thumbnail"
           ],
           "title": "overview",
           "type": "image/png"
          }
         },
         "dedl:short_description": "This dataset provides observations of atmospheric methane (CH4) amounts obtained from observations collected by several current and historical satellite instruments.",
         "description": "This dataset provides observations of atmospheric methane (CH4)\namounts obtained from observations collected by several current and historical \nsatellite instruments.  Methane is a naturally occurring Greenhouse Gas (GHG), but one whose abundance has been increased substantially above its pre-industrial value of some 720 ppb by human activities, primarily because of agricultural emissions (e.g., rice production, ruminants) and fossil fuel production and use. A clear annual cycle is largely due to seasonal wetland emissions.\nAtmospheric methane abundance is indirectly observed by various satellite instruments. These instruments measure spectrally resolved near-infrared and infrared radiation reflected or emitted by the Earth and its atmosphere. In the measured signal, molecular absorption signatures from methane and constituent gasses can be identified. It is through analysis of those absorption lines in these radiance observations that the averaged methane abundance in the sampled atmospheric column can be determined.\nThe software used to analyse the absorption lines and determine the methane concentration in the sampled atmospheric column is referred to as the retrieval algorithm. For this dataset, methane abundances have been determined by applying several algorithms to different satellite instruments.\nThe data set consists of 2 types of products: (i) column-averaged mixing ratios of CH4, denoted XCH4 and (ii) mid-tropospheric CH4 columns. \nThe XCH4 products have been retrieved from SCIAMACHY/ENVISAT and TANSO-FTS/GOSAT. The mid-tropospheric CH4 product has been retrieved from the IASI instruments onboard the Metop satellite series. The XCH4 products are available as Level 2 (L2) products (satellite orbit tracks) and as Level 3 (L3) product (gridded). The L2 products are available as individual sensor products (SCIAMACHY: WFMD and IMAP algorithms; GOSAT: OCFP, OCPR, SRFP and SRPR algorithms) and as a multi-sensor merged product (EMMA algorithm). The L3 XCH4 product is provided in OBS4MIPS format. The IASI products are available as L2 products generated with the NLIS algorithm.\nThis data set is updated on a yearly basis, with each update cycle adding (if required) a new data version for the entire period, up to one year behind real time.\nThis dataset is produced on behalf of C3S with the exception of the SCIAMACHY L2 products that were generated in the framework of the GHG-CCI project of the European Space Agency (ESA) Climate Change Initiative (CCI).\n\nVariables in the dataset/application are:\nColumn-average dry-air mole fraction of atmospheric methane (XCH4), Mid-tropospheric columns of atmospheric methane (CH4)",
         "extent": {
          "spatial": {
           "bbox": [
            [
             -180,
             -90,
             180,
             90
            ]
           ]
          },
          "temporal": {
           "interval": [
            [
             "2002-10-01T00:00:00Z",
             "2018-12-31T00:00:00Z"
            ]
           ]
          }
         },
         "id": "EO.ECMWF.DAT.METHANE_DATA_SATELLITE_SENSORS_2002_PRESENT",
         "keywords": [
          "Product type: Satellite observations",
          "Atmospheric conditions",
          "Spatial coverage: Global",
          "Temporal coverage: Past",
          "Variable domain: Atmosphere (composition)"
         ],
         "license": "proprietary",
         "links": [
          {
           "href": "https://hda.central.data.destination-earth.eu/stac/collections/EO.ECMWF.DAT.METHANE_DATA_SATELLITE_SENSORS_2002_PRESENT/items",
           "rel": "items",
           "type": "application/geo+json"
          },
          {
           "href": "https://hda.central.data.destination-earth.eu/stac/",
           "rel": "parent",
           "type": "application/json"
          },
          {
           "href": "https://hda.central.data.destination-earth.eu/stac/",
           "rel": "root",
           "type": "application/json"
          },
          {
           "href": "https://hda.central.data.destination-earth.eu/stac/collections/EO.ECMWF.DAT.METHANE_DATA_SATELLITE_SENSORS_2002_PRESENT",
           "rel": "self",
           "type": "application/json"
          },
          {
           "href": "https://eo-apis.csgroup.space/dataset/EO.ECMWF.DAT.METHANE_DATA_SATELLITE_SENSORS_2002_PRESENT",
           "rel": "describedby",
           "title": "Human readable dataset overview and reference",
           "type": "text/html"
          }
         ],
         "providers": [
          {
           "description": "European Centre for Medium-Range Weather Forecasts (ECMWF)",
           "name": "European Centre for Medium-Range Weather Forecasts (ECMWF)",
           "roles": [
            "licensor",
            "producer",
            "processor"
           ],
           "url": "https://www.ecmwf.int/"
          },
          {
           "name": "Copernicus Climate Data Store",
           "roles": [
            "host"
           ],
           "url": "https://cds.climate.copernicus.eu"
          }
         ],
         "stac_version": "1.0.0",
         "title": "Methane data from 2002 to present derived from satellite observations",
         "type": "Collection"
        },
        {
         "description": "DT Lumi sample test data from the Polytope API",
         "extent": {
          "spatial": {
           "bbox": [
            [
             -180,
             -90,
             180,
             90
            ]
           ]
          },
          "temporal": {
           "interval": [
            [
             "2020-07-01T00:00:00Z",
             null
            ]
           ]
          }
         },
         "id": "EO.ECMWF.DAT.DT_LUMI_SAMPLE_TEST",
         "keywords": [
          "DT",
          "Lumi"
         ],
         "license": "proprietary",
         "links": [
          {
           "href": "https://hda.central.data.destination-earth.eu/stac/collections/EO.ECMWF.DAT.DT_LUMI_SAMPLE_TEST/items",
           "rel": "items",
           "type": "application/geo+json"
          },
          {
           "href": "https://hda.central.data.destination-earth.eu/stac/",
           "rel": "parent",
           "type": "application/json"
          },
          {
           "href": "https://hda.central.data.destination-earth.eu/stac/",
           "rel": "root",
           "type": "application/json"
          },
          {
           "href": "https://hda.central.data.destination-earth.eu/stac/collections/EO.ECMWF.DAT.DT_LUMI_SAMPLE_TEST",
           "rel": "self",
           "type": "application/json"
          },
          {
           "href": "https://hda.data.destination-earth.eu/stac/collections/EO.ECMWF.DAT.DT_LUMI_SAMPLE_TEST/items",
           "rel": "items",
           "type": "application/geo+json"
          },
          {
           "href": "https://eo-apis.csgroup.space/dataset/EO.ECMWF.DAT.DT_LUMI_SAMPLE_TEST",
           "rel": "describedby",
           "title": "Human readable dataset overview and reference",
           "type": "text/html"
          },
          {
           "href": "https://eo-apis.csgroup.space/dataset/EO.ECMWF.DAT.DT_LUMI_SAMPLE_TEST",
           "rel": "describedby",
           "title": "Human readable dataset overview and reference",
           "type": "text/html"
          }
         ],
         "providers": [
          {
           "name": "ECMWF",
           "roles": [
            "producer",
            "processor",
            "licensor"
           ],
           "url": "https://www.ecmwf.int/"
          },
          {
           "name": "Polytope LUMI",
           "roles": [
            "host"
           ],
           "url": "https://www.ecmwf.int/"
          }
         ],
         "stac_extensions": [],
         "stac_version": "1.0.0",
         "title": "DT Lumi - sample test",
         "type": "Collection"
        },
        {
         "assets": {
          "thumbnail": {
           "href": "https://navigator.eumetsat.int/preview/chl_OC4ME_20June2017.png",
           "roles": [
            "thumbnail"
           ],
           "title": "Sentinel-3A OLCI algal pigment concentration",
           "type": "image/png"
          }
         },
         "dedl:short_description": "OLCI (Ocean and Land Colour Instrument) Ocean Colour Geophysical Products. Reduced Resolution: 1200m at nadir.",
         "description": "OLCI (Ocean and Land Colour Instrument) Ocean Colour Geophysical Products. Reduced Resolution: 1200m at nadir. Level 2 marine products include the following: * water-leaving reflectances in 16 bands, Oa**_reflectance (Baseline Atmospheric Correction (BAC) algorithm, bands: 400, 412, 442, 490, 510, 560, 620, 665, 674, 681, 709, 754, 779, 865, 885, 1024 nanometer (nm)); *algal pigment concentration in clear waters, chl_oc4me (BAC and maximum band ratio algorithm, log10 scaled); *algal pigment concentration in turbid waters, chl_nn (neural net algorithm, log10 scaled); *total suspended matter concentration, tsm_nn (neural net algorithm, log10 scaled); *diffuse attenuation coefficient Kd of downward irradiance at 490 nm, trsp (BAC and M07 algorithm, log10 scaled); *absorption coefficient at 443 nm of coloured detrital and dissolved organic matter, iop_nn (neural net algorithm, log10 scaled); *instantaneous photosynthetically active radiation, PAR (BAC and clear-sky ocean algorithm); *aerosol optical thickness T865 and aerosol Angstrom exponent A865, w_aer (BAC algorithm, A for bands 779 and 865 nm) *integrated water vapour column, iwv (1D-Var algorithm). The geophysical products are accompanied by error estimate products. Pixel classification, quality and science flags, as well as meteorological, geometry and geolocation data at tie points are provided. \n\n- All Sentinel-3 NRT products are available at pick-up point in less than 3h\n- All Sentinel-3 Non Time Critical (NTC) products are available at pick-up point in less than 30 days.\nSentinel-3 is part of a series of Sentinel satellites, under the umbrella of the EU Copernicus programme.",
         "extent": {
          "spatial": {
           "bbox": [
            [
             -180,
             -90,
             180,
             90
            ]
           ]
          },
          "temporal": {
           "interval": [
            [
             "2017-07-05T00:00:00Z",
             null
            ]
           ]
          }
         },
         "id": "EO.EUM.DAT.SENTINEL-3.OL_2_WRR___",
         "item_assets": {
          "thumbnail": {
           "description": "An averaged, decimated preview image in PNG format. Single polarisation products are represented with a grey scale image. Dual polarisation products are represented by a single composite colour image in RGB with the red channel (R) representing the  co-polarisation VV or HH), the green channel (G) represents the cross-polarisation (VH or HV) and the blue channel (B) represents the ratio of the cross an co-polarisations.",
           "roles": [
            "thumbnail"
           ],
           "title": "Preview Image",
           "type": "image/png"
          }
         },
         "keywords": [
          "Level 2 Data",
          "Ocean",
          "Ocean Colour",
          "Water Quality",
          "Chlorophyll-a Concentration"
         ],
         "license": "proprietary",
         "links": [
          {
           "href": "https://hda.central.data.destination-earth.eu/stac/collections/EO.EUM.DAT.SENTINEL-3.OL_2_WRR___/items",
           "rel": "items",
           "type": "application/geo+json"
          },
          {
           "href": "https://hda.central.data.destination-earth.eu/stac/",
           "rel": "parent",
           "type": "application/json"
          },
          {
           "href": "https://hda.central.data.destination-earth.eu/stac/",
           "rel": "root",
           "type": "application/json"
          },
          {
           "href": "https://hda.central.data.destination-earth.eu/stac/collections/EO.EUM.DAT.SENTINEL-3.OL_2_WRR___",
           "rel": "self",
           "type": "application/json"
          },
          {
           "href": "https://eo-apis.csgroup.space/dataset/EO.EUM.DAT.SENTINEL-3.OL_2_WRR___",
           "rel": "describedby",
           "title": "Human readable dataset overview and reference",
           "type": "text/html"
          }
         ],
         "providers": [
          {
           "name": "EUMETSAT",
           "roles": [
            "producer",
            "processor",
            "licensor"
           ],
           "url": "https://www.eumetsat.int/"
          },
          {
           "name": "CREODIAS",
           "roles": [
            "host"
           ],
           "url": "https://creodias.eu"
          },
          {
           "name": "DEDL",
           "roles": [
            "host"
           ],
           "url": "https://destination-earth.eu/"
          }
         ],
         "stac_extensions": [
          "https://stac-extensions.github.io/eo/v1.1.0/schema.json",
          "https://stac-extensions.github.io/processing/v1.1.0/schema.json",
          "https://stac-extensions.github.io/item-assets/v1.0.0/schema.json"
         ],
         "stac_version": "1.0.0",
         "summaries": {
          "constellation": [
           "Sentinel-3"
          ],
          "eo:bands": [
           {
            "Centre Wavelength": "413 nm",
            "description": "Yellow Substance and Detrital Pigments",
            "name": "O1"
           },
           {
            "Centre Wavelength": "443 nm",
            "description": "Chl Absorption Max. /Vegetation",
            "name": "O2"
           },
           {
            "Centre Wavelength": "490 nm",
            "description": "Chl, Other Pigments",
            "name": "O3"
           },
           {
            "Centre Wavelength": "510 nm",
            "description": "Chl, Sediment, Turbidity, Red tide",
            "name": "O4"
           },
           {
            "Centre Wavelength": "560 nm",
            "description": "Chlorophyll Reference",
            "name": "O5"
           },
           {
            "Centre Wavelength": "620 nm",
            "description": "Sediment Loading",
            "name": "O6"
           },
           {
            "Centre Wavelength": "665 nm",
            "description": "Chl, Sediment, Yellow Substance / Vegetation",
            "name": "O7"
           },
           {
            "Centre Wavelength": "681 nm",
            "description": "Chl Fluorescence Peak, Red Edge",
            "name": "O8"
           },
           {
            "Centre Wavelength": "709 nm",
            "description": "Chl Fluorescence Baseline",
            "name": "O9"
           },
           {
            "Centre Wavelength": "754 nm",
            "description": "O2 Absorption /Cloud/ Ocean Colour",
            "name": "O10"
           },
           {
            "Centre Wavelength": "761 nm",
            "description": "O2 Absorption Band/Aerosol Corr.",
            "name": "O11"
           },
           {
            "Centre Wavelength": "779 nm",
            "description": "Atmos. / Aerosol Corr.",
            "name": "O12"
           },
           {
            "Centre Wavelength": "865 nm",
            "description": "Aerosols, Clouds, Pixel Co-registration",
            "name": "O13"
           },
           {
            "Centre Wavelength": "885 nm",
            "description": "Water Vap. Absorption Ref.",
            "name": "O14"
           },
           {
            "Centre Wavelength": "900 nm",
            "description": "Water Vap. Absorption / Vegetation",
            "name": "O15"
           },
           {
            "Centre Wavelength": "1020 nm",
            "description": "Atmos. / Aerosol Corr.",
            "name": "O16"
           }
          ],
          "instruments": [
           "OLCI (Ocean and Land Colour Instrument)"
          ],
          "platform": [
           "SENTINEL-3A",
           "SENTINEL-3B"
          ],
          "processing:level": [
           "L1B"
          ],
          "s1:product_timeliness": [
           "NRT-3h",
           "STC-48h",
           "NTC-1m"
          ]
         },
         "title": "OLCI Level 2 Ocean Colour Reduced Resolution - Sentinel-3",
         "type": "Collection"
        },
        {
         "assets": {
          "thumbnail": {
           "href": "https://datastore.copernicus-climate.eu/cams/published-forms-v2/camsprod/cams-global-ghg-reanalysis-egg4-monthly/overview.png",
           "roles": [
            "thumbnail"
           ],
           "title": "overview",
           "type": "image/png"
          }
         },
         "dedl:short_description": "This dataset is part of the ECMWF Atmospheric Composition Reanalysis focusing on long-lived greenhouse gases: carbon dioxide (CO2) and methane (CH4).",
         "description": "This dataset is part of the ECMWF Atmospheric Composition Reanalysis focusing on long-lived greenhouse gases: carbon dioxide (CO2) and methane (CH4). The emissions and natural fluxes at the surface are crucial for the evolution of the long-lived greenhouse gases in the atmosphere. In this dataset the CO2 fluxes from terrestrial vegetation are modelled in order to simulate the variability across a wide range of scales from diurnal to inter-annual. The CH4 chemical loss is represented by a climatological loss rate and the emissions at the surface are taken from a range of datasets.\nReanalysis combines model data with observations from across the world into a globally complete and consistent dataset using a model of the atmosphere based on the laws of physics and chemistry. This principle, called data assimilation, is based on the method used by numerical weather prediction centres and air quality forecasting centres, where every so many hours (12 hours at ECMWF) a previous forecast is combined with newly available observations in an optimal way to produce a new best estimate of the state of the atmosphere, called analysis, from which an updated, improved forecast is issued. Reanalysis works in the same way to allow for the provision of a dataset spanning back more than a decade. Reanalysis does not have the constraint of issuing timely forecasts, so there is more time to collect observations, and when going further back in time, to allow for the ingestion of improved versions of the original observations, which all benefit the quality of the reanalysis product.\nThe assimilation system is able to estimate biases between observations and to sift good-quality data from poor data. The atmosphere model allows for estimates at locations where data coverage is low or for atmospheric pollutants for which no direct observations are available. The provision of estimates at each grid point around the globe for each regular output time, over a long period, always using the same format, makes reanalysis a very convenient and popular dataset to work with.\nThe observing system has changed drastically over time, and although the assimilation system can resolve data holes, the initially much sparser networks will lead to less accurate estimates. For this reason, EAC4 is only available from 2003 onwards.\nThe analysis procedure assimilates data in a window of 12 hours using the 4D-Var assimilation method, which takes account of the exact timing of the observations and model evolution within the assimilation window.\nThis page provides monthly mean values, worldwide. Original 3-hourly outputs can be accessed at:\nhttps://ads.atmosphere.copernicus.eu/cdsapp#!/dataset/cams-global-ghg-reanalysis-egg4",
         "extent": {
          "spatial": {
           "bbox": [
            [
             -180,
             -90,
             180,
             90
            ]
           ]
          },
          "temporal": {
           "interval": [
            [
             "2003-01-01T00:00:00Z",
             "2020-01-01T00:00:00Z"
            ]
           ]
          }
         },
         "id": "EO.ECMWF.DAT.CAMS_GLOBAL_GREENHOUSE_GAS_RANALYSIS_MONTHLY_AV_FIELDS",
         "keywords": [
          "CAMS",
          "Air Quality"
         ],
         "license": "proprietary",
         "links": [
          {
           "href": "https://hda.central.data.destination-earth.eu/stac/collections/EO.ECMWF.DAT.CAMS_GLOBAL_GREENHOUSE_GAS_RANALYSIS_MONTHLY_AV_FIELDS/items",
           "rel": "items",
           "type": "application/geo+json"
          },
          {
           "href": "https://hda.central.data.destination-earth.eu/stac/",
           "rel": "parent",
           "type": "application/json"
          },
          {
           "href": "https://hda.central.data.destination-earth.eu/stac/",
           "rel": "root",
           "type": "application/json"
          },
          {
           "href": "https://hda.central.data.destination-earth.eu/stac/collections/EO.ECMWF.DAT.CAMS_GLOBAL_GREENHOUSE_GAS_RANALYSIS_MONTHLY_AV_FIELDS",
           "rel": "self",
           "type": "application/json"
          },
          {
           "href": "https://eo-apis.csgroup.space/dataset/EO.ECMWF.DAT.CAMS_GLOBAL_GREENHOUSE_GAS_RANALYSIS_MONTHLY_AV_FIELDS",
           "rel": "describedby",
           "title": "Human readable dataset overview and reference",
           "type": "text/html"
          }
         ],
         "providers": [
          {
           "description": "European Centre for Medium-Range Weather Forecasts (ECMWF)",
           "name": "European Centre for Medium-Range Weather Forecasts (ECMWF)",
           "roles": [
            "licensor",
            "producer",
            "processor"
           ],
           "url": "https://www.ecmwf.int/"
          },
          {
           "name": "Copernicus Atmosphere Data Store",
           "roles": [
            "host"
           ],
           "url": "https://ads.atmosphere.copernicus.eu"
          }
         ],
         "stac_version": "1.0.0",
         "title": "CAMS global greenhouse gas reanalysis (EGG4) monthly averaged fields",
         "type": "Collection"
        },
        {
         "assets": {
          "thumbnail": {
           "href": "https://datastore.copernicus-climate.eu/cams/published-forms-v2/camsprod/cams-global-radiative-forcings/overview.png",
           "roles": [
            "thumbnail"
           ],
           "title": "overview",
           "type": "image/png"
          }
         },
         "dedl:short_description": "This dataset provides geographical distributions of the radiative forcing (RF) by key atmospheric constituents.",
         "description": "This dataset provides geographical distributions of the radiative forcing (RF) by key atmospheric constituents. The radiative forcing estimates are based on the CAMS reanalysis and additional model simulations and are provided separately for...\n\t- carbon dioxide\n\t- methane\n\t- tropospheric ozone\n\t- stratospheric ozone\n\t- interactions between anthropogenic aerosols and radiation\n\t- interactions between anthropogenic aerosols and clouds\nRadiative forcing measures the imbalance in the Earth's energy budget caused by a perturbation of the climate system, such as changes in atmospheric composition caused by human activities. RF is a useful predictor of globally-averaged temperature change, especially when rapid adjustments of atmospheric temperature and moisture profiles are taken into account. RF has therefore become a quantitative metric to compare the potential climate response to different perturbations. Increases in greenhouse gas concentrations over the industrial era exerted a positive RF, causing a gain of energy in the climate system. In contrast, concurrent changes in atmospheric aerosol concentrations are thought to exert a negative RF leading to a loss of energy.\nProducts are quantified both in “all-sky” conditions, meaning that the radiative effects of clouds are included in the radiative transfer calculations, and in “clear-sky” conditions, which are computed by excluding clouds in the radiative transfer calculations.\nThe upgrade from version 1.5 to 2 consists of an extension of the period by 2017-2018, the addition of an \"effective radiative forcing\" product and new ways to calculate the pre-industrial reference state for aerosols and cloud condensation nuclei. More details are given in the documentation section. New versions may be released in future as scientific methods develop, and existing versions may be extended with later years if data for the period is available from the CAMS reanalysis. Newer versions supercede old versions so it is always recommended to use the latest one.\nCAMS also produces distributions of aerosol optical depths, distinguishing natural from anthropogenic aerosols, which are a separate dataset. See \"Related Data\".",
         "extent": {
          "spatial": {
           "bbox": [
            [
             -180,
             -90,
             180,
             90
            ]
           ]
          },
          "temporal": {
           "interval": [
            [
             "2003-01-01T00:00:00Z",
             "2018-01-01T00:00:00Z"
            ]
           ]
          }
         },
         "id": "EO.ECMWF.DAT.CAMS_GLOBAL_RADIATIVE_FORCING",
         "keywords": [
          "CAMS",
          "Air Quality"
         ],
         "license": "proprietary",
         "links": [
          {
           "href": "https://hda.central.data.destination-earth.eu/stac/collections/EO.ECMWF.DAT.CAMS_GLOBAL_RADIATIVE_FORCING/items",
           "rel": "items",
           "type": "application/geo+json"
          },
          {
           "href": "https://hda.central.data.destination-earth.eu/stac/",
           "rel": "parent",
           "type": "application/json"
          },
          {
           "href": "https://hda.central.data.destination-earth.eu/stac/",
           "rel": "root",
           "type": "application/json"
          },
          {
           "href": "https://hda.central.data.destination-earth.eu/stac/collections/EO.ECMWF.DAT.CAMS_GLOBAL_RADIATIVE_FORCING",
           "rel": "self",
           "type": "application/json"
          },
          {
           "href": "https://eo-apis.csgroup.space/dataset/EO.ECMWF.DAT.CAMS_GLOBAL_RADIATIVE_FORCING",
           "rel": "describedby",
           "title": "Human readable dataset overview and reference",
           "type": "text/html"
          }
         ],
         "providers": [
          {
           "description": "European Centre for Medium-Range Weather Forecasts (ECMWF)",
           "name": "European Centre for Medium-Range Weather Forecasts (ECMWF)",
           "roles": [
            "licensor",
            "producer",
            "processor"
           ],
           "url": "https://www.ecmwf.int/"
          },
          {
           "name": "Copernicus Atmosphere Data Store",
           "roles": [
            "host"
           ],
           "url": "https://ads.atmosphere.copernicus.eu"
          }
         ],
         "stac_version": "1.0.0",
         "title": "CAMS global radiative forcings",
         "type": "Collection"
        },
        {
         "assets": {
          "thumbnail": {
           "href": "https://navigator.eumetsat.int/preview/s3_sral.png",
           "roles": [
            "thumbnail"
           ],
           "title": "Sentinel-3A Sea Level Anomaly (cm)",
           "type": "image/png"
          }
         },
         "dedl:short_description": "The products contain the typical altimetry measurements, like the altimeter range, the sea surface height, the wind speed, significant wave height and all required geophysical corrections and related flags.",
         "description": "The products contain the typical altimetry measurements, like the altimeter range, the sea surface height, the wind speed, significant wave height and all required geophysical corrections and related flags. Also the sea Ice freeboard measurement is included. The measurements in the standard data file provide the measurements in low (1 Hz = approx. 7km) and high resolution (20 Hz = approx. 300 m), in LRM mode or in SAR mode, for both C-band and Ku band. The SAR mode is the default mode. The reduced measurement data file contains 1 Hz measurements only. The enhanced measurement data file contains also the waveforms and associated parameters and the pseudo LRM measurements when in SAR mode. This product contains the following datasets: Sea Level Global(NRT) (PDS_MG3_CORE_14_GLONRT), Sea Level Global Reduced(NRT)(PDS_MG3_CORE_14_GLONRT_RD), Sea Level Global Standard(NRT) (PDS_MG3_CORE_14_GLONRT_SD), Sea Level Global Enhanced(NRT) (PDS_MG3_CORE_14_GLONRT_EN)\n\n- All Sentinel-3 NRT products are available at pick-up point in less than 3h.\n- All Sentinel-3 Non Time Critical (NTC) products are available at pick-up point in less than 30 days\n- All Sentinel-3 Short Time Critical (STC) products are available at pick-up point in less than 48 hours\nSentinel-3 is part of a series of Sentinel satellites, under the umbrella of the EU Copernicus programme.",
         "extent": {
          "spatial": {
           "bbox": [
            [
             -180,
             -90,
             180,
             90
            ]
           ]
          },
          "temporal": {
           "interval": [
            [
             "2016-12-13T00:00:00Z",
             null
            ]
           ]
          }
         },
         "id": "EO.EUM.DAT.SENTINEL-3.SR_2_WAT___",
         "item_assets": {
          "thumbnail": {
           "description": "An averaged, decimated preview image in PNG format. Single polarisation products are represented with a grey scale image. Dual polarisation products are represented by a single composite colour image in RGB with the red channel (R) representing the  co-polarisation VV or HH), the green channel (G) represents the cross-polarisation (VH or HV) and the blue channel (B) represents the ratio of the cross an co-polarisations.",
           "roles": [
            "thumbnail"
           ],
           "title": "Preview Image",
           "type": "image/png"
          }
         },
         "keywords": [
          "Ocean",
          "Sea Surface Height",
          "Level 2 Data",
          "Surface Height",
          "Sea Wind Speed"
         ],
         "license": "proprietary",
         "links": [
          {
           "href": "https://hda.central.data.destination-earth.eu/stac/collections/EO.EUM.DAT.SENTINEL-3.SR_2_WAT___/items",
           "rel": "items",
           "type": "application/geo+json"
          },
          {
           "href": "https://hda.central.data.destination-earth.eu/stac/",
           "rel": "parent",
           "type": "application/json"
          },
          {
           "href": "https://hda.central.data.destination-earth.eu/stac/",
           "rel": "root",
           "type": "application/json"
          },
          {
           "href": "https://hda.central.data.destination-earth.eu/stac/collections/EO.EUM.DAT.SENTINEL-3.SR_2_WAT___",
           "rel": "self",
           "type": "application/json"
          },
          {
           "href": "https://eo-apis.csgroup.space/dataset/EO.EUM.DAT.SENTINEL-3.SR_2_WAT___",
           "rel": "describedby",
           "title": "Human readable dataset overview and reference",
           "type": "text/html"
          }
         ],
         "providers": [
          {
           "name": "EUMETSAT",
           "roles": [
            "producer",
            "processor",
            "licensor"
           ],
           "url": "https://www.eumetsat.int/"
          },
          {
           "name": "CREODIAS",
           "roles": [
            "host"
           ],
           "url": "https://creodias.eu"
          },
          {
           "name": "DEDL",
           "roles": [
            "host"
           ],
           "url": "https://destination-earth.eu/"
          }
         ],
         "stac_extensions": [
          "https://stac-extensions.github.io/processing/v1.1.0/schema.json",
          "https://stac-extensions.github.io/sar/v1.0.0/schema.json",
          "https://stac-extensions.github.io/item-assets/v1.0.0/schema.json"
         ],
         "stac_version": "1.0.0",
         "summaries": {
          "constellation": [
           "Sentinel-3"
          ],
          "instruments": [
           "SRAL (Synthetic Aperture Radar Altimeter)"
          ],
          "platform": [
           "SENTINEL-3A",
           "SENTINEL-3B"
          ],
          "processing:level": [
           "L2P"
          ],
          "s1:product_timeliness": [
           "NRT-3h",
           "STC-48h",
           "NTC-1m"
          ],
          "sar:center_frequency": [
           5.41,
           13.575
          ],
          "sar:frequency_band": [
           "C",
           "Ku"
          ]
         },
         "title": "SRAL Level 2 Altimetry Global - Sentinel-3",
         "type": "Collection"
        },
        {
         "assets": {
          "thumbnail": {
           "href": "https://datastore.copernicus-climate.eu/c3s/published-forms-v2/c3sprod/cems-glofas-forecast/overview.png",
           "roles": [
            "thumbnail"
           ],
           "title": "overview",
           "type": "image/png"
          }
         },
         "dedl:short_description": "This dataset provides gridded modelled hydrological time series forced with medium-range meteorological forecasts.",
         "description": "This dataset provides gridded modelled hydrological time series forced with medium-range meteorological forecasts. The data is a consistent representation of the most important hydrological variables across the European Flood Awareness System (EFAS) domain. The temporal resolution is sub-daily high-resolution and ensemble forecasts of:\n\nRiver discharge\nSoil moisture for three soil layers\nSnow water equivalent\n\nIt also provides static data on soil depth for the three soil layers. Soil moisture and river discharge data are accompanied by ancillary files for interpretation (see related variables and links in the documentation).\nThis data set was produced by forcing the LISFLOOD hydrological model at a 5x5km resolution with meteorological forecasts. The forecasts are initialised twice daily at 00 and 12 UTC with time steps of 6 or 24 hours and lead times between 5 and 15 days depending on the forcing numerical weather prediction model. The forcing meteorological data are high-resolution and ensemble forecasts from the European Centre of Medium-range Weather Forecasts (ECMWF) with 51 ensemble members, high-resolution forecasts from the Deutsches Wetter Dienst (DWD) and the ensemble forecasts from the COSMO Local Ensemble Prediction System (COSMO-LEPS) with 20 ensemble members. The hydrological forecasts are available from 2018-10-10 up until present with a 30-day delay. The real-time data is only available to EFAS partners.\nCompanion datasets, also available through the CDS, are historical simulations which can be used to derive the hydrological climatology and for verification; reforecasts for research, local skill assessment and post-processing; and seasonal forecasts and reforecasts for users looking for longer leadtime forecasts. For users looking for global hydrological data, we refer to the Global Flood Awareness System (GloFAS) forecasts and historical simulations. All these datasets are part of the operational flood forecasting within the Copernicus Emergency Management Service (CEMS).\n\nVariables in the dataset/application are:\nRiver discharge in the last 24 hours, River discharge in the last 6 hours, Snow depth water equivalent, Soil depth, Volumetric soil moisture\n\nVariables in the dataset/application are:\nOrography, Upstream area",
         "extent": {
          "spatial": {
           "bbox": [
            [
             -180,
             -90,
             180,
             90
            ]
           ]
          },
          "temporal": {
           "interval": [
            [
             "2019-11-05T00:00:00Z",
             null
            ]
           ]
          }
         },
         "id": "EO.ECMWF.DAT.CEMS_GLOFAS_FORECAST",
         "keywords": [
          "Climatology",
          "Spatial coverage: Europe",
          "Product type: Reanalysis",
          "Temporal coverage: Past",
          "Provider: Copernicus CEMS",
          "Variable domain: Land (hydrology)"
         ],
         "license": "proprietary",
         "links": [
          {
           "href": "https://hda.central.data.destination-earth.eu/stac/collections/EO.ECMWF.DAT.CEMS_GLOFAS_FORECAST/items",
           "rel": "items",
           "type": "application/geo+json"
          },
          {
           "href": "https://hda.central.data.destination-earth.eu/stac/",
           "rel": "parent",
           "type": "application/json"
          },
          {
           "href": "https://hda.central.data.destination-earth.eu/stac/",
           "rel": "root",
           "type": "application/json"
          },
          {
           "href": "https://hda.central.data.destination-earth.eu/stac/collections/EO.ECMWF.DAT.CEMS_GLOFAS_FORECAST",
           "rel": "self",
           "type": "application/json"
          },
          {
           "href": "https://eo-apis.csgroup.space/dataset/EO.ECMWF.DAT.CEMS_GLOFAS_FORECAST",
           "rel": "describedby",
           "title": "Human readable dataset overview and reference",
           "type": "text/html"
          }
         ],
         "providers": [
          {
           "description": "European Centre for Medium-Range Weather Forecasts (ECMWF)",
           "name": "European Centre for Medium-Range Weather Forecasts (ECMWF)",
           "roles": [
            "licensor",
            "producer",
            "processor"
           ],
           "url": "https://www.ecmwf.int/"
          },
          {
           "name": "Copernicus Climate Data Store",
           "roles": [
            "host"
           ],
           "url": "https://cds.climate.copernicus.eu"
          }
         ],
         "stac_version": "1.0.0",
         "title": "River discharge and related forecasted data by the European Flood Awareness System",
         "type": "Collection"
        },
        {
         "assets": {
          "thumbnail": {
           "href": "https://datastore.copernicus-climate.eu/cams/published-forms-v2/camsprod/cams-global-ghg-reanalysis-egg4/overview.png",
           "roles": [
            "thumbnail"
           ],
           "title": "overview",
           "type": "image/png"
          }
         },
         "dedl:short_description": "This dataset is part of the ECMWF Atmospheric Composition Reanalysis focusing on long-lived greenhouse gases: carbon dioxide (CO2) and methane (CH4).",
         "description": "This dataset is part of the ECMWF Atmospheric Composition Reanalysis focusing on long-lived greenhouse gases: carbon dioxide (CO2) and methane (CH4). The emissions and natural fluxes at the surface are crucial for the evolution of the long-lived greenhouse gases in the atmosphere. In this dataset the CO2 fluxes from terrestrial vegetation are modelled in order to simulate the variability across a wide range of scales from diurnal to inter-annual. The CH4 chemical loss is represented by a climatological loss rate and the emissions at the surface are taken from a range of datasets.\nReanalysis combines model data with observations from across the world into a globally complete and consistent dataset using a model of the atmosphere based on the laws of physics and chemistry. This principle, called data assimilation, is based on the method used by numerical weather prediction centres and air quality forecasting centres, where every so many hours (12 hours at ECMWF) a previous forecast is combined with newly available observations in an optimal way to produce a new best estimate of the state of the atmosphere, called analysis, from which an updated, improved forecast is issued. Reanalysis works in the same way to allow for the provision of a dataset spanning back more than a decade. Reanalysis does not have the constraint of issuing timely forecasts, so there is more time to collect observations, and when going further back in time, to allow for the ingestion of improved versions of the original observations, which all benefit the quality of the reanalysis product.\nThe assimilation system is able to estimate biases between observations and to sift good-quality data from poor data. The atmosphere model allows for estimates at locations where data coverage is low or for atmospheric pollutants for which no direct observations are available. The provision of estimates at each grid point around the globe for each regular output time, over a long period, always using the same format, makes reanalysis a very convenient and popular dataset to work with.\nThe observing system has changed drastically over time, and although the assimilation system can resolve data holes, the initially much sparser networks will lead to less accurate estimates. For this reason, EAC4 is only available from 2003 onwards.\nThe analysis procedure assimilates data in a window of 12 hours using the 4D-Var assimilation method, which takes account of the exact timing of the observations and model evolution within the assimilation window.\nThese data are available in 3-hourly resolution, worldwide. Monthly means can be accessed at:\nhttps://ads.atmosphere.copernicus.eu/cdsapp#!/dataset/cams-global-ghg-reanalysis-egg4-monthly",
         "extent": {
          "spatial": {
           "bbox": [
            [
             -180,
             -90,
             180,
             90
            ]
           ]
          },
          "temporal": {
           "interval": [
            [
             "2003-01-01T00:00:00Z",
             "2020-01-01T00:00:00Z"
            ]
           ]
          }
         },
         "id": "EO.ECMWF.DAT.CAMS_GLOBAL_GREENHOUSE_GAS_RANALYSIS",
         "keywords": [
          "CAMS",
          "Air Quality"
         ],
         "license": "proprietary",
         "links": [
          {
           "href": "https://hda.central.data.destination-earth.eu/stac/collections/EO.ECMWF.DAT.CAMS_GLOBAL_GREENHOUSE_GAS_RANALYSIS/items",
           "rel": "items",
           "type": "application/geo+json"
          },
          {
           "href": "https://hda.central.data.destination-earth.eu/stac/",
           "rel": "parent",
           "type": "application/json"
          },
          {
           "href": "https://hda.central.data.destination-earth.eu/stac/",
           "rel": "root",
           "type": "application/json"
          },
          {
           "href": "https://hda.central.data.destination-earth.eu/stac/collections/EO.ECMWF.DAT.CAMS_GLOBAL_GREENHOUSE_GAS_RANALYSIS",
           "rel": "self",
           "type": "application/json"
          },
          {
           "href": "https://eo-apis.csgroup.space/dataset/EO.ECMWF.DAT.CAMS_GLOBAL_GREENHOUSE_GAS_RANALYSIS",
           "rel": "describedby",
           "title": "Human readable dataset overview and reference",
           "type": "text/html"
          }
         ],
         "providers": [
          {
           "description": "European Centre for Medium-Range Weather Forecasts (ECMWF)",
           "name": "European Centre for Medium-Range Weather Forecasts (ECMWF)",
           "roles": [
            "licensor",
            "producer",
            "processor"
           ],
           "url": "https://www.ecmwf.int/"
          },
          {
           "name": "Copernicus Atmosphere Data Store",
           "roles": [
            "host"
           ],
           "url": "https://ads.atmosphere.copernicus.eu"
          }
         ],
         "stac_version": "1.0.0",
         "title": "CAMS global greenhouse gas reanalysis (EGG4)",
         "type": "Collection"
        },
        {
         "assets": {
          "thumbnail": {
           "href": "https://datastore.copernicus-climate.eu/c3s/published-forms-v2/c3sprod/reanalysis-era5-pressure-levels/overview.jpg",
           "media_type": "image/jpeg",
           "roles": [
            "thumbnail"
           ],
           "title": "ERA5"
          }
         },
         "cube:dimensions": {
          "time": {
           "extent": [
            "1940-01-01T00:00:00Z",
            null
           ],
           "step": "T1H",
           "type": "temporal"
          },
          "x": {
           "axis": "x",
           "description": "longitude",
           "extent": [
            -180,
            180
           ],
           "step": 0.25,
           "type": "spatial"
          },
          "y": {
           "axis": "y",
           "description": "latitude",
           "extent": [
            -90,
            90
           ],
           "step": 0.25,
           "type": "spatial"
          },
          "z": {
           "axis": "z",
           "description": "pressure",
           "extent": [
            1,
            1000
           ],
           "type": "spatial",
           "unit": "hPa",
           "values": [
            1,
            2,
            3,
            5,
            7,
            10,
            20,
            30,
            50,
            70,
            100,
            125,
            150,
            175,
            200,
            225,
            250,
            300,
            350,
            400,
            450,
            500,
            550,
            600,
            650,
            700,
            750,
            775,
            800,
            825,
            850,
            875,
            900,
            925,
            950,
            975,
            1000
           ]
          }
         },
         "cube:variables": {
          "divergence": {
           "description": "This parameter is the horizontal divergence of velocity. It is the rate at which air is spreading out horizontally from a point, per square metre. This parameter is positive for air that is spreading out, or diverging, and negative for the opposite, for air that is concentrating, or converging (convergence).",
           "dimensions": [
            "x",
            "y",
            "z",
            "time"
           ],
           "shortNameECMWF": "d",
           "type": "data",
           "units": "s^-1"
          },
          "fraction_of_cloud_cover": {
           "description": "This parameter is the proportion of a grid box covered by cloud (liquid or ice) and varies between zero and one. This parameter is available on multiple levels through the atmosphere.",
           "dimensions": [
            "x",
            "y",
            "z",
            "time"
           ],
           "shortNameECMWF": "cc",
           "type": "data",
           "units": "(0 - 1)"
          },
          "geopotential": {
           "description": "This parameter is the gravitational potential energy of a unit mass, at a particular location, relative to mean sea level. It is also the amount of work that would have to be done, against the force of gravity, to lift a unit mass to that location from mean sea level. The geopotential height can be calculated by dividing the geopotential by the Earth's gravitational acceleration, g (=9.80665 m s-2). The geopotential height plays an important role in synoptic meteorology (analysis of weather patterns). Charts of geopotential height plotted at constant pressure levels (e.g., 300, 500 or 850 hPa) can be used to identify weather systems such as cyclones, anticyclones, troughs and ridges. At the surface of the Earth, this parameter shows the variations in geopotential (height) of the surface, and is often referred to as the orography.",
           "dimensions": [
            "x",
            "y",
            "z",
            "time"
           ],
           "shortNameECMWF": "z",
           "type": "data",
           "units": "m^2 s^-2"
          },
          "ozone_mass_mixing_ratio": {
           "description": "This parameter is the mass of ozone per kilogram of air. In the ECMWF Integrated Forecasting System (IFS), there is a simplified representation of ozone chemistry (including representation of the chemistry which has caused the ozone hole). Ozone is also transported around in the atmosphere through the motion of air. Naturally occurring ozone in the stratosphere helps protect organisms at the surface of the Earth from the harmful effects of ultraviolet (UV) radiation from the Sun. Ozone near the surface, often produced because of pollution, is harmful to organisms. Most of the IFS chemical species are archived as mass mixing ratios [kg kg-1].",
           "dimensions": [
            "x",
            "y",
            "z",
            "time"
           ],
           "shortNameECMWF": "o3",
           "type": "data",
           "units": "kg kg^-1"
          },
          "potential_vorticity": {
           "description": "Potential vorticity is a measure of the capacity for air to rotate in the atmosphere. If we ignore the effects of heating and friction, potential vorticity is conserved following an air parcel. It is used to look for places where large wind storms are likely to originate and develop. Potential vorticity increases strongly above the tropopause and therefore, it can also be used in studies related to the stratosphere and stratosphere-troposphere exchanges. Large wind storms develop when a column of air in the atmosphere starts to rotate. Potential vorticity is calculated from the wind, temperature and pressure across a column of air in the atmosphere.",
           "dimensions": [
            "x",
            "y",
            "z",
            "time"
           ],
           "shortNameECMWF": "pv",
           "type": "data",
           "units": "K m^2 kg^-1 s^-1"
          },
          "relative_humidity": {
           "description": "This parameter is the water vapour pressure as a percentage of the value at which the air becomes saturated (the point at which water vapour begins to condense into liquid water or deposition into ice). For temperatures over 0°C (273.15 K) it is calculated for saturation over water. At temperatures below -23°C it is calculated for saturation over ice. Between -23°C and 0°C this parameter is calculated by interpolating between the ice and water values using a quadratic function.",
           "dimensions": [
            "x",
            "y",
            "z",
            "time"
           ],
           "shortNameECMWF": "r",
           "type": "data",
           "units": "%"
          },
          "specific_cloud_ice_water_content": {
           "description": "This parameter is the mass of cloud ice particles per kilogram of the total mass of moist air. The 'total mass of moist air' is the sum of the dry air, water vapour, cloud liquid, cloud ice, rain and falling snow. This parameter represents the average value for a grid box. Water within clouds can be liquid or ice, or a combination of the two. Note that 'cloud frozen water' is the same as 'cloud ice water'.",
           "dimensions": [
            "x",
            "y",
            "z",
            "time"
           ],
           "shortNameECMWF": "ciwc",
           "type": "data",
           "units": "kg kg^-1"
          },
          "specific_cloud_liquid_water_content": {
           "description": "This parameter is the mass of cloud liquid water droplets per kilogram of the total mass of moist air. The 'total mass of moist air' is the sum of the dry air, water vapour, cloud liquid, cloud ice, rain and falling snow. This parameter represents the average value for a grid box. Water within clouds can be liquid or ice, or a combination of the two.",
           "dimensions": [
            "x",
            "y",
            "z",
            "time"
           ],
           "shortNameECMWF": "clwc",
           "type": "data",
           "units": "kg kg^-1"
          },
          "specific_humidity": {
           "description": "This parameter is the mass of water vapour per kilogram of moist air. The total mass of moist air is the sum of the dry air, water vapour, cloud liquid, cloud ice, rain and falling snow.",
           "dimensions": [
            "x",
            "y",
            "z",
            "time"
           ],
           "shortNameECMWF": "q",
           "type": "data",
           "units": "kg kg^-1"
          },
          "specific_rain_water_content": {
           "description": "The mass of water produced from large-scale clouds that is of raindrop size and so can fall to the surface as precipitation. Large-scale clouds are generated by the cloud scheme in the ECMWF Integrated Forecasting System (IFS). The cloud scheme represents the formation and dissipation of clouds and large-scale precipitation due to changes in atmospheric quantities (such as pressure, temperature and moisture) predicted directly by the IFS at spatial scales of a grid box or larger. The quantity is expressed in kilograms per kilogram of the total mass of moist air. The 'total mass of moist air' is the sum of the dry air, water vapour, cloud liquid, cloud ice, rain and falling snow. This parameter represents the average value for a grid box. Clouds contain a continuum of different sized water droplets and ice particles. The IFS cloud scheme simplifies this to represent a number of discrete cloud droplets/particles including cloud water droplets, raindrops, ice crystals and snow (aggregated ice crystals). The processes of droplet formation, phase transition and aggregation are also highly simplified in the IFS.",
           "dimensions": [
            "x",
            "y",
            "z",
            "time"
           ],
           "shortNameECMWF": "crwc",
           "type": "data",
           "units": "kg kg^-1"
          },
          "specific_snow_water_content": {
           "description": "The mass of snow (aggregated ice crystals) produced from large-scale clouds that can fall to the surface as precipitation. Large-scale clouds are generated by the cloud scheme in the ECMWF Integrated Forecasting System (IFS). The cloud scheme represents the formation and dissipation of clouds and large-scale precipitation due to changes in atmospheric quantities (such as pressure, temperature and moisture) predicted directly by the IFS at spatial scales of a grid box or larger. The mass is expressed in kilograms per kilogram of the total mass of moist air. The 'total mass of moist air' is the sum of the dry air, water vapour, cloud liquid, cloud ice, rain and falling snow. This parameter represents the average value for a grid box. Clouds contain a continuum of different sized water droplets and ice particles. The IFS cloud scheme simplifies this to represent a number of discrete cloud droplets/particles including cloud water droplets, raindrops, ice crystals and snow (aggregated ice crystals). The processes of droplet formation, phase transition and aggregation are also highly simplified in the IFS.",
           "dimensions": [
            "x",
            "y",
            "z",
            "time"
           ],
           "shortNameECMWF": "cswc",
           "type": "data",
           "units": "kg kg^-1"
          },
          "temperature": {
           "description": "This parameter is the temperature in the atmosphere. It has units of kelvin (K). Temperature measured in kelvin can be converted to degrees Celsius (°C) by subtracting 273.15. This parameter is available on multiple levels through the atmosphere.",
           "dimensions": [
            "x",
            "y",
            "z",
            "time"
           ],
           "shortNameECMWF": "t",
           "type": "data",
           "units": "K"
          },
          "u_component_of_wind": {
           "description": "This parameter is the eastward component of the wind. It is the horizontal speed of air moving towards the east. A negative sign indicates air moving towards the west. This parameter can be combined with the V component of wind to give the speed and direction of the horizontal wind.",
           "dimensions": [
            "x",
            "y",
            "z",
            "time"
           ],
           "shortNameECMWF": "u",
           "type": "data",
           "units": "m s^-1"
          },
          "v_component_of_wind": {
           "description": "This parameter is the northward component of the wind. It is the horizontal speed of air moving towards the north. A negative sign indicates air moving towards the south. This parameter can be combined with the U component of wind to give the speed and direction of the horizontal wind.",
           "dimensions": [
            "x",
            "y",
            "z",
            "time"
           ],
           "shortNameECMWF": "v",
           "type": "data",
           "units": "m s^-1"
          },
          "vertical_velocity": {
           "description": "This parameter is the speed of air motion in the upward or downward direction. The ECMWF Integrated Forecasting System (IFS) uses a pressure based vertical co-ordinate system and pressure decreases with height, therefore negative values of vertical velocity indicate upward motion. Vertical velocity can be useful to understand the large-scale dynamics of the atmosphere, including areas of upward motion/ascent (negative values) and downward motion/subsidence (positive values).",
           "dimensions": [
            "x",
            "y",
            "z",
            "time"
           ],
           "shortNameECMWF": "w",
           "type": "data",
           "units": "Pa s^-1"
          },
          "vorticity": {
           "description": "This parameter is a measure of the rotation of air in the horizontal, around a vertical axis, relative to a fixed point on the surface of the Earth. On the scale of weather systems, troughs (weather features that can include rain) are associated with anticlockwise rotation (in the northern hemisphere), and ridges (weather features that bring light or still winds) are associated with clockwise rotation. Adding the effect of rotation of the Earth, the Coriolis parameter, to the relative vorticity produces the absolute vorticity.",
           "dimensions": [
            "x",
            "y",
            "z",
            "time"
           ],
           "shortNameECMWF": "vo",
           "type": "data",
           "units": "s^-1"
          }
         },
         "dedl:short_description": "ERA5 is the fifth generation ECMWF reanalysis for the global climate and weather for the past 8 decades.",
         "description": "ERA5 is the fifth generation ECMWF reanalysis for the global climate and weather for the past 8 decades.\nData is available from 1940 onwards.\nERA5 replaces the ERA-Interim reanalysis. Reanalysis combines model data with observations from across the world into a globally complete and consistent dataset using the laws of physics. This principle, called data assimilation, is based on the method used by numerical weather prediction centres, where every so many hours (12 hours at ECMWF) a previous forecast is combined with newly available observations in an optimal way to produce a new best estimate of the state of the atmosphere, called analysis, from which an updated, improved forecast is issued. Reanalysis works in the same way, but at reduced resolution to allow for the provision of a dataset spanning back several decades. Reanalysis does not have the constraint of issuing timely forecasts, so there is more time to collect observations, and when going further back in time, to allow for the ingestion of improved versions of the original observations, which all benefit the quality of the reanalysis product. ERA5 provides hourly estimates for a large number of atmospheric, ocean-wave and land-surface quantities.\nAn uncertainty estimate is sampled by an underlying 10-member ensemble\nat three-hourly intervals. Ensemble mean and spread have been pre-computed for convenience.\nSuch uncertainty estimates are closely related to the information content of the available observing system which\nhas evolved considerably over time. They also indicate flow-dependent sensitive areas.\nTo facilitate many climate applications, monthly-mean averages have been pre-calculated too,\nthough monthly means are not available for the ensemble mean and spread. ERA5 is updated daily with a latency of about 5 days. In case that serious flaws are detected in this early release (called ERA5T), this data could be different from the final release 2 to 3 months later. In case that this occurs users are notified. The data set presented here is a regridded subset of the full ERA5 data set on native resolution.\nIt is online on spinning disk, which should ensure fast and easy access.\nIt should satisfy the requirements for most common applications. An overview of all ERA5 datasets can be found in this article .\nInformation on access to ERA5 data on native resolution is provided in these guidelines . Data has been regridded to a regular lat-lon grid of 0.25 degrees for the reanalysis and 0.5 degrees for\nthe uncertainty estimate (0.5 and 1 degree respectively for ocean waves).\nThere are four main sub sets: hourly and monthly products, both on pressure levels (upper air fields) and single levels (atmospheric, ocean-wave and land surface quantities). The present entry is \"ERA5 hourly data on pressure levels from 1940 to present\".\n\nMain Variables:[['Name'\t'Full_Name'\t'ShortName'\t'Units'\t'Description'\t'url']\n ['Divergence'\t'Divergence'\t'd'\t's⁻¹'\n  'This parameter is the horizontal divergence of velocity. It is the rate at which  air is spreading out horizontally from a point, per square metre. This parameter  is positive for air that is spreading out, or diverging, and negative for the  opposite, for air that is concentrating, or converging (convergence).'\n  'https://codes.ecmwf.int/grib/param-db/?id=155']\n ['Fraction of cloud cover'\t'Fraction of cloud cover'\t'cc'\t'(0 - 1)'\n  'This parameter is the proportion of a grid box covered by cloud (liquid or ice)  and varies between zero and one. This parameter is available on multiple levels through the atmosphere.'\n  'https://codes.ecmwf.int/grib/param-db/?id=248']\n ['Geopotential'\t'Geopotential'\t'z'\t'm².s⁻²'\n  \"This parameter is the gravitational potential energy of a unit mass, at a  particular location, relative to mean sea level. It is also the amount of work  that would have to be done, against the force of gravity, to lift a unit mass to  that location from mean sea level.\\nThe geopotential height can be calculated by dividing the geopotential by the  Earth's gravitational acceleration, g (=9.80665 m s-2). The geopotential height  plays an important role in synoptic meteorology (analysis of weather patterns).  Charts of geopotential height plotted at constant pressure levels (e.g., 300,  500 or 850 hPa) can be used to identify weather systems such as cyclones,  anticyclones, troughs and ridges.\\nAt the surface of the Earth, this parameter shows the variations in geopotential  (height) of the surface, and is often referred to as the orography.\"\n  'https://codes.ecmwf.int/grib/param-db/?id=129']\n ['Ozone mass mixing ratio'\t'Ozone mass mixing ratio'\t'o3'\t'kg.kg⁻¹'\n  'This parameter is the mass of ozone per kilogram of air.\\nIn the ECMWF Integrated Forecasting System (IFS), there is a simplified  representation of ozone chemistry (including representation of the chemistry  which has caused the ozone hole). Ozone is also transported around in the  atmosphere through the motion of air.\\nNaturally occurring ozone in the stratosphere helps protect organisms at the  surface of the Earth from the harmful effects of ultraviolet (UV) radiation from  the Sun. Ozone near the surface, often produced because of pollution, is harmful  to organisms.\\nMost of the IFS chemical species are archived as mass mixing ratios [kg kg-1].'\n  'https://codes.ecmwf.int/grib/param-db/?id=203']\n ['Potential vorticity'\t'Potential vorticity'\t'pv'\t'K.m².kg⁻¹.s⁻¹'\n  'Potential vorticity is a measure of the capacity for air to rotate in the  atmosphere. If we ignore the effects of heating and friction, potential vorticity  is conserved following an air parcel. It is used to look for places where large  wind storms are likely to originate and develop. Potential vorticity increases  strongly above the tropopause and therefore, it can also be used in studies related  to the stratosphere and stratosphere-troposphere exchanges.\\nLarge wind storms develop when a column of air in the atmosphere starts to rotate.  Potential vorticity is calculated from the wind, temperature and pressure across a  column of air in the atmosphere.'\n  'https://codes.ecmwf.int/grib/param-db/?id=60']\n ['Relative humidity'\t'Relative humidity'\t'r'\t'%'\n  'This parameter is the water vapour pressure as a percentage of the value at which  the air becomes saturated (the point at which water vapour begins to condense into  liquid water or deposition into ice).\\nFor temperatures over 0°C (273.15 K) it is calculated for saturation over water. At  temperatures below -23°C it is calculated for saturation over ice. Between -23°C  and 0°C this parameter is calculated by interpolating between the ice and water  values using a quadratic function.'\n  'https://codes.ecmwf.int/grib/param-db/?id=157']\n ['Specific cloud ice water content'\t'Specific cloud ice water content'\n  'ciwc'\t'kg.kg⁻¹'\n  \"This parameter is the mass of cloud ice particles per kilogram of the total mass of  moist air. The 'total mass of moist air' is the sum of the dry air, water vapour,  cloud liquid, cloud ice, rain and falling snow. This parameter represents the  average value for a grid box.\\nWater within clouds can be liquid or ice, or a combination of the two. Note that  'cloud frozen water' is the same as 'cloud ice water'.\"\n  'https://codes.ecmwf.int/grib/param-db/?id=247']\n ['Specific cloud liquid water content'\n  'Specific cloud liquid water content'\t'clwc'\t'kg.kg⁻¹'\n  \"This parameter is the mass of cloud liquid water droplets per kilogram of the total  mass of moist air. The 'total mass of moist air' is the sum of the dry air, water  vapour, cloud liquid, cloud ice, rain and falling snow. This parameter represents  the average value for a grid box.\\nWater within clouds can be liquid or ice, or a combination of the two.\"\n  'https://codes.ecmwf.int/grib/param-db/?id=246']\n ['Specific humidity'\t'Specific humidity'\t'q'\t'kg.kg⁻¹'\n  'This parameter is the mass of water vapour per kilogram of moist air.\\nThe total mass of moist air is the sum of the dry air, water vapour, cloud liquid,  cloud ice, rain and falling snow.'\n  'https://codes.ecmwf.int/grib/param-db/?id=133']\n ['Specific rain water content'\t'Specific rain water content'\t'crwc'\n  'kg.kg⁻¹'\n  \"The mass of water produced from large-scale clouds that is of raindrop size and so  can fall to the surface as precipitation.\\nLarge-scale clouds are generated by the cloud scheme in the ECMWF Integrated  Forecasting System (IFS). The cloud scheme represents the formation and dissipation  of clouds and large-scale precipitation due to changes in atmospheric quantities  (such as pressure, temperature and moisture) predicted directly by the IFS at spatial  scales of a grid box or larger.\\nThe quantity is expressed in kilograms per kilogram of the total mass of moist air.  The 'total mass of moist air' is the sum of the dry air, water vapour, cloud liquid,  cloud ice, rain and falling snow. This parameter represents the average value for a  grid box.\\nClouds contain a continuum of different sized water droplets and ice particles. The  IFS cloud scheme simplifies this to represent a number of discrete cloud  droplets/particles including cloud water droplets, raindrops, ice crystals and snow  (aggregated ice crystals). The processes of droplet formation, phase transition and  aggregation are also highly simplified in the IFS.\"\n  'https://codes.ecmwf.int/grib/param-db/?id=75']\n ['Specific snow water content'\t'Specific snow water content'\t'cswc'\n  'kg.kg⁻¹'\n  \"The mass of snow (aggregated ice crystals) produced from large-scale clouds that can  fall to the surface as precipitation.\\nLarge-scale clouds are generated by the cloud scheme in the ECMWF Integrated  Forecasting System (IFS). The cloud scheme represents the formation and dissipation  of clouds and large-scale precipitation due to changes in atmospheric quantities (such  as pressure, temperature and moisture) predicted directly by the IFS at spatial scales  of a grid box or larger.\\nThe mass is expressed in kilograms per kilogram of the total mass of moist air. The  'total mass of moist air' is the sum of the dry air, water vapour, cloud liquid, cloud  ice, rain and falling snow. This parameter represents the average value for a grid box.\\nClouds contain a continuum of different sized water droplets and ice particles. The IFS  cloud scheme simplifies this to represent a number of discrete cloud droplets/particles  including cloud water droplets, raindrops, ice crystals and snow (aggregated ice  crystals). The processes of droplet formation, phase transition and aggregation are also  highly simplified in the IFS.\"\n  'https://codes.ecmwf.int/grib/param-db/?id=76']\n ['Temperature'\t'Temperature'\t't'\t'K'\n  'This parameter is the temperature in the atmosphere.\\nIt has units of kelvin (K). Temperature measured in kelvin can be converted to degrees  Celsius (°C) by subtracting 273.15.\\nThis parameter is available on multiple levels through the atmosphere.'\n  'https://codes.ecmwf.int/grib/param-db/?id=130']\n ['U-component of wind'\t'U component of wind'\t'u'\t'm.s⁻¹'\n  'This parameter is the eastward component of the wind. It is the horizontal speed of air  moving towards the east. A negative sign indicates air moving towards the west.\\nThis parameter can be combined with the V component of wind to give the speed and  direction of the horizontal wind.'\n  'https://codes.ecmwf.int/grib/param-db/?id=131']\n ['V-component of wind'\t'V component of wind'\t'v'\t'm.s⁻¹'\n  'This parameter is the northward component of the wind. It is the horizontal speed of air  moving towards the north. A negative sign indicates air moving towards the south.\\nThis parameter can be combined with the U component of wind to give the speed and  direction of the horizontal wind.'\n  'https://codes.ecmwf.int/grib/param-db/?id=132']\n ['Vertical velocity'\t'Vertical velocity'\t'w'\t'Pa.s⁻¹'\n  'This parameter is the speed of air motion in the upward or downward direction. The ECMWF  Integrated Forecasting System (IFS) uses a pressure based vertical co-ordinate system and  pressure decreases with height, therefore negative values of vertical velocity indicate  upward motion.\\nVertical velocity can be useful to understand the large-scale dynamics of the atmosphere,  including areas of upward motion/ascent (negative values) and downward motion/subsidence  (positive values).'\n  'https://codes.ecmwf.int/grib/param-db/?id=135']\n ['Vorticity (relative)'\t'Vorticity (relative)'\t'vo'\t's⁻¹'\n  'This parameter is a measure of the rotation of air in the horizontal, around a vertical  axis, relative to a fixed point on the surface of the Earth.\\nOn the scale of weather systems, troughs (weather features that can include rain) are  associated with anticlockwise rotation (in the northern hemisphere), and ridges (weather  features that bring light or still winds) are associated with clockwise rotation.\\nAdding the effect of rotation of the Earth, the Coriolis parameter, to the relative  vorticity produces the absolute vorticity.'\n  'https://codes.ecmwf.int/grib/param-db/?id=138']]\n\nData type: Gridded\nProjection: Regular latitude-longitude grid.\nHorizontal coverage: Global\nHorizontal resolution: Reanalysis: 0.25° x 0.25° Mean, spread and members: 0.5° x 0.5°\nVertical coverage: 1000 hPa to 1 hPa\nVertical resolution: 37 pressure levels\nTemporal coverage: 1940 to present\nTemporal resolution: Hourly\nFile format: GRIB",
         "extent": {
          "spatial": {
           "bbox": [
            [
             -180,
             -90,
             180,
             90
            ]
           ]
          },
          "temporal": {
           "interval": [
            [
             "1940-01-01T00:00:00Z",
             "2023-05-13T00:00:00Z"
            ]
           ]
          }
         },
         "id": "EO.ECMWF.DAT.ERA5_HOURLY_VARIABLES_ON_PRESSURE_LEVELS",
         "item_assets": {
          "divergence": {
           "title": "Divergence",
           "type": "application/grib"
          },
          "fraction_of_cloud_cover": {
           "title": "Fraction of Cloud Cover",
           "type": "application/grib"
          },
          "geopotential": {
           "title": "Geopotential",
           "type": "application/grib"
          },
          "ozone_mass_mixing_ratio": {
           "title": "Ozone Mass Mixing Ratio",
           "type": "application/grib"
          },
          "potential_vorticity": {
           "title": "Potential Vorticity",
           "type": "application/grib"
          },
          "relative_humidity": {
           "title": "Relative humidity",
           "type": "application/grib"
          },
          "specific_cloud_ice_water_content": {
           "title": "Specific Cloud Ice Water Content",
           "type": "application/grib"
          },
          "specific_cloud_liquid_water_content": {
           "title": "Specific Cloud Liquid Water Content",
           "type": "application/grib"
          },
          "specific_humidity": {
           "title": "Specific humidity",
           "type": "application/grib"
          },
          "specific_rain_water_content": {
           "title": "Specific Rain Water Content",
           "type": "application/grib"
          },
          "specific_snow_water_content": {
           "title": "Specific Snow Water Content",
           "type": "application/grib"
          },
          "temperature": {
           "title": "Temperature",
           "type": "application/grib"
          },
          "u_component_of_wind": {
           "title": "U-component of Wind",
           "type": "application/grib"
          },
          "v_component_of_wind": {
           "title": "V-component of Wind",
           "type": "application/grib"
          },
          "vertical_velocity": {
           "title": "Vertical Velocity",
           "type": "application/grib"
          },
          "vorticity": {
           "title": "Vorticity (relative)",
           "type": "application/grib"
          }
         },
         "keywords": [
          "Atmospheric conditions",
          "Variable domain: Atmosphere (surface)",
          "Variable domain: Atmosphere (upper air)",
          "Temporal coverage: Past",
          "Spatial coverage: Global",
          "Product type: Reanalysis",
          "Provider: Copernicus C3S"
         ],
         "license": "proprietary",
         "links": [
          {
           "href": "https://hda.central.data.destination-earth.eu/stac/collections/EO.ECMWF.DAT.ERA5_HOURLY_VARIABLES_ON_PRESSURE_LEVELS/items",
           "rel": "items",
           "type": "application/geo+json"
          },
          {
           "href": "https://hda.central.data.destination-earth.eu/stac/",
           "rel": "parent",
           "type": "application/json"
          },
          {
           "href": "https://hda.central.data.destination-earth.eu/stac/",
           "rel": "root",
           "type": "application/json"
          },
          {
           "href": "https://hda.central.data.destination-earth.eu/stac/collections/EO.ECMWF.DAT.ERA5_HOURLY_VARIABLES_ON_PRESSURE_LEVELS",
           "rel": "self",
           "type": "application/json"
          },
          {
           "href": "https://cds.climate.copernicus.eu/api/v2/terms/static/20180314_Copernicus_License_V1.1.pdf",
           "rel": "license",
           "title": "Licence to Use Copernicus Products"
          },
          {
           "href": "https://cds.climate.copernicus.eu/cdsapp#!/dataset/10.24381/cds.bd0915c6",
           "rel": "describedby",
           "title": "Climate Data Store catalogue"
          },
          {
           "href": "https://confluence.ecmwf.int/display/CKB/ERA5%3A+data+documentation",
           "rel": "describedby",
           "title": "ERA5 data documentation"
          },
          {
           "href": "https://rmets.onlinelibrary.wiley.com/doi/10.1002/qj.4174",
           "rel": "describedby",
           "title": "The ERA5 global reanalysis: Preliminary extension to 1950"
          },
          {
           "href": "https://rmets.onlinelibrary.wiley.com/doi/10.1002/qj.3803",
           "rel": "describedby",
           "title": "The ERA5 global reanalysis"
          },
          {
           "href": "https://datastore.copernicus-climate.eu/c3s/published-forms-v2/c3sprod/reanalysis-era5-pressure-levels/overview.jpg",
           "rel": "describedby",
           "title": "large_thumbnail"
          },
          {
           "href": "https://cds.climate.copernicus.eu:443//geonetwork/srv/eng/xml.metadata.get?uuid=eu.copernicus.climate.reanalysis-era5-pressure-levels",
           "rel": "describedby",
           "title": "Description"
          },
          {
           "href": "https://cds.climate.copernicus.eu:443//geonetwork?uuid=eu.copernicus.climate.reanalysis-era5-pressure-levels",
           "rel": "describedby",
           "title": "Description"
          },
          {
           "href": "https://cds.climate.copernicus.eu/cdsapp#!/dataset/10.24381/cds.bd0915c6",
           "rel": "describedby",
           "title": "Documentation"
          },
          {
           "href": "https://confluence.ecmwf.int/display/CKB/ERA5%3A+data+documentation",
           "rel": "describedby",
           "title": "Documentation"
          },
          {
           "href": "https://rmets.onlinelibrary.wiley.com/doi/10.1002/qj.4174",
           "rel": "describedby",
           "title": "Documentation"
          },
          {
           "href": "https://rmets.onlinelibrary.wiley.com/doi/10.1002/qj.3803",
           "rel": "describedby",
           "title": "Documentation"
          },
          {
           "href": "https://eo-apis.csgroup.space/dataset/EO.ECMWF.DAT.ERA5_HOURLY_VARIABLES_ON_PRESSURE_LEVELS",
           "rel": "describedby",
           "title": "Human readable dataset overview and reference",
           "type": "text/html"
          }
         ],
         "providers": [
          {
           "description": "European Centre for Medium-Range Weather Forecasts (ECMWF)",
           "name": "European Centre for Medium-Range Weather Forecasts (ECMWF)",
           "roles": [
            "licensor",
            "producer",
            "processor"
           ],
           "url": "https://www.ecmwf.int/"
          },
          {
           "name": "Copernicus Climate Data Store",
           "roles": [
            "host"
           ],
           "url": "https://cds.climate.copernicus.eu"
          }
         ],
         "stac_version": "1.0.0",
         "title": "ERA5 hourly data on pressure levels from 1940 to present",
         "type": "Collection"
        },
        {
         "assets": {
          "thumbnail": {
           "href": "https://datastore.copernicus-climate.eu/cams/published-forms-v2/camsprod/cams-global-radiative-forcing-auxilliary-variables/overview.png",
           "roles": [
            "thumbnail"
           ],
           "title": "overview",
           "type": "image/png"
          }
         },
         "dedl:short_description": "This dataset provides aerosol optical depths and aerosol-radiation radiative effects for four different aerosol origins: anthropogenic, mineral dust, marine, and land-based fine-mode natural aerosol.",
         "description": "This dataset provides aerosol optical depths and aerosol-radiation radiative effects for four different aerosol origins: anthropogenic, mineral dust, marine, and land-based fine-mode natural aerosol. The latter mostly consists of biogenic aerosols.\nThe data are a necessary complement to the \"CAMS global radiative forcings\" dataset (see \"Related Data\"). The calculation of aerosol radiative forcing requires a discrimination between aerosol of anthropogenic and natural origin. However, the CAMS reanalysis, which is used to provide the aerosol concentrations, does not make this distinction. The anthropogenic fraction was therefore derived by a method which uses aerosol size as a proxy for aerosol origin.",
         "extent": {
          "spatial": {
           "bbox": [
            [
             -180,
             -90,
             180,
             90
            ]
           ]
          },
          "temporal": {
           "interval": [
            [
             "2003-01-01T00:00:00Z",
             "2017-01-01T00:00:00Z"
            ]
           ]
          }
         },
         "id": "EO.ECMWF.DAT.CAMS_GLOBAL_RADIATIVE_FORCING_AUX",
         "keywords": [
          "CAMS",
          "Air Quality"
         ],
         "license": "proprietary",
         "links": [
          {
           "href": "https://hda.central.data.destination-earth.eu/stac/collections/EO.ECMWF.DAT.CAMS_GLOBAL_RADIATIVE_FORCING_AUX/items",
           "rel": "items",
           "type": "application/geo+json"
          },
          {
           "href": "https://hda.central.data.destination-earth.eu/stac/",
           "rel": "parent",
           "type": "application/json"
          },
          {
           "href": "https://hda.central.data.destination-earth.eu/stac/",
           "rel": "root",
           "type": "application/json"
          },
          {
           "href": "https://hda.central.data.destination-earth.eu/stac/collections/EO.ECMWF.DAT.CAMS_GLOBAL_RADIATIVE_FORCING_AUX",
           "rel": "self",
           "type": "application/json"
          },
          {
           "href": "https://eo-apis.csgroup.space/dataset/EO.ECMWF.DAT.CAMS_GLOBAL_RADIATIVE_FORCING_AUX",
           "rel": "describedby",
           "title": "Human readable dataset overview and reference",
           "type": "text/html"
          }
         ],
         "providers": [
          {
           "description": "European Centre for Medium-Range Weather Forecasts (ECMWF)",
           "name": "European Centre for Medium-Range Weather Forecasts (ECMWF)",
           "roles": [
            "licensor",
            "producer",
            "processor"
           ],
           "url": "https://www.ecmwf.int/"
          },
          {
           "name": "Copernicus Atmosphere Data Store",
           "roles": [
            "host"
           ],
           "url": "https://ads.atmosphere.copernicus.eu"
          }
         ],
         "stac_version": "1.0.0",
         "title": "CAMS global radiative forcing - auxilliary variables",
         "type": "Collection"
        },
        {
         "assets": {
          "thumbnail": {
           "href": "https://datastore.copernicus-climate.eu/c3s/published-forms-v2/c3sprod/reanalysis-era5-land/overview.png",
           "roles": [
            "thumbnail"
           ],
           "title": "Preview image",
           "type": "image/png"
          }
         },
         "cube:dimensions": {
          "lat": {
           "axis": "y",
           "description": "latitude",
           "extent": [
            -90,
            90
           ],
           "reference_system": "epsg:4326",
           "step": "0.25",
           "type": "spatial"
          },
          "lon": {
           "axis": "x",
           "description": "longitude",
           "extent": [
            -180,
            180
           ],
           "reference_system": "epsg:4326",
           "step": "0.25",
           "type": "spatial"
          },
          "time": {
           "extent": [
            "1950-01-01T00:00:00Z",
            null
           ],
           "step": "P0DT1H0M0S",
           "type": "temporal"
          }
         },
         "cube:variables": {
          "10m_u_component_of_wind": {
           "attrs": {
            "long_name": "10 metre U wind component",
            "product_type": "forecast",
            "shortName": "u10",
            "standard_name": "eastward_wind"
           },
           "description": "Eastward component of the near-surface (usually, 10 meters) wind",
           "dimensions": [
            "lat",
            "lon",
            "time"
           ],
           "type": "data",
           "unit": "m s**-1"
          },
          "10m_v_component_of_wind": {
           "attrs": {
            "long_name": "10 metre V wind component",
            "product_type": "forecast",
            "shortName": "v10",
            "standard_name": "northward_wind"
           },
           "description": "Northward component of the near surface wind",
           "dimensions": [
            "lat",
            "lon",
            "time"
           ],
           "type": "data",
           "unit": "m s**-1"
          },
          "2m_dewpoint_temperature": {
           "attrs": {
            "long_name": "2 metre dewpoint temperature",
            "product_type": "forecast",
            "shortName": "2d",
            "standard_name": "dew_point_temperature"
           },
           "description": "",
           "dimensions": [
            "lat",
            "lon",
            "time"
           ],
           "type": "data",
           "unit": "K"
          },
          "2m_temperature": {
           "attrs": {
            "long_name": "2 metre temperature",
            "product_type": "forecast",
            "shortName": "2t",
            "standard_name": "air_temperature"
           },
           "description": "near-surface (usually, 2 meter) air temperature",
           "dimensions": [
            "lat",
            "lon",
            "time"
           ],
           "type": "data",
           "unit": "K"
          },
          "evaporation_from_bare_soil": {
           "attrs": {
            "long_name": "Evaporation from bare soil",
            "product_type": "forecast",
            "shortName": "evabs",
            "standard_name": "lwe_thickness_of_water_evaporation_amount"
           },
           "description": "'lwe' means liquid water equivalent. 'Amount' means mass per unit area. The construction lwe_thickness_of_X_amount or _content means the vertical extent of a layer of liquid water having the same mass per unit area. 'Water' means water in all phases. Evaporation is the conversion of liquid or solid into vapor. (The conversion of solid alone into vapor is called 'sublimation'.)",
           "dimensions": [
            "lat",
            "lon",
            "time"
           ],
           "type": "data",
           "unit": "m of water equivalent"
          },
          "evaporation_from_open_water_surfaces_excluding_oceans": {
           "attrs": {
            "long_name": "Evaporation from open water surfaces excluding oceans",
            "product_type": "forecast",
            "shortName": "evaow",
            "standard_name": "lwe_thickness_of_water_evaporation_amount"
           },
           "description": "'lwe' means liquid water equivalent. 'Amount' means mass per unit area. The construction lwe_thickness_of_X_amount or _content means the vertical extent of a layer of liquid water having the same mass per unit area. 'Water' means water in all phases. Evaporation is the conversion of liquid or solid into vapor. (The conversion of solid alone into vapor is called 'sublimation'.)",
           "dimensions": [
            "lat",
            "lon",
            "time"
           ],
           "type": "data",
           "unit": "m of water equivalent"
          },
          "evaporation_from_the_top_of_canopy": {
           "attrs": {
            "long_name": "Evaporation from the top of canopy",
            "product_type": "forecast",
            "shortName": "evatc",
            "standard_name": "lwe_thickness_of_water_evaporation_amount"
           },
           "description": "'lwe' means liquid water equivalent. 'Amount' means mass per unit area. The construction lwe_thickness_of_X_amount or _content means the vertical extent of a layer of liquid water having the same mass per unit area. 'Water' means water in all phases. Evaporation is the conversion of liquid or solid into vapor. (The conversion of solid alone into vapor is called 'sublimation'.)",
           "dimensions": [
            "lat",
            "lon",
            "time"
           ],
           "type": "data",
           "unit": "m of water equivalent"
          },
          "evaporation_from_vegetation_transpiration": {
           "attrs": {
            "long_name": "Evaporation from vegetation transpiration",
            "product_type": "forecast",
            "shortName": "evavt",
            "standard_name": "lwe_thickness_of_water_evaporation_amount"
           },
           "description": "'lwe' means liquid water equivalent. 'Amount' means mass per unit area. The construction lwe_thickness_of_X_amount or _content means the vertical extent of a layer of liquid water having the same mass per unit area. 'Water' means water in all phases. Evaporation is the conversion of liquid or solid into vapor. (The conversion of solid alone into vapor is called 'sublimation'.)",
           "dimensions": [
            "lat",
            "lon",
            "time"
           ],
           "type": "data",
           "unit": "m of water equivalent"
          },
          "forecast_albedo": {
           "attrs": {
            "long_name": "Forecast albedo",
            "product_type": "forecast",
            "shortName": "fal",
            "standard_name": "surface_albedo"
           },
           "description": "Albedo of the land and/or ocean surface, averaged over the grid cell.",
           "dimensions": [
            "lat",
            "lon",
            "time"
           ],
           "type": "data",
           "unit": "(0 - 1)"
          },
          "lake_bottom_temperature": {
           "attrs": {
            "long_name": "Lake bottom temperature",
            "product_type": "analysis",
            "shortName": "lblt",
            "standard_name": "temperature"
           },
           "description": "Generic temperature variable.",
           "dimensions": [
            "lat",
            "lon",
            "time"
           ],
           "type": "data",
           "unit": "K"
          },
          "lake_ice_depth": {
           "attrs": {
            "long_name": "Lake ice total depth",
            "product_type": "analysis",
            "shortName": "licd",
            "standard_name": "depth"
           },
           "description": "",
           "dimensions": [
            "lat",
            "lon",
            "time"
           ],
           "type": "data",
           "unit": "m"
          },
          "lake_ice_temperature": {
           "attrs": {
            "long_name": "Lake ice surface temperature",
            "product_type": "analysis",
            "shortName": "lict",
            "standard_name": "lake_ice_temperature"
           },
           "description": "",
           "dimensions": [
            "lat",
            "lon",
            "time"
           ],
           "type": "data",
           "unit": "K"
          },
          "lake_mix_layer_depth": {
           "attrs": {
            "long_name": "Lake mix-layer depth",
            "product_type": "analysis",
            "shortName": "lmld",
            "standard_name": "depth"
           },
           "dimensions": [
            "lat",
            "lon",
            "time"
           ],
           "type": "data",
           "unit": "m"
          },
          "lake_mix_layer_temperature": {
           "attrs": {
            "long_name": "Lake mix-layer temperature",
            "product_type": "analysis",
            "shortName": "lmlt",
            "standard_name": "temperature"
           },
           "description": "Generic temperature variable.",
           "dimensions": [
            "lat",
            "lon",
            "time"
           ],
           "type": "data",
           "unit": "K"
          },
          "lake_shape_factor": {
           "attrs": {
            "long_name": "Lake shape factor",
            "product_type": "analysis",
            "shortName": "lshf",
            "standard_name": "unknown"
           },
           "description": "General index variable for flag/index type data",
           "dimensions": [
            "lat",
            "lon",
            "time"
           ],
           "type": "data",
           "unit": "dimensionless"
          },
          "lake_total_layer_temperature": {
           "attrs": {
            "long_name": "Lake total layer temperature",
            "product_type": "analysis",
            "shortName": "ltlt",
            "standard_name": "temperature"
           },
           "description": "Generic temperature variable.",
           "dimensions": [
            "lat",
            "lon",
            "time"
           ],
           "type": "data",
           "unit": "K"
          },
          "leaf_area_index_high_vegetation": {
           "attrs": {
            "long_name": "Leaf area index, high vegetation",
            "product_type": "forecast",
            "shortName": "lai_hv",
            "standard_name": "leaf_area_index"
           },
           "description": "A ratio obtained by dividing the total upper leaf surface area of vegetation by the (horizontal) surface area of the land on which it grows.",
           "dimensions": [
            "lat",
            "lon",
            "time"
           ],
           "type": "data",
           "unit": "m**2 m**-2"
          },
          "leaf_area_index_low_vegetation": {
           "attrs": {
            "long_name": "Leaf area index, low vegetation",
            "product_type": "forecast",
            "shortName": "lai_lv",
            "standard_name": "leaf_area_index"
           },
           "description": "A ratio obtained by dividing the total upper leaf surface area of vegetation by the (horizontal) surface area of the land on which it grows.",
           "dimensions": [
            "lat",
            "lon",
            "time"
           ],
           "type": "data",
           "unit": "m**2 m**-2"
          },
          "potential_evaporation": {
           "attrs": {
            "long_name": "Potential evaporation",
            "product_type": "forecast",
            "shortName": "pev",
            "standard_name": "lwe_thickness_of_water_potential_evaporation_amount"
           },
           "description": "'lwe' means liquid water equivalent. 'Amount' means mass per unit area. The construction lwe_thickness_of_X_amount or _content means the vertical extent of a layer of liquid water having the same mass per unit area. 'Water' means water in all phases. Potential evaporation is the rate at which evaporation would take place under unaltered ambient conditions (temperature, relative humidity, wind, etc.) if the supply of water were unlimited, as if from an open water surface.",
           "dimensions": [
            "lat",
            "lon",
            "time"
           ],
           "type": "data",
           "unit": "m"
          },
          "runoff": {
           "attrs": {
            "long_name": "Runoff",
            "product_type": "forecast",
            "shortName": "ro",
            "standard_name": "runoff_amount"
           },
           "description": "The total run-off (including drainage through the base of the soil model) per unit area leaving the land portion of the grid cell. 'Amount' means mass per unit area. Runoff is the liquid water which drains from land. If not specified, 'runoff' refers to the sum of surface runoff and subsurface drainage.",
           "dimensions": [
            "lat",
            "lon",
            "time"
           ],
           "type": "data",
           "unit": "m"
          },
          "skin_reservoir_content": {
           "attrs": {
            "long_name": "Skin reservoir content",
            "product_type": "analysis",
            "shortName": "src",
            "standard_name": "unknown"
           },
           "description": "",
           "dimensions": [
            "lat",
            "lon",
            "time"
           ],
           "type": "data",
           "unit": "m of water equivalent"
          },
          "skin_temperature": {
           "attrs": {
            "long_name": "Skin temperature",
            "product_type": "analysis",
            "shortName": "skt",
            "standard_name": "surface_temperature"
           },
           "description": "Temperature of the lower boundary of the atmosphere",
           "dimensions": [
            "lat",
            "lon",
            "time"
           ],
           "type": "data",
           "unit": "K"
          },
          "snow_albedo": {
           "attrs": {
            "long_name": "Snow albedo",
            "product_type": "analysis",
            "shortName": "asn",
            "standard_name": "surface_albedo_assuming_deep_snow"
           },
           "description": "The surface called 'surface' means the lower boundary of the atmosphere. Albedo is the ratio of outgoing to incoming shortwave irradiance, where 'shortwave irradiance' means that both the incoming and outgoing radiation are integrated across the solar spectrum. A phrase assuming_condition indicates that the named quantity is the value which would obtain if all aspects of the system were unaltered except for the assumption of the circumstances specified by the condition.",
           "dimensions": [
            "lat",
            "lon",
            "time"
           ],
           "type": "data",
           "unit": "(0 - 1)"
          },
          "snow_cover": {
           "attrs": {
            "long_name": "Snow cover",
            "product_type": "forecast",
            "shortName": "snowc",
            "standard_name": "surface_snow_area_fraction"
           },
           "description": "Percentage of each grid cell that is occupied by snow that rests on land portion of cell",
           "dimensions": [
            "lat",
            "lon",
            "time"
           ],
           "type": "data",
           "unit": "%"
          },
          "snow_density": {
           "attrs": {
            "long_name": "Snow density",
            "product_type": "analysis",
            "shortName": "rsn",
            "standard_name": "snow_density"
           },
           "description": "Where land over land, this is computed as the mean thickness of snow in the land portion of the grid cell (averaging over the entire land portion, including the snow-free fraction). Reported as 0.0 where the land fraction is 0.",
           "dimensions": [
            "lat",
            "lon",
            "time"
           ],
           "type": "data",
           "unit": "kg m**-3"
          },
          "snow_depth": {
           "attrs": {
            "long_name": "Snow depth",
            "product_type": "forecast",
            "shortName": "sde",
            "standard_name": "surface_snow_thickness"
           },
           "description": "Where land over land, this is computed as the mean thickness of snow in the land portion of the grid cell (averaging over the entire land portion, including the snow-free fraction). Reported as 0.0 where the land fraction is 0.",
           "dimensions": [
            "lat",
            "lon",
            "time"
           ],
           "type": "data",
           "unit": "m"
          },
          "snow_depth_water_equivalent": {
           "attrs": {
            "long_name": "Snow depth",
            "product_type": "analysis",
            "shortName": "sd",
            "standard_name": "lwe_thickness_of_surface_snow_amount"
           },
           "description": "The surface called 'surface' means the lower boundary of the atmosphere. 'lwe' means liquid water equivalent. 'Amount' means mass per unit area. The construction lwe_thickness_of_X_amount or _content means the vertical extent of a layer of liquid water having the same mass per unit area. Surface amount refers to the amount on the ground, excluding that on the plant or vegetation canopy.",
           "dimensions": [
            "lat",
            "lon",
            "time"
           ],
           "type": "data",
           "unit": "m of water equivalent"
          },
          "snowfall": {
           "attrs": {
            "long_name": "Snowfall",
            "product_type": "forecast",
            "shortName": "sf",
            "standard_name": "lwe_thickness_of_snowfall_amount"
           },
           "description": "The construction lwe_thickness_of_X_amount or _content means the vertical extent of a layer of liquid water having the same mass per unit area. The abbreviation 'lwe' means liquid water equivalent.",
           "dimensions": [
            "lat",
            "lon",
            "time"
           ],
           "type": "data",
           "unit": "m of water equivalent"
          },
          "snowmelt": {
           "attrs": {
            "long_name": "Snowmelt",
            "product_type": "forecast",
            "shortName": "smlt",
            "standard_name": ""
           },
           "description": "",
           "dimensions": [
            "lat",
            "lon",
            "time"
           ],
           "type": "data",
           "unit": "m of water equivalent"
          },
          "soil_temperature_level_1": {
           "attrs": {
            "long_name": "Soil temperature level 1",
            "product_type": "analysis",
            "shortName": "stl1",
            "standard_name": "soil_temperature"
           },
           "description": "Top soil layer: 1-7 cm. Soil temperature (ST) before 19930804",
           "dimensions": [
            "lat",
            "lon",
            "time"
           ],
           "type": "data",
           "unit": "K"
          },
          "soil_temperature_level_2": {
           "attrs": {
            "long_name": "Soil temperature level 2",
            "product_type": "analysis",
            "shortName": "stl2",
            "standard_name": "soil_temperature"
           },
           "description": "Soil layer 2: 7-28 cm. Deep soil temperature (DST) before 19930804",
           "dimensions": [
            "lat",
            "lon",
            "time"
           ],
           "type": "data",
           "unit": "K"
          },
          "soil_temperature_level_3": {
           "attrs": {
            "long_name": "Soil temperature level 3",
            "product_type": "analysis",
            "shortName": "stl3",
            "standard_name": "soil_temperature"
           },
           "description": "Soil layer 3: 28-100 cm. Climatological deep soil temperature (CDST) before 19930804",
           "dimensions": [
            "lat",
            "lon",
            "time"
           ],
           "type": "data",
           "unit": "K"
          },
          "soil_temperature_level_4": {
           "attrs": {
            "long_name": "Soil temperature level 4",
            "product_type": "analysis",
            "shortName": "stl4",
            "standard_name": "soil_temperature"
           },
           "description": "Soil layer 4: 100-289 cm.",
           "dimensions": [
            "lat",
            "lon",
            "time"
           ],
           "type": "data",
           "unit": "K"
          },
          "sub_surface_runoff": {
           "attrs": {
            "long_name": "Sub-surface runoff",
            "product_type": "forecast",
            "shortName": "ssro",
            "standard_name": "subsurface_runoff_amount"
           },
           "description": "The subsurface run-off (including drainage through the base of the soil model) per unit area leaving the land portion of the grid cell. 'Amount' means mass per unit area. Runoff is the liquid water which drains from land.",
           "dimensions": [
            "lat",
            "lon",
            "time"
           ],
           "type": "data",
           "unit": "m"
          },
          "surface_latent_heat_flux": {
           "attrs": {
            "long_name": "Surface latent heat flux",
            "product_type": "forecast",
            "shortName": "slhf",
            "standard_name": "integral_wrt_time_of_surface_upward_latent_heat_flux"
           },
           "description": "The surface called 'surface' means the lower boundary of the atmosphere. 'Upward' indicates a vector component which is positive when directed upward (negative downward). The surface latent heat flux is the exchange of heat between the surface and the air on account of evaporation (including sublimation). In accordance with common usage in geophysical disciplines, 'flux' implies per unit area, called 'flux density' in physics. Accumulated means the value represents the sum of the quantity during the accumulation period.",
           "dimensions": [
            "lat",
            "lon",
            "time"
           ],
           "type": "data",
           "unit": "J m**-2"
          },
          "surface_net_solar_radiation": {
           "attrs": {
            "long_name": "Surface net solar radiation",
            "product_type": "forecast",
            "shortName": "ssr",
            "standard_name": "integral_wrt_time_of_surface_net_downward_shortwave_flux"
           },
           "description": "Accumulated net downward shortwave radiation at the surface",
           "dimensions": [
            "lat",
            "lon",
            "time"
           ],
           "type": "data",
           "unit": "J m**-2"
          },
          "surface_net_thermal_radiation": {
           "attrs": {
            "long_name": "Surface net thermal radiation",
            "product_type": "forecast",
            "shortName": "str",
            "standard_name": "integral_wrt_time_of_surface_net_downward_longwave_flux"
           },
           "description": "Accumulated net longwave surface radiation",
           "dimensions": [
            "lat",
            "lon",
            "time"
           ],
           "type": "data",
           "unit": "J m**-2"
          },
          "surface_pressure": {
           "attrs": {
            "long_name": "Surface pressure",
            "product_type": "forecast",
            "shortName": "sp",
            "standard_name": "surface_air_pressure"
           },
           "description": "Surface pressure (not mean sea-level pressure), 2-D field to calculate the 3-D pressure field from hybrid coordinates",
           "dimensions": [
            "lat",
            "lon",
            "time"
           ],
           "type": "data",
           "unit": "Pa"
          },
          "surface_runoff": {
           "attrs": {
            "long_name": "Surface runoff",
            "product_type": "forecast",
            "shortName": "sro",
            "standard_name": "surface_runoff_amount"
           },
           "description": "The surface run-off per unit area leaving the land portion of the grid cell. 'Amount' means mass per unit area. Runoff is the liquid water which drains from land.",
           "dimensions": [
            "lat",
            "lon",
            "time"
           ],
           "type": "data",
           "unit": "m"
          },
          "surface_sensible_heat_flux": {
           "attrs": {
            "long_name": "Surface sensible heat flux",
            "product_type": "forecast",
            "shortName": "sshf",
            "standard_name": "integral_wrt_time_of_surface_upward_sensible_heat_flux"
           },
           "description": "The surface sensible heat flux, also called turbulent heat flux, is the exchange of heat between the surface and the air by motion of air. Accumulated means the value represents the sum of the quantity during the accumulation period.",
           "dimensions": [
            "lat",
            "lon",
            "time"
           ],
           "type": "data",
           "unit": "J m**-2"
          },
          "surface_solar_radiation_downwards": {
           "attrs": {
            "long_name": "Surface solar radiation downwards",
            "product_type": "forecast",
            "shortName": "ssrd",
            "standard_name": "integral_wrt_time_of_surface_downwelling_shortwave_flux_in_air"
           },
           "description": "Surface solar irradiance for UV calculations. Accumulated means the value represents the sum of the quantity during the accumulation period.",
           "dimensions": [
            "lat",
            "lon",
            "time"
           ],
           "type": "data",
           "unit": "J m**-2"
          },
          "surface_thermal_radiation_downwards": {
           "attrs": {
            "long_name": "Surface thermal radiation downwards",
            "product_type": "forecast",
            "shortName": "strd",
            "standard_name": "integral_wrt_time_of_surface_downwelling_longwave_flux_in_air"
           },
           "description": "The surface called 'surface' means the lower boundary of the atmosphere. 'longwave' means longwave radiation. Downwelling radiation is radiation from above. It does not mean 'net downward'. When thought of as being incident on a surface, a radiative flux is sometimes called 'irradiance'. In addition, it is identical with the quantity measured by a cosine-collector light-meter and sometimes called 'vector irradiance'. In accordance with common usage in geophysical disciplines, 'flux' implies per unit area, called 'flux density' in physics. Accumulated means the value represents the sum of the quantity during the accumulation period.",
           "dimensions": [
            "lat",
            "lon",
            "time"
           ],
           "type": "data",
           "unit": "J m**-2"
          },
          "temperature_of_snow_layer": {
           "attrs": {
            "long_name": "Temperature of snow layer",
            "product_type": "analysis",
            "shortName": "tsn",
            "standard_name": "temperature_in_surface_snow"
           },
           "description": "This temperature is averaged over all the snow in the grid cell that rests on land or land ice.  When computing the time-mean here, the time samples, weighted by the mass of snow on the land portion of the grid cell, are accumulated and then divided by the sum of the weights.   Reported as missing in regions free of snow on land.",
           "dimensions": [
            "lat",
            "lon",
            "time"
           ],
           "type": "data",
           "unit": "K"
          },
          "total_evaporation": {
           "attrs": {
            "long_name": "Evaporation",
            "product_type": "forecast",
            "shortName": "e",
            "standard_name": "lwe_thickness_of_water_evaporation_amount"
           },
           "description": "'lwe' means liquid water equivalent. 'Amount' means mass per unit area. The construction lwe_thickness_of_X_amount or _content means the vertical extent of a layer of liquid water having the same mass per unit area. 'Water' means water in all phases. Evaporation is the conversion of liquid or solid into vapor. (The conversion of solid alone into vapor is called 'sublimation'.)",
           "dimensions": [
            "lat",
            "lon",
            "time"
           ],
           "type": "data",
           "unit": "m of water equivalent"
          },
          "total_precipitation": {
           "attrs": {
            "long_name": "Total precipitation",
            "product_type": "forecast",
            "shortName": "tp",
            "standard_name": "lwe_thickness_of_precipitation_amount"
           },
           "description": "The construction lwe_thickness_of_X_amount or _content means the vertical extent of a layer of liquid water having the same mass per unit area. 'Precipitation' in the Earth's atmosphere means precipitation of water in all phases. The abbreviation 'lwe' means liquid water equivalent.",
           "dimensions": [
            "lat",
            "lon",
            "time"
           ],
           "type": "data",
           "unit": "m"
          },
          "volumetric_soil_water_layer_1": {
           "attrs": {
            "long_name": "Volumetric soil water layer 1",
            "product_type": "analysis",
            "shortName": "swvl1",
            "standard_name": "volumetric_soil_water"
           },
           "description": "",
           "dimensions": [
            "lat",
            "lon",
            "time"
           ],
           "type": "data",
           "unit": "m**3 m**-3"
          },
          "volumetric_soil_water_layer_2": {
           "attrs": {
            "long_name": "Volumetric soil water layer 2",
            "product_type": "analysis",
            "shortName": "swvl2",
            "standard_name": "volumetric_soil_water"
           },
           "description": "",
           "dimensions": [
            "lat",
            "lon",
            "time"
           ],
           "type": "data",
           "unit": "m**3 m**-3"
          },
          "volumetric_soil_water_layer_3": {
           "attrs": {
            "long_name": "Volumetric soil water layer 3",
            "product_type": "analysis",
            "shortName": "swvl3",
            "standard_name": "volumetric_soil_water"
           },
           "description": "",
           "dimensions": [
            "lat",
            "lon",
            "time"
           ],
           "type": "data",
           "unit": "m**3 m**-3"
          },
          "volumetric_soil_water_layer_4": {
           "attrs": {
            "long_name": "Volumetric soil water layer 4",
            "product_type": "analysis",
            "shortName": "swvl4",
            "standard_name": "volumetric_soil_water"
           },
           "description": "",
           "dimensions": [
            "lat",
            "lon",
            "time"
           ],
           "type": "data",
           "unit": "m**3 m**-3"
          }
         },
         "dedl:short_description": "ERA5-Land is a reanalysis dataset providing a consistent view of the evolution of land variables over several decades at an enhanced resolution compared to ERA5.",
         "description": "ERA5-Land is a reanalysis dataset providing a consistent view of the evolution of land variables over several decades at an enhanced resolution compared to ERA5. ERA5-Land has been produced by replaying the land component of the ECMWF ERA5 climate reanalysis. Reanalysis combines model data with observations from across the world into a globally complete and consistent dataset using the laws of physics. Reanalysis produces data that goes several decades back in time, providing an accurate description of the climate of the past. ERA5-Land uses as input to control the simulated land fields ERA5 atmospheric variables, such as air temperature and air humidity. This is called the atmospheric forcing. Without the constraint of the atmospheric forcing, the model-based estimates can rapidly deviate from reality. Therefore, while observations are not directly used in the production of ERA5-Land, they have an indirect influence through the atmospheric forcing used to run the simulation. In addition, the input air temperature, air humidity and pressure used to run ERA5-Land are corrected to account for the altitude difference between the grid of the forcing and the higher resolution grid of ERA5-Land. This correction is called 'lapse rate correction'. The ERA5-Land dataset, as any other simulation, provides estimates which have some degree of uncertainty. Numerical models can only provide a more or less accurate representation of the real physical processes governing different components of the Earth System. In general, the uncertainty of model estimates grows as we go back in time, because the number of observations available to create a good quality atmospheric forcing is lower. ERA5-land parameter fields can currently be used in combination with the uncertainty of the equivalent ERA5 fields. The temporal and spatial resolutions of ERA5-Land makes this dataset very useful for all kind of land surface applications such as flood or drought forecasting. The temporal and spatial resolution of this dataset, the period covered in time, as well as the fixed grid used for the data distribution at any period enables decisions makers, businesses and individuals to access and use more accurate information on land states.\n\nMain Variables:[['Name'\t'Full_Name'\t'ShortName'\t'Units'\t'Description'\t'url']\n ['10m u-component of wind'\t'10m U wind over land'\t'~'\t'm.s⁻¹'\n  'Eastward component of the 10m wind. It is the horizontal speed of air moving towards the east, at a height of ten metres above the surface of the Earth, in metres per second. Care should be taken when comparing this variable with observations, because wind observations vary on small space and time scales and are affected by the local terrain, vegetation and buildings that are represented only on average in the ECMWF Integrated Forecasting System. This variable can be combined with the V component of 10m wind to give the speed and direction of the horizontal 10m wind.'\n  'https://codes.ecmwf.int/grib/param-db/?id=174085']\n ['10m v-component of wind'\t'10m V wind over land'\t'~'\t'm.s⁻¹'\n  'Northward component of the 10m wind. It is the horizontal speed of air moving towards the north, at a height of ten metres above the surface of the Earth, in metres per second. Care should be taken when comparing this variable with observations, because wind observations vary on small space and time scales and are affected by the local terrain, vegetation and buildings that are represented only on average in the ECMWF Integrated Forecasting System. This variable can be combined with the U component of 10m wind to give the speed and direction of the horizontal 10m wind.'\n  'https://codes.ecmwf.int/grib/param-db/?id=174086']\n ['2m dewpoint temperature'\t'2m Dew Point Temperature'\t'td_2m'\t'K'\n  \"Temperature to which the air, at 2 metres above the surface of the Earth, would have to be cooled for saturation to occur.It is a measure of the humidity of the air. Combined with temperature and pressure, it can be used to calculate the relative humidity. 2m dew point temperature is calculated by interpolating between the lowest model level and the Earth's surface, taking account of the atmospheric conditions. Temperature measured in kelvin can be converted to degrees Celsius (°C) by subtracting 273.15.\"\n  'https://codes.ecmwf.int/grib/param-db/?id=500017']\n ['2m temperature'\t'2m Temperature'\t't_2m'\t'K'\n  \"Temperature of air at 2m above the surface of land, sea or in-land waters. 2m temperature is calculated by interpolating between the lowest model level and the Earth's surface, taking account of the atmospheric conditions. Temperature measured in kelvin can be converted to degrees Celsius (°C) by subtracting 273.15.\"\n  'https://codes.ecmwf.int/grib/param-db/?id=500011']\n ['Evaporation from bare soil'\t'Evaporation from bare soil'\t'evabs'\n  'm of water equivalent'\n  'The amount of evaporation from bare soil at the top of the land surface. This variable is accumulated from the beginning of the forecast time to the end of the forecast step.'\n  'https://codes.ecmwf.int/grib/param-db/?id=228101']\n ['Evaporation from open water surfaces excluding oceans'\n  'Evaporation from open water surfaces excluding oceans'\t'evaow'\n  'm of water equivalent'\n  'Amount of evaporation from surface water storage like lakes and inundated areas but excluding oceans. This variable is accumulated from the beginning of the forecast time to the end of the forecast step.'\n  'https://codes.ecmwf.int/grib/param-db/?id=228102']\n ['Evaporation from the top of canopy'\n  'Evaporation from the top of canopy'\t'evatc'\t'm of water equivalent'\n  'The amount of evaporation from the canopy interception reservoir at the top of the canopy. This variable is accumulated from the beginning of the forecast time to the end of the forecast step.'\n  'https://codes.ecmwf.int/grib/param-db/?id=228100']\n ['Evaporation from vegetation transpiration'\n  'Evaporation from vegetation transpiration'\t'evavt'\n  'm of water equivalent'\n  'Amount of evaporation from vegetation transpiration. This has the same meaning as root extraction i.e. the amount of water extracted from the different soil layers. This variable is accumulated from the beginning of the forecast time to the end of the forecast step.'\n  'https://codes.ecmwf.int/grib/param-db/?id=228103']\n ['Forecast albedo'\t'Forecast albedo'\t'fal'\t'(0 - 1)'\n  \"Is a measure of the reflectivity of the Earth's surface. It is the fraction of solar (shortwave) radiation reflected by Earth's surface, across the solar spectrum, for both direct and diffuse radiation. Values are between 0 and 1. Typically, snow and ice have high reflectivity with albedo values of 0.8 and above, land has intermediate values between about 0.1 and 0.4 and the ocean has low values of 0.1 or less. Radiation from the Sun (solar, or shortwave, radiation) is partly reflected back to space by clouds and particles in the atmosphere (aerosols) and some of it is absorbed. The rest is incident on the Earth's surface, where some of it is reflected. The portion that is reflected by the Earth's surface depends on the albedo. In the ECMWF Integrated Forecasting System (IFS), a climatological background albedo (observed values averaged over a period of several years) is used, modified by the model over water, ice and snow. Albedo is often shown as a percentage (%).\"\n  'https://codes.ecmwf.int/grib/param-db/?id=243']\n ['Lake bottom temperature'\t'Lake bottom temperature'\t'lblt'\t'K'\n  'Temperature of water at the bottom of inland water bodies (lakes, reservoirs, rivers) and coastal waters. ECMWF implemented a lake model in May 2015 to represent the water temperature and lake ice of all the world’s major inland water bodies in the Integrated Forecasting System. The model keeps lake depth and surface area (or fractional cover) constant in time.'\n  'https://codes.ecmwf.int/grib/param-db/?id=228010']\n ['Lake ice depth'\t'Lake ice total depth'\t'licd'\t'm'\n  'The thickness of ice on inland water bodies (lakes, reservoirs and rivers) and coastal waters. The ECMWF Integrated Forecasting System (IFS) represents the formation and melting of ice on inland water bodies (lakes, reservoirs and rivers) and coastal water. A single ice layer is represented. This parameter is the thickness of that ice layer.'\n  'https://codes.ecmwf.int/grib/param-db/?id=228014']\n ['Lake ice temperature'\t'Lake ice surface temperature'\t'lict'\t'K'\n  'The temperature of the uppermost surface of ice on inland water bodies (lakes, reservoirs, rivers) and coastal waters. The ECMWF Integrated Forecasting System represents the formation and melting of ice on lakes. A single ice layer is represented. The temperature measured in kelvin can be converted to degrees Celsius (°C) by subtracting 273.15.'\n  'https://codes.ecmwf.int/grib/param-db/?id=228013']\n ['Lake mix-layer depth'\tnan\tnan\tnan\n  'The thickness of the upper most layer of an inland water body (lake, reservoirs, and rivers) or coastal waters that is well mixed and has a near constant temperature with depth (uniform distribution of temperature). The ECMWF Integrated Forecasting System represents inland water bodies with two layers in the vertical, the mixed layer above and the thermocline below. Thermoclines upper boundary is located at the mixed layer bottom, and the lower boundary at the lake bottom. Mixing within the mixed layer can occur when the density of the surface (and near-surface) water is greater than that of the water below. Mixing can also occur through the action of wind on the surface of the lake.'\n  nan]\n ['Lake mix-layer temperature'\tnan\tnan\tnan\n  'The temperature of the upper most layer of inland water bodies (lakes, reservoirs and rivers) or coastal waters) that is well mixed. The ECMWF Integrated Forecasting System represents inland water bodies with two layers in the vertical, the mixed layer above and the thermocline below. Thermoclines upper boundary is located at the mixed layer bottom, and the lower boundary at the lake bottom. Mixing within the mixed layer can occur when the density of the surface (and near-surface) water is greater than that of the water below. Mixing can also occur through the action of wind on the surface of the lake. Temperature measured in kelvin can be converted to degrees Celsius (°C) by subtracting 273.15.'\n  nan]\n ['Lake shape factor'\t'Lake shape factor'\t'lshf'\t'dimensionless'\n  'This parameter describes the way that temperature changes with depth in the thermocline layer of inland water bodies (lakes, reservoirs and rivers) and coastal waters. It is used to calculate the lake bottom temperature and other lake-related parameters. The ECMWF Integrated Forecasting System represents inland and coastal water bodies with two layers in the vertical, the mixed layer above and the thermocline below where temperature changes with depth.'\n  'https://codes.ecmwf.int/grib/param-db/?id=228012']\n ['Lake total layer temperature'\t'Lake total layer temperature'\t'ltlt'\n  'K'\n  'The mean temperature of total water column in inland water bodies (lakes, reservoirs and rivers) and coastal waters. The ECMWF Integrated Forecasting System represents inland water bodies with two layers in the vertical, the mixed layer above and the thermocline below where temperature changes with depth. This parameter is the mean over the two layers. Temperature measured in kelvin can be converted to degrees Celsius (°C) by subtracting 273.15.'\n  'https://codes.ecmwf.int/grib/param-db/?id=228011']\n ['Leaf area index, high vegetation'\t'Leaf area index high vegetation'\n  'lai_hv'\t'm².m⁻²'\n  'One-half of the total green leaf area per unit horizontal ground surface area for high vegetation type.'\n  'https://codes.ecmwf.int/grib/param-db/?id=67']\n ['Leaf area index, low vegetation'\t'Leaf area index low vegetation'\n  'lai_lv'\t'm².m⁻²'\n  'One-half of the total green leaf area per unit horizontal ground surface area for low vegetation type.'\n  'https://codes.ecmwf.int/grib/param-db/?id=66']\n ['Potential evaporation'\t'Potential evaporation'\t'pev'\t'm'\n  'Potential evaporation (pev) in the current ECMWF model is computed, by making a second call to the surface energy balance routine with the vegetation variables set to \"crops/mixed farming\" and assuming no stress from soil moisture. In other words, evaporation is computed for agricultural land as if it is well watered and assuming that the atmosphere is not affected by this artificial surface condition. The latter may not always be realistic. Although pev is meant to provide an estimate of irrigation requirements, the method can give unrealistic results in arid conditions due to too strong evaporation forced by dry air. Note that in ERA5-Land pev is computed as an open water evaporation (Pan evaporation) and assuming that the atmosphere is not affected by this artificial surface condition. The latter is different  from the way pev is computed in ERA5. This variable is accumulated from the beginning of the forecast time to the end of the forecast step.'\n  'https://codes.ecmwf.int/grib/param-db/?id=228251']\n ['Runoff'\t'Runoff'\t'ro'\t'm'\n  \"Some water from rainfall, melting snow, or deep in the soil, stays stored in the soil. Otherwise, the water drains away, either over the surface (surface runoff), or under the ground (sub-surface runoff) and the sum of these two is simply called 'runoff'. This variable is the total amount of water accumulated from the beginning of the forecast time to the end of the forecast step. The units of runoff are depth in metres. This is the depth the water would have if it were spread evenly over the grid box. Care should be taken when comparing model variables with observations, because observations are often local to a particular point rather than averaged over a grid square area.  Observations are also often taken in different units, such as mm/day, rather than the accumulated metres produced here. Runoff is a measure of the availability of water in the soil, and can, for example, be used as an indicator of drought or flood. More information about how runoff is calculated is given in the IFS Physical Processes documentation.\"\n  'https://codes.ecmwf.int/grib/param-db/?id=205']\n ['Skin reservoir content'\t'Skin reservoir content'\t'src'\n  'm of water equivalent'\n  \"Amount of water in the vegetation canopy and/or in a thin layer on the soil. It represents the amount of rain intercepted by foliage, and water from dew. The maximum amount of 'skin reservoir content' a grid box can hold depends on the type of vegetation, and may be zero.  Water leaves the 'skin reservoir' by evaporation.\"\n  'https://codes.ecmwf.int/grib/param-db/?id=198']\n ['Skin temperature'\t'Skin temperature'\t'skt'\t'K'\n  'Temperature of the surface of the Earth. The skin temperature is the theoretical temperature that is required to satisfy the surface energy balance. It represents the temperature of the uppermost surface layer, which has no heat capacity and so can respond instantaneously to changes in surface fluxes. Skin temperature is calculated differently over land and sea. Temperature measured in kelvin can be converted to degrees Celsius (°C) by subtracting 273.15.'\n  'https://codes.ecmwf.int/grib/param-db/?id=235']\n ['Snow albedo'\t'Snow albedo'\t'asn'\t'(0 - 1)'\n  'It is defined as the fraction of solar (shortwave) radiation reflected by the snow, across the solar spectrum, for both direct and diffuse radiation. It is a measure of the reflectivity of the snow covered grid cells. Values vary between 0 and 1. Typically, snow and ice have high reflectivity with albedo values of 0.8 and above.'\n  'https://codes.ecmwf.int/grib/param-db/?id=32']\n ['Snow cover'\t'Snow cover'\t'snowc'\t'%'\n  'It represents the fraction (0-1) of the cell / grid-box occupied by snow (similar to the cloud cover fields of ERA5).'\n  'https://codes.ecmwf.int/grib/param-db/?id=260038']\n ['Snow density'\t'Snow density'\t'rsn'\t'kg.m⁻³'\n  'Mass of snow per cubic metre in the snow layer. The ECMWF Integrated Forecast System (IFS) model represents snow as a single additional layer over the uppermost soil level. The snow may cover all or part of the grid box.'\n  'https://codes.ecmwf.int/grib/param-db/?id=33']\n ['Snow depth'\t'Snow depth'\t'sd'\t'm of water equivalent'\n  'Instantaneous grib-box average of the snow thickness on the ground (excluding snow on canopy).'\n  'https://codes.ecmwf.int/grib/param-db/?id=141']\n ['Snow depth water equivalent'\t'Snow depth water equivalent'\t'sd'\n  'kg.m⁻²'\n  'Depth of snow from the snow-covered area of a grid box. Its units are metres of water equivalent, so it is the depth the water would have if the snow melted and was spread evenly over the whole grid box. The ECMWF Integrated Forecast System represents snow as a single additional layer over the uppermost soil level. The snow may cover all or part of the grid box.'\n  'https://codes.ecmwf.int/grib/param-db/?id=228141']\n ['Snow evaporation'\t'Snow evaporation'\t'es'\t'm of water equivalent'\n  'Evaporation from snow averaged over the grid box (to find flux over snow, divide by snow fraction). This variable is accumulated from the beginning of the forecast time to the end of the forecast step.'\n  'https://codes.ecmwf.int/grib/param-db/?id=44']\n ['Snowfall'\t'Snowfall'\t'sf'\t'm of water equivalent'\n  \"Accumulated total snow that has fallen to the Earth's surface. It consists of snow due to the large-scale atmospheric flow (horizontal scales greater than around a few hundred metres) and convection where smaller scale areas (around 5km to a few hundred kilometres) of warm air rise. If snow has melted during the period over which this variable was accumulated, then it will be higher than the snow depth. This variable is the total amount of water accumulated from the beginning of the forecast time to the end of the forecast step. The units given measure the depth the water would have if the snow melted and was spread evenly over the grid box. Care should be taken when comparing model variables with observations, because observations are often local to a particular point in space and time, rather than representing averages over a model grid box and model time step.\"\n  'https://codes.ecmwf.int/grib/param-db/?id=144']\n ['Snowmelt'\t'Snowmelt'\t'smlt'\t'm of water equivalent'\n  'Melting of snow averaged over the grid box (to find melt over snow, divide by snow fraction). This variable is accumulated from the beginning of the forecast time to the end of the forecast step.'\n  'https://codes.ecmwf.int/grib/param-db/?id=45']\n ['Soil temperature level 1'\t'Soil temperature level 1'\t'stl1'\t'K'\n  'Temperature of the soil in layer 1 (0 - 7 cm) of the ECMWF Integrated Forecasting System. The surface is at 0 cm. Soil temperature is set at the middle of each layer, and heat transfer is calculated at the interfaces between them. It is assumed that there is no heat transfer out of the bottom of the lowest layer. Temperature measured in kelvin can be converted to degrees Celsius (°C) by subtracting 273.15.'\n  'https://codes.ecmwf.int/grib/param-db/?id=139']\n ['Soil temperature level 2'\t'Soil temperature level 2'\t'stl2'\t'K'\n  'Temperature of the soil in layer 2 (7 -28cm) of the ECMWF Integrated Forecasting System.'\n  'https://codes.ecmwf.int/grib/param-db/?id=170']\n ['Soil temperature level 3'\t'Soil temperature level 3'\t'stl3'\t'K'\n  'Temperature of the soil in layer 3 (28-100cm) of the ECMWF Integrated Forecasting System.'\n  'https://codes.ecmwf.int/grib/param-db/?id=183']\n ['Soil temperature level 4'\t'Soil temperature level 4'\t'stl4'\t'K'\n  'Temperature of the soil in layer 4 (100-289 cm) of the ECMWF Integrated Forecasting System.'\n  'https://codes.ecmwf.int/grib/param-db/?id=236']\n ['Sub-surface runoff'\tnan\tnan\tnan\n  \"Some water from rainfall, melting snow, or deep in the soil, stays stored in the soil. Otherwise, the water drains away, either over the surface (surface runoff), or under the ground (sub-surface runoff) and the sum of these two is simply called 'runoff'. This variable is accumulated from the beginning of the forecast time to the end of the forecast step. The units of runoff are depth in metres. This is the depth the water would have if it were spread evenly over the grid box. Care should be taken when comparing model variables with observations, because observations are often local to a particular point rather than averaged over a grid square area.  Observations are also often taken in different units, such as mm/day, rather than the accumulated metres produced here. Runoff is a measure of the availability of water in the soil, and can, for example, be used as an indicator of drought or flood. More information about how runoff is calculated is given in the IFS Physical Processes documentation.\"\n  nan]\n ['Surface latent heat flux'\t'Surface latent heat flux'\t'slhf'\t'J.m⁻²'\n  'Exchange of latent heat with the surface through turbulent diffusion. This variables is accumulated from the beginning of the forecast time to the end of the forecast step. By model convention, downward fluxes are positive.'\n  'https://codes.ecmwf.int/grib/param-db/?id=147']\n ['Surface net solar radiation'\t'Surface net solar radiation'\t'ssr'\n  'J.m⁻²'\n  \"Amount of solar radiation (also known as shortwave radiation) reaching the surface of the Earth (both direct and diffuse) minus the amount reflected by the Earth's surface (which is governed by the albedo).Radiation from the Sun (solar, or shortwave, radiation) is partly reflected back to space by clouds and particles in the atmosphere (aerosols) and some of it is absorbed. The rest is incident on the Earth's surface, where some of it is reflected. The difference between downward and reflected solar radiation is the surface net solar radiation. This variable is accumulated from the beginning of the forecast time to the end of the forecast step. The units are joules per square metre (J m -2). To convert to watts per square metre (W m -2), the accumulated values should be divided by the accumulation period expressed in seconds. The ECMWF convention for vertical fluxes is positive downwards.\"\n  'https://codes.ecmwf.int/grib/param-db/?id=180176']\n ['Surface net thermal radiation'\n  'Surface net long-wave (thermal) radiation'\t'str'\t'J.m⁻²'\n  'Net thermal radiation at the surface. Accumulated field from the beginning of the forecast time to the end of the forecast step. By model convention downward fluxes are positive.'\n  'https://codes.ecmwf.int/grib/param-db/?id=177']\n ['Surface net thermal radiation'\t'Surface net thermal radiation'\t'str'\n  'J.m⁻²'\n  'Net thermal radiation at the surface. Accumulated field from the beginning of the forecast time to the end of the forecast step. By model convention downward fluxes are positive.'\n  'https://codes.ecmwf.int/grib/param-db/?id=180177']\n ['Surface pressure'\t'Surface pressure'\t'sp'\t'Pa'\n  \"Pressure (force per unit area) of the atmosphere on the surface of land, sea and in-land water. It is a measure of the weight of all the air in a column vertically above the area of the Earth's surface represented at a fixed point. Surface pressure is often used in combination with temperature to calculate air density. The strong variation of pressure with altitude makes it difficult to see the low and high pressure systems over mountainous areas, so mean sea level pressure, rather than surface pressure, is normally used for this purpose. The units of this variable are Pascals (Pa). Surface pressure is often measured in hPa and sometimes is presented in the old units of millibars, mb (1 hPa = 1 mb = 100 Pa).\"\n  'https://codes.ecmwf.int/grib/param-db/?id=134']\n ['Surface runoff'\t'Surface runoff'\t'sro'\t'm'\n  \"Some water from rainfall, melting snow, or deep in the soil, stays stored in the soil. Otherwise, the water drains away, either over the surface (surface runoff), or under the ground (sub-surface runoff) and the sum of these two is simply called 'runoff'. This variable is the total amount of water accumulated from the beginning of the forecast time to the end of the forecast step. The units of runoff are depth in metres. This is the depth the water would have if it were spread evenly over the grid box. Care should be taken when comparing model variables with observations, because observations are often local to a particular point rather than averaged over a grid square area. Observations are also often taken in different units, such as mm/day, rather than the accumulated metres produced here. Runoff is a measure of the availability of water in the soil, and can, for example, be used as an indicator of drought or flood. More information about how runoff is calculated is given in the IFS Physical Processes documentation.\"\n  'https://codes.ecmwf.int/grib/param-db/?id=8']\n ['Surface sensible heat flux'\t'Surface sensible heat flux'\t'sshf'\n  'J.m⁻²'\n  \"Transfer of heat between the Earth's surface and the atmosphere through the effects of turbulent air motion (but excluding any heat transfer resulting from condensation or evaporation). The magnitude of the sensible heat flux is governed by the difference in temperature between the surface and the overlying atmosphere, wind speed and the surface roughness. For example, cold air overlying a warm surface would produce a sensible heat flux from the land (or ocean) into the atmosphere. This is a single level variable and it is accumulated from the beginning of the forecast time to the end of the forecast step. The units are joules per square metre (J m -2). To convert to watts per square metre (W m -2), the accumulated values should be divided by the accumulation period expressed in seconds. The ECMWF convention for vertical fluxes is positive downwards.\"\n  'https://codes.ecmwf.int/grib/param-db/?id=146']\n ['Surface solar radiation downwards'\n  'Surface short-wave (solar) radiation downwards'\t'ssrd'\t'J.m⁻²'\n  \"Amount of solar radiation (also known as shortwave radiation) reaching the surface of the Earth. This variable comprises both direct and diffuse solar radiation. Radiation from the Sun (solar, or shortwave, radiation) is partly reflected back to space by clouds and particles in the atmosphere (aerosols) and some of it is absorbed.  The rest is incident on the Earth's surface (represented by this variable). To a reasonably good approximation, this variable is the model equivalent of what would be measured by a pyranometer (an instrument used for measuring solar radiation) at the surface. However, care should be taken when comparing model variables with observations, because observations are often local to a particular point in space and time, rather than representing averages over a  model grid box and model time step. This variable is accumulated from the beginning of the forecast time to the end of the forecast step. The units are joules per square metre (J m -2). To convert to watts per square metre (W m -2), the accumulated values should be divided by the accumulation period expressed in seconds. The ECMWF convention for vertical fluxes is positive downwards.\"\n  'https://codes.ecmwf.int/grib/param-db/?id=169']\n ['Surface thermal radiation downwards'\tnan\tnan\tnan\n  \"Amount of thermal (also known as longwave or terrestrial) radiation emitted by the atmosphere and clouds that reaches the Earth's surface. The surface of the Earth emits thermal radiation, some of which is absorbed by the atmosphere and clouds. The atmosphere and clouds likewise emit thermal radiation in all directions, some of which reaches the surface (represented by this variable). This variable is accumulated from the beginning of the forecast time to the end of the forecast step. The units are joules per square metre (J m -2). To convert to watts per square metre (W m -2), the accumulated values should be divided by the accumulation period expressed in seconds. The ECMWF convention for vertical fluxes is positive downwards.\"\n  nan]\n ['Temperature of snow layer'\t'Temperature of snow layer'\t'tsn'\t'K'\n  'This variable gives the temperature of the snow layer from the ground to the snow-air interface. The ECMWF Integrated Forecast System (IFS) model represents snow as a single additional layer over the uppermost soil level. The snow may cover all or part of the  grid box. Temperature measured in kelvin can be converted to degrees Celsius (°C) by subtracting 273.15.'\n  'https://codes.ecmwf.int/grib/param-db/?id=238']\n ['Total evaporation'\t'Evaporation'\t'e'\t'm of water equivalent'\n  \"Accumulated amount of water that has evaporated from the Earth's surface, including a simplified representation of transpiration (from vegetation), into vapour in the air above. This variable is accumulated from the beginning of the forecast to the end of the forecast step. The ECMWF Integrated Forecasting System convention is that downward fluxes are positive. Therefore, negative values indicate evaporation and positive values indicate condensation.\"\n  'https://codes.ecmwf.int/grib/param-db/?id=182']\n ['Total precipitation'\t'Total precipitation'\t'tp'\t'm'\n  \"Accumulated liquid and frozen water, including rain and snow, that falls to the Earth's surface. It is the sum of large-scale precipitation (that precipitation which is generated by large-scale weather patterns, such as troughs and cold fronts) and convective precipitation (generated by convection which occurs when air at lower levels in the atmosphere is warmer and less dense than the air above, so it rises). Precipitation variables do not include fog, dew or the precipitation that evaporates in the atmosphere before it lands at the surface of the Earth. This variable is accumulated from the beginning of the forecast time to the end of the forecast step. The units of precipitation are depth in metres. It is the depth the water would have if it were spread evenly over the grid box. Care should be taken when comparing model variables with observations, because observations are often local to a particular point in space and time, rather than representing averages over a model grid box and  model time step.\"\n  'https://codes.ecmwf.int/grib/param-db/?id=228']\n ['Volumetric soil water layer 1'\t'Volumetric soil water layer 1'\t'swvl1'\n  'm³.m⁻³'\n  'Volume of water in soil layer 1 (0 - 7 cm) of the ECMWF Integrated Forecasting System. The surface is at 0 cm. The volumetric soil water is associated with the soil texture (or classification), soil depth, and the underlying groundwater level.'\n  'https://codes.ecmwf.int/grib/param-db/?id=39']\n ['Volumetric soil water layer 2'\t'Volumetric soil water layer 2'\t'swvl2'\n  'm³.m⁻³'\n  'Volume of water in soil layer 2 (7 -28 cm) of the ECMWF Integrated Forecasting System.'\n  'https://codes.ecmwf.int/grib/param-db/?id=40']\n ['Volumetric soil water layer 3'\t'Volumetric soil water layer 3'\t'swvl3'\n  'm³.m⁻³'\n  'Volume of water in soil layer 3 (28-100 cm) of the ECMWF Integrated Forecasting System.'\n  'https://codes.ecmwf.int/grib/param-db/?id=41']\n ['Volumetric soil water layer 4'\t'Volumetric soil water layer 4'\t'swvl4'\n  'm³.m⁻³'\n  'Volume of water in soil layer 4 (100-289 cm) of the ECMWF Integrated Forecasting System.'\n  'https://codes.ecmwf.int/grib/param-db/?id=42']]\n\nData type: Gridded\nProjection: Regular latitude-longitude grid\nHorizontal coverage: Global\nHorizontal resolution: 0.1° x 0.1°; Native resolution is 9 km.\nVertical coverage: From 2 m above the surface level, to a soil depth of 289 cm.\nVertical resolution: 4 levels of the ECMWF surface model: Layer 1: 0 -7cm, Layer 2: 7 -28cm, Layer 3: 28-100cm, Layer 4: 100-289cm\nSome parameters are defined at 2 m over the surface.\nTemporal coverage: January 1950 to present\nTemporal resolution: Hourly\nFile format: GRIB\nUpdate frequency: Monthly with a delay of about three months relatively to actual date.",
         "extent": {
          "spatial": {
           "bbox": [
            [
             -180,
             -90,
             180,
             90
            ]
           ]
          },
          "temporal": {
           "interval": [
            [
             "1950-01-01T00:00:00Z",
             "2023-05-13T00:00:00Z"
            ]
           ]
          }
         },
         "id": "EO.ECMWF.DAT.ERA5_LAND_HOURLY",
         "item_assets": {
          "10m_u_component_of_wind": {
           "roles": [
            "data"
           ],
           "title": "10 metre U wind component",
           "type": "application/grib"
          },
          "10m_v_component_of_wind": {
           "roles": [
            "data"
           ],
           "title": "10 metre V wind component",
           "type": "application/grib"
          },
          "2m_dewpoint_temperature": {
           "roles": [
            "data"
           ],
           "title": "2 metre dewpoint temperature",
           "type": "application/grib"
          },
          "2m_temperature": {
           "roles": [
            "data"
           ],
           "title": "2 metre temperature",
           "type": "application/grib"
          },
          "evaporation_from_bare_soil": {
           "roles": [
            "data"
           ],
           "title": "Evaporation from bare soil",
           "type": "application/grib"
          },
          "evaporation_from_open_water_surfaces_excluding_oceans": {
           "roles": [
            "data"
           ],
           "title": "Evaporation from open water surfaces excluding oceans",
           "type": "application/grib"
          },
          "evaporation_from_the_top_of_canopy": {
           "roles": [
            "data"
           ],
           "title": "Evaporation from the top of canopy",
           "type": "application/grib"
          },
          "evaporation_from_vegetation_transpiration": {
           "roles": [
            "data"
           ],
           "title": "Evaporation from vegetation transpiration",
           "type": "application/grib"
          },
          "forecast_albedo": {
           "roles": [
            "data"
           ],
           "title": "Forecast albedo",
           "type": "application/grib"
          },
          "lake_bottom_temperature": {
           "roles": [
            "data"
           ],
           "title": "Lake bottom temperature",
           "type": "application/grib"
          },
          "lake_ice_depth": {
           "roles": [
            "data"
           ],
           "title": "Lake ice depth",
           "type": "application/grib"
          },
          "lake_ice_temperature": {
           "roles": [
            "data"
           ],
           "title": "Lake ice temperature",
           "type": "application/grib"
          },
          "lake_mix_layer_depth": {
           "roles": [
            "data"
           ],
           "title": "Lake mix-layer depth",
           "type": "application/grib"
          },
          "lake_mix_layer_temperature": {
           "roles": [
            "data"
           ],
           "title": "Lake mix-layer temperature",
           "type": "application/grib"
          },
          "lake_shape_factor": {
           "roles": [
            "data"
           ],
           "title": "Lake shape factor",
           "type": "application/grib"
          },
          "lake_total_layer_temperature": {
           "roles": [
            "data"
           ],
           "title": "Lake total layer temperature",
           "type": "application/grib"
          },
          "leaf_area_index_high_vegetation": {
           "roles": [
            "data"
           ],
           "title": "Leaf area index, high vegetation",
           "type": "application/grib"
          },
          "leaf_area_index_low_vegetation": {
           "roles": [
            "data"
           ],
           "title": "Leaf area index, low vegetation",
           "type": "application/grib"
          },
          "potential_evaporation": {
           "roles": [
            "data"
           ],
           "title": "Potential evaporation",
           "type": "application/grib"
          },
          "runoff": {
           "roles": [
            "data"
           ],
           "title": "Runoff",
           "type": "application/grib"
          },
          "skin_reservoir_content": {
           "roles": [
            "data"
           ],
           "title": "Skin reservoir content",
           "type": "application/grib"
          },
          "skin_temperature": {
           "roles": [
            "data"
           ],
           "title": "skin_temperature",
           "type": "application/grib"
          },
          "snow_albedo": {
           "roles": [
            "data"
           ],
           "title": "Snow albedo",
           "type": "application/grib"
          },
          "snow_cover": {
           "roles": [
            "data"
           ],
           "title": "Snow cover",
           "type": "application/grib"
          },
          "snow_density": {
           "roles": [
            "data"
           ],
           "title": "Snow density",
           "type": "application/grib"
          },
          "snow_depth": {
           "roles": [
            "data"
           ],
           "title": "Snow depth",
           "type": "application/grib"
          },
          "snow_depth_water_equivalent": {
           "roles": [
            "data"
           ],
           "title": "Snow depth water equivalent",
           "type": "application/grib"
          },
          "snowfall": {
           "roles": [
            "data"
           ],
           "title": "Snowfall",
           "type": "application/grib"
          },
          "snowmelt": {
           "roles": [
            "data"
           ],
           "title": "Snowmelt",
           "type": "application/grib"
          },
          "soil_temperature_level_1": {
           "roles": [
            "data"
           ],
           "title": "Soil temperature level 1",
           "type": "application/grib"
          },
          "soil_temperature_level_2": {
           "roles": [
            "data"
           ],
           "title": "Soil temperature level 2",
           "type": "application/grib"
          },
          "soil_temperature_level_3": {
           "roles": [
            "data"
           ],
           "title": "Soil temperature level 3",
           "type": "application/grib"
          },
          "soil_temperature_level_4": {
           "roles": [
            "data"
           ],
           "title": "Soil temperature level 4",
           "type": "application/grib"
          },
          "sub_surface_runoff": {
           "roles": [
            "data"
           ],
           "title": "Sub-surface runoff",
           "type": "application/grib"
          },
          "surface_latent_heat_flux": {
           "roles": [
            "data"
           ],
           "title": "Surface latent heat flux",
           "type": "application/grib"
          },
          "surface_net_solar_radiation": {
           "roles": [
            "data"
           ],
           "title": "Surface net solar radiation",
           "type": "application/grib"
          },
          "surface_net_thermal_radiation": {
           "roles": [
            "data"
           ],
           "title": "Surface net thermal radiation",
           "type": "application/grib"
          },
          "surface_pressure": {
           "roles": [
            "data"
           ],
           "title": "Surface pressure",
           "type": "application/grib"
          },
          "surface_runoff": {
           "roles": [
            "data"
           ],
           "title": "Surface runoff",
           "type": "application/grib"
          },
          "surface_sensible_heat_flux": {
           "roles": [
            "data"
           ],
           "title": "Surface sensible heat flux",
           "type": "application/grib"
          },
          "surface_solar_radiation_downwards": {
           "roles": [
            "data"
           ],
           "title": "Surface solar radiation downwards",
           "type": "application/grib"
          },
          "surface_thermal_radiation_downwards": {
           "roles": [
            "data"
           ],
           "title": "Surface thermal radiation downwards",
           "type": "application/grib"
          },
          "temperature_of_snow_layer": {
           "roles": [
            "data"
           ],
           "title": "Temperature of snow layer",
           "type": "application/grib"
          },
          "total_evaporation": {
           "roles": [
            "data"
           ],
           "title": "Total Evaporation",
           "type": "application/grib"
          },
          "total_precipitation": {
           "roles": [
            "data"
           ],
           "title": "Total precipitation",
           "type": "application/grib"
          },
          "volumetric_soil_water_layer_1": {
           "roles": [
            "data"
           ],
           "title": "Volumetric soil water layer 1",
           "type": "application/grib"
          },
          "volumetric_soil_water_layer_2": {
           "roles": [
            "data"
           ],
           "title": "Volumetric soil water layer 2",
           "type": "application/grib"
          },
          "volumetric_soil_water_layer_3": {
           "roles": [
            "data"
           ],
           "title": "Volumetric soil water layer 3",
           "type": "application/grib"
          },
          "volumetric_soil_water_layer_4": {
           "roles": [
            "data"
           ],
           "title": "Volumetric soil water layer 4",
           "type": "application/grib"
          }
         },
         "keywords": [
          "land conditions",
          "Product type: Reanalysis",
          "Spatial coverage: Global",
          "Temporal coverage: Past",
          "Variable domain: Land (hydrology)",
          "Variable domain: Land (physics)",
          "Variable domain: Land (biosphere)",
          "Provider: Copernicus C3S"
         ],
         "license": "proprietary",
         "links": [
          {
           "href": "https://hda.central.data.destination-earth.eu/stac/collections/EO.ECMWF.DAT.ERA5_LAND_HOURLY/items",
           "rel": "items",
           "type": "application/geo+json"
          },
          {
           "href": "https://hda.central.data.destination-earth.eu/stac/",
           "rel": "parent",
           "type": "application/json"
          },
          {
           "href": "https://hda.central.data.destination-earth.eu/stac/",
           "rel": "root",
           "type": "application/json"
          },
          {
           "href": "https://hda.central.data.destination-earth.eu/stac/collections/EO.ECMWF.DAT.ERA5_LAND_HOURLY",
           "rel": "self",
           "type": "application/json"
          },
          {
           "href": "https://cds.climate.copernicus.eu/api/v2/terms/static/20180314_Copernicus_License_V1.1.pdf",
           "rel": "license",
           "title": "Licence to Use Copernicus Products"
          },
          {
           "href": "https://cds.climate.copernicus.eu/cdsapp#!/dataset/10.24381/cds.e2161bac",
           "rel": "describedby",
           "title": "Climate Data Store catalogue"
          },
          {
           "href": "https://confluence.ecmwf.int/display/CKB/ERA5-Land%3A+data+documentation",
           "rel": "describedby",
           "title": "ERA5-Land online documentation"
          },
          {
           "href": "https://datastore.copernicus-climate.eu/c3s/published-forms-v2/c3sprod/reanalysis-era5-land/overview.png",
           "rel": "describedby",
           "title": "large_thumbnail"
          },
          {
           "href": "https://cds.climate.copernicus.eu:443//geonetwork/srv/eng/xml.metadata.get?uuid=eu.copernicus.climate.reanalysis-era5-land",
           "rel": "describedby",
           "title": "Description"
          },
          {
           "href": "https://cds.climate.copernicus.eu:443//geonetwork?uuid=eu.copernicus.climate.reanalysis-era5-land",
           "rel": "describedby",
           "title": "Description"
          },
          {
           "href": "https://cds.climate.copernicus.eu/cdsapp#!/dataset/10.24381/cds.e2161bac",
           "rel": "describedby",
           "title": "Documentation"
          },
          {
           "href": "https://confluence.ecmwf.int/display/CKB/ERA5-Land%3A+data+documentation",
           "rel": "describedby",
           "title": "Documentation"
          },
          {
           "href": "https://eo-apis.csgroup.space/dataset/EO.ECMWF.DAT.ERA5_LAND_HOURLY",
           "rel": "describedby",
           "title": "Human readable dataset overview and reference",
           "type": "text/html"
          }
         ],
         "providers": [
          {
           "description": "European Centre for Medium-Range Weather Forecasts (ECMWF)",
           "name": "European Centre for Medium-Range Weather Forecasts (ECMWF)",
           "roles": [
            "licensor",
            "producer",
            "processor"
           ],
           "url": "https://www.ecmwf.int"
          },
          {
           "name": "Copernicus Climate Data Store",
           "roles": [
            "host"
           ],
           "url": "https://cds.climate.copernicus.eu"
          }
         ],
         "stac_extensions": [
          "https://stac-extensions.github.io/datacube/v2.1.0/schema.json",
          "https://stac-extensions.github.io/item-assets/v1.0.0/schema.json"
         ],
         "stac_version": "1.0.0",
         "summaries": {},
         "title": "ERA5-Land hourly data from 1950 to present",
         "type": "Collection"
        }
       ],
       "links": [
        {
         "href": "https://hda.central.data.destination-earth.eu/stac/",
         "rel": "root",
         "type": "application/json"
        },
        {
         "href": "https://hda.central.data.destination-earth.eu/stac/",
         "rel": "parent",
         "type": "application/json"
        },
        {
         "href": "https://hda.central.data.destination-earth.eu/stac/collections",
         "rel": "self",
         "type": "application/json"
        }
       ]
      },
      "text/plain": [
       "<IPython.core.display.JSON object>"
      ]
     },
     "execution_count": 8,
     "metadata": {
      "application/json": {
       "expanded": false,
       "root": "root"
      }
     },
     "output_type": "execute_result"
    }
   ],
   "source": [
    "print(COLLECTIONS_URL)\n",
    "display_as_json(requests.get(COLLECTIONS_URL))"
   ]
  },
  {
   "cell_type": "markdown",
   "id": "c2e0f2ab",
   "metadata": {
    "tags": []
   },
   "source": [
    "By providing a specific `collectionID` (e.g. **EO.ESA.DAT.SENTINEL-1.L1_GRD**), the user can get the metadata for a specific `Collection`."
   ]
  },
  {
   "cell_type": "code",
   "execution_count": 9,
   "id": "031d088c",
   "metadata": {
    "tags": []
   },
   "outputs": [
    {
     "name": "stdout",
     "output_type": "stream",
     "text": [
      "https://hda.central.data.destination-earth.eu/stac/collections/EO.ESA.DAT.SENTINEL-2.MSI.L1C\n"
     ]
    },
    {
     "data": {
      "application/json": {
       "assets": {
        "thumbnail": {
         "href": "https://wekeo2-prod-data-access-config.s3.waw3-2.cloudferro.com/previews/EO_ESA_DAT_EODC-SENTINEL-2_MSI1C.jpg",
         "roles": [
          "thumbnail"
         ],
         "title": "Sentinel 2 MSI L1C",
         "type": "image/jpeg"
        }
       },
       "dedl:short_description": "The Sentinel-2 mission is a land monitoring constellation of two satellites that provide high resolution optical imagery and provide continuity for the current SPOT and Landsat missions",
       "description": "The Sentinel-2 mission is a land monitoring constellation of two satellites that provide high resolution optical imagery and provide continuity for the current SPOT and Landsat missions. The mission provides a global coverage of the Earth's land surface every 10 days with one satellite and 5 days with 2 satellites, making the data of great use in on-going studies. The satellites are equipped with the state-of-the-art MSI (Multispectral Imager) instrument, that offers high-resolution optical imagery. Products are a compilation of elementary granules of fixed size, within a single orbit. A granule is the minimum indivisible partition of a product (containing all possible spectral bands).\nFor Level-1C and Level-2A, the granules, also called tiles, are 100x100km2 ortho-images in UTM/WGS84 projection. The UTM (Universal Transverse Mercator) system divides the Earth's surface into 60 zones. Each UTM zone has a vertical width of 6° of longitude and horizontal width of 8° of latitude. (see Figure 1). Tiles are approximately 600 MB in size. Tiles can be fully or partially covered by image data. Partially covered tiles correspond to those at the edge of the swath.",
       "extent": {
        "spatial": {
         "bbox": [
          [
           -180,
           -90,
           180,
           90
          ]
         ]
        },
        "temporal": {
         "interval": [
          [
           "2015-06-23T00:00:00Z",
           null
          ]
         ]
        }
       },
       "id": "EO.ESA.DAT.SENTINEL-2.MSI.L1C",
       "item_assets": {
        "thumbnail": {
         "description": "An averaged, decimated preview image in PNG format. Single polarisation products are represented with a grey scale image. Dual polarisation products are represented by a single composite colour image in RGB with the red channel (R) representing the  co-polarisation VV or HH), the green channel (G) represents the cross-polarisation (VH or HV) and the blue channel (B) represents the ratio of the cross an co-polarisations.",
         "roles": [
          "thumbnail"
         ],
         "title": "Preview Image",
         "type": "image/png"
        }
       },
       "keywords": [
        "Land",
        "Land Cover",
        "Crop Monitoring",
        "Leaf Area Index",
        "Chlorophyll",
        "Coastal Zone Monitoring",
        "Inland Water Monitoring",
        "Glacier Monitoring",
        "Ice Extent Mapping",
        "Snow Cover Monitoring",
        "Flood Mapping",
        "Lava Flow Mapping",
        "Burned Area Monitoring",
        "Level 1 Data",
        "ESA",
        "Copernicus",
        "Sentinel",
        "MSI"
       ],
       "license": "proprietary",
       "links": [
        {
         "href": "https://hda.central.data.destination-earth.eu/stac/collections/EO.ESA.DAT.SENTINEL-2.MSI.L1C/items",
         "rel": "items",
         "type": "application/geo+json"
        },
        {
         "href": "https://hda.central.data.destination-earth.eu/stac/",
         "rel": "parent",
         "type": "application/json"
        },
        {
         "href": "https://hda.central.data.destination-earth.eu/stac/",
         "rel": "root",
         "type": "application/json"
        },
        {
         "href": "https://hda.central.data.destination-earth.eu/stac/collections/EO.ESA.DAT.SENTINEL-2.MSI.L1C",
         "rel": "self",
         "type": "application/json"
        },
        {
         "href": "https://eo-apis.csgroup.space/dataset/EO.ESA.DAT.SENTINEL-2.MSI.L1C",
         "rel": "describedby",
         "title": "Human readable dataset overview and reference",
         "type": "text/html"
        }
       ],
       "providers": [
        {
         "name": "ESA",
         "roles": [
          "producer",
          "processor",
          "licensor"
         ],
         "url": "https://earth.esa.int"
        },
        {
         "name": "CREODIAS",
         "roles": [
          "host"
         ],
         "url": "https://creodias.eu"
        },
        {
         "name": "DEDL",
         "roles": [
          "host"
         ],
         "url": "https://destination-earth.eu/"
        }
       ],
       "stac_extensions": [
        "https://stac-extensions.github.io/eo/v1.1.0/schema.json",
        "https://stac-extensions.github.io/processing/v1.1.0/schema.json",
        "https://stac-extensions.github.io/item-assets/v1.0.0/schema.json"
       ],
       "stac_version": "1.0.0",
       "summaries": {
        "constellation": [
         "Sentinel-2"
        ],
        "eo:bands": [
         {
          "center_wavelength": "442.7 (S2B:442.2)",
          "common_name": "Coastal",
          "description": "Coastal Aerosol",
          "name": "B01"
         },
         {
          "center_wavelength": "492.4 (S2B:492.1)",
          "common_name": "Blue",
          "description": "Visible Blue",
          "name": "B02"
         },
         {
          "center_wavelength": "559.8 (S2B:559.0)",
          "common_name": "Green",
          "description": "Visible Green",
          "name": "B03"
         },
         {
          "center_wavelength": "664.6",
          "common_name": "Red",
          "description": "Visible Red",
          "name": "B04"
         },
         {
          "center_wavelength": "704.1 (S2B:703.8)",
          "common_name": "Red Edge",
          "description": "Vegetation Red Edge",
          "name": "B05"
         },
         {
          "center_wavelength": "740.5 (S2B:739.1)",
          "common_name": "Red Edge",
          "description": "Vegetation Red Edge",
          "name": "B06"
         },
         {
          "center_wavelength": "782.8 (S2B:779.7)",
          "common_name": "Red Edge",
          "description": "Vegetation Red Edge",
          "name": "B07"
         },
         {
          "center_wavelength": "832.8 (S2B:832.9)",
          "common_name": "NIR",
          "description": "Near Infrared",
          "name": "B08"
         },
         {
          "center_wavelength": "864.7 (S2B:864.0)",
          "common_name": "NIR08",
          "description": "Narrow Near Infrared",
          "name": "B8A"
         },
         {
          "center_wavelength": "945.1 (S2B:943.2)",
          "common_name": "WV",
          "description": "Water Vapour",
          "name": "B09"
         },
         {
          "center_wavelength": "1373.5 (S2B:1376.9)",
          "common_name": "Cirrus",
          "description": "Short-Wave Infrared Cirrus",
          "name": "B10"
         },
         {
          "center_wavelength": "1613.7 (S2B:1610.4)",
          "common_name": "SWIR16",
          "description": "short-wave infrared",
          "name": "B11"
         },
         {
          "center_wavelength": "2202.4 (S2B: 2185.7)",
          "common_name": "SWIR22",
          "description": "Short-Wave Infrared",
          "name": "B12"
         }
        ],
        "instruments": [
         "MSI"
        ],
        "platform": [
         "SENTINEL-2A",
         "SENTINEL-2B"
        ],
        "processing:level": [
         "L1C"
        ],
        "s1:product_timeliness": [
         "NRT-100m to 3h",
         "Off-line"
        ]
       },
       "title": "Sentinel 2 MSI Level 1C",
       "type": "Collection"
      },
      "text/plain": [
       "<IPython.core.display.JSON object>"
      ]
     },
     "execution_count": 9,
     "metadata": {
      "application/json": {
       "expanded": false,
       "root": "root"
      }
     },
     "output_type": "execute_result"
    }
   ],
   "source": [
    "print(COLLECTION_BY_ID_URL)\n",
    "display_as_json(requests.get(COLLECTION_BY_ID_URL))"
   ]
  },
  {
   "cell_type": "markdown",
   "id": "07315a8b",
   "metadata": {
    "tags": []
   },
   "source": [
    "### Items\n",
    "It is also possible to get the list of items available in a given `Collection` using Simple Search."
   ]
  },
  {
   "cell_type": "code",
   "execution_count": 10,
   "id": "5cb02d76",
   "metadata": {
    "tags": []
   },
   "outputs": [
    {
     "name": "stdout",
     "output_type": "stream",
     "text": [
      "https://hda.central.data.destination-earth.eu/stac/collections/EO.ESA.DAT.SENTINEL-2.MSI.L1C/items?datetime=2023-09-09T00:00:00Z/2023-09-20T23:59:59Z\n"
     ]
    },
    {
     "data": {
      "application/json": {
       "features": [
        {
         "assets": {
          "downloadLink": {
           "href": "https://hda.central.data.destination-earth.eu/stac/collections/EO.ESA.DAT.SENTINEL-2.MSI.L1C/items/S2B_MSIL1C_20230909T000439_N0509_R073_T57NVF_20230909T010819/download",
           "title": "Download link",
           "type": "application/zip"
          },
          "thumbnail": {
           "href": "https://datahub.creodias.eu/get-object?path=/Sentinel-2/MSI/L1C/2023/09/09/S2B_MSIL1C_20230909T000439_N0509_R073_T57NVF_20230909T010819.SAFE/S2B_MSIL1C_20230909T000439_N0509_R073_T57NVF_20230909T010819-ql.jpg",
           "role": "thumbnail",
           "title": "Thumbnail",
           "type": "image/jpeg"
          }
         },
         "bbox": [
          158.096980900771,
          5.28290688500468,
          158.386669970925,
          5.42774610544022
         ],
         "collection": "EO.ESA.DAT.SENTINEL-2.MSI.L1C",
         "geometry": {
          "coordinates": [
           [
            [
             158.316115,
             5.293597
            ],
            [
             158.354295,
             5.282907
            ],
            [
             158.36179,
             5.316376
            ],
            [
             158.38667,
             5.427746
            ],
            [
             158.096981,
             5.427551
            ],
            [
             158.097083,
             5.351718
            ],
            [
             158.131215,
             5.342862
            ],
            [
             158.13176,
             5.345311
            ],
            [
             158.131788,
             5.345303
            ],
            [
             158.1318,
             5.345356
            ],
            [
             158.316115,
             5.293597
            ]
           ]
          ],
          "type": "Polygon"
         },
         "id": "S2B_MSIL1C_20230909T000439_N0509_R073_T57NVF_20230909T010819",
         "links": [
          {
           "href": "https://hda.central.data.destination-earth.eu/stac/collections/EO.ESA.DAT.SENTINEL-2.MSI.L1C/items/S2B_MSIL1C_20230909T000439_N0509_R073_T57NVF_20230909T010819",
           "rel": "self",
           "title": "S2B_MSIL1C_20230909T000439_N0509_R073_T57NVF_20230909T010819"
          },
          {
           "href": "https://hda.central.data.destination-earth.eu/stac/",
           "rel": "root"
          },
          {
           "href": "https://hda.central.data.destination-earth.eu/stac/collections/EO.ESA.DAT.SENTINEL-2.MSI.L1C",
           "rel": "parent",
           "title": "EO.ESA.DAT.SENTINEL-2.MSI.L1C"
          },
          {
           "href": "https://hda.central.data.destination-earth.eu/stac/collections/EO.ESA.DAT.SENTINEL-2.MSI.L1C",
           "rel": "collection",
           "title": "EO.ESA.DAT.SENTINEL-2.MSI.L1C"
          }
         ],
         "properties": {
          "constellation": "SENTINEL-2",
          "datetime": "2023-09-09T00:04:39.024Z",
          "description": "The Copernicus Sentinel-2 mission consists of two polar-orbiting satellites that are positioned in the same sun-synchronous orbit, with a phase difference of 180°. It aims to monitor changes in land surface conditions. The satellites have a wide swath width (290 km) and a high revisit time. Sentinel-2 is equipped with an optical instrument payload that samples 13 spectral bands: four bands at 10 m, six bands at 20 m and three bands at 60 m spatial resolution [https://dataspace.copernicus.eu/explore-data/data-collections/sentinel-data/sentinel-2].",
          "end_datetime": "2023-09-09T00:04:39.024Z",
          "eo:cloud_cover": 0,
          "eo:snow_cover": 0,
          "gsd": 0,
          "instruments": [
           "MSI"
          ],
          "license": "proprietary",
          "oseo:accessConstraint": {
           "description": {
            "shortName": "No license"
           },
           "grantedCountries": null,
           "grantedFlags": null,
           "grantedOrganizationCountries": null,
           "hasToBeSigned": "never",
           "licenseId": "unlicensed",
           "signatureQuota": -1,
           "viewService": "public"
          },
          "oseo:sensorType": "OPTICAL",
          "platform": "S2B",
          "processing:level": "S2MSI1C",
          "providers": [
           {
            "description": "DEDL Fresh Data Pool",
            "name": "dedl",
            "priority": 0,
            "roles": [
             "host"
            ],
            "url": "https://hda.data.destination-earth.eu/"
           }
          ],
          "published": "2023-09-09T03:42:30.820Z",
          "sat:absolute_orbit": 33990,
          "sat:relative_orbit": 73,
          "start_datetime": "2023-09-09T00:04:39.024Z",
          "updated": "2023-09-09T07:48:43.988Z"
         },
         "stac_extensions": [
          "https://stac-extensions.github.io/timestamps/v1.0.0/schema.json",
          "https://stac-extensions.github.io/eo/v1.0.0/schema.json",
          "https://stac-extensions.github.io/processing/v1.0.0/schema.json",
          "https://stac-extensions.github.io/sat/v1.0.0/schema.json",
          "https://hda.central.data.destination-earth.eu/stac/extensions/oseo/json-schema/schema.json"
         ],
         "stac_version": "1.0.0",
         "type": "Feature"
        },
        {
         "assets": {
          "downloadLink": {
           "href": "https://hda.central.data.destination-earth.eu/stac/collections/EO.ESA.DAT.SENTINEL-2.MSI.L1C/items/S2B_MSIL1C_20230909T000439_N0509_R073_T57NTJ_20230909T010819/download",
           "title": "Download link",
           "type": "application/zip"
          },
          "thumbnail": {
           "href": "https://datahub.creodias.eu/get-object?path=/Sentinel-2/MSI/L1C/2023/09/09/S2B_MSIL1C_20230909T000439_N0509_R073_T57NTJ_20230909T010819.SAFE/S2B_MSIL1C_20230909T000439_N0509_R073_T57NTJ_20230909T010819-ql.jpg",
           "role": "thumbnail",
           "title": "Thumbnail",
           "type": "image/jpeg"
          }
         },
         "bbox": [
          156.281601462506,
          7.14081482332732,
          157.277502445235,
          7.49675267024567
         ],
         "collection": "EO.ESA.DAT.SENTINEL-2.MSI.L1C",
         "geometry": {
          "coordinates": [
           [
            [
             156.281601,
             7.496753
            ],
            [
             156.283853,
             7.140815
            ],
            [
             157.277502,
             7.145598
            ],
            [
             157.276848,
             7.30878
            ],
            [
             157.221054,
             7.320856
            ],
            [
             157.220687,
             7.3192
            ],
            [
             157.220583,
             7.319222
            ],
            [
             157.220407,
             7.318432
            ],
            [
             157.220333,
             7.318448
            ],
            [
             157.220153,
             7.317633
            ],
            [
             157.219835,
             7.3177
            ],
            [
             157.219767,
             7.317394
            ],
            [
             157.219725,
             7.317403
            ],
            [
             157.219678,
             7.317192
            ],
            [
             157.020264,
             7.359045
            ],
            [
             157.020378,
             7.35956
            ],
            [
             157.020276,
             7.359582
            ],
            [
             157.020969,
             7.362713
            ],
            [
             156.795121,
             7.407298
            ],
            [
             156.794748,
             7.405608
            ],
            [
             156.794525,
             7.405651
            ],
            [
             156.794523,
             7.405645
            ],
            [
             156.794435,
             7.405662
            ],
            [
             156.794349,
             7.405273
            ],
            [
             156.79432,
             7.405279
            ],
            [
             156.794208,
             7.404773
            ],
            [
             156.793956,
             7.404821
            ],
            [
             156.793921,
             7.404665
            ],
            [
             156.793872,
             7.404674
            ],
            [
             156.793742,
             7.404086
            ],
            [
             156.793542,
             7.404125
            ],
            [
             156.793531,
             7.404075
            ],
            [
             156.793405,
             7.404099
            ],
            [
             156.793356,
             7.403875
            ],
            [
             156.793222,
             7.403901
            ],
            [
             156.793187,
             7.403743
            ],
            [
             156.589051,
             7.443404
            ],
            [
             156.589072,
             7.4435
            ],
            [
             156.58885,
             7.443544
            ],
            [
             156.589556,
             7.446743
            ],
            [
             156.357157,
             7.488224
            ],
            [
             156.356813,
             7.48666
            ],
            [
             156.356767,
             7.486668
            ],
            [
             156.356736,
             7.486526
            ],
            [
             156.356539,
             7.48656
            ],
            [
             156.356464,
             7.48622
            ],
            [
             156.356292,
             7.48625
            ],
            [
             156.356205,
             7.485856
            ],
            [
             156.356077,
             7.485878
            ],
            [
             156.355949,
             7.485296
            ],
            [
             156.355515,
             7.485372
            ],
            [
             156.355473,
             7.485184
            ],
            [
             156.355361,
             7.485203
            ],
            [
             156.355293,
             7.484895
            ],
            [
             156.354951,
             7.484956
            ],
            [
             156.354879,
             7.484625
            ],
            [
             156.354633,
             7.484669
            ],
            [
             156.354574,
             7.4844
            ],
            [
             156.354338,
             7.484442
            ],
            [
             156.354269,
             7.484129
            ],
            [
             156.353989,
             7.484179
            ],
            [
             156.353907,
             7.48381
            ],
            [
             156.281601,
             7.496753
            ]
           ]
          ],
          "type": "Polygon"
         },
         "id": "S2B_MSIL1C_20230909T000439_N0509_R073_T57NTJ_20230909T010819",
         "links": [
          {
           "href": "https://hda.central.data.destination-earth.eu/stac/collections/EO.ESA.DAT.SENTINEL-2.MSI.L1C/items/S2B_MSIL1C_20230909T000439_N0509_R073_T57NTJ_20230909T010819",
           "rel": "self",
           "title": "S2B_MSIL1C_20230909T000439_N0509_R073_T57NTJ_20230909T010819"
          },
          {
           "href": "https://hda.central.data.destination-earth.eu/stac/",
           "rel": "root"
          },
          {
           "href": "https://hda.central.data.destination-earth.eu/stac/collections/EO.ESA.DAT.SENTINEL-2.MSI.L1C",
           "rel": "parent",
           "title": "EO.ESA.DAT.SENTINEL-2.MSI.L1C"
          },
          {
           "href": "https://hda.central.data.destination-earth.eu/stac/collections/EO.ESA.DAT.SENTINEL-2.MSI.L1C",
           "rel": "collection",
           "title": "EO.ESA.DAT.SENTINEL-2.MSI.L1C"
          }
         ],
         "properties": {
          "constellation": "SENTINEL-2",
          "datetime": "2023-09-09T00:04:39.024Z",
          "description": "The Copernicus Sentinel-2 mission consists of two polar-orbiting satellites that are positioned in the same sun-synchronous orbit, with a phase difference of 180°. It aims to monitor changes in land surface conditions. The satellites have a wide swath width (290 km) and a high revisit time. Sentinel-2 is equipped with an optical instrument payload that samples 13 spectral bands: four bands at 10 m, six bands at 20 m and three bands at 60 m spatial resolution [https://dataspace.copernicus.eu/explore-data/data-collections/sentinel-data/sentinel-2].",
          "end_datetime": "2023-09-09T00:04:39.024Z",
          "eo:cloud_cover": 3.22310562017679,
          "eo:snow_cover": 0,
          "gsd": 0,
          "instruments": [
           "MSI"
          ],
          "license": "proprietary",
          "oseo:accessConstraint": {
           "description": {
            "shortName": "No license"
           },
           "grantedCountries": null,
           "grantedFlags": null,
           "grantedOrganizationCountries": null,
           "hasToBeSigned": "never",
           "licenseId": "unlicensed",
           "signatureQuota": -1,
           "viewService": "public"
          },
          "oseo:sensorType": "OPTICAL",
          "platform": "S2B",
          "processing:level": "S2MSI1C",
          "providers": [
           {
            "description": "DEDL Fresh Data Pool",
            "name": "dedl",
            "priority": 0,
            "roles": [
             "host"
            ],
            "url": "https://hda.data.destination-earth.eu/"
           }
          ],
          "published": "2023-09-09T04:01:47.265Z",
          "sat:absolute_orbit": 33990,
          "sat:relative_orbit": 73,
          "start_datetime": "2023-09-09T00:04:39.024Z",
          "updated": "2023-09-09T08:10:30.972Z"
         },
         "stac_extensions": [
          "https://stac-extensions.github.io/timestamps/v1.0.0/schema.json",
          "https://stac-extensions.github.io/eo/v1.0.0/schema.json",
          "https://stac-extensions.github.io/processing/v1.0.0/schema.json",
          "https://stac-extensions.github.io/sat/v1.0.0/schema.json",
          "https://hda.central.data.destination-earth.eu/stac/extensions/oseo/json-schema/schema.json"
         ],
         "stac_version": "1.0.0",
         "type": "Feature"
        },
        {
         "assets": {
          "downloadLink": {
           "href": "https://hda.central.data.destination-earth.eu/stac/collections/EO.ESA.DAT.SENTINEL-2.MSI.L1C/items/S2B_MSIL1C_20230909T000439_N0509_R073_T57NUH_20230909T010819/download",
           "title": "Download link",
           "type": "application/zip"
          },
          "thumbnail": {
           "href": "https://datahub.creodias.eu/get-object?path=/Sentinel-2/MSI/L1C/2023/09/09/S2B_MSIL1C_20230909T000439_N0509_R073_T57NUH_20230909T010819.SAFE/S2B_MSIL1C_20230909T000439_N0509_R073_T57NUH_20230909T010819-ql.jpg",
           "role": "thumbnail",
           "title": "Thumbnail",
           "type": "image/jpeg"
          }
         },
         "bbox": [
          157.188618544284,
          6.24146635810087,
          158.184617389072,
          7.23538398197472
         ],
         "collection": "EO.ESA.DAT.SENTINEL-2.MSI.L1C",
         "geometry": {
          "coordinates": [
           [
            [
             157.590161,
             7.235384
            ],
            [
             157.188619,
             7.234225
            ],
            [
             157.1923,
             6.241466
            ],
            [
             158.184617,
             6.243939
            ],
            [
             158.183192,
             7.095953
            ],
            [
             158.064736,
             7.126194
            ],
            [
             158.064041,
             7.123083
            ],
            [
             158.063883,
             7.123121
            ],
            [
             158.063874,
             7.123084
            ],
            [
             157.910328,
             7.160105
            ],
            [
             157.864352,
             7.171178
            ],
            [
             157.864355,
             7.171189
            ],
            [
             157.864254,
             7.171213
            ],
            [
             157.864645,
             7.172964
            ],
            [
             157.86463,
             7.172967
            ],
            [
             157.864717,
             7.173355
            ],
            [
             157.864458,
             7.173418
            ],
            [
             157.864876,
             7.175293
            ],
            [
             157.853332,
             7.178021
            ],
            [
             157.642031,
             7.227807
            ],
            [
             157.641383,
             7.224897
            ],
            [
             157.641206,
             7.224937
            ],
            [
             157.640981,
             7.223928
            ],
            [
             157.590161,
             7.235384
            ]
           ]
          ],
          "type": "Polygon"
         },
         "id": "S2B_MSIL1C_20230909T000439_N0509_R073_T57NUH_20230909T010819",
         "links": [
          {
           "href": "https://hda.central.data.destination-earth.eu/stac/collections/EO.ESA.DAT.SENTINEL-2.MSI.L1C/items/S2B_MSIL1C_20230909T000439_N0509_R073_T57NUH_20230909T010819",
           "rel": "self",
           "title": "S2B_MSIL1C_20230909T000439_N0509_R073_T57NUH_20230909T010819"
          },
          {
           "href": "https://hda.central.data.destination-earth.eu/stac/",
           "rel": "root"
          },
          {
           "href": "https://hda.central.data.destination-earth.eu/stac/collections/EO.ESA.DAT.SENTINEL-2.MSI.L1C",
           "rel": "parent",
           "title": "EO.ESA.DAT.SENTINEL-2.MSI.L1C"
          },
          {
           "href": "https://hda.central.data.destination-earth.eu/stac/collections/EO.ESA.DAT.SENTINEL-2.MSI.L1C",
           "rel": "collection",
           "title": "EO.ESA.DAT.SENTINEL-2.MSI.L1C"
          }
         ],
         "properties": {
          "constellation": "SENTINEL-2",
          "datetime": "2023-09-09T00:04:39.024Z",
          "description": "The Copernicus Sentinel-2 mission consists of two polar-orbiting satellites that are positioned in the same sun-synchronous orbit, with a phase difference of 180°. It aims to monitor changes in land surface conditions. The satellites have a wide swath width (290 km) and a high revisit time. Sentinel-2 is equipped with an optical instrument payload that samples 13 spectral bands: four bands at 10 m, six bands at 20 m and three bands at 60 m spatial resolution [https://dataspace.copernicus.eu/explore-data/data-collections/sentinel-data/sentinel-2].",
          "end_datetime": "2023-09-09T00:04:39.024Z",
          "eo:cloud_cover": 2.40450559883617,
          "eo:snow_cover": 0,
          "gsd": 0,
          "instruments": [
           "MSI"
          ],
          "license": "proprietary",
          "oseo:accessConstraint": {
           "description": {
            "shortName": "No license"
           },
           "grantedCountries": null,
           "grantedFlags": null,
           "grantedOrganizationCountries": null,
           "hasToBeSigned": "never",
           "licenseId": "unlicensed",
           "signatureQuota": -1,
           "viewService": "public"
          },
          "oseo:sensorType": "OPTICAL",
          "platform": "S2B",
          "processing:level": "S2MSI1C",
          "providers": [
           {
            "description": "DEDL Fresh Data Pool",
            "name": "dedl",
            "priority": 0,
            "roles": [
             "host"
            ],
            "url": "https://hda.data.destination-earth.eu/"
           }
          ],
          "published": "2023-09-09T03:31:41.396Z",
          "sat:absolute_orbit": 33990,
          "sat:relative_orbit": 73,
          "start_datetime": "2023-09-09T00:04:39.024Z",
          "updated": "2023-09-09T07:33:16.649Z"
         },
         "stac_extensions": [
          "https://stac-extensions.github.io/timestamps/v1.0.0/schema.json",
          "https://stac-extensions.github.io/eo/v1.0.0/schema.json",
          "https://stac-extensions.github.io/processing/v1.0.0/schema.json",
          "https://stac-extensions.github.io/sat/v1.0.0/schema.json",
          "https://hda.central.data.destination-earth.eu/stac/extensions/oseo/json-schema/schema.json"
         ],
         "stac_version": "1.0.0",
         "type": "Feature"
        },
        {
         "assets": {
          "downloadLink": {
           "href": "https://hda.central.data.destination-earth.eu/stac/collections/EO.ESA.DAT.SENTINEL-2.MSI.L1C/items/S2B_MSIL1C_20230909T000439_N0509_R073_T56NRP_20230909T010819/download",
           "title": "Download link",
           "type": "application/zip"
          },
          "thumbnail": {
           "href": "https://datahub.creodias.eu/get-object?path=/Sentinel-2/MSI/L1C/2023/09/09/S2B_MSIL1C_20230909T000439_N0509_R073_T56NRP_20230909T010819.SAFE/S2B_MSIL1C_20230909T000439_N0509_R073_T56NRP_20230909T010819-ql.jpg",
           "role": "thumbnail",
           "title": "Thumbnail",
           "type": "image/jpeg"
          }
         },
         "bbox": [
          156.049056487385,
          7.13390171257314,
          156.711067422151,
          7.52325892894564
         ],
         "collection": "EO.ESA.DAT.SENTINEL-2.MSI.L1C",
         "geometry": {
          "coordinates": [
           [
            [
             156.049056,
             7.138496
            ],
            [
             156.708599,
             7.133902
            ],
            [
             156.711067,
             7.419698
            ],
            [
             156.589051,
             7.443404
            ],
            [
             156.589072,
             7.4435
            ],
            [
             156.58885,
             7.443544
            ],
            [
             156.589556,
             7.446743
            ],
            [
             156.357157,
             7.488224
            ],
            [
             156.356813,
             7.48666
            ],
            [
             156.356767,
             7.486668
            ],
            [
             156.356736,
             7.486526
            ],
            [
             156.356539,
             7.48656
            ],
            [
             156.356464,
             7.48622
            ],
            [
             156.356292,
             7.48625
            ],
            [
             156.356205,
             7.485856
            ],
            [
             156.356077,
             7.485878
            ],
            [
             156.355949,
             7.485296
            ],
            [
             156.355515,
             7.485372
            ],
            [
             156.355473,
             7.485184
            ],
            [
             156.355361,
             7.485203
            ],
            [
             156.355293,
             7.484895
            ],
            [
             156.354951,
             7.484956
            ],
            [
             156.354879,
             7.484625
            ],
            [
             156.354633,
             7.484669
            ],
            [
             156.354574,
             7.4844
            ],
            [
             156.354338,
             7.484442
            ],
            [
             156.354269,
             7.484129
            ],
            [
             156.353989,
             7.484179
            ],
            [
             156.353907,
             7.48381
            ],
            [
             156.133522,
             7.523259
            ],
            [
             156.101128,
             7.375691
            ],
            [
             156.068504,
             7.227082
            ],
            [
             156.049056,
             7.138496
            ]
           ]
          ],
          "type": "Polygon"
         },
         "id": "S2B_MSIL1C_20230909T000439_N0509_R073_T56NRP_20230909T010819",
         "links": [
          {
           "href": "https://hda.central.data.destination-earth.eu/stac/collections/EO.ESA.DAT.SENTINEL-2.MSI.L1C/items/S2B_MSIL1C_20230909T000439_N0509_R073_T56NRP_20230909T010819",
           "rel": "self",
           "title": "S2B_MSIL1C_20230909T000439_N0509_R073_T56NRP_20230909T010819"
          },
          {
           "href": "https://hda.central.data.destination-earth.eu/stac/",
           "rel": "root"
          },
          {
           "href": "https://hda.central.data.destination-earth.eu/stac/collections/EO.ESA.DAT.SENTINEL-2.MSI.L1C",
           "rel": "parent",
           "title": "EO.ESA.DAT.SENTINEL-2.MSI.L1C"
          },
          {
           "href": "https://hda.central.data.destination-earth.eu/stac/collections/EO.ESA.DAT.SENTINEL-2.MSI.L1C",
           "rel": "collection",
           "title": "EO.ESA.DAT.SENTINEL-2.MSI.L1C"
          }
         ],
         "properties": {
          "constellation": "SENTINEL-2",
          "datetime": "2023-09-09T00:04:39.024Z",
          "description": "The Copernicus Sentinel-2 mission consists of two polar-orbiting satellites that are positioned in the same sun-synchronous orbit, with a phase difference of 180°. It aims to monitor changes in land surface conditions. The satellites have a wide swath width (290 km) and a high revisit time. Sentinel-2 is equipped with an optical instrument payload that samples 13 spectral bands: four bands at 10 m, six bands at 20 m and three bands at 60 m spatial resolution [https://dataspace.copernicus.eu/explore-data/data-collections/sentinel-data/sentinel-2].",
          "end_datetime": "2023-09-09T00:04:39.024Z",
          "eo:cloud_cover": 3.88498986907404,
          "eo:snow_cover": 0,
          "gsd": 0,
          "instruments": [
           "MSI"
          ],
          "license": "proprietary",
          "oseo:accessConstraint": {
           "description": {
            "shortName": "No license"
           },
           "grantedCountries": null,
           "grantedFlags": null,
           "grantedOrganizationCountries": null,
           "hasToBeSigned": "never",
           "licenseId": "unlicensed",
           "signatureQuota": -1,
           "viewService": "public"
          },
          "oseo:sensorType": "OPTICAL",
          "platform": "S2B",
          "processing:level": "S2MSI1C",
          "providers": [
           {
            "description": "DEDL Fresh Data Pool",
            "name": "dedl",
            "priority": 0,
            "roles": [
             "host"
            ],
            "url": "https://hda.data.destination-earth.eu/"
           }
          ],
          "published": "2023-09-09T03:38:11.989Z",
          "sat:absolute_orbit": 33990,
          "sat:relative_orbit": 73,
          "start_datetime": "2023-09-09T00:04:39.024Z",
          "updated": "2023-09-09T07:43:08.647Z"
         },
         "stac_extensions": [
          "https://stac-extensions.github.io/timestamps/v1.0.0/schema.json",
          "https://stac-extensions.github.io/eo/v1.0.0/schema.json",
          "https://stac-extensions.github.io/processing/v1.0.0/schema.json",
          "https://stac-extensions.github.io/sat/v1.0.0/schema.json",
          "https://hda.central.data.destination-earth.eu/stac/extensions/oseo/json-schema/schema.json"
         ],
         "stac_version": "1.0.0",
         "type": "Feature"
        },
        {
         "assets": {
          "downloadLink": {
           "href": "https://hda.central.data.destination-earth.eu/stac/collections/EO.ESA.DAT.SENTINEL-2.MSI.L1C/items/S2B_MSIL1C_20230909T000439_N0509_R073_T57NTG_20230909T010819/download",
           "title": "Download link",
           "type": "application/zip"
          },
          "thumbnail": {
           "href": "https://datahub.creodias.eu/get-object?path=/Sentinel-2/MSI/L1C/2023/09/09/S2B_MSIL1C_20230909T000439_N0509_R073_T57NTG_20230909T010819.SAFE/S2B_MSIL1C_20230909T000439_N0509_R073_T57NTG_20230909T010819-ql.jpg",
           "role": "thumbnail",
           "title": "Thumbnail",
           "type": "image/jpeg"
          }
         },
         "bbox": [
          156.288383705068,
          5.55511210187126,
          157.282733445752,
          6.33019434840856
         ],
         "collection": "EO.ESA.DAT.SENTINEL-2.MSI.L1C",
         "geometry": {
          "coordinates": [
           [
            [
             157.282733,
             5.556519
            ],
            [
             157.280378,
             6.330194
            ],
            [
             156.288384,
             6.325962
            ],
            [
             156.291087,
             5.7627
            ],
            [
             156.440175,
             5.733894
            ],
            [
             156.440838,
             5.736901
            ],
            [
             156.440853,
             5.736898
            ],
            [
             156.440872,
             5.73698
            ],
            [
             156.441763,
             5.736806
            ],
            [
             156.441783,
             5.736895
            ],
            [
             156.57919,
             5.709971
            ],
            [
             156.641175,
             5.697867
            ],
            [
             156.641166,
             5.697827
            ],
            [
             156.641492,
             5.697763
            ],
            [
             156.640715,
             5.694251
            ],
            [
             156.863628,
             5.647502
            ],
            [
             156.86427,
             5.650403
            ],
            [
             156.86428,
             5.650401
            ],
            [
             156.864325,
             5.650605
            ],
            [
             157.061451,
             5.607952
            ],
            [
             157.061364,
             5.60756
            ],
            [
             157.061518,
             5.607527
            ],
            [
             157.061395,
             5.606971
            ],
            [
             157.061411,
             5.606968
            ],
            [
             157.06128,
             5.606375
            ],
            [
             157.061295,
             5.606371
            ],
            [
             157.061017,
             5.605119
            ],
            [
             157.282421,
             5.555112
            ],
            [
             157.282733,
             5.556519
            ]
           ]
          ],
          "type": "Polygon"
         },
         "id": "S2B_MSIL1C_20230909T000439_N0509_R073_T57NTG_20230909T010819",
         "links": [
          {
           "href": "https://hda.central.data.destination-earth.eu/stac/collections/EO.ESA.DAT.SENTINEL-2.MSI.L1C/items/S2B_MSIL1C_20230909T000439_N0509_R073_T57NTG_20230909T010819",
           "rel": "self",
           "title": "S2B_MSIL1C_20230909T000439_N0509_R073_T57NTG_20230909T010819"
          },
          {
           "href": "https://hda.central.data.destination-earth.eu/stac/",
           "rel": "root"
          },
          {
           "href": "https://hda.central.data.destination-earth.eu/stac/collections/EO.ESA.DAT.SENTINEL-2.MSI.L1C",
           "rel": "parent",
           "title": "EO.ESA.DAT.SENTINEL-2.MSI.L1C"
          },
          {
           "href": "https://hda.central.data.destination-earth.eu/stac/collections/EO.ESA.DAT.SENTINEL-2.MSI.L1C",
           "rel": "collection",
           "title": "EO.ESA.DAT.SENTINEL-2.MSI.L1C"
          }
         ],
         "properties": {
          "constellation": "SENTINEL-2",
          "datetime": "2023-09-09T00:04:39.024Z",
          "description": "The Copernicus Sentinel-2 mission consists of two polar-orbiting satellites that are positioned in the same sun-synchronous orbit, with a phase difference of 180°. It aims to monitor changes in land surface conditions. The satellites have a wide swath width (290 km) and a high revisit time. Sentinel-2 is equipped with an optical instrument payload that samples 13 spectral bands: four bands at 10 m, six bands at 20 m and three bands at 60 m spatial resolution [https://dataspace.copernicus.eu/explore-data/data-collections/sentinel-data/sentinel-2].",
          "end_datetime": "2023-09-09T00:04:39.024Z",
          "eo:cloud_cover": 2.436086021199,
          "eo:snow_cover": 0,
          "gsd": 0,
          "instruments": [
           "MSI"
          ],
          "license": "proprietary",
          "oseo:accessConstraint": {
           "description": {
            "shortName": "No license"
           },
           "grantedCountries": null,
           "grantedFlags": null,
           "grantedOrganizationCountries": null,
           "hasToBeSigned": "never",
           "licenseId": "unlicensed",
           "signatureQuota": -1,
           "viewService": "public"
          },
          "oseo:sensorType": "OPTICAL",
          "platform": "S2B",
          "processing:level": "S2MSI1C",
          "providers": [
           {
            "description": "DEDL Fresh Data Pool",
            "name": "dedl",
            "priority": 0,
            "roles": [
             "host"
            ],
            "url": "https://hda.data.destination-earth.eu/"
           }
          ],
          "published": "2023-09-09T03:49:59.934Z",
          "sat:absolute_orbit": 33990,
          "sat:relative_orbit": 73,
          "start_datetime": "2023-09-09T00:04:39.024Z",
          "updated": "2023-09-09T07:56:54.661Z"
         },
         "stac_extensions": [
          "https://stac-extensions.github.io/timestamps/v1.0.0/schema.json",
          "https://stac-extensions.github.io/eo/v1.0.0/schema.json",
          "https://stac-extensions.github.io/processing/v1.0.0/schema.json",
          "https://stac-extensions.github.io/sat/v1.0.0/schema.json",
          "https://hda.central.data.destination-earth.eu/stac/extensions/oseo/json-schema/schema.json"
         ],
         "stac_version": "1.0.0",
         "type": "Feature"
        },
        {
         "assets": {
          "downloadLink": {
           "href": "https://hda.central.data.destination-earth.eu/stac/collections/EO.ESA.DAT.SENTINEL-2.MSI.L1C/items/S2B_MSIL1C_20230909T000439_N0509_R073_T57NUJ_20230909T010819/download",
           "title": "Download link",
           "type": "application/zip"
          },
          "thumbnail": {
           "href": "https://datahub.creodias.eu/get-object?path=/Sentinel-2/MSI/L1C/2023/09/09/S2B_MSIL1C_20230909T000439_N0509_R073_T57NUJ_20230909T010819.SAFE/S2B_MSIL1C_20230909T000439_N0509_R073_T57NUJ_20230909T010819-ql.jpg",
           "role": "thumbnail",
           "title": "Thumbnail",
           "type": "image/jpeg"
          }
         },
         "bbox": [
          157.188217791782,
          7.14525850021369,
          157.962755680952,
          7.32379469722117
         ],
         "collection": "EO.ESA.DAT.SENTINEL-2.MSI.L1C",
         "geometry": {
          "coordinates": [
           [
            [
             157.188218,
             7.323795
            ],
            [
             157.188971,
             7.145259
            ],
            [
             157.962756,
             7.147464
            ],
            [
             157.910328,
             7.160105
            ],
            [
             157.864352,
             7.171178
            ],
            [
             157.864355,
             7.171189
            ],
            [
             157.864254,
             7.171213
            ],
            [
             157.864645,
             7.172964
            ],
            [
             157.86463,
             7.172967
            ],
            [
             157.864717,
             7.173355
            ],
            [
             157.864458,
             7.173418
            ],
            [
             157.864876,
             7.175293
            ],
            [
             157.853332,
             7.178021
            ],
            [
             157.642031,
             7.227807
            ],
            [
             157.641383,
             7.224897
            ],
            [
             157.641206,
             7.224937
            ],
            [
             157.640981,
             7.223928
            ],
            [
             157.443042,
             7.268547
            ],
            [
             157.443945,
             7.272612
            ],
            [
             157.221054,
             7.320856
            ],
            [
             157.220687,
             7.3192
            ],
            [
             157.220583,
             7.319222
            ],
            [
             157.220407,
             7.318432
            ],
            [
             157.220333,
             7.318448
            ],
            [
             157.220153,
             7.317633
            ],
            [
             157.219835,
             7.3177
            ],
            [
             157.219767,
             7.317394
            ],
            [
             157.219725,
             7.317403
            ],
            [
             157.219678,
             7.317192
            ],
            [
             157.188218,
             7.323795
            ]
           ]
          ],
          "type": "Polygon"
         },
         "id": "S2B_MSIL1C_20230909T000439_N0509_R073_T57NUJ_20230909T010819",
         "links": [
          {
           "href": "https://hda.central.data.destination-earth.eu/stac/collections/EO.ESA.DAT.SENTINEL-2.MSI.L1C/items/S2B_MSIL1C_20230909T000439_N0509_R073_T57NUJ_20230909T010819",
           "rel": "self",
           "title": "S2B_MSIL1C_20230909T000439_N0509_R073_T57NUJ_20230909T010819"
          },
          {
           "href": "https://hda.central.data.destination-earth.eu/stac/",
           "rel": "root"
          },
          {
           "href": "https://hda.central.data.destination-earth.eu/stac/collections/EO.ESA.DAT.SENTINEL-2.MSI.L1C",
           "rel": "parent",
           "title": "EO.ESA.DAT.SENTINEL-2.MSI.L1C"
          },
          {
           "href": "https://hda.central.data.destination-earth.eu/stac/collections/EO.ESA.DAT.SENTINEL-2.MSI.L1C",
           "rel": "collection",
           "title": "EO.ESA.DAT.SENTINEL-2.MSI.L1C"
          }
         ],
         "properties": {
          "constellation": "SENTINEL-2",
          "datetime": "2023-09-09T00:04:39.024Z",
          "description": "The Copernicus Sentinel-2 mission consists of two polar-orbiting satellites that are positioned in the same sun-synchronous orbit, with a phase difference of 180°. It aims to monitor changes in land surface conditions. The satellites have a wide swath width (290 km) and a high revisit time. Sentinel-2 is equipped with an optical instrument payload that samples 13 spectral bands: four bands at 10 m, six bands at 20 m and three bands at 60 m spatial resolution [https://dataspace.copernicus.eu/explore-data/data-collections/sentinel-data/sentinel-2].",
          "end_datetime": "2023-09-09T00:04:39.024Z",
          "eo:cloud_cover": 3.00837436827783,
          "eo:snow_cover": 0,
          "gsd": 0,
          "instruments": [
           "MSI"
          ],
          "license": "proprietary",
          "oseo:accessConstraint": {
           "description": {
            "shortName": "No license"
           },
           "grantedCountries": null,
           "grantedFlags": null,
           "grantedOrganizationCountries": null,
           "hasToBeSigned": "never",
           "licenseId": "unlicensed",
           "signatureQuota": -1,
           "viewService": "public"
          },
          "oseo:sensorType": "OPTICAL",
          "platform": "S2B",
          "processing:level": "S2MSI1C",
          "providers": [
           {
            "description": "DEDL Fresh Data Pool",
            "name": "dedl",
            "priority": 0,
            "roles": [
             "host"
            ],
            "url": "https://hda.data.destination-earth.eu/"
           }
          ],
          "published": "2023-09-09T03:46:47.555Z",
          "sat:absolute_orbit": 33990,
          "sat:relative_orbit": 73,
          "start_datetime": "2023-09-09T00:04:39.024Z",
          "updated": "2023-09-09T07:53:30.015Z"
         },
         "stac_extensions": [
          "https://stac-extensions.github.io/timestamps/v1.0.0/schema.json",
          "https://stac-extensions.github.io/eo/v1.0.0/schema.json",
          "https://stac-extensions.github.io/processing/v1.0.0/schema.json",
          "https://stac-extensions.github.io/sat/v1.0.0/schema.json",
          "https://hda.central.data.destination-earth.eu/stac/extensions/oseo/json-schema/schema.json"
         ],
         "stac_version": "1.0.0",
         "type": "Feature"
        },
        {
         "assets": {
          "downloadLink": {
           "href": "https://hda.central.data.destination-earth.eu/stac/collections/EO.ESA.DAT.SENTINEL-2.MSI.L1C/items/S2B_MSIL1C_20230909T000439_N0509_R073_T57NTH_20230909T010819/download",
           "title": "Download link",
           "type": "application/zip"
          },
          "thumbnail": {
           "href": "https://datahub.creodias.eu/get-object?path=/Sentinel-2/MSI/L1C/2023/09/09/S2B_MSIL1C_20230909T000439_N0509_R073_T57NTH_20230909T010819.SAFE/S2B_MSIL1C_20230909T000439_N0509_R073_T57NTH_20230909T010819-ql.jpg",
           "role": "thumbnail",
           "title": "Thumbnail",
           "type": "image/jpeg"
          }
         },
         "bbox": [
          156.283325098087,
          6.23758935706673,
          157.280668477008,
          7.23456885143109
         ],
         "collection": "EO.ESA.DAT.SENTINEL-2.MSI.L1C",
         "geometry": {
          "coordinates": [
           [
            [
             156.283325,
             7.229726
            ],
            [
             156.288841,
             6.237589
            ],
            [
             157.280668,
             6.241762
            ],
            [
             157.277167,
             7.234569
            ],
            [
             156.283325,
             7.229726
            ]
           ]
          ],
          "type": "Polygon"
         },
         "id": "S2B_MSIL1C_20230909T000439_N0509_R073_T57NTH_20230909T010819",
         "links": [
          {
           "href": "https://hda.central.data.destination-earth.eu/stac/collections/EO.ESA.DAT.SENTINEL-2.MSI.L1C/items/S2B_MSIL1C_20230909T000439_N0509_R073_T57NTH_20230909T010819",
           "rel": "self",
           "title": "S2B_MSIL1C_20230909T000439_N0509_R073_T57NTH_20230909T010819"
          },
          {
           "href": "https://hda.central.data.destination-earth.eu/stac/",
           "rel": "root"
          },
          {
           "href": "https://hda.central.data.destination-earth.eu/stac/collections/EO.ESA.DAT.SENTINEL-2.MSI.L1C",
           "rel": "parent",
           "title": "EO.ESA.DAT.SENTINEL-2.MSI.L1C"
          },
          {
           "href": "https://hda.central.data.destination-earth.eu/stac/collections/EO.ESA.DAT.SENTINEL-2.MSI.L1C",
           "rel": "collection",
           "title": "EO.ESA.DAT.SENTINEL-2.MSI.L1C"
          }
         ],
         "properties": {
          "constellation": "SENTINEL-2",
          "datetime": "2023-09-09T00:04:39.024Z",
          "description": "The Copernicus Sentinel-2 mission consists of two polar-orbiting satellites that are positioned in the same sun-synchronous orbit, with a phase difference of 180°. It aims to monitor changes in land surface conditions. The satellites have a wide swath width (290 km) and a high revisit time. Sentinel-2 is equipped with an optical instrument payload that samples 13 spectral bands: four bands at 10 m, six bands at 20 m and three bands at 60 m spatial resolution [https://dataspace.copernicus.eu/explore-data/data-collections/sentinel-data/sentinel-2].",
          "end_datetime": "2023-09-09T00:04:39.024Z",
          "eo:cloud_cover": 3.746991549464,
          "eo:snow_cover": 0,
          "gsd": 0,
          "instruments": [
           "MSI"
          ],
          "license": "proprietary",
          "oseo:accessConstraint": {
           "description": {
            "shortName": "No license"
           },
           "grantedCountries": null,
           "grantedFlags": null,
           "grantedOrganizationCountries": null,
           "hasToBeSigned": "never",
           "licenseId": "unlicensed",
           "signatureQuota": -1,
           "viewService": "public"
          },
          "oseo:sensorType": "OPTICAL",
          "platform": "S2B",
          "processing:level": "S2MSI1C",
          "providers": [
           {
            "description": "DEDL Fresh Data Pool",
            "name": "dedl",
            "priority": 0,
            "roles": [
             "host"
            ],
            "url": "https://hda.data.destination-earth.eu/"
           }
          ],
          "published": "2023-09-09T03:29:19.225Z",
          "sat:absolute_orbit": 33990,
          "sat:relative_orbit": 73,
          "start_datetime": "2023-09-09T00:04:39.024Z",
          "updated": "2023-09-09T07:30:22.629Z"
         },
         "stac_extensions": [
          "https://stac-extensions.github.io/timestamps/v1.0.0/schema.json",
          "https://stac-extensions.github.io/eo/v1.0.0/schema.json",
          "https://stac-extensions.github.io/processing/v1.0.0/schema.json",
          "https://stac-extensions.github.io/sat/v1.0.0/schema.json",
          "https://hda.central.data.destination-earth.eu/stac/extensions/oseo/json-schema/schema.json"
         ],
         "stac_version": "1.0.0",
         "type": "Feature"
        },
        {
         "assets": {
          "downloadLink": {
           "href": "https://hda.central.data.destination-earth.eu/stac/collections/EO.ESA.DAT.SENTINEL-2.MSI.L1C/items/S2B_MSIL1C_20230909T000439_N0509_R073_T56NRN_20230909T010819/download",
           "title": "Download link",
           "type": "application/zip"
          },
          "thumbnail": {
           "href": "https://datahub.creodias.eu/get-object?path=/Sentinel-2/MSI/L1C/2023/09/09/S2B_MSIL1C_20230909T000439_N0509_R073_T56NRN_20230909T010819.SAFE/S2B_MSIL1C_20230909T000439_N0509_R073_T56NRN_20230909T010819-ql.jpg",
           "role": "thumbnail",
           "title": "Thumbnail",
           "type": "image/jpeg"
          }
         },
         "bbox": [
          155.851199136896,
          6.23155781728532,
          156.709319765149,
          7.227244152065
         ],
         "collection": "EO.ESA.DAT.SENTINEL-2.MSI.L1C",
         "geometry": {
          "coordinates": [
           [
            [
             155.851199,
             6.236736
            ],
            [
             156.701798,
             6.231558
            ],
            [
             156.70932,
             7.222726
            ],
            [
             156.06854,
             7.227244
            ],
            [
             156.068504,
             7.227082
            ],
            [
             156.035888,
             7.078512
            ],
            [
             156.003282,
             6.929937
            ],
            [
             155.970671,
             6.781337
            ],
            [
             155.938062,
             6.632735
            ],
            [
             155.905457,
             6.484136
            ],
            [
             155.872854,
             6.335502
            ],
            [
             155.851199,
             6.236736
            ]
           ]
          ],
          "type": "Polygon"
         },
         "id": "S2B_MSIL1C_20230909T000439_N0509_R073_T56NRN_20230909T010819",
         "links": [
          {
           "href": "https://hda.central.data.destination-earth.eu/stac/collections/EO.ESA.DAT.SENTINEL-2.MSI.L1C/items/S2B_MSIL1C_20230909T000439_N0509_R073_T56NRN_20230909T010819",
           "rel": "self",
           "title": "S2B_MSIL1C_20230909T000439_N0509_R073_T56NRN_20230909T010819"
          },
          {
           "href": "https://hda.central.data.destination-earth.eu/stac/",
           "rel": "root"
          },
          {
           "href": "https://hda.central.data.destination-earth.eu/stac/collections/EO.ESA.DAT.SENTINEL-2.MSI.L1C",
           "rel": "parent",
           "title": "EO.ESA.DAT.SENTINEL-2.MSI.L1C"
          },
          {
           "href": "https://hda.central.data.destination-earth.eu/stac/collections/EO.ESA.DAT.SENTINEL-2.MSI.L1C",
           "rel": "collection",
           "title": "EO.ESA.DAT.SENTINEL-2.MSI.L1C"
          }
         ],
         "properties": {
          "constellation": "SENTINEL-2",
          "datetime": "2023-09-09T00:04:39.024Z",
          "description": "The Copernicus Sentinel-2 mission consists of two polar-orbiting satellites that are positioned in the same sun-synchronous orbit, with a phase difference of 180°. It aims to monitor changes in land surface conditions. The satellites have a wide swath width (290 km) and a high revisit time. Sentinel-2 is equipped with an optical instrument payload that samples 13 spectral bands: four bands at 10 m, six bands at 20 m and three bands at 60 m spatial resolution [https://dataspace.copernicus.eu/explore-data/data-collections/sentinel-data/sentinel-2].",
          "end_datetime": "2023-09-09T00:04:39.024Z",
          "eo:cloud_cover": 5.59124462437831,
          "eo:snow_cover": 0,
          "gsd": 0,
          "instruments": [
           "MSI"
          ],
          "license": "proprietary",
          "oseo:accessConstraint": {
           "description": {
            "shortName": "No license"
           },
           "grantedCountries": null,
           "grantedFlags": null,
           "grantedOrganizationCountries": null,
           "hasToBeSigned": "never",
           "licenseId": "unlicensed",
           "signatureQuota": -1,
           "viewService": "public"
          },
          "oseo:sensorType": "OPTICAL",
          "platform": "S2B",
          "processing:level": "S2MSI1C",
          "providers": [
           {
            "description": "DEDL Fresh Data Pool",
            "name": "dedl",
            "priority": 0,
            "roles": [
             "host"
            ],
            "url": "https://hda.data.destination-earth.eu/"
           }
          ],
          "published": "2023-09-09T03:49:19.969Z",
          "sat:absolute_orbit": 33990,
          "sat:relative_orbit": 73,
          "start_datetime": "2023-09-09T00:04:39.024Z",
          "updated": "2023-09-09T07:56:08.440Z"
         },
         "stac_extensions": [
          "https://stac-extensions.github.io/timestamps/v1.0.0/schema.json",
          "https://stac-extensions.github.io/eo/v1.0.0/schema.json",
          "https://stac-extensions.github.io/processing/v1.0.0/schema.json",
          "https://stac-extensions.github.io/sat/v1.0.0/schema.json",
          "https://hda.central.data.destination-earth.eu/stac/extensions/oseo/json-schema/schema.json"
         ],
         "stac_version": "1.0.0",
         "type": "Feature"
        },
        {
         "assets": {
          "downloadLink": {
           "href": "https://hda.central.data.destination-earth.eu/stac/collections/EO.ESA.DAT.SENTINEL-2.MSI.L1C/items/S2B_MSIL1C_20230909T000439_N0509_R073_T57NUF_20230909T010819/download",
           "title": "Download link",
           "type": "application/zip"
          },
          "thumbnail": {
           "href": "https://datahub.creodias.eu/get-object?path=/Sentinel-2/MSI/L1C/2023/09/09/S2B_MSIL1C_20230909T000439_N0509_R073_T57NUF_20230909T010819.SAFE/S2B_MSIL1C_20230909T000439_N0509_R073_T57NUF_20230909T010819-ql.jpg",
           "role": "thumbnail",
           "title": "Thumbnail",
           "type": "image/jpeg"
          }
         },
         "bbox": [
          157.817357868558,
          5.33015928497533,
          158.185914737032,
          5.42767697685666
         ],
         "collection": "EO.ESA.DAT.SENTINEL-2.MSI.L1C",
         "geometry": {
          "coordinates": [
           [
            [
             158.185915,
             5.330159
            ],
            [
             158.185796,
             5.427677
            ],
            [
             157.817358,
             5.426879
            ],
            [
             157.90313,
             5.40474
            ],
            [
             157.903011,
             5.404205
            ],
            [
             157.90317,
             5.404164
            ],
            [
             157.90309,
             5.403802
            ],
            [
             157.903232,
             5.403766
            ],
            [
             157.903026,
             5.402844
            ],
            [
             157.903082,
             5.40283
            ],
            [
             157.903029,
             5.402594
            ],
            [
             157.903128,
             5.402569
            ],
            [
             157.9031,
             5.402443
            ],
            [
             157.903184,
             5.402421
            ],
            [
             157.903101,
             5.402048
            ],
            [
             158.131215,
             5.342862
            ],
            [
             158.13176,
             5.345311
            ],
            [
             158.131788,
             5.345303
            ],
            [
             158.1318,
             5.345356
            ],
            [
             158.185915,
             5.330159
            ]
           ]
          ],
          "type": "Polygon"
         },
         "id": "S2B_MSIL1C_20230909T000439_N0509_R073_T57NUF_20230909T010819",
         "links": [
          {
           "href": "https://hda.central.data.destination-earth.eu/stac/collections/EO.ESA.DAT.SENTINEL-2.MSI.L1C/items/S2B_MSIL1C_20230909T000439_N0509_R073_T57NUF_20230909T010819",
           "rel": "self",
           "title": "S2B_MSIL1C_20230909T000439_N0509_R073_T57NUF_20230909T010819"
          },
          {
           "href": "https://hda.central.data.destination-earth.eu/stac/",
           "rel": "root"
          },
          {
           "href": "https://hda.central.data.destination-earth.eu/stac/collections/EO.ESA.DAT.SENTINEL-2.MSI.L1C",
           "rel": "parent",
           "title": "EO.ESA.DAT.SENTINEL-2.MSI.L1C"
          },
          {
           "href": "https://hda.central.data.destination-earth.eu/stac/collections/EO.ESA.DAT.SENTINEL-2.MSI.L1C",
           "rel": "collection",
           "title": "EO.ESA.DAT.SENTINEL-2.MSI.L1C"
          }
         ],
         "properties": {
          "constellation": "SENTINEL-2",
          "datetime": "2023-09-09T00:04:39.024Z",
          "description": "The Copernicus Sentinel-2 mission consists of two polar-orbiting satellites that are positioned in the same sun-synchronous orbit, with a phase difference of 180°. It aims to monitor changes in land surface conditions. The satellites have a wide swath width (290 km) and a high revisit time. Sentinel-2 is equipped with an optical instrument payload that samples 13 spectral bands: four bands at 10 m, six bands at 20 m and three bands at 60 m spatial resolution [https://dataspace.copernicus.eu/explore-data/data-collections/sentinel-data/sentinel-2].",
          "end_datetime": "2023-09-09T00:04:39.024Z",
          "eo:cloud_cover": 0,
          "eo:snow_cover": 0,
          "gsd": 0,
          "instruments": [
           "MSI"
          ],
          "license": "proprietary",
          "oseo:accessConstraint": {
           "description": {
            "shortName": "No license"
           },
           "grantedCountries": null,
           "grantedFlags": null,
           "grantedOrganizationCountries": null,
           "hasToBeSigned": "never",
           "licenseId": "unlicensed",
           "signatureQuota": -1,
           "viewService": "public"
          },
          "oseo:sensorType": "OPTICAL",
          "platform": "S2B",
          "processing:level": "S2MSI1C",
          "providers": [
           {
            "description": "DEDL Fresh Data Pool",
            "name": "dedl",
            "priority": 0,
            "roles": [
             "host"
            ],
            "url": "https://hda.data.destination-earth.eu/"
           }
          ],
          "published": "2023-09-09T03:34:12.680Z",
          "sat:absolute_orbit": 33990,
          "sat:relative_orbit": 73,
          "start_datetime": "2023-09-09T00:04:39.024Z",
          "updated": "2023-09-09T07:37:00.482Z"
         },
         "stac_extensions": [
          "https://stac-extensions.github.io/timestamps/v1.0.0/schema.json",
          "https://stac-extensions.github.io/eo/v1.0.0/schema.json",
          "https://stac-extensions.github.io/processing/v1.0.0/schema.json",
          "https://stac-extensions.github.io/sat/v1.0.0/schema.json",
          "https://hda.central.data.destination-earth.eu/stac/extensions/oseo/json-schema/schema.json"
         ],
         "stac_version": "1.0.0",
         "type": "Feature"
        },
        {
         "assets": {
          "downloadLink": {
           "href": "https://hda.central.data.destination-earth.eu/stac/collections/EO.ESA.DAT.SENTINEL-2.MSI.L1C/items/S2B_MSIL1C_20230909T000439_N0509_R073_T57NUG_20230909T010819/download",
           "title": "Download link",
           "type": "application/zip"
          },
          "thumbnail": {
           "href": "https://datahub.creodias.eu/get-object?path=/Sentinel-2/MSI/L1C/2023/09/09/S2B_MSIL1C_20230909T000439_N0509_R073_T57NUG_20230909T010819.SAFE/S2B_MSIL1C_20230909T000439_N0509_R073_T57NUG_20230909T010819-ql.jpg",
           "role": "thumbnail",
           "title": "Thumbnail",
           "type": "image/jpeg"
          }
         },
         "bbox": [
          157.19199424434,
          5.33914287263183,
          158.185913730882,
          6.3324016372264
         ],
         "collection": "EO.ESA.DAT.SENTINEL-2.MSI.L1C",
         "geometry": {
          "coordinates": [
           [
            [
             158.153924,
             5.339143
            ],
            [
             158.185914,
             5.339211
            ],
            [
             158.18448,
             6.332402
            ],
            [
             157.191994,
             6.329894
            ],
            [
             157.194411,
             5.57499
            ],
            [
             157.282421,
             5.555112
            ],
            [
             157.282939,
             5.557443
            ],
            [
             157.282943,
             5.557442
            ],
            [
             157.282986,
             5.557637
            ],
            [
             157.47994,
             5.510849
            ],
            [
             157.479913,
             5.510724
            ],
            [
             157.480149,
             5.510668
            ],
            [
             157.480004,
             5.510019
            ],
            [
             157.480086,
             5.51
            ],
            [
             157.479986,
             5.509546
            ],
            [
             157.48003,
             5.509536
            ],
            [
             157.479632,
             5.507747
            ],
            [
             157.702582,
             5.453646
            ],
            [
             157.703197,
             5.456416
            ],
            [
             157.761937,
             5.441183
            ],
            [
             157.90313,
             5.40474
            ],
            [
             157.903011,
             5.404205
            ],
            [
             157.90317,
             5.404164
            ],
            [
             157.90309,
             5.403802
            ],
            [
             157.903232,
             5.403766
            ],
            [
             157.903026,
             5.402844
            ],
            [
             157.903082,
             5.40283
            ],
            [
             157.903029,
             5.402594
            ],
            [
             157.903128,
             5.402569
            ],
            [
             157.9031,
             5.402443
            ],
            [
             157.903184,
             5.402421
            ],
            [
             157.903101,
             5.402048
            ],
            [
             158.131215,
             5.342862
            ],
            [
             158.13176,
             5.345311
            ],
            [
             158.131788,
             5.345303
            ],
            [
             158.1318,
             5.345356
            ],
            [
             158.153924,
             5.339143
            ]
           ]
          ],
          "type": "Polygon"
         },
         "id": "S2B_MSIL1C_20230909T000439_N0509_R073_T57NUG_20230909T010819",
         "links": [
          {
           "href": "https://hda.central.data.destination-earth.eu/stac/collections/EO.ESA.DAT.SENTINEL-2.MSI.L1C/items/S2B_MSIL1C_20230909T000439_N0509_R073_T57NUG_20230909T010819",
           "rel": "self",
           "title": "S2B_MSIL1C_20230909T000439_N0509_R073_T57NUG_20230909T010819"
          },
          {
           "href": "https://hda.central.data.destination-earth.eu/stac/",
           "rel": "root"
          },
          {
           "href": "https://hda.central.data.destination-earth.eu/stac/collections/EO.ESA.DAT.SENTINEL-2.MSI.L1C",
           "rel": "parent",
           "title": "EO.ESA.DAT.SENTINEL-2.MSI.L1C"
          },
          {
           "href": "https://hda.central.data.destination-earth.eu/stac/collections/EO.ESA.DAT.SENTINEL-2.MSI.L1C",
           "rel": "collection",
           "title": "EO.ESA.DAT.SENTINEL-2.MSI.L1C"
          }
         ],
         "properties": {
          "constellation": "SENTINEL-2",
          "datetime": "2023-09-09T00:04:39.024Z",
          "description": "The Copernicus Sentinel-2 mission consists of two polar-orbiting satellites that are positioned in the same sun-synchronous orbit, with a phase difference of 180°. It aims to monitor changes in land surface conditions. The satellites have a wide swath width (290 km) and a high revisit time. Sentinel-2 is equipped with an optical instrument payload that samples 13 spectral bands: four bands at 10 m, six bands at 20 m and three bands at 60 m spatial resolution [https://dataspace.copernicus.eu/explore-data/data-collections/sentinel-data/sentinel-2].",
          "end_datetime": "2023-09-09T00:04:39.024Z",
          "eo:cloud_cover": 1.7589958419550298,
          "eo:snow_cover": 0,
          "gsd": 0,
          "instruments": [
           "MSI"
          ],
          "license": "proprietary",
          "oseo:accessConstraint": {
           "description": {
            "shortName": "No license"
           },
           "grantedCountries": null,
           "grantedFlags": null,
           "grantedOrganizationCountries": null,
           "hasToBeSigned": "never",
           "licenseId": "unlicensed",
           "signatureQuota": -1,
           "viewService": "public"
          },
          "oseo:sensorType": "OPTICAL",
          "platform": "S2B",
          "processing:level": "S2MSI1C",
          "providers": [
           {
            "description": "DEDL Fresh Data Pool",
            "name": "dedl",
            "priority": 0,
            "roles": [
             "host"
            ],
            "url": "https://hda.data.destination-earth.eu/"
           }
          ],
          "published": "2023-09-09T03:58:59.997Z",
          "sat:absolute_orbit": 33990,
          "sat:relative_orbit": 73,
          "start_datetime": "2023-09-09T00:04:39.024Z",
          "updated": "2023-09-09T08:08:12.804Z"
         },
         "stac_extensions": [
          "https://stac-extensions.github.io/timestamps/v1.0.0/schema.json",
          "https://stac-extensions.github.io/eo/v1.0.0/schema.json",
          "https://stac-extensions.github.io/processing/v1.0.0/schema.json",
          "https://stac-extensions.github.io/sat/v1.0.0/schema.json",
          "https://hda.central.data.destination-earth.eu/stac/extensions/oseo/json-schema/schema.json"
         ],
         "stac_version": "1.0.0",
         "type": "Feature"
        },
        {
         "assets": {
          "downloadLink": {
           "href": "https://hda.central.data.destination-earth.eu/stac/collections/EO.ESA.DAT.SENTINEL-2.MSI.L1C/items/S2B_MSIL1C_20230909T000439_N0509_R073_T56NRM_20230909T010819/download",
           "title": "Download link",
           "type": "application/zip"
          },
          "thumbnail": {
           "href": "https://datahub.creodias.eu/get-object?path=/Sentinel-2/MSI/L1C/2023/09/09/S2B_MSIL1C_20230909T000439_N0509_R073_T56NRM_20230909T010819.SAFE/S2B_MSIL1C_20230909T000439_N0509_R073_T56NRM_20230909T010819-ql.jpg",
           "role": "thumbnail",
           "title": "Thumbnail",
           "type": "image/jpeg"
          }
         },
         "bbox": [
          155.767919274171,
          5.68218585288902,
          156.70242171932,
          6.32498015457541
         ],
         "collection": "EO.ESA.DAT.SENTINEL-2.MSI.L1C",
         "geometry": {
          "coordinates": [
           [
            [
             156.698244,
             5.682186
            ],
            [
             156.702422,
             6.319844
            ],
            [
             155.870547,
             6.32498
            ],
            [
             155.840249,
             6.186795
            ],
            [
             155.807653,
             6.038075
            ],
            [
             155.775061,
             5.889363
            ],
            [
             155.767919,
             5.856873
            ],
            [
             156.004998,
             5.815031
            ],
            [
             156.005089,
             5.815447
            ],
            [
             156.005181,
             5.815431
            ],
            [
             156.005222,
             5.815618
            ],
            [
             156.005239,
             5.815615
            ],
            [
             156.005703,
             5.817726
            ],
            [
             156.00574,
             5.817719
            ],
            [
             156.005842,
             5.818182
            ],
            [
             156.21267,
             5.782129
            ],
            [
             156.212597,
             5.781793
            ],
            [
             156.213003,
             5.781722
            ],
            [
             156.21217,
             5.777948
            ],
            [
             156.440175,
             5.733894
            ],
            [
             156.440838,
             5.736901
            ],
            [
             156.440853,
             5.736898
            ],
            [
             156.440872,
             5.73698
            ],
            [
             156.441763,
             5.736806
            ],
            [
             156.441783,
             5.736895
            ],
            [
             156.57919,
             5.709971
            ],
            [
             156.641175,
             5.697867
            ],
            [
             156.641166,
             5.697827
            ],
            [
             156.641492,
             5.697763
            ],
            [
             156.640715,
             5.694251
            ],
            [
             156.698244,
             5.682186
            ]
           ]
          ],
          "type": "Polygon"
         },
         "id": "S2B_MSIL1C_20230909T000439_N0509_R073_T56NRM_20230909T010819",
         "links": [
          {
           "href": "https://hda.central.data.destination-earth.eu/stac/collections/EO.ESA.DAT.SENTINEL-2.MSI.L1C/items/S2B_MSIL1C_20230909T000439_N0509_R073_T56NRM_20230909T010819",
           "rel": "self",
           "title": "S2B_MSIL1C_20230909T000439_N0509_R073_T56NRM_20230909T010819"
          },
          {
           "href": "https://hda.central.data.destination-earth.eu/stac/",
           "rel": "root"
          },
          {
           "href": "https://hda.central.data.destination-earth.eu/stac/collections/EO.ESA.DAT.SENTINEL-2.MSI.L1C",
           "rel": "parent",
           "title": "EO.ESA.DAT.SENTINEL-2.MSI.L1C"
          },
          {
           "href": "https://hda.central.data.destination-earth.eu/stac/collections/EO.ESA.DAT.SENTINEL-2.MSI.L1C",
           "rel": "collection",
           "title": "EO.ESA.DAT.SENTINEL-2.MSI.L1C"
          }
         ],
         "properties": {
          "constellation": "SENTINEL-2",
          "datetime": "2023-09-09T00:04:39.024Z",
          "description": "The Copernicus Sentinel-2 mission consists of two polar-orbiting satellites that are positioned in the same sun-synchronous orbit, with a phase difference of 180°. It aims to monitor changes in land surface conditions. The satellites have a wide swath width (290 km) and a high revisit time. Sentinel-2 is equipped with an optical instrument payload that samples 13 spectral bands: four bands at 10 m, six bands at 20 m and three bands at 60 m spatial resolution [https://dataspace.copernicus.eu/explore-data/data-collections/sentinel-data/sentinel-2].",
          "end_datetime": "2023-09-09T00:04:39.024Z",
          "eo:cloud_cover": 3.03787237410452,
          "eo:snow_cover": 0,
          "gsd": 0,
          "instruments": [
           "MSI"
          ],
          "license": "proprietary",
          "oseo:accessConstraint": {
           "description": {
            "shortName": "No license"
           },
           "grantedCountries": null,
           "grantedFlags": null,
           "grantedOrganizationCountries": null,
           "hasToBeSigned": "never",
           "licenseId": "unlicensed",
           "signatureQuota": -1,
           "viewService": "public"
          },
          "oseo:sensorType": "OPTICAL",
          "platform": "S2B",
          "processing:level": "S2MSI1C",
          "providers": [
           {
            "description": "DEDL Fresh Data Pool",
            "name": "dedl",
            "priority": 0,
            "roles": [
             "host"
            ],
            "url": "https://hda.data.destination-earth.eu/"
           }
          ],
          "published": "2023-09-09T03:52:58.837Z",
          "sat:absolute_orbit": 33990,
          "sat:relative_orbit": 73,
          "start_datetime": "2023-09-09T00:04:39.024Z",
          "updated": "2023-09-09T08:00:17.690Z"
         },
         "stac_extensions": [
          "https://stac-extensions.github.io/timestamps/v1.0.0/schema.json",
          "https://stac-extensions.github.io/eo/v1.0.0/schema.json",
          "https://stac-extensions.github.io/processing/v1.0.0/schema.json",
          "https://stac-extensions.github.io/sat/v1.0.0/schema.json",
          "https://hda.central.data.destination-earth.eu/stac/extensions/oseo/json-schema/schema.json"
         ],
         "stac_version": "1.0.0",
         "type": "Feature"
        },
        {
         "assets": {
          "downloadLink": {
           "href": "https://hda.central.data.destination-earth.eu/stac/collections/EO.ESA.DAT.SENTINEL-2.MSI.L1C/items/S2B_MSIL1C_20230909T000439_N0509_R073_T57NVG_20230909T010819/download",
           "title": "Download link",
           "type": "application/zip"
          },
          "thumbnail": {
           "href": "https://datahub.creodias.eu/get-object?path=/Sentinel-2/MSI/L1C/2023/09/09/S2B_MSIL1C_20230909T000439_N0509_R073_T57NVG_20230909T010819.SAFE/S2B_MSIL1C_20230909T000439_N0509_R073_T57NVG_20230909T010819-ql.jpg",
           "role": "thumbnail",
           "title": "Thumbnail",
           "type": "image/jpeg"
          }
         },
         "bbox": [
          158.095520854158,
          5.33912467744351,
          158.589307408847,
          6.33264244719868
         ],
         "collection": "EO.ESA.DAT.SENTINEL-2.MSI.L1C",
         "geometry": {
          "coordinates": [
           [
            [
             158.153989,
             5.339125
            ],
            [
             158.366903,
             5.339266
            ],
            [
             158.395012,
             5.465089
            ],
            [
             158.428243,
             5.61375
            ],
            [
             158.461477,
             5.762295
            ],
            [
             158.49473,
             5.910827
            ],
            [
             158.52801,
             6.059382
            ],
            [
             158.561318,
             6.207915
            ],
            [
             158.589307,
             6.332642
            ],
            [
             158.095521,
             6.332254
            ],
            [
             158.097091,
             5.351716
            ],
            [
             158.131215,
             5.342862
            ],
            [
             158.13176,
             5.345311
            ],
            [
             158.131788,
             5.345303
            ],
            [
             158.1318,
             5.345356
            ],
            [
             158.153989,
             5.339125
            ]
           ]
          ],
          "type": "Polygon"
         },
         "id": "S2B_MSIL1C_20230909T000439_N0509_R073_T57NVG_20230909T010819",
         "links": [
          {
           "href": "https://hda.central.data.destination-earth.eu/stac/collections/EO.ESA.DAT.SENTINEL-2.MSI.L1C/items/S2B_MSIL1C_20230909T000439_N0509_R073_T57NVG_20230909T010819",
           "rel": "self",
           "title": "S2B_MSIL1C_20230909T000439_N0509_R073_T57NVG_20230909T010819"
          },
          {
           "href": "https://hda.central.data.destination-earth.eu/stac/",
           "rel": "root"
          },
          {
           "href": "https://hda.central.data.destination-earth.eu/stac/collections/EO.ESA.DAT.SENTINEL-2.MSI.L1C",
           "rel": "parent",
           "title": "EO.ESA.DAT.SENTINEL-2.MSI.L1C"
          },
          {
           "href": "https://hda.central.data.destination-earth.eu/stac/collections/EO.ESA.DAT.SENTINEL-2.MSI.L1C",
           "rel": "collection",
           "title": "EO.ESA.DAT.SENTINEL-2.MSI.L1C"
          }
         ],
         "properties": {
          "constellation": "SENTINEL-2",
          "datetime": "2023-09-09T00:04:39.024Z",
          "description": "The Copernicus Sentinel-2 mission consists of two polar-orbiting satellites that are positioned in the same sun-synchronous orbit, with a phase difference of 180°. It aims to monitor changes in land surface conditions. The satellites have a wide swath width (290 km) and a high revisit time. Sentinel-2 is equipped with an optical instrument payload that samples 13 spectral bands: four bands at 10 m, six bands at 20 m and three bands at 60 m spatial resolution [https://dataspace.copernicus.eu/explore-data/data-collections/sentinel-data/sentinel-2].",
          "end_datetime": "2023-09-09T00:04:39.024Z",
          "eo:cloud_cover": 4.89996951004996,
          "eo:snow_cover": 0,
          "gsd": 0,
          "instruments": [
           "MSI"
          ],
          "license": "proprietary",
          "oseo:accessConstraint": {
           "description": {
            "shortName": "No license"
           },
           "grantedCountries": null,
           "grantedFlags": null,
           "grantedOrganizationCountries": null,
           "hasToBeSigned": "never",
           "licenseId": "unlicensed",
           "signatureQuota": -1,
           "viewService": "public"
          },
          "oseo:sensorType": "OPTICAL",
          "platform": "S2B",
          "processing:level": "S2MSI1C",
          "providers": [
           {
            "description": "DEDL Fresh Data Pool",
            "name": "dedl",
            "priority": 0,
            "roles": [
             "host"
            ],
            "url": "https://hda.data.destination-earth.eu/"
           }
          ],
          "published": "2023-09-09T03:30:55.001Z",
          "sat:absolute_orbit": 33990,
          "sat:relative_orbit": 73,
          "start_datetime": "2023-09-09T00:04:39.024Z",
          "updated": "2023-09-09T07:32:04.647Z"
         },
         "stac_extensions": [
          "https://stac-extensions.github.io/timestamps/v1.0.0/schema.json",
          "https://stac-extensions.github.io/eo/v1.0.0/schema.json",
          "https://stac-extensions.github.io/processing/v1.0.0/schema.json",
          "https://stac-extensions.github.io/sat/v1.0.0/schema.json",
          "https://hda.central.data.destination-earth.eu/stac/extensions/oseo/json-schema/schema.json"
         ],
         "stac_version": "1.0.0",
         "type": "Feature"
        },
        {
         "assets": {
          "downloadLink": {
           "href": "https://hda.central.data.destination-earth.eu/stac/collections/EO.ESA.DAT.SENTINEL-2.MSI.L1C/items/S2B_MSIL1C_20230909T000439_N0509_R073_T57NVH_20230909T010819/download",
           "title": "Download link",
           "type": "application/zip"
          },
          "thumbnail": {
           "href": "https://datahub.creodias.eu/get-object?path=/Sentinel-2/MSI/L1C/2023/09/09/S2B_MSIL1C_20230909T000439_N0509_R073_T57NVH_20230909T010819.SAFE/S2B_MSIL1C_20230909T000439_N0509_R073_T57NVH_20230909T010819-ql.jpg",
           "role": "thumbnail",
           "title": "Thumbnail",
           "type": "image/jpeg"
          }
         },
         "bbox": [
          158.094050582501,
          6.24379330257155,
          158.728057639969,
          7.11871054299031
         ],
         "collection": "EO.ESA.DAT.SENTINEL-2.MSI.L1C",
         "geometry": {
          "coordinates": [
           [
            [
             158.094051,
             7.118711
            ],
            [
             158.095674,
             6.243793
            ],
            [
             158.569452,
             6.244161
            ],
            [
             158.594636,
             6.356387
            ],
            [
             158.627986,
             6.504916
            ],
            [
             158.661357,
             6.6535
            ],
            [
             158.694755,
             6.80215
            ],
            [
             158.728058,
             6.950275
            ],
            [
             158.495951,
             7.014562
            ],
            [
             158.495341,
             7.011843
            ],
            [
             158.495062,
             7.011914
            ],
            [
             158.495029,
             7.011766
            ],
            [
             158.29051,
             7.064342
            ],
            [
             158.290715,
             7.065242
            ],
            [
             158.290694,
             7.065248
            ],
            [
             158.290778,
             7.06562
            ],
            [
             158.290608,
             7.065664
            ],
            [
             158.290639,
             7.065802
            ],
            [
             158.290527,
             7.065831
            ],
            [
             158.290632,
             7.066294
            ],
            [
             158.29034,
             7.06637
            ],
            [
             158.290445,
             7.066834
            ],
            [
             158.290297,
             7.066872
            ],
            [
             158.290318,
             7.066964
            ],
            [
             158.290136,
             7.067012
            ],
            [
             158.290485,
             7.068554
            ],
            [
             158.281395,
             7.070882
            ],
            [
             158.094051,
             7.118711
            ]
           ]
          ],
          "type": "Polygon"
         },
         "id": "S2B_MSIL1C_20230909T000439_N0509_R073_T57NVH_20230909T010819",
         "links": [
          {
           "href": "https://hda.central.data.destination-earth.eu/stac/collections/EO.ESA.DAT.SENTINEL-2.MSI.L1C/items/S2B_MSIL1C_20230909T000439_N0509_R073_T57NVH_20230909T010819",
           "rel": "self",
           "title": "S2B_MSIL1C_20230909T000439_N0509_R073_T57NVH_20230909T010819"
          },
          {
           "href": "https://hda.central.data.destination-earth.eu/stac/",
           "rel": "root"
          },
          {
           "href": "https://hda.central.data.destination-earth.eu/stac/collections/EO.ESA.DAT.SENTINEL-2.MSI.L1C",
           "rel": "parent",
           "title": "EO.ESA.DAT.SENTINEL-2.MSI.L1C"
          },
          {
           "href": "https://hda.central.data.destination-earth.eu/stac/collections/EO.ESA.DAT.SENTINEL-2.MSI.L1C",
           "rel": "collection",
           "title": "EO.ESA.DAT.SENTINEL-2.MSI.L1C"
          }
         ],
         "properties": {
          "constellation": "SENTINEL-2",
          "datetime": "2023-09-09T00:04:39.024Z",
          "description": "The Copernicus Sentinel-2 mission consists of two polar-orbiting satellites that are positioned in the same sun-synchronous orbit, with a phase difference of 180°. It aims to monitor changes in land surface conditions. The satellites have a wide swath width (290 km) and a high revisit time. Sentinel-2 is equipped with an optical instrument payload that samples 13 spectral bands: four bands at 10 m, six bands at 20 m and three bands at 60 m spatial resolution [https://dataspace.copernicus.eu/explore-data/data-collections/sentinel-data/sentinel-2].",
          "end_datetime": "2023-09-09T00:04:39.024Z",
          "eo:cloud_cover": 8.18873953569085,
          "eo:snow_cover": 0,
          "gsd": 0,
          "instruments": [
           "MSI"
          ],
          "license": "proprietary",
          "oseo:accessConstraint": {
           "description": {
            "shortName": "No license"
           },
           "grantedCountries": null,
           "grantedFlags": null,
           "grantedOrganizationCountries": null,
           "hasToBeSigned": "never",
           "licenseId": "unlicensed",
           "signatureQuota": -1,
           "viewService": "public"
          },
          "oseo:sensorType": "OPTICAL",
          "platform": "S2B",
          "processing:level": "S2MSI1C",
          "providers": [
           {
            "description": "DEDL Fresh Data Pool",
            "name": "dedl",
            "priority": 0,
            "roles": [
             "host"
            ],
            "url": "https://hda.data.destination-earth.eu/"
           }
          ],
          "published": "2023-09-09T03:46:40.111Z",
          "sat:absolute_orbit": 33990,
          "sat:relative_orbit": 73,
          "start_datetime": "2023-09-09T00:04:39.024Z",
          "updated": "2023-09-09T07:53:22.191Z"
         },
         "stac_extensions": [
          "https://stac-extensions.github.io/timestamps/v1.0.0/schema.json",
          "https://stac-extensions.github.io/eo/v1.0.0/schema.json",
          "https://stac-extensions.github.io/processing/v1.0.0/schema.json",
          "https://stac-extensions.github.io/sat/v1.0.0/schema.json",
          "https://hda.central.data.destination-earth.eu/stac/extensions/oseo/json-schema/schema.json"
         ],
         "stac_version": "1.0.0",
         "type": "Feature"
        },
        {
         "assets": {
          "downloadLink": {
           "href": "https://hda.central.data.destination-earth.eu/stac/collections/EO.ESA.DAT.SENTINEL-2.MSI.L1C/items/S2B_MSIL1C_20230909T000629_N0509_R073_T56NQF_20230909T010723/download",
           "title": "Download link",
           "type": "application/zip"
          },
          "thumbnail": {
           "href": "https://datahub.creodias.eu/get-object?path=/Sentinel-2/MSI/L1C/2023/09/09/S2B_MSIL1C_20230909T000629_N0509_R073_T56NQF_20230909T010723.SAFE/S2B_MSIL1C_20230909T000629_N0509_R073_T56NQF_20230909T010723-ql.jpg",
           "role": "thumbnail",
           "title": "Thumbnail",
           "type": "image/jpeg"
          }
         },
         "bbox": [
          154.796863807441,
          0.4784482911616,
          155.782977225534,
          0.904463645229748
         ],
         "collection": "EO.ESA.DAT.SENTINEL-2.MSI.L1C",
         "geometry": {
          "coordinates": [
           [
            [
             155.782831,
             0.478448
            ],
            [
             155.782977,
             0.903837
            ],
            [
             154.796916,
             0.904464
            ],
            [
             154.796864,
             0.669349
            ],
            [
             154.871827,
             0.655941
            ],
            [
             154.871889,
             0.656228
            ],
            [
             154.872007,
             0.656207
            ],
            [
             154.872229,
             0.657213
            ],
            [
             154.872475,
             0.658335
            ],
            [
             154.872528,
             0.658325
            ],
            [
             154.872621,
             0.658748
            ],
            [
             155.078504,
             0.622427
            ],
            [
             155.078439,
             0.622129
            ],
            [
             155.078888,
             0.62205
            ],
            [
             155.078764,
             0.621485
            ],
            [
             155.078116,
             0.618601
            ],
            [
             155.305083,
             0.574357
            ],
            [
             155.305551,
             0.576472
            ],
            [
             155.305672,
             0.577023
            ],
            [
             155.305689,
             0.57702
            ],
            [
             155.305699,
             0.577067
            ],
            [
             155.306632,
             0.576884
            ],
            [
             155.306659,
             0.57701
            ],
            [
             155.505519,
             0.537754
            ],
            [
             155.50543,
             0.53735
            ],
            [
             155.504812,
             0.534597
            ],
            [
             155.726767,
             0.487808
            ],
            [
             155.727232,
             0.489907
            ],
            [
             155.727325,
             0.490331
            ],
            [
             155.727331,
             0.49033
            ],
            [
             155.727348,
             0.490407
            ],
            [
             155.727368,
             0.490497
            ],
            [
             155.782831,
             0.478448
            ]
           ]
          ],
          "type": "Polygon"
         },
         "id": "S2B_MSIL1C_20230909T000629_N0509_R073_T56NQF_20230909T010723",
         "links": [
          {
           "href": "https://hda.central.data.destination-earth.eu/stac/collections/EO.ESA.DAT.SENTINEL-2.MSI.L1C/items/S2B_MSIL1C_20230909T000629_N0509_R073_T56NQF_20230909T010723",
           "rel": "self",
           "title": "S2B_MSIL1C_20230909T000629_N0509_R073_T56NQF_20230909T010723"
          },
          {
           "href": "https://hda.central.data.destination-earth.eu/stac/",
           "rel": "root"
          },
          {
           "href": "https://hda.central.data.destination-earth.eu/stac/collections/EO.ESA.DAT.SENTINEL-2.MSI.L1C",
           "rel": "parent",
           "title": "EO.ESA.DAT.SENTINEL-2.MSI.L1C"
          },
          {
           "href": "https://hda.central.data.destination-earth.eu/stac/collections/EO.ESA.DAT.SENTINEL-2.MSI.L1C",
           "rel": "collection",
           "title": "EO.ESA.DAT.SENTINEL-2.MSI.L1C"
          }
         ],
         "properties": {
          "constellation": "SENTINEL-2",
          "datetime": "2023-09-09T00:06:29.024Z",
          "description": "The Copernicus Sentinel-2 mission consists of two polar-orbiting satellites that are positioned in the same sun-synchronous orbit, with a phase difference of 180°. It aims to monitor changes in land surface conditions. The satellites have a wide swath width (290 km) and a high revisit time. Sentinel-2 is equipped with an optical instrument payload that samples 13 spectral bands: four bands at 10 m, six bands at 20 m and three bands at 60 m spatial resolution [https://dataspace.copernicus.eu/explore-data/data-collections/sentinel-data/sentinel-2].",
          "end_datetime": "2023-09-09T00:06:29.024Z",
          "eo:cloud_cover": 70.0188511945097,
          "eo:snow_cover": 0,
          "gsd": 0,
          "instruments": [
           "MSI"
          ],
          "license": "proprietary",
          "oseo:accessConstraint": {
           "description": {
            "shortName": "No license"
           },
           "grantedCountries": null,
           "grantedFlags": null,
           "grantedOrganizationCountries": null,
           "hasToBeSigned": "never",
           "licenseId": "unlicensed",
           "signatureQuota": -1,
           "viewService": "public"
          },
          "oseo:sensorType": "OPTICAL",
          "platform": "S2B",
          "processing:level": "S2MSI1C",
          "providers": [
           {
            "description": "DEDL Fresh Data Pool",
            "name": "dedl",
            "priority": 0,
            "roles": [
             "host"
            ],
            "url": "https://hda.data.destination-earth.eu/"
           }
          ],
          "published": "2023-09-09T03:14:27.963Z",
          "sat:absolute_orbit": 33990,
          "sat:relative_orbit": 73,
          "start_datetime": "2023-09-09T00:06:29.024Z",
          "updated": "2023-09-09T07:12:25.643Z"
         },
         "stac_extensions": [
          "https://stac-extensions.github.io/timestamps/v1.0.0/schema.json",
          "https://stac-extensions.github.io/eo/v1.0.0/schema.json",
          "https://stac-extensions.github.io/processing/v1.0.0/schema.json",
          "https://stac-extensions.github.io/sat/v1.0.0/schema.json",
          "https://hda.central.data.destination-earth.eu/stac/extensions/oseo/json-schema/schema.json"
         ],
         "stac_version": "1.0.0",
         "type": "Feature"
        },
        {
         "assets": {
          "downloadLink": {
           "href": "https://hda.central.data.destination-earth.eu/stac/collections/EO.ESA.DAT.SENTINEL-2.MSI.L1C/items/S2B_MSIL1C_20230909T000629_N0509_R073_T56NRF_20230909T010723/download",
           "title": "Download link",
           "type": "application/zip"
          },
          "thumbnail": {
           "href": "https://datahub.creodias.eu/get-object?path=/Sentinel-2/MSI/L1C/2023/09/09/S2B_MSIL1C_20230909T000629_N0509_R073_T56NRF_20230909T010723.SAFE/S2B_MSIL1C_20230909T000629_N0509_R073_T56NRF_20230909T010723-ql.jpg",
           "role": "thumbnail",
           "title": "Thumbnail",
           "type": "image/jpeg"
          }
         },
         "bbox": [
          155.695040841667,
          0.266541650395481,
          156.680490347809,
          0.903903999460832
         ],
         "collection": "EO.ESA.DAT.SENTINEL-2.MSI.L1C",
         "geometry": {
          "coordinates": [
           [
            [
             156.680205,
             0.266542
            ],
            [
             156.68049,
             0.894654
            ],
            [
             156.645618,
             0.903064
            ],
            [
             155.695177,
             0.903904
            ],
            [
             155.695041,
             0.494496
            ],
            [
             155.726767,
             0.487808
            ],
            [
             155.727232,
             0.489907
            ],
            [
             155.727325,
             0.490331
            ],
            [
             155.727331,
             0.49033
            ],
            [
             155.727348,
             0.490407
            ],
            [
             155.727368,
             0.490497
            ],
            [
             155.923707,
             0.447844
            ],
            [
             155.923632,
             0.447505
            ],
            [
             155.923836,
             0.447461
            ],
            [
             155.923722,
             0.446955
            ],
            [
             155.923724,
             0.446954
            ],
            [
             155.923398,
             0.44544
            ],
            [
             156.143932,
             0.395532
            ],
            [
             156.144256,
             0.396991
            ],
            [
             156.144256,
             0.396992
            ],
            [
             156.14439,
             0.397601
            ],
            [
             156.340621,
             0.350937
            ],
            [
             156.340607,
             0.350876
            ],
            [
             156.340889,
             0.350809
            ],
            [
             156.340754,
             0.350209
            ],
            [
             156.34083,
             0.350191
            ],
            [
             156.340752,
             0.349832
            ],
            [
             156.340761,
             0.34983
            ],
            [
             156.340515,
             0.348733
            ],
            [
             156.340425,
             0.348313
            ],
            [
             156.562599,
             0.294449
            ],
            [
             156.562777,
             0.295255
            ],
            [
             156.563093,
             0.296712
            ],
            [
             156.563852,
             0.296516
            ],
            [
             156.563853,
             0.296521
            ],
            [
             156.680205,
             0.266542
            ]
           ]
          ],
          "type": "Polygon"
         },
         "id": "S2B_MSIL1C_20230909T000629_N0509_R073_T56NRF_20230909T010723",
         "links": [
          {
           "href": "https://hda.central.data.destination-earth.eu/stac/collections/EO.ESA.DAT.SENTINEL-2.MSI.L1C/items/S2B_MSIL1C_20230909T000629_N0509_R073_T56NRF_20230909T010723",
           "rel": "self",
           "title": "S2B_MSIL1C_20230909T000629_N0509_R073_T56NRF_20230909T010723"
          },
          {
           "href": "https://hda.central.data.destination-earth.eu/stac/",
           "rel": "root"
          },
          {
           "href": "https://hda.central.data.destination-earth.eu/stac/collections/EO.ESA.DAT.SENTINEL-2.MSI.L1C",
           "rel": "parent",
           "title": "EO.ESA.DAT.SENTINEL-2.MSI.L1C"
          },
          {
           "href": "https://hda.central.data.destination-earth.eu/stac/collections/EO.ESA.DAT.SENTINEL-2.MSI.L1C",
           "rel": "collection",
           "title": "EO.ESA.DAT.SENTINEL-2.MSI.L1C"
          }
         ],
         "properties": {
          "constellation": "SENTINEL-2",
          "datetime": "2023-09-09T00:06:29.024Z",
          "description": "The Copernicus Sentinel-2 mission consists of two polar-orbiting satellites that are positioned in the same sun-synchronous orbit, with a phase difference of 180°. It aims to monitor changes in land surface conditions. The satellites have a wide swath width (290 km) and a high revisit time. Sentinel-2 is equipped with an optical instrument payload that samples 13 spectral bands: four bands at 10 m, six bands at 20 m and three bands at 60 m spatial resolution [https://dataspace.copernicus.eu/explore-data/data-collections/sentinel-data/sentinel-2].",
          "end_datetime": "2023-09-09T00:06:29.024Z",
          "eo:cloud_cover": 81.6059024817253,
          "eo:snow_cover": 0,
          "gsd": 0,
          "instruments": [
           "MSI"
          ],
          "license": "proprietary",
          "oseo:accessConstraint": {
           "description": {
            "shortName": "No license"
           },
           "grantedCountries": null,
           "grantedFlags": null,
           "grantedOrganizationCountries": null,
           "hasToBeSigned": "never",
           "licenseId": "unlicensed",
           "signatureQuota": -1,
           "viewService": "public"
          },
          "oseo:sensorType": "OPTICAL",
          "platform": "S2B",
          "processing:level": "S2MSI1C",
          "providers": [
           {
            "description": "DEDL Fresh Data Pool",
            "name": "dedl",
            "priority": 0,
            "roles": [
             "host"
            ],
            "url": "https://hda.data.destination-earth.eu/"
           }
          ],
          "published": "2023-09-09T03:10:50.946Z",
          "sat:absolute_orbit": 33990,
          "sat:relative_orbit": 73,
          "start_datetime": "2023-09-09T00:06:29.024Z",
          "updated": "2023-09-09T07:09:03.742Z"
         },
         "stac_extensions": [
          "https://stac-extensions.github.io/timestamps/v1.0.0/schema.json",
          "https://stac-extensions.github.io/eo/v1.0.0/schema.json",
          "https://stac-extensions.github.io/processing/v1.0.0/schema.json",
          "https://stac-extensions.github.io/sat/v1.0.0/schema.json",
          "https://hda.central.data.destination-earth.eu/stac/extensions/oseo/json-schema/schema.json"
         ],
         "stac_version": "1.0.0",
         "type": "Feature"
        },
        {
         "assets": {
          "downloadLink": {
           "href": "https://hda.central.data.destination-earth.eu/stac/collections/EO.ESA.DAT.SENTINEL-2.MSI.L1C/items/S2B_MSIL1C_20230909T000629_N0509_R073_T56NQG_20230909T010723/download",
           "title": "Download link",
           "type": "application/zip"
          },
          "thumbnail": {
           "href": "https://datahub.creodias.eu/get-object?path=/Sentinel-2/MSI/L1C/2023/09/09/S2B_MSIL1C_20230909T000629_N0509_R073_T56NQG_20230909T010723.SAFE/S2B_MSIL1C_20230909T000629_N0509_R073_T56NQG_20230909T010723-ql.jpg",
           "role": "thumbnail",
           "title": "Thumbnail",
           "type": "image/jpeg"
          }
         },
         "bbox": [
          154.796874600464,
          0.815459825751684,
          155.783228192527,
          1.28884463902979
         ],
         "collection": "EO.ESA.DAT.SENTINEL-2.MSI.L1C",
         "geometry": {
          "coordinates": [
           [
            [
             154.797212,
             1.288845
            ],
            [
             154.796875,
             0.816025
            ],
            [
             155.782913,
             0.81546
            ],
            [
             155.783228,
             1.100337
            ],
            [
             155.647217,
             1.129098
            ],
            [
             155.647337,
             1.129641
            ],
            [
             155.647234,
             1.129662
            ],
            [
             155.647814,
             1.132298
            ],
            [
             155.423607,
             1.177019
            ],
            [
             155.423302,
             1.175634
            ],
            [
             155.423062,
             1.175681
            ],
            [
             155.423044,
             1.175603
            ],
            [
             155.422975,
             1.175616
            ],
            [
             155.422895,
             1.17525
            ],
            [
             155.42287,
             1.175255
            ],
            [
             155.422785,
             1.17487
            ],
            [
             155.422531,
             1.174919
            ],
            [
             155.422485,
             1.174712
            ],
            [
             155.422462,
             1.174716
            ],
            [
             155.422358,
             1.17424
            ],
            [
             155.422149,
             1.174281
            ],
            [
             155.422128,
             1.174183
            ],
            [
             155.42201,
             1.174206
            ],
            [
             155.421969,
             1.174021
            ],
            [
             155.421838,
             1.174046
            ],
            [
             155.421807,
             1.173905
            ],
            [
             155.219201,
             1.21374
            ],
            [
             155.21923,
             1.213871
            ],
            [
             155.219008,
             1.213914
            ],
            [
             155.219613,
             1.21666
            ],
            [
             154.988973,
             1.258464
            ],
            [
             154.98869,
             1.257176
            ],
            [
             154.988613,
             1.25719
            ],
            [
             154.988559,
             1.256943
            ],
            [
             154.988377,
             1.256975
            ],
            [
             154.988312,
             1.25668
            ],
            [
             154.988159,
             1.256707
            ],
            [
             154.988075,
             1.256325
            ],
            [
             154.987953,
             1.256347
            ],
            [
             154.987851,
             1.255883
            ],
            [
             154.987415,
             1.255961
            ],
            [
             154.987363,
             1.255723
            ],
            [
             154.987276,
             1.255739
            ],
            [
             154.987229,
             1.255526
            ],
            [
             154.986883,
             1.255589
            ],
            [
             154.9868,
             1.255213
            ],
            [
             154.986564,
             1.255256
            ],
            [
             154.986513,
             1.255025
            ],
            [
             154.986278,
             1.255068
            ],
            [
             154.986212,
             1.254766
            ],
            [
             154.985933,
             1.254817
            ],
            [
             154.985861,
             1.254492
            ],
            [
             154.797212,
             1.288845
            ]
           ]
          ],
          "type": "Polygon"
         },
         "id": "S2B_MSIL1C_20230909T000629_N0509_R073_T56NQG_20230909T010723",
         "links": [
          {
           "href": "https://hda.central.data.destination-earth.eu/stac/collections/EO.ESA.DAT.SENTINEL-2.MSI.L1C/items/S2B_MSIL1C_20230909T000629_N0509_R073_T56NQG_20230909T010723",
           "rel": "self",
           "title": "S2B_MSIL1C_20230909T000629_N0509_R073_T56NQG_20230909T010723"
          },
          {
           "href": "https://hda.central.data.destination-earth.eu/stac/",
           "rel": "root"
          },
          {
           "href": "https://hda.central.data.destination-earth.eu/stac/collections/EO.ESA.DAT.SENTINEL-2.MSI.L1C",
           "rel": "parent",
           "title": "EO.ESA.DAT.SENTINEL-2.MSI.L1C"
          },
          {
           "href": "https://hda.central.data.destination-earth.eu/stac/collections/EO.ESA.DAT.SENTINEL-2.MSI.L1C",
           "rel": "collection",
           "title": "EO.ESA.DAT.SENTINEL-2.MSI.L1C"
          }
         ],
         "properties": {
          "constellation": "SENTINEL-2",
          "datetime": "2023-09-09T00:06:29.024Z",
          "description": "The Copernicus Sentinel-2 mission consists of two polar-orbiting satellites that are positioned in the same sun-synchronous orbit, with a phase difference of 180°. It aims to monitor changes in land surface conditions. The satellites have a wide swath width (290 km) and a high revisit time. Sentinel-2 is equipped with an optical instrument payload that samples 13 spectral bands: four bands at 10 m, six bands at 20 m and three bands at 60 m spatial resolution [https://dataspace.copernicus.eu/explore-data/data-collections/sentinel-data/sentinel-2].",
          "end_datetime": "2023-09-09T00:06:29.024Z",
          "eo:cloud_cover": 76.3979764536718,
          "eo:snow_cover": 0,
          "gsd": 0,
          "instruments": [
           "MSI"
          ],
          "license": "proprietary",
          "oseo:accessConstraint": {
           "description": {
            "shortName": "No license"
           },
           "grantedCountries": null,
           "grantedFlags": null,
           "grantedOrganizationCountries": null,
           "hasToBeSigned": "never",
           "licenseId": "unlicensed",
           "signatureQuota": -1,
           "viewService": "public"
          },
          "oseo:sensorType": "OPTICAL",
          "platform": "S2B",
          "processing:level": "S2MSI1C",
          "providers": [
           {
            "description": "DEDL Fresh Data Pool",
            "name": "dedl",
            "priority": 0,
            "roles": [
             "host"
            ],
            "url": "https://hda.data.destination-earth.eu/"
           }
          ],
          "published": "2023-09-09T03:22:29.867Z",
          "sat:absolute_orbit": 33990,
          "sat:relative_orbit": 73,
          "start_datetime": "2023-09-09T00:06:29.024Z",
          "updated": "2023-09-09T07:21:41.032Z"
         },
         "stac_extensions": [
          "https://stac-extensions.github.io/timestamps/v1.0.0/schema.json",
          "https://stac-extensions.github.io/eo/v1.0.0/schema.json",
          "https://stac-extensions.github.io/processing/v1.0.0/schema.json",
          "https://stac-extensions.github.io/sat/v1.0.0/schema.json",
          "https://hda.central.data.destination-earth.eu/stac/extensions/oseo/json-schema/schema.json"
         ],
         "stac_version": "1.0.0",
         "type": "Feature"
        },
        {
         "assets": {
          "downloadLink": {
           "href": "https://hda.central.data.destination-earth.eu/stac/collections/EO.ESA.DAT.SENTINEL-2.MSI.L1C/items/S2B_MSIL1C_20230909T000629_N0509_R073_T56NPF_20230909T010723/download",
           "title": "Download link",
           "type": "application/zip"
          },
          "thumbnail": {
           "href": "https://datahub.creodias.eu/get-object?path=/Sentinel-2/MSI/L1C/2023/09/09/S2B_MSIL1C_20230909T000629_N0509_R073_T56NPF_20230909T010723.SAFE/S2B_MSIL1C_20230909T000629_N0509_R073_T56NPF_20230909T010723-ql.jpg",
           "role": "thumbnail",
           "title": "Thumbnail",
           "type": "image/jpeg"
          }
         },
         "bbox": [
          154.635886948961,
          0.655941130756402,
          154.8853105497,
          0.904497325921672
         ],
         "collection": "EO.ESA.DAT.SENTINEL-2.MSI.L1C",
         "geometry": {
          "coordinates": [
           [
            [
             154.885253,
             0.65652
            ],
            [
             154.885311,
             0.904418
            ],
            [
             154.681194,
             0.904497
            ],
            [
             154.669141,
             0.849632
            ],
            [
             154.636511,
             0.700922
            ],
            [
             154.635887,
             0.69814
            ],
            [
             154.871827,
             0.655941
            ],
            [
             154.871889,
             0.656228
            ],
            [
             154.872007,
             0.656207
            ],
            [
             154.872229,
             0.657213
            ],
            [
             154.872475,
             0.658335
            ],
            [
             154.872528,
             0.658325
            ],
            [
             154.872621,
             0.658748
            ],
            [
             154.885253,
             0.65652
            ]
           ]
          ],
          "type": "Polygon"
         },
         "id": "S2B_MSIL1C_20230909T000629_N0509_R073_T56NPF_20230909T010723",
         "links": [
          {
           "href": "https://hda.central.data.destination-earth.eu/stac/collections/EO.ESA.DAT.SENTINEL-2.MSI.L1C/items/S2B_MSIL1C_20230909T000629_N0509_R073_T56NPF_20230909T010723",
           "rel": "self",
           "title": "S2B_MSIL1C_20230909T000629_N0509_R073_T56NPF_20230909T010723"
          },
          {
           "href": "https://hda.central.data.destination-earth.eu/stac/",
           "rel": "root"
          },
          {
           "href": "https://hda.central.data.destination-earth.eu/stac/collections/EO.ESA.DAT.SENTINEL-2.MSI.L1C",
           "rel": "parent",
           "title": "EO.ESA.DAT.SENTINEL-2.MSI.L1C"
          },
          {
           "href": "https://hda.central.data.destination-earth.eu/stac/collections/EO.ESA.DAT.SENTINEL-2.MSI.L1C",
           "rel": "collection",
           "title": "EO.ESA.DAT.SENTINEL-2.MSI.L1C"
          }
         ],
         "properties": {
          "constellation": "SENTINEL-2",
          "datetime": "2023-09-09T00:06:29.024Z",
          "description": "The Copernicus Sentinel-2 mission consists of two polar-orbiting satellites that are positioned in the same sun-synchronous orbit, with a phase difference of 180°. It aims to monitor changes in land surface conditions. The satellites have a wide swath width (290 km) and a high revisit time. Sentinel-2 is equipped with an optical instrument payload that samples 13 spectral bands: four bands at 10 m, six bands at 20 m and three bands at 60 m spatial resolution [https://dataspace.copernicus.eu/explore-data/data-collections/sentinel-data/sentinel-2].",
          "end_datetime": "2023-09-09T00:06:29.024Z",
          "eo:cloud_cover": 96.2921241795439,
          "eo:snow_cover": 0,
          "gsd": 0,
          "instruments": [
           "MSI"
          ],
          "license": "proprietary",
          "oseo:accessConstraint": {
           "description": {
            "shortName": "No license"
           },
           "grantedCountries": null,
           "grantedFlags": null,
           "grantedOrganizationCountries": null,
           "hasToBeSigned": "never",
           "licenseId": "unlicensed",
           "signatureQuota": -1,
           "viewService": "public"
          },
          "oseo:sensorType": "OPTICAL",
          "platform": "S2B",
          "processing:level": "S2MSI1C",
          "providers": [
           {
            "description": "DEDL Fresh Data Pool",
            "name": "dedl",
            "priority": 0,
            "roles": [
             "host"
            ],
            "url": "https://hda.data.destination-earth.eu/"
           }
          ],
          "published": "2023-09-09T02:47:37.443Z",
          "sat:absolute_orbit": 33990,
          "sat:relative_orbit": 73,
          "start_datetime": "2023-09-09T00:06:29.024Z",
          "updated": "2023-09-09T06:42:39.612Z"
         },
         "stac_extensions": [
          "https://stac-extensions.github.io/timestamps/v1.0.0/schema.json",
          "https://stac-extensions.github.io/eo/v1.0.0/schema.json",
          "https://stac-extensions.github.io/processing/v1.0.0/schema.json",
          "https://stac-extensions.github.io/sat/v1.0.0/schema.json",
          "https://hda.central.data.destination-earth.eu/stac/extensions/oseo/json-schema/schema.json"
         ],
         "stac_version": "1.0.0",
         "type": "Feature"
        },
        {
         "assets": {
          "downloadLink": {
           "href": "https://hda.central.data.destination-earth.eu/stac/collections/EO.ESA.DAT.SENTINEL-2.MSI.L1C/items/S2B_MSIL1C_20230909T000629_N0509_R073_T57NTB_20230909T010723/download",
           "title": "Download link",
           "type": "application/zip"
          },
          "thumbnail": {
           "href": "https://datahub.creodias.eu/get-object?path=/Sentinel-2/MSI/L1C/2023/09/09/S2B_MSIL1C_20230909T000629_N0509_R073_T57NTB_20230909T010723.SAFE/S2B_MSIL1C_20230909T000629_N0509_R073_T57NTB_20230909T010723-ql.jpg",
           "role": "thumbnail",
           "title": "Thumbnail",
           "type": "image/jpeg"
          }
         },
         "bbox": [
          156.304340988409,
          0.815519763032791,
          156.985665672854,
          0.988104347903479
         ],
         "collection": "EO.ESA.DAT.SENTINEL-2.MSI.L1C",
         "geometry": {
          "coordinates": [
           [
            [
             156.304341,
             0.988104
            ],
            [
             156.304526,
             0.81552
            ],
            [
             156.985666,
             0.815895
            ],
            [
             156.909012,
             0.835544
            ],
            [
             156.909187,
             0.836339
            ],
            [
             156.909145,
             0.836349
            ],
            [
             156.909214,
             0.836661
            ],
            [
             156.909038,
             0.836707
            ],
            [
             156.909065,
             0.836831
            ],
            [
             156.908952,
             0.836861
            ],
            [
             156.909037,
             0.837242
            ],
            [
             156.908744,
             0.837318
            ],
            [
             156.908837,
             0.837739
            ],
            [
             156.908671,
             0.837782
            ],
            [
             156.908717,
             0.83799
            ],
            [
             156.908556,
             0.838032
            ],
            [
             156.908557,
             0.838038
            ],
            [
             156.908555,
             0.838038
            ],
            [
             156.90876,
             0.838967
            ],
            [
             156.872684,
             0.848269
            ],
            [
             156.853413,
             0.85323
            ],
            [
             156.791787,
             0.869001
            ],
            [
             156.68447,
             0.896382
            ],
            [
             156.683922,
             0.893896
            ],
            [
             156.683766,
             0.893934
            ],
            [
             156.683751,
             0.893867
            ],
            [
             156.485403,
             0.941702
            ],
            [
             156.485736,
             0.943211
            ],
            [
             156.485693,
             0.943221
            ],
            [
             156.485787,
             0.943646
            ],
            [
             156.485689,
             0.94367
            ],
            [
             156.485695,
             0.943698
            ],
            [
             156.485537,
             0.943736
            ],
            [
             156.485838,
             0.945101
            ],
            [
             156.311858,
             0.986329
            ],
            [
             156.304341,
             0.988104
            ]
           ]
          ],
          "type": "Polygon"
         },
         "id": "S2B_MSIL1C_20230909T000629_N0509_R073_T57NTB_20230909T010723",
         "links": [
          {
           "href": "https://hda.central.data.destination-earth.eu/stac/collections/EO.ESA.DAT.SENTINEL-2.MSI.L1C/items/S2B_MSIL1C_20230909T000629_N0509_R073_T57NTB_20230909T010723",
           "rel": "self",
           "title": "S2B_MSIL1C_20230909T000629_N0509_R073_T57NTB_20230909T010723"
          },
          {
           "href": "https://hda.central.data.destination-earth.eu/stac/",
           "rel": "root"
          },
          {
           "href": "https://hda.central.data.destination-earth.eu/stac/collections/EO.ESA.DAT.SENTINEL-2.MSI.L1C",
           "rel": "parent",
           "title": "EO.ESA.DAT.SENTINEL-2.MSI.L1C"
          },
          {
           "href": "https://hda.central.data.destination-earth.eu/stac/collections/EO.ESA.DAT.SENTINEL-2.MSI.L1C",
           "rel": "collection",
           "title": "EO.ESA.DAT.SENTINEL-2.MSI.L1C"
          }
         ],
         "properties": {
          "constellation": "SENTINEL-2",
          "datetime": "2023-09-09T00:06:29.024Z",
          "description": "The Copernicus Sentinel-2 mission consists of two polar-orbiting satellites that are positioned in the same sun-synchronous orbit, with a phase difference of 180°. It aims to monitor changes in land surface conditions. The satellites have a wide swath width (290 km) and a high revisit time. Sentinel-2 is equipped with an optical instrument payload that samples 13 spectral bands: four bands at 10 m, six bands at 20 m and three bands at 60 m spatial resolution [https://dataspace.copernicus.eu/explore-data/data-collections/sentinel-data/sentinel-2].",
          "end_datetime": "2023-09-09T00:06:29.024Z",
          "eo:cloud_cover": 70.9071642166588,
          "eo:snow_cover": 0,
          "gsd": 0,
          "instruments": [
           "MSI"
          ],
          "license": "proprietary",
          "oseo:accessConstraint": {
           "description": {
            "shortName": "No license"
           },
           "grantedCountries": null,
           "grantedFlags": null,
           "grantedOrganizationCountries": null,
           "hasToBeSigned": "never",
           "licenseId": "unlicensed",
           "signatureQuota": -1,
           "viewService": "public"
          },
          "oseo:sensorType": "OPTICAL",
          "platform": "S2B",
          "processing:level": "S2MSI1C",
          "providers": [
           {
            "description": "DEDL Fresh Data Pool",
            "name": "dedl",
            "priority": 0,
            "roles": [
             "host"
            ],
            "url": "https://hda.data.destination-earth.eu/"
           }
          ],
          "published": "2023-09-09T03:18:23.266Z",
          "sat:absolute_orbit": 33990,
          "sat:relative_orbit": 73,
          "start_datetime": "2023-09-09T00:06:29.024Z",
          "updated": "2023-09-09T07:16:23.584Z"
         },
         "stac_extensions": [
          "https://stac-extensions.github.io/timestamps/v1.0.0/schema.json",
          "https://stac-extensions.github.io/eo/v1.0.0/schema.json",
          "https://stac-extensions.github.io/processing/v1.0.0/schema.json",
          "https://stac-extensions.github.io/sat/v1.0.0/schema.json",
          "https://hda.central.data.destination-earth.eu/stac/extensions/oseo/json-schema/schema.json"
         ],
         "stac_version": "1.0.0",
         "type": "Feature"
        },
        {
         "assets": {
          "downloadLink": {
           "href": "https://hda.central.data.destination-earth.eu/stac/collections/EO.ESA.DAT.SENTINEL-2.MSI.L1C/items/S2B_MSIL1C_20230909T000629_N0509_R073_T57NUA_20230909T010723/download",
           "title": "Download link",
           "type": "application/zip"
          },
          "thumbnail": {
           "href": "https://datahub.creodias.eu/get-object?path=/Sentinel-2/MSI/L1C/2023/09/09/S2B_MSIL1C_20230909T000629_N0509_R073_T57NUA_20230909T010723.SAFE/S2B_MSIL1C_20230909T000629_N0509_R073_T57NUA_20230909T010723-ql.jpg",
           "role": "thumbnail",
           "title": "Thumbnail",
           "type": "image/jpeg"
          }
         },
         "bbox": [
          157.20275659455,
          0.124321446652472,
          157.343759659154,
          0.76068307792662
         ],
         "collection": "EO.ESA.DAT.SENTINEL-2.MSI.L1C",
         "geometry": {
          "coordinates": [
           [
            [
             157.202757,
             0.760683
            ],
            [
             157.202897,
             0.126928
            ],
            [
             157.212246,
             0.124321
            ],
            [
             157.212983,
             0.127669
            ],
            [
             157.22929,
             0.201745
            ],
            [
             157.245807,
             0.276912
            ],
            [
             157.278479,
             0.425438
            ],
            [
             157.311188,
             0.573928
            ],
            [
             157.34376,
             0.721717
            ],
            [
             157.334202,
             0.7244
            ],
            [
             157.202757,
             0.760683
            ]
           ]
          ],
          "type": "Polygon"
         },
         "id": "S2B_MSIL1C_20230909T000629_N0509_R073_T57NUA_20230909T010723",
         "links": [
          {
           "href": "https://hda.central.data.destination-earth.eu/stac/collections/EO.ESA.DAT.SENTINEL-2.MSI.L1C/items/S2B_MSIL1C_20230909T000629_N0509_R073_T57NUA_20230909T010723",
           "rel": "self",
           "title": "S2B_MSIL1C_20230909T000629_N0509_R073_T57NUA_20230909T010723"
          },
          {
           "href": "https://hda.central.data.destination-earth.eu/stac/",
           "rel": "root"
          },
          {
           "href": "https://hda.central.data.destination-earth.eu/stac/collections/EO.ESA.DAT.SENTINEL-2.MSI.L1C",
           "rel": "parent",
           "title": "EO.ESA.DAT.SENTINEL-2.MSI.L1C"
          },
          {
           "href": "https://hda.central.data.destination-earth.eu/stac/collections/EO.ESA.DAT.SENTINEL-2.MSI.L1C",
           "rel": "collection",
           "title": "EO.ESA.DAT.SENTINEL-2.MSI.L1C"
          }
         ],
         "properties": {
          "constellation": "SENTINEL-2",
          "datetime": "2023-09-09T00:06:29.024Z",
          "description": "The Copernicus Sentinel-2 mission consists of two polar-orbiting satellites that are positioned in the same sun-synchronous orbit, with a phase difference of 180°. It aims to monitor changes in land surface conditions. The satellites have a wide swath width (290 km) and a high revisit time. Sentinel-2 is equipped with an optical instrument payload that samples 13 spectral bands: four bands at 10 m, six bands at 20 m and three bands at 60 m spatial resolution [https://dataspace.copernicus.eu/explore-data/data-collections/sentinel-data/sentinel-2].",
          "end_datetime": "2023-09-09T00:06:29.024Z",
          "eo:cloud_cover": 96.75744222172911,
          "eo:snow_cover": 0,
          "gsd": 0,
          "instruments": [
           "MSI"
          ],
          "license": "proprietary",
          "oseo:accessConstraint": {
           "description": {
            "shortName": "No license"
           },
           "grantedCountries": null,
           "grantedFlags": null,
           "grantedOrganizationCountries": null,
           "hasToBeSigned": "never",
           "licenseId": "unlicensed",
           "signatureQuota": -1,
           "viewService": "public"
          },
          "oseo:sensorType": "OPTICAL",
          "platform": "S2B",
          "processing:level": "S2MSI1C",
          "providers": [
           {
            "description": "DEDL Fresh Data Pool",
            "name": "dedl",
            "priority": 0,
            "roles": [
             "host"
            ],
            "url": "https://hda.data.destination-earth.eu/"
           }
          ],
          "published": "2023-09-09T03:21:00.783Z",
          "sat:absolute_orbit": 33990,
          "sat:relative_orbit": 73,
          "start_datetime": "2023-09-09T00:06:29.024Z",
          "updated": "2023-09-09T07:20:19.824Z"
         },
         "stac_extensions": [
          "https://stac-extensions.github.io/timestamps/v1.0.0/schema.json",
          "https://stac-extensions.github.io/eo/v1.0.0/schema.json",
          "https://stac-extensions.github.io/processing/v1.0.0/schema.json",
          "https://stac-extensions.github.io/sat/v1.0.0/schema.json",
          "https://hda.central.data.destination-earth.eu/stac/extensions/oseo/json-schema/schema.json"
         ],
         "stac_version": "1.0.0",
         "type": "Feature"
        },
        {
         "assets": {
          "downloadLink": {
           "href": "https://hda.central.data.destination-earth.eu/stac/collections/EO.ESA.DAT.SENTINEL-2.MSI.L1C/items/S2B_MSIL1C_20230909T000629_N0509_R073_T56NRG_20230909T010723/download",
           "title": "Download link",
           "type": "application/zip"
          },
          "thumbnail": {
           "href": "https://datahub.creodias.eu/get-object?path=/Sentinel-2/MSI/L1C/2023/09/09/S2B_MSIL1C_20230909T000629_N0509_R073_T56NRG_20230909T010723.SAFE/S2B_MSIL1C_20230909T000629_N0509_R073_T56NRG_20230909T010723-ql.jpg",
           "role": "thumbnail",
           "title": "Thumbnail",
           "type": "image/jpeg"
          }
         },
         "bbox": [
          155.695115065153,
          0.814734121266998,
          156.680526396432,
          1.1189008003071
         ],
         "collection": "EO.ESA.DAT.SENTINEL-2.MSI.L1C",
         "geometry": {
          "coordinates": [
           [
            [
             155.69544,
             1.118901
            ],
            [
             155.695115,
             0.81552
            ],
            [
             156.68041,
             0.814734
            ],
            [
             156.680526,
             0.894645
            ],
            [
             156.485403,
             0.941702
            ],
            [
             156.485736,
             0.943211
            ],
            [
             156.485693,
             0.943221
            ],
            [
             156.485787,
             0.943646
            ],
            [
             156.485689,
             0.94367
            ],
            [
             156.485695,
             0.943698
            ],
            [
             156.485537,
             0.943736
            ],
            [
             156.485838,
             0.945101
            ],
            [
             156.311858,
             0.986329
            ],
            [
             156.26452,
             0.997511
            ],
            [
             156.263997,
             0.995135
            ],
            [
             156.26382,
             0.995175
            ],
            [
             156.263606,
             0.994204
            ],
            [
             156.067011,
             1.038683
            ],
            [
             156.067785,
             1.0422
            ],
            [
             155.84643,
             1.090383
            ],
            [
             155.846145,
             1.08909
            ],
            [
             155.846045,
             1.089111
            ],
            [
             155.845886,
             1.088393
            ],
            [
             155.845835,
             1.088404
            ],
            [
             155.845672,
             1.087664
            ],
            [
             155.845381,
             1.087726
            ],
            [
             155.845372,
             1.087683
            ],
            [
             155.845344,
             1.087689
            ],
            [
             155.845283,
             1.087414
            ],
            [
             155.845245,
             1.087422
            ],
            [
             155.845203,
             1.087231
            ],
            [
             155.69544,
             1.118901
            ]
           ]
          ],
          "type": "Polygon"
         },
         "id": "S2B_MSIL1C_20230909T000629_N0509_R073_T56NRG_20230909T010723",
         "links": [
          {
           "href": "https://hda.central.data.destination-earth.eu/stac/collections/EO.ESA.DAT.SENTINEL-2.MSI.L1C/items/S2B_MSIL1C_20230909T000629_N0509_R073_T56NRG_20230909T010723",
           "rel": "self",
           "title": "S2B_MSIL1C_20230909T000629_N0509_R073_T56NRG_20230909T010723"
          },
          {
           "href": "https://hda.central.data.destination-earth.eu/stac/",
           "rel": "root"
          },
          {
           "href": "https://hda.central.data.destination-earth.eu/stac/collections/EO.ESA.DAT.SENTINEL-2.MSI.L1C",
           "rel": "parent",
           "title": "EO.ESA.DAT.SENTINEL-2.MSI.L1C"
          },
          {
           "href": "https://hda.central.data.destination-earth.eu/stac/collections/EO.ESA.DAT.SENTINEL-2.MSI.L1C",
           "rel": "collection",
           "title": "EO.ESA.DAT.SENTINEL-2.MSI.L1C"
          }
         ],
         "properties": {
          "constellation": "SENTINEL-2",
          "datetime": "2023-09-09T00:06:29.024Z",
          "description": "The Copernicus Sentinel-2 mission consists of two polar-orbiting satellites that are positioned in the same sun-synchronous orbit, with a phase difference of 180°. It aims to monitor changes in land surface conditions. The satellites have a wide swath width (290 km) and a high revisit time. Sentinel-2 is equipped with an optical instrument payload that samples 13 spectral bands: four bands at 10 m, six bands at 20 m and three bands at 60 m spatial resolution [https://dataspace.copernicus.eu/explore-data/data-collections/sentinel-data/sentinel-2].",
          "end_datetime": "2023-09-09T00:06:29.024Z",
          "eo:cloud_cover": 62.203536104321,
          "eo:snow_cover": 0,
          "gsd": 0,
          "instruments": [
           "MSI"
          ],
          "license": "proprietary",
          "oseo:accessConstraint": {
           "description": {
            "shortName": "No license"
           },
           "grantedCountries": null,
           "grantedFlags": null,
           "grantedOrganizationCountries": null,
           "hasToBeSigned": "never",
           "licenseId": "unlicensed",
           "signatureQuota": -1,
           "viewService": "public"
          },
          "oseo:sensorType": "OPTICAL",
          "platform": "S2B",
          "processing:level": "S2MSI1C",
          "providers": [
           {
            "description": "DEDL Fresh Data Pool",
            "name": "dedl",
            "priority": 0,
            "roles": [
             "host"
            ],
            "url": "https://hda.data.destination-earth.eu/"
           }
          ],
          "published": "2023-09-09T03:17:00.111Z",
          "sat:absolute_orbit": 33990,
          "sat:relative_orbit": 73,
          "start_datetime": "2023-09-09T00:06:29.024Z",
          "updated": "2023-09-09T07:14:42.100Z"
         },
         "stac_extensions": [
          "https://stac-extensions.github.io/timestamps/v1.0.0/schema.json",
          "https://stac-extensions.github.io/eo/v1.0.0/schema.json",
          "https://stac-extensions.github.io/processing/v1.0.0/schema.json",
          "https://stac-extensions.github.io/sat/v1.0.0/schema.json",
          "https://hda.central.data.destination-earth.eu/stac/extensions/oseo/json-schema/schema.json"
         ],
         "stac_version": "1.0.0",
         "type": "Feature"
        }
       ],
       "links": [
        {
         "href": "https://hda.central.data.destination-earth.eu/stac/collections/EO.ESA.DAT.SENTINEL-2.MSI.L1C/items",
         "rel": "self",
         "title": "items"
        },
        {
         "href": "https://hda.central.data.destination-earth.eu/stac/",
         "rel": "root"
        },
        {
         "href": "https://hda.central.data.destination-earth.eu/stac/collections/EO.ESA.DAT.SENTINEL-2.MSI.L1C",
         "rel": "parent",
         "title": "EO.ESA.DAT.SENTINEL-2.MSI.L1C"
        },
        {
         "href": "https://hda.central.data.destination-earth.eu/stac/collections/EO.ESA.DAT.SENTINEL-2.MSI.L1C/items?datetime=2023-09-09T00%3A00%3A00Z%2F2023-09-20T23%3A59%3A59Z&page=2",
         "method": "GET",
         "rel": "next",
         "title": "Next page",
         "type": "application/geo+json"
        }
       ],
       "numberMatched": 153346,
       "numberReturned": 20,
       "stac_extensions": [],
       "stac_version": "1.0.0",
       "timeStamp": "2024-01-11T14:29:06.448509Z",
       "type": "FeatureCollection"
      },
      "text/plain": [
       "<IPython.core.display.JSON object>"
      ]
     },
     "execution_count": 10,
     "metadata": {
      "application/json": {
       "expanded": false,
       "root": "root"
      }
     },
     "output_type": "execute_result"
    }
   ],
   "source": [
    "DATETIME = \"?datetime=2023-09-09T00:00:00Z/2023-09-20T23:59:59Z\"\n",
    "print(COLLECTION_ITEMS_URL+DATETIME)\n",
    "display_as_json(requests.get(COLLECTION_ITEMS_URL+DATETIME, headers={'Authorization': 'Bearer {}'.format(access_token)}))"
   ]
  },
  {
   "cell_type": "markdown",
   "id": "67b83ef3",
   "metadata": {
    "tags": []
   },
   "source": [
    "### Item ID\n",
    "To get the metadata specific to a given item (identified by its `itemID` in a collection, the user can request the `/stac/collections/{collectionID}/items/{itemID}`endpoint."
   ]
  },
  {
   "cell_type": "code",
   "execution_count": 11,
   "id": "6cc10db0",
   "metadata": {
    "tags": []
   },
   "outputs": [
    {
     "name": "stdout",
     "output_type": "stream",
     "text": [
      "https://hda.central.data.destination-earth.eu/stac/collections/EO.ESA.DAT.SENTINEL-2.MSI.L1C/items/S2A_MSIL1C_20230910T050701_N0509_R019_T47VLH_20230910T074321.SAFE\n"
     ]
    },
    {
     "data": {
      "application/json": {
       "assets": {
        "downloadLink": {
         "_dc_qs": null,
         "href": "https://hda.central.data.destination-earth.eu/stac/collections/EO.ESA.DAT.SENTINEL-2.MSI.L1C/items/S2A_MSIL1C_20230910T050701_N0509_R019_T47VLH_20230910T074321/download",
         "title": "Download link",
         "type": "application/zip"
        },
        "origin_assets": {},
        "thumbnail": {
         "href": "https://datahub.creodias.eu/get-object?path=/Sentinel-2/MSI/L1C/2023/09/10/S2A_MSIL1C_20230910T050701_N0509_R019_T47VLH_20230910T074321.SAFE/S2A_MSIL1C_20230910T050701_N0509_R019_T47VLH_20230910T074321-ql.jpg",
         "role": "thumbnail",
         "title": "Thumbnail",
         "type": "image/jpeg"
        }
       },
       "bbox": [
        95.2674979761547,
        60.2993491048769,
        97.3660277044137,
        61.3239944405957
       ],
       "collection": "EO.ESA.DAT.SENTINEL-2.MSI.L1C",
       "geometry": {
        "coordinates": [
         [
          [
           95.267498,
           61.283126
          ],
          [
           95.380372,
           60.299349
          ],
          [
           97.366028,
           60.338609
          ],
          [
           97.314961,
           61.323994
          ],
          [
           95.267498,
           61.283126
          ]
         ]
        ],
        "type": "Polygon"
       },
       "id": "S2A_MSIL1C_20230910T050701_N0509_R019_T47VLH_20230910T074321",
       "links": [
        {
         "href": "https://hda.central.data.destination-earth.eu/stac/collections/EO.ESA.DAT.SENTINEL-2.MSI.L1C/items/S2A_MSIL1C_20230910T050701_N0509_R019_T47VLH_20230910T074321",
         "rel": "self",
         "title": "S2A_MSIL1C_20230910T050701_N0509_R019_T47VLH_20230910T074321"
        },
        {
         "href": "https://hda.central.data.destination-earth.eu/stac/",
         "rel": "root"
        },
        {
         "href": "https://hda.central.data.destination-earth.eu/stac/collections/EO.ESA.DAT.SENTINEL-2.MSI.L1C",
         "rel": "parent",
         "title": "EO.ESA.DAT.SENTINEL-2.MSI.L1C"
        },
        {
         "href": "https://hda.central.data.destination-earth.eu/stac/collections/EO.ESA.DAT.SENTINEL-2.MSI.L1C",
         "rel": "collection",
         "title": "EO.ESA.DAT.SENTINEL-2.MSI.L1C"
        }
       ],
       "properties": {
        "constellation": "SENTINEL-2",
        "datetime": "2023-09-10T05:07:01.024Z",
        "description": "The Copernicus Sentinel-2 mission consists of two polar-orbiting satellites that are positioned in the same sun-synchronous orbit, with a phase difference of 180°. It aims to monitor changes in land surface conditions. The satellites have a wide swath width (290 km) and a high revisit time. Sentinel-2 is equipped with an optical instrument payload that samples 13 spectral bands: four bands at 10 m, six bands at 20 m and three bands at 60 m spatial resolution [https://dataspace.copernicus.eu/explore-data/data-collections/sentinel-data/sentinel-2].",
        "end_datetime": "2023-09-10T05:07:01.024Z",
        "eo:cloud_cover": 81.2963361103646,
        "eo:snow_cover": 0,
        "gsd": 0,
        "instruments": [
         "MSI"
        ],
        "license": "proprietary",
        "oseo:accessConstraint": {
         "description": {
          "shortName": "No license"
         },
         "grantedCountries": null,
         "grantedFlags": null,
         "grantedOrganizationCountries": null,
         "hasToBeSigned": "never",
         "licenseId": "unlicensed",
         "signatureQuota": -1,
         "viewService": "public"
        },
        "oseo:sensorType": "ATMOSPHERIC",
        "platform": "S2A",
        "processing:level": "S2MSI1C",
        "providers": {
         "description": "DEDL Fresh Data Pool",
         "name": "dedl",
         "priority": 0,
         "roles": [
          "host"
         ],
         "url": "https://hda.data.destination-earth.eu/"
        },
        "published": "2023-09-10T11:56:58.923Z",
        "sat:absolute_orbit": 42916,
        "sat:relative_orbit": 19,
        "start_datetime": "2023-09-10T05:07:01.024Z",
        "updated": "2023-09-10T11:57:15.412Z"
       },
       "stac_extensions": [
        "https://stac-extensions.github.io/timestamps/v1.0.0/schema.json",
        "https://stac-extensions.github.io/eo/v1.0.0/schema.json",
        "https://stac-extensions.github.io/processing/v1.0.0/schema.json",
        "https://stac-extensions.github.io/sat/v1.0.0/schema.json",
        "https://hda.central.data.destination-earth.eu/stac/extensions/oseo/json-schema/schema.json"
       ],
       "stac_version": "1.0.0",
       "type": "Feature"
      },
      "text/plain": [
       "<IPython.core.display.JSON object>"
      ]
     },
     "execution_count": 11,
     "metadata": {
      "application/json": {
       "expanded": false,
       "root": "root"
      }
     },
     "output_type": "execute_result"
    }
   ],
   "source": [
    "print(COLLECTION_ITEM_BY_ID_URL)\n",
    "display_as_json(requests.get(COLLECTION_ITEM_BY_ID_URL, headers={'Authorization': 'Bearer {}'.format(access_token)}))"
   ]
  },
  {
   "cell_type": "markdown",
   "id": "3edae5f1",
   "metadata": {},
   "source": [
    "### Item search\n",
    "The STAC API also provides an item `/stac/search` endpoint, which is intended as a shorthand API for simple queries.\n",
    "This endpoint allows users to efficiently search for items that match the specified input filters.\n",
    "\n",
    "By default, the `/stac/search` endpoint will return the first 100 items found in all the collections available at the `/stac/collections` endpoint.\n",
    "Filters can be added either via query parameters in a **GET** request or added to the JSON body of a **POST** request."
   ]
  },
  {
   "cell_type": "markdown",
   "id": "27277f7d",
   "metadata": {},
   "source": [
    "The user can also enhance the request by adding filters. The full detail for each available filter is available in the [API documentation](https://hda.data.destination-earth.eu/docs/).\n",
    "\n",
    "The query parameters are added at the end of the URL as a *query string*: `?param1=val1&param2=val2&param3=val3`"
   ]
  },
  {
   "cell_type": "code",
   "execution_count": 12,
   "id": "75072ba6",
   "metadata": {
    "tags": []
   },
   "outputs": [
    {
     "name": "stdout",
     "output_type": "stream",
     "text": [
      "https://hda.central.data.destination-earth.eu/stac/search?collections=EO.ESA.DAT.SENTINEL-1.L1_GRD&datetime=2023-09-09T00:00:00Z/2023-09-20T00:00:00Z\n"
     ]
    },
    {
     "data": {
      "application/json": {
       "features": [
        {
         "assets": {
          "downloadLink": {
           "href": "https://hda.central.data.destination-earth.eu/stac/collections/EO.ESA.DAT.SENTINEL-1.L1_GRD/items/S1A_IW_GRDH_1SDV_20230909T000839_20230909T000908_050243_060C47_A4AB/download",
           "title": "Download link",
           "type": "application/zip"
          },
          "thumbnail": {
           "href": "https://datahub.creodias.eu/get-object?path=/Sentinel-1/SAR/IW_GRDH_1S/2023/09/09/S1A_IW_GRDH_1SDV_20230909T000839_20230909T000908_050243_060C47_A4AB.SAFE/preview/thumbnail.png",
           "role": "thumbnail",
           "title": "Thumbnail",
           "type": "image/jpeg"
          }
         },
         "bbox": [
          87.281273,
          37.633869,
          90.64225,
          39.767159
         ],
         "collection": "EO.ESA.DAT.SENTINEL-1.L1_GRD",
         "geometry": {
          "coordinates": [
           [
            [
             90.144157,
             37.633869
            ],
            [
             90.64225,
             39.369083
            ],
            [
             87.707779,
             39.767159
            ],
            [
             87.281273,
             38.031754
            ],
            [
             90.144157,
             37.633869
            ]
           ]
          ],
          "type": "Polygon"
         },
         "id": "S1A_IW_GRDH_1SDV_20230909T000839_20230909T000908_050243_060C47_A4AB",
         "links": [
          {
           "href": "https://hda.central.data.destination-earth.eu/stac/collections/EO.ESA.DAT.SENTINEL-1.L1_GRD/items/S1A_IW_GRDH_1SDV_20230909T000839_20230909T000908_050243_060C47_A4AB",
           "rel": "self",
           "title": "S1A_IW_GRDH_1SDV_20230909T000839_20230909T000908_050243_060C47_A4AB"
          },
          {
           "href": "https://hda.central.data.destination-earth.eu/stac/",
           "rel": "root"
          },
          {
           "href": "https://hda.central.data.destination-earth.eu/stac/collections/EO.ESA.DAT.SENTINEL-1.L1_GRD",
           "rel": "parent",
           "title": "EO.ESA.DAT.SENTINEL-1.L1_GRD"
          },
          {
           "href": "https://hda.central.data.destination-earth.eu/stac/collections/EO.ESA.DAT.SENTINEL-1.L1_GRD",
           "rel": "collection",
           "title": "EO.ESA.DAT.SENTINEL-1.L1_GRD"
          }
         ],
         "properties": {
          "constellation": "SENTINEL-1",
          "datetime": "2023-09-09T00:08:39.673Z",
          "description": "The Sentinel-1 mission is the European Radar Observatory for the Copernicus joint initiative of the European Commission (EC) and the European Space Agency (ESA). The Sentinel-1 mission includes C-band imaging operating in four exclusive imaging modes with different resolution (down to 5 m) and coverage (up to 400 km). It provides dual polarization capability, short revisit times and rapid product delivery. Additionally, precise measurements of spacecraft position and attitude are available for every observation [https://dataspace.copernicus.eu/explore-data/data-collections/sentinel-data/sentinel-1].",
          "end_datetime": "2023-09-09T00:09:08.705Z",
          "eo:snow_cover": 0,
          "gsd": 0,
          "instruments": [
           "SAR"
          ],
          "license": "proprietary",
          "oseo:accessConstraint": {
           "description": {
            "shortName": "No license"
           },
           "grantedCountries": null,
           "grantedFlags": null,
           "grantedOrganizationCountries": null,
           "hasToBeSigned": "never",
           "licenseId": "unlicensed",
           "signatureQuota": -1,
           "viewService": "public"
          },
          "oseo:polarizationMode": "VV&VH",
          "oseo:sensorType": "RADAR",
          "oseo:swathIdentifier": "IW",
          "platform": "S1A",
          "processing:level": "LEVEL1",
          "providers": [
           {
            "description": "DEDL Fresh Data Pool",
            "name": "dedl",
            "priority": 0,
            "roles": [
             "host"
            ],
            "url": "https://hda.data.destination-earth.eu/"
           }
          ],
          "published": "2023-09-09T02:25:58.018Z",
          "sar:instrument_mode": "IW",
          "sar:product_type": "IW_GRDH_1S",
          "sat:absolute_orbit": 50243,
          "sat:orbit_state": "DESCENDING",
          "sat:relative_orbit": 121,
          "start_datetime": "2023-09-09T00:08:39.673Z",
          "updated": "2023-09-09T06:14:22.051Z"
         },
         "stac_extensions": [
          "https://stac-extensions.github.io/timestamps/v1.0.0/schema.json",
          "https://stac-extensions.github.io/eo/v1.0.0/schema.json",
          "https://stac-extensions.github.io/processing/v1.0.0/schema.json",
          "https://stac-extensions.github.io/sat/v1.0.0/schema.json",
          "https://stac-extensions.github.io/sar/v1.0.0/schema.json",
          "https://hda.central.data.destination-earth.eu/stac/extensions/oseo/json-schema/schema.json"
         ],
         "stac_version": "1.0.0",
         "type": "Feature"
        },
        {
         "assets": {
          "downloadLink": {
           "href": "https://hda.central.data.destination-earth.eu/stac/collections/EO.ESA.DAT.SENTINEL-1.L1_GRD/items/S1A_IW_GRDH_1SDV_20230909T000908_20230909T000933_050243_060C47_B399/download",
           "title": "Download link",
           "type": "application/zip"
          },
          "thumbnail": {
           "href": "https://datahub.creodias.eu/get-object?path=/Sentinel-1/SAR/IW_GRDH_1S/2023/09/09/S1A_IW_GRDH_1SDV_20230909T000908_20230909T000933_050243_060C47_B399.SAFE/preview/thumbnail.png",
           "role": "thumbnail",
           "title": "Thumbnail",
           "type": "image/jpeg"
          }
         },
         "bbox": [
          86.961136,
          36.132515,
          90.144127,
          38.031536
         ],
         "collection": "EO.ESA.DAT.SENTINEL-1.L1_GRD",
         "geometry": {
          "coordinates": [
           [
            [
             89.766296,
             36.132515
            ],
            [
             90.144127,
             37.633778
            ],
            [
             87.282257,
             38.031536
            ],
            [
             86.961136,
             36.531578
            ],
            [
             89.766296,
             36.132515
            ]
           ]
          ],
          "type": "Polygon"
         },
         "id": "S1A_IW_GRDH_1SDV_20230909T000908_20230909T000933_050243_060C47_B399",
         "links": [
          {
           "href": "https://hda.central.data.destination-earth.eu/stac/collections/EO.ESA.DAT.SENTINEL-1.L1_GRD/items/S1A_IW_GRDH_1SDV_20230909T000908_20230909T000933_050243_060C47_B399",
           "rel": "self",
           "title": "S1A_IW_GRDH_1SDV_20230909T000908_20230909T000933_050243_060C47_B399"
          },
          {
           "href": "https://hda.central.data.destination-earth.eu/stac/",
           "rel": "root"
          },
          {
           "href": "https://hda.central.data.destination-earth.eu/stac/collections/EO.ESA.DAT.SENTINEL-1.L1_GRD",
           "rel": "parent",
           "title": "EO.ESA.DAT.SENTINEL-1.L1_GRD"
          },
          {
           "href": "https://hda.central.data.destination-earth.eu/stac/collections/EO.ESA.DAT.SENTINEL-1.L1_GRD",
           "rel": "collection",
           "title": "EO.ESA.DAT.SENTINEL-1.L1_GRD"
          }
         ],
         "properties": {
          "constellation": "SENTINEL-1",
          "datetime": "2023-09-09T00:09:08.707Z",
          "description": "The Sentinel-1 mission is the European Radar Observatory for the Copernicus joint initiative of the European Commission (EC) and the European Space Agency (ESA). The Sentinel-1 mission includes C-band imaging operating in four exclusive imaging modes with different resolution (down to 5 m) and coverage (up to 400 km). It provides dual polarization capability, short revisit times and rapid product delivery. Additionally, precise measurements of spacecraft position and attitude are available for every observation [https://dataspace.copernicus.eu/explore-data/data-collections/sentinel-data/sentinel-1].",
          "end_datetime": "2023-09-09T00:09:33.705Z",
          "eo:snow_cover": 0,
          "gsd": 0,
          "instruments": [
           "SAR"
          ],
          "license": "proprietary",
          "oseo:accessConstraint": {
           "description": {
            "shortName": "No license"
           },
           "grantedCountries": null,
           "grantedFlags": null,
           "grantedOrganizationCountries": null,
           "hasToBeSigned": "never",
           "licenseId": "unlicensed",
           "signatureQuota": -1,
           "viewService": "public"
          },
          "oseo:polarizationMode": "VV&VH",
          "oseo:sensorType": "RADAR",
          "oseo:swathIdentifier": "IW",
          "platform": "S1A",
          "processing:level": "LEVEL1",
          "providers": [
           {
            "description": "DEDL Fresh Data Pool",
            "name": "dedl",
            "priority": 0,
            "roles": [
             "host"
            ],
            "url": "https://hda.data.destination-earth.eu/"
           }
          ],
          "published": "2023-09-09T02:23:08.473Z",
          "sar:instrument_mode": "IW",
          "sar:product_type": "IW_GRDH_1S",
          "sat:absolute_orbit": 50243,
          "sat:orbit_state": "DESCENDING",
          "sat:relative_orbit": 121,
          "start_datetime": "2023-09-09T00:09:08.707Z",
          "updated": "2023-09-09T06:10:41.797Z"
         },
         "stac_extensions": [
          "https://stac-extensions.github.io/timestamps/v1.0.0/schema.json",
          "https://stac-extensions.github.io/eo/v1.0.0/schema.json",
          "https://stac-extensions.github.io/processing/v1.0.0/schema.json",
          "https://stac-extensions.github.io/sat/v1.0.0/schema.json",
          "https://stac-extensions.github.io/sar/v1.0.0/schema.json",
          "https://hda.central.data.destination-earth.eu/stac/extensions/oseo/json-schema/schema.json"
         ],
         "stac_version": "1.0.0",
         "type": "Feature"
        },
        {
         "assets": {
          "downloadLink": {
           "href": "https://hda.central.data.destination-earth.eu/stac/collections/EO.ESA.DAT.SENTINEL-1.L1_GRD/items/S1A_IW_GRDH_1SDV_20230909T000933_20230909T000958_050243_060C47_FF7B/download",
           "title": "Download link",
           "type": "application/zip"
          },
          "thumbnail": {
           "href": "https://datahub.creodias.eu/get-object?path=/Sentinel-1/SAR/IW_GRDH_1S/2023/09/09/S1A_IW_GRDH_1SDV_20230909T000933_20230909T000958_050243_060C47_FF7B.SAFE/preview/thumbnail.png",
           "role": "thumbnail",
           "title": "Thumbnail",
           "type": "image/jpeg"
          }
         },
         "bbox": [
          86.659218,
          34.628017,
          89.766273,
          36.531357
         ],
         "collection": "EO.ESA.DAT.SENTINEL-1.L1_GRD",
         "geometry": {
          "coordinates": [
           [
            [
             89.411011,
             34.628017
            ],
            [
             89.766273,
             36.132427
            ],
            [
             86.962105,
             36.531357
            ],
            [
             86.659218,
             35.028919
            ],
            [
             89.411011,
             34.628017
            ]
           ]
          ],
          "type": "Polygon"
         },
         "id": "S1A_IW_GRDH_1SDV_20230909T000933_20230909T000958_050243_060C47_FF7B",
         "links": [
          {
           "href": "https://hda.central.data.destination-earth.eu/stac/collections/EO.ESA.DAT.SENTINEL-1.L1_GRD/items/S1A_IW_GRDH_1SDV_20230909T000933_20230909T000958_050243_060C47_FF7B",
           "rel": "self",
           "title": "S1A_IW_GRDH_1SDV_20230909T000933_20230909T000958_050243_060C47_FF7B"
          },
          {
           "href": "https://hda.central.data.destination-earth.eu/stac/",
           "rel": "root"
          },
          {
           "href": "https://hda.central.data.destination-earth.eu/stac/collections/EO.ESA.DAT.SENTINEL-1.L1_GRD",
           "rel": "parent",
           "title": "EO.ESA.DAT.SENTINEL-1.L1_GRD"
          },
          {
           "href": "https://hda.central.data.destination-earth.eu/stac/collections/EO.ESA.DAT.SENTINEL-1.L1_GRD",
           "rel": "collection",
           "title": "EO.ESA.DAT.SENTINEL-1.L1_GRD"
          }
         ],
         "properties": {
          "constellation": "SENTINEL-1",
          "datetime": "2023-09-09T00:09:33.707Z",
          "description": "The Sentinel-1 mission is the European Radar Observatory for the Copernicus joint initiative of the European Commission (EC) and the European Space Agency (ESA). The Sentinel-1 mission includes C-band imaging operating in four exclusive imaging modes with different resolution (down to 5 m) and coverage (up to 400 km). It provides dual polarization capability, short revisit times and rapid product delivery. Additionally, precise measurements of spacecraft position and attitude are available for every observation [https://dataspace.copernicus.eu/explore-data/data-collections/sentinel-data/sentinel-1].",
          "end_datetime": "2023-09-09T00:09:58.706Z",
          "eo:snow_cover": 0,
          "gsd": 0,
          "instruments": [
           "SAR"
          ],
          "license": "proprietary",
          "oseo:accessConstraint": {
           "description": {
            "shortName": "No license"
           },
           "grantedCountries": null,
           "grantedFlags": null,
           "grantedOrganizationCountries": null,
           "hasToBeSigned": "never",
           "licenseId": "unlicensed",
           "signatureQuota": -1,
           "viewService": "public"
          },
          "oseo:polarizationMode": "VV&VH",
          "oseo:sensorType": "RADAR",
          "oseo:swathIdentifier": "IW",
          "platform": "S1A",
          "processing:level": "LEVEL1",
          "providers": [
           {
            "description": "DEDL Fresh Data Pool",
            "name": "dedl",
            "priority": 0,
            "roles": [
             "host"
            ],
            "url": "https://hda.data.destination-earth.eu/"
           }
          ],
          "published": "2023-09-09T02:20:07.891Z",
          "sar:instrument_mode": "IW",
          "sar:product_type": "IW_GRDH_1S",
          "sat:absolute_orbit": 50243,
          "sat:orbit_state": "DESCENDING",
          "sat:relative_orbit": 121,
          "start_datetime": "2023-09-09T00:09:33.707Z",
          "updated": "2023-09-09T06:07:17.338Z"
         },
         "stac_extensions": [
          "https://stac-extensions.github.io/timestamps/v1.0.0/schema.json",
          "https://stac-extensions.github.io/eo/v1.0.0/schema.json",
          "https://stac-extensions.github.io/processing/v1.0.0/schema.json",
          "https://stac-extensions.github.io/sat/v1.0.0/schema.json",
          "https://stac-extensions.github.io/sar/v1.0.0/schema.json",
          "https://hda.central.data.destination-earth.eu/stac/extensions/oseo/json-schema/schema.json"
         ],
         "stac_version": "1.0.0",
         "type": "Feature"
        },
        {
         "assets": {
          "downloadLink": {
           "href": "https://hda.central.data.destination-earth.eu/stac/collections/EO.ESA.DAT.SENTINEL-1.L1_GRD/items/S1A_IW_GRDH_1SDV_20230909T000958_20230909T001023_050243_060C47_DD9C/download",
           "title": "Download link",
           "type": "application/zip"
          },
          "thumbnail": {
           "href": "https://datahub.creodias.eu/get-object?path=/Sentinel-1/SAR/IW_GRDH_1S/2023/09/09/S1A_IW_GRDH_1SDV_20230909T000958_20230909T001023_050243_060C47_DD9C.SAFE/preview/thumbnail.png",
           "role": "thumbnail",
           "title": "Thumbnail",
           "type": "image/jpeg"
          }
         },
         "bbox": [
          86.357697,
          33.123192,
          89.410995,
          35.028702
         ],
         "collection": "EO.ESA.DAT.SENTINEL-1.L1_GRD",
         "geometry": {
          "coordinates": [
           [
            [
             89.059914,
             33.123192
            ],
            [
             89.410995,
             34.627926
            ],
            [
             86.660179,
             35.028702
            ],
            [
             86.357697,
             33.526104
            ],
            [
             89.059914,
             33.123192
            ]
           ]
          ],
          "type": "Polygon"
         },
         "id": "S1A_IW_GRDH_1SDV_20230909T000958_20230909T001023_050243_060C47_DD9C",
         "links": [
          {
           "href": "https://hda.central.data.destination-earth.eu/stac/collections/EO.ESA.DAT.SENTINEL-1.L1_GRD/items/S1A_IW_GRDH_1SDV_20230909T000958_20230909T001023_050243_060C47_DD9C",
           "rel": "self",
           "title": "S1A_IW_GRDH_1SDV_20230909T000958_20230909T001023_050243_060C47_DD9C"
          },
          {
           "href": "https://hda.central.data.destination-earth.eu/stac/",
           "rel": "root"
          },
          {
           "href": "https://hda.central.data.destination-earth.eu/stac/collections/EO.ESA.DAT.SENTINEL-1.L1_GRD",
           "rel": "parent",
           "title": "EO.ESA.DAT.SENTINEL-1.L1_GRD"
          },
          {
           "href": "https://hda.central.data.destination-earth.eu/stac/collections/EO.ESA.DAT.SENTINEL-1.L1_GRD",
           "rel": "collection",
           "title": "EO.ESA.DAT.SENTINEL-1.L1_GRD"
          }
         ],
         "properties": {
          "constellation": "SENTINEL-1",
          "datetime": "2023-09-09T00:09:58.707Z",
          "description": "The Sentinel-1 mission is the European Radar Observatory for the Copernicus joint initiative of the European Commission (EC) and the European Space Agency (ESA). The Sentinel-1 mission includes C-band imaging operating in four exclusive imaging modes with different resolution (down to 5 m) and coverage (up to 400 km). It provides dual polarization capability, short revisit times and rapid product delivery. Additionally, precise measurements of spacecraft position and attitude are available for every observation [https://dataspace.copernicus.eu/explore-data/data-collections/sentinel-data/sentinel-1].",
          "end_datetime": "2023-09-09T00:10:23.705Z",
          "eo:snow_cover": 0,
          "gsd": 0,
          "instruments": [
           "SAR"
          ],
          "license": "proprietary",
          "oseo:accessConstraint": {
           "description": {
            "shortName": "No license"
           },
           "grantedCountries": null,
           "grantedFlags": null,
           "grantedOrganizationCountries": null,
           "hasToBeSigned": "never",
           "licenseId": "unlicensed",
           "signatureQuota": -1,
           "viewService": "public"
          },
          "oseo:polarizationMode": "VV&VH",
          "oseo:sensorType": "RADAR",
          "oseo:swathIdentifier": "IW",
          "platform": "S1A",
          "processing:level": "LEVEL1",
          "providers": [
           {
            "description": "DEDL Fresh Data Pool",
            "name": "dedl",
            "priority": 0,
            "roles": [
             "host"
            ],
            "url": "https://hda.data.destination-earth.eu/"
           }
          ],
          "published": "2023-09-09T02:21:02.006Z",
          "sar:instrument_mode": "IW",
          "sar:product_type": "IW_GRDH_1S",
          "sat:absolute_orbit": 50243,
          "sat:orbit_state": "DESCENDING",
          "sat:relative_orbit": 121,
          "start_datetime": "2023-09-09T00:09:58.707Z",
          "updated": "2023-09-09T06:08:17.120Z"
         },
         "stac_extensions": [
          "https://stac-extensions.github.io/timestamps/v1.0.0/schema.json",
          "https://stac-extensions.github.io/eo/v1.0.0/schema.json",
          "https://stac-extensions.github.io/processing/v1.0.0/schema.json",
          "https://stac-extensions.github.io/sat/v1.0.0/schema.json",
          "https://stac-extensions.github.io/sar/v1.0.0/schema.json",
          "https://hda.central.data.destination-earth.eu/stac/extensions/oseo/json-schema/schema.json"
         ],
         "stac_version": "1.0.0",
         "type": "Feature"
        },
        {
         "assets": {
          "downloadLink": {
           "href": "https://hda.central.data.destination-earth.eu/stac/collections/EO.ESA.DAT.SENTINEL-1.L1_GRD/items/S1A_IW_GRDH_1SDV_20230909T001023_20230909T001048_050243_060C47_BF2C/download",
           "title": "Download link",
           "type": "application/zip"
          },
          "thumbnail": {
           "href": "https://datahub.creodias.eu/get-object?path=/Sentinel-1/SAR/IW_GRDH_1S/2023/09/09/S1A_IW_GRDH_1SDV_20230909T001023_20230909T001048_050243_060C47_BF2C.SAFE/preview/thumbnail.png",
           "role": "thumbnail",
           "title": "Thumbnail",
           "type": "image/jpeg"
          }
         },
         "bbox": [
          86.067856,
          31.616016,
          89.059891,
          33.525883
         ],
         "collection": "EO.ESA.DAT.SENTINEL-1.L1_GRD",
         "geometry": {
          "coordinates": [
           [
            [
             88.723991,
             31.616016
            ],
            [
             89.059891,
             33.1231
            ],
            [
             86.358635,
             33.525883
            ],
            [
             86.067856,
             32.021347
            ],
            [
             88.723991,
             31.616016
            ]
           ]
          ],
          "type": "Polygon"
         },
         "id": "S1A_IW_GRDH_1SDV_20230909T001023_20230909T001048_050243_060C47_BF2C",
         "links": [
          {
           "href": "https://hda.central.data.destination-earth.eu/stac/collections/EO.ESA.DAT.SENTINEL-1.L1_GRD/items/S1A_IW_GRDH_1SDV_20230909T001023_20230909T001048_050243_060C47_BF2C",
           "rel": "self",
           "title": "S1A_IW_GRDH_1SDV_20230909T001023_20230909T001048_050243_060C47_BF2C"
          },
          {
           "href": "https://hda.central.data.destination-earth.eu/stac/",
           "rel": "root"
          },
          {
           "href": "https://hda.central.data.destination-earth.eu/stac/collections/EO.ESA.DAT.SENTINEL-1.L1_GRD",
           "rel": "parent",
           "title": "EO.ESA.DAT.SENTINEL-1.L1_GRD"
          },
          {
           "href": "https://hda.central.data.destination-earth.eu/stac/collections/EO.ESA.DAT.SENTINEL-1.L1_GRD",
           "rel": "collection",
           "title": "EO.ESA.DAT.SENTINEL-1.L1_GRD"
          }
         ],
         "properties": {
          "constellation": "SENTINEL-1",
          "datetime": "2023-09-09T00:10:23.706Z",
          "description": "The Sentinel-1 mission is the European Radar Observatory for the Copernicus joint initiative of the European Commission (EC) and the European Space Agency (ESA). The Sentinel-1 mission includes C-band imaging operating in four exclusive imaging modes with different resolution (down to 5 m) and coverage (up to 400 km). It provides dual polarization capability, short revisit times and rapid product delivery. Additionally, precise measurements of spacecraft position and attitude are available for every observation [https://dataspace.copernicus.eu/explore-data/data-collections/sentinel-data/sentinel-1].",
          "end_datetime": "2023-09-09T00:10:48.705Z",
          "eo:snow_cover": 0,
          "gsd": 0,
          "instruments": [
           "SAR"
          ],
          "license": "proprietary",
          "oseo:accessConstraint": {
           "description": {
            "shortName": "No license"
           },
           "grantedCountries": null,
           "grantedFlags": null,
           "grantedOrganizationCountries": null,
           "hasToBeSigned": "never",
           "licenseId": "unlicensed",
           "signatureQuota": -1,
           "viewService": "public"
          },
          "oseo:polarizationMode": "VV&VH",
          "oseo:sensorType": "RADAR",
          "oseo:swathIdentifier": "IW",
          "platform": "S1A",
          "processing:level": "LEVEL1",
          "providers": [
           {
            "description": "DEDL Fresh Data Pool",
            "name": "dedl",
            "priority": 0,
            "roles": [
             "host"
            ],
            "url": "https://hda.data.destination-earth.eu/"
           }
          ],
          "published": "2023-09-09T02:22:21.449Z",
          "sar:instrument_mode": "IW",
          "sar:product_type": "IW_GRDH_1S",
          "sat:absolute_orbit": 50243,
          "sat:orbit_state": "DESCENDING",
          "sat:relative_orbit": 121,
          "start_datetime": "2023-09-09T00:10:23.706Z",
          "updated": "2023-09-09T06:09:57.521Z"
         },
         "stac_extensions": [
          "https://stac-extensions.github.io/timestamps/v1.0.0/schema.json",
          "https://stac-extensions.github.io/eo/v1.0.0/schema.json",
          "https://stac-extensions.github.io/processing/v1.0.0/schema.json",
          "https://stac-extensions.github.io/sat/v1.0.0/schema.json",
          "https://stac-extensions.github.io/sar/v1.0.0/schema.json",
          "https://hda.central.data.destination-earth.eu/stac/extensions/oseo/json-schema/schema.json"
         ],
         "stac_version": "1.0.0",
         "type": "Feature"
        },
        {
         "assets": {
          "downloadLink": {
           "href": "https://hda.central.data.destination-earth.eu/stac/collections/EO.ESA.DAT.SENTINEL-1.L1_GRD/items/S1A_IW_GRDH_1SDV_20230909T001048_20230909T001113_050243_060C47_CFDA/download",
           "title": "Download link",
           "type": "application/zip"
          },
          "thumbnail": {
           "href": "https://datahub.creodias.eu/get-object?path=/Sentinel-1/SAR/IW_GRDH_1S/2023/09/09/S1A_IW_GRDH_1SDV_20230909T001048_20230909T001113_050243_060C47_CFDA.SAFE/preview/thumbnail.png",
           "role": "thumbnail",
           "title": "Thumbnail",
           "type": "image/jpeg"
          }
         },
         "bbox": [
          85.759575,
          30.111534,
          88.723969,
          32.021122
         ],
         "collection": "EO.ESA.DAT.SENTINEL-1.L1_GRD",
         "geometry": {
          "coordinates": [
           [
            [
             88.372559,
             30.111534
            ],
            [
             88.723969,
             31.615927
            ],
            [
             86.068779,
             32.021122
            ],
            [
             85.759575,
             30.518955
            ],
            [
             88.372559,
             30.111534
            ]
           ]
          ],
          "type": "Polygon"
         },
         "id": "S1A_IW_GRDH_1SDV_20230909T001048_20230909T001113_050243_060C47_CFDA",
         "links": [
          {
           "href": "https://hda.central.data.destination-earth.eu/stac/collections/EO.ESA.DAT.SENTINEL-1.L1_GRD/items/S1A_IW_GRDH_1SDV_20230909T001048_20230909T001113_050243_060C47_CFDA",
           "rel": "self",
           "title": "S1A_IW_GRDH_1SDV_20230909T001048_20230909T001113_050243_060C47_CFDA"
          },
          {
           "href": "https://hda.central.data.destination-earth.eu/stac/",
           "rel": "root"
          },
          {
           "href": "https://hda.central.data.destination-earth.eu/stac/collections/EO.ESA.DAT.SENTINEL-1.L1_GRD",
           "rel": "parent",
           "title": "EO.ESA.DAT.SENTINEL-1.L1_GRD"
          },
          {
           "href": "https://hda.central.data.destination-earth.eu/stac/collections/EO.ESA.DAT.SENTINEL-1.L1_GRD",
           "rel": "collection",
           "title": "EO.ESA.DAT.SENTINEL-1.L1_GRD"
          }
         ],
         "properties": {
          "constellation": "SENTINEL-1",
          "datetime": "2023-09-09T00:10:48.707Z",
          "description": "The Sentinel-1 mission is the European Radar Observatory for the Copernicus joint initiative of the European Commission (EC) and the European Space Agency (ESA). The Sentinel-1 mission includes C-band imaging operating in four exclusive imaging modes with different resolution (down to 5 m) and coverage (up to 400 km). It provides dual polarization capability, short revisit times and rapid product delivery. Additionally, precise measurements of spacecraft position and attitude are available for every observation [https://dataspace.copernicus.eu/explore-data/data-collections/sentinel-data/sentinel-1].",
          "end_datetime": "2023-09-09T00:11:13.706Z",
          "eo:snow_cover": 0,
          "gsd": 0,
          "instruments": [
           "SAR"
          ],
          "license": "proprietary",
          "oseo:accessConstraint": {
           "description": {
            "shortName": "No license"
           },
           "grantedCountries": null,
           "grantedFlags": null,
           "grantedOrganizationCountries": null,
           "hasToBeSigned": "never",
           "licenseId": "unlicensed",
           "signatureQuota": -1,
           "viewService": "public"
          },
          "oseo:polarizationMode": "VV&VH",
          "oseo:sensorType": "RADAR",
          "oseo:swathIdentifier": "IW",
          "platform": "S1A",
          "processing:level": "LEVEL1",
          "providers": [
           {
            "description": "DEDL Fresh Data Pool",
            "name": "dedl",
            "priority": 0,
            "roles": [
             "host"
            ],
            "url": "https://hda.data.destination-earth.eu/"
           }
          ],
          "published": "2023-09-09T02:24:05.342Z",
          "sar:instrument_mode": "IW",
          "sar:product_type": "IW_GRDH_1S",
          "sat:absolute_orbit": 50243,
          "sat:orbit_state": "DESCENDING",
          "sat:relative_orbit": 121,
          "start_datetime": "2023-09-09T00:10:48.707Z",
          "updated": "2023-09-09T06:12:10.521Z"
         },
         "stac_extensions": [
          "https://stac-extensions.github.io/timestamps/v1.0.0/schema.json",
          "https://stac-extensions.github.io/eo/v1.0.0/schema.json",
          "https://stac-extensions.github.io/processing/v1.0.0/schema.json",
          "https://stac-extensions.github.io/sat/v1.0.0/schema.json",
          "https://stac-extensions.github.io/sar/v1.0.0/schema.json",
          "https://hda.central.data.destination-earth.eu/stac/extensions/oseo/json-schema/schema.json"
         ],
         "stac_version": "1.0.0",
         "type": "Feature"
        },
        {
         "assets": {
          "downloadLink": {
           "href": "https://hda.central.data.destination-earth.eu/stac/collections/EO.ESA.DAT.SENTINEL-1.L1_GRD/items/S1A_IW_GRDH_1SDV_20230909T001113_20230909T001138_050243_060C47_DF12/download",
           "title": "Download link",
           "type": "application/zip"
          },
          "thumbnail": {
           "href": "https://datahub.creodias.eu/get-object?path=/Sentinel-1/SAR/IW_GRDH_1S/2023/09/09/S1A_IW_GRDH_1SDV_20230909T001113_20230909T001138_050243_060C47_DF12.SAFE/preview/thumbnail.png",
           "role": "thumbnail",
           "title": "Thumbnail",
           "type": "image/jpeg"
          }
         },
         "bbox": [
          85.469307,
          28.603718,
          88.372543,
          30.518761
         ],
         "collection": "EO.ESA.DAT.SENTINEL-1.L1_GRD",
         "geometry": {
          "coordinates": [
           [
            [
             88.042625,
             28.603718
            ],
            [
             88.372543,
             30.111444
            ],
            [
             85.760277,
             30.518761
            ],
            [
             85.469307,
             29.013821
            ],
            [
             88.042625,
             28.603718
            ]
           ]
          ],
          "type": "Polygon"
         },
         "id": "S1A_IW_GRDH_1SDV_20230909T001113_20230909T001138_050243_060C47_DF12",
         "links": [
          {
           "href": "https://hda.central.data.destination-earth.eu/stac/collections/EO.ESA.DAT.SENTINEL-1.L1_GRD/items/S1A_IW_GRDH_1SDV_20230909T001113_20230909T001138_050243_060C47_DF12",
           "rel": "self",
           "title": "S1A_IW_GRDH_1SDV_20230909T001113_20230909T001138_050243_060C47_DF12"
          },
          {
           "href": "https://hda.central.data.destination-earth.eu/stac/",
           "rel": "root"
          },
          {
           "href": "https://hda.central.data.destination-earth.eu/stac/collections/EO.ESA.DAT.SENTINEL-1.L1_GRD",
           "rel": "parent",
           "title": "EO.ESA.DAT.SENTINEL-1.L1_GRD"
          },
          {
           "href": "https://hda.central.data.destination-earth.eu/stac/collections/EO.ESA.DAT.SENTINEL-1.L1_GRD",
           "rel": "collection",
           "title": "EO.ESA.DAT.SENTINEL-1.L1_GRD"
          }
         ],
         "properties": {
          "constellation": "SENTINEL-1",
          "datetime": "2023-09-09T00:11:13.707Z",
          "description": "The Sentinel-1 mission is the European Radar Observatory for the Copernicus joint initiative of the European Commission (EC) and the European Space Agency (ESA). The Sentinel-1 mission includes C-band imaging operating in four exclusive imaging modes with different resolution (down to 5 m) and coverage (up to 400 km). It provides dual polarization capability, short revisit times and rapid product delivery. Additionally, precise measurements of spacecraft position and attitude are available for every observation [https://dataspace.copernicus.eu/explore-data/data-collections/sentinel-data/sentinel-1].",
          "end_datetime": "2023-09-09T00:11:38.705Z",
          "eo:snow_cover": 0,
          "gsd": 0,
          "instruments": [
           "SAR"
          ],
          "license": "proprietary",
          "oseo:accessConstraint": {
           "description": {
            "shortName": "No license"
           },
           "grantedCountries": null,
           "grantedFlags": null,
           "grantedOrganizationCountries": null,
           "hasToBeSigned": "never",
           "licenseId": "unlicensed",
           "signatureQuota": -1,
           "viewService": "public"
          },
          "oseo:polarizationMode": "VV&VH",
          "oseo:sensorType": "RADAR",
          "oseo:swathIdentifier": "IW",
          "platform": "S1A",
          "processing:level": "LEVEL1",
          "providers": [
           {
            "description": "DEDL Fresh Data Pool",
            "name": "dedl",
            "priority": 0,
            "roles": [
             "host"
            ],
            "url": "https://hda.data.destination-earth.eu/"
           }
          ],
          "published": "2023-09-09T02:23:37.075Z",
          "sar:instrument_mode": "IW",
          "sar:product_type": "IW_GRDH_1S",
          "sat:absolute_orbit": 50243,
          "sat:orbit_state": "DESCENDING",
          "sat:relative_orbit": 121,
          "start_datetime": "2023-09-09T00:11:13.707Z",
          "updated": "2023-09-09T06:11:25.457Z"
         },
         "stac_extensions": [
          "https://stac-extensions.github.io/timestamps/v1.0.0/schema.json",
          "https://stac-extensions.github.io/eo/v1.0.0/schema.json",
          "https://stac-extensions.github.io/processing/v1.0.0/schema.json",
          "https://stac-extensions.github.io/sat/v1.0.0/schema.json",
          "https://stac-extensions.github.io/sar/v1.0.0/schema.json",
          "https://hda.central.data.destination-earth.eu/stac/extensions/oseo/json-schema/schema.json"
         ],
         "stac_version": "1.0.0",
         "type": "Feature"
        },
        {
         "assets": {
          "downloadLink": {
           "href": "https://hda.central.data.destination-earth.eu/stac/collections/EO.ESA.DAT.SENTINEL-1.L1_GRD/items/S1A_IW_GRDH_1SDV_20230909T001138_20230909T001203_050243_060C47_AA04/download",
           "title": "Download link",
           "type": "application/zip"
          },
          "thumbnail": {
           "href": "https://datahub.creodias.eu/get-object?path=/Sentinel-1/SAR/IW_GRDH_1S/2023/09/09/S1A_IW_GRDH_1SDV_20230909T001138_20230909T001203_050243_060C47_AA04.SAFE/preview/thumbnail.png",
           "role": "thumbnail",
           "title": "Thumbnail",
           "type": "image/jpeg"
          }
         },
         "bbox": [
          85.233429,
          27.086031,
          88.04261,
          29.013504
         ],
         "collection": "EO.ESA.DAT.SENTINEL-1.L1_GRD",
         "geometry": {
          "coordinates": [
           [
            [
             87.769913,
             27.086031
            ],
            [
             88.04261,
             28.603628
            ],
            [
             85.470802,
             29.013504
            ],
            [
             85.233429,
             27.499983
            ],
            [
             87.769913,
             27.086031
            ]
           ]
          ],
          "type": "Polygon"
         },
         "id": "S1A_IW_GRDH_1SDV_20230909T001138_20230909T001203_050243_060C47_AA04",
         "links": [
          {
           "href": "https://hda.central.data.destination-earth.eu/stac/collections/EO.ESA.DAT.SENTINEL-1.L1_GRD/items/S1A_IW_GRDH_1SDV_20230909T001138_20230909T001203_050243_060C47_AA04",
           "rel": "self",
           "title": "S1A_IW_GRDH_1SDV_20230909T001138_20230909T001203_050243_060C47_AA04"
          },
          {
           "href": "https://hda.central.data.destination-earth.eu/stac/",
           "rel": "root"
          },
          {
           "href": "https://hda.central.data.destination-earth.eu/stac/collections/EO.ESA.DAT.SENTINEL-1.L1_GRD",
           "rel": "parent",
           "title": "EO.ESA.DAT.SENTINEL-1.L1_GRD"
          },
          {
           "href": "https://hda.central.data.destination-earth.eu/stac/collections/EO.ESA.DAT.SENTINEL-1.L1_GRD",
           "rel": "collection",
           "title": "EO.ESA.DAT.SENTINEL-1.L1_GRD"
          }
         ],
         "properties": {
          "constellation": "SENTINEL-1",
          "datetime": "2023-09-09T00:11:38.706Z",
          "description": "The Sentinel-1 mission is the European Radar Observatory for the Copernicus joint initiative of the European Commission (EC) and the European Space Agency (ESA). The Sentinel-1 mission includes C-band imaging operating in four exclusive imaging modes with different resolution (down to 5 m) and coverage (up to 400 km). It provides dual polarization capability, short revisit times and rapid product delivery. Additionally, precise measurements of spacecraft position and attitude are available for every observation [https://dataspace.copernicus.eu/explore-data/data-collections/sentinel-data/sentinel-1].",
          "end_datetime": "2023-09-09T00:12:03.705Z",
          "eo:snow_cover": 0,
          "gsd": 0,
          "instruments": [
           "SAR"
          ],
          "license": "proprietary",
          "oseo:accessConstraint": {
           "description": {
            "shortName": "No license"
           },
           "grantedCountries": null,
           "grantedFlags": null,
           "grantedOrganizationCountries": null,
           "hasToBeSigned": "never",
           "licenseId": "unlicensed",
           "signatureQuota": -1,
           "viewService": "public"
          },
          "oseo:polarizationMode": "VV&VH",
          "oseo:sensorType": "RADAR",
          "oseo:swathIdentifier": "IW",
          "platform": "S1A",
          "processing:level": "LEVEL1",
          "providers": [
           {
            "description": "DEDL Fresh Data Pool",
            "name": "dedl",
            "priority": 0,
            "roles": [
             "host"
            ],
            "url": "https://hda.data.destination-earth.eu/"
           }
          ],
          "published": "2023-09-09T02:21:53.739Z",
          "sar:instrument_mode": "IW",
          "sar:product_type": "IW_GRDH_1S",
          "sat:absolute_orbit": 50243,
          "sat:orbit_state": "DESCENDING",
          "sat:relative_orbit": 121,
          "start_datetime": "2023-09-09T00:11:38.706Z",
          "updated": "2023-09-09T06:09:17.267Z"
         },
         "stac_extensions": [
          "https://stac-extensions.github.io/timestamps/v1.0.0/schema.json",
          "https://stac-extensions.github.io/eo/v1.0.0/schema.json",
          "https://stac-extensions.github.io/processing/v1.0.0/schema.json",
          "https://stac-extensions.github.io/sat/v1.0.0/schema.json",
          "https://stac-extensions.github.io/sar/v1.0.0/schema.json",
          "https://hda.central.data.destination-earth.eu/stac/extensions/oseo/json-schema/schema.json"
         ],
         "stac_version": "1.0.0",
         "type": "Feature"
        },
        {
         "assets": {
          "downloadLink": {
           "href": "https://hda.central.data.destination-earth.eu/stac/collections/EO.ESA.DAT.SENTINEL-1.L1_GRD/items/S1A_IW_GRDH_1SDV_20230909T001203_20230909T001228_050243_060C47_2717/download",
           "title": "Download link",
           "type": "application/zip"
          },
          "thumbnail": {
           "href": "https://datahub.creodias.eu/get-object?path=/Sentinel-1/SAR/IW_GRDH_1S/2023/09/09/S1A_IW_GRDH_1SDV_20230909T001203_20230909T001228_050243_060C47_2717.SAFE/preview/thumbnail.png",
           "role": "thumbnail",
           "title": "Thumbnail",
           "type": "image/jpeg"
          }
         },
         "bbox": [
          84.970245,
          25.572245,
          87.769905,
          27.4998
         ],
         "collection": "EO.ESA.DAT.SENTINEL-1.L1_GRD",
         "geometry": {
          "coordinates": [
           [
            [
             87.473274,
             25.572245
            ],
            [
             87.769905,
             27.085939
            ],
            [
             85.234016,
             27.4998
            ],
            [
             84.970245,
             25.989674
            ],
            [
             87.473274,
             25.572245
            ]
           ]
          ],
          "type": "Polygon"
         },
         "id": "S1A_IW_GRDH_1SDV_20230909T001203_20230909T001228_050243_060C47_2717",
         "links": [
          {
           "href": "https://hda.central.data.destination-earth.eu/stac/collections/EO.ESA.DAT.SENTINEL-1.L1_GRD/items/S1A_IW_GRDH_1SDV_20230909T001203_20230909T001228_050243_060C47_2717",
           "rel": "self",
           "title": "S1A_IW_GRDH_1SDV_20230909T001203_20230909T001228_050243_060C47_2717"
          },
          {
           "href": "https://hda.central.data.destination-earth.eu/stac/",
           "rel": "root"
          },
          {
           "href": "https://hda.central.data.destination-earth.eu/stac/collections/EO.ESA.DAT.SENTINEL-1.L1_GRD",
           "rel": "parent",
           "title": "EO.ESA.DAT.SENTINEL-1.L1_GRD"
          },
          {
           "href": "https://hda.central.data.destination-earth.eu/stac/collections/EO.ESA.DAT.SENTINEL-1.L1_GRD",
           "rel": "collection",
           "title": "EO.ESA.DAT.SENTINEL-1.L1_GRD"
          }
         ],
         "properties": {
          "constellation": "SENTINEL-1",
          "datetime": "2023-09-09T00:12:03.707Z",
          "description": "The Sentinel-1 mission is the European Radar Observatory for the Copernicus joint initiative of the European Commission (EC) and the European Space Agency (ESA). The Sentinel-1 mission includes C-band imaging operating in four exclusive imaging modes with different resolution (down to 5 m) and coverage (up to 400 km). It provides dual polarization capability, short revisit times and rapid product delivery. Additionally, precise measurements of spacecraft position and attitude are available for every observation [https://dataspace.copernicus.eu/explore-data/data-collections/sentinel-data/sentinel-1].",
          "end_datetime": "2023-09-09T00:12:28.706Z",
          "eo:snow_cover": 0,
          "gsd": 0,
          "instruments": [
           "SAR"
          ],
          "license": "proprietary",
          "oseo:accessConstraint": {
           "description": {
            "shortName": "No license"
           },
           "grantedCountries": null,
           "grantedFlags": null,
           "grantedOrganizationCountries": null,
           "hasToBeSigned": "never",
           "licenseId": "unlicensed",
           "signatureQuota": -1,
           "viewService": "public"
          },
          "oseo:polarizationMode": "VV&VH",
          "oseo:sensorType": "RADAR",
          "oseo:swathIdentifier": "IW",
          "platform": "S1A",
          "processing:level": "LEVEL1",
          "providers": [
           {
            "description": "DEDL Fresh Data Pool",
            "name": "dedl",
            "priority": 0,
            "roles": [
             "host"
            ],
            "url": "https://hda.data.destination-earth.eu/"
           }
          ],
          "published": "2023-09-09T02:27:17.888Z",
          "sar:instrument_mode": "IW",
          "sar:product_type": "IW_GRDH_1S",
          "sat:absolute_orbit": 50243,
          "sat:orbit_state": "DESCENDING",
          "sat:relative_orbit": 121,
          "start_datetime": "2023-09-09T00:12:03.707Z",
          "updated": "2023-09-09T06:15:57.068Z"
         },
         "stac_extensions": [
          "https://stac-extensions.github.io/timestamps/v1.0.0/schema.json",
          "https://stac-extensions.github.io/eo/v1.0.0/schema.json",
          "https://stac-extensions.github.io/processing/v1.0.0/schema.json",
          "https://stac-extensions.github.io/sat/v1.0.0/schema.json",
          "https://stac-extensions.github.io/sar/v1.0.0/schema.json",
          "https://hda.central.data.destination-earth.eu/stac/extensions/oseo/json-schema/schema.json"
         ],
         "stac_version": "1.0.0",
         "type": "Feature"
        },
        {
         "assets": {
          "downloadLink": {
           "href": "https://hda.central.data.destination-earth.eu/stac/collections/EO.ESA.DAT.SENTINEL-1.L1_GRD/items/S1A_IW_GRDH_1SDV_20230909T001228_20230909T001253_050243_060C47_3E8C/download",
           "title": "Download link",
           "type": "application/zip"
          },
          "thumbnail": {
           "href": "https://datahub.creodias.eu/get-object?path=/Sentinel-1/SAR/IW_GRDH_1S/2023/09/09/S1A_IW_GRDH_1SDV_20230909T001228_20230909T001253_050243_060C47_3E8C.SAFE/preview/thumbnail.png",
           "role": "thumbnail",
           "title": "Thumbnail",
           "type": "image/jpeg"
          }
         },
         "bbox": [
          84.673828,
          24.064016,
          87.473259,
          25.989491
         ],
         "collection": "EO.ESA.DAT.SENTINEL-1.L1_GRD",
         "geometry": {
          "coordinates": [
           [
            [
             87.14521,
             24.064016
            ],
            [
             87.473259,
             25.572155
            ],
            [
             84.970818,
             25.989491
            ],
            [
             84.673828,
             24.484276
            ],
            [
             87.14521,
             24.064016
            ]
           ]
          ],
          "type": "Polygon"
         },
         "id": "S1A_IW_GRDH_1SDV_20230909T001228_20230909T001253_050243_060C47_3E8C",
         "links": [
          {
           "href": "https://hda.central.data.destination-earth.eu/stac/collections/EO.ESA.DAT.SENTINEL-1.L1_GRD/items/S1A_IW_GRDH_1SDV_20230909T001228_20230909T001253_050243_060C47_3E8C",
           "rel": "self",
           "title": "S1A_IW_GRDH_1SDV_20230909T001228_20230909T001253_050243_060C47_3E8C"
          },
          {
           "href": "https://hda.central.data.destination-earth.eu/stac/",
           "rel": "root"
          },
          {
           "href": "https://hda.central.data.destination-earth.eu/stac/collections/EO.ESA.DAT.SENTINEL-1.L1_GRD",
           "rel": "parent",
           "title": "EO.ESA.DAT.SENTINEL-1.L1_GRD"
          },
          {
           "href": "https://hda.central.data.destination-earth.eu/stac/collections/EO.ESA.DAT.SENTINEL-1.L1_GRD",
           "rel": "collection",
           "title": "EO.ESA.DAT.SENTINEL-1.L1_GRD"
          }
         ],
         "properties": {
          "constellation": "SENTINEL-1",
          "datetime": "2023-09-09T00:12:28.707Z",
          "description": "The Sentinel-1 mission is the European Radar Observatory for the Copernicus joint initiative of the European Commission (EC) and the European Space Agency (ESA). The Sentinel-1 mission includes C-band imaging operating in four exclusive imaging modes with different resolution (down to 5 m) and coverage (up to 400 km). It provides dual polarization capability, short revisit times and rapid product delivery. Additionally, precise measurements of spacecraft position and attitude are available for every observation [https://dataspace.copernicus.eu/explore-data/data-collections/sentinel-data/sentinel-1].",
          "end_datetime": "2023-09-09T00:12:53.705Z",
          "eo:snow_cover": 0,
          "gsd": 0,
          "instruments": [
           "SAR"
          ],
          "license": "proprietary",
          "oseo:accessConstraint": {
           "description": {
            "shortName": "No license"
           },
           "grantedCountries": null,
           "grantedFlags": null,
           "grantedOrganizationCountries": null,
           "hasToBeSigned": "never",
           "licenseId": "unlicensed",
           "signatureQuota": -1,
           "viewService": "public"
          },
          "oseo:polarizationMode": "VV&VH",
          "oseo:sensorType": "RADAR",
          "oseo:swathIdentifier": "IW",
          "platform": "S1A",
          "processing:level": "LEVEL1",
          "providers": [
           {
            "description": "DEDL Fresh Data Pool",
            "name": "dedl",
            "priority": 0,
            "roles": [
             "host"
            ],
            "url": "https://hda.data.destination-earth.eu/"
           }
          ],
          "published": "2023-09-09T02:22:57.932Z",
          "sar:instrument_mode": "IW",
          "sar:product_type": "IW_GRDH_1S",
          "sat:absolute_orbit": 50243,
          "sat:orbit_state": "DESCENDING",
          "sat:relative_orbit": 121,
          "start_datetime": "2023-09-09T00:12:28.707Z",
          "updated": "2023-09-09T06:10:28.526Z"
         },
         "stac_extensions": [
          "https://stac-extensions.github.io/timestamps/v1.0.0/schema.json",
          "https://stac-extensions.github.io/eo/v1.0.0/schema.json",
          "https://stac-extensions.github.io/processing/v1.0.0/schema.json",
          "https://stac-extensions.github.io/sat/v1.0.0/schema.json",
          "https://stac-extensions.github.io/sar/v1.0.0/schema.json",
          "https://hda.central.data.destination-earth.eu/stac/extensions/oseo/json-schema/schema.json"
         ],
         "stac_version": "1.0.0",
         "type": "Feature"
        },
        {
         "assets": {
          "downloadLink": {
           "href": "https://hda.central.data.destination-earth.eu/stac/collections/EO.ESA.DAT.SENTINEL-1.L1_GRD/items/S1A_IW_GRDH_1SDV_20230909T001253_20230909T001318_050243_060C47_9E11/download",
           "title": "Download link",
           "type": "application/zip"
          },
          "thumbnail": {
           "href": "https://datahub.creodias.eu/get-object?path=/Sentinel-1/SAR/IW_GRDH_1S/2023/09/09/S1A_IW_GRDH_1SDV_20230909T001253_20230909T001318_050243_060C47_9E11.SAFE/preview/thumbnail.png",
           "role": "thumbnail",
           "title": "Thumbnail",
           "type": "image/jpeg"
          }
         },
         "bbox": [
          84.383118,
          22.554245,
          87.145195,
          24.484091
         ],
         "collection": "EO.ESA.DAT.SENTINEL-1.L1_GRD",
         "geometry": {
          "coordinates": [
           [
            [
             86.82534,
             22.554245
            ],
            [
             87.145195,
             24.063925
            ],
            [
             84.6744,
             24.484091
            ],
            [
             84.383118,
             22.977568
            ],
            [
             86.82534,
             22.554245
            ]
           ]
          ],
          "type": "Polygon"
         },
         "id": "S1A_IW_GRDH_1SDV_20230909T001253_20230909T001318_050243_060C47_9E11",
         "links": [
          {
           "href": "https://hda.central.data.destination-earth.eu/stac/collections/EO.ESA.DAT.SENTINEL-1.L1_GRD/items/S1A_IW_GRDH_1SDV_20230909T001253_20230909T001318_050243_060C47_9E11",
           "rel": "self",
           "title": "S1A_IW_GRDH_1SDV_20230909T001253_20230909T001318_050243_060C47_9E11"
          },
          {
           "href": "https://hda.central.data.destination-earth.eu/stac/",
           "rel": "root"
          },
          {
           "href": "https://hda.central.data.destination-earth.eu/stac/collections/EO.ESA.DAT.SENTINEL-1.L1_GRD",
           "rel": "parent",
           "title": "EO.ESA.DAT.SENTINEL-1.L1_GRD"
          },
          {
           "href": "https://hda.central.data.destination-earth.eu/stac/collections/EO.ESA.DAT.SENTINEL-1.L1_GRD",
           "rel": "collection",
           "title": "EO.ESA.DAT.SENTINEL-1.L1_GRD"
          }
         ],
         "properties": {
          "constellation": "SENTINEL-1",
          "datetime": "2023-09-09T00:12:53.706Z",
          "description": "The Sentinel-1 mission is the European Radar Observatory for the Copernicus joint initiative of the European Commission (EC) and the European Space Agency (ESA). The Sentinel-1 mission includes C-band imaging operating in four exclusive imaging modes with different resolution (down to 5 m) and coverage (up to 400 km). It provides dual polarization capability, short revisit times and rapid product delivery. Additionally, precise measurements of spacecraft position and attitude are available for every observation [https://dataspace.copernicus.eu/explore-data/data-collections/sentinel-data/sentinel-1].",
          "end_datetime": "2023-09-09T00:13:18.705Z",
          "eo:snow_cover": 0,
          "gsd": 0,
          "instruments": [
           "SAR"
          ],
          "license": "proprietary",
          "oseo:accessConstraint": {
           "description": {
            "shortName": "No license"
           },
           "grantedCountries": null,
           "grantedFlags": null,
           "grantedOrganizationCountries": null,
           "hasToBeSigned": "never",
           "licenseId": "unlicensed",
           "signatureQuota": -1,
           "viewService": "public"
          },
          "oseo:polarizationMode": "VV&VH",
          "oseo:sensorType": "RADAR",
          "oseo:swathIdentifier": "IW",
          "platform": "S1A",
          "processing:level": "LEVEL1",
          "providers": [
           {
            "description": "DEDL Fresh Data Pool",
            "name": "dedl",
            "priority": 0,
            "roles": [
             "host"
            ],
            "url": "https://hda.data.destination-earth.eu/"
           }
          ],
          "published": "2023-09-09T02:24:46.818Z",
          "sar:instrument_mode": "IW",
          "sar:product_type": "IW_GRDH_1S",
          "sat:absolute_orbit": 50243,
          "sat:orbit_state": "DESCENDING",
          "sat:relative_orbit": 121,
          "start_datetime": "2023-09-09T00:12:53.706Z",
          "updated": "2023-09-09T06:13:07.942Z"
         },
         "stac_extensions": [
          "https://stac-extensions.github.io/timestamps/v1.0.0/schema.json",
          "https://stac-extensions.github.io/eo/v1.0.0/schema.json",
          "https://stac-extensions.github.io/processing/v1.0.0/schema.json",
          "https://stac-extensions.github.io/sat/v1.0.0/schema.json",
          "https://stac-extensions.github.io/sar/v1.0.0/schema.json",
          "https://hda.central.data.destination-earth.eu/stac/extensions/oseo/json-schema/schema.json"
         ],
         "stac_version": "1.0.0",
         "type": "Feature"
        },
        {
         "assets": {
          "downloadLink": {
           "href": "https://hda.central.data.destination-earth.eu/stac/collections/EO.ESA.DAT.SENTINEL-1.L1_GRD/items/S1A_IW_GRDH_1SDV_20230909T001318_20230909T001343_050243_060C47_9AD5/download",
           "title": "Download link",
           "type": "application/zip"
          },
          "thumbnail": {
           "href": "https://datahub.creodias.eu/get-object?path=/Sentinel-1/SAR/IW_GRDH_1S/2023/09/09/S1A_IW_GRDH_1SDV_20230909T001318_20230909T001343_050243_060C47_9AD5.SAFE/preview/thumbnail.png",
           "role": "thumbnail",
           "title": "Thumbnail",
           "type": "image/jpeg"
          }
         },
         "bbox": [
          84.090187,
          21.044443,
          86.825325,
          22.977398
         ],
         "collection": "EO.ESA.DAT.SENTINEL-1.L1_GRD",
         "geometry": {
          "coordinates": [
           [
            [
             86.505562,
             21.044443
            ],
            [
             86.825325,
             22.554155
            ],
            [
             84.383575,
             22.977398
            ],
            [
             84.090187,
             21.470905
            ],
            [
             86.505562,
             21.044443
            ]
           ]
          ],
          "type": "Polygon"
         },
         "id": "S1A_IW_GRDH_1SDV_20230909T001318_20230909T001343_050243_060C47_9AD5",
         "links": [
          {
           "href": "https://hda.central.data.destination-earth.eu/stac/collections/EO.ESA.DAT.SENTINEL-1.L1_GRD/items/S1A_IW_GRDH_1SDV_20230909T001318_20230909T001343_050243_060C47_9AD5",
           "rel": "self",
           "title": "S1A_IW_GRDH_1SDV_20230909T001318_20230909T001343_050243_060C47_9AD5"
          },
          {
           "href": "https://hda.central.data.destination-earth.eu/stac/",
           "rel": "root"
          },
          {
           "href": "https://hda.central.data.destination-earth.eu/stac/collections/EO.ESA.DAT.SENTINEL-1.L1_GRD",
           "rel": "parent",
           "title": "EO.ESA.DAT.SENTINEL-1.L1_GRD"
          },
          {
           "href": "https://hda.central.data.destination-earth.eu/stac/collections/EO.ESA.DAT.SENTINEL-1.L1_GRD",
           "rel": "collection",
           "title": "EO.ESA.DAT.SENTINEL-1.L1_GRD"
          }
         ],
         "properties": {
          "constellation": "SENTINEL-1",
          "datetime": "2023-09-09T00:13:18.707Z",
          "description": "The Sentinel-1 mission is the European Radar Observatory for the Copernicus joint initiative of the European Commission (EC) and the European Space Agency (ESA). The Sentinel-1 mission includes C-band imaging operating in four exclusive imaging modes with different resolution (down to 5 m) and coverage (up to 400 km). It provides dual polarization capability, short revisit times and rapid product delivery. Additionally, precise measurements of spacecraft position and attitude are available for every observation [https://dataspace.copernicus.eu/explore-data/data-collections/sentinel-data/sentinel-1].",
          "end_datetime": "2023-09-09T00:13:43.706Z",
          "eo:snow_cover": 0,
          "gsd": 0,
          "instruments": [
           "SAR"
          ],
          "license": "proprietary",
          "oseo:accessConstraint": {
           "description": {
            "shortName": "No license"
           },
           "grantedCountries": null,
           "grantedFlags": null,
           "grantedOrganizationCountries": null,
           "hasToBeSigned": "never",
           "licenseId": "unlicensed",
           "signatureQuota": -1,
           "viewService": "public"
          },
          "oseo:polarizationMode": "VV&VH",
          "oseo:sensorType": "RADAR",
          "oseo:swathIdentifier": "IW",
          "platform": "S1A",
          "processing:level": "LEVEL1",
          "providers": [
           {
            "description": "DEDL Fresh Data Pool",
            "name": "dedl",
            "priority": 0,
            "roles": [
             "host"
            ],
            "url": "https://hda.data.destination-earth.eu/"
           }
          ],
          "published": "2023-09-09T02:23:59.775Z",
          "sar:instrument_mode": "IW",
          "sar:product_type": "IW_GRDH_1S",
          "sat:absolute_orbit": 50243,
          "sat:orbit_state": "DESCENDING",
          "sat:relative_orbit": 121,
          "start_datetime": "2023-09-09T00:13:18.707Z",
          "updated": "2023-09-09T06:11:59.189Z"
         },
         "stac_extensions": [
          "https://stac-extensions.github.io/timestamps/v1.0.0/schema.json",
          "https://stac-extensions.github.io/eo/v1.0.0/schema.json",
          "https://stac-extensions.github.io/processing/v1.0.0/schema.json",
          "https://stac-extensions.github.io/sat/v1.0.0/schema.json",
          "https://stac-extensions.github.io/sar/v1.0.0/schema.json",
          "https://hda.central.data.destination-earth.eu/stac/extensions/oseo/json-schema/schema.json"
         ],
         "stac_version": "1.0.0",
         "type": "Feature"
        },
        {
         "assets": {
          "downloadLink": {
           "href": "https://hda.central.data.destination-earth.eu/stac/collections/EO.ESA.DAT.SENTINEL-1.L1_GRD/items/S1A_IW_GRDH_1SDV_20230909T001343_20230909T001408_050243_060C47_09F5/download",
           "title": "Download link",
           "type": "application/zip"
          },
          "thumbnail": {
           "href": "https://datahub.creodias.eu/get-object?path=/Sentinel-1/SAR/IW_GRDH_1S/2023/09/09/S1A_IW_GRDH_1SDV_20230909T001343_20230909T001408_050243_060C47_09F5.SAFE/preview/thumbnail.png",
           "role": "thumbnail",
           "title": "Thumbnail",
           "type": "image/jpeg"
          }
         },
         "bbox": [
          83.802208,
          19.533342,
          86.505539,
          21.470751
         ],
         "collection": "EO.ESA.DAT.SENTINEL-1.L1_GRD",
         "geometry": {
          "coordinates": [
           [
            [
             86.1931,
             19.533342
            ],
            [
             86.505539,
             21.044352
            ],
            [
             84.090546,
             21.470751
            ],
            [
             83.802208,
             19.96316
            ],
            [
             86.1931,
             19.533342
            ]
           ]
          ],
          "type": "Polygon"
         },
         "id": "S1A_IW_GRDH_1SDV_20230909T001343_20230909T001408_050243_060C47_09F5",
         "links": [
          {
           "href": "https://hda.central.data.destination-earth.eu/stac/collections/EO.ESA.DAT.SENTINEL-1.L1_GRD/items/S1A_IW_GRDH_1SDV_20230909T001343_20230909T001408_050243_060C47_09F5",
           "rel": "self",
           "title": "S1A_IW_GRDH_1SDV_20230909T001343_20230909T001408_050243_060C47_09F5"
          },
          {
           "href": "https://hda.central.data.destination-earth.eu/stac/",
           "rel": "root"
          },
          {
           "href": "https://hda.central.data.destination-earth.eu/stac/collections/EO.ESA.DAT.SENTINEL-1.L1_GRD",
           "rel": "parent",
           "title": "EO.ESA.DAT.SENTINEL-1.L1_GRD"
          },
          {
           "href": "https://hda.central.data.destination-earth.eu/stac/collections/EO.ESA.DAT.SENTINEL-1.L1_GRD",
           "rel": "collection",
           "title": "EO.ESA.DAT.SENTINEL-1.L1_GRD"
          }
         ],
         "properties": {
          "constellation": "SENTINEL-1",
          "datetime": "2023-09-09T00:13:43.707Z",
          "description": "The Sentinel-1 mission is the European Radar Observatory for the Copernicus joint initiative of the European Commission (EC) and the European Space Agency (ESA). The Sentinel-1 mission includes C-band imaging operating in four exclusive imaging modes with different resolution (down to 5 m) and coverage (up to 400 km). It provides dual polarization capability, short revisit times and rapid product delivery. Additionally, precise measurements of spacecraft position and attitude are available for every observation [https://dataspace.copernicus.eu/explore-data/data-collections/sentinel-data/sentinel-1].",
          "end_datetime": "2023-09-09T00:14:08.705Z",
          "eo:snow_cover": 0,
          "gsd": 0,
          "instruments": [
           "SAR"
          ],
          "license": "proprietary",
          "oseo:accessConstraint": {
           "description": {
            "shortName": "No license"
           },
           "grantedCountries": null,
           "grantedFlags": null,
           "grantedOrganizationCountries": null,
           "hasToBeSigned": "never",
           "licenseId": "unlicensed",
           "signatureQuota": -1,
           "viewService": "public"
          },
          "oseo:polarizationMode": "VV&VH",
          "oseo:sensorType": "RADAR",
          "oseo:swathIdentifier": "IW",
          "platform": "S1A",
          "processing:level": "LEVEL1",
          "providers": [
           {
            "description": "DEDL Fresh Data Pool",
            "name": "dedl",
            "priority": 0,
            "roles": [
             "host"
            ],
            "url": "https://hda.data.destination-earth.eu/"
           }
          ],
          "published": "2023-09-09T02:21:47.030Z",
          "sar:instrument_mode": "IW",
          "sar:product_type": "IW_GRDH_1S",
          "sat:absolute_orbit": 50243,
          "sat:orbit_state": "DESCENDING",
          "sat:relative_orbit": 121,
          "start_datetime": "2023-09-09T00:13:43.707Z",
          "updated": "2023-09-09T06:09:11.362Z"
         },
         "stac_extensions": [
          "https://stac-extensions.github.io/timestamps/v1.0.0/schema.json",
          "https://stac-extensions.github.io/eo/v1.0.0/schema.json",
          "https://stac-extensions.github.io/processing/v1.0.0/schema.json",
          "https://stac-extensions.github.io/sat/v1.0.0/schema.json",
          "https://stac-extensions.github.io/sar/v1.0.0/schema.json",
          "https://hda.central.data.destination-earth.eu/stac/extensions/oseo/json-schema/schema.json"
         ],
         "stac_version": "1.0.0",
         "type": "Feature"
        },
        {
         "assets": {
          "downloadLink": {
           "href": "https://hda.central.data.destination-earth.eu/stac/collections/EO.ESA.DAT.SENTINEL-1.L1_GRD/items/S1A_IW_GRDH_1SDV_20230909T001408_20230909T001433_050243_060C47_5629/download",
           "title": "Download link",
           "type": "application/zip"
          },
          "thumbnail": {
           "href": "https://datahub.creodias.eu/get-object?path=/Sentinel-1/SAR/IW_GRDH_1S/2023/09/09/S1A_IW_GRDH_1SDV_20230909T001408_20230909T001433_050243_060C47_5629.SAFE/preview/thumbnail.png",
           "role": "thumbnail",
           "title": "Thumbnail",
           "type": "image/jpeg"
          }
         },
         "bbox": [
          83.51001,
          18.022499,
          86.193077,
          19.963005
         ],
         "collection": "EO.ESA.DAT.SENTINEL-1.L1_GRD",
         "geometry": {
          "coordinates": [
           [
            [
             85.878403,
             18.022499
            ],
            [
             86.193077,
             19.533253
            ],
            [
             83.802567,
             19.963005
            ],
            [
             83.51001,
             18.455698
            ],
            [
             85.878403,
             18.022499
            ]
           ]
          ],
          "type": "Polygon"
         },
         "id": "S1A_IW_GRDH_1SDV_20230909T001408_20230909T001433_050243_060C47_5629",
         "links": [
          {
           "href": "https://hda.central.data.destination-earth.eu/stac/collections/EO.ESA.DAT.SENTINEL-1.L1_GRD/items/S1A_IW_GRDH_1SDV_20230909T001408_20230909T001433_050243_060C47_5629",
           "rel": "self",
           "title": "S1A_IW_GRDH_1SDV_20230909T001408_20230909T001433_050243_060C47_5629"
          },
          {
           "href": "https://hda.central.data.destination-earth.eu/stac/",
           "rel": "root"
          },
          {
           "href": "https://hda.central.data.destination-earth.eu/stac/collections/EO.ESA.DAT.SENTINEL-1.L1_GRD",
           "rel": "parent",
           "title": "EO.ESA.DAT.SENTINEL-1.L1_GRD"
          },
          {
           "href": "https://hda.central.data.destination-earth.eu/stac/collections/EO.ESA.DAT.SENTINEL-1.L1_GRD",
           "rel": "collection",
           "title": "EO.ESA.DAT.SENTINEL-1.L1_GRD"
          }
         ],
         "properties": {
          "constellation": "SENTINEL-1",
          "datetime": "2023-09-09T00:14:08.706Z",
          "description": "The Sentinel-1 mission is the European Radar Observatory for the Copernicus joint initiative of the European Commission (EC) and the European Space Agency (ESA). The Sentinel-1 mission includes C-band imaging operating in four exclusive imaging modes with different resolution (down to 5 m) and coverage (up to 400 km). It provides dual polarization capability, short revisit times and rapid product delivery. Additionally, precise measurements of spacecraft position and attitude are available for every observation [https://dataspace.copernicus.eu/explore-data/data-collections/sentinel-data/sentinel-1].",
          "end_datetime": "2023-09-09T00:14:33.705Z",
          "eo:snow_cover": 0,
          "gsd": 0,
          "instruments": [
           "SAR"
          ],
          "license": "proprietary",
          "oseo:accessConstraint": {
           "description": {
            "shortName": "No license"
           },
           "grantedCountries": null,
           "grantedFlags": null,
           "grantedOrganizationCountries": null,
           "hasToBeSigned": "never",
           "licenseId": "unlicensed",
           "signatureQuota": -1,
           "viewService": "public"
          },
          "oseo:polarizationMode": "VV&VH",
          "oseo:sensorType": "RADAR",
          "oseo:swathIdentifier": "IW",
          "platform": "S1A",
          "processing:level": "LEVEL1",
          "providers": [
           {
            "description": "DEDL Fresh Data Pool",
            "name": "dedl",
            "priority": 0,
            "roles": [
             "host"
            ],
            "url": "https://hda.data.destination-earth.eu/"
           }
          ],
          "published": "2023-09-09T02:20:33.798Z",
          "sar:instrument_mode": "IW",
          "sar:product_type": "IW_GRDH_1S",
          "sat:absolute_orbit": 50243,
          "sat:orbit_state": "DESCENDING",
          "sat:relative_orbit": 121,
          "start_datetime": "2023-09-09T00:14:08.706Z",
          "updated": "2023-09-09T06:07:46.575Z"
         },
         "stac_extensions": [
          "https://stac-extensions.github.io/timestamps/v1.0.0/schema.json",
          "https://stac-extensions.github.io/eo/v1.0.0/schema.json",
          "https://stac-extensions.github.io/processing/v1.0.0/schema.json",
          "https://stac-extensions.github.io/sat/v1.0.0/schema.json",
          "https://stac-extensions.github.io/sar/v1.0.0/schema.json",
          "https://hda.central.data.destination-earth.eu/stac/extensions/oseo/json-schema/schema.json"
         ],
         "stac_version": "1.0.0",
         "type": "Feature"
        },
        {
         "assets": {
          "downloadLink": {
           "href": "https://hda.central.data.destination-earth.eu/stac/collections/EO.ESA.DAT.SENTINEL-1.L1_GRD/items/S1A_IW_GRDH_1SDV_20230909T001433_20230909T001451_050243_060C47_2A71/download",
           "title": "Download link",
           "type": "application/zip"
          },
          "thumbnail": {
           "href": "https://datahub.creodias.eu/get-object?path=/Sentinel-1/SAR/IW_GRDH_1S/2023/09/09/S1A_IW_GRDH_1SDV_20230909T001433_20230909T001451_050243_060C47_2A71.SAFE/preview/thumbnail.png",
           "role": "thumbnail",
           "title": "Thumbnail",
           "type": "image/jpeg"
          }
         },
         "bbox": [
          83.301506,
          16.946539,
          85.878387,
          18.455576
         ],
         "collection": "EO.ESA.DAT.SENTINEL-1.L1_GRD",
         "geometry": {
          "coordinates": [
           [
            [
             85.655174,
             16.946539
            ],
            [
             85.878387,
             18.022411
            ],
            [
             83.510178,
             18.455576
            ],
            [
             83.301506,
             17.382215
            ],
            [
             85.655174,
             16.946539
            ]
           ]
          ],
          "type": "Polygon"
         },
         "id": "S1A_IW_GRDH_1SDV_20230909T001433_20230909T001451_050243_060C47_2A71",
         "links": [
          {
           "href": "https://hda.central.data.destination-earth.eu/stac/collections/EO.ESA.DAT.SENTINEL-1.L1_GRD/items/S1A_IW_GRDH_1SDV_20230909T001433_20230909T001451_050243_060C47_2A71",
           "rel": "self",
           "title": "S1A_IW_GRDH_1SDV_20230909T001433_20230909T001451_050243_060C47_2A71"
          },
          {
           "href": "https://hda.central.data.destination-earth.eu/stac/",
           "rel": "root"
          },
          {
           "href": "https://hda.central.data.destination-earth.eu/stac/collections/EO.ESA.DAT.SENTINEL-1.L1_GRD",
           "rel": "parent",
           "title": "EO.ESA.DAT.SENTINEL-1.L1_GRD"
          },
          {
           "href": "https://hda.central.data.destination-earth.eu/stac/collections/EO.ESA.DAT.SENTINEL-1.L1_GRD",
           "rel": "collection",
           "title": "EO.ESA.DAT.SENTINEL-1.L1_GRD"
          }
         ],
         "properties": {
          "constellation": "SENTINEL-1",
          "datetime": "2023-09-09T00:14:33.707Z",
          "description": "The Sentinel-1 mission is the European Radar Observatory for the Copernicus joint initiative of the European Commission (EC) and the European Space Agency (ESA). The Sentinel-1 mission includes C-band imaging operating in four exclusive imaging modes with different resolution (down to 5 m) and coverage (up to 400 km). It provides dual polarization capability, short revisit times and rapid product delivery. Additionally, precise measurements of spacecraft position and attitude are available for every observation [https://dataspace.copernicus.eu/explore-data/data-collections/sentinel-data/sentinel-1].",
          "end_datetime": "2023-09-09T00:14:51.506Z",
          "eo:snow_cover": 0,
          "gsd": 0,
          "instruments": [
           "SAR"
          ],
          "license": "proprietary",
          "oseo:accessConstraint": {
           "description": {
            "shortName": "No license"
           },
           "grantedCountries": null,
           "grantedFlags": null,
           "grantedOrganizationCountries": null,
           "hasToBeSigned": "never",
           "licenseId": "unlicensed",
           "signatureQuota": -1,
           "viewService": "public"
          },
          "oseo:polarizationMode": "VV&VH",
          "oseo:sensorType": "RADAR",
          "oseo:swathIdentifier": "IW",
          "platform": "S1A",
          "processing:level": "LEVEL1",
          "providers": [
           {
            "description": "DEDL Fresh Data Pool",
            "name": "dedl",
            "priority": 0,
            "roles": [
             "host"
            ],
            "url": "https://hda.data.destination-earth.eu/"
           }
          ],
          "published": "2023-09-09T02:15:56.896Z",
          "sar:instrument_mode": "IW",
          "sar:product_type": "IW_GRDH_1S",
          "sat:absolute_orbit": 50243,
          "sat:orbit_state": "DESCENDING",
          "sat:relative_orbit": 121,
          "start_datetime": "2023-09-09T00:14:33.707Z",
          "updated": "2023-09-09T06:02:56.421Z"
         },
         "stac_extensions": [
          "https://stac-extensions.github.io/timestamps/v1.0.0/schema.json",
          "https://stac-extensions.github.io/eo/v1.0.0/schema.json",
          "https://stac-extensions.github.io/processing/v1.0.0/schema.json",
          "https://stac-extensions.github.io/sat/v1.0.0/schema.json",
          "https://stac-extensions.github.io/sar/v1.0.0/schema.json",
          "https://hda.central.data.destination-earth.eu/stac/extensions/oseo/json-schema/schema.json"
         ],
         "stac_version": "1.0.0",
         "type": "Feature"
        },
        {
         "assets": {
          "downloadLink": {
           "href": "https://hda.central.data.destination-earth.eu/stac/collections/EO.ESA.DAT.SENTINEL-1.L1_GRD/items/S1A_IW_GRDH_1SDV_20230909T001723_20230909T001759_050243_060C48_A2AC/download",
           "title": "Download link",
           "type": "application/zip"
          },
          "thumbnail": {
           "href": "https://datahub.creodias.eu/get-object?path=/Sentinel-1/SAR/IW_GRDH_1S/2023/09/09/S1A_IW_GRDH_1SDV_20230909T001723_20230909T001759_050243_060C48_A2AC.SAFE/preview/thumbnail.png",
           "role": "thumbnail",
           "title": "Thumbnail",
           "type": "image/jpeg"
          }
         },
         "bbox": [
          81.097717,
          5.601766,
          83.7603,
          8.189827
         ],
         "collection": "EO.ESA.DAT.SENTINEL-1.L1_GRD",
         "geometry": {
          "coordinates": [
           [
            [
             83.320709,
             5.601766
            ],
            [
             83.7603,
             7.737313
            ],
            [
             81.526184,
             8.189827
            ],
            [
             81.097717,
             6.060041
            ],
            [
             83.320709,
             5.601766
            ]
           ]
          ],
          "type": "Polygon"
         },
         "id": "S1A_IW_GRDH_1SDV_20230909T001723_20230909T001759_050243_060C48_A2AC",
         "links": [
          {
           "href": "https://hda.central.data.destination-earth.eu/stac/collections/EO.ESA.DAT.SENTINEL-1.L1_GRD/items/S1A_IW_GRDH_1SDV_20230909T001723_20230909T001759_050243_060C48_A2AC",
           "rel": "self",
           "title": "S1A_IW_GRDH_1SDV_20230909T001723_20230909T001759_050243_060C48_A2AC"
          },
          {
           "href": "https://hda.central.data.destination-earth.eu/stac/",
           "rel": "root"
          },
          {
           "href": "https://hda.central.data.destination-earth.eu/stac/collections/EO.ESA.DAT.SENTINEL-1.L1_GRD",
           "rel": "parent",
           "title": "EO.ESA.DAT.SENTINEL-1.L1_GRD"
          },
          {
           "href": "https://hda.central.data.destination-earth.eu/stac/collections/EO.ESA.DAT.SENTINEL-1.L1_GRD",
           "rel": "collection",
           "title": "EO.ESA.DAT.SENTINEL-1.L1_GRD"
          }
         ],
         "properties": {
          "constellation": "SENTINEL-1",
          "datetime": "2023-09-09T00:17:23.781Z",
          "description": "The Sentinel-1 mission is the European Radar Observatory for the Copernicus joint initiative of the European Commission (EC) and the European Space Agency (ESA). The Sentinel-1 mission includes C-band imaging operating in four exclusive imaging modes with different resolution (down to 5 m) and coverage (up to 400 km). It provides dual polarization capability, short revisit times and rapid product delivery. Additionally, precise measurements of spacecraft position and attitude are available for every observation [https://dataspace.copernicus.eu/explore-data/data-collections/sentinel-data/sentinel-1].",
          "end_datetime": "2023-09-09T00:17:59.081Z",
          "eo:snow_cover": 0,
          "gsd": 0,
          "instruments": [
           "SAR"
          ],
          "license": "proprietary",
          "oseo:accessConstraint": {
           "description": {
            "shortName": "No license"
           },
           "grantedCountries": null,
           "grantedFlags": null,
           "grantedOrganizationCountries": null,
           "hasToBeSigned": "never",
           "licenseId": "unlicensed",
           "signatureQuota": -1,
           "viewService": "public"
          },
          "oseo:polarizationMode": "VV&VH",
          "oseo:sensorType": "RADAR",
          "oseo:swathIdentifier": "IW",
          "platform": "S1A",
          "processing:level": "LEVEL1",
          "providers": [
           {
            "description": "DEDL Fresh Data Pool",
            "name": "dedl",
            "priority": 0,
            "roles": [
             "host"
            ],
            "url": "https://hda.data.destination-earth.eu/"
           }
          ],
          "published": "2023-09-09T02:23:03.386Z",
          "sar:instrument_mode": "IW",
          "sar:product_type": "IW_GRDH_1S",
          "sat:absolute_orbit": 50243,
          "sat:orbit_state": "DESCENDING",
          "sat:relative_orbit": 121,
          "start_datetime": "2023-09-09T00:17:23.781Z",
          "updated": "2023-09-09T06:10:44.939Z"
         },
         "stac_extensions": [
          "https://stac-extensions.github.io/timestamps/v1.0.0/schema.json",
          "https://stac-extensions.github.io/eo/v1.0.0/schema.json",
          "https://stac-extensions.github.io/processing/v1.0.0/schema.json",
          "https://stac-extensions.github.io/sat/v1.0.0/schema.json",
          "https://stac-extensions.github.io/sar/v1.0.0/schema.json",
          "https://hda.central.data.destination-earth.eu/stac/extensions/oseo/json-schema/schema.json"
         ],
         "stac_version": "1.0.0",
         "type": "Feature"
        },
        {
         "assets": {
          "downloadLink": {
           "href": "https://hda.central.data.destination-earth.eu/stac/collections/EO.ESA.DAT.SENTINEL-1.L1_GRD/items/S1A_IW_GRDH_1SDV_20230909T011222_20230909T011251_050244_060C49_109C/download",
           "title": "Download link",
           "type": "application/zip"
          },
          "thumbnail": {
           "href": "https://datahub.creodias.eu/get-object?path=/Sentinel-1/SAR/IW_GRDH_1S/2023/09/09/S1A_IW_GRDH_1SDV_20230909T011222_20230909T011251_050244_060C49_109C.SAFE/preview/thumbnail.png",
           "role": "thumbnail",
           "title": "Thumbnail",
           "type": "image/jpeg"
          }
         },
         "bbox": [
          -106.640198,
          13.726484,
          -103.990623,
          15.916213
         ],
         "collection": "EO.ESA.DAT.SENTINEL-1.L1_GRD",
         "geometry": {
          "coordinates": [
           [
            [
             -106.27845,
             13.726484
            ],
            [
             -103.990623,
             14.164764
            ],
            [
             -104.333038,
             15.916213
            ],
            [
             -106.640198,
             15.482165
            ],
            [
             -106.27845,
             13.726484
            ]
           ]
          ],
          "type": "Polygon"
         },
         "id": "S1A_IW_GRDH_1SDV_20230909T011222_20230909T011251_050244_060C49_109C",
         "links": [
          {
           "href": "https://hda.central.data.destination-earth.eu/stac/collections/EO.ESA.DAT.SENTINEL-1.L1_GRD/items/S1A_IW_GRDH_1SDV_20230909T011222_20230909T011251_050244_060C49_109C",
           "rel": "self",
           "title": "S1A_IW_GRDH_1SDV_20230909T011222_20230909T011251_050244_060C49_109C"
          },
          {
           "href": "https://hda.central.data.destination-earth.eu/stac/",
           "rel": "root"
          },
          {
           "href": "https://hda.central.data.destination-earth.eu/stac/collections/EO.ESA.DAT.SENTINEL-1.L1_GRD",
           "rel": "parent",
           "title": "EO.ESA.DAT.SENTINEL-1.L1_GRD"
          },
          {
           "href": "https://hda.central.data.destination-earth.eu/stac/collections/EO.ESA.DAT.SENTINEL-1.L1_GRD",
           "rel": "collection",
           "title": "EO.ESA.DAT.SENTINEL-1.L1_GRD"
          }
         ],
         "properties": {
          "constellation": "SENTINEL-1",
          "datetime": "2023-09-09T01:12:22.747Z",
          "description": "The Sentinel-1 mission is the European Radar Observatory for the Copernicus joint initiative of the European Commission (EC) and the European Space Agency (ESA). The Sentinel-1 mission includes C-band imaging operating in four exclusive imaging modes with different resolution (down to 5 m) and coverage (up to 400 km). It provides dual polarization capability, short revisit times and rapid product delivery. Additionally, precise measurements of spacecraft position and attitude are available for every observation [https://dataspace.copernicus.eu/explore-data/data-collections/sentinel-data/sentinel-1].",
          "end_datetime": "2023-09-09T01:12:51.781Z",
          "eo:snow_cover": 0,
          "gsd": 0,
          "instruments": [
           "SAR"
          ],
          "license": "proprietary",
          "oseo:accessConstraint": {
           "description": {
            "shortName": "No license"
           },
           "grantedCountries": null,
           "grantedFlags": null,
           "grantedOrganizationCountries": null,
           "hasToBeSigned": "never",
           "licenseId": "unlicensed",
           "signatureQuota": -1,
           "viewService": "public"
          },
          "oseo:polarizationMode": "VV&VH",
          "oseo:sensorType": "RADAR",
          "oseo:swathIdentifier": "IW",
          "platform": "S1A",
          "processing:level": "LEVEL1",
          "providers": [
           {
            "description": "DEDL Fresh Data Pool",
            "name": "dedl",
            "priority": 0,
            "roles": [
             "host"
            ],
            "url": "https://hda.data.destination-earth.eu/"
           }
          ],
          "published": "2023-09-09T04:33:38.997Z",
          "sar:instrument_mode": "IW",
          "sar:product_type": "IW_GRDH_1S",
          "sat:absolute_orbit": 50244,
          "sat:orbit_state": "ASCENDING",
          "sat:relative_orbit": 122,
          "start_datetime": "2023-09-09T01:12:22.747Z",
          "updated": "2023-09-09T08:55:03.588Z"
         },
         "stac_extensions": [
          "https://stac-extensions.github.io/timestamps/v1.0.0/schema.json",
          "https://stac-extensions.github.io/eo/v1.0.0/schema.json",
          "https://stac-extensions.github.io/processing/v1.0.0/schema.json",
          "https://stac-extensions.github.io/sat/v1.0.0/schema.json",
          "https://stac-extensions.github.io/sar/v1.0.0/schema.json",
          "https://hda.central.data.destination-earth.eu/stac/extensions/oseo/json-schema/schema.json"
         ],
         "stac_version": "1.0.0",
         "type": "Feature"
        },
        {
         "assets": {
          "downloadLink": {
           "href": "https://hda.central.data.destination-earth.eu/stac/collections/EO.ESA.DAT.SENTINEL-1.L1_GRD/items/S1A_IW_GRDH_1SDV_20230909T011251_20230909T011316_050244_060C49_CD44/download",
           "title": "Download link",
           "type": "application/zip"
          },
          "thumbnail": {
           "href": "https://datahub.creodias.eu/get-object?path=/Sentinel-1/SAR/IW_GRDH_1S/2023/09/09/S1A_IW_GRDH_1SDV_20230909T011251_20230909T011316_050244_060C49_CD44.SAFE/preview/thumbnail.png",
           "role": "thumbnail",
           "title": "Thumbnail",
           "type": "image/jpeg"
          }
         },
         "bbox": [
          -106.952698,
          15.482256,
          -104.332787,
          17.424173
         ],
         "collection": "EO.ESA.DAT.SENTINEL-1.L1_GRD",
         "geometry": {
          "coordinates": [
           [
            [
             -106.640213,
             15.482256
            ],
            [
             -104.332787,
             15.916353
            ],
            [
             -104.626648,
             17.424173
            ],
            [
             -106.952698,
             16.993624
            ],
            [
             -106.640213,
             15.482256
            ]
           ]
          ],
          "type": "Polygon"
         },
         "id": "S1A_IW_GRDH_1SDV_20230909T011251_20230909T011316_050244_060C49_CD44",
         "links": [
          {
           "href": "https://hda.central.data.destination-earth.eu/stac/collections/EO.ESA.DAT.SENTINEL-1.L1_GRD/items/S1A_IW_GRDH_1SDV_20230909T011251_20230909T011316_050244_060C49_CD44",
           "rel": "self",
           "title": "S1A_IW_GRDH_1SDV_20230909T011251_20230909T011316_050244_060C49_CD44"
          },
          {
           "href": "https://hda.central.data.destination-earth.eu/stac/",
           "rel": "root"
          },
          {
           "href": "https://hda.central.data.destination-earth.eu/stac/collections/EO.ESA.DAT.SENTINEL-1.L1_GRD",
           "rel": "parent",
           "title": "EO.ESA.DAT.SENTINEL-1.L1_GRD"
          },
          {
           "href": "https://hda.central.data.destination-earth.eu/stac/collections/EO.ESA.DAT.SENTINEL-1.L1_GRD",
           "rel": "collection",
           "title": "EO.ESA.DAT.SENTINEL-1.L1_GRD"
          }
         ],
         "properties": {
          "constellation": "SENTINEL-1",
          "datetime": "2023-09-09T01:12:51.782Z",
          "description": "The Sentinel-1 mission is the European Radar Observatory for the Copernicus joint initiative of the European Commission (EC) and the European Space Agency (ESA). The Sentinel-1 mission includes C-band imaging operating in four exclusive imaging modes with different resolution (down to 5 m) and coverage (up to 400 km). It provides dual polarization capability, short revisit times and rapid product delivery. Additionally, precise measurements of spacecraft position and attitude are available for every observation [https://dataspace.copernicus.eu/explore-data/data-collections/sentinel-data/sentinel-1].",
          "end_datetime": "2023-09-09T01:13:16.781Z",
          "eo:snow_cover": 0,
          "gsd": 0,
          "instruments": [
           "SAR"
          ],
          "license": "proprietary",
          "oseo:accessConstraint": {
           "description": {
            "shortName": "No license"
           },
           "grantedCountries": null,
           "grantedFlags": null,
           "grantedOrganizationCountries": null,
           "hasToBeSigned": "never",
           "licenseId": "unlicensed",
           "signatureQuota": -1,
           "viewService": "public"
          },
          "oseo:polarizationMode": "VV&VH",
          "oseo:sensorType": "RADAR",
          "oseo:swathIdentifier": "IW",
          "platform": "S1A",
          "processing:level": "LEVEL1",
          "providers": [
           {
            "description": "DEDL Fresh Data Pool",
            "name": "dedl",
            "priority": 0,
            "roles": [
             "host"
            ],
            "url": "https://hda.data.destination-earth.eu/"
           }
          ],
          "published": "2023-09-09T04:29:32.361Z",
          "sar:instrument_mode": "IW",
          "sar:product_type": "IW_GRDH_1S",
          "sat:absolute_orbit": 50244,
          "sat:orbit_state": "ASCENDING",
          "sat:relative_orbit": 122,
          "start_datetime": "2023-09-09T01:12:51.782Z",
          "updated": "2023-09-09T08:50:47.996Z"
         },
         "stac_extensions": [
          "https://stac-extensions.github.io/timestamps/v1.0.0/schema.json",
          "https://stac-extensions.github.io/eo/v1.0.0/schema.json",
          "https://stac-extensions.github.io/processing/v1.0.0/schema.json",
          "https://stac-extensions.github.io/sat/v1.0.0/schema.json",
          "https://stac-extensions.github.io/sar/v1.0.0/schema.json",
          "https://hda.central.data.destination-earth.eu/stac/extensions/oseo/json-schema/schema.json"
         ],
         "stac_version": "1.0.0",
         "type": "Feature"
        },
        {
         "assets": {
          "downloadLink": {
           "href": "https://hda.central.data.destination-earth.eu/stac/collections/EO.ESA.DAT.SENTINEL-1.L1_GRD/items/S1A_IW_GRDH_1SDV_20230909T011316_20230909T011341_050244_060C49_2A49/download",
           "title": "Download link",
           "type": "application/zip"
          },
          "thumbnail": {
           "href": "https://datahub.creodias.eu/get-object?path=/Sentinel-1/SAR/IW_GRDH_1S/2023/09/09/S1A_IW_GRDH_1SDV_20230909T011316_20230909T011341_050244_060C49_2A49.SAFE/preview/thumbnail.png",
           "role": "thumbnail",
           "title": "Thumbnail",
           "type": "image/jpeg"
          }
         },
         "bbox": [
          -107.266449,
          16.993713,
          -104.62648,
          18.931885
         ],
         "collection": "EO.ESA.DAT.SENTINEL-1.L1_GRD",
         "geometry": {
          "coordinates": [
           [
            [
             -106.952713,
             16.993713
            ],
            [
             -104.62648,
             17.424297
            ],
            [
             -104.919701,
             18.931885
            ],
            [
             -107.266449,
             18.504759
            ],
            [
             -106.952713,
             16.993713
            ]
           ]
          ],
          "type": "Polygon"
         },
         "id": "S1A_IW_GRDH_1SDV_20230909T011316_20230909T011341_050244_060C49_2A49",
         "links": [
          {
           "href": "https://hda.central.data.destination-earth.eu/stac/collections/EO.ESA.DAT.SENTINEL-1.L1_GRD/items/S1A_IW_GRDH_1SDV_20230909T011316_20230909T011341_050244_060C49_2A49",
           "rel": "self",
           "title": "S1A_IW_GRDH_1SDV_20230909T011316_20230909T011341_050244_060C49_2A49"
          },
          {
           "href": "https://hda.central.data.destination-earth.eu/stac/",
           "rel": "root"
          },
          {
           "href": "https://hda.central.data.destination-earth.eu/stac/collections/EO.ESA.DAT.SENTINEL-1.L1_GRD",
           "rel": "parent",
           "title": "EO.ESA.DAT.SENTINEL-1.L1_GRD"
          },
          {
           "href": "https://hda.central.data.destination-earth.eu/stac/collections/EO.ESA.DAT.SENTINEL-1.L1_GRD",
           "rel": "collection",
           "title": "EO.ESA.DAT.SENTINEL-1.L1_GRD"
          }
         ],
         "properties": {
          "constellation": "SENTINEL-1",
          "datetime": "2023-09-09T01:13:16.783Z",
          "description": "The Sentinel-1 mission is the European Radar Observatory for the Copernicus joint initiative of the European Commission (EC) and the European Space Agency (ESA). The Sentinel-1 mission includes C-band imaging operating in four exclusive imaging modes with different resolution (down to 5 m) and coverage (up to 400 km). It provides dual polarization capability, short revisit times and rapid product delivery. Additionally, precise measurements of spacecraft position and attitude are available for every observation [https://dataspace.copernicus.eu/explore-data/data-collections/sentinel-data/sentinel-1].",
          "end_datetime": "2023-09-09T01:13:41.781Z",
          "eo:snow_cover": 0,
          "gsd": 0,
          "instruments": [
           "SAR"
          ],
          "license": "proprietary",
          "oseo:accessConstraint": {
           "description": {
            "shortName": "No license"
           },
           "grantedCountries": null,
           "grantedFlags": null,
           "grantedOrganizationCountries": null,
           "hasToBeSigned": "never",
           "licenseId": "unlicensed",
           "signatureQuota": -1,
           "viewService": "public"
          },
          "oseo:polarizationMode": "VV&VH",
          "oseo:sensorType": "RADAR",
          "oseo:swathIdentifier": "IW",
          "platform": "S1A",
          "processing:level": "LEVEL1",
          "providers": [
           {
            "description": "DEDL Fresh Data Pool",
            "name": "dedl",
            "priority": 0,
            "roles": [
             "host"
            ],
            "url": "https://hda.data.destination-earth.eu/"
           }
          ],
          "published": "2023-09-09T04:28:39.357Z",
          "sar:instrument_mode": "IW",
          "sar:product_type": "IW_GRDH_1S",
          "sat:absolute_orbit": 50244,
          "sat:orbit_state": "ASCENDING",
          "sat:relative_orbit": 122,
          "start_datetime": "2023-09-09T01:13:16.783Z",
          "updated": "2023-09-09T08:50:11.249Z"
         },
         "stac_extensions": [
          "https://stac-extensions.github.io/timestamps/v1.0.0/schema.json",
          "https://stac-extensions.github.io/eo/v1.0.0/schema.json",
          "https://stac-extensions.github.io/processing/v1.0.0/schema.json",
          "https://stac-extensions.github.io/sat/v1.0.0/schema.json",
          "https://stac-extensions.github.io/sar/v1.0.0/schema.json",
          "https://hda.central.data.destination-earth.eu/stac/extensions/oseo/json-schema/schema.json"
         ],
         "stac_version": "1.0.0",
         "type": "Feature"
        },
        {
         "assets": {
          "downloadLink": {
           "href": "https://hda.central.data.destination-earth.eu/stac/collections/EO.ESA.DAT.SENTINEL-1.L1_GRD/items/S1A_IW_GRDH_1SDV_20230909T011341_20230909T011406_050244_060C49_6CEC/download",
           "title": "Download link",
           "type": "application/zip"
          },
          "thumbnail": {
           "href": "https://datahub.creodias.eu/get-object?path=/Sentinel-1/SAR/IW_GRDH_1S/2023/09/09/S1A_IW_GRDH_1SDV_20230909T011341_20230909T011406_050244_060C49_6CEC.SAFE/preview/thumbnail.png",
           "role": "thumbnail",
           "title": "Thumbnail",
           "type": "image/jpeg"
          }
         },
         "bbox": [
          -107.581779,
          18.504848,
          -104.919434,
          20.439346
         ],
         "collection": "EO.ESA.DAT.SENTINEL-1.L1_GRD",
         "geometry": {
          "coordinates": [
           [
            [
             -107.266472,
             18.504848
            ],
            [
             -104.919434,
             18.932024
            ],
            [
             -105.212242,
             20.439346
            ],
            [
             -107.581779,
             20.015528
            ],
            [
             -107.266472,
             18.504848
            ]
           ]
          ],
          "type": "Polygon"
         },
         "id": "S1A_IW_GRDH_1SDV_20230909T011341_20230909T011406_050244_060C49_6CEC",
         "links": [
          {
           "href": "https://hda.central.data.destination-earth.eu/stac/collections/EO.ESA.DAT.SENTINEL-1.L1_GRD/items/S1A_IW_GRDH_1SDV_20230909T011341_20230909T011406_050244_060C49_6CEC",
           "rel": "self",
           "title": "S1A_IW_GRDH_1SDV_20230909T011341_20230909T011406_050244_060C49_6CEC"
          },
          {
           "href": "https://hda.central.data.destination-earth.eu/stac/",
           "rel": "root"
          },
          {
           "href": "https://hda.central.data.destination-earth.eu/stac/collections/EO.ESA.DAT.SENTINEL-1.L1_GRD",
           "rel": "parent",
           "title": "EO.ESA.DAT.SENTINEL-1.L1_GRD"
          },
          {
           "href": "https://hda.central.data.destination-earth.eu/stac/collections/EO.ESA.DAT.SENTINEL-1.L1_GRD",
           "rel": "collection",
           "title": "EO.ESA.DAT.SENTINEL-1.L1_GRD"
          }
         ],
         "properties": {
          "constellation": "SENTINEL-1",
          "datetime": "2023-09-09T01:13:41.783Z",
          "description": "The Sentinel-1 mission is the European Radar Observatory for the Copernicus joint initiative of the European Commission (EC) and the European Space Agency (ESA). The Sentinel-1 mission includes C-band imaging operating in four exclusive imaging modes with different resolution (down to 5 m) and coverage (up to 400 km). It provides dual polarization capability, short revisit times and rapid product delivery. Additionally, precise measurements of spacecraft position and attitude are available for every observation [https://dataspace.copernicus.eu/explore-data/data-collections/sentinel-data/sentinel-1].",
          "end_datetime": "2023-09-09T01:14:06.782Z",
          "eo:snow_cover": 0,
          "gsd": 0,
          "instruments": [
           "SAR"
          ],
          "license": "proprietary",
          "oseo:accessConstraint": {
           "description": {
            "shortName": "No license"
           },
           "grantedCountries": null,
           "grantedFlags": null,
           "grantedOrganizationCountries": null,
           "hasToBeSigned": "never",
           "licenseId": "unlicensed",
           "signatureQuota": -1,
           "viewService": "public"
          },
          "oseo:polarizationMode": "VV&VH",
          "oseo:sensorType": "RADAR",
          "oseo:swathIdentifier": "IW",
          "platform": "S1A",
          "processing:level": "LEVEL1",
          "providers": [
           {
            "description": "DEDL Fresh Data Pool",
            "name": "dedl",
            "priority": 0,
            "roles": [
             "host"
            ],
            "url": "https://hda.data.destination-earth.eu/"
           }
          ],
          "published": "2023-09-09T04:28:40.699Z",
          "sar:instrument_mode": "IW",
          "sar:product_type": "IW_GRDH_1S",
          "sat:absolute_orbit": 50244,
          "sat:orbit_state": "ASCENDING",
          "sat:relative_orbit": 122,
          "start_datetime": "2023-09-09T01:13:41.783Z",
          "updated": "2023-09-09T08:50:13.113Z"
         },
         "stac_extensions": [
          "https://stac-extensions.github.io/timestamps/v1.0.0/schema.json",
          "https://stac-extensions.github.io/eo/v1.0.0/schema.json",
          "https://stac-extensions.github.io/processing/v1.0.0/schema.json",
          "https://stac-extensions.github.io/sat/v1.0.0/schema.json",
          "https://stac-extensions.github.io/sar/v1.0.0/schema.json",
          "https://hda.central.data.destination-earth.eu/stac/extensions/oseo/json-schema/schema.json"
         ],
         "stac_version": "1.0.0",
         "type": "Feature"
        }
       ],
       "links": [
        {
         "href": "https://hda.central.data.destination-earth.eu/stac/collections/EO.ESA.DAT.SENTINEL-1.L1_GRD/items",
         "rel": "self",
         "title": "items"
        },
        {
         "href": "https://hda.central.data.destination-earth.eu/stac/",
         "rel": "root"
        },
        {
         "href": "https://hda.central.data.destination-earth.eu/stac/collections/EO.ESA.DAT.SENTINEL-1.L1_GRD",
         "rel": "parent",
         "title": "EO.ESA.DAT.SENTINEL-1.L1_GRD"
        },
        {
         "href": "https://hda.central.data.destination-earth.eu/stac/search?collections=EO.ESA.DAT.SENTINEL-1.L1_GRD&datetime=2023-09-09T00%3A00%3A00Z%2F2023-09-20T00%3A00%3A00Z&page=2",
         "method": "GET",
         "rel": "next",
         "title": "Next page",
         "type": "application/geo+json"
        }
       ],
       "numberMatched": 7013,
       "numberReturned": 20,
       "stac_extensions": [],
       "stac_version": "1.0.0",
       "timeStamp": "2024-01-11T14:30:13.206756Z",
       "type": "FeatureCollection"
      },
      "text/plain": [
       "<IPython.core.display.JSON object>"
      ]
     },
     "execution_count": 12,
     "metadata": {
      "application/json": {
       "expanded": false,
       "root": "root"
      }
     },
     "output_type": "execute_result"
    }
   ],
   "source": [
    "SEARCH_QUERY_STRING = \"?collections=EO.ESA.DAT.SENTINEL-1.L1_GRD&datetime=2023-09-09T00:00:00Z/2023-09-20T00:00:00Z\"\n",
    "print(SEARCH_URL + SEARCH_QUERY_STRING)\n",
    "display_as_json(requests.get(SEARCH_URL + SEARCH_QUERY_STRING, headers={'Authorization': 'Bearer {}'.format(access_token)}))"
   ]
  },
  {
   "cell_type": "markdown",
   "id": "5ecf658b",
   "metadata": {},
   "source": [
    "The same filters can be added as the JSON body of a **POST** request."
   ]
  },
  {
   "cell_type": "code",
   "execution_count": 13,
   "id": "23874674",
   "metadata": {
    "tags": []
   },
   "outputs": [
    {
     "data": {
      "application/json": {
       "features": [
        {
         "assets": {
          "downloadLink": {
           "href": "https://hda.central.data.destination-earth.eu/stac/collections/EO.ESA.DAT.SENTINEL-1.L1_GRD/items/S1A_EW_GRDM_1SDH_20230909T031622_20230909T031722_050245_060C53_F1E9/download",
           "title": "Download link",
           "type": "application/zip"
          },
          "thumbnail": {
           "href": "https://datahub.creodias.eu/get-object?path=/Sentinel-1/SAR/EW_GRDM_1S/2023/09/09/S1A_EW_GRDM_1SDH_20230909T031622_20230909T031722_050245_060C53_F1E9.SAFE/preview/thumbnail.png",
           "role": "thumbnail",
           "title": "Thumbnail",
           "type": "image/jpeg"
          }
         },
         "bbox": [
          47.18166,
          70.246979,
          62.622456,
          74.762428
         ],
         "collection": "EO.ESA.DAT.SENTINEL-1.L1_GRD",
         "geometry": {
          "coordinates": [
           [
            [
             58.190193,
             70.246979
            ],
            [
             62.622456,
             73.632935
            ],
            [
             49.44133,
             74.762428
            ],
            [
             47.18166,
             71.218391
            ],
            [
             58.190193,
             70.246979
            ]
           ]
          ],
          "type": "Polygon"
         },
         "id": "S1A_EW_GRDM_1SDH_20230909T031622_20230909T031722_050245_060C53_F1E9",
         "links": [
          {
           "href": "https://hda.central.data.destination-earth.eu/stac/collections/EO.ESA.DAT.SENTINEL-1.L1_GRD/items/S1A_EW_GRDM_1SDH_20230909T031622_20230909T031722_050245_060C53_F1E9",
           "rel": "self",
           "title": "S1A_EW_GRDM_1SDH_20230909T031622_20230909T031722_050245_060C53_F1E9"
          },
          {
           "href": "https://hda.central.data.destination-earth.eu/stac/",
           "rel": "root"
          },
          {
           "href": "https://hda.central.data.destination-earth.eu/stac/collections/EO.ESA.DAT.SENTINEL-1.L1_GRD",
           "rel": "parent",
           "title": "EO.ESA.DAT.SENTINEL-1.L1_GRD"
          },
          {
           "href": "https://hda.central.data.destination-earth.eu/stac/collections/EO.ESA.DAT.SENTINEL-1.L1_GRD",
           "rel": "collection",
           "title": "EO.ESA.DAT.SENTINEL-1.L1_GRD"
          }
         ],
         "properties": {
          "constellation": "SENTINEL-1",
          "datetime": "2023-09-09T03:16:22.774Z",
          "description": "The Sentinel-1 mission is the European Radar Observatory for the Copernicus joint initiative of the European Commission (EC) and the European Space Agency (ESA). The Sentinel-1 mission includes C-band imaging operating in four exclusive imaging modes with different resolution (down to 5 m) and coverage (up to 400 km). It provides dual polarization capability, short revisit times and rapid product delivery. Additionally, precise measurements of spacecraft position and attitude are available for every observation [https://dataspace.copernicus.eu/explore-data/data-collections/sentinel-data/sentinel-1].",
          "end_datetime": "2023-09-09T03:17:22.772Z",
          "eo:snow_cover": 0,
          "gsd": 0,
          "instruments": [
           "SAR"
          ],
          "license": "proprietary",
          "oseo:accessConstraint": {
           "description": {
            "shortName": "No license"
           },
           "grantedCountries": null,
           "grantedFlags": null,
           "grantedOrganizationCountries": null,
           "hasToBeSigned": "never",
           "licenseId": "unlicensed",
           "signatureQuota": -1,
           "viewService": "public"
          },
          "oseo:polarizationMode": "HH&HV",
          "oseo:sensorType": "RADAR",
          "oseo:swathIdentifier": "EW",
          "platform": "S1A",
          "processing:level": "LEVEL1",
          "providers": [
           {
            "description": "DEDL Fresh Data Pool",
            "name": "dedl",
            "priority": 0,
            "roles": [
             "host"
            ],
            "url": "https://hda.data.destination-earth.eu/"
           }
          ],
          "published": "2023-09-09T04:08:40.852Z",
          "sar:instrument_mode": "EW",
          "sar:product_type": "EW_GRDM_1S",
          "sat:absolute_orbit": 50245,
          "sat:orbit_state": "DESCENDING",
          "sat:relative_orbit": 123,
          "start_datetime": "2023-09-09T03:16:22.774Z",
          "updated": "2023-09-09T08:19:26.809Z"
         },
         "stac_extensions": [
          "https://stac-extensions.github.io/timestamps/v1.0.0/schema.json",
          "https://stac-extensions.github.io/eo/v1.0.0/schema.json",
          "https://stac-extensions.github.io/processing/v1.0.0/schema.json",
          "https://stac-extensions.github.io/sat/v1.0.0/schema.json",
          "https://stac-extensions.github.io/sar/v1.0.0/schema.json",
          "https://hda.central.data.destination-earth.eu/stac/extensions/oseo/json-schema/schema.json"
         ],
         "stac_version": "1.0.0",
         "type": "Feature"
        },
        {
         "assets": {
          "downloadLink": {
           "href": "https://hda.central.data.destination-earth.eu/stac/collections/EO.ESA.DAT.SENTINEL-1.L1_GRD/items/S1A_EW_GRDM_1SDH_20230909T031722_20230909T031822_050245_060C53_F177/download",
           "title": "Download link",
           "type": "application/zip"
          },
          "thumbnail": {
           "href": "https://datahub.creodias.eu/get-object?path=/Sentinel-1/SAR/EW_GRDM_1S/2023/09/09/S1A_EW_GRDM_1SDH_20230909T031722_20230909T031822_050245_060C53_F177.SAFE/preview/thumbnail.png",
           "role": "thumbnail",
           "title": "Thumbnail",
           "type": "image/jpeg"
          }
         },
         "bbox": [
          45.474983,
          66.793182,
          58.189823,
          71.217918
         ],
         "collection": "EO.ESA.DAT.SENTINEL-1.L1_GRD",
         "geometry": {
          "coordinates": [
           [
            [
             54.921612,
             66.793182
            ],
            [
             58.189823,
             70.246643
            ],
            [
             47.183662,
             71.217918
            ],
            [
             45.474983,
             67.660843
            ],
            [
             54.921612,
             66.793182
            ]
           ]
          ],
          "type": "Polygon"
         },
         "id": "S1A_EW_GRDM_1SDH_20230909T031722_20230909T031822_050245_060C53_F177",
         "links": [
          {
           "href": "https://hda.central.data.destination-earth.eu/stac/collections/EO.ESA.DAT.SENTINEL-1.L1_GRD/items/S1A_EW_GRDM_1SDH_20230909T031722_20230909T031822_050245_060C53_F177",
           "rel": "self",
           "title": "S1A_EW_GRDM_1SDH_20230909T031722_20230909T031822_050245_060C53_F177"
          },
          {
           "href": "https://hda.central.data.destination-earth.eu/stac/",
           "rel": "root"
          },
          {
           "href": "https://hda.central.data.destination-earth.eu/stac/collections/EO.ESA.DAT.SENTINEL-1.L1_GRD",
           "rel": "parent",
           "title": "EO.ESA.DAT.SENTINEL-1.L1_GRD"
          },
          {
           "href": "https://hda.central.data.destination-earth.eu/stac/collections/EO.ESA.DAT.SENTINEL-1.L1_GRD",
           "rel": "collection",
           "title": "EO.ESA.DAT.SENTINEL-1.L1_GRD"
          }
         ],
         "properties": {
          "constellation": "SENTINEL-1",
          "datetime": "2023-09-09T03:17:22.778Z",
          "description": "The Sentinel-1 mission is the European Radar Observatory for the Copernicus joint initiative of the European Commission (EC) and the European Space Agency (ESA). The Sentinel-1 mission includes C-band imaging operating in four exclusive imaging modes with different resolution (down to 5 m) and coverage (up to 400 km). It provides dual polarization capability, short revisit times and rapid product delivery. Additionally, precise measurements of spacecraft position and attitude are available for every observation [https://dataspace.copernicus.eu/explore-data/data-collections/sentinel-data/sentinel-1].",
          "end_datetime": "2023-09-09T03:18:22.770Z",
          "eo:snow_cover": 0,
          "gsd": 0,
          "instruments": [
           "SAR"
          ],
          "license": "proprietary",
          "oseo:accessConstraint": {
           "description": {
            "shortName": "No license"
           },
           "grantedCountries": null,
           "grantedFlags": null,
           "grantedOrganizationCountries": null,
           "hasToBeSigned": "never",
           "licenseId": "unlicensed",
           "signatureQuota": -1,
           "viewService": "public"
          },
          "oseo:polarizationMode": "HH&HV",
          "oseo:sensorType": "RADAR",
          "oseo:swathIdentifier": "EW",
          "platform": "S1A",
          "processing:level": "LEVEL1",
          "providers": [
           {
            "description": "DEDL Fresh Data Pool",
            "name": "dedl",
            "priority": 0,
            "roles": [
             "host"
            ],
            "url": "https://hda.data.destination-earth.eu/"
           }
          ],
          "published": "2023-09-09T04:07:41.820Z",
          "sar:instrument_mode": "EW",
          "sar:product_type": "EW_GRDM_1S",
          "sat:absolute_orbit": 50245,
          "sat:orbit_state": "DESCENDING",
          "sat:relative_orbit": 123,
          "start_datetime": "2023-09-09T03:17:22.778Z",
          "updated": "2023-09-09T08:18:04.170Z"
         },
         "stac_extensions": [
          "https://stac-extensions.github.io/timestamps/v1.0.0/schema.json",
          "https://stac-extensions.github.io/eo/v1.0.0/schema.json",
          "https://stac-extensions.github.io/processing/v1.0.0/schema.json",
          "https://stac-extensions.github.io/sat/v1.0.0/schema.json",
          "https://stac-extensions.github.io/sar/v1.0.0/schema.json",
          "https://hda.central.data.destination-earth.eu/stac/extensions/oseo/json-schema/schema.json"
         ],
         "stac_version": "1.0.0",
         "type": "Feature"
        },
        {
         "assets": {
          "downloadLink": {
           "href": "https://hda.central.data.destination-earth.eu/stac/collections/EO.ESA.DAT.SENTINEL-1.L1_GRD/items/S1A_EW_GRDM_1SDH_20230909T031822_20230909T031925_050245_060C53_FB32/download",
           "title": "Download link",
           "type": "application/zip"
          },
          "thumbnail": {
           "href": "https://datahub.creodias.eu/get-object?path=/Sentinel-1/SAR/EW_GRDM_1S/2023/09/09/S1A_EW_GRDM_1SDH_20230909T031822_20230909T031925_050245_060C53_FB32.SAFE/preview/thumbnail.png",
           "role": "thumbnail",
           "title": "Thumbnail",
           "type": "image/jpeg"
          }
         },
         "bbox": [
          44.049725,
          63.165264,
          54.921326,
          67.660378
         ],
         "collection": "EO.ESA.DAT.SENTINEL-1.L1_GRD",
         "geometry": {
          "coordinates": [
           [
            [
             52.296551,
             63.165264
            ],
            [
             54.921326,
             66.792831
            ],
            [
             45.4767,
             67.660378
            ],
            [
             44.049725,
             63.960938
            ],
            [
             52.296551,
             63.165264
            ]
           ]
          ],
          "type": "Polygon"
         },
         "id": "S1A_EW_GRDM_1SDH_20230909T031822_20230909T031925_050245_060C53_FB32",
         "links": [
          {
           "href": "https://hda.central.data.destination-earth.eu/stac/collections/EO.ESA.DAT.SENTINEL-1.L1_GRD/items/S1A_EW_GRDM_1SDH_20230909T031822_20230909T031925_050245_060C53_FB32",
           "rel": "self",
           "title": "S1A_EW_GRDM_1SDH_20230909T031822_20230909T031925_050245_060C53_FB32"
          },
          {
           "href": "https://hda.central.data.destination-earth.eu/stac/",
           "rel": "root"
          },
          {
           "href": "https://hda.central.data.destination-earth.eu/stac/collections/EO.ESA.DAT.SENTINEL-1.L1_GRD",
           "rel": "parent",
           "title": "EO.ESA.DAT.SENTINEL-1.L1_GRD"
          },
          {
           "href": "https://hda.central.data.destination-earth.eu/stac/collections/EO.ESA.DAT.SENTINEL-1.L1_GRD",
           "rel": "collection",
           "title": "EO.ESA.DAT.SENTINEL-1.L1_GRD"
          }
         ],
         "properties": {
          "constellation": "SENTINEL-1",
          "datetime": "2023-09-09T03:18:22.776Z",
          "description": "The Sentinel-1 mission is the European Radar Observatory for the Copernicus joint initiative of the European Commission (EC) and the European Space Agency (ESA). The Sentinel-1 mission includes C-band imaging operating in four exclusive imaging modes with different resolution (down to 5 m) and coverage (up to 400 km). It provides dual polarization capability, short revisit times and rapid product delivery. Additionally, precise measurements of spacecraft position and attitude are available for every observation [https://dataspace.copernicus.eu/explore-data/data-collections/sentinel-data/sentinel-1].",
          "end_datetime": "2023-09-09T03:19:25.007Z",
          "eo:snow_cover": 0,
          "gsd": 0,
          "instruments": [
           "SAR"
          ],
          "license": "proprietary",
          "oseo:accessConstraint": {
           "description": {
            "shortName": "No license"
           },
           "grantedCountries": null,
           "grantedFlags": null,
           "grantedOrganizationCountries": null,
           "hasToBeSigned": "never",
           "licenseId": "unlicensed",
           "signatureQuota": -1,
           "viewService": "public"
          },
          "oseo:polarizationMode": "HH&HV",
          "oseo:sensorType": "RADAR",
          "oseo:swathIdentifier": "EW",
          "platform": "S1A",
          "processing:level": "LEVEL1",
          "providers": [
           {
            "description": "DEDL Fresh Data Pool",
            "name": "dedl",
            "priority": 0,
            "roles": [
             "host"
            ],
            "url": "https://hda.data.destination-earth.eu/"
           }
          ],
          "published": "2023-09-09T04:09:06.920Z",
          "sar:instrument_mode": "EW",
          "sar:product_type": "EW_GRDM_1S",
          "sat:absolute_orbit": 50245,
          "sat:orbit_state": "DESCENDING",
          "sat:relative_orbit": 123,
          "start_datetime": "2023-09-09T03:18:22.776Z",
          "updated": "2023-09-09T08:20:20.379Z"
         },
         "stac_extensions": [
          "https://stac-extensions.github.io/timestamps/v1.0.0/schema.json",
          "https://stac-extensions.github.io/eo/v1.0.0/schema.json",
          "https://stac-extensions.github.io/processing/v1.0.0/schema.json",
          "https://stac-extensions.github.io/sat/v1.0.0/schema.json",
          "https://stac-extensions.github.io/sar/v1.0.0/schema.json",
          "https://hda.central.data.destination-earth.eu/stac/extensions/oseo/json-schema/schema.json"
         ],
         "stac_version": "1.0.0",
         "type": "Feature"
        },
        {
         "assets": {
          "downloadLink": {
           "href": "https://hda.central.data.destination-earth.eu/stac/collections/EO.ESA.DAT.SENTINEL-1.L1_GRD/items/S1A_IW_GRDH_1SDV_20230909T032122_20230909T032151_050245_060C54_525E/download",
           "title": "Download link",
           "type": "application/zip"
          },
          "thumbnail": {
           "href": "https://datahub.creodias.eu/get-object?path=/Sentinel-1/SAR/IW_GRDH_1S/2023/09/09/S1A_IW_GRDH_1SDV_20230909T032122_20230909T032151_050245_060C54_525E.SAFE/preview/thumbnail.png",
           "role": "thumbnail",
           "title": "Thumbnail",
           "type": "image/jpeg"
          }
         },
         "bbox": [
          41.845001,
          54.778111,
          46.53653,
          56.928867
         ],
         "collection": "EO.ESA.DAT.SENTINEL-1.L1_GRD",
         "geometry": {
          "coordinates": [
           [
            [
             45.877132,
             54.778111
            ],
            [
             46.53653,
             56.507408
            ],
            [
             42.322643,
             56.928867
            ],
            [
             41.845001,
             55.194149
            ],
            [
             45.877132,
             54.778111
            ]
           ]
          ],
          "type": "Polygon"
         },
         "id": "S1A_IW_GRDH_1SDV_20230909T032122_20230909T032151_050245_060C54_525E",
         "links": [
          {
           "href": "https://hda.central.data.destination-earth.eu/stac/collections/EO.ESA.DAT.SENTINEL-1.L1_GRD/items/S1A_IW_GRDH_1SDV_20230909T032122_20230909T032151_050245_060C54_525E",
           "rel": "self",
           "title": "S1A_IW_GRDH_1SDV_20230909T032122_20230909T032151_050245_060C54_525E"
          },
          {
           "href": "https://hda.central.data.destination-earth.eu/stac/",
           "rel": "root"
          },
          {
           "href": "https://hda.central.data.destination-earth.eu/stac/collections/EO.ESA.DAT.SENTINEL-1.L1_GRD",
           "rel": "parent",
           "title": "EO.ESA.DAT.SENTINEL-1.L1_GRD"
          },
          {
           "href": "https://hda.central.data.destination-earth.eu/stac/collections/EO.ESA.DAT.SENTINEL-1.L1_GRD",
           "rel": "collection",
           "title": "EO.ESA.DAT.SENTINEL-1.L1_GRD"
          }
         ],
         "properties": {
          "constellation": "SENTINEL-1",
          "datetime": "2023-09-09T03:21:22.417Z",
          "description": "The Sentinel-1 mission is the European Radar Observatory for the Copernicus joint initiative of the European Commission (EC) and the European Space Agency (ESA). The Sentinel-1 mission includes C-band imaging operating in four exclusive imaging modes with different resolution (down to 5 m) and coverage (up to 400 km). It provides dual polarization capability, short revisit times and rapid product delivery. Additionally, precise measurements of spacecraft position and attitude are available for every observation [https://dataspace.copernicus.eu/explore-data/data-collections/sentinel-data/sentinel-1].",
          "end_datetime": "2023-09-09T03:21:51.467Z",
          "eo:snow_cover": 0,
          "gsd": 0,
          "instruments": [
           "SAR"
          ],
          "license": "proprietary",
          "oseo:accessConstraint": {
           "description": {
            "shortName": "No license"
           },
           "grantedCountries": null,
           "grantedFlags": null,
           "grantedOrganizationCountries": null,
           "hasToBeSigned": "never",
           "licenseId": "unlicensed",
           "signatureQuota": -1,
           "viewService": "public"
          },
          "oseo:polarizationMode": "VV&VH",
          "oseo:sensorType": "RADAR",
          "oseo:swathIdentifier": "IW",
          "platform": "S1A",
          "processing:level": "LEVEL1",
          "providers": [
           {
            "description": "DEDL Fresh Data Pool",
            "name": "dedl",
            "priority": 0,
            "roles": [
             "host"
            ],
            "url": "https://hda.data.destination-earth.eu/"
           }
          ],
          "published": "2023-09-09T06:25:19.318Z",
          "sar:instrument_mode": "IW",
          "sar:product_type": "IW_GRDH_1S",
          "sat:absolute_orbit": 50245,
          "sat:orbit_state": "DESCENDING",
          "sat:relative_orbit": 123,
          "start_datetime": "2023-09-09T03:21:22.417Z",
          "updated": "2023-09-09T10:08:25.081Z"
         },
         "stac_extensions": [
          "https://stac-extensions.github.io/timestamps/v1.0.0/schema.json",
          "https://stac-extensions.github.io/eo/v1.0.0/schema.json",
          "https://stac-extensions.github.io/processing/v1.0.0/schema.json",
          "https://stac-extensions.github.io/sat/v1.0.0/schema.json",
          "https://stac-extensions.github.io/sar/v1.0.0/schema.json",
          "https://hda.central.data.destination-earth.eu/stac/extensions/oseo/json-schema/schema.json"
         ],
         "stac_version": "1.0.0",
         "type": "Feature"
        },
        {
         "assets": {
          "downloadLink": {
           "href": "https://hda.central.data.destination-earth.eu/stac/collections/EO.ESA.DAT.SENTINEL-1.L1_GRD/items/S1A_IW_GRDH_1SDV_20230909T032151_20230909T032216_050245_060C54_49C6/download",
           "title": "Download link",
           "type": "application/zip"
          },
          "thumbnail": {
           "href": "https://datahub.creodias.eu/get-object?path=/Sentinel-1/SAR/IW_GRDH_1S/2023/09/09/S1A_IW_GRDH_1SDV_20230909T032151_20230909T032216_050245_060C54_49C6.SAFE/preview/thumbnail.png",
           "role": "thumbnail",
           "title": "Thumbnail",
           "type": "image/jpeg"
          }
         },
         "bbox": [
          41.453026,
          53.287895,
          45.877102,
          55.193928
         ],
         "collection": "EO.ESA.DAT.SENTINEL-1.L1_GRD",
         "geometry": {
          "coordinates": [
           [
            [
             45.341801,
             53.287895
            ],
            [
             45.877102,
             54.778019
            ],
            [
             41.846531,
             55.193928
            ],
            [
             41.453026,
             53.700146
            ],
            [
             45.341801,
             53.287895
            ]
           ]
          ],
          "type": "Polygon"
         },
         "id": "S1A_IW_GRDH_1SDV_20230909T032151_20230909T032216_050245_060C54_49C6",
         "links": [
          {
           "href": "https://hda.central.data.destination-earth.eu/stac/collections/EO.ESA.DAT.SENTINEL-1.L1_GRD/items/S1A_IW_GRDH_1SDV_20230909T032151_20230909T032216_050245_060C54_49C6",
           "rel": "self",
           "title": "S1A_IW_GRDH_1SDV_20230909T032151_20230909T032216_050245_060C54_49C6"
          },
          {
           "href": "https://hda.central.data.destination-earth.eu/stac/",
           "rel": "root"
          },
          {
           "href": "https://hda.central.data.destination-earth.eu/stac/collections/EO.ESA.DAT.SENTINEL-1.L1_GRD",
           "rel": "parent",
           "title": "EO.ESA.DAT.SENTINEL-1.L1_GRD"
          },
          {
           "href": "https://hda.central.data.destination-earth.eu/stac/collections/EO.ESA.DAT.SENTINEL-1.L1_GRD",
           "rel": "collection",
           "title": "EO.ESA.DAT.SENTINEL-1.L1_GRD"
          }
         ],
         "properties": {
          "constellation": "SENTINEL-1",
          "datetime": "2023-09-09T03:21:51.469Z",
          "description": "The Sentinel-1 mission is the European Radar Observatory for the Copernicus joint initiative of the European Commission (EC) and the European Space Agency (ESA). The Sentinel-1 mission includes C-band imaging operating in four exclusive imaging modes with different resolution (down to 5 m) and coverage (up to 400 km). It provides dual polarization capability, short revisit times and rapid product delivery. Additionally, precise measurements of spacecraft position and attitude are available for every observation [https://dataspace.copernicus.eu/explore-data/data-collections/sentinel-data/sentinel-1].",
          "end_datetime": "2023-09-09T03:22:16.467Z",
          "eo:snow_cover": 0,
          "gsd": 0,
          "instruments": [
           "SAR"
          ],
          "license": "proprietary",
          "oseo:accessConstraint": {
           "description": {
            "shortName": "No license"
           },
           "grantedCountries": null,
           "grantedFlags": null,
           "grantedOrganizationCountries": null,
           "hasToBeSigned": "never",
           "licenseId": "unlicensed",
           "signatureQuota": -1,
           "viewService": "public"
          },
          "oseo:polarizationMode": "VV&VH",
          "oseo:sensorType": "RADAR",
          "oseo:swathIdentifier": "IW",
          "platform": "S1A",
          "processing:level": "LEVEL1",
          "providers": [
           {
            "description": "DEDL Fresh Data Pool",
            "name": "dedl",
            "priority": 0,
            "roles": [
             "host"
            ],
            "url": "https://hda.data.destination-earth.eu/"
           }
          ],
          "published": "2023-09-09T06:23:42.759Z",
          "sar:instrument_mode": "IW",
          "sar:product_type": "IW_GRDH_1S",
          "sat:absolute_orbit": 50245,
          "sat:orbit_state": "DESCENDING",
          "sat:relative_orbit": 123,
          "start_datetime": "2023-09-09T03:21:51.469Z",
          "updated": "2023-09-09T10:07:16.656Z"
         },
         "stac_extensions": [
          "https://stac-extensions.github.io/timestamps/v1.0.0/schema.json",
          "https://stac-extensions.github.io/eo/v1.0.0/schema.json",
          "https://stac-extensions.github.io/processing/v1.0.0/schema.json",
          "https://stac-extensions.github.io/sat/v1.0.0/schema.json",
          "https://stac-extensions.github.io/sar/v1.0.0/schema.json",
          "https://hda.central.data.destination-earth.eu/stac/extensions/oseo/json-schema/schema.json"
         ],
         "stac_version": "1.0.0",
         "type": "Feature"
        },
        {
         "assets": {
          "downloadLink": {
           "href": "https://hda.central.data.destination-earth.eu/stac/collections/EO.ESA.DAT.SENTINEL-1.L1_GRD/items/S1A_IW_GRDH_1SDV_20230909T032216_20230909T032241_050245_060C54_9631/download",
           "title": "Download link",
           "type": "application/zip"
          },
          "thumbnail": {
           "href": "https://datahub.creodias.eu/get-object?path=/Sentinel-1/SAR/IW_GRDH_1S/2023/09/09/S1A_IW_GRDH_1SDV_20230909T032216_20230909T032241_050245_060C54_9631.SAFE/preview/thumbnail.png",
           "role": "thumbnail",
           "title": "Thumbnail",
           "type": "image/jpeg"
          }
         },
         "bbox": [
          41.076401,
          51.795849,
          45.34177,
          53.699913
         ],
         "collection": "EO.ESA.DAT.SENTINEL-1.L1_GRD",
         "geometry": {
          "coordinates": [
           [
            [
             44.833652,
             51.795849
            ],
            [
             45.34177,
             53.287807
            ],
            [
             41.454651,
             53.699913
            ],
            [
             41.076401,
             52.205154
            ],
            [
             44.833652,
             51.795849
            ]
           ]
          ],
          "type": "Polygon"
         },
         "id": "S1A_IW_GRDH_1SDV_20230909T032216_20230909T032241_050245_060C54_9631",
         "links": [
          {
           "href": "https://hda.central.data.destination-earth.eu/stac/collections/EO.ESA.DAT.SENTINEL-1.L1_GRD/items/S1A_IW_GRDH_1SDV_20230909T032216_20230909T032241_050245_060C54_9631",
           "rel": "self",
           "title": "S1A_IW_GRDH_1SDV_20230909T032216_20230909T032241_050245_060C54_9631"
          },
          {
           "href": "https://hda.central.data.destination-earth.eu/stac/",
           "rel": "root"
          },
          {
           "href": "https://hda.central.data.destination-earth.eu/stac/collections/EO.ESA.DAT.SENTINEL-1.L1_GRD",
           "rel": "parent",
           "title": "EO.ESA.DAT.SENTINEL-1.L1_GRD"
          },
          {
           "href": "https://hda.central.data.destination-earth.eu/stac/collections/EO.ESA.DAT.SENTINEL-1.L1_GRD",
           "rel": "collection",
           "title": "EO.ESA.DAT.SENTINEL-1.L1_GRD"
          }
         ],
         "properties": {
          "constellation": "SENTINEL-1",
          "datetime": "2023-09-09T03:22:16.469Z",
          "description": "The Sentinel-1 mission is the European Radar Observatory for the Copernicus joint initiative of the European Commission (EC) and the European Space Agency (ESA). The Sentinel-1 mission includes C-band imaging operating in four exclusive imaging modes with different resolution (down to 5 m) and coverage (up to 400 km). It provides dual polarization capability, short revisit times and rapid product delivery. Additionally, precise measurements of spacecraft position and attitude are available for every observation [https://dataspace.copernicus.eu/explore-data/data-collections/sentinel-data/sentinel-1].",
          "end_datetime": "2023-09-09T03:22:41.467Z",
          "eo:snow_cover": 0,
          "gsd": 0,
          "instruments": [
           "SAR"
          ],
          "license": "proprietary",
          "oseo:accessConstraint": {
           "description": {
            "shortName": "No license"
           },
           "grantedCountries": null,
           "grantedFlags": null,
           "grantedOrganizationCountries": null,
           "hasToBeSigned": "never",
           "licenseId": "unlicensed",
           "signatureQuota": -1,
           "viewService": "public"
          },
          "oseo:polarizationMode": "VV&VH",
          "oseo:sensorType": "RADAR",
          "oseo:swathIdentifier": "IW",
          "platform": "S1A",
          "processing:level": "LEVEL1",
          "providers": [
           {
            "description": "DEDL Fresh Data Pool",
            "name": "dedl",
            "priority": 0,
            "roles": [
             "host"
            ],
            "url": "https://hda.data.destination-earth.eu/"
           }
          ],
          "published": "2023-09-09T06:24:08.924Z",
          "sar:instrument_mode": "IW",
          "sar:product_type": "IW_GRDH_1S",
          "sat:absolute_orbit": 50245,
          "sat:orbit_state": "DESCENDING",
          "sat:relative_orbit": 123,
          "start_datetime": "2023-09-09T03:22:16.469Z",
          "updated": "2023-09-09T10:07:33.262Z"
         },
         "stac_extensions": [
          "https://stac-extensions.github.io/timestamps/v1.0.0/schema.json",
          "https://stac-extensions.github.io/eo/v1.0.0/schema.json",
          "https://stac-extensions.github.io/processing/v1.0.0/schema.json",
          "https://stac-extensions.github.io/sat/v1.0.0/schema.json",
          "https://stac-extensions.github.io/sar/v1.0.0/schema.json",
          "https://hda.central.data.destination-earth.eu/stac/extensions/oseo/json-schema/schema.json"
         ],
         "stac_version": "1.0.0",
         "type": "Feature"
        },
        {
         "assets": {
          "downloadLink": {
           "href": "https://hda.central.data.destination-earth.eu/stac/collections/EO.ESA.DAT.SENTINEL-1.L1_GRD/items/S1A_IW_GRDH_1SDV_20230909T032241_20230909T032306_050245_060C54_1672/download",
           "title": "Download link",
           "type": "application/zip"
          },
          "thumbnail": {
           "href": "https://datahub.creodias.eu/get-object?path=/Sentinel-1/SAR/IW_GRDH_1S/2023/09/09/S1A_IW_GRDH_1SDV_20230909T032241_20230909T032306_050245_060C54_1672.SAFE/preview/thumbnail.png",
           "role": "thumbnail",
           "title": "Thumbnail",
           "type": "image/jpeg"
          }
         },
         "bbox": [
          40.711311,
          50.302319,
          44.833622,
          52.204933
         ],
         "collection": "EO.ESA.DAT.SENTINEL-1.L1_GRD",
         "geometry": {
          "coordinates": [
           [
            [
             44.347866,
             50.302319
            ],
            [
             44.833622,
             51.795761
            ],
            [
             41.077827,
             52.204933
            ],
            [
             40.711311,
             50.709389
            ],
            [
             44.347866,
             50.302319
            ]
           ]
          ],
          "type": "Polygon"
         },
         "id": "S1A_IW_GRDH_1SDV_20230909T032241_20230909T032306_050245_060C54_1672",
         "links": [
          {
           "href": "https://hda.central.data.destination-earth.eu/stac/collections/EO.ESA.DAT.SENTINEL-1.L1_GRD/items/S1A_IW_GRDH_1SDV_20230909T032241_20230909T032306_050245_060C54_1672",
           "rel": "self",
           "title": "S1A_IW_GRDH_1SDV_20230909T032241_20230909T032306_050245_060C54_1672"
          },
          {
           "href": "https://hda.central.data.destination-earth.eu/stac/",
           "rel": "root"
          },
          {
           "href": "https://hda.central.data.destination-earth.eu/stac/collections/EO.ESA.DAT.SENTINEL-1.L1_GRD",
           "rel": "parent",
           "title": "EO.ESA.DAT.SENTINEL-1.L1_GRD"
          },
          {
           "href": "https://hda.central.data.destination-earth.eu/stac/collections/EO.ESA.DAT.SENTINEL-1.L1_GRD",
           "rel": "collection",
           "title": "EO.ESA.DAT.SENTINEL-1.L1_GRD"
          }
         ],
         "properties": {
          "constellation": "SENTINEL-1",
          "datetime": "2023-09-09T03:22:41.468Z",
          "description": "The Sentinel-1 mission is the European Radar Observatory for the Copernicus joint initiative of the European Commission (EC) and the European Space Agency (ESA). The Sentinel-1 mission includes C-band imaging operating in four exclusive imaging modes with different resolution (down to 5 m) and coverage (up to 400 km). It provides dual polarization capability, short revisit times and rapid product delivery. Additionally, precise measurements of spacecraft position and attitude are available for every observation [https://dataspace.copernicus.eu/explore-data/data-collections/sentinel-data/sentinel-1].",
          "end_datetime": "2023-09-09T03:23:06.467Z",
          "eo:snow_cover": 0,
          "gsd": 0,
          "instruments": [
           "SAR"
          ],
          "license": "proprietary",
          "oseo:accessConstraint": {
           "description": {
            "shortName": "No license"
           },
           "grantedCountries": null,
           "grantedFlags": null,
           "grantedOrganizationCountries": null,
           "hasToBeSigned": "never",
           "licenseId": "unlicensed",
           "signatureQuota": -1,
           "viewService": "public"
          },
          "oseo:polarizationMode": "VV&VH",
          "oseo:sensorType": "RADAR",
          "oseo:swathIdentifier": "IW",
          "platform": "S1A",
          "processing:level": "LEVEL1",
          "providers": [
           {
            "description": "DEDL Fresh Data Pool",
            "name": "dedl",
            "priority": 0,
            "roles": [
             "host"
            ],
            "url": "https://hda.data.destination-earth.eu/"
           }
          ],
          "published": "2023-09-09T06:24:49.337Z",
          "sar:instrument_mode": "IW",
          "sar:product_type": "IW_GRDH_1S",
          "sat:absolute_orbit": 50245,
          "sat:orbit_state": "DESCENDING",
          "sat:relative_orbit": 123,
          "start_datetime": "2023-09-09T03:22:41.468Z",
          "updated": "2023-09-09T10:08:03.789Z"
         },
         "stac_extensions": [
          "https://stac-extensions.github.io/timestamps/v1.0.0/schema.json",
          "https://stac-extensions.github.io/eo/v1.0.0/schema.json",
          "https://stac-extensions.github.io/processing/v1.0.0/schema.json",
          "https://stac-extensions.github.io/sat/v1.0.0/schema.json",
          "https://stac-extensions.github.io/sar/v1.0.0/schema.json",
          "https://hda.central.data.destination-earth.eu/stac/extensions/oseo/json-schema/schema.json"
         ],
         "stac_version": "1.0.0",
         "type": "Feature"
        },
        {
         "assets": {
          "downloadLink": {
           "href": "https://hda.central.data.destination-earth.eu/stac/collections/EO.ESA.DAT.SENTINEL-1.L1_GRD/items/S1A_IW_GRDH_1SDV_20230909T032306_20230909T032331_050245_060C54_887B/download",
           "title": "Download link",
           "type": "application/zip"
          },
          "thumbnail": {
           "href": "https://datahub.creodias.eu/get-object?path=/Sentinel-1/SAR/IW_GRDH_1S/2023/09/09/S1A_IW_GRDH_1SDV_20230909T032306_20230909T032331_050245_060C54_887B.SAFE/preview/thumbnail.png",
           "role": "thumbnail",
           "title": "Thumbnail",
           "type": "image/jpeg"
          }
         },
         "bbox": [
          40.355663,
          48.807533,
          44.347839,
          50.709152
         ],
         "collection": "EO.ESA.DAT.SENTINEL-1.L1_GRD",
         "geometry": {
          "coordinates": [
           [
            [
             43.880962,
             48.807533
            ],
            [
             44.347839,
             50.302227
            ],
            [
             40.71283,
             50.709152
            ],
            [
             40.355663,
             49.21294
            ],
            [
             43.880962,
             48.807533
            ]
           ]
          ],
          "type": "Polygon"
         },
         "id": "S1A_IW_GRDH_1SDV_20230909T032306_20230909T032331_050245_060C54_887B",
         "links": [
          {
           "href": "https://hda.central.data.destination-earth.eu/stac/collections/EO.ESA.DAT.SENTINEL-1.L1_GRD/items/S1A_IW_GRDH_1SDV_20230909T032306_20230909T032331_050245_060C54_887B",
           "rel": "self",
           "title": "S1A_IW_GRDH_1SDV_20230909T032306_20230909T032331_050245_060C54_887B"
          },
          {
           "href": "https://hda.central.data.destination-earth.eu/stac/",
           "rel": "root"
          },
          {
           "href": "https://hda.central.data.destination-earth.eu/stac/collections/EO.ESA.DAT.SENTINEL-1.L1_GRD",
           "rel": "parent",
           "title": "EO.ESA.DAT.SENTINEL-1.L1_GRD"
          },
          {
           "href": "https://hda.central.data.destination-earth.eu/stac/collections/EO.ESA.DAT.SENTINEL-1.L1_GRD",
           "rel": "collection",
           "title": "EO.ESA.DAT.SENTINEL-1.L1_GRD"
          }
         ],
         "properties": {
          "constellation": "SENTINEL-1",
          "datetime": "2023-09-09T03:23:06.468Z",
          "description": "The Sentinel-1 mission is the European Radar Observatory for the Copernicus joint initiative of the European Commission (EC) and the European Space Agency (ESA). The Sentinel-1 mission includes C-band imaging operating in four exclusive imaging modes with different resolution (down to 5 m) and coverage (up to 400 km). It provides dual polarization capability, short revisit times and rapid product delivery. Additionally, precise measurements of spacecraft position and attitude are available for every observation [https://dataspace.copernicus.eu/explore-data/data-collections/sentinel-data/sentinel-1].",
          "end_datetime": "2023-09-09T03:23:31.467Z",
          "eo:snow_cover": 0,
          "gsd": 0,
          "instruments": [
           "SAR"
          ],
          "license": "proprietary",
          "oseo:accessConstraint": {
           "description": {
            "shortName": "No license"
           },
           "grantedCountries": null,
           "grantedFlags": null,
           "grantedOrganizationCountries": null,
           "hasToBeSigned": "never",
           "licenseId": "unlicensed",
           "signatureQuota": -1,
           "viewService": "public"
          },
          "oseo:polarizationMode": "VV&VH",
          "oseo:sensorType": "RADAR",
          "oseo:swathIdentifier": "IW",
          "platform": "S1A",
          "processing:level": "LEVEL1",
          "providers": [
           {
            "description": "DEDL Fresh Data Pool",
            "name": "dedl",
            "priority": 0,
            "roles": [
             "host"
            ],
            "url": "https://hda.data.destination-earth.eu/"
           }
          ],
          "published": "2023-09-09T06:26:07.737Z",
          "sar:instrument_mode": "IW",
          "sar:product_type": "IW_GRDH_1S",
          "sat:absolute_orbit": 50245,
          "sat:orbit_state": "DESCENDING",
          "sat:relative_orbit": 123,
          "start_datetime": "2023-09-09T03:23:06.468Z",
          "updated": "2023-09-09T10:08:59.151Z"
         },
         "stac_extensions": [
          "https://stac-extensions.github.io/timestamps/v1.0.0/schema.json",
          "https://stac-extensions.github.io/eo/v1.0.0/schema.json",
          "https://stac-extensions.github.io/processing/v1.0.0/schema.json",
          "https://stac-extensions.github.io/sat/v1.0.0/schema.json",
          "https://stac-extensions.github.io/sar/v1.0.0/schema.json",
          "https://hda.central.data.destination-earth.eu/stac/extensions/oseo/json-schema/schema.json"
         ],
         "stac_version": "1.0.0",
         "type": "Feature"
        },
        {
         "assets": {
          "downloadLink": {
           "href": "https://hda.central.data.destination-earth.eu/stac/collections/EO.ESA.DAT.SENTINEL-1.L1_GRD/items/S1A_IW_GRDH_1SDV_20230909T032331_20230909T032356_050245_060C54_CF83/download",
           "title": "Download link",
           "type": "application/zip"
          },
          "thumbnail": {
           "href": "https://datahub.creodias.eu/get-object?path=/Sentinel-1/SAR/IW_GRDH_1S/2023/09/09/S1A_IW_GRDH_1SDV_20230909T032331_20230909T032356_050245_060C54_CF83.SAFE/preview/thumbnail.png",
           "role": "thumbnail",
           "title": "Thumbnail",
           "type": "image/jpeg"
          }
         },
         "bbox": [
          40.010883,
          47.311394,
          43.880936,
          49.21257
         ],
         "collection": "EO.ESA.DAT.SENTINEL-1.L1_GRD",
         "geometry": {
          "coordinates": [
           [
            [
             43.432247,
             47.311394
            ],
            [
             43.880936,
             48.807446
            ],
            [
             40.35849,
             49.21257
            ],
            [
             40.010883,
             47.715572
            ],
            [
             43.432247,
             47.311394
            ]
           ]
          ],
          "type": "Polygon"
         },
         "id": "S1A_IW_GRDH_1SDV_20230909T032331_20230909T032356_050245_060C54_CF83",
         "links": [
          {
           "href": "https://hda.central.data.destination-earth.eu/stac/collections/EO.ESA.DAT.SENTINEL-1.L1_GRD/items/S1A_IW_GRDH_1SDV_20230909T032331_20230909T032356_050245_060C54_CF83",
           "rel": "self",
           "title": "S1A_IW_GRDH_1SDV_20230909T032331_20230909T032356_050245_060C54_CF83"
          },
          {
           "href": "https://hda.central.data.destination-earth.eu/stac/",
           "rel": "root"
          },
          {
           "href": "https://hda.central.data.destination-earth.eu/stac/collections/EO.ESA.DAT.SENTINEL-1.L1_GRD",
           "rel": "parent",
           "title": "EO.ESA.DAT.SENTINEL-1.L1_GRD"
          },
          {
           "href": "https://hda.central.data.destination-earth.eu/stac/collections/EO.ESA.DAT.SENTINEL-1.L1_GRD",
           "rel": "collection",
           "title": "EO.ESA.DAT.SENTINEL-1.L1_GRD"
          }
         ],
         "properties": {
          "constellation": "SENTINEL-1",
          "datetime": "2023-09-09T03:23:31.468Z",
          "description": "The Sentinel-1 mission is the European Radar Observatory for the Copernicus joint initiative of the European Commission (EC) and the European Space Agency (ESA). The Sentinel-1 mission includes C-band imaging operating in four exclusive imaging modes with different resolution (down to 5 m) and coverage (up to 400 km). It provides dual polarization capability, short revisit times and rapid product delivery. Additionally, precise measurements of spacecraft position and attitude are available for every observation [https://dataspace.copernicus.eu/explore-data/data-collections/sentinel-data/sentinel-1].",
          "end_datetime": "2023-09-09T03:23:56.467Z",
          "eo:snow_cover": 0,
          "gsd": 0,
          "instruments": [
           "SAR"
          ],
          "license": "proprietary",
          "oseo:accessConstraint": {
           "description": {
            "shortName": "No license"
           },
           "grantedCountries": null,
           "grantedFlags": null,
           "grantedOrganizationCountries": null,
           "hasToBeSigned": "never",
           "licenseId": "unlicensed",
           "signatureQuota": -1,
           "viewService": "public"
          },
          "oseo:polarizationMode": "VV&VH",
          "oseo:sensorType": "RADAR",
          "oseo:swathIdentifier": "IW",
          "platform": "S1A",
          "processing:level": "LEVEL1",
          "providers": [
           {
            "description": "DEDL Fresh Data Pool",
            "name": "dedl",
            "priority": 0,
            "roles": [
             "host"
            ],
            "url": "https://hda.data.destination-earth.eu/"
           }
          ],
          "published": "2023-09-09T06:25:11.754Z",
          "sar:instrument_mode": "IW",
          "sar:product_type": "IW_GRDH_1S",
          "sat:absolute_orbit": 50245,
          "sat:orbit_state": "DESCENDING",
          "sat:relative_orbit": 123,
          "start_datetime": "2023-09-09T03:23:31.468Z",
          "updated": "2023-09-09T10:08:13.465Z"
         },
         "stac_extensions": [
          "https://stac-extensions.github.io/timestamps/v1.0.0/schema.json",
          "https://stac-extensions.github.io/eo/v1.0.0/schema.json",
          "https://stac-extensions.github.io/processing/v1.0.0/schema.json",
          "https://stac-extensions.github.io/sat/v1.0.0/schema.json",
          "https://stac-extensions.github.io/sar/v1.0.0/schema.json",
          "https://hda.central.data.destination-earth.eu/stac/extensions/oseo/json-schema/schema.json"
         ],
         "stac_version": "1.0.0",
         "type": "Feature"
        },
        {
         "assets": {
          "downloadLink": {
           "href": "https://hda.central.data.destination-earth.eu/stac/collections/EO.ESA.DAT.SENTINEL-1.L1_GRD/items/S1A_IW_GRDH_1SDV_20230909T032356_20230909T032421_050245_060C54_54D9/download",
           "title": "Download link",
           "type": "application/zip"
          },
          "thumbnail": {
           "href": "https://datahub.creodias.eu/get-object?path=/Sentinel-1/SAR/IW_GRDH_1S/2023/09/09/S1A_IW_GRDH_1SDV_20230909T032356_20230909T032421_050245_060C54_54D9.SAFE/preview/thumbnail.png",
           "role": "thumbnail",
           "title": "Thumbnail",
           "type": "image/jpeg"
          }
         },
         "bbox": [
          39.671646,
          45.814182,
          43.43222,
          47.715347
         ],
         "collection": "EO.ESA.DAT.SENTINEL-1.L1_GRD",
         "geometry": {
          "coordinates": [
           [
            [
             42.998325,
             45.814182
            ],
            [
             43.43222,
             47.311306
            ],
            [
             40.012184,
             47.715347
            ],
            [
             39.671646,
             46.217739
            ],
            [
             42.998325,
             45.814182
            ]
           ]
          ],
          "type": "Polygon"
         },
         "id": "S1A_IW_GRDH_1SDV_20230909T032356_20230909T032421_050245_060C54_54D9",
         "links": [
          {
           "href": "https://hda.central.data.destination-earth.eu/stac/collections/EO.ESA.DAT.SENTINEL-1.L1_GRD/items/S1A_IW_GRDH_1SDV_20230909T032356_20230909T032421_050245_060C54_54D9",
           "rel": "self",
           "title": "S1A_IW_GRDH_1SDV_20230909T032356_20230909T032421_050245_060C54_54D9"
          },
          {
           "href": "https://hda.central.data.destination-earth.eu/stac/",
           "rel": "root"
          },
          {
           "href": "https://hda.central.data.destination-earth.eu/stac/collections/EO.ESA.DAT.SENTINEL-1.L1_GRD",
           "rel": "parent",
           "title": "EO.ESA.DAT.SENTINEL-1.L1_GRD"
          },
          {
           "href": "https://hda.central.data.destination-earth.eu/stac/collections/EO.ESA.DAT.SENTINEL-1.L1_GRD",
           "rel": "collection",
           "title": "EO.ESA.DAT.SENTINEL-1.L1_GRD"
          }
         ],
         "properties": {
          "constellation": "SENTINEL-1",
          "datetime": "2023-09-09T03:23:56.468Z",
          "description": "The Sentinel-1 mission is the European Radar Observatory for the Copernicus joint initiative of the European Commission (EC) and the European Space Agency (ESA). The Sentinel-1 mission includes C-band imaging operating in four exclusive imaging modes with different resolution (down to 5 m) and coverage (up to 400 km). It provides dual polarization capability, short revisit times and rapid product delivery. Additionally, precise measurements of spacecraft position and attitude are available for every observation [https://dataspace.copernicus.eu/explore-data/data-collections/sentinel-data/sentinel-1].",
          "end_datetime": "2023-09-09T03:24:21.467Z",
          "eo:snow_cover": 0,
          "gsd": 0,
          "instruments": [
           "SAR"
          ],
          "license": "proprietary",
          "oseo:accessConstraint": {
           "description": {
            "shortName": "No license"
           },
           "grantedCountries": null,
           "grantedFlags": null,
           "grantedOrganizationCountries": null,
           "hasToBeSigned": "never",
           "licenseId": "unlicensed",
           "signatureQuota": -1,
           "viewService": "public"
          },
          "oseo:polarizationMode": "VV&VH",
          "oseo:sensorType": "RADAR",
          "oseo:swathIdentifier": "IW",
          "platform": "S1A",
          "processing:level": "LEVEL1",
          "providers": [
           {
            "description": "DEDL Fresh Data Pool",
            "name": "dedl",
            "priority": 0,
            "roles": [
             "host"
            ],
            "url": "https://hda.data.destination-earth.eu/"
           }
          ],
          "published": "2023-09-09T06:23:08.872Z",
          "sar:instrument_mode": "IW",
          "sar:product_type": "IW_GRDH_1S",
          "sat:absolute_orbit": 50245,
          "sat:orbit_state": "DESCENDING",
          "sat:relative_orbit": 123,
          "start_datetime": "2023-09-09T03:23:56.468Z",
          "updated": "2023-09-09T10:06:49.511Z"
         },
         "stac_extensions": [
          "https://stac-extensions.github.io/timestamps/v1.0.0/schema.json",
          "https://stac-extensions.github.io/eo/v1.0.0/schema.json",
          "https://stac-extensions.github.io/processing/v1.0.0/schema.json",
          "https://stac-extensions.github.io/sat/v1.0.0/schema.json",
          "https://stac-extensions.github.io/sar/v1.0.0/schema.json",
          "https://hda.central.data.destination-earth.eu/stac/extensions/oseo/json-schema/schema.json"
         ],
         "stac_version": "1.0.0",
         "type": "Feature"
        }
       ],
       "links": [
        {
         "href": "https://hda.central.data.destination-earth.eu/stac/collections/EO.ESA.DAT.SENTINEL-1.L1_GRD/items",
         "rel": "self",
         "title": "items"
        },
        {
         "href": "https://hda.central.data.destination-earth.eu/stac/",
         "rel": "root"
        },
        {
         "href": "https://hda.central.data.destination-earth.eu/stac/collections/EO.ESA.DAT.SENTINEL-1.L1_GRD",
         "rel": "parent",
         "title": "EO.ESA.DAT.SENTINEL-1.L1_GRD"
        },
        {
         "body": {
          "bbox": [
           -11,
           35,
           50,
           72
          ],
          "collections": [
           "EO.ESA.DAT.SENTINEL-1.L1_GRD"
          ],
          "datetime": "2023-09-09T00:00:00Z/2023-09-20T23:59:59Z",
          "limit": 10,
          "page": 2
         },
         "href": "http://eo-catalogue-eodag-server:8080/search",
         "method": "POST",
         "rel": "next",
         "title": "Next page",
         "type": "application/geo+json"
        }
       ],
       "numberMatched": 1324,
       "numberReturned": 10,
       "stac_extensions": [],
       "stac_version": "1.0.0",
       "timeStamp": "2024-01-11T14:30:31.777272Z",
       "type": "FeatureCollection"
      },
      "text/plain": [
       "<IPython.core.display.JSON object>"
      ]
     },
     "execution_count": 13,
     "metadata": {
      "application/json": {
       "expanded": false,
       "root": "root"
      }
     },
     "output_type": "execute_result"
    }
   ],
   "source": [
    "BODY = {\n",
    "    \"collections\": [\n",
    "        \"EO.ESA.DAT.SENTINEL-1.L1_GRD\",\n",
    "    ],\n",
    "    \"datetime\" : \"2023-09-09T00:00:00Z/2023-09-20T23:59:59Z\",\n",
    "    \"bbox\": [-11,35,\n",
    "              50,72 ],\n",
    "    \"limit\": 10,\n",
    "}\n",
    "response = requests.post(SEARCH_URL, json=BODY, headers={'Authorization': 'Bearer {}'.format(access_token)})\n",
    "display_as_json(response)"
   ]
  },
  {
   "cell_type": "markdown",
   "id": "86f0d072",
   "metadata": {},
   "source": [
    "On top of the `/stac/search` capabilities, the user is able to download the items found with the search endpoint by sending a **POST** request to the `/stac/download` endpoint.\n",
    "\n",
    "Under the hood, the API gets the list of items by sending the same JSON body as a **POST** request to the `/stac/search` endpoint before trying to download them, adding the item assets to a `.zip` archive.\n",
    "\n",
    "For example, to download one item of the **EO.ESA.DAT.SENTINEL-1.L1_GRD** collection, you would add the following json body to the **POST** `/stac/download` request :\n",
    "```json\n",
    "{\n",
    "    \"collections\": [\n",
    "        \"EO.ESA.DAT.SENTINEL-1.L1_GRD\",\n",
    "    ],\n",
    "    \"limit\": 1,\n",
    "}\n",
    "```"
   ]
  },
  {
   "cell_type": "code",
   "execution_count": 14,
   "id": "8250f541",
   "metadata": {
    "tags": []
   },
   "outputs": [
    {
     "name": "stdout",
     "output_type": "stream",
     "text": [
      "https://hda.central.data.destination-earth.eu/stac/collections/EO.ESA.DAT.SENTINEL-1.L1_GRD/items/S1A_EW_GRDM_1SDH_20230909T031622_20230909T031722_050245_060C53_F1E9/download\n",
      "Request Unsuccessful! Error-Code: 403\n"
     ]
    }
   ],
   "source": [
    "result = json.loads(response.text)\n",
    "downloadUrl = result['features'][0]['assets']['downloadLink']['href']\n",
    "print(downloadUrl)\n",
    "\n",
    "response = requests.get(downloadUrl,stream=True,headers={'Authorization': 'Bearer {}'.format(access_token), 'Accept-Encoding': None})\n",
    "    \n",
    "# If the request was successful, download the file\n",
    "if (response.status_code == HTTP_SUCCESS_CODE):\n",
    "        print(\"Downloading dataset...\")\n",
    "        product_id = 'Item'\n",
    "        filename = product_id + \".zip\"\n",
    "        with open(filename, 'wb') as f:\n",
    "            for chunk in response.iter_content(chunk_size=1024): \n",
    "                if chunk:\n",
    "                    f.write(chunk)\n",
    "                    f.flush()\n",
    "        print(\"The dataset has been downloaded to: {}\".format(filename))\n",
    "else: print(\"Request Unsuccessful! Error-Code: {}\".format(response.status_code))"
   ]
  },
  {
   "cell_type": "markdown",
   "id": "b068c44a",
   "metadata": {},
   "source": [
    "# Conclusion\n",
    "This small tutorial presented the HDA API, illustrated with some pieces of Python code showing how to send HTTP requests to the different endpoints, as well as the use of a few filtering capabilities.\n",
    "\n",
    "Again, more detail on each endpoint can be found in the [API documentation](https://hda.data.destination-earth.eu/docs/)."
   ]
  },
  {
   "cell_type": "markdown",
   "id": "e34fd075",
   "metadata": {},
   "source": [
    "# FAQ\n",
    "\n",
    "### My request is failing due to unsupported provider\n",
    "A: This is totally normal and expected as your provider is not a valid host provider.\n",
    "\n",
    "Valid Host Providers can be found in the collection metadata with providers having **host** as a listed role.\n",
    "\n",
    "e.g \n",
    "\n",
    "```json\n",
    "\"roles\": [\n",
    "\n",
    "    \"processing\",\n",
    "\n",
    "    \"host\"\n",
    "\n",
    "]\n",
    "```\n",
    "\n",
    "### My `/search` or `/items` request return 0 items\n",
    "\n",
    "Multiple reasons can lead to no items returned in the response\n",
    "\n",
    "#### You are not authenticated\n",
    "\n",
    "You did not provide an access token in the request. An access token is required to search and access items in datasets.\n",
    "\n",
    "#### No parameters set in the request or too wide parameters\n",
    "\n",
    "The request parameters are not precise enough for the HDA API to give you a response. Narrow down your request by giving more specific parameters.\n",
    "\n",
    "e.g You can use a short datetime range like **datetime=2023-09-09T00:00:00Z/2023-09-21T00.00.00Z**\n",
    "\n",
    "#### There is no item matching the request parameters\n",
    "\n",
    "Modify the parameters to find items.\n",
    "\n",
    "\n",
    "### Expected products within the specified datetime range from my `/search` or `/items` requests are missing from the results\n",
    "\n",
    "As of now the search returns results rounded up to nearest milisecond. Please take this into account on your datetime queries.\n",
    "\n",
    "e.g Should you want to access an item with datetime in its metadata `2023-01-01T12:22:33:555`. This item may have in reality the datetime `2023-01-01T12:22:33:55487655`. Hence, your search filter should be `2023-01-01T12:22:33:554/2023-01-01T12:22:33:556`.\n",
    "\n"
   ]
  }
 ],
 "metadata": {
  "kernelspec": {
   "display_name": "Python 3 (ipykernel)",
   "language": "python",
   "name": "python3"
  },
  "language_info": {
   "codemirror_mode": {
    "name": "ipython",
    "version": 3
   },
   "file_extension": ".py",
   "mimetype": "text/x-python",
   "name": "python",
   "nbconvert_exporter": "python",
   "pygments_lexer": "ipython3",
   "version": "3.12.0"
  },
  "toc-autonumbering": false,
  "vscode": {
   "interpreter": {
    "hash": "31f2aee4e71d21fbe5cf8b01ff0e069b9275f58929596ceb00d14d90e3e16cd6"
   }
  }
 },
 "nbformat": 4,
 "nbformat_minor": 5
}
